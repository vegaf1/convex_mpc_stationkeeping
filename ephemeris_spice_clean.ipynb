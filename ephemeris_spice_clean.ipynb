{
 "cells": [
  {
   "cell_type": "code",
   "execution_count": null,
   "metadata": {},
   "outputs": [],
   "source": [
    "# #ephemeris sim\n",
    "# using LinearAlgebra\n",
    "# #make sure to cite this package\n",
    "# using SPICE\n",
    "# using Downloads: download \n",
    "# using DifferentialEquations\n",
    "# using Plots"
   ]
  },
  {
   "cell_type": "code",
   "execution_count": 10,
   "metadata": {},
   "outputs": [],
   "source": [
    "using LinearAlgebra\n",
    "using SPICE\n",
    "using DifferentialEquations\n",
    "using Plots\n"
   ]
  },
  {
   "cell_type": "code",
   "execution_count": null,
   "metadata": {},
   "outputs": [],
   "source": [
    "# using Pkg\n",
    "# Pkg.activate(\".\")"
   ]
  },
  {
   "cell_type": "code",
   "execution_count": null,
   "metadata": {},
   "outputs": [],
   "source": [
    "using DelimitedFiles\n",
    "xtraj  = readdlm(\"xtraj.txt\", '\\t', Float64, '\\n')\n",
    "\n",
    "#in days\n",
    "time_steps = readdlm(\"time.txt\", '\\t', Float64, '\\n')\n",
    "#period \n",
    "#T_periodic_n = 3.414975413662902\n",
    "\n",
    "\n",
    "T_periodic_n = 3.414975410587678"
   ]
  },
  {
   "cell_type": "code",
   "execution_count": null,
   "metadata": {},
   "outputs": [],
   "source": [
    "# Load leap seconds kernel\n",
    "#furnsh(\"/home/faustovega/Desktop/astrodynamics_nasa_work/naif0012.tls\")\n",
    "\n",
    "#laptop \n",
    "furnsh(\"/home/fausto/naif0012.tls\")"
   ]
  },
  {
   "cell_type": "code",
   "execution_count": null,
   "metadata": {},
   "outputs": [],
   "source": [
    "# Convert the calendar date to ephemeris seconds past J2000\n",
    "\n",
    "#was 2018\n",
    "#et = utc2et(\"2018-02-06T20:45:00\")\n",
    "\n",
    "et = 0"
   ]
  },
  {
   "cell_type": "code",
   "execution_count": null,
   "metadata": {},
   "outputs": [],
   "source": [
    "# Load a planetary ephemeris kernel\n",
    "#furnsh(\"/home/faustovega/Desktop/astrodynamics_nasa_work/de440.bsp\")\n",
    "\n",
    "#laptop\n",
    "# furnsh(\"/home/fausto/de440.bsp\")"
   ]
  },
  {
   "cell_type": "code",
   "execution_count": null,
   "metadata": {},
   "outputs": [],
   "source": [
    "#gravitational parameters for the bodies (km3/s2)\n",
    "\n",
    "#moon \n",
    "μ_m = 4902.80058214776\n",
    "\n",
    "#earth\n",
    "μ_e = 398600.432896939\n",
    "\n",
    "#sun\n",
    "μ_s = 132712440017.987"
   ]
  },
  {
   "cell_type": "code",
   "execution_count": null,
   "metadata": {},
   "outputs": [],
   "source": [
    "#units used to normalize\n",
    "#also in km and seconds\n",
    "\n",
    "#distance\n",
    "l_star = 385692.50\n",
    "\n",
    "#time\n",
    "t_star = 377084.152667038\n",
    "\n",
    "#in km\n",
    "lunar_radius = 1738.2 "
   ]
  },
  {
   "cell_type": "code",
   "execution_count": null,
   "metadata": {},
   "outputs": [],
   "source": [
    "#get the jacobian that maps from rotating frame to inertial frame\n",
    "function get_transformation(time)\n",
    "\n",
    "    #time is already wrt et\n",
    "    \n",
    "    #state of the moon (position and velocity) relative to Earth (in km and km/s)\n",
    "    moon_state = spkezr(\"moon\",time,\"J2000\",\"NONE\",\"earth\")[1]\n",
    "\n",
    "    #position of the moon relative to Earth\n",
    "    r_moon = moon_state[1:3]\n",
    "\n",
    "    #velocity of the moon relative to Earth\n",
    "    v_moon = moon_state[4:6]\n",
    "\n",
    "    #x component of the rotating frame expressed in inertial coordinates\n",
    "    x̃ = r_moon/norm(r_moon)\n",
    "    #z component of the rotating frame expressed in inertial coordinates\n",
    "    z̃ = cross(r_moon, v_moon)/norm(cross(r_moon, v_moon))\n",
    "    #x component of the rotating frame expressed in inertial coordinates\n",
    "    ỹ = cross(z̃, x̃)\n",
    "\n",
    "    #instantanous rotation matrix from rotating frame to inertial frame (centered at Earth)\n",
    "    C = [x̃ ỹ z̃]\n",
    "\n",
    "    #instantanous angular velocity\n",
    "    #θ_dot = norm(cross(r_moon, v_moon))/(norm(r_moon)^2)\n",
    "\n",
    "    #θ_dot = (cross(r_moon, v_moon)/(norm(r_moon)^2))[3]\n",
    "\n",
    "    θ_dot = 2*pi/2.361e6\n",
    "\n",
    "\n",
    "    return C, θ_dot\n",
    "\n",
    "end"
   ]
  },
  {
   "cell_type": "code",
   "execution_count": null,
   "metadata": {},
   "outputs": [],
   "source": [
    "function cr3bp_to_ephem(x, t)\n",
    "\n",
    "    time = et + t\n",
    "\n",
    "    #get transformation takes in time wrt et\n",
    "    C, θ_dot = get_transformation(time)\n",
    "\n",
    "    C̄ = [θ_dot.*C[:,2] -θ_dot.*C[:,1]]\n",
    "\n",
    "    #transformation matrix\n",
    "    C̃ = [C zeros(3,3); C̄ zeros(3) C]\n",
    "\n",
    "    #apply the rotation to get the state in the inertial frame\n",
    "    x_ephem = C̃*x\n",
    "\n",
    "    return x_ephem\n",
    "\n",
    "end"
   ]
  },
  {
   "cell_type": "code",
   "execution_count": null,
   "metadata": {},
   "outputs": [],
   "source": [
    "function ephem_to_cr3bp(x, t)\n",
    "\n",
    "    time = et + t\n",
    "\n",
    "    #get transformation takes in time wrt et\n",
    "    C, θ_dot = get_transformation(time)\n",
    "\n",
    "    C̄ = [θ_dot.*C[:,2] -θ_dot.*C[:,1]]\n",
    "\n",
    "    #transformation matrix\n",
    "    C̃ = [C zeros(3,3); C̄ zeros(3) C]\n",
    "\n",
    "    #get the inverse transformation matrix\n",
    "\n",
    "    C_inv = inv(C̃)\n",
    "    #C_inv = C̃'\n",
    "    #apply the rotation to get the state in the inertial frame\n",
    "    x_cr3bp = C_inv*x\n",
    "\n",
    "    return x_cr3bp\n",
    "\n",
    "end"
   ]
  },
  {
   "cell_type": "code",
   "execution_count": null,
   "metadata": {},
   "outputs": [],
   "source": [
    "function ephem_dynamics_scaled!(du, u, p, t)\n",
    "    \n",
    "    #scaled version\n",
    "    du[1:6] = scaled_ephemeris_dynamics(u[1:6], t)\n",
    "    \n",
    "    \n",
    "end"
   ]
  },
  {
   "cell_type": "code",
   "execution_count": null,
   "metadata": {},
   "outputs": [],
   "source": [
    "#gets the state and for the entire solution\n",
    "\n",
    "function get_state(solution)\n",
    "    \n",
    "    N = size(solution.u)[1]\n",
    "\n",
    "    all_states = zeros(6, N)\n",
    "\n",
    "    for i=1:N\n",
    "        all_states[:,i] = solution.u[i][1:6]\n",
    "    end\n",
    "    \n",
    "    #all states and all stm are functions of t\n",
    "    #solution.t is the time\n",
    "    return all_states\n",
    "end"
   ]
  },
  {
   "cell_type": "code",
   "execution_count": null,
   "metadata": {},
   "outputs": [],
   "source": [
    "function just_dynamics_integrate_scaled(x_0, period)\n",
    "    \n",
    "    #integrate from 0 to period\n",
    "    tspan = (0.0, period)\n",
    "    prob = ODEProblem(ephem_dynamics_scaled!, x_0, tspan)\n",
    "    sol = solve(prob, TsitPap8(), abstol=1e-12, reltol=1e-12)\n",
    "    \n",
    "    return sol\n",
    "    \n",
    "end"
   ]
  },
  {
   "cell_type": "code",
   "execution_count": null,
   "metadata": {},
   "outputs": [],
   "source": [
    "#the state is in km and s as well as the time\n",
    "\n",
    "function ephemeris_model_EarthMoon(x, t)\n",
    "\n",
    "    xdot = zeros(6)\n",
    "\n",
    "    xdot[1:3] = x[4:6]\n",
    "\n",
    "    #position of the spacecraft relative to the earth \n",
    "    r_qi = x[1:3]\n",
    "\n",
    "    time = et + t\n",
    "\n",
    "    #get positions of moon and sun relative to earth \n",
    "    rqj_moon = spkpos(\"moon\", time, \"J2000\", \"none\", \"earth\")[1]\n",
    "    \n",
    "\n",
    "    #println(\"position of the satellite: \", r_qi)\n",
    "\n",
    "    #println(\"position of the moon: \", rqj_moon)\n",
    "\n",
    "    rij_moon = rqj_moon- r_qi \n",
    "\n",
    "    #println(\"vector from satellite to moon: \", rij_moon)\n",
    "\n",
    "    #println(\"distance to moon : \", norm(rij_moon))\n",
    "\n",
    "    #r_qi - vector that defines the position of the satellite wrt Earth\n",
    "    #rqj is the position of a planetary body wrt satellite\n",
    "\n",
    "    #just Earth and Moon\n",
    "    xdot[4:6] = (-μ_e/(norm(r_qi))^3)*r_qi + μ_m.*((rij_moon/norm(rij_moon)^3)-(rqj_moon/norm(rqj_moon)^3));\n",
    "\n",
    "\n",
    "    #display((-μ_e/(norm(r_qi))^3)*r_qi)\n",
    "\n",
    "    #display(μ_m.*((rij_moon/norm(rij_moon)^3)-(rqj_moon/norm(rqj_moon)^3)))\n",
    "                \n",
    "    return xdot\n",
    "\n",
    "end"
   ]
  },
  {
   "cell_type": "code",
   "execution_count": null,
   "metadata": {},
   "outputs": [],
   "source": [
    "#sat_pose = [35677.75392672705, -383227.521788774, -204700.13822902984]\n",
    "#2024\n",
    "#moon_pose = [30336.261021197115, -325480.3753119168, -176061.98671653145]\n",
    "\n",
    "#2018\n",
    "# sat_pose = [-338899.19758259197, -265393.89399550087, -68933.27991895752]\n",
    "# moon_pose = [-305665.5295916485, -238568.75389771274, -64082.58948032478]\n"
   ]
  },
  {
   "cell_type": "code",
   "execution_count": null,
   "metadata": {},
   "outputs": [],
   "source": [
    "# norm(sat_pose - moon_pose)"
   ]
  },
  {
   "cell_type": "code",
   "execution_count": null,
   "metadata": {},
   "outputs": [],
   "source": [
    "# (sat_pose - moon_pose)/norm(sat_pose - moon_pose)"
   ]
  },
  {
   "cell_type": "code",
   "execution_count": null,
   "metadata": {},
   "outputs": [],
   "source": [
    "# moon_pose/norm(moon_pose)"
   ]
  },
  {
   "cell_type": "code",
   "execution_count": null,
   "metadata": {},
   "outputs": [],
   "source": [
    "#these dynamics are all relative to the Earth\n",
    "# scatter([sat_pose[1]], [sat_pose[2]], [sat_pose[3]], label=\"Satellite\")\n",
    "# scatter!([moon_pose[1]], [moon_pose[2]], [moon_pose[3]], label= \"Moon\")\n",
    "# scatter!([0], [0], [0], label = \"Earth\")"
   ]
  },
  {
   "cell_type": "code",
   "execution_count": null,
   "metadata": {},
   "outputs": [],
   "source": [
    "#the x is scaled here as well as the t \n",
    "\n",
    "function scaled_ephemeris_dynamics(x,t)\n",
    "\n",
    "    q_original = zeros(eltype(x),3)\n",
    "    v_original = zeros(eltype(x),3)\n",
    "\n",
    "    #get to original units (km and s)\n",
    "    q_original = x[1:3]*l_star \n",
    "    v_original = x[4:6]*(l_star/t_star)\n",
    "    t_original = t*t_star\n",
    "\n",
    "    x_original = [q_original; v_original]\n",
    "\n",
    "    #original is in the CR3BP units\n",
    "    ẋ_original = zeros(eltype(x),6)\n",
    "\n",
    "    #calculate the original xdot (no scaling)\n",
    "\n",
    "    ẋ_original = ephemeris_model_EarthMoon(x_original, t_original)\n",
    "    \n",
    "    #then scale the output\n",
    "    v_scaled = ẋ_original[1:3]/(l_star/t_star)\n",
    "    \n",
    "    a_scaled = ẋ_original[4:6]/(l_star/(t_star)^2)\n",
    "\n",
    "    ẋ_scaled = [v_scaled; a_scaled]\n",
    "\n",
    "    return ẋ_scaled\n",
    "\n",
    "end"
   ]
  },
  {
   "cell_type": "code",
   "execution_count": null,
   "metadata": {},
   "outputs": [],
   "source": [
    "L_cr = 3.850e5 #in km - distance between centers of m1 and m2\n",
    "V_cr = 1.025 #in km/s - orbital velocity of m1\n",
    "T_cr = 2.361e6 #in seconds - orbital period of m1 and m2\n",
    "time_scale = T_cr/(2*pi)"
   ]
  },
  {
   "cell_type": "code",
   "execution_count": null,
   "metadata": {},
   "outputs": [],
   "source": [
    "L_nasa = 389703\n",
    "T_nasa = 382981"
   ]
  },
  {
   "cell_type": "code",
   "execution_count": null,
   "metadata": {},
   "outputs": [],
   "source": [
    "#mass paramter for earth moon\n",
    "μ_earth_moon = 1.215058560962404E-2"
   ]
  },
  {
   "cell_type": "code",
   "execution_count": null,
   "metadata": {},
   "outputs": [],
   "source": [
    "#position of Earth in rotating frame\n",
    "pose_m1 = [-μ_earth_moon, 0, 0]"
   ]
  },
  {
   "cell_type": "code",
   "execution_count": null,
   "metadata": {},
   "outputs": [],
   "source": [
    "pose_m2 = [1-μ_earth_moon, 0, 0]"
   ]
  },
  {
   "cell_type": "code",
   "execution_count": null,
   "metadata": {},
   "outputs": [],
   "source": [
    "#norm(pose_m2 - x0_test[1:3])*L_cr "
   ]
  },
  {
   "cell_type": "code",
   "execution_count": null,
   "metadata": {},
   "outputs": [],
   "source": [
    "#seems periodic, not sure if it's correct\n",
    "# x0_test = [1.1201297302380415,\n",
    "#  0.0,\n",
    "#  0.0059396759100811495,\n",
    "#  0.0,\n",
    "#  0.17677819141944426,\n",
    "#  0.0]\n",
    "\n",
    "#  x0_test_earthcentered = [x0_test[1:3] - pose_m1; x0_test[4:6]]\n",
    "\n",
    "#  #in cr3bp units \n",
    "# T_periodic = 3.414975413662902\n",
    "\n",
    "# x0_dim = [x0_test_earthcentered[1:3]*L_cr; x0_test_earthcentered[4:6]*(L_cr/T_cr)]\n",
    "\n",
    "# T_dim = T_periodic*time_scale"
   ]
  },
  {
   "cell_type": "code",
   "execution_count": null,
   "metadata": {},
   "outputs": [],
   "source": [
    "#this is in km and seconds\n",
    "xtraj_test_initial = [xtraj[1:3,1]; xtraj[4:6,1]/86400]"
   ]
  },
  {
   "cell_type": "code",
   "execution_count": null,
   "metadata": {},
   "outputs": [],
   "source": [
    "#Initial Condtion from xtraj\n",
    "x0_test = [xtraj_test_initial[1:3] + [μ_earth_moon*l_star, 0, 0]; xtraj_test_initial[4:6]]\n",
    "\n",
    "#x0_test_earthcentered = [x0_test[1:3] - pose_m1; x0_test[4:6]]\n",
    "\n",
    " #in cr3bp units \n",
    "T_periodic = T_periodic_n\n",
    "\n",
    "#x0_dim = [x0_test_earthcentered[1:3]*L_cr; x0_test_earthcentered[4:6]*(L_cr/T_cr)]\n",
    "\n",
    "T_dim = T_periodic*t_star "
   ]
  },
  {
   "cell_type": "code",
   "execution_count": null,
   "metadata": {},
   "outputs": [],
   "source": [
    "################################################################################################################\n",
    "#from https://ssd.jpl.nasa.gov/tools/periodic_orbits.html\n",
    "\n",
    "#in nasa cr3bp units\n",
    "#x0_test = [1.1808985497899205E+0, -2.5444988241150091E-26, 1.0295054075242347E-4, 3.3765359485568778E-15, -1.5585631393981156E-1, 5.5263881873244218E-18]\n",
    "#T_periodic = 3.4155308065628454\n",
    "\n",
    "#larger orbit\n",
    "# x0_test = [1.1805068248439281E+0,\t-3.3114436259161434E-27,\t1.9906874796338979E-2,\t3.3672394329658290E-15,\t-1.5811356683023692E-1, 2.2436379855191516E-15]\n",
    "# T_periodic = 3.1503862907153901\n",
    "# x0_test_earthcentered = [x0_test[1:3] - pose_m1; x0_test[4:6]]\n",
    "\n",
    "\n",
    "# x0_dim = [x0_test_earthcentered[1:3]*L_nasa; x0_test_earthcentered[4:6]*(L_nasa/T_nasa)]\n",
    "\n",
    "# T_dim = T_periodic*T_nasa\n",
    "#################################################################################################################"
   ]
  },
  {
   "cell_type": "code",
   "execution_count": null,
   "metadata": {},
   "outputs": [],
   "source": [
    "\n",
    "# y = 23\n",
    "# #ECI\n",
    "# xx = [xtraj[1:3,y] + [μ_earth_moon*l_star, 0, 0]; xtraj[4:6,y]/86400]\n",
    "# display(xx)\n",
    "# x_test_ephem = cr3bp_to_ephem(xx, 100)"
   ]
  },
  {
   "cell_type": "code",
   "execution_count": null,
   "metadata": {},
   "outputs": [],
   "source": [
    "# ephem_to_cr3bp(x_test_ephem, 100)"
   ]
  },
  {
   "cell_type": "code",
   "execution_count": null,
   "metadata": {},
   "outputs": [],
   "source": [
    "x_test_ephem = cr3bp_to_ephem(x0_test, 0)"
   ]
  },
  {
   "cell_type": "code",
   "execution_count": null,
   "metadata": {},
   "outputs": [],
   "source": [
    "#this transform gives original x0_dim\n",
    "#test = ephem_to_cr3bp(x_test_ephem, 0)"
   ]
  },
  {
   "cell_type": "code",
   "execution_count": null,
   "metadata": {},
   "outputs": [],
   "source": [
    "ephemeris_model_EarthMoon(x_test_ephem, 0)"
   ]
  },
  {
   "cell_type": "code",
   "execution_count": null,
   "metadata": {},
   "outputs": [],
   "source": [
    "x_test_ephem_scaled = [x_test_ephem[1:3]/l_star; x_test_ephem[4:6]/(l_star/t_star)]\n",
    "\n",
    "T_ephem_scaled = T_dim/t_star"
   ]
  },
  {
   "cell_type": "code",
   "execution_count": null,
   "metadata": {},
   "outputs": [],
   "source": [
    "sol = just_dynamics_integrate_scaled(x_test_ephem_scaled, T_ephem_scaled)\n",
    "\n",
    "all_states = get_state(sol)"
   ]
  },
  {
   "cell_type": "code",
   "execution_count": null,
   "metadata": {},
   "outputs": [],
   "source": [
    "all_states[:,1]"
   ]
  },
  {
   "cell_type": "code",
   "execution_count": null,
   "metadata": {},
   "outputs": [],
   "source": [
    "# T_ephem_scaled"
   ]
  },
  {
   "cell_type": "code",
   "execution_count": null,
   "metadata": {},
   "outputs": [],
   "source": [
    "x_test_ephem_scaled "
   ]
  },
  {
   "cell_type": "code",
   "execution_count": null,
   "metadata": {},
   "outputs": [],
   "source": [
    "test = [x_test_ephem_scaled[1:3, 1]*l_star; x_test_ephem_scaled[4:6, 1]*(l_star/t_star)]"
   ]
  },
  {
   "cell_type": "code",
   "execution_count": null,
   "metadata": {},
   "outputs": [],
   "source": [
    "ephem_to_cr3bp(test , 0)"
   ]
  },
  {
   "cell_type": "code",
   "execution_count": null,
   "metadata": {},
   "outputs": [],
   "source": [
    "xtraj_test_initial"
   ]
  },
  {
   "cell_type": "code",
   "execution_count": null,
   "metadata": {},
   "outputs": [],
   "source": [
    "# xtraj_i"
   ]
  },
  {
   "cell_type": "code",
   "execution_count": null,
   "metadata": {},
   "outputs": [],
   "source": [
    "# sol.t*t_star"
   ]
  },
  {
   "cell_type": "code",
   "execution_count": null,
   "metadata": {},
   "outputs": [],
   "source": [
    "plot(all_states[1,:]*l_star, all_states[2,:]*l_star, all_states[3,:]*l_star) \n",
    "scatter!([all_states[1,1]*l_star], [all_states[2,1]*l_star], [all_states[3,1]*l_star])\n",
    "scatter!([0], [0], [0])"
   ]
  },
  {
   "cell_type": "code",
   "execution_count": null,
   "metadata": {},
   "outputs": [],
   "source": [
    "#problem: gravity of the moon is much lower than the gravity of Earth "
   ]
  },
  {
   "cell_type": "code",
   "execution_count": null,
   "metadata": {},
   "outputs": [],
   "source": [
    "using DelimitedFiles\n",
    "xtraj  = readdlm(\"xtraj.txt\", '\\t', Float64, '\\n')\n",
    "\n",
    "#in days\n",
    "time_steps = readdlm(\"time.txt\", '\\t', Float64, '\\n')\n",
    "#period \n",
    "#T_periodic_n = 3.414975413662902\n",
    "\n",
    "\n",
    "T_periodic_n = 3.414975410587678"
   ]
  },
  {
   "cell_type": "code",
   "execution_count": null,
   "metadata": {},
   "outputs": [],
   "source": [
    "#units of km and days"
   ]
  },
  {
   "cell_type": "code",
   "execution_count": null,
   "metadata": {},
   "outputs": [],
   "source": [
    "# xtraj"
   ]
  },
  {
   "cell_type": "code",
   "execution_count": null,
   "metadata": {},
   "outputs": [],
   "source": [
    "# xtraj"
   ]
  },
  {
   "cell_type": "code",
   "execution_count": null,
   "metadata": {},
   "outputs": [],
   "source": [
    "# xtraj_transformed = [xtraj[1:3, :].+ [4677.975459705256, 0, 0]; xtraj[4:6, :]./86400]"
   ]
  },
  {
   "cell_type": "code",
   "execution_count": null,
   "metadata": {},
   "outputs": [],
   "source": [
    "#make sure to divide by 86400 to get into seconds"
   ]
  },
  {
   "cell_type": "code",
   "execution_count": null,
   "metadata": {},
   "outputs": [],
   "source": [
    "# time_steps[2]"
   ]
  },
  {
   "cell_type": "code",
   "execution_count": null,
   "metadata": {},
   "outputs": [],
   "source": [
    "# time_steps"
   ]
  },
  {
   "cell_type": "code",
   "execution_count": null,
   "metadata": {},
   "outputs": [],
   "source": [
    "#transform each of these points into the Earth Moon ephemeris model to see what it looks like\n",
    "\n",
    "# xtraj_ephemeris = zeros(6,131)\n",
    "\n",
    "# #x_centered = xtraj_ephemeris \n",
    "\n",
    "# for i=1:131\n",
    "\n",
    "#     xtraj_ephemeris[:,i] = cr3bp_to_ephem(xtraj_transformed[:,i], time_steps[i]*86400)\n",
    "# end"
   ]
  },
  {
   "cell_type": "code",
   "execution_count": null,
   "metadata": {},
   "outputs": [],
   "source": [
    "# xtraj_ephemeris"
   ]
  },
  {
   "cell_type": "code",
   "execution_count": null,
   "metadata": {},
   "outputs": [],
   "source": [
    "# [all_states[1:3, :].*l_star; all_states[4:6,:].*(l_star/t_star)] "
   ]
  },
  {
   "cell_type": "code",
   "execution_count": null,
   "metadata": {},
   "outputs": [],
   "source": [
    "#this should be all _states because xtraj_ephemeris is xtraj loaded that was \n",
    "#converted \n",
    "#xtraj_ephemeris_last = xtraj_ephemeris[:,end]"
   ]
  },
  {
   "cell_type": "code",
   "execution_count": null,
   "metadata": {},
   "outputs": [],
   "source": [
    "# all_states"
   ]
  },
  {
   "cell_type": "code",
   "execution_count": null,
   "metadata": {},
   "outputs": [],
   "source": []
  },
  {
   "cell_type": "code",
   "execution_count": null,
   "metadata": {},
   "outputs": [],
   "source": [
    "# sol.t "
   ]
  },
  {
   "cell_type": "code",
   "execution_count": null,
   "metadata": {},
   "outputs": [],
   "source": [
    "# all_states "
   ]
  },
  {
   "cell_type": "code",
   "execution_count": null,
   "metadata": {},
   "outputs": [],
   "source": [
    "#transform all states into cr3bp scaled\n",
    "\n",
    "#km/s\n",
    "\n",
    "all_states_cr3bp = zeros(6, size(all_states)[2])\n",
    "\n",
    "for i=1:size(all_states)[2]\n",
    "\n",
    "    ephem_scaled = [all_states[1:3,i]*l_star; all_states[4:6,i]*(l_star/t_star)]\n",
    "    all_states_cr3bp[:,i] = ephem_to_cr3bp(ephem_scaled, sol.t[i]*t_star)\n",
    "    \n",
    "end"
   ]
  },
  {
   "cell_type": "code",
   "execution_count": null,
   "metadata": {},
   "outputs": [],
   "source": [
    "#plot(all_states_cr3bp[1,:], all_states_cr3bp[2,:], all_states_cr3bp[3,:])"
   ]
  },
  {
   "cell_type": "code",
   "execution_count": null,
   "metadata": {},
   "outputs": [],
   "source": [
    "# all_states_cr3bp[1:3, 1]"
   ]
  },
  {
   "cell_type": "code",
   "execution_count": null,
   "metadata": {},
   "outputs": [],
   "source": [
    "# all_states_cr3bp[4:6, 1]"
   ]
  },
  {
   "cell_type": "code",
   "execution_count": null,
   "metadata": {},
   "outputs": [],
   "source": [
    "# all_states_cr3bp"
   ]
  },
  {
   "cell_type": "code",
   "execution_count": null,
   "metadata": {},
   "outputs": [],
   "source": [
    "#center around the barycenter\n",
    "\n",
    "all_states_cr3bp_centered = all_states_cr3bp .- [μ_earth_moon*l_star , 0, 0, 0, 0, 0]"
   ]
  },
  {
   "cell_type": "code",
   "execution_count": null,
   "metadata": {},
   "outputs": [],
   "source": [
    "xtraj./[1,1,1, 86400, 86400, 86400]"
   ]
  },
  {
   "cell_type": "code",
   "execution_count": null,
   "metadata": {},
   "outputs": [],
   "source": [
    "all_states_cr3bp"
   ]
  },
  {
   "cell_type": "code",
   "execution_count": null,
   "metadata": {},
   "outputs": [],
   "source": [
    "xtraj "
   ]
  },
  {
   "cell_type": "code",
   "execution_count": null,
   "metadata": {},
   "outputs": [],
   "source": [
    "plot(all_states_cr3bp_centered[1,:], all_states_cr3bp_centered[2,:], all_states_cr3bp_centered[3,:])\n",
    "\n",
    "scatter!([all_states_cr3bp_centered[1,1]], [all_states_cr3bp_centered[2,1]], [all_states_cr3bp_centered[3,1]])\n",
    "\n",
    "plot!(xtraj[1,:], xtraj[2,:], xtraj[3,:])\n",
    "\n",
    "scatter!([xtraj[1,1]], [xtraj[2,1]], [xtraj[3,1]]) "
   ]
  },
  {
   "cell_type": "code",
   "execution_count": null,
   "metadata": {},
   "outputs": [],
   "source": [
    "plot(all_states_cr3bp_centered[1,1:2], all_states_cr3bp_centered[2,1:2], all_states_cr3bp_centered[3,1:2])\n",
    "\n",
    "scatter!([all_states_cr3bp_centered[1,1]], [all_states_cr3bp_centered[2,1]], [all_states_cr3bp_centered[3,1]])\n",
    "\n",
    "plot!(xtraj[1,1:50], xtraj[2,1:50], xtraj[3,1:50])\n",
    "\n",
    "scatter!([xtraj[1,1]], [xtraj[2,1]], [xtraj[3,1]])"
   ]
  },
  {
   "cell_type": "code",
   "execution_count": null,
   "metadata": {},
   "outputs": [],
   "source": [
    "all_states_cr3bp_centered[:,1] - [xtraj[1:3,1]; xtraj[4:6,1]/86400]"
   ]
  },
  {
   "cell_type": "code",
   "execution_count": null,
   "metadata": {},
   "outputs": [],
   "source": [
    "xtraj_ephemeris_last"
   ]
  },
  {
   "cell_type": "code",
   "execution_count": null,
   "metadata": {},
   "outputs": [],
   "source": [
    "xtraj_ephemeris_last_scaled = [xtraj_ephemeris_last[1:3]*l_star; xtraj_ephemeris_last[4:6]*(l_star/t_star)]"
   ]
  },
  {
   "cell_type": "code",
   "execution_count": null,
   "metadata": {},
   "outputs": [],
   "source": [
    "#the units are good here for the velocity. check units overall in the transformation\n",
    "\n",
    "x_cr3bp = ephem_to_cr3bp(xtraj_ephemeris_last_scaled, 1.2832276238049301e6)"
   ]
  },
  {
   "cell_type": "code",
   "execution_count": null,
   "metadata": {},
   "outputs": [],
   "source": [
    "sol.t*t_star "
   ]
  },
  {
   "cell_type": "code",
   "execution_count": null,
   "metadata": {},
   "outputs": [],
   "source": [
    "x_cr3bp_normalized = [x_cr3bp[1:3]/l_star; x_cr3bp[4:6]/(l_star/t_star)]"
   ]
  },
  {
   "cell_type": "code",
   "execution_count": null,
   "metadata": {},
   "outputs": [],
   "source": [
    "all_states_cr3bp[:,end]"
   ]
  },
  {
   "cell_type": "code",
   "execution_count": null,
   "metadata": {},
   "outputs": [],
   "source": [
    "μ_earth_moon"
   ]
  },
  {
   "cell_type": "code",
   "execution_count": null,
   "metadata": {},
   "outputs": [],
   "source": [
    "xtraj"
   ]
  },
  {
   "cell_type": "code",
   "execution_count": null,
   "metadata": {},
   "outputs": [],
   "source": [
    "time_steps*time_scale"
   ]
  },
  {
   "cell_type": "code",
   "execution_count": null,
   "metadata": {},
   "outputs": [],
   "source": [
    "#center at the barycenter\n",
    "x_cr3bp_normalized_centered = x_cr3bp_normalized-[μ_earth_moon, 0,0,0,0,0]\n"
   ]
  },
  {
   "cell_type": "code",
   "execution_count": null,
   "metadata": {},
   "outputs": [],
   "source": [
    "# x0_test = [1.1201297302380415,\n",
    "#  0.0,\n",
    "#  0.0059396759100811495,\n",
    "#  0.0,\n",
    "#  0.17677819141944426,\n",
    "#  0.0]"
   ]
  },
  {
   "cell_type": "code",
   "execution_count": null,
   "metadata": {},
   "outputs": [],
   "source": [
    "#this is periodic in the Earth centered J2000 frame\n",
    "#now need to convert the final state of the J200 frame to a state in the CR3BP"
   ]
  },
  {
   "cell_type": "code",
   "execution_count": null,
   "metadata": {},
   "outputs": [],
   "source": [
    "#T_dim"
   ]
  },
  {
   "cell_type": "code",
   "execution_count": null,
   "metadata": {},
   "outputs": [],
   "source": [
    "moon_orbit = zeros(6, 1283227)\n",
    "\n",
    "\n",
    "for i=1:1283227\n",
    "\n",
    "    moon_orbit[:,i] = spkezr(\"moon\",et+i,\"J2000\",\"NONE\",\"earth\")[1]\n",
    "\n",
    "end"
   ]
  },
  {
   "cell_type": "code",
   "execution_count": null,
   "metadata": {},
   "outputs": [],
   "source": [
    "plot(moon_orbit[1,:], moon_orbit[2,:], moon_orbit[3,:])\n",
    "\n",
    "scatter!([0], [0], [0])"
   ]
  },
  {
   "cell_type": "code",
   "execution_count": null,
   "metadata": {},
   "outputs": [],
   "source": [
    "#I believe there is something wrong with the epoch..."
   ]
  },
  {
   "cell_type": "code",
   "execution_count": null,
   "metadata": {},
   "outputs": [],
   "source": [
    "#plot(xtraj_ephemeris[1,:], xtraj_ephemeris[2,:], xtraj_ephemeris[3,:])\n",
    "\n",
    "plot(all_states[1,:]*l_star, all_states[2,:]*l_star, all_states[3,:]*l_star) \n",
    "scatter!([all_states[1,1]*l_star], [all_states[2,1]*l_star], [all_states[3,1]*l_star])\n",
    "scatter!([0], [0], [0])\n",
    "plot!(moon_orbit[1,:], moon_orbit[2,:], moon_orbit[3,:])\n",
    "\n",
    "#this is relative to the Earth "
   ]
  },
  {
   "cell_type": "code",
   "execution_count": null,
   "metadata": {},
   "outputs": [],
   "source": [
    "time_steps"
   ]
  },
  {
   "cell_type": "code",
   "execution_count": null,
   "metadata": {},
   "outputs": [],
   "source": [
    "time_steps"
   ]
  },
  {
   "cell_type": "code",
   "execution_count": null,
   "metadata": {},
   "outputs": [],
   "source": [
    "#μ_earth_moon*l_star "
   ]
  },
  {
   "cell_type": "code",
   "execution_count": null,
   "metadata": {},
   "outputs": [],
   "source": [
    "xtraj_transformed = [xtraj[1:3, :].+ [μ_earth_moon*l_star , 0, 0]; xtraj[4:6, :]./86400]"
   ]
  },
  {
   "cell_type": "code",
   "execution_count": null,
   "metadata": {},
   "outputs": [],
   "source": [
    "#transform each of these points into the Earth Moon ephemeris model to see what it looks like\n",
    "\n",
    "xtraj_ephemeris = zeros(6,131)\n",
    "\n",
    "#x_centered = xtraj_ephemeris \n",
    "\n",
    "for i=1:131\n",
    "\n",
    "    xtraj_ephemeris[:,i] = cr3bp_to_ephem(xtraj_transformed[:,i], time_steps[i]*86400)\n",
    "end"
   ]
  },
  {
   "cell_type": "code",
   "execution_count": null,
   "metadata": {},
   "outputs": [],
   "source": [
    "xtraj_ephemeris"
   ]
  },
  {
   "cell_type": "code",
   "execution_count": null,
   "metadata": {},
   "outputs": [],
   "source": [
    "plot(xtraj_ephemeris[1,:], xtraj_ephemeris[2,:], xtraj_ephemeris[3,:])\n",
    "\n",
    "plot!(all_states[1,:]*l_star, all_states[2,:]*l_star, all_states[3,:]*l_star) "
   ]
  },
  {
   "cell_type": "code",
   "execution_count": null,
   "metadata": {},
   "outputs": [],
   "source": [
    "xtraj_ephemeris"
   ]
  },
  {
   "cell_type": "code",
   "execution_count": null,
   "metadata": {},
   "outputs": [],
   "source": [
    "[all_states[1:3, :]*l_star; all_states[4:6, :]*(l_star/t_star)][:,end]"
   ]
  },
  {
   "cell_type": "code",
   "execution_count": null,
   "metadata": {},
   "outputs": [],
   "source": [
    "#convert both back to x_cr3bp"
   ]
  },
  {
   "cell_type": "code",
   "execution_count": null,
   "metadata": {},
   "outputs": [],
   "source": [
    "xtraj_ephemeris"
   ]
  },
  {
   "cell_type": "code",
   "execution_count": null,
   "metadata": {},
   "outputs": [],
   "source": [
    "all_states_scaled = [all_states[1:3, :]*l_star; all_states[4:6, :]*(l_star/t_star)]"
   ]
  },
  {
   "cell_type": "code",
   "execution_count": null,
   "metadata": {},
   "outputs": [],
   "source": [
    "sol.t*t_star"
   ]
  },
  {
   "cell_type": "code",
   "execution_count": null,
   "metadata": {},
   "outputs": [],
   "source": [
    "time_steps*86400"
   ]
  },
  {
   "cell_type": "code",
   "execution_count": null,
   "metadata": {},
   "outputs": [],
   "source": [
    "#11 seconds vs 6409 seconds? "
   ]
  },
  {
   "cell_type": "code",
   "execution_count": null,
   "metadata": {},
   "outputs": [],
   "source": [
    "all_states_cr3bp = zeros(6, 316)\n",
    "\n",
    "\n",
    "for i=1:316\n",
    "    all_states_cr3bp[:,i] = ephem_to_cr3bp(all_states_scaled[:,i], sol.t[i]*t_star)\n",
    "end"
   ]
  },
  {
   "cell_type": "code",
   "execution_count": null,
   "metadata": {},
   "outputs": [],
   "source": [
    "xtraj_cr3bp = zeros(6,131)\n",
    "\n",
    "#x_centered = xtraj_ephemeris \n",
    "\n",
    "for i=1:131\n",
    "\n",
    "    xtraj_cr3bp[:,i] = ephem_to_cr3bp(xtraj_ephemeris[:,i], time_steps[i]*86400)\n",
    "end"
   ]
  },
  {
   "cell_type": "code",
   "execution_count": null,
   "metadata": {},
   "outputs": [],
   "source": [
    "μ_earth_moon*l_star "
   ]
  },
  {
   "cell_type": "code",
   "execution_count": null,
   "metadata": {},
   "outputs": [],
   "source": [
    "xtraj_cr3bp"
   ]
  },
  {
   "cell_type": "code",
   "execution_count": null,
   "metadata": {},
   "outputs": [],
   "source": [
    "xtraj_transformed"
   ]
  },
  {
   "cell_type": "code",
   "execution_count": null,
   "metadata": {},
   "outputs": [],
   "source": [
    "all_states_cr3bp"
   ]
  },
  {
   "cell_type": "code",
   "execution_count": null,
   "metadata": {},
   "outputs": [],
   "source": [
    "all_states_cr3bp[:,1] - xtraj_cr3bp[:,1]"
   ]
  },
  {
   "cell_type": "code",
   "execution_count": null,
   "metadata": {},
   "outputs": [],
   "source": [
    "all_states_cr3bp"
   ]
  },
  {
   "cell_type": "code",
   "execution_count": null,
   "metadata": {},
   "outputs": [],
   "source": [
    "xtraj_cr3bp"
   ]
  },
  {
   "cell_type": "code",
   "execution_count": null,
   "metadata": {},
   "outputs": [],
   "source": [
    "#plot(xtraj_transformed[1,:], xtraj_transformed[2,:], xtraj_transformed[3,:])\n",
    "\n",
    "plot(xtraj_cr3bp[1,1:40], xtraj_cr3bp[2,1:40], xtraj_cr3bp[3,1:40])\n",
    "\n",
    "plot!(all_states_cr3bp[1,1:2], all_states_cr3bp[2,1:2], all_states_cr3bp[3,1:2])\n",
    "\n",
    "scatter!([all_states_cr3bp[1,1]], [all_states_cr3bp[2,1]], [all_states_cr3bp[3,1]])\n",
    "\n",
    "scatter!([xtraj_cr3bp[1,1]], [xtraj_cr3bp[2,1]], [xtraj_cr3bp[3,1]])"
   ]
  },
  {
   "cell_type": "code",
   "execution_count": null,
   "metadata": {},
   "outputs": [],
   "source": [
    "# #transform all states into cr3bp scaled\n",
    "\n",
    "# all_states_cr3bp = zeros(6, size(all_states)[2])\n",
    "\n",
    "\n",
    "# for i=1:size(all_states)[2]\n",
    "\n",
    "#     ephem_scaled = [all_states[1:3,i]*l_star; all_states[4:6,i]*(l_star/t_star)]\n",
    "#     all_states_cr3bp[:,i] = ephem_to_cr3bp(ephem_scaled, sol.t[i]*t_star)\n",
    "    \n",
    "# end"
   ]
  },
  {
   "cell_type": "code",
   "execution_count": null,
   "metadata": {},
   "outputs": [],
   "source": [
    "#tested on a leo orbit and dynamics work fine\n",
    "\n",
    "#something wrong with the ephemeris to cr3bp conversion? "
   ]
  },
  {
   "cell_type": "code",
   "execution_count": null,
   "metadata": {},
   "outputs": [],
   "source": [
    "#rk4 to integrate the ephemeris equation"
   ]
  },
  {
   "cell_type": "code",
   "execution_count": null,
   "metadata": {},
   "outputs": [],
   "source": [
    "function RK4_integrator(x, t)\n",
    "\n",
    "    Δt = 1\n",
    "    f1 = ephemeris_model_EarthMoon(x, t)\n",
    "    f2 = ephemeris_model_EarthMoon(x+0.5*Δt*f1, t + Δt/2)\n",
    "    f3 = ephemeris_model_EarthMoon(x+0.5*Δt*f2, t + Δt/2)\n",
    "    f4 = ephemeris_model_EarthMoon(x+ Δt*f3, t+Δt)\n",
    "\n",
    "    xnext = x + (Δt/6.0)*(f1+2*f2+2*f3+f4)\n",
    "\n",
    "    return xnext\n",
    "\n",
    "end"
   ]
  },
  {
   "cell_type": "code",
   "execution_count": null,
   "metadata": {},
   "outputs": [],
   "source": [
    "all_states_rk4 = zeros(6, 1000000)\n",
    "\n",
    "all_states_rk4[:,1] = x_test_ephem\n",
    "\n",
    "for i=1:1000000-1\n",
    "    all_states_rk4[:,i+1] = RK4_integrator(all_states_rk4[:,i], i)\n",
    "\n",
    "end"
   ]
  },
  {
   "cell_type": "code",
   "execution_count": null,
   "metadata": {},
   "outputs": [],
   "source": [
    "all_states_rk4"
   ]
  },
  {
   "cell_type": "code",
   "execution_count": null,
   "metadata": {},
   "outputs": [],
   "source": [
    "plot(all_states_rk4[1,:], all_states_rk4[2,:], all_states_rk4[3,:])\n",
    "\n",
    "plot!(all_states[1,:]*l_star, all_states[2,:]*l_star, all_states[3,:]*l_star) "
   ]
  },
  {
   "cell_type": "code",
   "execution_count": null,
   "metadata": {},
   "outputs": [],
   "source": [
    "all_states_rk4"
   ]
  },
  {
   "cell_type": "code",
   "execution_count": null,
   "metadata": {},
   "outputs": [],
   "source": [
    "x_test_ephem"
   ]
  },
  {
   "cell_type": "code",
   "execution_count": null,
   "metadata": {},
   "outputs": [],
   "source": [
    "#potential error is with the transformation matrix. the part \n",
    "#corresponding to the velocities. Make sure to write out the\n",
    "#derivation"
   ]
  }
 ],
 "metadata": {
  "kernelspec": {
   "display_name": "Julia 1.9.4",
   "language": "julia",
   "name": "julia-1.9"
  },
  "language_info": {
   "file_extension": ".jl",
   "mimetype": "application/julia",
   "name": "julia",
   "version": "1.9.4"
  }
 },
 "nbformat": 4,
 "nbformat_minor": 2
}
