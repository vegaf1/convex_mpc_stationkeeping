{
 "cells": [
  {
   "cell_type": "code",
   "execution_count": 1,
   "metadata": {},
   "outputs": [],
   "source": [
    "#ephemeris sim\n",
    "using LinearAlgebra\n",
    "#make sure to cite this package\n",
    "using SPICE\n",
    "using Downloads: download \n",
    "using DifferentialEquations\n",
    "using Plots"
   ]
  },
  {
   "cell_type": "code",
   "execution_count": 4,
   "metadata": {},
   "outputs": [],
   "source": [
    "#finer integration on the reference trajectory. Kinda close for the dt of 8 hours but it diverges as time goes on./"
   ]
  },
  {
   "cell_type": "code",
   "execution_count": 5,
   "metadata": {},
   "outputs": [],
   "source": [
    "#I need to get the correct times for xtraj and find the correct inverse matrix at those exact times...\n",
    "\n",
    "\n",
    "#Integrate initial condition of xtraj to a certain small timestep and just compare that point in the \n",
    "#transformation to see if that works"
   ]
  },
  {
   "cell_type": "code",
   "execution_count": 6,
   "metadata": {},
   "outputs": [],
   "source": [
    "# using Pkg\n",
    "# Pkg.activate(\".\")"
   ]
  },
  {
   "cell_type": "code",
   "execution_count": 7,
   "metadata": {},
   "outputs": [],
   "source": [
    "using DelimitedFiles\n",
    "#xtraj_old  = readdlm(\"xtraj.txt\", '\\t', Float64, '\\n')\n",
    "\n",
    "# #in days\n",
    "# time_steps = readdlm(\"time.txt\", '\\t', Float64, '\\n')\n",
    "\n",
    "# #period \n",
    "# #T_periodic_n = 3.414975413662902\n",
    "\n",
    "\n",
    "# T_periodic_n = 3.414975410587678"
   ]
  },
  {
   "cell_type": "code",
   "execution_count": 8,
   "metadata": {},
   "outputs": [
    {
     "data": {
      "text/plain": [
       "1.2832276238049301e6"
      ]
     },
     "metadata": {},
     "output_type": "display_data"
    }
   ],
   "source": [
    "xtraj_cr3bp_units = readdlm(\"reference_trajectory41.txt\")\n",
    "\n",
    "xtraj_si = [xtraj_cr3bp_units[1:3, :]*3.850e5; xtraj_cr3bp_units[4:6, :]*1.025] #parameters to get to si units. km and seconds\n",
    "\n",
    "T_corrected = 3.414975413662902*375764.8206399649 #multiply by timescale in cvx mpc file. in seconds"
   ]
  },
  {
   "cell_type": "code",
   "execution_count": 9,
   "metadata": {},
   "outputs": [
    {
     "data": {
      "text/plain": [
       "41"
      ]
     },
     "metadata": {},
     "output_type": "display_data"
    }
   ],
   "source": [
    "N_period = 41"
   ]
  },
  {
   "cell_type": "code",
   "execution_count": 10,
   "metadata": {},
   "outputs": [
    {
     "data": {
      "text/plain": [
       "32080.690595123255"
      ]
     },
     "metadata": {},
     "output_type": "display_data"
    }
   ],
   "source": [
    "Δt = T_corrected/(N_period-1)"
   ]
  },
  {
   "cell_type": "code",
   "execution_count": 11,
   "metadata": {},
   "outputs": [],
   "source": [
    "# Load leap seconds kernel\n",
    "furnsh(\"/home/faustovega/Desktop/astrodynamics_nasa_work/naif0012.tls\")\n",
    "\n",
    "# laptop \n",
    "# furnsh(\"/home/fausto/naif0012.tls\")"
   ]
  },
  {
   "cell_type": "code",
   "execution_count": 12,
   "metadata": {},
   "outputs": [
    {
     "data": {
      "text/plain": [
       "0"
      ]
     },
     "metadata": {},
     "output_type": "display_data"
    }
   ],
   "source": [
    "# Convert the calendar date to ephemeris seconds past J2000\n",
    "\n",
    "#was 2018\n",
    "#et = utc2et(\"2018-02-06T20:45:00\")\n",
    "\n",
    "et = 0"
   ]
  },
  {
   "cell_type": "code",
   "execution_count": 13,
   "metadata": {},
   "outputs": [],
   "source": [
    "# Load a planetary ephemeris kernel\n",
    "furnsh(\"/home/faustovega/Desktop/astrodynamics_nasa_work/de440.bsp\")\n",
    "\n",
    "#laptop\n",
    "# furnsh(\"/home/fausto/de440.bsp\")"
   ]
  },
  {
   "cell_type": "code",
   "execution_count": 14,
   "metadata": {},
   "outputs": [
    {
     "data": {
      "text/plain": [
       "1.32712440017987e11"
      ]
     },
     "metadata": {},
     "output_type": "display_data"
    }
   ],
   "source": [
    "#gravitational parameters for the bodies (km3/s2)\n",
    "\n",
    "#moon \n",
    "μ_m = 4902.80058214776\n",
    "\n",
    "#earth\n",
    "μ_e = 398600.432896939\n",
    "\n",
    "#sun\n",
    "μ_s = 132712440017.987"
   ]
  },
  {
   "cell_type": "code",
   "execution_count": 15,
   "metadata": {},
   "outputs": [
    {
     "data": {
      "text/plain": [
       "1738.2"
      ]
     },
     "metadata": {},
     "output_type": "display_data"
    }
   ],
   "source": [
    "#units used to normalize\n",
    "#also in km and seconds\n",
    "\n",
    "#distance\n",
    "l_star = 385692.50\n",
    "\n",
    "#time\n",
    "t_star = 377084.152667038\n",
    "\n",
    "#in km\n",
    "lunar_radius = 1738.2 "
   ]
  },
  {
   "cell_type": "code",
   "execution_count": 16,
   "metadata": {},
   "outputs": [
    {
     "data": {
      "text/plain": [
       "get_transformation (generic function with 1 method)"
      ]
     },
     "metadata": {},
     "output_type": "display_data"
    }
   ],
   "source": [
    "#get the jacobian that maps from rotating frame to inertial frame\n",
    "function get_transformation(time)\n",
    "\n",
    "    #time is already wrt et\n",
    "    \n",
    "    #state of the moon (position and velocity) relative to Earth (in km and km/s)\n",
    "    moon_state = spkezr(\"moon\",time,\"J2000\",\"NONE\",\"earth\")[1]\n",
    "\n",
    "    #position of the moon relative to Earth\n",
    "    r_moon = moon_state[1:3]\n",
    "\n",
    "    #velocity of the moon relative to Earth\n",
    "    v_moon = moon_state[4:6]\n",
    "\n",
    "    #x component of the rotating frame expressed in inertial coordinates\n",
    "    x̃ = r_moon/norm(r_moon)\n",
    "    #z component of the rotating frame expressed in inertial coordinates\n",
    "    z̃ = cross(r_moon, v_moon)/norm(cross(r_moon, v_moon))\n",
    "    #x component of the rotating frame expressed in inertial coordinates\n",
    "    ỹ = cross(z̃, x̃)\n",
    "\n",
    "    #instantanous rotation matrix from rotating frame to inertial frame (centered at Earth)\n",
    "    C = [x̃ ỹ z̃]\n",
    "\n",
    "    #instantanous angular velocity\n",
    "    θ_dot = norm(cross(r_moon, v_moon))/(norm(r_moon)^2)\n",
    "\n",
    "    #θ_dot = (cross(r_moon, v_moon)/(norm(r_moon)^2))[3]\n",
    "\n",
    "    #θ_dot = 2*pi/2.361e6\n",
    "\n",
    "\n",
    "    return C, θ_dot\n",
    "\n",
    "end"
   ]
  },
  {
   "cell_type": "code",
   "execution_count": 17,
   "metadata": {},
   "outputs": [
    {
     "data": {
      "text/plain": [
       "cr3bp_to_ephem (generic function with 1 method)"
      ]
     },
     "metadata": {},
     "output_type": "display_data"
    }
   ],
   "source": [
    "function cr3bp_to_ephem(x, t)\n",
    "\n",
    "    time = et + t\n",
    "\n",
    "    #get transformation takes in time wrt et\n",
    "    C, θ_dot = get_transformation(time)\n",
    "\n",
    "    C̄ = [θ_dot.*C[:,2] -θ_dot.*C[:,1]]\n",
    "\n",
    "    #transformation matrix\n",
    "    C̃ = [C zeros(3,3); C̄ zeros(3) C]\n",
    "\n",
    "    #apply the rotation to get the state in the inertial frame\n",
    "    x_ephem = C̃*x\n",
    "\n",
    "    return x_ephem\n",
    "\n",
    "end"
   ]
  },
  {
   "cell_type": "code",
   "execution_count": 18,
   "metadata": {},
   "outputs": [
    {
     "data": {
      "text/plain": [
       "ephem_to_cr3bp (generic function with 1 method)"
      ]
     },
     "metadata": {},
     "output_type": "display_data"
    }
   ],
   "source": [
    "function ephem_to_cr3bp(x, t)\n",
    "\n",
    "    time = et + t\n",
    "\n",
    "    #get transformation takes in time wrt et\n",
    "    C, θ_dot = get_transformation(time)\n",
    "\n",
    "    C̄ = [θ_dot.*C[:,2] -θ_dot.*C[:,1]]\n",
    "\n",
    "    #transformation matrix\n",
    "    C̃ = [C zeros(3,3); C̄ zeros(3) C]\n",
    "\n",
    "    #get the inverse transformation matrix\n",
    "\n",
    "    C_inv = inv(C̃)\n",
    "    #C_inv = C̃'\n",
    "    #apply the rotation to get the state in the rotating frame\n",
    "    x_cr3bp = C_inv*x\n",
    "\n",
    "    return x_cr3bp\n",
    "\n",
    "end"
   ]
  },
  {
   "cell_type": "code",
   "execution_count": 19,
   "metadata": {},
   "outputs": [
    {
     "data": {
      "text/plain": [
       "ephem_dynamics_scaled! (generic function with 1 method)"
      ]
     },
     "metadata": {},
     "output_type": "display_data"
    }
   ],
   "source": [
    "function ephem_dynamics_scaled!(du, u, p, t)\n",
    "    \n",
    "    #scaled version\n",
    "    du[1:6] = scaled_ephemeris_dynamics(u[1:6], t)\n",
    "    \n",
    "    \n",
    "end"
   ]
  },
  {
   "cell_type": "code",
   "execution_count": 20,
   "metadata": {},
   "outputs": [
    {
     "data": {
      "text/plain": [
       "get_state (generic function with 1 method)"
      ]
     },
     "metadata": {},
     "output_type": "display_data"
    }
   ],
   "source": [
    "#gets the state and for the entire solution\n",
    "\n",
    "function get_state(solution)\n",
    "    \n",
    "    N = size(solution.u)[1]\n",
    "\n",
    "    all_states = zeros(6, N)\n",
    "\n",
    "    for i=1:N\n",
    "        all_states[:,i] = solution.u[i][1:6]\n",
    "    end\n",
    "    \n",
    "    #all states and all stm are functions of t\n",
    "    #solution.t is the time\n",
    "    return all_states\n",
    "end"
   ]
  },
  {
   "cell_type": "code",
   "execution_count": 21,
   "metadata": {},
   "outputs": [
    {
     "data": {
      "text/plain": [
       "just_dynamics_integrate_scaled (generic function with 1 method)"
      ]
     },
     "metadata": {},
     "output_type": "display_data"
    }
   ],
   "source": [
    "function just_dynamics_integrate_scaled(x_0, period)\n",
    "    \n",
    "    #integrate from 0 to period\n",
    "    tspan = (0.0, period)\n",
    "    prob = ODEProblem(ephem_dynamics_scaled!, x_0, tspan)\n",
    "    sol = solve(prob, TsitPap8(), abstol=1e-12, reltol=1e-12)\n",
    "    \n",
    "    return sol\n",
    "    \n",
    "end"
   ]
  },
  {
   "cell_type": "code",
   "execution_count": 22,
   "metadata": {},
   "outputs": [
    {
     "data": {
      "text/plain": [
       "ephemeris_model_EarthMoon (generic function with 1 method)"
      ]
     },
     "metadata": {},
     "output_type": "display_data"
    }
   ],
   "source": [
    "#the state is in km and s as well as the time\n",
    "\n",
    "function ephemeris_model_EarthMoon(x, t)\n",
    "\n",
    "    xdot = zeros(6)\n",
    "\n",
    "    xdot[1:3] = x[4:6]\n",
    "\n",
    "    #position of the spacecraft relative to the earth \n",
    "    r_qi = x[1:3]\n",
    "\n",
    "    time = et + t\n",
    "\n",
    "    #get positions of moon and sun relative to earth \n",
    "    rqj_moon = spkpos(\"moon\", time, \"J2000\", \"none\", \"earth\")[1]\n",
    "    \n",
    "\n",
    "    #println(\"position of the satellite: \", r_qi)\n",
    "\n",
    "    #println(\"position of the moon: \", rqj_moon)\n",
    "\n",
    "    rij_moon = rqj_moon- r_qi \n",
    "\n",
    "    #println(\"vector from satellite to moon: \", rij_moon)\n",
    "\n",
    "    #println(\"distance to moon : \", norm(rij_moon))\n",
    "\n",
    "    #r_qi - vector that defines the position of the satellite wrt Earth\n",
    "    #rqj is the position of a planetary body wrt satellite\n",
    "\n",
    "    #just Earth and Moon\n",
    "    xdot[4:6] = (-μ_e/(norm(r_qi))^3)*r_qi + μ_m.*((rij_moon/norm(rij_moon)^3)-(rqj_moon/norm(rqj_moon)^3));\n",
    "\n",
    "\n",
    "    #display((-μ_e/(norm(r_qi))^3)*r_qi)\n",
    "\n",
    "    #display(μ_m.*((rij_moon/norm(rij_moon)^3)-(rqj_moon/norm(rqj_moon)^3)))\n",
    "                \n",
    "    return xdot\n",
    "\n",
    "end"
   ]
  },
  {
   "cell_type": "code",
   "execution_count": 23,
   "metadata": {},
   "outputs": [],
   "source": [
    "#sat_pose = [35677.75392672705, -383227.521788774, -204700.13822902984]\n",
    "#2024\n",
    "#moon_pose = [30336.261021197115, -325480.3753119168, -176061.98671653145]\n",
    "\n",
    "#2018\n",
    "# sat_pose = [-338899.19758259197, -265393.89399550087, -68933.27991895752]\n",
    "# moon_pose = [-305665.5295916485, -238568.75389771274, -64082.58948032478]\n"
   ]
  },
  {
   "cell_type": "code",
   "execution_count": 24,
   "metadata": {},
   "outputs": [],
   "source": [
    "# norm(sat_pose - moon_pose)"
   ]
  },
  {
   "cell_type": "code",
   "execution_count": 25,
   "metadata": {},
   "outputs": [],
   "source": [
    "# (sat_pose - moon_pose)/norm(sat_pose - moon_pose)"
   ]
  },
  {
   "cell_type": "code",
   "execution_count": 26,
   "metadata": {},
   "outputs": [],
   "source": [
    "# moon_pose/norm(moon_pose)"
   ]
  },
  {
   "cell_type": "code",
   "execution_count": 27,
   "metadata": {},
   "outputs": [],
   "source": [
    "#these dynamics are all relative to the Earth\n",
    "# scatter([sat_pose[1]], [sat_pose[2]], [sat_pose[3]], label=\"Satellite\")\n",
    "# scatter!([moon_pose[1]], [moon_pose[2]], [moon_pose[3]], label= \"Moon\")\n",
    "# scatter!([0], [0], [0], label = \"Earth\")"
   ]
  },
  {
   "cell_type": "code",
   "execution_count": 28,
   "metadata": {},
   "outputs": [
    {
     "data": {
      "text/plain": [
       "385692.5"
      ]
     },
     "metadata": {},
     "output_type": "display_data"
    }
   ],
   "source": [
    "l_star "
   ]
  },
  {
   "cell_type": "code",
   "execution_count": 29,
   "metadata": {},
   "outputs": [
    {
     "data": {
      "text/plain": [
       "scaled_ephemeris_dynamics (generic function with 1 method)"
      ]
     },
     "metadata": {},
     "output_type": "display_data"
    }
   ],
   "source": [
    "#the x is scaled here as well as the t \n",
    "\n",
    "function scaled_ephemeris_dynamics(x,t)\n",
    "\n",
    "    q_original = zeros(eltype(x),3)\n",
    "    v_original = zeros(eltype(x),3)\n",
    "\n",
    "    #get to original units (km and s)\n",
    "    q_original = x[1:3]*l_star \n",
    "    v_original = x[4:6]*(l_star/t_star)\n",
    "    t_original = t*t_star\n",
    "\n",
    "    x_original = [q_original; v_original]\n",
    "\n",
    "    #original is in the CR3BP units\n",
    "    ẋ_original = zeros(eltype(x),6)\n",
    "\n",
    "    #calculate the original xdot (no scaling)\n",
    "\n",
    "    ẋ_original = ephemeris_model_EarthMoon(x_original, t_original)\n",
    "    \n",
    "    #then scale the output\n",
    "    v_scaled = ẋ_original[1:3]/(l_star/t_star)\n",
    "    \n",
    "    a_scaled = ẋ_original[4:6]/(l_star/(t_star)^2)\n",
    "\n",
    "    ẋ_scaled = [v_scaled; a_scaled]\n",
    "\n",
    "    return ẋ_scaled\n",
    "\n",
    "end"
   ]
  },
  {
   "cell_type": "code",
   "execution_count": 30,
   "metadata": {},
   "outputs": [
    {
     "data": {
      "text/plain": [
       "375764.8206399649"
      ]
     },
     "metadata": {},
     "output_type": "display_data"
    }
   ],
   "source": [
    "L_cr = 3.850e5 #in km - distance between centers of m1 and m2\n",
    "V_cr = 1.025 #in km/s - orbital velocity of m1\n",
    "T_cr = 2.361e6 #in seconds - orbital period of m1 and m2\n",
    "time_scale = T_cr/(2*pi)"
   ]
  },
  {
   "cell_type": "code",
   "execution_count": 31,
   "metadata": {},
   "outputs": [
    {
     "data": {
      "text/plain": [
       "382981"
      ]
     },
     "metadata": {},
     "output_type": "display_data"
    }
   ],
   "source": [
    "L_nasa = 389703\n",
    "T_nasa = 382981"
   ]
  },
  {
   "cell_type": "code",
   "execution_count": 32,
   "metadata": {},
   "outputs": [
    {
     "data": {
      "text/plain": [
       "0.01215058560962404"
      ]
     },
     "metadata": {},
     "output_type": "display_data"
    }
   ],
   "source": [
    "#mass paramter for earth moon\n",
    "μ_earth_moon = 1.215058560962404E-2"
   ]
  },
  {
   "cell_type": "code",
   "execution_count": 33,
   "metadata": {},
   "outputs": [
    {
     "data": {
      "text/plain": [
       "3-element Vector{Float64}:\n",
       " -0.01215058560962404\n",
       "  0.0\n",
       "  0.0"
      ]
     },
     "metadata": {},
     "output_type": "display_data"
    }
   ],
   "source": [
    "#position of Earth in rotating frame\n",
    "pose_m1 = [-μ_earth_moon, 0, 0]"
   ]
  },
  {
   "cell_type": "code",
   "execution_count": 34,
   "metadata": {},
   "outputs": [
    {
     "data": {
      "text/plain": [
       "3-element Vector{Float64}:\n",
       " 0.987849414390376\n",
       " 0.0\n",
       " 0.0"
      ]
     },
     "metadata": {},
     "output_type": "display_data"
    }
   ],
   "source": [
    "pose_m2 = [1-μ_earth_moon, 0, 0]"
   ]
  },
  {
   "cell_type": "code",
   "execution_count": 35,
   "metadata": {},
   "outputs": [],
   "source": [
    "#norm(pose_m2 - x0_test[1:3])*L_cr "
   ]
  },
  {
   "cell_type": "code",
   "execution_count": 36,
   "metadata": {},
   "outputs": [],
   "source": [
    "#seems periodic, not sure if it's correct\n",
    "# x0_test = [1.1201297302380415,\n",
    "#  0.0,\n",
    "#  0.0059396759100811495,\n",
    "#  0.0,\n",
    "#  0.17677819141944426,\n",
    "#  0.0]\n",
    "\n",
    "#  x0_test_earthcentered = [x0_test[1:3] - pose_m1; x0_test[4:6]]\n",
    "\n",
    "#  #in cr3bp units \n",
    "# T_periodic = 3.414975413662902\n",
    "\n",
    "# x0_dim = [x0_test_earthcentered[1:3]*L_cr; x0_test_earthcentered[4:6]*(L_cr/T_cr)]\n",
    "\n",
    "# T_dim = T_periodic*time_scale"
   ]
  },
  {
   "cell_type": "code",
   "execution_count": 37,
   "metadata": {},
   "outputs": [
    {
     "data": {
      "text/plain": [
       "6-element Vector{Float64}:\n",
       " 431249.946141646\n",
       "      0.0\n",
       "   2286.7752253812428\n",
       "      0.0\n",
       "      0.18119764620493034\n",
       "      0.0"
      ]
     },
     "metadata": {},
     "output_type": "display_data"
    }
   ],
   "source": [
    "#this is in km and seconds\n",
    "#xtraj_test_initial = [xtraj[1:3,1]; xtraj[4:6,1]/86400]\n",
    "\n",
    "\n",
    "xtraj_test_initial = [xtraj_si[1:3, 1]; xtraj_si[4:6, 1]]"
   ]
  },
  {
   "cell_type": "code",
   "execution_count": 38,
   "metadata": {},
   "outputs": [
    {
     "data": {
      "text/plain": [
       "1.2832276238049301e6"
      ]
     },
     "metadata": {},
     "output_type": "display_data"
    }
   ],
   "source": [
    "#Initial Condtion from xtraj\n",
    "x0_test = [xtraj_test_initial[1:3] + [μ_earth_moon*l_star, 0, 0]; xtraj_test_initial[4:6]]\n",
    "\n",
    "#x0_test_earthcentered = [x0_test[1:3] - pose_m1; x0_test[4:6]]\n",
    "\n",
    " #in cr3bp units \n",
    "#T_periodic = T_periodic_n\n",
    "\n",
    "#x0_dim = [x0_test_earthcentered[1:3]*L_cr; x0_test_earthcentered[4:6]*(L_cr/T_cr)]\n",
    "\n",
    "#T_dim = T_periodic*t_star \n",
    "\n",
    "T_dim = T_corrected"
   ]
  },
  {
   "cell_type": "code",
   "execution_count": 39,
   "metadata": {},
   "outputs": [],
   "source": [
    "################################################################################################################\n",
    "#from https://ssd.jpl.nasa.gov/tools/periodic_orbits.html\n",
    "\n",
    "#in nasa cr3bp units\n",
    "#x0_test = [1.1808985497899205E+0, -2.5444988241150091E-26, 1.0295054075242347E-4, 3.3765359485568778E-15, -1.5585631393981156E-1, 5.5263881873244218E-18]\n",
    "#T_periodic = 3.4155308065628454\n",
    "\n",
    "#larger orbit\n",
    "# x0_test = [1.1805068248439281E+0,\t-3.3114436259161434E-27,\t1.9906874796338979E-2,\t3.3672394329658290E-15,\t-1.5811356683023692E-1, 2.2436379855191516E-15]\n",
    "# T_periodic = 3.1503862907153901\n",
    "# x0_test_earthcentered = [x0_test[1:3] - pose_m1; x0_test[4:6]]\n",
    "\n",
    "\n",
    "# x0_dim = [x0_test_earthcentered[1:3]*L_nasa; x0_test_earthcentered[4:6]*(L_nasa/T_nasa)]\n",
    "\n",
    "# T_dim = T_periodic*T_nasa\n",
    "#################################################################################################################"
   ]
  },
  {
   "cell_type": "code",
   "execution_count": 40,
   "metadata": {},
   "outputs": [],
   "source": [
    "\n",
    "# y = 23\n",
    "# #ECI\n",
    "# xx = [xtraj[1:3,y] + [μ_earth_moon*l_star, 0, 0]; xtraj[4:6,y]/86400]\n",
    "# display(xx)\n",
    "# x_test_ephem = cr3bp_to_ephem(xx, 100)"
   ]
  },
  {
   "cell_type": "code",
   "execution_count": 41,
   "metadata": {},
   "outputs": [],
   "source": [
    "# ephem_to_cr3bp(x_test_ephem, 100)"
   ]
  },
  {
   "cell_type": "code",
   "execution_count": 42,
   "metadata": {},
   "outputs": [
    {
     "data": {
      "text/plain": [
       "6-element Vector{Float64}:\n",
       " -315699.84244171454\n",
       " -289709.09187984234\n",
       "  -80299.25184887837\n",
       "       0.8464169651825069\n",
       "      -0.8184740424258685\n",
       "      -0.3747772276425021"
      ]
     },
     "metadata": {},
     "output_type": "display_data"
    }
   ],
   "source": [
    "x_test_ephem = cr3bp_to_ephem(x0_test, 0)"
   ]
  },
  {
   "cell_type": "code",
   "execution_count": 43,
   "metadata": {},
   "outputs": [],
   "source": [
    "#this transform gives original x0_dim\n",
    "#test = ephem_to_cr3bp(x_test_ephem, 0)"
   ]
  },
  {
   "cell_type": "code",
   "execution_count": 44,
   "metadata": {},
   "outputs": [
    {
     "data": {
      "text/plain": [
       "3.403027188305123"
      ]
     },
     "metadata": {},
     "output_type": "display_data"
    }
   ],
   "source": [
    "x_test_ephem_scaled = [x_test_ephem[1:3]/l_star; x_test_ephem[4:6]/(l_star/t_star)]\n",
    "\n",
    "T_ephem_scaled = T_dim/t_star"
   ]
  },
  {
   "cell_type": "code",
   "execution_count": 45,
   "metadata": {},
   "outputs": [
    {
     "data": {
      "text/plain": [
       "6-element Vector{Float64}:\n",
       " -0.7422079490584561\n",
       " -0.812849180921414\n",
       " -0.23791974198326793\n",
       "  0.9629482359075721\n",
       " -0.6438833588960929\n",
       " -0.3298038020357553"
      ]
     },
     "metadata": {},
     "output_type": "display_data"
    }
   ],
   "source": [
    "#test just one step \n",
    "#sol = just_dynamics_integrate_scaled(x_test_ephem_scaled, time_steps[2]*86400/t_star)\n",
    "\n",
    "\n",
    "sol = just_dynamics_integrate_scaled(x_test_ephem_scaled, Δt/t_star)\n",
    "\n",
    "all_states_2 = get_state(sol)[:,end]"
   ]
  },
  {
   "cell_type": "code",
   "execution_count": 46,
   "metadata": {},
   "outputs": [
    {
     "data": {
      "text/plain": [
       "6-element Vector{Float64}:\n",
       " -286264.0393922286\n",
       " -313509.8327125325\n",
       "  -91763.86008488157\n",
       "       0.9849311084831662\n",
       "      -0.6585823897519083\n",
       "      -0.33733279963370555"
      ]
     },
     "metadata": {},
     "output_type": "display_data"
    }
   ],
   "source": [
    "all_states_2_ephem_scaled = [all_states_2[1:3]*l_star; all_states_2[4:6]*(l_star/t_star)]"
   ]
  },
  {
   "cell_type": "code",
   "execution_count": 47,
   "metadata": {},
   "outputs": [],
   "source": [
    "#just integrating one step is pretty good. close enough kind of..."
   ]
  },
  {
   "cell_type": "code",
   "execution_count": 48,
   "metadata": {},
   "outputs": [
    {
     "data": {
      "text/plain": [
       "8.911302943089794"
      ]
     },
     "metadata": {},
     "output_type": "display_data"
    }
   ],
   "source": [
    "Δt/3600"
   ]
  },
  {
   "cell_type": "code",
   "execution_count": 49,
   "metadata": {},
   "outputs": [
    {
     "data": {
      "text/plain": [
       "6-element Vector{Float64}:\n",
       " 434301.346475312\n",
       "   5826.718057214392\n",
       "   2123.9775624934264\n",
       "     -0.10487905747422407\n",
       "      0.17981751185640543\n",
       "     -0.01034523005093807"
      ]
     },
     "metadata": {},
     "output_type": "display_data"
    }
   ],
   "source": [
    "test = ephem_to_cr3bp(all_states_2_ephem_scaled, Δt)"
   ]
  },
  {
   "cell_type": "code",
   "execution_count": 50,
   "metadata": {},
   "outputs": [
    {
     "data": {
      "text/plain": [
       "6-element Vector{Float64}:\n",
       " 429614.9567350721\n",
       "   5826.718057214392\n",
       "   2123.9775624934264\n",
       "     -0.10487905747422407\n",
       "      0.17981751185640543\n",
       "     -0.01034523005093807"
      ]
     },
     "metadata": {},
     "output_type": "display_data"
    }
   ],
   "source": [
    "test_barycenter = [test[1:3] - [μ_earth_moon*l_star, 0, 0]; test[4:6]]"
   ]
  },
  {
   "cell_type": "code",
   "execution_count": 51,
   "metadata": {},
   "outputs": [
    {
     "data": {
      "text/plain": [
       "6-element Vector{Float64}:\n",
       " -1652.0760730892653\n",
       "    51.50405638943448\n",
       "  -113.83347039631326\n",
       "    -0.10605283797397091\n",
       "     0.0019114593530475121\n",
       "    -0.007311275564433428"
      ]
     },
     "metadata": {},
     "output_type": "display_data"
    }
   ],
   "source": [
    "test_barycenter - xtraj_si[:,2]"
   ]
  },
  {
   "cell_type": "code",
   "execution_count": 52,
   "metadata": {},
   "outputs": [
    {
     "data": {
      "text/plain": [
       "6×41 Matrix{Float64}:\n",
       "    4.3125e5  431267.0         …  431267.0            4.3125e5\n",
       "    0.0         5775.21            -5775.21           0.0025296\n",
       " 2286.78        2237.81             2237.81        2286.78\n",
       "    0.0            0.00117378         -0.0011738     -1.67418e-8\n",
       "    0.181198       0.177906            0.177906       0.181198\n",
       "    0.0           -0.00303395  …       0.00303395    -9.83623e-10"
      ]
     },
     "metadata": {},
     "output_type": "display_data"
    }
   ],
   "source": [
    "xtraj_si "
   ]
  },
  {
   "cell_type": "code",
   "execution_count": 53,
   "metadata": {},
   "outputs": [
    {
     "data": {
      "text/plain": [
       "6×41 Matrix{Float64}:\n",
       " 0.0  0.0  0.0  0.0  0.0  0.0  0.0  0.0  …  0.0  0.0  0.0  0.0  0.0  0.0  0.0\n",
       " 0.0  0.0  0.0  0.0  0.0  0.0  0.0  0.0     0.0  0.0  0.0  0.0  0.0  0.0  0.0\n",
       " 0.0  0.0  0.0  0.0  0.0  0.0  0.0  0.0     0.0  0.0  0.0  0.0  0.0  0.0  0.0\n",
       " 0.0  0.0  0.0  0.0  0.0  0.0  0.0  0.0     0.0  0.0  0.0  0.0  0.0  0.0  0.0\n",
       " 0.0  0.0  0.0  0.0  0.0  0.0  0.0  0.0     0.0  0.0  0.0  0.0  0.0  0.0  0.0\n",
       " 0.0  0.0  0.0  0.0  0.0  0.0  0.0  0.0  …  0.0  0.0  0.0  0.0  0.0  0.0  0.0"
      ]
     },
     "metadata": {},
     "output_type": "display_data"
    }
   ],
   "source": [
    "all_states_ephem_41 = zeros(6, 41)"
   ]
  },
  {
   "cell_type": "code",
   "execution_count": 54,
   "metadata": {},
   "outputs": [
    {
     "data": {
      "text/plain": [
       "6-element Vector{Float64}:\n",
       " -0.8185273046318363\n",
       " -0.751140071118423\n",
       " -0.2081950046964314\n",
       "  0.8275256172179947\n",
       " -0.8002063580912876\n",
       " -0.36641250043616225"
      ]
     },
     "metadata": {},
     "output_type": "display_data"
    }
   ],
   "source": [
    "all_states_ephem_41[:,1] = x_test_ephem_scaled"
   ]
  },
  {
   "cell_type": "code",
   "execution_count": 55,
   "metadata": {},
   "outputs": [],
   "source": [
    "for i=1:40\n",
    "\n",
    "    one_dt_step = just_dynamics_integrate_scaled(all_states_ephem_41[:,i], Δt/t_star)\n",
    "\n",
    "    one_dt_step_state = get_state(sol)[:,end]\n",
    "\n",
    "    all_states_ephem_41[:,i+1] = one_dt_step_state\n",
    "\n",
    "end"
   ]
  },
  {
   "cell_type": "code",
   "execution_count": 56,
   "metadata": {},
   "outputs": [
    {
     "data": {
      "text/plain": [
       "6×41 Matrix{Float64}:\n",
       " 0.0  0.0  0.0  0.0  0.0  0.0  0.0  0.0  …  0.0  0.0  0.0  0.0  0.0  0.0  0.0\n",
       " 0.0  0.0  0.0  0.0  0.0  0.0  0.0  0.0     0.0  0.0  0.0  0.0  0.0  0.0  0.0\n",
       " 0.0  0.0  0.0  0.0  0.0  0.0  0.0  0.0     0.0  0.0  0.0  0.0  0.0  0.0  0.0\n",
       " 0.0  0.0  0.0  0.0  0.0  0.0  0.0  0.0     0.0  0.0  0.0  0.0  0.0  0.0  0.0\n",
       " 0.0  0.0  0.0  0.0  0.0  0.0  0.0  0.0     0.0  0.0  0.0  0.0  0.0  0.0  0.0\n",
       " 0.0  0.0  0.0  0.0  0.0  0.0  0.0  0.0  …  0.0  0.0  0.0  0.0  0.0  0.0  0.0"
      ]
     },
     "metadata": {},
     "output_type": "display_data"
    }
   ],
   "source": [
    "all_states_cr3bp = zeros(6, 41)"
   ]
  },
  {
   "cell_type": "code",
   "execution_count": 57,
   "metadata": {},
   "outputs": [
    {
     "data": {
      "text/plain": [
       "0"
      ]
     },
     "metadata": {},
     "output_type": "display_data"
    }
   ],
   "source": [
    "time_count = 0"
   ]
  },
  {
   "cell_type": "code",
   "execution_count": 58,
   "metadata": {},
   "outputs": [
    {
     "data": {
      "text/plain": [
       "6×41 Matrix{Float64}:\n",
       "     -3.157e5    -286264.0       …  -286264.0       -286264.0\n",
       "     -2.89709e5       -3.1351e5          -3.1351e5       -3.1351e5\n",
       " -80299.3         -91763.9           -91763.9        -91763.9\n",
       "      0.846417         0.984931           0.984931        0.984931\n",
       "     -0.818474        -0.658582          -0.658582       -0.658582\n",
       "     -0.374777        -0.337333  …       -0.337333       -0.337333"
      ]
     },
     "metadata": {},
     "output_type": "display_data"
    }
   ],
   "source": [
    "all_states_ephem_41_scaled = [all_states_ephem_41[1:3, :]*l_star; all_states_ephem_41[4:6,:]*(l_star/t_star)]"
   ]
  },
  {
   "cell_type": "code",
   "execution_count": 59,
   "metadata": {},
   "outputs": [],
   "source": [
    "for i=1:41\n",
    "\n",
    "    #need to center it at the barycenter\n",
    "    all_states_cr3bp[:,i] = ephem_to_cr3bp(all_states_ephem_41_scaled[:,i], time_count) - [μ_earth_moon*l_star , 0, 0, 0, 0, 0]\n",
    "\n",
    "    time_count += Δt\n",
    "    \n",
    "end"
   ]
  },
  {
   "cell_type": "code",
   "execution_count": 60,
   "metadata": {},
   "outputs": [
    {
     "data": {
      "text/plain": [
       "6×41 Matrix{Float64}:\n",
       "    4.3125e5     429615.0        …      -4.3724e5      -4.39028e5\n",
       "    4.00178e-11    5826.72          -39379.1          415.819\n",
       " 2286.78           2123.98            1789.08        1789.2\n",
       "   -2.77556e-17      -0.104879           0.101287       0.102488\n",
       "    0.181198          0.179818           0.0176233      0.0205875\n",
       "    5.55112e-17      -0.0103452  …      -0.00961155    -0.00960346"
      ]
     },
     "metadata": {},
     "output_type": "display_data"
    }
   ],
   "source": [
    "all_states_cr3bp"
   ]
  },
  {
   "cell_type": "code",
   "execution_count": 63,
   "metadata": {},
   "outputs": [
    {
     "data": {
      "text/plain": [
       "6×41 Matrix{Float64}:\n",
       " -5.82077e-11  -1652.08        …      -8.68507e5    -8.70278e5\n",
       "  4.00178e-11     51.5041         -33603.8         415.816\n",
       "  2.22826e-11   -113.833            -448.734      -497.573\n",
       " -2.77556e-17     -0.106053            0.102461      0.102488\n",
       "  1.11022e-16      0.00191146         -0.160283     -0.16061\n",
       "  5.55112e-17     -0.00731128  …      -0.0126455    -0.00960346"
      ]
     },
     "metadata": {},
     "output_type": "display_data"
    }
   ],
   "source": [
    "difference = all_states_cr3bp - xtraj_si"
   ]
  },
  {
   "cell_type": "code",
   "execution_count": 61,
   "metadata": {},
   "outputs": [
    {
     "data": {
      "image/png": "[encoded data removed]",
      "image/svg+xml": [
       "<?xml version=\"1.0\" encoding=\"utf-8\"?>\n",
       "<svg xmlns=\"http://www.w3.org/2000/svg\" xmlns:xlink=\"http://www.w3.org/1999/xlink\" width=\"600\" height=\"400\" viewBox=\"0 0 2400 1600\">\n",
       "<defs>\n",
       "  <clipPath id=\"clip990\">\n",
       "    <rect x=\"0\" y=\"0\" width=\"2400\" height=\"1600\"/>\n",
       "  </clipPath>\n",
       "</defs>\n",
       "<path clip-path=\"url(#clip990)\" d=\"M0 1600 L2400 1600 L2400 0 L0 0  Z\" fill=\"#ffffff\" fill-rule=\"evenodd\" fill-opacity=\"1\"/>\n",
       "<defs>\n",
       "  <clipPath id=\"clip991\">\n",
       "    <rect x=\"480\" y=\"0\" width=\"1681\" height=\"1600\"/>\n",
       "  </clipPath>\n",
       "</defs>\n",
       "<defs>\n",
       "  <clipPath id=\"clip992\">\n",
       "    <rect x=\"239\" y=\"47\" width=\"2115\" height=\"1428\"/>\n",
       "  </clipPath>\n",
       "</defs>\n",
       "<path clip-path=\"url(#clip992)\" d=\"M1278.58 184.783 L1278.58 184.781 L1278.58 184.779 L1278.58 184.78 L1278.58 184.783 L1278.58 184.784 L1278.58 184.783  Z\" fill=\"#ffffff\" fill-rule=\"evenodd\" fill-opacity=\"1\"/>\n",
       "<polyline clip-path=\"url(#clip992)\" style=\"stroke:#000000; stroke-linecap:round; stroke-linejoin:round; stroke-width:2; stroke-opacity:0.1; fill:none\" points=\"782.872,1207.14 1194.79,850.405 1194.79,136.945 \"/>\n",
       "<polyline clip-path=\"url(#clip992)\" style=\"stroke:#000000; stroke-linecap:round; stroke-linejoin:round; stroke-width:2; stroke-opacity:0.1; fill:none\" points=\"933.508,1250.62 1345.42,893.89 1345.42,180.429 \"/>\n",
       "<polyline clip-path=\"url(#clip992)\" style=\"stroke:#000000; stroke-linecap:round; stroke-linejoin:round; stroke-width:2; stroke-opacity:0.1; fill:none\" points=\"1084.14,1294.1 1496.06,937.374 1496.06,223.914 \"/>\n",
       "<polyline clip-path=\"url(#clip992)\" style=\"stroke:#000000; stroke-linecap:round; stroke-linejoin:round; stroke-width:2; stroke-opacity:0.1; fill:none\" points=\"1234.78,1337.59 1646.7,980.859 1646.7,267.399 \"/>\n",
       "<polyline clip-path=\"url(#clip992)\" style=\"stroke:#000000; stroke-linecap:round; stroke-linejoin:round; stroke-width:2; stroke-opacity:0.1; fill:none\" points=\"1385.41,1381.07 1797.33,1024.34 1797.33,310.884 \"/>\n",
       "<polyline clip-path=\"url(#clip990)\" style=\"stroke:#000000; stroke-linecap:round; stroke-linejoin:round; stroke-width:4; stroke-opacity:1; fill:none\" points=\"733.285,1192.82 1446.75,1398.78 \"/>\n",
       "<polyline clip-path=\"url(#clip990)\" style=\"stroke:#000000; stroke-linecap:round; stroke-linejoin:round; stroke-width:4; stroke-opacity:1; fill:none\" points=\"782.872,1207.14 787.815,1202.85 \"/>\n",
       "<polyline clip-path=\"url(#clip990)\" style=\"stroke:#000000; stroke-linecap:round; stroke-linejoin:round; stroke-width:4; stroke-opacity:1; fill:none\" points=\"933.508,1250.62 938.451,1246.34 \"/>\n",
       "<polyline clip-path=\"url(#clip990)\" style=\"stroke:#000000; stroke-linecap:round; stroke-linejoin:round; stroke-width:4; stroke-opacity:1; fill:none\" points=\"1084.14,1294.1 1089.09,1289.82 \"/>\n",
       "<polyline clip-path=\"url(#clip990)\" style=\"stroke:#000000; stroke-linecap:round; stroke-linejoin:round; stroke-width:4; stroke-opacity:1; fill:none\" points=\"1234.78,1337.59 1239.72,1333.31 \"/>\n",
       "<polyline clip-path=\"url(#clip990)\" style=\"stroke:#000000; stroke-linecap:round; stroke-linejoin:round; stroke-width:4; stroke-opacity:1; fill:none\" points=\"1385.41,1381.07 1390.36,1376.79 \"/>\n",
       "<path clip-path=\"url(#clip990)\" d=\"M543.806 1239.25 L573.482 1239.25 L573.482 1243.19 L543.806 1243.19 L543.806 1239.25 Z\" fill=\"#000000\" fill-rule=\"nonzero\" fill-opacity=\"1\" /><path clip-path=\"url(#clip990)\" d=\"M596.422 1225.6 L584.616 1244.05 L596.422 1244.05 L596.422 1225.6 M595.195 1221.52 L601.075 1221.52 L601.075 1244.05 L606.005 1244.05 L606.005 1247.93 L601.075 1247.93 L601.075 1256.08 L596.422 1256.08 L596.422 1247.93 L580.82 1247.93 L580.82 1243.42 L595.195 1221.52 Z\" fill=\"#000000\" fill-rule=\"nonzero\" fill-opacity=\"1\" /><path clip-path=\"url(#clip990)\" d=\"M613.737 1250.2 L618.621 1250.2 L618.621 1256.08 L613.737 1256.08 L613.737 1250.2 Z\" fill=\"#000000\" fill-rule=\"nonzero\" fill-opacity=\"1\" /><path clip-path=\"url(#clip990)\" d=\"M638.806 1224.6 Q635.195 1224.6 633.366 1228.17 Q631.561 1231.71 631.561 1238.84 Q631.561 1245.94 633.366 1249.51 Q635.195 1253.05 638.806 1253.05 Q642.44 1253.05 644.246 1249.51 Q646.074 1245.94 646.074 1238.84 Q646.074 1231.71 644.246 1228.17 Q642.44 1224.6 638.806 1224.6 M638.806 1220.9 Q644.616 1220.9 647.672 1225.5 Q650.75 1230.09 650.75 1238.84 Q650.75 1247.56 647.672 1252.17 Q644.616 1256.75 638.806 1256.75 Q632.996 1256.75 629.917 1252.17 Q626.861 1247.56 626.861 1238.84 Q626.861 1230.09 629.917 1225.5 Q632.996 1220.9 638.806 1220.9 Z\" fill=\"#000000\" fill-rule=\"nonzero\" fill-opacity=\"1\" /><path clip-path=\"url(#clip990)\" d=\"M687.139 1230.62 L676.56 1241.24 L687.139 1251.82 L684.384 1254.62 L673.759 1244 L663.134 1254.62 L660.403 1251.82 L670.958 1241.24 L660.403 1230.62 L663.134 1227.82 L673.759 1238.44 L684.384 1227.82 L687.139 1230.62 Z\" fill=\"#000000\" fill-rule=\"nonzero\" fill-opacity=\"1\" /><path clip-path=\"url(#clip990)\" d=\"M699.5 1252.15 L707.139 1252.15 L707.139 1225.78 L698.829 1227.45 L698.829 1223.19 L707.093 1221.52 L711.768 1221.52 L711.768 1252.15 L719.407 1252.15 L719.407 1256.08 L699.5 1256.08 L699.5 1252.15 Z\" fill=\"#000000\" fill-rule=\"nonzero\" fill-opacity=\"1\" /><path clip-path=\"url(#clip990)\" d=\"M738.852 1224.6 Q735.241 1224.6 733.412 1228.17 Q731.606 1231.71 731.606 1238.84 Q731.606 1245.94 733.412 1249.51 Q735.241 1253.05 738.852 1253.05 Q742.486 1253.05 744.291 1249.51 Q746.12 1245.94 746.12 1238.84 Q746.12 1231.71 744.291 1228.17 Q742.486 1224.6 738.852 1224.6 M738.852 1220.9 Q744.662 1220.9 747.717 1225.5 Q750.796 1230.09 750.796 1238.84 Q750.796 1247.56 747.717 1252.17 Q744.662 1256.75 738.852 1256.75 Q733.041 1256.75 729.963 1252.17 Q726.907 1247.56 726.907 1238.84 Q726.907 1230.09 729.963 1225.5 Q733.041 1220.9 738.852 1220.9 Z\" fill=\"#000000\" fill-rule=\"nonzero\" fill-opacity=\"1\" /><path clip-path=\"url(#clip990)\" d=\"M751.981 1200.59 L766.895 1200.59 L766.895 1203.79 L755.46 1203.79 L755.46 1210.67 Q756.288 1210.39 757.115 1210.26 Q757.943 1210.11 758.77 1210.11 Q763.472 1210.11 766.218 1212.68 Q768.964 1215.26 768.964 1219.66 Q768.964 1224.2 766.143 1226.72 Q763.322 1229.22 758.187 1229.22 Q756.42 1229.22 754.576 1228.92 Q752.752 1228.62 750.796 1228.01 L750.796 1224.2 Q752.489 1225.12 754.294 1225.57 Q756.1 1226.02 758.112 1226.02 Q761.366 1226.02 763.266 1224.31 Q765.165 1222.6 765.165 1219.66 Q765.165 1216.73 763.266 1215.02 Q761.366 1213.31 758.112 1213.31 Q756.589 1213.31 755.065 1213.64 Q753.561 1213.98 751.981 1214.7 L751.981 1200.59 Z\" fill=\"#000000\" fill-rule=\"nonzero\" fill-opacity=\"1\" /><path clip-path=\"url(#clip990)\" d=\"M694.442 1282.74 L724.118 1282.74 L724.118 1286.67 L694.442 1286.67 L694.442 1282.74 Z\" fill=\"#000000\" fill-rule=\"nonzero\" fill-opacity=\"1\" /><path clip-path=\"url(#clip990)\" d=\"M738.238 1295.63 L754.557 1295.63 L754.557 1299.57 L732.613 1299.57 L732.613 1295.63 Q735.275 1292.88 739.858 1288.25 Q744.465 1283.59 745.645 1282.25 Q747.891 1279.73 748.77 1277.99 Q749.673 1276.23 749.673 1274.54 Q749.673 1271.79 747.729 1270.05 Q745.807 1268.32 742.706 1268.32 Q740.507 1268.32 738.053 1269.08 Q735.622 1269.84 732.845 1271.4 L732.845 1266.67 Q735.669 1265.54 738.122 1264.96 Q740.576 1264.38 742.613 1264.38 Q747.983 1264.38 751.178 1267.07 Q754.372 1269.75 754.372 1274.24 Q754.372 1276.37 753.562 1278.29 Q752.775 1280.19 750.669 1282.78 Q750.09 1283.46 746.988 1286.67 Q743.886 1289.87 738.238 1295.63 Z\" fill=\"#000000\" fill-rule=\"nonzero\" fill-opacity=\"1\" /><path clip-path=\"url(#clip990)\" d=\"M764.372 1293.69 L769.256 1293.69 L769.256 1299.57 L764.372 1299.57 L764.372 1293.69 Z\" fill=\"#000000\" fill-rule=\"nonzero\" fill-opacity=\"1\" /><path clip-path=\"url(#clip990)\" d=\"M789.441 1268.09 Q785.83 1268.09 784.002 1271.65 Q782.196 1275.19 782.196 1282.32 Q782.196 1289.43 784.002 1292.99 Q785.83 1296.53 789.441 1296.53 Q793.076 1296.53 794.881 1292.99 Q796.71 1289.43 796.71 1282.32 Q796.71 1275.19 794.881 1271.65 Q793.076 1268.09 789.441 1268.09 M789.441 1264.38 Q795.252 1264.38 798.307 1268.99 Q801.386 1273.57 801.386 1282.32 Q801.386 1291.05 798.307 1295.65 Q795.252 1300.24 789.441 1300.24 Q783.631 1300.24 780.553 1295.65 Q777.497 1291.05 777.497 1282.32 Q777.497 1273.57 780.553 1268.99 Q783.631 1264.38 789.441 1264.38 Z\" fill=\"#000000\" fill-rule=\"nonzero\" fill-opacity=\"1\" /><path clip-path=\"url(#clip990)\" d=\"M837.775 1274.1 L827.196 1284.73 L837.775 1295.31 L835.02 1298.11 L824.395 1287.48 L813.77 1298.11 L811.039 1295.31 L821.594 1284.73 L811.039 1274.1 L813.77 1271.3 L824.395 1281.93 L835.02 1271.3 L837.775 1274.1 Z\" fill=\"#000000\" fill-rule=\"nonzero\" fill-opacity=\"1\" /><path clip-path=\"url(#clip990)\" d=\"M850.136 1295.63 L857.774 1295.63 L857.774 1269.27 L849.464 1270.93 L849.464 1266.67 L857.728 1265.01 L862.404 1265.01 L862.404 1295.63 L870.043 1295.63 L870.043 1299.57 L850.136 1299.57 L850.136 1295.63 Z\" fill=\"#000000\" fill-rule=\"nonzero\" fill-opacity=\"1\" /><path clip-path=\"url(#clip990)\" d=\"M889.487 1268.09 Q885.876 1268.09 884.047 1271.65 Q882.242 1275.19 882.242 1282.32 Q882.242 1289.43 884.047 1292.99 Q885.876 1296.53 889.487 1296.53 Q893.121 1296.53 894.927 1292.99 Q896.756 1289.43 896.756 1282.32 Q896.756 1275.19 894.927 1271.65 Q893.121 1268.09 889.487 1268.09 M889.487 1264.38 Q895.297 1264.38 898.353 1268.99 Q901.432 1273.57 901.432 1282.32 Q901.432 1291.05 898.353 1295.65 Q895.297 1300.24 889.487 1300.24 Q883.677 1300.24 880.598 1295.65 Q877.543 1291.05 877.543 1282.32 Q877.543 1273.57 880.598 1268.99 Q883.677 1264.38 889.487 1264.38 Z\" fill=\"#000000\" fill-rule=\"nonzero\" fill-opacity=\"1\" /><path clip-path=\"url(#clip990)\" d=\"M902.616 1244.08 L917.531 1244.08 L917.531 1247.27 L906.096 1247.27 L906.096 1254.16 Q906.923 1253.88 907.751 1253.74 Q908.579 1253.59 909.406 1253.59 Q914.108 1253.59 916.854 1256.17 Q919.6 1258.75 919.6 1263.15 Q919.6 1267.68 916.779 1270.2 Q913.958 1272.7 908.823 1272.7 Q907.055 1272.7 905.212 1272.4 Q903.388 1272.1 901.432 1271.5 L901.432 1267.68 Q903.124 1268.6 904.93 1269.05 Q906.735 1269.5 908.748 1269.5 Q912.002 1269.5 913.901 1267.79 Q915.801 1266.08 915.801 1263.15 Q915.801 1260.21 913.901 1258.5 Q912.002 1256.79 908.748 1256.79 Q907.224 1256.79 905.701 1257.13 Q904.196 1257.47 902.616 1258.18 L902.616 1244.08 Z\" fill=\"#000000\" fill-rule=\"nonzero\" fill-opacity=\"1\" /><path clip-path=\"url(#clip990)\" d=\"M1058.29 1305.12 Q1054.68 1305.12 1052.85 1308.69 Q1051.05 1312.23 1051.05 1319.36 Q1051.05 1326.47 1052.85 1330.03 Q1054.68 1333.57 1058.29 1333.57 Q1061.93 1333.57 1063.73 1330.03 Q1065.56 1326.47 1065.56 1319.36 Q1065.56 1312.23 1063.73 1308.69 Q1061.93 1305.12 1058.29 1305.12 M1058.29 1301.42 Q1064.1 1301.42 1067.16 1306.03 Q1070.24 1310.61 1070.24 1319.36 Q1070.24 1328.09 1067.16 1332.69 Q1064.1 1337.28 1058.29 1337.28 Q1052.48 1337.28 1049.4 1332.69 Q1046.35 1328.09 1046.35 1319.36 Q1046.35 1310.61 1049.4 1306.03 Q1052.48 1301.42 1058.29 1301.42 Z\" fill=\"#000000\" fill-rule=\"nonzero\" fill-opacity=\"1\" /><path clip-path=\"url(#clip990)\" d=\"M1039.51 1382.6 L1055.83 1382.6 L1055.83 1386.54 L1033.88 1386.54 L1033.88 1382.6 Q1036.55 1379.85 1041.13 1375.22 Q1045.74 1370.56 1046.92 1369.22 Q1049.16 1366.7 1050.04 1364.96 Q1050.94 1363.2 1050.94 1361.51 Q1050.94 1358.76 1049 1357.02 Q1047.08 1355.29 1043.98 1355.29 Q1041.78 1355.29 1039.32 1356.05 Q1036.89 1356.81 1034.12 1358.37 L1034.12 1353.64 Q1036.94 1352.51 1039.39 1351.93 Q1041.85 1351.35 1043.88 1351.35 Q1049.25 1351.35 1052.45 1354.04 Q1055.64 1356.72 1055.64 1361.21 Q1055.64 1363.34 1054.83 1365.26 Q1054.05 1367.16 1051.94 1369.75 Q1051.36 1370.43 1048.26 1373.64 Q1045.16 1376.84 1039.51 1382.6 Z\" fill=\"#000000\" fill-rule=\"nonzero\" fill-opacity=\"1\" /><path clip-path=\"url(#clip990)\" d=\"M1065.64 1380.66 L1070.53 1380.66 L1070.53 1386.54 L1065.64 1386.54 L1065.64 1380.66 Z\" fill=\"#000000\" fill-rule=\"nonzero\" fill-opacity=\"1\" /><path clip-path=\"url(#clip990)\" d=\"M1090.71 1355.05 Q1087.1 1355.05 1085.27 1358.62 Q1083.47 1362.16 1083.47 1369.29 Q1083.47 1376.4 1085.27 1379.96 Q1087.1 1383.5 1090.71 1383.5 Q1094.35 1383.5 1096.15 1379.96 Q1097.98 1376.4 1097.98 1369.29 Q1097.98 1362.16 1096.15 1358.62 Q1094.35 1355.05 1090.71 1355.05 M1090.71 1351.35 Q1096.52 1351.35 1099.58 1355.96 Q1102.66 1360.54 1102.66 1369.29 Q1102.66 1378.02 1099.58 1382.62 Q1096.52 1387.21 1090.71 1387.21 Q1084.9 1387.21 1081.82 1382.62 Q1078.77 1378.02 1078.77 1369.29 Q1078.77 1360.54 1081.82 1355.96 Q1084.9 1351.35 1090.71 1351.35 Z\" fill=\"#000000\" fill-rule=\"nonzero\" fill-opacity=\"1\" /><path clip-path=\"url(#clip990)\" d=\"M1139.05 1361.07 L1128.47 1371.7 L1139.05 1382.28 L1136.29 1385.08 L1125.67 1374.45 L1115.04 1385.08 L1112.31 1382.28 L1122.87 1371.7 L1112.31 1361.07 L1115.04 1358.27 L1125.67 1368.9 L1136.29 1358.27 L1139.05 1361.07 Z\" fill=\"#000000\" fill-rule=\"nonzero\" fill-opacity=\"1\" /><path clip-path=\"url(#clip990)\" d=\"M1151.41 1382.6 L1159.05 1382.6 L1159.05 1356.24 L1150.74 1357.9 L1150.74 1353.64 L1159 1351.98 L1163.68 1351.98 L1163.68 1382.6 L1171.31 1382.6 L1171.31 1386.54 L1151.41 1386.54 L1151.41 1382.6 Z\" fill=\"#000000\" fill-rule=\"nonzero\" fill-opacity=\"1\" /><path clip-path=\"url(#clip990)\" d=\"M1190.76 1355.05 Q1187.15 1355.05 1185.32 1358.62 Q1183.51 1362.16 1183.51 1369.29 Q1183.51 1376.4 1185.32 1379.96 Q1187.15 1383.5 1190.76 1383.5 Q1194.39 1383.5 1196.2 1379.96 Q1198.03 1376.4 1198.03 1369.29 Q1198.03 1362.16 1196.2 1358.62 Q1194.39 1355.05 1190.76 1355.05 M1190.76 1351.35 Q1196.57 1351.35 1199.62 1355.96 Q1202.7 1360.54 1202.7 1369.29 Q1202.7 1378.02 1199.62 1382.62 Q1196.57 1387.21 1190.76 1387.21 Q1184.95 1387.21 1181.87 1382.62 Q1178.81 1378.02 1178.81 1369.29 Q1178.81 1360.54 1181.87 1355.96 Q1184.95 1351.35 1190.76 1351.35 Z\" fill=\"#000000\" fill-rule=\"nonzero\" fill-opacity=\"1\" /><path clip-path=\"url(#clip990)\" d=\"M1203.89 1331.05 L1218.8 1331.05 L1218.8 1334.24 L1207.37 1334.24 L1207.37 1341.13 Q1208.19 1340.84 1209.02 1340.71 Q1209.85 1340.56 1210.68 1340.56 Q1215.38 1340.56 1218.13 1343.14 Q1220.87 1345.72 1220.87 1350.12 Q1220.87 1354.65 1218.05 1357.17 Q1215.23 1359.67 1210.09 1359.67 Q1208.33 1359.67 1206.48 1359.37 Q1204.66 1359.07 1202.7 1358.47 L1202.7 1354.65 Q1204.4 1355.57 1206.2 1356.02 Q1208.01 1356.47 1210.02 1356.47 Q1213.27 1356.47 1215.17 1354.76 Q1217.07 1353.05 1217.07 1350.12 Q1217.07 1347.18 1215.17 1345.47 Q1213.27 1343.76 1210.02 1343.76 Q1208.5 1343.76 1206.97 1344.1 Q1205.47 1344.44 1203.89 1345.15 L1203.89 1331.05 Z\" fill=\"#000000\" fill-rule=\"nonzero\" fill-opacity=\"1\" /><path clip-path=\"url(#clip990)\" d=\"M1198.96 1399.54 L1187.16 1417.98 L1198.96 1417.98 L1198.96 1399.54 M1197.74 1395.46 L1203.62 1395.46 L1203.62 1417.98 L1208.55 1417.98 L1208.55 1421.87 L1203.62 1421.87 L1203.62 1430.02 L1198.96 1430.02 L1198.96 1421.87 L1183.36 1421.87 L1183.36 1417.36 L1197.74 1395.46 Z\" fill=\"#000000\" fill-rule=\"nonzero\" fill-opacity=\"1\" /><path clip-path=\"url(#clip990)\" d=\"M1216.28 1424.14 L1221.16 1424.14 L1221.16 1430.02 L1216.28 1430.02 L1216.28 1424.14 Z\" fill=\"#000000\" fill-rule=\"nonzero\" fill-opacity=\"1\" /><path clip-path=\"url(#clip990)\" d=\"M1241.35 1398.54 Q1237.74 1398.54 1235.91 1402.1 Q1234.1 1405.65 1234.1 1412.78 Q1234.1 1419.88 1235.91 1423.45 Q1237.74 1426.99 1241.35 1426.99 Q1244.98 1426.99 1246.79 1423.45 Q1248.62 1419.88 1248.62 1412.78 Q1248.62 1405.65 1246.79 1402.1 Q1244.98 1398.54 1241.35 1398.54 M1241.35 1394.84 Q1247.16 1394.84 1250.21 1399.44 Q1253.29 1404.03 1253.29 1412.78 Q1253.29 1421.5 1250.21 1426.11 Q1247.16 1430.69 1241.35 1430.69 Q1235.54 1430.69 1232.46 1426.11 Q1229.4 1421.5 1229.4 1412.78 Q1229.4 1404.03 1232.46 1399.44 Q1235.54 1394.84 1241.35 1394.84 Z\" fill=\"#000000\" fill-rule=\"nonzero\" fill-opacity=\"1\" /><path clip-path=\"url(#clip990)\" d=\"M1289.68 1404.56 L1279.1 1415.18 L1289.68 1425.76 L1286.93 1428.56 L1276.3 1417.94 L1265.68 1428.56 L1262.95 1425.76 L1273.5 1415.18 L1262.95 1404.56 L1265.68 1401.76 L1276.3 1412.38 L1286.93 1401.76 L1289.68 1404.56 Z\" fill=\"#000000\" fill-rule=\"nonzero\" fill-opacity=\"1\" /><path clip-path=\"url(#clip990)\" d=\"M1302.04 1426.09 L1309.68 1426.09 L1309.68 1399.72 L1301.37 1401.39 L1301.37 1397.13 L1309.63 1395.46 L1314.31 1395.46 L1314.31 1426.09 L1321.95 1426.09 L1321.95 1430.02 L1302.04 1430.02 L1302.04 1426.09 Z\" fill=\"#000000\" fill-rule=\"nonzero\" fill-opacity=\"1\" /><path clip-path=\"url(#clip990)\" d=\"M1341.39 1398.54 Q1337.78 1398.54 1335.95 1402.1 Q1334.15 1405.65 1334.15 1412.78 Q1334.15 1419.88 1335.95 1423.45 Q1337.78 1426.99 1341.39 1426.99 Q1345.03 1426.99 1346.83 1423.45 Q1348.66 1419.88 1348.66 1412.78 Q1348.66 1405.65 1346.83 1402.1 Q1345.03 1398.54 1341.39 1398.54 M1341.39 1394.84 Q1347.2 1394.84 1350.26 1399.44 Q1353.34 1404.03 1353.34 1412.78 Q1353.34 1421.5 1350.26 1426.11 Q1347.2 1430.69 1341.39 1430.69 Q1335.58 1430.69 1332.51 1426.11 Q1329.45 1421.5 1329.45 1412.78 Q1329.45 1404.03 1332.51 1399.44 Q1335.58 1394.84 1341.39 1394.84 Z\" fill=\"#000000\" fill-rule=\"nonzero\" fill-opacity=\"1\" /><path clip-path=\"url(#clip990)\" d=\"M1354.52 1374.53 L1369.44 1374.53 L1369.44 1377.73 L1358 1377.73 L1358 1384.61 Q1358.83 1384.33 1359.66 1384.2 Q1360.49 1384.05 1361.31 1384.05 Q1366.01 1384.05 1368.76 1386.62 Q1371.51 1389.2 1371.51 1393.6 Q1371.51 1398.13 1368.69 1400.65 Q1365.86 1403.16 1360.73 1403.16 Q1358.96 1403.16 1357.12 1402.86 Q1355.29 1402.55 1353.34 1401.95 L1353.34 1398.13 Q1355.03 1399.06 1356.84 1399.51 Q1358.64 1399.96 1360.65 1399.96 Q1363.91 1399.96 1365.81 1398.25 Q1367.71 1396.54 1367.71 1393.6 Q1367.71 1390.67 1365.81 1388.96 Q1363.91 1387.24 1360.65 1387.24 Q1359.13 1387.24 1357.61 1387.58 Q1356.1 1387.92 1354.52 1388.64 L1354.52 1374.53 Z\" fill=\"#000000\" fill-rule=\"nonzero\" fill-opacity=\"1\" /><polyline clip-path=\"url(#clip992)\" style=\"stroke:#000000; stroke-linecap:round; stroke-linejoin:round; stroke-width:2; stroke-opacity:0.1; fill:none\" points=\"1486.67,1364.2 773.209,1158.24 773.209,444.784 \"/>\n",
       "<polyline clip-path=\"url(#clip992)\" style=\"stroke:#000000; stroke-linecap:round; stroke-linejoin:round; stroke-width:2; stroke-opacity:0.1; fill:none\" points=\"1569.74,1292.26 856.282,1086.3 856.282,372.842 \"/>\n",
       "<polyline clip-path=\"url(#clip992)\" style=\"stroke:#000000; stroke-linecap:round; stroke-linejoin:round; stroke-width:2; stroke-opacity:0.1; fill:none\" points=\"1652.81,1220.32 939.354,1014.36 939.354,300.899 \"/>\n",
       "<polyline clip-path=\"url(#clip992)\" style=\"stroke:#000000; stroke-linecap:round; stroke-linejoin:round; stroke-width:2; stroke-opacity:0.1; fill:none\" points=\"1735.89,1148.38 1022.43,942.417 1022.43,228.957 \"/>\n",
       "<polyline clip-path=\"url(#clip992)\" style=\"stroke:#000000; stroke-linecap:round; stroke-linejoin:round; stroke-width:2; stroke-opacity:0.1; fill:none\" points=\"1818.96,1076.43 1105.5,870.475 1105.5,157.014 \"/>\n",
       "<polyline clip-path=\"url(#clip990)\" style=\"stroke:#000000; stroke-linecap:round; stroke-linejoin:round; stroke-width:4; stroke-opacity:1; fill:none\" points=\"1446.75,1398.78 1858.66,1042.05 \"/>\n",
       "<polyline clip-path=\"url(#clip990)\" style=\"stroke:#000000; stroke-linecap:round; stroke-linejoin:round; stroke-width:4; stroke-opacity:1; fill:none\" points=\"1486.67,1364.2 1478.11,1361.73 \"/>\n",
       "<polyline clip-path=\"url(#clip990)\" style=\"stroke:#000000; stroke-linecap:round; stroke-linejoin:round; stroke-width:4; stroke-opacity:1; fill:none\" points=\"1569.74,1292.26 1561.18,1289.79 \"/>\n",
       "<polyline clip-path=\"url(#clip990)\" style=\"stroke:#000000; stroke-linecap:round; stroke-linejoin:round; stroke-width:4; stroke-opacity:1; fill:none\" points=\"1652.81,1220.32 1644.25,1217.85 \"/>\n",
       "<polyline clip-path=\"url(#clip990)\" style=\"stroke:#000000; stroke-linecap:round; stroke-linejoin:round; stroke-width:4; stroke-opacity:1; fill:none\" points=\"1735.89,1148.38 1727.32,1145.9 \"/>\n",
       "<polyline clip-path=\"url(#clip990)\" style=\"stroke:#000000; stroke-linecap:round; stroke-linejoin:round; stroke-width:4; stroke-opacity:1; fill:none\" points=\"1818.96,1076.43 1810.4,1073.96 \"/>\n",
       "<path clip-path=\"url(#clip990)\" d=\"M1511.32 1386 L1540.99 1386 L1540.99 1389.93 L1511.32 1389.93 L1511.32 1386 Z\" fill=\"#000000\" fill-rule=\"nonzero\" fill-opacity=\"1\" /><path clip-path=\"url(#clip990)\" d=\"M1563.93 1372.34 L1552.13 1390.79 L1563.93 1390.79 L1563.93 1372.34 M1562.71 1368.27 L1568.59 1368.27 L1568.59 1390.79 L1573.52 1390.79 L1573.52 1394.68 L1568.59 1394.68 L1568.59 1402.83 L1563.93 1402.83 L1563.93 1394.68 L1548.33 1394.68 L1548.33 1390.17 L1562.71 1368.27 Z\" fill=\"#000000\" fill-rule=\"nonzero\" fill-opacity=\"1\" /><path clip-path=\"url(#clip990)\" d=\"M1581.25 1396.95 L1586.13 1396.95 L1586.13 1402.83 L1581.25 1402.83 L1581.25 1396.95 Z\" fill=\"#000000\" fill-rule=\"nonzero\" fill-opacity=\"1\" /><path clip-path=\"url(#clip990)\" d=\"M1606.32 1371.35 Q1602.71 1371.35 1600.88 1374.91 Q1599.07 1378.45 1599.07 1385.58 Q1599.07 1392.69 1600.88 1396.25 Q1602.71 1399.8 1606.32 1399.8 Q1609.95 1399.8 1611.76 1396.25 Q1613.59 1392.69 1613.59 1385.58 Q1613.59 1378.45 1611.76 1374.91 Q1609.95 1371.35 1606.32 1371.35 M1606.32 1367.64 Q1612.13 1367.64 1615.18 1372.25 Q1618.26 1376.83 1618.26 1385.58 Q1618.26 1394.31 1615.18 1398.92 Q1612.13 1403.5 1606.32 1403.5 Q1600.51 1403.5 1597.43 1398.92 Q1594.37 1394.31 1594.37 1385.58 Q1594.37 1376.83 1597.43 1372.25 Q1600.51 1367.64 1606.32 1367.64 Z\" fill=\"#000000\" fill-rule=\"nonzero\" fill-opacity=\"1\" /><path clip-path=\"url(#clip990)\" d=\"M1654.65 1377.37 L1644.07 1387.99 L1654.65 1398.57 L1651.9 1401.37 L1641.27 1390.75 L1630.65 1401.37 L1627.91 1398.57 L1638.47 1387.99 L1627.91 1377.37 L1630.65 1374.56 L1641.27 1385.19 L1651.9 1374.56 L1654.65 1377.37 Z\" fill=\"#000000\" fill-rule=\"nonzero\" fill-opacity=\"1\" /><path clip-path=\"url(#clip990)\" d=\"M1667.01 1398.89 L1674.65 1398.89 L1674.65 1372.53 L1666.34 1374.19 L1666.34 1369.93 L1674.6 1368.27 L1679.28 1368.27 L1679.28 1398.89 L1686.92 1398.89 L1686.92 1402.83 L1667.01 1402.83 L1667.01 1398.89 Z\" fill=\"#000000\" fill-rule=\"nonzero\" fill-opacity=\"1\" /><path clip-path=\"url(#clip990)\" d=\"M1706.36 1371.35 Q1702.75 1371.35 1700.92 1374.91 Q1699.12 1378.45 1699.12 1385.58 Q1699.12 1392.69 1700.92 1396.25 Q1702.75 1399.8 1706.36 1399.8 Q1710 1399.8 1711.8 1396.25 Q1713.63 1392.69 1713.63 1385.58 Q1713.63 1378.45 1711.8 1374.91 Q1710 1371.35 1706.36 1371.35 M1706.36 1367.64 Q1712.17 1367.64 1715.23 1372.25 Q1718.31 1376.83 1718.31 1385.58 Q1718.31 1394.31 1715.23 1398.92 Q1712.17 1403.5 1706.36 1403.5 Q1700.55 1403.5 1697.47 1398.92 Q1694.42 1394.31 1694.42 1385.58 Q1694.42 1376.83 1697.47 1372.25 Q1700.55 1367.64 1706.36 1367.64 Z\" fill=\"#000000\" fill-rule=\"nonzero\" fill-opacity=\"1\" /><path clip-path=\"url(#clip990)\" d=\"M1719.49 1347.34 L1734.41 1347.34 L1734.41 1350.54 L1722.97 1350.54 L1722.97 1357.42 Q1723.8 1357.14 1724.63 1357.01 Q1725.45 1356.85 1726.28 1356.85 Q1730.98 1356.85 1733.73 1359.43 Q1736.48 1362.01 1736.48 1366.41 Q1736.48 1370.94 1733.65 1373.46 Q1730.83 1375.96 1725.7 1375.96 Q1723.93 1375.96 1722.09 1375.66 Q1720.26 1375.36 1718.31 1374.76 L1718.31 1370.94 Q1720 1371.86 1721.81 1372.31 Q1723.61 1372.77 1725.62 1372.77 Q1728.88 1372.77 1730.78 1371.05 Q1732.68 1369.34 1732.68 1366.41 Q1732.68 1363.47 1730.78 1361.76 Q1728.88 1360.05 1725.62 1360.05 Q1724.1 1360.05 1722.58 1360.39 Q1721.07 1360.73 1719.49 1361.44 L1719.49 1347.34 Z\" fill=\"#000000\" fill-rule=\"nonzero\" fill-opacity=\"1\" /><path clip-path=\"url(#clip990)\" d=\"M1594.39 1314.06 L1624.06 1314.06 L1624.06 1317.99 L1594.39 1317.99 L1594.39 1314.06 Z\" fill=\"#000000\" fill-rule=\"nonzero\" fill-opacity=\"1\" /><path clip-path=\"url(#clip990)\" d=\"M1648.32 1312.25 Q1651.68 1312.97 1653.56 1315.24 Q1655.45 1317.51 1655.45 1320.84 Q1655.45 1325.96 1651.94 1328.76 Q1648.42 1331.56 1641.94 1331.56 Q1639.76 1331.56 1637.44 1331.12 Q1635.15 1330.7 1632.7 1329.84 L1632.7 1325.33 Q1634.64 1326.46 1636.96 1327.04 Q1639.27 1327.62 1641.8 1327.62 Q1646.19 1327.62 1648.49 1325.89 Q1650.8 1324.15 1650.8 1320.84 Q1650.8 1317.78 1648.65 1316.07 Q1646.52 1314.33 1642.7 1314.33 L1638.67 1314.33 L1638.67 1310.49 L1642.88 1310.49 Q1646.33 1310.49 1648.16 1309.13 Q1649.99 1307.74 1649.99 1305.15 Q1649.99 1302.48 1648.09 1301.07 Q1646.22 1299.64 1642.7 1299.64 Q1640.78 1299.64 1638.58 1300.05 Q1636.38 1300.47 1633.74 1301.35 L1633.74 1297.18 Q1636.4 1296.44 1638.72 1296.07 Q1641.06 1295.7 1643.12 1295.7 Q1648.44 1295.7 1651.54 1298.13 Q1654.64 1300.54 1654.64 1304.66 Q1654.64 1307.53 1653 1309.52 Q1651.36 1311.49 1648.32 1312.25 Z\" fill=\"#000000\" fill-rule=\"nonzero\" fill-opacity=\"1\" /><path clip-path=\"url(#clip990)\" d=\"M1664.32 1325.01 L1669.2 1325.01 L1669.2 1330.89 L1664.32 1330.89 L1664.32 1325.01 Z\" fill=\"#000000\" fill-rule=\"nonzero\" fill-opacity=\"1\" /><path clip-path=\"url(#clip990)\" d=\"M1689.39 1299.4 Q1685.78 1299.4 1683.95 1302.97 Q1682.14 1306.51 1682.14 1313.64 Q1682.14 1320.75 1683.95 1324.31 Q1685.78 1327.85 1689.39 1327.85 Q1693.02 1327.85 1694.83 1324.31 Q1696.66 1320.75 1696.66 1313.64 Q1696.66 1306.51 1694.83 1302.97 Q1693.02 1299.4 1689.39 1299.4 M1689.39 1295.7 Q1695.2 1295.7 1698.25 1300.31 Q1701.33 1304.89 1701.33 1313.64 Q1701.33 1322.37 1698.25 1326.97 Q1695.2 1331.56 1689.39 1331.56 Q1683.58 1331.56 1680.5 1326.97 Q1677.44 1322.37 1677.44 1313.64 Q1677.44 1304.89 1680.5 1300.31 Q1683.58 1295.7 1689.39 1295.7 Z\" fill=\"#000000\" fill-rule=\"nonzero\" fill-opacity=\"1\" /><path clip-path=\"url(#clip990)\" d=\"M1737.72 1305.42 L1727.14 1316.05 L1737.72 1326.63 L1734.97 1329.43 L1724.34 1318.8 L1713.72 1329.43 L1710.99 1326.63 L1721.54 1316.05 L1710.99 1305.42 L1713.72 1302.62 L1724.34 1313.25 L1734.97 1302.62 L1737.72 1305.42 Z\" fill=\"#000000\" fill-rule=\"nonzero\" fill-opacity=\"1\" /><path clip-path=\"url(#clip990)\" d=\"M1750.08 1326.95 L1757.72 1326.95 L1757.72 1300.59 L1749.41 1302.25 L1749.41 1297.99 L1757.68 1296.33 L1762.35 1296.33 L1762.35 1326.95 L1769.99 1326.95 L1769.99 1330.89 L1750.08 1330.89 L1750.08 1326.95 Z\" fill=\"#000000\" fill-rule=\"nonzero\" fill-opacity=\"1\" /><path clip-path=\"url(#clip990)\" d=\"M1789.43 1299.4 Q1785.82 1299.4 1783.99 1302.97 Q1782.19 1306.51 1782.19 1313.64 Q1782.19 1320.75 1783.99 1324.31 Q1785.82 1327.85 1789.43 1327.85 Q1793.07 1327.85 1794.87 1324.31 Q1796.7 1320.75 1796.7 1313.64 Q1796.7 1306.51 1794.87 1302.97 Q1793.07 1299.4 1789.43 1299.4 M1789.43 1295.7 Q1795.24 1295.7 1798.3 1300.31 Q1801.38 1304.89 1801.38 1313.64 Q1801.38 1322.37 1798.3 1326.97 Q1795.24 1331.56 1789.43 1331.56 Q1783.62 1331.56 1780.55 1326.97 Q1777.49 1322.37 1777.49 1313.64 Q1777.49 1304.89 1780.55 1300.31 Q1783.62 1295.7 1789.43 1295.7 Z\" fill=\"#000000\" fill-rule=\"nonzero\" fill-opacity=\"1\" /><path clip-path=\"url(#clip990)\" d=\"M1802.56 1275.4 L1817.48 1275.4 L1817.48 1278.59 L1806.04 1278.59 L1806.04 1285.48 Q1806.87 1285.19 1807.7 1285.06 Q1808.53 1284.91 1809.35 1284.91 Q1814.06 1284.91 1816.8 1287.49 Q1819.55 1290.07 1819.55 1294.47 Q1819.55 1299 1816.73 1301.52 Q1813.9 1304.02 1808.77 1304.02 Q1807 1304.02 1805.16 1303.72 Q1803.33 1303.42 1801.38 1302.82 L1801.38 1299 Q1803.07 1299.92 1804.88 1300.37 Q1806.68 1300.82 1808.7 1300.82 Q1811.95 1300.82 1813.85 1299.11 Q1815.75 1297.4 1815.75 1294.47 Q1815.75 1291.53 1813.85 1289.82 Q1811.95 1288.11 1808.7 1288.11 Q1807.17 1288.11 1805.65 1288.45 Q1804.14 1288.79 1802.56 1289.5 L1802.56 1275.4 Z\" fill=\"#000000\" fill-rule=\"nonzero\" fill-opacity=\"1\" /><path clip-path=\"url(#clip990)\" d=\"M1677.46 1242.11 L1707.14 1242.11 L1707.14 1246.05 L1677.46 1246.05 L1677.46 1242.11 Z\" fill=\"#000000\" fill-rule=\"nonzero\" fill-opacity=\"1\" /><path clip-path=\"url(#clip990)\" d=\"M1721.26 1255.01 L1737.58 1255.01 L1737.58 1258.94 L1715.63 1258.94 L1715.63 1255.01 Q1718.29 1252.25 1722.88 1247.62 Q1727.48 1242.97 1728.66 1241.63 Q1730.91 1239.11 1731.79 1237.37 Q1732.69 1235.61 1732.69 1233.92 Q1732.69 1231.17 1730.75 1229.43 Q1728.83 1227.69 1725.72 1227.69 Q1723.53 1227.69 1721.07 1228.46 Q1718.64 1229.22 1715.86 1230.77 L1715.86 1226.05 Q1718.69 1224.92 1721.14 1224.34 Q1723.6 1223.76 1725.63 1223.76 Q1731 1223.76 1734.2 1226.44 Q1737.39 1229.13 1737.39 1233.62 Q1737.39 1235.75 1736.58 1237.67 Q1735.79 1239.57 1733.69 1242.16 Q1733.11 1242.83 1730.01 1246.05 Q1726.91 1249.24 1721.26 1255.01 Z\" fill=\"#000000\" fill-rule=\"nonzero\" fill-opacity=\"1\" /><path clip-path=\"url(#clip990)\" d=\"M1747.39 1253.06 L1752.28 1253.06 L1752.28 1258.94 L1747.39 1258.94 L1747.39 1253.06 Z\" fill=\"#000000\" fill-rule=\"nonzero\" fill-opacity=\"1\" /><path clip-path=\"url(#clip990)\" d=\"M1772.46 1227.46 Q1768.85 1227.46 1767.02 1231.03 Q1765.22 1234.57 1765.22 1241.7 Q1765.22 1248.8 1767.02 1252.37 Q1768.85 1255.91 1772.46 1255.91 Q1776.09 1255.91 1777.9 1252.37 Q1779.73 1248.8 1779.73 1241.7 Q1779.73 1234.57 1777.9 1231.03 Q1776.09 1227.46 1772.46 1227.46 M1772.46 1223.76 Q1778.27 1223.76 1781.33 1228.36 Q1784.41 1232.95 1784.41 1241.7 Q1784.41 1250.42 1781.33 1255.03 Q1778.27 1259.61 1772.46 1259.61 Q1766.65 1259.61 1763.57 1255.03 Q1760.52 1250.42 1760.52 1241.7 Q1760.52 1232.95 1763.57 1228.36 Q1766.65 1223.76 1772.46 1223.76 Z\" fill=\"#000000\" fill-rule=\"nonzero\" fill-opacity=\"1\" /><path clip-path=\"url(#clip990)\" d=\"M1820.79 1233.48 L1810.22 1244.11 L1820.79 1254.68 L1818.04 1257.49 L1807.41 1246.86 L1796.79 1257.49 L1794.06 1254.68 L1804.61 1244.11 L1794.06 1233.48 L1796.79 1230.68 L1807.41 1241.3 L1818.04 1230.68 L1820.79 1233.48 Z\" fill=\"#000000\" fill-rule=\"nonzero\" fill-opacity=\"1\" /><path clip-path=\"url(#clip990)\" d=\"M1833.15 1255.01 L1840.79 1255.01 L1840.79 1228.64 L1832.48 1230.31 L1832.48 1226.05 L1840.75 1224.38 L1845.42 1224.38 L1845.42 1255.01 L1853.06 1255.01 L1853.06 1258.94 L1833.15 1258.94 L1833.15 1255.01 Z\" fill=\"#000000\" fill-rule=\"nonzero\" fill-opacity=\"1\" /><path clip-path=\"url(#clip990)\" d=\"M1872.51 1227.46 Q1868.9 1227.46 1867.07 1231.03 Q1865.26 1234.57 1865.26 1241.7 Q1865.26 1248.8 1867.07 1252.37 Q1868.9 1255.91 1872.51 1255.91 Q1876.14 1255.91 1877.95 1252.37 Q1879.77 1248.8 1879.77 1241.7 Q1879.77 1234.57 1877.95 1231.03 Q1876.14 1227.46 1872.51 1227.46 M1872.51 1223.76 Q1878.32 1223.76 1881.37 1228.36 Q1884.45 1232.95 1884.45 1241.7 Q1884.45 1250.42 1881.37 1255.03 Q1878.32 1259.61 1872.51 1259.61 Q1866.7 1259.61 1863.62 1255.03 Q1860.56 1250.42 1860.56 1241.7 Q1860.56 1232.95 1863.62 1228.36 Q1866.7 1223.76 1872.51 1223.76 Z\" fill=\"#000000\" fill-rule=\"nonzero\" fill-opacity=\"1\" /><path clip-path=\"url(#clip990)\" d=\"M1885.64 1203.45 L1900.55 1203.45 L1900.55 1206.65 L1889.12 1206.65 L1889.12 1213.53 Q1889.94 1213.25 1890.77 1213.12 Q1891.6 1212.97 1892.43 1212.97 Q1897.13 1212.97 1899.87 1215.55 Q1902.62 1218.12 1902.62 1222.52 Q1902.62 1227.06 1899.8 1229.58 Q1896.98 1232.08 1891.84 1232.08 Q1890.07 1232.08 1888.23 1231.78 Q1886.41 1231.48 1884.45 1230.87 L1884.45 1227.06 Q1886.14 1227.98 1887.95 1228.43 Q1889.75 1228.88 1891.77 1228.88 Q1895.02 1228.88 1896.92 1227.17 Q1898.82 1225.46 1898.82 1222.52 Q1898.82 1219.59 1896.92 1217.88 Q1895.02 1216.17 1891.77 1216.17 Q1890.24 1216.17 1888.72 1216.51 Q1887.22 1216.84 1885.64 1217.56 L1885.64 1203.45 Z\" fill=\"#000000\" fill-rule=\"nonzero\" fill-opacity=\"1\" /><path clip-path=\"url(#clip990)\" d=\"M1760.53 1170.17 L1790.21 1170.17 L1790.21 1174.11 L1760.53 1174.11 L1760.53 1170.17 Z\" fill=\"#000000\" fill-rule=\"nonzero\" fill-opacity=\"1\" /><path clip-path=\"url(#clip990)\" d=\"M1801.11 1183.07 L1808.75 1183.07 L1808.75 1156.7 L1800.44 1158.37 L1800.44 1154.11 L1808.7 1152.44 L1813.38 1152.44 L1813.38 1183.07 L1821.02 1183.07 L1821.02 1187 L1801.11 1187 L1801.11 1183.07 Z\" fill=\"#000000\" fill-rule=\"nonzero\" fill-opacity=\"1\" /><path clip-path=\"url(#clip990)\" d=\"M1830.46 1181.12 L1835.35 1181.12 L1835.35 1187 L1830.46 1187 L1830.46 1181.12 Z\" fill=\"#000000\" fill-rule=\"nonzero\" fill-opacity=\"1\" /><path clip-path=\"url(#clip990)\" d=\"M1855.53 1155.52 Q1851.92 1155.52 1850.09 1159.08 Q1848.29 1162.63 1848.29 1169.76 Q1848.29 1176.86 1850.09 1180.43 Q1851.92 1183.97 1855.53 1183.97 Q1859.17 1183.97 1860.97 1180.43 Q1862.8 1176.86 1862.8 1169.76 Q1862.8 1162.63 1860.97 1159.08 Q1859.17 1155.52 1855.53 1155.52 M1855.53 1151.82 Q1861.34 1151.82 1864.4 1156.42 Q1867.48 1161.01 1867.48 1169.76 Q1867.48 1178.48 1864.4 1183.09 Q1861.34 1187.67 1855.53 1187.67 Q1849.72 1187.67 1846.64 1183.09 Q1843.59 1178.48 1843.59 1169.76 Q1843.59 1161.01 1846.64 1156.42 Q1849.72 1151.82 1855.53 1151.82 Z\" fill=\"#000000\" fill-rule=\"nonzero\" fill-opacity=\"1\" /><path clip-path=\"url(#clip990)\" d=\"M1903.87 1161.54 L1893.29 1172.16 L1903.87 1182.74 L1901.11 1185.54 L1890.49 1174.92 L1879.86 1185.54 L1877.13 1182.74 L1887.69 1172.16 L1877.13 1161.54 L1879.86 1158.74 L1890.49 1169.36 L1901.11 1158.74 L1903.87 1161.54 Z\" fill=\"#000000\" fill-rule=\"nonzero\" fill-opacity=\"1\" /><path clip-path=\"url(#clip990)\" d=\"M1916.23 1183.07 L1923.87 1183.07 L1923.87 1156.7 L1915.56 1158.37 L1915.56 1154.11 L1923.82 1152.44 L1928.5 1152.44 L1928.5 1183.07 L1936.13 1183.07 L1936.13 1187 L1916.23 1187 L1916.23 1183.07 Z\" fill=\"#000000\" fill-rule=\"nonzero\" fill-opacity=\"1\" /><path clip-path=\"url(#clip990)\" d=\"M1955.58 1155.52 Q1951.97 1155.52 1950.14 1159.08 Q1948.33 1162.63 1948.33 1169.76 Q1948.33 1176.86 1950.14 1180.43 Q1951.97 1183.97 1955.58 1183.97 Q1959.21 1183.97 1961.02 1180.43 Q1962.85 1176.86 1962.85 1169.76 Q1962.85 1162.63 1961.02 1159.08 Q1959.21 1155.52 1955.58 1155.52 M1955.58 1151.82 Q1961.39 1151.82 1964.44 1156.42 Q1967.52 1161.01 1967.52 1169.76 Q1967.52 1178.48 1964.44 1183.09 Q1961.39 1187.67 1955.58 1187.67 Q1949.77 1187.67 1946.69 1183.09 Q1943.63 1178.48 1943.63 1169.76 Q1943.63 1161.01 1946.69 1156.42 Q1949.77 1151.82 1955.58 1151.82 Z\" fill=\"#000000\" fill-rule=\"nonzero\" fill-opacity=\"1\" /><path clip-path=\"url(#clip990)\" d=\"M1968.71 1131.51 L1983.62 1131.51 L1983.62 1134.71 L1972.19 1134.71 L1972.19 1141.59 Q1973.01 1141.31 1973.84 1141.18 Q1974.67 1141.03 1975.5 1141.03 Q1980.2 1141.03 1982.95 1143.6 Q1985.69 1146.18 1985.69 1150.58 Q1985.69 1155.11 1982.87 1157.63 Q1980.05 1160.14 1974.91 1160.14 Q1973.15 1160.14 1971.3 1159.83 Q1969.48 1159.53 1967.52 1158.93 L1967.52 1155.11 Q1969.22 1156.04 1971.02 1156.49 Q1972.83 1156.94 1974.84 1156.94 Q1978.09 1156.94 1979.99 1155.23 Q1981.89 1153.52 1981.89 1150.58 Q1981.89 1147.65 1979.99 1145.94 Q1978.09 1144.22 1974.84 1144.22 Q1973.32 1144.22 1971.79 1144.56 Q1970.29 1144.9 1968.71 1145.62 L1968.71 1131.51 Z\" fill=\"#000000\" fill-rule=\"nonzero\" fill-opacity=\"1\" /><path clip-path=\"url(#clip990)\" d=\"M1855.55 1077.13 Q1851.94 1077.13 1850.11 1080.69 Q1848.3 1084.24 1848.3 1091.37 Q1848.3 1098.47 1850.11 1102.04 Q1851.94 1105.58 1855.55 1105.58 Q1859.18 1105.58 1860.99 1102.04 Q1862.82 1098.47 1862.82 1091.37 Q1862.82 1084.24 1860.99 1080.69 Q1859.18 1077.13 1855.55 1077.13 M1855.55 1073.43 Q1861.36 1073.43 1864.42 1078.03 Q1867.49 1082.62 1867.49 1091.37 Q1867.49 1100.09 1864.42 1104.7 Q1861.36 1109.28 1855.55 1109.28 Q1849.74 1109.28 1846.66 1104.7 Q1843.61 1100.09 1843.61 1091.37 Q1843.61 1082.62 1846.66 1078.03 Q1849.74 1073.43 1855.55 1073.43 Z\" fill=\"#000000\" fill-rule=\"nonzero\" fill-opacity=\"1\" /><polyline clip-path=\"url(#clip992)\" style=\"stroke:#000000; stroke-linecap:round; stroke-linejoin:round; stroke-width:2; stroke-opacity:0.1; fill:none\" points=\"733.285,1153.09 1145.2,796.361 1858.66,1002.32 \"/>\n",
       "<polyline clip-path=\"url(#clip992)\" style=\"stroke:#000000; stroke-linecap:round; stroke-linejoin:round; stroke-width:2; stroke-opacity:0.1; fill:none\" points=\"733.285,1029.47 1145.2,672.743 1858.66,878.701 \"/>\n",
       "<polyline clip-path=\"url(#clip992)\" style=\"stroke:#000000; stroke-linecap:round; stroke-linejoin:round; stroke-width:2; stroke-opacity:0.1; fill:none\" points=\"733.285,905.856 1145.2,549.126 1858.66,755.084 \"/>\n",
       "<polyline clip-path=\"url(#clip992)\" style=\"stroke:#000000; stroke-linecap:round; stroke-linejoin:round; stroke-width:2; stroke-opacity:0.1; fill:none\" points=\"733.285,782.238 1145.2,425.508 1858.66,631.466 \"/>\n",
       "<polyline clip-path=\"url(#clip992)\" style=\"stroke:#000000; stroke-linecap:round; stroke-linejoin:round; stroke-width:2; stroke-opacity:0.1; fill:none\" points=\"733.285,658.621 1145.2,301.89 1858.66,507.849 \"/>\n",
       "<polyline clip-path=\"url(#clip992)\" style=\"stroke:#000000; stroke-linecap:round; stroke-linejoin:round; stroke-width:2; stroke-opacity:0.1; fill:none\" points=\"733.285,535.003 1145.2,178.273 1858.66,384.231 \"/>\n",
       "<polyline clip-path=\"url(#clip990)\" style=\"stroke:#000000; stroke-linecap:round; stroke-linejoin:round; stroke-width:4; stroke-opacity:1; fill:none\" points=\"733.285,1192.82 733.285,479.36 \"/>\n",
       "<polyline clip-path=\"url(#clip990)\" style=\"stroke:#000000; stroke-linecap:round; stroke-linejoin:round; stroke-width:4; stroke-opacity:1; fill:none\" points=\"733.285,1153.09 738.228,1148.81 \"/>\n",
       "<polyline clip-path=\"url(#clip990)\" style=\"stroke:#000000; stroke-linecap:round; stroke-linejoin:round; stroke-width:4; stroke-opacity:1; fill:none\" points=\"733.285,1029.47 738.228,1025.19 \"/>\n",
       "<polyline clip-path=\"url(#clip990)\" style=\"stroke:#000000; stroke-linecap:round; stroke-linejoin:round; stroke-width:4; stroke-opacity:1; fill:none\" points=\"733.285,905.856 738.228,901.575 \"/>\n",
       "<polyline clip-path=\"url(#clip990)\" style=\"stroke:#000000; stroke-linecap:round; stroke-linejoin:round; stroke-width:4; stroke-opacity:1; fill:none\" points=\"733.285,782.238 738.228,777.957 \"/>\n",
       "<polyline clip-path=\"url(#clip990)\" style=\"stroke:#000000; stroke-linecap:round; stroke-linejoin:round; stroke-width:4; stroke-opacity:1; fill:none\" points=\"733.285,658.621 738.228,654.34 \"/>\n",
       "<polyline clip-path=\"url(#clip990)\" style=\"stroke:#000000; stroke-linecap:round; stroke-linejoin:round; stroke-width:4; stroke-opacity:1; fill:none\" points=\"733.285,535.003 738.228,530.722 \"/>\n",
       "<path clip-path=\"url(#clip990)\" d=\"M552.286 1153.54 L581.962 1153.54 L581.962 1157.48 L552.286 1157.48 L552.286 1153.54 Z\" fill=\"#000000\" fill-rule=\"nonzero\" fill-opacity=\"1\" /><path clip-path=\"url(#clip990)\" d=\"M606.221 1151.74 Q609.578 1152.45 611.453 1154.72 Q613.351 1156.99 613.351 1160.32 Q613.351 1165.44 609.832 1168.24 Q606.314 1171.04 599.833 1171.04 Q597.657 1171.04 595.342 1170.6 Q593.05 1170.19 590.596 1169.33 L590.596 1164.82 Q592.541 1165.95 594.856 1166.53 Q597.171 1167.11 599.694 1167.11 Q604.092 1167.11 606.383 1165.37 Q608.698 1163.63 608.698 1160.32 Q608.698 1157.27 606.545 1155.56 Q604.416 1153.82 600.596 1153.82 L596.569 1153.82 L596.569 1149.98 L600.782 1149.98 Q604.231 1149.98 606.059 1148.61 Q607.888 1147.22 607.888 1144.63 Q607.888 1141.97 605.99 1140.56 Q604.115 1139.12 600.596 1139.12 Q598.675 1139.12 596.476 1139.54 Q594.277 1139.95 591.638 1140.83 L591.638 1136.67 Q594.3 1135.93 596.615 1135.56 Q598.953 1135.19 601.013 1135.19 Q606.337 1135.19 609.439 1137.62 Q612.541 1140.02 612.541 1144.14 Q612.541 1147.01 610.897 1149.01 Q609.254 1150.97 606.221 1151.74 Z\" fill=\"#000000\" fill-rule=\"nonzero\" fill-opacity=\"1\" /><path clip-path=\"url(#clip990)\" d=\"M632.217 1138.89 Q628.606 1138.89 626.777 1142.45 Q624.971 1146 624.971 1153.13 Q624.971 1160.23 626.777 1163.8 Q628.606 1167.34 632.217 1167.34 Q635.851 1167.34 637.656 1163.8 Q639.485 1160.23 639.485 1153.13 Q639.485 1146 637.656 1142.45 Q635.851 1138.89 632.217 1138.89 M632.217 1135.19 Q638.027 1135.19 641.082 1139.79 Q644.161 1144.38 644.161 1153.13 Q644.161 1161.85 641.082 1166.46 Q638.027 1171.04 632.217 1171.04 Q626.406 1171.04 623.328 1166.46 Q620.272 1161.85 620.272 1153.13 Q620.272 1144.38 623.328 1139.79 Q626.406 1135.19 632.217 1135.19 Z\" fill=\"#000000\" fill-rule=\"nonzero\" fill-opacity=\"1\" /><path clip-path=\"url(#clip990)\" d=\"M662.378 1138.89 Q658.767 1138.89 656.939 1142.45 Q655.133 1146 655.133 1153.13 Q655.133 1160.23 656.939 1163.8 Q658.767 1167.34 662.378 1167.34 Q666.013 1167.34 667.818 1163.8 Q669.647 1160.23 669.647 1153.13 Q669.647 1146 667.818 1142.45 Q666.013 1138.89 662.378 1138.89 M662.378 1135.19 Q668.189 1135.19 671.244 1139.79 Q674.323 1144.38 674.323 1153.13 Q674.323 1161.85 671.244 1166.46 Q668.189 1171.04 662.378 1171.04 Q656.568 1171.04 653.49 1166.46 Q650.434 1161.85 650.434 1153.13 Q650.434 1144.38 653.49 1139.79 Q656.568 1135.19 662.378 1135.19 Z\" fill=\"#000000\" fill-rule=\"nonzero\" fill-opacity=\"1\" /><path clip-path=\"url(#clip990)\" d=\"M692.54 1138.89 Q688.929 1138.89 687.101 1142.45 Q685.295 1146 685.295 1153.13 Q685.295 1160.23 687.101 1163.8 Q688.929 1167.34 692.54 1167.34 Q696.175 1167.34 697.98 1163.8 Q699.809 1160.23 699.809 1153.13 Q699.809 1146 697.98 1142.45 Q696.175 1138.89 692.54 1138.89 M692.54 1135.19 Q698.351 1135.19 701.406 1139.79 Q704.485 1144.38 704.485 1153.13 Q704.485 1161.85 701.406 1166.46 Q698.351 1171.04 692.54 1171.04 Q686.73 1171.04 683.652 1166.46 Q680.596 1161.85 680.596 1153.13 Q680.596 1144.38 683.652 1139.79 Q686.73 1135.19 692.54 1135.19 Z\" fill=\"#000000\" fill-rule=\"nonzero\" fill-opacity=\"1\" /><path clip-path=\"url(#clip990)\" d=\"M552.286 1029.92 L581.962 1029.92 L581.962 1033.86 L552.286 1033.86 L552.286 1029.92 Z\" fill=\"#000000\" fill-rule=\"nonzero\" fill-opacity=\"1\" /><path clip-path=\"url(#clip990)\" d=\"M596.083 1042.82 L612.402 1042.82 L612.402 1046.75 L590.458 1046.75 L590.458 1042.82 Q593.12 1040.06 597.703 1035.43 Q602.309 1030.78 603.49 1029.44 Q605.735 1026.92 606.615 1025.18 Q607.518 1023.42 607.518 1021.73 Q607.518 1018.98 605.573 1017.24 Q603.652 1015.5 600.55 1015.5 Q598.351 1015.5 595.897 1016.27 Q593.467 1017.03 590.689 1018.58 L590.689 1013.86 Q593.513 1012.73 595.967 1012.15 Q598.421 1011.57 600.458 1011.57 Q605.828 1011.57 609.022 1014.25 Q612.217 1016.94 612.217 1021.43 Q612.217 1023.56 611.407 1025.48 Q610.62 1027.38 608.513 1029.97 Q607.934 1030.64 604.833 1033.86 Q601.731 1037.05 596.083 1042.82 Z\" fill=\"#000000\" fill-rule=\"nonzero\" fill-opacity=\"1\" /><path clip-path=\"url(#clip990)\" d=\"M632.217 1015.27 Q628.606 1015.27 626.777 1018.84 Q624.971 1022.38 624.971 1029.51 Q624.971 1036.61 626.777 1040.18 Q628.606 1043.72 632.217 1043.72 Q635.851 1043.72 637.656 1040.18 Q639.485 1036.61 639.485 1029.51 Q639.485 1022.38 637.656 1018.84 Q635.851 1015.27 632.217 1015.27 M632.217 1011.57 Q638.027 1011.57 641.082 1016.17 Q644.161 1020.76 644.161 1029.51 Q644.161 1038.23 641.082 1042.84 Q638.027 1047.42 632.217 1047.42 Q626.406 1047.42 623.328 1042.84 Q620.272 1038.23 620.272 1029.51 Q620.272 1020.76 623.328 1016.17 Q626.406 1011.57 632.217 1011.57 Z\" fill=\"#000000\" fill-rule=\"nonzero\" fill-opacity=\"1\" /><path clip-path=\"url(#clip990)\" d=\"M662.378 1015.27 Q658.767 1015.27 656.939 1018.84 Q655.133 1022.38 655.133 1029.51 Q655.133 1036.61 656.939 1040.18 Q658.767 1043.72 662.378 1043.72 Q666.013 1043.72 667.818 1040.18 Q669.647 1036.61 669.647 1029.51 Q669.647 1022.38 667.818 1018.84 Q666.013 1015.27 662.378 1015.27 M662.378 1011.57 Q668.189 1011.57 671.244 1016.17 Q674.323 1020.76 674.323 1029.51 Q674.323 1038.23 671.244 1042.84 Q668.189 1047.42 662.378 1047.42 Q656.568 1047.42 653.49 1042.84 Q650.434 1038.23 650.434 1029.51 Q650.434 1020.76 653.49 1016.17 Q656.568 1011.57 662.378 1011.57 Z\" fill=\"#000000\" fill-rule=\"nonzero\" fill-opacity=\"1\" /><path clip-path=\"url(#clip990)\" d=\"M692.54 1015.27 Q688.929 1015.27 687.101 1018.84 Q685.295 1022.38 685.295 1029.51 Q685.295 1036.61 687.101 1040.18 Q688.929 1043.72 692.54 1043.72 Q696.175 1043.72 697.98 1040.18 Q699.809 1036.61 699.809 1029.51 Q699.809 1022.38 697.98 1018.84 Q696.175 1015.27 692.54 1015.27 M692.54 1011.57 Q698.351 1011.57 701.406 1016.17 Q704.485 1020.76 704.485 1029.51 Q704.485 1038.23 701.406 1042.84 Q698.351 1047.42 692.54 1047.42 Q686.73 1047.42 683.652 1042.84 Q680.596 1038.23 680.596 1029.51 Q680.596 1020.76 683.652 1016.17 Q686.73 1011.57 692.54 1011.57 Z\" fill=\"#000000\" fill-rule=\"nonzero\" fill-opacity=\"1\" /><path clip-path=\"url(#clip990)\" d=\"M552.286 906.307 L581.962 906.307 L581.962 910.242 L552.286 910.242 L552.286 906.307 Z\" fill=\"#000000\" fill-rule=\"nonzero\" fill-opacity=\"1\" /><path clip-path=\"url(#clip990)\" d=\"M592.865 919.201 L600.504 919.201 L600.504 892.835 L592.194 894.502 L592.194 890.242 L600.458 888.576 L605.133 888.576 L605.133 919.201 L612.772 919.201 L612.772 923.136 L592.865 923.136 L592.865 919.201 Z\" fill=\"#000000\" fill-rule=\"nonzero\" fill-opacity=\"1\" /><path clip-path=\"url(#clip990)\" d=\"M632.217 891.654 Q628.606 891.654 626.777 895.219 Q624.971 898.761 624.971 905.89 Q624.971 912.997 626.777 916.562 Q628.606 920.103 632.217 920.103 Q635.851 920.103 637.656 916.562 Q639.485 912.997 639.485 905.89 Q639.485 898.761 637.656 895.219 Q635.851 891.654 632.217 891.654 M632.217 887.951 Q638.027 887.951 641.082 892.557 Q644.161 897.14 644.161 905.89 Q644.161 914.617 641.082 919.224 Q638.027 923.807 632.217 923.807 Q626.406 923.807 623.328 919.224 Q620.272 914.617 620.272 905.89 Q620.272 897.14 623.328 892.557 Q626.406 887.951 632.217 887.951 Z\" fill=\"#000000\" fill-rule=\"nonzero\" fill-opacity=\"1\" /><path clip-path=\"url(#clip990)\" d=\"M662.378 891.654 Q658.767 891.654 656.939 895.219 Q655.133 898.761 655.133 905.89 Q655.133 912.997 656.939 916.562 Q658.767 920.103 662.378 920.103 Q666.013 920.103 667.818 916.562 Q669.647 912.997 669.647 905.89 Q669.647 898.761 667.818 895.219 Q666.013 891.654 662.378 891.654 M662.378 887.951 Q668.189 887.951 671.244 892.557 Q674.323 897.14 674.323 905.89 Q674.323 914.617 671.244 919.224 Q668.189 923.807 662.378 923.807 Q656.568 923.807 653.49 919.224 Q650.434 914.617 650.434 905.89 Q650.434 897.14 653.49 892.557 Q656.568 887.951 662.378 887.951 Z\" fill=\"#000000\" fill-rule=\"nonzero\" fill-opacity=\"1\" /><path clip-path=\"url(#clip990)\" d=\"M692.54 891.654 Q688.929 891.654 687.101 895.219 Q685.295 898.761 685.295 905.89 Q685.295 912.997 687.101 916.562 Q688.929 920.103 692.54 920.103 Q696.175 920.103 697.98 916.562 Q699.809 912.997 699.809 905.89 Q699.809 898.761 697.98 895.219 Q696.175 891.654 692.54 891.654 M692.54 887.951 Q698.351 887.951 701.406 892.557 Q704.485 897.14 704.485 905.89 Q704.485 914.617 701.406 919.224 Q698.351 923.807 692.54 923.807 Q686.73 923.807 683.652 919.224 Q680.596 914.617 680.596 905.89 Q680.596 897.14 683.652 892.557 Q686.73 887.951 692.54 887.951 Z\" fill=\"#000000\" fill-rule=\"nonzero\" fill-opacity=\"1\" /><path clip-path=\"url(#clip990)\" d=\"M692.54 768.037 Q688.929 768.037 687.101 771.602 Q685.295 775.143 685.295 782.273 Q685.295 789.379 687.101 792.944 Q688.929 796.486 692.54 796.486 Q696.175 796.486 697.98 792.944 Q699.809 789.379 699.809 782.273 Q699.809 775.143 697.98 771.602 Q696.175 768.037 692.54 768.037 M692.54 764.333 Q698.351 764.333 701.406 768.94 Q704.485 773.523 704.485 782.273 Q704.485 791 701.406 795.606 Q698.351 800.189 692.54 800.189 Q686.73 800.189 683.652 795.606 Q680.596 791 680.596 782.273 Q680.596 773.523 683.652 768.94 Q686.73 764.333 692.54 764.333 Z\" fill=\"#000000\" fill-rule=\"nonzero\" fill-opacity=\"1\" /><path clip-path=\"url(#clip990)\" d=\"M592.865 671.965 L600.504 671.965 L600.504 645.6 L592.194 647.266 L592.194 643.007 L600.458 641.341 L605.133 641.341 L605.133 671.965 L612.772 671.965 L612.772 675.901 L592.865 675.901 L592.865 671.965 Z\" fill=\"#000000\" fill-rule=\"nonzero\" fill-opacity=\"1\" /><path clip-path=\"url(#clip990)\" d=\"M632.217 644.419 Q628.606 644.419 626.777 647.984 Q624.971 651.526 624.971 658.655 Q624.971 665.762 626.777 669.326 Q628.606 672.868 632.217 672.868 Q635.851 672.868 637.656 669.326 Q639.485 665.762 639.485 658.655 Q639.485 651.526 637.656 647.984 Q635.851 644.419 632.217 644.419 M632.217 640.716 Q638.027 640.716 641.082 645.322 Q644.161 649.905 644.161 658.655 Q644.161 667.382 641.082 671.988 Q638.027 676.572 632.217 676.572 Q626.406 676.572 623.328 671.988 Q620.272 667.382 620.272 658.655 Q620.272 649.905 623.328 645.322 Q626.406 640.716 632.217 640.716 Z\" fill=\"#000000\" fill-rule=\"nonzero\" fill-opacity=\"1\" /><path clip-path=\"url(#clip990)\" d=\"M662.378 644.419 Q658.767 644.419 656.939 647.984 Q655.133 651.526 655.133 658.655 Q655.133 665.762 656.939 669.326 Q658.767 672.868 662.378 672.868 Q666.013 672.868 667.818 669.326 Q669.647 665.762 669.647 658.655 Q669.647 651.526 667.818 647.984 Q666.013 644.419 662.378 644.419 M662.378 640.716 Q668.189 640.716 671.244 645.322 Q674.323 649.905 674.323 658.655 Q674.323 667.382 671.244 671.988 Q668.189 676.572 662.378 676.572 Q656.568 676.572 653.49 671.988 Q650.434 667.382 650.434 658.655 Q650.434 649.905 653.49 645.322 Q656.568 640.716 662.378 640.716 Z\" fill=\"#000000\" fill-rule=\"nonzero\" fill-opacity=\"1\" /><path clip-path=\"url(#clip990)\" d=\"M692.54 644.419 Q688.929 644.419 687.101 647.984 Q685.295 651.526 685.295 658.655 Q685.295 665.762 687.101 669.326 Q688.929 672.868 692.54 672.868 Q696.175 672.868 697.98 669.326 Q699.809 665.762 699.809 658.655 Q699.809 651.526 697.98 647.984 Q696.175 644.419 692.54 644.419 M692.54 640.716 Q698.351 640.716 701.406 645.322 Q704.485 649.905 704.485 658.655 Q704.485 667.382 701.406 671.988 Q698.351 676.572 692.54 676.572 Q686.73 676.572 683.652 671.988 Q680.596 667.382 680.596 658.655 Q680.596 649.905 683.652 645.322 Q686.73 640.716 692.54 640.716 Z\" fill=\"#000000\" fill-rule=\"nonzero\" fill-opacity=\"1\" /><path clip-path=\"url(#clip990)\" d=\"M596.083 548.348 L612.402 548.348 L612.402 552.283 L590.458 552.283 L590.458 548.348 Q593.12 545.593 597.703 540.964 Q602.309 536.311 603.49 534.968 Q605.735 532.445 606.615 530.709 Q607.518 528.95 607.518 527.26 Q607.518 524.505 605.573 522.769 Q603.652 521.033 600.55 521.033 Q598.351 521.033 595.897 521.797 Q593.467 522.561 590.689 524.112 L590.689 519.39 Q593.513 518.255 595.967 517.677 Q598.421 517.098 600.458 517.098 Q605.828 517.098 609.022 519.783 Q612.217 522.468 612.217 526.959 Q612.217 529.089 611.407 531.01 Q610.62 532.908 608.513 535.501 Q607.934 536.172 604.833 539.389 Q601.731 542.584 596.083 548.348 Z\" fill=\"#000000\" fill-rule=\"nonzero\" fill-opacity=\"1\" /><path clip-path=\"url(#clip990)\" d=\"M632.217 520.802 Q628.606 520.802 626.777 524.366 Q624.971 527.908 624.971 535.038 Q624.971 542.144 626.777 545.709 Q628.606 549.251 632.217 549.251 Q635.851 549.251 637.656 545.709 Q639.485 542.144 639.485 535.038 Q639.485 527.908 637.656 524.366 Q635.851 520.802 632.217 520.802 M632.217 517.098 Q638.027 517.098 641.082 521.704 Q644.161 526.288 644.161 535.038 Q644.161 543.764 641.082 548.371 Q638.027 552.954 632.217 552.954 Q626.406 552.954 623.328 548.371 Q620.272 543.764 620.272 535.038 Q620.272 526.288 623.328 521.704 Q626.406 517.098 632.217 517.098 Z\" fill=\"#000000\" fill-rule=\"nonzero\" fill-opacity=\"1\" /><path clip-path=\"url(#clip990)\" d=\"M662.378 520.802 Q658.767 520.802 656.939 524.366 Q655.133 527.908 655.133 535.038 Q655.133 542.144 656.939 545.709 Q658.767 549.251 662.378 549.251 Q666.013 549.251 667.818 545.709 Q669.647 542.144 669.647 535.038 Q669.647 527.908 667.818 524.366 Q666.013 520.802 662.378 520.802 M662.378 517.098 Q668.189 517.098 671.244 521.704 Q674.323 526.288 674.323 535.038 Q674.323 543.764 671.244 548.371 Q668.189 552.954 662.378 552.954 Q656.568 552.954 653.49 548.371 Q650.434 543.764 650.434 535.038 Q650.434 526.288 653.49 521.704 Q656.568 517.098 662.378 517.098 Z\" fill=\"#000000\" fill-rule=\"nonzero\" fill-opacity=\"1\" /><path clip-path=\"url(#clip990)\" d=\"M692.54 520.802 Q688.929 520.802 687.101 524.366 Q685.295 527.908 685.295 535.038 Q685.295 542.144 687.101 545.709 Q688.929 549.251 692.54 549.251 Q696.175 549.251 697.98 545.709 Q699.809 542.144 699.809 535.038 Q699.809 527.908 697.98 524.366 Q696.175 520.802 692.54 520.802 M692.54 517.098 Q698.351 517.098 701.406 521.704 Q704.485 526.288 704.485 535.038 Q704.485 543.764 701.406 548.371 Q698.351 552.954 692.54 552.954 Q686.73 552.954 683.652 548.371 Q680.596 543.764 680.596 535.038 Q680.596 526.288 683.652 521.704 Q686.73 517.098 692.54 517.098 Z\" fill=\"#000000\" fill-rule=\"nonzero\" fill-opacity=\"1\" /><polyline clip-path=\"url(#clip992)\" style=\"stroke:#009af9; stroke-linecap:round; stroke-linejoin:round; stroke-width:4; stroke-opacity:1; fill:none\" points=\"1781.16,372.255 1784.77,387.832 1756.31,411.797 1726.14,435.185 1694.42,457.898 1661.33,479.836 1627.04,500.895 1591.75,520.972 1555.65,539.962 1518.92,557.757 1481.76,574.252 1444.38,589.341 1406.99,602.923 1369.79,614.898 1333,625.173 1296.83,633.66 1261.5,640.277 1227.21,644.954 1194.18,647.628 1162.62,648.247 1132.74,646.774 1104.72,643.179 1078.78,637.451 1055.09,629.589 1033.83,619.607 1015.17,607.537 999.28,593.421 986.306,577.321 976.39,559.313 969.66,539.487 966.231,517.953 966.206,494.834 969.669,470.272 976.687,444.424 987.309,417.464 1001.56,389.585 1019.43,360.994 1040.9,331.916 1065.9,302.592 1094.32,273.279 1126.04,244.245 \"/>\n",
       "<polyline clip-path=\"url(#clip992)\" style=\"stroke:#e26f46; stroke-linecap:round; stroke-linejoin:round; stroke-width:4; stroke-opacity:1; fill:none\" points=\"1781.16,372.255 1785.97,374.157 1790.65,387.865 1795.09,412.261 1799.21,445.687 1802.97,486.251 1806.35,532.072 1809.31,581.412 1811.83,632.733 1813.89,684.694 1815.43,736.137 1816.43,786.052 1816.85,833.557 1816.66,877.87 1815.86,918.302 1814.42,954.242 1812.37,985.151 1809.73,1010.57 1806.54,1030.11 1802.86,1043.46 1798.77,1050.41 1794.36,1050.82 1789.74,1044.66 1785.02,1031.97 1780.32,1012.91 1775.77,987.715 1771.49,956.723 1767.6,920.357 1764.22,879.137 1761.43,833.681 1759.34,784.713 1758.01,733.084 1757.51,679.783 1757.86,625.97 1759.09,573.001 1761.17,522.456 1764.05,476.138 1767.64,436.033 1771.81,404.187 1776.38,382.466 1781.16,372.255 \"/>\n",
       "<path clip-path=\"url(#clip990)\" d=\"M2018.52 1426.6 L2282.3 1426.6 L2282.3 1271.08 L2018.52 1271.08  Z\" fill=\"#ffffff\" fill-rule=\"evenodd\" fill-opacity=\"1\"/>\n",
       "<polyline clip-path=\"url(#clip990)\" style=\"stroke:#000000; stroke-linecap:round; stroke-linejoin:round; stroke-width:4; stroke-opacity:1; fill:none\" points=\"2018.52,1426.6 2282.3,1426.6 2282.3,1271.08 2018.52,1271.08 2018.52,1426.6 \"/>\n",
       "<polyline clip-path=\"url(#clip990)\" style=\"stroke:#009af9; stroke-linecap:round; stroke-linejoin:round; stroke-width:4; stroke-opacity:1; fill:none\" points=\"2042,1322.92 2182.91,1322.92 \"/>\n",
       "<path clip-path=\"url(#clip990)\" d=\"M2220.23 1342.61 Q2218.43 1347.24 2216.71 1348.65 Q2215 1350.06 2212.13 1350.06 L2208.73 1350.06 L2208.73 1346.5 L2211.23 1346.5 Q2212.99 1346.5 2213.96 1345.66 Q2214.93 1344.83 2216.11 1341.73 L2216.88 1339.78 L2206.39 1314.27 L2210.9 1314.27 L2219.01 1334.55 L2227.11 1314.27 L2231.62 1314.27 L2220.23 1342.61 Z\" fill=\"#000000\" fill-rule=\"nonzero\" fill-opacity=\"1\" /><path clip-path=\"url(#clip990)\" d=\"M2238.91 1336.27 L2246.55 1336.27 L2246.55 1309.9 L2238.24 1311.57 L2238.24 1307.31 L2246.5 1305.64 L2251.18 1305.64 L2251.18 1336.27 L2258.82 1336.27 L2258.82 1340.2 L2238.91 1340.2 L2238.91 1336.27 Z\" fill=\"#000000\" fill-rule=\"nonzero\" fill-opacity=\"1\" /><polyline clip-path=\"url(#clip990)\" style=\"stroke:#e26f46; stroke-linecap:round; stroke-linejoin:round; stroke-width:4; stroke-opacity:1; fill:none\" points=\"2042,1374.76 2182.91,1374.76 \"/>\n",
       "<path clip-path=\"url(#clip990)\" d=\"M2220.23 1394.45 Q2218.43 1399.08 2216.71 1400.49 Q2215 1401.9 2212.13 1401.9 L2208.73 1401.9 L2208.73 1398.34 L2211.23 1398.34 Q2212.99 1398.34 2213.96 1397.5 Q2214.93 1396.67 2216.11 1393.57 L2216.88 1391.62 L2206.39 1366.11 L2210.9 1366.11 L2219.01 1386.39 L2227.11 1366.11 L2231.62 1366.11 L2220.23 1394.45 Z\" fill=\"#000000\" fill-rule=\"nonzero\" fill-opacity=\"1\" /><path clip-path=\"url(#clip990)\" d=\"M2242.13 1388.11 L2258.45 1388.11 L2258.45 1392.04 L2236.5 1392.04 L2236.5 1388.11 Q2239.17 1385.35 2243.75 1380.72 Q2248.36 1376.07 2249.54 1374.73 Q2251.78 1372.2 2252.66 1370.47 Q2253.57 1368.71 2253.57 1367.02 Q2253.57 1364.26 2251.62 1362.53 Q2249.7 1360.79 2246.6 1360.79 Q2244.4 1360.79 2241.94 1361.55 Q2239.51 1362.32 2236.74 1363.87 L2236.74 1359.15 Q2239.56 1358.01 2242.01 1357.43 Q2244.47 1356.86 2246.5 1356.86 Q2251.88 1356.86 2255.07 1359.54 Q2258.26 1362.23 2258.26 1366.72 Q2258.26 1368.85 2257.45 1370.77 Q2256.67 1372.67 2254.56 1375.26 Q2253.98 1375.93 2250.88 1379.15 Q2247.78 1382.34 2242.13 1388.11 Z\" fill=\"#000000\" fill-rule=\"nonzero\" fill-opacity=\"1\" /></svg>\n"
      ],
      "text/html": [
       "<?xml version=\"1.0\" encoding=\"utf-8\"?>\n",
       "<svg xmlns=\"http://www.w3.org/2000/svg\" xmlns:xlink=\"http://www.w3.org/1999/xlink\" width=\"600\" height=\"400\" viewBox=\"0 0 2400 1600\">\n",
       "<defs>\n",
       "  <clipPath id=\"clip040\">\n",
       "    <rect x=\"0\" y=\"0\" width=\"2400\" height=\"1600\"/>\n",
       "  </clipPath>\n",
       "</defs>\n",
       "<path clip-path=\"url(#clip040)\" d=\"M0 1600 L2400 1600 L2400 0 L0 0  Z\" fill=\"#ffffff\" fill-rule=\"evenodd\" fill-opacity=\"1\"/>\n",
       "<defs>\n",
       "  <clipPath id=\"clip041\">\n",
       "    <rect x=\"480\" y=\"0\" width=\"1681\" height=\"1600\"/>\n",
       "  </clipPath>\n",
       "</defs>\n",
       "<defs>\n",
       "  <clipPath id=\"clip042\">\n",
       "    <rect x=\"239\" y=\"47\" width=\"2115\" height=\"1428\"/>\n",
       "  </clipPath>\n",
       "</defs>\n",
       "<path clip-path=\"url(#clip042)\" d=\"M1278.58 184.783 L1278.58 184.781 L1278.58 184.779 L1278.58 184.78 L1278.58 184.783 L1278.58 184.784 L1278.58 184.783  Z\" fill=\"#ffffff\" fill-rule=\"evenodd\" fill-opacity=\"1\"/>\n",
       "<polyline clip-path=\"url(#clip042)\" style=\"stroke:#000000; stroke-linecap:round; stroke-linejoin:round; stroke-width:2; stroke-opacity:0.1; fill:none\" points=\"782.872,1207.14 1194.79,850.405 1194.79,136.945 \"/>\n",
       "<polyline clip-path=\"url(#clip042)\" style=\"stroke:#000000; stroke-linecap:round; stroke-linejoin:round; stroke-width:2; stroke-opacity:0.1; fill:none\" points=\"933.508,1250.62 1345.42,893.89 1345.42,180.429 \"/>\n",
       "<polyline clip-path=\"url(#clip042)\" style=\"stroke:#000000; stroke-linecap:round; stroke-linejoin:round; stroke-width:2; stroke-opacity:0.1; fill:none\" points=\"1084.14,1294.1 1496.06,937.374 1496.06,223.914 \"/>\n",
       "<polyline clip-path=\"url(#clip042)\" style=\"stroke:#000000; stroke-linecap:round; stroke-linejoin:round; stroke-width:2; stroke-opacity:0.1; fill:none\" points=\"1234.78,1337.59 1646.7,980.859 1646.7,267.399 \"/>\n",
       "<polyline clip-path=\"url(#clip042)\" style=\"stroke:#000000; stroke-linecap:round; stroke-linejoin:round; stroke-width:2; stroke-opacity:0.1; fill:none\" points=\"1385.41,1381.07 1797.33,1024.34 1797.33,310.884 \"/>\n",
       "<polyline clip-path=\"url(#clip040)\" style=\"stroke:#000000; stroke-linecap:round; stroke-linejoin:round; stroke-width:4; stroke-opacity:1; fill:none\" points=\"733.285,1192.82 1446.75,1398.78 \"/>\n",
       "<polyline clip-path=\"url(#clip040)\" style=\"stroke:#000000; stroke-linecap:round; stroke-linejoin:round; stroke-width:4; stroke-opacity:1; fill:none\" points=\"782.872,1207.14 787.815,1202.85 \"/>\n",
       "<polyline clip-path=\"url(#clip040)\" style=\"stroke:#000000; stroke-linecap:round; stroke-linejoin:round; stroke-width:4; stroke-opacity:1; fill:none\" points=\"933.508,1250.62 938.451,1246.34 \"/>\n",
       "<polyline clip-path=\"url(#clip040)\" style=\"stroke:#000000; stroke-linecap:round; stroke-linejoin:round; stroke-width:4; stroke-opacity:1; fill:none\" points=\"1084.14,1294.1 1089.09,1289.82 \"/>\n",
       "<polyline clip-path=\"url(#clip040)\" style=\"stroke:#000000; stroke-linecap:round; stroke-linejoin:round; stroke-width:4; stroke-opacity:1; fill:none\" points=\"1234.78,1337.59 1239.72,1333.31 \"/>\n",
       "<polyline clip-path=\"url(#clip040)\" style=\"stroke:#000000; stroke-linecap:round; stroke-linejoin:round; stroke-width:4; stroke-opacity:1; fill:none\" points=\"1385.41,1381.07 1390.36,1376.79 \"/>\n",
       "<path clip-path=\"url(#clip040)\" d=\"M543.806 1239.25 L573.482 1239.25 L573.482 1243.19 L543.806 1243.19 L543.806 1239.25 Z\" fill=\"#000000\" fill-rule=\"nonzero\" fill-opacity=\"1\" /><path clip-path=\"url(#clip040)\" d=\"M596.422 1225.6 L584.616 1244.05 L596.422 1244.05 L596.422 1225.6 M595.195 1221.52 L601.075 1221.52 L601.075 1244.05 L606.005 1244.05 L606.005 1247.93 L601.075 1247.93 L601.075 1256.08 L596.422 1256.08 L596.422 1247.93 L580.82 1247.93 L580.82 1243.42 L595.195 1221.52 Z\" fill=\"#000000\" fill-rule=\"nonzero\" fill-opacity=\"1\" /><path clip-path=\"url(#clip040)\" d=\"M613.737 1250.2 L618.621 1250.2 L618.621 1256.08 L613.737 1256.08 L613.737 1250.2 Z\" fill=\"#000000\" fill-rule=\"nonzero\" fill-opacity=\"1\" /><path clip-path=\"url(#clip040)\" d=\"M638.806 1224.6 Q635.195 1224.6 633.366 1228.17 Q631.561 1231.71 631.561 1238.84 Q631.561 1245.94 633.366 1249.51 Q635.195 1253.05 638.806 1253.05 Q642.44 1253.05 644.246 1249.51 Q646.074 1245.94 646.074 1238.84 Q646.074 1231.71 644.246 1228.17 Q642.44 1224.6 638.806 1224.6 M638.806 1220.9 Q644.616 1220.9 647.672 1225.5 Q650.75 1230.09 650.75 1238.84 Q650.75 1247.56 647.672 1252.17 Q644.616 1256.75 638.806 1256.75 Q632.996 1256.75 629.917 1252.17 Q626.861 1247.56 626.861 1238.84 Q626.861 1230.09 629.917 1225.5 Q632.996 1220.9 638.806 1220.9 Z\" fill=\"#000000\" fill-rule=\"nonzero\" fill-opacity=\"1\" /><path clip-path=\"url(#clip040)\" d=\"M687.139 1230.62 L676.56 1241.24 L687.139 1251.82 L684.384 1254.62 L673.759 1244 L663.134 1254.62 L660.403 1251.82 L670.958 1241.24 L660.403 1230.62 L663.134 1227.82 L673.759 1238.44 L684.384 1227.82 L687.139 1230.62 Z\" fill=\"#000000\" fill-rule=\"nonzero\" fill-opacity=\"1\" /><path clip-path=\"url(#clip040)\" d=\"M699.5 1252.15 L707.139 1252.15 L707.139 1225.78 L698.829 1227.45 L698.829 1223.19 L707.093 1221.52 L711.768 1221.52 L711.768 1252.15 L719.407 1252.15 L719.407 1256.08 L699.5 1256.08 L699.5 1252.15 Z\" fill=\"#000000\" fill-rule=\"nonzero\" fill-opacity=\"1\" /><path clip-path=\"url(#clip040)\" d=\"M738.852 1224.6 Q735.241 1224.6 733.412 1228.17 Q731.606 1231.71 731.606 1238.84 Q731.606 1245.94 733.412 1249.51 Q735.241 1253.05 738.852 1253.05 Q742.486 1253.05 744.291 1249.51 Q746.12 1245.94 746.12 1238.84 Q746.12 1231.71 744.291 1228.17 Q742.486 1224.6 738.852 1224.6 M738.852 1220.9 Q744.662 1220.9 747.717 1225.5 Q750.796 1230.09 750.796 1238.84 Q750.796 1247.56 747.717 1252.17 Q744.662 1256.75 738.852 1256.75 Q733.041 1256.75 729.963 1252.17 Q726.907 1247.56 726.907 1238.84 Q726.907 1230.09 729.963 1225.5 Q733.041 1220.9 738.852 1220.9 Z\" fill=\"#000000\" fill-rule=\"nonzero\" fill-opacity=\"1\" /><path clip-path=\"url(#clip040)\" d=\"M751.981 1200.59 L766.895 1200.59 L766.895 1203.79 L755.46 1203.79 L755.46 1210.67 Q756.288 1210.39 757.115 1210.26 Q757.943 1210.11 758.77 1210.11 Q763.472 1210.11 766.218 1212.68 Q768.964 1215.26 768.964 1219.66 Q768.964 1224.2 766.143 1226.72 Q763.322 1229.22 758.187 1229.22 Q756.42 1229.22 754.576 1228.92 Q752.752 1228.62 750.796 1228.01 L750.796 1224.2 Q752.489 1225.12 754.294 1225.57 Q756.1 1226.02 758.112 1226.02 Q761.366 1226.02 763.266 1224.31 Q765.165 1222.6 765.165 1219.66 Q765.165 1216.73 763.266 1215.02 Q761.366 1213.31 758.112 1213.31 Q756.589 1213.31 755.065 1213.64 Q753.561 1213.98 751.981 1214.7 L751.981 1200.59 Z\" fill=\"#000000\" fill-rule=\"nonzero\" fill-opacity=\"1\" /><path clip-path=\"url(#clip040)\" d=\"M694.442 1282.74 L724.118 1282.74 L724.118 1286.67 L694.442 1286.67 L694.442 1282.74 Z\" fill=\"#000000\" fill-rule=\"nonzero\" fill-opacity=\"1\" /><path clip-path=\"url(#clip040)\" d=\"M738.238 1295.63 L754.557 1295.63 L754.557 1299.57 L732.613 1299.57 L732.613 1295.63 Q735.275 1292.88 739.858 1288.25 Q744.465 1283.59 745.645 1282.25 Q747.891 1279.73 748.77 1277.99 Q749.673 1276.23 749.673 1274.54 Q749.673 1271.79 747.729 1270.05 Q745.807 1268.32 742.706 1268.32 Q740.507 1268.32 738.053 1269.08 Q735.622 1269.84 732.845 1271.4 L732.845 1266.67 Q735.669 1265.54 738.122 1264.96 Q740.576 1264.38 742.613 1264.38 Q747.983 1264.38 751.178 1267.07 Q754.372 1269.75 754.372 1274.24 Q754.372 1276.37 753.562 1278.29 Q752.775 1280.19 750.669 1282.78 Q750.09 1283.46 746.988 1286.67 Q743.886 1289.87 738.238 1295.63 Z\" fill=\"#000000\" fill-rule=\"nonzero\" fill-opacity=\"1\" /><path clip-path=\"url(#clip040)\" d=\"M764.372 1293.69 L769.256 1293.69 L769.256 1299.57 L764.372 1299.57 L764.372 1293.69 Z\" fill=\"#000000\" fill-rule=\"nonzero\" fill-opacity=\"1\" /><path clip-path=\"url(#clip040)\" d=\"M789.441 1268.09 Q785.83 1268.09 784.002 1271.65 Q782.196 1275.19 782.196 1282.32 Q782.196 1289.43 784.002 1292.99 Q785.83 1296.53 789.441 1296.53 Q793.076 1296.53 794.881 1292.99 Q796.71 1289.43 796.71 1282.32 Q796.71 1275.19 794.881 1271.65 Q793.076 1268.09 789.441 1268.09 M789.441 1264.38 Q795.252 1264.38 798.307 1268.99 Q801.386 1273.57 801.386 1282.32 Q801.386 1291.05 798.307 1295.65 Q795.252 1300.24 789.441 1300.24 Q783.631 1300.24 780.553 1295.65 Q777.497 1291.05 777.497 1282.32 Q777.497 1273.57 780.553 1268.99 Q783.631 1264.38 789.441 1264.38 Z\" fill=\"#000000\" fill-rule=\"nonzero\" fill-opacity=\"1\" /><path clip-path=\"url(#clip040)\" d=\"M837.775 1274.1 L827.196 1284.73 L837.775 1295.31 L835.02 1298.11 L824.395 1287.48 L813.77 1298.11 L811.039 1295.31 L821.594 1284.73 L811.039 1274.1 L813.77 1271.3 L824.395 1281.93 L835.02 1271.3 L837.775 1274.1 Z\" fill=\"#000000\" fill-rule=\"nonzero\" fill-opacity=\"1\" /><path clip-path=\"url(#clip040)\" d=\"M850.136 1295.63 L857.774 1295.63 L857.774 1269.27 L849.464 1270.93 L849.464 1266.67 L857.728 1265.01 L862.404 1265.01 L862.404 1295.63 L870.043 1295.63 L870.043 1299.57 L850.136 1299.57 L850.136 1295.63 Z\" fill=\"#000000\" fill-rule=\"nonzero\" fill-opacity=\"1\" /><path clip-path=\"url(#clip040)\" d=\"M889.487 1268.09 Q885.876 1268.09 884.047 1271.65 Q882.242 1275.19 882.242 1282.32 Q882.242 1289.43 884.047 1292.99 Q885.876 1296.53 889.487 1296.53 Q893.121 1296.53 894.927 1292.99 Q896.756 1289.43 896.756 1282.32 Q896.756 1275.19 894.927 1271.65 Q893.121 1268.09 889.487 1268.09 M889.487 1264.38 Q895.297 1264.38 898.353 1268.99 Q901.432 1273.57 901.432 1282.32 Q901.432 1291.05 898.353 1295.65 Q895.297 1300.24 889.487 1300.24 Q883.677 1300.24 880.598 1295.65 Q877.543 1291.05 877.543 1282.32 Q877.543 1273.57 880.598 1268.99 Q883.677 1264.38 889.487 1264.38 Z\" fill=\"#000000\" fill-rule=\"nonzero\" fill-opacity=\"1\" /><path clip-path=\"url(#clip040)\" d=\"M902.616 1244.08 L917.531 1244.08 L917.531 1247.27 L906.096 1247.27 L906.096 1254.16 Q906.923 1253.88 907.751 1253.74 Q908.579 1253.59 909.406 1253.59 Q914.108 1253.59 916.854 1256.17 Q919.6 1258.75 919.6 1263.15 Q919.6 1267.68 916.779 1270.2 Q913.958 1272.7 908.823 1272.7 Q907.055 1272.7 905.212 1272.4 Q903.388 1272.1 901.432 1271.5 L901.432 1267.68 Q903.124 1268.6 904.93 1269.05 Q906.735 1269.5 908.748 1269.5 Q912.002 1269.5 913.901 1267.79 Q915.801 1266.08 915.801 1263.15 Q915.801 1260.21 913.901 1258.5 Q912.002 1256.79 908.748 1256.79 Q907.224 1256.79 905.701 1257.13 Q904.196 1257.47 902.616 1258.18 L902.616 1244.08 Z\" fill=\"#000000\" fill-rule=\"nonzero\" fill-opacity=\"1\" /><path clip-path=\"url(#clip040)\" d=\"M1058.29 1305.12 Q1054.68 1305.12 1052.85 1308.69 Q1051.05 1312.23 1051.05 1319.36 Q1051.05 1326.47 1052.85 1330.03 Q1054.68 1333.57 1058.29 1333.57 Q1061.93 1333.57 1063.73 1330.03 Q1065.56 1326.47 1065.56 1319.36 Q1065.56 1312.23 1063.73 1308.69 Q1061.93 1305.12 1058.29 1305.12 M1058.29 1301.42 Q1064.1 1301.42 1067.16 1306.03 Q1070.24 1310.61 1070.24 1319.36 Q1070.24 1328.09 1067.16 1332.69 Q1064.1 1337.28 1058.29 1337.28 Q1052.48 1337.28 1049.4 1332.69 Q1046.35 1328.09 1046.35 1319.36 Q1046.35 1310.61 1049.4 1306.03 Q1052.48 1301.42 1058.29 1301.42 Z\" fill=\"#000000\" fill-rule=\"nonzero\" fill-opacity=\"1\" /><path clip-path=\"url(#clip040)\" d=\"M1039.51 1382.6 L1055.83 1382.6 L1055.83 1386.54 L1033.88 1386.54 L1033.88 1382.6 Q1036.55 1379.85 1041.13 1375.22 Q1045.74 1370.56 1046.92 1369.22 Q1049.16 1366.7 1050.04 1364.96 Q1050.94 1363.2 1050.94 1361.51 Q1050.94 1358.76 1049 1357.02 Q1047.08 1355.29 1043.98 1355.29 Q1041.78 1355.29 1039.32 1356.05 Q1036.89 1356.81 1034.12 1358.37 L1034.12 1353.64 Q1036.94 1352.51 1039.39 1351.93 Q1041.85 1351.35 1043.88 1351.35 Q1049.25 1351.35 1052.45 1354.04 Q1055.64 1356.72 1055.64 1361.21 Q1055.64 1363.34 1054.83 1365.26 Q1054.05 1367.16 1051.94 1369.75 Q1051.36 1370.43 1048.26 1373.64 Q1045.16 1376.84 1039.51 1382.6 Z\" fill=\"#000000\" fill-rule=\"nonzero\" fill-opacity=\"1\" /><path clip-path=\"url(#clip040)\" d=\"M1065.64 1380.66 L1070.53 1380.66 L1070.53 1386.54 L1065.64 1386.54 L1065.64 1380.66 Z\" fill=\"#000000\" fill-rule=\"nonzero\" fill-opacity=\"1\" /><path clip-path=\"url(#clip040)\" d=\"M1090.71 1355.05 Q1087.1 1355.05 1085.27 1358.62 Q1083.47 1362.16 1083.47 1369.29 Q1083.47 1376.4 1085.27 1379.96 Q1087.1 1383.5 1090.71 1383.5 Q1094.35 1383.5 1096.15 1379.96 Q1097.98 1376.4 1097.98 1369.29 Q1097.98 1362.16 1096.15 1358.62 Q1094.35 1355.05 1090.71 1355.05 M1090.71 1351.35 Q1096.52 1351.35 1099.58 1355.96 Q1102.66 1360.54 1102.66 1369.29 Q1102.66 1378.02 1099.58 1382.62 Q1096.52 1387.21 1090.71 1387.21 Q1084.9 1387.21 1081.82 1382.62 Q1078.77 1378.02 1078.77 1369.29 Q1078.77 1360.54 1081.82 1355.96 Q1084.9 1351.35 1090.71 1351.35 Z\" fill=\"#000000\" fill-rule=\"nonzero\" fill-opacity=\"1\" /><path clip-path=\"url(#clip040)\" d=\"M1139.05 1361.07 L1128.47 1371.7 L1139.05 1382.28 L1136.29 1385.08 L1125.67 1374.45 L1115.04 1385.08 L1112.31 1382.28 L1122.87 1371.7 L1112.31 1361.07 L1115.04 1358.27 L1125.67 1368.9 L1136.29 1358.27 L1139.05 1361.07 Z\" fill=\"#000000\" fill-rule=\"nonzero\" fill-opacity=\"1\" /><path clip-path=\"url(#clip040)\" d=\"M1151.41 1382.6 L1159.05 1382.6 L1159.05 1356.24 L1150.74 1357.9 L1150.74 1353.64 L1159 1351.98 L1163.68 1351.98 L1163.68 1382.6 L1171.31 1382.6 L1171.31 1386.54 L1151.41 1386.54 L1151.41 1382.6 Z\" fill=\"#000000\" fill-rule=\"nonzero\" fill-opacity=\"1\" /><path clip-path=\"url(#clip040)\" d=\"M1190.76 1355.05 Q1187.15 1355.05 1185.32 1358.62 Q1183.51 1362.16 1183.51 1369.29 Q1183.51 1376.4 1185.32 1379.96 Q1187.15 1383.5 1190.76 1383.5 Q1194.39 1383.5 1196.2 1379.96 Q1198.03 1376.4 1198.03 1369.29 Q1198.03 1362.16 1196.2 1358.62 Q1194.39 1355.05 1190.76 1355.05 M1190.76 1351.35 Q1196.57 1351.35 1199.62 1355.96 Q1202.7 1360.54 1202.7 1369.29 Q1202.7 1378.02 1199.62 1382.62 Q1196.57 1387.21 1190.76 1387.21 Q1184.95 1387.21 1181.87 1382.62 Q1178.81 1378.02 1178.81 1369.29 Q1178.81 1360.54 1181.87 1355.96 Q1184.95 1351.35 1190.76 1351.35 Z\" fill=\"#000000\" fill-rule=\"nonzero\" fill-opacity=\"1\" /><path clip-path=\"url(#clip040)\" d=\"M1203.89 1331.05 L1218.8 1331.05 L1218.8 1334.24 L1207.37 1334.24 L1207.37 1341.13 Q1208.19 1340.84 1209.02 1340.71 Q1209.85 1340.56 1210.68 1340.56 Q1215.38 1340.56 1218.13 1343.14 Q1220.87 1345.72 1220.87 1350.12 Q1220.87 1354.65 1218.05 1357.17 Q1215.23 1359.67 1210.09 1359.67 Q1208.33 1359.67 1206.48 1359.37 Q1204.66 1359.07 1202.7 1358.47 L1202.7 1354.65 Q1204.4 1355.57 1206.2 1356.02 Q1208.01 1356.47 1210.02 1356.47 Q1213.27 1356.47 1215.17 1354.76 Q1217.07 1353.05 1217.07 1350.12 Q1217.07 1347.18 1215.17 1345.47 Q1213.27 1343.76 1210.02 1343.76 Q1208.5 1343.76 1206.97 1344.1 Q1205.47 1344.44 1203.89 1345.15 L1203.89 1331.05 Z\" fill=\"#000000\" fill-rule=\"nonzero\" fill-opacity=\"1\" /><path clip-path=\"url(#clip040)\" d=\"M1198.96 1399.54 L1187.16 1417.98 L1198.96 1417.98 L1198.96 1399.54 M1197.74 1395.46 L1203.62 1395.46 L1203.62 1417.98 L1208.55 1417.98 L1208.55 1421.87 L1203.62 1421.87 L1203.62 1430.02 L1198.96 1430.02 L1198.96 1421.87 L1183.36 1421.87 L1183.36 1417.36 L1197.74 1395.46 Z\" fill=\"#000000\" fill-rule=\"nonzero\" fill-opacity=\"1\" /><path clip-path=\"url(#clip040)\" d=\"M1216.28 1424.14 L1221.16 1424.14 L1221.16 1430.02 L1216.28 1430.02 L1216.28 1424.14 Z\" fill=\"#000000\" fill-rule=\"nonzero\" fill-opacity=\"1\" /><path clip-path=\"url(#clip040)\" d=\"M1241.35 1398.54 Q1237.74 1398.54 1235.91 1402.1 Q1234.1 1405.65 1234.1 1412.78 Q1234.1 1419.88 1235.91 1423.45 Q1237.74 1426.99 1241.35 1426.99 Q1244.98 1426.99 1246.79 1423.45 Q1248.62 1419.88 1248.62 1412.78 Q1248.62 1405.65 1246.79 1402.1 Q1244.98 1398.54 1241.35 1398.54 M1241.35 1394.84 Q1247.16 1394.84 1250.21 1399.44 Q1253.29 1404.03 1253.29 1412.78 Q1253.29 1421.5 1250.21 1426.11 Q1247.16 1430.69 1241.35 1430.69 Q1235.54 1430.69 1232.46 1426.11 Q1229.4 1421.5 1229.4 1412.78 Q1229.4 1404.03 1232.46 1399.44 Q1235.54 1394.84 1241.35 1394.84 Z\" fill=\"#000000\" fill-rule=\"nonzero\" fill-opacity=\"1\" /><path clip-path=\"url(#clip040)\" d=\"M1289.68 1404.56 L1279.1 1415.18 L1289.68 1425.76 L1286.93 1428.56 L1276.3 1417.94 L1265.68 1428.56 L1262.95 1425.76 L1273.5 1415.18 L1262.95 1404.56 L1265.68 1401.76 L1276.3 1412.38 L1286.93 1401.76 L1289.68 1404.56 Z\" fill=\"#000000\" fill-rule=\"nonzero\" fill-opacity=\"1\" /><path clip-path=\"url(#clip040)\" d=\"M1302.04 1426.09 L1309.68 1426.09 L1309.68 1399.72 L1301.37 1401.39 L1301.37 1397.13 L1309.63 1395.46 L1314.31 1395.46 L1314.31 1426.09 L1321.95 1426.09 L1321.95 1430.02 L1302.04 1430.02 L1302.04 1426.09 Z\" fill=\"#000000\" fill-rule=\"nonzero\" fill-opacity=\"1\" /><path clip-path=\"url(#clip040)\" d=\"M1341.39 1398.54 Q1337.78 1398.54 1335.95 1402.1 Q1334.15 1405.65 1334.15 1412.78 Q1334.15 1419.88 1335.95 1423.45 Q1337.78 1426.99 1341.39 1426.99 Q1345.03 1426.99 1346.83 1423.45 Q1348.66 1419.88 1348.66 1412.78 Q1348.66 1405.65 1346.83 1402.1 Q1345.03 1398.54 1341.39 1398.54 M1341.39 1394.84 Q1347.2 1394.84 1350.26 1399.44 Q1353.34 1404.03 1353.34 1412.78 Q1353.34 1421.5 1350.26 1426.11 Q1347.2 1430.69 1341.39 1430.69 Q1335.58 1430.69 1332.51 1426.11 Q1329.45 1421.5 1329.45 1412.78 Q1329.45 1404.03 1332.51 1399.44 Q1335.58 1394.84 1341.39 1394.84 Z\" fill=\"#000000\" fill-rule=\"nonzero\" fill-opacity=\"1\" /><path clip-path=\"url(#clip040)\" d=\"M1354.52 1374.53 L1369.44 1374.53 L1369.44 1377.73 L1358 1377.73 L1358 1384.61 Q1358.83 1384.33 1359.66 1384.2 Q1360.49 1384.05 1361.31 1384.05 Q1366.01 1384.05 1368.76 1386.62 Q1371.51 1389.2 1371.51 1393.6 Q1371.51 1398.13 1368.69 1400.65 Q1365.86 1403.16 1360.73 1403.16 Q1358.96 1403.16 1357.12 1402.86 Q1355.29 1402.55 1353.34 1401.95 L1353.34 1398.13 Q1355.03 1399.06 1356.84 1399.51 Q1358.64 1399.96 1360.65 1399.96 Q1363.91 1399.96 1365.81 1398.25 Q1367.71 1396.54 1367.71 1393.6 Q1367.71 1390.67 1365.81 1388.96 Q1363.91 1387.24 1360.65 1387.24 Q1359.13 1387.24 1357.61 1387.58 Q1356.1 1387.92 1354.52 1388.64 L1354.52 1374.53 Z\" fill=\"#000000\" fill-rule=\"nonzero\" fill-opacity=\"1\" /><polyline clip-path=\"url(#clip042)\" style=\"stroke:#000000; stroke-linecap:round; stroke-linejoin:round; stroke-width:2; stroke-opacity:0.1; fill:none\" points=\"1486.67,1364.2 773.209,1158.24 773.209,444.784 \"/>\n",
       "<polyline clip-path=\"url(#clip042)\" style=\"stroke:#000000; stroke-linecap:round; stroke-linejoin:round; stroke-width:2; stroke-opacity:0.1; fill:none\" points=\"1569.74,1292.26 856.282,1086.3 856.282,372.842 \"/>\n",
       "<polyline clip-path=\"url(#clip042)\" style=\"stroke:#000000; stroke-linecap:round; stroke-linejoin:round; stroke-width:2; stroke-opacity:0.1; fill:none\" points=\"1652.81,1220.32 939.354,1014.36 939.354,300.899 \"/>\n",
       "<polyline clip-path=\"url(#clip042)\" style=\"stroke:#000000; stroke-linecap:round; stroke-linejoin:round; stroke-width:2; stroke-opacity:0.1; fill:none\" points=\"1735.89,1148.38 1022.43,942.417 1022.43,228.957 \"/>\n",
       "<polyline clip-path=\"url(#clip042)\" style=\"stroke:#000000; stroke-linecap:round; stroke-linejoin:round; stroke-width:2; stroke-opacity:0.1; fill:none\" points=\"1818.96,1076.43 1105.5,870.475 1105.5,157.014 \"/>\n",
       "<polyline clip-path=\"url(#clip040)\" style=\"stroke:#000000; stroke-linecap:round; stroke-linejoin:round; stroke-width:4; stroke-opacity:1; fill:none\" points=\"1446.75,1398.78 1858.66,1042.05 \"/>\n",
       "<polyline clip-path=\"url(#clip040)\" style=\"stroke:#000000; stroke-linecap:round; stroke-linejoin:round; stroke-width:4; stroke-opacity:1; fill:none\" points=\"1486.67,1364.2 1478.11,1361.73 \"/>\n",
       "<polyline clip-path=\"url(#clip040)\" style=\"stroke:#000000; stroke-linecap:round; stroke-linejoin:round; stroke-width:4; stroke-opacity:1; fill:none\" points=\"1569.74,1292.26 1561.18,1289.79 \"/>\n",
       "<polyline clip-path=\"url(#clip040)\" style=\"stroke:#000000; stroke-linecap:round; stroke-linejoin:round; stroke-width:4; stroke-opacity:1; fill:none\" points=\"1652.81,1220.32 1644.25,1217.85 \"/>\n",
       "<polyline clip-path=\"url(#clip040)\" style=\"stroke:#000000; stroke-linecap:round; stroke-linejoin:round; stroke-width:4; stroke-opacity:1; fill:none\" points=\"1735.89,1148.38 1727.32,1145.9 \"/>\n",
       "<polyline clip-path=\"url(#clip040)\" style=\"stroke:#000000; stroke-linecap:round; stroke-linejoin:round; stroke-width:4; stroke-opacity:1; fill:none\" points=\"1818.96,1076.43 1810.4,1073.96 \"/>\n",
       "<path clip-path=\"url(#clip040)\" d=\"M1511.32 1386 L1540.99 1386 L1540.99 1389.93 L1511.32 1389.93 L1511.32 1386 Z\" fill=\"#000000\" fill-rule=\"nonzero\" fill-opacity=\"1\" /><path clip-path=\"url(#clip040)\" d=\"M1563.93 1372.34 L1552.13 1390.79 L1563.93 1390.79 L1563.93 1372.34 M1562.71 1368.27 L1568.59 1368.27 L1568.59 1390.79 L1573.52 1390.79 L1573.52 1394.68 L1568.59 1394.68 L1568.59 1402.83 L1563.93 1402.83 L1563.93 1394.68 L1548.33 1394.68 L1548.33 1390.17 L1562.71 1368.27 Z\" fill=\"#000000\" fill-rule=\"nonzero\" fill-opacity=\"1\" /><path clip-path=\"url(#clip040)\" d=\"M1581.25 1396.95 L1586.13 1396.95 L1586.13 1402.83 L1581.25 1402.83 L1581.25 1396.95 Z\" fill=\"#000000\" fill-rule=\"nonzero\" fill-opacity=\"1\" /><path clip-path=\"url(#clip040)\" d=\"M1606.32 1371.35 Q1602.71 1371.35 1600.88 1374.91 Q1599.07 1378.45 1599.07 1385.58 Q1599.07 1392.69 1600.88 1396.25 Q1602.71 1399.8 1606.32 1399.8 Q1609.95 1399.8 1611.76 1396.25 Q1613.59 1392.69 1613.59 1385.58 Q1613.59 1378.45 1611.76 1374.91 Q1609.95 1371.35 1606.32 1371.35 M1606.32 1367.64 Q1612.13 1367.64 1615.18 1372.25 Q1618.26 1376.83 1618.26 1385.58 Q1618.26 1394.31 1615.18 1398.92 Q1612.13 1403.5 1606.32 1403.5 Q1600.51 1403.5 1597.43 1398.92 Q1594.37 1394.31 1594.37 1385.58 Q1594.37 1376.83 1597.43 1372.25 Q1600.51 1367.64 1606.32 1367.64 Z\" fill=\"#000000\" fill-rule=\"nonzero\" fill-opacity=\"1\" /><path clip-path=\"url(#clip040)\" d=\"M1654.65 1377.37 L1644.07 1387.99 L1654.65 1398.57 L1651.9 1401.37 L1641.27 1390.75 L1630.65 1401.37 L1627.91 1398.57 L1638.47 1387.99 L1627.91 1377.37 L1630.65 1374.56 L1641.27 1385.19 L1651.9 1374.56 L1654.65 1377.37 Z\" fill=\"#000000\" fill-rule=\"nonzero\" fill-opacity=\"1\" /><path clip-path=\"url(#clip040)\" d=\"M1667.01 1398.89 L1674.65 1398.89 L1674.65 1372.53 L1666.34 1374.19 L1666.34 1369.93 L1674.6 1368.27 L1679.28 1368.27 L1679.28 1398.89 L1686.92 1398.89 L1686.92 1402.83 L1667.01 1402.83 L1667.01 1398.89 Z\" fill=\"#000000\" fill-rule=\"nonzero\" fill-opacity=\"1\" /><path clip-path=\"url(#clip040)\" d=\"M1706.36 1371.35 Q1702.75 1371.35 1700.92 1374.91 Q1699.12 1378.45 1699.12 1385.58 Q1699.12 1392.69 1700.92 1396.25 Q1702.75 1399.8 1706.36 1399.8 Q1710 1399.8 1711.8 1396.25 Q1713.63 1392.69 1713.63 1385.58 Q1713.63 1378.45 1711.8 1374.91 Q1710 1371.35 1706.36 1371.35 M1706.36 1367.64 Q1712.17 1367.64 1715.23 1372.25 Q1718.31 1376.83 1718.31 1385.58 Q1718.31 1394.31 1715.23 1398.92 Q1712.17 1403.5 1706.36 1403.5 Q1700.55 1403.5 1697.47 1398.92 Q1694.42 1394.31 1694.42 1385.58 Q1694.42 1376.83 1697.47 1372.25 Q1700.55 1367.64 1706.36 1367.64 Z\" fill=\"#000000\" fill-rule=\"nonzero\" fill-opacity=\"1\" /><path clip-path=\"url(#clip040)\" d=\"M1719.49 1347.34 L1734.41 1347.34 L1734.41 1350.54 L1722.97 1350.54 L1722.97 1357.42 Q1723.8 1357.14 1724.63 1357.01 Q1725.45 1356.85 1726.28 1356.85 Q1730.98 1356.85 1733.73 1359.43 Q1736.48 1362.01 1736.48 1366.41 Q1736.48 1370.94 1733.65 1373.46 Q1730.83 1375.96 1725.7 1375.96 Q1723.93 1375.96 1722.09 1375.66 Q1720.26 1375.36 1718.31 1374.76 L1718.31 1370.94 Q1720 1371.86 1721.81 1372.31 Q1723.61 1372.77 1725.62 1372.77 Q1728.88 1372.77 1730.78 1371.05 Q1732.68 1369.34 1732.68 1366.41 Q1732.68 1363.47 1730.78 1361.76 Q1728.88 1360.05 1725.62 1360.05 Q1724.1 1360.05 1722.58 1360.39 Q1721.07 1360.73 1719.49 1361.44 L1719.49 1347.34 Z\" fill=\"#000000\" fill-rule=\"nonzero\" fill-opacity=\"1\" /><path clip-path=\"url(#clip040)\" d=\"M1594.39 1314.06 L1624.06 1314.06 L1624.06 1317.99 L1594.39 1317.99 L1594.39 1314.06 Z\" fill=\"#000000\" fill-rule=\"nonzero\" fill-opacity=\"1\" /><path clip-path=\"url(#clip040)\" d=\"M1648.32 1312.25 Q1651.68 1312.97 1653.56 1315.24 Q1655.45 1317.51 1655.45 1320.84 Q1655.45 1325.96 1651.94 1328.76 Q1648.42 1331.56 1641.94 1331.56 Q1639.76 1331.56 1637.44 1331.12 Q1635.15 1330.7 1632.7 1329.84 L1632.7 1325.33 Q1634.64 1326.46 1636.96 1327.04 Q1639.27 1327.62 1641.8 1327.62 Q1646.19 1327.62 1648.49 1325.89 Q1650.8 1324.15 1650.8 1320.84 Q1650.8 1317.78 1648.65 1316.07 Q1646.52 1314.33 1642.7 1314.33 L1638.67 1314.33 L1638.67 1310.49 L1642.88 1310.49 Q1646.33 1310.49 1648.16 1309.13 Q1649.99 1307.74 1649.99 1305.15 Q1649.99 1302.48 1648.09 1301.07 Q1646.22 1299.64 1642.7 1299.64 Q1640.78 1299.64 1638.58 1300.05 Q1636.38 1300.47 1633.74 1301.35 L1633.74 1297.18 Q1636.4 1296.44 1638.72 1296.07 Q1641.06 1295.7 1643.12 1295.7 Q1648.44 1295.7 1651.54 1298.13 Q1654.64 1300.54 1654.64 1304.66 Q1654.64 1307.53 1653 1309.52 Q1651.36 1311.49 1648.32 1312.25 Z\" fill=\"#000000\" fill-rule=\"nonzero\" fill-opacity=\"1\" /><path clip-path=\"url(#clip040)\" d=\"M1664.32 1325.01 L1669.2 1325.01 L1669.2 1330.89 L1664.32 1330.89 L1664.32 1325.01 Z\" fill=\"#000000\" fill-rule=\"nonzero\" fill-opacity=\"1\" /><path clip-path=\"url(#clip040)\" d=\"M1689.39 1299.4 Q1685.78 1299.4 1683.95 1302.97 Q1682.14 1306.51 1682.14 1313.64 Q1682.14 1320.75 1683.95 1324.31 Q1685.78 1327.85 1689.39 1327.85 Q1693.02 1327.85 1694.83 1324.31 Q1696.66 1320.75 1696.66 1313.64 Q1696.66 1306.51 1694.83 1302.97 Q1693.02 1299.4 1689.39 1299.4 M1689.39 1295.7 Q1695.2 1295.7 1698.25 1300.31 Q1701.33 1304.89 1701.33 1313.64 Q1701.33 1322.37 1698.25 1326.97 Q1695.2 1331.56 1689.39 1331.56 Q1683.58 1331.56 1680.5 1326.97 Q1677.44 1322.37 1677.44 1313.64 Q1677.44 1304.89 1680.5 1300.31 Q1683.58 1295.7 1689.39 1295.7 Z\" fill=\"#000000\" fill-rule=\"nonzero\" fill-opacity=\"1\" /><path clip-path=\"url(#clip040)\" d=\"M1737.72 1305.42 L1727.14 1316.05 L1737.72 1326.63 L1734.97 1329.43 L1724.34 1318.8 L1713.72 1329.43 L1710.99 1326.63 L1721.54 1316.05 L1710.99 1305.42 L1713.72 1302.62 L1724.34 1313.25 L1734.97 1302.62 L1737.72 1305.42 Z\" fill=\"#000000\" fill-rule=\"nonzero\" fill-opacity=\"1\" /><path clip-path=\"url(#clip040)\" d=\"M1750.08 1326.95 L1757.72 1326.95 L1757.72 1300.59 L1749.41 1302.25 L1749.41 1297.99 L1757.68 1296.33 L1762.35 1296.33 L1762.35 1326.95 L1769.99 1326.95 L1769.99 1330.89 L1750.08 1330.89 L1750.08 1326.95 Z\" fill=\"#000000\" fill-rule=\"nonzero\" fill-opacity=\"1\" /><path clip-path=\"url(#clip040)\" d=\"M1789.43 1299.4 Q1785.82 1299.4 1783.99 1302.97 Q1782.19 1306.51 1782.19 1313.64 Q1782.19 1320.75 1783.99 1324.31 Q1785.82 1327.85 1789.43 1327.85 Q1793.07 1327.85 1794.87 1324.31 Q1796.7 1320.75 1796.7 1313.64 Q1796.7 1306.51 1794.87 1302.97 Q1793.07 1299.4 1789.43 1299.4 M1789.43 1295.7 Q1795.24 1295.7 1798.3 1300.31 Q1801.38 1304.89 1801.38 1313.64 Q1801.38 1322.37 1798.3 1326.97 Q1795.24 1331.56 1789.43 1331.56 Q1783.62 1331.56 1780.55 1326.97 Q1777.49 1322.37 1777.49 1313.64 Q1777.49 1304.89 1780.55 1300.31 Q1783.62 1295.7 1789.43 1295.7 Z\" fill=\"#000000\" fill-rule=\"nonzero\" fill-opacity=\"1\" /><path clip-path=\"url(#clip040)\" d=\"M1802.56 1275.4 L1817.48 1275.4 L1817.48 1278.59 L1806.04 1278.59 L1806.04 1285.48 Q1806.87 1285.19 1807.7 1285.06 Q1808.53 1284.91 1809.35 1284.91 Q1814.06 1284.91 1816.8 1287.49 Q1819.55 1290.07 1819.55 1294.47 Q1819.55 1299 1816.73 1301.52 Q1813.9 1304.02 1808.77 1304.02 Q1807 1304.02 1805.16 1303.72 Q1803.33 1303.42 1801.38 1302.82 L1801.38 1299 Q1803.07 1299.92 1804.88 1300.37 Q1806.68 1300.82 1808.7 1300.82 Q1811.95 1300.82 1813.85 1299.11 Q1815.75 1297.4 1815.75 1294.47 Q1815.75 1291.53 1813.85 1289.82 Q1811.95 1288.11 1808.7 1288.11 Q1807.17 1288.11 1805.65 1288.45 Q1804.14 1288.79 1802.56 1289.5 L1802.56 1275.4 Z\" fill=\"#000000\" fill-rule=\"nonzero\" fill-opacity=\"1\" /><path clip-path=\"url(#clip040)\" d=\"M1677.46 1242.11 L1707.14 1242.11 L1707.14 1246.05 L1677.46 1246.05 L1677.46 1242.11 Z\" fill=\"#000000\" fill-rule=\"nonzero\" fill-opacity=\"1\" /><path clip-path=\"url(#clip040)\" d=\"M1721.26 1255.01 L1737.58 1255.01 L1737.58 1258.94 L1715.63 1258.94 L1715.63 1255.01 Q1718.29 1252.25 1722.88 1247.62 Q1727.48 1242.97 1728.66 1241.63 Q1730.91 1239.11 1731.79 1237.37 Q1732.69 1235.61 1732.69 1233.92 Q1732.69 1231.17 1730.75 1229.43 Q1728.83 1227.69 1725.72 1227.69 Q1723.53 1227.69 1721.07 1228.46 Q1718.64 1229.22 1715.86 1230.77 L1715.86 1226.05 Q1718.69 1224.92 1721.14 1224.34 Q1723.6 1223.76 1725.63 1223.76 Q1731 1223.76 1734.2 1226.44 Q1737.39 1229.13 1737.39 1233.62 Q1737.39 1235.75 1736.58 1237.67 Q1735.79 1239.57 1733.69 1242.16 Q1733.11 1242.83 1730.01 1246.05 Q1726.91 1249.24 1721.26 1255.01 Z\" fill=\"#000000\" fill-rule=\"nonzero\" fill-opacity=\"1\" /><path clip-path=\"url(#clip040)\" d=\"M1747.39 1253.06 L1752.28 1253.06 L1752.28 1258.94 L1747.39 1258.94 L1747.39 1253.06 Z\" fill=\"#000000\" fill-rule=\"nonzero\" fill-opacity=\"1\" /><path clip-path=\"url(#clip040)\" d=\"M1772.46 1227.46 Q1768.85 1227.46 1767.02 1231.03 Q1765.22 1234.57 1765.22 1241.7 Q1765.22 1248.8 1767.02 1252.37 Q1768.85 1255.91 1772.46 1255.91 Q1776.09 1255.91 1777.9 1252.37 Q1779.73 1248.8 1779.73 1241.7 Q1779.73 1234.57 1777.9 1231.03 Q1776.09 1227.46 1772.46 1227.46 M1772.46 1223.76 Q1778.27 1223.76 1781.33 1228.36 Q1784.41 1232.95 1784.41 1241.7 Q1784.41 1250.42 1781.33 1255.03 Q1778.27 1259.61 1772.46 1259.61 Q1766.65 1259.61 1763.57 1255.03 Q1760.52 1250.42 1760.52 1241.7 Q1760.52 1232.95 1763.57 1228.36 Q1766.65 1223.76 1772.46 1223.76 Z\" fill=\"#000000\" fill-rule=\"nonzero\" fill-opacity=\"1\" /><path clip-path=\"url(#clip040)\" d=\"M1820.79 1233.48 L1810.22 1244.11 L1820.79 1254.68 L1818.04 1257.49 L1807.41 1246.86 L1796.79 1257.49 L1794.06 1254.68 L1804.61 1244.11 L1794.06 1233.48 L1796.79 1230.68 L1807.41 1241.3 L1818.04 1230.68 L1820.79 1233.48 Z\" fill=\"#000000\" fill-rule=\"nonzero\" fill-opacity=\"1\" /><path clip-path=\"url(#clip040)\" d=\"M1833.15 1255.01 L1840.79 1255.01 L1840.79 1228.64 L1832.48 1230.31 L1832.48 1226.05 L1840.75 1224.38 L1845.42 1224.38 L1845.42 1255.01 L1853.06 1255.01 L1853.06 1258.94 L1833.15 1258.94 L1833.15 1255.01 Z\" fill=\"#000000\" fill-rule=\"nonzero\" fill-opacity=\"1\" /><path clip-path=\"url(#clip040)\" d=\"M1872.51 1227.46 Q1868.9 1227.46 1867.07 1231.03 Q1865.26 1234.57 1865.26 1241.7 Q1865.26 1248.8 1867.07 1252.37 Q1868.9 1255.91 1872.51 1255.91 Q1876.14 1255.91 1877.95 1252.37 Q1879.77 1248.8 1879.77 1241.7 Q1879.77 1234.57 1877.95 1231.03 Q1876.14 1227.46 1872.51 1227.46 M1872.51 1223.76 Q1878.32 1223.76 1881.37 1228.36 Q1884.45 1232.95 1884.45 1241.7 Q1884.45 1250.42 1881.37 1255.03 Q1878.32 1259.61 1872.51 1259.61 Q1866.7 1259.61 1863.62 1255.03 Q1860.56 1250.42 1860.56 1241.7 Q1860.56 1232.95 1863.62 1228.36 Q1866.7 1223.76 1872.51 1223.76 Z\" fill=\"#000000\" fill-rule=\"nonzero\" fill-opacity=\"1\" /><path clip-path=\"url(#clip040)\" d=\"M1885.64 1203.45 L1900.55 1203.45 L1900.55 1206.65 L1889.12 1206.65 L1889.12 1213.53 Q1889.94 1213.25 1890.77 1213.12 Q1891.6 1212.97 1892.43 1212.97 Q1897.13 1212.97 1899.87 1215.55 Q1902.62 1218.12 1902.62 1222.52 Q1902.62 1227.06 1899.8 1229.58 Q1896.98 1232.08 1891.84 1232.08 Q1890.07 1232.08 1888.23 1231.78 Q1886.41 1231.48 1884.45 1230.87 L1884.45 1227.06 Q1886.14 1227.98 1887.95 1228.43 Q1889.75 1228.88 1891.77 1228.88 Q1895.02 1228.88 1896.92 1227.17 Q1898.82 1225.46 1898.82 1222.52 Q1898.82 1219.59 1896.92 1217.88 Q1895.02 1216.17 1891.77 1216.17 Q1890.24 1216.17 1888.72 1216.51 Q1887.22 1216.84 1885.64 1217.56 L1885.64 1203.45 Z\" fill=\"#000000\" fill-rule=\"nonzero\" fill-opacity=\"1\" /><path clip-path=\"url(#clip040)\" d=\"M1760.53 1170.17 L1790.21 1170.17 L1790.21 1174.11 L1760.53 1174.11 L1760.53 1170.17 Z\" fill=\"#000000\" fill-rule=\"nonzero\" fill-opacity=\"1\" /><path clip-path=\"url(#clip040)\" d=\"M1801.11 1183.07 L1808.75 1183.07 L1808.75 1156.7 L1800.44 1158.37 L1800.44 1154.11 L1808.7 1152.44 L1813.38 1152.44 L1813.38 1183.07 L1821.02 1183.07 L1821.02 1187 L1801.11 1187 L1801.11 1183.07 Z\" fill=\"#000000\" fill-rule=\"nonzero\" fill-opacity=\"1\" /><path clip-path=\"url(#clip040)\" d=\"M1830.46 1181.12 L1835.35 1181.12 L1835.35 1187 L1830.46 1187 L1830.46 1181.12 Z\" fill=\"#000000\" fill-rule=\"nonzero\" fill-opacity=\"1\" /><path clip-path=\"url(#clip040)\" d=\"M1855.53 1155.52 Q1851.92 1155.52 1850.09 1159.08 Q1848.29 1162.63 1848.29 1169.76 Q1848.29 1176.86 1850.09 1180.43 Q1851.92 1183.97 1855.53 1183.97 Q1859.17 1183.97 1860.97 1180.43 Q1862.8 1176.86 1862.8 1169.76 Q1862.8 1162.63 1860.97 1159.08 Q1859.17 1155.52 1855.53 1155.52 M1855.53 1151.82 Q1861.34 1151.82 1864.4 1156.42 Q1867.48 1161.01 1867.48 1169.76 Q1867.48 1178.48 1864.4 1183.09 Q1861.34 1187.67 1855.53 1187.67 Q1849.72 1187.67 1846.64 1183.09 Q1843.59 1178.48 1843.59 1169.76 Q1843.59 1161.01 1846.64 1156.42 Q1849.72 1151.82 1855.53 1151.82 Z\" fill=\"#000000\" fill-rule=\"nonzero\" fill-opacity=\"1\" /><path clip-path=\"url(#clip040)\" d=\"M1903.87 1161.54 L1893.29 1172.16 L1903.87 1182.74 L1901.11 1185.54 L1890.49 1174.92 L1879.86 1185.54 L1877.13 1182.74 L1887.69 1172.16 L1877.13 1161.54 L1879.86 1158.74 L1890.49 1169.36 L1901.11 1158.74 L1903.87 1161.54 Z\" fill=\"#000000\" fill-rule=\"nonzero\" fill-opacity=\"1\" /><path clip-path=\"url(#clip040)\" d=\"M1916.23 1183.07 L1923.87 1183.07 L1923.87 1156.7 L1915.56 1158.37 L1915.56 1154.11 L1923.82 1152.44 L1928.5 1152.44 L1928.5 1183.07 L1936.13 1183.07 L1936.13 1187 L1916.23 1187 L1916.23 1183.07 Z\" fill=\"#000000\" fill-rule=\"nonzero\" fill-opacity=\"1\" /><path clip-path=\"url(#clip040)\" d=\"M1955.58 1155.52 Q1951.97 1155.52 1950.14 1159.08 Q1948.33 1162.63 1948.33 1169.76 Q1948.33 1176.86 1950.14 1180.43 Q1951.97 1183.97 1955.58 1183.97 Q1959.21 1183.97 1961.02 1180.43 Q1962.85 1176.86 1962.85 1169.76 Q1962.85 1162.63 1961.02 1159.08 Q1959.21 1155.52 1955.58 1155.52 M1955.58 1151.82 Q1961.39 1151.82 1964.44 1156.42 Q1967.52 1161.01 1967.52 1169.76 Q1967.52 1178.48 1964.44 1183.09 Q1961.39 1187.67 1955.58 1187.67 Q1949.77 1187.67 1946.69 1183.09 Q1943.63 1178.48 1943.63 1169.76 Q1943.63 1161.01 1946.69 1156.42 Q1949.77 1151.82 1955.58 1151.82 Z\" fill=\"#000000\" fill-rule=\"nonzero\" fill-opacity=\"1\" /><path clip-path=\"url(#clip040)\" d=\"M1968.71 1131.51 L1983.62 1131.51 L1983.62 1134.71 L1972.19 1134.71 L1972.19 1141.59 Q1973.01 1141.31 1973.84 1141.18 Q1974.67 1141.03 1975.5 1141.03 Q1980.2 1141.03 1982.95 1143.6 Q1985.69 1146.18 1985.69 1150.58 Q1985.69 1155.11 1982.87 1157.63 Q1980.05 1160.14 1974.91 1160.14 Q1973.15 1160.14 1971.3 1159.83 Q1969.48 1159.53 1967.52 1158.93 L1967.52 1155.11 Q1969.22 1156.04 1971.02 1156.49 Q1972.83 1156.94 1974.84 1156.94 Q1978.09 1156.94 1979.99 1155.23 Q1981.89 1153.52 1981.89 1150.58 Q1981.89 1147.65 1979.99 1145.94 Q1978.09 1144.22 1974.84 1144.22 Q1973.32 1144.22 1971.79 1144.56 Q1970.29 1144.9 1968.71 1145.62 L1968.71 1131.51 Z\" fill=\"#000000\" fill-rule=\"nonzero\" fill-opacity=\"1\" /><path clip-path=\"url(#clip040)\" d=\"M1855.55 1077.13 Q1851.94 1077.13 1850.11 1080.69 Q1848.3 1084.24 1848.3 1091.37 Q1848.3 1098.47 1850.11 1102.04 Q1851.94 1105.58 1855.55 1105.58 Q1859.18 1105.58 1860.99 1102.04 Q1862.82 1098.47 1862.82 1091.37 Q1862.82 1084.24 1860.99 1080.69 Q1859.18 1077.13 1855.55 1077.13 M1855.55 1073.43 Q1861.36 1073.43 1864.42 1078.03 Q1867.49 1082.62 1867.49 1091.37 Q1867.49 1100.09 1864.42 1104.7 Q1861.36 1109.28 1855.55 1109.28 Q1849.74 1109.28 1846.66 1104.7 Q1843.61 1100.09 1843.61 1091.37 Q1843.61 1082.62 1846.66 1078.03 Q1849.74 1073.43 1855.55 1073.43 Z\" fill=\"#000000\" fill-rule=\"nonzero\" fill-opacity=\"1\" /><polyline clip-path=\"url(#clip042)\" style=\"stroke:#000000; stroke-linecap:round; stroke-linejoin:round; stroke-width:2; stroke-opacity:0.1; fill:none\" points=\"733.285,1153.09 1145.2,796.361 1858.66,1002.32 \"/>\n",
       "<polyline clip-path=\"url(#clip042)\" style=\"stroke:#000000; stroke-linecap:round; stroke-linejoin:round; stroke-width:2; stroke-opacity:0.1; fill:none\" points=\"733.285,1029.47 1145.2,672.743 1858.66,878.701 \"/>\n",
       "<polyline clip-path=\"url(#clip042)\" style=\"stroke:#000000; stroke-linecap:round; stroke-linejoin:round; stroke-width:2; stroke-opacity:0.1; fill:none\" points=\"733.285,905.856 1145.2,549.126 1858.66,755.084 \"/>\n",
       "<polyline clip-path=\"url(#clip042)\" style=\"stroke:#000000; stroke-linecap:round; stroke-linejoin:round; stroke-width:2; stroke-opacity:0.1; fill:none\" points=\"733.285,782.238 1145.2,425.508 1858.66,631.466 \"/>\n",
       "<polyline clip-path=\"url(#clip042)\" style=\"stroke:#000000; stroke-linecap:round; stroke-linejoin:round; stroke-width:2; stroke-opacity:0.1; fill:none\" points=\"733.285,658.621 1145.2,301.89 1858.66,507.849 \"/>\n",
       "<polyline clip-path=\"url(#clip042)\" style=\"stroke:#000000; stroke-linecap:round; stroke-linejoin:round; stroke-width:2; stroke-opacity:0.1; fill:none\" points=\"733.285,535.003 1145.2,178.273 1858.66,384.231 \"/>\n",
       "<polyline clip-path=\"url(#clip040)\" style=\"stroke:#000000; stroke-linecap:round; stroke-linejoin:round; stroke-width:4; stroke-opacity:1; fill:none\" points=\"733.285,1192.82 733.285,479.36 \"/>\n",
       "<polyline clip-path=\"url(#clip040)\" style=\"stroke:#000000; stroke-linecap:round; stroke-linejoin:round; stroke-width:4; stroke-opacity:1; fill:none\" points=\"733.285,1153.09 738.228,1148.81 \"/>\n",
       "<polyline clip-path=\"url(#clip040)\" style=\"stroke:#000000; stroke-linecap:round; stroke-linejoin:round; stroke-width:4; stroke-opacity:1; fill:none\" points=\"733.285,1029.47 738.228,1025.19 \"/>\n",
       "<polyline clip-path=\"url(#clip040)\" style=\"stroke:#000000; stroke-linecap:round; stroke-linejoin:round; stroke-width:4; stroke-opacity:1; fill:none\" points=\"733.285,905.856 738.228,901.575 \"/>\n",
       "<polyline clip-path=\"url(#clip040)\" style=\"stroke:#000000; stroke-linecap:round; stroke-linejoin:round; stroke-width:4; stroke-opacity:1; fill:none\" points=\"733.285,782.238 738.228,777.957 \"/>\n",
       "<polyline clip-path=\"url(#clip040)\" style=\"stroke:#000000; stroke-linecap:round; stroke-linejoin:round; stroke-width:4; stroke-opacity:1; fill:none\" points=\"733.285,658.621 738.228,654.34 \"/>\n",
       "<polyline clip-path=\"url(#clip040)\" style=\"stroke:#000000; stroke-linecap:round; stroke-linejoin:round; stroke-width:4; stroke-opacity:1; fill:none\" points=\"733.285,535.003 738.228,530.722 \"/>\n",
       "<path clip-path=\"url(#clip040)\" d=\"M552.286 1153.54 L581.962 1153.54 L581.962 1157.48 L552.286 1157.48 L552.286 1153.54 Z\" fill=\"#000000\" fill-rule=\"nonzero\" fill-opacity=\"1\" /><path clip-path=\"url(#clip040)\" d=\"M606.221 1151.74 Q609.578 1152.45 611.453 1154.72 Q613.351 1156.99 613.351 1160.32 Q613.351 1165.44 609.832 1168.24 Q606.314 1171.04 599.833 1171.04 Q597.657 1171.04 595.342 1170.6 Q593.05 1170.19 590.596 1169.33 L590.596 1164.82 Q592.541 1165.95 594.856 1166.53 Q597.171 1167.11 599.694 1167.11 Q604.092 1167.11 606.383 1165.37 Q608.698 1163.63 608.698 1160.32 Q608.698 1157.27 606.545 1155.56 Q604.416 1153.82 600.596 1153.82 L596.569 1153.82 L596.569 1149.98 L600.782 1149.98 Q604.231 1149.98 606.059 1148.61 Q607.888 1147.22 607.888 1144.63 Q607.888 1141.97 605.99 1140.56 Q604.115 1139.12 600.596 1139.12 Q598.675 1139.12 596.476 1139.54 Q594.277 1139.95 591.638 1140.83 L591.638 1136.67 Q594.3 1135.93 596.615 1135.56 Q598.953 1135.19 601.013 1135.19 Q606.337 1135.19 609.439 1137.62 Q612.541 1140.02 612.541 1144.14 Q612.541 1147.01 610.897 1149.01 Q609.254 1150.97 606.221 1151.74 Z\" fill=\"#000000\" fill-rule=\"nonzero\" fill-opacity=\"1\" /><path clip-path=\"url(#clip040)\" d=\"M632.217 1138.89 Q628.606 1138.89 626.777 1142.45 Q624.971 1146 624.971 1153.13 Q624.971 1160.23 626.777 1163.8 Q628.606 1167.34 632.217 1167.34 Q635.851 1167.34 637.656 1163.8 Q639.485 1160.23 639.485 1153.13 Q639.485 1146 637.656 1142.45 Q635.851 1138.89 632.217 1138.89 M632.217 1135.19 Q638.027 1135.19 641.082 1139.79 Q644.161 1144.38 644.161 1153.13 Q644.161 1161.85 641.082 1166.46 Q638.027 1171.04 632.217 1171.04 Q626.406 1171.04 623.328 1166.46 Q620.272 1161.85 620.272 1153.13 Q620.272 1144.38 623.328 1139.79 Q626.406 1135.19 632.217 1135.19 Z\" fill=\"#000000\" fill-rule=\"nonzero\" fill-opacity=\"1\" /><path clip-path=\"url(#clip040)\" d=\"M662.378 1138.89 Q658.767 1138.89 656.939 1142.45 Q655.133 1146 655.133 1153.13 Q655.133 1160.23 656.939 1163.8 Q658.767 1167.34 662.378 1167.34 Q666.013 1167.34 667.818 1163.8 Q669.647 1160.23 669.647 1153.13 Q669.647 1146 667.818 1142.45 Q666.013 1138.89 662.378 1138.89 M662.378 1135.19 Q668.189 1135.19 671.244 1139.79 Q674.323 1144.38 674.323 1153.13 Q674.323 1161.85 671.244 1166.46 Q668.189 1171.04 662.378 1171.04 Q656.568 1171.04 653.49 1166.46 Q650.434 1161.85 650.434 1153.13 Q650.434 1144.38 653.49 1139.79 Q656.568 1135.19 662.378 1135.19 Z\" fill=\"#000000\" fill-rule=\"nonzero\" fill-opacity=\"1\" /><path clip-path=\"url(#clip040)\" d=\"M692.54 1138.89 Q688.929 1138.89 687.101 1142.45 Q685.295 1146 685.295 1153.13 Q685.295 1160.23 687.101 1163.8 Q688.929 1167.34 692.54 1167.34 Q696.175 1167.34 697.98 1163.8 Q699.809 1160.23 699.809 1153.13 Q699.809 1146 697.98 1142.45 Q696.175 1138.89 692.54 1138.89 M692.54 1135.19 Q698.351 1135.19 701.406 1139.79 Q704.485 1144.38 704.485 1153.13 Q704.485 1161.85 701.406 1166.46 Q698.351 1171.04 692.54 1171.04 Q686.73 1171.04 683.652 1166.46 Q680.596 1161.85 680.596 1153.13 Q680.596 1144.38 683.652 1139.79 Q686.73 1135.19 692.54 1135.19 Z\" fill=\"#000000\" fill-rule=\"nonzero\" fill-opacity=\"1\" /><path clip-path=\"url(#clip040)\" d=\"M552.286 1029.92 L581.962 1029.92 L581.962 1033.86 L552.286 1033.86 L552.286 1029.92 Z\" fill=\"#000000\" fill-rule=\"nonzero\" fill-opacity=\"1\" /><path clip-path=\"url(#clip040)\" d=\"M596.083 1042.82 L612.402 1042.82 L612.402 1046.75 L590.458 1046.75 L590.458 1042.82 Q593.12 1040.06 597.703 1035.43 Q602.309 1030.78 603.49 1029.44 Q605.735 1026.92 606.615 1025.18 Q607.518 1023.42 607.518 1021.73 Q607.518 1018.98 605.573 1017.24 Q603.652 1015.5 600.55 1015.5 Q598.351 1015.5 595.897 1016.27 Q593.467 1017.03 590.689 1018.58 L590.689 1013.86 Q593.513 1012.73 595.967 1012.15 Q598.421 1011.57 600.458 1011.57 Q605.828 1011.57 609.022 1014.25 Q612.217 1016.94 612.217 1021.43 Q612.217 1023.56 611.407 1025.48 Q610.62 1027.38 608.513 1029.97 Q607.934 1030.64 604.833 1033.86 Q601.731 1037.05 596.083 1042.82 Z\" fill=\"#000000\" fill-rule=\"nonzero\" fill-opacity=\"1\" /><path clip-path=\"url(#clip040)\" d=\"M632.217 1015.27 Q628.606 1015.27 626.777 1018.84 Q624.971 1022.38 624.971 1029.51 Q624.971 1036.61 626.777 1040.18 Q628.606 1043.72 632.217 1043.72 Q635.851 1043.72 637.656 1040.18 Q639.485 1036.61 639.485 1029.51 Q639.485 1022.38 637.656 1018.84 Q635.851 1015.27 632.217 1015.27 M632.217 1011.57 Q638.027 1011.57 641.082 1016.17 Q644.161 1020.76 644.161 1029.51 Q644.161 1038.23 641.082 1042.84 Q638.027 1047.42 632.217 1047.42 Q626.406 1047.42 623.328 1042.84 Q620.272 1038.23 620.272 1029.51 Q620.272 1020.76 623.328 1016.17 Q626.406 1011.57 632.217 1011.57 Z\" fill=\"#000000\" fill-rule=\"nonzero\" fill-opacity=\"1\" /><path clip-path=\"url(#clip040)\" d=\"M662.378 1015.27 Q658.767 1015.27 656.939 1018.84 Q655.133 1022.38 655.133 1029.51 Q655.133 1036.61 656.939 1040.18 Q658.767 1043.72 662.378 1043.72 Q666.013 1043.72 667.818 1040.18 Q669.647 1036.61 669.647 1029.51 Q669.647 1022.38 667.818 1018.84 Q666.013 1015.27 662.378 1015.27 M662.378 1011.57 Q668.189 1011.57 671.244 1016.17 Q674.323 1020.76 674.323 1029.51 Q674.323 1038.23 671.244 1042.84 Q668.189 1047.42 662.378 1047.42 Q656.568 1047.42 653.49 1042.84 Q650.434 1038.23 650.434 1029.51 Q650.434 1020.76 653.49 1016.17 Q656.568 1011.57 662.378 1011.57 Z\" fill=\"#000000\" fill-rule=\"nonzero\" fill-opacity=\"1\" /><path clip-path=\"url(#clip040)\" d=\"M692.54 1015.27 Q688.929 1015.27 687.101 1018.84 Q685.295 1022.38 685.295 1029.51 Q685.295 1036.61 687.101 1040.18 Q688.929 1043.72 692.54 1043.72 Q696.175 1043.72 697.98 1040.18 Q699.809 1036.61 699.809 1029.51 Q699.809 1022.38 697.98 1018.84 Q696.175 1015.27 692.54 1015.27 M692.54 1011.57 Q698.351 1011.57 701.406 1016.17 Q704.485 1020.76 704.485 1029.51 Q704.485 1038.23 701.406 1042.84 Q698.351 1047.42 692.54 1047.42 Q686.73 1047.42 683.652 1042.84 Q680.596 1038.23 680.596 1029.51 Q680.596 1020.76 683.652 1016.17 Q686.73 1011.57 692.54 1011.57 Z\" fill=\"#000000\" fill-rule=\"nonzero\" fill-opacity=\"1\" /><path clip-path=\"url(#clip040)\" d=\"M552.286 906.307 L581.962 906.307 L581.962 910.242 L552.286 910.242 L552.286 906.307 Z\" fill=\"#000000\" fill-rule=\"nonzero\" fill-opacity=\"1\" /><path clip-path=\"url(#clip040)\" d=\"M592.865 919.201 L600.504 919.201 L600.504 892.835 L592.194 894.502 L592.194 890.242 L600.458 888.576 L605.133 888.576 L605.133 919.201 L612.772 919.201 L612.772 923.136 L592.865 923.136 L592.865 919.201 Z\" fill=\"#000000\" fill-rule=\"nonzero\" fill-opacity=\"1\" /><path clip-path=\"url(#clip040)\" d=\"M632.217 891.654 Q628.606 891.654 626.777 895.219 Q624.971 898.761 624.971 905.89 Q624.971 912.997 626.777 916.562 Q628.606 920.103 632.217 920.103 Q635.851 920.103 637.656 916.562 Q639.485 912.997 639.485 905.89 Q639.485 898.761 637.656 895.219 Q635.851 891.654 632.217 891.654 M632.217 887.951 Q638.027 887.951 641.082 892.557 Q644.161 897.14 644.161 905.89 Q644.161 914.617 641.082 919.224 Q638.027 923.807 632.217 923.807 Q626.406 923.807 623.328 919.224 Q620.272 914.617 620.272 905.89 Q620.272 897.14 623.328 892.557 Q626.406 887.951 632.217 887.951 Z\" fill=\"#000000\" fill-rule=\"nonzero\" fill-opacity=\"1\" /><path clip-path=\"url(#clip040)\" d=\"M662.378 891.654 Q658.767 891.654 656.939 895.219 Q655.133 898.761 655.133 905.89 Q655.133 912.997 656.939 916.562 Q658.767 920.103 662.378 920.103 Q666.013 920.103 667.818 916.562 Q669.647 912.997 669.647 905.89 Q669.647 898.761 667.818 895.219 Q666.013 891.654 662.378 891.654 M662.378 887.951 Q668.189 887.951 671.244 892.557 Q674.323 897.14 674.323 905.89 Q674.323 914.617 671.244 919.224 Q668.189 923.807 662.378 923.807 Q656.568 923.807 653.49 919.224 Q650.434 914.617 650.434 905.89 Q650.434 897.14 653.49 892.557 Q656.568 887.951 662.378 887.951 Z\" fill=\"#000000\" fill-rule=\"nonzero\" fill-opacity=\"1\" /><path clip-path=\"url(#clip040)\" d=\"M692.54 891.654 Q688.929 891.654 687.101 895.219 Q685.295 898.761 685.295 905.89 Q685.295 912.997 687.101 916.562 Q688.929 920.103 692.54 920.103 Q696.175 920.103 697.98 916.562 Q699.809 912.997 699.809 905.89 Q699.809 898.761 697.98 895.219 Q696.175 891.654 692.54 891.654 M692.54 887.951 Q698.351 887.951 701.406 892.557 Q704.485 897.14 704.485 905.89 Q704.485 914.617 701.406 919.224 Q698.351 923.807 692.54 923.807 Q686.73 923.807 683.652 919.224 Q680.596 914.617 680.596 905.89 Q680.596 897.14 683.652 892.557 Q686.73 887.951 692.54 887.951 Z\" fill=\"#000000\" fill-rule=\"nonzero\" fill-opacity=\"1\" /><path clip-path=\"url(#clip040)\" d=\"M692.54 768.037 Q688.929 768.037 687.101 771.602 Q685.295 775.143 685.295 782.273 Q685.295 789.379 687.101 792.944 Q688.929 796.486 692.54 796.486 Q696.175 796.486 697.98 792.944 Q699.809 789.379 699.809 782.273 Q699.809 775.143 697.98 771.602 Q696.175 768.037 692.54 768.037 M692.54 764.333 Q698.351 764.333 701.406 768.94 Q704.485 773.523 704.485 782.273 Q704.485 791 701.406 795.606 Q698.351 800.189 692.54 800.189 Q686.73 800.189 683.652 795.606 Q680.596 791 680.596 782.273 Q680.596 773.523 683.652 768.94 Q686.73 764.333 692.54 764.333 Z\" fill=\"#000000\" fill-rule=\"nonzero\" fill-opacity=\"1\" /><path clip-path=\"url(#clip040)\" d=\"M592.865 671.965 L600.504 671.965 L600.504 645.6 L592.194 647.266 L592.194 643.007 L600.458 641.341 L605.133 641.341 L605.133 671.965 L612.772 671.965 L612.772 675.901 L592.865 675.901 L592.865 671.965 Z\" fill=\"#000000\" fill-rule=\"nonzero\" fill-opacity=\"1\" /><path clip-path=\"url(#clip040)\" d=\"M632.217 644.419 Q628.606 644.419 626.777 647.984 Q624.971 651.526 624.971 658.655 Q624.971 665.762 626.777 669.326 Q628.606 672.868 632.217 672.868 Q635.851 672.868 637.656 669.326 Q639.485 665.762 639.485 658.655 Q639.485 651.526 637.656 647.984 Q635.851 644.419 632.217 644.419 M632.217 640.716 Q638.027 640.716 641.082 645.322 Q644.161 649.905 644.161 658.655 Q644.161 667.382 641.082 671.988 Q638.027 676.572 632.217 676.572 Q626.406 676.572 623.328 671.988 Q620.272 667.382 620.272 658.655 Q620.272 649.905 623.328 645.322 Q626.406 640.716 632.217 640.716 Z\" fill=\"#000000\" fill-rule=\"nonzero\" fill-opacity=\"1\" /><path clip-path=\"url(#clip040)\" d=\"M662.378 644.419 Q658.767 644.419 656.939 647.984 Q655.133 651.526 655.133 658.655 Q655.133 665.762 656.939 669.326 Q658.767 672.868 662.378 672.868 Q666.013 672.868 667.818 669.326 Q669.647 665.762 669.647 658.655 Q669.647 651.526 667.818 647.984 Q666.013 644.419 662.378 644.419 M662.378 640.716 Q668.189 640.716 671.244 645.322 Q674.323 649.905 674.323 658.655 Q674.323 667.382 671.244 671.988 Q668.189 676.572 662.378 676.572 Q656.568 676.572 653.49 671.988 Q650.434 667.382 650.434 658.655 Q650.434 649.905 653.49 645.322 Q656.568 640.716 662.378 640.716 Z\" fill=\"#000000\" fill-rule=\"nonzero\" fill-opacity=\"1\" /><path clip-path=\"url(#clip040)\" d=\"M692.54 644.419 Q688.929 644.419 687.101 647.984 Q685.295 651.526 685.295 658.655 Q685.295 665.762 687.101 669.326 Q688.929 672.868 692.54 672.868 Q696.175 672.868 697.98 669.326 Q699.809 665.762 699.809 658.655 Q699.809 651.526 697.98 647.984 Q696.175 644.419 692.54 644.419 M692.54 640.716 Q698.351 640.716 701.406 645.322 Q704.485 649.905 704.485 658.655 Q704.485 667.382 701.406 671.988 Q698.351 676.572 692.54 676.572 Q686.73 676.572 683.652 671.988 Q680.596 667.382 680.596 658.655 Q680.596 649.905 683.652 645.322 Q686.73 640.716 692.54 640.716 Z\" fill=\"#000000\" fill-rule=\"nonzero\" fill-opacity=\"1\" /><path clip-path=\"url(#clip040)\" d=\"M596.083 548.348 L612.402 548.348 L612.402 552.283 L590.458 552.283 L590.458 548.348 Q593.12 545.593 597.703 540.964 Q602.309 536.311 603.49 534.968 Q605.735 532.445 606.615 530.709 Q607.518 528.95 607.518 527.26 Q607.518 524.505 605.573 522.769 Q603.652 521.033 600.55 521.033 Q598.351 521.033 595.897 521.797 Q593.467 522.561 590.689 524.112 L590.689 519.39 Q593.513 518.255 595.967 517.677 Q598.421 517.098 600.458 517.098 Q605.828 517.098 609.022 519.783 Q612.217 522.468 612.217 526.959 Q612.217 529.089 611.407 531.01 Q610.62 532.908 608.513 535.501 Q607.934 536.172 604.833 539.389 Q601.731 542.584 596.083 548.348 Z\" fill=\"#000000\" fill-rule=\"nonzero\" fill-opacity=\"1\" /><path clip-path=\"url(#clip040)\" d=\"M632.217 520.802 Q628.606 520.802 626.777 524.366 Q624.971 527.908 624.971 535.038 Q624.971 542.144 626.777 545.709 Q628.606 549.251 632.217 549.251 Q635.851 549.251 637.656 545.709 Q639.485 542.144 639.485 535.038 Q639.485 527.908 637.656 524.366 Q635.851 520.802 632.217 520.802 M632.217 517.098 Q638.027 517.098 641.082 521.704 Q644.161 526.288 644.161 535.038 Q644.161 543.764 641.082 548.371 Q638.027 552.954 632.217 552.954 Q626.406 552.954 623.328 548.371 Q620.272 543.764 620.272 535.038 Q620.272 526.288 623.328 521.704 Q626.406 517.098 632.217 517.098 Z\" fill=\"#000000\" fill-rule=\"nonzero\" fill-opacity=\"1\" /><path clip-path=\"url(#clip040)\" d=\"M662.378 520.802 Q658.767 520.802 656.939 524.366 Q655.133 527.908 655.133 535.038 Q655.133 542.144 656.939 545.709 Q658.767 549.251 662.378 549.251 Q666.013 549.251 667.818 545.709 Q669.647 542.144 669.647 535.038 Q669.647 527.908 667.818 524.366 Q666.013 520.802 662.378 520.802 M662.378 517.098 Q668.189 517.098 671.244 521.704 Q674.323 526.288 674.323 535.038 Q674.323 543.764 671.244 548.371 Q668.189 552.954 662.378 552.954 Q656.568 552.954 653.49 548.371 Q650.434 543.764 650.434 535.038 Q650.434 526.288 653.49 521.704 Q656.568 517.098 662.378 517.098 Z\" fill=\"#000000\" fill-rule=\"nonzero\" fill-opacity=\"1\" /><path clip-path=\"url(#clip040)\" d=\"M692.54 520.802 Q688.929 520.802 687.101 524.366 Q685.295 527.908 685.295 535.038 Q685.295 542.144 687.101 545.709 Q688.929 549.251 692.54 549.251 Q696.175 549.251 697.98 545.709 Q699.809 542.144 699.809 535.038 Q699.809 527.908 697.98 524.366 Q696.175 520.802 692.54 520.802 M692.54 517.098 Q698.351 517.098 701.406 521.704 Q704.485 526.288 704.485 535.038 Q704.485 543.764 701.406 548.371 Q698.351 552.954 692.54 552.954 Q686.73 552.954 683.652 548.371 Q680.596 543.764 680.596 535.038 Q680.596 526.288 683.652 521.704 Q686.73 517.098 692.54 517.098 Z\" fill=\"#000000\" fill-rule=\"nonzero\" fill-opacity=\"1\" /><polyline clip-path=\"url(#clip042)\" style=\"stroke:#009af9; stroke-linecap:round; stroke-linejoin:round; stroke-width:4; stroke-opacity:1; fill:none\" points=\"1781.16,372.255 1784.77,387.832 1756.31,411.797 1726.14,435.185 1694.42,457.898 1661.33,479.836 1627.04,500.895 1591.75,520.972 1555.65,539.962 1518.92,557.757 1481.76,574.252 1444.38,589.341 1406.99,602.923 1369.79,614.898 1333,625.173 1296.83,633.66 1261.5,640.277 1227.21,644.954 1194.18,647.628 1162.62,648.247 1132.74,646.774 1104.72,643.179 1078.78,637.451 1055.09,629.589 1033.83,619.607 1015.17,607.537 999.28,593.421 986.306,577.321 976.39,559.313 969.66,539.487 966.231,517.953 966.206,494.834 969.669,470.272 976.687,444.424 987.309,417.464 1001.56,389.585 1019.43,360.994 1040.9,331.916 1065.9,302.592 1094.32,273.279 1126.04,244.245 \"/>\n",
       "<polyline clip-path=\"url(#clip042)\" style=\"stroke:#e26f46; stroke-linecap:round; stroke-linejoin:round; stroke-width:4; stroke-opacity:1; fill:none\" points=\"1781.16,372.255 1785.97,374.157 1790.65,387.865 1795.09,412.261 1799.21,445.687 1802.97,486.251 1806.35,532.072 1809.31,581.412 1811.83,632.733 1813.89,684.694 1815.43,736.137 1816.43,786.052 1816.85,833.557 1816.66,877.87 1815.86,918.302 1814.42,954.242 1812.37,985.151 1809.73,1010.57 1806.54,1030.11 1802.86,1043.46 1798.77,1050.41 1794.36,1050.82 1789.74,1044.66 1785.02,1031.97 1780.32,1012.91 1775.77,987.715 1771.49,956.723 1767.6,920.357 1764.22,879.137 1761.43,833.681 1759.34,784.713 1758.01,733.084 1757.51,679.783 1757.86,625.97 1759.09,573.001 1761.17,522.456 1764.05,476.138 1767.64,436.033 1771.81,404.187 1776.38,382.466 1781.16,372.255 \"/>\n",
       "<path clip-path=\"url(#clip040)\" d=\"M2018.52 1426.6 L2282.3 1426.6 L2282.3 1271.08 L2018.52 1271.08  Z\" fill=\"#ffffff\" fill-rule=\"evenodd\" fill-opacity=\"1\"/>\n",
       "<polyline clip-path=\"url(#clip040)\" style=\"stroke:#000000; stroke-linecap:round; stroke-linejoin:round; stroke-width:4; stroke-opacity:1; fill:none\" points=\"2018.52,1426.6 2282.3,1426.6 2282.3,1271.08 2018.52,1271.08 2018.52,1426.6 \"/>\n",
       "<polyline clip-path=\"url(#clip040)\" style=\"stroke:#009af9; stroke-linecap:round; stroke-linejoin:round; stroke-width:4; stroke-opacity:1; fill:none\" points=\"2042,1322.92 2182.91,1322.92 \"/>\n",
       "<path clip-path=\"url(#clip040)\" d=\"M2220.23 1342.61 Q2218.43 1347.24 2216.71 1348.65 Q2215 1350.06 2212.13 1350.06 L2208.73 1350.06 L2208.73 1346.5 L2211.23 1346.5 Q2212.99 1346.5 2213.96 1345.66 Q2214.93 1344.83 2216.11 1341.73 L2216.88 1339.78 L2206.39 1314.27 L2210.9 1314.27 L2219.01 1334.55 L2227.11 1314.27 L2231.62 1314.27 L2220.23 1342.61 Z\" fill=\"#000000\" fill-rule=\"nonzero\" fill-opacity=\"1\" /><path clip-path=\"url(#clip040)\" d=\"M2238.91 1336.27 L2246.55 1336.27 L2246.55 1309.9 L2238.24 1311.57 L2238.24 1307.31 L2246.5 1305.64 L2251.18 1305.64 L2251.18 1336.27 L2258.82 1336.27 L2258.82 1340.2 L2238.91 1340.2 L2238.91 1336.27 Z\" fill=\"#000000\" fill-rule=\"nonzero\" fill-opacity=\"1\" /><polyline clip-path=\"url(#clip040)\" style=\"stroke:#e26f46; stroke-linecap:round; stroke-linejoin:round; stroke-width:4; stroke-opacity:1; fill:none\" points=\"2042,1374.76 2182.91,1374.76 \"/>\n",
       "<path clip-path=\"url(#clip040)\" d=\"M2220.23 1394.45 Q2218.43 1399.08 2216.71 1400.49 Q2215 1401.9 2212.13 1401.9 L2208.73 1401.9 L2208.73 1398.34 L2211.23 1398.34 Q2212.99 1398.34 2213.96 1397.5 Q2214.93 1396.67 2216.11 1393.57 L2216.88 1391.62 L2206.39 1366.11 L2210.9 1366.11 L2219.01 1386.39 L2227.11 1366.11 L2231.62 1366.11 L2220.23 1394.45 Z\" fill=\"#000000\" fill-rule=\"nonzero\" fill-opacity=\"1\" /><path clip-path=\"url(#clip040)\" d=\"M2242.13 1388.11 L2258.45 1388.11 L2258.45 1392.04 L2236.5 1392.04 L2236.5 1388.11 Q2239.17 1385.35 2243.75 1380.72 Q2248.36 1376.07 2249.54 1374.73 Q2251.78 1372.2 2252.66 1370.47 Q2253.57 1368.71 2253.57 1367.02 Q2253.57 1364.26 2251.62 1362.53 Q2249.7 1360.79 2246.6 1360.79 Q2244.4 1360.79 2241.94 1361.55 Q2239.51 1362.32 2236.74 1363.87 L2236.74 1359.15 Q2239.56 1358.01 2242.01 1357.43 Q2244.47 1356.86 2246.5 1356.86 Q2251.88 1356.86 2255.07 1359.54 Q2258.26 1362.23 2258.26 1366.72 Q2258.26 1368.85 2257.45 1370.77 Q2256.67 1372.67 2254.56 1375.26 Q2253.98 1375.93 2250.88 1379.15 Q2247.78 1382.34 2242.13 1388.11 Z\" fill=\"#000000\" fill-rule=\"nonzero\" fill-opacity=\"1\" /></svg>\n"
      ]
     },
     "metadata": {},
     "output_type": "display_data"
    }
   ],
   "source": [
    "plot(all_states_cr3bp[1,:], all_states_cr3bp[2,:], all_states_cr3bp[3,:])\n",
    "\n",
    "plot!(xtraj_si[1,:], xtraj_si[2,:], xtraj_si[3,:])"
   ]
  },
  {
   "cell_type": "code",
   "execution_count": null,
   "metadata": {},
   "outputs": [],
   "source": [
    "x_test_ephem_scaled"
   ]
  },
  {
   "cell_type": "code",
   "execution_count": null,
   "metadata": {},
   "outputs": [],
   "source": [
    "all_states_2"
   ]
  },
  {
   "cell_type": "code",
   "execution_count": null,
   "metadata": {},
   "outputs": [],
   "source": [
    "all_states_ephem_41"
   ]
  },
  {
   "cell_type": "code",
   "execution_count": null,
   "metadata": {},
   "outputs": [],
   "source": [
    "# sol = just_dynamics_integrate_scaled(x_test_ephem_scaled, T_ephem_scaled)\n",
    "\n",
    "# all_states = get_state(sol)"
   ]
  },
  {
   "cell_type": "code",
   "execution_count": null,
   "metadata": {},
   "outputs": [],
   "source": [
    "all_states[:,1]"
   ]
  },
  {
   "cell_type": "code",
   "execution_count": null,
   "metadata": {},
   "outputs": [],
   "source": [
    "# T_ephem_scaled"
   ]
  },
  {
   "cell_type": "code",
   "execution_count": null,
   "metadata": {},
   "outputs": [],
   "source": [
    "x_test_ephem_scaled "
   ]
  },
  {
   "cell_type": "code",
   "execution_count": null,
   "metadata": {},
   "outputs": [],
   "source": [
    "test = [x_test_ephem_scaled[1:3, 1]*l_star; x_test_ephem_scaled[4:6, 1]*(l_star/t_star)]"
   ]
  },
  {
   "cell_type": "code",
   "execution_count": null,
   "metadata": {},
   "outputs": [],
   "source": [
    "ephem_to_cr3bp(test , 0)"
   ]
  },
  {
   "cell_type": "code",
   "execution_count": null,
   "metadata": {},
   "outputs": [],
   "source": [
    "xtraj_test_initial"
   ]
  },
  {
   "cell_type": "code",
   "execution_count": null,
   "metadata": {},
   "outputs": [],
   "source": [
    "#xtraj_i"
   ]
  },
  {
   "cell_type": "code",
   "execution_count": null,
   "metadata": {},
   "outputs": [],
   "source": [
    "# sol.t*t_star"
   ]
  },
  {
   "cell_type": "code",
   "execution_count": null,
   "metadata": {},
   "outputs": [],
   "source": [
    "#problem: gravity of the moon is much lower than the gravity of Earth "
   ]
  },
  {
   "cell_type": "code",
   "execution_count": null,
   "metadata": {},
   "outputs": [],
   "source": [
    "# using DelimitedFiles\n",
    "# xtraj  = readdlm(\"xtraj.txt\", '\\t', Float64, '\\n')\n",
    "\n",
    "# #in days\n",
    "# time_steps = readdlm(\"time.txt\", '\\t', Float64, '\\n')\n",
    "# #period \n",
    "# #T_periodic_n = 3.414975413662902\n",
    "\n",
    "\n",
    "# T_periodic_n = 3.414975410587678"
   ]
  },
  {
   "cell_type": "code",
   "execution_count": null,
   "metadata": {},
   "outputs": [],
   "source": [
    "#units of km and days"
   ]
  },
  {
   "cell_type": "code",
   "execution_count": null,
   "metadata": {},
   "outputs": [],
   "source": [
    "# xtraj"
   ]
  },
  {
   "cell_type": "code",
   "execution_count": null,
   "metadata": {},
   "outputs": [],
   "source": [
    "# xtraj"
   ]
  },
  {
   "cell_type": "code",
   "execution_count": null,
   "metadata": {},
   "outputs": [],
   "source": [
    "# xtraj_transformed = [xtraj[1:3, :].+ [4677.975459705256, 0, 0]; xtraj[4:6, :]./86400]"
   ]
  },
  {
   "cell_type": "code",
   "execution_count": null,
   "metadata": {},
   "outputs": [],
   "source": [
    "#make sure to divide by 86400 to get into seconds"
   ]
  },
  {
   "cell_type": "code",
   "execution_count": null,
   "metadata": {},
   "outputs": [],
   "source": [
    "# time_steps[2]"
   ]
  },
  {
   "cell_type": "code",
   "execution_count": null,
   "metadata": {},
   "outputs": [],
   "source": [
    "# time_steps"
   ]
  },
  {
   "cell_type": "code",
   "execution_count": null,
   "metadata": {},
   "outputs": [],
   "source": [
    "#transform each of these points into the Earth Moon ephemeris model to see what it looks like\n",
    "\n",
    "# xtraj_ephemeris = zeros(6,131)\n",
    "\n",
    "# #x_centered = xtraj_ephemeris \n",
    "\n",
    "# for i=1:131\n",
    "\n",
    "#     xtraj_ephemeris[:,i] = cr3bp_to_ephem(xtraj_transformed[:,i], time_steps[i]*86400)\n",
    "# end"
   ]
  },
  {
   "cell_type": "code",
   "execution_count": null,
   "metadata": {},
   "outputs": [],
   "source": [
    "# xtraj_ephemeris"
   ]
  },
  {
   "cell_type": "code",
   "execution_count": null,
   "metadata": {},
   "outputs": [],
   "source": [
    "# [all_states[1:3, :].*l_star; all_states[4:6,:].*(l_star/t_star)] "
   ]
  },
  {
   "cell_type": "code",
   "execution_count": null,
   "metadata": {},
   "outputs": [],
   "source": [
    "#this should be all _states because xtraj_ephemeris is xtraj loaded that was \n",
    "#converted \n",
    "#xtraj_ephemeris_last = xtraj_ephemeris[:,end]"
   ]
  },
  {
   "cell_type": "code",
   "execution_count": null,
   "metadata": {},
   "outputs": [],
   "source": [
    "# all_states"
   ]
  },
  {
   "cell_type": "code",
   "execution_count": null,
   "metadata": {},
   "outputs": [],
   "source": []
  },
  {
   "cell_type": "code",
   "execution_count": null,
   "metadata": {},
   "outputs": [],
   "source": [
    "# sol.t "
   ]
  },
  {
   "cell_type": "code",
   "execution_count": null,
   "metadata": {},
   "outputs": [],
   "source": [
    "# all_states "
   ]
  },
  {
   "cell_type": "code",
   "execution_count": null,
   "metadata": {},
   "outputs": [],
   "source": [
    "#transform all states into cr3bp scaled\n",
    "\n",
    "#km/s\n",
    "\n",
    "# all_states_cr3bp = zeros(6, size(all_states)[2])\n",
    "\n",
    "# for i=1:size(all_states)[2]\n",
    "\n",
    "#     ephem_scaled = [all_states[1:3,i]*l_star; all_states[4:6,i]*(l_star/t_star)]\n",
    "#     all_states_cr3bp[:,i] = ephem_to_cr3bp(ephem_scaled, sol.t[i]*t_star)\n",
    "    \n",
    "# end"
   ]
  },
  {
   "cell_type": "code",
   "execution_count": null,
   "metadata": {},
   "outputs": [],
   "source": [
    "# sol.t*t_star "
   ]
  },
  {
   "cell_type": "code",
   "execution_count": null,
   "metadata": {},
   "outputs": [],
   "source": [
    "#plot(all_states_cr3bp[1,:], all_states_cr3bp[2,:], all_states_cr3bp[3,:])"
   ]
  },
  {
   "cell_type": "code",
   "execution_count": null,
   "metadata": {},
   "outputs": [],
   "source": [
    "# all_states_cr3bp[1:3, 1]"
   ]
  },
  {
   "cell_type": "code",
   "execution_count": null,
   "metadata": {},
   "outputs": [],
   "source": [
    "# all_states_cr3bp[4:6, 1]"
   ]
  },
  {
   "cell_type": "code",
   "execution_count": null,
   "metadata": {},
   "outputs": [],
   "source": [
    "# all_states_cr3bp"
   ]
  },
  {
   "cell_type": "code",
   "execution_count": null,
   "metadata": {},
   "outputs": [],
   "source": [
    "#center around the barycenter\n",
    "\n",
    "all_states_cr3bp_centered = all_states_cr3bp .- [μ_earth_moon*l_star , 0, 0, 0, 0, 0]"
   ]
  },
  {
   "cell_type": "code",
   "execution_count": null,
   "metadata": {},
   "outputs": [],
   "source": [
    "xtraj./[1,1,1, 86400, 86400, 86400]"
   ]
  },
  {
   "cell_type": "code",
   "execution_count": null,
   "metadata": {},
   "outputs": [],
   "source": [
    "all_states_cr3bp"
   ]
  },
  {
   "cell_type": "code",
   "execution_count": null,
   "metadata": {},
   "outputs": [],
   "source": [
    "xtraj "
   ]
  },
  {
   "cell_type": "code",
   "execution_count": null,
   "metadata": {},
   "outputs": [],
   "source": [
    "pose_m2*l_star "
   ]
  },
  {
   "cell_type": "code",
   "execution_count": null,
   "metadata": {},
   "outputs": [],
   "source": [
    "plot(all_states_cr3bp_centered[1,:], all_states_cr3bp_centered[2,:], all_states_cr3bp_centered[3,:])\n",
    "\n",
    "scatter!([all_states_cr3bp_centered[1,1]], [all_states_cr3bp_centered[2,1]], [all_states_cr3bp_centered[3,1]])\n",
    "\n",
    "plot!(xtraj_si[1,:], xtraj_si[2,:], xtraj_si[3,:])\n",
    "\n",
    "scatter!([xtraj_si[1,1]], [xtraj_si[2,1]], [xtraj_si[3,1]]) "
   ]
  },
  {
   "cell_type": "code",
   "execution_count": null,
   "metadata": {},
   "outputs": [],
   "source": [
    "plot(all_states_cr3bp_centered[1,1:2], all_states_cr3bp_centered[2,1:2], all_states_cr3bp_centered[3,1:2])\n",
    "\n",
    "scatter!([all_states_cr3bp_centered[1,1]], [all_states_cr3bp_centered[2,1]], [all_states_cr3bp_centered[3,1]])\n",
    "\n",
    "plot!(xtraj[1,1:50], xtraj[2,1:50], xtraj[3,1:50])\n",
    "\n",
    "scatter!([xtraj[1,1]], [xtraj[2,1]], [xtraj[3,1]])"
   ]
  },
  {
   "cell_type": "code",
   "execution_count": null,
   "metadata": {},
   "outputs": [],
   "source": [
    "#this is in the scaled units\n",
    "all_states_cr3bp_centered[:,1:2]"
   ]
  },
  {
   "cell_type": "code",
   "execution_count": null,
   "metadata": {},
   "outputs": [],
   "source": [
    "xtraj[:, 1:2]"
   ]
  },
  {
   "cell_type": "code",
   "execution_count": null,
   "metadata": {},
   "outputs": [],
   "source": [
    "xtraj[4:6, 1]/86400"
   ]
  },
  {
   "cell_type": "code",
   "execution_count": null,
   "metadata": {},
   "outputs": [],
   "source": [
    "all_states_cr3bp_centered[:,1] - [xtraj[1:3,1]; xtraj[4:6,1]/86400]"
   ]
  },
  {
   "cell_type": "code",
   "execution_count": null,
   "metadata": {},
   "outputs": [],
   "source": [
    "#pretty off after one step\n",
    "all_states_cr3bp_centered[:,2] - [xtraj[1:3,2]; xtraj[4:6,2]/86400]"
   ]
  },
  {
   "cell_type": "code",
   "execution_count": null,
   "metadata": {},
   "outputs": [],
   "source": [
    "xtraj_ephemeris_last"
   ]
  },
  {
   "cell_type": "code",
   "execution_count": null,
   "metadata": {},
   "outputs": [],
   "source": [
    "xtraj_ephemeris_last_scaled = [xtraj_ephemeris_last[1:3]*l_star; xtraj_ephemeris_last[4:6]*(l_star/t_star)]"
   ]
  },
  {
   "cell_type": "code",
   "execution_count": null,
   "metadata": {},
   "outputs": [],
   "source": [
    "#the units are good here for the velocity. check units overall in the transformation\n",
    "\n",
    "x_cr3bp = ephem_to_cr3bp(xtraj_ephemeris_last_scaled, 1.2832276238049301e6)"
   ]
  },
  {
   "cell_type": "code",
   "execution_count": null,
   "metadata": {},
   "outputs": [],
   "source": [
    "sol.t*t_star "
   ]
  },
  {
   "cell_type": "code",
   "execution_count": null,
   "metadata": {},
   "outputs": [],
   "source": [
    "x_cr3bp_normalized = [x_cr3bp[1:3]/l_star; x_cr3bp[4:6]/(l_star/t_star)]"
   ]
  },
  {
   "cell_type": "code",
   "execution_count": null,
   "metadata": {},
   "outputs": [],
   "source": [
    "all_states_cr3bp[:,end]"
   ]
  },
  {
   "cell_type": "code",
   "execution_count": null,
   "metadata": {},
   "outputs": [],
   "source": [
    "μ_earth_moon"
   ]
  },
  {
   "cell_type": "code",
   "execution_count": null,
   "metadata": {},
   "outputs": [],
   "source": [
    "xtraj"
   ]
  },
  {
   "cell_type": "code",
   "execution_count": null,
   "metadata": {},
   "outputs": [],
   "source": [
    "time_steps*time_scale"
   ]
  },
  {
   "cell_type": "code",
   "execution_count": null,
   "metadata": {},
   "outputs": [],
   "source": [
    "#center at the barycenter\n",
    "x_cr3bp_normalized_centered = x_cr3bp_normalized-[μ_earth_moon, 0,0,0,0,0]\n"
   ]
  },
  {
   "cell_type": "code",
   "execution_count": null,
   "metadata": {},
   "outputs": [],
   "source": [
    "# x0_test = [1.1201297302380415,\n",
    "#  0.0,\n",
    "#  0.0059396759100811495,\n",
    "#  0.0,\n",
    "#  0.17677819141944426,\n",
    "#  0.0]"
   ]
  },
  {
   "cell_type": "code",
   "execution_count": null,
   "metadata": {},
   "outputs": [],
   "source": [
    "#this is periodic in the Earth centered J2000 frame\n",
    "#now need to convert the final state of the J200 frame to a state in the CR3BP"
   ]
  },
  {
   "cell_type": "code",
   "execution_count": null,
   "metadata": {},
   "outputs": [],
   "source": [
    "#T_dim"
   ]
  },
  {
   "cell_type": "code",
   "execution_count": null,
   "metadata": {},
   "outputs": [],
   "source": [
    "moon_orbit = zeros(6, 1283227)\n",
    "\n",
    "\n",
    "for i=1:1283227\n",
    "\n",
    "    moon_orbit[:,i] = spkezr(\"moon\",et+i,\"J2000\",\"NONE\",\"earth\")[1]\n",
    "\n",
    "end"
   ]
  },
  {
   "cell_type": "code",
   "execution_count": null,
   "metadata": {},
   "outputs": [],
   "source": [
    "plot(moon_orbit[1,:], moon_orbit[2,:], moon_orbit[3,:])\n",
    "\n",
    "scatter!([0], [0], [0])"
   ]
  },
  {
   "cell_type": "code",
   "execution_count": null,
   "metadata": {},
   "outputs": [],
   "source": [
    "#I believe there is something wrong with the epoch..."
   ]
  },
  {
   "cell_type": "code",
   "execution_count": null,
   "metadata": {},
   "outputs": [],
   "source": [
    "#plot(xtraj_ephemeris[1,:], xtraj_ephemeris[2,:], xtraj_ephemeris[3,:])\n",
    "\n",
    "plot(all_states[1,:]*l_star, all_states[2,:]*l_star, all_states[3,:]*l_star) \n",
    "scatter!([all_states[1,1]*l_star], [all_states[2,1]*l_star], [all_states[3,1]*l_star])\n",
    "scatter!([0], [0], [0])\n",
    "plot!(moon_orbit[1,:], moon_orbit[2,:], moon_orbit[3,:])\n",
    "\n",
    "#this is relative to the Earth "
   ]
  },
  {
   "cell_type": "code",
   "execution_count": null,
   "metadata": {},
   "outputs": [],
   "source": [
    "time_steps"
   ]
  },
  {
   "cell_type": "code",
   "execution_count": null,
   "metadata": {},
   "outputs": [],
   "source": [
    "time_steps"
   ]
  },
  {
   "cell_type": "code",
   "execution_count": null,
   "metadata": {},
   "outputs": [],
   "source": [
    "#μ_earth_moon*l_star "
   ]
  },
  {
   "cell_type": "code",
   "execution_count": null,
   "metadata": {},
   "outputs": [],
   "source": [
    "xtraj_transformed = [xtraj[1:3, :].+ [μ_earth_moon*l_star , 0, 0]; xtraj[4:6, :]./86400]"
   ]
  },
  {
   "cell_type": "code",
   "execution_count": null,
   "metadata": {},
   "outputs": [],
   "source": [
    "#transform each of these points into the Earth Moon ephemeris model to see what it looks like\n",
    "\n",
    "xtraj_ephemeris = zeros(6,131)\n",
    "\n",
    "#x_centered = xtraj_ephemeris \n",
    "\n",
    "for i=1:131\n",
    "\n",
    "    xtraj_ephemeris[:,i] = cr3bp_to_ephem(xtraj_transformed[:,i], time_steps[i]*86400)\n",
    "end"
   ]
  },
  {
   "cell_type": "code",
   "execution_count": null,
   "metadata": {},
   "outputs": [],
   "source": [
    "xtraj_ephemeris"
   ]
  },
  {
   "cell_type": "code",
   "execution_count": null,
   "metadata": {},
   "outputs": [],
   "source": [
    "plot(xtraj_ephemeris[1,:], xtraj_ephemeris[2,:], xtraj_ephemeris[3,:])\n",
    "\n",
    "plot!(all_states[1,:]*l_star, all_states[2,:]*l_star, all_states[3,:]*l_star) \n",
    "\n",
    "plot!(moon_orbit[1,:], moon_orbit[2,:], moon_orbit[3,:])\n",
    "\n",
    "#plot!(all_states[1,:]*l_star, all_states[2,:]*l_star, all_states[3,:]*l_star) "
   ]
  },
  {
   "cell_type": "code",
   "execution_count": null,
   "metadata": {},
   "outputs": [],
   "source": [
    "time_steps[2]*86400"
   ]
  },
  {
   "cell_type": "code",
   "execution_count": null,
   "metadata": {},
   "outputs": [],
   "source": [
    "test = ephem_to_cr3bp(xtraj_ephemeris[:,2], time_steps[2]*86400) \n",
    "\n",
    "test_corrected = [test[1:3] - [μ_earth_moon*l_star , 0, 0]; test[4:6]]"
   ]
  },
  {
   "cell_type": "code",
   "execution_count": null,
   "metadata": {},
   "outputs": [],
   "source": [
    "xtraj[:,2]"
   ]
  },
  {
   "cell_type": "code",
   "execution_count": null,
   "metadata": {},
   "outputs": [],
   "source": [
    "test2 = ephem_to_cr3bp([all_states[1:3,2]*l_star; all_states[4:6, 2]*l_star/t_star], time_steps[2]*86400)\n",
    "\n",
    "test2_corrected = [test2[1:3] - [μ_earth_moon*l_star , 0, 0]; test2[4:6]]"
   ]
  },
  {
   "cell_type": "code",
   "execution_count": null,
   "metadata": {},
   "outputs": [],
   "source": [
    "test_corrected "
   ]
  },
  {
   "cell_type": "code",
   "execution_count": null,
   "metadata": {},
   "outputs": [],
   "source": [
    "time_steps[2]*86400"
   ]
  },
  {
   "cell_type": "code",
   "execution_count": null,
   "metadata": {},
   "outputs": [],
   "source": [
    "#simulating just 11 is off alot in the y direction"
   ]
  },
  {
   "cell_type": "code",
   "execution_count": null,
   "metadata": {},
   "outputs": [],
   "source": [
    "xtraj_ephemeris[:,1:2]"
   ]
  },
  {
   "cell_type": "code",
   "execution_count": null,
   "metadata": {},
   "outputs": [],
   "source": [
    "[all_states[1:3,1:2]*l_star; all_states[4:6, 1:2]*(l_star/t_star)]"
   ]
  },
  {
   "cell_type": "code",
   "execution_count": null,
   "metadata": {},
   "outputs": [],
   "source": []
  },
  {
   "cell_type": "code",
   "execution_count": null,
   "metadata": {},
   "outputs": [],
   "source": [
    "xtraj_ephemeris"
   ]
  },
  {
   "cell_type": "code",
   "execution_count": null,
   "metadata": {},
   "outputs": [],
   "source": [
    "[all_states[1:3, :]*l_star; all_states[4:6, :]*(l_star/t_star)][:,end]"
   ]
  },
  {
   "cell_type": "code",
   "execution_count": null,
   "metadata": {},
   "outputs": [],
   "source": [
    "#convert both back to x_cr3bp"
   ]
  },
  {
   "cell_type": "code",
   "execution_count": null,
   "metadata": {},
   "outputs": [],
   "source": [
    "xtraj_ephemeris"
   ]
  },
  {
   "cell_type": "code",
   "execution_count": null,
   "metadata": {},
   "outputs": [],
   "source": [
    "all_states_scaled = [all_states[1:3, :]*l_star; all_states[4:6, :]*(l_star/t_star)]"
   ]
  },
  {
   "cell_type": "code",
   "execution_count": null,
   "metadata": {},
   "outputs": [],
   "source": [
    "sol.t*t_star"
   ]
  },
  {
   "cell_type": "code",
   "execution_count": null,
   "metadata": {},
   "outputs": [],
   "source": [
    "time_steps*86400"
   ]
  },
  {
   "cell_type": "code",
   "execution_count": null,
   "metadata": {},
   "outputs": [],
   "source": [
    "#11 seconds vs 6409 seconds? "
   ]
  },
  {
   "cell_type": "code",
   "execution_count": null,
   "metadata": {},
   "outputs": [],
   "source": [
    "all_states_cr3bp = zeros(6, 316)\n",
    "\n",
    "\n",
    "for i=1:316\n",
    "    all_states_cr3bp[:,i] = ephem_to_cr3bp(all_states_scaled[:,i], sol.t[i]*t_star)\n",
    "end"
   ]
  },
  {
   "cell_type": "code",
   "execution_count": null,
   "metadata": {},
   "outputs": [],
   "source": [
    "xtraj_cr3bp = zeros(6,131)\n",
    "\n",
    "#x_centered = xtraj_ephemeris \n",
    "\n",
    "for i=1:131\n",
    "\n",
    "    xtraj_cr3bp[:,i] = ephem_to_cr3bp(xtraj_ephemeris[:,i], time_steps[i]*86400)\n",
    "end"
   ]
  },
  {
   "cell_type": "code",
   "execution_count": null,
   "metadata": {},
   "outputs": [],
   "source": [
    "μ_earth_moon*l_star "
   ]
  },
  {
   "cell_type": "code",
   "execution_count": null,
   "metadata": {},
   "outputs": [],
   "source": [
    "xtraj_cr3bp"
   ]
  },
  {
   "cell_type": "code",
   "execution_count": null,
   "metadata": {},
   "outputs": [],
   "source": [
    "xtraj_transformed"
   ]
  },
  {
   "cell_type": "code",
   "execution_count": null,
   "metadata": {},
   "outputs": [],
   "source": [
    "all_states_cr3bp"
   ]
  },
  {
   "cell_type": "code",
   "execution_count": null,
   "metadata": {},
   "outputs": [],
   "source": [
    "all_states_cr3bp[:,1] - xtraj_cr3bp[:,1]"
   ]
  },
  {
   "cell_type": "code",
   "execution_count": null,
   "metadata": {},
   "outputs": [],
   "source": [
    "all_states_cr3bp"
   ]
  },
  {
   "cell_type": "code",
   "execution_count": null,
   "metadata": {},
   "outputs": [],
   "source": [
    "xtraj_cr3bp"
   ]
  },
  {
   "cell_type": "code",
   "execution_count": null,
   "metadata": {},
   "outputs": [],
   "source": [
    "#plot(xtraj_transformed[1,:], xtraj_transformed[2,:], xtraj_transformed[3,:])\n",
    "\n",
    "plot(xtraj_cr3bp[1,1:40], xtraj_cr3bp[2,1:40], xtraj_cr3bp[3,1:40])\n",
    "\n",
    "plot!(all_states_cr3bp[1,1:2], all_states_cr3bp[2,1:2], all_states_cr3bp[3,1:2])\n",
    "\n",
    "scatter!([all_states_cr3bp[1,1]], [all_states_cr3bp[2,1]], [all_states_cr3bp[3,1]])\n",
    "\n",
    "scatter!([xtraj_cr3bp[1,1]], [xtraj_cr3bp[2,1]], [xtraj_cr3bp[3,1]])"
   ]
  },
  {
   "cell_type": "code",
   "execution_count": null,
   "metadata": {},
   "outputs": [],
   "source": [
    "# #transform all states into cr3bp scaled\n",
    "\n",
    "# all_states_cr3bp = zeros(6, size(all_states)[2])\n",
    "\n",
    "\n",
    "# for i=1:size(all_states)[2]\n",
    "\n",
    "#     ephem_scaled = [all_states[1:3,i]*l_star; all_states[4:6,i]*(l_star/t_star)]\n",
    "#     all_states_cr3bp[:,i] = ephem_to_cr3bp(ephem_scaled, sol.t[i]*t_star)\n",
    "    \n",
    "# end"
   ]
  },
  {
   "cell_type": "code",
   "execution_count": null,
   "metadata": {},
   "outputs": [],
   "source": [
    "#tested on a leo orbit and dynamics work fine\n",
    "\n",
    "#something wrong with the ephemeris to cr3bp conversion? "
   ]
  },
  {
   "cell_type": "code",
   "execution_count": null,
   "metadata": {},
   "outputs": [],
   "source": [
    "#rk4 to integrate the ephemeris equation"
   ]
  },
  {
   "cell_type": "code",
   "execution_count": null,
   "metadata": {},
   "outputs": [],
   "source": [
    "function RK4_integrator(x, t)\n",
    "\n",
    "    Δt = 1\n",
    "    f1 = ephemeris_model_EarthMoon(x, t)\n",
    "    f2 = ephemeris_model_EarthMoon(x+0.5*Δt*f1, t + Δt/2)\n",
    "    f3 = ephemeris_model_EarthMoon(x+0.5*Δt*f2, t + Δt/2)\n",
    "    f4 = ephemeris_model_EarthMoon(x+ Δt*f3, t+Δt)\n",
    "\n",
    "    xnext = x + (Δt/6.0)*(f1+2*f2+2*f3+f4)\n",
    "\n",
    "    return xnext\n",
    "\n",
    "end"
   ]
  },
  {
   "cell_type": "code",
   "execution_count": null,
   "metadata": {},
   "outputs": [],
   "source": [
    "all_states_rk4 = zeros(6, 1000000)\n",
    "\n",
    "all_states_rk4[:,1] = x_test_ephem\n",
    "\n",
    "for i=1:1000000-1\n",
    "    all_states_rk4[:,i+1] = RK4_integrator(all_states_rk4[:,i], i)\n",
    "\n",
    "end"
   ]
  },
  {
   "cell_type": "code",
   "execution_count": null,
   "metadata": {},
   "outputs": [],
   "source": [
    "all_states_rk4"
   ]
  },
  {
   "cell_type": "code",
   "execution_count": null,
   "metadata": {},
   "outputs": [],
   "source": [
    "plot(all_states_rk4[1,:], all_states_rk4[2,:], all_states_rk4[3,:])\n",
    "\n",
    "plot!(all_states[1,:]*l_star, all_states[2,:]*l_star, all_states[3,:]*l_star) "
   ]
  },
  {
   "cell_type": "code",
   "execution_count": null,
   "metadata": {},
   "outputs": [],
   "source": [
    "all_states_rk4"
   ]
  },
  {
   "cell_type": "code",
   "execution_count": null,
   "metadata": {},
   "outputs": [],
   "source": [
    "x_test_ephem"
   ]
  },
  {
   "cell_type": "code",
   "execution_count": null,
   "metadata": {},
   "outputs": [],
   "source": [
    "#potential error is with the transformation matrix. the part \n",
    "#corresponding to the velocities. Make sure to write out the\n",
    "#derivation"
   ]
  },
  {
   "cell_type": "code",
   "execution_count": null,
   "metadata": {},
   "outputs": [],
   "source": []
  },
  {
   "cell_type": "code",
   "execution_count": null,
   "metadata": {},
   "outputs": [],
   "source": []
  },
  {
   "cell_type": "code",
   "execution_count": null,
   "metadata": {},
   "outputs": [],
   "source": []
  },
  {
   "cell_type": "code",
   "execution_count": null,
   "metadata": {},
   "outputs": [],
   "source": [
    "#the timing from simulating the ephemeris forward is off. Make sure the coincide!!!!!!\n",
    "\n",
    "#you can define the timestep in Differential Equations.jl. Make it match the dt of the 41 knot point\n",
    "#trajectory "
   ]
  }
 ],
 "metadata": {
  "kernelspec": {
   "display_name": "Julia 1.10.0",
   "language": "julia",
   "name": "julia-1.10"
  },
  "language_info": {
   "file_extension": ".jl",
   "mimetype": "application/julia",
   "name": "julia",
   "version": "1.10.0"
  }
 },
 "nbformat": 4,
 "nbformat_minor": 2
}
