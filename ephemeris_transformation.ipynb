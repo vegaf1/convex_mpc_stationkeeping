{
 "cells": [
  {
   "cell_type": "code",
   "execution_count": null,
   "metadata": {},
   "outputs": [],
   "source": [
    "# #ephemeris sim\n",
    "# using LinearAlgebra\n",
    "# #make sure to cite this package\n",
    "# using SPICE\n",
    "# using Downloads: download \n",
    "# using DifferentialEquations\n",
    "# using Plots"
   ]
  },
  {
   "cell_type": "code",
   "execution_count": null,
   "metadata": {},
   "outputs": [],
   "source": [
    "using DifferentialEquations\n",
    "using LinearAlgebra\n",
    "using Plots\n",
    "using SPICE"
   ]
  },
  {
   "cell_type": "code",
   "execution_count": null,
   "metadata": {},
   "outputs": [],
   "source": [
    "# using Pkg\n",
    "# Pkg.activate()"
   ]
  },
  {
   "cell_type": "code",
   "execution_count": null,
   "metadata": {},
   "outputs": [],
   "source": [
    "using DelimitedFiles\n",
    "xtraj  = readdlm(\"xtraj.txt\", '\\t', Float64, '\\n')\n",
    "\n",
    "#in days\n",
    "time_steps = readdlm(\"time.txt\", '\\t', Float64, '\\n')\n",
    "#period \n",
    "\n",
    "T_periodic_n = 3.414975410587678"
   ]
  },
  {
   "cell_type": "code",
   "execution_count": null,
   "metadata": {},
   "outputs": [],
   "source": [
    "xtraj"
   ]
  },
  {
   "cell_type": "code",
   "execution_count": null,
   "metadata": {},
   "outputs": [],
   "source": [
    "# Load leap seconds kernel\n",
    "furnsh(\"/home/faustovega/Desktop/astrodynamics_nasa_work/naif0012.tls\")\n",
    "\n",
    "# laptop \n",
    "# furnsh(\"/home/fausto/naif0012.tls\")"
   ]
  },
  {
   "cell_type": "code",
   "execution_count": null,
   "metadata": {},
   "outputs": [],
   "source": [
    "# Convert the calendar date to ephemeris seconds past J2000\n",
    "\n",
    "#was 2018\n",
    "#et = utc2et(\"2018-02-06T20:45:00\")\n",
    "\n",
    "\n",
    "#et = utc2et(\"2000-08-06T20:45:00\")\n",
    "\n",
    "et = 0"
   ]
  },
  {
   "cell_type": "code",
   "execution_count": null,
   "metadata": {},
   "outputs": [],
   "source": [
    "# Load a planetary ephemeris kernel\n",
    "furnsh(\"/home/faustovega/Desktop/astrodynamics_nasa_work/de440.bsp\")\n",
    "\n",
    "#laptop\n",
    "# furnsh(\"/home/fausto/de440.bsp\")"
   ]
  },
  {
   "cell_type": "code",
   "execution_count": null,
   "metadata": {},
   "outputs": [],
   "source": [
    "#gravitational parameters for the bodies (km3/s2)\n",
    "\n",
    "#moon \n",
    "# μ_m = 4902.80058214776\n",
    "\n",
    "# #earth\n",
    "# μ_e = 398600.432896939\n",
    "\n",
    "# #sun\n",
    "# μ_s = 132712440017.987"
   ]
  },
  {
   "cell_type": "code",
   "execution_count": null,
   "metadata": {},
   "outputs": [],
   "source": [
    "#units used to normalize\n",
    "#also in km and seconds\n",
    "\n",
    "#distance\n",
    "# l_star = 385692.50\n",
    "\n",
    "# #time\n",
    "# t_star = 377084.152667038\n",
    "\n",
    "# #in km\n",
    "# lunar_radius = 1738.2 "
   ]
  },
  {
   "cell_type": "code",
   "execution_count": null,
   "metadata": {},
   "outputs": [],
   "source": [
    "# μ_earth_moon = 1.215058560962404E-2"
   ]
  },
  {
   "cell_type": "code",
   "execution_count": null,
   "metadata": {},
   "outputs": [],
   "source": [
    "G = 6.67430e-11/(1000)^3 #units: km3/kg s2 \n",
    "earth_mass = 5.97219e24\n",
    "moon_mass = 7.34767309e22\n",
    "μ_gm = G*(earth_mass+moon_mass)"
   ]
  },
  {
   "cell_type": "code",
   "execution_count": null,
   "metadata": {},
   "outputs": [],
   "source": [
    "μ_e = 3.986004415000000e5\n",
    "μ_m = 4.902800582147800e3\n",
    "\n",
    "#from paper\n",
    "# l_star = 3.84400e5\n",
    "\n",
    "# μ_earth_moon = 1.215058535056245e-2\n",
    "\n",
    "# t_star = 3.751902588926273e5"
   ]
  },
  {
   "cell_type": "code",
   "execution_count": null,
   "metadata": {},
   "outputs": [],
   "source": [
    "#from the cr3bp book\n",
    "l_star = 3.850e5\n",
    "\n",
    "μ_earth_moon = 1.215e-2\n",
    "\n",
    "T_ = 2.361e6\n",
    "\n",
    "t_star = T_/2*pi"
   ]
  },
  {
   "cell_type": "code",
   "execution_count": null,
   "metadata": {},
   "outputs": [],
   "source": [
    "sqrt(μ_gm/l_star^3)"
   ]
  },
  {
   "cell_type": "code",
   "execution_count": null,
   "metadata": {},
   "outputs": [],
   "source": [
    "pose_m1 = [-μ_earth_moon*l_star , 0, 0]"
   ]
  },
  {
   "cell_type": "code",
   "execution_count": null,
   "metadata": {},
   "outputs": [],
   "source": [
    "function hat(x)\n",
    "\n",
    "    ω_hat = [0 -x[3] x[2]; x[3] 0 -x[1]; -x[2] x[1] 0]\n",
    "\n",
    "    return ω_hat\n",
    "    \n",
    "end"
   ]
  },
  {
   "cell_type": "code",
   "execution_count": null,
   "metadata": {},
   "outputs": [],
   "source": [
    "#get the ECI state given a state in the rotating coordinate frame \n",
    "#all in km and s\n",
    "function cr3bp_to_ephem(x_r, time)\n",
    "\n",
    "    #state in the ECI ra\n",
    "    x_eci = zeros(6)\n",
    "\n",
    "    #time is already wrt et\n",
    "    \n",
    "    #state of the moon (position and velocity) relative to Earth (in km and km/s)\n",
    "    moon_state = spkezr(\"moon\",time,\"J2000\",\"NONE\",\"earth\")[1]\n",
    "\n",
    "    #position of the moon relative to Earth\n",
    "    r_moon = moon_state[1:3]\n",
    "\n",
    "    #velocity of the moon relative to Earth\n",
    "    v_moon = moon_state[4:6]\n",
    "\n",
    "    #x component of the rotating frame expressed in inertial coordinates\n",
    "    x̃ = r_moon/norm(r_moon)\n",
    "    #z component of the rotating frame expressed in inertial coordinates\n",
    "    z̃ = cross(r_moon, v_moon)/norm(cross(r_moon, v_moon))\n",
    "    #x component of the rotating frame expressed in inertial coordinates\n",
    "    ỹ = cross(z̃, x̃)\n",
    "\n",
    "    #instantanous rotation matrix from rotating frame to inertial frame (centered at Earth)\n",
    "    eci_R_r = [x̃ ỹ z̃]\n",
    "\n",
    "    #cr3bp assumes that the rotating frame is rotating by the mean motion \n",
    "\n",
    "    #mean motion θ_dot\n",
    "    #θ_dot = 2*pi/2.361e6\n",
    "\n",
    "    #θ_dot = sqrt(μ_earth_moon/norm(r_moon)^3)\n",
    "\n",
    "    θ_dot = sqrt(μ_gm/norm(l_star)^3)\n",
    "\n",
    "    #θ_dot = sqrt(μ_gm/norm(r_moon)^3)\n",
    "\n",
    "    #instantanous angular velocity\n",
    "    #θ_dot = norm(cross(r_moon, v_moon))/(norm(r_moon)^2)\n",
    "    #θ_dot = (cross(r_moon, v_moon)/(norm(r_moon)^2))[3]\n",
    "\n",
    "    #println(\"theta dot 2: \", θ_dot_2)\n",
    "\n",
    "    ω = [0, 0, θ_dot]\n",
    "    ω_hat= hat(ω)\n",
    "    \n",
    "    #position transformation\n",
    "    x_eci[1:3] = eci_R_r*(x_r[1:3] - pose_m1)\n",
    "\n",
    "    x_eci[4:6] = eci_R_r*x_r[4:6] + eci_R_r*ω_hat*(x_r[1:3] - pose_m1)\n",
    "\n",
    "    return x_eci\n",
    "end"
   ]
  },
  {
   "cell_type": "code",
   "execution_count": null,
   "metadata": {},
   "outputs": [],
   "source": [
    "#get the ECI state given a state in the rotating coordinate frame \n",
    "#all in km and s\n",
    "function cr3bp_to_ephem_k(x_r, time)\n",
    "\n",
    "    #state in the ECI ra\n",
    "    x_eci = zeros(6)\n",
    "\n",
    "    #time is already wrt et\n",
    "    \n",
    "    #state of the moon (position and velocity) relative to Earth (in km and km/s)\n",
    "    bary_state = spkezr(\"earth_barycenter\",time,\"J2000\",\"NONE\",\"earth\")[1]\n",
    "\n",
    "    #position of the moon relative to Earth\n",
    "    r_bary = bary_state[1:3]\n",
    "\n",
    "    #velocity of the moon relative to Earth\n",
    "    v_bary = bary_state[4:6]\n",
    "\n",
    "    θ_dot = sqrt(μ_gm/norm(l_star)^3)\n",
    "\n",
    "    ω = [0, 0, θ_dot]\n",
    "\n",
    "    ω_hat= hat(ω)\n",
    "    \n",
    "    #position transformation\n",
    "    x_eci[1:3] = r_bary + x_r[1:3]\n",
    "\n",
    "    x_eci[4:6] = v_bary + (x_r[4:6] - v_bary) + cross(ω, (x_eci[1:3] - r_bary))\n",
    "\n",
    "    return x_eci\n",
    "end"
   ]
  },
  {
   "cell_type": "code",
   "execution_count": null,
   "metadata": {},
   "outputs": [],
   "source": [
    "#get the ECI state given a state in the rotating coordinate frame \n",
    "#all in km and s\n",
    "function ephem_to_cr3bp_k(x_eci, time)\n",
    "\n",
    "    #state in the ECI ra\n",
    "    x_r = zeros(6)\n",
    "\n",
    "    #time is already wrt et\n",
    "    \n",
    "    #state of the moon (position and velocity) relative to Earth (in km and km/s)\n",
    "    bary_state = spkezr(\"earth_barycenter\",time,\"J2000\",\"NONE\",\"earth\")[1]\n",
    "\n",
    "    #position of the moon relative to Earth\n",
    "    r_bary = bary_state[1:3]\n",
    "\n",
    "    #velocity of the moon relative to Earth\n",
    "    v_bary = bary_state[4:6]\n",
    "\n",
    "    θ_dot = sqrt(μ_gm/norm(l_star)^3)\n",
    "\n",
    "    ω = [0, 0, θ_dot]\n",
    "\n",
    "    ω_hat= hat(ω)\n",
    "    \n",
    "    #position transformation\n",
    "    x_r[1:3] = x_eci[1:3] - r_bary \n",
    "\n",
    "    x_r[4:6] = x_eci[4:6] - cross(ω, (x_eci[1:3] - r_bary)) \n",
    "    \n",
    "    return x_eci\n",
    "end"
   ]
  },
  {
   "cell_type": "code",
   "execution_count": null,
   "metadata": {},
   "outputs": [],
   "source": [
    "#get the ECI state given a state in the rotating coordinate frame \n",
    "#all in km and s\n",
    "function cr3bp_to_ephem_k2(x_r, time)\n",
    "\n",
    "    #state in the ECI ra\n",
    "    x_eci = zeros(6)\n",
    "\n",
    "    #time is already wrt et\n",
    "    \n",
    "    #state of the moon (position and velocity) relative to Earth (in km and km/s)\n",
    "    bary_state = spkezr(\"earth_barycenter\",time,\"J2000\",\"NONE\",\"earth\")[1]\n",
    "\n",
    "    #position of the moon relative to Earth\n",
    "    r_bary = bary_state[1:3]\n",
    "\n",
    "    #velocity of the moon relative to Earth\n",
    "    v_bary = bary_state[4:6]\n",
    "\n",
    "    #x component of the rotating frame expressed in inertial coordinates\n",
    "    x̃ = r_bary/norm(r_bary)\n",
    "    #z component of the rotating frame expressed in inertial coordinates\n",
    "    z̃ = cross(r_bary, v_bary)/norm(cross(r_bary, v_bary))\n",
    "    #x component of the rotating frame expressed in inertial coordinates\n",
    "    ỹ = cross(z̃, x̃)\n",
    " \n",
    "    #instantanous rotation matrix from rotating frame to inertial frame (centered at Earth)\n",
    "    eci_R_r = [x̃ ỹ z̃]\n",
    "\n",
    "    θ_dot = sqrt(μ_gm/norm(l_star)^3)\n",
    "\n",
    "    ω = [0, 0, θ_dot]\n",
    "\n",
    "    ω_hat= hat(ω)\n",
    "    \n",
    "    #position transformation\n",
    "    x_eci[1:3] = r_bary + eci_R_r*x_r[1:3]\n",
    "\n",
    "    x_eci[4:6] = v_bary + (eci_R_r*ω_hat*x_r[1:3] + eci_R_r*x_r[4:6])\n",
    "\n",
    "    return x_eci\n",
    "end"
   ]
  },
  {
   "cell_type": "code",
   "execution_count": null,
   "metadata": {},
   "outputs": [],
   "source": [
    "#get the ECI state given a state in the rotating coordinate frame \n",
    "#all in km and s\n",
    "function ephem_to_cr3bp_k2(x_eci, time)\n",
    "\n",
    "    #state in the ECI ra\n",
    "    x_r = zeros(6)\n",
    "\n",
    "    #time is already wrt et\n",
    "    \n",
    "    #state of the moon (position and velocity) relative to Earth (in km and km/s)\n",
    "    bary_state = spkezr(\"earth_barycenter\",time,\"J2000\",\"NONE\",\"earth\")[1]\n",
    "\n",
    "    #position of the moon relative to Earth\n",
    "    r_bary = bary_state[1:3]\n",
    "\n",
    "    #velocity of the moon relative to Earth\n",
    "    v_bary = bary_state[4:6]\n",
    "\n",
    "    #x component of the rotating frame expressed in inertial coordinates\n",
    "    x̃ = r_bary/norm(r_bary)\n",
    "    #z component of the rotating frame expressed in inertial coordinates\n",
    "    z̃ = cross(r_bary, v_bary)/norm(cross(r_bary, v_bary))\n",
    "    #x component of the rotating frame expressed in inertial coordinates\n",
    "    ỹ = cross(z̃, x̃)\n",
    " \n",
    "    #instantanous rotation matrix from rotating frame to inertial frame (centered at Earth)\n",
    "    eci_R_r = [x̃ ỹ z̃]\n",
    "\n",
    "    θ_dot = sqrt(μ_gm/norm(l_star)^3)\n",
    "\n",
    "    ω = [0, 0, θ_dot]\n",
    "\n",
    "    ω_hat= hat(ω)\n",
    "    \n",
    "    #position transformation\n",
    "    x_r[1:3] = x_eci[1:3] - r_bary \n",
    "\n",
    "    x_r[4:6] = x_eci[4:6] - cross(ω, (x_eci[1:3] - r_bary)) \n",
    "    \n",
    "    return x_eci\n",
    "end"
   ]
  },
  {
   "cell_type": "code",
   "execution_count": null,
   "metadata": {},
   "outputs": [],
   "source": [
    "#get the ECI state given a state in the rotating coordinate frame \n",
    "#all in km and s\n",
    "function ephem_to_cr3bp(x_eci, time)\n",
    "\n",
    "    #state in the ECI ra\n",
    "    x_r = zeros(6)\n",
    "\n",
    "    #time is already wrt et\n",
    "    \n",
    "    #state of the moon (position and velocity) relative to Earth (in km and km/s)\n",
    "    moon_state = spkezr(\"moon\",time,\"J2000\",\"NONE\",\"earth\")[1]\n",
    "\n",
    "    #position of the moon relative to Earth\n",
    "    r_moon = moon_state[1:3]\n",
    "\n",
    "    #velocity of the moon relative to Earth\n",
    "    v_moon = moon_state[4:6]\n",
    "\n",
    "    #x component of the rotating frame expressed in inertial coordinates\n",
    "    x̃ = r_moon/norm(r_moon)\n",
    "    #z component of the rotating frame expressed in inertial coordinates\n",
    "    z̃ = cross(r_moon, v_moon)/norm(cross(r_moon, v_moon))\n",
    "    #x component of the rotating frame expressed in inertial coordinates\n",
    "    ỹ = cross(z̃, x̃)\n",
    "\n",
    "    #instantanous rotation matrix from rotating frame to inertial frame (centered at Earth)\n",
    "    eci_R_r = [x̃ ỹ z̃]\n",
    "\n",
    "    r_R_eci = inv(eci_R_r) #also the transpose since it is a rotation matrix\n",
    "\n",
    "    #cr3bp assumes that the rotating frame is rotating by the mean motion \n",
    "\n",
    "    #θ_dot = 2*pi/2.361e6\n",
    "\n",
    "    #θ_dot = sqrt(μ_earth_moon/norm(r_moon)^3)\n",
    "\n",
    "    θ_dot = sqrt(μ_gm/norm(l_star)^3)\n",
    "\n",
    "    #θ_dot = sqrt(μ_gm/norm(r_moon)^3)\n",
    "\n",
    "    #instantanous angular velocity\n",
    "    #θ_dot = norm(cross(r_moon, v_moon))/(norm(r_moon)^2)\n",
    "    #θ_dot_2 = (cross(r_moon, v_moon)/(norm(r_moon)^2))[3]\n",
    "\n",
    "    #println(\"theta dot 2: \", θ_dot_2)\n",
    "\n",
    "    ω = [0, 0, θ_dot]\n",
    "\n",
    "    ω_hat= hat(ω)\n",
    "    \n",
    "    #position transformation\n",
    "    x_r[1:3] = (r_R_eci*x_eci[1:3]) + pose_m1\n",
    "\n",
    "    x_r[4:6] =  r_R_eci*(x_eci[4:6] - eci_R_r*ω_hat*(x_r[1:3] - pose_m1))\n",
    "\n",
    "    return x_r\n",
    "end"
   ]
  },
  {
   "cell_type": "code",
   "execution_count": null,
   "metadata": {},
   "outputs": [],
   "source": [
    "test = [431249.946141646,\n",
    "0.0,\n",
    "2286.769716989665,\n",
    "0.0,\n",
    "0.1811228748758214,\n",
    "0.0]"
   ]
  },
  {
   "cell_type": "code",
   "execution_count": null,
   "metadata": {},
   "outputs": [],
   "source": [
    "#this matches the pavlack paper\n",
    "ephem_sim = cr3bp_to_ephem(test, et)"
   ]
  },
  {
   "cell_type": "code",
   "execution_count": null,
   "metadata": {},
   "outputs": [],
   "source": [
    "#this matches the pavlack paper\n",
    "ephem_sim = cr3bp_to_ephem_k(test, et)"
   ]
  },
  {
   "cell_type": "code",
   "execution_count": null,
   "metadata": {},
   "outputs": [],
   "source": [
    "# barypose = spkezr(\"earth_barycenter\",0,\"J2000\",\"NONE\",\"earth\")[1]\n",
    "\n",
    "# moonpose = spkezr(\"moon\",0,\"J2000\",\"NONE\",\"earth\")[1]"
   ]
  },
  {
   "cell_type": "code",
   "execution_count": null,
   "metadata": {},
   "outputs": [],
   "source": [
    "# barypose[4:6]/norm(barypose[4:6])"
   ]
  },
  {
   "cell_type": "code",
   "execution_count": null,
   "metadata": {},
   "outputs": [],
   "source": [
    "# moonpose[4:6]/norm(moonpose[4:6])"
   ]
  },
  {
   "cell_type": "code",
   "execution_count": null,
   "metadata": {},
   "outputs": [],
   "source": [
    "# barypose[1:3]/norm(barypose[1:3])"
   ]
  },
  {
   "cell_type": "code",
   "execution_count": null,
   "metadata": {},
   "outputs": [],
   "source": [
    "moonpose[1:3]/norm(moonpose)"
   ]
  },
  {
   "cell_type": "code",
   "execution_count": null,
   "metadata": {},
   "outputs": [],
   "source": [
    "# scatter([0], [0], [0])\n",
    "# scatter!([barypose[1]], [barypose[2]], [barypose[3]])\n",
    "# scatter!([moonpose[1]], [moonpose[2]], [moonpose[3]])"
   ]
  },
  {
   "cell_type": "code",
   "execution_count": null,
   "metadata": {},
   "outputs": [],
   "source": [
    "# norm(barypose[1:3])"
   ]
  },
  {
   "cell_type": "code",
   "execution_count": null,
   "metadata": {},
   "outputs": [],
   "source": [
    "# 1.215e-2*3.850e5 "
   ]
  },
  {
   "cell_type": "code",
   "execution_count": null,
   "metadata": {},
   "outputs": [],
   "source": [
    "# l_star "
   ]
  },
  {
   "cell_type": "code",
   "execution_count": null,
   "metadata": {},
   "outputs": [],
   "source": [
    "# μ_earth_moon*l_star "
   ]
  },
  {
   "cell_type": "code",
   "execution_count": null,
   "metadata": {},
   "outputs": [],
   "source": [
    "ephem_sim_dimensionalized = [ephem_sim[1:3]/l_star; ephem_sim[4:6]/(l_star/t_star)]"
   ]
  },
  {
   "cell_type": "code",
   "execution_count": null,
   "metadata": {},
   "outputs": [],
   "source": [
    "function just_dynamics_integrate(x_0, period)\n",
    "    \n",
    "    tspan = (0.0, period)\n",
    "    prob = ODEProblem(ephem_dynamics!, x_0, tspan)\n",
    "    sol = solve(prob, TsitPap8(), abstol=1e-15, reltol=1e-12)\n",
    "    \n",
    "    return sol\n",
    "    \n",
    "end"
   ]
  },
  {
   "cell_type": "code",
   "execution_count": null,
   "metadata": {},
   "outputs": [],
   "source": [
    "function just_dynamics_integrate_scaled(x_0, period)\n",
    "    \n",
    "    tspan = (0.0, period)\n",
    "    prob = ODEProblem(ephem_dynamics_scaled!, x_0, tspan)\n",
    "    sol = solve(prob, TsitPap8(), abstol=1e-15, reltol=1e-12)\n",
    "    \n",
    "    return sol\n",
    "    \n",
    "end"
   ]
  },
  {
   "cell_type": "code",
   "execution_count": null,
   "metadata": {},
   "outputs": [],
   "source": [
    "function ephemeris_model_EarthMoon(x, t)\n",
    "\n",
    "    xdot = zeros(6)\n",
    "\n",
    "    xdot[1:3] = x[4:6]\n",
    "\n",
    "    #position of the spacecraft relative to the earth \n",
    "    r_qi = x[1:3]\n",
    "\n",
    "    time = et + t\n",
    "\n",
    "    #get positions of moon and sun relative to earth \n",
    "    rqj_moon = spkpos(\"moon\", time, \"J2000\", \"none\", \"earth\")[1]\n",
    "    \n",
    "    rij_moon = rqj_moon- r_qi \n",
    "\n",
    "    #r_qi - vector that defines the position of the satellite wrt Earth\n",
    "    #rqj is the position of a planetary body wrt satellite\n",
    "\n",
    "    #just Earth and Moon\n",
    "    xdot[4:6] = (-μ_e/(norm(r_qi))^3)*r_qi + μ_m.*((rij_moon/norm(rij_moon)^3)-(rqj_moon/norm(rqj_moon)^3));\n",
    "\n",
    "\n",
    "    return xdot\n",
    "\n",
    "end"
   ]
  },
  {
   "cell_type": "code",
   "execution_count": null,
   "metadata": {},
   "outputs": [],
   "source": [
    "function ephemeris_model_EarthMoon_scaled(x, t)\n",
    "\n",
    "    #put units on x and t\n",
    "\n",
    "    x_units = [x[1:3]*l_star; x[4:6]*(l_star/t_star)]\n",
    "    t_units = t*t_star\n",
    "\n",
    "    xdot = zeros(6)\n",
    "\n",
    "    xdot[1:3] = x[4:6]\n",
    "\n",
    "    #position of the spacecraft relative to the earth. normalized\n",
    "    r_qi = x_units[1:3]\n",
    "\n",
    "    time = et + t_units\n",
    "\n",
    "    #get positions of moon and sun relative to earth. dimensionalized by l_star\n",
    "\n",
    "    rqj_moon = (spkpos(\"moon\", time, \"J2000\", \"none\", \"earth\")[1])\n",
    "\n",
    "    rij_moon = rqj_moon- r_qi \n",
    "\n",
    "    #r_qi - vector that defines the position of the satellite wrt Earth\n",
    "    #rqj is the position of a planetary body wrt satellite\n",
    "\n",
    "    #just Earth and Moon\n",
    "    xdot_dim = (-μ_e/(norm(r_qi))^3)*r_qi + μ_m.*((rij_moon/norm(rij_moon)^3)-(rqj_moon/norm(rqj_moon)^3));\n",
    "\n",
    "    xdot[4:6] = xdot_dim./(l_star/t_star^2)\n",
    "\n",
    "    \n",
    "    return xdot\n",
    "\n",
    "end"
   ]
  },
  {
   "cell_type": "code",
   "execution_count": null,
   "metadata": {},
   "outputs": [],
   "source": [
    "function ephem_dynamics!(du, u, p, t)\n",
    "    \n",
    "    #dependence on time\n",
    "    du[1:6] = ephemeris_model_EarthMoon(u[1:6], t)\n",
    "    \n",
    "end"
   ]
  },
  {
   "cell_type": "code",
   "execution_count": null,
   "metadata": {},
   "outputs": [],
   "source": [
    "function ephem_dynamics_scaled!(du, u, p, t)\n",
    "    \n",
    "    #dependence on time\n",
    "    du[1:6] = ephemeris_model_EarthMoon_scaled(u[1:6], t)\n",
    "    \n",
    "end"
   ]
  },
  {
   "cell_type": "code",
   "execution_count": null,
   "metadata": {},
   "outputs": [],
   "source": [
    "time_steps_s = time_steps*86400"
   ]
  },
  {
   "cell_type": "code",
   "execution_count": null,
   "metadata": {},
   "outputs": [],
   "source": [
    "sol_scaled = just_dynamics_integrate_scaled(ephem_sim_dimensionalized, time_steps_s[end]/t_star)"
   ]
  },
  {
   "cell_type": "code",
   "execution_count": null,
   "metadata": {},
   "outputs": [],
   "source": [
    "sol = just_dynamics_integrate(ephem_sim, time_steps_s[end])"
   ]
  },
  {
   "cell_type": "code",
   "execution_count": null,
   "metadata": {},
   "outputs": [],
   "source": [
    "#this just tests one timestep\n",
    "#sol = just_dynamics_integrate(ephem_sim, time_steps_s[2])"
   ]
  },
  {
   "cell_type": "code",
   "execution_count": null,
   "metadata": {},
   "outputs": [],
   "source": [
    "function get_state(solution)\n",
    "    \n",
    "    N = size(solution.u)[1]\n",
    "\n",
    "    all_states = zeros(6, N)\n",
    "\n",
    "    for i=1:N\n",
    "        all_states[:,i] = solution.u[i][1:6]\n",
    "    end\n",
    "    \n",
    "    #all states and all stm are functions of t\n",
    "    #solution.t is the time\n",
    "    return all_states\n",
    "end"
   ]
  },
  {
   "cell_type": "code",
   "execution_count": null,
   "metadata": {},
   "outputs": [],
   "source": [
    "all_states_scaled = get_state(sol_scaled)\n",
    "\n",
    "all_states = get_state(sol)"
   ]
  },
  {
   "cell_type": "code",
   "execution_count": null,
   "metadata": {},
   "outputs": [],
   "source": [
    "all_states_scaled[:,end]"
   ]
  },
  {
   "cell_type": "code",
   "execution_count": null,
   "metadata": {},
   "outputs": [],
   "source": [
    "[all_states_scaled[1:3,end]*l_star; all_states_scaled[4:6,end]*(l_star/t_star)]"
   ]
  },
  {
   "cell_type": "code",
   "execution_count": null,
   "metadata": {},
   "outputs": [],
   "source": [
    "#scaled and unscaled give the same answer\n",
    "all_states[:,end]"
   ]
  },
  {
   "cell_type": "code",
   "execution_count": null,
   "metadata": {},
   "outputs": [],
   "source": [
    "plot(all_states[1,:], all_states[2,:], all_states[3,:])\n",
    "\n",
    "#plot!(xtraj[1,:], xtraj[2,:], xtraj[3,:])"
   ]
  },
  {
   "cell_type": "code",
   "execution_count": null,
   "metadata": {},
   "outputs": [],
   "source": [
    "#transfer all to cr3bp \n",
    "all_states_cr3bp = zeros(size(all_states))\n",
    "\n",
    "for i=1:size(all_states)[2]\n",
    "\n",
    "    all_states_cr3bp[:,i] = ephem_to_cr3bp_k(all_states[:,i], et+sol.t[i])\n",
    "\n",
    "end"
   ]
  },
  {
   "cell_type": "code",
   "execution_count": null,
   "metadata": {},
   "outputs": [],
   "source": [
    "# plot(all_states_cr3bp[1,:], all_states_cr3bp[2,:], all_states_cr3bp[3,:])\n",
    "\n",
    "# plot!(xtraj[1,1:7], xtraj[2,1:7], xtraj[3,1:7])\n",
    "\n",
    "test = plot(all_states_cr3bp[1,:], all_states_cr3bp[2,:], label = \"Ephemeris Forward Rollout\")\n",
    "\n",
    "plot!(xtraj[1,:], xtraj[2,:], label = \"original cr3bp orbit\") \n",
    "\n",
    "scatter!([(1-μ_earth_moon)*l_star], [0], label = \"Moon\", legend=false) \n",
    "\n",
    "\n",
    "\n",
    "#scatter!([all_states_cr3bp[1,1]], [all_states_cr3bp[2,1]], [all_states_cr3bp[3,1]])"
   ]
  },
  {
   "cell_type": "code",
   "execution_count": null,
   "metadata": {},
   "outputs": [],
   "source": [
    "savefig(test, \"traj Plots\")"
   ]
  },
  {
   "cell_type": "code",
   "execution_count": null,
   "metadata": {},
   "outputs": [],
   "source": [
    "plot(all_states_cr3bp[1,1:5], all_states_cr3bp[2,1:5], label = \"Ephemeris Forward Rollout\")\n",
    "\n",
    "plot!(xtraj[1,1:2], xtraj[2,1:2], label = \"original cr3bp orbit\") "
   ]
  },
  {
   "cell_type": "code",
   "execution_count": null,
   "metadata": {},
   "outputs": [],
   "source": [
    "# all_states[:,end]"
   ]
  },
  {
   "cell_type": "code",
   "execution_count": null,
   "metadata": {},
   "outputs": [],
   "source": [
    "# ephem_to_cr3bp(all_states[:,end], time_steps_s[2])"
   ]
  },
  {
   "cell_type": "code",
   "execution_count": null,
   "metadata": {},
   "outputs": [],
   "source": [
    "# ephem_to_cr3bp(all_states[:,1], 0)"
   ]
  },
  {
   "cell_type": "code",
   "execution_count": null,
   "metadata": {},
   "outputs": [],
   "source": [
    "# scatter([all_states[1,2]], [all_states[2,2]], [all_states[3,2]])\n",
    "# scatter!([check[1]], [check[2]], [check[3]])"
   ]
  },
  {
   "cell_type": "code",
   "execution_count": null,
   "metadata": {},
   "outputs": [],
   "source": [
    "# #convert the ephemeris back to cr3bp\n",
    "\n",
    "# for i = 1:size(all_states)[2]\n",
    "#     all_states[:,i] = cr3bp_to_ephem(all_states[:,i], time_steps_s[i])\n",
    "# end"
   ]
  },
  {
   "cell_type": "code",
   "execution_count": null,
   "metadata": {},
   "outputs": [],
   "source": [
    "#tried one timestep and it is in the correct direction. (this is with the regular km s dynamics) Maybe\n",
    "#do the same test with the scaled dynamics (just one step) and see if it works. Get x traj at fixed time_steps\n",
    "#steps (the 41 knot points) and compare to that. \n",
    "\n",
    "#verify the angular velocity term\n",
    "\n",
    "\n",
    "\n",
    "#Maybe period of integration is wrong. \n",
    "#and may work better with just fixed defined timesteps"
   ]
  },
  {
   "cell_type": "code",
   "execution_count": null,
   "metadata": {},
   "outputs": [],
   "source": []
  },
  {
   "cell_type": "code",
   "execution_count": null,
   "metadata": {},
   "outputs": [],
   "source": []
  },
  {
   "cell_type": "code",
   "execution_count": null,
   "metadata": {},
   "outputs": [],
   "source": []
  }
 ],
 "metadata": {
  "kernelspec": {
   "display_name": "Julia 1.10.0",
   "language": "julia",
   "name": "julia-1.10"
  },
  "language_info": {
   "file_extension": ".jl",
   "mimetype": "application/julia",
   "name": "julia",
   "version": "1.10.0"
  }
 },
 "nbformat": 4,
 "nbformat_minor": 2
}
