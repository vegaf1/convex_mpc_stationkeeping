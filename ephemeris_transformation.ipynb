{
 "cells": [
  {
   "cell_type": "code",
   "execution_count": 42,
   "metadata": {},
   "outputs": [],
   "source": [
    "#ephemeris sim\n",
    "using LinearAlgebra\n",
    "#make sure to cite this package\n",
    "using SPICE\n",
    "using Downloads: download \n",
    "using DifferentialEquations\n",
    "using Plots"
   ]
  },
  {
   "cell_type": "code",
   "execution_count": 43,
   "metadata": {},
   "outputs": [
    {
     "data": {
      "text/plain": [
       "3.414975410587678"
      ]
     },
     "metadata": {},
     "output_type": "display_data"
    }
   ],
   "source": [
    "using DelimitedFiles\n",
    "xtraj  = readdlm(\"xtraj.txt\", '\\t', Float64, '\\n')\n",
    "\n",
    "#in days\n",
    "time_steps = readdlm(\"time.txt\", '\\t', Float64, '\\n')\n",
    "#period \n",
    "\n",
    "T_periodic_n = 3.414975410587678"
   ]
  },
  {
   "cell_type": "code",
   "execution_count": 44,
   "metadata": {},
   "outputs": [],
   "source": [
    "# Load leap seconds kernel\n",
    "furnsh(\"/home/faustovega/Desktop/astrodynamics_nasa_work/naif0012.tls\")\n",
    "\n",
    "# laptop \n",
    "# furnsh(\"/home/fausto/naif0012.tls\")"
   ]
  },
  {
   "cell_type": "code",
   "execution_count": 45,
   "metadata": {},
   "outputs": [
    {
     "data": {
      "text/plain": [
       "0"
      ]
     },
     "metadata": {},
     "output_type": "display_data"
    }
   ],
   "source": [
    "# Convert the calendar date to ephemeris seconds past J2000\n",
    "\n",
    "#was 2018\n",
    "#et = utc2et(\"2018-02-06T20:45:00\")\n",
    "\n",
    "et = 0"
   ]
  },
  {
   "cell_type": "code",
   "execution_count": 46,
   "metadata": {},
   "outputs": [],
   "source": [
    "# Load a planetary ephemeris kernel\n",
    "furnsh(\"/home/faustovega/Desktop/astrodynamics_nasa_work/de440.bsp\")\n",
    "\n",
    "#laptop\n",
    "# furnsh(\"/home/fausto/de440.bsp\")"
   ]
  },
  {
   "cell_type": "code",
   "execution_count": 47,
   "metadata": {},
   "outputs": [
    {
     "data": {
      "text/plain": [
       "1.32712440017987e11"
      ]
     },
     "metadata": {},
     "output_type": "display_data"
    }
   ],
   "source": [
    "#gravitational parameters for the bodies (km3/s2)\n",
    "\n",
    "#moon \n",
    "μ_m = 4902.80058214776\n",
    "\n",
    "#earth\n",
    "μ_e = 398600.432896939\n",
    "\n",
    "#sun\n",
    "μ_s = 132712440017.987"
   ]
  },
  {
   "cell_type": "code",
   "execution_count": 48,
   "metadata": {},
   "outputs": [
    {
     "data": {
      "text/plain": [
       "1738.2"
      ]
     },
     "metadata": {},
     "output_type": "display_data"
    }
   ],
   "source": [
    "#units used to normalize\n",
    "#also in km and seconds\n",
    "\n",
    "#distance\n",
    "l_star = 385692.50\n",
    "\n",
    "#time\n",
    "t_star = 377084.152667038\n",
    "\n",
    "#in km\n",
    "lunar_radius = 1738.2 "
   ]
  },
  {
   "cell_type": "code",
   "execution_count": 36,
   "metadata": {},
   "outputs": [
    {
     "data": {
      "text/plain": [
       "0.01215058560962404"
      ]
     },
     "metadata": {},
     "output_type": "display_data"
    }
   ],
   "source": [
    "μ_earth_moon = 1.215058560962404E-2"
   ]
  },
  {
   "cell_type": "code",
   "execution_count": 37,
   "metadata": {},
   "outputs": [
    {
     "data": {
      "text/plain": [
       "3-element Vector{Float64}:\n",
       " -4686.389740239921\n",
       "     0.0\n",
       "     0.0"
      ]
     },
     "metadata": {},
     "output_type": "display_data"
    }
   ],
   "source": [
    "pose_m1 = [-μ_earth_moon*l_star , 0, 0]"
   ]
  },
  {
   "cell_type": "code",
   "execution_count": 38,
   "metadata": {},
   "outputs": [
    {
     "data": {
      "text/plain": [
       "hat (generic function with 1 method)"
      ]
     },
     "metadata": {},
     "output_type": "display_data"
    }
   ],
   "source": [
    "function hat(x)\n",
    "\n",
    "    ω_hat = [0 -x[3] x[2]; x[3] 0 -x[1]; -x[2] x[1] 0]\n",
    "\n",
    "    return ω_hat\n",
    "    \n",
    "end"
   ]
  },
  {
   "cell_type": "code",
   "execution_count": 39,
   "metadata": {},
   "outputs": [
    {
     "data": {
      "text/plain": [
       "cr3bp_to_ephem (generic function with 1 method)"
      ]
     },
     "metadata": {},
     "output_type": "display_data"
    }
   ],
   "source": [
    "#get the ECI state given a state in the rotating coordinate frame \n",
    "#all in km and s\n",
    "function cr3bp_to_ephem(x_r, time)\n",
    "\n",
    "    #state in the ECI ra\n",
    "    x_eci = zeros(6)\n",
    "\n",
    "    #time is already wrt et\n",
    "    \n",
    "    #state of the moon (position and velocity) relative to Earth (in km and km/s)\n",
    "    moon_state = spkezr(\"moon\",time,\"J2000\",\"NONE\",\"earth\")[1]\n",
    "\n",
    "    #position of the moon relative to Earth\n",
    "    r_moon = moon_state[1:3]\n",
    "\n",
    "    #velocity of the moon relative to Earth\n",
    "    v_moon = moon_state[4:6]\n",
    "\n",
    "    #x component of the rotating frame expressed in inertial coordinates\n",
    "    x̃ = r_moon/norm(r_moon)\n",
    "    #z component of the rotating frame expressed in inertial coordinates\n",
    "    z̃ = cross(r_moon, v_moon)/norm(cross(r_moon, v_moon))\n",
    "    #x component of the rotating frame expressed in inertial coordinates\n",
    "    ỹ = cross(z̃, x̃)\n",
    "\n",
    "    #instantanous rotation matrix from rotating frame to inertial frame (centered at Earth)\n",
    "    eci_R_r = [x̃ ỹ z̃]\n",
    "\n",
    "    #cr3bp assumes that the rotating frame is rotating by the mean motion \n",
    "\n",
    "    θ_dot_mm = 2*pi/2.361e6\n",
    "    #instantanous angular velocity\n",
    "    #θ_dot = norm(cross(r_moon, v_moon))/(norm(r_moon)^2)\n",
    "    #θ_dot_2 = (cross(r_moon, v_moon)/(norm(r_moon)^2))[3]\n",
    "\n",
    "    #println(\"theta dot 2: \", θ_dot_2)\n",
    "\n",
    "    ω = [0, 0, θ_dot_mm]\n",
    "\n",
    "    ω_hat= hat(ω)\n",
    "    \n",
    "    #position transformation\n",
    "    x_eci[1:3] = eci_R_r*(x_r[1:3] - pose_m1)\n",
    "\n",
    "    x_eci[4:6] = eci_R_r*x_r[4:6] + eci_R_r*ω_hat*(x_r[1:3] - pose_m1)\n",
    "\n",
    "    return x_eci\n",
    "end"
   ]
  },
  {
   "cell_type": "code",
   "execution_count": 40,
   "metadata": {},
   "outputs": [
    {
     "data": {
      "text/plain": [
       "6-element Vector{Float64}:\n",
       " 431249.946141646\n",
       "      0.0\n",
       "   2286.769716989665\n",
       "      0.0\n",
       "      0.1811228748758214\n",
       "      0.0"
      ]
     },
     "metadata": {},
     "output_type": "display_data"
    }
   ],
   "source": [
    "test = [431249.946141646,\n",
    "0.0,\n",
    "2286.769716989665,\n",
    "0.0,\n",
    "0.1811228748758214,\n",
    "0.0]"
   ]
  },
  {
   "cell_type": "code",
   "execution_count": 41,
   "metadata": {},
   "outputs": [
    {
     "data": {
      "text/plain": [
       "6-element Vector{Float64}:\n",
       " -315699.8428590055\n",
       " -289709.0899557205\n",
       "  -80299.25699339015\n",
       "       0.918770690350011\n",
       "      -0.8884391404312567\n",
       "      -0.4068140719442202"
      ]
     },
     "metadata": {},
     "output_type": "display_data"
    }
   ],
   "source": [
    "#this matches the pavlack paper\n",
    "cr3bp_to_ephem(test, 0)"
   ]
  },
  {
   "cell_type": "code",
   "execution_count": null,
   "metadata": {},
   "outputs": [],
   "source": [
    "#something is wrong with the integration..."
   ]
  }
 ],
 "metadata": {
  "kernelspec": {
   "display_name": "Julia 1.10.0",
   "language": "julia",
   "name": "julia-1.10"
  },
  "language_info": {
   "file_extension": ".jl",
   "mimetype": "application/julia",
   "name": "julia",
   "version": "1.10.0"
  }
 },
 "nbformat": 4,
 "nbformat_minor": 2
}
