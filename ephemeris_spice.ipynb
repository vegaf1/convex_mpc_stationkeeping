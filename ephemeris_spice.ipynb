{
 "cells": [
  {
   "cell_type": "code",
   "execution_count": 34,
   "metadata": {},
   "outputs": [],
   "source": [
    "using LinearAlgebra"
   ]
  },
  {
   "cell_type": "code",
   "execution_count": 35,
   "metadata": {},
   "outputs": [],
   "source": [
    "#make sure to cite this package\n",
    "using SPICE"
   ]
  },
  {
   "cell_type": "code",
   "execution_count": 36,
   "metadata": {},
   "outputs": [],
   "source": [
    "using Downloads: download "
   ]
  },
  {
   "cell_type": "code",
   "execution_count": 37,
   "metadata": {},
   "outputs": [
    {
     "data": {
      "text/plain": [
       "\"https://naif.jpl.nasa.gov/pub/naif/generic_kernels/lsk/naif0012.tls\""
      ]
     },
     "metadata": {},
     "output_type": "display_data"
    }
   ],
   "source": [
    "const LSK = \"https://naif.jpl.nasa.gov/pub/naif/generic_kernels/lsk/naif0012.tls\""
   ]
  },
  {
   "cell_type": "code",
   "execution_count": 38,
   "metadata": {},
   "outputs": [
    {
     "data": {
      "text/plain": [
       "\"https://naif.jpl.nasa.gov/pub/naif/generic_kernels/spk/planets/de440.bsp\""
      ]
     },
     "metadata": {},
     "output_type": "display_data"
    }
   ],
   "source": [
    "const SPK = \"https://naif.jpl.nasa.gov/pub/naif/generic_kernels/spk/planets/de440.bsp\""
   ]
  },
  {
   "cell_type": "code",
   "execution_count": 39,
   "metadata": {},
   "outputs": [],
   "source": [
    "# Download kernels\n",
    "#Time Kernel\n",
    "#download(LSK, \"naif0012.tls\")\n",
    "\n",
    "#JPL planetary and lunar ephermis de440\n",
    "#Contains the orbit of all the planets\n",
    "# from years 1549 to 2650 \n",
    "\n",
    "#download(SPK, \"de440.bsp\")"
   ]
  },
  {
   "cell_type": "code",
   "execution_count": 40,
   "metadata": {},
   "outputs": [],
   "source": [
    "# Load leap seconds kernel\n",
    "furnsh(\"naif0012.tls\")"
   ]
  },
  {
   "cell_type": "code",
   "execution_count": 41,
   "metadata": {},
   "outputs": [
    {
     "data": {
      "text/plain": [
       "5.712219691849319e8"
      ]
     },
     "metadata": {},
     "output_type": "display_data"
    }
   ],
   "source": [
    "# Convert the calendar date to ephemeris seconds past J2000\n",
    "et = utc2et(\"2018-02-06T20:45:00\")"
   ]
  },
  {
   "cell_type": "code",
   "execution_count": 42,
   "metadata": {},
   "outputs": [],
   "source": [
    "# Load a planetary ephemeris kernel\n",
    "furnsh(\"de440.bsp\")"
   ]
  },
  {
   "cell_type": "code",
   "execution_count": 102,
   "metadata": {},
   "outputs": [
    {
     "data": {
      "text/plain": [
       "1.32712440017987e11"
      ]
     },
     "metadata": {},
     "output_type": "display_data"
    }
   ],
   "source": [
    "#gravitational parameters for the bodies (km3/s2)\n",
    "\n",
    "#moon \n",
    "μ_m = 4902.80058214776\n",
    "\n",
    "#earth\n",
    "μ_e = 398600.432896939\n",
    "\n",
    "#sun\n",
    "μ_s = 132712440017.987"
   ]
  },
  {
   "cell_type": "code",
   "execution_count": 103,
   "metadata": {},
   "outputs": [
    {
     "data": {
      "text/plain": [
       "1738.2"
      ]
     },
     "metadata": {},
     "output_type": "display_data"
    }
   ],
   "source": [
    "#units used to normalize\n",
    "\n",
    "#distance\n",
    "l_star = 385692.50\n",
    "\n",
    "#time\n",
    "t_star = 377084.152667038\n",
    "\n",
    "#in km\n",
    "lunar_radius = 1738.2 "
   ]
  },
  {
   "cell_type": "code",
   "execution_count": 104,
   "metadata": {},
   "outputs": [
    {
     "data": {
      "text/plain": [
       "ephemeris_model_EarthMoon (generic function with 1 method)"
      ]
     },
     "metadata": {},
     "output_type": "display_data"
    }
   ],
   "source": [
    "function ephemeris_model_EarthMoon(x, t)\n",
    "\n",
    "    println(\"in\")\n",
    "    xdot = zeros(6)\n",
    "\n",
    "    xdot[1:3] = x[4:6]\n",
    "\n",
    "    #position of the spacecraft relative to the moon \n",
    "    r_qi = x[1:3]\n",
    "\n",
    "\n",
    "    time = et + t\n",
    "\n",
    "    rqj_earth = spkpos(\"earth\", time, \"J2000\", \"none\", \"moon\")[1]\n",
    "    rqj_sun = spkpos(\"sun\", time, \"J2000\", \"none\", \"moon\")[1]\n",
    "    \n",
    "    rij_earth = rqj_earth- r_qi \n",
    "    rij_sun = rqj_sun-r_qi\n",
    "\n",
    "    #r̈_qi - vectors that define the position of spacecraft (P_i)\n",
    "    #relative to the central body (in this case the moon)\n",
    "\n",
    "    #\\ splits up into multiple lines\n",
    "    xdot[4:6] = (-μ_m/(norm(r_qi))^3)*r_qi + \n",
    "                μ_e.*((rij_earth/norm(rij_earth)^3)-(rqj_earth/norm(rqj_earth)^3)) + \n",
    "                μ_s.*((rij_sun/norm(rij_sun)^3)-(rqj_sun/norm(rqj_sun)^3));\n",
    "\n",
    "    return xdot\n",
    "\n",
    "end"
   ]
  },
  {
   "cell_type": "code",
   "execution_count": 105,
   "metadata": {},
   "outputs": [
    {
     "name": "stdout",
     "output_type": "stream",
     "text": [
      "in\n"
     ]
    },
    {
     "name": "stdout",
     "output_type": "stream",
     "text": [
      "[-1.596243945293849e-13, 1.5498034957138158e-14, -8.12755285609417e-14]\n"
     ]
    },
    {
     "data": {
      "text/plain": [
       "6-element Vector{Float64}:\n",
       "    4.0\n",
       "    5.0\n",
       "    6.0\n",
       "  -93.59489803095211\n",
       " -187.18979606195023\n",
       " -280.78469409296196"
      ]
     },
     "metadata": {},
     "output_type": "display_data"
    }
   ],
   "source": [
    "xtest = [1,2,3,4,5,6]\n",
    "xdot = ephemeris_model_EarthMoon(xtest, 0)"
   ]
  },
  {
   "cell_type": "code",
   "execution_count": null,
   "metadata": {},
   "outputs": [],
   "source": []
  },
  {
   "cell_type": "code",
   "execution_count": 44,
   "metadata": {},
   "outputs": [
    {
     "data": {
      "text/plain": [
       "([-9.561252750118901e7, -2.045743839170729e8, -8.601309297738348e7], 806.0297773638883)"
      ]
     },
     "metadata": {},
     "output_type": "display_data"
    }
   ],
   "source": [
    "# Get the position of Mars at `et` w.r.t. Earth\n",
    "\n",
    "#arguments of this function\n",
    "#spkpos(targ, et, ref, abcorr, obs)\n",
    "#targ: target body name\n",
    "#et: observer epoch\n",
    "#ref: reference frame of output position vector\n",
    "#abcorr: Aberration correction flag\n",
    "#obs: Observing body name\n",
    "\n",
    "#test = spkpos(\"mars_barycenter\", et, \"J2000\", \"none\", \"earth\")"
   ]
  },
  {
   "cell_type": "code",
   "execution_count": 45,
   "metadata": {},
   "outputs": [
    {
     "data": {
      "text/plain": [
       "3-element Vector{Float64}:\n",
       " -9.561252750118901e7\n",
       " -2.045743839170729e8\n",
       " -8.601309297738348e7"
      ]
     },
     "metadata": {},
     "output_type": "display_data"
    }
   ],
   "source": [
    "test[1]"
   ]
  },
  {
   "cell_type": "code",
   "execution_count": 13,
   "metadata": {},
   "outputs": [
    {
     "data": {
      "text/plain": [
       "([-9.561252750118901e7, -2.045743839170729e8, -8.601309297738348e7, 33.8739177120663, 3.446490512117478, 0.7085588257125508], 806.0297773638883)"
      ]
     },
     "metadata": {},
     "output_type": "display_data"
    }
   ],
   "source": [
    "# Get the state (km and km/s) of Mars at `et` w.r.t. Earth\n",
    "spkezr(\"mars_barycenter\", et, \"J2000\", \"none\", \"earth\")"
   ]
  },
  {
   "cell_type": "code",
   "execution_count": 14,
   "metadata": {},
   "outputs": [
    {
     "data": {
      "text/plain": [
       "([1.0923569420120437e8, -9.09859747510202e7, -3.944269164020949e7, 20.51341475783227, 20.32949234880334, 8.813008155364525], 492.1241743294098)"
      ]
     },
     "metadata": {},
     "output_type": "display_data"
    }
   ],
   "source": [
    "rv_sun_eci, = spkezr(\"Sun\",et,\"J2000\",\"NONE\",\"Earth\") # [km] and [km/s] position and velocity of the Sun in the ECI frame"
   ]
  },
  {
   "cell_type": "code",
   "execution_count": null,
   "metadata": {},
   "outputs": [],
   "source": []
  }
 ],
 "metadata": {
  "kernelspec": {
   "display_name": "Julia 1.10.0",
   "language": "julia",
   "name": "julia-1.10"
  },
  "language_info": {
   "file_extension": ".jl",
   "mimetype": "application/julia",
   "name": "julia",
   "version": "1.10.0"
  }
 },
 "nbformat": 4,
 "nbformat_minor": 2
}
