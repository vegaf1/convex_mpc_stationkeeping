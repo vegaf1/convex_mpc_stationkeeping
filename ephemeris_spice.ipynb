{
 "cells": [
  {
   "cell_type": "code",
   "execution_count": 487,
   "metadata": {},
   "outputs": [],
   "source": [
    "using LinearAlgebra\n",
    "#make sure to cite this package\n",
    "using SPICE\n",
    "using Downloads: download \n",
    "using DifferentialEquations"
   ]
  },
  {
   "cell_type": "code",
   "execution_count": 488,
   "metadata": {},
   "outputs": [
    {
     "data": {
      "text/plain": [
       "\"https://naif.jpl.nasa.gov/pub/naif/generic_kernels/spk/planets/de440.bsp\""
      ]
     },
     "metadata": {},
     "output_type": "display_data"
    }
   ],
   "source": [
    "#const LSK = \"https://naif.jpl.nasa.gov/pub/naif/generic_kernels/lsk/naif0012.tls\"\n",
    "#const SPK = \"https://naif.jpl.nasa.gov/pub/naif/generic_kernels/spk/planets/de440.bsp\""
   ]
  },
  {
   "cell_type": "code",
   "execution_count": 489,
   "metadata": {},
   "outputs": [],
   "source": [
    "# Download kernels\n",
    "#Time Kernel\n",
    "#download(LSK, \"naif0012.tls\")\n",
    "\n",
    "#JPL planetary and lunar ephermis de440\n",
    "#Contains the orbit of all the planets\n",
    "# from years 1549 to 2650 \n",
    "\n",
    "#download(SPK, \"de440.bsp\")"
   ]
  },
  {
   "cell_type": "code",
   "execution_count": 490,
   "metadata": {},
   "outputs": [],
   "source": [
    "# Load leap seconds kernel\n",
    "furnsh(\"/home/faustovega/Desktop/astrodynamics_nasa_work/naif0012.tls\")"
   ]
  },
  {
   "cell_type": "code",
   "execution_count": 491,
   "metadata": {},
   "outputs": [
    {
     "data": {
      "text/plain": [
       "5.712219691849319e8"
      ]
     },
     "metadata": {},
     "output_type": "display_data"
    }
   ],
   "source": [
    "# Convert the calendar date to ephemeris seconds past J2000\n",
    "et = utc2et(\"2018-02-06T20:45:00\")"
   ]
  },
  {
   "cell_type": "code",
   "execution_count": 492,
   "metadata": {},
   "outputs": [],
   "source": [
    "# Load a planetary ephemeris kernel\n",
    "furnsh(\"/home/faustovega/Desktop/astrodynamics_nasa_work/de440.bsp\")"
   ]
  },
  {
   "cell_type": "code",
   "execution_count": null,
   "metadata": {},
   "outputs": [],
   "source": [
    "#gravitational parameters for the bodies (km3/s2)\n",
    "\n",
    "#moon \n",
    "μ_m = 4902.80058214776\n",
    "\n",
    "#earth\n",
    "μ_e = 398600.432896939\n",
    "\n",
    "#sun\n",
    "μ_s = 132712440017.987"
   ]
  },
  {
   "cell_type": "code",
   "execution_count": null,
   "metadata": {},
   "outputs": [],
   "source": [
    "#units used to normalize\n",
    "#also in km and seconds\n",
    "\n",
    "#distance\n",
    "l_star = 385692.50\n",
    "\n",
    "#time\n",
    "t_star = 377084.152667038\n",
    "\n",
    "#in km\n",
    "lunar_radius = 1738.2 "
   ]
  },
  {
   "cell_type": "code",
   "execution_count": null,
   "metadata": {},
   "outputs": [],
   "source": [
    "#get the jacobian that maps from rotating frame to inertial frame\n",
    "function get_transformation(time)\n",
    "\n",
    "    #state of the moon (position and velocity) relative to Earth\n",
    "    moon_state = spkezr(\"moon\",time,\"J2000\",\"NONE\",\"earth\")[1]\n",
    "\n",
    "    #position of the moon relative to Earth\n",
    "    r_moon = moon_state[1:3]\n",
    "\n",
    "    #velocity of the moon relative to Earth\n",
    "    v_moon = moon_state[4:6]\n",
    "\n",
    "    #x component of the rotating frame expressed in inertial coordinates\n",
    "    x̃ = r_moon/norm(r_moon)\n",
    "    #z component of the rotating frame expressed in inertial coordinates\n",
    "    z̃ = cross(r_moon, v_moon)/norm(cross(r_moon, v_moon))\n",
    "    #x component of the rotating frame expressed in inertial coordinates\n",
    "    ỹ = cross(z̃, x̃)\n",
    "\n",
    "    #instantanous rotation matrix from rotating frame to inertial frame (centered at Earth)\n",
    "    C = [x̃ ỹ z̃]\n",
    "\n",
    "    #instantanous angular velocity\n",
    "    #θ_dot = norm(cross(r_moon, v_moon))/(norm(r_moon)^2)\n",
    "\n",
    "    θ_dot = (cross(r_moon, v_moon)/(norm(r_moon)^2))[3]\n",
    "\n",
    "\n",
    "    return C, θ_dot\n",
    "\n",
    "end"
   ]
  },
  {
   "cell_type": "code",
   "execution_count": null,
   "metadata": {},
   "outputs": [],
   "source": [
    "C,_ = get_transformation(et)"
   ]
  },
  {
   "cell_type": "code",
   "execution_count": null,
   "metadata": {},
   "outputs": [],
   "source": [
    "#transform the controls from the CR3BP units to inertial frame \n",
    "\n",
    "#U is a matrix of the controls you want to simulate in the ephemeris model \n",
    "function transform_controls(U, dt)\n",
    "\n",
    "    #every control is associated with a timestep\n",
    "    N = size(U)[2]\n",
    "\n",
    "    U_ephem = zeros(3, N)\n",
    "\n",
    "    time = et\n",
    "\n",
    "    for i=1:N\n",
    "\n",
    "        C, _ = get_transformation(time)\n",
    "\n",
    "        U_ephem[:,i] = C*U[:,i] \n",
    "\n",
    "        time += dt\n",
    "\n",
    "    end\n",
    "\n",
    "    return U_ephem\n",
    "\n",
    "end"
   ]
  },
  {
   "cell_type": "code",
   "execution_count": null,
   "metadata": {},
   "outputs": [],
   "source": [
    "#transformation between CR3BP and ephemeris J2000 frame centered at the moon \n",
    "\n",
    "#x -> state in the CR3BP units\n",
    "#t -> time\n",
    "#et is the start time\n",
    "\n",
    "function cr3bp_to_ephem(x, t)\n",
    "\n",
    "    time = et + t\n",
    "\n",
    "    println(time)\n",
    "\n",
    "    C, θ_dot = get_transformation(time)\n",
    "\n",
    "    C̄ = [θ_dot.*C[:,2] -θ_dot.*C[:,1]]\n",
    "\n",
    "\n",
    "    #transformation matrix\n",
    "    C̃ = [C zeros(3,3); C̄ zeros(3) C]\n",
    "\n",
    "    #apply the rotation to get the state in the inertial frame\n",
    "    x_ephem = C̃*x\n",
    "\n",
    "    return x_ephem\n",
    "\n",
    "end\n",
    "\n",
    "    "
   ]
  },
  {
   "cell_type": "code",
   "execution_count": null,
   "metadata": {},
   "outputs": [],
   "source": [
    "#solve using DifferentialEquations.jl\n",
    "#the t here is somewhere from 0-period\n",
    "function ephem_dynamics!(du, u, p, t)\n",
    "    \n",
    "    #du[1:6] = ephemeris_model_EarthMoon(u[1:6], t)\n",
    "    #scaled version\n",
    "    du[1:6] = scaled_ephemeris_dynamics(u[1:6], t)\n",
    "    \n",
    "    \n",
    "end"
   ]
  },
  {
   "cell_type": "code",
   "execution_count": null,
   "metadata": {},
   "outputs": [],
   "source": [
    "#gets the state and for the entire solution\n",
    "\n",
    "function get_state(solution)\n",
    "    \n",
    "    N = size(solution.u)[1]\n",
    "\n",
    "    all_states = zeros(6, N)\n",
    "\n",
    "    for i=1:N\n",
    "        all_states[:,i] = solution.u[i][1:6]\n",
    "    end\n",
    "    \n",
    "    #all states and all stm are functions of t\n",
    "    #solution.t is the time\n",
    "    return all_states\n",
    "end"
   ]
  },
  {
   "cell_type": "code",
   "execution_count": null,
   "metadata": {},
   "outputs": [],
   "source": [
    "#integrate just the dynamics\n",
    "#start pose and length of the integration\n",
    "\n",
    "function just_dynamics_integrate(x_0, period)\n",
    "    \n",
    "    tspan = (0.0, period)\n",
    "    prob = ODEProblem(ephem_dynamics!, x_0, tspan)\n",
    "    sol = solve(prob, TsitPap8(), abstol=1e-12, reltol=1e-12)\n",
    "    \n",
    "    return sol\n",
    "    \n",
    "end"
   ]
  },
  {
   "cell_type": "code",
   "execution_count": null,
   "metadata": {},
   "outputs": [],
   "source": [
    "function ephemeris_model_EarthMoon(x, t)\n",
    "\n",
    "    xdot = zeros(6)\n",
    "\n",
    "    xdot[1:3] = x[4:6]\n",
    "\n",
    "    #position of the spacecraft relative to the earth \n",
    "    r_qi = x[1:3]\n",
    "\n",
    "    time = et + t\n",
    "\n",
    "    print(\"TIME: \", time)\n",
    "\n",
    "    #get positions of moon and sun relative to earth \n",
    "    rqj_moon = spkpos(\"moon\", time, \"J2000\", \"none\", \"earth\")[1]\n",
    "    rqj_sun = spkpos(\"sun\", time, \"J2000\", \"none\", \"earth\")[1]\n",
    "    \n",
    "    #println(\"rqj moon: \", rqj_moon)\n",
    "    rij_moon = rqj_moon- r_qi \n",
    "    rij_sun = rqj_sun-r_qi\n",
    "\n",
    "    #r̈_qi - vectors that define the position of spacecraft (P_i)\n",
    "    #relative to the central body (in this case the earth)\n",
    "\n",
    "    #just Earth and Moon\n",
    "    xdot[4:6] = (-μ_e/(norm(r_qi))^3)*r_qi +\n",
    "                μ_m.*((rij_moon/norm(rij_moon)^3)-(rqj_moon/norm(rqj_moon)^3));\n",
    "\n",
    "\n",
    "\n",
    "\n",
    "    #\\ splits up into multiple lines (including the sun)\n",
    "    # xdot[4:6] = (-μ_e/(norm(r_qi))^3)*r_qi + \n",
    "    #               μ_m.*((rij_moon/norm(rij_moon)^3)-(rqj_earth/norm(rqj_moon)^3)) +\n",
    "    #             μ_s.*((rij_sun/norm(rij_sun)^3)-(rqj_sun/norm(rqj_sun)^3));\n",
    "\n",
    "\n",
    "    return xdot\n",
    "\n",
    "end"
   ]
  },
  {
   "cell_type": "code",
   "execution_count": null,
   "metadata": {},
   "outputs": [],
   "source": [
    "#the x is scaled here as well as the t \n",
    "\n",
    "function scaled_ephemeris_dynamics(x,t)\n",
    "\n",
    "    q_original = zeros(eltype(x),3)\n",
    "    v_original = zeros(eltype(x),3)\n",
    "\n",
    "    q_original = x[1:3]*l_star \n",
    "    v_original = x[4:6]*(l_star/t_star)\n",
    "    t_original = t/t_star\n",
    "\n",
    "    x_original = [q_original; v_original]\n",
    "\n",
    "    #original is in the CR3BP units\n",
    "    ẋ_original = zeros(eltype(x),6)\n",
    "\n",
    "    #calculate the original xdot (no scaling)\n",
    "\n",
    "    ẋ_original = ephemeris_model_EarthMoon(x_original, t_original)\n",
    "    \n",
    "    #then scale the output\n",
    "    v_scaled = ẋ_original[1:3]/(l_star/t_star)\n",
    "    \n",
    "    a_scaled = ẋ_original[4:6]/(l_star/(t_star)^2)\n",
    "\n",
    "    ẋ_scaled = [v_scaled; a_scaled]\n",
    "\n",
    "    return ẋ_scaled\n",
    "\n",
    "end"
   ]
  },
  {
   "cell_type": "code",
   "execution_count": null,
   "metadata": {},
   "outputs": [],
   "source": [
    "#Relative to the moon\n",
    "\n",
    "# function ephemeris_model_EarthMoon(x, t)\n",
    "\n",
    "#     xdot = zeros(6)\n",
    "\n",
    "#     xdot[1:3] = x[4:6]\n",
    "\n",
    "#     #position of the spacecraft relative to the moon \n",
    "#     r_qi = x[1:3]\n",
    "\n",
    "#     time = et + t\n",
    "\n",
    "#     rqj_earth = spkpos(\"earth\", time, \"J2000\", \"none\", \"moon\")[1]\n",
    "#     rqj_sun = spkpos(\"sun\", time, \"J2000\", \"none\", \"moon\")[1]\n",
    "    \n",
    "#     rij_earth = rqj_earth- r_qi \n",
    "#     rij_sun = rqj_sun-r_qi\n",
    "\n",
    "#     #r̈_qi - vectors that define the position of spacecraft (P_i)\n",
    "#     #relative to the central body (in this case the moon)\n",
    "\n",
    "#     #just Earth and Moon\n",
    "#     xdot[4:6] = (-μ_m/(norm(r_qi))^3)*r_qi + \n",
    "#                 μ_e.*((rij_earth/norm(rij_earth)^3)-(rqj_earth/norm(rqj_earth)^3));\n",
    "\n",
    "\n",
    "\n",
    "\n",
    "#     #\\ splits up into multiple lines (including the sun)\n",
    "#     # xdot[4:6] = (-μ_m/(norm(r_qi))^3)*r_qi + \n",
    "#     #             μ_e.*((rij_earth/norm(rij_earth)^3)-(rqj_earth/norm(rqj_earth)^3)) + \n",
    "#     #             μ_s.*((rij_sun/norm(rij_sun)^3)-(rqj_sun/norm(rqj_sun)^3));\n",
    "\n",
    "\n",
    "#     return xdot\n",
    "\n",
    "# end"
   ]
  },
  {
   "cell_type": "code",
   "execution_count": null,
   "metadata": {},
   "outputs": [],
   "source": [
    "L_cr = 3.850e5 #in km - distance between centers of m1 and m2\n",
    "V_cr = 1.025 #in km/s - orbital velocity of m1\n",
    "T_cr = 2.361e6 #in seconds - orbital period of m1 and m2\n",
    "time_scale = T_cr/(2*pi)"
   ]
  },
  {
   "cell_type": "code",
   "execution_count": null,
   "metadata": {},
   "outputs": [],
   "source": [
    "L_nasa = 389703\n",
    "T_nasa = 382981"
   ]
  },
  {
   "cell_type": "code",
   "execution_count": null,
   "metadata": {},
   "outputs": [],
   "source": [
    "#periodic orbit initial condition in the CR3BP\n",
    "\n",
    "# x0_test = [1.1201297302380415,\n",
    "#  0.0,\n",
    "#  0.0059396759100811495,\n",
    "#  0.0,\n",
    "#  0.17677819141944426,\n",
    "#  0.0]\n",
    "\n",
    "# #in cr3bp units \n",
    "# T_periodic = 3.414975413662902\n",
    "\n",
    "\n",
    "#from https://ssd.jpl.nasa.gov/tools/periodic_orbits.html\n",
    "\n",
    "#in normalized units\n",
    "x0_test = [1.1808985497899205E+0, -2.5444988241150091E-26, 1.0295054075242347E-4, 3.3765359485568778E-15, -1.5585631393981156E-1, 5.5263881873244218E-18]\n",
    "\n",
    "T_periodic = 3.4155308065628454E+0\n",
    "\n",
    " #have to dimensionalize the CR3BP variables before getting simulated with the ephemeris model\n",
    "x0_dim = [x0_test[1:3]*L_nasa; x0_test[4:6]*(L_nasa/T_nasa)]\n",
    "\n",
    "\n",
    "#convert cr3bp state to ephemeris \n",
    "x_test_ephem = cr3bp_to_ephem(x0_dim, 0)\n",
    "\n",
    "\n",
    "T_periodic_s = T_periodic*time_scale"
   ]
  },
  {
   "cell_type": "code",
   "execution_count": null,
   "metadata": {},
   "outputs": [],
   "source": [
    "x_test_ephem_scaled = [x_test_ephem[1:3]/l_star; x_test_ephem[4:6]/(l_star/t_star)]\n",
    "\n",
    "T_ephem_scaled = T_periodic_s/t_star"
   ]
  },
  {
   "cell_type": "code",
   "execution_count": null,
   "metadata": {},
   "outputs": [],
   "source": []
  },
  {
   "cell_type": "code",
   "execution_count": null,
   "metadata": {},
   "outputs": [],
   "source": [
    "sol = just_dynamics_integrate(x_test_ephem_scaled, T_ephem_scaled)\n",
    "\n",
    "all_states = get_state(sol)"
   ]
  },
  {
   "cell_type": "code",
   "execution_count": null,
   "metadata": {},
   "outputs": [],
   "source": [
    "using Plots\n",
    "plot(all_states[1,:]*l_star, all_states[2,:]*l_star, all_states[3,:]*l_star) \n",
    "scatter!([all_states[1,1]*l_star], [all_states[2,1]*l_star], [all_states[3,1]*l_star])\n",
    "#scatter!([0], [0], [0])"
   ]
  },
  {
   "cell_type": "code",
   "execution_count": null,
   "metadata": {},
   "outputs": [],
   "source": []
  },
  {
   "cell_type": "code",
   "execution_count": null,
   "metadata": {},
   "outputs": [],
   "source": [
    "# Get the position of Mars at `et` w.r.t. Earth\n",
    "\n",
    "#arguments of this function\n",
    "#spkpos(targ, et, ref, abcorr, obs)\n",
    "#targ: target body name\n",
    "#et: observer epoch\n",
    "#ref: reference frame of output position vector\n",
    "#abcorr: Aberration correction flag\n",
    "#obs: Observing body name\n",
    "\n",
    "#test = spkpos(\"mars_barycenter\", et, \"J2000\", \"none\", \"earth\")"
   ]
  },
  {
   "cell_type": "code",
   "execution_count": null,
   "metadata": {},
   "outputs": [],
   "source": [
    "# Get the state (km and km/s) of Mars at `et` w.r.t. Earth\n",
    "#spkezr(\"mars_barycenter\", et, \"J2000\", \"none\", \"earth\")"
   ]
  },
  {
   "cell_type": "code",
   "execution_count": null,
   "metadata": {},
   "outputs": [],
   "source": [
    "rv_sun_eci, = spkezr(\"Sun\",et,\"J2000\",\"NONE\",\"Earth\") # [km] and [km/s] position and velocity of the Sun in the ECI frame"
   ]
  },
  {
   "cell_type": "code",
   "execution_count": null,
   "metadata": {},
   "outputs": [],
   "source": [
    "rv_sun_eci = spkezr(\"Sun\",et,\"J2000\",\"NONE\",\"Earth\")[1][1:3]"
   ]
  },
  {
   "cell_type": "code",
   "execution_count": null,
   "metadata": {},
   "outputs": [],
   "source": [
    "#I think the current problem is the integration is not good bc of the units"
   ]
  }
 ],
 "metadata": {
  "kernelspec": {
   "display_name": "Julia 1.10.0",
   "language": "julia",
   "name": "julia-1.10"
  },
  "language_info": {
   "file_extension": ".jl",
   "mimetype": "application/julia",
   "name": "julia",
   "version": "1.10.0"
  }
 },
 "nbformat": 4,
 "nbformat_minor": 2
}
