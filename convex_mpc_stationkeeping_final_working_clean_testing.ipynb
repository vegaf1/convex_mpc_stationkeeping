{
 "cells": [
  {
   "cell_type": "code",
   "execution_count": 1,
   "id": "480fd580",
   "metadata": {},
   "outputs": [],
   "source": [
    "using LinearAlgebra\n",
    "using ForwardDiff\n",
    "using SatelliteDynamics\n",
    "using DifferentialEquations\n",
    "using Plots\n",
    "using ECOS, Convex\n",
    "using Mosek, MosekTools"
   ]
  },
  {
   "cell_type": "code",
   "execution_count": 2,
   "id": "e6853703",
   "metadata": {},
   "outputs": [],
   "source": [
    "#from the Lyaponov orbit\n",
    "#x0_lyapunov = [ 1.1556814491008298,\n",
    "# -1.4319993886822296e-21,\n",
    "#  0.0,\n",
    "#  2.2212106056655213e-21,\n",
    "# -8.333136405918907e-6,\n",
    "#  0.0]\n",
    "\n",
    "\n",
    "\n",
    " #lyapunov_period = 3.3732524857835884\n"
   ]
  },
  {
   "cell_type": "code",
   "execution_count": 3,
   "id": "a5673ac3",
   "metadata": {},
   "outputs": [
    {
     "data": {
      "text/plain": [
       "6-element Vector{Float64}:\n",
       " 1.1556799130947355\n",
       " 0.0\n",
       " 0.0\n",
       " 0.0\n",
       " 0.0\n",
       " 0.0"
      ]
     },
     "metadata": {},
     "output_type": "display_data"
    }
   ],
   "source": [
    "#parameters for Earth Moon System\n",
    "μ = 1.215e-2\n",
    "μ1 = 1-μ\n",
    "μ2 = μ\n",
    "\n",
    "#position of mass 1\n",
    "pose_m1 = [-μ, 0, 0]\n",
    "\n",
    "#position of mass 2\n",
    "pose_m2 = [1-μ, 0, 0]\n",
    "\n",
    "#value obtained from 3BP textbook\n",
    "L = 3.850e5 #in km - distance between centers of m1 and m2\n",
    "V_ = 1.025 #in km/s - orbital velocity of m1\n",
    "T_ = 2.361e6 #in seconds - orbital period of m1 and m2\n",
    "\n",
    "time_scale = T_/(2*pi)\n",
    "\n",
    "#state of the L1 and L2 Lagrange points (computed offline)\n",
    "XL1 = [0.8369180073169304, 0, 0, 0, 0, 0]\n",
    "XL2 = [1.1556799130947355, 0, 0, 0, 0, 0]"
   ]
  },
  {
   "cell_type": "code",
   "execution_count": 4,
   "id": "1267d725",
   "metadata": {},
   "outputs": [
    {
     "data": {
      "text/plain": [
       "2.726644335279151e-6"
      ]
     },
     "metadata": {},
     "output_type": "display_data"
    }
   ],
   "source": [
    "#to get into normalized units, divide by this scale. To get normalized units to standard metric units multiply\n",
    "acceleration_scale = L/((time_scale)^2)"
   ]
  },
  {
   "cell_type": "code",
   "execution_count": 5,
   "id": "260d67ee",
   "metadata": {},
   "outputs": [
    {
     "data": {
      "text/plain": [
       "effective_potential (generic function with 1 method)"
      ]
     },
     "metadata": {},
     "output_type": "display_data"
    }
   ],
   "source": [
    "function effective_potential(X)\n",
    "    x = X[1]\n",
    "    y = X[2]\n",
    "    z = X[3]\n",
    "\n",
    "    r1 = sqrt((x+μ2)^2 + y^2 + z^2) \n",
    "    r2 = sqrt((x-μ1)^2 + y^2 + z^2)\n",
    "    #assuming m3 is unit mass\n",
    "   \n",
    "    U = (-μ1/r1)-(μ2/r2)-0.5*(x^2+y^2)\n",
    "   \n",
    "    return U\n",
    "    \n",
    "end"
   ]
  },
  {
   "cell_type": "code",
   "execution_count": 6,
   "id": "9d1c30b3",
   "metadata": {},
   "outputs": [
    {
     "data": {
      "text/plain": [
       "three_body_prob_dynamics (generic function with 1 method)"
      ]
     },
     "metadata": {},
     "output_type": "display_data"
    }
   ],
   "source": [
    "function three_body_prob_dynamics(x)\n",
    "    \n",
    "    q = zeros(eltype(x),3)\n",
    "    v = zeros(eltype(x),3)\n",
    "    q = x[1:3]\n",
    "    v = x[4:6]\n",
    "\n",
    "    ẋ = zeros(eltype(x),6)\n",
    "    U_q = zeros(eltype(x),3)\n",
    "    \n",
    "    U_q = (ForwardDiff.gradient(_x -> effective_potential(_x), q))\n",
    "        \n",
    "    ẋ[1:3] = v\n",
    "    ẋ[4] = 2*v[2] - U_q[1] \n",
    "    ẋ[5] = -2*v[1] - U_q[2]\n",
    "    ẋ[6] = -U_q[3]\n",
    "\n",
    "    return ẋ\n",
    "end"
   ]
  },
  {
   "cell_type": "code",
   "execution_count": 7,
   "id": "58029e73",
   "metadata": {},
   "outputs": [
    {
     "data": {
      "text/plain": [
       "three_body_prob_dynamics_wcontrol (generic function with 1 method)"
      ]
     },
     "metadata": {},
     "output_type": "display_data"
    }
   ],
   "source": [
    "#x[1:6] -> state\n",
    "#x[7:9] -> control inputs\n",
    "\n",
    "function three_body_prob_dynamics_wcontrol(x)\n",
    "    \n",
    "    q = zeros(eltype(x),3)\n",
    "    v = zeros(eltype(x),3)\n",
    "    q = x[1:3]\n",
    "    v = x[4:6]\n",
    "    u = x[7:9]\n",
    "\n",
    "    ẋ = zeros(eltype(x),9)\n",
    "    \n",
    "    U_q = zeros(eltype(x),3)\n",
    "    \n",
    "    U_q = (ForwardDiff.gradient(_x -> effective_potential(_x), q))\n",
    "        \n",
    "    ẋ[1:3] = v\n",
    "    ẋ[4] = 2*v[2] - U_q[1] + u[1] \n",
    "    ẋ[5] = -2*v[1] - U_q[2] + u[2]\n",
    "    ẋ[6] = -U_q[3] + u[3]\n",
    "    \n",
    "    #zero order hold on the controls \n",
    "    ẋ[7:9] = zeros(3)\n",
    "\n",
    "    return ẋ\n",
    "end"
   ]
  },
  {
   "cell_type": "code",
   "execution_count": 8,
   "id": "b44e2642",
   "metadata": {},
   "outputs": [
    {
     "data": {
      "text/plain": [
       "ST_and_dynamics_DFJL_wcontrol! (generic function with 1 method)"
      ]
     },
     "metadata": {},
     "output_type": "display_data"
    }
   ],
   "source": [
    "#solve using DifferentialEquations.jl\n",
    "function ST_and_dynamics_DFJL_wcontrol!(du, u, p, t)\n",
    "    \n",
    "    du[1:9] = three_body_prob_dynamics_wcontrol(u[1:9])\n",
    "    \n",
    "end"
   ]
  },
  {
   "cell_type": "code",
   "execution_count": 9,
   "id": "cb83d2fa",
   "metadata": {},
   "outputs": [
    {
     "data": {
      "text/plain": [
       "dynamics_wcontrol_integrate (generic function with 1 method)"
      ]
     },
     "metadata": {},
     "output_type": "display_data"
    }
   ],
   "source": [
    "function dynamics_wcontrol_integrate(x_0,period)\n",
    "    \n",
    "    tspan = (0.0, period)\n",
    "    prob = ODEProblem(ST_and_dynamics_DFJL_wcontrol!, x_0, tspan)\n",
    "    sol = solve(prob, TsitPap8(), abstol=1e-12, reltol=1e-12)\n",
    "    \n",
    "    return sol\n",
    "    \n",
    "end"
   ]
  },
  {
   "cell_type": "code",
   "execution_count": 10,
   "id": "9b9e5092",
   "metadata": {},
   "outputs": [
    {
     "data": {
      "text/plain": [
       "integrate_halfperiod (generic function with 1 method)"
      ]
     },
     "metadata": {},
     "output_type": "display_data"
    }
   ],
   "source": [
    "#input is the initial condition\n",
    "#control trajectory u (size N-1)\n",
    "\n",
    "#integrate every half orbit\n",
    "\n",
    "#u is size 20\n",
    "\n",
    "#40 knot points in one rev. each of them are equally spaced apart\n",
    "\n",
    "function integrate_halfperiod(x_0, u)\n",
    "    \n",
    "    #u will be size 20\n",
    "    \n",
    "    #x trajectory not delta x \n",
    "\n",
    "    xtraj = zeros(6, 21)\n",
    "\n",
    "    xtraj[:,1] = x_0\n",
    "\n",
    "    #go through all the controls\n",
    "    for i=1:20\n",
    "        \n",
    "        #integrate the nonlinear dynamics 1 timstep forward\n",
    "        x_0_non = [xtraj[:,i]; u[:,i]]\n",
    "\n",
    "        solution_in = dynamics_wcontrol_integrate(x_0_non, Δt)\n",
    "\n",
    "        #this is the next state\n",
    "        all_state_next = get_state_wcontrol(solution_in)\n",
    "\n",
    "        xtraj[:,i+1] = all_state_next[1:6, end]\n",
    "        \n",
    "    end\n",
    "    \n",
    "    #this is size N. 21. Element 21 is the new 1\n",
    "    return xtraj\n",
    "        \n",
    "end"
   ]
  },
  {
   "cell_type": "code",
   "execution_count": 11,
   "id": "57310ed5",
   "metadata": {},
   "outputs": [
    {
     "data": {
      "text/plain": [
       "integrate_oneperiod (generic function with 1 method)"
      ]
     },
     "metadata": {},
     "output_type": "display_data"
    }
   ],
   "source": [
    "function integrate_oneperiod(x_0, u)\n",
    "    \n",
    "    #u will be size 40 since we only want to apply the controls for one rev\n",
    "    \n",
    "    #x trajectory not delta x \n",
    "\n",
    "    xtraj = zeros(6, N_period)\n",
    "\n",
    "    xtraj[:,1] = x_0\n",
    "\n",
    "    for i=1:N_period-1\n",
    "        \n",
    "        #integrate the nonlinear dynamics 1 timstep forward\n",
    "        x_0_non = [xtraj[:,i]; u[:,i]]\n",
    "\n",
    "        solution_in = dynamics_wcontrol_integrate(x_0_non, Δt)\n",
    "\n",
    "        #this is the next state\n",
    "        all_state_next = get_state_wcontrol(solution_in)\n",
    "\n",
    "        xtraj[:,i+1] = all_state_next[1:6, end]\n",
    "    end\n",
    "    \n",
    "    #this is size N. 40 for this case\n",
    "    return xtraj\n",
    "        \n",
    "end"
   ]
  },
  {
   "cell_type": "code",
   "execution_count": 12,
   "id": "e5aa7eed",
   "metadata": {},
   "outputs": [
    {
     "data": {
      "text/plain": [
       "phi_ode (generic function with 1 method)"
      ]
     },
     "metadata": {},
     "output_type": "display_data"
    }
   ],
   "source": [
    "#ODE for the state transition matrix \n",
    "\n",
    "function phi_ode(z)\n",
    "    \n",
    "    #state vector\n",
    "    x = z[1:6]\n",
    "    \n",
    "    #state transition matrix\n",
    "    Φ = reshape(z[7:end], (6,6))\n",
    "    \n",
    "    #Find the dynamics jacobian at the state vector\n",
    "    F =  ForwardDiff.jacobian(dx -> three_body_prob_dynamics(dx), x)\n",
    "    \n",
    "    #Differential Equation of State transition Matrix\n",
    "    Φ_dot = F*Φ\n",
    "    \n",
    "    return vec(Φ_dot)\n",
    "    \n",
    "end"
   ]
  },
  {
   "cell_type": "code",
   "execution_count": 13,
   "id": "e2de6de1",
   "metadata": {},
   "outputs": [
    {
     "data": {
      "text/plain": [
       "ST_and_dynamics (generic function with 1 method)"
      ]
     },
     "metadata": {},
     "output_type": "display_data"
    }
   ],
   "source": [
    "#3BP dynamics and state transition matrix dynamics in one function \n",
    "function ST_and_dynamics(z)\n",
    "    x = z[1:6]\n",
    "    Φ = z[7:end]\n",
    "    \n",
    "    x_dot = three_body_prob_dynamics(x)\n",
    "    Φ_dot = phi_ode(z)\n",
    "    \n",
    "    z_dot = [x_dot; Φ_dot]\n",
    "    \n",
    "    return z_dot\n",
    "end"
   ]
  },
  {
   "cell_type": "code",
   "execution_count": 14,
   "id": "b51295b2",
   "metadata": {},
   "outputs": [
    {
     "data": {
      "text/plain": [
       "ST_and_dynamics_DFJL! (generic function with 1 method)"
      ]
     },
     "metadata": {},
     "output_type": "display_data"
    }
   ],
   "source": [
    "#solve using DifferentialEquations.jl\n",
    "function ST_and_dynamics_DFJL!(du, u, p, t)\n",
    "    \n",
    "    du[1:6] = three_body_prob_dynamics(u[1:6])\n",
    "    du[7:end] = phi_ode(u)\n",
    "    \n",
    "end"
   ]
  },
  {
   "cell_type": "code",
   "execution_count": 15,
   "id": "2206cb48",
   "metadata": {},
   "outputs": [
    {
     "data": {
      "text/plain": [
       "justdynamics_DFJL! (generic function with 1 method)"
      ]
     },
     "metadata": {},
     "output_type": "display_data"
    }
   ],
   "source": [
    "#solve using DifferentialEquations.jl\n",
    "function justdynamics_DFJL!(du, u, p, t)\n",
    "    \n",
    "    du[1:6] = three_body_prob_dynamics(u[1:6])\n",
    "    \n",
    "end"
   ]
  },
  {
   "cell_type": "code",
   "execution_count": 16,
   "id": "c3f0d90f",
   "metadata": {},
   "outputs": [
    {
     "data": {
      "text/plain": [
       "get_state_stm (generic function with 1 method)"
      ]
     },
     "metadata": {},
     "output_type": "display_data"
    }
   ],
   "source": [
    "#gets the state and state transition matrix for the entire solution\n",
    "\n",
    "function get_state_stm(solution)\n",
    "    \n",
    "    N = size(solution.u)[1]\n",
    "\n",
    "    all_states = zeros(6, N)\n",
    "\n",
    "    all_stm = zeros(6,6,N)\n",
    "\n",
    "    for i=1:N\n",
    "        all_states[:,i] = solution.u[i][1:6]\n",
    "        all_stm[:,:,i] = reshape(solution.u[i][7:end], (6,6)) \n",
    "    end\n",
    "    \n",
    "    #all states and all stm are functions of t\n",
    "    #solution.t is the time\n",
    "    return all_states, all_stm, solution.t \n",
    "end"
   ]
  },
  {
   "cell_type": "code",
   "execution_count": 17,
   "id": "f7c99707",
   "metadata": {},
   "outputs": [
    {
     "data": {
      "text/plain": [
       "get_state_wcontrol (generic function with 1 method)"
      ]
     },
     "metadata": {},
     "output_type": "display_data"
    }
   ],
   "source": [
    "#gets the state and transition matrix for the entire solution\n",
    "\n",
    "function get_state_wcontrol(solution)\n",
    "    \n",
    "    N = size(solution.u)[1]\n",
    "\n",
    "    all_states = zeros(9, N)\n",
    "\n",
    "    for i=1:N\n",
    "        all_states[:,i] = solution.u[i][1:9]\n",
    "    end\n",
    "    \n",
    "    #all states and all stm are functions of t\n",
    "    #solution.t is the time\n",
    "    return all_states\n",
    "end"
   ]
  },
  {
   "cell_type": "code",
   "execution_count": 18,
   "id": "eb1bb835",
   "metadata": {},
   "outputs": [
    {
     "data": {
      "text/plain": [
       "get_state (generic function with 1 method)"
      ]
     },
     "metadata": {},
     "output_type": "display_data"
    }
   ],
   "source": [
    "#gets the state and transition matrix for the entire solution\n",
    "\n",
    "function get_state(solution)\n",
    "    \n",
    "    N = size(solution.u)[1]\n",
    "\n",
    "    all_states = zeros(6, N)\n",
    "\n",
    "    for i=1:N\n",
    "        all_states[:,i] = solution.u[i][1:6]\n",
    "    end\n",
    "    \n",
    "    #all states and all stm are functions of t\n",
    "    #solution.t is the time\n",
    "    return all_states\n",
    "end"
   ]
  },
  {
   "cell_type": "code",
   "execution_count": 19,
   "id": "d38178c9",
   "metadata": {},
   "outputs": [
    {
     "data": {
      "text/plain": [
       "diff_solve (generic function with 1 method)"
      ]
     },
     "metadata": {},
     "output_type": "display_data"
    }
   ],
   "source": [
    "\n",
    "#this solved until we cross the xz plane\n",
    "function diff_solve(x_0, period)\n",
    "    \n",
    "    #stop when y=0\n",
    "    condition(u,t,integrator) = u[2]\n",
    "    \n",
    "    affect!(integrator) = terminate!(integrator)\n",
    "    \n",
    "    cb = ContinuousCallback(condition, affect!)\n",
    "    \n",
    "    tspan = (0.0, period)\n",
    "    prob = ODEProblem(ST_and_dynamics_DFJL!, x_0, tspan)\n",
    "    sol = solve(prob, TsitPap8(), abstol = 1e-12, reltol=1e-12, callback=cb)\n",
    "    \n",
    "    return sol\n",
    "    \n",
    "end"
   ]
  },
  {
   "cell_type": "code",
   "execution_count": 20,
   "id": "27f72562",
   "metadata": {},
   "outputs": [
    {
     "data": {
      "text/plain": [
       "dynamics_integrate (generic function with 1 method)"
      ]
     },
     "metadata": {},
     "output_type": "display_data"
    }
   ],
   "source": [
    "#integrate dynamics and state transition matrix\n",
    "function dynamics_integrate(x_0, period)\n",
    "    \n",
    "    tspan = (0.0, period)\n",
    "    prob = ODEProblem(ST_and_dynamics_DFJL!, x_0, tspan)\n",
    "    sol = solve(prob, TsitPap8(), abstol=1e-12, reltol=1e-12)\n",
    "    \n",
    "    return sol\n",
    "    \n",
    "end"
   ]
  },
  {
   "cell_type": "code",
   "execution_count": 21,
   "id": "e0b14fc0",
   "metadata": {},
   "outputs": [
    {
     "data": {
      "text/plain": [
       "just_dynamics_integrate (generic function with 1 method)"
      ]
     },
     "metadata": {},
     "output_type": "display_data"
    }
   ],
   "source": [
    "#integrate just the dynamics\n",
    "function just_dynamics_integrate(x_0, period)\n",
    "    \n",
    "    tspan = (0.0, period)\n",
    "    prob = ODEProblem(justdynamics_DFJL!, x_0, tspan)\n",
    "    sol = solve(prob, TsitPap8(), abstol=1e-12, reltol=1e-12)\n",
    "    \n",
    "    return sol\n",
    "    \n",
    "end"
   ]
  },
  {
   "cell_type": "code",
   "execution_count": 22,
   "id": "9945de49",
   "metadata": {},
   "outputs": [
    {
     "data": {
      "text/plain": [
       "1.2802860740198337e6"
      ]
     },
     "metadata": {},
     "output_type": "display_data"
    }
   ],
   "source": [
    "3.4071472466192527*time_scale"
   ]
  },
  {
   "cell_type": "code",
   "execution_count": 23,
   "id": "a658f3fb",
   "metadata": {},
   "outputs": [
    {
     "data": {
      "text/plain": [
       "6-element Vector{Float64}:\n",
       " 1.1201297302380415\n",
       " 0.0\n",
       " 0.014654708958207016\n",
       " 0.0\n",
       " 0.17331212810099958\n",
       " 0.0"
      ]
     },
     "metadata": {},
     "output_type": "display_data"
    }
   ],
   "source": [
    "using DelimitedFiles\n",
    "#period of the halo orbit. From ThreeBodyProblem.jl\n",
    "T = 3.4071472466192527\n",
    "\n",
    "#read in the initial guess trajectory. Richardson expansion from ThreeBodyProblem.jl\n",
    "richardson  = readdlm(\"richardsonL2.txt\", '\\t', Float64, '\\n')'\n",
    "\n",
    "x0_L2 = richardson[:,1]\n",
    "\n",
    "#for lyaponov\n",
    "#x0_L2 = x0_lyapunov\n",
    "\n",
    "#T = lyapunov_period"
   ]
  },
  {
   "cell_type": "code",
   "execution_count": 24,
   "id": "2e9c0384",
   "metadata": {},
   "outputs": [
    {
     "data": {
      "text/plain": [
       "6×6 Matrix{Float64}:\n",
       "  0.0       0.0       0.0       1.0   0.0   0.0\n",
       "  0.0       0.0       0.0       0.0   1.0   0.0\n",
       "  0.0       0.0       0.0       0.0   0.0   1.0\n",
       "  7.38087   0.0       0.0       0.0   2.0   0.0\n",
       " -0.0      -2.19044  -0.0      -2.0  -0.0  -0.0\n",
       " -0.0      -0.0      -3.19044  -0.0  -0.0  -0.0"
      ]
     },
     "metadata": {},
     "output_type": "display_data"
    }
   ],
   "source": [
    "#linearize the dynamics about the L2 Lagrange Point and go in the planar direction\n",
    "AL2 = ForwardDiff.jacobian(x-> three_body_prob_dynamics(x), XL2)"
   ]
  },
  {
   "cell_type": "code",
   "execution_count": 25,
   "id": "6e80f9bc",
   "metadata": {},
   "outputs": [],
   "source": [
    "#nonzero_cmplx_eigen_L2 = cmplx_eigen_L2[cmplx_eigen_L2 .!=0]"
   ]
  },
  {
   "cell_type": "code",
   "execution_count": 26,
   "id": "e86fa5a0",
   "metadata": {},
   "outputs": [],
   "source": [
    "#marginally stable directions (periodic motion)\n",
    "#direction2_L2 = A_L2_eigen.vectors[:, 2]\n",
    "#direction3_L2 = A_L2_eigen.vectors[:, 3]\n",
    "#direction4_L2 = A_L2_eigen.vectors[:, 4]\n",
    "#direction5_L2 = A_L2_eigen.vectors[:, 5]"
   ]
  },
  {
   "cell_type": "code",
   "execution_count": 27,
   "id": "f5ddcb14",
   "metadata": {},
   "outputs": [],
   "source": [
    "#display(direction2_L2)\n",
    "#display(direction3_L2)\n",
    "#display(direction4_L2)\n",
    "#display(direction5_L2)\n",
    "#directions 2 and 3 correspond to out of plane motion. We will select a perturbation\n",
    "#in plane to get a Lyaponov orbit"
   ]
  },
  {
   "cell_type": "code",
   "execution_count": 28,
   "id": "b787093e",
   "metadata": {},
   "outputs": [],
   "source": [
    "#nonzero_cmplx_eigen_L2"
   ]
  },
  {
   "cell_type": "code",
   "execution_count": 29,
   "id": "d237ee61",
   "metadata": {},
   "outputs": [],
   "source": [
    "#real(direction2_L2)"
   ]
  },
  {
   "cell_type": "code",
   "execution_count": 30,
   "id": "2d9b3398",
   "metadata": {},
   "outputs": [],
   "source": [
    "#real(direction3_L2)"
   ]
  },
  {
   "cell_type": "code",
   "execution_count": 31,
   "id": "a2a222eb",
   "metadata": {},
   "outputs": [],
   "source": [
    "#real(direction4_L2)"
   ]
  },
  {
   "cell_type": "code",
   "execution_count": 32,
   "id": "77da11e4",
   "metadata": {},
   "outputs": [],
   "source": [
    "#real(direction5_L2)"
   ]
  },
  {
   "cell_type": "code",
   "execution_count": 33,
   "id": "cdfd3d6b",
   "metadata": {},
   "outputs": [],
   "source": [
    "#we will perturb the L2 lagrange point by direction 5 (planar stable direction)\n",
    "#approximate the period of Lyaponov orbit with T = |omega|/(2π) where omega = |λ_5|\n",
    "\n",
    "#λ_planar = norm(A_L2_eigen.values[5])\n",
    "#T_planar = 2*pi/λ_planar\n",
    "\n",
    "#set T to whatever direction you use\n",
    "#T = T_planar\n",
    "\n",
    "#weight of the perturbation (1e-3 works)\n",
    "#w2 = 1e-5\n",
    "\n",
    "#this is the perturbation in the planar direction\n",
    "#perturbation_planar_L2 = w2*(real(direction5_L2))\n",
    "\n",
    "#this is a linear combination between both of the directions\n",
    "#x0_L2 = XL2 + perturbation_planar_L2"
   ]
  },
  {
   "cell_type": "code",
   "execution_count": 34,
   "id": "bd12982e",
   "metadata": {},
   "outputs": [
    {
     "data": {
      "text/plain": [
       "([1.1201297302380415 1.1201315793894473 … 0.9598168359898963 0.9601713534220018; 0.0 0.002749466088557135 … -0.1169121350923755 -0.1172922996760091; … ; 0.17331212810099958 0.17320299972633757 … -0.029955511950586725 -0.017751032310781314; 0.0 -0.0013561046076076924 … 0.02590301832776876 0.02739485752939118], [1.0 0.0 … 0.0 0.0; 0.0 1.0 … 0.0 0.0; … ; 0.0 0.0 … 1.0 0.0; 0.0 0.0 … 0.0 1.0;;; 1.0015713531460613 7.090514858391351e-6 … 0.0002519065358273217 1.1438607094496763e-6; -3.086698612464229e-6 0.9993916134512492 … 0.01586169617188272 2.6498267536445577e-9; … ; -0.000583496383959822 -0.07665588588942303 … 0.9988886487108988 6.673536414028363e-7; 0.027262012051412838 0.0002792703296158481 … 5.240284891879581e-6 0.9992894271883602;;; 1.0080003686062222 8.117874078240962e-5 … 0.0012847681230624035 1.3111158861986725e-5; -3.541048474710067e-5 0.9969079306213369 … 0.035730603567059024 6.811595437706528e-8; … ; -0.0029652318462916227 -0.17244118009599924 … 0.9943602906842132 7.574464030103643e-6; 0.06142582770339529 0.0014140810510685567 … 5.987289239036817e-5 0.9963890672933117;;; … ;;; -420.6554887779596 4.72920808675761 … -89.62338651468704 -4.827162312474347; 170.84474661533685 -2.1509402732497427 … 36.139369134630094 1.9616977221016645; … ; -1910.999329805167 25.544792217202794 … -405.0357827788213 -21.70312869134663; -216.2850735806112 2.605516027023469 … -45.85419216108686 -3.183769320347745;;; -426.2411103369191 4.796772363519866 … -90.83183962059175 -4.890260547761791; 128.86412703861524 -1.5901976923392145 … 27.241385216289874 1.4848082614517524; … ; -1900.849127085926 25.370642283851158 … -402.90308234551395 -21.59851749610766; -207.02826037362684 2.4910986814025406 … -43.89116257047531 -3.0361581321408786;;; -430.91634524924604 4.85501234542165 … -91.84024724093054 -4.943084037774807; 98.58077311067554 -1.1862319270925716 … 20.822426165865625 1.1406502426175944; … ; -1899.1114108081442 25.318958334729412 … -402.549165620721 -21.586484155327174; -201.07275090186903 2.4190119388182048 … -42.627930050669654 -2.9364069785043094], [0.0, 0.01586757603594295, 0.035797999964084566, 0.057320352178705555, 0.08132342100624915, 0.10684383469538514, 0.1340021232031844, 0.16243877899037995, 0.19214153327056102, 0.22300080804785272  …  3.2454376015934794, 3.260523577661569, 3.2762697060943493, 3.292844916322997, 3.3103144647955007, 3.3288137607017267, 3.3483817240070164, 3.3691700853885527, 3.3912051978194033, 3.4071472466192527])"
      ]
     },
     "metadata": {},
     "output_type": "display_data"
    }
   ],
   "source": [
    "#Integrate the dynamics with the initial state of the Richardson expansion as the first state\n",
    "Φ_0 = vec(Matrix(1.0*I, 6,6))\n",
    "x_0_stm = [x0_L2; Φ_0]\n",
    "\n",
    "solution_in = dynamics_integrate(x_0_stm, T)\n",
    "\n",
    "all_state_in, stm_in, sol_t_in = get_state_stm(solution_in)"
   ]
  },
  {
   "cell_type": "code",
   "execution_count": 35,
   "id": "01ab67ab",
   "metadata": {},
   "outputs": [],
   "source": [
    "#a = LinRange(1,2,10)"
   ]
  },
  {
   "cell_type": "code",
   "execution_count": 36,
   "id": "82c094ef",
   "metadata": {},
   "outputs": [],
   "source": [
    "#solution_in(a).u[2]"
   ]
  },
  {
   "cell_type": "code",
   "execution_count": 37,
   "id": "ffc69868",
   "metadata": {},
   "outputs": [
    {
     "data": {
      "text/plain": [
       "6-element Vector{Float64}:\n",
       " -0.15995837681603975\n",
       " -0.1172922996760091\n",
       " -0.02626106608221971\n",
       "  0.02291137489818987\n",
       " -0.1910631604117809\n",
       "  0.02739485752939118"
      ]
     },
     "metadata": {},
     "output_type": "display_data"
    }
   ],
   "source": [
    "initial_norm = all_state_in[:,end] - all_state_in[:,1]"
   ]
  },
  {
   "cell_type": "code",
   "execution_count": 38,
   "id": "592767c6",
   "metadata": {},
   "outputs": [
    {
     "data": {
      "image/png": "[encoded data removed]",
      "image/svg+xml": [
       "<?xml version=\"1.0\" encoding=\"utf-8\"?>\n",
       "<svg xmlns=\"http://www.w3.org/2000/svg\" xmlns:xlink=\"http://www.w3.org/1999/xlink\" width=\"600\" height=\"400\" viewBox=\"0 0 2400 1600\">\n",
       "<defs>\n",
       "  <clipPath id=\"clip080\">\n",
       "    <rect x=\"0\" y=\"0\" width=\"2400\" height=\"1600\"/>\n",
       "  </clipPath>\n",
       "</defs>\n",
       "<path clip-path=\"url(#clip080)\" d=\"M0 1600 L2400 1600 L2400 0 L0 0  Z\" fill=\"#ffffff\" fill-rule=\"evenodd\" fill-opacity=\"1\"/>\n",
       "<defs>\n",
       "  <clipPath id=\"clip081\">\n",
       "    <rect x=\"480\" y=\"0\" width=\"1681\" height=\"1600\"/>\n",
       "  </clipPath>\n",
       "</defs>\n",
       "<path clip-path=\"url(#clip080)\" d=\"M287.366 1423.18 L2352.76 1423.18 L2352.76 47.2441 L287.366 47.2441  Z\" fill=\"#ffffff\" fill-rule=\"evenodd\" fill-opacity=\"1\"/>\n",
       "<defs>\n",
       "  <clipPath id=\"clip082\">\n",
       "    <rect x=\"287\" y=\"47\" width=\"2066\" height=\"1377\"/>\n",
       "  </clipPath>\n",
       "</defs>\n",
       "<polyline clip-path=\"url(#clip082)\" style=\"stroke:#000000; stroke-linecap:round; stroke-linejoin:round; stroke-width:2; stroke-opacity:0.1; fill:none\" points=\"340.829,1423.18 340.829,47.2441 \"/>\n",
       "<polyline clip-path=\"url(#clip082)\" style=\"stroke:#000000; stroke-linecap:round; stroke-linejoin:round; stroke-width:2; stroke-opacity:0.1; fill:none\" points=\"779.975,1423.18 779.975,47.2441 \"/>\n",
       "<polyline clip-path=\"url(#clip082)\" style=\"stroke:#000000; stroke-linecap:round; stroke-linejoin:round; stroke-width:2; stroke-opacity:0.1; fill:none\" points=\"1219.12,1423.18 1219.12,47.2441 \"/>\n",
       "<polyline clip-path=\"url(#clip082)\" style=\"stroke:#000000; stroke-linecap:round; stroke-linejoin:round; stroke-width:2; stroke-opacity:0.1; fill:none\" points=\"1658.26,1423.18 1658.26,47.2441 \"/>\n",
       "<polyline clip-path=\"url(#clip082)\" style=\"stroke:#000000; stroke-linecap:round; stroke-linejoin:round; stroke-width:2; stroke-opacity:0.1; fill:none\" points=\"2097.41,1423.18 2097.41,47.2441 \"/>\n",
       "<polyline clip-path=\"url(#clip080)\" style=\"stroke:#000000; stroke-linecap:round; stroke-linejoin:round; stroke-width:4; stroke-opacity:1; fill:none\" points=\"287.366,1423.18 2352.76,1423.18 \"/>\n",
       "<polyline clip-path=\"url(#clip080)\" style=\"stroke:#000000; stroke-linecap:round; stroke-linejoin:round; stroke-width:4; stroke-opacity:1; fill:none\" points=\"340.829,1423.18 340.829,1404.28 \"/>\n",
       "<polyline clip-path=\"url(#clip080)\" style=\"stroke:#000000; stroke-linecap:round; stroke-linejoin:round; stroke-width:4; stroke-opacity:1; fill:none\" points=\"779.975,1423.18 779.975,1404.28 \"/>\n",
       "<polyline clip-path=\"url(#clip080)\" style=\"stroke:#000000; stroke-linecap:round; stroke-linejoin:round; stroke-width:4; stroke-opacity:1; fill:none\" points=\"1219.12,1423.18 1219.12,1404.28 \"/>\n",
       "<polyline clip-path=\"url(#clip080)\" style=\"stroke:#000000; stroke-linecap:round; stroke-linejoin:round; stroke-width:4; stroke-opacity:1; fill:none\" points=\"1658.26,1423.18 1658.26,1404.28 \"/>\n",
       "<polyline clip-path=\"url(#clip080)\" style=\"stroke:#000000; stroke-linecap:round; stroke-linejoin:round; stroke-width:4; stroke-opacity:1; fill:none\" points=\"2097.41,1423.18 2097.41,1404.28 \"/>\n",
       "<path clip-path=\"url(#clip080)\" d=\"M303.631 1454.1 Q300.019 1454.1 298.191 1457.66 Q296.385 1461.2 296.385 1468.33 Q296.385 1475.44 298.191 1479.01 Q300.019 1482.55 303.631 1482.55 Q307.265 1482.55 309.07 1479.01 Q310.899 1475.44 310.899 1468.33 Q310.899 1461.2 309.07 1457.66 Q307.265 1454.1 303.631 1454.1 M303.631 1450.39 Q309.441 1450.39 312.496 1455 Q315.575 1459.58 315.575 1468.33 Q315.575 1477.06 312.496 1481.67 Q309.441 1486.25 303.631 1486.25 Q297.82 1486.25 294.742 1481.67 Q291.686 1477.06 291.686 1468.33 Q291.686 1459.58 294.742 1455 Q297.82 1450.39 303.631 1450.39 Z\" fill=\"#000000\" fill-rule=\"nonzero\" fill-opacity=\"1\" /><path clip-path=\"url(#clip080)\" d=\"M323.792 1479.7 L328.677 1479.7 L328.677 1485.58 L323.792 1485.58 L323.792 1479.7 Z\" fill=\"#000000\" fill-rule=\"nonzero\" fill-opacity=\"1\" /><path clip-path=\"url(#clip080)\" d=\"M339.001 1484.86 L339.001 1480.6 Q340.76 1481.44 342.566 1481.88 Q344.371 1482.32 346.107 1482.32 Q350.737 1482.32 353.167 1479.21 Q355.621 1476.09 355.968 1469.75 Q354.626 1471.74 352.565 1472.8 Q350.505 1473.87 348.005 1473.87 Q342.82 1473.87 339.788 1470.74 Q336.779 1467.59 336.779 1462.15 Q336.779 1456.83 339.927 1453.61 Q343.075 1450.39 348.306 1450.39 Q354.302 1450.39 357.45 1455 Q360.621 1459.58 360.621 1468.33 Q360.621 1476.51 356.732 1481.39 Q352.866 1486.25 346.316 1486.25 Q344.556 1486.25 342.751 1485.9 Q340.945 1485.56 339.001 1484.86 M348.306 1470.21 Q351.454 1470.21 353.283 1468.06 Q355.135 1465.9 355.135 1462.15 Q355.135 1458.43 353.283 1456.27 Q351.454 1454.1 348.306 1454.1 Q345.158 1454.1 343.306 1456.27 Q341.478 1458.43 341.478 1462.15 Q341.478 1465.9 343.306 1468.06 Q345.158 1470.21 348.306 1470.21 Z\" fill=\"#000000\" fill-rule=\"nonzero\" fill-opacity=\"1\" /><path clip-path=\"url(#clip080)\" d=\"M369.07 1451.02 L387.426 1451.02 L387.426 1454.96 L373.352 1454.96 L373.352 1463.43 Q374.371 1463.08 375.389 1462.92 Q376.408 1462.73 377.426 1462.73 Q383.213 1462.73 386.593 1465.9 Q389.973 1469.08 389.973 1474.49 Q389.973 1480.07 386.5 1483.17 Q383.028 1486.25 376.709 1486.25 Q374.533 1486.25 372.264 1485.88 Q370.019 1485.51 367.612 1484.77 L367.612 1480.07 Q369.695 1481.2 371.917 1481.76 Q374.139 1482.32 376.616 1482.32 Q380.621 1482.32 382.959 1480.21 Q385.297 1478.1 385.297 1474.49 Q385.297 1470.88 382.959 1468.77 Q380.621 1466.67 376.616 1466.67 Q374.741 1466.67 372.866 1467.08 Q371.014 1467.5 369.07 1468.38 L369.07 1451.02 Z\" fill=\"#000000\" fill-rule=\"nonzero\" fill-opacity=\"1\" /><path clip-path=\"url(#clip080)\" d=\"M732.047 1481.64 L739.685 1481.64 L739.685 1455.28 L731.375 1456.95 L731.375 1452.69 L739.639 1451.02 L744.315 1451.02 L744.315 1481.64 L751.954 1481.64 L751.954 1485.58 L732.047 1485.58 L732.047 1481.64 Z\" fill=\"#000000\" fill-rule=\"nonzero\" fill-opacity=\"1\" /><path clip-path=\"url(#clip080)\" d=\"M761.398 1479.7 L766.282 1479.7 L766.282 1485.58 L761.398 1485.58 L761.398 1479.7 Z\" fill=\"#000000\" fill-rule=\"nonzero\" fill-opacity=\"1\" /><path clip-path=\"url(#clip080)\" d=\"M786.468 1454.1 Q782.856 1454.1 781.028 1457.66 Q779.222 1461.2 779.222 1468.33 Q779.222 1475.44 781.028 1479.01 Q782.856 1482.55 786.468 1482.55 Q790.102 1482.55 791.907 1479.01 Q793.736 1475.44 793.736 1468.33 Q793.736 1461.2 791.907 1457.66 Q790.102 1454.1 786.468 1454.1 M786.468 1450.39 Q792.278 1450.39 795.333 1455 Q798.412 1459.58 798.412 1468.33 Q798.412 1477.06 795.333 1481.67 Q792.278 1486.25 786.468 1486.25 Q780.657 1486.25 777.579 1481.67 Q774.523 1477.06 774.523 1468.33 Q774.523 1459.58 777.579 1455 Q780.657 1450.39 786.468 1450.39 Z\" fill=\"#000000\" fill-rule=\"nonzero\" fill-opacity=\"1\" /><path clip-path=\"url(#clip080)\" d=\"M816.629 1454.1 Q813.018 1454.1 811.19 1457.66 Q809.384 1461.2 809.384 1468.33 Q809.384 1475.44 811.19 1479.01 Q813.018 1482.55 816.629 1482.55 Q820.264 1482.55 822.069 1479.01 Q823.898 1475.44 823.898 1468.33 Q823.898 1461.2 822.069 1457.66 Q820.264 1454.1 816.629 1454.1 M816.629 1450.39 Q822.44 1450.39 825.495 1455 Q828.574 1459.58 828.574 1468.33 Q828.574 1477.06 825.495 1481.67 Q822.44 1486.25 816.629 1486.25 Q810.819 1486.25 807.741 1481.67 Q804.685 1477.06 804.685 1468.33 Q804.685 1459.58 807.741 1455 Q810.819 1450.39 816.629 1450.39 Z\" fill=\"#000000\" fill-rule=\"nonzero\" fill-opacity=\"1\" /><path clip-path=\"url(#clip080)\" d=\"M1171.69 1481.64 L1179.33 1481.64 L1179.33 1455.28 L1171.02 1456.95 L1171.02 1452.69 L1179.28 1451.02 L1183.96 1451.02 L1183.96 1481.64 L1191.6 1481.64 L1191.6 1485.58 L1171.69 1485.58 L1171.69 1481.64 Z\" fill=\"#000000\" fill-rule=\"nonzero\" fill-opacity=\"1\" /><path clip-path=\"url(#clip080)\" d=\"M1201.04 1479.7 L1205.93 1479.7 L1205.93 1485.58 L1201.04 1485.58 L1201.04 1479.7 Z\" fill=\"#000000\" fill-rule=\"nonzero\" fill-opacity=\"1\" /><path clip-path=\"url(#clip080)\" d=\"M1226.11 1454.1 Q1222.5 1454.1 1220.67 1457.66 Q1218.86 1461.2 1218.86 1468.33 Q1218.86 1475.44 1220.67 1479.01 Q1222.5 1482.55 1226.11 1482.55 Q1229.74 1482.55 1231.55 1479.01 Q1233.38 1475.44 1233.38 1468.33 Q1233.38 1461.2 1231.55 1457.66 Q1229.74 1454.1 1226.11 1454.1 M1226.11 1450.39 Q1231.92 1450.39 1234.98 1455 Q1238.05 1459.58 1238.05 1468.33 Q1238.05 1477.06 1234.98 1481.67 Q1231.92 1486.25 1226.11 1486.25 Q1220.3 1486.25 1217.22 1481.67 Q1214.17 1477.06 1214.17 1468.33 Q1214.17 1459.58 1217.22 1455 Q1220.3 1450.39 1226.11 1450.39 Z\" fill=\"#000000\" fill-rule=\"nonzero\" fill-opacity=\"1\" /><path clip-path=\"url(#clip080)\" d=\"M1246.32 1451.02 L1264.67 1451.02 L1264.67 1454.96 L1250.6 1454.96 L1250.6 1463.43 Q1251.62 1463.08 1252.64 1462.92 Q1253.66 1462.73 1254.67 1462.73 Q1260.46 1462.73 1263.84 1465.9 Q1267.22 1469.08 1267.22 1474.49 Q1267.22 1480.07 1263.75 1483.17 Q1260.28 1486.25 1253.96 1486.25 Q1251.78 1486.25 1249.51 1485.88 Q1247.27 1485.51 1244.86 1484.77 L1244.86 1480.07 Q1246.94 1481.2 1249.17 1481.76 Q1251.39 1482.32 1253.86 1482.32 Q1257.87 1482.32 1260.21 1480.21 Q1262.55 1478.1 1262.55 1474.49 Q1262.55 1470.88 1260.21 1468.77 Q1257.87 1466.67 1253.86 1466.67 Q1251.99 1466.67 1250.11 1467.08 Q1248.26 1467.5 1246.32 1468.38 L1246.32 1451.02 Z\" fill=\"#000000\" fill-rule=\"nonzero\" fill-opacity=\"1\" /><path clip-path=\"url(#clip080)\" d=\"M1610.34 1481.64 L1617.98 1481.64 L1617.98 1455.28 L1609.67 1456.95 L1609.67 1452.69 L1617.93 1451.02 L1622.61 1451.02 L1622.61 1481.64 L1630.24 1481.64 L1630.24 1485.58 L1610.34 1485.58 L1610.34 1481.64 Z\" fill=\"#000000\" fill-rule=\"nonzero\" fill-opacity=\"1\" /><path clip-path=\"url(#clip080)\" d=\"M1639.69 1479.7 L1644.57 1479.7 L1644.57 1485.58 L1639.69 1485.58 L1639.69 1479.7 Z\" fill=\"#000000\" fill-rule=\"nonzero\" fill-opacity=\"1\" /><path clip-path=\"url(#clip080)\" d=\"M1655.57 1481.64 L1663.21 1481.64 L1663.21 1455.28 L1654.9 1456.95 L1654.9 1452.69 L1663.16 1451.02 L1667.84 1451.02 L1667.84 1481.64 L1675.48 1481.64 L1675.48 1485.58 L1655.57 1485.58 L1655.57 1481.64 Z\" fill=\"#000000\" fill-rule=\"nonzero\" fill-opacity=\"1\" /><path clip-path=\"url(#clip080)\" d=\"M1694.92 1454.1 Q1691.31 1454.1 1689.48 1457.66 Q1687.67 1461.2 1687.67 1468.33 Q1687.67 1475.44 1689.48 1479.01 Q1691.31 1482.55 1694.92 1482.55 Q1698.55 1482.55 1700.36 1479.01 Q1702.19 1475.44 1702.19 1468.33 Q1702.19 1461.2 1700.36 1457.66 Q1698.55 1454.1 1694.92 1454.1 M1694.92 1450.39 Q1700.73 1450.39 1703.79 1455 Q1706.86 1459.58 1706.86 1468.33 Q1706.86 1477.06 1703.79 1481.67 Q1700.73 1486.25 1694.92 1486.25 Q1689.11 1486.25 1686.03 1481.67 Q1682.98 1477.06 1682.98 1468.33 Q1682.98 1459.58 1686.03 1455 Q1689.11 1450.39 1694.92 1450.39 Z\" fill=\"#000000\" fill-rule=\"nonzero\" fill-opacity=\"1\" /><path clip-path=\"url(#clip080)\" d=\"M2049.98 1481.64 L2057.62 1481.64 L2057.62 1455.28 L2049.31 1456.95 L2049.31 1452.69 L2057.57 1451.02 L2062.25 1451.02 L2062.25 1481.64 L2069.89 1481.64 L2069.89 1485.58 L2049.98 1485.58 L2049.98 1481.64 Z\" fill=\"#000000\" fill-rule=\"nonzero\" fill-opacity=\"1\" /><path clip-path=\"url(#clip080)\" d=\"M2079.33 1479.7 L2084.22 1479.7 L2084.22 1485.58 L2079.33 1485.58 L2079.33 1479.7 Z\" fill=\"#000000\" fill-rule=\"nonzero\" fill-opacity=\"1\" /><path clip-path=\"url(#clip080)\" d=\"M2095.21 1481.64 L2102.85 1481.64 L2102.85 1455.28 L2094.54 1456.95 L2094.54 1452.69 L2102.8 1451.02 L2107.48 1451.02 L2107.48 1481.64 L2115.12 1481.64 L2115.12 1485.58 L2095.21 1485.58 L2095.21 1481.64 Z\" fill=\"#000000\" fill-rule=\"nonzero\" fill-opacity=\"1\" /><path clip-path=\"url(#clip080)\" d=\"M2124.61 1451.02 L2142.97 1451.02 L2142.97 1454.96 L2128.89 1454.96 L2128.89 1463.43 Q2129.91 1463.08 2130.93 1462.92 Q2131.95 1462.73 2132.97 1462.73 Q2138.75 1462.73 2142.13 1465.9 Q2145.51 1469.08 2145.51 1474.49 Q2145.51 1480.07 2142.04 1483.17 Q2138.57 1486.25 2132.25 1486.25 Q2130.07 1486.25 2127.8 1485.88 Q2125.56 1485.51 2123.15 1484.77 L2123.15 1480.07 Q2125.23 1481.2 2127.46 1481.76 Q2129.68 1482.32 2132.15 1482.32 Q2136.16 1482.32 2138.5 1480.21 Q2140.84 1478.1 2140.84 1474.49 Q2140.84 1470.88 2138.5 1468.77 Q2136.16 1466.67 2132.15 1466.67 Q2130.28 1466.67 2128.4 1467.08 Q2126.55 1467.5 2124.61 1468.38 L2124.61 1451.02 Z\" fill=\"#000000\" fill-rule=\"nonzero\" fill-opacity=\"1\" /><path clip-path=\"url(#clip080)\" d=\"M1336.68 1532.4 L1323.78 1549.74 L1337.34 1568.04 L1330.44 1568.04 L1320.06 1554.04 L1309.68 1568.04 L1302.78 1568.04 L1316.62 1549.39 L1303.96 1532.4 L1310.86 1532.4 L1320.32 1545.1 L1329.77 1532.4 L1336.68 1532.4 Z\" fill=\"#000000\" fill-rule=\"nonzero\" fill-opacity=\"1\" /><polyline clip-path=\"url(#clip082)\" style=\"stroke:#000000; stroke-linecap:round; stroke-linejoin:round; stroke-width:2; stroke-opacity:0.1; fill:none\" points=\"287.366,1273.79 2352.76,1273.79 \"/>\n",
       "<polyline clip-path=\"url(#clip082)\" style=\"stroke:#000000; stroke-linecap:round; stroke-linejoin:round; stroke-width:2; stroke-opacity:0.1; fill:none\" points=\"287.366,954.422 2352.76,954.422 \"/>\n",
       "<polyline clip-path=\"url(#clip082)\" style=\"stroke:#000000; stroke-linecap:round; stroke-linejoin:round; stroke-width:2; stroke-opacity:0.1; fill:none\" points=\"287.366,635.057 2352.76,635.057 \"/>\n",
       "<polyline clip-path=\"url(#clip082)\" style=\"stroke:#000000; stroke-linecap:round; stroke-linejoin:round; stroke-width:2; stroke-opacity:0.1; fill:none\" points=\"287.366,315.692 2352.76,315.692 \"/>\n",
       "<polyline clip-path=\"url(#clip080)\" style=\"stroke:#000000; stroke-linecap:round; stroke-linejoin:round; stroke-width:4; stroke-opacity:1; fill:none\" points=\"287.366,1423.18 287.366,47.2441 \"/>\n",
       "<polyline clip-path=\"url(#clip080)\" style=\"stroke:#000000; stroke-linecap:round; stroke-linejoin:round; stroke-width:4; stroke-opacity:1; fill:none\" points=\"287.366,1273.79 306.264,1273.79 \"/>\n",
       "<polyline clip-path=\"url(#clip080)\" style=\"stroke:#000000; stroke-linecap:round; stroke-linejoin:round; stroke-width:4; stroke-opacity:1; fill:none\" points=\"287.366,954.422 306.264,954.422 \"/>\n",
       "<polyline clip-path=\"url(#clip080)\" style=\"stroke:#000000; stroke-linecap:round; stroke-linejoin:round; stroke-width:4; stroke-opacity:1; fill:none\" points=\"287.366,635.057 306.264,635.057 \"/>\n",
       "<polyline clip-path=\"url(#clip080)\" style=\"stroke:#000000; stroke-linecap:round; stroke-linejoin:round; stroke-width:4; stroke-opacity:1; fill:none\" points=\"287.366,315.692 306.264,315.692 \"/>\n",
       "<path clip-path=\"url(#clip080)\" d=\"M114.26 1274.24 L143.936 1274.24 L143.936 1278.17 L114.26 1278.17 L114.26 1274.24 Z\" fill=\"#000000\" fill-rule=\"nonzero\" fill-opacity=\"1\" /><path clip-path=\"url(#clip080)\" d=\"M164.028 1259.59 Q160.417 1259.59 158.589 1263.15 Q156.783 1266.69 156.783 1273.82 Q156.783 1280.93 158.589 1284.49 Q160.417 1288.03 164.028 1288.03 Q167.663 1288.03 169.468 1284.49 Q171.297 1280.93 171.297 1273.82 Q171.297 1266.69 169.468 1263.15 Q167.663 1259.59 164.028 1259.59 M164.028 1255.88 Q169.839 1255.88 172.894 1260.49 Q175.973 1265.07 175.973 1273.82 Q175.973 1282.55 172.894 1287.16 Q169.839 1291.74 164.028 1291.74 Q158.218 1291.74 155.14 1287.16 Q152.084 1282.55 152.084 1273.82 Q152.084 1265.07 155.14 1260.49 Q158.218 1255.88 164.028 1255.88 Z\" fill=\"#000000\" fill-rule=\"nonzero\" fill-opacity=\"1\" /><path clip-path=\"url(#clip080)\" d=\"M184.19 1285.19 L189.075 1285.19 L189.075 1291.07 L184.19 1291.07 L184.19 1285.19 Z\" fill=\"#000000\" fill-rule=\"nonzero\" fill-opacity=\"1\" /><path clip-path=\"url(#clip080)\" d=\"M200.07 1287.13 L207.709 1287.13 L207.709 1260.77 L199.399 1262.43 L199.399 1258.17 L207.662 1256.51 L212.338 1256.51 L212.338 1287.13 L219.977 1287.13 L219.977 1291.07 L200.07 1291.07 L200.07 1287.13 Z\" fill=\"#000000\" fill-rule=\"nonzero\" fill-opacity=\"1\" /><path clip-path=\"url(#clip080)\" d=\"M239.422 1259.59 Q235.81 1259.59 233.982 1263.15 Q232.176 1266.69 232.176 1273.82 Q232.176 1280.93 233.982 1284.49 Q235.81 1288.03 239.422 1288.03 Q243.056 1288.03 244.861 1284.49 Q246.69 1280.93 246.69 1273.82 Q246.69 1266.69 244.861 1263.15 Q243.056 1259.59 239.422 1259.59 M239.422 1255.88 Q245.232 1255.88 248.287 1260.49 Q251.366 1265.07 251.366 1273.82 Q251.366 1282.55 248.287 1287.16 Q245.232 1291.74 239.422 1291.74 Q233.611 1291.74 230.533 1287.16 Q227.477 1282.55 227.477 1273.82 Q227.477 1265.07 230.533 1260.49 Q233.611 1255.88 239.422 1255.88 Z\" fill=\"#000000\" fill-rule=\"nonzero\" fill-opacity=\"1\" /><path clip-path=\"url(#clip080)\" d=\"M115.256 954.874 L144.931 954.874 L144.931 958.809 L115.256 958.809 L115.256 954.874 Z\" fill=\"#000000\" fill-rule=\"nonzero\" fill-opacity=\"1\" /><path clip-path=\"url(#clip080)\" d=\"M165.024 940.221 Q161.413 940.221 159.584 943.786 Q157.778 947.327 157.778 954.457 Q157.778 961.563 159.584 965.128 Q161.413 968.67 165.024 968.67 Q168.658 968.67 170.464 965.128 Q172.292 961.563 172.292 954.457 Q172.292 947.327 170.464 943.786 Q168.658 940.221 165.024 940.221 M165.024 936.517 Q170.834 936.517 173.889 941.124 Q176.968 945.707 176.968 954.457 Q176.968 963.184 173.889 967.79 Q170.834 972.373 165.024 972.373 Q159.214 972.373 156.135 967.79 Q153.079 963.184 153.079 954.457 Q153.079 945.707 156.135 941.124 Q159.214 936.517 165.024 936.517 Z\" fill=\"#000000\" fill-rule=\"nonzero\" fill-opacity=\"1\" /><path clip-path=\"url(#clip080)\" d=\"M185.186 965.823 L190.07 965.823 L190.07 971.702 L185.186 971.702 L185.186 965.823 Z\" fill=\"#000000\" fill-rule=\"nonzero\" fill-opacity=\"1\" /><path clip-path=\"url(#clip080)\" d=\"M210.255 940.221 Q206.644 940.221 204.815 943.786 Q203.01 947.327 203.01 954.457 Q203.01 961.563 204.815 965.128 Q206.644 968.67 210.255 968.67 Q213.889 968.67 215.695 965.128 Q217.523 961.563 217.523 954.457 Q217.523 947.327 215.695 943.786 Q213.889 940.221 210.255 940.221 M210.255 936.517 Q216.065 936.517 219.121 941.124 Q222.199 945.707 222.199 954.457 Q222.199 963.184 219.121 967.79 Q216.065 972.373 210.255 972.373 Q204.445 972.373 201.366 967.79 Q198.311 963.184 198.311 954.457 Q198.311 945.707 201.366 941.124 Q204.445 936.517 210.255 936.517 Z\" fill=\"#000000\" fill-rule=\"nonzero\" fill-opacity=\"1\" /><path clip-path=\"url(#clip080)\" d=\"M230.463 937.142 L248.82 937.142 L248.82 941.077 L234.746 941.077 L234.746 949.55 Q235.764 949.202 236.783 949.04 Q237.801 948.855 238.82 948.855 Q244.607 948.855 247.986 952.026 Q251.366 955.198 251.366 960.614 Q251.366 966.193 247.894 969.295 Q244.421 972.373 238.102 972.373 Q235.926 972.373 233.658 972.003 Q231.412 971.633 229.005 970.892 L229.005 966.193 Q231.088 967.327 233.31 967.883 Q235.533 968.438 238.009 968.438 Q242.014 968.438 244.352 966.332 Q246.69 964.225 246.69 960.614 Q246.69 957.003 244.352 954.897 Q242.014 952.79 238.009 952.79 Q236.135 952.79 234.26 953.207 Q232.408 953.624 230.463 954.503 L230.463 937.142 Z\" fill=\"#000000\" fill-rule=\"nonzero\" fill-opacity=\"1\" /><path clip-path=\"url(#clip080)\" d=\"M164.028 620.856 Q160.417 620.856 158.589 624.421 Q156.783 627.962 156.783 635.092 Q156.783 642.198 158.589 645.763 Q160.417 649.305 164.028 649.305 Q167.663 649.305 169.468 645.763 Q171.297 642.198 171.297 635.092 Q171.297 627.962 169.468 624.421 Q167.663 620.856 164.028 620.856 M164.028 617.152 Q169.839 617.152 172.894 621.759 Q175.973 626.342 175.973 635.092 Q175.973 643.819 172.894 648.425 Q169.839 653.009 164.028 653.009 Q158.218 653.009 155.14 648.425 Q152.084 643.819 152.084 635.092 Q152.084 626.342 155.14 621.759 Q158.218 617.152 164.028 617.152 Z\" fill=\"#000000\" fill-rule=\"nonzero\" fill-opacity=\"1\" /><path clip-path=\"url(#clip080)\" d=\"M184.19 646.458 L189.075 646.458 L189.075 652.337 L184.19 652.337 L184.19 646.458 Z\" fill=\"#000000\" fill-rule=\"nonzero\" fill-opacity=\"1\" /><path clip-path=\"url(#clip080)\" d=\"M209.26 620.856 Q205.649 620.856 203.82 624.421 Q202.014 627.962 202.014 635.092 Q202.014 642.198 203.82 645.763 Q205.649 649.305 209.26 649.305 Q212.894 649.305 214.699 645.763 Q216.528 642.198 216.528 635.092 Q216.528 627.962 214.699 624.421 Q212.894 620.856 209.26 620.856 M209.26 617.152 Q215.07 617.152 218.125 621.759 Q221.204 626.342 221.204 635.092 Q221.204 643.819 218.125 648.425 Q215.07 653.009 209.26 653.009 Q203.449 653.009 200.371 648.425 Q197.315 643.819 197.315 635.092 Q197.315 626.342 200.371 621.759 Q203.449 617.152 209.26 617.152 Z\" fill=\"#000000\" fill-rule=\"nonzero\" fill-opacity=\"1\" /><path clip-path=\"url(#clip080)\" d=\"M239.422 620.856 Q235.81 620.856 233.982 624.421 Q232.176 627.962 232.176 635.092 Q232.176 642.198 233.982 645.763 Q235.81 649.305 239.422 649.305 Q243.056 649.305 244.861 645.763 Q246.69 642.198 246.69 635.092 Q246.69 627.962 244.861 624.421 Q243.056 620.856 239.422 620.856 M239.422 617.152 Q245.232 617.152 248.287 621.759 Q251.366 626.342 251.366 635.092 Q251.366 643.819 248.287 648.425 Q245.232 653.009 239.422 653.009 Q233.611 653.009 230.533 648.425 Q227.477 643.819 227.477 635.092 Q227.477 626.342 230.533 621.759 Q233.611 617.152 239.422 617.152 Z\" fill=\"#000000\" fill-rule=\"nonzero\" fill-opacity=\"1\" /><path clip-path=\"url(#clip080)\" d=\"M165.024 301.491 Q161.413 301.491 159.584 305.056 Q157.778 308.597 157.778 315.727 Q157.778 322.833 159.584 326.398 Q161.413 329.94 165.024 329.94 Q168.658 329.94 170.464 326.398 Q172.292 322.833 172.292 315.727 Q172.292 308.597 170.464 305.056 Q168.658 301.491 165.024 301.491 M165.024 297.787 Q170.834 297.787 173.889 302.394 Q176.968 306.977 176.968 315.727 Q176.968 324.454 173.889 329.06 Q170.834 333.644 165.024 333.644 Q159.214 333.644 156.135 329.06 Q153.079 324.454 153.079 315.727 Q153.079 306.977 156.135 302.394 Q159.214 297.787 165.024 297.787 Z\" fill=\"#000000\" fill-rule=\"nonzero\" fill-opacity=\"1\" /><path clip-path=\"url(#clip080)\" d=\"M185.186 327.093 L190.07 327.093 L190.07 332.972 L185.186 332.972 L185.186 327.093 Z\" fill=\"#000000\" fill-rule=\"nonzero\" fill-opacity=\"1\" /><path clip-path=\"url(#clip080)\" d=\"M210.255 301.491 Q206.644 301.491 204.815 305.056 Q203.01 308.597 203.01 315.727 Q203.01 322.833 204.815 326.398 Q206.644 329.94 210.255 329.94 Q213.889 329.94 215.695 326.398 Q217.523 322.833 217.523 315.727 Q217.523 308.597 215.695 305.056 Q213.889 301.491 210.255 301.491 M210.255 297.787 Q216.065 297.787 219.121 302.394 Q222.199 306.977 222.199 315.727 Q222.199 324.454 219.121 329.06 Q216.065 333.644 210.255 333.644 Q204.445 333.644 201.366 329.06 Q198.311 324.454 198.311 315.727 Q198.311 306.977 201.366 302.394 Q204.445 297.787 210.255 297.787 Z\" fill=\"#000000\" fill-rule=\"nonzero\" fill-opacity=\"1\" /><path clip-path=\"url(#clip080)\" d=\"M230.463 298.412 L248.82 298.412 L248.82 302.347 L234.746 302.347 L234.746 310.82 Q235.764 310.472 236.783 310.31 Q237.801 310.125 238.82 310.125 Q244.607 310.125 247.986 313.296 Q251.366 316.468 251.366 321.884 Q251.366 327.463 247.894 330.565 Q244.421 333.644 238.102 333.644 Q235.926 333.644 233.658 333.273 Q231.412 332.903 229.005 332.162 L229.005 327.463 Q231.088 328.597 233.31 329.153 Q235.533 329.708 238.009 329.708 Q242.014 329.708 244.352 327.602 Q246.69 325.495 246.69 321.884 Q246.69 318.273 244.352 316.167 Q242.014 314.06 238.009 314.06 Q236.135 314.06 234.26 314.477 Q232.408 314.894 230.463 315.773 L230.463 298.412 Z\" fill=\"#000000\" fill-rule=\"nonzero\" fill-opacity=\"1\" /><path clip-path=\"url(#clip080)\" d=\"M67.3143 733.525 Q73.68 736.008 75.6216 738.363 Q77.5631 740.718 77.5631 744.665 L77.5631 749.344 L72.6615 749.344 L72.6615 745.906 Q72.6615 743.487 71.5157 742.151 Q70.3699 740.814 66.1048 739.191 L63.4312 738.14 L28.3562 752.559 L28.3562 746.352 L56.238 735.212 L28.3562 724.072 L28.3562 717.865 L67.3143 733.525 Z\" fill=\"#000000\" fill-rule=\"nonzero\" fill-opacity=\"1\" /><polyline clip-path=\"url(#clip082)\" style=\"stroke:#009af9; stroke-linecap:round; stroke-linejoin:round; stroke-width:4; stroke-opacity:1; fill:none\" points=\"1835.06,635.057 1835.08,617.496 1835.15,595.471 1835.28,571.777 1835.52,545.526 1835.88,517.897 1836.43,488.906 1837.2,459.111 1838.29,428.714 1839.77,398.037 1841.76,367.283 1844.39,336.626 1847.81,306.279 1852.22,276.444 1857.82,247.379 1864.79,219.507 1873.31,193.297 1883.51,169.179 1895.53,147.489 1909.51,128.511 1925.53,112.579 1943.71,100 1964.13,91.1282 1986.76,86.3843 2011.51,86.1857 2037.95,90.8875 2065.47,100.626 2093.38,115.279 2121.22,134.714 2148.56,158.793 2174.84,187.219 2199.56,219.674 2222.27,255.83 2242.5,295.242 2259.84,337.428 2273.93,381.814 2284.52,428.037 2291.36,475.491 2294.3,523.688 2293.22,572.053 2288.09,620.062 2278.92,667.175 2265.81,712.864 2248.89,756.618 2228.38,797.96 2204.53,836.434 2177.68,871.643 2148.17,903.235 2116.41,930.924 2082.81,954.506 2047.82,973.867 2011.81,988.986 1975.18,999.922 1938.24,1006.81 1901.28,1009.85 1864.54,1009.29 1828.18,1005.4 1792.37,998.497 1757.18,988.9 1722.68,976.936 1688.91,962.932 1655.87,947.208 1623.56,930.067 1591.96,911.802 1561.03,892.679 1530.74,872.947 1501.11,852.866 1472.26,832.75 1444.29,812.884 1416.42,792.876 1389.1,773.212 1362.14,753.866 1335.59,734.998 1309.41,716.656 1283.6,698.925 1258.14,681.843 1233.05,665.47 1208.31,649.831 1183.97,634.974 1160.1,620.952 1136.65,607.739 1113.07,595.043 1089.82,583.117 1066.73,571.89 1043.96,561.432 1021.14,551.583 998.597,542.487 976.178,534.082 953.98,526.405 932.009,519.453 910.364,513.249 889.114,507.794 868.359,503.091 848.146,499.119 828.517,495.851 809.489,493.255 791.097,491.296 773.369,489.936 756.406,489.136 740.637,488.847 723.587,489.046 706.817,489.78 690.448,491.032 674.962,492.728 660.432,494.792 647.207,497.086 634.394,499.705 621.472,502.762 608.699,506.213 595.853,510.14 582.856,514.606 569.387,519.793 556.357,525.391 544.33,531.103 532.918,537.045 522.34,543.041 512.628,548.994 503.599,554.943 494.246,561.56 485.092,568.523 475.907,576.039 466.738,584.122 457.877,592.544 449.485,601.136 441.583,609.84 434.16,618.622 427.235,627.41 420.801,636.155 414.907,644.721 409.677,652.821 404.365,661.589 399.24,670.639 394.238,680.112 389.4,689.971 384.728,700.253 380.259,710.919 376.004,721.98 371.984,733.422 368.217,745.228 364.722,757.364 361.511,769.818 358.596,782.552 355.999,795.455 353.754,808.279 351.758,821.585 350.019,835.439 348.578,849.604 347.435,864.116 346.59,879.041 346.054,894.175 345.82,909.661 345.889,925.469 346.258,941.541 346.921,957.9 347.871,974.479 349.104,991.352 350.606,1008.43 352.365,1025.71 354.376,1043.22 356.609,1060.83 359.071,1078.68 361.719,1096.56 364.552,1114.57 367.532,1132.56 370.649,1150.58 373.863,1168.47 377.149,1186.19 380.482,1203.68 383.84,1220.89 387.195,1237.72 390.523,1254.07 393.806,1269.88 397.038,1285.09 400.209,1299.6 403.336,1313.42 406.432,1326.45 409.537,1338.69 412.683,1349.99 415.926,1360.2 419.326,1369.08 422.993,1376.4 427.05,1381.81 430.163,1384.24 \"/>\n",
       "<path clip-path=\"url(#clip080)\" d=\"M356.212 196.789 L615.182 196.789 L615.182 93.1086 L356.212 93.1086  Z\" fill=\"#ffffff\" fill-rule=\"evenodd\" fill-opacity=\"1\"/>\n",
       "<polyline clip-path=\"url(#clip080)\" style=\"stroke:#000000; stroke-linecap:round; stroke-linejoin:round; stroke-width:4; stroke-opacity:1; fill:none\" points=\"356.212,196.789 615.182,196.789 615.182,93.1086 356.212,93.1086 356.212,196.789 \"/>\n",
       "<polyline clip-path=\"url(#clip080)\" style=\"stroke:#009af9; stroke-linecap:round; stroke-linejoin:round; stroke-width:4; stroke-opacity:1; fill:none\" points=\"379.161,144.949 516.854,144.949 \"/>\n",
       "<path clip-path=\"url(#clip080)\" d=\"M553.645 164.636 Q551.839 169.266 550.126 170.678 Q548.414 172.09 545.543 172.09 L542.14 172.09 L542.14 168.525 L544.64 168.525 Q546.4 168.525 547.372 167.692 Q548.344 166.858 549.525 163.756 L550.289 161.812 L539.802 136.303 L544.316 136.303 L552.418 156.581 L560.52 136.303 L565.034 136.303 L553.645 164.636 Z\" fill=\"#000000\" fill-rule=\"nonzero\" fill-opacity=\"1\" /><path clip-path=\"url(#clip080)\" d=\"M572.325 158.293 L579.964 158.293 L579.964 131.928 L571.654 133.595 L571.654 129.335 L579.918 127.669 L584.594 127.669 L584.594 158.293 L592.233 158.293 L592.233 162.229 L572.325 162.229 L572.325 158.293 Z\" fill=\"#000000\" fill-rule=\"nonzero\" fill-opacity=\"1\" /></svg>\n"
      ],
      "text/html": [
       "<?xml version=\"1.0\" encoding=\"utf-8\"?>\n",
       "<svg xmlns=\"http://www.w3.org/2000/svg\" xmlns:xlink=\"http://www.w3.org/1999/xlink\" width=\"600\" height=\"400\" viewBox=\"0 0 2400 1600\">\n",
       "<defs>\n",
       "  <clipPath id=\"clip130\">\n",
       "    <rect x=\"0\" y=\"0\" width=\"2400\" height=\"1600\"/>\n",
       "  </clipPath>\n",
       "</defs>\n",
       "<path clip-path=\"url(#clip130)\" d=\"M0 1600 L2400 1600 L2400 0 L0 0  Z\" fill=\"#ffffff\" fill-rule=\"evenodd\" fill-opacity=\"1\"/>\n",
       "<defs>\n",
       "  <clipPath id=\"clip131\">\n",
       "    <rect x=\"480\" y=\"0\" width=\"1681\" height=\"1600\"/>\n",
       "  </clipPath>\n",
       "</defs>\n",
       "<path clip-path=\"url(#clip130)\" d=\"M287.366 1423.18 L2352.76 1423.18 L2352.76 47.2441 L287.366 47.2441  Z\" fill=\"#ffffff\" fill-rule=\"evenodd\" fill-opacity=\"1\"/>\n",
       "<defs>\n",
       "  <clipPath id=\"clip132\">\n",
       "    <rect x=\"287\" y=\"47\" width=\"2066\" height=\"1377\"/>\n",
       "  </clipPath>\n",
       "</defs>\n",
       "<polyline clip-path=\"url(#clip132)\" style=\"stroke:#000000; stroke-linecap:round; stroke-linejoin:round; stroke-width:2; stroke-opacity:0.1; fill:none\" points=\"340.829,1423.18 340.829,47.2441 \"/>\n",
       "<polyline clip-path=\"url(#clip132)\" style=\"stroke:#000000; stroke-linecap:round; stroke-linejoin:round; stroke-width:2; stroke-opacity:0.1; fill:none\" points=\"779.975,1423.18 779.975,47.2441 \"/>\n",
       "<polyline clip-path=\"url(#clip132)\" style=\"stroke:#000000; stroke-linecap:round; stroke-linejoin:round; stroke-width:2; stroke-opacity:0.1; fill:none\" points=\"1219.12,1423.18 1219.12,47.2441 \"/>\n",
       "<polyline clip-path=\"url(#clip132)\" style=\"stroke:#000000; stroke-linecap:round; stroke-linejoin:round; stroke-width:2; stroke-opacity:0.1; fill:none\" points=\"1658.26,1423.18 1658.26,47.2441 \"/>\n",
       "<polyline clip-path=\"url(#clip132)\" style=\"stroke:#000000; stroke-linecap:round; stroke-linejoin:round; stroke-width:2; stroke-opacity:0.1; fill:none\" points=\"2097.41,1423.18 2097.41,47.2441 \"/>\n",
       "<polyline clip-path=\"url(#clip130)\" style=\"stroke:#000000; stroke-linecap:round; stroke-linejoin:round; stroke-width:4; stroke-opacity:1; fill:none\" points=\"287.366,1423.18 2352.76,1423.18 \"/>\n",
       "<polyline clip-path=\"url(#clip130)\" style=\"stroke:#000000; stroke-linecap:round; stroke-linejoin:round; stroke-width:4; stroke-opacity:1; fill:none\" points=\"340.829,1423.18 340.829,1404.28 \"/>\n",
       "<polyline clip-path=\"url(#clip130)\" style=\"stroke:#000000; stroke-linecap:round; stroke-linejoin:round; stroke-width:4; stroke-opacity:1; fill:none\" points=\"779.975,1423.18 779.975,1404.28 \"/>\n",
       "<polyline clip-path=\"url(#clip130)\" style=\"stroke:#000000; stroke-linecap:round; stroke-linejoin:round; stroke-width:4; stroke-opacity:1; fill:none\" points=\"1219.12,1423.18 1219.12,1404.28 \"/>\n",
       "<polyline clip-path=\"url(#clip130)\" style=\"stroke:#000000; stroke-linecap:round; stroke-linejoin:round; stroke-width:4; stroke-opacity:1; fill:none\" points=\"1658.26,1423.18 1658.26,1404.28 \"/>\n",
       "<polyline clip-path=\"url(#clip130)\" style=\"stroke:#000000; stroke-linecap:round; stroke-linejoin:round; stroke-width:4; stroke-opacity:1; fill:none\" points=\"2097.41,1423.18 2097.41,1404.28 \"/>\n",
       "<path clip-path=\"url(#clip130)\" d=\"M303.631 1454.1 Q300.019 1454.1 298.191 1457.66 Q296.385 1461.2 296.385 1468.33 Q296.385 1475.44 298.191 1479.01 Q300.019 1482.55 303.631 1482.55 Q307.265 1482.55 309.07 1479.01 Q310.899 1475.44 310.899 1468.33 Q310.899 1461.2 309.07 1457.66 Q307.265 1454.1 303.631 1454.1 M303.631 1450.39 Q309.441 1450.39 312.496 1455 Q315.575 1459.58 315.575 1468.33 Q315.575 1477.06 312.496 1481.67 Q309.441 1486.25 303.631 1486.25 Q297.82 1486.25 294.742 1481.67 Q291.686 1477.06 291.686 1468.33 Q291.686 1459.58 294.742 1455 Q297.82 1450.39 303.631 1450.39 Z\" fill=\"#000000\" fill-rule=\"nonzero\" fill-opacity=\"1\" /><path clip-path=\"url(#clip130)\" d=\"M323.792 1479.7 L328.677 1479.7 L328.677 1485.58 L323.792 1485.58 L323.792 1479.7 Z\" fill=\"#000000\" fill-rule=\"nonzero\" fill-opacity=\"1\" /><path clip-path=\"url(#clip130)\" d=\"M339.001 1484.86 L339.001 1480.6 Q340.76 1481.44 342.566 1481.88 Q344.371 1482.32 346.107 1482.32 Q350.737 1482.32 353.167 1479.21 Q355.621 1476.09 355.968 1469.75 Q354.626 1471.74 352.565 1472.8 Q350.505 1473.87 348.005 1473.87 Q342.82 1473.87 339.788 1470.74 Q336.779 1467.59 336.779 1462.15 Q336.779 1456.83 339.927 1453.61 Q343.075 1450.39 348.306 1450.39 Q354.302 1450.39 357.45 1455 Q360.621 1459.58 360.621 1468.33 Q360.621 1476.51 356.732 1481.39 Q352.866 1486.25 346.316 1486.25 Q344.556 1486.25 342.751 1485.9 Q340.945 1485.56 339.001 1484.86 M348.306 1470.21 Q351.454 1470.21 353.283 1468.06 Q355.135 1465.9 355.135 1462.15 Q355.135 1458.43 353.283 1456.27 Q351.454 1454.1 348.306 1454.1 Q345.158 1454.1 343.306 1456.27 Q341.478 1458.43 341.478 1462.15 Q341.478 1465.9 343.306 1468.06 Q345.158 1470.21 348.306 1470.21 Z\" fill=\"#000000\" fill-rule=\"nonzero\" fill-opacity=\"1\" /><path clip-path=\"url(#clip130)\" d=\"M369.07 1451.02 L387.426 1451.02 L387.426 1454.96 L373.352 1454.96 L373.352 1463.43 Q374.371 1463.08 375.389 1462.92 Q376.408 1462.73 377.426 1462.73 Q383.213 1462.73 386.593 1465.9 Q389.973 1469.08 389.973 1474.49 Q389.973 1480.07 386.5 1483.17 Q383.028 1486.25 376.709 1486.25 Q374.533 1486.25 372.264 1485.88 Q370.019 1485.51 367.612 1484.77 L367.612 1480.07 Q369.695 1481.2 371.917 1481.76 Q374.139 1482.32 376.616 1482.32 Q380.621 1482.32 382.959 1480.21 Q385.297 1478.1 385.297 1474.49 Q385.297 1470.88 382.959 1468.77 Q380.621 1466.67 376.616 1466.67 Q374.741 1466.67 372.866 1467.08 Q371.014 1467.5 369.07 1468.38 L369.07 1451.02 Z\" fill=\"#000000\" fill-rule=\"nonzero\" fill-opacity=\"1\" /><path clip-path=\"url(#clip130)\" d=\"M732.047 1481.64 L739.685 1481.64 L739.685 1455.28 L731.375 1456.95 L731.375 1452.69 L739.639 1451.02 L744.315 1451.02 L744.315 1481.64 L751.954 1481.64 L751.954 1485.58 L732.047 1485.58 L732.047 1481.64 Z\" fill=\"#000000\" fill-rule=\"nonzero\" fill-opacity=\"1\" /><path clip-path=\"url(#clip130)\" d=\"M761.398 1479.7 L766.282 1479.7 L766.282 1485.58 L761.398 1485.58 L761.398 1479.7 Z\" fill=\"#000000\" fill-rule=\"nonzero\" fill-opacity=\"1\" /><path clip-path=\"url(#clip130)\" d=\"M786.468 1454.1 Q782.856 1454.1 781.028 1457.66 Q779.222 1461.2 779.222 1468.33 Q779.222 1475.44 781.028 1479.01 Q782.856 1482.55 786.468 1482.55 Q790.102 1482.55 791.907 1479.01 Q793.736 1475.44 793.736 1468.33 Q793.736 1461.2 791.907 1457.66 Q790.102 1454.1 786.468 1454.1 M786.468 1450.39 Q792.278 1450.39 795.333 1455 Q798.412 1459.58 798.412 1468.33 Q798.412 1477.06 795.333 1481.67 Q792.278 1486.25 786.468 1486.25 Q780.657 1486.25 777.579 1481.67 Q774.523 1477.06 774.523 1468.33 Q774.523 1459.58 777.579 1455 Q780.657 1450.39 786.468 1450.39 Z\" fill=\"#000000\" fill-rule=\"nonzero\" fill-opacity=\"1\" /><path clip-path=\"url(#clip130)\" d=\"M816.629 1454.1 Q813.018 1454.1 811.19 1457.66 Q809.384 1461.2 809.384 1468.33 Q809.384 1475.44 811.19 1479.01 Q813.018 1482.55 816.629 1482.55 Q820.264 1482.55 822.069 1479.01 Q823.898 1475.44 823.898 1468.33 Q823.898 1461.2 822.069 1457.66 Q820.264 1454.1 816.629 1454.1 M816.629 1450.39 Q822.44 1450.39 825.495 1455 Q828.574 1459.58 828.574 1468.33 Q828.574 1477.06 825.495 1481.67 Q822.44 1486.25 816.629 1486.25 Q810.819 1486.25 807.741 1481.67 Q804.685 1477.06 804.685 1468.33 Q804.685 1459.58 807.741 1455 Q810.819 1450.39 816.629 1450.39 Z\" fill=\"#000000\" fill-rule=\"nonzero\" fill-opacity=\"1\" /><path clip-path=\"url(#clip130)\" d=\"M1171.69 1481.64 L1179.33 1481.64 L1179.33 1455.28 L1171.02 1456.95 L1171.02 1452.69 L1179.28 1451.02 L1183.96 1451.02 L1183.96 1481.64 L1191.6 1481.64 L1191.6 1485.58 L1171.69 1485.58 L1171.69 1481.64 Z\" fill=\"#000000\" fill-rule=\"nonzero\" fill-opacity=\"1\" /><path clip-path=\"url(#clip130)\" d=\"M1201.04 1479.7 L1205.93 1479.7 L1205.93 1485.58 L1201.04 1485.58 L1201.04 1479.7 Z\" fill=\"#000000\" fill-rule=\"nonzero\" fill-opacity=\"1\" /><path clip-path=\"url(#clip130)\" d=\"M1226.11 1454.1 Q1222.5 1454.1 1220.67 1457.66 Q1218.86 1461.2 1218.86 1468.33 Q1218.86 1475.44 1220.67 1479.01 Q1222.5 1482.55 1226.11 1482.55 Q1229.74 1482.55 1231.55 1479.01 Q1233.38 1475.44 1233.38 1468.33 Q1233.38 1461.2 1231.55 1457.66 Q1229.74 1454.1 1226.11 1454.1 M1226.11 1450.39 Q1231.92 1450.39 1234.98 1455 Q1238.05 1459.58 1238.05 1468.33 Q1238.05 1477.06 1234.98 1481.67 Q1231.92 1486.25 1226.11 1486.25 Q1220.3 1486.25 1217.22 1481.67 Q1214.17 1477.06 1214.17 1468.33 Q1214.17 1459.58 1217.22 1455 Q1220.3 1450.39 1226.11 1450.39 Z\" fill=\"#000000\" fill-rule=\"nonzero\" fill-opacity=\"1\" /><path clip-path=\"url(#clip130)\" d=\"M1246.32 1451.02 L1264.67 1451.02 L1264.67 1454.96 L1250.6 1454.96 L1250.6 1463.43 Q1251.62 1463.08 1252.64 1462.92 Q1253.66 1462.73 1254.67 1462.73 Q1260.46 1462.73 1263.84 1465.9 Q1267.22 1469.08 1267.22 1474.49 Q1267.22 1480.07 1263.75 1483.17 Q1260.28 1486.25 1253.96 1486.25 Q1251.78 1486.25 1249.51 1485.88 Q1247.27 1485.51 1244.86 1484.77 L1244.86 1480.07 Q1246.94 1481.2 1249.17 1481.76 Q1251.39 1482.32 1253.86 1482.32 Q1257.87 1482.32 1260.21 1480.21 Q1262.55 1478.1 1262.55 1474.49 Q1262.55 1470.88 1260.21 1468.77 Q1257.87 1466.67 1253.86 1466.67 Q1251.99 1466.67 1250.11 1467.08 Q1248.26 1467.5 1246.32 1468.38 L1246.32 1451.02 Z\" fill=\"#000000\" fill-rule=\"nonzero\" fill-opacity=\"1\" /><path clip-path=\"url(#clip130)\" d=\"M1610.34 1481.64 L1617.98 1481.64 L1617.98 1455.28 L1609.67 1456.95 L1609.67 1452.69 L1617.93 1451.02 L1622.61 1451.02 L1622.61 1481.64 L1630.24 1481.64 L1630.24 1485.58 L1610.34 1485.58 L1610.34 1481.64 Z\" fill=\"#000000\" fill-rule=\"nonzero\" fill-opacity=\"1\" /><path clip-path=\"url(#clip130)\" d=\"M1639.69 1479.7 L1644.57 1479.7 L1644.57 1485.58 L1639.69 1485.58 L1639.69 1479.7 Z\" fill=\"#000000\" fill-rule=\"nonzero\" fill-opacity=\"1\" /><path clip-path=\"url(#clip130)\" d=\"M1655.57 1481.64 L1663.21 1481.64 L1663.21 1455.28 L1654.9 1456.95 L1654.9 1452.69 L1663.16 1451.02 L1667.84 1451.02 L1667.84 1481.64 L1675.48 1481.64 L1675.48 1485.58 L1655.57 1485.58 L1655.57 1481.64 Z\" fill=\"#000000\" fill-rule=\"nonzero\" fill-opacity=\"1\" /><path clip-path=\"url(#clip130)\" d=\"M1694.92 1454.1 Q1691.31 1454.1 1689.48 1457.66 Q1687.67 1461.2 1687.67 1468.33 Q1687.67 1475.44 1689.48 1479.01 Q1691.31 1482.55 1694.92 1482.55 Q1698.55 1482.55 1700.36 1479.01 Q1702.19 1475.44 1702.19 1468.33 Q1702.19 1461.2 1700.36 1457.66 Q1698.55 1454.1 1694.92 1454.1 M1694.92 1450.39 Q1700.73 1450.39 1703.79 1455 Q1706.86 1459.58 1706.86 1468.33 Q1706.86 1477.06 1703.79 1481.67 Q1700.73 1486.25 1694.92 1486.25 Q1689.11 1486.25 1686.03 1481.67 Q1682.98 1477.06 1682.98 1468.33 Q1682.98 1459.58 1686.03 1455 Q1689.11 1450.39 1694.92 1450.39 Z\" fill=\"#000000\" fill-rule=\"nonzero\" fill-opacity=\"1\" /><path clip-path=\"url(#clip130)\" d=\"M2049.98 1481.64 L2057.62 1481.64 L2057.62 1455.28 L2049.31 1456.95 L2049.31 1452.69 L2057.57 1451.02 L2062.25 1451.02 L2062.25 1481.64 L2069.89 1481.64 L2069.89 1485.58 L2049.98 1485.58 L2049.98 1481.64 Z\" fill=\"#000000\" fill-rule=\"nonzero\" fill-opacity=\"1\" /><path clip-path=\"url(#clip130)\" d=\"M2079.33 1479.7 L2084.22 1479.7 L2084.22 1485.58 L2079.33 1485.58 L2079.33 1479.7 Z\" fill=\"#000000\" fill-rule=\"nonzero\" fill-opacity=\"1\" /><path clip-path=\"url(#clip130)\" d=\"M2095.21 1481.64 L2102.85 1481.64 L2102.85 1455.28 L2094.54 1456.95 L2094.54 1452.69 L2102.8 1451.02 L2107.48 1451.02 L2107.48 1481.64 L2115.12 1481.64 L2115.12 1485.58 L2095.21 1485.58 L2095.21 1481.64 Z\" fill=\"#000000\" fill-rule=\"nonzero\" fill-opacity=\"1\" /><path clip-path=\"url(#clip130)\" d=\"M2124.61 1451.02 L2142.97 1451.02 L2142.97 1454.96 L2128.89 1454.96 L2128.89 1463.43 Q2129.91 1463.08 2130.93 1462.92 Q2131.95 1462.73 2132.97 1462.73 Q2138.75 1462.73 2142.13 1465.9 Q2145.51 1469.08 2145.51 1474.49 Q2145.51 1480.07 2142.04 1483.17 Q2138.57 1486.25 2132.25 1486.25 Q2130.07 1486.25 2127.8 1485.88 Q2125.56 1485.51 2123.15 1484.77 L2123.15 1480.07 Q2125.23 1481.2 2127.46 1481.76 Q2129.68 1482.32 2132.15 1482.32 Q2136.16 1482.32 2138.5 1480.21 Q2140.84 1478.1 2140.84 1474.49 Q2140.84 1470.88 2138.5 1468.77 Q2136.16 1466.67 2132.15 1466.67 Q2130.28 1466.67 2128.4 1467.08 Q2126.55 1467.5 2124.61 1468.38 L2124.61 1451.02 Z\" fill=\"#000000\" fill-rule=\"nonzero\" fill-opacity=\"1\" /><path clip-path=\"url(#clip130)\" d=\"M1336.68 1532.4 L1323.78 1549.74 L1337.34 1568.04 L1330.44 1568.04 L1320.06 1554.04 L1309.68 1568.04 L1302.78 1568.04 L1316.62 1549.39 L1303.96 1532.4 L1310.86 1532.4 L1320.32 1545.1 L1329.77 1532.4 L1336.68 1532.4 Z\" fill=\"#000000\" fill-rule=\"nonzero\" fill-opacity=\"1\" /><polyline clip-path=\"url(#clip132)\" style=\"stroke:#000000; stroke-linecap:round; stroke-linejoin:round; stroke-width:2; stroke-opacity:0.1; fill:none\" points=\"287.366,1273.79 2352.76,1273.79 \"/>\n",
       "<polyline clip-path=\"url(#clip132)\" style=\"stroke:#000000; stroke-linecap:round; stroke-linejoin:round; stroke-width:2; stroke-opacity:0.1; fill:none\" points=\"287.366,954.422 2352.76,954.422 \"/>\n",
       "<polyline clip-path=\"url(#clip132)\" style=\"stroke:#000000; stroke-linecap:round; stroke-linejoin:round; stroke-width:2; stroke-opacity:0.1; fill:none\" points=\"287.366,635.057 2352.76,635.057 \"/>\n",
       "<polyline clip-path=\"url(#clip132)\" style=\"stroke:#000000; stroke-linecap:round; stroke-linejoin:round; stroke-width:2; stroke-opacity:0.1; fill:none\" points=\"287.366,315.692 2352.76,315.692 \"/>\n",
       "<polyline clip-path=\"url(#clip130)\" style=\"stroke:#000000; stroke-linecap:round; stroke-linejoin:round; stroke-width:4; stroke-opacity:1; fill:none\" points=\"287.366,1423.18 287.366,47.2441 \"/>\n",
       "<polyline clip-path=\"url(#clip130)\" style=\"stroke:#000000; stroke-linecap:round; stroke-linejoin:round; stroke-width:4; stroke-opacity:1; fill:none\" points=\"287.366,1273.79 306.264,1273.79 \"/>\n",
       "<polyline clip-path=\"url(#clip130)\" style=\"stroke:#000000; stroke-linecap:round; stroke-linejoin:round; stroke-width:4; stroke-opacity:1; fill:none\" points=\"287.366,954.422 306.264,954.422 \"/>\n",
       "<polyline clip-path=\"url(#clip130)\" style=\"stroke:#000000; stroke-linecap:round; stroke-linejoin:round; stroke-width:4; stroke-opacity:1; fill:none\" points=\"287.366,635.057 306.264,635.057 \"/>\n",
       "<polyline clip-path=\"url(#clip130)\" style=\"stroke:#000000; stroke-linecap:round; stroke-linejoin:round; stroke-width:4; stroke-opacity:1; fill:none\" points=\"287.366,315.692 306.264,315.692 \"/>\n",
       "<path clip-path=\"url(#clip130)\" d=\"M114.26 1274.24 L143.936 1274.24 L143.936 1278.17 L114.26 1278.17 L114.26 1274.24 Z\" fill=\"#000000\" fill-rule=\"nonzero\" fill-opacity=\"1\" /><path clip-path=\"url(#clip130)\" d=\"M164.028 1259.59 Q160.417 1259.59 158.589 1263.15 Q156.783 1266.69 156.783 1273.82 Q156.783 1280.93 158.589 1284.49 Q160.417 1288.03 164.028 1288.03 Q167.663 1288.03 169.468 1284.49 Q171.297 1280.93 171.297 1273.82 Q171.297 1266.69 169.468 1263.15 Q167.663 1259.59 164.028 1259.59 M164.028 1255.88 Q169.839 1255.88 172.894 1260.49 Q175.973 1265.07 175.973 1273.82 Q175.973 1282.55 172.894 1287.16 Q169.839 1291.74 164.028 1291.74 Q158.218 1291.74 155.14 1287.16 Q152.084 1282.55 152.084 1273.82 Q152.084 1265.07 155.14 1260.49 Q158.218 1255.88 164.028 1255.88 Z\" fill=\"#000000\" fill-rule=\"nonzero\" fill-opacity=\"1\" /><path clip-path=\"url(#clip130)\" d=\"M184.19 1285.19 L189.075 1285.19 L189.075 1291.07 L184.19 1291.07 L184.19 1285.19 Z\" fill=\"#000000\" fill-rule=\"nonzero\" fill-opacity=\"1\" /><path clip-path=\"url(#clip130)\" d=\"M200.07 1287.13 L207.709 1287.13 L207.709 1260.77 L199.399 1262.43 L199.399 1258.17 L207.662 1256.51 L212.338 1256.51 L212.338 1287.13 L219.977 1287.13 L219.977 1291.07 L200.07 1291.07 L200.07 1287.13 Z\" fill=\"#000000\" fill-rule=\"nonzero\" fill-opacity=\"1\" /><path clip-path=\"url(#clip130)\" d=\"M239.422 1259.59 Q235.81 1259.59 233.982 1263.15 Q232.176 1266.69 232.176 1273.82 Q232.176 1280.93 233.982 1284.49 Q235.81 1288.03 239.422 1288.03 Q243.056 1288.03 244.861 1284.49 Q246.69 1280.93 246.69 1273.82 Q246.69 1266.69 244.861 1263.15 Q243.056 1259.59 239.422 1259.59 M239.422 1255.88 Q245.232 1255.88 248.287 1260.49 Q251.366 1265.07 251.366 1273.82 Q251.366 1282.55 248.287 1287.16 Q245.232 1291.74 239.422 1291.74 Q233.611 1291.74 230.533 1287.16 Q227.477 1282.55 227.477 1273.82 Q227.477 1265.07 230.533 1260.49 Q233.611 1255.88 239.422 1255.88 Z\" fill=\"#000000\" fill-rule=\"nonzero\" fill-opacity=\"1\" /><path clip-path=\"url(#clip130)\" d=\"M115.256 954.874 L144.931 954.874 L144.931 958.809 L115.256 958.809 L115.256 954.874 Z\" fill=\"#000000\" fill-rule=\"nonzero\" fill-opacity=\"1\" /><path clip-path=\"url(#clip130)\" d=\"M165.024 940.221 Q161.413 940.221 159.584 943.786 Q157.778 947.327 157.778 954.457 Q157.778 961.563 159.584 965.128 Q161.413 968.67 165.024 968.67 Q168.658 968.67 170.464 965.128 Q172.292 961.563 172.292 954.457 Q172.292 947.327 170.464 943.786 Q168.658 940.221 165.024 940.221 M165.024 936.517 Q170.834 936.517 173.889 941.124 Q176.968 945.707 176.968 954.457 Q176.968 963.184 173.889 967.79 Q170.834 972.373 165.024 972.373 Q159.214 972.373 156.135 967.79 Q153.079 963.184 153.079 954.457 Q153.079 945.707 156.135 941.124 Q159.214 936.517 165.024 936.517 Z\" fill=\"#000000\" fill-rule=\"nonzero\" fill-opacity=\"1\" /><path clip-path=\"url(#clip130)\" d=\"M185.186 965.823 L190.07 965.823 L190.07 971.702 L185.186 971.702 L185.186 965.823 Z\" fill=\"#000000\" fill-rule=\"nonzero\" fill-opacity=\"1\" /><path clip-path=\"url(#clip130)\" d=\"M210.255 940.221 Q206.644 940.221 204.815 943.786 Q203.01 947.327 203.01 954.457 Q203.01 961.563 204.815 965.128 Q206.644 968.67 210.255 968.67 Q213.889 968.67 215.695 965.128 Q217.523 961.563 217.523 954.457 Q217.523 947.327 215.695 943.786 Q213.889 940.221 210.255 940.221 M210.255 936.517 Q216.065 936.517 219.121 941.124 Q222.199 945.707 222.199 954.457 Q222.199 963.184 219.121 967.79 Q216.065 972.373 210.255 972.373 Q204.445 972.373 201.366 967.79 Q198.311 963.184 198.311 954.457 Q198.311 945.707 201.366 941.124 Q204.445 936.517 210.255 936.517 Z\" fill=\"#000000\" fill-rule=\"nonzero\" fill-opacity=\"1\" /><path clip-path=\"url(#clip130)\" d=\"M230.463 937.142 L248.82 937.142 L248.82 941.077 L234.746 941.077 L234.746 949.55 Q235.764 949.202 236.783 949.04 Q237.801 948.855 238.82 948.855 Q244.607 948.855 247.986 952.026 Q251.366 955.198 251.366 960.614 Q251.366 966.193 247.894 969.295 Q244.421 972.373 238.102 972.373 Q235.926 972.373 233.658 972.003 Q231.412 971.633 229.005 970.892 L229.005 966.193 Q231.088 967.327 233.31 967.883 Q235.533 968.438 238.009 968.438 Q242.014 968.438 244.352 966.332 Q246.69 964.225 246.69 960.614 Q246.69 957.003 244.352 954.897 Q242.014 952.79 238.009 952.79 Q236.135 952.79 234.26 953.207 Q232.408 953.624 230.463 954.503 L230.463 937.142 Z\" fill=\"#000000\" fill-rule=\"nonzero\" fill-opacity=\"1\" /><path clip-path=\"url(#clip130)\" d=\"M164.028 620.856 Q160.417 620.856 158.589 624.421 Q156.783 627.962 156.783 635.092 Q156.783 642.198 158.589 645.763 Q160.417 649.305 164.028 649.305 Q167.663 649.305 169.468 645.763 Q171.297 642.198 171.297 635.092 Q171.297 627.962 169.468 624.421 Q167.663 620.856 164.028 620.856 M164.028 617.152 Q169.839 617.152 172.894 621.759 Q175.973 626.342 175.973 635.092 Q175.973 643.819 172.894 648.425 Q169.839 653.009 164.028 653.009 Q158.218 653.009 155.14 648.425 Q152.084 643.819 152.084 635.092 Q152.084 626.342 155.14 621.759 Q158.218 617.152 164.028 617.152 Z\" fill=\"#000000\" fill-rule=\"nonzero\" fill-opacity=\"1\" /><path clip-path=\"url(#clip130)\" d=\"M184.19 646.458 L189.075 646.458 L189.075 652.337 L184.19 652.337 L184.19 646.458 Z\" fill=\"#000000\" fill-rule=\"nonzero\" fill-opacity=\"1\" /><path clip-path=\"url(#clip130)\" d=\"M209.26 620.856 Q205.649 620.856 203.82 624.421 Q202.014 627.962 202.014 635.092 Q202.014 642.198 203.82 645.763 Q205.649 649.305 209.26 649.305 Q212.894 649.305 214.699 645.763 Q216.528 642.198 216.528 635.092 Q216.528 627.962 214.699 624.421 Q212.894 620.856 209.26 620.856 M209.26 617.152 Q215.07 617.152 218.125 621.759 Q221.204 626.342 221.204 635.092 Q221.204 643.819 218.125 648.425 Q215.07 653.009 209.26 653.009 Q203.449 653.009 200.371 648.425 Q197.315 643.819 197.315 635.092 Q197.315 626.342 200.371 621.759 Q203.449 617.152 209.26 617.152 Z\" fill=\"#000000\" fill-rule=\"nonzero\" fill-opacity=\"1\" /><path clip-path=\"url(#clip130)\" d=\"M239.422 620.856 Q235.81 620.856 233.982 624.421 Q232.176 627.962 232.176 635.092 Q232.176 642.198 233.982 645.763 Q235.81 649.305 239.422 649.305 Q243.056 649.305 244.861 645.763 Q246.69 642.198 246.69 635.092 Q246.69 627.962 244.861 624.421 Q243.056 620.856 239.422 620.856 M239.422 617.152 Q245.232 617.152 248.287 621.759 Q251.366 626.342 251.366 635.092 Q251.366 643.819 248.287 648.425 Q245.232 653.009 239.422 653.009 Q233.611 653.009 230.533 648.425 Q227.477 643.819 227.477 635.092 Q227.477 626.342 230.533 621.759 Q233.611 617.152 239.422 617.152 Z\" fill=\"#000000\" fill-rule=\"nonzero\" fill-opacity=\"1\" /><path clip-path=\"url(#clip130)\" d=\"M165.024 301.491 Q161.413 301.491 159.584 305.056 Q157.778 308.597 157.778 315.727 Q157.778 322.833 159.584 326.398 Q161.413 329.94 165.024 329.94 Q168.658 329.94 170.464 326.398 Q172.292 322.833 172.292 315.727 Q172.292 308.597 170.464 305.056 Q168.658 301.491 165.024 301.491 M165.024 297.787 Q170.834 297.787 173.889 302.394 Q176.968 306.977 176.968 315.727 Q176.968 324.454 173.889 329.06 Q170.834 333.644 165.024 333.644 Q159.214 333.644 156.135 329.06 Q153.079 324.454 153.079 315.727 Q153.079 306.977 156.135 302.394 Q159.214 297.787 165.024 297.787 Z\" fill=\"#000000\" fill-rule=\"nonzero\" fill-opacity=\"1\" /><path clip-path=\"url(#clip130)\" d=\"M185.186 327.093 L190.07 327.093 L190.07 332.972 L185.186 332.972 L185.186 327.093 Z\" fill=\"#000000\" fill-rule=\"nonzero\" fill-opacity=\"1\" /><path clip-path=\"url(#clip130)\" d=\"M210.255 301.491 Q206.644 301.491 204.815 305.056 Q203.01 308.597 203.01 315.727 Q203.01 322.833 204.815 326.398 Q206.644 329.94 210.255 329.94 Q213.889 329.94 215.695 326.398 Q217.523 322.833 217.523 315.727 Q217.523 308.597 215.695 305.056 Q213.889 301.491 210.255 301.491 M210.255 297.787 Q216.065 297.787 219.121 302.394 Q222.199 306.977 222.199 315.727 Q222.199 324.454 219.121 329.06 Q216.065 333.644 210.255 333.644 Q204.445 333.644 201.366 329.06 Q198.311 324.454 198.311 315.727 Q198.311 306.977 201.366 302.394 Q204.445 297.787 210.255 297.787 Z\" fill=\"#000000\" fill-rule=\"nonzero\" fill-opacity=\"1\" /><path clip-path=\"url(#clip130)\" d=\"M230.463 298.412 L248.82 298.412 L248.82 302.347 L234.746 302.347 L234.746 310.82 Q235.764 310.472 236.783 310.31 Q237.801 310.125 238.82 310.125 Q244.607 310.125 247.986 313.296 Q251.366 316.468 251.366 321.884 Q251.366 327.463 247.894 330.565 Q244.421 333.644 238.102 333.644 Q235.926 333.644 233.658 333.273 Q231.412 332.903 229.005 332.162 L229.005 327.463 Q231.088 328.597 233.31 329.153 Q235.533 329.708 238.009 329.708 Q242.014 329.708 244.352 327.602 Q246.69 325.495 246.69 321.884 Q246.69 318.273 244.352 316.167 Q242.014 314.06 238.009 314.06 Q236.135 314.06 234.26 314.477 Q232.408 314.894 230.463 315.773 L230.463 298.412 Z\" fill=\"#000000\" fill-rule=\"nonzero\" fill-opacity=\"1\" /><path clip-path=\"url(#clip130)\" d=\"M67.3143 733.525 Q73.68 736.008 75.6216 738.363 Q77.5631 740.718 77.5631 744.665 L77.5631 749.344 L72.6615 749.344 L72.6615 745.906 Q72.6615 743.487 71.5157 742.151 Q70.3699 740.814 66.1048 739.191 L63.4312 738.14 L28.3562 752.559 L28.3562 746.352 L56.238 735.212 L28.3562 724.072 L28.3562 717.865 L67.3143 733.525 Z\" fill=\"#000000\" fill-rule=\"nonzero\" fill-opacity=\"1\" /><polyline clip-path=\"url(#clip132)\" style=\"stroke:#009af9; stroke-linecap:round; stroke-linejoin:round; stroke-width:4; stroke-opacity:1; fill:none\" points=\"1835.06,635.057 1835.08,617.496 1835.15,595.471 1835.28,571.777 1835.52,545.526 1835.88,517.897 1836.43,488.906 1837.2,459.111 1838.29,428.714 1839.77,398.037 1841.76,367.283 1844.39,336.626 1847.81,306.279 1852.22,276.444 1857.82,247.379 1864.79,219.507 1873.31,193.297 1883.51,169.179 1895.53,147.489 1909.51,128.511 1925.53,112.579 1943.71,100 1964.13,91.1282 1986.76,86.3843 2011.51,86.1857 2037.95,90.8875 2065.47,100.626 2093.38,115.279 2121.22,134.714 2148.56,158.793 2174.84,187.219 2199.56,219.674 2222.27,255.83 2242.5,295.242 2259.84,337.428 2273.93,381.814 2284.52,428.037 2291.36,475.491 2294.3,523.688 2293.22,572.053 2288.09,620.062 2278.92,667.175 2265.81,712.864 2248.89,756.618 2228.38,797.96 2204.53,836.434 2177.68,871.643 2148.17,903.235 2116.41,930.924 2082.81,954.506 2047.82,973.867 2011.81,988.986 1975.18,999.922 1938.24,1006.81 1901.28,1009.85 1864.54,1009.29 1828.18,1005.4 1792.37,998.497 1757.18,988.9 1722.68,976.936 1688.91,962.932 1655.87,947.208 1623.56,930.067 1591.96,911.802 1561.03,892.679 1530.74,872.947 1501.11,852.866 1472.26,832.75 1444.29,812.884 1416.42,792.876 1389.1,773.212 1362.14,753.866 1335.59,734.998 1309.41,716.656 1283.6,698.925 1258.14,681.843 1233.05,665.47 1208.31,649.831 1183.97,634.974 1160.1,620.952 1136.65,607.739 1113.07,595.043 1089.82,583.117 1066.73,571.89 1043.96,561.432 1021.14,551.583 998.597,542.487 976.178,534.082 953.98,526.405 932.009,519.453 910.364,513.249 889.114,507.794 868.359,503.091 848.146,499.119 828.517,495.851 809.489,493.255 791.097,491.296 773.369,489.936 756.406,489.136 740.637,488.847 723.587,489.046 706.817,489.78 690.448,491.032 674.962,492.728 660.432,494.792 647.207,497.086 634.394,499.705 621.472,502.762 608.699,506.213 595.853,510.14 582.856,514.606 569.387,519.793 556.357,525.391 544.33,531.103 532.918,537.045 522.34,543.041 512.628,548.994 503.599,554.943 494.246,561.56 485.092,568.523 475.907,576.039 466.738,584.122 457.877,592.544 449.485,601.136 441.583,609.84 434.16,618.622 427.235,627.41 420.801,636.155 414.907,644.721 409.677,652.821 404.365,661.589 399.24,670.639 394.238,680.112 389.4,689.971 384.728,700.253 380.259,710.919 376.004,721.98 371.984,733.422 368.217,745.228 364.722,757.364 361.511,769.818 358.596,782.552 355.999,795.455 353.754,808.279 351.758,821.585 350.019,835.439 348.578,849.604 347.435,864.116 346.59,879.041 346.054,894.175 345.82,909.661 345.889,925.469 346.258,941.541 346.921,957.9 347.871,974.479 349.104,991.352 350.606,1008.43 352.365,1025.71 354.376,1043.22 356.609,1060.83 359.071,1078.68 361.719,1096.56 364.552,1114.57 367.532,1132.56 370.649,1150.58 373.863,1168.47 377.149,1186.19 380.482,1203.68 383.84,1220.89 387.195,1237.72 390.523,1254.07 393.806,1269.88 397.038,1285.09 400.209,1299.6 403.336,1313.42 406.432,1326.45 409.537,1338.69 412.683,1349.99 415.926,1360.2 419.326,1369.08 422.993,1376.4 427.05,1381.81 430.163,1384.24 \"/>\n",
       "<path clip-path=\"url(#clip130)\" d=\"M356.212 196.789 L615.182 196.789 L615.182 93.1086 L356.212 93.1086  Z\" fill=\"#ffffff\" fill-rule=\"evenodd\" fill-opacity=\"1\"/>\n",
       "<polyline clip-path=\"url(#clip130)\" style=\"stroke:#000000; stroke-linecap:round; stroke-linejoin:round; stroke-width:4; stroke-opacity:1; fill:none\" points=\"356.212,196.789 615.182,196.789 615.182,93.1086 356.212,93.1086 356.212,196.789 \"/>\n",
       "<polyline clip-path=\"url(#clip130)\" style=\"stroke:#009af9; stroke-linecap:round; stroke-linejoin:round; stroke-width:4; stroke-opacity:1; fill:none\" points=\"379.161,144.949 516.854,144.949 \"/>\n",
       "<path clip-path=\"url(#clip130)\" d=\"M553.645 164.636 Q551.839 169.266 550.126 170.678 Q548.414 172.09 545.543 172.09 L542.14 172.09 L542.14 168.525 L544.64 168.525 Q546.4 168.525 547.372 167.692 Q548.344 166.858 549.525 163.756 L550.289 161.812 L539.802 136.303 L544.316 136.303 L552.418 156.581 L560.52 136.303 L565.034 136.303 L553.645 164.636 Z\" fill=\"#000000\" fill-rule=\"nonzero\" fill-opacity=\"1\" /><path clip-path=\"url(#clip130)\" d=\"M572.325 158.293 L579.964 158.293 L579.964 131.928 L571.654 133.595 L571.654 129.335 L579.918 127.669 L584.594 127.669 L584.594 158.293 L592.233 158.293 L592.233 162.229 L572.325 162.229 L572.325 158.293 Z\" fill=\"#000000\" fill-rule=\"nonzero\" fill-opacity=\"1\" /></svg>\n"
      ]
     },
     "metadata": {},
     "output_type": "display_data"
    }
   ],
   "source": [
    "#this is if we rollout our dynamics with the stable initial condition\n",
    "#almost periodic, can be fixed with a differential corrector\n",
    "#plot(all_state_in[1,:], all_state_in[2,:], all_state_in[3,:], xlabel=\"x\", ylabel=\"y\", zlabel=\"z\")\n",
    "\n",
    "plot(all_state_in[1,:], all_state_in[2,:], xlabel=\"x\", ylabel=\"y\")"
   ]
  },
  {
   "cell_type": "code",
   "execution_count": 41,
   "id": "fdce57ea",
   "metadata": {},
   "outputs": [
    {
     "data": {
      "text/plain": [
       "differential_corrector (generic function with 1 method)"
      ]
     },
     "metadata": {},
     "output_type": "display_data"
    }
   ],
   "source": [
    "#fix with a single shooting differential corrector\n",
    "function differential_corrector(x_0_stm, Tp)\n",
    "    \n",
    "    #this is the final time it converges to\n",
    "    T_f = 0\n",
    "\n",
    "    #Iterate to bring the δx at T/2 to the desired state\n",
    "    max_iters = 1000\n",
    "\n",
    "    #keep z0 fixed and change only x0 and y_dot_0\n",
    "    for i=1:max_iters\n",
    "    #for i=1:100\n",
    "\n",
    "        solution = diff_solve(x_0_stm, Tp)\n",
    "\n",
    "        #this is the state, STM, and time when y crosses the XZ plane \n",
    "        all_state, stm, sol_t = get_state_stm(solution)\n",
    "\n",
    "        #display(stm)\n",
    "\n",
    "        T2_state = all_state[:,end]\n",
    "\n",
    "        #T2_state -> x,y,z, xdot, ydot, zdot\n",
    "        #desired xdot an xzdot\n",
    "        xz_d = [0, 0]\n",
    "\n",
    "        rv = T2_state[1:6]\n",
    "\n",
    "        rv_dot = three_body_prob_dynamics(rv)\n",
    "\n",
    "        #desired state subtracted by state at t/2\n",
    "        δxz = xz_d - [T2_state[4], T2_state[6]]\n",
    "\n",
    "        #subset of the state transition matrix\n",
    "\n",
    "        #all 6 variables \n",
    "        #stm_s = [stm[4,1] stm[4,3] stm[4,5]; stm[6,1] stm[6,3] stm[6,5]]\n",
    "\n",
    "        #to change x and ydot \n",
    "\n",
    "        #keep z0 constant\n",
    "        #stm_s = [stm[4,1] stm[4,5]; stm[6,1] stm[6,5]]\n",
    "        #dy = [rv_dot[4]; rv_dot[6]]*[stm[2,1] stm[2,5]]\n",
    "\n",
    "        #keep x0 constant\n",
    "        stm_s = [stm[4,3, end] stm[4,5,end]; stm[6,3,end] stm[6,5,end]]\n",
    "        dy = [rv_dot[4]; rv_dot[6]]*[stm[2,3,end] stm[2,5,end]]\n",
    "\n",
    "\n",
    "        #keep y0 constant\n",
    "        #stm_s = [stm[4,1] stm[4,3]; stm[6,1] stm[6,3]]\n",
    "        #dy = [rv_dot[4]; rv_dot[6]]*[stm[2,1] stm[2,3]]\n",
    "\n",
    "\n",
    "        delta_x0 = (stm_s - dy/rv_dot[2])\\δxz\n",
    "        \n",
    "        #println(\"THIS IS CONDITION NUMBER\")\n",
    "        #println(cond((stm_s - dy/rv_dot[2])))\n",
    "\n",
    "        #delta_x0 = stm_s\\δxz\n",
    "\n",
    "        #update the initial state\n",
    "\n",
    "        #x_0_stm[1] = x_0_stm[1] + delta_x0[1]\n",
    "        x_0_stm[3] = x_0_stm[3] + delta_x0[1]\n",
    "        x_0_stm[5] = x_0_stm[5] + delta_x0[2]\n",
    "\n",
    "        #x_0_stm[1:6] = x_0_stm[1:6] + delta\n",
    "        #when delta is below a set tolerance we are done\n",
    "\n",
    "        println(\"residual: \", δxz)\n",
    "        \n",
    "        if norm(δxz) < 1e-10\n",
    "            #this is the total time, but we use it to ensure we have enough time to find where\n",
    "            #y crosses the xz plane\n",
    "            #print(\"this is sol t: \", sol_t)\n",
    "            #updating time\n",
    "                    \n",
    "            T_f = sol_t[end]*2\n",
    "            break\n",
    "        end\n",
    "\n",
    "    end\n",
    "    \n",
    "    corrected_solution = dynamics_integrate(x_0_stm, T_f)\n",
    "\n",
    "    all_state_final, stm_final, sol_t_final = get_state_stm(corrected_solution)\n",
    "    \n",
    "    return all_state_final, stm_final, sol_t_final, corrected_solution\n",
    "    \n",
    "end"
   ]
  },
  {
   "cell_type": "code",
   "execution_count": 43,
   "id": "ef04e8ab",
   "metadata": {},
   "outputs": [
    {
     "data": {
      "text/plain": [
       "42-element Vector{Float64}:\n",
       " 1.1201297302380415\n",
       " 0.0\n",
       " 0.005939677983460742\n",
       " 0.0\n",
       " 0.176778191082557\n",
       " 0.0\n",
       " 1.0\n",
       " 0.0\n",
       " 0.0\n",
       " 0.0\n",
       " ⋮\n",
       " 0.0\n",
       " 1.0\n",
       " 0.0\n",
       " 0.0\n",
       " 0.0\n",
       " 0.0\n",
       " 0.0\n",
       " 0.0\n",
       " 1.0"
      ]
     },
     "metadata": {},
     "output_type": "display_data"
    }
   ],
   "source": [
    "x_0_stm"
   ]
  },
  {
   "cell_type": "code",
   "execution_count": 42,
   "id": "3e326485",
   "metadata": {},
   "outputs": [
    {
     "name": "stdout",
     "output_type": "stream",
     "text": [
      "THIS IS CONDITION NUMBER\n",
      "2567.4057200311795\n",
      "residual: "
     ]
    },
    {
     "name": "stdout",
     "output_type": "stream",
     "text": [
      "[-2.1149401758750172e-10, -7.917292381738207e-12]\n",
      "THIS IS CONDITION NUMBER\n",
      "2567.4026149166216\n",
      "residual: [6.0354410019731e-11, 2.259289033368155e-12]\n"
     ]
    },
    {
     "data": {
      "text/plain": [
       "([1.1201297302380415 1.120131108118931 … 1.1201314752759652 1.1201297227191964; 0.0 0.0028013809860172223 … -0.0031571446475295176 8.93927433809894e-9; … ; 0.176778191082557 0.17666637025718004 … 0.17663617699327974 0.17677820569208622; 0.0 -0.0005565103154420301 … 0.0006271441148125414 -1.3039869425329978e-9], [1.0 0.0 … 0.0 0.0; 0.0 1.0 … 0.0 0.0; … ; 0.0 0.0 … 1.0 0.0; 0.0 0.0 … 0.0 1.0;;; 1.0016074883657045 7.580431063985564e-6 … 0.00025136138376041594 4.7382136315696543e-7; -2.875772598955626e-6 0.9993829724417774 … 0.015844299171791455 1.1950673970167507e-9; … ; -0.0005442279179664566 -0.07782864928347513 … 0.9988811443386422 3.0130836823870564e-7; 0.01131747288153654 0.00011816246084863354 … 2.1955169605777172e-6 0.9992614228117392;;; 1.0078164436502675 8.101537817282752e-5 … 0.0012244007047584288 5.069479927517691e-6; -3.07985488504512e-5 0.9970047388208173 … 0.03488362007091847 2.80381720048867e-8; … ; -0.0026421397386587964 -0.17111193985400971 … 0.9945770031149997 3.194636164193929e-6; 0.024920513956035912 0.0005715263091961682 … 2.3416668935389568e-5 0.9964155349271445;;; … ;;; 882.3617773008734 -9.834341052524765 … 185.85986555195453 4.049080091304115; -1008.6796695152493 12.197623567420374 … -212.84332659171835 -4.619791098142368; … ; -1932.8394073151505 21.79678629883896 … -406.6255331707935 -8.857053727277874; 145.9640879050676 -1.6271133814101872 … 30.762200876244 1.6330328563333818;;; 966.9072808322802 -10.773622362593763 … 203.68926916407509 4.4361110010241935; -1069.0217890325384 12.875717969825056 … -225.53785849134434 -4.896296554481042; … ; -1965.5894815817546 22.011504265210366 … -413.5104238645379 -9.006699213830307; 163.8388238824971 -1.823667629836917 … 34.52656304613449 1.7388274437959534;;; 1019.5457072955518 -11.358639007579855 … 214.78962542152433 4.677088636631274; -1104.2606205566224 13.269548053338537 … -232.95119843804838 -5.0577652472687324; … ; -1978.9061706857426 22.072252078407985 … -416.3096460337711 -9.067467526119326; 174.30311150871512 -1.9383396519525689 … 36.73033589244311 1.7980796952294362], [0.0, 0.015850212350373517, 0.034946886271739114, 0.05645207756637913, 0.07989681000791815, 0.10509147640906019, 0.1317730327486662, 0.15977904985483019, 0.18900734498832578, 0.21940559186176686  …  3.1413822028146066, 3.173755993783821, 3.205846459805377, 3.237756287752094, 3.2701910248396637, 3.3027765156558253, 3.3347108777113204, 3.366169987950777, 3.3971112237388037, 3.4149754139263155], ODESolution{Float64, 2, Vector{Vector{Float64}}, Nothing, Nothing, Vector{Float64}, Vector{Vector{Vector{Float64}}}, ODEProblem{Vector{Float64}, Tuple{Float64, Float64}, true, SciMLBase.NullParameters, ODEFunction{true, SciMLBase.AutoSpecialize, FunctionWrappersWrappers.FunctionWrappersWrapper{Tuple{FunctionWrappers.FunctionWrapper{Nothing, Tuple{Vector{Float64}, Vector{Float64}, SciMLBase.NullParameters, Float64}}, FunctionWrappers.FunctionWrapper{Nothing, Tuple{Vector{ForwardDiff.Dual{ForwardDiff.Tag{DiffEqBase.OrdinaryDiffEqTag, Float64}, Float64, 1}}, Vector{ForwardDiff.Dual{ForwardDiff.Tag{DiffEqBase.OrdinaryDiffEqTag, Float64}, Float64, 1}}, SciMLBase.NullParameters, Float64}}, FunctionWrappers.FunctionWrapper{Nothing, Tuple{Vector{ForwardDiff.Dual{ForwardDiff.Tag{DiffEqBase.OrdinaryDiffEqTag, Float64}, Float64, 1}}, Vector{Float64}, SciMLBase.NullParameters, ForwardDiff.Dual{ForwardDiff.Tag{DiffEqBase.OrdinaryDiffEqTag, Float64}, Float64, 1}}}, FunctionWrappers.FunctionWrapper{Nothing, Tuple{Vector{ForwardDiff.Dual{ForwardDiff.Tag{DiffEqBase.OrdinaryDiffEqTag, Float64}, Float64, 1}}, Vector{ForwardDiff.Dual{ForwardDiff.Tag{DiffEqBase.OrdinaryDiffEqTag, Float64}, Float64, 1}}, SciMLBase.NullParameters, ForwardDiff.Dual{ForwardDiff.Tag{DiffEqBase.OrdinaryDiffEqTag, Float64}, Float64, 1}}}}, false}, UniformScaling{Bool}, Nothing, Nothing, Nothing, Nothing, Nothing, Nothing, Nothing, Nothing, Nothing, Nothing, Nothing, typeof(SciMLBase.DEFAULT_OBSERVED), Nothing, Nothing}, Base.Pairs{Symbol, Union{}, Tuple{}, @NamedTuple{}}, SciMLBase.StandardODEProblem}, TsitPap8{typeof(OrdinaryDiffEq.trivial_limiter!), typeof(OrdinaryDiffEq.trivial_limiter!), Static.False}, OrdinaryDiffEq.InterpolationData{ODEFunction{true, SciMLBase.AutoSpecialize, FunctionWrappersWrappers.FunctionWrappersWrapper{Tuple{FunctionWrappers.FunctionWrapper{Nothing, Tuple{Vector{Float64}, Vector{Float64}, SciMLBase.NullParameters, Float64}}, FunctionWrappers.FunctionWrapper{Nothing, Tuple{Vector{ForwardDiff.Dual{ForwardDiff.Tag{DiffEqBase.OrdinaryDiffEqTag, Float64}, Float64, 1}}, Vector{ForwardDiff.Dual{ForwardDiff.Tag{DiffEqBase.OrdinaryDiffEqTag, Float64}, Float64, 1}}, SciMLBase.NullParameters, Float64}}, FunctionWrappers.FunctionWrapper{Nothing, Tuple{Vector{ForwardDiff.Dual{ForwardDiff.Tag{DiffEqBase.OrdinaryDiffEqTag, Float64}, Float64, 1}}, Vector{Float64}, SciMLBase.NullParameters, ForwardDiff.Dual{ForwardDiff.Tag{DiffEqBase.OrdinaryDiffEqTag, Float64}, Float64, 1}}}, FunctionWrappers.FunctionWrapper{Nothing, Tuple{Vector{ForwardDiff.Dual{ForwardDiff.Tag{DiffEqBase.OrdinaryDiffEqTag, Float64}, Float64, 1}}, Vector{ForwardDiff.Dual{ForwardDiff.Tag{DiffEqBase.OrdinaryDiffEqTag, Float64}, Float64, 1}}, SciMLBase.NullParameters, ForwardDiff.Dual{ForwardDiff.Tag{DiffEqBase.OrdinaryDiffEqTag, Float64}, Float64, 1}}}}, false}, UniformScaling{Bool}, Nothing, Nothing, Nothing, Nothing, Nothing, Nothing, Nothing, Nothing, Nothing, Nothing, Nothing, typeof(SciMLBase.DEFAULT_OBSERVED), Nothing, Nothing}, Vector{Vector{Float64}}, Vector{Float64}, Vector{Vector{Vector{Float64}}}, Nothing, OrdinaryDiffEq.TsitPap8Cache{Vector{Float64}, Vector{Float64}, Vector{Float64}, OrdinaryDiffEq.TsitPap8ConstantCache{Float64, Float64}, typeof(OrdinaryDiffEq.trivial_limiter!), typeof(OrdinaryDiffEq.trivial_limiter!), Static.False}, Nothing}, SciMLBase.DEStats, Nothing}([[1.1201297302380415, 0.0, 0.005939677983460742, 0.0, 0.176778191082557, 0.0, 1.0, 0.0, 0.0, 0.0  …  0.0, 0.0, 1.0, 0.0, 0.0, 0.0, 0.0, 0.0, 0.0, 1.0], [1.120131108118931, 0.0028013809860172223, 0.005935266578989017, 0.00017455618004741895, 0.17666637025718004, -0.0005565103154420301, 1.0016074883657045, -2.875772598955626e-6, 8.970729096279607e-5, 0.20284881163168186  …  8.703544560970494e-9, 0.031733765088890434, 0.9988811443386422, 2.1955169605777172e-6, 4.7382136315696543e-7, 1.1950673970167507e-9, 0.01584630947892482, 8.965353659773211e-5, 3.0130836823870564e-7, 0.9992614228117392], [1.1201365313999294, 0.006171519565406334, 0.005918251868158862, 0.00039663266094956554, 0.17623537381198856, -0.0012248597415066291, 1.0078164436502675, -3.07985488504512e-5, 0.00043580459312857043, 0.4474810723354925  …  2.050068697692632e-7, 0.07024989806661208, 0.9945770031149997, 2.3416668935389568e-5, 5.069479927517691e-6, 2.80381720048867e-8, 0.03490509618500951, 0.00043453926569563624, 3.194636164193929e-6, 0.9964155349271445], [1.1201480185489898, 0.009952869366179173, 0.005883867240719449, 0.0006788964799540027, 0.17536580182558795, -0.001971615132146403, 1.0204071813964708, -0.00012961673362254665, 0.0011356926260664552, 0.7236125412035628  …  1.3866997093093569e-6, 0.11439494907393402, 0.985932956804681, 9.773106350497673e-5, 2.129220161301883e-5, 1.8813544897151436e-7, 0.056276278497984666, 0.0011271449727861737, 1.3172081912837726e-5, 0.9906778243905591], [1.1201681090450597, 0.014048736817203441, 0.005828204277345992, 0.001047441137741355, 0.1739620826609041, -0.0027745189887541793, 1.0409123386558212, -0.0003665547302401685, 0.002269988942470364, 1.0258729265750812  …  5.504694495596407e-6, 0.16397316550661584, 0.9720902803112724, 0.00027265475957136755, 6.0014114110410735e-5, 7.37034063198626e-7, 0.07940003931328873, 0.002236129441009, 3.601702007099974e-5, 0.9814273490522241], [1.1202004679615891, 0.018407260310039003, 0.005747613855406738, 0.0015400928445562416, 0.17193826648968188, -0.0036193759919809707, 1.07087058621215, -0.0008313428975293471, 0.0039149762853237565, 1.3526521647416172  …  1.6224092113295536e-5, 0.2195430746318843, 0.9523687278692305, 0.0006062429200406874, 0.00013543667641757368, 2.1302657876624893e-6, 0.10396627066357304, 0.0038154833798558063, 7.770900222985002e-5, 0.9681162728771084], [1.12025000306406, 0.022960037066369017, 0.005639386691497373, 0.002198602227043793, 0.16923584177422965, -0.0044882436780481014, 1.111608556203439, -0.0016320058489072114, 0.006128834418445393, 1.7015194408034806  …  3.927995477215591e-5, 0.28160891210978645, 0.9264551942544624, 0.0011585093045688342, 0.0002640323205452057, 5.020013165190935e-6, 0.12956870799641967, 0.00588891897983935, 0.0001423311553431218, 0.9503903652481569], [1.1203232980463416, 0.02765308483337915, 0.0055013113123462175, 0.0030680524798518665, 0.16581277595101152, -0.005365827786102294, 1.1644315089281068, -0.002895289057500227, 0.008960500662060712, 2.0714215552958204  …  8.2686991419319e-5, 0.3509026707302862, 0.8942921140038177, 0.001984921151085809, 0.00046406005920932643, 1.0194618855585957e-5, 0.15588076167972506, 0.008458001987497842, 0.00023015817008872108, 0.9280193444102689], [1.1204288532288273, 0.032439985977352696, 0.005331611137231672, 0.004193434383080649, 0.1616417088575369, -0.006238410492157115, 1.2306733125044742, -0.004767857809650133, 0.0124505474138057, 2.4621391376155226  …  0.00015672531829418599, 0.428231025645927, 0.8560416660737572, 0.003129362700321918, 0.0007549628479138091, 1.8444012986685534e-5, 0.18261764838536737, 0.01150387545496431, 0.0003357503309443832, 0.900887293112996], [1.1205772947003534, 0.03728007319411444, 0.005128833491776993, 0.005616955488357998, 0.15670654379803492, -0.007093740099858894, 1.3117649181495548, -0.007420516893065262, 0.016632755674119707, 2.8741494266463556  …  0.0002737378025076399, 0.5144007765833377, 0.8120214572409877, 0.004618370824246115, 0.0011569361126194733, 3.035300221969046e-5, 0.2095269642039381, 0.014990964547804526, 0.0004464504698547018, 0.8689723169957967]  …  [1.1209644405411285, -0.0455043236298893, 0.004706178653180062, -0.00881214736994496, 0.1465750174141071, 0.008474110272570237, 474.3394761235362, -623.4765510712496, -4.086580821412678, 1186.2408185438967  …  -0.8578331891725148, 250.20222234156543, -303.452139579333, 9.364684243800468, 2.1805117564591123, -2.8543281310045017, -0.35109896662752627, 5.43991359488828, -6.610750837125479, 0.8666204739975683], [1.1207124951111909, -0.040656556713334555, 0.004967726160190884, -0.006802129631278773, 0.15282106306410134, 0.007672341972734815, 515.0643795228925, -671.5462898607589, -2.481062207043551, 1332.6522198521852  …  -0.5190222123613154, 281.08962523176103, -321.38085232910106, 11.614804282510006, 2.3672148904415287, -3.074677546323271, -0.3214022124368743, 6.107931569444806, -7.00134138112229, 0.9687162824228387], [1.1205222177687186, -0.03566069036974508, 0.005200285122077319, -0.005106173800952193, 0.15843968162959918, 0.00681081919480275, 560.4002466827372, -721.8962279909211, -0.5262126992921341, 1495.9529409255467  …  -0.10663426405415836, 315.53353665989806, -338.785735891114, 14.13546195314947, 2.5749542006839636, -3.305468191326204, -0.28863687793685966, 6.853396321077319, -7.380422037738239, 1.0739799072499425], [1.1203822936277477, -0.030524088479349887, 0.005403117645476151, -0.0037115721396077887, 0.1633945805341179, 0.005892141640860586, 610.9763977814872, -774.5462887600896, 1.820422367480121, 1677.178171963697  …  0.3882696618875362, 353.7520439466027, -355.3634426582172, 16.93124832115839, 2.8066177107355497, -3.5467892443109106, -0.25264920380054207, 7.68112907301223, -7.741407214523896, 1.182127052014493], [1.1202810314790879, -0.025152282212519327, 0.005578296761079925, -0.0025783879505465973, 0.16771801686729448, 0.004900682262554708, 668.629521373753, -830.5576236118461, 4.661985313317713, 1881.1985706335033  …  0.987423044584404, 396.77210584995925, -371.0591871286847, 20.061042434755358, 3.0706235939337323, -3.8035025980070136, -0.21248593873052068, 8.613487961722468, -8.083117897387867, 1.2948159103004095], [1.1202119732162341, -0.01962695243491777, 0.005721055674216342, -0.0017006850853037725, 0.1712735108912113, 0.003853647935597963, 733.5436011564504, -889.149014831193, 8.023494279905323, 2106.395997347985  …  1.6960828787639413, 444.252526881211, -385.2240257771499, 23.477383535267666, 3.367823056793003, -4.0720262394227715, -0.16842398060937713, 9.64319652496356, -8.391433037680546, 1.4097600935497359], [1.1201684894580393, -0.014112694727484073, 0.005827181626960478, -0.0010538670188086736, 0.17393635530483773, 0.002786995087660266, 804.5920895584657, -948.5542357316061, 11.848864708512952, 2346.387212405011  …  2.5024169871037287, 494.84803040543943, -397.13933327295985, 27.056790750868252, 3.6930737042839485, -4.344265289508453, -0.12159852132775474, 10.741149408190163, -8.650714503247668, 1.5227888319631984], [1.1201432278534564, -0.008610508457241418, 0.005897932466103841, -0.0005734824431817875, 0.17572129438707723, 0.0017070180013565182, 882.3617773008734, -1008.6796695152493, 16.162111846420522, 2600.648197060276  …  3.411485301633046, 548.4490300503206, -406.6255331707935, 30.762200876244, 4.049080091304115, -4.619791098142368, -0.07195392064823827, 11.904999504003472, -8.857053727277874, 1.6330328563333818], [1.1201314752759652, -0.0031571446475295176, 0.005934074485290159, -0.00019717910958725034, 0.17663617699327974, 0.0006271441148125414, 966.9072808322802, -1069.0217890325384, 20.95385978184434, 2866.8007200314964  …  4.421312205169104, 604.5551637335911, -413.5104238645379, 34.52656304613449, 4.4361110010241935, -4.896296554481042, -0.019780328417576494, 13.123896047357539, -9.006699213830307, 1.7388274437959534], [1.1201297227191964, 8.93927433809894e-9, 0.005939677799645314, -2.230057853738572e-8, 0.17677820569208622, -1.3039869425329978e-9, 1019.5457072955518, -1104.2606205566224, 23.974084053358894, 3027.155529493856  …  5.057766261130496, 638.3583229249115, -416.3096460337711, 36.73033589244311, 4.677088636631274, -5.0577652472687324, 0.01181400930784473, 13.858550901951949, -9.067467526119326, 1.7980796952294362]], nothing, nothing, [0.0, 0.015850212350373517, 0.034946886271739114, 0.05645207756637913, 0.07989681000791815, 0.10509147640906019, 0.1317730327486662, 0.15977904985483019, 0.18900734498832578, 0.21940559186176686  …  3.1413822028146066, 3.173755993783821, 3.205846459805377, 3.237756287752094, 3.2701910248396637, 3.3027765156558253, 3.3347108777113204, 3.366169987950777, 3.3971112237388037, 3.4149754139263155], [[[1.1201297302380415, 0.0, 0.005939677983460742, 0.0, 0.176778191082557, 0.0, 1.0, 0.0, 0.0, 0.0  …  0.0, 0.0, 1.0, 0.0, 0.0, 0.0, 0.0, 0.0, 0.0, 1.0]], [[0.0, 0.176778191082557, 0.0, 0.010925343571474233, -0.0, -0.035126532923061886, 0.0, 0.0, 0.0, 12.796109010617188  …  0.0, 2.0, 0.0, 0.0, 0.0, 0.0, 1.0, 0.0, 0.0, 0.0], [0.00017455618004741895, 0.17666637025718004, -0.0005565103154420301, 0.01118776669763194, -0.014104504705860103, -0.03507872149576341, 0.20284881163168186, -0.0005442279179664566, 0.01131747288153654, 12.801362295080024  …  2.1955169605777172e-6, 2.0063066605747437, -0.14107050604617707, 0.00041519714826291943, 8.965353659773211e-5, 3.0130836823870564e-7, 0.9992614228117392, 0.011303914194757134, 5.692256163626055e-5, -0.0931546386605102]], [[0.00017455618004741895, 0.17666637025718004, -0.0005565103154420301, 0.01118776669763194, -0.014104504705860103, -0.03507872149576341, 0.20284881163168186, -0.0005442279179664566, 0.01131747288153654, 12.801362295080024  …  2.1955169605777172e-6, 2.0063066605747437, -0.14107050604617707, 0.00041519714826291943, 8.965353659773211e-5, 3.0130836823870564e-7, 0.9992614228117392, 0.011303914194757134, 5.692256163626055e-5, -0.0931546386605102], [0.00039663266094956554, 0.17623537381198856, -0.0012248597415066291, 0.01219505450769176, -0.03100989644048231, -0.03489484858340365, 0.4474810723354925, -0.0026421397386587964, 0.024920513956035912, 12.821546533064364  …  2.3416668935389568e-5, 2.0304836797071566, -0.30920607417838397, 0.002001919559700181, 0.00043453926569563624, 3.194636164193929e-6, 0.9964155349271445, 0.024776042717641864, 0.0002717425908120737, -0.20471123959688442]], [[0.00039663266094956554, 0.17623537381198856, -0.0012248597415066291, 0.01219505450769176, -0.03100989644048231, -0.03489484858340365, 0.4474810723354925, -0.0026421397386587964, 0.024920513956035912, 12.821546533064364  …  2.3416668935389568e-5, 2.0304836797071566, -0.30920607417838397, 0.002001919559700181, 0.00043453926569563624, 3.194636164193929e-6, 0.9964155349271445, 0.024776042717641864, 0.0002717425908120737, -0.20471123959688442], [0.0006788964799540027, 0.17536580182558795, -0.001971615132146403, 0.014207190189724106, -0.049807188669523224, -0.03452583989808734, 0.7236125412035628, -0.006876594329209588, 0.040149334641398256, 12.861967137534709  …  9.773106350497673e-5, 2.0786348335294917, -0.49359329886363096, 0.005138104633771192, 0.0011271449727861737, 1.3172081912837726e-5, 0.9906778243905591, 0.03954755961032297, 0.0006832588756410726, -0.3284854325106125]], [[0.0006788964799540027, 0.17536580182558795, -0.001971615132146403, 0.014207190189724106, -0.049807188669523224, -0.03452583989808734, 0.7236125412035628, -0.006876594329209588, 0.040149334641398256, 12.861967137534709  …  9.773106350497673e-5, 2.0786348335294917, -0.49359329886363096, 0.005138104633771192, 0.0011271449727861737, 1.3172081912837726e-5, 0.9906778243905591, 0.03954755961032297, 0.0006832588756410726, -0.3284854325106125], [0.001047441137741355, 0.1739620826609041, -0.0027745189887541793, 0.017398795105394937, -0.06984724797707026, -0.03393568701549202, 1.0258729265750812, -0.01371943192227414, 0.05657800269373709, 12.9263909849587  …  0.00027265475957136755, 2.154620691768231, -0.6854200818349767, 0.010019778952264219, 0.002236129441009, 3.601702007099974e-5, 0.9814273490522241, 0.05490444765847757, 0.001287017523787442, -0.4599291654745114]], [[0.001047441137741355, 0.1739620826609041, -0.0027745189887541793, 0.017398795105394937, -0.06984724797707026, -0.03393568701549202, 1.0258729265750812, -0.01371943192227414, 0.05657800269373709, 12.9263909849587  …  0.00027265475957136755, 2.154620691768231, -0.6854200818349767, 0.010019778952264219, 0.002236129441009, 3.601702007099974e-5, 0.9814273490522241, 0.05490444765847757, 0.001287017523787442, -0.4599291654745114], [0.0015400928445562416, 0.17193826648968188, -0.0036193759919809707, 0.021878658486987612, -0.09066820511154877, -0.03309671988860992, 1.3526521647416172, -0.023609273261569183, 0.07394744887379347, 13.017576969435932  …  0.0006062429200406874, 2.260484430822909, -0.8774027548870741, 0.016674455484343258, 0.0038154833798558063, 7.770900222985002e-5, 0.9681162728771084, 0.07024317666998155, 0.0020301704352826133, -0.5956534003532323]], [[0.0015400928445562416, 0.17193826648968188, -0.0036193759919809707, 0.021878658486987612, -0.09066820511154877, -0.03309671988860992, 1.3526521647416172, -0.023609273261569183, 0.07394744887379347, 13.017576969435932  …  0.0006062429200406874, 2.260484430822909, -0.8774027548870741, 0.016674455484343258, 0.0038154833798558063, 7.770900222985002e-5, 0.9681162728771084, 0.07024317666998155, 0.0020301704352826133, -0.5956534003532323], [0.002198602227043793, 0.16923584177422965, -0.0044882436780481014, 0.027639862410794913, -0.111712928955009, -0.0319980056601645, 1.7015194408034806, -0.036881431977762016, 0.09191750415872699, 13.136463790653842  …  0.0011585093045688342, 2.3953083056720073, -1.0615197674527999, 0.02487972551748642, 0.00588891897983935, 0.0001423311553431218, 0.9503903652481569, 0.08488119879881749, 0.0027990400603616003, -0.731589635001221]], [[0.002198602227043793, 0.16923584177422965, -0.0044882436780481014, 0.027639862410794913, -0.111712928955009, -0.0319980056601645, 1.7015194408034806, -0.036881431977762016, 0.09191750415872699, 13.136463790653842  …  0.0011585093045688342, 2.3953083056720073, -1.0615197674527999, 0.02487972551748642, 0.00588891897983935, 0.0001423311553431218, 0.9503903652481569, 0.08488119879881749, 0.0027990400603616003, -0.731589635001221], [0.0030680524798518665, 0.16581277595101152, -0.005365827786102294, 0.034581773735928634, -0.13250422456520577, -0.03064101525837853, 2.0714215552958204, -0.05384840391290745, 0.1101898099213238, 13.28286240026614  …  0.001984921151085809, 2.5558932893397346, -1.231205517259172, 0.03420884385488233, 0.008458001987497842, 0.00023015817008872108, 0.9280193444102689, 0.09822476554863031, 0.003429158050842266, -0.8641625860928293]], [[0.0030680524798518665, 0.16581277595101152, -0.005365827786102294, 0.034581773735928634, -0.13250422456520577, -0.03064101525837853, 2.0714215552958204, -0.05384840391290745, 0.1101898099213238, 13.28286240026614  …  0.001984921151085809, 2.5558932893397346, -1.231205517259172, 0.03420884385488233, 0.008458001987497842, 0.00023015817008872108, 0.9280193444102689, 0.09822476554863031, 0.003429158050842266, -0.8641625860928293], [0.004193434383080649, 0.1616417088575369, -0.006238410492157115, 0.04251652273065959, -0.15263124010248352, -0.029038615734478305, 2.4621391376155226, -0.07484710774227568, 0.12847834014621184, 13.455886376320093  …  0.003129362700321918, 2.7371625220204603, -1.381624325460931, 0.04406649694691973, 0.01150387545496431, 0.0003357503309443832, 0.900887293112996, 0.10978500219484898, 0.0037196999891904864, -0.9902206565176972]], [[0.004193434383080649, 0.1616417088575369, -0.006238410492157115, 0.04251652273065959, -0.15263124010248352, -0.029038615734478305, 2.4621391376155226, -0.07484710774227568, 0.12847834014621184, 13.455886376320093  …  0.003129362700321918, 2.7371625220204603, -1.381624325460931, 0.04406649694691973, 0.01150387545496431, 0.0003357503309443832, 0.900887293112996, 0.10978500219484898, 0.0037196999891904864, -0.9902206565176972], [0.005616955488357998, 0.15670654379803492, -0.007093740099858894, 0.051183742309932334, -0.17175713663479372, -0.02721293433772711, 2.8741494266463556, -0.10030476278044198, 0.1465002272792121, 13.654574441560664  …  0.004618370824246115, 2.932821610162011, -1.51000596615208, 0.053746990885449604, 0.014990964547804526, 0.0004464504698547018, 0.8689723169957967, 0.1192025088410859, 0.003454835772034301, -1.1071051975903372]]  …  [[-0.01113624150979305, 0.13974557845182012, 0.009212770961643958, 0.0753921406975262, 0.21616782277896962, -0.021480944691007118, 1055.8103294496796, -1355.7886182008858, 34.94087233987851, 3734.7985989922477  …  7.378960034711662, 788.1751268529164, -552.6747323326393, 56.48442374915765, 4.84510358817364, -6.215204589527947, 0.7680144906961194, 17.02796674293326, -12.046312379905585, 2.944033989480241], [-0.00881214736994496, 0.1465750174141071, 0.008474110272570237, 0.06664341616847957, 0.2011989418010758, -0.023691958824120687, 1186.2408185438967, -1442.1196271352017, 44.366883775510935, 4250.062585121757  …  9.364684243800468, 896.7022218879031, -556.0120102415993, 65.0601170566727, 5.43991359488828, -6.610750837125479, 0.8666204739975683, 19.38639226326466, -12.114902496198813, 3.0861577572516268]], [[-0.00881214736994496, 0.1465750174141071, 0.008474110272570237, 0.06664341616847957, 0.2011989418010758, -0.023691958824120687, 1186.2408185438967, -1442.1196271352017, 44.366883775510935, 4250.062585121757  …  9.364684243800468, 896.7022218879031, -556.0120102415993, 65.0601170566727, 5.43991359488828, -6.610750837125479, 0.8666204739975683, 19.38639226326466, -12.114902496198813, 3.0861577572516268], [-0.006802129631278773, 0.15282106306410134, 0.007672341972734815, 0.057475183867990276, 0.18432250169545744, -0.02582737457890639, 1332.6522198521852, -1527.3936720166657, 55.048867760382045, 4801.302616580232  …  11.614804282510006, 1012.7985223698787, -549.8857968698177, 74.0078740782599, 6.107931569444806, -7.00134138112229, 0.9687162824228387, 21.911983059868433, -11.978031007071383, 3.219444694644412]], [[-0.006802129631278773, 0.15282106306410134, 0.007672341972734815, 0.057475183867990276, 0.18432250169545744, -0.02582737457890639, 1332.6522198521852, -1527.3936720166657, 55.048867760382045, 4801.302616580232  …  11.614804282510006, 1012.7985223698787, -549.8857968698177, 74.0078740782599, 6.107931569444806, -7.00134138112229, 0.9687162824228387, 21.911983059868433, -11.978031007071383, 3.219444694644412], [-0.005106173800952193, 0.15843968162959918, 0.00681081919480275, 0.0482273777289039, 0.16550120119405073, -0.027845565025149885, 1495.9529409255467, -1610.1751068659041, 67.01603866387835, 5380.9989786242295  …  14.13546195314947, 1134.883127424116, -532.9249778091234, 83.1047157792922, 6.853396321077319, -7.380422037738239, 1.0739799072499425, 24.570575669285752, -11.605831755130332, 3.3382061799356157]], [[-0.005106173800952193, 0.15843968162959918, 0.00681081919480275, 0.0482273777289039, 0.16550120119405073, -0.027845565025149885, 1495.9529409255467, -1610.1751068659041, 67.01603866387835, 5380.9989786242295  …  14.13546195314947, 1134.883127424116, -532.9249778091234, 83.1047157792922, 6.853396321077319, -7.380422037738239, 1.0739799072499425, 24.570575669285752, -11.605831755130332, 3.3382061799356157], [-0.0037115721396077887, 0.1633945805341179, 0.005892141640860586, 0.03925110277842542, 0.14471446966576038, -0.029705274391899232, 1677.178171963697, -1689.0218227241674, 80.29020661856595, 5980.450022410978  …  16.93124832115839, 1261.1270793581275, -504.0277614903114, 92.08815200137468, 7.68112907301223, -7.741407214523896, 1.182127052014493, 27.322532500431336, -10.974243552097827, 3.4361091519686875]], [[-0.0037115721396077887, 0.1633945805341179, 0.005892141640860586, 0.03925110277842542, 0.14471446966576038, -0.029705274391899232, 1677.178171963697, -1689.0218227241674, 80.29020661856595, 5980.450022410978  …  16.93124832115839, 1261.1270793581275, -504.0277614903114, 92.08815200137468, 7.68112907301223, -7.741407214523896, 1.182127052014493, 27.322532500431336, -10.974243552097827, 3.4361091519686875], [-0.0025783879505465973, 0.16771801686729448, 0.004900682262554708, 0.03076651175126277, 0.12154759398199956, -0.03139156165825089, 1881.1985706335033, -1763.673838224466, 95.1509101478808, 6600.534554043772  …  20.061042434755358, 1391.7199475301104, -461.5823767340038, 100.79859676316805, 8.613487961722468, -8.083117897387867, 1.2948159103004095, 30.1722185291035, -10.048019256936222, 3.5070530447326638]], [[-0.0025783879505465973, 0.16771801686729448, 0.004900682262554708, 0.03076651175126277, 0.12154759398199956, -0.03139156165825089, 1881.1985706335033, -1763.673838224466, 95.1509101478808, 6600.534554043772  …  20.061042434755358, 1391.7199475301104, -461.5823767340038, 100.79859676316805, 8.613487961722468, -8.083117897387867, 1.2948159103004095, 30.1722185291035, -10.048019256936222, 3.5070530447326638], [-0.0017006850853037725, 0.1712735108912113, 0.003853647935597963, 0.02331907384748433, 0.09638275887153498, -0.03282417844316826, 2106.395997347985, -1831.0451841272709, 111.37273074677067, 7219.392244357043  …  23.477383535267666, 1522.0632951474752, -405.6350326976353, 108.70962608779004, 9.64319652496356, -8.391433037680546, 1.4097600935497359, 33.01948891287226, -8.828044832017909, 3.5409358617869406]], [[-0.0017006850853037725, 0.1712735108912113, 0.003853647935597963, 0.02331907384748433, 0.09638275887153498, -0.03282417844316826, 2106.395997347985, -1831.0451841272709, 111.37273074677067, 7219.392244357043  …  23.477383535267666, 1522.0632951474752, -405.6350326976353, 108.70962608779004, 9.64319652496356, -8.391433037680546, 1.4097600935497359, 33.01948891287226, -8.828044832017909, 3.5409358617869406], [-0.0010538670188086736, 0.17393635530483773, 0.002786995087660266, 0.01745661673090554, 0.07015692157449926, -0.03392493212759772, 2346.387212405011, -1887.7183265784818, 128.36918837820934, 7806.403659035581  …  27.056790750868252, 1645.713507244735, -338.7330409438471, 115.22418739267273, 10.741149408190163, -8.650714503247668, 1.5227888319631984, 35.72351821532041, -7.369649284764687, 3.530004333662598]], [[-0.0010538670188086736, 0.17393635530483773, 0.002786995087660266, 0.01745661673090554, 0.07015692157449926, -0.03392493212759772, 2346.387212405011, -1887.7183265784818, 128.36918837820934, 7806.403659035581  …  27.056790750868252, 1645.713507244735, -338.7330409438471, 115.22418739267273, 10.741149408190163, -8.650714503247668, 1.5227888319631984, 35.72351821532041, -7.369649284764687, 3.530004333662598], [-0.0005734824431817875, 0.17572129438707723, 0.0017070180013565182, 0.013387823446681657, 0.043161184609839205, -0.03467637589666694, 2600.648197060276, -1932.8394073151505, 145.9640879050676, 8351.575471505788  …  30.762200876244, 1760.570176158103, -262.89775974485724, 120.05291844604862, 11.904999504003472, -8.857053727277874, 1.6330328563333818, 38.23809183275456, -5.716672883168318, 3.4701584732366975]], [[-0.0005734824431817875, 0.17572129438707723, 0.0017070180013565182, 0.013387823446681657, 0.043161184609839205, -0.03467637589666694, 2600.648197060276, -1932.8394073151505, 145.9640879050676, 8351.575471505788  …  30.762200876244, 1760.570176158103, -262.89775974485724, 120.05291844604862, 11.904999504003472, -8.857053727277874, 1.6330328563333818, 38.23809183275456, -5.716672883168318, 3.4701584732366975], [-0.00019717910958725034, 0.17663617699327974, 0.0006271441148125414, 0.0112585168823634, 0.01589351078378676, -0.035065817260919584, 2866.8007200314964, -1965.5894815817546, 163.8388238824971, 8844.16346527944  …  34.52656304613449, 1864.3733641707054, -181.2014681435353, 122.93951439836748, 13.123896047357539, -9.006699213830307, 1.7388274437959534, 40.51333768823777, -3.9359008020521458, 3.359445261462799]], [[-0.00019717910958725034, 0.17663617699327974, 0.0006271441148125414, 0.0112585168823634, 0.01589351078378676, -0.035065817260919584, 2866.8007200314964, -1965.5894815817546, 163.8388238824971, 8844.16346527944  …  34.52656304613449, 1864.3733641707054, -181.2014681435353, 122.93951439836748, 13.123896047357539, -9.006699213830307, 1.7388274437959534, 40.51333768823777, -3.9359008020521458, 3.359445261462799], [-2.230057853738572e-8, 0.17677820569208622, -1.3039869425329978e-9, 0.010925276447275534, 6.746425132128053e-10, -0.03512653721228221, 3027.155529493856, -1978.9061706857426, 174.30311150871512, 9105.530228459924  …  36.73033589244311, 1919.464903602674, -132.02235753471427, 123.66626214824836, 13.858550901951949, -9.067467526119326, 1.7980796952294362, 41.72204235314653, -2.8638491426787773, 3.271198924796238]]], ODEProblem{Vector{Float64}, Tuple{Float64, Float64}, true, SciMLBase.NullParameters, ODEFunction{true, SciMLBase.AutoSpecialize, FunctionWrappersWrappers.FunctionWrappersWrapper{Tuple{FunctionWrappers.FunctionWrapper{Nothing, Tuple{Vector{Float64}, Vector{Float64}, SciMLBase.NullParameters, Float64}}, FunctionWrappers.FunctionWrapper{Nothing, Tuple{Vector{ForwardDiff.Dual{ForwardDiff.Tag{DiffEqBase.OrdinaryDiffEqTag, Float64}, Float64, 1}}, Vector{ForwardDiff.Dual{ForwardDiff.Tag{DiffEqBase.OrdinaryDiffEqTag, Float64}, Float64, 1}}, SciMLBase.NullParameters, Float64}}, FunctionWrappers.FunctionWrapper{Nothing, Tuple{Vector{ForwardDiff.Dual{ForwardDiff.Tag{DiffEqBase.OrdinaryDiffEqTag, Float64}, Float64, 1}}, Vector{Float64}, SciMLBase.NullParameters, ForwardDiff.Dual{ForwardDiff.Tag{DiffEqBase.OrdinaryDiffEqTag, Float64}, Float64, 1}}}, FunctionWrappers.FunctionWrapper{Nothing, Tuple{Vector{ForwardDiff.Dual{ForwardDiff.Tag{DiffEqBase.OrdinaryDiffEqTag, Float64}, Float64, 1}}, Vector{ForwardDiff.Dual{ForwardDiff.Tag{DiffEqBase.OrdinaryDiffEqTag, Float64}, Float64, 1}}, SciMLBase.NullParameters, ForwardDiff.Dual{ForwardDiff.Tag{DiffEqBase.OrdinaryDiffEqTag, Float64}, Float64, 1}}}}, false}, UniformScaling{Bool}, Nothing, Nothing, Nothing, Nothing, Nothing, Nothing, Nothing, Nothing, Nothing, Nothing, Nothing, typeof(SciMLBase.DEFAULT_OBSERVED), Nothing, Nothing}, Base.Pairs{Symbol, Union{}, Tuple{}, @NamedTuple{}}, SciMLBase.StandardODEProblem}(ODEFunction{true, SciMLBase.AutoSpecialize, FunctionWrappersWrappers.FunctionWrappersWrapper{Tuple{FunctionWrappers.FunctionWrapper{Nothing, Tuple{Vector{Float64}, Vector{Float64}, SciMLBase.NullParameters, Float64}}, FunctionWrappers.FunctionWrapper{Nothing, Tuple{Vector{ForwardDiff.Dual{ForwardDiff.Tag{DiffEqBase.OrdinaryDiffEqTag, Float64}, Float64, 1}}, Vector{ForwardDiff.Dual{ForwardDiff.Tag{DiffEqBase.OrdinaryDiffEqTag, Float64}, Float64, 1}}, SciMLBase.NullParameters, Float64}}, FunctionWrappers.FunctionWrapper{Nothing, Tuple{Vector{ForwardDiff.Dual{ForwardDiff.Tag{DiffEqBase.OrdinaryDiffEqTag, Float64}, Float64, 1}}, Vector{Float64}, SciMLBase.NullParameters, ForwardDiff.Dual{ForwardDiff.Tag{DiffEqBase.OrdinaryDiffEqTag, Float64}, Float64, 1}}}, FunctionWrappers.FunctionWrapper{Nothing, Tuple{Vector{ForwardDiff.Dual{ForwardDiff.Tag{DiffEqBase.OrdinaryDiffEqTag, Float64}, Float64, 1}}, Vector{ForwardDiff.Dual{ForwardDiff.Tag{DiffEqBase.OrdinaryDiffEqTag, Float64}, Float64, 1}}, SciMLBase.NullParameters, ForwardDiff.Dual{ForwardDiff.Tag{DiffEqBase.OrdinaryDiffEqTag, Float64}, Float64, 1}}}}, false}, UniformScaling{Bool}, Nothing, Nothing, Nothing, Nothing, Nothing, Nothing, Nothing, Nothing, Nothing, Nothing, Nothing, typeof(SciMLBase.DEFAULT_OBSERVED), Nothing, Nothing}(FunctionWrappersWrappers.FunctionWrappersWrapper{Tuple{FunctionWrappers.FunctionWrapper{Nothing, Tuple{Vector{Float64}, Vector{Float64}, SciMLBase.NullParameters, Float64}}, FunctionWrappers.FunctionWrapper{Nothing, Tuple{Vector{ForwardDiff.Dual{ForwardDiff.Tag{DiffEqBase.OrdinaryDiffEqTag, Float64}, Float64, 1}}, Vector{ForwardDiff.Dual{ForwardDiff.Tag{DiffEqBase.OrdinaryDiffEqTag, Float64}, Float64, 1}}, SciMLBase.NullParameters, Float64}}, FunctionWrappers.FunctionWrapper{Nothing, Tuple{Vector{ForwardDiff.Dual{ForwardDiff.Tag{DiffEqBase.OrdinaryDiffEqTag, Float64}, Float64, 1}}, Vector{Float64}, SciMLBase.NullParameters, ForwardDiff.Dual{ForwardDiff.Tag{DiffEqBase.OrdinaryDiffEqTag, Float64}, Float64, 1}}}, FunctionWrappers.FunctionWrapper{Nothing, Tuple{Vector{ForwardDiff.Dual{ForwardDiff.Tag{DiffEqBase.OrdinaryDiffEqTag, Float64}, Float64, 1}}, Vector{ForwardDiff.Dual{ForwardDiff.Tag{DiffEqBase.OrdinaryDiffEqTag, Float64}, Float64, 1}}, SciMLBase.NullParameters, ForwardDiff.Dual{ForwardDiff.Tag{DiffEqBase.OrdinaryDiffEqTag, Float64}, Float64, 1}}}}, false}((FunctionWrappers.FunctionWrapper{Nothing, Tuple{Vector{Float64}, Vector{Float64}, SciMLBase.NullParameters, Float64}}(Ptr{Nothing} @0x000074aeb2777c50, Ptr{Nothing} @0x000074adb6a0c0e0, Base.RefValue{SciMLBase.Void{typeof(ST_and_dynamics_DFJL!)}}(SciMLBase.Void{typeof(ST_and_dynamics_DFJL!)}(ST_and_dynamics_DFJL!)), SciMLBase.Void{typeof(ST_and_dynamics_DFJL!)}), FunctionWrappers.FunctionWrapper{Nothing, Tuple{Vector{ForwardDiff.Dual{ForwardDiff.Tag{DiffEqBase.OrdinaryDiffEqTag, Float64}, Float64, 1}}, Vector{ForwardDiff.Dual{ForwardDiff.Tag{DiffEqBase.OrdinaryDiffEqTag, Float64}, Float64, 1}}, SciMLBase.NullParameters, Float64}}(Ptr{Nothing} @0x000074aeb277b0b0, Ptr{Nothing} @0x000074adb6a0c0e8, Base.RefValue{SciMLBase.Void{typeof(ST_and_dynamics_DFJL!)}}(SciMLBase.Void{typeof(ST_and_dynamics_DFJL!)}(ST_and_dynamics_DFJL!)), SciMLBase.Void{typeof(ST_and_dynamics_DFJL!)}), FunctionWrappers.FunctionWrapper{Nothing, Tuple{Vector{ForwardDiff.Dual{ForwardDiff.Tag{DiffEqBase.OrdinaryDiffEqTag, Float64}, Float64, 1}}, Vector{Float64}, SciMLBase.NullParameters, ForwardDiff.Dual{ForwardDiff.Tag{DiffEqBase.OrdinaryDiffEqTag, Float64}, Float64, 1}}}(Ptr{Nothing} @0x000074aeb277b7b0, Ptr{Nothing} @0x000074adb6a0c0f0, Base.RefValue{SciMLBase.Void{typeof(ST_and_dynamics_DFJL!)}}(SciMLBase.Void{typeof(ST_and_dynamics_DFJL!)}(ST_and_dynamics_DFJL!)), SciMLBase.Void{typeof(ST_and_dynamics_DFJL!)}), FunctionWrappers.FunctionWrapper{Nothing, Tuple{Vector{ForwardDiff.Dual{ForwardDiff.Tag{DiffEqBase.OrdinaryDiffEqTag, Float64}, Float64, 1}}, Vector{ForwardDiff.Dual{ForwardDiff.Tag{DiffEqBase.OrdinaryDiffEqTag, Float64}, Float64, 1}}, SciMLBase.NullParameters, ForwardDiff.Dual{ForwardDiff.Tag{DiffEqBase.OrdinaryDiffEqTag, Float64}, Float64, 1}}}(Ptr{Nothing} @0x000074aeb277bdb0, Ptr{Nothing} @0x000074adb6a0c0f8, Base.RefValue{SciMLBase.Void{typeof(ST_and_dynamics_DFJL!)}}(SciMLBase.Void{typeof(ST_and_dynamics_DFJL!)}(ST_and_dynamics_DFJL!)), SciMLBase.Void{typeof(ST_and_dynamics_DFJL!)}))), UniformScaling{Bool}(true), nothing, nothing, nothing, nothing, nothing, nothing, nothing, nothing, nothing, nothing, nothing, SciMLBase.DEFAULT_OBSERVED, nothing, nothing), [1.1201297302380415, 0.0, 0.005939677983460742, 0.0, 0.176778191082557, 0.0, 1.0, 0.0, 0.0, 0.0  …  0.0, 0.0, 1.0, 0.0, 0.0, 0.0, 0.0, 0.0, 0.0, 1.0], (0.0, 3.4149754139263155), SciMLBase.NullParameters(), Base.Pairs{Symbol, Union{}, Tuple{}, @NamedTuple{}}(), SciMLBase.StandardODEProblem()), TsitPap8(; stage_limiter! = trivial_limiter!, step_limiter! = trivial_limiter!, thread = static(false),), OrdinaryDiffEq.InterpolationData{ODEFunction{true, SciMLBase.AutoSpecialize, FunctionWrappersWrappers.FunctionWrappersWrapper{Tuple{FunctionWrappers.FunctionWrapper{Nothing, Tuple{Vector{Float64}, Vector{Float64}, SciMLBase.NullParameters, Float64}}, FunctionWrappers.FunctionWrapper{Nothing, Tuple{Vector{ForwardDiff.Dual{ForwardDiff.Tag{DiffEqBase.OrdinaryDiffEqTag, Float64}, Float64, 1}}, Vector{ForwardDiff.Dual{ForwardDiff.Tag{DiffEqBase.OrdinaryDiffEqTag, Float64}, Float64, 1}}, SciMLBase.NullParameters, Float64}}, FunctionWrappers.FunctionWrapper{Nothing, Tuple{Vector{ForwardDiff.Dual{ForwardDiff.Tag{DiffEqBase.OrdinaryDiffEqTag, Float64}, Float64, 1}}, Vector{Float64}, SciMLBase.NullParameters, ForwardDiff.Dual{ForwardDiff.Tag{DiffEqBase.OrdinaryDiffEqTag, Float64}, Float64, 1}}}, FunctionWrappers.FunctionWrapper{Nothing, Tuple{Vector{ForwardDiff.Dual{ForwardDiff.Tag{DiffEqBase.OrdinaryDiffEqTag, Float64}, Float64, 1}}, Vector{ForwardDiff.Dual{ForwardDiff.Tag{DiffEqBase.OrdinaryDiffEqTag, Float64}, Float64, 1}}, SciMLBase.NullParameters, ForwardDiff.Dual{ForwardDiff.Tag{DiffEqBase.OrdinaryDiffEqTag, Float64}, Float64, 1}}}}, false}, UniformScaling{Bool}, Nothing, Nothing, Nothing, Nothing, Nothing, Nothing, Nothing, Nothing, Nothing, Nothing, Nothing, typeof(SciMLBase.DEFAULT_OBSERVED), Nothing, Nothing}, Vector{Vector{Float64}}, Vector{Float64}, Vector{Vector{Vector{Float64}}}, Nothing, OrdinaryDiffEq.TsitPap8Cache{Vector{Float64}, Vector{Float64}, Vector{Float64}, OrdinaryDiffEq.TsitPap8ConstantCache{Float64, Float64}, typeof(OrdinaryDiffEq.trivial_limiter!), typeof(OrdinaryDiffEq.trivial_limiter!), Static.False}, Nothing}(ODEFunction{true, SciMLBase.AutoSpecialize, FunctionWrappersWrappers.FunctionWrappersWrapper{Tuple{FunctionWrappers.FunctionWrapper{Nothing, Tuple{Vector{Float64}, Vector{Float64}, SciMLBase.NullParameters, Float64}}, FunctionWrappers.FunctionWrapper{Nothing, Tuple{Vector{ForwardDiff.Dual{ForwardDiff.Tag{DiffEqBase.OrdinaryDiffEqTag, Float64}, Float64, 1}}, Vector{ForwardDiff.Dual{ForwardDiff.Tag{DiffEqBase.OrdinaryDiffEqTag, Float64}, Float64, 1}}, SciMLBase.NullParameters, Float64}}, FunctionWrappers.FunctionWrapper{Nothing, Tuple{Vector{ForwardDiff.Dual{ForwardDiff.Tag{DiffEqBase.OrdinaryDiffEqTag, Float64}, Float64, 1}}, Vector{Float64}, SciMLBase.NullParameters, ForwardDiff.Dual{ForwardDiff.Tag{DiffEqBase.OrdinaryDiffEqTag, Float64}, Float64, 1}}}, FunctionWrappers.FunctionWrapper{Nothing, Tuple{Vector{ForwardDiff.Dual{ForwardDiff.Tag{DiffEqBase.OrdinaryDiffEqTag, Float64}, Float64, 1}}, Vector{ForwardDiff.Dual{ForwardDiff.Tag{DiffEqBase.OrdinaryDiffEqTag, Float64}, Float64, 1}}, SciMLBase.NullParameters, ForwardDiff.Dual{ForwardDiff.Tag{DiffEqBase.OrdinaryDiffEqTag, Float64}, Float64, 1}}}}, false}, UniformScaling{Bool}, Nothing, Nothing, Nothing, Nothing, Nothing, Nothing, Nothing, Nothing, Nothing, Nothing, Nothing, typeof(SciMLBase.DEFAULT_OBSERVED), Nothing, Nothing}(FunctionWrappersWrappers.FunctionWrappersWrapper{Tuple{FunctionWrappers.FunctionWrapper{Nothing, Tuple{Vector{Float64}, Vector{Float64}, SciMLBase.NullParameters, Float64}}, FunctionWrappers.FunctionWrapper{Nothing, Tuple{Vector{ForwardDiff.Dual{ForwardDiff.Tag{DiffEqBase.OrdinaryDiffEqTag, Float64}, Float64, 1}}, Vector{ForwardDiff.Dual{ForwardDiff.Tag{DiffEqBase.OrdinaryDiffEqTag, Float64}, Float64, 1}}, SciMLBase.NullParameters, Float64}}, FunctionWrappers.FunctionWrapper{Nothing, Tuple{Vector{ForwardDiff.Dual{ForwardDiff.Tag{DiffEqBase.OrdinaryDiffEqTag, Float64}, Float64, 1}}, Vector{Float64}, SciMLBase.NullParameters, ForwardDiff.Dual{ForwardDiff.Tag{DiffEqBase.OrdinaryDiffEqTag, Float64}, Float64, 1}}}, FunctionWrappers.FunctionWrapper{Nothing, Tuple{Vector{ForwardDiff.Dual{ForwardDiff.Tag{DiffEqBase.OrdinaryDiffEqTag, Float64}, Float64, 1}}, Vector{ForwardDiff.Dual{ForwardDiff.Tag{DiffEqBase.OrdinaryDiffEqTag, Float64}, Float64, 1}}, SciMLBase.NullParameters, ForwardDiff.Dual{ForwardDiff.Tag{DiffEqBase.OrdinaryDiffEqTag, Float64}, Float64, 1}}}}, false}((FunctionWrappers.FunctionWrapper{Nothing, Tuple{Vector{Float64}, Vector{Float64}, SciMLBase.NullParameters, Float64}}(Ptr{Nothing} @0x000074aeb2777c50, Ptr{Nothing} @0x000074adb6a0c0e0, Base.RefValue{SciMLBase.Void{typeof(ST_and_dynamics_DFJL!)}}(SciMLBase.Void{typeof(ST_and_dynamics_DFJL!)}(ST_and_dynamics_DFJL!)), SciMLBase.Void{typeof(ST_and_dynamics_DFJL!)}), FunctionWrappers.FunctionWrapper{Nothing, Tuple{Vector{ForwardDiff.Dual{ForwardDiff.Tag{DiffEqBase.OrdinaryDiffEqTag, Float64}, Float64, 1}}, Vector{ForwardDiff.Dual{ForwardDiff.Tag{DiffEqBase.OrdinaryDiffEqTag, Float64}, Float64, 1}}, SciMLBase.NullParameters, Float64}}(Ptr{Nothing} @0x000074aeb277b0b0, Ptr{Nothing} @0x000074adb6a0c0e8, Base.RefValue{SciMLBase.Void{typeof(ST_and_dynamics_DFJL!)}}(SciMLBase.Void{typeof(ST_and_dynamics_DFJL!)}(ST_and_dynamics_DFJL!)), SciMLBase.Void{typeof(ST_and_dynamics_DFJL!)}), FunctionWrappers.FunctionWrapper{Nothing, Tuple{Vector{ForwardDiff.Dual{ForwardDiff.Tag{DiffEqBase.OrdinaryDiffEqTag, Float64}, Float64, 1}}, Vector{Float64}, SciMLBase.NullParameters, ForwardDiff.Dual{ForwardDiff.Tag{DiffEqBase.OrdinaryDiffEqTag, Float64}, Float64, 1}}}(Ptr{Nothing} @0x000074aeb277b7b0, Ptr{Nothing} @0x000074adb6a0c0f0, Base.RefValue{SciMLBase.Void{typeof(ST_and_dynamics_DFJL!)}}(SciMLBase.Void{typeof(ST_and_dynamics_DFJL!)}(ST_and_dynamics_DFJL!)), SciMLBase.Void{typeof(ST_and_dynamics_DFJL!)}), FunctionWrappers.FunctionWrapper{Nothing, Tuple{Vector{ForwardDiff.Dual{ForwardDiff.Tag{DiffEqBase.OrdinaryDiffEqTag, Float64}, Float64, 1}}, Vector{ForwardDiff.Dual{ForwardDiff.Tag{DiffEqBase.OrdinaryDiffEqTag, Float64}, Float64, 1}}, SciMLBase.NullParameters, ForwardDiff.Dual{ForwardDiff.Tag{DiffEqBase.OrdinaryDiffEqTag, Float64}, Float64, 1}}}(Ptr{Nothing} @0x000074aeb277bdb0, Ptr{Nothing} @0x000074adb6a0c0f8, Base.RefValue{SciMLBase.Void{typeof(ST_and_dynamics_DFJL!)}}(SciMLBase.Void{typeof(ST_and_dynamics_DFJL!)}(ST_and_dynamics_DFJL!)), SciMLBase.Void{typeof(ST_and_dynamics_DFJL!)}))), UniformScaling{Bool}(true), nothing, nothing, nothing, nothing, nothing, nothing, nothing, nothing, nothing, nothing, nothing, SciMLBase.DEFAULT_OBSERVED, nothing, nothing), [[1.1201297302380415, 0.0, 0.005939677983460742, 0.0, 0.176778191082557, 0.0, 1.0, 0.0, 0.0, 0.0  …  0.0, 0.0, 1.0, 0.0, 0.0, 0.0, 0.0, 0.0, 0.0, 1.0], [1.120131108118931, 0.0028013809860172223, 0.005935266578989017, 0.00017455618004741895, 0.17666637025718004, -0.0005565103154420301, 1.0016074883657045, -2.875772598955626e-6, 8.970729096279607e-5, 0.20284881163168186  …  8.703544560970494e-9, 0.031733765088890434, 0.9988811443386422, 2.1955169605777172e-6, 4.7382136315696543e-7, 1.1950673970167507e-9, 0.01584630947892482, 8.965353659773211e-5, 3.0130836823870564e-7, 0.9992614228117392], [1.1201365313999294, 0.006171519565406334, 0.005918251868158862, 0.00039663266094956554, 0.17623537381198856, -0.0012248597415066291, 1.0078164436502675, -3.07985488504512e-5, 0.00043580459312857043, 0.4474810723354925  …  2.050068697692632e-7, 0.07024989806661208, 0.9945770031149997, 2.3416668935389568e-5, 5.069479927517691e-6, 2.80381720048867e-8, 0.03490509618500951, 0.00043453926569563624, 3.194636164193929e-6, 0.9964155349271445], [1.1201480185489898, 0.009952869366179173, 0.005883867240719449, 0.0006788964799540027, 0.17536580182558795, -0.001971615132146403, 1.0204071813964708, -0.00012961673362254665, 0.0011356926260664552, 0.7236125412035628  …  1.3866997093093569e-6, 0.11439494907393402, 0.985932956804681, 9.773106350497673e-5, 2.129220161301883e-5, 1.8813544897151436e-7, 0.056276278497984666, 0.0011271449727861737, 1.3172081912837726e-5, 0.9906778243905591], [1.1201681090450597, 0.014048736817203441, 0.005828204277345992, 0.001047441137741355, 0.1739620826609041, -0.0027745189887541793, 1.0409123386558212, -0.0003665547302401685, 0.002269988942470364, 1.0258729265750812  …  5.504694495596407e-6, 0.16397316550661584, 0.9720902803112724, 0.00027265475957136755, 6.0014114110410735e-5, 7.37034063198626e-7, 0.07940003931328873, 0.002236129441009, 3.601702007099974e-5, 0.9814273490522241], [1.1202004679615891, 0.018407260310039003, 0.005747613855406738, 0.0015400928445562416, 0.17193826648968188, -0.0036193759919809707, 1.07087058621215, -0.0008313428975293471, 0.0039149762853237565, 1.3526521647416172  …  1.6224092113295536e-5, 0.2195430746318843, 0.9523687278692305, 0.0006062429200406874, 0.00013543667641757368, 2.1302657876624893e-6, 0.10396627066357304, 0.0038154833798558063, 7.770900222985002e-5, 0.9681162728771084], [1.12025000306406, 0.022960037066369017, 0.005639386691497373, 0.002198602227043793, 0.16923584177422965, -0.0044882436780481014, 1.111608556203439, -0.0016320058489072114, 0.006128834418445393, 1.7015194408034806  …  3.927995477215591e-5, 0.28160891210978645, 0.9264551942544624, 0.0011585093045688342, 0.0002640323205452057, 5.020013165190935e-6, 0.12956870799641967, 0.00588891897983935, 0.0001423311553431218, 0.9503903652481569], [1.1203232980463416, 0.02765308483337915, 0.0055013113123462175, 0.0030680524798518665, 0.16581277595101152, -0.005365827786102294, 1.1644315089281068, -0.002895289057500227, 0.008960500662060712, 2.0714215552958204  …  8.2686991419319e-5, 0.3509026707302862, 0.8942921140038177, 0.001984921151085809, 0.00046406005920932643, 1.0194618855585957e-5, 0.15588076167972506, 0.008458001987497842, 0.00023015817008872108, 0.9280193444102689], [1.1204288532288273, 0.032439985977352696, 0.005331611137231672, 0.004193434383080649, 0.1616417088575369, -0.006238410492157115, 1.2306733125044742, -0.004767857809650133, 0.0124505474138057, 2.4621391376155226  …  0.00015672531829418599, 0.428231025645927, 0.8560416660737572, 0.003129362700321918, 0.0007549628479138091, 1.8444012986685534e-5, 0.18261764838536737, 0.01150387545496431, 0.0003357503309443832, 0.900887293112996], [1.1205772947003534, 0.03728007319411444, 0.005128833491776993, 0.005616955488357998, 0.15670654379803492, -0.007093740099858894, 1.3117649181495548, -0.007420516893065262, 0.016632755674119707, 2.8741494266463556  …  0.0002737378025076399, 0.5144007765833377, 0.8120214572409877, 0.004618370824246115, 0.0011569361126194733, 3.035300221969046e-5, 0.2095269642039381, 0.014990964547804526, 0.0004464504698547018, 0.8689723169957967]  …  [1.1209644405411285, -0.0455043236298893, 0.004706178653180062, -0.00881214736994496, 0.1465750174141071, 0.008474110272570237, 474.3394761235362, -623.4765510712496, -4.086580821412678, 1186.2408185438967  …  -0.8578331891725148, 250.20222234156543, -303.452139579333, 9.364684243800468, 2.1805117564591123, -2.8543281310045017, -0.35109896662752627, 5.43991359488828, -6.610750837125479, 0.8666204739975683], [1.1207124951111909, -0.040656556713334555, 0.004967726160190884, -0.006802129631278773, 0.15282106306410134, 0.007672341972734815, 515.0643795228925, -671.5462898607589, -2.481062207043551, 1332.6522198521852  …  -0.5190222123613154, 281.08962523176103, -321.38085232910106, 11.614804282510006, 2.3672148904415287, -3.074677546323271, -0.3214022124368743, 6.107931569444806, -7.00134138112229, 0.9687162824228387], [1.1205222177687186, -0.03566069036974508, 0.005200285122077319, -0.005106173800952193, 0.15843968162959918, 0.00681081919480275, 560.4002466827372, -721.8962279909211, -0.5262126992921341, 1495.9529409255467  …  -0.10663426405415836, 315.53353665989806, -338.785735891114, 14.13546195314947, 2.5749542006839636, -3.305468191326204, -0.28863687793685966, 6.853396321077319, -7.380422037738239, 1.0739799072499425], [1.1203822936277477, -0.030524088479349887, 0.005403117645476151, -0.0037115721396077887, 0.1633945805341179, 0.005892141640860586, 610.9763977814872, -774.5462887600896, 1.820422367480121, 1677.178171963697  …  0.3882696618875362, 353.7520439466027, -355.3634426582172, 16.93124832115839, 2.8066177107355497, -3.5467892443109106, -0.25264920380054207, 7.68112907301223, -7.741407214523896, 1.182127052014493], [1.1202810314790879, -0.025152282212519327, 0.005578296761079925, -0.0025783879505465973, 0.16771801686729448, 0.004900682262554708, 668.629521373753, -830.5576236118461, 4.661985313317713, 1881.1985706335033  …  0.987423044584404, 396.77210584995925, -371.0591871286847, 20.061042434755358, 3.0706235939337323, -3.8035025980070136, -0.21248593873052068, 8.613487961722468, -8.083117897387867, 1.2948159103004095], [1.1202119732162341, -0.01962695243491777, 0.005721055674216342, -0.0017006850853037725, 0.1712735108912113, 0.003853647935597963, 733.5436011564504, -889.149014831193, 8.023494279905323, 2106.395997347985  …  1.6960828787639413, 444.252526881211, -385.2240257771499, 23.477383535267666, 3.367823056793003, -4.0720262394227715, -0.16842398060937713, 9.64319652496356, -8.391433037680546, 1.4097600935497359], [1.1201684894580393, -0.014112694727484073, 0.005827181626960478, -0.0010538670188086736, 0.17393635530483773, 0.002786995087660266, 804.5920895584657, -948.5542357316061, 11.848864708512952, 2346.387212405011  …  2.5024169871037287, 494.84803040543943, -397.13933327295985, 27.056790750868252, 3.6930737042839485, -4.344265289508453, -0.12159852132775474, 10.741149408190163, -8.650714503247668, 1.5227888319631984], [1.1201432278534564, -0.008610508457241418, 0.005897932466103841, -0.0005734824431817875, 0.17572129438707723, 0.0017070180013565182, 882.3617773008734, -1008.6796695152493, 16.162111846420522, 2600.648197060276  …  3.411485301633046, 548.4490300503206, -406.6255331707935, 30.762200876244, 4.049080091304115, -4.619791098142368, -0.07195392064823827, 11.904999504003472, -8.857053727277874, 1.6330328563333818], [1.1201314752759652, -0.0031571446475295176, 0.005934074485290159, -0.00019717910958725034, 0.17663617699327974, 0.0006271441148125414, 966.9072808322802, -1069.0217890325384, 20.95385978184434, 2866.8007200314964  …  4.421312205169104, 604.5551637335911, -413.5104238645379, 34.52656304613449, 4.4361110010241935, -4.896296554481042, -0.019780328417576494, 13.123896047357539, -9.006699213830307, 1.7388274437959534], [1.1201297227191964, 8.93927433809894e-9, 0.005939677799645314, -2.230057853738572e-8, 0.17677820569208622, -1.3039869425329978e-9, 1019.5457072955518, -1104.2606205566224, 23.974084053358894, 3027.155529493856  …  5.057766261130496, 638.3583229249115, -416.3096460337711, 36.73033589244311, 4.677088636631274, -5.0577652472687324, 0.01181400930784473, 13.858550901951949, -9.067467526119326, 1.7980796952294362]], [0.0, 0.015850212350373517, 0.034946886271739114, 0.05645207756637913, 0.07989681000791815, 0.10509147640906019, 0.1317730327486662, 0.15977904985483019, 0.18900734498832578, 0.21940559186176686  …  3.1413822028146066, 3.173755993783821, 3.205846459805377, 3.237756287752094, 3.2701910248396637, 3.3027765156558253, 3.3347108777113204, 3.366169987950777, 3.3971112237388037, 3.4149754139263155], [[[1.1201297302380415, 0.0, 0.005939677983460742, 0.0, 0.176778191082557, 0.0, 1.0, 0.0, 0.0, 0.0  …  0.0, 0.0, 1.0, 0.0, 0.0, 0.0, 0.0, 0.0, 0.0, 1.0]], [[0.0, 0.176778191082557, 0.0, 0.010925343571474233, -0.0, -0.035126532923061886, 0.0, 0.0, 0.0, 12.796109010617188  …  0.0, 2.0, 0.0, 0.0, 0.0, 0.0, 1.0, 0.0, 0.0, 0.0], [0.00017455618004741895, 0.17666637025718004, -0.0005565103154420301, 0.01118776669763194, -0.014104504705860103, -0.03507872149576341, 0.20284881163168186, -0.0005442279179664566, 0.01131747288153654, 12.801362295080024  …  2.1955169605777172e-6, 2.0063066605747437, -0.14107050604617707, 0.00041519714826291943, 8.965353659773211e-5, 3.0130836823870564e-7, 0.9992614228117392, 0.011303914194757134, 5.692256163626055e-5, -0.0931546386605102]], [[0.00017455618004741895, 0.17666637025718004, -0.0005565103154420301, 0.01118776669763194, -0.014104504705860103, -0.03507872149576341, 0.20284881163168186, -0.0005442279179664566, 0.01131747288153654, 12.801362295080024  …  2.1955169605777172e-6, 2.0063066605747437, -0.14107050604617707, 0.00041519714826291943, 8.965353659773211e-5, 3.0130836823870564e-7, 0.9992614228117392, 0.011303914194757134, 5.692256163626055e-5, -0.0931546386605102], [0.00039663266094956554, 0.17623537381198856, -0.0012248597415066291, 0.01219505450769176, -0.03100989644048231, -0.03489484858340365, 0.4474810723354925, -0.0026421397386587964, 0.024920513956035912, 12.821546533064364  …  2.3416668935389568e-5, 2.0304836797071566, -0.30920607417838397, 0.002001919559700181, 0.00043453926569563624, 3.194636164193929e-6, 0.9964155349271445, 0.024776042717641864, 0.0002717425908120737, -0.20471123959688442]], [[0.00039663266094956554, 0.17623537381198856, -0.0012248597415066291, 0.01219505450769176, -0.03100989644048231, -0.03489484858340365, 0.4474810723354925, -0.0026421397386587964, 0.024920513956035912, 12.821546533064364  …  2.3416668935389568e-5, 2.0304836797071566, -0.30920607417838397, 0.002001919559700181, 0.00043453926569563624, 3.194636164193929e-6, 0.9964155349271445, 0.024776042717641864, 0.0002717425908120737, -0.20471123959688442], [0.0006788964799540027, 0.17536580182558795, -0.001971615132146403, 0.014207190189724106, -0.049807188669523224, -0.03452583989808734, 0.7236125412035628, -0.006876594329209588, 0.040149334641398256, 12.861967137534709  …  9.773106350497673e-5, 2.0786348335294917, -0.49359329886363096, 0.005138104633771192, 0.0011271449727861737, 1.3172081912837726e-5, 0.9906778243905591, 0.03954755961032297, 0.0006832588756410726, -0.3284854325106125]], [[0.0006788964799540027, 0.17536580182558795, -0.001971615132146403, 0.014207190189724106, -0.049807188669523224, -0.03452583989808734, 0.7236125412035628, -0.006876594329209588, 0.040149334641398256, 12.861967137534709  …  9.773106350497673e-5, 2.0786348335294917, -0.49359329886363096, 0.005138104633771192, 0.0011271449727861737, 1.3172081912837726e-5, 0.9906778243905591, 0.03954755961032297, 0.0006832588756410726, -0.3284854325106125], [0.001047441137741355, 0.1739620826609041, -0.0027745189887541793, 0.017398795105394937, -0.06984724797707026, -0.03393568701549202, 1.0258729265750812, -0.01371943192227414, 0.05657800269373709, 12.9263909849587  …  0.00027265475957136755, 2.154620691768231, -0.6854200818349767, 0.010019778952264219, 0.002236129441009, 3.601702007099974e-5, 0.9814273490522241, 0.05490444765847757, 0.001287017523787442, -0.4599291654745114]], [[0.001047441137741355, 0.1739620826609041, -0.0027745189887541793, 0.017398795105394937, -0.06984724797707026, -0.03393568701549202, 1.0258729265750812, -0.01371943192227414, 0.05657800269373709, 12.9263909849587  …  0.00027265475957136755, 2.154620691768231, -0.6854200818349767, 0.010019778952264219, 0.002236129441009, 3.601702007099974e-5, 0.9814273490522241, 0.05490444765847757, 0.001287017523787442, -0.4599291654745114], [0.0015400928445562416, 0.17193826648968188, -0.0036193759919809707, 0.021878658486987612, -0.09066820511154877, -0.03309671988860992, 1.3526521647416172, -0.023609273261569183, 0.07394744887379347, 13.017576969435932  …  0.0006062429200406874, 2.260484430822909, -0.8774027548870741, 0.016674455484343258, 0.0038154833798558063, 7.770900222985002e-5, 0.9681162728771084, 0.07024317666998155, 0.0020301704352826133, -0.5956534003532323]], [[0.0015400928445562416, 0.17193826648968188, -0.0036193759919809707, 0.021878658486987612, -0.09066820511154877, -0.03309671988860992, 1.3526521647416172, -0.023609273261569183, 0.07394744887379347, 13.017576969435932  …  0.0006062429200406874, 2.260484430822909, -0.8774027548870741, 0.016674455484343258, 0.0038154833798558063, 7.770900222985002e-5, 0.9681162728771084, 0.07024317666998155, 0.0020301704352826133, -0.5956534003532323], [0.002198602227043793, 0.16923584177422965, -0.0044882436780481014, 0.027639862410794913, -0.111712928955009, -0.0319980056601645, 1.7015194408034806, -0.036881431977762016, 0.09191750415872699, 13.136463790653842  …  0.0011585093045688342, 2.3953083056720073, -1.0615197674527999, 0.02487972551748642, 0.00588891897983935, 0.0001423311553431218, 0.9503903652481569, 0.08488119879881749, 0.0027990400603616003, -0.731589635001221]], [[0.002198602227043793, 0.16923584177422965, -0.0044882436780481014, 0.027639862410794913, -0.111712928955009, -0.0319980056601645, 1.7015194408034806, -0.036881431977762016, 0.09191750415872699, 13.136463790653842  …  0.0011585093045688342, 2.3953083056720073, -1.0615197674527999, 0.02487972551748642, 0.00588891897983935, 0.0001423311553431218, 0.9503903652481569, 0.08488119879881749, 0.0027990400603616003, -0.731589635001221], [0.0030680524798518665, 0.16581277595101152, -0.005365827786102294, 0.034581773735928634, -0.13250422456520577, -0.03064101525837853, 2.0714215552958204, -0.05384840391290745, 0.1101898099213238, 13.28286240026614  …  0.001984921151085809, 2.5558932893397346, -1.231205517259172, 0.03420884385488233, 0.008458001987497842, 0.00023015817008872108, 0.9280193444102689, 0.09822476554863031, 0.003429158050842266, -0.8641625860928293]], [[0.0030680524798518665, 0.16581277595101152, -0.005365827786102294, 0.034581773735928634, -0.13250422456520577, -0.03064101525837853, 2.0714215552958204, -0.05384840391290745, 0.1101898099213238, 13.28286240026614  …  0.001984921151085809, 2.5558932893397346, -1.231205517259172, 0.03420884385488233, 0.008458001987497842, 0.00023015817008872108, 0.9280193444102689, 0.09822476554863031, 0.003429158050842266, -0.8641625860928293], [0.004193434383080649, 0.1616417088575369, -0.006238410492157115, 0.04251652273065959, -0.15263124010248352, -0.029038615734478305, 2.4621391376155226, -0.07484710774227568, 0.12847834014621184, 13.455886376320093  …  0.003129362700321918, 2.7371625220204603, -1.381624325460931, 0.04406649694691973, 0.01150387545496431, 0.0003357503309443832, 0.900887293112996, 0.10978500219484898, 0.0037196999891904864, -0.9902206565176972]], [[0.004193434383080649, 0.1616417088575369, -0.006238410492157115, 0.04251652273065959, -0.15263124010248352, -0.029038615734478305, 2.4621391376155226, -0.07484710774227568, 0.12847834014621184, 13.455886376320093  …  0.003129362700321918, 2.7371625220204603, -1.381624325460931, 0.04406649694691973, 0.01150387545496431, 0.0003357503309443832, 0.900887293112996, 0.10978500219484898, 0.0037196999891904864, -0.9902206565176972], [0.005616955488357998, 0.15670654379803492, -0.007093740099858894, 0.051183742309932334, -0.17175713663479372, -0.02721293433772711, 2.8741494266463556, -0.10030476278044198, 0.1465002272792121, 13.654574441560664  …  0.004618370824246115, 2.932821610162011, -1.51000596615208, 0.053746990885449604, 0.014990964547804526, 0.0004464504698547018, 0.8689723169957967, 0.1192025088410859, 0.003454835772034301, -1.1071051975903372]]  …  [[-0.01113624150979305, 0.13974557845182012, 0.009212770961643958, 0.0753921406975262, 0.21616782277896962, -0.021480944691007118, 1055.8103294496796, -1355.7886182008858, 34.94087233987851, 3734.7985989922477  …  7.378960034711662, 788.1751268529164, -552.6747323326393, 56.48442374915765, 4.84510358817364, -6.215204589527947, 0.7680144906961194, 17.02796674293326, -12.046312379905585, 2.944033989480241], [-0.00881214736994496, 0.1465750174141071, 0.008474110272570237, 0.06664341616847957, 0.2011989418010758, -0.023691958824120687, 1186.2408185438967, -1442.1196271352017, 44.366883775510935, 4250.062585121757  …  9.364684243800468, 896.7022218879031, -556.0120102415993, 65.0601170566727, 5.43991359488828, -6.610750837125479, 0.8666204739975683, 19.38639226326466, -12.114902496198813, 3.0861577572516268]], [[-0.00881214736994496, 0.1465750174141071, 0.008474110272570237, 0.06664341616847957, 0.2011989418010758, -0.023691958824120687, 1186.2408185438967, -1442.1196271352017, 44.366883775510935, 4250.062585121757  …  9.364684243800468, 896.7022218879031, -556.0120102415993, 65.0601170566727, 5.43991359488828, -6.610750837125479, 0.8666204739975683, 19.38639226326466, -12.114902496198813, 3.0861577572516268], [-0.006802129631278773, 0.15282106306410134, 0.007672341972734815, 0.057475183867990276, 0.18432250169545744, -0.02582737457890639, 1332.6522198521852, -1527.3936720166657, 55.048867760382045, 4801.302616580232  …  11.614804282510006, 1012.7985223698787, -549.8857968698177, 74.0078740782599, 6.107931569444806, -7.00134138112229, 0.9687162824228387, 21.911983059868433, -11.978031007071383, 3.219444694644412]], [[-0.006802129631278773, 0.15282106306410134, 0.007672341972734815, 0.057475183867990276, 0.18432250169545744, -0.02582737457890639, 1332.6522198521852, -1527.3936720166657, 55.048867760382045, 4801.302616580232  …  11.614804282510006, 1012.7985223698787, -549.8857968698177, 74.0078740782599, 6.107931569444806, -7.00134138112229, 0.9687162824228387, 21.911983059868433, -11.978031007071383, 3.219444694644412], [-0.005106173800952193, 0.15843968162959918, 0.00681081919480275, 0.0482273777289039, 0.16550120119405073, -0.027845565025149885, 1495.9529409255467, -1610.1751068659041, 67.01603866387835, 5380.9989786242295  …  14.13546195314947, 1134.883127424116, -532.9249778091234, 83.1047157792922, 6.853396321077319, -7.380422037738239, 1.0739799072499425, 24.570575669285752, -11.605831755130332, 3.3382061799356157]], [[-0.005106173800952193, 0.15843968162959918, 0.00681081919480275, 0.0482273777289039, 0.16550120119405073, -0.027845565025149885, 1495.9529409255467, -1610.1751068659041, 67.01603866387835, 5380.9989786242295  …  14.13546195314947, 1134.883127424116, -532.9249778091234, 83.1047157792922, 6.853396321077319, -7.380422037738239, 1.0739799072499425, 24.570575669285752, -11.605831755130332, 3.3382061799356157], [-0.0037115721396077887, 0.1633945805341179, 0.005892141640860586, 0.03925110277842542, 0.14471446966576038, -0.029705274391899232, 1677.178171963697, -1689.0218227241674, 80.29020661856595, 5980.450022410978  …  16.93124832115839, 1261.1270793581275, -504.0277614903114, 92.08815200137468, 7.68112907301223, -7.741407214523896, 1.182127052014493, 27.322532500431336, -10.974243552097827, 3.4361091519686875]], [[-0.0037115721396077887, 0.1633945805341179, 0.005892141640860586, 0.03925110277842542, 0.14471446966576038, -0.029705274391899232, 1677.178171963697, -1689.0218227241674, 80.29020661856595, 5980.450022410978  …  16.93124832115839, 1261.1270793581275, -504.0277614903114, 92.08815200137468, 7.68112907301223, -7.741407214523896, 1.182127052014493, 27.322532500431336, -10.974243552097827, 3.4361091519686875], [-0.0025783879505465973, 0.16771801686729448, 0.004900682262554708, 0.03076651175126277, 0.12154759398199956, -0.03139156165825089, 1881.1985706335033, -1763.673838224466, 95.1509101478808, 6600.534554043772  …  20.061042434755358, 1391.7199475301104, -461.5823767340038, 100.79859676316805, 8.613487961722468, -8.083117897387867, 1.2948159103004095, 30.1722185291035, -10.048019256936222, 3.5070530447326638]], [[-0.0025783879505465973, 0.16771801686729448, 0.004900682262554708, 0.03076651175126277, 0.12154759398199956, -0.03139156165825089, 1881.1985706335033, -1763.673838224466, 95.1509101478808, 6600.534554043772  …  20.061042434755358, 1391.7199475301104, -461.5823767340038, 100.79859676316805, 8.613487961722468, -8.083117897387867, 1.2948159103004095, 30.1722185291035, -10.048019256936222, 3.5070530447326638], [-0.0017006850853037725, 0.1712735108912113, 0.003853647935597963, 0.02331907384748433, 0.09638275887153498, -0.03282417844316826, 2106.395997347985, -1831.0451841272709, 111.37273074677067, 7219.392244357043  …  23.477383535267666, 1522.0632951474752, -405.6350326976353, 108.70962608779004, 9.64319652496356, -8.391433037680546, 1.4097600935497359, 33.01948891287226, -8.828044832017909, 3.5409358617869406]], [[-0.0017006850853037725, 0.1712735108912113, 0.003853647935597963, 0.02331907384748433, 0.09638275887153498, -0.03282417844316826, 2106.395997347985, -1831.0451841272709, 111.37273074677067, 7219.392244357043  …  23.477383535267666, 1522.0632951474752, -405.6350326976353, 108.70962608779004, 9.64319652496356, -8.391433037680546, 1.4097600935497359, 33.01948891287226, -8.828044832017909, 3.5409358617869406], [-0.0010538670188086736, 0.17393635530483773, 0.002786995087660266, 0.01745661673090554, 0.07015692157449926, -0.03392493212759772, 2346.387212405011, -1887.7183265784818, 128.36918837820934, 7806.403659035581  …  27.056790750868252, 1645.713507244735, -338.7330409438471, 115.22418739267273, 10.741149408190163, -8.650714503247668, 1.5227888319631984, 35.72351821532041, -7.369649284764687, 3.530004333662598]], [[-0.0010538670188086736, 0.17393635530483773, 0.002786995087660266, 0.01745661673090554, 0.07015692157449926, -0.03392493212759772, 2346.387212405011, -1887.7183265784818, 128.36918837820934, 7806.403659035581  …  27.056790750868252, 1645.713507244735, -338.7330409438471, 115.22418739267273, 10.741149408190163, -8.650714503247668, 1.5227888319631984, 35.72351821532041, -7.369649284764687, 3.530004333662598], [-0.0005734824431817875, 0.17572129438707723, 0.0017070180013565182, 0.013387823446681657, 0.043161184609839205, -0.03467637589666694, 2600.648197060276, -1932.8394073151505, 145.9640879050676, 8351.575471505788  …  30.762200876244, 1760.570176158103, -262.89775974485724, 120.05291844604862, 11.904999504003472, -8.857053727277874, 1.6330328563333818, 38.23809183275456, -5.716672883168318, 3.4701584732366975]], [[-0.0005734824431817875, 0.17572129438707723, 0.0017070180013565182, 0.013387823446681657, 0.043161184609839205, -0.03467637589666694, 2600.648197060276, -1932.8394073151505, 145.9640879050676, 8351.575471505788  …  30.762200876244, 1760.570176158103, -262.89775974485724, 120.05291844604862, 11.904999504003472, -8.857053727277874, 1.6330328563333818, 38.23809183275456, -5.716672883168318, 3.4701584732366975], [-0.00019717910958725034, 0.17663617699327974, 0.0006271441148125414, 0.0112585168823634, 0.01589351078378676, -0.035065817260919584, 2866.8007200314964, -1965.5894815817546, 163.8388238824971, 8844.16346527944  …  34.52656304613449, 1864.3733641707054, -181.2014681435353, 122.93951439836748, 13.123896047357539, -9.006699213830307, 1.7388274437959534, 40.51333768823777, -3.9359008020521458, 3.359445261462799]], [[-0.00019717910958725034, 0.17663617699327974, 0.0006271441148125414, 0.0112585168823634, 0.01589351078378676, -0.035065817260919584, 2866.8007200314964, -1965.5894815817546, 163.8388238824971, 8844.16346527944  …  34.52656304613449, 1864.3733641707054, -181.2014681435353, 122.93951439836748, 13.123896047357539, -9.006699213830307, 1.7388274437959534, 40.51333768823777, -3.9359008020521458, 3.359445261462799], [-2.230057853738572e-8, 0.17677820569208622, -1.3039869425329978e-9, 0.010925276447275534, 6.746425132128053e-10, -0.03512653721228221, 3027.155529493856, -1978.9061706857426, 174.30311150871512, 9105.530228459924  …  36.73033589244311, 1919.464903602674, -132.02235753471427, 123.66626214824836, 13.858550901951949, -9.067467526119326, 1.7980796952294362, 41.72204235314653, -2.8638491426787773, 3.271198924796238]]], nothing, true, OrdinaryDiffEq.TsitPap8Cache{Vector{Float64}, Vector{Float64}, Vector{Float64}, OrdinaryDiffEq.TsitPap8ConstantCache{Float64, Float64}, typeof(OrdinaryDiffEq.trivial_limiter!), typeof(OrdinaryDiffEq.trivial_limiter!), Static.False}([1.1201297227191964, 8.93927433809894e-9, 0.005939677799645314, -2.230057853738572e-8, 0.17677820569208622, -1.3039869425329978e-9, 1019.5457072955518, -1104.2606205566224, 23.974084053358894, 3027.155529493856  …  5.057766261130496, 638.3583229249115, -416.3096460337711, 36.73033589244311, 4.677088636631274, -5.0577652472687324, 0.01181400930784473, 13.858550901951949, -9.067467526119326, 1.7980796952294362], [1.1201314752759652, -0.0031571446475295176, 0.005934074485290159, -0.00019717910958725034, 0.17663617699327974, 0.0006271441148125414, 966.9072808322802, -1069.0217890325384, 20.95385978184434, 2866.8007200314964  …  4.421312205169104, 604.5551637335911, -413.5104238645379, 34.52656304613449, 4.4361110010241935, -4.896296554481042, -0.019780328417576494, 13.123896047357539, -9.006699213830307, 1.7388274437959534], [-0.00019717910958725034, 0.17663617699327974, 0.0006271441148125414, 0.0112585168823634, 0.01589351078378676, -0.035065817260919584, 2866.8007200314964, -1965.5894815817546, 163.8388238824971, 8844.16346527944  …  34.52656304613449, 1864.3733641707054, -181.2014681435353, 122.93951439836748, 13.123896047357539, -9.006699213830307, 1.7388274437959534, 40.51333768823777, -3.9359008020521458, 3.359445261462799], [-0.00018443179563413291, 0.17665417222070579, 0.0005874412848289749, 0.01121873549191088, 0.014887886744981654, -0.03507340049955306, 2876.814412733882, -1966.565455879669, 164.49978258767368, 8861.164783500006  …  34.66575976304262, 1867.9566185481315, -178.11298334645517, 123.00690876066992, 13.16976676374023, -9.011155587945684, 1.7426311333852336, 40.591931114959415, -3.868576470511943, 3.354391690059919], [-0.00017656519024916974, 0.17666386369416398, 0.0005627441489703975, 0.011193612954247367, 0.014262439935323586, -0.03507764832565994, 2883.065894377621, -1967.150413368582, 164.91121974915876, 8871.841488192347  …  34.75240780862223, 1870.2068890379724, -176.196188792469, 123.04704897824557, 13.198404609212611, -9.013826163682783, 1.7449886112688782, 40.641284651955836, -3.8267940420059716, 3.3512014764376006], [-0.0001663034565023093, 0.17667658366143807, 0.0005305366627401094, 0.011163784783204345, 0.013446593182258073, -0.03508308469348978, 2891.217685994305, -1967.9145115024994, 165.44775731317353, 8885.61220065813  …  34.86540180812513, 1873.109299253291, -173.68866309936857, 123.09803742242738, 13.235747662840282, -9.01731461620701, 1.7480634522573075, 40.70494679540465, -3.7721339175381736, 3.347008760700843], [-0.0001200021294700072, 0.1767249237443373, 0.0003842028978640536, 0.011050373747672704, 0.009738920842263547, -0.0351037500642808, 2928.398166592264, -1971.2466089370046, 167.8871724177038, 8947.572242953624  …  35.37913973903774, 1886.1687865842227, -162.26055925723836, 123.3060945732718, 13.40607676383453, -9.032524618383817, 1.7619791069599078, 40.99142547242633, -3.5230171534043677, 3.327370441718709], [-0.00010459483578450541, 0.1767376544049061, 0.00033518705538567817, 0.011020495561803234, 0.008496725410554313, -0.0351091935710075, 2940.9051274258486, -1972.311613275433, 168.70485440483907, 8968.104374502864  …  35.551342904595415, 1890.496534636207, -158.42055211130673, 123.36709874358498, 13.46337539643309, -9.037385071615155, 1.7666200582054556, 41.086371368088166, -3.4393095632663133, 3.3205763224356692], [-0.00016605946116836308, 0.17667687736527862, 0.0005297698645915565, 0.011163096045069099, 0.013427168460521322, -0.03508321022298243, 2891.4118992666763, -1967.9325686477177, 165.4605329076442, 8885.939462021619  …  34.868092329734715, 1873.1782754618616, -173.62892707898482, 123.09922858488758, 13.236637353055047, -9.017397052767993, 1.7481366055833796, 40.706459763961334, -3.7708317641374016, 3.346908371255715], [1.3626605773394702e-6, 0.17677819848586898, -4.4516554199960034e-6, 0.010925293212757536, -0.00011282624744900429, -0.035126534153577804, 3028.309245237355, -1978.9856363346153, 174.37750700393002, 9107.319910462002  …  36.74600364206096, 1919.8421777906883, -131.67041822008923, 123.66883889351851, 13.863837296568299, -9.067829846094533, 1.798494088987541, 41.730322725374954, -2.856176999339066, 3.270508994786023], [-2.4199514787919225e-5, 0.1767760258012873, 7.772038139343645e-5, 0.01093039670111523, 0.00197036544544649, -0.0351256047430362, 3007.0429533761453, -1977.4840783059797, 173.00408992498623, 9074.12747934097  …  36.456761190354946, 1912.8451384588734, -138.16288760711677, 123.61533664605108, 13.766395510519937, -9.060982714908388, 1.7908284885606114, 41.576759300605715, -2.9977097886138857, 3.283102473757791], [-1.7181162051459014e-5, 0.17677710747777378, 5.5163937869225234e-5, 0.010927856015713833, 0.0013985277608123906, -0.03512606744696344, 3012.8729351050074, -1977.9034561279027, 173.38104086105693, 9083.269957486438  …  36.5361472285725, 1914.7723733094758, -136.3818632327252, 123.63126904896288, 13.793108043413625, -9.062895256660346, 1.7929356682220843, 41.61905472709984, -2.958884416222748, 3.2796761094216764], [-7.881083518898299e-6, 0.17677797523266167, 2.5267455164736207e-5, 0.010925817716559372, 0.0006406039585500171, -0.035126438647920574, 3020.6089768191314, -1978.4509113273211, 173.88072029007807, 9095.351233311925  …  36.64138000413489, 1917.3191302779821, -134.01989235493988, 123.65093385104618, 13.828554399499374, -9.065391689433746, 1.7957251015133697, 41.674947960287795, -2.907394578497364, 3.2750991263402778], [-2.208473964533119e-8, 0.17677820567311694, -1.2866914093888414e-9, 0.010925276445301113, 2.547966501575814e-10, -0.03512653721149142, 3027.155519559297, -1978.906168356104, 174.30311078724637, 9105.530225679888  …  36.73033574068349, 1919.4649030154742, -132.02235385819313, 123.66626211368421, 13.858550856521315, -9.067467515300677, 1.7980796915617288, 41.72204234052634, -2.86384906277765, 3.271198923949373], [-2.1574344368611595e-8, 0.1767782056362823, -1.2536132976526432e-9, 0.010925276439278597, -8.499596670479035e-10, -0.035126537211045215, 3027.1554959960536, -1978.906163945996, 174.30310935513538, 9105.530211869003  …  36.73033543943025, 1919.4649001021035, -132.02234369605708, 123.66626203252196, 13.8585507487477, -9.06746749474326, 1.7980796843141593, 41.72204227718487, -2.8638488418440495, 3.2711989208969574], [-1.69645789681481e-17, -4.819967829533581e-19, -7.705275556875167e-19, 1.1028368696889947e-18, 5.771542522156566e-17, -4.475798668019157e-19, 1.2397048572695074e-12, 4.5264074353884194e-14, 5.571934234365238e-14, 1.116430116680311e-12  …  1.2103649039430737e-14, 2.414618954569601e-13, -9.493215402744412e-13, 1.2520078123157998e-14, 5.463948733742931e-15, 2.279609006221149e-16, 2.9215719929183435e-16, 5.707350762621882e-15, -2.0855167852996264e-14, 4.488727545430218e-16], [1.1201297227272506, 8.953953952299059e-9, 0.005939677800413027, -2.1574344368611595e-8, 0.1767782056362823, -1.2536132976526432e-9, 1019.5457052628828, -1104.2606201647768, 23.974083875390917, 3027.1554959960536  …  5.057766223630325, 638.3583158778791, -416.30964461637024, 36.73033543943025, 4.677088627233145, -5.057765245455163, 0.011814008700770937, 13.8585507487477, -9.06746749474326, 1.7980796843141593], [-8.001663654344795e-6, -4.804798386026679e-7, -7.659778937967133e-7, 1.1026194561664141e-6, 4.90452873297582e-5, -4.472993456497319e-7, 0.001214747020547201, 4.0953304145667174e-5, 0.002231086522516865, 0.0003686832151804692  …  0.0019980383061481747, 0.00037766286415468815, -0.0022748612434365266, 0.00033183055032556986, 0.0009624561255723465, 3.7631187627301295e-5, 0.0002864903265443288, 0.00038411220584586855, -0.002071540613256414, 0.00016042171897688397], [-2.230057853738572e-8, 0.17677820569208622, -1.3039869425329978e-9, 0.010925276447275534, 6.746425132128053e-10, -0.03512653721228221, 3027.155529493856, -1978.9061706857426, 174.30311150871512, 9105.530228459924  …  36.73033589244311, 1919.464903602674, -132.02235753471427, 123.66626214824836, 13.858550901951949, -9.067467526119326, 1.7980796952294362, 41.72204235314653, -2.8638491426787773, 3.271198924796238], OrdinaryDiffEq.TsitPap8ConstantCache{Float64, Float64}(0.06338028169014084, 0.1027879458763643, 0.15418191881454646, 0.3875968992248062, 0.4657534246575342, 0.1554054054054054, 1.0070921985815602, 0.876141078561489, 0.9120879120879121, 0.959731543624161, 0.06338028169014084, 0.019438980427336498, 0.08334896544902781, 0.038545479703636615, 0.11563643911090984, 0.39436557770112496, -1.4818719321673373, 1.4751032536910185, 0.045994489107698204, 0.23235070626395474, 0.18740822928588133, 0.06005228953244051, 0.11220383194636775, -0.03357232951906142, 0.016721613445658576, -1.5733292732086857, -1.3167087730223663, -11.723515296181773, 9.107825028173872, 6.512820512820513, -0.48107625624391254, -6.6506103607463904, -4.530206099782572, 3.894414525020157, 8.634217645525526, 0.009401624788681498, -0.7754121446230569, -7.996604718235832, -6.726558607230182, 5.532184454327406, 10.89757332024991, 0.020091650280045396, -0.039186042680376856, -1.1896363245449992, -7.128368483301214, -9.53722789710108, 7.574470108980868, 11.267486382070919, 0.051009801223058315, 0.08019413469508256, -0.15819617839847347, -0.39200039047127266, 3.916659042493856, -2.8017459289080557, 2.441204566481742, -2.4183655778824718, -0.33943326290032927, 0.19496450383103364, -0.19437176762508154, 0.5930888149805791, -1.4847063081291894, -2.390723588981498, -11.184306772840532, 8.720804667459817, 7.33673830753461, 0.01289874999394761, 0.042583289842657704, -0.05328834487981156, 0.04441161093250152, 0.35395063113733116, 0.2485219684184965, -0.3326913171720666, 1.921248828652836, -2.7317783000882523, 1.4012004409899175, 0.0951361371292365, -7.259091782802626e-5, -0.0010728916072503584, 0.0002666668345794398, 2.091533979096395, 0.3213186752428666, -0.921013671395284, 1.4012004409899175, 0.0951361371292365, -2.9872967453726327), OrdinaryDiffEq.trivial_limiter!, OrdinaryDiffEq.trivial_limiter!, static(false)), nothing, false), true, 0, SciMLBase.DEStats(1095, 0, 0, 0, 0, 0, 0, 0, 78, 0, 0.0), nothing, SciMLBase.ReturnCode.Success))"
      ]
     },
     "metadata": {},
     "output_type": "display_data"
    }
   ],
   "source": [
    "#run the differential corrector to get the corrected solution\n",
    "all_state_final, stm_final, sol_t_final, full_solution = differential_corrector(x_0_stm, T)"
   ]
  },
  {
   "cell_type": "code",
   "execution_count": null,
   "id": "8b0c5f56",
   "metadata": {},
   "outputs": [],
   "source": [
    "#stm_final"
   ]
  },
  {
   "cell_type": "code",
   "execution_count": null,
   "id": "dc113f41",
   "metadata": {},
   "outputs": [],
   "source": [
    "#Finding the unstable direction for the unstable manifold to encode as a constraint\n",
    "\n",
    "#monodromy = stm_final[:,:,end]"
   ]
  },
  {
   "cell_type": "code",
   "execution_count": null,
   "id": "5d8326d6",
   "metadata": {},
   "outputs": [],
   "source": [
    "all_state_final"
   ]
  },
  {
   "cell_type": "code",
   "execution_count": null,
   "id": "c8760a9b",
   "metadata": {},
   "outputs": [],
   "source": [
    "plot(all_state_final[1,:], all_state_final[2,:], all_state_final[3,:])"
   ]
  },
  {
   "cell_type": "code",
   "execution_count": null,
   "id": "e67e52fa",
   "metadata": {},
   "outputs": [],
   "source": [
    "final_norm = all_state_final[:,end] - all_state_final[:,1]"
   ]
  },
  {
   "cell_type": "code",
   "execution_count": null,
   "id": "c1d3b43f",
   "metadata": {},
   "outputs": [],
   "source": [
    "#Check when the orbit leave\n",
    "periodic_initial_condition = all_state_final[:,1]\n",
    "\n",
    "#Integrate the dynamics with the perturbed initial condtition\n",
    "Φ_0 = vec(Matrix(1.0*I, 6,6))\n",
    "x_0_periodic = [periodic_initial_condition; Φ_0]\n",
    "\n",
    "#integrate for 3.5 revs\n",
    "solution_periodic = dynamics_integrate(x_0_stm, 3.5*sol_t_final[end])\n",
    "\n",
    "all_state_lp, stm_in_lp, sol_t_in_lp = get_state_stm(solution_periodic)"
   ]
  },
  {
   "cell_type": "code",
   "execution_count": null,
   "id": "ff51f7f0",
   "metadata": {},
   "outputs": [],
   "source": [
    "all_state_lp"
   ]
  },
  {
   "cell_type": "code",
   "execution_count": null,
   "id": "a2e3ba0a",
   "metadata": {},
   "outputs": [],
   "source": [
    "plot(all_state_lp[1,:], all_state_lp[2,:], all_state_lp[3,:], aspectratio=true)"
   ]
  },
  {
   "cell_type": "code",
   "execution_count": null,
   "id": "10532f51",
   "metadata": {},
   "outputs": [],
   "source": [
    "#as seen above, after about 3.5 periods it begins to diverge from the periodic orbit \n",
    "#will formulate as a convex optimiztion problem to generate the station keeping \n",
    "#maneuvers"
   ]
  },
  {
   "cell_type": "code",
   "execution_count": null,
   "id": "2d907b16",
   "metadata": {},
   "outputs": [],
   "source": [
    "#this is the continuous dynamics\n",
    "#AL2 = ForwardDiff.jacobian(x-> three_body_prob_dynamics(x), all_state_final[:,1])"
   ]
  },
  {
   "cell_type": "code",
   "execution_count": null,
   "id": "86895f82",
   "metadata": {},
   "outputs": [],
   "source": [
    "#this is including the slack variable in the control vector\n",
    "#B = [zeros(3,4); I][1:6, :]"
   ]
  },
  {
   "cell_type": "code",
   "execution_count": null,
   "id": "9bc3967a",
   "metadata": {},
   "outputs": [],
   "source": [
    "nx = 6 #number of states\n",
    "nu = 3 #number of controls "
   ]
  },
  {
   "cell_type": "code",
   "execution_count": null,
   "id": "403848ef",
   "metadata": {},
   "outputs": [],
   "source": [
    "#this is the A tilde to get the discretized dynamics\n",
    "#Ã = [AL2 B; zeros(4,10)]\n",
    "\n",
    "#this is the number of knot points in one horizon\n",
    "N_period = 41  #40 knot points per period per period\n",
    "\n",
    "N_h = 82 #horizon 2 periods\n",
    "\n",
    "#this is the time step. (period T is already scaled). for 1 period\n",
    "# 100 poi\n",
    "Δt = (sol_t_final[end]/(N_period-1))"
   ]
  },
  {
   "cell_type": "code",
   "execution_count": null,
   "id": "575ccf56",
   "metadata": {},
   "outputs": [],
   "source": [
    "# function get_reference(i,N)\n",
    "    \n",
    "#     reference = zeros(nx, N)\n",
    "\n",
    "#     for k=1:N\n",
    "\n",
    "#         reference[:,k] = full_solution(horizon[i:end]).u[k][1:6]\n",
    "        \n",
    "#     end\n",
    "\n",
    "#     return reference\n",
    "    \n",
    "# end"
   ]
  },
  {
   "cell_type": "code",
   "execution_count": null,
   "id": "51a98ca1",
   "metadata": {},
   "outputs": [],
   "source": [
    "#Ad = H[1:nx, 1:nx]\n",
    "#Bd = H[1:nx, nx+1:end]"
   ]
  },
  {
   "cell_type": "code",
   "execution_count": null,
   "id": "22e9c8eb",
   "metadata": {},
   "outputs": [],
   "source": [
    "#umin = 0.5\n",
    "#umax = 1"
   ]
  },
  {
   "cell_type": "code",
   "execution_count": null,
   "id": "65f74a3c",
   "metadata": {},
   "outputs": [],
   "source": [
    "#N (number of knot points) 6x6 discrete dynamics jacobians\n",
    "\n",
    "#this is along 1 period of the reference orbit\n",
    "all_Ad = zeros(6,6,N_period)\n",
    "all_Bd = zeros(6,3,N_period)"
   ]
  },
  {
   "cell_type": "code",
   "execution_count": null,
   "id": "72f9efea",
   "metadata": {},
   "outputs": [],
   "source": [
    "T_corrected = sol_t_final[end]"
   ]
  },
  {
   "cell_type": "code",
   "execution_count": null,
   "id": "e084962b",
   "metadata": {},
   "outputs": [],
   "source": [
    "horizon = LinRange(0, T_corrected, N_period)"
   ]
  },
  {
   "cell_type": "code",
   "execution_count": null,
   "id": "c5353e19",
   "metadata": {},
   "outputs": [],
   "source": [
    "#used to save the state transition matrix at each knot point\n",
    "stm_times = zeros((6,6,N_period))"
   ]
  },
  {
   "cell_type": "code",
   "execution_count": null,
   "id": "264eea0b",
   "metadata": {},
   "outputs": [],
   "source": [
    "horizon"
   ]
  },
  {
   "cell_type": "code",
   "execution_count": null,
   "id": "92d04fe2",
   "metadata": {},
   "outputs": [],
   "source": [
    "full_solution(horizon).u[1][7:end]"
   ]
  },
  {
   "cell_type": "code",
   "execution_count": null,
   "id": "5efabc1b",
   "metadata": {},
   "outputs": [],
   "source": [
    "#get the reference trajectory\n",
    "reference_trajectory = zeros(nx, N_period)\n",
    "\n",
    "for k=1:N_period\n",
    "\n",
    "    reference_trajectory[:,k] = full_solution(horizon).u[k][1:6]\n",
    "    \n",
    "    #save the reference state transition matrices at the dedicated timesteps\n",
    "    \n",
    "    stm_times[:,:,k] = reshape(full_solution(horizon).u[k][7:end], (6,6)) \n",
    "        \n",
    "end"
   ]
  },
  {
   "cell_type": "code",
   "execution_count": null,
   "id": "e95ea608",
   "metadata": {},
   "outputs": [],
   "source": [
    "#monodromy is the stm at the end of the periodic orbit\n",
    "monodromy_eigen = eigen(stm_times[:,:,end])\n",
    "\n",
    "stable_dir = real(monodromy_eigen.vectors[:,1])\n",
    "unstable_dir = real(monodromy_eigen.vectors[:,end])\n",
    "#find the eigen values of the monodromy"
   ]
  },
  {
   "cell_type": "code",
   "execution_count": null,
   "id": "7fd8bf3f",
   "metadata": {},
   "outputs": [],
   "source": [
    "#save the unstable directions in a matrix\n",
    "unstable_directions = zeros(6,N_period)"
   ]
  },
  {
   "cell_type": "code",
   "execution_count": null,
   "id": "52f08b0f",
   "metadata": {},
   "outputs": [],
   "source": [
    "#the unstable directions are then the stm at the timestep multiplied by the unstable direction found by the monodromy\n",
    "\n",
    "for k = 1:N_period\n",
    "    \n",
    "    unstable_directions[:,k] = (stm_times[:,:,k]*unstable_dir)/norm(stm_times[:,:,k]*unstable_dir)\n",
    "    \n",
    "end\n",
    "\n"
   ]
  },
  {
   "cell_type": "code",
   "execution_count": null,
   "id": "4a386d97",
   "metadata": {},
   "outputs": [],
   "source": [
    "#unstable directions for the unstable manifolds along the orbit\n",
    "unstable_directions"
   ]
  },
  {
   "cell_type": "code",
   "execution_count": null,
   "id": "1c75d117",
   "metadata": {},
   "outputs": [],
   "source": [
    "[unstable_directions[1:3, 1]; zeros(3)]"
   ]
  },
  {
   "cell_type": "code",
   "execution_count": null,
   "id": "ddccfc3d",
   "metadata": {},
   "outputs": [],
   "source": [
    "#plot the manifolds\n",
    "#+ manifold to the right\n",
    "# - manifold to the left\n",
    "epz = 1e-5\n",
    "#plot(reference_trajectory[1,:], reference_trajectory[2,:], reference_trajectory[3,:], label=\"Reference Orbit\")\n",
    "\n",
    "plot(reference_trajectory[1,:], reference_trajectory[2,:], label=\"Reference Orbit\")\n",
    "\n",
    "\n",
    "for i=1:41\n",
    "\n",
    "    #initial_state = reference_trajectory[:,i] + epz.*unstable_directions[:,i]\n",
    "\n",
    "    initial_state = reference_trajectory[:,i] + epz.*[unstable_directions[1:3,i];zeros(3)]\n",
    "\n",
    "    #initial_state = reference_trajectory[:,i] - epz.*unstable_directions[:,i]\n",
    "\n",
    "    inv_manifold = just_dynamics_integrate(initial_state, 1.5*sol_t_final[end])\n",
    "\n",
    "    all_state_m = get_state(inv_manifold)\n",
    "\n",
    "    #plot!(all_state_m[1,:], all_state_m[2,:], all_state_m[3,:], color=\"red\", legend=false)\n",
    "\n",
    "    plot!(all_state_m[1,:], all_state_m[2,:], color=\"red\", legend=false)\n",
    "\n",
    "end\n",
    "\n",
    "#plot!(reference_trajectory[1,:], reference_trajectory[2,:], reference_trajectory[3,:], label=\"Reference Orbit\", linewidth = 5)\n",
    "\n",
    "plot!(reference_trajectory[1,:], reference_trajectory[2,:], label=\"Reference Orbit\", linewidth = 5)\n"
   ]
  },
  {
   "cell_type": "code",
   "execution_count": null,
   "id": "f22ada70",
   "metadata": {},
   "outputs": [],
   "source": [
    "#two orbits worth of data\n",
    "unstable_constraint = cat(unstable_directions, unstable_directions, dims=2)"
   ]
  },
  {
   "cell_type": "code",
   "execution_count": null,
   "id": "4a3958fe",
   "metadata": {},
   "outputs": [],
   "source": [
    "plot(reference_trajectory[1,:], reference_trajectory[2,:], reference_trajectory[3,:])\n",
    "\n",
    "scatter!([reference_trajectory[1,1]], [reference_trajectory[2,1]], [reference_trajectory[3,1]])\n",
    "scatter!([reference_trajectory[1,21]], [reference_trajectory[2,21]], [reference_trajectory[3,21]])\n",
    "scatter!([reference_trajectory[1,end]], [reference_trajectory[2,end]], [reference_trajectory[3,end]])"
   ]
  },
  {
   "cell_type": "code",
   "execution_count": null,
   "id": "759e19c0",
   "metadata": {},
   "outputs": [],
   "source": [
    "#obtain the reference trajectory at the knot points that we made up\n",
    "\n",
    "#reference_trajectory = get_reference(1,N_period)"
   ]
  },
  {
   "cell_type": "code",
   "execution_count": null,
   "id": "a7dc8037",
   "metadata": {},
   "outputs": [],
   "source": [
    "#goal is to have a look ahead of 2 orbits and apply an MPC controller \n",
    "\n",
    "#3 periods worth of data (just using the same orbit over the 3 periods)\n",
    "#reference_trajectory_all = [reference_trajectory reference_trajectory reference_trajectory]"
   ]
  },
  {
   "cell_type": "code",
   "execution_count": null,
   "id": "bfe2fc8f",
   "metadata": {},
   "outputs": [],
   "source": [
    "for i=1:N_period\n",
    "\n",
    "    #get the discrete dynamics jacobians for the entire reference trajectory along the knot points\n",
    "\n",
    "    Ak = ForwardDiff.jacobian(x-> three_body_prob_dynamics(x), reference_trajectory[:,i])\n",
    "\n",
    "    #this is including the slack variable in the control vector (this is control on accelerations/thrust)\n",
    "    Bk = [zeros(3,3); I]\n",
    "\n",
    "    #this is the A tilde to get the discretized dynamics\n",
    "    Ãk = [Ak Bk; zeros(3,9)]\n",
    "\n",
    "    H = exp(Ãk*Δt)\n",
    "\n",
    "    all_Ad[:,:,i] = H[1:nx, 1:nx]\n",
    "\n",
    "    all_Bd[:,:,i] = H[1:nx, nx+1:end]\n",
    "    \n",
    "    \n",
    "end"
   ]
  },
  {
   "cell_type": "code",
   "execution_count": null,
   "id": "1724c969",
   "metadata": {},
   "outputs": [],
   "source": [
    "all_Bd"
   ]
  },
  {
   "cell_type": "code",
   "execution_count": null,
   "id": "01c39df8",
   "metadata": {},
   "outputs": [],
   "source": [
    "#concatenate jacobians for two periods\n",
    "\n",
    "all_Ad_1 = cat(all_Ad, all_Ad, dims=3)\n",
    "all_Bd_1 = cat(all_Bd, all_Bd, dims=3)"
   ]
  },
  {
   "cell_type": "code",
   "execution_count": null,
   "id": "91c52e3b",
   "metadata": {},
   "outputs": [],
   "source": [
    "N_period"
   ]
  },
  {
   "cell_type": "code",
   "execution_count": null,
   "id": "046cca6e",
   "metadata": {},
   "outputs": [],
   "source": [
    "num_revs = 100"
   ]
  },
  {
   "cell_type": "code",
   "execution_count": null,
   "id": "2dca5836",
   "metadata": {},
   "outputs": [],
   "source": [
    "#1 revolution is 14 days\n",
    "T*time_scale/60/60/24"
   ]
  },
  {
   "cell_type": "code",
   "execution_count": null,
   "id": "c63593a9",
   "metadata": {},
   "outputs": [],
   "source": [
    "#compute backward ricatti recursion\n",
    "\n",
    "#cost to go matrices\n",
    "#P = zeros((6,6,N_period*num_revs)) #size state x state (6x6) \n",
    "#K = zeros((3,6,N_period*num_revs)) #size control x state (3x6)\n",
    "\n",
    "#cost to go matrices for 16 revs\n",
    "P = zeros((6,6,N_period*16)) #size state x state (6x6) \n",
    "K = zeros((3,6,N_period*16)) #size control x state (3x6)\n",
    "\n",
    "\n",
    "#state cost weight matrix\n",
    "Q = 1.0*Matrix(I,6,6).*1e-3\n",
    "\n",
    "#terminal cost weight matrix\n",
    "Qf = 1.0*Matrix(I,6,6).*1e-3\n",
    "\n",
    "#control cost weight matrix\n",
    "R = 1.0*Matrix(I,3,3).*1e3"
   ]
  },
  {
   "cell_type": "code",
   "execution_count": null,
   "id": "fa7bc0a9",
   "metadata": {},
   "outputs": [],
   "source": [
    "P"
   ]
  },
  {
   "cell_type": "code",
   "execution_count": null,
   "id": "61b2c4a4",
   "metadata": {},
   "outputs": [],
   "source": [
    "1:(N_period*num_revs) - 1"
   ]
  },
  {
   "cell_type": "code",
   "execution_count": null,
   "id": "af7ee58c",
   "metadata": {},
   "outputs": [],
   "source": [
    "all_Ad_rev = all_Ad"
   ]
  },
  {
   "cell_type": "code",
   "execution_count": null,
   "id": "d7ed1a2f",
   "metadata": {},
   "outputs": [],
   "source": [
    "all_Ad_4 = cat(all_Ad_1, all_Ad_1, dims=3)\n",
    "all_Bd_4 = cat(all_Bd_1, all_Bd_1, dims=3)\n",
    "\n",
    "all_Ad_8 = cat(all_Ad_4, all_Ad_4, dims=3)\n",
    "all_Bd_8 = cat(all_Bd_4, all_Bd_4, dims=3)\n",
    "\n",
    "all_Ad_16 = cat(all_Ad_8, all_Ad_8, dims=3)\n",
    "all_Bd_16 = cat(all_Bd_8, all_Bd_8, dims=3)"
   ]
  },
  {
   "cell_type": "code",
   "execution_count": null,
   "id": "205d7aa8",
   "metadata": {},
   "outputs": [],
   "source": [
    "for i = 1:num_revs\n",
    "    all_Ad_rev = (all_Ad_rev, all_Ad, dims=3)\n",
    "end"
   ]
  },
  {
   "cell_type": "code",
   "execution_count": null,
   "id": "91fa6df9",
   "metadata": {},
   "outputs": [],
   "source": [
    "# P[:,:,end] = Qf\n",
    "\n",
    "# for k = reverse(1:(N_period*num_revs) - 1)\n",
    "    \n",
    "#     K[:,:,k] = (R + all_Bd_1[:,:,k]'*P[:,:,k+1]*all_Bd_1[:,:,k])\\(all_Bd_1[:,:,k]'*P[:,:,k+1]*all_Ad_1[:,:, k]) # ricatti recursion for both A and B matrices changing\n",
    "#     P[:,:,k] = Q + all_Ad_1[:,:,k]'*P[:,:,k+1]*all_Ad_1[:,:,k] - all_Ad_1[:,:,k]'*P[:,:,k+1]*all_Bd_1[:,:,k]*K[:,:,k]\n",
    " \n",
    "# end "
   ]
  },
  {
   "cell_type": "code",
   "execution_count": null,
   "id": "3d5ffd04",
   "metadata": {},
   "outputs": [],
   "source": [
    "#Ricatti recursion over 2 periods\n",
    "P[:,:,end] = Qf\n",
    "\n",
    "for k = reverse(1:N_period*16-1)\n",
    "    #println(k)    \n",
    "    K[:,:,k] = (R + all_Bd_16[:,:,k]'*P[:,:,k+1]*all_Bd_16[:,:,k])\\(all_Bd_16[:,:,k]'*P[:,:,k+1]*all_Ad_16[:,:, k]) # ricatti recursion for both A and B matrices changing\n",
    "    P[:,:,k] = Q + all_Ad_16[:,:,k]'*P[:,:,k+1]*all_Ad_16[:,:,k] - all_Ad_16[:,:,k]'*P[:,:,k+1]*all_Bd_16[:,:,k]*K[:,:,k]\n",
    "        \n",
    "end"
   ]
  },
  {
   "cell_type": "code",
   "execution_count": null,
   "id": "6c225dc8",
   "metadata": {},
   "outputs": [],
   "source": [
    "P"
   ]
  },
  {
   "cell_type": "code",
   "execution_count": null,
   "id": "c53a2ae6",
   "metadata": {},
   "outputs": [],
   "source": [
    "P[:,:,1]"
   ]
  },
  {
   "cell_type": "code",
   "execution_count": null,
   "id": "29419267",
   "metadata": {},
   "outputs": [],
   "source": [
    "plot(P[1,1,:])\n",
    "#plot(P[2,2,:])\n",
    "#plot(P[3,3,:])\n",
    "#plot(P[4,4,:])\n",
    "#plot(P[5,5,:])\n",
    "#plot(P[6,6,:])"
   ]
  },
  {
   "cell_type": "code",
   "execution_count": null,
   "id": "e1b200de",
   "metadata": {},
   "outputs": [],
   "source": [
    "#cost to go converges and is periodic! will get one orbit of the cost to go to make a constraint\n",
    "V = P[:,:,1:41]"
   ]
  },
  {
   "cell_type": "code",
   "execution_count": null,
   "id": "656d9d0e",
   "metadata": {},
   "outputs": [],
   "source": [
    "#cost to go matrices for 2 orbits worth of data\n",
    "V_2orbits = cat(V, V, dims=3)"
   ]
  },
  {
   "cell_type": "code",
   "execution_count": null,
   "id": "ba415c1a",
   "metadata": {},
   "outputs": [],
   "source": [
    "V_first = V_2orbits[:,:,1]"
   ]
  },
  {
   "cell_type": "code",
   "execution_count": null,
   "id": "fb803b79",
   "metadata": {},
   "outputs": [],
   "source": [
    "V_first'"
   ]
  },
  {
   "cell_type": "code",
   "execution_count": null,
   "id": "b509a96e",
   "metadata": {},
   "outputs": [],
   "source": [
    "difference = V_first - V_first'"
   ]
  },
  {
   "cell_type": "code",
   "execution_count": null,
   "id": "b3f3f6c0",
   "metadata": {},
   "outputs": [],
   "source": [
    "difference2 = V_2orbits[:,:,2] - V_2orbits[:,:,2]'"
   ]
  },
  {
   "cell_type": "code",
   "execution_count": null,
   "id": "cd149f39",
   "metadata": {},
   "outputs": [],
   "source": [
    "symmetric_v1 = (V_first + V_first')/2"
   ]
  },
  {
   "cell_type": "code",
   "execution_count": null,
   "id": "8c47f1c9",
   "metadata": {},
   "outputs": [],
   "source": [
    "#needed for the quadratic constraint\n",
    "invsymmetricv1 = inv(symmetric_v1)"
   ]
  },
  {
   "cell_type": "code",
   "execution_count": null,
   "id": "2af22a79",
   "metadata": {},
   "outputs": [],
   "source": [
    "invsymmetricv1 - invsymmetricv1'"
   ]
  },
  {
   "cell_type": "code",
   "execution_count": null,
   "id": "918fe94d",
   "metadata": {},
   "outputs": [],
   "source": [
    "display(V_first)"
   ]
  },
  {
   "cell_type": "code",
   "execution_count": null,
   "id": "32266da8",
   "metadata": {},
   "outputs": [],
   "source": [
    "#\n",
    "#x_initial_ref'*inv(V_first)*x_initial_ref"
   ]
  },
  {
   "cell_type": "code",
   "execution_count": null,
   "id": "226c7994",
   "metadata": {},
   "outputs": [],
   "source": [
    "#far_deviation = [1, 0, 1, 0, 1, 0]"
   ]
  },
  {
   "cell_type": "code",
   "execution_count": null,
   "id": "010a1802",
   "metadata": {},
   "outputs": [],
   "source": [
    "#cost to go for this far deviation\n",
    "#far_deviation'*inv(V_first)*far_deviation"
   ]
  },
  {
   "cell_type": "code",
   "execution_count": null,
   "id": "967489eb",
   "metadata": {},
   "outputs": [],
   "source": [
    "#get the initial delta x\n",
    "#this is some noise on the reference trajectory\n",
    "\n",
    "#some arbitrary deviation from the reference trajectory\n",
    "#x_initial_ref = [1e-4, 1e-4, 1e-4, 1e-5, 1e-5, 1e-5]\n",
    "\n",
    "#this is working\n",
    "#x_initial_ref = [1e-9, 0, 0, 0, 1e-9, 0]\n",
    "\n",
    "#this is working. Pretty far deviation in x = 385 km, and vy off by ~1e-3 km/s\n",
    "#x_initial_ref = [1e-3, 0, 0, 0, 1e-3, 0]\n",
    "\n",
    "\n",
    "#off by 385 km meters and ~1 mm/s\n",
    "\n",
    "#x_initial_ref = [1e-3, 0, 0, 0, 1e-6, 0]\n",
    "\n",
    "\n",
    "#try a small deviation\n",
    "x_initial_ref = [1e-9, 0, 0, 0, 1e-9, 0]\n",
    "\n",
    "#ensure that the initial deviation is in the unstable manifold direction\n",
    "#x_initial_ref = [1e-9, -1e-9, 1e-9, 1e-9, -1e-9, 1e-9]"
   ]
  },
  {
   "cell_type": "code",
   "execution_count": null,
   "id": "c09312eb",
   "metadata": {},
   "outputs": [],
   "source": [
    "#concatenate unstable directions for 2 orbits\n",
    "\n",
    "unstable_directions_2 = cat(unstable_directions, unstable_directions, dims=2)"
   ]
  },
  {
   "cell_type": "code",
   "execution_count": null,
   "id": "f1bf4091",
   "metadata": {},
   "outputs": [],
   "source": [
    "V_2orbits"
   ]
  },
  {
   "cell_type": "code",
   "execution_count": null,
   "id": "9f4b6a42",
   "metadata": {},
   "outputs": [],
   "source": [
    "#cost to go level set\n",
    "epsilon = 1e-6\n",
    "\n",
    "umax = 0.025"
   ]
  },
  {
   "cell_type": "code",
   "execution_count": null,
   "id": "ad418474",
   "metadata": {},
   "outputs": [],
   "source": [
    "tube_pose_r = 1e-5\n",
    "tube_vel_r = 1e-5"
   ]
  },
  {
   "cell_type": "code",
   "execution_count": null,
   "id": "ebc38e91",
   "metadata": {},
   "outputs": [],
   "source": [
    "x_initial_ref[:,1]"
   ]
  },
  {
   "cell_type": "code",
   "execution_count": null,
   "id": "68943ae3",
   "metadata": {},
   "outputs": [],
   "source": [
    "c_test= unstable_directions[:,1]/tan(pi/6)\n",
    "\n",
    "manifold_constraint_test = norm(x_initial_ref[:,1]) - c_test'*(x_initial_ref[:,1])"
   ]
  },
  {
   "cell_type": "code",
   "execution_count": null,
   "id": "2d4b0c09",
   "metadata": {},
   "outputs": [],
   "source": [
    "dot(x_initial_ref[:,1], unstable_directions[:,1])"
   ]
  },
  {
   "cell_type": "code",
   "execution_count": null,
   "id": "d0bd438d",
   "metadata": {},
   "outputs": [],
   "source": [
    "dot(reference_trajectory[:,1] + x_initial_ref, unstable_directions[:,1])"
   ]
  },
  {
   "cell_type": "code",
   "execution_count": null,
   "id": "fcf73090",
   "metadata": {},
   "outputs": [],
   "source": [
    "test = (reference_trajectory[:,1] + x_initial_ref)/norm(reference_trajectory[:,1] + x_initial_ref)"
   ]
  },
  {
   "cell_type": "code",
   "execution_count": null,
   "id": "74b94a71",
   "metadata": {},
   "outputs": [],
   "source": [
    "dot(test, unstable_directions[:,1])"
   ]
  },
  {
   "cell_type": "code",
   "execution_count": null,
   "id": "46ba34a7",
   "metadata": {},
   "outputs": [],
   "source": [
    "L"
   ]
  },
  {
   "cell_type": "code",
   "execution_count": null,
   "id": "ebd7cbd8",
   "metadata": {},
   "outputs": [],
   "source": [
    "dot(x_initial_ref, unstable_directions[:,1])"
   ]
  },
  {
   "cell_type": "code",
   "execution_count": null,
   "id": "b6120fd5",
   "metadata": {},
   "outputs": [],
   "source": [
    "#formulate the problem at every solve\n",
    "\n",
    "#BUG: should also be sending in the updated cost to go and unstable directions matrices as you go along the orbit\n",
    "\n",
    "#pass in the initial condition, along with jacobians of the current reference trajectory \n",
    "function update_prob(x_initial_k, all_Ad_k, all_Bd_k, P_k, unstable_directions_k)\n",
    "    \n",
    "    #clear the constraints and decision variables every run\n",
    "    #cons = 0\n",
    "    #U = 0\n",
    "    \n",
    "    X = Variable(nx,N_h)\n",
    "        \n",
    "    U = Variable(nu, N_h-1)\n",
    "    \n",
    "    #initial state constraint\n",
    "    cons = Constraint[X[:,1] == x_initial_k]\n",
    "\n",
    "    #state constraints\n",
    "    #Dynamics constraint (for the entire horizon)\n",
    "    \n",
    "    for k=1:(N_h-1)\n",
    "        #these are the dynamics for delta x\n",
    "        \n",
    "        #all_Ad_k will have the 120 jacobians that are associated to the reference trajectory at the moment. \n",
    "        \n",
    "        push!(cons, X[:,k+1] == all_Ad_k[:,:,k]*X[:,k]+all_Bd_k[:,:,k]*U[:,k])\n",
    "    end\n",
    "    \n",
    "    #already propagating the deltas since we are linearizing the dynamics about the reference trajectories\n",
    "    \n",
    "#     for k=1:(N_h-1)        \n",
    "#         #Box constraints on the deviation from the reference trajectory\n",
    "                \n",
    "#         push!(cons, X[1,k] <= xmax)\n",
    "#         push!(cons, X[1,k] >= -xmax)\n",
    "#         push!(cons, X[2,k] <= ymax)\n",
    "#         push!(cons, X[2,k] >= -ymax)\n",
    "#         push!(cons, X[3,k]<= zmax)\n",
    "#         push!(cons, X[3,k] >= -zmax)\n",
    "         \n",
    "#     end\n",
    "    \n",
    "    \n",
    "    #tube constraint\n",
    "    #for k=2:(N_h-1) #this was there before and works\n",
    "    #THIS WORKS\n",
    "    # for k=2:N_h \n",
    "    #    push!(cons, norm(X[1:3,k],2) <= tube_pose_r)\n",
    "    \n",
    "    #    push!(cons, norm(X[4:6,k],2) <= tube_vel_r)\n",
    "         \n",
    "    # end\n",
    "    \n",
    "    \n",
    "    #cost to go constraint (working)\n",
    "    for k=2:N_h\n",
    "        \n",
    "       costtogo = P_k[:,:,k]\n",
    "        \n",
    "       costtogo_hermitian = (costtogo + costtogo')/2\n",
    "        \n",
    "       #relaxing bc of the manifold constraint\n",
    "       ctg_constraint = quadform(X[:,k], costtogo_hermitian) <= epsilon\n",
    "        \n",
    "       push!(cons, ctg_constraint)\n",
    "                \n",
    "    end\n",
    "    \n",
    "    #manifold constraint (useful)\n",
    "    #the delta x needs to be normalized\n",
    "    #exits to the left with the negative sending\n",
    "    #this is what is used. for some reason it is being infeasbile in problem 2\n",
    "   #for k=1:N_h\n",
    "#     for k=2:N_h \n",
    "        \n",
    "#       #this works the best. investigate why \n",
    "#       #manifold goes to the left.  (w no ctg constraint)\n",
    "#       #manifold_constraint = dot(X[:,k], unstable_directions_k[:,k])\n",
    "        \n",
    "#       #push!(cons, manifold_constraint >= 0.5*norm(X[:,k]))\n",
    "        \n",
    "        \n",
    "#       #testing  (working) \n",
    "#       #goes left with positive unstable direction\n",
    "#       manifold_constraint = dot(X[:,k], 1*unstable_directions_k[:,k])\n",
    "        \n",
    "#       #push!(cons, manifold_constraint >= 0.1*norm(X[:,k]))\n",
    "\n",
    "#       #push!(cons, manifold_constraint >= 0)\n",
    "\n",
    "#       #trying out \n",
    "#       push!(cons, manifold_constraint > 0)\n",
    "\n",
    "                \n",
    "        \n",
    "#    end\n",
    "\n",
    "    # for k = 2:N_h\n",
    "            \n",
    "    #         #manifold goes to the right\n",
    "    #         manifold_constraint = dot(X[:,k], unstable_directions_k[:,k])\n",
    "    \n",
    "    #         push!(cons, 1-manifold_constraint >= 0)\n",
    "    #         push!(cons, 1-manifold_constraint < 1)\n",
    "    \n",
    "    # end\n",
    "\n",
    "   #manifold glideslope constraint for the whole unstable direction\n",
    "\n",
    "#    for k=2:N_h\n",
    "#     for k=1:N_h\n",
    "\n",
    "#         #works with pi/5 too\n",
    "#         c = unstable_directions_k[:,k]/tan(pi/6)\n",
    "\n",
    "#         manifold_constraint = norm(X[:,k]) - c'*(X[:,k])\n",
    "\n",
    "#         push!(cons, manifold_constraint <= 0)\n",
    "\n",
    "#    end\n",
    "\n",
    "#just for position\n",
    "   for k=2:N_h\n",
    "        \n",
    "    #works with pi/5 too\n",
    "    c = unstable_directions_k[:,k]/tan(pi/6)\n",
    "    #c = unstable_directions_k[:,k]/tan((pi/2) - deg2rad(60)\n",
    "\n",
    "    manifold_constraint = norm(X[:,k]) - c'*X[:,k]\n",
    "\n",
    "    push!(cons, manifold_constraint <= 0)\n",
    "\n",
    "end\n",
    "\n",
    "    \n",
    "     \n",
    "    #Controls Constraint\n",
    "    \n",
    "    for k=1:(N_h-1)\n",
    "        \n",
    "      push!(cons, norm(U[1:3, k]) <= umax)\n",
    "\n",
    "    end\n",
    "        \n",
    "    #    push!(cons, U[1:3, k]> umin)\n",
    "        \n",
    "        \n",
    "        #not working\n",
    "        #σ = U[4,k]\n",
    "        \n",
    "        #convexified non convex constraint lower bound\n",
    "        #push!(cons, umin <= σ)\n",
    "        \n",
    "        #convexified non convex constraint upper bound\n",
    "        #push!(cons, σ <= umax)\n",
    "        \n",
    "        #convex upper bound on the thrust norm\n",
    "        #push!(cons, norm(U[1:3,k]) <= σ)\n",
    "        \n",
    "        \n",
    "        #upper bound\n",
    "        #push!(cons, norm(U[1:3,k]) <= min(σ, umax))\n",
    "        \n",
    "        \n",
    "    #end\n",
    "    \n",
    "    #print(\"done\")\n",
    "    \n",
    "    return cons, X, U\n",
    "        \n",
    "end"
   ]
  },
  {
   "cell_type": "code",
   "execution_count": null,
   "id": "b84d5329",
   "metadata": {},
   "outputs": [],
   "source": [
    "x_initial_ref"
   ]
  },
  {
   "cell_type": "code",
   "execution_count": null,
   "id": "59c6b206",
   "metadata": {},
   "outputs": [],
   "source": [
    "unstable_directions[:,1]"
   ]
  },
  {
   "cell_type": "code",
   "execution_count": null,
   "id": "351afc04",
   "metadata": {},
   "outputs": [],
   "source": [
    "#create the optimization problem\n",
    "\n",
    "function solve_opt(cons, X, U, N)\n",
    "    \n",
    "    #these are tuning parameters\n",
    "    \n",
    "    #controls how tight you are tracking the reference \n",
    "    #α = 1e3\n",
    "    \n",
    "    #controls how much control effort you want to use (high value = low control)\n",
    "    #β = 1e6\n",
    "    #β = [1e6, 1e6, 1e15]\n",
    "    #β = [1e3, 1e3, 1e3]\n",
    "    #works with 1\n",
    "    #works good with 1e-4 on just tracking and 0 on controls\n",
    "    #β = 0\n",
    "    #α = 1e-5\n",
    "\n",
    "    #testing\n",
    "    β = 1e6\n",
    "    α = 1\n",
    "\n",
    "    \n",
    "    #β = 1 #some of the revs are slow to solve and solution may be innacurate\n",
    "    \n",
    "    #the cost function (L1 norm on the cost and the tracking error)\n",
    "    obj = 0\n",
    "    \n",
    "    #for k=1:N\n",
    "    #    obj += α*norm(X[:,k], 1)\n",
    "    #end\n",
    "    \n",
    "    \n",
    "    #for a lyaponov orbit we want to stay in the x y plane, so we penalize z maneuvers heavily while \n",
    "    #allowing for x and y\n",
    "    \n",
    "    for k=1:N-1\n",
    "        \n",
    "       #obj += β[1]*abs(U[1,k])+β[2]*abs(U[2,k]) +β[3]*abs(U[3,k])  \n",
    "        \n",
    "       #obj += β*norm(U[:,k], 1)\n",
    "        \n",
    "        #use L2 norm\n",
    "        \n",
    "        #^2 doesn't work in Convex.jl. have to use quadform \n",
    "        #obj += β*(norm(U[:,k]))^2 + α*(norm(X[:,k]))^2\n",
    "\n",
    "        #obj = (norm(X[:,k]))^2\n",
    "\n",
    "        \n",
    "        #Px = 1.0*Matrix(I,6,6)\n",
    "\n",
    "        #Pu = 1.0*Matrix(I,3,3)  \n",
    "        #this gives the expected behavior with the manifolds but it does not minimize for cost\n",
    "        #obj += quadform(X[:,k], Px; assume_psd=false)\n",
    "\n",
    "        #obj += quadform(U[:,k], Pu; assume_psd=false)\n",
    "        \n",
    "        #this cost function works good, but gives continous thrust \n",
    "        #obj += quadform(U[:,k], Pu; assume_psd=false) + quadform(X[:,k], Px; assume_psd=false)\n",
    "        #obj += β*norm(U[:,k], 1) + α*norm(X[:,k], 1)\n",
    "        obj += norm(U[:,k], 1)\n",
    "        #obj += norm(X[:,k], 2) \n",
    "        \n",
    "    end\n",
    "            \n",
    "    \n",
    "    prob = minimize(obj, cons);\n",
    "    \n",
    "    #this objective function is working\n",
    "    #prob = minimize(norm(X[:,end]), cons);\n",
    "    \n",
    "    #this works too\n",
    "    #prob = minimize(quadform(X[:,end], Q), cons)\n",
    "    \n",
    "    #print(\"mosek solving\")\n",
    "    #solve the problem with Mosek\n",
    "    Convex.solve!(prob, ()-> Mosek.Optimizer(), silent_solver=true);\n",
    "    \n",
    "    #solve the problem with ECOS\n",
    "    #Convex.solve!(prob, ()-> ECOS.Optimizer(), silent_solver=false);\n",
    "    \n",
    "    Xm = X.value;\n",
    "    Um = U.value;\n",
    "\n",
    "    display(prob.status)\n",
    "    \n",
    "    return Xm, Um\n",
    "    \n",
    "end"
   ]
  },
  {
   "cell_type": "code",
   "execution_count": null,
   "id": "54101f71",
   "metadata": {},
   "outputs": [],
   "source": [
    "#Q = Matrix(I,6,6).*[1e7*ones(3); 1e7*ones(3)]\n",
    "\n",
    "#the manifold constraint is the one that is not being satisfied. I think it has to do with numerical conditioning as the values are very small\n"
   ]
  },
  {
   "cell_type": "code",
   "execution_count": null,
   "id": "be13d1dc",
   "metadata": {},
   "outputs": [],
   "source": [
    "x_initial_ref"
   ]
  },
  {
   "cell_type": "code",
   "execution_count": null,
   "id": "8480a35c",
   "metadata": {},
   "outputs": [],
   "source": [
    "reference_trajectory[:,1] - reference_trajectory[:,end]"
   ]
  },
  {
   "cell_type": "code",
   "execution_count": null,
   "id": "952dbf42",
   "metadata": {},
   "outputs": [],
   "source": [
    "plot(reference_trajectory[1,:], reference_trajectory[2,:], reference_trajectory[3,:])\n",
    "\n",
    "scatter!([reference_trajectory[1,1]], [reference_trajectory[2,1]], [reference_trajectory[3,1]])\n",
    "\n",
    "scatter!([reference_trajectory[1,end]], [reference_trajectory[2,end]], [reference_trajectory[3,end]])\n",
    "\n",
    "scatter!([reference_trajectory[1,21]], [reference_trajectory[2,21]], [reference_trajectory[3,21]])\n",
    "\n",
    "\n",
    "#plot(reference_trajectory[1,:], reference_trajectory[2,:], reference_trajectory[3,:])"
   ]
  },
  {
   "cell_type": "code",
   "execution_count": null,
   "id": "3e678736",
   "metadata": {},
   "outputs": [],
   "source": [
    "x_initial_ref"
   ]
  },
  {
   "cell_type": "code",
   "execution_count": null,
   "id": "3f2e1e65",
   "metadata": {},
   "outputs": [],
   "source": [
    "#reference_traj_1 = [reference_trajectory reference_trajectory]"
   ]
  },
  {
   "cell_type": "code",
   "execution_count": null,
   "id": "25437761",
   "metadata": {},
   "outputs": [],
   "source": [
    "#just test to see if it solves\n",
    "\n",
    "all_Ad_1 = cat(all_Ad, all_Ad, dims=3)\n",
    "all_Bd_1 = cat(all_Bd, all_Bd, dims=3)\n",
    "\n",
    "#there was nothing in place for all_Ad_1, maybe a bug? \n",
    "display(\"updating prob\")\n",
    "cons, X, U = update_prob(x_initial_ref, all_Ad_1, all_Bd_1, V_2orbits, unstable_directions_2)\n",
    "display(\"solving\")\n",
    "display(X)\n",
    "Xm, Um = solve_opt(cons, X, U, N_h)"
   ]
  },
  {
   "cell_type": "code",
   "execution_count": null,
   "id": "23c1e252",
   "metadata": {},
   "outputs": [],
   "source": [
    "#normalized_xm2 = Xm[:,2]/norm(Xm[:,2])\n",
    "#dot(unstable_directions[:,2], normalized_xm2)"
   ]
  },
  {
   "cell_type": "code",
   "execution_count": null,
   "id": "b06844c7",
   "metadata": {},
   "outputs": [],
   "source": []
  },
  {
   "cell_type": "code",
   "execution_count": null,
   "id": "a9d1766e",
   "metadata": {},
   "outputs": [],
   "source": [
    "#check the constraint\n",
    "\n",
    "#this is because the constraint is from 2:Nh\n",
    "constraint_satisfied = zeros(N_h)\n",
    "\n",
    "for i=1:N_h\n",
    "    constraint_satisfied[i] = dot(Xm[1:3,i], unstable_directions_2[1:3,i])\n",
    "end\n",
    "\n",
    "#constraint is not being satisfied... has to do with the cost function. whenever I have a\n",
    "#tracking cost with a weight of 1e-2 and a control cost with scale 1, it doesn't work. However, \n",
    "#when I remove the cost on the controls and make the weight less on the tracking (1e-5) it works (up to the last point)\n",
    "\n",
    "#with just a tracking cost with a weight of 1e-2 it doesn't satisfy the constraint fully"
   ]
  },
  {
   "cell_type": "code",
   "execution_count": null,
   "id": "9c4aff15",
   "metadata": {},
   "outputs": [],
   "source": [
    "constraint_satisfied[1]"
   ]
  },
  {
   "cell_type": "code",
   "execution_count": null,
   "id": "20d6a537",
   "metadata": {},
   "outputs": [],
   "source": [
    "constraint_satisfied[15]"
   ]
  },
  {
   "cell_type": "code",
   "execution_count": null,
   "id": "174c8e7f",
   "metadata": {},
   "outputs": [],
   "source": [
    "Xm[:,18]/norm(Xm[:,18])"
   ]
  },
  {
   "cell_type": "code",
   "execution_count": null,
   "id": "310c5724",
   "metadata": {},
   "outputs": [],
   "source": [
    "unstable_directions[:,18]"
   ]
  },
  {
   "cell_type": "code",
   "execution_count": null,
   "id": "f89ea4a5",
   "metadata": {},
   "outputs": [],
   "source": [
    "constraint_bool = constraint_satisfied .> 0\n",
    "\n",
    "plot(constraint_bool)"
   ]
  },
  {
   "cell_type": "code",
   "execution_count": null,
   "id": "d5de735f",
   "metadata": {},
   "outputs": [],
   "source": [
    "constraint_bool[44]"
   ]
  },
  {
   "cell_type": "code",
   "execution_count": null,
   "id": "7133c72a",
   "metadata": {},
   "outputs": [],
   "source": [
    "#for one period 40 controls\n",
    "xtraj_test = integrate_oneperiod(Xm[:,1] + reference_trajectory[:,1], Um[:,1:40])"
   ]
  },
  {
   "cell_type": "code",
   "execution_count": null,
   "id": "4b9faea0",
   "metadata": {},
   "outputs": [],
   "source": [
    "Xm[:,41]/norm(Xm[:,41])"
   ]
  },
  {
   "cell_type": "code",
   "execution_count": null,
   "id": "ef3787a1",
   "metadata": {},
   "outputs": [],
   "source": [
    "unstable_directions[:,end]"
   ]
  },
  {
   "cell_type": "code",
   "execution_count": null,
   "id": "20d9a255",
   "metadata": {},
   "outputs": [],
   "source": [
    "dot(Xm[:,41], unstable_directions[:,end])"
   ]
  },
  {
   "cell_type": "code",
   "execution_count": null,
   "id": "805b3a2f",
   "metadata": {},
   "outputs": [],
   "source": [
    "plot(xtraj_test[1,:], xtraj_test[2,:], xtraj_test[3,:])"
   ]
  },
  {
   "cell_type": "code",
   "execution_count": null,
   "id": "ec993051",
   "metadata": {},
   "outputs": [],
   "source": [
    "final = Xm + [reference_trajectory reference_trajectory]"
   ]
  },
  {
   "cell_type": "code",
   "execution_count": null,
   "id": "ba9cb083",
   "metadata": {},
   "outputs": [],
   "source": [
    "#test out the integration function\n",
    "#xtraj_test = integrate_oneperiod(final[:,1], Um[:,1:39])"
   ]
  },
  {
   "cell_type": "code",
   "execution_count": null,
   "id": "03e2162d",
   "metadata": {},
   "outputs": [],
   "source": [
    "#plot(xtraj_test[1,:], xtraj_test[2,:], xtraj_test[3,:])"
   ]
  },
  {
   "cell_type": "code",
   "execution_count": null,
   "id": "fcdd70df",
   "metadata": {},
   "outputs": [],
   "source": [
    "plot(Um[1,:])"
   ]
  },
  {
   "cell_type": "code",
   "execution_count": null,
   "id": "60018ab6",
   "metadata": {},
   "outputs": [],
   "source": [
    "plot(Um[2,:])"
   ]
  },
  {
   "cell_type": "code",
   "execution_count": null,
   "id": "2565f2bb",
   "metadata": {},
   "outputs": [],
   "source": [
    "plot(Um[3,:])"
   ]
  },
  {
   "cell_type": "code",
   "execution_count": null,
   "id": "b13d275f",
   "metadata": {},
   "outputs": [],
   "source": [
    "Xm[:,21]"
   ]
  },
  {
   "cell_type": "code",
   "execution_count": null,
   "id": "96610abb",
   "metadata": {},
   "outputs": [],
   "source": [
    "final"
   ]
  },
  {
   "cell_type": "code",
   "execution_count": null,
   "id": "fff09c50",
   "metadata": {},
   "outputs": [],
   "source": [
    "N_h"
   ]
  },
  {
   "cell_type": "code",
   "execution_count": null,
   "id": "cbdc5506",
   "metadata": {},
   "outputs": [],
   "source": [
    "#check out the 1 period solve\n",
    "\n",
    "#the x trajectory is generated using the linear dynamics\n",
    "plot(final[1,1:41], final[2,1:41], final[3,1:41])\n",
    "#scatter!([final[1,1]], [final[2,1]], [final[3,1]])"
   ]
  },
  {
   "cell_type": "code",
   "execution_count": null,
   "id": "43d19476",
   "metadata": {},
   "outputs": [],
   "source": [
    "1e-5*V"
   ]
  },
  {
   "cell_type": "code",
   "execution_count": null,
   "id": "c852797b",
   "metadata": {},
   "outputs": [],
   "source": [
    "norm(final[:,1] - final[:,40])"
   ]
  },
  {
   "cell_type": "code",
   "execution_count": null,
   "id": "f8bf2cc5",
   "metadata": {},
   "outputs": [],
   "source": [
    "#this initial condition is working\n",
    "#x_initial_ref = [1e-4, 0, 0, 0, 1e-4, 0]\n",
    "\n",
    "#x_initial_ref = [1e-6, 0, 0, 0, 1e-6, 0]\n",
    "\n",
    "\n",
    "#x_initial_ref = [1e-3, 0, 0, 0, 1e-3, 0]"
   ]
  },
  {
   "cell_type": "markdown",
   "id": "261bcc46",
   "metadata": {},
   "source": []
  },
  {
   "cell_type": "code",
   "execution_count": null,
   "id": "e5bdea3a",
   "metadata": {},
   "outputs": [],
   "source": [
    "xposedeviation = x_initial_ref[1] * L*1e3 #in meters\n",
    "\n",
    "vyposedeviation = x_initial_ref[5]*V_*1e3 #in m/s\n",
    "\n",
    "display(xposedeviation)\n",
    "display(vyposedeviation)"
   ]
  },
  {
   "cell_type": "code",
   "execution_count": null,
   "id": "7da47ec8",
   "metadata": {},
   "outputs": [],
   "source": [
    "#this is one set of jacobians. if starting from beginning \n",
    "\n",
    "#all_Ad_1 = cat(all_Ad, all_Ad, dims=3)\n",
    "#all_Bd_1 = cat(all_Bd, all_Bd, dims=3)"
   ]
  },
  {
   "cell_type": "code",
   "execution_count": null,
   "id": "a05433e5",
   "metadata": {},
   "outputs": [],
   "source": [
    "all_Ad[:,:,21:end]"
   ]
  },
  {
   "cell_type": "code",
   "execution_count": null,
   "id": "bd10b3ba",
   "metadata": {},
   "outputs": [],
   "source": [
    "#another set of jacobians if starting from half\n",
    "\n",
    "all_Ad_half = cat(all_Ad[:,:,21:end], all_Ad[:,:,1:20], dims=3)\n",
    "all_Bd_half = cat(all_Bd[:,:,21:end], all_Bd[:,:,1:20], dims=3)\n",
    "\n",
    "all_Ad_2 = cat(all_Ad_half, all_Ad_half, dims=3)\n",
    "all_Bd_2 = cat(all_Bd_half, all_Bd_half, dims=3)\n",
    "\n",
    "#All Ad1 is if you start from the beginning (2 orbits worth of jacobians) and all_Ad_2 is if you start from the half (2 orbits worth of jacobians).\n",
    "#need to also have two sets of cost to go and unstable direction matrices that we pass in in the update_prob function "
   ]
  },
  {
   "cell_type": "code",
   "execution_count": null,
   "id": "a2954692",
   "metadata": {},
   "outputs": [],
   "source": [
    "unstable_directions_half = cat(unstable_directions[:,21:end], unstable_directions[:,1:20], dims=2)\n",
    "V_half = cat(P[:,:,21:end], P[:,:,1:20], dims=3)\n",
    "\n",
    "#unstable directions if you start from the beginning\n",
    "unstable_directions_2_1 = unstable_directions_2\n",
    "#this is the unstable direction if you start at the half\n",
    "unstable_directions_2_2 = cat(unstable_directions_half, unstable_directions_half, dims=2)\n",
    "\n",
    "\n",
    "#cost to go if you start from the beginning\n",
    "V_2orbits_1 = V_2orbits\n",
    "\n",
    "#cost to go in you start at the half\n",
    "V_2orbits_2 = cat(V_half, V_half, dims=3)"
   ]
  },
  {
   "cell_type": "code",
   "execution_count": null,
   "id": "a253cd41",
   "metadata": {},
   "outputs": [],
   "source": [
    "#pseudo code\n",
    "\n",
    "orbit_count = 0\n",
    "orbits = true\n",
    "\n",
    "#number of orbits you want to plan go for\n",
    "orbit_num = 100\n",
    "\n",
    "\n",
    "halforbit_num = orbit_num*2 \n",
    "\n",
    "#this is for each orbit plan\n",
    "\n",
    "optimal_Δx = zeros(nx, N_period)\n",
    "optimal_u = zeros(nu, N_period-1)\n",
    "\n",
    "#data for all the orbits\n",
    "all_optimal_Δx = zeros(nx, 21, halforbit_num)\n",
    "all_optimal_x = zeros(nx, 21, halforbit_num)\n",
    "all_optimal_u = zeros(nu, 20, halforbit_num)\n",
    "\n",
    "\n",
    "#optimal_Δx[:,1] = x_initial_ref\n",
    "\n",
    "\n",
    "#while orbits\n",
    "    \n",
    "#    orbits=false\n",
    "    \n",
    "#for i=1:N_period-1\n",
    " \n",
    "#i is now the number of times it orbits\n",
    "for i=1:halforbit_num\n",
    "        \n",
    "    #Ad_k = cat(all_Ad_3p[:,:,i:end],all_Ad_3p[:,:,1:(i-1)], dims=3)\n",
    "    #Bd_k = cat(all_Bd_3p[:,:,i:end],all_Bd_3p[:,:,1:(i-1)], dims=3)\n",
    "    \n",
    "    #Ad_k = cat(all_Ad[:,:,i:end],all_Ad[:,:,1:(i-1)], dims=3)\n",
    "    #Bd_k = cat(all_Bd[:,:,i:end],all_Bd[:,:,1:(i-1)], dims=3)\n",
    "    \n",
    "    #Ad_k = all_Ad_3p[:,:,1:N_h]\n",
    "    #Bd_k = all_Bd_3p[:,:,1:N_h]\n",
    "      \n",
    "    #horizon is two orbits ahead\n",
    "    #all_Ad_k = cat(Ad_k, Ad_k, dims=3)\n",
    "    #all_Bd_k = cat(Bd_k, Bd_k, dims=3)\n",
    "        \n",
    "    #cons, X, U = update_prob(optimal_Δx[:,i], all_Ad_k, all_Bd_k)\n",
    "    \n",
    "    #if you start from the beginning use the appropriate set of jacobians\n",
    "    if i%2 != 0\n",
    "        #println(\"using jacobian 1\")\n",
    "        all_Ad_k = all_Ad_1\n",
    "        all_Bd_k = all_Bd_1\n",
    "        unstable_directions_k = unstable_directions_2_1\n",
    "        P_k = V_2orbits_1        \n",
    "    else\n",
    "        #println(\"using jacobian 2\")\n",
    "        all_Ad_k = all_Ad_2\n",
    "        all_Bd_k = all_Bd_2\n",
    "        unstable_directions_k = unstable_directions_2_2\n",
    "        P_k = V_2orbits_2\n",
    "    end\n",
    "        \n",
    "    cons, X, U = update_prob(x_initial_ref, all_Ad_k, all_Bd_k, P_k, unstable_directions_k)\n",
    "        \n",
    "    Xm, Um = solve_opt(cons, X, U,N_h)\n",
    "    \n",
    "    #get the optimal controls for half a period (20 for this example)\n",
    "        \n",
    "    optimal_u = Um[:,1:20]\n",
    "        \n",
    "    #size N_period\n",
    "        \n",
    "    orbit_count += 1\n",
    "    \n",
    "    #rollout on the nonlinear dynamics\n",
    "    \n",
    "    if i%2 != 0\n",
    "        \n",
    "        #print(\"from beginning\")\n",
    "        \n",
    "        xtraj_halfperiod = integrate_halfperiod(reference_trajectory[:,1] + Xm[:,1], optimal_u)\n",
    "\n",
    "        #this is the deviation from the reference\n",
    "        all_optimal_Δx[:,:,orbit_count] = xtraj_halfperiod - reference_trajectory[:,1:21]\n",
    "        \n",
    "        #integrate the initial condition by all the optimal controls from the solver        \n",
    "    else\n",
    "        \n",
    "        #print(\"this is reference trajectory at half: \", reference_trajectory[:,21])\n",
    "        #println(\"from half\")\n",
    "        xtraj_halfperiod = integrate_halfperiod(reference_trajectory[:,21] + Xm[:,1], optimal_u)\n",
    "\n",
    "        all_optimal_Δx[:,:,orbit_count] = xtraj_halfperiod - reference_trajectory[:,21:41] \n",
    "        #integrate the initial condition by all the optimal controls from the solver\n",
    "        \n",
    "    end\n",
    "    \n",
    "    all_optimal_x[:,:,orbit_count] = xtraj_halfperiod\n",
    "    \n",
    "    all_optimal_u[:,:,orbit_count] = optimal_u\n",
    "    \n",
    "    println(\"Half Revolution solved: \", i)\n",
    "    \n",
    "    #update the intiial condition for the next rev (has to be a delta)\n",
    "    x_initial_ref = all_optimal_Δx[:,end, orbit_count]\n",
    "\n",
    "    #println(\"this is the initial condition for the next rev: \", x_initial_ref)\n",
    "    \n",
    "end  "
   ]
  },
  {
   "cell_type": "code",
   "execution_count": null,
   "id": "e87f182c",
   "metadata": {},
   "outputs": [],
   "source": [
    "all_optimal_Δx"
   ]
  },
  {
   "cell_type": "code",
   "execution_count": null,
   "id": "4c9cf7d3",
   "metadata": {},
   "outputs": [],
   "source": []
  },
  {
   "cell_type": "code",
   "execution_count": null,
   "id": "ba2f640a",
   "metadata": {},
   "outputs": [],
   "source": [
    "rev1 = all_optimal_x[:,:,1]\n",
    "rev2 = all_optimal_x[:,:,2]\n",
    "rev3 = all_optimal_x[:,:,3]\n",
    "rev4 = all_optimal_x[:,:,4]\n",
    "rev5 = all_optimal_x[:,:,5]\n",
    "rev20 = all_optimal_x[:,:,20]\n",
    "\n",
    "rev59 = all_optimal_x[:,:,59]\n",
    "rev60 = all_optimal_x[:,:,60]\n",
    "#rev25 = all_optimal_x[:,:,25]"
   ]
  },
  {
   "cell_type": "code",
   "execution_count": null,
   "id": "61ab0a5a",
   "metadata": {},
   "outputs": [],
   "source": [
    "plot(rev1[1,:], rev1[2,:], rev1[3,:], lw=5)\n",
    "#scatter!([rev1[1,1]],[rev1[2,1]],[rev1[3,1]], lw=5)\n",
    "plot!(rev2[1,:], rev2[2,:], rev2[3,:], lw=5)\n",
    "plot(rev3[1,:], rev3[2,:], rev3[3,:], lw=5)\n",
    "#plot(rev4[1,:], rev4[2,:], rev4[3,:], lw=5)\n",
    "#plot(rev5[1,:], rev5[2,:], rev5[3,:], lw=5)\n",
    "#plot!(rev59[1,:], rev59[2,:], rev59[3,:], lw=5)\n",
    "#plot!(rev60[1,:], rev60[2,:], rev60[3,:], lw=5)\n",
    "\n",
    "plot!(reference_trajectory[1,:], reference_trajectory[2,:], reference_trajectory[3,:], label=\"reference trajectory\")\n",
    "\n",
    "#scatter!([reference_trajectory[1,1]], [reference_trajectory[2,1]], [reference_trajectory[3,1]])"
   ]
  },
  {
   "cell_type": "code",
   "execution_count": null,
   "id": "5b952687",
   "metadata": {},
   "outputs": [],
   "source": [
    "1e-3*L"
   ]
  },
  {
   "cell_type": "code",
   "execution_count": null,
   "id": "12090570",
   "metadata": {},
   "outputs": [],
   "source": [
    "all_optimal_x_formatted = zeros(6, N_period, orbit_num)\n",
    "all_optimal_Δx_formatted = zeros(6, N_period, orbit_num)"
   ]
  },
  {
   "cell_type": "code",
   "execution_count": null,
   "id": "a733c8cb",
   "metadata": {},
   "outputs": [],
   "source": [
    "#have orbit_num trajectories of N knot points\n",
    "\n",
    "for i=1:orbit_num\n",
    "    \n",
    "    all_optimal_x_formatted[:,1:21,i] = all_optimal_x[:,:,(2*i-1)]\n",
    "    \n",
    "    #2:end is used to not repeat the same element twice\n",
    "    all_optimal_x_formatted[:,22:end,i] = all_optimal_x[:,2:end,(2*i)]\n",
    "    \n",
    "    \n",
    "    all_optimal_Δx_formatted[:,1:21,i] = all_optimal_Δx[:,:,(2*i-1)]\n",
    "    \n",
    "    all_optimal_Δx_formatted[:,22:end,i] = all_optimal_Δx[:,2:end,(2*i)]\n",
    "    \n",
    "end"
   ]
  },
  {
   "cell_type": "code",
   "execution_count": null,
   "id": "6a3f1aaf",
   "metadata": {},
   "outputs": [],
   "source": [
    "all_optimal_x"
   ]
  },
  {
   "cell_type": "code",
   "execution_count": null,
   "id": "e7fa513f",
   "metadata": {},
   "outputs": [],
   "source": [
    "all_optimal_x_formatted"
   ]
  },
  {
   "cell_type": "code",
   "execution_count": null,
   "id": "39956e00",
   "metadata": {},
   "outputs": [],
   "source": [
    "all_xtraj = reshape(all_optimal_x_formatted, (6, N_period*orbit_num))\n",
    "\n",
    "all_Δxtraj = reshape(all_optimal_Δx_formatted, (6, N_period*orbit_num))\n",
    "#all_xtraj = reshape(all_optimal_x, (6, 210))"
   ]
  },
  {
   "cell_type": "code",
   "execution_count": null,
   "id": "f48fe97f",
   "metadata": {},
   "outputs": [],
   "source": [
    "for i=1:100\n",
    "    deltaxsub = all_Δxtraj[41*(i-1)+1:41*i]\n",
    "\n",
    "    for i=1:41\n",
    "        plot(deltaxsub[1,:], deltaxsub[2,:], deltaxsub[3,:], lw=5)\n",
    "    end\n",
    "end"
   ]
  },
  {
   "cell_type": "code",
   "execution_count": null,
   "id": "83c50080",
   "metadata": {},
   "outputs": [],
   "source": [
    "all_optimal_u"
   ]
  },
  {
   "cell_type": "code",
   "execution_count": null,
   "id": "d4f46359",
   "metadata": {},
   "outputs": [],
   "source": [
    "all_utraj = reshape(all_optimal_u, (3, (N_period-1)*orbit_num))"
   ]
  },
  {
   "cell_type": "code",
   "execution_count": null,
   "id": "2baab56e",
   "metadata": {},
   "outputs": [],
   "source": [
    "all_utraj"
   ]
  },
  {
   "cell_type": "code",
   "execution_count": null,
   "id": "c663b1de",
   "metadata": {},
   "outputs": [],
   "source": [
    "plot(all_utraj[1,:])"
   ]
  },
  {
   "cell_type": "code",
   "execution_count": null,
   "id": "a9b7b702",
   "metadata": {},
   "outputs": [],
   "source": [
    "plot(all_utraj[2,:])"
   ]
  },
  {
   "cell_type": "code",
   "execution_count": null,
   "id": "12e45df7",
   "metadata": {},
   "outputs": [],
   "source": [
    "plot(all_utraj[3,:])"
   ]
  },
  {
   "cell_type": "code",
   "execution_count": null,
   "id": "51473d12",
   "metadata": {},
   "outputs": [],
   "source": [
    "#this is for 10 orbits\n",
    "plot(all_utraj[1,1:400])"
   ]
  },
  {
   "cell_type": "code",
   "execution_count": null,
   "id": "74290a7a",
   "metadata": {},
   "outputs": [],
   "source": [
    "plot(all_utraj[2,1:400])"
   ]
  },
  {
   "cell_type": "code",
   "execution_count": null,
   "id": "cf1f6826",
   "metadata": {},
   "outputs": [],
   "source": [
    "plot(all_utraj[3,1:400])"
   ]
  },
  {
   "cell_type": "code",
   "execution_count": null,
   "id": "d5642b91",
   "metadata": {},
   "outputs": [],
   "source": [
    "size(all_utraj)"
   ]
  },
  {
   "cell_type": "code",
   "execution_count": null,
   "id": "cb536439",
   "metadata": {},
   "outputs": [],
   "source": [
    "one_orbit = all_utraj[:,1:40]"
   ]
  },
  {
   "cell_type": "code",
   "execution_count": null,
   "id": "c35bd185",
   "metadata": {},
   "outputs": [],
   "source": [
    "#the beginning thrust is to get it back on track since the initialization is off by 1e-3\n",
    "\n",
    "plot(one_orbit[1,:], label=\"x thrust\", linewidth=4)\n",
    "\n",
    "plot!(one_orbit[2,:], label=\"y thrust\", linewidth=4)\n",
    "\n",
    "plot!(one_orbit[3,:], label=\"z thrust\", linewidth=4)"
   ]
  },
  {
   "cell_type": "code",
   "execution_count": null,
   "id": "7a0e1581",
   "metadata": {},
   "outputs": [],
   "source": [
    "#once we are at the orbit this is what it looks like\n",
    "last_orbit = all_utraj[:,3961:end]"
   ]
  },
  {
   "cell_type": "code",
   "execution_count": null,
   "id": "0c0dc8a2",
   "metadata": {},
   "outputs": [],
   "source": [
    "plot(last_orbit[1,:], label=\"x thrust\", linewidth=4)\n",
    "\n",
    "plot!(last_orbit[2,:], label=\"y thrust\", linewidth=4)\n",
    "\n",
    "plot!(last_orbit[3,:], label=\"z thrust\", linewidth=4)"
   ]
  },
  {
   "cell_type": "code",
   "execution_count": null,
   "id": "1de711d0",
   "metadata": {},
   "outputs": [],
   "source": [
    "all_xtraj"
   ]
  },
  {
   "cell_type": "code",
   "execution_count": null,
   "id": "1db4bc53",
   "metadata": {},
   "outputs": [],
   "source": [
    "#plot the 100 orbits\n",
    "\n",
    "plot(all_xtraj[1,:], all_xtraj[2,:], all_xtraj[3,:], label=\"MPC Trajectory\", title=\"MPC Trajectory\")\n",
    "\n",
    "scatter!([all_xtraj[1,1]], [all_xtraj[2,1]], [all_xtraj[3,1]], label=\"Start\")\n",
    "\n",
    "plot!(reference_trajectory[1,:], reference_trajectory[2,:], reference_trajectory[3,:], label = \"Reference Trajectory\")"
   ]
  },
  {
   "cell_type": "code",
   "execution_count": null,
   "id": "ad8f41a3",
   "metadata": {},
   "outputs": [],
   "source": [
    "iter = 40\n",
    "\n",
    "plot(all_xtraj[1,1:iter], all_xtraj[2,1:iter], all_xtraj[3,1:iter], label=\"MPC Trajectory\", title=\"MPC Trajectory\")\n",
    "scatter!([all_xtraj[1,1]], [all_xtraj[2,1]], [all_xtraj[3,1]], label=\"Start\")\n",
    "scatter!([all_xtraj[1,iter]], [all_xtraj[2,iter]], [all_xtraj[3,iter]], label=\"End\")\n",
    "plot!(reference_trajectory[1,1:iter], reference_trajectory[2,1:iter], reference_trajectory[3,1:iter], label = \"Reference Trajectory\")\n",
    "scatter!([reference_trajectory[1,1]], [reference_trajectory[2,1]], [reference_trajectory[3,1]], label=\"Start\")\n",
    "scatter!([reference_trajectory[1,iter]], [reference_trajectory[2,iter]], [reference_trajectory[3,iter]], label=\"End\")\n"
   ]
  },
  {
   "cell_type": "code",
   "execution_count": null,
   "id": "0b731fc3",
   "metadata": {},
   "outputs": [],
   "source": [
    "#plot the final orbit\n",
    "size(all_xtraj)"
   ]
  },
  {
   "cell_type": "code",
   "execution_count": null,
   "id": "5b600fc2",
   "metadata": {},
   "outputs": [],
   "source": [
    "#i = 50\n",
    "#plot(all_xtraj[1,40*(i-1)+1:40*i], all_xtraj[2,40*(i-1)+1:40*i], all_xtraj[3,40*(i-1)+1:40*i], label=\"MPC Trajectory\", title=\"MPC Trajectory\",lw=3)\n",
    "\n",
    "\n",
    "#plot!(all_xtraj[1,41:80], all_xtraj[2,41:80], all_xtraj[3,41:80], label=\"MPC Trajectory\", title=\"MPC Trajectory\",lw=3)\n",
    "#plot!(all_xtraj[1,81:120], all_xtraj[2,81:120], all_xtraj[3,81:120], label=\"MPC Trajectory\", title=\"MPC Trajectory\",lw=3)\n",
    "\n",
    "\n",
    "\n",
    "#plot!(reference_trajectory[1,:], reference_trajectory[2,:], reference_trajectory[3,:], lw=3)\n",
    "\n",
    "\n",
    "#plot(all_xtraj[1,41:80], all_xtraj[2,41:80], all_xtraj[3,41:80], label=\"MPC Trajectory\", title=\"MPC Trajectory\", lw=3)\n",
    "#plot(all_xtraj[1,81:end], all_xtraj[2,81:end], all_xtraj[3,81:end], label=\"MPC Trajectory\", title=\"MPC Trajectory\", lw=3)\n",
    "\n",
    "#scatter!([all_xtraj[1,1]],[all_xtraj[2,1]], [all_xtraj[3,1]], label=\"1\")\n",
    "\n",
    "#scatter!([all_xtraj[1,40]],[all_xtraj[2,40]], [all_xtraj[3,40]], label=\"40\")\n",
    "\n",
    "#scatter!([all_xtraj[1,41]],[all_xtraj[2,41]], [all_xtraj[3,41]], label=\"41\")\n",
    "\n",
    "#scatter!([all_xtraj[1,81]],[all_xtraj[2,81]], [all_xtraj[3,81]], label=\"80\")"
   ]
  },
  {
   "cell_type": "code",
   "execution_count": null,
   "id": "b9892876",
   "metadata": {},
   "outputs": [],
   "source": [
    "#plot(optimal_u[1,:].*acceleration_scale)"
   ]
  },
  {
   "cell_type": "code",
   "execution_count": null,
   "id": "6bd10ae4",
   "metadata": {},
   "outputs": [],
   "source": [
    "#plot(optimal_u[2,:])"
   ]
  },
  {
   "cell_type": "code",
   "execution_count": null,
   "id": "a7b7fd72",
   "metadata": {},
   "outputs": [],
   "source": [
    "#plot(optimal_u[3,:])"
   ]
  },
  {
   "cell_type": "code",
   "execution_count": null,
   "id": "e3e30995",
   "metadata": {},
   "outputs": [],
   "source": [
    "scaled_control = all_utraj.*acceleration_scale"
   ]
  },
  {
   "cell_type": "code",
   "execution_count": null,
   "id": "389a817c",
   "metadata": {},
   "outputs": [],
   "source": [
    "#integrate over the timestep to get the velocity cost in km/s\n",
    "x_cost = sum(abs.(scaled_control[1,:]))*(Δt*time_scale)\n",
    "y_cost = sum(abs.(scaled_control[2,:]))*(Δt*time_scale)\n",
    "z_cost = sum(abs.(scaled_control[3,:]))*(Δt*time_scale)"
   ]
  },
  {
   "cell_type": "code",
   "execution_count": null,
   "id": "75093af8",
   "metadata": {},
   "outputs": [],
   "source": [
    "#velocity cost in m/s\n",
    "x_cost_ms = x_cost*1e3\n",
    "y_cost_ms = y_cost*1e3\n",
    "z_cost_ms = z_cost*1e3\n",
    "\n",
    "display(x_cost_ms)\n",
    "display(y_cost_ms)\n",
    "display(z_cost_ms)"
   ]
  },
  {
   "cell_type": "code",
   "execution_count": null,
   "id": "d2275f0a",
   "metadata": {},
   "outputs": [],
   "source": [
    "all_cost = x_cost_ms + y_cost_ms + z_cost_ms "
   ]
  },
  {
   "cell_type": "code",
   "execution_count": null,
   "id": "0a66cf62",
   "metadata": {},
   "outputs": [],
   "source": [
    "cost_per_rev = all_cost/orbit_num"
   ]
  },
  {
   "cell_type": "code",
   "execution_count": null,
   "id": "4859d5f7",
   "metadata": {},
   "outputs": [],
   "source": [
    "#Exclude the first 10 timesteps to fix the injection error\n",
    "x_cost_good = sum(abs.(scaled_control[1,42:end]))*(Δt*time_scale) *1e3\n",
    "y_cost_good = sum(abs.(scaled_control[2,42:end]))*(Δt*time_scale) *1e3\n",
    "z_cost_good = sum(abs.(scaled_control[3,42:end]))*(Δt*time_scale) *1e3\n",
    "\n",
    "display(x_cost_good)\n",
    "display(y_cost_good)\n",
    "display(z_cost_good)"
   ]
  },
  {
   "cell_type": "code",
   "execution_count": null,
   "id": "62a94247",
   "metadata": {},
   "outputs": [],
   "source": [
    "#cost for 95 revs\n",
    "all_cost_good = x_cost_good + y_cost_good + z_cost_good"
   ]
  },
  {
   "cell_type": "code",
   "execution_count": null,
   "id": "d2bcaa9f",
   "metadata": {},
   "outputs": [],
   "source": [
    "#final_mpc = reference_trajectory + optimal_x"
   ]
  },
  {
   "cell_type": "code",
   "execution_count": null,
   "id": "8b706c13",
   "metadata": {},
   "outputs": [],
   "source": [
    "#plot(final_mpc[1,:], final_mpc[2,:], final_mpc[3,:], label = \"MPC Trajectory\")"
   ]
  },
  {
   "cell_type": "code",
   "execution_count": null,
   "id": "489636e8",
   "metadata": {},
   "outputs": [],
   "source": [
    "#initially\n",
    "#plot(final_mpc[1,:], final_mpc[2,:], final_mpc[3,:], label = \"MPC Trajectory\")\n",
    "#scatter!([final_mpc[1,1]], [final_mpc[2,1]],[final_mpc[3,1]], label= \"Start Point\")\n",
    "\n",
    "#plot!(reference_trajectory[1,:], reference_trajectory[2,:], reference_trajectory[3,:], label=\"Reference Trajectory\")"
   ]
  },
  {
   "cell_type": "code",
   "execution_count": null,
   "id": "dcaf1ee8",
   "metadata": {},
   "outputs": [],
   "source": [
    "#plot(final_mpc[1,:], final_mpc[2,:], final_mpc[3,:], label = \"MPC Trajectory\")\n",
    "#scatter!([final_mpc[1,1]], [final_mpc[2,1]], [final_mpc[3,1]], label= \"Start Point\")\n",
    "#scatter!([final_mpc[1,end]], [final_mpc[2,end]], [final_mpc[3,end]], label= \"End Point\")\n",
    "\n",
    "#plot!(reference_trajectory[1,:], reference_trajectory[2,:], reference_trajectory[3,:], label=\"Reference Trajectory\")"
   ]
  },
  {
   "cell_type": "code",
   "execution_count": null,
   "id": "9f072fee",
   "metadata": {},
   "outputs": [],
   "source": [
    "#diff = final_mpc - reference_trajectory"
   ]
  },
  {
   "cell_type": "code",
   "execution_count": null,
   "id": "6ead3e15",
   "metadata": {},
   "outputs": [],
   "source": [
    "#plot(diff[1,:])\n",
    "#plot!(diff[2,:])\n",
    "#plot!(diff[3,:])"
   ]
  },
  {
   "cell_type": "code",
   "execution_count": null,
   "id": "d21897e7",
   "metadata": {},
   "outputs": [],
   "source": [
    "plot(all_xtraj[1,:], all_xtraj[2,:])"
   ]
  },
  {
   "cell_type": "code",
   "execution_count": null,
   "id": "7dd2c0d3",
   "metadata": {},
   "outputs": [],
   "source": []
  },
  {
   "cell_type": "code",
   "execution_count": null,
   "id": "d6a311a3",
   "metadata": {},
   "outputs": [],
   "source": [
    "all_xtraj[:,end]"
   ]
  },
  {
   "cell_type": "code",
   "execution_count": null,
   "id": "b277b455",
   "metadata": {},
   "outputs": [],
   "source": [
    "all_optimal_x[:,:,end]"
   ]
  },
  {
   "cell_type": "code",
   "execution_count": null,
   "id": "2e69c11f",
   "metadata": {},
   "outputs": [],
   "source": [
    "dot(all_optimal_x[:,end,end], unstable_directions_2[:,21])    "
   ]
  },
  {
   "cell_type": "code",
   "execution_count": null,
   "id": "c3f9195d",
   "metadata": {},
   "outputs": [],
   "source": [
    "end_state = all_xtraj[:,end]\n",
    "\n",
    "end_state_sim = just_dynamics_integrate(end_state, 2.75*sol_t_final[end])\n",
    "\n",
    "\n",
    "end_state_traj = get_state(end_state_sim)"
   ]
  },
  {
   "cell_type": "code",
   "execution_count": null,
   "id": "ce32011d",
   "metadata": {},
   "outputs": [],
   "source": [
    "#testing\n",
    "#end_state_sim = reference_trajectory[:,end]"
   ]
  },
  {
   "cell_type": "code",
   "execution_count": null,
   "id": "ea797244",
   "metadata": {},
   "outputs": [],
   "source": [
    "delta_end = end_state - reference_trajectory[:,end]"
   ]
  },
  {
   "cell_type": "code",
   "execution_count": null,
   "id": "13741fc9",
   "metadata": {},
   "outputs": [],
   "source": [
    "#end_state_test = reference_trajectory[:,end] - delta_end"
   ]
  },
  {
   "cell_type": "code",
   "execution_count": null,
   "id": "520a6d08",
   "metadata": {},
   "outputs": [],
   "source": [
    "#correct_end_state = end_state_test - reference_trajectory[:,end]"
   ]
  },
  {
   "cell_type": "code",
   "execution_count": null,
   "id": "23aee449",
   "metadata": {},
   "outputs": [],
   "source": [
    "#end_state_sim_correct = just_dynamics_integrate(end_state_test, 2.0*sol_t_final[end])\n",
    "\n",
    "\n",
    "#end_state_traj_correct = get_state(end_state_sim_correct)"
   ]
  },
  {
   "cell_type": "code",
   "execution_count": null,
   "id": "63765966",
   "metadata": {},
   "outputs": [],
   "source": [
    "unstable_directions[:,end]\n",
    "\n",
    "\n",
    "#for the negative manifold, the final state is satisfying the constraint and that's why it goes to the \n",
    "#left \n",
    "\n",
    "#however, for the positive manifold, it is satisfying the negative manifold constraint..."
   ]
  },
  {
   "cell_type": "code",
   "execution_count": null,
   "id": "ced1cbb6",
   "metadata": {},
   "outputs": [],
   "source": [
    "dot(delta_end, unstable_directions[:,end])"
   ]
  },
  {
   "cell_type": "code",
   "execution_count": null,
   "id": "0d0379e0",
   "metadata": {},
   "outputs": [],
   "source": [
    "#check this constraint \n",
    "#works with pi/5 too \n",
    "\n",
    "#c_test = unstable_directions[:,end]/tan(pi/6)\n",
    "c_test = unstable_directions[:,end]/tan((pi/2) - deg2rad(60))\n",
    "\n",
    "manifold_constraint_test = norm(delta_end) - c_test'*(delta_end)\n",
    "\n",
    "manifold_constraint_test\n",
    "#push!(cons, manifold_constraint <= 0)"
   ]
  },
  {
   "cell_type": "code",
   "execution_count": null,
   "id": "d54d01c3",
   "metadata": {},
   "outputs": [],
   "source": [
    "#angle away from the unstable manifold\n",
    "dot(unstable_directions[:,end], delta_end)*norm(delta_end)*180/pi"
   ]
  },
  {
   "cell_type": "code",
   "execution_count": null,
   "id": "e00fcb75",
   "metadata": {},
   "outputs": [],
   "source": [
    "#escapes on the right for positive unstable direction!\n",
    "plot(end_state_traj[1,:], end_state_traj[2,:])\n",
    "\n",
    "scatter!([end_state_traj[1,1]], [end_state_traj[2,1]])"
   ]
  },
  {
   "cell_type": "code",
   "execution_count": null,
   "id": "0df573d5",
   "metadata": {},
   "outputs": [],
   "source": [
    "#plot(end_state_traj_correct[1,:], end_state_traj_correct[2,:])\n",
    "\n",
    "#goes to the right when it is in the positive manifold direction. hypothesis is true. however, \n",
    "#the solver is giving solutions that does not satisfy this constraint. need to figure out why..."
   ]
  },
  {
   "cell_type": "code",
   "execution_count": null,
   "id": "1e2215ce",
   "metadata": {},
   "outputs": [],
   "source": [
    "#needs to be a super small perturbation in order to stay stable\n",
    "\n",
    "forward_rollout = zeros(6, N_period)\n",
    "\n",
    "#forward_rollout[:,1] = [1e-3, 0, 0, 0, 1e-6,0]\n",
    "\n",
    "\n",
    "forward_rollout[:,1] = [1e-9, 0, 0, 0, 1e-9, 0]\n",
    "\n",
    "for i=1:N_period-1\n",
    "   \n",
    "    #diverges with no control \n",
    "    #forward_rollout[:,i+1] = all_Ad[:,:,i]*forward_rollout[:,i]\n",
    "    \n",
    "    #with disturbances it just blows up\n",
    "    forward_rollout[:,i+1] = all_Ad[:,:,i]*forward_rollout[:,i] #+ randn(6)*1e-4\n",
    "    \n",
    "end\n",
    "    "
   ]
  },
  {
   "cell_type": "code",
   "execution_count": null,
   "id": "914eceb9",
   "metadata": {},
   "outputs": [],
   "source": [
    "reference_trajectory"
   ]
  },
  {
   "cell_type": "code",
   "execution_count": null,
   "id": "112422af",
   "metadata": {},
   "outputs": [],
   "source": [
    "nocontrol = forward_rollout + reference_trajectory"
   ]
  },
  {
   "cell_type": "code",
   "execution_count": null,
   "id": "0500faf4",
   "metadata": {},
   "outputs": [],
   "source": [
    "plot(nocontrol[1,:], nocontrol[2,:], nocontrol[3,:], lw=3, label=\"No Control\")\n",
    "plot!(reference_trajectory[1,:], reference_trajectory[2,:], reference_trajectory[3,:], lw=3, label=\"Reference Trajectory\")\n",
    "scatter!([nocontrol[1,1]], [nocontrol[2,1]], [nocontrol[3,1]], label=\"No Control Start\")\n",
    "scatter!([nocontrol[1,end]], [nocontrol[2,end]],[nocontrol[3,end]], label=\"No Control End\")"
   ]
  },
  {
   "cell_type": "code",
   "execution_count": null,
   "id": "6ae19c01",
   "metadata": {},
   "outputs": [],
   "source": [
    "# plot(final_mpc[1,:], final_mpc[2,:], final_mpc[3,:], lw=3, label=\"MPC Control\")\n",
    "# plot!(reference_trajectory[1,:], reference_trajectory[2,:], reference_trajectory[3,:], lw=3, label=\"Reference Trajectory\")\n",
    "# scatter!([final_mpc[1,1]], [final_mpc[2,1]], [final_mpc[3,1]], label=\"No Control Start\")\n",
    "# scatter!([final_mpc[1,end]], [final_mpc[2,end]], [final_mpc[3,end]],  label=\"No Control End\", aspectratio = true)"
   ]
  },
  {
   "cell_type": "code",
   "execution_count": null,
   "id": "a5b48b9f",
   "metadata": {},
   "outputs": [],
   "source": [
    "position_tube_norm = zeros(N_period*orbit_num)\n",
    "\n",
    "velocity_tube_norm = zeros(N_period*orbit_num)"
   ]
  },
  {
   "cell_type": "code",
   "execution_count": null,
   "id": "ec723d9f",
   "metadata": {},
   "outputs": [],
   "source": [
    "orbit_num"
   ]
  },
  {
   "cell_type": "code",
   "execution_count": null,
   "id": "296a6efd",
   "metadata": {},
   "outputs": [],
   "source": [
    "svd(V[:,:,1]).S"
   ]
  },
  {
   "cell_type": "code",
   "execution_count": null,
   "id": "63da5d81",
   "metadata": {},
   "outputs": [],
   "source": [
    "for i=1:N_period*orbit_num\n",
    "   \n",
    "    position_tube_norm[i]= norm(all_Δxtraj[1:3,i])\n",
    "    \n",
    "    velocity_tube_norm[i]= norm(all_Δxtraj[4:6,i])\n",
    "    \n",
    "end"
   ]
  },
  {
   "cell_type": "code",
   "execution_count": null,
   "id": "61cdffad",
   "metadata": {},
   "outputs": [],
   "source": [
    "ctg_constraint = zeros(6, N_period)\n",
    "dist_from_center = zeros(6, N_period)"
   ]
  },
  {
   "cell_type": "code",
   "execution_count": null,
   "id": "924be4ab",
   "metadata": {},
   "outputs": [],
   "source": [
    "(ones(6).*0.1)./eigen(V[:,:,1]).values"
   ]
  },
  {
   "cell_type": "code",
   "execution_count": null,
   "id": "ee5ef2a8",
   "metadata": {},
   "outputs": [],
   "source": [
    "test_v = (ones(6).*0.1)./eigen(V[:,:,1]).vectors"
   ]
  },
  {
   "cell_type": "code",
   "execution_count": null,
   "id": "f1d8500e",
   "metadata": {},
   "outputs": [],
   "source": [
    "test_v * [1,1,1,0,0,0]"
   ]
  },
  {
   "cell_type": "code",
   "execution_count": null,
   "id": "55eb8948",
   "metadata": {},
   "outputs": [],
   "source": [
    "V"
   ]
  },
  {
   "cell_type": "code",
   "execution_count": null,
   "id": "ca0bd79a",
   "metadata": {},
   "outputs": [],
   "source": [
    "for i= 1:N_period\n",
    "\n",
    "    e_decomp = eigen(V[:,:,i])\n",
    "\n",
    "    #inverse same as transpose in this case\n",
    "    y = inv(e_decomp.vectors) * all_Δxtraj[:,i]\n",
    "\n",
    "    dist_from_center[:,i] = y\n",
    "\n",
    "    ctg_constraint[:,i] = sqrt.(1e-3 .*ones(6)./e_decomp.values)\n",
    "\n",
    "\n",
    "end\n",
    "\n",
    "    "
   ]
  },
  {
   "cell_type": "code",
   "execution_count": null,
   "id": "d588b767",
   "metadata": {},
   "outputs": [],
   "source": [
    "ctg_constraint\n"
   ]
  },
  {
   "cell_type": "code",
   "execution_count": null,
   "id": "26df816d",
   "metadata": {},
   "outputs": [],
   "source": [
    "dist_from_center"
   ]
  },
  {
   "cell_type": "code",
   "execution_count": null,
   "id": "986d8d1d",
   "metadata": {},
   "outputs": [],
   "source": [
    "all_Δxtraj[:,1]'*V[:,:,1]*all_Δxtraj[:,1]"
   ]
  },
  {
   "cell_type": "code",
   "execution_count": null,
   "id": "1ff37dca",
   "metadata": {},
   "outputs": [],
   "source": [
    "dist_from_center[1,:]*L"
   ]
  },
  {
   "cell_type": "code",
   "execution_count": null,
   "id": "93ff49a0",
   "metadata": {},
   "outputs": [],
   "source": [
    "plot(dist_from_center[1,:], label=\"x\")\n",
    "plot!(ctg_constraint[1,:], label=\"x axis constraint\")"
   ]
  },
  {
   "cell_type": "code",
   "execution_count": null,
   "id": "1a3c55a3",
   "metadata": {},
   "outputs": [],
   "source": [
    "plot(dist_from_center[2,:], label=\"y\")\n",
    "plot!(ctg_constraint[2,:], label=\"y axis constraint\")"
   ]
  },
  {
   "cell_type": "code",
   "execution_count": null,
   "id": "741efc04",
   "metadata": {},
   "outputs": [],
   "source": [
    "plot(dist_from_center[3,:], label=\"z\")\n",
    "plot!(ctg_constraint[3,:], label=\"z axis constraint\")"
   ]
  },
  {
   "cell_type": "code",
   "execution_count": null,
   "id": "fdbabd13",
   "metadata": {},
   "outputs": [],
   "source": [
    "plot(dist_from_center[4,:], label=\"vx\")\n",
    "plot!(ctg_constraint[4,:], label=\"vx axis constraint\")"
   ]
  },
  {
   "cell_type": "code",
   "execution_count": null,
   "id": "a79d7553",
   "metadata": {},
   "outputs": [],
   "source": [
    "plot(dist_from_center[5,:], label=\"vy\")\n",
    "plot!(ctg_constraint[5,:], label=\"vy axis constraint\")"
   ]
  },
  {
   "cell_type": "code",
   "execution_count": null,
   "id": "18295cea",
   "metadata": {},
   "outputs": [],
   "source": [
    "plot(dist_from_center[6,:], label=\"vz\")\n",
    "plot!(ctg_constraint[6,:], label=\"vz axis constraint\")"
   ]
  },
  {
   "cell_type": "code",
   "execution_count": null,
   "id": "f0109359",
   "metadata": {},
   "outputs": [],
   "source": [
    "all_Δxtraj[:,1]"
   ]
  },
  {
   "cell_type": "code",
   "execution_count": null,
   "id": "632bc7be",
   "metadata": {},
   "outputs": [],
   "source": [
    "V[:,:,1]"
   ]
  },
  {
   "cell_type": "code",
   "execution_count": null,
   "id": "1e9d2ca5",
   "metadata": {},
   "outputs": [],
   "source": [
    "#test.vectors*diagm(test.values)*test.vectors'"
   ]
  },
  {
   "cell_type": "code",
   "execution_count": null,
   "id": "3606e83a",
   "metadata": {},
   "outputs": [],
   "source": [
    "#inv(test.vectors)"
   ]
  },
  {
   "cell_type": "code",
   "execution_count": null,
   "id": "e828f47d",
   "metadata": {},
   "outputs": [],
   "source": [
    "#test.vectors'"
   ]
  },
  {
   "cell_type": "code",
   "execution_count": null,
   "id": "26b3d631",
   "metadata": {},
   "outputs": [],
   "source": [
    "# #finding the magnitude of the principle axes of the ellipsoid\n",
    "# magnitude_principle_axes = zeros(6, N_period)\n",
    "\n",
    "\n",
    "# for i=1:N_period\n",
    "    \n",
    "#     magnitude_principle_axes[:,i] = svd(V[:,:,i]).S\n",
    "    \n",
    "    \n",
    "# end"
   ]
  },
  {
   "cell_type": "code",
   "execution_count": null,
   "id": "f10afaeb",
   "metadata": {},
   "outputs": [],
   "source": [
    "# plot(magnitude_principle_axes[1,:])\n",
    "# plot!(magnitude_principle_axes[2,:])\n",
    "# plot!(magnitude_principle_axes[3,:])"
   ]
  },
  {
   "cell_type": "code",
   "execution_count": null,
   "id": "d612f319",
   "metadata": {},
   "outputs": [],
   "source": [
    "# plot(magnitude_principle_axes[4,:])\n",
    "# plot!(magnitude_principle_axes[5,:])\n",
    "# plot!(magnitude_principle_axes[6,:])"
   ]
  },
  {
   "cell_type": "code",
   "execution_count": null,
   "id": "eba1b6ba",
   "metadata": {},
   "outputs": [],
   "source": [
    "plot(all_Δxtraj[1,:])\n",
    "\n",
    "plot!(all_Δxtraj[2,:])\n",
    "\n",
    "plot!(all_Δxtraj[3,:])"
   ]
  },
  {
   "cell_type": "code",
   "execution_count": null,
   "id": "76d8a494",
   "metadata": {},
   "outputs": [],
   "source": [
    "plot(all_Δxtraj[4,:])\n",
    "\n",
    "plot!(all_Δxtraj[5,:])\n",
    "\n",
    "plot!(all_Δxtraj[6,:])"
   ]
  },
  {
   "cell_type": "code",
   "execution_count": null,
   "id": "4f56f3d9",
   "metadata": {},
   "outputs": [],
   "source": []
  },
  {
   "cell_type": "code",
   "execution_count": null,
   "id": "a7ad54c3",
   "metadata": {},
   "outputs": [],
   "source": []
  },
  {
   "cell_type": "code",
   "execution_count": null,
   "id": "e765f8f0",
   "metadata": {},
   "outputs": [],
   "source": []
  },
  {
   "cell_type": "code",
   "execution_count": null,
   "id": "683ade43",
   "metadata": {},
   "outputs": [],
   "source": []
  },
  {
   "cell_type": "code",
   "execution_count": null,
   "id": "3f0105a4",
   "metadata": {},
   "outputs": [],
   "source": []
  }
 ],
 "metadata": {
  "@webio": {
   "lastCommId": null,
   "lastKernelId": null
  },
  "kernelspec": {
   "display_name": "Julia 1.10.0",
   "language": "julia",
   "name": "julia-1.10"
  },
  "language_info": {
   "file_extension": ".jl",
   "mimetype": "application/julia",
   "name": "julia",
   "version": "1.10.0"
  }
 },
 "nbformat": 4,
 "nbformat_minor": 5
}
