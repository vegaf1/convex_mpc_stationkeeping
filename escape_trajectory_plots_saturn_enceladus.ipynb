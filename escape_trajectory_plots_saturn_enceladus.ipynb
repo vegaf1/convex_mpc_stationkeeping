{
 "cells": [
  {
   "cell_type": "code",
   "execution_count": 21,
   "metadata": {},
   "outputs": [],
   "source": [
    "#Figure for the manifold plot\n",
    "\n",
    "#The idea is to save the final 4100 state trajectory from the algorithm, \n",
    "#and at each point simulate forward in time without control to ensure that \n",
    "#at every timestep (if control were to be lost), we would escape to the right. \n",
    "#Do this for both the Earth Moon system and the Saturn Enceladus system"
   ]
  },
  {
   "cell_type": "code",
   "execution_count": 22,
   "metadata": {},
   "outputs": [],
   "source": [
    "using LinearAlgebra\n",
    "using DifferentialEquations\n",
    "using Plots\n",
    "using DelimitedFiles\n",
    "using ForwardDiff"
   ]
  },
  {
   "cell_type": "code",
   "execution_count": 23,
   "metadata": {},
   "outputs": [
    {
     "data": {
      "text/plain": [
       "6-element Vector{Float64}:\n",
       " 1.00399194\n",
       " 0.0\n",
       " 0.0\n",
       " 0.0\n",
       " 0.0\n",
       " 0.0"
      ]
     },
     "metadata": {},
     "output_type": "display_data"
    }
   ],
   "source": [
    "#parameters for Earth Moon System\n",
    "μ = 1.901109735892602e-7\n",
    "μ1 = 1-μ\n",
    "μ2 = μ\n",
    "\n",
    "#position of mass 1\n",
    "pose_m1 = [-μ, 0, 0]\n",
    "\n",
    "#position of mass 2\n",
    "pose_m2 = [1-μ, 0, 0]\n",
    "\n",
    "#value obtained from 3BP textbook (original)\n",
    "L = 238529 #in km - distance between centers of m1 and m2\n",
    "#V_ = 1.025 #in km/s - orbital velocity of m1\n",
    "#T_ = 2.361e6 #in seconds - orbital period of m1 and m2\n",
    "\n",
    "\n",
    "#working\n",
    "#########################################################################################\n",
    "#updated for time unit to be in days\n",
    "T_ = 18913/86400 #in days - orbital period of m1 and m2\n",
    "time_scale = T_ #/(2*pi)\n",
    "#no need to divide by 2 pi for this time scale!\n",
    "\n",
    "#time unit of days\n",
    "V_ = L/time_scale\n",
    "acceleration_scale = L/((time_scale)^2)\n",
    "##########################################################################################\n",
    "\n",
    "#state of the L1 and L2 Lagrange points (computed offline)\n",
    "XL1 = [0.99601828, 0, 0, 0, 0, 0]\n",
    "XL2 = [1.00399194, 0, 0, 0, 0, 0]"
   ]
  },
  {
   "cell_type": "code",
   "execution_count": 24,
   "metadata": {},
   "outputs": [
    {
     "data": {
      "text/plain": [
       "effective_potential (generic function with 1 method)"
      ]
     },
     "metadata": {},
     "output_type": "display_data"
    }
   ],
   "source": [
    "function effective_potential(X)\n",
    "    x = X[1]\n",
    "    y = X[2]\n",
    "    z = X[3]\n",
    "\n",
    "    r1 = sqrt((x+μ2)^2 + y^2 + z^2) \n",
    "    r2 = sqrt((x-μ1)^2 + y^2 + z^2)\n",
    "    #assuming m3 is unit mass\n",
    "   \n",
    "    U = (-μ1/r1)-(μ2/r2)-0.5*(x^2+y^2)\n",
    "   \n",
    "    return U\n",
    "    \n",
    "end"
   ]
  },
  {
   "cell_type": "code",
   "execution_count": 25,
   "metadata": {},
   "outputs": [
    {
     "data": {
      "text/plain": [
       "three_body_prob_dynamics (generic function with 1 method)"
      ]
     },
     "metadata": {},
     "output_type": "display_data"
    }
   ],
   "source": [
    "function three_body_prob_dynamics(x)\n",
    "    \n",
    "    q = zeros(eltype(x),3)\n",
    "    v = zeros(eltype(x),3)\n",
    "    q = x[1:3]\n",
    "    v = x[4:6]\n",
    "\n",
    "    ẋ = zeros(eltype(x),6)\n",
    "    U_q = zeros(eltype(x),3)\n",
    "    \n",
    "    U_q = (ForwardDiff.gradient(_x -> effective_potential(_x), q))\n",
    "        \n",
    "    ẋ[1:3] = v\n",
    "    ẋ[4] = 2*v[2] - U_q[1] \n",
    "    ẋ[5] = -2*v[1] - U_q[2]\n",
    "    ẋ[6] = -U_q[3]\n",
    "\n",
    "    return ẋ\n",
    "end"
   ]
  },
  {
   "cell_type": "code",
   "execution_count": 26,
   "metadata": {},
   "outputs": [
    {
     "data": {
      "text/plain": [
       "three_body_prob_dynamics_scaled (generic function with 1 method)"
      ]
     },
     "metadata": {},
     "output_type": "display_data"
    }
   ],
   "source": [
    "#inputs are in the custom SI unit scale\n",
    "\n",
    "function three_body_prob_dynamics_scaled(x)\n",
    "\n",
    "    q_original = zeros(eltype(x),3)\n",
    "    v_original = zeros(eltype(x),3)\n",
    "    \n",
    "    q_original = x[1:3]/L \n",
    "    v_original = x[4:6]/V_\n",
    "    \n",
    "    x_original = [q_original; v_original]\n",
    "\n",
    "    #original is in the CR3BP units\n",
    "    ẋ_original = zeros(eltype(x),6)\n",
    "\n",
    "    #calculate the original xdot (no scaling)\n",
    "\n",
    "    ẋ_original = three_body_prob_dynamics(x_original)\n",
    "\n",
    "    #then scale the output\n",
    "    v_scaled = ẋ_original[1:3]*V_\n",
    "    \n",
    "    a_scaled = ẋ_original[4:6]*acceleration_scale\n",
    "\n",
    "    ẋ_scaled = [v_scaled; a_scaled]\n",
    "\n",
    "    return ẋ_scaled\n",
    "\n",
    "end"
   ]
  },
  {
   "cell_type": "code",
   "execution_count": 27,
   "metadata": {},
   "outputs": [
    {
     "data": {
      "text/plain": [
       "3-element Vector{Float64}:\n",
       " 238528.95465301958\n",
       "      0.0\n",
       "      0.0"
      ]
     },
     "metadata": {},
     "output_type": "display_data"
    }
   ],
   "source": [
    "pose_m2*L "
   ]
  },
  {
   "cell_type": "code",
   "execution_count": 28,
   "metadata": {},
   "outputs": [
    {
     "data": {
      "text/plain": [
       "justdynamics_DFJL! (generic function with 1 method)"
      ]
     },
     "metadata": {},
     "output_type": "display_data"
    }
   ],
   "source": [
    "#solve using DifferentialEquations.jl\n",
    "function justdynamics_DFJL!(du, u, p, t)\n",
    "    \n",
    "    du[1:6] = three_body_prob_dynamics_scaled(u[1:6])\n",
    "    \n",
    "end"
   ]
  },
  {
   "cell_type": "code",
   "execution_count": 29,
   "metadata": {},
   "outputs": [
    {
     "data": {
      "text/plain": [
       "get_state (generic function with 1 method)"
      ]
     },
     "metadata": {},
     "output_type": "display_data"
    }
   ],
   "source": [
    "#gets the state and for the entire solution\n",
    "\n",
    "function get_state(solution)\n",
    "    \n",
    "    N = size(solution.u)[1]\n",
    "\n",
    "    all_states = zeros(6, N)\n",
    "\n",
    "    for i=1:N\n",
    "        all_states[:,i] = solution.u[i][1:6]\n",
    "    end\n",
    "    \n",
    "    #all states and all stm are functions of t\n",
    "    #solution.t is the time\n",
    "    return all_states\n",
    "end"
   ]
  },
  {
   "cell_type": "code",
   "execution_count": 30,
   "metadata": {},
   "outputs": [
    {
     "data": {
      "text/plain": [
       "just_dynamics_integrate (generic function with 1 method)"
      ]
     },
     "metadata": {},
     "output_type": "display_data"
    }
   ],
   "source": [
    "#integrate just the dynamics\n",
    "function just_dynamics_integrate(x_0, period)\n",
    "\n",
    "    condition(u,t,integrator) = u[1] - 240000\n",
    "    \n",
    "    affect!(integrator) = terminate!(integrator)\n",
    "     \n",
    "    cb = ContinuousCallback(condition, affect!)\n",
    "    \n",
    "    tspan = (0.0, period)\n",
    "    prob = ODEProblem(justdynamics_DFJL!, x_0, tspan)\n",
    "    sol = solve(prob, TsitPap8(), abstol=1e-12, reltol=1e-12, callback=cb)\n",
    "    \n",
    "    return sol\n",
    "    \n",
    "end"
   ]
  },
  {
   "cell_type": "code",
   "execution_count": 31,
   "metadata": {},
   "outputs": [
    {
     "data": {
      "text/plain": [
       "6×4100 Matrix{Float64}:\n",
       "     2.39588e5        2.39585e5  …      2.39585e5      2.39588e5\n",
       "     2.88578e-15    -70.7208           70.712         -0.000555346\n",
       "   226.168          224.152           223.96         225.987\n",
       "    -9.46749e-10   -292.525           291.143          0.00566267\n",
       " -4203.74         -4159.35          -4157.2        -4204.95\n",
       "    -9.76991e-10   -238.563      …    239.803         -0.0182633"
      ]
     },
     "metadata": {},
     "output_type": "display_data"
    }
   ],
   "source": [
    "#whole x trajectory\n",
    "xtraj  = readdlm(\"xtraj_enceledus_ctg.txt\", ',')\n",
    "#xtraj  = readdlm(\"xtraj_enceledus_tube.txt\", ',')"
   ]
  },
  {
   "cell_type": "code",
   "execution_count": 32,
   "metadata": {},
   "outputs": [
    {
     "data": {
      "text/plain": [
       "6×41 Matrix{Float64}:\n",
       "     2.39588e5        2.39585e5  …      2.39585e5      2.39588e5\n",
       "     2.88578e-15    -70.7106           70.7106         4.0834e-8\n",
       "   226.168          224.14            224.14         226.168\n",
       "    -9.46749e-10   -291.102           291.102         -1.25936e-6\n",
       " -4204.83         -4157.08          -4157.08       -4204.83\n",
       "    -9.76991e-10   -240.012      …    240.012         -2.11349e-7"
      ]
     },
     "metadata": {},
     "output_type": "display_data"
    }
   ],
   "source": [
    "x_reference  = readdlm(\"enceladus_reference.txt\", ',')"
   ]
  },
  {
   "cell_type": "code",
   "execution_count": 33,
   "metadata": {},
   "outputs": [
    {
     "data": {
      "text/plain": [
       "2×4100 Matrix{Float64}:\n",
       " 0.0  0.0  0.0  0.0  0.0  0.0  0.0  0.0  …  0.0  0.0  0.0  0.0  0.0  0.0  0.0\n",
       " 0.0  0.0  0.0  0.0  0.0  0.0  0.0  0.0     0.0  0.0  0.0  0.0  0.0  0.0  0.0"
      ]
     },
     "metadata": {},
     "output_type": "display_data"
    }
   ],
   "source": [
    "escape_traj = Matrix{Float64}[]\n",
    "dims_escape = zeros(2, 4100)"
   ]
  },
  {
   "cell_type": "code",
   "execution_count": 34,
   "metadata": {},
   "outputs": [
    {
     "data": {
      "text/plain": [
       "1.4517192893373796"
      ]
     },
     "metadata": {},
     "output_type": "display_data"
    }
   ],
   "source": [
    "days_time = 0.6752182741104091*2.15"
   ]
  },
  {
   "cell_type": "code",
   "execution_count": 35,
   "metadata": {},
   "outputs": [],
   "source": [
    "#at each of these points in x traj, simulate forward by a bit and hopefully all escape to the right ..\n",
    "\n",
    "for i=1:4100\n",
    "\n",
    "    integrate_sol = just_dynamics_integrate(xtraj[:,i], days_time)\n",
    "\n",
    "    x_escape = get_state(integrate_sol)\n",
    "\n",
    "    dims_escape[1,i] = size(x_escape)[1]\n",
    "\n",
    "    dims_escape[2,i] = size(x_escape)[2]\n",
    "\n",
    "    push!(escape_traj, x_escape)\n",
    "\n",
    "end"
   ]
  },
  {
   "cell_type": "code",
   "execution_count": 41,
   "metadata": {},
   "outputs": [
    {
     "data": {
      "text/plain": [
       "\"/home/faustovega/Research/convex_mpc_stationkeeping/exit_trajectories_enceladus.pdf\""
      ]
     },
     "metadata": {},
     "output_type": "display_data"
    }
   ],
   "source": [
    "plot(x_reference[1,:], x_reference[2,:], label=nothing)\n",
    "\n",
    "for i=2:4100\n",
    "    plot!(escape_traj[i][1,:], escape_traj[i][2,:], label=nothing, color=:red, fontfamily=\"Computer Modern\", alpha=0.25) \n",
    "end\n",
    "\n",
    "plot!(escape_traj[1][1,:], escape_traj[1][2,:], label=\"Exit Trajectories\", color=:red, fontfamily=\"Computer Modern\", alpha=0.8) \n",
    "\n",
    "plot!(x_reference[1,:], x_reference[2,:], label=\"Reference Trajectory\",\n",
    " linewidth=5, color=:blue, fontfamily=\"Computer Modern\", xguidefontsize=10, xtickfontsize=10, \n",
    " yguidefontsize=10, ytickfontsize=10)\n",
    "\n",
    " title!(\"Exit Trajectories\")\n",
    " xlabel!(\"X (km)\")\n",
    " ylabel!(\"Y (km)\")\n",
    "\n",
    " exit_trajectories = scatter!([pose_m2[1]*L], [0], label = \"Enceladus\", color=:orange, fontfamily=\"Computer Modern\", grid=false) \n",
    "\n",
    "\n",
    "#savefig(\"exit_trajectories_enceladus.pdf\") "
   ]
  },
  {
   "cell_type": "code",
   "execution_count": 37,
   "metadata": {},
   "outputs": [],
   "source": [
    "#savefig(exit_trajectories, \"exit_trajectories_saturn_enceladus_tube\")"
   ]
  },
  {
   "cell_type": "code",
   "execution_count": 38,
   "metadata": {},
   "outputs": [
    {
     "data": {
      "text/plain": [
       "238528.95465301958"
      ]
     },
     "metadata": {},
     "output_type": "display_data"
    }
   ],
   "source": [
    "pose_m2[1]*L"
   ]
  },
  {
   "cell_type": "code",
   "execution_count": 39,
   "metadata": {},
   "outputs": [],
   "source": [
    "left = zeros(4099)\n",
    "\n",
    "for i=2:4100\n",
    "\n",
    "    left[i-1] = any(x -> x < 238528.95465301958, escape_traj[i][1,:]) \n",
    "\n",
    "end"
   ]
  },
  {
   "cell_type": "code",
   "execution_count": 40,
   "metadata": {},
   "outputs": [
    {
     "data": {
      "text/plain": [
       "0.8287387167601854"
      ]
     },
     "metadata": {},
     "output_type": "display_data"
    }
   ],
   "source": [
    "1 - sum(left)/4099 "
   ]
  },
  {
   "cell_type": "code",
   "execution_count": null,
   "metadata": {},
   "outputs": [],
   "source": []
  }
 ],
 "metadata": {
  "kernelspec": {
   "display_name": "Julia 1.10.0",
   "language": "julia",
   "name": "julia-1.10"
  },
  "language_info": {
   "file_extension": ".jl",
   "mimetype": "application/julia",
   "name": "julia",
   "version": "1.10.0"
  }
 },
 "nbformat": 4,
 "nbformat_minor": 2
}
