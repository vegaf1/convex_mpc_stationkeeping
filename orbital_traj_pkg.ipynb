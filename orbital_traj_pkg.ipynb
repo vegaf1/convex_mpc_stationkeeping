{
 "cells": [
  {
   "cell_type": "code",
   "execution_count": 4,
   "metadata": {},
   "outputs": [],
   "source": [
    "using OrbitalTrajectories\n",
    "using DifferentialEquations  # To propagate trajectories\n",
    "using Plots                  # To plot trajectories\n",
    "using Unitful                # Units (u\"km\", u\"d\" (days)) and unit conversion"
   ]
  },
  {
   "cell_type": "code",
   "execution_count": 5,
   "metadata": {},
   "outputs": [
    {
     "ename": "UndefVarError",
     "evalue": "UndefVarError: `R3BPSystemProperties` not defined",
     "output_type": "error",
     "traceback": [
      "UndefVarError: `R3BPSystemProperties` not defined\n",
      "\n",
      "Stacktrace:\n",
      " [1] top-level scope\n",
      "   @ ~/Research/convex_mpc_stationkeeping/orbital_traj_pkg.ipynb:5"
     ]
    }
   ],
   "source": [
    "a, b, c = (:Earth, :Moon, :Sun)\n",
    "\n",
    "# The EphemerisNBP model requires a timespan in seconds, rather than radians.\n",
    "tspan       = (0.88π, 2.83π)\n",
    "tspan_epoch = ustrip.(u\"s\", tspan .* R3BPSystemProperties(a, b).T)\n",
    "\n",
    "# Define the systems to test.\n",
    "# xoffset/yoffset are used to offset the model labels in the resulting plot.\n",
    "systems = Dict(\n",
    "  CR3BP(a, b)           => (color=:blue,   tspan=(0.88π, 2.88π), xoffset=-0.06, yoffset=-0.04),\n",
    "  ER3BP(a, b)           => (color=:red,    tspan=(0.88π, 3.00π), xoffset=-0.06, yoffset=-0.04),\n",
    "  BC4BP(a, b, c)        => (color=:green,  tspan=(0.88π, 2.85π), xoffset=-0.05, yoffset=-0.06),\n",
    "  EphemerisNBP(a, b, c) => (color=:orange, tspan=tspan_epoch,    xoffset=-0.20, yoffset=-0.02)\n",
    ")"
   ]
  },
  {
   "cell_type": "code",
   "execution_count": 6,
   "metadata": {},
   "outputs": [
    {
     "ename": "UndefVarError",
     "evalue": "UndefVarError: `SynodicFrame` not defined",
     "output_type": "error",
     "traceback": [
      "UndefVarError: `SynodicFrame` not defined\n",
      "\n",
      "Stacktrace:\n",
      " [1] top-level scope\n",
      "   @ ~/Research/convex_mpc_stationkeeping/orbital_traj_pkg.ipynb:2"
     ]
    }
   ],
   "source": [
    "u0       = [0.76710535, 0., 0., 0., 0.47262724, 0.]\n",
    "u0_frame = SynodicFrame()"
   ]
  },
  {
   "cell_type": "code",
   "execution_count": null,
   "metadata": {},
   "outputs": [],
   "source": []
  }
 ],
 "metadata": {
  "kernelspec": {
   "display_name": "Julia 1.10.0",
   "language": "julia",
   "name": "julia-1.10"
  },
  "language_info": {
   "file_extension": ".jl",
   "mimetype": "application/julia",
   "name": "julia",
   "version": "1.10.0"
  }
 },
 "nbformat": 4,
 "nbformat_minor": 2
}
