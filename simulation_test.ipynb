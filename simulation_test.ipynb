{
 "cells": [
  {
   "cell_type": "code",
   "execution_count": 1,
   "metadata": {},
   "outputs": [],
   "source": [
    "#Simulation Test to verify the units\n",
    "using LinearAlgebra\n",
    "using ForwardDiff\n",
    "using SatelliteDynamics\n",
    "using DifferentialEquations\n",
    "using Plots"
   ]
  },
  {
   "cell_type": "code",
   "execution_count": 2,
   "metadata": {},
   "outputs": [
    {
     "data": {
      "text/plain": [
       "6-element Vector{Float64}:\n",
       " 1.1556799130947355\n",
       " 0.0\n",
       " 0.0\n",
       " 0.0\n",
       " 0.0\n",
       " 0.0"
      ]
     },
     "metadata": {},
     "output_type": "display_data"
    }
   ],
   "source": [
    "#parameters for Earth Moon System\n",
    "μ = 1.215e-2\n",
    "μ1 = 1-μ\n",
    "μ2 = μ\n",
    "\n",
    "#position of mass 1\n",
    "pose_m1 = [-μ, 0, 0]\n",
    "\n",
    "#position of mass 2\n",
    "pose_m2 = [1-μ, 0, 0]\n",
    "\n",
    "#value obtained from 3BP textbook (original)\n",
    "L = 3.850e5 #in km - distance between centers of m1 and m2\n",
    "V_ = 1.025 #in km/s - orbital velocity of m1\n",
    "T_ = 2.361e6 #in seconds - orbital period of m1 and m2\n",
    "time_scale = T_/(2*pi)\n",
    "\n",
    "\n",
    "#working\n",
    "#########################################################################################\n",
    "#updated for time unit to be in days\n",
    "#T_ = 2.361e6/86400 #in days - orbital period of m1 and m2\n",
    "#time_scale = T_/(2*pi)\n",
    "#time unit of days\n",
    "#V_ = L/time_scale\n",
    "#acceleration_scale = L/((time_scale)^2)\n",
    "##########################################################################################\n",
    "\n",
    "#state of the L1 and L2 Lagrange points (computed offline)\n",
    "XL1 = [0.8369180073169304, 0, 0, 0, 0, 0]\n",
    "XL2 = [1.1556799130947355, 0, 0, 0, 0, 0]"
   ]
  },
  {
   "cell_type": "code",
   "execution_count": 3,
   "metadata": {},
   "outputs": [
    {
     "data": {
      "text/plain": [
       "effective_potential (generic function with 1 method)"
      ]
     },
     "metadata": {},
     "output_type": "display_data"
    }
   ],
   "source": [
    "function effective_potential(X)\n",
    "    x = X[1]\n",
    "    y = X[2]\n",
    "    z = X[3]\n",
    "\n",
    "    r1 = sqrt((x+μ2)^2 + y^2 + z^2) \n",
    "    r2 = sqrt((x-μ1)^2 + y^2 + z^2)\n",
    "    #assuming m3 is unit mass\n",
    "   \n",
    "    U = (-μ1/r1)-(μ2/r2)-0.5*(x^2+y^2)\n",
    "   \n",
    "    return U\n",
    "    \n",
    "end"
   ]
  },
  {
   "cell_type": "code",
   "execution_count": 4,
   "metadata": {},
   "outputs": [
    {
     "data": {
      "text/plain": [
       "three_body_prob_dynamics (generic function with 1 method)"
      ]
     },
     "metadata": {},
     "output_type": "display_data"
    }
   ],
   "source": [
    "function three_body_prob_dynamics(x)\n",
    "    \n",
    "    q = zeros(eltype(x),3)\n",
    "    v = zeros(eltype(x),3)\n",
    "    q = x[1:3]\n",
    "    v = x[4:6]\n",
    "\n",
    "    ẋ = zeros(eltype(x),6)\n",
    "    U_q = zeros(eltype(x),3)\n",
    "    \n",
    "    U_q = (ForwardDiff.gradient(_x -> effective_potential(_x), q))\n",
    "        \n",
    "    ẋ[1:3] = v\n",
    "    ẋ[4] = 2*v[2] - U_q[1] \n",
    "    ẋ[5] = -2*v[1] - U_q[2]\n",
    "    ẋ[6] = -U_q[3]\n",
    "\n",
    "    return ẋ\n",
    "end"
   ]
  },
  {
   "cell_type": "code",
   "execution_count": 5,
   "metadata": {},
   "outputs": [
    {
     "data": {
      "text/plain": [
       "three_body_prob_dynamics_wcontrol (generic function with 1 method)"
      ]
     },
     "metadata": {},
     "output_type": "display_data"
    }
   ],
   "source": [
    "#x[1:6] -> state\n",
    "#x[7:9] -> control inputs\n",
    "\n",
    "#coming in with SI units\n",
    "function three_body_prob_dynamics_wcontrol(x)\n",
    "    \n",
    "    q = zeros(eltype(x),3)\n",
    "    v = zeros(eltype(x),3)\n",
    "    q = x[1:3]\n",
    "    v = x[4:6]\n",
    "    u = x[7:9]\n",
    "\n",
    "    ẋ = zeros(eltype(x),9)\n",
    "    \n",
    "    U_q = zeros(eltype(x),3)\n",
    "    \n",
    "    U_q = (ForwardDiff.gradient(_x -> effective_potential(_x), q))\n",
    "        \n",
    "    ẋ[1:3] = v\n",
    "    ẋ[4] = 2*v[2] - U_q[1] + u[1] \n",
    "    ẋ[5] = -2*v[1] - U_q[2] + u[2]\n",
    "    ẋ[6] = -U_q[3] + u[3]\n",
    "    \n",
    "    #zero order hold on the controls \n",
    "    ẋ[7:9] = zeros(3)\n",
    "\n",
    "    return ẋ\n",
    "end"
   ]
  },
  {
   "cell_type": "code",
   "execution_count": 6,
   "metadata": {},
   "outputs": [
    {
     "data": {
      "text/plain": [
       "ST_and_dynamics_DFJL_wcontrol! (generic function with 1 method)"
      ]
     },
     "metadata": {},
     "output_type": "display_data"
    }
   ],
   "source": [
    "#solve using DifferentialEquations.jl\n",
    "function ST_and_dynamics_DFJL_wcontrol!(du, u, p, t)\n",
    "    \n",
    "    #original CR3BP units\n",
    "    #du[1:9] = three_body_prob_dynamics_wcontrol(u[1:9])\n",
    "\n",
    "    #scaled units\n",
    "    du[1:9] = three_body_prob_dynamics_wcontrol(u[1:9])\n",
    "    \n",
    "end"
   ]
  },
  {
   "cell_type": "code",
   "execution_count": 7,
   "metadata": {},
   "outputs": [
    {
     "data": {
      "text/plain": [
       "dynamics_wcontrol_integrate (generic function with 1 method)"
      ]
     },
     "metadata": {},
     "output_type": "display_data"
    }
   ],
   "source": [
    "function dynamics_wcontrol_integrate(x_0,period)\n",
    "    \n",
    "    tspan = (0.0, period)\n",
    "    prob = ODEProblem(ST_and_dynamics_DFJL_wcontrol!, x_0, tspan)\n",
    "    #sol = solve(prob, TsitPap8(), abstol=1e-12, reltol=1e-12)\n",
    "\n",
    "    sol = solve(prob, TsitPap8(), abstol=1e-15, reltol=1e-15)\n",
    "    \n",
    "    return sol\n",
    "    \n",
    "end"
   ]
  },
  {
   "cell_type": "code",
   "execution_count": 8,
   "metadata": {},
   "outputs": [
    {
     "data": {
      "text/plain": [
       "get_state_wcontrol (generic function with 1 method)"
      ]
     },
     "metadata": {},
     "output_type": "display_data"
    }
   ],
   "source": [
    "#gets the state and transition matrix for the entire solution\n",
    "\n",
    "function get_state_wcontrol(solution)\n",
    "    \n",
    "    N = size(solution.u)[1]\n",
    "\n",
    "    all_states = zeros(9, N)\n",
    "\n",
    "    for i=1:N\n",
    "        all_states[:,i] = solution.u[i][1:9]\n",
    "    end\n",
    "    \n",
    "    #all states and all stm are functions of t\n",
    "    #solution.t is the time\n",
    "    return all_states\n",
    "end"
   ]
  },
  {
   "cell_type": "code",
   "execution_count": 9,
   "metadata": {},
   "outputs": [
    {
     "data": {
      "text/plain": [
       "integrate_oneperiod (generic function with 1 method)"
      ]
     },
     "metadata": {},
     "output_type": "display_data"
    }
   ],
   "source": [
    "function integrate_oneperiod(x_0, u)\n",
    "    \n",
    "    #u will be size 40 since we only want to apply the controls for one rev\n",
    "    \n",
    "    #x trajectory not delta x \n",
    "\n",
    "    xtraj = zeros(6, N_period)\n",
    "\n",
    "    xtraj[:,1] = x_0\n",
    "\n",
    "    for i=1:N_period-1\n",
    "        \n",
    "        #integrate the nonlinear dynamics 1 timstep forward\n",
    "        x_0_non = [xtraj[:,i]; u[:,i]]\n",
    "\n",
    "        solution_in = dynamics_wcontrol_integrate(x_0_non, Δt)\n",
    "        #this is the next state\n",
    "        all_state_next = get_state_wcontrol(solution_in)\n",
    "\n",
    "        xtraj[:,i+1] = all_state_next[1:6, end]\n",
    "    end\n",
    "    \n",
    "    #this is size N. 40 for this case\n",
    "    return xtraj\n",
    "        \n",
    "end"
   ]
  },
  {
   "cell_type": "code",
   "execution_count": 10,
   "metadata": {},
   "outputs": [
    {
     "data": {
      "text/plain": [
       "41"
      ]
     },
     "metadata": {},
     "output_type": "display_data"
    }
   ],
   "source": [
    "N_period = 41"
   ]
  },
  {
   "cell_type": "code",
   "execution_count": 21,
   "metadata": {},
   "outputs": [
    {
     "data": {
      "text/plain": [
       "0.08537438526469196"
      ]
     },
     "metadata": {},
     "output_type": "display_data"
    }
   ],
   "source": [
    "#period of 1 orbit in CR3BP units\n",
    "period_1 = 3.414975413662902\n",
    "\n",
    "#in cr3bp units\n",
    "x0 = [1.1201297302380415,\n",
    " 0.0,\n",
    " 0.0059396759100811495,\n",
    " 0.0,\n",
    " 0.17677819141944426,\n",
    " 0.0]\n",
    "\n",
    " x0_perturbation = x0 + [1e-6, 0, 0, 0, 1e-6, 0]\n",
    "\n",
    " #in cr3BP units\n",
    "#Δt = 0.08537438534157255\n",
    "\n",
    "Δt = 0.08537438526469196"
   ]
  },
  {
   "cell_type": "code",
   "execution_count": 22,
   "metadata": {},
   "outputs": [
    {
     "data": {
      "text/plain": [
       "3×4000 Matrix{Float64}:\n",
       " -3.88723e-5   -2.07866e-13  -9.39867e-14  …  -2.01865e-14  -1.53483e-14\n",
       " -3.6627e-5    -1.106e-12    -6.81707e-13     -7.51186e-12  -7.27653e-7\n",
       "  2.61509e-12   2.36832e-14   2.74746e-14      4.87066e-15   1.93032e-12"
      ]
     },
     "metadata": {},
     "output_type": "display_data"
    }
   ],
   "source": [
    "using DelimitedFiles\n",
    "utraj  = readdlm(\"utraj.txt\", ',')"
   ]
  },
  {
   "cell_type": "code",
   "execution_count": null,
   "metadata": {},
   "outputs": [],
   "source": [
    "integrate_oneperiod(x_0)"
   ]
  },
  {
   "cell_type": "code",
   "execution_count": 23,
   "metadata": {},
   "outputs": [
    {
     "data": {
      "text/plain": [
       "integrate_100revs (generic function with 1 method)"
      ]
     },
     "metadata": {},
     "output_type": "display_data"
    }
   ],
   "source": [
    "#utraj will be size [3,4000]\n",
    "\n",
    "function integrate_100revs(x_0, utraj)\n",
    "    \n",
    "    num_revs = 5\n",
    "    all_x = zeros(6, N_period, num_revs)\n",
    "\n",
    "    for i=1:num_revs\n",
    "\n",
    "        all_x[:,:,i] = integrate_oneperiod(x_0, utraj[:,(40)*(i-1)+1:(40)*(i-1)+40])\n",
    "\n",
    "        x_0 = all_x[:,end,i]\n",
    "\n",
    "    end\n",
    "\n",
    "\n",
    "    return all_x\n",
    "\n",
    "end"
   ]
  },
  {
   "cell_type": "code",
   "execution_count": 24,
   "metadata": {},
   "outputs": [
    {
     "data": {
      "text/plain": [
       "3×4000 Matrix{Float64}:\n",
       " -3.88723e-5   -2.07866e-13  -9.39867e-14  …  -2.01865e-14  -1.53483e-14\n",
       " -3.6627e-5    -1.106e-12    -6.81707e-13     -7.51186e-12  -7.27653e-7\n",
       "  2.61509e-12   2.36832e-14   2.74746e-14      4.87066e-15   1.93032e-12"
      ]
     },
     "metadata": {},
     "output_type": "display_data"
    }
   ],
   "source": [
    "utraj"
   ]
  },
  {
   "cell_type": "code",
   "execution_count": 25,
   "metadata": {},
   "outputs": [
    {
     "data": {
      "text/plain": [
       "6×41×5 Array{Float64, 3}:\n",
       "[:, :, 1] =\n",
       " 1.12013      1.12017      1.12036     …   1.11921      1.11889\n",
       " 0.0          0.0150004    0.0294635      -0.0138616    0.00133896\n",
       " 0.00593968   0.0058125    0.00544061      0.00579859   0.0059101\n",
       " 0.0          0.00114152   0.00345887     -0.00397269  -0.00371617\n",
       " 0.176778     0.173564     0.164314        0.175843     0.179168\n",
       " 0.0         -0.00295996  -0.00569881  …   0.00280601  -0.000213836\n",
       "\n",
       "[:, :, 2] =\n",
       "  1.11889       1.11857      1.1183      …   1.05331      1.02746\n",
       "  0.00133896    0.0165442    0.0312068      -0.0105762    0.0227232\n",
       "  0.0059101     0.00576205   0.0053644       0.00211408   0.00270116\n",
       " -0.00371617   -0.00358716  -0.00237195     -0.193949    -0.447676\n",
       "  0.179168      0.175951     0.166586        0.374785     0.367625\n",
       " -0.000213836  -0.00323442  -0.00602624  …   0.0134219   -0.00331708\n",
       "\n",
       "[:, :, 3] =\n",
       "  1.02746      0.977087      0.93417     …  -0.180248    -0.263441\n",
       "  0.0227232    0.0380816     0.0169579       0.4679       0.438837\n",
       "  0.00270116   0.000950845  -0.00212068     -0.00505014  -0.00567868\n",
       " -0.447676    -0.637353     -0.36174        -1.00451     -0.940329\n",
       "  0.367625    -0.0802246    -0.328713       -0.288776    -0.388464\n",
       " -0.00331708  -0.0355581    -0.0318029   …  -0.00915036  -0.0055345\n",
       "\n",
       "[:, :, 4] =\n",
       " -0.263441    -0.340253    -0.409444    …   0.421181     0.477818\n",
       "  0.438837     0.402269     0.360403       -0.312156    -0.260784\n",
       " -0.00567868  -0.00599325  -0.00600093     -0.00571031  -0.00525573\n",
       " -0.940329    -0.856664    -0.763405        0.712864     0.614943\n",
       " -0.388464    -0.463805    -0.512581        0.592948     0.606693\n",
       " -0.0055345   -0.00184989   0.00161385  …   0.00382419   0.00673093\n",
       "\n",
       "[:, :, 5] =\n",
       "  0.477818     0.526421     0.567833   …  -0.497345    -0.506406\n",
       " -0.260784    -0.209134    -0.15868       -0.38124     -0.433155\n",
       " -0.00525573  -0.00457754  -0.0037251      0.00462649   0.0055702\n",
       "  0.614943     0.525332     0.446731      -0.113503    -0.100124\n",
       "  0.606693     0.600397     0.579558      -0.667401    -0.551243\n",
       "  0.00673093   0.00905941   0.0108183  …   0.0118855    0.0102229"
      ]
     },
     "metadata": {},
     "output_type": "display_data"
    }
   ],
   "source": [
    "all_x = integrate_100revs(x0, utraj)"
   ]
  },
  {
   "cell_type": "code",
   "execution_count": 26,
   "metadata": {},
   "outputs": [
    {
     "data": {
      "text/plain": [
       "6-element Vector{Float64}:\n",
       "  1.1188855314430894\n",
       "  0.0013389608668452659\n",
       "  0.005910102970894425\n",
       " -0.003716170660690934\n",
       "  0.1791681818712128\n",
       " -0.00021383642265228298"
      ]
     },
     "metadata": {},
     "output_type": "display_data"
    }
   ],
   "source": [
    "all_x[:,41,1]"
   ]
  },
  {
   "cell_type": "code",
   "execution_count": 27,
   "metadata": {},
   "outputs": [
    {
     "data": {
      "text/plain": [
       "6×41×5 Array{Float64, 3}:\n",
       "[:, :, 1] =\n",
       " 1.12013      1.12017      1.12036     …   1.11921      1.11889\n",
       " 0.0          0.0150004    0.0294635      -0.0138616    0.00133896\n",
       " 0.00593968   0.0058125    0.00544061      0.00579859   0.0059101\n",
       " 0.0          0.00114152   0.00345887     -0.00397269  -0.00371617\n",
       " 0.176778     0.173564     0.164314        0.175843     0.179168\n",
       " 0.0         -0.00295996  -0.00569881  …   0.00280601  -0.000213836\n",
       "\n",
       "[:, :, 2] =\n",
       "  1.11889       1.11857      1.1183      …   1.05331      1.02746\n",
       "  0.00133896    0.0165442    0.0312068      -0.0105762    0.0227232\n",
       "  0.0059101     0.00576205   0.0053644       0.00211408   0.00270116\n",
       " -0.00371617   -0.00358716  -0.00237195     -0.193949    -0.447676\n",
       "  0.179168      0.175951     0.166586        0.374785     0.367625\n",
       " -0.000213836  -0.00323442  -0.00602624  …   0.0134219   -0.00331708\n",
       "\n",
       "[:, :, 3] =\n",
       "  1.02746      0.977087      0.93417     …  -0.180248    -0.263441\n",
       "  0.0227232    0.0380816     0.0169579       0.4679       0.438837\n",
       "  0.00270116   0.000950845  -0.00212068     -0.00505014  -0.00567868\n",
       " -0.447676    -0.637353     -0.36174        -1.00451     -0.940329\n",
       "  0.367625    -0.0802246    -0.328713       -0.288776    -0.388464\n",
       " -0.00331708  -0.0355581    -0.0318029   …  -0.00915036  -0.0055345\n",
       "\n",
       "[:, :, 4] =\n",
       " -0.263441    -0.340253    -0.409444    …   0.421181     0.477818\n",
       "  0.438837     0.402269     0.360403       -0.312156    -0.260784\n",
       " -0.00567868  -0.00599325  -0.00600093     -0.00571031  -0.00525573\n",
       " -0.940329    -0.856664    -0.763405        0.712864     0.614943\n",
       " -0.388464    -0.463805    -0.512581        0.592948     0.606693\n",
       " -0.0055345   -0.00184989   0.00161385  …   0.00382419   0.00673093\n",
       "\n",
       "[:, :, 5] =\n",
       "  0.477818     0.526421     0.567833   …  -0.497345    -0.506406\n",
       " -0.260784    -0.209134    -0.15868       -0.38124     -0.433155\n",
       " -0.00525573  -0.00457754  -0.0037251      0.00462649   0.0055702\n",
       "  0.614943     0.525332     0.446731      -0.113503    -0.100124\n",
       "  0.606693     0.600397     0.579558      -0.667401    -0.551243\n",
       "  0.00673093   0.00905941   0.0108183  …   0.0118855    0.0102229"
      ]
     },
     "metadata": {},
     "output_type": "display_data"
    }
   ],
   "source": [
    "all_x "
   ]
  },
  {
   "cell_type": "code",
   "execution_count": 28,
   "metadata": {},
   "outputs": [
    {
     "data": {
      "image/png": "[encoded data removed]",
      "image/svg+xml": [
       "<?xml version=\"1.0\" encoding=\"utf-8\"?>\n",
       "<svg xmlns=\"http://www.w3.org/2000/svg\" xmlns:xlink=\"http://www.w3.org/1999/xlink\" width=\"600\" height=\"400\" viewBox=\"0 0 2400 1600\">\n",
       "<defs>\n",
       "  <clipPath id=\"clip220\">\n",
       "    <rect x=\"0\" y=\"0\" width=\"2400\" height=\"1600\"/>\n",
       "  </clipPath>\n",
       "</defs>\n",
       "<path clip-path=\"url(#clip220)\" d=\"M0 1600 L2400 1600 L2400 0 L0 0  Z\" fill=\"#ffffff\" fill-rule=\"evenodd\" fill-opacity=\"1\"/>\n",
       "<defs>\n",
       "  <clipPath id=\"clip221\">\n",
       "    <rect x=\"480\" y=\"0\" width=\"1681\" height=\"1600\"/>\n",
       "  </clipPath>\n",
       "</defs>\n",
       "<defs>\n",
       "  <clipPath id=\"clip222\">\n",
       "    <rect x=\"254\" y=\"47\" width=\"2099\" height=\"1440\"/>\n",
       "  </clipPath>\n",
       "</defs>\n",
       "<path clip-path=\"url(#clip222)\" d=\"M-23379.3 5044.54 L-23379.3 -2072.89 L-17348.9 -5631.6 L-6903.95 -3576.98 L-6903.95 3540.45 L-12934.3 7099.16 L-23379.3 5044.54  Z\" fill=\"#ffffff\" fill-rule=\"evenodd\" fill-opacity=\"1\"/>\n",
       "<polyline clip-path=\"url(#clip222)\" style=\"stroke:#000000; stroke-linecap:round; stroke-linejoin:round; stroke-width:2; stroke-opacity:0.1; fill:none\" points=\"808.412,1223.52 1223.87,863.721 1223.87,144.119 \"/>\n",
       "<polyline clip-path=\"url(#clip222)\" style=\"stroke:#000000; stroke-linecap:round; stroke-linejoin:round; stroke-width:2; stroke-opacity:0.1; fill:none\" points=\"938.974,1261.21 1354.44,901.411 1354.44,181.809 \"/>\n",
       "<polyline clip-path=\"url(#clip222)\" style=\"stroke:#000000; stroke-linecap:round; stroke-linejoin:round; stroke-width:2; stroke-opacity:0.1; fill:none\" points=\"1069.54,1298.9 1485,939.101 1485,219.499 \"/>\n",
       "<polyline clip-path=\"url(#clip222)\" style=\"stroke:#000000; stroke-linecap:round; stroke-linejoin:round; stroke-width:2; stroke-opacity:0.1; fill:none\" points=\"1200.1,1336.59 1615.56,976.791 1615.56,257.189 \"/>\n",
       "<polyline clip-path=\"url(#clip222)\" style=\"stroke:#000000; stroke-linecap:round; stroke-linejoin:round; stroke-width:2; stroke-opacity:0.1; fill:none\" points=\"1330.66,1374.28 1746.12,1014.48 1746.12,294.879 \"/>\n",
       "<polyline clip-path=\"url(#clip220)\" style=\"stroke:#000000; stroke-linecap:round; stroke-linejoin:round; stroke-width:4; stroke-opacity:1; fill:none\" points=\"736.219,1202.68 1455.82,1410.41 \"/>\n",
       "<polyline clip-path=\"url(#clip220)\" style=\"stroke:#000000; stroke-linecap:round; stroke-linejoin:round; stroke-width:4; stroke-opacity:1; fill:none\" points=\"808.412,1223.52 813.397,1219.2 \"/>\n",
       "<polyline clip-path=\"url(#clip220)\" style=\"stroke:#000000; stroke-linecap:round; stroke-linejoin:round; stroke-width:4; stroke-opacity:1; fill:none\" points=\"938.974,1261.21 943.959,1256.89 \"/>\n",
       "<polyline clip-path=\"url(#clip220)\" style=\"stroke:#000000; stroke-linecap:round; stroke-linejoin:round; stroke-width:4; stroke-opacity:1; fill:none\" points=\"1069.54,1298.9 1074.52,1294.58 \"/>\n",
       "<polyline clip-path=\"url(#clip220)\" style=\"stroke:#000000; stroke-linecap:round; stroke-linejoin:round; stroke-width:4; stroke-opacity:1; fill:none\" points=\"1200.1,1336.59 1205.08,1332.27 \"/>\n",
       "<polyline clip-path=\"url(#clip220)\" style=\"stroke:#000000; stroke-linecap:round; stroke-linejoin:round; stroke-width:4; stroke-opacity:1; fill:none\" points=\"1330.66,1374.28 1335.64,1369.96 \"/>\n",
       "<path clip-path=\"url(#clip220)\" d=\"M677.159 1265.13 L684.798 1265.13 L684.798 1238.76 L676.488 1240.43 L676.488 1236.17 L684.752 1234.5 L689.428 1234.5 L689.428 1265.13 L697.067 1265.13 L697.067 1269.06 L677.159 1269.06 L677.159 1265.13 Z\" fill=\"#000000\" fill-rule=\"nonzero\" fill-opacity=\"1\" /><path clip-path=\"url(#clip220)\" d=\"M706.511 1263.18 L711.395 1263.18 L711.395 1269.06 L706.511 1269.06 L706.511 1263.18 Z\" fill=\"#000000\" fill-rule=\"nonzero\" fill-opacity=\"1\" /><path clip-path=\"url(#clip220)\" d=\"M731.58 1237.58 Q727.969 1237.58 726.141 1241.14 Q724.335 1244.69 724.335 1251.82 Q724.335 1258.92 726.141 1262.49 Q727.969 1266.03 731.58 1266.03 Q735.215 1266.03 737.02 1262.49 Q738.849 1258.92 738.849 1251.82 Q738.849 1244.69 737.02 1241.14 Q735.215 1237.58 731.58 1237.58 M731.58 1233.88 Q737.391 1233.88 740.446 1238.48 Q743.525 1243.07 743.525 1251.82 Q743.525 1260.54 740.446 1265.15 Q737.391 1269.73 731.58 1269.73 Q725.77 1269.73 722.692 1265.15 Q719.636 1260.54 719.636 1251.82 Q719.636 1243.07 722.692 1238.48 Q725.77 1233.88 731.58 1233.88 Z\" fill=\"#000000\" fill-rule=\"nonzero\" fill-opacity=\"1\" /><path clip-path=\"url(#clip220)\" d=\"M755.77 1265.13 L772.089 1265.13 L772.089 1269.06 L750.145 1269.06 L750.145 1265.13 Q752.807 1262.37 757.39 1257.74 Q761.997 1253.09 763.177 1251.75 Q765.423 1249.22 766.302 1247.49 Q767.205 1245.73 767.205 1244.04 Q767.205 1241.28 765.261 1239.55 Q763.339 1237.81 760.238 1237.81 Q758.039 1237.81 755.585 1238.57 Q753.154 1239.34 750.377 1240.89 L750.377 1236.17 Q753.201 1235.03 755.654 1234.45 Q758.108 1233.88 760.145 1233.88 Q765.515 1233.88 768.71 1236.56 Q771.904 1239.25 771.904 1243.74 Q771.904 1245.87 771.094 1247.79 Q770.307 1249.69 768.201 1252.28 Q767.622 1252.95 764.52 1256.17 Q761.418 1259.36 755.77 1265.13 Z\" fill=\"#000000\" fill-rule=\"nonzero\" fill-opacity=\"1\" /><path clip-path=\"url(#clip220)\" d=\"M781.951 1234.5 L800.307 1234.5 L800.307 1238.44 L786.233 1238.44 L786.233 1246.91 Q787.251 1246.56 788.27 1246.4 Q789.288 1246.21 790.307 1246.21 Q796.094 1246.21 799.474 1249.38 Q802.853 1252.56 802.853 1257.97 Q802.853 1263.55 799.381 1266.65 Q795.909 1269.73 789.589 1269.73 Q787.413 1269.73 785.145 1269.36 Q782.9 1268.99 780.492 1268.25 L780.492 1263.55 Q782.576 1264.69 784.798 1265.24 Q787.02 1265.8 789.497 1265.8 Q793.501 1265.8 795.839 1263.69 Q798.177 1261.58 798.177 1257.97 Q798.177 1254.36 795.839 1252.26 Q793.501 1250.15 789.497 1250.15 Q787.622 1250.15 785.747 1250.57 Q783.895 1250.98 781.951 1251.86 L781.951 1234.5 Z\" fill=\"#000000\" fill-rule=\"nonzero\" fill-opacity=\"1\" /><path clip-path=\"url(#clip220)\" d=\"M806.726 1302.82 L814.365 1302.82 L814.365 1276.45 L806.054 1278.12 L806.054 1273.86 L814.318 1272.19 L818.994 1272.19 L818.994 1302.82 L826.633 1302.82 L826.633 1306.75 L806.726 1306.75 L806.726 1302.82 Z\" fill=\"#000000\" fill-rule=\"nonzero\" fill-opacity=\"1\" /><path clip-path=\"url(#clip220)\" d=\"M836.077 1300.87 L840.962 1300.87 L840.962 1306.75 L836.077 1306.75 L836.077 1300.87 Z\" fill=\"#000000\" fill-rule=\"nonzero\" fill-opacity=\"1\" /><path clip-path=\"url(#clip220)\" d=\"M861.147 1275.27 Q857.536 1275.27 855.707 1278.83 Q853.901 1282.38 853.901 1289.51 Q853.901 1296.61 855.707 1300.18 Q857.536 1303.72 861.147 1303.72 Q864.781 1303.72 866.586 1300.18 Q868.415 1296.61 868.415 1289.51 Q868.415 1282.38 866.586 1278.83 Q864.781 1275.27 861.147 1275.27 M861.147 1271.57 Q866.957 1271.57 870.012 1276.17 Q873.091 1280.76 873.091 1289.51 Q873.091 1298.23 870.012 1302.84 Q866.957 1307.42 861.147 1307.42 Q855.337 1307.42 852.258 1302.84 Q849.202 1298.23 849.202 1289.51 Q849.202 1280.76 852.258 1276.17 Q855.337 1271.57 861.147 1271.57 Z\" fill=\"#000000\" fill-rule=\"nonzero\" fill-opacity=\"1\" /><path clip-path=\"url(#clip220)\" d=\"M881.355 1272.19 L899.711 1272.19 L899.711 1276.13 L885.637 1276.13 L885.637 1284.6 Q886.656 1284.25 887.674 1284.09 Q888.693 1283.9 889.711 1283.9 Q895.498 1283.9 898.878 1287.07 Q902.258 1290.25 902.258 1295.66 Q902.258 1301.24 898.785 1304.34 Q895.313 1307.42 888.994 1307.42 Q886.818 1307.42 884.549 1307.05 Q882.304 1306.68 879.897 1305.94 L879.897 1301.24 Q881.98 1302.38 884.202 1302.93 Q886.424 1303.49 888.901 1303.49 Q892.906 1303.49 895.244 1301.38 Q897.582 1299.27 897.582 1295.66 Q897.582 1292.05 895.244 1289.95 Q892.906 1287.84 888.901 1287.84 Q887.026 1287.84 885.151 1288.26 Q883.299 1288.67 881.355 1289.55 L881.355 1272.19 Z\" fill=\"#000000\" fill-rule=\"nonzero\" fill-opacity=\"1\" /><path clip-path=\"url(#clip220)\" d=\"M921.47 1275.27 Q917.859 1275.27 916.031 1278.83 Q914.225 1282.38 914.225 1289.51 Q914.225 1296.61 916.031 1300.18 Q917.859 1303.72 921.47 1303.72 Q925.105 1303.72 926.91 1300.18 Q928.739 1296.61 928.739 1289.51 Q928.739 1282.38 926.91 1278.83 Q925.105 1275.27 921.47 1275.27 M921.47 1271.57 Q927.281 1271.57 930.336 1276.17 Q933.415 1280.76 933.415 1289.51 Q933.415 1298.23 930.336 1302.84 Q927.281 1307.42 921.47 1307.42 Q915.66 1307.42 912.582 1302.84 Q909.526 1298.23 909.526 1289.51 Q909.526 1280.76 912.582 1276.17 Q915.66 1271.57 921.47 1271.57 Z\" fill=\"#000000\" fill-rule=\"nonzero\" fill-opacity=\"1\" /><path clip-path=\"url(#clip220)\" d=\"M938.283 1340.51 L945.922 1340.51 L945.922 1314.14 L937.611 1315.81 L937.611 1311.55 L945.875 1309.88 L950.551 1309.88 L950.551 1340.51 L958.19 1340.51 L958.19 1344.44 L938.283 1344.44 L938.283 1340.51 Z\" fill=\"#000000\" fill-rule=\"nonzero\" fill-opacity=\"1\" /><path clip-path=\"url(#clip220)\" d=\"M967.634 1338.56 L972.519 1338.56 L972.519 1344.44 L967.634 1344.44 L967.634 1338.56 Z\" fill=\"#000000\" fill-rule=\"nonzero\" fill-opacity=\"1\" /><path clip-path=\"url(#clip220)\" d=\"M992.704 1312.96 Q989.093 1312.96 987.264 1316.52 Q985.458 1320.07 985.458 1327.2 Q985.458 1334.3 987.264 1337.87 Q989.093 1341.41 992.704 1341.41 Q996.338 1341.41 998.144 1337.87 Q999.972 1334.3 999.972 1327.2 Q999.972 1320.07 998.144 1316.52 Q996.338 1312.96 992.704 1312.96 M992.704 1309.26 Q998.514 1309.26 1001.57 1313.86 Q1004.65 1318.45 1004.65 1327.2 Q1004.65 1335.92 1001.57 1340.53 Q998.514 1345.11 992.704 1345.11 Q986.894 1345.11 983.815 1340.53 Q980.759 1335.92 980.759 1327.2 Q980.759 1318.45 983.815 1313.86 Q986.894 1309.26 992.704 1309.26 Z\" fill=\"#000000\" fill-rule=\"nonzero\" fill-opacity=\"1\" /><path clip-path=\"url(#clip220)\" d=\"M1011.69 1309.88 L1033.91 1309.88 L1033.91 1311.87 L1021.36 1344.44 L1016.48 1344.44 L1028.28 1313.82 L1011.69 1313.82 L1011.69 1309.88 Z\" fill=\"#000000\" fill-rule=\"nonzero\" fill-opacity=\"1\" /><path clip-path=\"url(#clip220)\" d=\"M1043.07 1309.88 L1061.43 1309.88 L1061.43 1313.82 L1047.36 1313.82 L1047.36 1322.29 Q1048.37 1321.94 1049.39 1321.78 Q1050.41 1321.59 1051.43 1321.59 Q1057.22 1321.59 1060.6 1324.76 Q1063.98 1327.94 1063.98 1333.35 Q1063.98 1338.93 1060.5 1342.03 Q1057.03 1345.11 1050.71 1345.11 Q1048.54 1345.11 1046.27 1344.74 Q1044.02 1344.37 1041.62 1343.63 L1041.62 1338.93 Q1043.7 1340.07 1045.92 1340.62 Q1048.14 1341.18 1050.62 1341.18 Q1054.62 1341.18 1056.96 1339.07 Q1059.3 1336.96 1059.3 1333.35 Q1059.3 1329.74 1056.96 1327.63 Q1054.62 1325.53 1050.62 1325.53 Q1048.75 1325.53 1046.87 1325.95 Q1045.02 1326.36 1043.07 1327.24 L1043.07 1309.88 Z\" fill=\"#000000\" fill-rule=\"nonzero\" fill-opacity=\"1\" /><path clip-path=\"url(#clip220)\" d=\"M1067.85 1378.2 L1075.49 1378.2 L1075.49 1351.83 L1067.18 1353.5 L1067.18 1349.24 L1075.44 1347.57 L1080.12 1347.57 L1080.12 1378.2 L1087.76 1378.2 L1087.76 1382.13 L1067.85 1382.13 L1067.85 1378.2 Z\" fill=\"#000000\" fill-rule=\"nonzero\" fill-opacity=\"1\" /><path clip-path=\"url(#clip220)\" d=\"M1097.2 1376.25 L1102.08 1376.25 L1102.08 1382.13 L1097.2 1382.13 L1097.2 1376.25 Z\" fill=\"#000000\" fill-rule=\"nonzero\" fill-opacity=\"1\" /><path clip-path=\"url(#clip220)\" d=\"M1113.08 1378.2 L1120.72 1378.2 L1120.72 1351.83 L1112.41 1353.5 L1112.41 1349.24 L1120.67 1347.57 L1125.35 1347.57 L1125.35 1378.2 L1132.99 1378.2 L1132.99 1382.13 L1113.08 1382.13 L1113.08 1378.2 Z\" fill=\"#000000\" fill-rule=\"nonzero\" fill-opacity=\"1\" /><path clip-path=\"url(#clip220)\" d=\"M1152.43 1350.65 Q1148.82 1350.65 1146.99 1354.21 Q1145.19 1357.76 1145.19 1364.89 Q1145.19 1371.99 1146.99 1375.56 Q1148.82 1379.1 1152.43 1379.1 Q1156.07 1379.1 1157.87 1375.56 Q1159.7 1371.99 1159.7 1364.89 Q1159.7 1357.76 1157.87 1354.21 Q1156.07 1350.65 1152.43 1350.65 M1152.43 1346.95 Q1158.24 1346.95 1161.3 1351.55 Q1164.38 1356.14 1164.38 1364.89 Q1164.38 1373.61 1161.3 1378.22 Q1158.24 1382.8 1152.43 1382.8 Q1146.62 1382.8 1143.54 1378.22 Q1140.49 1373.61 1140.49 1364.89 Q1140.49 1356.14 1143.54 1351.55 Q1146.62 1346.95 1152.43 1346.95 Z\" fill=\"#000000\" fill-rule=\"nonzero\" fill-opacity=\"1\" /><path clip-path=\"url(#clip220)\" d=\"M1182.59 1350.65 Q1178.98 1350.65 1177.15 1354.21 Q1175.35 1357.76 1175.35 1364.89 Q1175.35 1371.99 1177.15 1375.56 Q1178.98 1379.1 1182.59 1379.1 Q1186.23 1379.1 1188.03 1375.56 Q1189.86 1371.99 1189.86 1364.89 Q1189.86 1357.76 1188.03 1354.21 Q1186.23 1350.65 1182.59 1350.65 M1182.59 1346.95 Q1188.4 1346.95 1191.46 1351.55 Q1194.54 1356.14 1194.54 1364.89 Q1194.54 1373.61 1191.46 1378.22 Q1188.4 1382.8 1182.59 1382.8 Q1176.78 1382.8 1173.7 1378.22 Q1170.65 1373.61 1170.65 1364.89 Q1170.65 1356.14 1173.7 1351.55 Q1176.78 1346.95 1182.59 1346.95 Z\" fill=\"#000000\" fill-rule=\"nonzero\" fill-opacity=\"1\" /><path clip-path=\"url(#clip220)\" d=\"M1199.41 1415.89 L1207.04 1415.89 L1207.04 1389.52 L1198.73 1391.19 L1198.73 1386.93 L1207 1385.26 L1211.67 1385.26 L1211.67 1415.89 L1219.31 1415.89 L1219.31 1419.82 L1199.41 1419.82 L1199.41 1415.89 Z\" fill=\"#000000\" fill-rule=\"nonzero\" fill-opacity=\"1\" /><path clip-path=\"url(#clip220)\" d=\"M1228.76 1413.94 L1233.64 1413.94 L1233.64 1419.82 L1228.76 1419.82 L1228.76 1413.94 Z\" fill=\"#000000\" fill-rule=\"nonzero\" fill-opacity=\"1\" /><path clip-path=\"url(#clip220)\" d=\"M1244.64 1415.89 L1252.28 1415.89 L1252.28 1389.52 L1243.97 1391.19 L1243.97 1386.93 L1252.23 1385.26 L1256.91 1385.26 L1256.91 1415.89 L1264.54 1415.89 L1264.54 1419.82 L1244.64 1419.82 L1244.64 1415.89 Z\" fill=\"#000000\" fill-rule=\"nonzero\" fill-opacity=\"1\" /><path clip-path=\"url(#clip220)\" d=\"M1278.02 1415.89 L1294.34 1415.89 L1294.34 1419.82 L1272.39 1419.82 L1272.39 1415.89 Q1275.05 1413.13 1279.64 1408.5 Q1284.24 1403.85 1285.42 1402.51 Q1287.67 1399.98 1288.55 1398.25 Q1289.45 1396.49 1289.45 1394.8 Q1289.45 1392.04 1287.51 1390.31 Q1285.59 1388.57 1282.48 1388.57 Q1280.29 1388.57 1277.83 1389.33 Q1275.4 1390.1 1272.62 1391.65 L1272.62 1386.93 Q1275.45 1385.79 1277.9 1385.21 Q1280.35 1384.64 1282.39 1384.64 Q1287.76 1384.64 1290.96 1387.32 Q1294.15 1390.01 1294.15 1394.5 Q1294.15 1396.63 1293.34 1398.55 Q1292.55 1400.45 1290.45 1403.04 Q1289.87 1403.71 1286.77 1406.93 Q1283.66 1410.12 1278.02 1415.89 Z\" fill=\"#000000\" fill-rule=\"nonzero\" fill-opacity=\"1\" /><path clip-path=\"url(#clip220)\" d=\"M1304.2 1385.26 L1322.55 1385.26 L1322.55 1389.2 L1308.48 1389.2 L1308.48 1397.67 Q1309.5 1397.32 1310.52 1397.16 Q1311.54 1396.97 1312.55 1396.97 Q1318.34 1396.97 1321.72 1400.14 Q1325.1 1403.32 1325.1 1408.73 Q1325.1 1414.31 1321.63 1417.41 Q1318.16 1420.49 1311.84 1420.49 Q1309.66 1420.49 1307.39 1420.12 Q1305.15 1419.75 1302.74 1419.01 L1302.74 1414.31 Q1304.82 1415.45 1307.04 1416 Q1309.27 1416.56 1311.74 1416.56 Q1315.75 1416.56 1318.09 1414.45 Q1320.42 1412.34 1320.42 1408.73 Q1320.42 1405.12 1318.09 1403.01 Q1315.75 1400.91 1311.74 1400.91 Q1309.87 1400.91 1307.99 1401.32 Q1306.14 1401.74 1304.2 1402.62 L1304.2 1385.26 Z\" fill=\"#000000\" fill-rule=\"nonzero\" fill-opacity=\"1\" /><polyline clip-path=\"url(#clip222)\" style=\"stroke:#000000; stroke-linecap:round; stroke-linejoin:round; stroke-width:2; stroke-opacity:0.1; fill:none\" points=\"1467.63,1400.18 748.033,1192.45 748.033,472.848 \"/>\n",
       "<polyline clip-path=\"url(#clip222)\" style=\"stroke:#000000; stroke-linecap:round; stroke-linejoin:round; stroke-width:2; stroke-opacity:0.1; fill:none\" points=\"1570.37,1311.21 850.764,1103.48 850.764,383.881 \"/>\n",
       "<polyline clip-path=\"url(#clip222)\" style=\"stroke:#000000; stroke-linecap:round; stroke-linejoin:round; stroke-width:2; stroke-opacity:0.1; fill:none\" points=\"1673.1,1222.25 953.495,1014.51 953.495,294.913 \"/>\n",
       "<polyline clip-path=\"url(#clip222)\" style=\"stroke:#000000; stroke-linecap:round; stroke-linejoin:round; stroke-width:2; stroke-opacity:0.1; fill:none\" points=\"1775.83,1133.28 1056.23,925.547 1056.23,205.945 \"/>\n",
       "<polyline clip-path=\"url(#clip220)\" style=\"stroke:#000000; stroke-linecap:round; stroke-linejoin:round; stroke-width:4; stroke-opacity:1; fill:none\" points=\"1455.82,1410.41 1871.28,1050.61 \"/>\n",
       "<polyline clip-path=\"url(#clip220)\" style=\"stroke:#000000; stroke-linecap:round; stroke-linejoin:round; stroke-width:4; stroke-opacity:1; fill:none\" points=\"1467.63,1400.18 1459,1397.69 \"/>\n",
       "<polyline clip-path=\"url(#clip220)\" style=\"stroke:#000000; stroke-linecap:round; stroke-linejoin:round; stroke-width:4; stroke-opacity:1; fill:none\" points=\"1570.37,1311.21 1561.73,1308.72 \"/>\n",
       "<polyline clip-path=\"url(#clip220)\" style=\"stroke:#000000; stroke-linecap:round; stroke-linejoin:round; stroke-width:4; stroke-opacity:1; fill:none\" points=\"1673.1,1222.25 1664.46,1219.75 \"/>\n",
       "<polyline clip-path=\"url(#clip220)\" style=\"stroke:#000000; stroke-linecap:round; stroke-linejoin:round; stroke-width:4; stroke-opacity:1; fill:none\" points=\"1775.83,1133.28 1767.19,1130.79 \"/>\n",
       "<path clip-path=\"url(#clip220)\" d=\"M1482.27 1425.44 L1511.95 1425.44 L1511.95 1429.37 L1482.27 1429.37 L1482.27 1425.44 Z\" fill=\"#000000\" fill-rule=\"nonzero\" fill-opacity=\"1\" /><path clip-path=\"url(#clip220)\" d=\"M1532.04 1410.78 Q1528.43 1410.78 1526.6 1414.35 Q1524.79 1417.89 1524.79 1425.02 Q1524.79 1432.13 1526.6 1435.69 Q1528.43 1439.23 1532.04 1439.23 Q1535.67 1439.23 1537.48 1435.69 Q1539.31 1432.13 1539.31 1425.02 Q1539.31 1417.89 1537.48 1414.35 Q1535.67 1410.78 1532.04 1410.78 M1532.04 1407.08 Q1537.85 1407.08 1540.91 1411.69 Q1543.98 1416.27 1543.98 1425.02 Q1543.98 1433.75 1540.91 1438.35 Q1537.85 1442.94 1532.04 1442.94 Q1526.23 1442.94 1523.15 1438.35 Q1520.1 1433.75 1520.1 1425.02 Q1520.1 1416.27 1523.15 1411.69 Q1526.23 1407.08 1532.04 1407.08 Z\" fill=\"#000000\" fill-rule=\"nonzero\" fill-opacity=\"1\" /><path clip-path=\"url(#clip220)\" d=\"M1552.2 1436.39 L1557.09 1436.39 L1557.09 1442.26 L1552.2 1442.26 L1552.2 1436.39 Z\" fill=\"#000000\" fill-rule=\"nonzero\" fill-opacity=\"1\" /><path clip-path=\"url(#clip220)\" d=\"M1568.08 1438.33 L1575.72 1438.33 L1575.72 1411.96 L1567.41 1413.63 L1567.41 1409.37 L1575.67 1407.7 L1580.35 1407.7 L1580.35 1438.33 L1587.99 1438.33 L1587.99 1442.26 L1568.08 1442.26 L1568.08 1438.33 Z\" fill=\"#000000\" fill-rule=\"nonzero\" fill-opacity=\"1\" /><path clip-path=\"url(#clip220)\" d=\"M1607.43 1410.78 Q1603.82 1410.78 1601.99 1414.35 Q1600.19 1417.89 1600.19 1425.02 Q1600.19 1432.13 1601.99 1435.69 Q1603.82 1439.23 1607.43 1439.23 Q1611.07 1439.23 1612.87 1435.69 Q1614.7 1432.13 1614.7 1425.02 Q1614.7 1417.89 1612.87 1414.35 Q1611.07 1410.78 1607.43 1410.78 M1607.43 1407.08 Q1613.24 1407.08 1616.3 1411.69 Q1619.38 1416.27 1619.38 1425.02 Q1619.38 1433.75 1616.3 1438.35 Q1613.24 1442.94 1607.43 1442.94 Q1601.62 1442.94 1598.54 1438.35 Q1595.49 1433.75 1595.49 1425.02 Q1595.49 1416.27 1598.54 1411.69 Q1601.62 1407.08 1607.43 1407.08 Z\" fill=\"#000000\" fill-rule=\"nonzero\" fill-opacity=\"1\" /><path clip-path=\"url(#clip220)\" d=\"M1585 1336.47 L1614.68 1336.47 L1614.68 1340.4 L1585 1340.4 L1585 1336.47 Z\" fill=\"#000000\" fill-rule=\"nonzero\" fill-opacity=\"1\" /><path clip-path=\"url(#clip220)\" d=\"M1634.77 1321.82 Q1631.16 1321.82 1629.33 1325.38 Q1627.53 1328.92 1627.53 1336.05 Q1627.53 1343.16 1629.33 1346.72 Q1631.16 1350.26 1634.77 1350.26 Q1638.41 1350.26 1640.21 1346.72 Q1642.04 1343.16 1642.04 1336.05 Q1642.04 1328.92 1640.21 1325.38 Q1638.41 1321.82 1634.77 1321.82 M1634.77 1318.11 Q1640.58 1318.11 1643.64 1322.72 Q1646.72 1327.3 1646.72 1336.05 Q1646.72 1344.78 1643.64 1349.38 Q1640.58 1353.97 1634.77 1353.97 Q1628.96 1353.97 1625.88 1349.38 Q1622.83 1344.78 1622.83 1336.05 Q1622.83 1327.3 1625.88 1322.72 Q1628.96 1318.11 1634.77 1318.11 Z\" fill=\"#000000\" fill-rule=\"nonzero\" fill-opacity=\"1\" /><path clip-path=\"url(#clip220)\" d=\"M1654.93 1347.42 L1659.82 1347.42 L1659.82 1353.3 L1654.93 1353.3 L1654.93 1347.42 Z\" fill=\"#000000\" fill-rule=\"nonzero\" fill-opacity=\"1\" /><path clip-path=\"url(#clip220)\" d=\"M1680 1321.82 Q1676.39 1321.82 1674.56 1325.38 Q1672.76 1328.92 1672.76 1336.05 Q1672.76 1343.16 1674.56 1346.72 Q1676.39 1350.26 1680 1350.26 Q1683.64 1350.26 1685.44 1346.72 Q1687.27 1343.16 1687.27 1336.05 Q1687.27 1328.92 1685.44 1325.38 Q1683.64 1321.82 1680 1321.82 M1680 1318.11 Q1685.81 1318.11 1688.87 1322.72 Q1691.95 1327.3 1691.95 1336.05 Q1691.95 1344.78 1688.87 1349.38 Q1685.81 1353.97 1680 1353.97 Q1674.19 1353.97 1671.11 1349.38 Q1668.06 1344.78 1668.06 1336.05 Q1668.06 1327.3 1671.11 1322.72 Q1674.19 1318.11 1680 1318.11 Z\" fill=\"#000000\" fill-rule=\"nonzero\" fill-opacity=\"1\" /><path clip-path=\"url(#clip220)\" d=\"M1700.21 1318.74 L1718.57 1318.74 L1718.57 1322.67 L1704.49 1322.67 L1704.49 1331.14 Q1705.51 1330.8 1706.53 1330.63 Q1707.55 1330.45 1708.57 1330.45 Q1714.35 1330.45 1717.73 1333.62 Q1721.11 1336.79 1721.11 1342.21 Q1721.11 1347.79 1717.64 1350.89 Q1714.17 1353.97 1707.85 1353.97 Q1705.67 1353.97 1703.41 1353.6 Q1701.16 1353.23 1698.75 1352.49 L1698.75 1347.79 Q1700.84 1348.92 1703.06 1349.48 Q1705.28 1350.03 1707.76 1350.03 Q1711.76 1350.03 1714.1 1347.93 Q1716.44 1345.82 1716.44 1342.21 Q1716.44 1338.6 1714.1 1336.49 Q1711.76 1334.38 1707.76 1334.38 Q1705.88 1334.38 1704.01 1334.8 Q1702.16 1335.22 1700.21 1336.1 L1700.21 1318.74 Z\" fill=\"#000000\" fill-rule=\"nonzero\" fill-opacity=\"1\" /><path clip-path=\"url(#clip220)\" d=\"M1699.68 1232.85 Q1696.07 1232.85 1694.24 1236.41 Q1692.43 1239.95 1692.43 1247.08 Q1692.43 1254.19 1694.24 1257.76 Q1696.07 1261.3 1699.68 1261.3 Q1703.31 1261.3 1705.12 1257.76 Q1706.95 1254.19 1706.95 1247.08 Q1706.95 1239.95 1705.12 1236.41 Q1703.31 1232.85 1699.68 1232.85 M1699.68 1229.14 Q1705.49 1229.14 1708.54 1233.75 Q1711.62 1238.33 1711.62 1247.08 Q1711.62 1255.81 1708.54 1260.42 Q1705.49 1265 1699.68 1265 Q1693.87 1265 1690.79 1260.42 Q1687.73 1255.81 1687.73 1247.08 Q1687.73 1238.33 1690.79 1233.75 Q1693.87 1229.14 1699.68 1229.14 Z\" fill=\"#000000\" fill-rule=\"nonzero\" fill-opacity=\"1\" /><path clip-path=\"url(#clip220)\" d=\"M1719.84 1258.45 L1724.72 1258.45 L1724.72 1264.33 L1719.84 1264.33 L1719.84 1258.45 Z\" fill=\"#000000\" fill-rule=\"nonzero\" fill-opacity=\"1\" /><path clip-path=\"url(#clip220)\" d=\"M1744.91 1232.85 Q1741.3 1232.85 1739.47 1236.41 Q1737.66 1239.95 1737.66 1247.08 Q1737.66 1254.19 1739.47 1257.76 Q1741.3 1261.3 1744.91 1261.3 Q1748.54 1261.3 1750.35 1257.76 Q1752.18 1254.19 1752.18 1247.08 Q1752.18 1239.95 1750.35 1236.41 Q1748.54 1232.85 1744.91 1232.85 M1744.91 1229.14 Q1750.72 1229.14 1753.78 1233.75 Q1756.85 1238.33 1756.85 1247.08 Q1756.85 1255.81 1753.78 1260.42 Q1750.72 1265 1744.91 1265 Q1739.1 1265 1736.02 1260.42 Q1732.97 1255.81 1732.97 1247.08 Q1732.97 1238.33 1736.02 1233.75 Q1739.1 1229.14 1744.91 1229.14 Z\" fill=\"#000000\" fill-rule=\"nonzero\" fill-opacity=\"1\" /><path clip-path=\"url(#clip220)\" d=\"M1775.07 1232.85 Q1771.46 1232.85 1769.63 1236.41 Q1767.83 1239.95 1767.83 1247.08 Q1767.83 1254.19 1769.63 1257.76 Q1771.46 1261.3 1775.07 1261.3 Q1778.71 1261.3 1780.51 1257.76 Q1782.34 1254.19 1782.34 1247.08 Q1782.34 1239.95 1780.51 1236.41 Q1778.71 1232.85 1775.07 1232.85 M1775.07 1229.14 Q1780.88 1229.14 1783.94 1233.75 Q1787.02 1238.33 1787.02 1247.08 Q1787.02 1255.81 1783.94 1260.42 Q1780.88 1265 1775.07 1265 Q1769.26 1265 1766.18 1260.42 Q1763.13 1255.81 1763.13 1247.08 Q1763.13 1238.33 1766.18 1233.75 Q1769.26 1229.14 1775.07 1229.14 Z\" fill=\"#000000\" fill-rule=\"nonzero\" fill-opacity=\"1\" /><path clip-path=\"url(#clip220)\" d=\"M1802.41 1143.88 Q1798.8 1143.88 1796.97 1147.44 Q1795.16 1150.99 1795.16 1158.12 Q1795.16 1165.22 1796.97 1168.79 Q1798.8 1172.33 1802.41 1172.33 Q1806.04 1172.33 1807.85 1168.79 Q1809.68 1165.22 1809.68 1158.12 Q1809.68 1150.99 1807.85 1147.44 Q1806.04 1143.88 1802.41 1143.88 M1802.41 1140.18 Q1808.22 1140.18 1811.28 1144.78 Q1814.35 1149.37 1814.35 1158.12 Q1814.35 1166.84 1811.28 1171.45 Q1808.22 1176.03 1802.41 1176.03 Q1796.6 1176.03 1793.52 1171.45 Q1790.47 1166.84 1790.47 1158.12 Q1790.47 1149.37 1793.52 1144.78 Q1796.6 1140.18 1802.41 1140.18 Z\" fill=\"#000000\" fill-rule=\"nonzero\" fill-opacity=\"1\" /><path clip-path=\"url(#clip220)\" d=\"M1822.57 1169.48 L1827.46 1169.48 L1827.46 1175.36 L1822.57 1175.36 L1822.57 1169.48 Z\" fill=\"#000000\" fill-rule=\"nonzero\" fill-opacity=\"1\" /><path clip-path=\"url(#clip220)\" d=\"M1847.64 1143.88 Q1844.03 1143.88 1842.2 1147.44 Q1840.4 1150.99 1840.4 1158.12 Q1840.4 1165.22 1842.2 1168.79 Q1844.03 1172.33 1847.64 1172.33 Q1851.28 1172.33 1853.08 1168.79 Q1854.91 1165.22 1854.91 1158.12 Q1854.91 1150.99 1853.08 1147.44 Q1851.28 1143.88 1847.64 1143.88 M1847.64 1140.18 Q1853.45 1140.18 1856.51 1144.78 Q1859.59 1149.37 1859.59 1158.12 Q1859.59 1166.84 1856.51 1171.45 Q1853.45 1176.03 1847.64 1176.03 Q1841.83 1176.03 1838.75 1171.45 Q1835.7 1166.84 1835.7 1158.12 Q1835.7 1149.37 1838.75 1144.78 Q1841.83 1140.18 1847.64 1140.18 Z\" fill=\"#000000\" fill-rule=\"nonzero\" fill-opacity=\"1\" /><path clip-path=\"url(#clip220)\" d=\"M1867.85 1140.8 L1886.21 1140.8 L1886.21 1144.74 L1872.13 1144.74 L1872.13 1153.21 Q1873.15 1152.86 1874.17 1152.7 Q1875.19 1152.51 1876.21 1152.51 Q1881.99 1152.51 1885.37 1155.69 Q1888.75 1158.86 1888.75 1164.27 Q1888.75 1169.85 1885.28 1172.95 Q1881.81 1176.03 1875.49 1176.03 Q1873.31 1176.03 1871.04 1175.66 Q1868.8 1175.29 1866.39 1174.55 L1866.39 1169.85 Q1868.47 1170.99 1870.7 1171.54 Q1872.92 1172.1 1875.4 1172.1 Q1879.4 1172.1 1881.74 1169.99 Q1884.08 1167.88 1884.08 1164.27 Q1884.08 1160.66 1881.74 1158.56 Q1879.4 1156.45 1875.4 1156.45 Q1873.52 1156.45 1871.65 1156.87 Q1869.79 1157.28 1867.85 1158.16 L1867.85 1140.8 Z\" fill=\"#000000\" fill-rule=\"nonzero\" fill-opacity=\"1\" /><polyline clip-path=\"url(#clip222)\" style=\"stroke:#000000; stroke-linecap:round; stroke-linejoin:round; stroke-width:2; stroke-opacity:0.1; fill:none\" points=\"736.219,1106.4 1151.68,746.595 1871.28,954.327 \"/>\n",
       "<polyline clip-path=\"url(#clip222)\" style=\"stroke:#000000; stroke-linecap:round; stroke-linejoin:round; stroke-width:2; stroke-opacity:0.1; fill:none\" points=\"736.219,1005.15 1151.68,645.345 1871.28,853.076 \"/>\n",
       "<polyline clip-path=\"url(#clip222)\" style=\"stroke:#000000; stroke-linecap:round; stroke-linejoin:round; stroke-width:2; stroke-opacity:0.1; fill:none\" points=\"736.219,903.896 1151.68,544.095 1871.28,751.826 \"/>\n",
       "<polyline clip-path=\"url(#clip222)\" style=\"stroke:#000000; stroke-linecap:round; stroke-linejoin:round; stroke-width:2; stroke-opacity:0.1; fill:none\" points=\"736.219,802.646 1151.68,442.845 1871.28,650.576 \"/>\n",
       "<polyline clip-path=\"url(#clip222)\" style=\"stroke:#000000; stroke-linecap:round; stroke-linejoin:round; stroke-width:2; stroke-opacity:0.1; fill:none\" points=\"736.219,701.395 1151.68,341.594 1871.28,549.326 \"/>\n",
       "<polyline clip-path=\"url(#clip222)\" style=\"stroke:#000000; stroke-linecap:round; stroke-linejoin:round; stroke-width:2; stroke-opacity:0.1; fill:none\" points=\"736.219,600.145 1151.68,240.344 1871.28,448.075 \"/>\n",
       "<polyline clip-path=\"url(#clip222)\" style=\"stroke:#000000; stroke-linecap:round; stroke-linejoin:round; stroke-width:2; stroke-opacity:0.1; fill:none\" points=\"736.219,498.895 1151.68,139.094 1871.28,346.825 \"/>\n",
       "<polyline clip-path=\"url(#clip220)\" style=\"stroke:#000000; stroke-linecap:round; stroke-linejoin:round; stroke-width:4; stroke-opacity:1; fill:none\" points=\"736.219,1202.68 736.219,483.08 \"/>\n",
       "<polyline clip-path=\"url(#clip220)\" style=\"stroke:#000000; stroke-linecap:round; stroke-linejoin:round; stroke-width:4; stroke-opacity:1; fill:none\" points=\"736.219,1106.4 741.204,1102.08 \"/>\n",
       "<polyline clip-path=\"url(#clip220)\" style=\"stroke:#000000; stroke-linecap:round; stroke-linejoin:round; stroke-width:4; stroke-opacity:1; fill:none\" points=\"736.219,1005.15 741.204,1000.83 \"/>\n",
       "<polyline clip-path=\"url(#clip220)\" style=\"stroke:#000000; stroke-linecap:round; stroke-linejoin:round; stroke-width:4; stroke-opacity:1; fill:none\" points=\"736.219,903.896 741.204,899.578 \"/>\n",
       "<polyline clip-path=\"url(#clip220)\" style=\"stroke:#000000; stroke-linecap:round; stroke-linejoin:round; stroke-width:4; stroke-opacity:1; fill:none\" points=\"736.219,802.646 741.204,798.328 \"/>\n",
       "<polyline clip-path=\"url(#clip220)\" style=\"stroke:#000000; stroke-linecap:round; stroke-linejoin:round; stroke-width:4; stroke-opacity:1; fill:none\" points=\"736.219,701.395 741.204,697.078 \"/>\n",
       "<polyline clip-path=\"url(#clip220)\" style=\"stroke:#000000; stroke-linecap:round; stroke-linejoin:round; stroke-width:4; stroke-opacity:1; fill:none\" points=\"736.219,600.145 741.204,595.828 \"/>\n",
       "<polyline clip-path=\"url(#clip220)\" style=\"stroke:#000000; stroke-linecap:round; stroke-linejoin:round; stroke-width:4; stroke-opacity:1; fill:none\" points=\"736.219,498.895 741.204,494.577 \"/>\n",
       "<path clip-path=\"url(#clip220)\" d=\"M539.989 1106.85 L569.665 1106.85 L569.665 1110.78 L539.989 1110.78 L539.989 1106.85 Z\" fill=\"#000000\" fill-rule=\"nonzero\" fill-opacity=\"1\" /><path clip-path=\"url(#clip220)\" d=\"M589.757 1092.2 Q586.146 1092.2 584.318 1095.76 Q582.512 1099.3 582.512 1106.43 Q582.512 1113.54 584.318 1117.1 Q586.146 1120.64 589.757 1120.64 Q593.392 1120.64 595.197 1117.1 Q597.026 1113.54 597.026 1106.43 Q597.026 1099.3 595.197 1095.76 Q593.392 1092.2 589.757 1092.2 M589.757 1088.49 Q595.568 1088.49 598.623 1093.1 Q601.702 1097.68 601.702 1106.43 Q601.702 1115.16 598.623 1119.76 Q595.568 1124.35 589.757 1124.35 Q583.947 1124.35 580.869 1119.76 Q577.813 1115.16 577.813 1106.43 Q577.813 1097.68 580.869 1093.1 Q583.947 1088.49 589.757 1088.49 Z\" fill=\"#000000\" fill-rule=\"nonzero\" fill-opacity=\"1\" /><path clip-path=\"url(#clip220)\" d=\"M609.919 1117.8 L614.804 1117.8 L614.804 1123.68 L609.919 1123.68 L609.919 1117.8 Z\" fill=\"#000000\" fill-rule=\"nonzero\" fill-opacity=\"1\" /><path clip-path=\"url(#clip220)\" d=\"M634.989 1092.2 Q631.378 1092.2 629.549 1095.76 Q627.743 1099.3 627.743 1106.43 Q627.743 1113.54 629.549 1117.1 Q631.378 1120.64 634.989 1120.64 Q638.623 1120.64 640.428 1117.1 Q642.257 1113.54 642.257 1106.43 Q642.257 1099.3 640.428 1095.76 Q638.623 1092.2 634.989 1092.2 M634.989 1088.49 Q640.799 1088.49 643.854 1093.1 Q646.933 1097.68 646.933 1106.43 Q646.933 1115.16 643.854 1119.76 Q640.799 1124.35 634.989 1124.35 Q629.178 1124.35 626.1 1119.76 Q623.044 1115.16 623.044 1106.43 Q623.044 1097.68 626.1 1093.1 Q629.178 1088.49 634.989 1088.49 Z\" fill=\"#000000\" fill-rule=\"nonzero\" fill-opacity=\"1\" /><path clip-path=\"url(#clip220)\" d=\"M665.15 1092.2 Q661.539 1092.2 659.711 1095.76 Q657.905 1099.3 657.905 1106.43 Q657.905 1113.54 659.711 1117.1 Q661.539 1120.64 665.15 1120.64 Q668.785 1120.64 670.59 1117.1 Q672.419 1113.54 672.419 1106.43 Q672.419 1099.3 670.59 1095.76 Q668.785 1092.2 665.15 1092.2 M665.15 1088.49 Q670.961 1088.49 674.016 1093.1 Q677.095 1097.68 677.095 1106.43 Q677.095 1115.16 674.016 1119.76 Q670.961 1124.35 665.15 1124.35 Q659.34 1124.35 656.262 1119.76 Q653.206 1115.16 653.206 1106.43 Q653.206 1097.68 656.262 1093.1 Q659.34 1088.49 665.15 1088.49 Z\" fill=\"#000000\" fill-rule=\"nonzero\" fill-opacity=\"1\" /><path clip-path=\"url(#clip220)\" d=\"M695.891 1104.53 Q692.743 1104.53 690.891 1106.69 Q689.062 1108.84 689.062 1112.59 Q689.062 1116.32 690.891 1118.49 Q692.743 1120.64 695.891 1120.64 Q699.039 1120.64 700.868 1118.49 Q702.72 1116.32 702.72 1112.59 Q702.72 1108.84 700.868 1106.69 Q699.039 1104.53 695.891 1104.53 M705.173 1089.88 L705.173 1094.14 Q703.414 1093.31 701.609 1092.87 Q699.826 1092.43 698.067 1092.43 Q693.437 1092.43 690.984 1095.55 Q688.553 1098.68 688.206 1105 Q689.572 1102.98 691.632 1101.92 Q693.692 1100.83 696.169 1100.83 Q701.377 1100.83 704.386 1104 Q707.419 1107.15 707.419 1112.59 Q707.419 1117.91 704.271 1121.13 Q701.123 1124.35 695.891 1124.35 Q689.896 1124.35 686.724 1119.76 Q683.553 1115.16 683.553 1106.43 Q683.553 1098.24 687.442 1093.38 Q691.331 1088.49 697.882 1088.49 Q699.641 1088.49 701.423 1088.84 Q703.229 1089.19 705.173 1089.88 Z\" fill=\"#000000\" fill-rule=\"nonzero\" fill-opacity=\"1\" /><path clip-path=\"url(#clip220)\" d=\"M539.665 1005.6 L569.341 1005.6 L569.341 1009.53 L539.665 1009.53 L539.665 1005.6 Z\" fill=\"#000000\" fill-rule=\"nonzero\" fill-opacity=\"1\" /><path clip-path=\"url(#clip220)\" d=\"M589.433 990.945 Q585.822 990.945 583.993 994.51 Q582.188 998.051 582.188 1005.18 Q582.188 1012.29 583.993 1015.85 Q585.822 1019.39 589.433 1019.39 Q593.068 1019.39 594.873 1015.85 Q596.702 1012.29 596.702 1005.18 Q596.702 998.051 594.873 994.51 Q593.068 990.945 589.433 990.945 M589.433 987.241 Q595.243 987.241 598.299 991.848 Q601.378 996.431 601.378 1005.18 Q601.378 1013.91 598.299 1018.51 Q595.243 1023.1 589.433 1023.1 Q583.623 1023.1 580.544 1018.51 Q577.489 1013.91 577.489 1005.18 Q577.489 996.431 580.544 991.848 Q583.623 987.241 589.433 987.241 Z\" fill=\"#000000\" fill-rule=\"nonzero\" fill-opacity=\"1\" /><path clip-path=\"url(#clip220)\" d=\"M609.595 1016.55 L614.479 1016.55 L614.479 1022.43 L609.595 1022.43 L609.595 1016.55 Z\" fill=\"#000000\" fill-rule=\"nonzero\" fill-opacity=\"1\" /><path clip-path=\"url(#clip220)\" d=\"M634.665 990.945 Q631.053 990.945 629.225 994.51 Q627.419 998.051 627.419 1005.18 Q627.419 1012.29 629.225 1015.85 Q631.053 1019.39 634.665 1019.39 Q638.299 1019.39 640.104 1015.85 Q641.933 1012.29 641.933 1005.18 Q641.933 998.051 640.104 994.51 Q638.299 990.945 634.665 990.945 M634.665 987.241 Q640.475 987.241 643.53 991.848 Q646.609 996.431 646.609 1005.18 Q646.609 1013.91 643.53 1018.51 Q640.475 1023.1 634.665 1023.1 Q628.854 1023.1 625.776 1018.51 Q622.72 1013.91 622.72 1005.18 Q622.72 996.431 625.776 991.848 Q628.854 987.241 634.665 987.241 Z\" fill=\"#000000\" fill-rule=\"nonzero\" fill-opacity=\"1\" /><path clip-path=\"url(#clip220)\" d=\"M664.826 990.945 Q661.215 990.945 659.387 994.51 Q657.581 998.051 657.581 1005.18 Q657.581 1012.29 659.387 1015.85 Q661.215 1019.39 664.826 1019.39 Q668.461 1019.39 670.266 1015.85 Q672.095 1012.29 672.095 1005.18 Q672.095 998.051 670.266 994.51 Q668.461 990.945 664.826 990.945 M664.826 987.241 Q670.637 987.241 673.692 991.848 Q676.771 996.431 676.771 1005.18 Q676.771 1013.91 673.692 1018.51 Q670.637 1023.1 664.826 1023.1 Q659.016 1023.1 655.938 1018.51 Q652.882 1013.91 652.882 1005.18 Q652.882 996.431 655.938 991.848 Q659.016 987.241 664.826 987.241 Z\" fill=\"#000000\" fill-rule=\"nonzero\" fill-opacity=\"1\" /><path clip-path=\"url(#clip220)\" d=\"M697.835 991.94 L686.03 1010.39 L697.835 1010.39 L697.835 991.94 M696.609 987.866 L702.488 987.866 L702.488 1010.39 L707.419 1010.39 L707.419 1014.28 L702.488 1014.28 L702.488 1022.43 L697.835 1022.43 L697.835 1014.28 L682.234 1014.28 L682.234 1009.76 L696.609 987.866 Z\" fill=\"#000000\" fill-rule=\"nonzero\" fill-opacity=\"1\" /><path clip-path=\"url(#clip220)\" d=\"M541.748 904.347 L571.424 904.347 L571.424 908.282 L541.748 908.282 L541.748 904.347 Z\" fill=\"#000000\" fill-rule=\"nonzero\" fill-opacity=\"1\" /><path clip-path=\"url(#clip220)\" d=\"M591.517 889.695 Q587.906 889.695 586.077 893.259 Q584.271 896.801 584.271 903.931 Q584.271 911.037 586.077 914.602 Q587.906 918.144 591.517 918.144 Q595.151 918.144 596.956 914.602 Q598.785 911.037 598.785 903.931 Q598.785 896.801 596.956 893.259 Q595.151 889.695 591.517 889.695 M591.517 885.991 Q597.327 885.991 600.382 890.597 Q603.461 895.181 603.461 903.931 Q603.461 912.657 600.382 917.264 Q597.327 921.847 591.517 921.847 Q585.706 921.847 582.628 917.264 Q579.572 912.657 579.572 903.931 Q579.572 895.181 582.628 890.597 Q585.706 885.991 591.517 885.991 Z\" fill=\"#000000\" fill-rule=\"nonzero\" fill-opacity=\"1\" /><path clip-path=\"url(#clip220)\" d=\"M611.679 915.296 L616.563 915.296 L616.563 921.176 L611.679 921.176 L611.679 915.296 Z\" fill=\"#000000\" fill-rule=\"nonzero\" fill-opacity=\"1\" /><path clip-path=\"url(#clip220)\" d=\"M636.748 889.695 Q633.137 889.695 631.308 893.259 Q629.503 896.801 629.503 903.931 Q629.503 911.037 631.308 914.602 Q633.137 918.144 636.748 918.144 Q640.382 918.144 642.188 914.602 Q644.016 911.037 644.016 903.931 Q644.016 896.801 642.188 893.259 Q640.382 889.695 636.748 889.695 M636.748 885.991 Q642.558 885.991 645.614 890.597 Q648.692 895.181 648.692 903.931 Q648.692 912.657 645.614 917.264 Q642.558 921.847 636.748 921.847 Q630.938 921.847 627.859 917.264 Q624.803 912.657 624.803 903.931 Q624.803 895.181 627.859 890.597 Q630.938 885.991 636.748 885.991 Z\" fill=\"#000000\" fill-rule=\"nonzero\" fill-opacity=\"1\" /><path clip-path=\"url(#clip220)\" d=\"M666.91 889.695 Q663.299 889.695 661.47 893.259 Q659.664 896.801 659.664 903.931 Q659.664 911.037 661.47 914.602 Q663.299 918.144 666.91 918.144 Q670.544 918.144 672.35 914.602 Q674.178 911.037 674.178 903.931 Q674.178 896.801 672.35 893.259 Q670.544 889.695 666.91 889.695 M666.91 885.991 Q672.72 885.991 675.775 890.597 Q678.854 895.181 678.854 903.931 Q678.854 912.657 675.775 917.264 Q672.72 921.847 666.91 921.847 Q661.1 921.847 658.021 917.264 Q654.965 912.657 654.965 903.931 Q654.965 895.181 658.021 890.597 Q661.1 885.991 666.91 885.991 Z\" fill=\"#000000\" fill-rule=\"nonzero\" fill-opacity=\"1\" /><path clip-path=\"url(#clip220)\" d=\"M691.099 917.241 L707.419 917.241 L707.419 921.176 L685.474 921.176 L685.474 917.241 Q688.136 914.486 692.72 909.857 Q697.326 905.204 698.507 903.861 Q700.752 901.338 701.632 899.602 Q702.535 897.843 702.535 896.153 Q702.535 893.398 700.59 891.662 Q698.669 889.926 695.567 889.926 Q693.368 889.926 690.914 890.69 Q688.484 891.454 685.706 893.005 L685.706 888.283 Q688.53 887.148 690.984 886.57 Q693.437 885.991 695.474 885.991 Q700.845 885.991 704.039 888.676 Q707.234 891.361 707.234 895.852 Q707.234 897.982 706.423 899.903 Q705.636 901.801 703.53 904.394 Q702.951 905.065 699.849 908.282 Q696.748 911.477 691.099 917.241 Z\" fill=\"#000000\" fill-rule=\"nonzero\" fill-opacity=\"1\" /><path clip-path=\"url(#clip220)\" d=\"M589.919 788.444 Q586.308 788.444 584.48 792.009 Q582.674 795.551 582.674 802.68 Q582.674 809.787 584.48 813.352 Q586.308 816.893 589.919 816.893 Q593.554 816.893 595.359 813.352 Q597.188 809.787 597.188 802.68 Q597.188 795.551 595.359 792.009 Q593.554 788.444 589.919 788.444 M589.919 784.741 Q595.73 784.741 598.785 789.347 Q601.864 793.93 601.864 802.68 Q601.864 811.407 598.785 816.014 Q595.73 820.597 589.919 820.597 Q584.109 820.597 581.031 816.014 Q577.975 811.407 577.975 802.68 Q577.975 793.93 581.031 789.347 Q584.109 784.741 589.919 784.741 Z\" fill=\"#000000\" fill-rule=\"nonzero\" fill-opacity=\"1\" /><path clip-path=\"url(#clip220)\" d=\"M610.081 814.046 L614.966 814.046 L614.966 819.926 L610.081 819.926 L610.081 814.046 Z\" fill=\"#000000\" fill-rule=\"nonzero\" fill-opacity=\"1\" /><path clip-path=\"url(#clip220)\" d=\"M635.151 788.444 Q631.54 788.444 629.711 792.009 Q627.905 795.551 627.905 802.68 Q627.905 809.787 629.711 813.352 Q631.54 816.893 635.151 816.893 Q638.785 816.893 640.59 813.352 Q642.419 809.787 642.419 802.68 Q642.419 795.551 640.59 792.009 Q638.785 788.444 635.151 788.444 M635.151 784.741 Q640.961 784.741 644.016 789.347 Q647.095 793.93 647.095 802.68 Q647.095 811.407 644.016 816.014 Q640.961 820.597 635.151 820.597 Q629.34 820.597 626.262 816.014 Q623.206 811.407 623.206 802.68 Q623.206 793.93 626.262 789.347 Q629.34 784.741 635.151 784.741 Z\" fill=\"#000000\" fill-rule=\"nonzero\" fill-opacity=\"1\" /><path clip-path=\"url(#clip220)\" d=\"M665.313 788.444 Q661.701 788.444 659.873 792.009 Q658.067 795.551 658.067 802.68 Q658.067 809.787 659.873 813.352 Q661.701 816.893 665.313 816.893 Q668.947 816.893 670.752 813.352 Q672.581 809.787 672.581 802.68 Q672.581 795.551 670.752 792.009 Q668.947 788.444 665.313 788.444 M665.313 784.741 Q671.123 784.741 674.178 789.347 Q677.257 793.93 677.257 802.68 Q677.257 811.407 674.178 816.014 Q671.123 820.597 665.313 820.597 Q659.502 820.597 656.424 816.014 Q653.368 811.407 653.368 802.68 Q653.368 793.93 656.424 789.347 Q659.502 784.741 665.313 784.741 Z\" fill=\"#000000\" fill-rule=\"nonzero\" fill-opacity=\"1\" /><path clip-path=\"url(#clip220)\" d=\"M695.474 788.444 Q691.863 788.444 690.035 792.009 Q688.229 795.551 688.229 802.68 Q688.229 809.787 690.035 813.352 Q691.863 816.893 695.474 816.893 Q699.109 816.893 700.914 813.352 Q702.743 809.787 702.743 802.68 Q702.743 795.551 700.914 792.009 Q699.109 788.444 695.474 788.444 M695.474 784.741 Q701.285 784.741 704.34 789.347 Q707.419 793.93 707.419 802.68 Q707.419 811.407 704.34 816.014 Q701.285 820.597 695.474 820.597 Q689.664 820.597 686.586 816.014 Q683.53 811.407 683.53 802.68 Q683.53 793.93 686.586 789.347 Q689.664 784.741 695.474 784.741 Z\" fill=\"#000000\" fill-rule=\"nonzero\" fill-opacity=\"1\" /><path clip-path=\"url(#clip220)\" d=\"M591.517 687.194 Q587.906 687.194 586.077 690.759 Q584.271 694.301 584.271 701.43 Q584.271 708.537 586.077 712.101 Q587.906 715.643 591.517 715.643 Q595.151 715.643 596.956 712.101 Q598.785 708.537 598.785 701.43 Q598.785 694.301 596.956 690.759 Q595.151 687.194 591.517 687.194 M591.517 683.49 Q597.327 683.49 600.382 688.097 Q603.461 692.68 603.461 701.43 Q603.461 710.157 600.382 714.763 Q597.327 719.347 591.517 719.347 Q585.706 719.347 582.628 714.763 Q579.572 710.157 579.572 701.43 Q579.572 692.68 582.628 688.097 Q585.706 683.49 591.517 683.49 Z\" fill=\"#000000\" fill-rule=\"nonzero\" fill-opacity=\"1\" /><path clip-path=\"url(#clip220)\" d=\"M611.679 712.796 L616.563 712.796 L616.563 718.675 L611.679 718.675 L611.679 712.796 Z\" fill=\"#000000\" fill-rule=\"nonzero\" fill-opacity=\"1\" /><path clip-path=\"url(#clip220)\" d=\"M636.748 687.194 Q633.137 687.194 631.308 690.759 Q629.503 694.301 629.503 701.43 Q629.503 708.537 631.308 712.101 Q633.137 715.643 636.748 715.643 Q640.382 715.643 642.188 712.101 Q644.016 708.537 644.016 701.43 Q644.016 694.301 642.188 690.759 Q640.382 687.194 636.748 687.194 M636.748 683.49 Q642.558 683.49 645.614 688.097 Q648.692 692.68 648.692 701.43 Q648.692 710.157 645.614 714.763 Q642.558 719.347 636.748 719.347 Q630.938 719.347 627.859 714.763 Q624.803 710.157 624.803 701.43 Q624.803 692.68 627.859 688.097 Q630.938 683.49 636.748 683.49 Z\" fill=\"#000000\" fill-rule=\"nonzero\" fill-opacity=\"1\" /><path clip-path=\"url(#clip220)\" d=\"M666.91 687.194 Q663.299 687.194 661.47 690.759 Q659.664 694.301 659.664 701.43 Q659.664 708.537 661.47 712.101 Q663.299 715.643 666.91 715.643 Q670.544 715.643 672.35 712.101 Q674.178 708.537 674.178 701.43 Q674.178 694.301 672.35 690.759 Q670.544 687.194 666.91 687.194 M666.91 683.49 Q672.72 683.49 675.775 688.097 Q678.854 692.68 678.854 701.43 Q678.854 710.157 675.775 714.763 Q672.72 719.347 666.91 719.347 Q661.1 719.347 658.021 714.763 Q654.965 710.157 654.965 701.43 Q654.965 692.68 658.021 688.097 Q661.1 683.49 666.91 683.49 Z\" fill=\"#000000\" fill-rule=\"nonzero\" fill-opacity=\"1\" /><path clip-path=\"url(#clip220)\" d=\"M691.099 714.74 L707.419 714.74 L707.419 718.675 L685.474 718.675 L685.474 714.74 Q688.136 711.986 692.72 707.356 Q697.326 702.703 698.507 701.361 Q700.752 698.838 701.632 697.101 Q702.535 695.342 702.535 693.652 Q702.535 690.898 700.59 689.162 Q698.669 687.426 695.567 687.426 Q693.368 687.426 690.914 688.189 Q688.484 688.953 685.706 690.504 L685.706 685.782 Q688.53 684.648 690.984 684.069 Q693.437 683.49 695.474 683.49 Q700.845 683.49 704.039 686.176 Q707.234 688.861 707.234 693.351 Q707.234 695.481 706.423 697.402 Q705.636 699.301 703.53 701.893 Q702.951 702.564 699.849 705.782 Q696.748 708.976 691.099 714.74 Z\" fill=\"#000000\" fill-rule=\"nonzero\" fill-opacity=\"1\" /><path clip-path=\"url(#clip220)\" d=\"M589.433 585.944 Q585.822 585.944 583.993 589.509 Q582.188 593.05 582.188 600.18 Q582.188 607.286 583.993 610.851 Q585.822 614.393 589.433 614.393 Q593.068 614.393 594.873 610.851 Q596.702 607.286 596.702 600.18 Q596.702 593.05 594.873 589.509 Q593.068 585.944 589.433 585.944 M589.433 582.24 Q595.243 582.24 598.299 586.847 Q601.378 591.43 601.378 600.18 Q601.378 608.907 598.299 613.513 Q595.243 618.096 589.433 618.096 Q583.623 618.096 580.544 613.513 Q577.489 608.907 577.489 600.18 Q577.489 591.43 580.544 586.847 Q583.623 582.24 589.433 582.24 Z\" fill=\"#000000\" fill-rule=\"nonzero\" fill-opacity=\"1\" /><path clip-path=\"url(#clip220)\" d=\"M609.595 611.546 L614.479 611.546 L614.479 617.425 L609.595 617.425 L609.595 611.546 Z\" fill=\"#000000\" fill-rule=\"nonzero\" fill-opacity=\"1\" /><path clip-path=\"url(#clip220)\" d=\"M634.665 585.944 Q631.053 585.944 629.225 589.509 Q627.419 593.05 627.419 600.18 Q627.419 607.286 629.225 610.851 Q631.053 614.393 634.665 614.393 Q638.299 614.393 640.104 610.851 Q641.933 607.286 641.933 600.18 Q641.933 593.05 640.104 589.509 Q638.299 585.944 634.665 585.944 M634.665 582.24 Q640.475 582.24 643.53 586.847 Q646.609 591.43 646.609 600.18 Q646.609 608.907 643.53 613.513 Q640.475 618.096 634.665 618.096 Q628.854 618.096 625.776 613.513 Q622.72 608.907 622.72 600.18 Q622.72 591.43 625.776 586.847 Q628.854 582.24 634.665 582.24 Z\" fill=\"#000000\" fill-rule=\"nonzero\" fill-opacity=\"1\" /><path clip-path=\"url(#clip220)\" d=\"M664.826 585.944 Q661.215 585.944 659.387 589.509 Q657.581 593.05 657.581 600.18 Q657.581 607.286 659.387 610.851 Q661.215 614.393 664.826 614.393 Q668.461 614.393 670.266 610.851 Q672.095 607.286 672.095 600.18 Q672.095 593.05 670.266 589.509 Q668.461 585.944 664.826 585.944 M664.826 582.24 Q670.637 582.24 673.692 586.847 Q676.771 591.43 676.771 600.18 Q676.771 608.907 673.692 613.513 Q670.637 618.096 664.826 618.096 Q659.016 618.096 655.938 613.513 Q652.882 608.907 652.882 600.18 Q652.882 591.43 655.938 586.847 Q659.016 582.24 664.826 582.24 Z\" fill=\"#000000\" fill-rule=\"nonzero\" fill-opacity=\"1\" /><path clip-path=\"url(#clip220)\" d=\"M697.835 586.939 L686.03 605.388 L697.835 605.388 L697.835 586.939 M696.609 582.865 L702.488 582.865 L702.488 605.388 L707.419 605.388 L707.419 609.277 L702.488 609.277 L702.488 617.425 L697.835 617.425 L697.835 609.277 L682.234 609.277 L682.234 604.763 L696.609 582.865 Z\" fill=\"#000000\" fill-rule=\"nonzero\" fill-opacity=\"1\" /><path clip-path=\"url(#clip220)\" d=\"M589.757 484.694 Q586.146 484.694 584.318 488.258 Q582.512 491.8 582.512 498.93 Q582.512 506.036 584.318 509.601 Q586.146 513.143 589.757 513.143 Q593.392 513.143 595.197 509.601 Q597.026 506.036 597.026 498.93 Q597.026 491.8 595.197 488.258 Q593.392 484.694 589.757 484.694 M589.757 480.99 Q595.568 480.99 598.623 485.596 Q601.702 490.18 601.702 498.93 Q601.702 507.656 598.623 512.263 Q595.568 516.846 589.757 516.846 Q583.947 516.846 580.869 512.263 Q577.813 507.656 577.813 498.93 Q577.813 490.18 580.869 485.596 Q583.947 480.99 589.757 480.99 Z\" fill=\"#000000\" fill-rule=\"nonzero\" fill-opacity=\"1\" /><path clip-path=\"url(#clip220)\" d=\"M609.919 510.295 L614.804 510.295 L614.804 516.175 L609.919 516.175 L609.919 510.295 Z\" fill=\"#000000\" fill-rule=\"nonzero\" fill-opacity=\"1\" /><path clip-path=\"url(#clip220)\" d=\"M634.989 484.694 Q631.378 484.694 629.549 488.258 Q627.743 491.8 627.743 498.93 Q627.743 506.036 629.549 509.601 Q631.378 513.143 634.989 513.143 Q638.623 513.143 640.428 509.601 Q642.257 506.036 642.257 498.93 Q642.257 491.8 640.428 488.258 Q638.623 484.694 634.989 484.694 M634.989 480.99 Q640.799 480.99 643.854 485.596 Q646.933 490.18 646.933 498.93 Q646.933 507.656 643.854 512.263 Q640.799 516.846 634.989 516.846 Q629.178 516.846 626.1 512.263 Q623.044 507.656 623.044 498.93 Q623.044 490.18 626.1 485.596 Q629.178 480.99 634.989 480.99 Z\" fill=\"#000000\" fill-rule=\"nonzero\" fill-opacity=\"1\" /><path clip-path=\"url(#clip220)\" d=\"M665.15 484.694 Q661.539 484.694 659.711 488.258 Q657.905 491.8 657.905 498.93 Q657.905 506.036 659.711 509.601 Q661.539 513.143 665.15 513.143 Q668.785 513.143 670.59 509.601 Q672.419 506.036 672.419 498.93 Q672.419 491.8 670.59 488.258 Q668.785 484.694 665.15 484.694 M665.15 480.99 Q670.961 480.99 674.016 485.596 Q677.095 490.18 677.095 498.93 Q677.095 507.656 674.016 512.263 Q670.961 516.846 665.15 516.846 Q659.34 516.846 656.262 512.263 Q653.206 507.656 653.206 498.93 Q653.206 490.18 656.262 485.596 Q659.34 480.99 665.15 480.99 Z\" fill=\"#000000\" fill-rule=\"nonzero\" fill-opacity=\"1\" /><path clip-path=\"url(#clip220)\" d=\"M695.891 497.032 Q692.743 497.032 690.891 499.184 Q689.062 501.337 689.062 505.087 Q689.062 508.814 690.891 510.99 Q692.743 513.143 695.891 513.143 Q699.039 513.143 700.868 510.99 Q702.72 508.814 702.72 505.087 Q702.72 501.337 700.868 499.184 Q699.039 497.032 695.891 497.032 M705.173 482.379 L705.173 486.638 Q703.414 485.805 701.609 485.365 Q699.826 484.925 698.067 484.925 Q693.437 484.925 690.984 488.05 Q688.553 491.175 688.206 497.495 Q689.572 495.481 691.632 494.416 Q693.692 493.328 696.169 493.328 Q701.377 493.328 704.386 496.499 Q707.419 499.647 707.419 505.087 Q707.419 510.411 704.271 513.629 Q701.123 516.846 695.891 516.846 Q689.896 516.846 686.724 512.263 Q683.553 507.656 683.553 498.93 Q683.553 490.735 687.442 485.874 Q691.331 480.99 697.882 480.99 Q699.641 480.99 701.423 481.337 Q703.229 481.684 705.173 482.379 Z\" fill=\"#000000\" fill-rule=\"nonzero\" fill-opacity=\"1\" /><polyline clip-path=\"url(#clip222)\" style=\"stroke:#009af9; stroke-linecap:round; stroke-linejoin:round; stroke-width:4; stroke-opacity:1; fill:none\" points=\"1518.75,475.278 1548.35,455.242 1577.09,448.883 1604.65,455.867 1631.13,475.162 1656.75,505.294 1681.64,544.583 1705.73,591.296 1728.69,643.733 1749.92,700.244 1768.64,759.23 1783.87,819.116 1794.56,878.326 1799.57,935.257 1797.74,988.25 1787.9,1035.56 1768.93,1075.33 1739.72,1105.52 1699.17,1123.89 1646.09,1127.84 1579.08,1114.23 1496.11,1078.98 1393.56,1016.13 1263.41,915.36 1078.92,751.07 927.429,783.716 1071.14,997.998 1143.06,1120.6 1178.31,1197.86 1190.87,1242.9 1189.14,1261.85 1179.06,1258.19 1165.25,1234.2 1151.45,1191.49 1140.69,1131.22 1135.31,1054.22 1136.68,960.985 1144.5,851.789 1154.58,727.039 1151.8,589.791 1085.21,461.843 \"/>\n",
       "<path clip-path=\"url(#clip220)\" d=\"M324.68 198.898 L586.911 198.898 L586.911 95.2176 L324.68 95.2176  Z\" fill=\"#ffffff\" fill-rule=\"evenodd\" fill-opacity=\"1\"/>\n",
       "<polyline clip-path=\"url(#clip220)\" style=\"stroke:#000000; stroke-linecap:round; stroke-linejoin:round; stroke-width:4; stroke-opacity:1; fill:none\" points=\"324.68,198.898 586.911,198.898 586.911,95.2176 324.68,95.2176 324.68,198.898 \"/>\n",
       "<polyline clip-path=\"url(#clip220)\" style=\"stroke:#009af9; stroke-linecap:round; stroke-linejoin:round; stroke-width:4; stroke-opacity:1; fill:none\" points=\"347.991,147.058 487.858,147.058 \"/>\n",
       "<path clip-path=\"url(#clip220)\" d=\"M525.012 166.745 Q523.206 171.375 521.493 172.787 Q519.78 174.199 516.91 174.199 L513.507 174.199 L513.507 170.634 L516.007 170.634 Q517.766 170.634 518.739 169.8 Q519.711 168.967 520.891 165.865 L521.655 163.921 L511.169 138.412 L515.683 138.412 L523.785 158.689 L531.887 138.412 L536.401 138.412 L525.012 166.745 Z\" fill=\"#000000\" fill-rule=\"nonzero\" fill-opacity=\"1\" /><path clip-path=\"url(#clip220)\" d=\"M543.692 160.402 L551.331 160.402 L551.331 134.037 L543.021 135.703 L543.021 131.444 L551.285 129.778 L555.961 129.778 L555.961 160.402 L563.6 160.402 L563.6 164.338 L543.692 164.338 L543.692 160.402 Z\" fill=\"#000000\" fill-rule=\"nonzero\" fill-opacity=\"1\" /></svg>\n"
      ],
      "text/html": [
       "<?xml version=\"1.0\" encoding=\"utf-8\"?>\n",
       "<svg xmlns=\"http://www.w3.org/2000/svg\" xmlns:xlink=\"http://www.w3.org/1999/xlink\" width=\"600\" height=\"400\" viewBox=\"0 0 2400 1600\">\n",
       "<defs>\n",
       "  <clipPath id=\"clip270\">\n",
       "    <rect x=\"0\" y=\"0\" width=\"2400\" height=\"1600\"/>\n",
       "  </clipPath>\n",
       "</defs>\n",
       "<path clip-path=\"url(#clip270)\" d=\"M0 1600 L2400 1600 L2400 0 L0 0  Z\" fill=\"#ffffff\" fill-rule=\"evenodd\" fill-opacity=\"1\"/>\n",
       "<defs>\n",
       "  <clipPath id=\"clip271\">\n",
       "    <rect x=\"480\" y=\"0\" width=\"1681\" height=\"1600\"/>\n",
       "  </clipPath>\n",
       "</defs>\n",
       "<defs>\n",
       "  <clipPath id=\"clip272\">\n",
       "    <rect x=\"254\" y=\"47\" width=\"2099\" height=\"1440\"/>\n",
       "  </clipPath>\n",
       "</defs>\n",
       "<path clip-path=\"url(#clip272)\" d=\"M-23379.3 5044.54 L-23379.3 -2072.89 L-17348.9 -5631.6 L-6903.95 -3576.98 L-6903.95 3540.45 L-12934.3 7099.16 L-23379.3 5044.54  Z\" fill=\"#ffffff\" fill-rule=\"evenodd\" fill-opacity=\"1\"/>\n",
       "<polyline clip-path=\"url(#clip272)\" style=\"stroke:#000000; stroke-linecap:round; stroke-linejoin:round; stroke-width:2; stroke-opacity:0.1; fill:none\" points=\"808.412,1223.52 1223.87,863.721 1223.87,144.119 \"/>\n",
       "<polyline clip-path=\"url(#clip272)\" style=\"stroke:#000000; stroke-linecap:round; stroke-linejoin:round; stroke-width:2; stroke-opacity:0.1; fill:none\" points=\"938.974,1261.21 1354.44,901.411 1354.44,181.809 \"/>\n",
       "<polyline clip-path=\"url(#clip272)\" style=\"stroke:#000000; stroke-linecap:round; stroke-linejoin:round; stroke-width:2; stroke-opacity:0.1; fill:none\" points=\"1069.54,1298.9 1485,939.101 1485,219.499 \"/>\n",
       "<polyline clip-path=\"url(#clip272)\" style=\"stroke:#000000; stroke-linecap:round; stroke-linejoin:round; stroke-width:2; stroke-opacity:0.1; fill:none\" points=\"1200.1,1336.59 1615.56,976.791 1615.56,257.189 \"/>\n",
       "<polyline clip-path=\"url(#clip272)\" style=\"stroke:#000000; stroke-linecap:round; stroke-linejoin:round; stroke-width:2; stroke-opacity:0.1; fill:none\" points=\"1330.66,1374.28 1746.12,1014.48 1746.12,294.879 \"/>\n",
       "<polyline clip-path=\"url(#clip270)\" style=\"stroke:#000000; stroke-linecap:round; stroke-linejoin:round; stroke-width:4; stroke-opacity:1; fill:none\" points=\"736.219,1202.68 1455.82,1410.41 \"/>\n",
       "<polyline clip-path=\"url(#clip270)\" style=\"stroke:#000000; stroke-linecap:round; stroke-linejoin:round; stroke-width:4; stroke-opacity:1; fill:none\" points=\"808.412,1223.52 813.397,1219.2 \"/>\n",
       "<polyline clip-path=\"url(#clip270)\" style=\"stroke:#000000; stroke-linecap:round; stroke-linejoin:round; stroke-width:4; stroke-opacity:1; fill:none\" points=\"938.974,1261.21 943.959,1256.89 \"/>\n",
       "<polyline clip-path=\"url(#clip270)\" style=\"stroke:#000000; stroke-linecap:round; stroke-linejoin:round; stroke-width:4; stroke-opacity:1; fill:none\" points=\"1069.54,1298.9 1074.52,1294.58 \"/>\n",
       "<polyline clip-path=\"url(#clip270)\" style=\"stroke:#000000; stroke-linecap:round; stroke-linejoin:round; stroke-width:4; stroke-opacity:1; fill:none\" points=\"1200.1,1336.59 1205.08,1332.27 \"/>\n",
       "<polyline clip-path=\"url(#clip270)\" style=\"stroke:#000000; stroke-linecap:round; stroke-linejoin:round; stroke-width:4; stroke-opacity:1; fill:none\" points=\"1330.66,1374.28 1335.64,1369.96 \"/>\n",
       "<path clip-path=\"url(#clip270)\" d=\"M677.159 1265.13 L684.798 1265.13 L684.798 1238.76 L676.488 1240.43 L676.488 1236.17 L684.752 1234.5 L689.428 1234.5 L689.428 1265.13 L697.067 1265.13 L697.067 1269.06 L677.159 1269.06 L677.159 1265.13 Z\" fill=\"#000000\" fill-rule=\"nonzero\" fill-opacity=\"1\" /><path clip-path=\"url(#clip270)\" d=\"M706.511 1263.18 L711.395 1263.18 L711.395 1269.06 L706.511 1269.06 L706.511 1263.18 Z\" fill=\"#000000\" fill-rule=\"nonzero\" fill-opacity=\"1\" /><path clip-path=\"url(#clip270)\" d=\"M731.58 1237.58 Q727.969 1237.58 726.141 1241.14 Q724.335 1244.69 724.335 1251.82 Q724.335 1258.92 726.141 1262.49 Q727.969 1266.03 731.58 1266.03 Q735.215 1266.03 737.02 1262.49 Q738.849 1258.92 738.849 1251.82 Q738.849 1244.69 737.02 1241.14 Q735.215 1237.58 731.58 1237.58 M731.58 1233.88 Q737.391 1233.88 740.446 1238.48 Q743.525 1243.07 743.525 1251.82 Q743.525 1260.54 740.446 1265.15 Q737.391 1269.73 731.58 1269.73 Q725.77 1269.73 722.692 1265.15 Q719.636 1260.54 719.636 1251.82 Q719.636 1243.07 722.692 1238.48 Q725.77 1233.88 731.58 1233.88 Z\" fill=\"#000000\" fill-rule=\"nonzero\" fill-opacity=\"1\" /><path clip-path=\"url(#clip270)\" d=\"M755.77 1265.13 L772.089 1265.13 L772.089 1269.06 L750.145 1269.06 L750.145 1265.13 Q752.807 1262.37 757.39 1257.74 Q761.997 1253.09 763.177 1251.75 Q765.423 1249.22 766.302 1247.49 Q767.205 1245.73 767.205 1244.04 Q767.205 1241.28 765.261 1239.55 Q763.339 1237.81 760.238 1237.81 Q758.039 1237.81 755.585 1238.57 Q753.154 1239.34 750.377 1240.89 L750.377 1236.17 Q753.201 1235.03 755.654 1234.45 Q758.108 1233.88 760.145 1233.88 Q765.515 1233.88 768.71 1236.56 Q771.904 1239.25 771.904 1243.74 Q771.904 1245.87 771.094 1247.79 Q770.307 1249.69 768.201 1252.28 Q767.622 1252.95 764.52 1256.17 Q761.418 1259.36 755.77 1265.13 Z\" fill=\"#000000\" fill-rule=\"nonzero\" fill-opacity=\"1\" /><path clip-path=\"url(#clip270)\" d=\"M781.951 1234.5 L800.307 1234.5 L800.307 1238.44 L786.233 1238.44 L786.233 1246.91 Q787.251 1246.56 788.27 1246.4 Q789.288 1246.21 790.307 1246.21 Q796.094 1246.21 799.474 1249.38 Q802.853 1252.56 802.853 1257.97 Q802.853 1263.55 799.381 1266.65 Q795.909 1269.73 789.589 1269.73 Q787.413 1269.73 785.145 1269.36 Q782.9 1268.99 780.492 1268.25 L780.492 1263.55 Q782.576 1264.69 784.798 1265.24 Q787.02 1265.8 789.497 1265.8 Q793.501 1265.8 795.839 1263.69 Q798.177 1261.58 798.177 1257.97 Q798.177 1254.36 795.839 1252.26 Q793.501 1250.15 789.497 1250.15 Q787.622 1250.15 785.747 1250.57 Q783.895 1250.98 781.951 1251.86 L781.951 1234.5 Z\" fill=\"#000000\" fill-rule=\"nonzero\" fill-opacity=\"1\" /><path clip-path=\"url(#clip270)\" d=\"M806.726 1302.82 L814.365 1302.82 L814.365 1276.45 L806.054 1278.12 L806.054 1273.86 L814.318 1272.19 L818.994 1272.19 L818.994 1302.82 L826.633 1302.82 L826.633 1306.75 L806.726 1306.75 L806.726 1302.82 Z\" fill=\"#000000\" fill-rule=\"nonzero\" fill-opacity=\"1\" /><path clip-path=\"url(#clip270)\" d=\"M836.077 1300.87 L840.962 1300.87 L840.962 1306.75 L836.077 1306.75 L836.077 1300.87 Z\" fill=\"#000000\" fill-rule=\"nonzero\" fill-opacity=\"1\" /><path clip-path=\"url(#clip270)\" d=\"M861.147 1275.27 Q857.536 1275.27 855.707 1278.83 Q853.901 1282.38 853.901 1289.51 Q853.901 1296.61 855.707 1300.18 Q857.536 1303.72 861.147 1303.72 Q864.781 1303.72 866.586 1300.18 Q868.415 1296.61 868.415 1289.51 Q868.415 1282.38 866.586 1278.83 Q864.781 1275.27 861.147 1275.27 M861.147 1271.57 Q866.957 1271.57 870.012 1276.17 Q873.091 1280.76 873.091 1289.51 Q873.091 1298.23 870.012 1302.84 Q866.957 1307.42 861.147 1307.42 Q855.337 1307.42 852.258 1302.84 Q849.202 1298.23 849.202 1289.51 Q849.202 1280.76 852.258 1276.17 Q855.337 1271.57 861.147 1271.57 Z\" fill=\"#000000\" fill-rule=\"nonzero\" fill-opacity=\"1\" /><path clip-path=\"url(#clip270)\" d=\"M881.355 1272.19 L899.711 1272.19 L899.711 1276.13 L885.637 1276.13 L885.637 1284.6 Q886.656 1284.25 887.674 1284.09 Q888.693 1283.9 889.711 1283.9 Q895.498 1283.9 898.878 1287.07 Q902.258 1290.25 902.258 1295.66 Q902.258 1301.24 898.785 1304.34 Q895.313 1307.42 888.994 1307.42 Q886.818 1307.42 884.549 1307.05 Q882.304 1306.68 879.897 1305.94 L879.897 1301.24 Q881.98 1302.38 884.202 1302.93 Q886.424 1303.49 888.901 1303.49 Q892.906 1303.49 895.244 1301.38 Q897.582 1299.27 897.582 1295.66 Q897.582 1292.05 895.244 1289.95 Q892.906 1287.84 888.901 1287.84 Q887.026 1287.84 885.151 1288.26 Q883.299 1288.67 881.355 1289.55 L881.355 1272.19 Z\" fill=\"#000000\" fill-rule=\"nonzero\" fill-opacity=\"1\" /><path clip-path=\"url(#clip270)\" d=\"M921.47 1275.27 Q917.859 1275.27 916.031 1278.83 Q914.225 1282.38 914.225 1289.51 Q914.225 1296.61 916.031 1300.18 Q917.859 1303.72 921.47 1303.72 Q925.105 1303.72 926.91 1300.18 Q928.739 1296.61 928.739 1289.51 Q928.739 1282.38 926.91 1278.83 Q925.105 1275.27 921.47 1275.27 M921.47 1271.57 Q927.281 1271.57 930.336 1276.17 Q933.415 1280.76 933.415 1289.51 Q933.415 1298.23 930.336 1302.84 Q927.281 1307.42 921.47 1307.42 Q915.66 1307.42 912.582 1302.84 Q909.526 1298.23 909.526 1289.51 Q909.526 1280.76 912.582 1276.17 Q915.66 1271.57 921.47 1271.57 Z\" fill=\"#000000\" fill-rule=\"nonzero\" fill-opacity=\"1\" /><path clip-path=\"url(#clip270)\" d=\"M938.283 1340.51 L945.922 1340.51 L945.922 1314.14 L937.611 1315.81 L937.611 1311.55 L945.875 1309.88 L950.551 1309.88 L950.551 1340.51 L958.19 1340.51 L958.19 1344.44 L938.283 1344.44 L938.283 1340.51 Z\" fill=\"#000000\" fill-rule=\"nonzero\" fill-opacity=\"1\" /><path clip-path=\"url(#clip270)\" d=\"M967.634 1338.56 L972.519 1338.56 L972.519 1344.44 L967.634 1344.44 L967.634 1338.56 Z\" fill=\"#000000\" fill-rule=\"nonzero\" fill-opacity=\"1\" /><path clip-path=\"url(#clip270)\" d=\"M992.704 1312.96 Q989.093 1312.96 987.264 1316.52 Q985.458 1320.07 985.458 1327.2 Q985.458 1334.3 987.264 1337.87 Q989.093 1341.41 992.704 1341.41 Q996.338 1341.41 998.144 1337.87 Q999.972 1334.3 999.972 1327.2 Q999.972 1320.07 998.144 1316.52 Q996.338 1312.96 992.704 1312.96 M992.704 1309.26 Q998.514 1309.26 1001.57 1313.86 Q1004.65 1318.45 1004.65 1327.2 Q1004.65 1335.92 1001.57 1340.53 Q998.514 1345.11 992.704 1345.11 Q986.894 1345.11 983.815 1340.53 Q980.759 1335.92 980.759 1327.2 Q980.759 1318.45 983.815 1313.86 Q986.894 1309.26 992.704 1309.26 Z\" fill=\"#000000\" fill-rule=\"nonzero\" fill-opacity=\"1\" /><path clip-path=\"url(#clip270)\" d=\"M1011.69 1309.88 L1033.91 1309.88 L1033.91 1311.87 L1021.36 1344.44 L1016.48 1344.44 L1028.28 1313.82 L1011.69 1313.82 L1011.69 1309.88 Z\" fill=\"#000000\" fill-rule=\"nonzero\" fill-opacity=\"1\" /><path clip-path=\"url(#clip270)\" d=\"M1043.07 1309.88 L1061.43 1309.88 L1061.43 1313.82 L1047.36 1313.82 L1047.36 1322.29 Q1048.37 1321.94 1049.39 1321.78 Q1050.41 1321.59 1051.43 1321.59 Q1057.22 1321.59 1060.6 1324.76 Q1063.98 1327.94 1063.98 1333.35 Q1063.98 1338.93 1060.5 1342.03 Q1057.03 1345.11 1050.71 1345.11 Q1048.54 1345.11 1046.27 1344.74 Q1044.02 1344.37 1041.62 1343.63 L1041.62 1338.93 Q1043.7 1340.07 1045.92 1340.62 Q1048.14 1341.18 1050.62 1341.18 Q1054.62 1341.18 1056.96 1339.07 Q1059.3 1336.96 1059.3 1333.35 Q1059.3 1329.74 1056.96 1327.63 Q1054.62 1325.53 1050.62 1325.53 Q1048.75 1325.53 1046.87 1325.95 Q1045.02 1326.36 1043.07 1327.24 L1043.07 1309.88 Z\" fill=\"#000000\" fill-rule=\"nonzero\" fill-opacity=\"1\" /><path clip-path=\"url(#clip270)\" d=\"M1067.85 1378.2 L1075.49 1378.2 L1075.49 1351.83 L1067.18 1353.5 L1067.18 1349.24 L1075.44 1347.57 L1080.12 1347.57 L1080.12 1378.2 L1087.76 1378.2 L1087.76 1382.13 L1067.85 1382.13 L1067.85 1378.2 Z\" fill=\"#000000\" fill-rule=\"nonzero\" fill-opacity=\"1\" /><path clip-path=\"url(#clip270)\" d=\"M1097.2 1376.25 L1102.08 1376.25 L1102.08 1382.13 L1097.2 1382.13 L1097.2 1376.25 Z\" fill=\"#000000\" fill-rule=\"nonzero\" fill-opacity=\"1\" /><path clip-path=\"url(#clip270)\" d=\"M1113.08 1378.2 L1120.72 1378.2 L1120.72 1351.83 L1112.41 1353.5 L1112.41 1349.24 L1120.67 1347.57 L1125.35 1347.57 L1125.35 1378.2 L1132.99 1378.2 L1132.99 1382.13 L1113.08 1382.13 L1113.08 1378.2 Z\" fill=\"#000000\" fill-rule=\"nonzero\" fill-opacity=\"1\" /><path clip-path=\"url(#clip270)\" d=\"M1152.43 1350.65 Q1148.82 1350.65 1146.99 1354.21 Q1145.19 1357.76 1145.19 1364.89 Q1145.19 1371.99 1146.99 1375.56 Q1148.82 1379.1 1152.43 1379.1 Q1156.07 1379.1 1157.87 1375.56 Q1159.7 1371.99 1159.7 1364.89 Q1159.7 1357.76 1157.87 1354.21 Q1156.07 1350.65 1152.43 1350.65 M1152.43 1346.95 Q1158.24 1346.95 1161.3 1351.55 Q1164.38 1356.14 1164.38 1364.89 Q1164.38 1373.61 1161.3 1378.22 Q1158.24 1382.8 1152.43 1382.8 Q1146.62 1382.8 1143.54 1378.22 Q1140.49 1373.61 1140.49 1364.89 Q1140.49 1356.14 1143.54 1351.55 Q1146.62 1346.95 1152.43 1346.95 Z\" fill=\"#000000\" fill-rule=\"nonzero\" fill-opacity=\"1\" /><path clip-path=\"url(#clip270)\" d=\"M1182.59 1350.65 Q1178.98 1350.65 1177.15 1354.21 Q1175.35 1357.76 1175.35 1364.89 Q1175.35 1371.99 1177.15 1375.56 Q1178.98 1379.1 1182.59 1379.1 Q1186.23 1379.1 1188.03 1375.56 Q1189.86 1371.99 1189.86 1364.89 Q1189.86 1357.76 1188.03 1354.21 Q1186.23 1350.65 1182.59 1350.65 M1182.59 1346.95 Q1188.4 1346.95 1191.46 1351.55 Q1194.54 1356.14 1194.54 1364.89 Q1194.54 1373.61 1191.46 1378.22 Q1188.4 1382.8 1182.59 1382.8 Q1176.78 1382.8 1173.7 1378.22 Q1170.65 1373.61 1170.65 1364.89 Q1170.65 1356.14 1173.7 1351.55 Q1176.78 1346.95 1182.59 1346.95 Z\" fill=\"#000000\" fill-rule=\"nonzero\" fill-opacity=\"1\" /><path clip-path=\"url(#clip270)\" d=\"M1199.41 1415.89 L1207.04 1415.89 L1207.04 1389.52 L1198.73 1391.19 L1198.73 1386.93 L1207 1385.26 L1211.67 1385.26 L1211.67 1415.89 L1219.31 1415.89 L1219.31 1419.82 L1199.41 1419.82 L1199.41 1415.89 Z\" fill=\"#000000\" fill-rule=\"nonzero\" fill-opacity=\"1\" /><path clip-path=\"url(#clip270)\" d=\"M1228.76 1413.94 L1233.64 1413.94 L1233.64 1419.82 L1228.76 1419.82 L1228.76 1413.94 Z\" fill=\"#000000\" fill-rule=\"nonzero\" fill-opacity=\"1\" /><path clip-path=\"url(#clip270)\" d=\"M1244.64 1415.89 L1252.28 1415.89 L1252.28 1389.52 L1243.97 1391.19 L1243.97 1386.93 L1252.23 1385.26 L1256.91 1385.26 L1256.91 1415.89 L1264.54 1415.89 L1264.54 1419.82 L1244.64 1419.82 L1244.64 1415.89 Z\" fill=\"#000000\" fill-rule=\"nonzero\" fill-opacity=\"1\" /><path clip-path=\"url(#clip270)\" d=\"M1278.02 1415.89 L1294.34 1415.89 L1294.34 1419.82 L1272.39 1419.82 L1272.39 1415.89 Q1275.05 1413.13 1279.64 1408.5 Q1284.24 1403.85 1285.42 1402.51 Q1287.67 1399.98 1288.55 1398.25 Q1289.45 1396.49 1289.45 1394.8 Q1289.45 1392.04 1287.51 1390.31 Q1285.59 1388.57 1282.48 1388.57 Q1280.29 1388.57 1277.83 1389.33 Q1275.4 1390.1 1272.62 1391.65 L1272.62 1386.93 Q1275.45 1385.79 1277.9 1385.21 Q1280.35 1384.64 1282.39 1384.64 Q1287.76 1384.64 1290.96 1387.32 Q1294.15 1390.01 1294.15 1394.5 Q1294.15 1396.63 1293.34 1398.55 Q1292.55 1400.45 1290.45 1403.04 Q1289.87 1403.71 1286.77 1406.93 Q1283.66 1410.12 1278.02 1415.89 Z\" fill=\"#000000\" fill-rule=\"nonzero\" fill-opacity=\"1\" /><path clip-path=\"url(#clip270)\" d=\"M1304.2 1385.26 L1322.55 1385.26 L1322.55 1389.2 L1308.48 1389.2 L1308.48 1397.67 Q1309.5 1397.32 1310.52 1397.16 Q1311.54 1396.97 1312.55 1396.97 Q1318.34 1396.97 1321.72 1400.14 Q1325.1 1403.32 1325.1 1408.73 Q1325.1 1414.31 1321.63 1417.41 Q1318.16 1420.49 1311.84 1420.49 Q1309.66 1420.49 1307.39 1420.12 Q1305.15 1419.75 1302.74 1419.01 L1302.74 1414.31 Q1304.82 1415.45 1307.04 1416 Q1309.27 1416.56 1311.74 1416.56 Q1315.75 1416.56 1318.09 1414.45 Q1320.42 1412.34 1320.42 1408.73 Q1320.42 1405.12 1318.09 1403.01 Q1315.75 1400.91 1311.74 1400.91 Q1309.87 1400.91 1307.99 1401.32 Q1306.14 1401.74 1304.2 1402.62 L1304.2 1385.26 Z\" fill=\"#000000\" fill-rule=\"nonzero\" fill-opacity=\"1\" /><polyline clip-path=\"url(#clip272)\" style=\"stroke:#000000; stroke-linecap:round; stroke-linejoin:round; stroke-width:2; stroke-opacity:0.1; fill:none\" points=\"1467.63,1400.18 748.033,1192.45 748.033,472.848 \"/>\n",
       "<polyline clip-path=\"url(#clip272)\" style=\"stroke:#000000; stroke-linecap:round; stroke-linejoin:round; stroke-width:2; stroke-opacity:0.1; fill:none\" points=\"1570.37,1311.21 850.764,1103.48 850.764,383.881 \"/>\n",
       "<polyline clip-path=\"url(#clip272)\" style=\"stroke:#000000; stroke-linecap:round; stroke-linejoin:round; stroke-width:2; stroke-opacity:0.1; fill:none\" points=\"1673.1,1222.25 953.495,1014.51 953.495,294.913 \"/>\n",
       "<polyline clip-path=\"url(#clip272)\" style=\"stroke:#000000; stroke-linecap:round; stroke-linejoin:round; stroke-width:2; stroke-opacity:0.1; fill:none\" points=\"1775.83,1133.28 1056.23,925.547 1056.23,205.945 \"/>\n",
       "<polyline clip-path=\"url(#clip270)\" style=\"stroke:#000000; stroke-linecap:round; stroke-linejoin:round; stroke-width:4; stroke-opacity:1; fill:none\" points=\"1455.82,1410.41 1871.28,1050.61 \"/>\n",
       "<polyline clip-path=\"url(#clip270)\" style=\"stroke:#000000; stroke-linecap:round; stroke-linejoin:round; stroke-width:4; stroke-opacity:1; fill:none\" points=\"1467.63,1400.18 1459,1397.69 \"/>\n",
       "<polyline clip-path=\"url(#clip270)\" style=\"stroke:#000000; stroke-linecap:round; stroke-linejoin:round; stroke-width:4; stroke-opacity:1; fill:none\" points=\"1570.37,1311.21 1561.73,1308.72 \"/>\n",
       "<polyline clip-path=\"url(#clip270)\" style=\"stroke:#000000; stroke-linecap:round; stroke-linejoin:round; stroke-width:4; stroke-opacity:1; fill:none\" points=\"1673.1,1222.25 1664.46,1219.75 \"/>\n",
       "<polyline clip-path=\"url(#clip270)\" style=\"stroke:#000000; stroke-linecap:round; stroke-linejoin:round; stroke-width:4; stroke-opacity:1; fill:none\" points=\"1775.83,1133.28 1767.19,1130.79 \"/>\n",
       "<path clip-path=\"url(#clip270)\" d=\"M1482.27 1425.44 L1511.95 1425.44 L1511.95 1429.37 L1482.27 1429.37 L1482.27 1425.44 Z\" fill=\"#000000\" fill-rule=\"nonzero\" fill-opacity=\"1\" /><path clip-path=\"url(#clip270)\" d=\"M1532.04 1410.78 Q1528.43 1410.78 1526.6 1414.35 Q1524.79 1417.89 1524.79 1425.02 Q1524.79 1432.13 1526.6 1435.69 Q1528.43 1439.23 1532.04 1439.23 Q1535.67 1439.23 1537.48 1435.69 Q1539.31 1432.13 1539.31 1425.02 Q1539.31 1417.89 1537.48 1414.35 Q1535.67 1410.78 1532.04 1410.78 M1532.04 1407.08 Q1537.85 1407.08 1540.91 1411.69 Q1543.98 1416.27 1543.98 1425.02 Q1543.98 1433.75 1540.91 1438.35 Q1537.85 1442.94 1532.04 1442.94 Q1526.23 1442.94 1523.15 1438.35 Q1520.1 1433.75 1520.1 1425.02 Q1520.1 1416.27 1523.15 1411.69 Q1526.23 1407.08 1532.04 1407.08 Z\" fill=\"#000000\" fill-rule=\"nonzero\" fill-opacity=\"1\" /><path clip-path=\"url(#clip270)\" d=\"M1552.2 1436.39 L1557.09 1436.39 L1557.09 1442.26 L1552.2 1442.26 L1552.2 1436.39 Z\" fill=\"#000000\" fill-rule=\"nonzero\" fill-opacity=\"1\" /><path clip-path=\"url(#clip270)\" d=\"M1568.08 1438.33 L1575.72 1438.33 L1575.72 1411.96 L1567.41 1413.63 L1567.41 1409.37 L1575.67 1407.7 L1580.35 1407.7 L1580.35 1438.33 L1587.99 1438.33 L1587.99 1442.26 L1568.08 1442.26 L1568.08 1438.33 Z\" fill=\"#000000\" fill-rule=\"nonzero\" fill-opacity=\"1\" /><path clip-path=\"url(#clip270)\" d=\"M1607.43 1410.78 Q1603.82 1410.78 1601.99 1414.35 Q1600.19 1417.89 1600.19 1425.02 Q1600.19 1432.13 1601.99 1435.69 Q1603.82 1439.23 1607.43 1439.23 Q1611.07 1439.23 1612.87 1435.69 Q1614.7 1432.13 1614.7 1425.02 Q1614.7 1417.89 1612.87 1414.35 Q1611.07 1410.78 1607.43 1410.78 M1607.43 1407.08 Q1613.24 1407.08 1616.3 1411.69 Q1619.38 1416.27 1619.38 1425.02 Q1619.38 1433.75 1616.3 1438.35 Q1613.24 1442.94 1607.43 1442.94 Q1601.62 1442.94 1598.54 1438.35 Q1595.49 1433.75 1595.49 1425.02 Q1595.49 1416.27 1598.54 1411.69 Q1601.62 1407.08 1607.43 1407.08 Z\" fill=\"#000000\" fill-rule=\"nonzero\" fill-opacity=\"1\" /><path clip-path=\"url(#clip270)\" d=\"M1585 1336.47 L1614.68 1336.47 L1614.68 1340.4 L1585 1340.4 L1585 1336.47 Z\" fill=\"#000000\" fill-rule=\"nonzero\" fill-opacity=\"1\" /><path clip-path=\"url(#clip270)\" d=\"M1634.77 1321.82 Q1631.16 1321.82 1629.33 1325.38 Q1627.53 1328.92 1627.53 1336.05 Q1627.53 1343.16 1629.33 1346.72 Q1631.16 1350.26 1634.77 1350.26 Q1638.41 1350.26 1640.21 1346.72 Q1642.04 1343.16 1642.04 1336.05 Q1642.04 1328.92 1640.21 1325.38 Q1638.41 1321.82 1634.77 1321.82 M1634.77 1318.11 Q1640.58 1318.11 1643.64 1322.72 Q1646.72 1327.3 1646.72 1336.05 Q1646.72 1344.78 1643.64 1349.38 Q1640.58 1353.97 1634.77 1353.97 Q1628.96 1353.97 1625.88 1349.38 Q1622.83 1344.78 1622.83 1336.05 Q1622.83 1327.3 1625.88 1322.72 Q1628.96 1318.11 1634.77 1318.11 Z\" fill=\"#000000\" fill-rule=\"nonzero\" fill-opacity=\"1\" /><path clip-path=\"url(#clip270)\" d=\"M1654.93 1347.42 L1659.82 1347.42 L1659.82 1353.3 L1654.93 1353.3 L1654.93 1347.42 Z\" fill=\"#000000\" fill-rule=\"nonzero\" fill-opacity=\"1\" /><path clip-path=\"url(#clip270)\" d=\"M1680 1321.82 Q1676.39 1321.82 1674.56 1325.38 Q1672.76 1328.92 1672.76 1336.05 Q1672.76 1343.16 1674.56 1346.72 Q1676.39 1350.26 1680 1350.26 Q1683.64 1350.26 1685.44 1346.72 Q1687.27 1343.16 1687.27 1336.05 Q1687.27 1328.92 1685.44 1325.38 Q1683.64 1321.82 1680 1321.82 M1680 1318.11 Q1685.81 1318.11 1688.87 1322.72 Q1691.95 1327.3 1691.95 1336.05 Q1691.95 1344.78 1688.87 1349.38 Q1685.81 1353.97 1680 1353.97 Q1674.19 1353.97 1671.11 1349.38 Q1668.06 1344.78 1668.06 1336.05 Q1668.06 1327.3 1671.11 1322.72 Q1674.19 1318.11 1680 1318.11 Z\" fill=\"#000000\" fill-rule=\"nonzero\" fill-opacity=\"1\" /><path clip-path=\"url(#clip270)\" d=\"M1700.21 1318.74 L1718.57 1318.74 L1718.57 1322.67 L1704.49 1322.67 L1704.49 1331.14 Q1705.51 1330.8 1706.53 1330.63 Q1707.55 1330.45 1708.57 1330.45 Q1714.35 1330.45 1717.73 1333.62 Q1721.11 1336.79 1721.11 1342.21 Q1721.11 1347.79 1717.64 1350.89 Q1714.17 1353.97 1707.85 1353.97 Q1705.67 1353.97 1703.41 1353.6 Q1701.16 1353.23 1698.75 1352.49 L1698.75 1347.79 Q1700.84 1348.92 1703.06 1349.48 Q1705.28 1350.03 1707.76 1350.03 Q1711.76 1350.03 1714.1 1347.93 Q1716.44 1345.82 1716.44 1342.21 Q1716.44 1338.6 1714.1 1336.49 Q1711.76 1334.38 1707.76 1334.38 Q1705.88 1334.38 1704.01 1334.8 Q1702.16 1335.22 1700.21 1336.1 L1700.21 1318.74 Z\" fill=\"#000000\" fill-rule=\"nonzero\" fill-opacity=\"1\" /><path clip-path=\"url(#clip270)\" d=\"M1699.68 1232.85 Q1696.07 1232.85 1694.24 1236.41 Q1692.43 1239.95 1692.43 1247.08 Q1692.43 1254.19 1694.24 1257.76 Q1696.07 1261.3 1699.68 1261.3 Q1703.31 1261.3 1705.12 1257.76 Q1706.95 1254.19 1706.95 1247.08 Q1706.95 1239.95 1705.12 1236.41 Q1703.31 1232.85 1699.68 1232.85 M1699.68 1229.14 Q1705.49 1229.14 1708.54 1233.75 Q1711.62 1238.33 1711.62 1247.08 Q1711.62 1255.81 1708.54 1260.42 Q1705.49 1265 1699.68 1265 Q1693.87 1265 1690.79 1260.42 Q1687.73 1255.81 1687.73 1247.08 Q1687.73 1238.33 1690.79 1233.75 Q1693.87 1229.14 1699.68 1229.14 Z\" fill=\"#000000\" fill-rule=\"nonzero\" fill-opacity=\"1\" /><path clip-path=\"url(#clip270)\" d=\"M1719.84 1258.45 L1724.72 1258.45 L1724.72 1264.33 L1719.84 1264.33 L1719.84 1258.45 Z\" fill=\"#000000\" fill-rule=\"nonzero\" fill-opacity=\"1\" /><path clip-path=\"url(#clip270)\" d=\"M1744.91 1232.85 Q1741.3 1232.85 1739.47 1236.41 Q1737.66 1239.95 1737.66 1247.08 Q1737.66 1254.19 1739.47 1257.76 Q1741.3 1261.3 1744.91 1261.3 Q1748.54 1261.3 1750.35 1257.76 Q1752.18 1254.19 1752.18 1247.08 Q1752.18 1239.95 1750.35 1236.41 Q1748.54 1232.85 1744.91 1232.85 M1744.91 1229.14 Q1750.72 1229.14 1753.78 1233.75 Q1756.85 1238.33 1756.85 1247.08 Q1756.85 1255.81 1753.78 1260.42 Q1750.72 1265 1744.91 1265 Q1739.1 1265 1736.02 1260.42 Q1732.97 1255.81 1732.97 1247.08 Q1732.97 1238.33 1736.02 1233.75 Q1739.1 1229.14 1744.91 1229.14 Z\" fill=\"#000000\" fill-rule=\"nonzero\" fill-opacity=\"1\" /><path clip-path=\"url(#clip270)\" d=\"M1775.07 1232.85 Q1771.46 1232.85 1769.63 1236.41 Q1767.83 1239.95 1767.83 1247.08 Q1767.83 1254.19 1769.63 1257.76 Q1771.46 1261.3 1775.07 1261.3 Q1778.71 1261.3 1780.51 1257.76 Q1782.34 1254.19 1782.34 1247.08 Q1782.34 1239.95 1780.51 1236.41 Q1778.71 1232.85 1775.07 1232.85 M1775.07 1229.14 Q1780.88 1229.14 1783.94 1233.75 Q1787.02 1238.33 1787.02 1247.08 Q1787.02 1255.81 1783.94 1260.42 Q1780.88 1265 1775.07 1265 Q1769.26 1265 1766.18 1260.42 Q1763.13 1255.81 1763.13 1247.08 Q1763.13 1238.33 1766.18 1233.75 Q1769.26 1229.14 1775.07 1229.14 Z\" fill=\"#000000\" fill-rule=\"nonzero\" fill-opacity=\"1\" /><path clip-path=\"url(#clip270)\" d=\"M1802.41 1143.88 Q1798.8 1143.88 1796.97 1147.44 Q1795.16 1150.99 1795.16 1158.12 Q1795.16 1165.22 1796.97 1168.79 Q1798.8 1172.33 1802.41 1172.33 Q1806.04 1172.33 1807.85 1168.79 Q1809.68 1165.22 1809.68 1158.12 Q1809.68 1150.99 1807.85 1147.44 Q1806.04 1143.88 1802.41 1143.88 M1802.41 1140.18 Q1808.22 1140.18 1811.28 1144.78 Q1814.35 1149.37 1814.35 1158.12 Q1814.35 1166.84 1811.28 1171.45 Q1808.22 1176.03 1802.41 1176.03 Q1796.6 1176.03 1793.52 1171.45 Q1790.47 1166.84 1790.47 1158.12 Q1790.47 1149.37 1793.52 1144.78 Q1796.6 1140.18 1802.41 1140.18 Z\" fill=\"#000000\" fill-rule=\"nonzero\" fill-opacity=\"1\" /><path clip-path=\"url(#clip270)\" d=\"M1822.57 1169.48 L1827.46 1169.48 L1827.46 1175.36 L1822.57 1175.36 L1822.57 1169.48 Z\" fill=\"#000000\" fill-rule=\"nonzero\" fill-opacity=\"1\" /><path clip-path=\"url(#clip270)\" d=\"M1847.64 1143.88 Q1844.03 1143.88 1842.2 1147.44 Q1840.4 1150.99 1840.4 1158.12 Q1840.4 1165.22 1842.2 1168.79 Q1844.03 1172.33 1847.64 1172.33 Q1851.28 1172.33 1853.08 1168.79 Q1854.91 1165.22 1854.91 1158.12 Q1854.91 1150.99 1853.08 1147.44 Q1851.28 1143.88 1847.64 1143.88 M1847.64 1140.18 Q1853.45 1140.18 1856.51 1144.78 Q1859.59 1149.37 1859.59 1158.12 Q1859.59 1166.84 1856.51 1171.45 Q1853.45 1176.03 1847.64 1176.03 Q1841.83 1176.03 1838.75 1171.45 Q1835.7 1166.84 1835.7 1158.12 Q1835.7 1149.37 1838.75 1144.78 Q1841.83 1140.18 1847.64 1140.18 Z\" fill=\"#000000\" fill-rule=\"nonzero\" fill-opacity=\"1\" /><path clip-path=\"url(#clip270)\" d=\"M1867.85 1140.8 L1886.21 1140.8 L1886.21 1144.74 L1872.13 1144.74 L1872.13 1153.21 Q1873.15 1152.86 1874.17 1152.7 Q1875.19 1152.51 1876.21 1152.51 Q1881.99 1152.51 1885.37 1155.69 Q1888.75 1158.86 1888.75 1164.27 Q1888.75 1169.85 1885.28 1172.95 Q1881.81 1176.03 1875.49 1176.03 Q1873.31 1176.03 1871.04 1175.66 Q1868.8 1175.29 1866.39 1174.55 L1866.39 1169.85 Q1868.47 1170.99 1870.7 1171.54 Q1872.92 1172.1 1875.4 1172.1 Q1879.4 1172.1 1881.74 1169.99 Q1884.08 1167.88 1884.08 1164.27 Q1884.08 1160.66 1881.74 1158.56 Q1879.4 1156.45 1875.4 1156.45 Q1873.52 1156.45 1871.65 1156.87 Q1869.79 1157.28 1867.85 1158.16 L1867.85 1140.8 Z\" fill=\"#000000\" fill-rule=\"nonzero\" fill-opacity=\"1\" /><polyline clip-path=\"url(#clip272)\" style=\"stroke:#000000; stroke-linecap:round; stroke-linejoin:round; stroke-width:2; stroke-opacity:0.1; fill:none\" points=\"736.219,1106.4 1151.68,746.595 1871.28,954.327 \"/>\n",
       "<polyline clip-path=\"url(#clip272)\" style=\"stroke:#000000; stroke-linecap:round; stroke-linejoin:round; stroke-width:2; stroke-opacity:0.1; fill:none\" points=\"736.219,1005.15 1151.68,645.345 1871.28,853.076 \"/>\n",
       "<polyline clip-path=\"url(#clip272)\" style=\"stroke:#000000; stroke-linecap:round; stroke-linejoin:round; stroke-width:2; stroke-opacity:0.1; fill:none\" points=\"736.219,903.896 1151.68,544.095 1871.28,751.826 \"/>\n",
       "<polyline clip-path=\"url(#clip272)\" style=\"stroke:#000000; stroke-linecap:round; stroke-linejoin:round; stroke-width:2; stroke-opacity:0.1; fill:none\" points=\"736.219,802.646 1151.68,442.845 1871.28,650.576 \"/>\n",
       "<polyline clip-path=\"url(#clip272)\" style=\"stroke:#000000; stroke-linecap:round; stroke-linejoin:round; stroke-width:2; stroke-opacity:0.1; fill:none\" points=\"736.219,701.395 1151.68,341.594 1871.28,549.326 \"/>\n",
       "<polyline clip-path=\"url(#clip272)\" style=\"stroke:#000000; stroke-linecap:round; stroke-linejoin:round; stroke-width:2; stroke-opacity:0.1; fill:none\" points=\"736.219,600.145 1151.68,240.344 1871.28,448.075 \"/>\n",
       "<polyline clip-path=\"url(#clip272)\" style=\"stroke:#000000; stroke-linecap:round; stroke-linejoin:round; stroke-width:2; stroke-opacity:0.1; fill:none\" points=\"736.219,498.895 1151.68,139.094 1871.28,346.825 \"/>\n",
       "<polyline clip-path=\"url(#clip270)\" style=\"stroke:#000000; stroke-linecap:round; stroke-linejoin:round; stroke-width:4; stroke-opacity:1; fill:none\" points=\"736.219,1202.68 736.219,483.08 \"/>\n",
       "<polyline clip-path=\"url(#clip270)\" style=\"stroke:#000000; stroke-linecap:round; stroke-linejoin:round; stroke-width:4; stroke-opacity:1; fill:none\" points=\"736.219,1106.4 741.204,1102.08 \"/>\n",
       "<polyline clip-path=\"url(#clip270)\" style=\"stroke:#000000; stroke-linecap:round; stroke-linejoin:round; stroke-width:4; stroke-opacity:1; fill:none\" points=\"736.219,1005.15 741.204,1000.83 \"/>\n",
       "<polyline clip-path=\"url(#clip270)\" style=\"stroke:#000000; stroke-linecap:round; stroke-linejoin:round; stroke-width:4; stroke-opacity:1; fill:none\" points=\"736.219,903.896 741.204,899.578 \"/>\n",
       "<polyline clip-path=\"url(#clip270)\" style=\"stroke:#000000; stroke-linecap:round; stroke-linejoin:round; stroke-width:4; stroke-opacity:1; fill:none\" points=\"736.219,802.646 741.204,798.328 \"/>\n",
       "<polyline clip-path=\"url(#clip270)\" style=\"stroke:#000000; stroke-linecap:round; stroke-linejoin:round; stroke-width:4; stroke-opacity:1; fill:none\" points=\"736.219,701.395 741.204,697.078 \"/>\n",
       "<polyline clip-path=\"url(#clip270)\" style=\"stroke:#000000; stroke-linecap:round; stroke-linejoin:round; stroke-width:4; stroke-opacity:1; fill:none\" points=\"736.219,600.145 741.204,595.828 \"/>\n",
       "<polyline clip-path=\"url(#clip270)\" style=\"stroke:#000000; stroke-linecap:round; stroke-linejoin:round; stroke-width:4; stroke-opacity:1; fill:none\" points=\"736.219,498.895 741.204,494.577 \"/>\n",
       "<path clip-path=\"url(#clip270)\" d=\"M539.989 1106.85 L569.665 1106.85 L569.665 1110.78 L539.989 1110.78 L539.989 1106.85 Z\" fill=\"#000000\" fill-rule=\"nonzero\" fill-opacity=\"1\" /><path clip-path=\"url(#clip270)\" d=\"M589.757 1092.2 Q586.146 1092.2 584.318 1095.76 Q582.512 1099.3 582.512 1106.43 Q582.512 1113.54 584.318 1117.1 Q586.146 1120.64 589.757 1120.64 Q593.392 1120.64 595.197 1117.1 Q597.026 1113.54 597.026 1106.43 Q597.026 1099.3 595.197 1095.76 Q593.392 1092.2 589.757 1092.2 M589.757 1088.49 Q595.568 1088.49 598.623 1093.1 Q601.702 1097.68 601.702 1106.43 Q601.702 1115.16 598.623 1119.76 Q595.568 1124.35 589.757 1124.35 Q583.947 1124.35 580.869 1119.76 Q577.813 1115.16 577.813 1106.43 Q577.813 1097.68 580.869 1093.1 Q583.947 1088.49 589.757 1088.49 Z\" fill=\"#000000\" fill-rule=\"nonzero\" fill-opacity=\"1\" /><path clip-path=\"url(#clip270)\" d=\"M609.919 1117.8 L614.804 1117.8 L614.804 1123.68 L609.919 1123.68 L609.919 1117.8 Z\" fill=\"#000000\" fill-rule=\"nonzero\" fill-opacity=\"1\" /><path clip-path=\"url(#clip270)\" d=\"M634.989 1092.2 Q631.378 1092.2 629.549 1095.76 Q627.743 1099.3 627.743 1106.43 Q627.743 1113.54 629.549 1117.1 Q631.378 1120.64 634.989 1120.64 Q638.623 1120.64 640.428 1117.1 Q642.257 1113.54 642.257 1106.43 Q642.257 1099.3 640.428 1095.76 Q638.623 1092.2 634.989 1092.2 M634.989 1088.49 Q640.799 1088.49 643.854 1093.1 Q646.933 1097.68 646.933 1106.43 Q646.933 1115.16 643.854 1119.76 Q640.799 1124.35 634.989 1124.35 Q629.178 1124.35 626.1 1119.76 Q623.044 1115.16 623.044 1106.43 Q623.044 1097.68 626.1 1093.1 Q629.178 1088.49 634.989 1088.49 Z\" fill=\"#000000\" fill-rule=\"nonzero\" fill-opacity=\"1\" /><path clip-path=\"url(#clip270)\" d=\"M665.15 1092.2 Q661.539 1092.2 659.711 1095.76 Q657.905 1099.3 657.905 1106.43 Q657.905 1113.54 659.711 1117.1 Q661.539 1120.64 665.15 1120.64 Q668.785 1120.64 670.59 1117.1 Q672.419 1113.54 672.419 1106.43 Q672.419 1099.3 670.59 1095.76 Q668.785 1092.2 665.15 1092.2 M665.15 1088.49 Q670.961 1088.49 674.016 1093.1 Q677.095 1097.68 677.095 1106.43 Q677.095 1115.16 674.016 1119.76 Q670.961 1124.35 665.15 1124.35 Q659.34 1124.35 656.262 1119.76 Q653.206 1115.16 653.206 1106.43 Q653.206 1097.68 656.262 1093.1 Q659.34 1088.49 665.15 1088.49 Z\" fill=\"#000000\" fill-rule=\"nonzero\" fill-opacity=\"1\" /><path clip-path=\"url(#clip270)\" d=\"M695.891 1104.53 Q692.743 1104.53 690.891 1106.69 Q689.062 1108.84 689.062 1112.59 Q689.062 1116.32 690.891 1118.49 Q692.743 1120.64 695.891 1120.64 Q699.039 1120.64 700.868 1118.49 Q702.72 1116.32 702.72 1112.59 Q702.72 1108.84 700.868 1106.69 Q699.039 1104.53 695.891 1104.53 M705.173 1089.88 L705.173 1094.14 Q703.414 1093.31 701.609 1092.87 Q699.826 1092.43 698.067 1092.43 Q693.437 1092.43 690.984 1095.55 Q688.553 1098.68 688.206 1105 Q689.572 1102.98 691.632 1101.92 Q693.692 1100.83 696.169 1100.83 Q701.377 1100.83 704.386 1104 Q707.419 1107.15 707.419 1112.59 Q707.419 1117.91 704.271 1121.13 Q701.123 1124.35 695.891 1124.35 Q689.896 1124.35 686.724 1119.76 Q683.553 1115.16 683.553 1106.43 Q683.553 1098.24 687.442 1093.38 Q691.331 1088.49 697.882 1088.49 Q699.641 1088.49 701.423 1088.84 Q703.229 1089.19 705.173 1089.88 Z\" fill=\"#000000\" fill-rule=\"nonzero\" fill-opacity=\"1\" /><path clip-path=\"url(#clip270)\" d=\"M539.665 1005.6 L569.341 1005.6 L569.341 1009.53 L539.665 1009.53 L539.665 1005.6 Z\" fill=\"#000000\" fill-rule=\"nonzero\" fill-opacity=\"1\" /><path clip-path=\"url(#clip270)\" d=\"M589.433 990.945 Q585.822 990.945 583.993 994.51 Q582.188 998.051 582.188 1005.18 Q582.188 1012.29 583.993 1015.85 Q585.822 1019.39 589.433 1019.39 Q593.068 1019.39 594.873 1015.85 Q596.702 1012.29 596.702 1005.18 Q596.702 998.051 594.873 994.51 Q593.068 990.945 589.433 990.945 M589.433 987.241 Q595.243 987.241 598.299 991.848 Q601.378 996.431 601.378 1005.18 Q601.378 1013.91 598.299 1018.51 Q595.243 1023.1 589.433 1023.1 Q583.623 1023.1 580.544 1018.51 Q577.489 1013.91 577.489 1005.18 Q577.489 996.431 580.544 991.848 Q583.623 987.241 589.433 987.241 Z\" fill=\"#000000\" fill-rule=\"nonzero\" fill-opacity=\"1\" /><path clip-path=\"url(#clip270)\" d=\"M609.595 1016.55 L614.479 1016.55 L614.479 1022.43 L609.595 1022.43 L609.595 1016.55 Z\" fill=\"#000000\" fill-rule=\"nonzero\" fill-opacity=\"1\" /><path clip-path=\"url(#clip270)\" d=\"M634.665 990.945 Q631.053 990.945 629.225 994.51 Q627.419 998.051 627.419 1005.18 Q627.419 1012.29 629.225 1015.85 Q631.053 1019.39 634.665 1019.39 Q638.299 1019.39 640.104 1015.85 Q641.933 1012.29 641.933 1005.18 Q641.933 998.051 640.104 994.51 Q638.299 990.945 634.665 990.945 M634.665 987.241 Q640.475 987.241 643.53 991.848 Q646.609 996.431 646.609 1005.18 Q646.609 1013.91 643.53 1018.51 Q640.475 1023.1 634.665 1023.1 Q628.854 1023.1 625.776 1018.51 Q622.72 1013.91 622.72 1005.18 Q622.72 996.431 625.776 991.848 Q628.854 987.241 634.665 987.241 Z\" fill=\"#000000\" fill-rule=\"nonzero\" fill-opacity=\"1\" /><path clip-path=\"url(#clip270)\" d=\"M664.826 990.945 Q661.215 990.945 659.387 994.51 Q657.581 998.051 657.581 1005.18 Q657.581 1012.29 659.387 1015.85 Q661.215 1019.39 664.826 1019.39 Q668.461 1019.39 670.266 1015.85 Q672.095 1012.29 672.095 1005.18 Q672.095 998.051 670.266 994.51 Q668.461 990.945 664.826 990.945 M664.826 987.241 Q670.637 987.241 673.692 991.848 Q676.771 996.431 676.771 1005.18 Q676.771 1013.91 673.692 1018.51 Q670.637 1023.1 664.826 1023.1 Q659.016 1023.1 655.938 1018.51 Q652.882 1013.91 652.882 1005.18 Q652.882 996.431 655.938 991.848 Q659.016 987.241 664.826 987.241 Z\" fill=\"#000000\" fill-rule=\"nonzero\" fill-opacity=\"1\" /><path clip-path=\"url(#clip270)\" d=\"M697.835 991.94 L686.03 1010.39 L697.835 1010.39 L697.835 991.94 M696.609 987.866 L702.488 987.866 L702.488 1010.39 L707.419 1010.39 L707.419 1014.28 L702.488 1014.28 L702.488 1022.43 L697.835 1022.43 L697.835 1014.28 L682.234 1014.28 L682.234 1009.76 L696.609 987.866 Z\" fill=\"#000000\" fill-rule=\"nonzero\" fill-opacity=\"1\" /><path clip-path=\"url(#clip270)\" d=\"M541.748 904.347 L571.424 904.347 L571.424 908.282 L541.748 908.282 L541.748 904.347 Z\" fill=\"#000000\" fill-rule=\"nonzero\" fill-opacity=\"1\" /><path clip-path=\"url(#clip270)\" d=\"M591.517 889.695 Q587.906 889.695 586.077 893.259 Q584.271 896.801 584.271 903.931 Q584.271 911.037 586.077 914.602 Q587.906 918.144 591.517 918.144 Q595.151 918.144 596.956 914.602 Q598.785 911.037 598.785 903.931 Q598.785 896.801 596.956 893.259 Q595.151 889.695 591.517 889.695 M591.517 885.991 Q597.327 885.991 600.382 890.597 Q603.461 895.181 603.461 903.931 Q603.461 912.657 600.382 917.264 Q597.327 921.847 591.517 921.847 Q585.706 921.847 582.628 917.264 Q579.572 912.657 579.572 903.931 Q579.572 895.181 582.628 890.597 Q585.706 885.991 591.517 885.991 Z\" fill=\"#000000\" fill-rule=\"nonzero\" fill-opacity=\"1\" /><path clip-path=\"url(#clip270)\" d=\"M611.679 915.296 L616.563 915.296 L616.563 921.176 L611.679 921.176 L611.679 915.296 Z\" fill=\"#000000\" fill-rule=\"nonzero\" fill-opacity=\"1\" /><path clip-path=\"url(#clip270)\" d=\"M636.748 889.695 Q633.137 889.695 631.308 893.259 Q629.503 896.801 629.503 903.931 Q629.503 911.037 631.308 914.602 Q633.137 918.144 636.748 918.144 Q640.382 918.144 642.188 914.602 Q644.016 911.037 644.016 903.931 Q644.016 896.801 642.188 893.259 Q640.382 889.695 636.748 889.695 M636.748 885.991 Q642.558 885.991 645.614 890.597 Q648.692 895.181 648.692 903.931 Q648.692 912.657 645.614 917.264 Q642.558 921.847 636.748 921.847 Q630.938 921.847 627.859 917.264 Q624.803 912.657 624.803 903.931 Q624.803 895.181 627.859 890.597 Q630.938 885.991 636.748 885.991 Z\" fill=\"#000000\" fill-rule=\"nonzero\" fill-opacity=\"1\" /><path clip-path=\"url(#clip270)\" d=\"M666.91 889.695 Q663.299 889.695 661.47 893.259 Q659.664 896.801 659.664 903.931 Q659.664 911.037 661.47 914.602 Q663.299 918.144 666.91 918.144 Q670.544 918.144 672.35 914.602 Q674.178 911.037 674.178 903.931 Q674.178 896.801 672.35 893.259 Q670.544 889.695 666.91 889.695 M666.91 885.991 Q672.72 885.991 675.775 890.597 Q678.854 895.181 678.854 903.931 Q678.854 912.657 675.775 917.264 Q672.72 921.847 666.91 921.847 Q661.1 921.847 658.021 917.264 Q654.965 912.657 654.965 903.931 Q654.965 895.181 658.021 890.597 Q661.1 885.991 666.91 885.991 Z\" fill=\"#000000\" fill-rule=\"nonzero\" fill-opacity=\"1\" /><path clip-path=\"url(#clip270)\" d=\"M691.099 917.241 L707.419 917.241 L707.419 921.176 L685.474 921.176 L685.474 917.241 Q688.136 914.486 692.72 909.857 Q697.326 905.204 698.507 903.861 Q700.752 901.338 701.632 899.602 Q702.535 897.843 702.535 896.153 Q702.535 893.398 700.59 891.662 Q698.669 889.926 695.567 889.926 Q693.368 889.926 690.914 890.69 Q688.484 891.454 685.706 893.005 L685.706 888.283 Q688.53 887.148 690.984 886.57 Q693.437 885.991 695.474 885.991 Q700.845 885.991 704.039 888.676 Q707.234 891.361 707.234 895.852 Q707.234 897.982 706.423 899.903 Q705.636 901.801 703.53 904.394 Q702.951 905.065 699.849 908.282 Q696.748 911.477 691.099 917.241 Z\" fill=\"#000000\" fill-rule=\"nonzero\" fill-opacity=\"1\" /><path clip-path=\"url(#clip270)\" d=\"M589.919 788.444 Q586.308 788.444 584.48 792.009 Q582.674 795.551 582.674 802.68 Q582.674 809.787 584.48 813.352 Q586.308 816.893 589.919 816.893 Q593.554 816.893 595.359 813.352 Q597.188 809.787 597.188 802.68 Q597.188 795.551 595.359 792.009 Q593.554 788.444 589.919 788.444 M589.919 784.741 Q595.73 784.741 598.785 789.347 Q601.864 793.93 601.864 802.68 Q601.864 811.407 598.785 816.014 Q595.73 820.597 589.919 820.597 Q584.109 820.597 581.031 816.014 Q577.975 811.407 577.975 802.68 Q577.975 793.93 581.031 789.347 Q584.109 784.741 589.919 784.741 Z\" fill=\"#000000\" fill-rule=\"nonzero\" fill-opacity=\"1\" /><path clip-path=\"url(#clip270)\" d=\"M610.081 814.046 L614.966 814.046 L614.966 819.926 L610.081 819.926 L610.081 814.046 Z\" fill=\"#000000\" fill-rule=\"nonzero\" fill-opacity=\"1\" /><path clip-path=\"url(#clip270)\" d=\"M635.151 788.444 Q631.54 788.444 629.711 792.009 Q627.905 795.551 627.905 802.68 Q627.905 809.787 629.711 813.352 Q631.54 816.893 635.151 816.893 Q638.785 816.893 640.59 813.352 Q642.419 809.787 642.419 802.68 Q642.419 795.551 640.59 792.009 Q638.785 788.444 635.151 788.444 M635.151 784.741 Q640.961 784.741 644.016 789.347 Q647.095 793.93 647.095 802.68 Q647.095 811.407 644.016 816.014 Q640.961 820.597 635.151 820.597 Q629.34 820.597 626.262 816.014 Q623.206 811.407 623.206 802.68 Q623.206 793.93 626.262 789.347 Q629.34 784.741 635.151 784.741 Z\" fill=\"#000000\" fill-rule=\"nonzero\" fill-opacity=\"1\" /><path clip-path=\"url(#clip270)\" d=\"M665.313 788.444 Q661.701 788.444 659.873 792.009 Q658.067 795.551 658.067 802.68 Q658.067 809.787 659.873 813.352 Q661.701 816.893 665.313 816.893 Q668.947 816.893 670.752 813.352 Q672.581 809.787 672.581 802.68 Q672.581 795.551 670.752 792.009 Q668.947 788.444 665.313 788.444 M665.313 784.741 Q671.123 784.741 674.178 789.347 Q677.257 793.93 677.257 802.68 Q677.257 811.407 674.178 816.014 Q671.123 820.597 665.313 820.597 Q659.502 820.597 656.424 816.014 Q653.368 811.407 653.368 802.68 Q653.368 793.93 656.424 789.347 Q659.502 784.741 665.313 784.741 Z\" fill=\"#000000\" fill-rule=\"nonzero\" fill-opacity=\"1\" /><path clip-path=\"url(#clip270)\" d=\"M695.474 788.444 Q691.863 788.444 690.035 792.009 Q688.229 795.551 688.229 802.68 Q688.229 809.787 690.035 813.352 Q691.863 816.893 695.474 816.893 Q699.109 816.893 700.914 813.352 Q702.743 809.787 702.743 802.68 Q702.743 795.551 700.914 792.009 Q699.109 788.444 695.474 788.444 M695.474 784.741 Q701.285 784.741 704.34 789.347 Q707.419 793.93 707.419 802.68 Q707.419 811.407 704.34 816.014 Q701.285 820.597 695.474 820.597 Q689.664 820.597 686.586 816.014 Q683.53 811.407 683.53 802.68 Q683.53 793.93 686.586 789.347 Q689.664 784.741 695.474 784.741 Z\" fill=\"#000000\" fill-rule=\"nonzero\" fill-opacity=\"1\" /><path clip-path=\"url(#clip270)\" d=\"M591.517 687.194 Q587.906 687.194 586.077 690.759 Q584.271 694.301 584.271 701.43 Q584.271 708.537 586.077 712.101 Q587.906 715.643 591.517 715.643 Q595.151 715.643 596.956 712.101 Q598.785 708.537 598.785 701.43 Q598.785 694.301 596.956 690.759 Q595.151 687.194 591.517 687.194 M591.517 683.49 Q597.327 683.49 600.382 688.097 Q603.461 692.68 603.461 701.43 Q603.461 710.157 600.382 714.763 Q597.327 719.347 591.517 719.347 Q585.706 719.347 582.628 714.763 Q579.572 710.157 579.572 701.43 Q579.572 692.68 582.628 688.097 Q585.706 683.49 591.517 683.49 Z\" fill=\"#000000\" fill-rule=\"nonzero\" fill-opacity=\"1\" /><path clip-path=\"url(#clip270)\" d=\"M611.679 712.796 L616.563 712.796 L616.563 718.675 L611.679 718.675 L611.679 712.796 Z\" fill=\"#000000\" fill-rule=\"nonzero\" fill-opacity=\"1\" /><path clip-path=\"url(#clip270)\" d=\"M636.748 687.194 Q633.137 687.194 631.308 690.759 Q629.503 694.301 629.503 701.43 Q629.503 708.537 631.308 712.101 Q633.137 715.643 636.748 715.643 Q640.382 715.643 642.188 712.101 Q644.016 708.537 644.016 701.43 Q644.016 694.301 642.188 690.759 Q640.382 687.194 636.748 687.194 M636.748 683.49 Q642.558 683.49 645.614 688.097 Q648.692 692.68 648.692 701.43 Q648.692 710.157 645.614 714.763 Q642.558 719.347 636.748 719.347 Q630.938 719.347 627.859 714.763 Q624.803 710.157 624.803 701.43 Q624.803 692.68 627.859 688.097 Q630.938 683.49 636.748 683.49 Z\" fill=\"#000000\" fill-rule=\"nonzero\" fill-opacity=\"1\" /><path clip-path=\"url(#clip270)\" d=\"M666.91 687.194 Q663.299 687.194 661.47 690.759 Q659.664 694.301 659.664 701.43 Q659.664 708.537 661.47 712.101 Q663.299 715.643 666.91 715.643 Q670.544 715.643 672.35 712.101 Q674.178 708.537 674.178 701.43 Q674.178 694.301 672.35 690.759 Q670.544 687.194 666.91 687.194 M666.91 683.49 Q672.72 683.49 675.775 688.097 Q678.854 692.68 678.854 701.43 Q678.854 710.157 675.775 714.763 Q672.72 719.347 666.91 719.347 Q661.1 719.347 658.021 714.763 Q654.965 710.157 654.965 701.43 Q654.965 692.68 658.021 688.097 Q661.1 683.49 666.91 683.49 Z\" fill=\"#000000\" fill-rule=\"nonzero\" fill-opacity=\"1\" /><path clip-path=\"url(#clip270)\" d=\"M691.099 714.74 L707.419 714.74 L707.419 718.675 L685.474 718.675 L685.474 714.74 Q688.136 711.986 692.72 707.356 Q697.326 702.703 698.507 701.361 Q700.752 698.838 701.632 697.101 Q702.535 695.342 702.535 693.652 Q702.535 690.898 700.59 689.162 Q698.669 687.426 695.567 687.426 Q693.368 687.426 690.914 688.189 Q688.484 688.953 685.706 690.504 L685.706 685.782 Q688.53 684.648 690.984 684.069 Q693.437 683.49 695.474 683.49 Q700.845 683.49 704.039 686.176 Q707.234 688.861 707.234 693.351 Q707.234 695.481 706.423 697.402 Q705.636 699.301 703.53 701.893 Q702.951 702.564 699.849 705.782 Q696.748 708.976 691.099 714.74 Z\" fill=\"#000000\" fill-rule=\"nonzero\" fill-opacity=\"1\" /><path clip-path=\"url(#clip270)\" d=\"M589.433 585.944 Q585.822 585.944 583.993 589.509 Q582.188 593.05 582.188 600.18 Q582.188 607.286 583.993 610.851 Q585.822 614.393 589.433 614.393 Q593.068 614.393 594.873 610.851 Q596.702 607.286 596.702 600.18 Q596.702 593.05 594.873 589.509 Q593.068 585.944 589.433 585.944 M589.433 582.24 Q595.243 582.24 598.299 586.847 Q601.378 591.43 601.378 600.18 Q601.378 608.907 598.299 613.513 Q595.243 618.096 589.433 618.096 Q583.623 618.096 580.544 613.513 Q577.489 608.907 577.489 600.18 Q577.489 591.43 580.544 586.847 Q583.623 582.24 589.433 582.24 Z\" fill=\"#000000\" fill-rule=\"nonzero\" fill-opacity=\"1\" /><path clip-path=\"url(#clip270)\" d=\"M609.595 611.546 L614.479 611.546 L614.479 617.425 L609.595 617.425 L609.595 611.546 Z\" fill=\"#000000\" fill-rule=\"nonzero\" fill-opacity=\"1\" /><path clip-path=\"url(#clip270)\" d=\"M634.665 585.944 Q631.053 585.944 629.225 589.509 Q627.419 593.05 627.419 600.18 Q627.419 607.286 629.225 610.851 Q631.053 614.393 634.665 614.393 Q638.299 614.393 640.104 610.851 Q641.933 607.286 641.933 600.18 Q641.933 593.05 640.104 589.509 Q638.299 585.944 634.665 585.944 M634.665 582.24 Q640.475 582.24 643.53 586.847 Q646.609 591.43 646.609 600.18 Q646.609 608.907 643.53 613.513 Q640.475 618.096 634.665 618.096 Q628.854 618.096 625.776 613.513 Q622.72 608.907 622.72 600.18 Q622.72 591.43 625.776 586.847 Q628.854 582.24 634.665 582.24 Z\" fill=\"#000000\" fill-rule=\"nonzero\" fill-opacity=\"1\" /><path clip-path=\"url(#clip270)\" d=\"M664.826 585.944 Q661.215 585.944 659.387 589.509 Q657.581 593.05 657.581 600.18 Q657.581 607.286 659.387 610.851 Q661.215 614.393 664.826 614.393 Q668.461 614.393 670.266 610.851 Q672.095 607.286 672.095 600.18 Q672.095 593.05 670.266 589.509 Q668.461 585.944 664.826 585.944 M664.826 582.24 Q670.637 582.24 673.692 586.847 Q676.771 591.43 676.771 600.18 Q676.771 608.907 673.692 613.513 Q670.637 618.096 664.826 618.096 Q659.016 618.096 655.938 613.513 Q652.882 608.907 652.882 600.18 Q652.882 591.43 655.938 586.847 Q659.016 582.24 664.826 582.24 Z\" fill=\"#000000\" fill-rule=\"nonzero\" fill-opacity=\"1\" /><path clip-path=\"url(#clip270)\" d=\"M697.835 586.939 L686.03 605.388 L697.835 605.388 L697.835 586.939 M696.609 582.865 L702.488 582.865 L702.488 605.388 L707.419 605.388 L707.419 609.277 L702.488 609.277 L702.488 617.425 L697.835 617.425 L697.835 609.277 L682.234 609.277 L682.234 604.763 L696.609 582.865 Z\" fill=\"#000000\" fill-rule=\"nonzero\" fill-opacity=\"1\" /><path clip-path=\"url(#clip270)\" d=\"M589.757 484.694 Q586.146 484.694 584.318 488.258 Q582.512 491.8 582.512 498.93 Q582.512 506.036 584.318 509.601 Q586.146 513.143 589.757 513.143 Q593.392 513.143 595.197 509.601 Q597.026 506.036 597.026 498.93 Q597.026 491.8 595.197 488.258 Q593.392 484.694 589.757 484.694 M589.757 480.99 Q595.568 480.99 598.623 485.596 Q601.702 490.18 601.702 498.93 Q601.702 507.656 598.623 512.263 Q595.568 516.846 589.757 516.846 Q583.947 516.846 580.869 512.263 Q577.813 507.656 577.813 498.93 Q577.813 490.18 580.869 485.596 Q583.947 480.99 589.757 480.99 Z\" fill=\"#000000\" fill-rule=\"nonzero\" fill-opacity=\"1\" /><path clip-path=\"url(#clip270)\" d=\"M609.919 510.295 L614.804 510.295 L614.804 516.175 L609.919 516.175 L609.919 510.295 Z\" fill=\"#000000\" fill-rule=\"nonzero\" fill-opacity=\"1\" /><path clip-path=\"url(#clip270)\" d=\"M634.989 484.694 Q631.378 484.694 629.549 488.258 Q627.743 491.8 627.743 498.93 Q627.743 506.036 629.549 509.601 Q631.378 513.143 634.989 513.143 Q638.623 513.143 640.428 509.601 Q642.257 506.036 642.257 498.93 Q642.257 491.8 640.428 488.258 Q638.623 484.694 634.989 484.694 M634.989 480.99 Q640.799 480.99 643.854 485.596 Q646.933 490.18 646.933 498.93 Q646.933 507.656 643.854 512.263 Q640.799 516.846 634.989 516.846 Q629.178 516.846 626.1 512.263 Q623.044 507.656 623.044 498.93 Q623.044 490.18 626.1 485.596 Q629.178 480.99 634.989 480.99 Z\" fill=\"#000000\" fill-rule=\"nonzero\" fill-opacity=\"1\" /><path clip-path=\"url(#clip270)\" d=\"M665.15 484.694 Q661.539 484.694 659.711 488.258 Q657.905 491.8 657.905 498.93 Q657.905 506.036 659.711 509.601 Q661.539 513.143 665.15 513.143 Q668.785 513.143 670.59 509.601 Q672.419 506.036 672.419 498.93 Q672.419 491.8 670.59 488.258 Q668.785 484.694 665.15 484.694 M665.15 480.99 Q670.961 480.99 674.016 485.596 Q677.095 490.18 677.095 498.93 Q677.095 507.656 674.016 512.263 Q670.961 516.846 665.15 516.846 Q659.34 516.846 656.262 512.263 Q653.206 507.656 653.206 498.93 Q653.206 490.18 656.262 485.596 Q659.34 480.99 665.15 480.99 Z\" fill=\"#000000\" fill-rule=\"nonzero\" fill-opacity=\"1\" /><path clip-path=\"url(#clip270)\" d=\"M695.891 497.032 Q692.743 497.032 690.891 499.184 Q689.062 501.337 689.062 505.087 Q689.062 508.814 690.891 510.99 Q692.743 513.143 695.891 513.143 Q699.039 513.143 700.868 510.99 Q702.72 508.814 702.72 505.087 Q702.72 501.337 700.868 499.184 Q699.039 497.032 695.891 497.032 M705.173 482.379 L705.173 486.638 Q703.414 485.805 701.609 485.365 Q699.826 484.925 698.067 484.925 Q693.437 484.925 690.984 488.05 Q688.553 491.175 688.206 497.495 Q689.572 495.481 691.632 494.416 Q693.692 493.328 696.169 493.328 Q701.377 493.328 704.386 496.499 Q707.419 499.647 707.419 505.087 Q707.419 510.411 704.271 513.629 Q701.123 516.846 695.891 516.846 Q689.896 516.846 686.724 512.263 Q683.553 507.656 683.553 498.93 Q683.553 490.735 687.442 485.874 Q691.331 480.99 697.882 480.99 Q699.641 480.99 701.423 481.337 Q703.229 481.684 705.173 482.379 Z\" fill=\"#000000\" fill-rule=\"nonzero\" fill-opacity=\"1\" /><polyline clip-path=\"url(#clip272)\" style=\"stroke:#009af9; stroke-linecap:round; stroke-linejoin:round; stroke-width:4; stroke-opacity:1; fill:none\" points=\"1518.75,475.278 1548.35,455.242 1577.09,448.883 1604.65,455.867 1631.13,475.162 1656.75,505.294 1681.64,544.583 1705.73,591.296 1728.69,643.733 1749.92,700.244 1768.64,759.23 1783.87,819.116 1794.56,878.326 1799.57,935.257 1797.74,988.25 1787.9,1035.56 1768.93,1075.33 1739.72,1105.52 1699.17,1123.89 1646.09,1127.84 1579.08,1114.23 1496.11,1078.98 1393.56,1016.13 1263.41,915.36 1078.92,751.07 927.429,783.716 1071.14,997.998 1143.06,1120.6 1178.31,1197.86 1190.87,1242.9 1189.14,1261.85 1179.06,1258.19 1165.25,1234.2 1151.45,1191.49 1140.69,1131.22 1135.31,1054.22 1136.68,960.985 1144.5,851.789 1154.58,727.039 1151.8,589.791 1085.21,461.843 \"/>\n",
       "<path clip-path=\"url(#clip270)\" d=\"M324.68 198.898 L586.911 198.898 L586.911 95.2176 L324.68 95.2176  Z\" fill=\"#ffffff\" fill-rule=\"evenodd\" fill-opacity=\"1\"/>\n",
       "<polyline clip-path=\"url(#clip270)\" style=\"stroke:#000000; stroke-linecap:round; stroke-linejoin:round; stroke-width:4; stroke-opacity:1; fill:none\" points=\"324.68,198.898 586.911,198.898 586.911,95.2176 324.68,95.2176 324.68,198.898 \"/>\n",
       "<polyline clip-path=\"url(#clip270)\" style=\"stroke:#009af9; stroke-linecap:round; stroke-linejoin:round; stroke-width:4; stroke-opacity:1; fill:none\" points=\"347.991,147.058 487.858,147.058 \"/>\n",
       "<path clip-path=\"url(#clip270)\" d=\"M525.012 166.745 Q523.206 171.375 521.493 172.787 Q519.78 174.199 516.91 174.199 L513.507 174.199 L513.507 170.634 L516.007 170.634 Q517.766 170.634 518.739 169.8 Q519.711 168.967 520.891 165.865 L521.655 163.921 L511.169 138.412 L515.683 138.412 L523.785 158.689 L531.887 138.412 L536.401 138.412 L525.012 166.745 Z\" fill=\"#000000\" fill-rule=\"nonzero\" fill-opacity=\"1\" /><path clip-path=\"url(#clip270)\" d=\"M543.692 160.402 L551.331 160.402 L551.331 134.037 L543.021 135.703 L543.021 131.444 L551.285 129.778 L555.961 129.778 L555.961 160.402 L563.6 160.402 L563.6 164.338 L543.692 164.338 L543.692 160.402 Z\" fill=\"#000000\" fill-rule=\"nonzero\" fill-opacity=\"1\" /></svg>\n"
      ]
     },
     "metadata": {},
     "output_type": "display_data"
    }
   ],
   "source": [
    "#simulation is off due to numerical error. very small Δu\n",
    "\n",
    "plot(all_x[1,:,2], all_x[2,:,2], all_x[3,:,2])\n",
    "\n",
    "#scatter!([all_x[1,end,1]], [all_x[2,end,1]], [all_x[3,end,1]])\n",
    "\n",
    "# plot!(all_x[1,:,2], all_x[2,:,2], all_x[3,:,2])\n",
    "\n",
    "# scatter!([all_x[1,1,2]], [all_x[2,1,2]], [all_x[3,1,2]])\n",
    "\n",
    "# for i=2:100\n",
    "#     plot!(all_x[1,:,i], all_x[2,:,i], all_x[3,:,i])\n",
    "# end\n",
    "\n",
    "# plot!(all_x[1,:,100], all_x[2,:,100], all_x[3,:,100])"
   ]
  },
  {
   "cell_type": "code",
   "execution_count": 132,
   "metadata": {},
   "outputs": [
    {
     "data": {
      "text/plain": [
       "0.08537438526469196"
      ]
     },
     "metadata": {},
     "output_type": "display_data"
    }
   ],
   "source": [
    "Δt"
   ]
  },
  {
   "cell_type": "code",
   "execution_count": 133,
   "metadata": {},
   "outputs": [
    {
     "data": {
      "text/plain": [
       "6×41×1 Array{Float64, 3}:\n",
       "[:, :, 1] =\n",
       " 1.12013      1.12017      1.12036     …   1.11921      1.11889\n",
       " 0.0          0.0150004    0.0294635      -0.0138616    0.00133896\n",
       " 0.00593968   0.0058125    0.00544061      0.00579859   0.0059101\n",
       " 0.0          0.00114159   0.00345895     -0.00397268  -0.00371617\n",
       " 0.176778     0.173564     0.164314        0.175843     0.179168\n",
       " 0.0         -0.00295996  -0.00569881  …   0.00280601  -0.000213843"
      ]
     },
     "metadata": {},
     "output_type": "display_data"
    }
   ],
   "source": [
    "all_x "
   ]
  },
  {
   "cell_type": "code",
   "execution_count": 134,
   "metadata": {},
   "outputs": [
    {
     "data": {
      "text/plain": [
       "1.025e-6"
      ]
     },
     "metadata": {},
     "output_type": "display_data"
    }
   ],
   "source": [
    "1e-6*V_ "
   ]
  },
  {
   "cell_type": "code",
   "execution_count": 135,
   "metadata": {},
   "outputs": [
    {
     "data": {
      "text/plain": [
       "0.385"
      ]
     },
     "metadata": {},
     "output_type": "display_data"
    }
   ],
   "source": [
    "1e-6*L "
   ]
  },
  {
   "cell_type": "code",
   "execution_count": 136,
   "metadata": {},
   "outputs": [
    {
     "data": {
      "text/plain": [
       "0.0018280397243563458"
      ]
     },
     "metadata": {},
     "output_type": "display_data"
    }
   ],
   "source": [
    "norm(all_x[1:3, 1, 1] - all_x[1:3, 41, 1])"
   ]
  },
  {
   "cell_type": "code",
   "execution_count": null,
   "metadata": {},
   "outputs": [],
   "source": [
    "all_x[:,end,1]"
   ]
  },
  {
   "cell_type": "code",
   "execution_count": null,
   "metadata": {},
   "outputs": [],
   "source": [
    "# #indexing working\n",
    "# i = 3\n",
    "# test = (40)*(i-1)+1\n",
    "# test2 = (40)*(i-1)+40\n",
    "# display(test)\n",
    "# display(test2)"
   ]
  },
  {
   "cell_type": "code",
   "execution_count": null,
   "metadata": {},
   "outputs": [],
   "source": [
    "utraj_ms2 = utraj.*acceleration_scale "
   ]
  },
  {
   "cell_type": "code",
   "execution_count": null,
   "metadata": {},
   "outputs": [],
   "source": [
    "#integrate over the timestep to get the velocity cost in km/s\n",
    "x_cost = sum(abs.(utraj_ms2[1,:]))*(Δt*time_scale)\n",
    "y_cost = sum(abs.(utraj_ms2[2,:]))*(Δt*time_scale)\n",
    "z_cost = sum(abs.(utraj_ms2[3,:]))*(Δt*time_scale)"
   ]
  },
  {
   "cell_type": "code",
   "execution_count": null,
   "metadata": {},
   "outputs": [],
   "source": [
    "x_cost_ms = x_cost*(1e3)\n",
    "y_cost_ms = y_cost*(1e3)\n",
    "z_cost_ms = z_cost*(1e3)\n",
    "\n",
    "display(x_cost_ms)\n",
    "display(y_cost_ms)\n",
    "display(z_cost_ms)"
   ]
  },
  {
   "cell_type": "code",
   "execution_count": null,
   "metadata": {},
   "outputs": [],
   "source": []
  }
 ],
 "metadata": {
  "kernelspec": {
   "display_name": "Julia 1.10.0",
   "language": "julia",
   "name": "julia-1.10"
  },
  "language_info": {
   "file_extension": ".jl",
   "mimetype": "application/julia",
   "name": "julia",
   "version": "1.10.0"
  }
 },
 "nbformat": 4,
 "nbformat_minor": 2
}
