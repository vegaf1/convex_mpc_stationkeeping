{
 "cells": [
  {
   "cell_type": "code",
   "execution_count": 1,
   "id": "480fd580",
   "metadata": {},
   "outputs": [],
   "source": [
    "using LinearAlgebra\n",
    "using ForwardDiff\n",
    "using SatelliteDynamics\n",
    "using DifferentialEquations\n",
    "using Plots\n",
    "using ECOS, Convex\n",
    "using Mosek, MosekTools"
   ]
  },
  {
   "cell_type": "code",
   "execution_count": 2,
   "id": "ee9be99e",
   "metadata": {},
   "outputs": [],
   "source": [
    "#TODO: The problem is being solved with the linear dynamics and rolled out half an orbit with the nonlinear dynamics. By doing the rollout on the nonlinear dynamics\n",
    "# the dot product constraint is being violated. \n",
    "\n",
    "# Going to try just rolling out one timestep instead of half an orbit and see if it works and all the constraints are satisfied"
   ]
  },
  {
   "cell_type": "code",
   "execution_count": 3,
   "id": "e6853703",
   "metadata": {},
   "outputs": [],
   "source": [
    "#from the Lyaponov orbit\n",
    "#x0_lyapunov = [ 1.1556814491008298,\n",
    "# -1.4319993886822296e-21,\n",
    "#  0.0,\n",
    "#  2.2212106056655213e-21,\n",
    "# -8.333136405918907e-6,\n",
    "#  0.0]\n",
    "\n",
    "\n",
    "\n",
    " #lyapunov_period = 3.3732524857835884\n"
   ]
  },
  {
   "cell_type": "code",
   "execution_count": 4,
   "id": "a5673ac3",
   "metadata": {},
   "outputs": [
    {
     "data": {
      "text/plain": [
       "6-element Vector{Float64}:\n",
       " 1.1556799130947355\n",
       " 0.0\n",
       " 0.0\n",
       " 0.0\n",
       " 0.0\n",
       " 0.0"
      ]
     },
     "metadata": {},
     "output_type": "display_data"
    }
   ],
   "source": [
    "#parameters for Earth Moon System\n",
    "μ = 1.215e-2\n",
    "μ1 = 1-μ\n",
    "μ2 = μ\n",
    "\n",
    "#position of mass 1\n",
    "pose_m1 = [-μ, 0, 0]\n",
    "\n",
    "#position of mass 2\n",
    "pose_m2 = [1-μ, 0, 0]\n",
    "\n",
    "#value obtained from 3BP textbook\n",
    "L = 3.850e5 #in km - distance between centers of m1 and m2\n",
    "V_ = 1.025 #in km/s - orbital velocity of m1\n",
    "T_ = 2.361e6 #in seconds - orbital period of m1 and m2\n",
    "\n",
    "time_scale = T_/(2*pi)\n",
    "\n",
    "#state of the L1 and L2 Lagrange points (computed offline)\n",
    "XL1 = [0.8369180073169304, 0, 0, 0, 0, 0]\n",
    "XL2 = [1.1556799130947355, 0, 0, 0, 0, 0]"
   ]
  },
  {
   "cell_type": "code",
   "execution_count": null,
   "id": "f55c1d4c",
   "metadata": {},
   "outputs": [],
   "source": []
  },
  {
   "cell_type": "code",
   "execution_count": 5,
   "id": "1267d725",
   "metadata": {},
   "outputs": [
    {
     "data": {
      "text/plain": [
       "2.726644335279151e-6"
      ]
     },
     "metadata": {},
     "output_type": "display_data"
    }
   ],
   "source": [
    "#to get into normalized units, divide by this scale. To get normalized units to standard metric units multiply\n",
    "acceleration_scale = L/((time_scale)^2)"
   ]
  },
  {
   "cell_type": "code",
   "execution_count": 6,
   "id": "260d67ee",
   "metadata": {},
   "outputs": [
    {
     "data": {
      "text/plain": [
       "effective_potential (generic function with 1 method)"
      ]
     },
     "metadata": {},
     "output_type": "display_data"
    }
   ],
   "source": [
    "function effective_potential(X)\n",
    "    x = X[1]\n",
    "    y = X[2]\n",
    "    z = X[3]\n",
    "\n",
    "    r1 = sqrt((x+μ2)^2 + y^2 + z^2) \n",
    "    r2 = sqrt((x-μ1)^2 + y^2 + z^2)\n",
    "    #assuming m3 is unit mass\n",
    "   \n",
    "    U = (-μ1/r1)-(μ2/r2)-0.5*(x^2+y^2)\n",
    "   \n",
    "    return U\n",
    "    \n",
    "end"
   ]
  },
  {
   "cell_type": "code",
   "execution_count": 7,
   "id": "9d1c30b3",
   "metadata": {},
   "outputs": [
    {
     "data": {
      "text/plain": [
       "three_body_prob_dynamics (generic function with 1 method)"
      ]
     },
     "metadata": {},
     "output_type": "display_data"
    }
   ],
   "source": [
    "function three_body_prob_dynamics(x)\n",
    "    \n",
    "    q = zeros(eltype(x),3)\n",
    "    v = zeros(eltype(x),3)\n",
    "    q = x[1:3]\n",
    "    v = x[4:6]\n",
    "\n",
    "    ẋ = zeros(eltype(x),6)\n",
    "    U_q = zeros(eltype(x),3)\n",
    "    \n",
    "    U_q = (ForwardDiff.gradient(_x -> effective_potential(_x), q))\n",
    "        \n",
    "    ẋ[1:3] = v\n",
    "    ẋ[4] = 2*v[2] - U_q[1] \n",
    "    ẋ[5] = -2*v[1] - U_q[2]\n",
    "    ẋ[6] = -U_q[3]\n",
    "\n",
    "    return ẋ\n",
    "end"
   ]
  },
  {
   "cell_type": "code",
   "execution_count": 8,
   "id": "58029e73",
   "metadata": {},
   "outputs": [
    {
     "data": {
      "text/plain": [
       "three_body_prob_dynamics_wcontrol (generic function with 1 method)"
      ]
     },
     "metadata": {},
     "output_type": "display_data"
    }
   ],
   "source": [
    "#x[1:6] -> state\n",
    "#x[7:9] -> control inputs\n",
    "\n",
    "function three_body_prob_dynamics_wcontrol(x)\n",
    "    \n",
    "    q = zeros(eltype(x),3)\n",
    "    v = zeros(eltype(x),3)\n",
    "    q = x[1:3]\n",
    "    v = x[4:6]\n",
    "    u = x[7:9]\n",
    "\n",
    "    ẋ = zeros(eltype(x),9)\n",
    "    \n",
    "    U_q = zeros(eltype(x),3)\n",
    "    \n",
    "    U_q = (ForwardDiff.gradient(_x -> effective_potential(_x), q))\n",
    "        \n",
    "    ẋ[1:3] = v\n",
    "    ẋ[4] = 2*v[2] - U_q[1] + u[1] \n",
    "    ẋ[5] = -2*v[1] - U_q[2] + u[2]\n",
    "    ẋ[6] = -U_q[3] + u[3]\n",
    "    \n",
    "    #zero order hold on the controls \n",
    "    ẋ[7:9] = zeros(3)\n",
    "\n",
    "    return ẋ\n",
    "end"
   ]
  },
  {
   "cell_type": "code",
   "execution_count": 9,
   "id": "b44e2642",
   "metadata": {},
   "outputs": [
    {
     "data": {
      "text/plain": [
       "ST_and_dynamics_DFJL_wcontrol! (generic function with 1 method)"
      ]
     },
     "metadata": {},
     "output_type": "display_data"
    }
   ],
   "source": [
    "#solve using DifferentialEquations.jl\n",
    "function ST_and_dynamics_DFJL_wcontrol!(du, u, p, t)\n",
    "    \n",
    "    du[1:9] = three_body_prob_dynamics_wcontrol(u[1:9])\n",
    "    \n",
    "end"
   ]
  },
  {
   "cell_type": "code",
   "execution_count": 10,
   "id": "cb83d2fa",
   "metadata": {},
   "outputs": [
    {
     "data": {
      "text/plain": [
       "dynamics_wcontrol_integrate (generic function with 1 method)"
      ]
     },
     "metadata": {},
     "output_type": "display_data"
    }
   ],
   "source": [
    "function dynamics_wcontrol_integrate(x_0,period)\n",
    "    \n",
    "    tspan = (0.0, period)\n",
    "    prob = ODEProblem(ST_and_dynamics_DFJL_wcontrol!, x_0, tspan)\n",
    "    sol = solve(prob, TsitPap8(), abstol=1e-12, reltol=1e-12)\n",
    "    \n",
    "    return sol\n",
    "    \n",
    "end"
   ]
  },
  {
   "cell_type": "code",
   "execution_count": 11,
   "id": "9b9e5092",
   "metadata": {},
   "outputs": [
    {
     "data": {
      "text/plain": [
       "integrate_halfperiod (generic function with 1 method)"
      ]
     },
     "metadata": {},
     "output_type": "display_data"
    }
   ],
   "source": [
    "#input is the initial condition\n",
    "#control trajectory u (size N-1)\n",
    "\n",
    "#integrate every half orbit\n",
    "\n",
    "#u is size 20\n",
    "\n",
    "#40 knot points in one rev. each of them are equally spaced apart\n",
    "\n",
    "function integrate_halfperiod(x_0, u)\n",
    "    \n",
    "    #u will be size 20\n",
    "    \n",
    "    #x trajectory not delta x \n",
    "\n",
    "    xtraj = zeros(6, 21)\n",
    "\n",
    "    xtraj[:,1] = x_0\n",
    "\n",
    "    #go through all the controls\n",
    "    for i=1:20\n",
    "        \n",
    "        #integrate the nonlinear dynamics 1 timstep forward\n",
    "        x_0_non = [xtraj[:,i]; u[:,i]]\n",
    "\n",
    "        solution_in = dynamics_wcontrol_integrate(x_0_non, Δt)\n",
    "\n",
    "        #this is the next state\n",
    "        all_state_next = get_state_wcontrol(solution_in)\n",
    "\n",
    "        xtraj[:,i+1] = all_state_next[1:6, end]\n",
    "        \n",
    "    end\n",
    "    \n",
    "    #this is size N. 21. Element 21 is the new 1\n",
    "    return xtraj\n",
    "        \n",
    "end"
   ]
  },
  {
   "cell_type": "code",
   "execution_count": 12,
   "id": "3fa812e5",
   "metadata": {},
   "outputs": [
    {
     "data": {
      "text/plain": [
       "integrate_1dt (generic function with 1 method)"
      ]
     },
     "metadata": {},
     "output_type": "display_data"
    }
   ],
   "source": [
    "#input is the initial condition\n",
    "#control trajectory u (size N-1)\n",
    "\n",
    "#integrate just one timestep\n",
    "\n",
    "#u is size 1\n",
    "\n",
    "function integrate_1dt(x_0, u)\n",
    "    \n",
    "    #x trajectory not delta x \n",
    "\n",
    "    #integrate the nonlinear dynamics 1 timstep forward\n",
    "    x_0_non = [x_0; u]\n",
    "\n",
    "    solution_in = dynamics_wcontrol_integrate(x_0_non, Δt)\n",
    "\n",
    "    #this is the next state\n",
    "    all_state_next = get_state_wcontrol(solution_in)\n",
    "\n",
    "    xnext = all_state_next[1:6, end]\n",
    "    \n",
    "    return xnext\n",
    "        \n",
    "end"
   ]
  },
  {
   "cell_type": "code",
   "execution_count": 13,
   "id": "57310ed5",
   "metadata": {},
   "outputs": [
    {
     "data": {
      "text/plain": [
       "integrate_oneperiod (generic function with 1 method)"
      ]
     },
     "metadata": {},
     "output_type": "display_data"
    }
   ],
   "source": [
    "function integrate_oneperiod(x_0, u)\n",
    "    \n",
    "    #u will be size 40 since we only want to apply the controls for one rev\n",
    "    \n",
    "    #x trajectory not delta x \n",
    "\n",
    "    xtraj = zeros(6, N_period)\n",
    "\n",
    "    xtraj[:,1] = x_0\n",
    "\n",
    "    for i=1:N_period-1\n",
    "        \n",
    "        #integrate the nonlinear dynamics 1 timstep forward\n",
    "        x_0_non = [xtraj[:,i]; u[:,i]]\n",
    "\n",
    "        solution_in = dynamics_wcontrol_integrate(x_0_non, Δt)\n",
    "\n",
    "        #this is the next state\n",
    "        all_state_next = get_state_wcontrol(solution_in)\n",
    "\n",
    "        xtraj[:,i+1] = all_state_next[1:6, end]\n",
    "    end\n",
    "    \n",
    "    #this is size N. 40 for this case\n",
    "    return xtraj\n",
    "        \n",
    "end"
   ]
  },
  {
   "cell_type": "code",
   "execution_count": 14,
   "id": "e5aa7eed",
   "metadata": {},
   "outputs": [
    {
     "data": {
      "text/plain": [
       "phi_ode (generic function with 1 method)"
      ]
     },
     "metadata": {},
     "output_type": "display_data"
    }
   ],
   "source": [
    "#ODE for the state transition matrix \n",
    "\n",
    "function phi_ode(z)\n",
    "    \n",
    "    #state vector\n",
    "    x = z[1:6]\n",
    "    \n",
    "    #state transition matrix\n",
    "    Φ = reshape(z[7:end], (6,6))\n",
    "    \n",
    "    #Find the dynamics jacobian at the state vector\n",
    "    F =  ForwardDiff.jacobian(dx -> three_body_prob_dynamics(dx), x)\n",
    "    \n",
    "    #Differential Equation of State transition Matrix\n",
    "    Φ_dot = F*Φ\n",
    "    \n",
    "    return vec(Φ_dot)\n",
    "    \n",
    "end"
   ]
  },
  {
   "cell_type": "code",
   "execution_count": 15,
   "id": "e2de6de1",
   "metadata": {},
   "outputs": [
    {
     "data": {
      "text/plain": [
       "ST_and_dynamics (generic function with 1 method)"
      ]
     },
     "metadata": {},
     "output_type": "display_data"
    }
   ],
   "source": [
    "#3BP dynamics and state transition matrix dynamics in one function \n",
    "function ST_and_dynamics(z)\n",
    "    x = z[1:6]\n",
    "    Φ = z[7:end]\n",
    "    \n",
    "    x_dot = three_body_prob_dynamics(x)\n",
    "    Φ_dot = phi_ode(z)\n",
    "    \n",
    "    z_dot = [x_dot; Φ_dot]\n",
    "    \n",
    "    return z_dot\n",
    "end"
   ]
  },
  {
   "cell_type": "code",
   "execution_count": 16,
   "id": "b51295b2",
   "metadata": {},
   "outputs": [
    {
     "data": {
      "text/plain": [
       "ST_and_dynamics_DFJL! (generic function with 1 method)"
      ]
     },
     "metadata": {},
     "output_type": "display_data"
    }
   ],
   "source": [
    "#solve using DifferentialEquations.jl\n",
    "function ST_and_dynamics_DFJL!(du, u, p, t)\n",
    "    \n",
    "    du[1:6] = three_body_prob_dynamics(u[1:6])\n",
    "    du[7:end] = phi_ode(u)\n",
    "    \n",
    "end"
   ]
  },
  {
   "cell_type": "code",
   "execution_count": 17,
   "id": "2206cb48",
   "metadata": {},
   "outputs": [
    {
     "data": {
      "text/plain": [
       "justdynamics_DFJL! (generic function with 1 method)"
      ]
     },
     "metadata": {},
     "output_type": "display_data"
    }
   ],
   "source": [
    "#solve using DifferentialEquations.jl\n",
    "function justdynamics_DFJL!(du, u, p, t)\n",
    "    \n",
    "    du[1:6] = three_body_prob_dynamics(u[1:6])\n",
    "    \n",
    "end"
   ]
  },
  {
   "cell_type": "code",
   "execution_count": 18,
   "id": "c3f0d90f",
   "metadata": {},
   "outputs": [
    {
     "data": {
      "text/plain": [
       "get_state_stm (generic function with 1 method)"
      ]
     },
     "metadata": {},
     "output_type": "display_data"
    }
   ],
   "source": [
    "#gets the state and state transition matrix for the entire solution\n",
    "\n",
    "function get_state_stm(solution)\n",
    "    \n",
    "    N = size(solution.u)[1]\n",
    "\n",
    "    all_states = zeros(6, N)\n",
    "\n",
    "    all_stm = zeros(6,6,N)\n",
    "\n",
    "    for i=1:N\n",
    "        all_states[:,i] = solution.u[i][1:6]\n",
    "        all_stm[:,:,i] = reshape(solution.u[i][7:end], (6,6)) \n",
    "    end\n",
    "    \n",
    "    #all states and all stm are functions of t\n",
    "    #solution.t is the time\n",
    "    return all_states, all_stm, solution.t \n",
    "end"
   ]
  },
  {
   "cell_type": "code",
   "execution_count": 19,
   "id": "f7c99707",
   "metadata": {},
   "outputs": [
    {
     "data": {
      "text/plain": [
       "get_state_wcontrol (generic function with 1 method)"
      ]
     },
     "metadata": {},
     "output_type": "display_data"
    }
   ],
   "source": [
    "#gets the state and transition matrix for the entire solution\n",
    "\n",
    "function get_state_wcontrol(solution)\n",
    "    \n",
    "    N = size(solution.u)[1]\n",
    "\n",
    "    all_states = zeros(9, N)\n",
    "\n",
    "    for i=1:N\n",
    "        all_states[:,i] = solution.u[i][1:9]\n",
    "    end\n",
    "    \n",
    "    #all states and all stm are functions of t\n",
    "    #solution.t is the time\n",
    "    return all_states\n",
    "end"
   ]
  },
  {
   "cell_type": "code",
   "execution_count": 20,
   "id": "eb1bb835",
   "metadata": {},
   "outputs": [
    {
     "data": {
      "text/plain": [
       "get_state (generic function with 1 method)"
      ]
     },
     "metadata": {},
     "output_type": "display_data"
    }
   ],
   "source": [
    "#gets the state and transition matrix for the entire solution\n",
    "\n",
    "function get_state(solution)\n",
    "    \n",
    "    N = size(solution.u)[1]\n",
    "\n",
    "    all_states = zeros(6, N)\n",
    "\n",
    "    for i=1:N\n",
    "        all_states[:,i] = solution.u[i][1:6]\n",
    "    end\n",
    "    \n",
    "    #all states and all stm are functions of t\n",
    "    #solution.t is the time\n",
    "    return all_states\n",
    "end"
   ]
  },
  {
   "cell_type": "code",
   "execution_count": 21,
   "id": "d38178c9",
   "metadata": {},
   "outputs": [
    {
     "data": {
      "text/plain": [
       "diff_solve (generic function with 1 method)"
      ]
     },
     "metadata": {},
     "output_type": "display_data"
    }
   ],
   "source": [
    "\n",
    "#this solved until we cross the xz plane\n",
    "function diff_solve(x_0, period)\n",
    "    \n",
    "    #stop when y=0\n",
    "    condition(u,t,integrator) = u[2]\n",
    "    \n",
    "    affect!(integrator) = terminate!(integrator)\n",
    "    \n",
    "    cb = ContinuousCallback(condition, affect!)\n",
    "    \n",
    "    tspan = (0.0, period)\n",
    "    prob = ODEProblem(ST_and_dynamics_DFJL!, x_0, tspan)\n",
    "    sol = solve(prob, TsitPap8(), abstol = 1e-12, reltol=1e-12, callback=cb)\n",
    "    \n",
    "    return sol\n",
    "    \n",
    "end"
   ]
  },
  {
   "cell_type": "code",
   "execution_count": 22,
   "id": "27f72562",
   "metadata": {},
   "outputs": [
    {
     "data": {
      "text/plain": [
       "dynamics_integrate (generic function with 1 method)"
      ]
     },
     "metadata": {},
     "output_type": "display_data"
    }
   ],
   "source": [
    "#integrate dynamics and state transition matrix\n",
    "function dynamics_integrate(x_0, period)\n",
    "    \n",
    "    tspan = (0.0, period)\n",
    "    prob = ODEProblem(ST_and_dynamics_DFJL!, x_0, tspan)\n",
    "    sol = solve(prob, TsitPap8(), abstol=1e-12, reltol=1e-12)\n",
    "    \n",
    "    return sol\n",
    "    \n",
    "end"
   ]
  },
  {
   "cell_type": "code",
   "execution_count": 23,
   "id": "e0b14fc0",
   "metadata": {},
   "outputs": [
    {
     "data": {
      "text/plain": [
       "just_dynamics_integrate (generic function with 1 method)"
      ]
     },
     "metadata": {},
     "output_type": "display_data"
    }
   ],
   "source": [
    "#integrate just the dynamics\n",
    "function just_dynamics_integrate(x_0, period)\n",
    "    \n",
    "    tspan = (0.0, period)\n",
    "    prob = ODEProblem(justdynamics_DFJL!, x_0, tspan)\n",
    "    sol = solve(prob, TsitPap8(), abstol=1e-12, reltol=1e-12)\n",
    "    \n",
    "    return sol\n",
    "    \n",
    "end"
   ]
  },
  {
   "cell_type": "code",
   "execution_count": 24,
   "id": "9945de49",
   "metadata": {},
   "outputs": [
    {
     "data": {
      "text/plain": [
       "1.2802860740198337e6"
      ]
     },
     "metadata": {},
     "output_type": "display_data"
    }
   ],
   "source": [
    "3.4071472466192527*time_scale"
   ]
  },
  {
   "cell_type": "code",
   "execution_count": 25,
   "id": "a658f3fb",
   "metadata": {},
   "outputs": [
    {
     "data": {
      "text/plain": [
       "6-element Vector{Float64}:\n",
       " 1.1201297302380415\n",
       " 0.0\n",
       " 0.014654708958207016\n",
       " 0.0\n",
       " 0.17331212810099958\n",
       " 0.0"
      ]
     },
     "metadata": {},
     "output_type": "display_data"
    }
   ],
   "source": [
    "using DelimitedFiles\n",
    "#period of the halo orbit. From ThreeBodyProblem.jl\n",
    "T = 3.4071472466192527\n",
    "\n",
    "#read in the initial guess trajectory. Richardson expansion from ThreeBodyProblem.jl\n",
    "richardson  = readdlm(\"richardsonL2.txt\", '\\t', Float64, '\\n')'\n",
    "\n",
    "x0_L2 = richardson[:,1]\n",
    "\n",
    "#for lyaponov\n",
    "#x0_L2 = x0_lyapunov\n",
    "\n",
    "#T = lyapunov_period"
   ]
  },
  {
   "cell_type": "code",
   "execution_count": 26,
   "id": "2e9c0384",
   "metadata": {},
   "outputs": [
    {
     "data": {
      "text/plain": [
       "6×6 Matrix{Float64}:\n",
       "  0.0       0.0       0.0       1.0   0.0   0.0\n",
       "  0.0       0.0       0.0       0.0   1.0   0.0\n",
       "  0.0       0.0       0.0       0.0   0.0   1.0\n",
       "  7.38087   0.0       0.0       0.0   2.0   0.0\n",
       " -0.0      -2.19044  -0.0      -2.0  -0.0  -0.0\n",
       " -0.0      -0.0      -3.19044  -0.0  -0.0  -0.0"
      ]
     },
     "metadata": {},
     "output_type": "display_data"
    }
   ],
   "source": [
    "#linearize the dynamics about the L2 Lagrange Point and go in the planar direction\n",
    "AL2 = ForwardDiff.jacobian(x-> three_body_prob_dynamics(x), XL2)"
   ]
  },
  {
   "cell_type": "code",
   "execution_count": 27,
   "id": "6e80f9bc",
   "metadata": {},
   "outputs": [],
   "source": [
    "#nonzero_cmplx_eigen_L2 = cmplx_eigen_L2[cmplx_eigen_L2 .!=0]"
   ]
  },
  {
   "cell_type": "code",
   "execution_count": 28,
   "id": "e86fa5a0",
   "metadata": {},
   "outputs": [],
   "source": [
    "#marginally stable directions (periodic motion)\n",
    "#direction2_L2 = A_L2_eigen.vectors[:, 2]\n",
    "#direction3_L2 = A_L2_eigen.vectors[:, 3]\n",
    "#direction4_L2 = A_L2_eigen.vectors[:, 4]\n",
    "#direction5_L2 = A_L2_eigen.vectors[:, 5]"
   ]
  },
  {
   "cell_type": "code",
   "execution_count": 29,
   "id": "f5ddcb14",
   "metadata": {},
   "outputs": [],
   "source": [
    "#display(direction2_L2)\n",
    "#display(direction3_L2)\n",
    "#display(direction4_L2)\n",
    "#display(direction5_L2)\n",
    "#directions 2 and 3 correspond to out of plane motion. We will select a perturbation\n",
    "#in plane to get a Lyaponov orbit"
   ]
  },
  {
   "cell_type": "code",
   "execution_count": 30,
   "id": "b787093e",
   "metadata": {},
   "outputs": [],
   "source": [
    "#nonzero_cmplx_eigen_L2"
   ]
  },
  {
   "cell_type": "code",
   "execution_count": 31,
   "id": "d237ee61",
   "metadata": {},
   "outputs": [],
   "source": [
    "#real(direction2_L2)"
   ]
  },
  {
   "cell_type": "code",
   "execution_count": 32,
   "id": "2d9b3398",
   "metadata": {},
   "outputs": [],
   "source": [
    "#real(direction3_L2)"
   ]
  },
  {
   "cell_type": "code",
   "execution_count": 33,
   "id": "a2a222eb",
   "metadata": {},
   "outputs": [],
   "source": [
    "#real(direction4_L2)"
   ]
  },
  {
   "cell_type": "code",
   "execution_count": 34,
   "id": "77da11e4",
   "metadata": {},
   "outputs": [],
   "source": [
    "#real(direction5_L2)"
   ]
  },
  {
   "cell_type": "code",
   "execution_count": 35,
   "id": "cdfd3d6b",
   "metadata": {},
   "outputs": [],
   "source": [
    "#we will perturb the L2 lagrange point by direction 5 (planar stable direction)\n",
    "#approximate the period of Lyaponov orbit with T = |omega|/(2π) where omega = |λ_5|\n",
    "\n",
    "#λ_planar = norm(A_L2_eigen.values[5])\n",
    "#T_planar = 2*pi/λ_planar\n",
    "\n",
    "#set T to whatever direction you use\n",
    "#T = T_planar\n",
    "\n",
    "#weight of the perturbation (1e-3 works)\n",
    "#w2 = 1e-5\n",
    "\n",
    "#this is the perturbation in the planar direction\n",
    "#perturbation_planar_L2 = w2*(real(direction5_L2))\n",
    "\n",
    "#this is a linear combination between both of the directions\n",
    "#x0_L2 = XL2 + perturbation_planar_L2"
   ]
  },
  {
   "cell_type": "code",
   "execution_count": 36,
   "id": "bd12982e",
   "metadata": {},
   "outputs": [
    {
     "data": {
      "text/plain": [
       "([1.1201297302380415 1.1201315793894473 … 0.9598168359898963 0.9601713534220018; 0.0 0.002749466088557135 … -0.1169121350923755 -0.1172922996760091; … ; 0.17331212810099958 0.17320299972633757 … -0.029955511950586725 -0.017751032310781314; 0.0 -0.0013561046076076924 … 0.02590301832776876 0.02739485752939118], [1.0 0.0 … 0.0 0.0; 0.0 1.0 … 0.0 0.0; … ; 0.0 0.0 … 1.0 0.0; 0.0 0.0 … 0.0 1.0;;; 1.0015713531460613 7.090514858391351e-6 … 0.0002519065358273217 1.1438607094496763e-6; -3.086698612464229e-6 0.9993916134512492 … 0.01586169617188272 2.6498267536445577e-9; … ; -0.000583496383959822 -0.07665588588942303 … 0.9988886487108988 6.673536414028363e-7; 0.027262012051412838 0.0002792703296158481 … 5.240284891879581e-6 0.9992894271883602;;; 1.0080003686062222 8.117874078240962e-5 … 0.0012847681230624035 1.3111158861986725e-5; -3.541048474710067e-5 0.9969079306213369 … 0.035730603567059024 6.811595437706528e-8; … ; -0.0029652318462916227 -0.17244118009599924 … 0.9943602906842132 7.574464030103643e-6; 0.06142582770339529 0.0014140810510685567 … 5.987289239036817e-5 0.9963890672933117;;; … ;;; -420.6554887779596 4.72920808675761 … -89.62338651468704 -4.827162312474347; 170.84474661533685 -2.1509402732497427 … 36.139369134630094 1.9616977221016645; … ; -1910.999329805167 25.544792217202794 … -405.0357827788213 -21.70312869134663; -216.2850735806112 2.605516027023469 … -45.85419216108686 -3.183769320347745;;; -426.2411103369191 4.796772363519866 … -90.83183962059175 -4.890260547761791; 128.86412703861524 -1.5901976923392145 … 27.241385216289874 1.4848082614517524; … ; -1900.849127085926 25.370642283851158 … -402.90308234551395 -21.59851749610766; -207.02826037362684 2.4910986814025406 … -43.89116257047531 -3.0361581321408786;;; -430.91634524924604 4.85501234542165 … -91.84024724093054 -4.943084037774807; 98.58077311067554 -1.1862319270925716 … 20.822426165865625 1.1406502426175944; … ; -1899.1114108081442 25.318958334729412 … -402.549165620721 -21.586484155327174; -201.07275090186903 2.4190119388182048 … -42.627930050669654 -2.9364069785043094], [0.0, 0.01586757603594295, 0.035797999964084566, 0.057320352178705555, 0.08132342100624915, 0.10684383469538514, 0.1340021232031844, 0.16243877899037995, 0.19214153327056102, 0.22300080804785272  …  3.2454376015934794, 3.260523577661569, 3.2762697060943493, 3.292844916322997, 3.3103144647955007, 3.3288137607017267, 3.3483817240070164, 3.3691700853885527, 3.3912051978194033, 3.4071472466192527])"
      ]
     },
     "metadata": {},
     "output_type": "display_data"
    }
   ],
   "source": [
    "#Integrate the dynamics with the initial state of the Richardson expansion as the first state\n",
    "Φ_0 = vec(Matrix(1.0*I, 6,6))\n",
    "x_0_stm = [x0_L2; Φ_0]\n",
    "\n",
    "solution_in = dynamics_integrate(x_0_stm, T)\n",
    "\n",
    "all_state_in, stm_in, sol_t_in = get_state_stm(solution_in)"
   ]
  },
  {
   "cell_type": "code",
   "execution_count": 37,
   "id": "01ab67ab",
   "metadata": {},
   "outputs": [],
   "source": [
    "#a = LinRange(1,2,10)"
   ]
  },
  {
   "cell_type": "code",
   "execution_count": 38,
   "id": "82c094ef",
   "metadata": {},
   "outputs": [],
   "source": [
    "#solution_in(a).u[2]"
   ]
  },
  {
   "cell_type": "code",
   "execution_count": 39,
   "id": "ffc69868",
   "metadata": {},
   "outputs": [
    {
     "data": {
      "text/plain": [
       "6-element Vector{Float64}:\n",
       " -0.15995837681603975\n",
       " -0.1172922996760091\n",
       " -0.02626106608221971\n",
       "  0.02291137489818987\n",
       " -0.1910631604117809\n",
       "  0.02739485752939118"
      ]
     },
     "metadata": {},
     "output_type": "display_data"
    }
   ],
   "source": [
    "initial_norm = all_state_in[:,end] - all_state_in[:,1]"
   ]
  },
  {
   "cell_type": "code",
   "execution_count": 40,
   "id": "592767c6",
   "metadata": {},
   "outputs": [
    {
     "data": {
      "image/png": "[encoded data removed]",
      "image/svg+xml": [
       "<?xml version=\"1.0\" encoding=\"utf-8\"?>\n",
       "<svg xmlns=\"http://www.w3.org/2000/svg\" xmlns:xlink=\"http://www.w3.org/1999/xlink\" width=\"600\" height=\"400\" viewBox=\"0 0 2400 1600\">\n",
       "<defs>\n",
       "  <clipPath id=\"clip780\">\n",
       "    <rect x=\"0\" y=\"0\" width=\"2400\" height=\"1600\"/>\n",
       "  </clipPath>\n",
       "</defs>\n",
       "<path clip-path=\"url(#clip780)\" d=\"M0 1600 L2400 1600 L2400 0 L0 0  Z\" fill=\"#ffffff\" fill-rule=\"evenodd\" fill-opacity=\"1\"/>\n",
       "<defs>\n",
       "  <clipPath id=\"clip781\">\n",
       "    <rect x=\"480\" y=\"0\" width=\"1681\" height=\"1600\"/>\n",
       "  </clipPath>\n",
       "</defs>\n",
       "<path clip-path=\"url(#clip780)\" d=\"M287.366 1423.18 L2352.76 1423.18 L2352.76 47.2441 L287.366 47.2441  Z\" fill=\"#ffffff\" fill-rule=\"evenodd\" fill-opacity=\"1\"/>\n",
       "<defs>\n",
       "  <clipPath id=\"clip782\">\n",
       "    <rect x=\"287\" y=\"47\" width=\"2066\" height=\"1377\"/>\n",
       "  </clipPath>\n",
       "</defs>\n",
       "<polyline clip-path=\"url(#clip782)\" style=\"stroke:#000000; stroke-linecap:round; stroke-linejoin:round; stroke-width:2; stroke-opacity:0.1; fill:none\" points=\"340.829,1423.18 340.829,47.2441 \"/>\n",
       "<polyline clip-path=\"url(#clip782)\" style=\"stroke:#000000; stroke-linecap:round; stroke-linejoin:round; stroke-width:2; stroke-opacity:0.1; fill:none\" points=\"779.975,1423.18 779.975,47.2441 \"/>\n",
       "<polyline clip-path=\"url(#clip782)\" style=\"stroke:#000000; stroke-linecap:round; stroke-linejoin:round; stroke-width:2; stroke-opacity:0.1; fill:none\" points=\"1219.12,1423.18 1219.12,47.2441 \"/>\n",
       "<polyline clip-path=\"url(#clip782)\" style=\"stroke:#000000; stroke-linecap:round; stroke-linejoin:round; stroke-width:2; stroke-opacity:0.1; fill:none\" points=\"1658.26,1423.18 1658.26,47.2441 \"/>\n",
       "<polyline clip-path=\"url(#clip782)\" style=\"stroke:#000000; stroke-linecap:round; stroke-linejoin:round; stroke-width:2; stroke-opacity:0.1; fill:none\" points=\"2097.41,1423.18 2097.41,47.2441 \"/>\n",
       "<polyline clip-path=\"url(#clip780)\" style=\"stroke:#000000; stroke-linecap:round; stroke-linejoin:round; stroke-width:4; stroke-opacity:1; fill:none\" points=\"287.366,1423.18 2352.76,1423.18 \"/>\n",
       "<polyline clip-path=\"url(#clip780)\" style=\"stroke:#000000; stroke-linecap:round; stroke-linejoin:round; stroke-width:4; stroke-opacity:1; fill:none\" points=\"340.829,1423.18 340.829,1404.28 \"/>\n",
       "<polyline clip-path=\"url(#clip780)\" style=\"stroke:#000000; stroke-linecap:round; stroke-linejoin:round; stroke-width:4; stroke-opacity:1; fill:none\" points=\"779.975,1423.18 779.975,1404.28 \"/>\n",
       "<polyline clip-path=\"url(#clip780)\" style=\"stroke:#000000; stroke-linecap:round; stroke-linejoin:round; stroke-width:4; stroke-opacity:1; fill:none\" points=\"1219.12,1423.18 1219.12,1404.28 \"/>\n",
       "<polyline clip-path=\"url(#clip780)\" style=\"stroke:#000000; stroke-linecap:round; stroke-linejoin:round; stroke-width:4; stroke-opacity:1; fill:none\" points=\"1658.26,1423.18 1658.26,1404.28 \"/>\n",
       "<polyline clip-path=\"url(#clip780)\" style=\"stroke:#000000; stroke-linecap:round; stroke-linejoin:round; stroke-width:4; stroke-opacity:1; fill:none\" points=\"2097.41,1423.18 2097.41,1404.28 \"/>\n",
       "<path clip-path=\"url(#clip780)\" d=\"M303.631 1454.1 Q300.019 1454.1 298.191 1457.66 Q296.385 1461.2 296.385 1468.33 Q296.385 1475.44 298.191 1479.01 Q300.019 1482.55 303.631 1482.55 Q307.265 1482.55 309.07 1479.01 Q310.899 1475.44 310.899 1468.33 Q310.899 1461.2 309.07 1457.66 Q307.265 1454.1 303.631 1454.1 M303.631 1450.39 Q309.441 1450.39 312.496 1455 Q315.575 1459.58 315.575 1468.33 Q315.575 1477.06 312.496 1481.67 Q309.441 1486.25 303.631 1486.25 Q297.82 1486.25 294.742 1481.67 Q291.686 1477.06 291.686 1468.33 Q291.686 1459.58 294.742 1455 Q297.82 1450.39 303.631 1450.39 Z\" fill=\"#000000\" fill-rule=\"nonzero\" fill-opacity=\"1\" /><path clip-path=\"url(#clip780)\" d=\"M323.792 1479.7 L328.677 1479.7 L328.677 1485.58 L323.792 1485.58 L323.792 1479.7 Z\" fill=\"#000000\" fill-rule=\"nonzero\" fill-opacity=\"1\" /><path clip-path=\"url(#clip780)\" d=\"M339.001 1484.86 L339.001 1480.6 Q340.76 1481.44 342.566 1481.88 Q344.371 1482.32 346.107 1482.32 Q350.737 1482.32 353.167 1479.21 Q355.621 1476.09 355.968 1469.75 Q354.626 1471.74 352.565 1472.8 Q350.505 1473.87 348.005 1473.87 Q342.82 1473.87 339.788 1470.74 Q336.779 1467.59 336.779 1462.15 Q336.779 1456.83 339.927 1453.61 Q343.075 1450.39 348.306 1450.39 Q354.302 1450.39 357.45 1455 Q360.621 1459.58 360.621 1468.33 Q360.621 1476.51 356.732 1481.39 Q352.866 1486.25 346.316 1486.25 Q344.556 1486.25 342.751 1485.9 Q340.945 1485.56 339.001 1484.86 M348.306 1470.21 Q351.454 1470.21 353.283 1468.06 Q355.135 1465.9 355.135 1462.15 Q355.135 1458.43 353.283 1456.27 Q351.454 1454.1 348.306 1454.1 Q345.158 1454.1 343.306 1456.27 Q341.478 1458.43 341.478 1462.15 Q341.478 1465.9 343.306 1468.06 Q345.158 1470.21 348.306 1470.21 Z\" fill=\"#000000\" fill-rule=\"nonzero\" fill-opacity=\"1\" /><path clip-path=\"url(#clip780)\" d=\"M369.07 1451.02 L387.426 1451.02 L387.426 1454.96 L373.352 1454.96 L373.352 1463.43 Q374.371 1463.08 375.389 1462.92 Q376.408 1462.73 377.426 1462.73 Q383.213 1462.73 386.593 1465.9 Q389.973 1469.08 389.973 1474.49 Q389.973 1480.07 386.5 1483.17 Q383.028 1486.25 376.709 1486.25 Q374.533 1486.25 372.264 1485.88 Q370.019 1485.51 367.612 1484.77 L367.612 1480.07 Q369.695 1481.2 371.917 1481.76 Q374.139 1482.32 376.616 1482.32 Q380.621 1482.32 382.959 1480.21 Q385.297 1478.1 385.297 1474.49 Q385.297 1470.88 382.959 1468.77 Q380.621 1466.67 376.616 1466.67 Q374.741 1466.67 372.866 1467.08 Q371.014 1467.5 369.07 1468.38 L369.07 1451.02 Z\" fill=\"#000000\" fill-rule=\"nonzero\" fill-opacity=\"1\" /><path clip-path=\"url(#clip780)\" d=\"M732.047 1481.64 L739.685 1481.64 L739.685 1455.28 L731.375 1456.95 L731.375 1452.69 L739.639 1451.02 L744.315 1451.02 L744.315 1481.64 L751.954 1481.64 L751.954 1485.58 L732.047 1485.58 L732.047 1481.64 Z\" fill=\"#000000\" fill-rule=\"nonzero\" fill-opacity=\"1\" /><path clip-path=\"url(#clip780)\" d=\"M761.398 1479.7 L766.282 1479.7 L766.282 1485.58 L761.398 1485.58 L761.398 1479.7 Z\" fill=\"#000000\" fill-rule=\"nonzero\" fill-opacity=\"1\" /><path clip-path=\"url(#clip780)\" d=\"M786.468 1454.1 Q782.856 1454.1 781.028 1457.66 Q779.222 1461.2 779.222 1468.33 Q779.222 1475.44 781.028 1479.01 Q782.856 1482.55 786.468 1482.55 Q790.102 1482.55 791.907 1479.01 Q793.736 1475.44 793.736 1468.33 Q793.736 1461.2 791.907 1457.66 Q790.102 1454.1 786.468 1454.1 M786.468 1450.39 Q792.278 1450.39 795.333 1455 Q798.412 1459.58 798.412 1468.33 Q798.412 1477.06 795.333 1481.67 Q792.278 1486.25 786.468 1486.25 Q780.657 1486.25 777.579 1481.67 Q774.523 1477.06 774.523 1468.33 Q774.523 1459.58 777.579 1455 Q780.657 1450.39 786.468 1450.39 Z\" fill=\"#000000\" fill-rule=\"nonzero\" fill-opacity=\"1\" /><path clip-path=\"url(#clip780)\" d=\"M816.629 1454.1 Q813.018 1454.1 811.19 1457.66 Q809.384 1461.2 809.384 1468.33 Q809.384 1475.44 811.19 1479.01 Q813.018 1482.55 816.629 1482.55 Q820.264 1482.55 822.069 1479.01 Q823.898 1475.44 823.898 1468.33 Q823.898 1461.2 822.069 1457.66 Q820.264 1454.1 816.629 1454.1 M816.629 1450.39 Q822.44 1450.39 825.495 1455 Q828.574 1459.58 828.574 1468.33 Q828.574 1477.06 825.495 1481.67 Q822.44 1486.25 816.629 1486.25 Q810.819 1486.25 807.741 1481.67 Q804.685 1477.06 804.685 1468.33 Q804.685 1459.58 807.741 1455 Q810.819 1450.39 816.629 1450.39 Z\" fill=\"#000000\" fill-rule=\"nonzero\" fill-opacity=\"1\" /><path clip-path=\"url(#clip780)\" d=\"M1171.69 1481.64 L1179.33 1481.64 L1179.33 1455.28 L1171.02 1456.95 L1171.02 1452.69 L1179.28 1451.02 L1183.96 1451.02 L1183.96 1481.64 L1191.6 1481.64 L1191.6 1485.58 L1171.69 1485.58 L1171.69 1481.64 Z\" fill=\"#000000\" fill-rule=\"nonzero\" fill-opacity=\"1\" /><path clip-path=\"url(#clip780)\" d=\"M1201.04 1479.7 L1205.93 1479.7 L1205.93 1485.58 L1201.04 1485.58 L1201.04 1479.7 Z\" fill=\"#000000\" fill-rule=\"nonzero\" fill-opacity=\"1\" /><path clip-path=\"url(#clip780)\" d=\"M1226.11 1454.1 Q1222.5 1454.1 1220.67 1457.66 Q1218.86 1461.2 1218.86 1468.33 Q1218.86 1475.44 1220.67 1479.01 Q1222.5 1482.55 1226.11 1482.55 Q1229.74 1482.55 1231.55 1479.01 Q1233.38 1475.44 1233.38 1468.33 Q1233.38 1461.2 1231.55 1457.66 Q1229.74 1454.1 1226.11 1454.1 M1226.11 1450.39 Q1231.92 1450.39 1234.98 1455 Q1238.05 1459.58 1238.05 1468.33 Q1238.05 1477.06 1234.98 1481.67 Q1231.92 1486.25 1226.11 1486.25 Q1220.3 1486.25 1217.22 1481.67 Q1214.17 1477.06 1214.17 1468.33 Q1214.17 1459.58 1217.22 1455 Q1220.3 1450.39 1226.11 1450.39 Z\" fill=\"#000000\" fill-rule=\"nonzero\" fill-opacity=\"1\" /><path clip-path=\"url(#clip780)\" d=\"M1246.32 1451.02 L1264.67 1451.02 L1264.67 1454.96 L1250.6 1454.96 L1250.6 1463.43 Q1251.62 1463.08 1252.64 1462.92 Q1253.66 1462.73 1254.67 1462.73 Q1260.46 1462.73 1263.84 1465.9 Q1267.22 1469.08 1267.22 1474.49 Q1267.22 1480.07 1263.75 1483.17 Q1260.28 1486.25 1253.96 1486.25 Q1251.78 1486.25 1249.51 1485.88 Q1247.27 1485.51 1244.86 1484.77 L1244.86 1480.07 Q1246.94 1481.2 1249.17 1481.76 Q1251.39 1482.32 1253.86 1482.32 Q1257.87 1482.32 1260.21 1480.21 Q1262.55 1478.1 1262.55 1474.49 Q1262.55 1470.88 1260.21 1468.77 Q1257.87 1466.67 1253.86 1466.67 Q1251.99 1466.67 1250.11 1467.08 Q1248.26 1467.5 1246.32 1468.38 L1246.32 1451.02 Z\" fill=\"#000000\" fill-rule=\"nonzero\" fill-opacity=\"1\" /><path clip-path=\"url(#clip780)\" d=\"M1610.34 1481.64 L1617.98 1481.64 L1617.98 1455.28 L1609.67 1456.95 L1609.67 1452.69 L1617.93 1451.02 L1622.61 1451.02 L1622.61 1481.64 L1630.24 1481.64 L1630.24 1485.58 L1610.34 1485.58 L1610.34 1481.64 Z\" fill=\"#000000\" fill-rule=\"nonzero\" fill-opacity=\"1\" /><path clip-path=\"url(#clip780)\" d=\"M1639.69 1479.7 L1644.57 1479.7 L1644.57 1485.58 L1639.69 1485.58 L1639.69 1479.7 Z\" fill=\"#000000\" fill-rule=\"nonzero\" fill-opacity=\"1\" /><path clip-path=\"url(#clip780)\" d=\"M1655.57 1481.64 L1663.21 1481.64 L1663.21 1455.28 L1654.9 1456.95 L1654.9 1452.69 L1663.16 1451.02 L1667.84 1451.02 L1667.84 1481.64 L1675.48 1481.64 L1675.48 1485.58 L1655.57 1485.58 L1655.57 1481.64 Z\" fill=\"#000000\" fill-rule=\"nonzero\" fill-opacity=\"1\" /><path clip-path=\"url(#clip780)\" d=\"M1694.92 1454.1 Q1691.31 1454.1 1689.48 1457.66 Q1687.67 1461.2 1687.67 1468.33 Q1687.67 1475.44 1689.48 1479.01 Q1691.31 1482.55 1694.92 1482.55 Q1698.55 1482.55 1700.36 1479.01 Q1702.19 1475.44 1702.19 1468.33 Q1702.19 1461.2 1700.36 1457.66 Q1698.55 1454.1 1694.92 1454.1 M1694.92 1450.39 Q1700.73 1450.39 1703.79 1455 Q1706.86 1459.58 1706.86 1468.33 Q1706.86 1477.06 1703.79 1481.67 Q1700.73 1486.25 1694.92 1486.25 Q1689.11 1486.25 1686.03 1481.67 Q1682.98 1477.06 1682.98 1468.33 Q1682.98 1459.58 1686.03 1455 Q1689.11 1450.39 1694.92 1450.39 Z\" fill=\"#000000\" fill-rule=\"nonzero\" fill-opacity=\"1\" /><path clip-path=\"url(#clip780)\" d=\"M2049.98 1481.64 L2057.62 1481.64 L2057.62 1455.28 L2049.31 1456.95 L2049.31 1452.69 L2057.57 1451.02 L2062.25 1451.02 L2062.25 1481.64 L2069.89 1481.64 L2069.89 1485.58 L2049.98 1485.58 L2049.98 1481.64 Z\" fill=\"#000000\" fill-rule=\"nonzero\" fill-opacity=\"1\" /><path clip-path=\"url(#clip780)\" d=\"M2079.33 1479.7 L2084.22 1479.7 L2084.22 1485.58 L2079.33 1485.58 L2079.33 1479.7 Z\" fill=\"#000000\" fill-rule=\"nonzero\" fill-opacity=\"1\" /><path clip-path=\"url(#clip780)\" d=\"M2095.21 1481.64 L2102.85 1481.64 L2102.85 1455.28 L2094.54 1456.95 L2094.54 1452.69 L2102.8 1451.02 L2107.48 1451.02 L2107.48 1481.64 L2115.12 1481.64 L2115.12 1485.58 L2095.21 1485.58 L2095.21 1481.64 Z\" fill=\"#000000\" fill-rule=\"nonzero\" fill-opacity=\"1\" /><path clip-path=\"url(#clip780)\" d=\"M2124.61 1451.02 L2142.97 1451.02 L2142.97 1454.96 L2128.89 1454.96 L2128.89 1463.43 Q2129.91 1463.08 2130.93 1462.92 Q2131.95 1462.73 2132.97 1462.73 Q2138.75 1462.73 2142.13 1465.9 Q2145.51 1469.08 2145.51 1474.49 Q2145.51 1480.07 2142.04 1483.17 Q2138.57 1486.25 2132.25 1486.25 Q2130.07 1486.25 2127.8 1485.88 Q2125.56 1485.51 2123.15 1484.77 L2123.15 1480.07 Q2125.23 1481.2 2127.46 1481.76 Q2129.68 1482.32 2132.15 1482.32 Q2136.16 1482.32 2138.5 1480.21 Q2140.84 1478.1 2140.84 1474.49 Q2140.84 1470.88 2138.5 1468.77 Q2136.16 1466.67 2132.15 1466.67 Q2130.28 1466.67 2128.4 1467.08 Q2126.55 1467.5 2124.61 1468.38 L2124.61 1451.02 Z\" fill=\"#000000\" fill-rule=\"nonzero\" fill-opacity=\"1\" /><path clip-path=\"url(#clip780)\" d=\"M1336.68 1532.4 L1323.78 1549.74 L1337.34 1568.04 L1330.44 1568.04 L1320.06 1554.04 L1309.68 1568.04 L1302.78 1568.04 L1316.62 1549.39 L1303.96 1532.4 L1310.86 1532.4 L1320.32 1545.1 L1329.77 1532.4 L1336.68 1532.4 Z\" fill=\"#000000\" fill-rule=\"nonzero\" fill-opacity=\"1\" /><polyline clip-path=\"url(#clip782)\" style=\"stroke:#000000; stroke-linecap:round; stroke-linejoin:round; stroke-width:2; stroke-opacity:0.1; fill:none\" points=\"287.366,1273.79 2352.76,1273.79 \"/>\n",
       "<polyline clip-path=\"url(#clip782)\" style=\"stroke:#000000; stroke-linecap:round; stroke-linejoin:round; stroke-width:2; stroke-opacity:0.1; fill:none\" points=\"287.366,954.422 2352.76,954.422 \"/>\n",
       "<polyline clip-path=\"url(#clip782)\" style=\"stroke:#000000; stroke-linecap:round; stroke-linejoin:round; stroke-width:2; stroke-opacity:0.1; fill:none\" points=\"287.366,635.057 2352.76,635.057 \"/>\n",
       "<polyline clip-path=\"url(#clip782)\" style=\"stroke:#000000; stroke-linecap:round; stroke-linejoin:round; stroke-width:2; stroke-opacity:0.1; fill:none\" points=\"287.366,315.692 2352.76,315.692 \"/>\n",
       "<polyline clip-path=\"url(#clip780)\" style=\"stroke:#000000; stroke-linecap:round; stroke-linejoin:round; stroke-width:4; stroke-opacity:1; fill:none\" points=\"287.366,1423.18 287.366,47.2441 \"/>\n",
       "<polyline clip-path=\"url(#clip780)\" style=\"stroke:#000000; stroke-linecap:round; stroke-linejoin:round; stroke-width:4; stroke-opacity:1; fill:none\" points=\"287.366,1273.79 306.264,1273.79 \"/>\n",
       "<polyline clip-path=\"url(#clip780)\" style=\"stroke:#000000; stroke-linecap:round; stroke-linejoin:round; stroke-width:4; stroke-opacity:1; fill:none\" points=\"287.366,954.422 306.264,954.422 \"/>\n",
       "<polyline clip-path=\"url(#clip780)\" style=\"stroke:#000000; stroke-linecap:round; stroke-linejoin:round; stroke-width:4; stroke-opacity:1; fill:none\" points=\"287.366,635.057 306.264,635.057 \"/>\n",
       "<polyline clip-path=\"url(#clip780)\" style=\"stroke:#000000; stroke-linecap:round; stroke-linejoin:round; stroke-width:4; stroke-opacity:1; fill:none\" points=\"287.366,315.692 306.264,315.692 \"/>\n",
       "<path clip-path=\"url(#clip780)\" d=\"M114.26 1274.24 L143.936 1274.24 L143.936 1278.17 L114.26 1278.17 L114.26 1274.24 Z\" fill=\"#000000\" fill-rule=\"nonzero\" fill-opacity=\"1\" /><path clip-path=\"url(#clip780)\" d=\"M164.028 1259.59 Q160.417 1259.59 158.589 1263.15 Q156.783 1266.69 156.783 1273.82 Q156.783 1280.93 158.589 1284.49 Q160.417 1288.03 164.028 1288.03 Q167.663 1288.03 169.468 1284.49 Q171.297 1280.93 171.297 1273.82 Q171.297 1266.69 169.468 1263.15 Q167.663 1259.59 164.028 1259.59 M164.028 1255.88 Q169.839 1255.88 172.894 1260.49 Q175.973 1265.07 175.973 1273.82 Q175.973 1282.55 172.894 1287.16 Q169.839 1291.74 164.028 1291.74 Q158.218 1291.74 155.14 1287.16 Q152.084 1282.55 152.084 1273.82 Q152.084 1265.07 155.14 1260.49 Q158.218 1255.88 164.028 1255.88 Z\" fill=\"#000000\" fill-rule=\"nonzero\" fill-opacity=\"1\" /><path clip-path=\"url(#clip780)\" d=\"M184.19 1285.19 L189.075 1285.19 L189.075 1291.07 L184.19 1291.07 L184.19 1285.19 Z\" fill=\"#000000\" fill-rule=\"nonzero\" fill-opacity=\"1\" /><path clip-path=\"url(#clip780)\" d=\"M200.07 1287.13 L207.709 1287.13 L207.709 1260.77 L199.399 1262.43 L199.399 1258.17 L207.662 1256.51 L212.338 1256.51 L212.338 1287.13 L219.977 1287.13 L219.977 1291.07 L200.07 1291.07 L200.07 1287.13 Z\" fill=\"#000000\" fill-rule=\"nonzero\" fill-opacity=\"1\" /><path clip-path=\"url(#clip780)\" d=\"M239.422 1259.59 Q235.81 1259.59 233.982 1263.15 Q232.176 1266.69 232.176 1273.82 Q232.176 1280.93 233.982 1284.49 Q235.81 1288.03 239.422 1288.03 Q243.056 1288.03 244.861 1284.49 Q246.69 1280.93 246.69 1273.82 Q246.69 1266.69 244.861 1263.15 Q243.056 1259.59 239.422 1259.59 M239.422 1255.88 Q245.232 1255.88 248.287 1260.49 Q251.366 1265.07 251.366 1273.82 Q251.366 1282.55 248.287 1287.16 Q245.232 1291.74 239.422 1291.74 Q233.611 1291.74 230.533 1287.16 Q227.477 1282.55 227.477 1273.82 Q227.477 1265.07 230.533 1260.49 Q233.611 1255.88 239.422 1255.88 Z\" fill=\"#000000\" fill-rule=\"nonzero\" fill-opacity=\"1\" /><path clip-path=\"url(#clip780)\" d=\"M115.256 954.874 L144.931 954.874 L144.931 958.809 L115.256 958.809 L115.256 954.874 Z\" fill=\"#000000\" fill-rule=\"nonzero\" fill-opacity=\"1\" /><path clip-path=\"url(#clip780)\" d=\"M165.024 940.221 Q161.413 940.221 159.584 943.786 Q157.778 947.327 157.778 954.457 Q157.778 961.563 159.584 965.128 Q161.413 968.67 165.024 968.67 Q168.658 968.67 170.464 965.128 Q172.292 961.563 172.292 954.457 Q172.292 947.327 170.464 943.786 Q168.658 940.221 165.024 940.221 M165.024 936.517 Q170.834 936.517 173.889 941.124 Q176.968 945.707 176.968 954.457 Q176.968 963.184 173.889 967.79 Q170.834 972.373 165.024 972.373 Q159.214 972.373 156.135 967.79 Q153.079 963.184 153.079 954.457 Q153.079 945.707 156.135 941.124 Q159.214 936.517 165.024 936.517 Z\" fill=\"#000000\" fill-rule=\"nonzero\" fill-opacity=\"1\" /><path clip-path=\"url(#clip780)\" d=\"M185.186 965.823 L190.07 965.823 L190.07 971.702 L185.186 971.702 L185.186 965.823 Z\" fill=\"#000000\" fill-rule=\"nonzero\" fill-opacity=\"1\" /><path clip-path=\"url(#clip780)\" d=\"M210.255 940.221 Q206.644 940.221 204.815 943.786 Q203.01 947.327 203.01 954.457 Q203.01 961.563 204.815 965.128 Q206.644 968.67 210.255 968.67 Q213.889 968.67 215.695 965.128 Q217.523 961.563 217.523 954.457 Q217.523 947.327 215.695 943.786 Q213.889 940.221 210.255 940.221 M210.255 936.517 Q216.065 936.517 219.121 941.124 Q222.199 945.707 222.199 954.457 Q222.199 963.184 219.121 967.79 Q216.065 972.373 210.255 972.373 Q204.445 972.373 201.366 967.79 Q198.311 963.184 198.311 954.457 Q198.311 945.707 201.366 941.124 Q204.445 936.517 210.255 936.517 Z\" fill=\"#000000\" fill-rule=\"nonzero\" fill-opacity=\"1\" /><path clip-path=\"url(#clip780)\" d=\"M230.463 937.142 L248.82 937.142 L248.82 941.077 L234.746 941.077 L234.746 949.55 Q235.764 949.202 236.783 949.04 Q237.801 948.855 238.82 948.855 Q244.607 948.855 247.986 952.026 Q251.366 955.198 251.366 960.614 Q251.366 966.193 247.894 969.295 Q244.421 972.373 238.102 972.373 Q235.926 972.373 233.658 972.003 Q231.412 971.633 229.005 970.892 L229.005 966.193 Q231.088 967.327 233.31 967.883 Q235.533 968.438 238.009 968.438 Q242.014 968.438 244.352 966.332 Q246.69 964.225 246.69 960.614 Q246.69 957.003 244.352 954.897 Q242.014 952.79 238.009 952.79 Q236.135 952.79 234.26 953.207 Q232.408 953.624 230.463 954.503 L230.463 937.142 Z\" fill=\"#000000\" fill-rule=\"nonzero\" fill-opacity=\"1\" /><path clip-path=\"url(#clip780)\" d=\"M164.028 620.856 Q160.417 620.856 158.589 624.421 Q156.783 627.962 156.783 635.092 Q156.783 642.198 158.589 645.763 Q160.417 649.305 164.028 649.305 Q167.663 649.305 169.468 645.763 Q171.297 642.198 171.297 635.092 Q171.297 627.962 169.468 624.421 Q167.663 620.856 164.028 620.856 M164.028 617.152 Q169.839 617.152 172.894 621.759 Q175.973 626.342 175.973 635.092 Q175.973 643.819 172.894 648.425 Q169.839 653.009 164.028 653.009 Q158.218 653.009 155.14 648.425 Q152.084 643.819 152.084 635.092 Q152.084 626.342 155.14 621.759 Q158.218 617.152 164.028 617.152 Z\" fill=\"#000000\" fill-rule=\"nonzero\" fill-opacity=\"1\" /><path clip-path=\"url(#clip780)\" d=\"M184.19 646.458 L189.075 646.458 L189.075 652.337 L184.19 652.337 L184.19 646.458 Z\" fill=\"#000000\" fill-rule=\"nonzero\" fill-opacity=\"1\" /><path clip-path=\"url(#clip780)\" d=\"M209.26 620.856 Q205.649 620.856 203.82 624.421 Q202.014 627.962 202.014 635.092 Q202.014 642.198 203.82 645.763 Q205.649 649.305 209.26 649.305 Q212.894 649.305 214.699 645.763 Q216.528 642.198 216.528 635.092 Q216.528 627.962 214.699 624.421 Q212.894 620.856 209.26 620.856 M209.26 617.152 Q215.07 617.152 218.125 621.759 Q221.204 626.342 221.204 635.092 Q221.204 643.819 218.125 648.425 Q215.07 653.009 209.26 653.009 Q203.449 653.009 200.371 648.425 Q197.315 643.819 197.315 635.092 Q197.315 626.342 200.371 621.759 Q203.449 617.152 209.26 617.152 Z\" fill=\"#000000\" fill-rule=\"nonzero\" fill-opacity=\"1\" /><path clip-path=\"url(#clip780)\" d=\"M239.422 620.856 Q235.81 620.856 233.982 624.421 Q232.176 627.962 232.176 635.092 Q232.176 642.198 233.982 645.763 Q235.81 649.305 239.422 649.305 Q243.056 649.305 244.861 645.763 Q246.69 642.198 246.69 635.092 Q246.69 627.962 244.861 624.421 Q243.056 620.856 239.422 620.856 M239.422 617.152 Q245.232 617.152 248.287 621.759 Q251.366 626.342 251.366 635.092 Q251.366 643.819 248.287 648.425 Q245.232 653.009 239.422 653.009 Q233.611 653.009 230.533 648.425 Q227.477 643.819 227.477 635.092 Q227.477 626.342 230.533 621.759 Q233.611 617.152 239.422 617.152 Z\" fill=\"#000000\" fill-rule=\"nonzero\" fill-opacity=\"1\" /><path clip-path=\"url(#clip780)\" d=\"M165.024 301.491 Q161.413 301.491 159.584 305.056 Q157.778 308.597 157.778 315.727 Q157.778 322.833 159.584 326.398 Q161.413 329.94 165.024 329.94 Q168.658 329.94 170.464 326.398 Q172.292 322.833 172.292 315.727 Q172.292 308.597 170.464 305.056 Q168.658 301.491 165.024 301.491 M165.024 297.787 Q170.834 297.787 173.889 302.394 Q176.968 306.977 176.968 315.727 Q176.968 324.454 173.889 329.06 Q170.834 333.644 165.024 333.644 Q159.214 333.644 156.135 329.06 Q153.079 324.454 153.079 315.727 Q153.079 306.977 156.135 302.394 Q159.214 297.787 165.024 297.787 Z\" fill=\"#000000\" fill-rule=\"nonzero\" fill-opacity=\"1\" /><path clip-path=\"url(#clip780)\" d=\"M185.186 327.093 L190.07 327.093 L190.07 332.972 L185.186 332.972 L185.186 327.093 Z\" fill=\"#000000\" fill-rule=\"nonzero\" fill-opacity=\"1\" /><path clip-path=\"url(#clip780)\" d=\"M210.255 301.491 Q206.644 301.491 204.815 305.056 Q203.01 308.597 203.01 315.727 Q203.01 322.833 204.815 326.398 Q206.644 329.94 210.255 329.94 Q213.889 329.94 215.695 326.398 Q217.523 322.833 217.523 315.727 Q217.523 308.597 215.695 305.056 Q213.889 301.491 210.255 301.491 M210.255 297.787 Q216.065 297.787 219.121 302.394 Q222.199 306.977 222.199 315.727 Q222.199 324.454 219.121 329.06 Q216.065 333.644 210.255 333.644 Q204.445 333.644 201.366 329.06 Q198.311 324.454 198.311 315.727 Q198.311 306.977 201.366 302.394 Q204.445 297.787 210.255 297.787 Z\" fill=\"#000000\" fill-rule=\"nonzero\" fill-opacity=\"1\" /><path clip-path=\"url(#clip780)\" d=\"M230.463 298.412 L248.82 298.412 L248.82 302.347 L234.746 302.347 L234.746 310.82 Q235.764 310.472 236.783 310.31 Q237.801 310.125 238.82 310.125 Q244.607 310.125 247.986 313.296 Q251.366 316.468 251.366 321.884 Q251.366 327.463 247.894 330.565 Q244.421 333.644 238.102 333.644 Q235.926 333.644 233.658 333.273 Q231.412 332.903 229.005 332.162 L229.005 327.463 Q231.088 328.597 233.31 329.153 Q235.533 329.708 238.009 329.708 Q242.014 329.708 244.352 327.602 Q246.69 325.495 246.69 321.884 Q246.69 318.273 244.352 316.167 Q242.014 314.06 238.009 314.06 Q236.135 314.06 234.26 314.477 Q232.408 314.894 230.463 315.773 L230.463 298.412 Z\" fill=\"#000000\" fill-rule=\"nonzero\" fill-opacity=\"1\" /><path clip-path=\"url(#clip780)\" d=\"M67.3143 733.525 Q73.68 736.008 75.6216 738.363 Q77.5631 740.718 77.5631 744.665 L77.5631 749.344 L72.6615 749.344 L72.6615 745.906 Q72.6615 743.487 71.5157 742.151 Q70.3699 740.814 66.1048 739.191 L63.4312 738.14 L28.3562 752.559 L28.3562 746.352 L56.238 735.212 L28.3562 724.072 L28.3562 717.865 L67.3143 733.525 Z\" fill=\"#000000\" fill-rule=\"nonzero\" fill-opacity=\"1\" /><polyline clip-path=\"url(#clip782)\" style=\"stroke:#009af9; stroke-linecap:round; stroke-linejoin:round; stroke-width:4; stroke-opacity:1; fill:none\" points=\"1835.06,635.057 1835.08,617.496 1835.15,595.471 1835.28,571.777 1835.52,545.526 1835.88,517.897 1836.43,488.906 1837.2,459.111 1838.29,428.714 1839.77,398.037 1841.76,367.283 1844.39,336.626 1847.81,306.279 1852.22,276.444 1857.82,247.379 1864.79,219.507 1873.31,193.297 1883.51,169.179 1895.53,147.489 1909.51,128.511 1925.53,112.579 1943.71,100 1964.13,91.1282 1986.76,86.3843 2011.51,86.1857 2037.95,90.8875 2065.47,100.626 2093.38,115.279 2121.22,134.714 2148.56,158.793 2174.84,187.219 2199.56,219.674 2222.27,255.83 2242.5,295.242 2259.84,337.428 2273.93,381.814 2284.52,428.037 2291.36,475.491 2294.3,523.688 2293.22,572.053 2288.09,620.062 2278.92,667.175 2265.81,712.864 2248.89,756.618 2228.38,797.96 2204.53,836.434 2177.68,871.643 2148.17,903.235 2116.41,930.924 2082.81,954.506 2047.82,973.867 2011.81,988.986 1975.18,999.922 1938.24,1006.81 1901.28,1009.85 1864.54,1009.29 1828.18,1005.4 1792.37,998.497 1757.18,988.9 1722.68,976.936 1688.91,962.932 1655.87,947.208 1623.56,930.067 1591.96,911.802 1561.03,892.679 1530.74,872.947 1501.11,852.866 1472.26,832.75 1444.29,812.884 1416.42,792.876 1389.1,773.212 1362.14,753.866 1335.59,734.998 1309.41,716.656 1283.6,698.925 1258.14,681.843 1233.05,665.47 1208.31,649.831 1183.97,634.974 1160.1,620.952 1136.65,607.739 1113.07,595.043 1089.82,583.117 1066.73,571.89 1043.96,561.432 1021.14,551.583 998.597,542.487 976.178,534.082 953.98,526.405 932.009,519.453 910.364,513.249 889.114,507.794 868.359,503.091 848.146,499.119 828.517,495.851 809.489,493.255 791.097,491.296 773.369,489.936 756.406,489.136 740.637,488.847 723.587,489.046 706.817,489.78 690.448,491.032 674.962,492.728 660.432,494.792 647.207,497.086 634.394,499.705 621.472,502.762 608.699,506.213 595.853,510.14 582.856,514.606 569.387,519.793 556.357,525.391 544.33,531.103 532.918,537.045 522.34,543.041 512.628,548.994 503.599,554.943 494.246,561.56 485.092,568.523 475.907,576.039 466.738,584.122 457.877,592.544 449.485,601.136 441.583,609.84 434.16,618.622 427.235,627.41 420.801,636.155 414.907,644.721 409.677,652.821 404.365,661.589 399.24,670.639 394.238,680.112 389.4,689.971 384.728,700.253 380.259,710.919 376.004,721.98 371.984,733.422 368.217,745.228 364.722,757.364 361.511,769.818 358.596,782.552 355.999,795.455 353.754,808.279 351.758,821.585 350.019,835.439 348.578,849.604 347.435,864.116 346.59,879.041 346.054,894.175 345.82,909.661 345.889,925.469 346.258,941.541 346.921,957.9 347.871,974.479 349.104,991.352 350.606,1008.43 352.365,1025.71 354.376,1043.22 356.609,1060.83 359.071,1078.68 361.719,1096.56 364.552,1114.57 367.532,1132.56 370.649,1150.58 373.863,1168.47 377.149,1186.19 380.482,1203.68 383.84,1220.89 387.195,1237.72 390.523,1254.07 393.806,1269.88 397.038,1285.09 400.209,1299.6 403.336,1313.42 406.432,1326.45 409.537,1338.69 412.683,1349.99 415.926,1360.2 419.326,1369.08 422.993,1376.4 427.05,1381.81 430.163,1384.24 \"/>\n",
       "<path clip-path=\"url(#clip780)\" d=\"M356.212 196.789 L615.182 196.789 L615.182 93.1086 L356.212 93.1086  Z\" fill=\"#ffffff\" fill-rule=\"evenodd\" fill-opacity=\"1\"/>\n",
       "<polyline clip-path=\"url(#clip780)\" style=\"stroke:#000000; stroke-linecap:round; stroke-linejoin:round; stroke-width:4; stroke-opacity:1; fill:none\" points=\"356.212,196.789 615.182,196.789 615.182,93.1086 356.212,93.1086 356.212,196.789 \"/>\n",
       "<polyline clip-path=\"url(#clip780)\" style=\"stroke:#009af9; stroke-linecap:round; stroke-linejoin:round; stroke-width:4; stroke-opacity:1; fill:none\" points=\"379.161,144.949 516.854,144.949 \"/>\n",
       "<path clip-path=\"url(#clip780)\" d=\"M553.645 164.636 Q551.839 169.266 550.126 170.678 Q548.414 172.09 545.543 172.09 L542.14 172.09 L542.14 168.525 L544.64 168.525 Q546.4 168.525 547.372 167.692 Q548.344 166.858 549.525 163.756 L550.289 161.812 L539.802 136.303 L544.316 136.303 L552.418 156.581 L560.52 136.303 L565.034 136.303 L553.645 164.636 Z\" fill=\"#000000\" fill-rule=\"nonzero\" fill-opacity=\"1\" /><path clip-path=\"url(#clip780)\" d=\"M572.325 158.293 L579.964 158.293 L579.964 131.928 L571.654 133.595 L571.654 129.335 L579.918 127.669 L584.594 127.669 L584.594 158.293 L592.233 158.293 L592.233 162.229 L572.325 162.229 L572.325 158.293 Z\" fill=\"#000000\" fill-rule=\"nonzero\" fill-opacity=\"1\" /></svg>\n"
      ],
      "text/html": [
       "<?xml version=\"1.0\" encoding=\"utf-8\"?>\n",
       "<svg xmlns=\"http://www.w3.org/2000/svg\" xmlns:xlink=\"http://www.w3.org/1999/xlink\" width=\"600\" height=\"400\" viewBox=\"0 0 2400 1600\">\n",
       "<defs>\n",
       "  <clipPath id=\"clip830\">\n",
       "    <rect x=\"0\" y=\"0\" width=\"2400\" height=\"1600\"/>\n",
       "  </clipPath>\n",
       "</defs>\n",
       "<path clip-path=\"url(#clip830)\" d=\"M0 1600 L2400 1600 L2400 0 L0 0  Z\" fill=\"#ffffff\" fill-rule=\"evenodd\" fill-opacity=\"1\"/>\n",
       "<defs>\n",
       "  <clipPath id=\"clip831\">\n",
       "    <rect x=\"480\" y=\"0\" width=\"1681\" height=\"1600\"/>\n",
       "  </clipPath>\n",
       "</defs>\n",
       "<path clip-path=\"url(#clip830)\" d=\"M287.366 1423.18 L2352.76 1423.18 L2352.76 47.2441 L287.366 47.2441  Z\" fill=\"#ffffff\" fill-rule=\"evenodd\" fill-opacity=\"1\"/>\n",
       "<defs>\n",
       "  <clipPath id=\"clip832\">\n",
       "    <rect x=\"287\" y=\"47\" width=\"2066\" height=\"1377\"/>\n",
       "  </clipPath>\n",
       "</defs>\n",
       "<polyline clip-path=\"url(#clip832)\" style=\"stroke:#000000; stroke-linecap:round; stroke-linejoin:round; stroke-width:2; stroke-opacity:0.1; fill:none\" points=\"340.829,1423.18 340.829,47.2441 \"/>\n",
       "<polyline clip-path=\"url(#clip832)\" style=\"stroke:#000000; stroke-linecap:round; stroke-linejoin:round; stroke-width:2; stroke-opacity:0.1; fill:none\" points=\"779.975,1423.18 779.975,47.2441 \"/>\n",
       "<polyline clip-path=\"url(#clip832)\" style=\"stroke:#000000; stroke-linecap:round; stroke-linejoin:round; stroke-width:2; stroke-opacity:0.1; fill:none\" points=\"1219.12,1423.18 1219.12,47.2441 \"/>\n",
       "<polyline clip-path=\"url(#clip832)\" style=\"stroke:#000000; stroke-linecap:round; stroke-linejoin:round; stroke-width:2; stroke-opacity:0.1; fill:none\" points=\"1658.26,1423.18 1658.26,47.2441 \"/>\n",
       "<polyline clip-path=\"url(#clip832)\" style=\"stroke:#000000; stroke-linecap:round; stroke-linejoin:round; stroke-width:2; stroke-opacity:0.1; fill:none\" points=\"2097.41,1423.18 2097.41,47.2441 \"/>\n",
       "<polyline clip-path=\"url(#clip830)\" style=\"stroke:#000000; stroke-linecap:round; stroke-linejoin:round; stroke-width:4; stroke-opacity:1; fill:none\" points=\"287.366,1423.18 2352.76,1423.18 \"/>\n",
       "<polyline clip-path=\"url(#clip830)\" style=\"stroke:#000000; stroke-linecap:round; stroke-linejoin:round; stroke-width:4; stroke-opacity:1; fill:none\" points=\"340.829,1423.18 340.829,1404.28 \"/>\n",
       "<polyline clip-path=\"url(#clip830)\" style=\"stroke:#000000; stroke-linecap:round; stroke-linejoin:round; stroke-width:4; stroke-opacity:1; fill:none\" points=\"779.975,1423.18 779.975,1404.28 \"/>\n",
       "<polyline clip-path=\"url(#clip830)\" style=\"stroke:#000000; stroke-linecap:round; stroke-linejoin:round; stroke-width:4; stroke-opacity:1; fill:none\" points=\"1219.12,1423.18 1219.12,1404.28 \"/>\n",
       "<polyline clip-path=\"url(#clip830)\" style=\"stroke:#000000; stroke-linecap:round; stroke-linejoin:round; stroke-width:4; stroke-opacity:1; fill:none\" points=\"1658.26,1423.18 1658.26,1404.28 \"/>\n",
       "<polyline clip-path=\"url(#clip830)\" style=\"stroke:#000000; stroke-linecap:round; stroke-linejoin:round; stroke-width:4; stroke-opacity:1; fill:none\" points=\"2097.41,1423.18 2097.41,1404.28 \"/>\n",
       "<path clip-path=\"url(#clip830)\" d=\"M303.631 1454.1 Q300.019 1454.1 298.191 1457.66 Q296.385 1461.2 296.385 1468.33 Q296.385 1475.44 298.191 1479.01 Q300.019 1482.55 303.631 1482.55 Q307.265 1482.55 309.07 1479.01 Q310.899 1475.44 310.899 1468.33 Q310.899 1461.2 309.07 1457.66 Q307.265 1454.1 303.631 1454.1 M303.631 1450.39 Q309.441 1450.39 312.496 1455 Q315.575 1459.58 315.575 1468.33 Q315.575 1477.06 312.496 1481.67 Q309.441 1486.25 303.631 1486.25 Q297.82 1486.25 294.742 1481.67 Q291.686 1477.06 291.686 1468.33 Q291.686 1459.58 294.742 1455 Q297.82 1450.39 303.631 1450.39 Z\" fill=\"#000000\" fill-rule=\"nonzero\" fill-opacity=\"1\" /><path clip-path=\"url(#clip830)\" d=\"M323.792 1479.7 L328.677 1479.7 L328.677 1485.58 L323.792 1485.58 L323.792 1479.7 Z\" fill=\"#000000\" fill-rule=\"nonzero\" fill-opacity=\"1\" /><path clip-path=\"url(#clip830)\" d=\"M339.001 1484.86 L339.001 1480.6 Q340.76 1481.44 342.566 1481.88 Q344.371 1482.32 346.107 1482.32 Q350.737 1482.32 353.167 1479.21 Q355.621 1476.09 355.968 1469.75 Q354.626 1471.74 352.565 1472.8 Q350.505 1473.87 348.005 1473.87 Q342.82 1473.87 339.788 1470.74 Q336.779 1467.59 336.779 1462.15 Q336.779 1456.83 339.927 1453.61 Q343.075 1450.39 348.306 1450.39 Q354.302 1450.39 357.45 1455 Q360.621 1459.58 360.621 1468.33 Q360.621 1476.51 356.732 1481.39 Q352.866 1486.25 346.316 1486.25 Q344.556 1486.25 342.751 1485.9 Q340.945 1485.56 339.001 1484.86 M348.306 1470.21 Q351.454 1470.21 353.283 1468.06 Q355.135 1465.9 355.135 1462.15 Q355.135 1458.43 353.283 1456.27 Q351.454 1454.1 348.306 1454.1 Q345.158 1454.1 343.306 1456.27 Q341.478 1458.43 341.478 1462.15 Q341.478 1465.9 343.306 1468.06 Q345.158 1470.21 348.306 1470.21 Z\" fill=\"#000000\" fill-rule=\"nonzero\" fill-opacity=\"1\" /><path clip-path=\"url(#clip830)\" d=\"M369.07 1451.02 L387.426 1451.02 L387.426 1454.96 L373.352 1454.96 L373.352 1463.43 Q374.371 1463.08 375.389 1462.92 Q376.408 1462.73 377.426 1462.73 Q383.213 1462.73 386.593 1465.9 Q389.973 1469.08 389.973 1474.49 Q389.973 1480.07 386.5 1483.17 Q383.028 1486.25 376.709 1486.25 Q374.533 1486.25 372.264 1485.88 Q370.019 1485.51 367.612 1484.77 L367.612 1480.07 Q369.695 1481.2 371.917 1481.76 Q374.139 1482.32 376.616 1482.32 Q380.621 1482.32 382.959 1480.21 Q385.297 1478.1 385.297 1474.49 Q385.297 1470.88 382.959 1468.77 Q380.621 1466.67 376.616 1466.67 Q374.741 1466.67 372.866 1467.08 Q371.014 1467.5 369.07 1468.38 L369.07 1451.02 Z\" fill=\"#000000\" fill-rule=\"nonzero\" fill-opacity=\"1\" /><path clip-path=\"url(#clip830)\" d=\"M732.047 1481.64 L739.685 1481.64 L739.685 1455.28 L731.375 1456.95 L731.375 1452.69 L739.639 1451.02 L744.315 1451.02 L744.315 1481.64 L751.954 1481.64 L751.954 1485.58 L732.047 1485.58 L732.047 1481.64 Z\" fill=\"#000000\" fill-rule=\"nonzero\" fill-opacity=\"1\" /><path clip-path=\"url(#clip830)\" d=\"M761.398 1479.7 L766.282 1479.7 L766.282 1485.58 L761.398 1485.58 L761.398 1479.7 Z\" fill=\"#000000\" fill-rule=\"nonzero\" fill-opacity=\"1\" /><path clip-path=\"url(#clip830)\" d=\"M786.468 1454.1 Q782.856 1454.1 781.028 1457.66 Q779.222 1461.2 779.222 1468.33 Q779.222 1475.44 781.028 1479.01 Q782.856 1482.55 786.468 1482.55 Q790.102 1482.55 791.907 1479.01 Q793.736 1475.44 793.736 1468.33 Q793.736 1461.2 791.907 1457.66 Q790.102 1454.1 786.468 1454.1 M786.468 1450.39 Q792.278 1450.39 795.333 1455 Q798.412 1459.58 798.412 1468.33 Q798.412 1477.06 795.333 1481.67 Q792.278 1486.25 786.468 1486.25 Q780.657 1486.25 777.579 1481.67 Q774.523 1477.06 774.523 1468.33 Q774.523 1459.58 777.579 1455 Q780.657 1450.39 786.468 1450.39 Z\" fill=\"#000000\" fill-rule=\"nonzero\" fill-opacity=\"1\" /><path clip-path=\"url(#clip830)\" d=\"M816.629 1454.1 Q813.018 1454.1 811.19 1457.66 Q809.384 1461.2 809.384 1468.33 Q809.384 1475.44 811.19 1479.01 Q813.018 1482.55 816.629 1482.55 Q820.264 1482.55 822.069 1479.01 Q823.898 1475.44 823.898 1468.33 Q823.898 1461.2 822.069 1457.66 Q820.264 1454.1 816.629 1454.1 M816.629 1450.39 Q822.44 1450.39 825.495 1455 Q828.574 1459.58 828.574 1468.33 Q828.574 1477.06 825.495 1481.67 Q822.44 1486.25 816.629 1486.25 Q810.819 1486.25 807.741 1481.67 Q804.685 1477.06 804.685 1468.33 Q804.685 1459.58 807.741 1455 Q810.819 1450.39 816.629 1450.39 Z\" fill=\"#000000\" fill-rule=\"nonzero\" fill-opacity=\"1\" /><path clip-path=\"url(#clip830)\" d=\"M1171.69 1481.64 L1179.33 1481.64 L1179.33 1455.28 L1171.02 1456.95 L1171.02 1452.69 L1179.28 1451.02 L1183.96 1451.02 L1183.96 1481.64 L1191.6 1481.64 L1191.6 1485.58 L1171.69 1485.58 L1171.69 1481.64 Z\" fill=\"#000000\" fill-rule=\"nonzero\" fill-opacity=\"1\" /><path clip-path=\"url(#clip830)\" d=\"M1201.04 1479.7 L1205.93 1479.7 L1205.93 1485.58 L1201.04 1485.58 L1201.04 1479.7 Z\" fill=\"#000000\" fill-rule=\"nonzero\" fill-opacity=\"1\" /><path clip-path=\"url(#clip830)\" d=\"M1226.11 1454.1 Q1222.5 1454.1 1220.67 1457.66 Q1218.86 1461.2 1218.86 1468.33 Q1218.86 1475.44 1220.67 1479.01 Q1222.5 1482.55 1226.11 1482.55 Q1229.74 1482.55 1231.55 1479.01 Q1233.38 1475.44 1233.38 1468.33 Q1233.38 1461.2 1231.55 1457.66 Q1229.74 1454.1 1226.11 1454.1 M1226.11 1450.39 Q1231.92 1450.39 1234.98 1455 Q1238.05 1459.58 1238.05 1468.33 Q1238.05 1477.06 1234.98 1481.67 Q1231.92 1486.25 1226.11 1486.25 Q1220.3 1486.25 1217.22 1481.67 Q1214.17 1477.06 1214.17 1468.33 Q1214.17 1459.58 1217.22 1455 Q1220.3 1450.39 1226.11 1450.39 Z\" fill=\"#000000\" fill-rule=\"nonzero\" fill-opacity=\"1\" /><path clip-path=\"url(#clip830)\" d=\"M1246.32 1451.02 L1264.67 1451.02 L1264.67 1454.96 L1250.6 1454.96 L1250.6 1463.43 Q1251.62 1463.08 1252.64 1462.92 Q1253.66 1462.73 1254.67 1462.73 Q1260.46 1462.73 1263.84 1465.9 Q1267.22 1469.08 1267.22 1474.49 Q1267.22 1480.07 1263.75 1483.17 Q1260.28 1486.25 1253.96 1486.25 Q1251.78 1486.25 1249.51 1485.88 Q1247.27 1485.51 1244.86 1484.77 L1244.86 1480.07 Q1246.94 1481.2 1249.17 1481.76 Q1251.39 1482.32 1253.86 1482.32 Q1257.87 1482.32 1260.21 1480.21 Q1262.55 1478.1 1262.55 1474.49 Q1262.55 1470.88 1260.21 1468.77 Q1257.87 1466.67 1253.86 1466.67 Q1251.99 1466.67 1250.11 1467.08 Q1248.26 1467.5 1246.32 1468.38 L1246.32 1451.02 Z\" fill=\"#000000\" fill-rule=\"nonzero\" fill-opacity=\"1\" /><path clip-path=\"url(#clip830)\" d=\"M1610.34 1481.64 L1617.98 1481.64 L1617.98 1455.28 L1609.67 1456.95 L1609.67 1452.69 L1617.93 1451.02 L1622.61 1451.02 L1622.61 1481.64 L1630.24 1481.64 L1630.24 1485.58 L1610.34 1485.58 L1610.34 1481.64 Z\" fill=\"#000000\" fill-rule=\"nonzero\" fill-opacity=\"1\" /><path clip-path=\"url(#clip830)\" d=\"M1639.69 1479.7 L1644.57 1479.7 L1644.57 1485.58 L1639.69 1485.58 L1639.69 1479.7 Z\" fill=\"#000000\" fill-rule=\"nonzero\" fill-opacity=\"1\" /><path clip-path=\"url(#clip830)\" d=\"M1655.57 1481.64 L1663.21 1481.64 L1663.21 1455.28 L1654.9 1456.95 L1654.9 1452.69 L1663.16 1451.02 L1667.84 1451.02 L1667.84 1481.64 L1675.48 1481.64 L1675.48 1485.58 L1655.57 1485.58 L1655.57 1481.64 Z\" fill=\"#000000\" fill-rule=\"nonzero\" fill-opacity=\"1\" /><path clip-path=\"url(#clip830)\" d=\"M1694.92 1454.1 Q1691.31 1454.1 1689.48 1457.66 Q1687.67 1461.2 1687.67 1468.33 Q1687.67 1475.44 1689.48 1479.01 Q1691.31 1482.55 1694.92 1482.55 Q1698.55 1482.55 1700.36 1479.01 Q1702.19 1475.44 1702.19 1468.33 Q1702.19 1461.2 1700.36 1457.66 Q1698.55 1454.1 1694.92 1454.1 M1694.92 1450.39 Q1700.73 1450.39 1703.79 1455 Q1706.86 1459.58 1706.86 1468.33 Q1706.86 1477.06 1703.79 1481.67 Q1700.73 1486.25 1694.92 1486.25 Q1689.11 1486.25 1686.03 1481.67 Q1682.98 1477.06 1682.98 1468.33 Q1682.98 1459.58 1686.03 1455 Q1689.11 1450.39 1694.92 1450.39 Z\" fill=\"#000000\" fill-rule=\"nonzero\" fill-opacity=\"1\" /><path clip-path=\"url(#clip830)\" d=\"M2049.98 1481.64 L2057.62 1481.64 L2057.62 1455.28 L2049.31 1456.95 L2049.31 1452.69 L2057.57 1451.02 L2062.25 1451.02 L2062.25 1481.64 L2069.89 1481.64 L2069.89 1485.58 L2049.98 1485.58 L2049.98 1481.64 Z\" fill=\"#000000\" fill-rule=\"nonzero\" fill-opacity=\"1\" /><path clip-path=\"url(#clip830)\" d=\"M2079.33 1479.7 L2084.22 1479.7 L2084.22 1485.58 L2079.33 1485.58 L2079.33 1479.7 Z\" fill=\"#000000\" fill-rule=\"nonzero\" fill-opacity=\"1\" /><path clip-path=\"url(#clip830)\" d=\"M2095.21 1481.64 L2102.85 1481.64 L2102.85 1455.28 L2094.54 1456.95 L2094.54 1452.69 L2102.8 1451.02 L2107.48 1451.02 L2107.48 1481.64 L2115.12 1481.64 L2115.12 1485.58 L2095.21 1485.58 L2095.21 1481.64 Z\" fill=\"#000000\" fill-rule=\"nonzero\" fill-opacity=\"1\" /><path clip-path=\"url(#clip830)\" d=\"M2124.61 1451.02 L2142.97 1451.02 L2142.97 1454.96 L2128.89 1454.96 L2128.89 1463.43 Q2129.91 1463.08 2130.93 1462.92 Q2131.95 1462.73 2132.97 1462.73 Q2138.75 1462.73 2142.13 1465.9 Q2145.51 1469.08 2145.51 1474.49 Q2145.51 1480.07 2142.04 1483.17 Q2138.57 1486.25 2132.25 1486.25 Q2130.07 1486.25 2127.8 1485.88 Q2125.56 1485.51 2123.15 1484.77 L2123.15 1480.07 Q2125.23 1481.2 2127.46 1481.76 Q2129.68 1482.32 2132.15 1482.32 Q2136.16 1482.32 2138.5 1480.21 Q2140.84 1478.1 2140.84 1474.49 Q2140.84 1470.88 2138.5 1468.77 Q2136.16 1466.67 2132.15 1466.67 Q2130.28 1466.67 2128.4 1467.08 Q2126.55 1467.5 2124.61 1468.38 L2124.61 1451.02 Z\" fill=\"#000000\" fill-rule=\"nonzero\" fill-opacity=\"1\" /><path clip-path=\"url(#clip830)\" d=\"M1336.68 1532.4 L1323.78 1549.74 L1337.34 1568.04 L1330.44 1568.04 L1320.06 1554.04 L1309.68 1568.04 L1302.78 1568.04 L1316.62 1549.39 L1303.96 1532.4 L1310.86 1532.4 L1320.32 1545.1 L1329.77 1532.4 L1336.68 1532.4 Z\" fill=\"#000000\" fill-rule=\"nonzero\" fill-opacity=\"1\" /><polyline clip-path=\"url(#clip832)\" style=\"stroke:#000000; stroke-linecap:round; stroke-linejoin:round; stroke-width:2; stroke-opacity:0.1; fill:none\" points=\"287.366,1273.79 2352.76,1273.79 \"/>\n",
       "<polyline clip-path=\"url(#clip832)\" style=\"stroke:#000000; stroke-linecap:round; stroke-linejoin:round; stroke-width:2; stroke-opacity:0.1; fill:none\" points=\"287.366,954.422 2352.76,954.422 \"/>\n",
       "<polyline clip-path=\"url(#clip832)\" style=\"stroke:#000000; stroke-linecap:round; stroke-linejoin:round; stroke-width:2; stroke-opacity:0.1; fill:none\" points=\"287.366,635.057 2352.76,635.057 \"/>\n",
       "<polyline clip-path=\"url(#clip832)\" style=\"stroke:#000000; stroke-linecap:round; stroke-linejoin:round; stroke-width:2; stroke-opacity:0.1; fill:none\" points=\"287.366,315.692 2352.76,315.692 \"/>\n",
       "<polyline clip-path=\"url(#clip830)\" style=\"stroke:#000000; stroke-linecap:round; stroke-linejoin:round; stroke-width:4; stroke-opacity:1; fill:none\" points=\"287.366,1423.18 287.366,47.2441 \"/>\n",
       "<polyline clip-path=\"url(#clip830)\" style=\"stroke:#000000; stroke-linecap:round; stroke-linejoin:round; stroke-width:4; stroke-opacity:1; fill:none\" points=\"287.366,1273.79 306.264,1273.79 \"/>\n",
       "<polyline clip-path=\"url(#clip830)\" style=\"stroke:#000000; stroke-linecap:round; stroke-linejoin:round; stroke-width:4; stroke-opacity:1; fill:none\" points=\"287.366,954.422 306.264,954.422 \"/>\n",
       "<polyline clip-path=\"url(#clip830)\" style=\"stroke:#000000; stroke-linecap:round; stroke-linejoin:round; stroke-width:4; stroke-opacity:1; fill:none\" points=\"287.366,635.057 306.264,635.057 \"/>\n",
       "<polyline clip-path=\"url(#clip830)\" style=\"stroke:#000000; stroke-linecap:round; stroke-linejoin:round; stroke-width:4; stroke-opacity:1; fill:none\" points=\"287.366,315.692 306.264,315.692 \"/>\n",
       "<path clip-path=\"url(#clip830)\" d=\"M114.26 1274.24 L143.936 1274.24 L143.936 1278.17 L114.26 1278.17 L114.26 1274.24 Z\" fill=\"#000000\" fill-rule=\"nonzero\" fill-opacity=\"1\" /><path clip-path=\"url(#clip830)\" d=\"M164.028 1259.59 Q160.417 1259.59 158.589 1263.15 Q156.783 1266.69 156.783 1273.82 Q156.783 1280.93 158.589 1284.49 Q160.417 1288.03 164.028 1288.03 Q167.663 1288.03 169.468 1284.49 Q171.297 1280.93 171.297 1273.82 Q171.297 1266.69 169.468 1263.15 Q167.663 1259.59 164.028 1259.59 M164.028 1255.88 Q169.839 1255.88 172.894 1260.49 Q175.973 1265.07 175.973 1273.82 Q175.973 1282.55 172.894 1287.16 Q169.839 1291.74 164.028 1291.74 Q158.218 1291.74 155.14 1287.16 Q152.084 1282.55 152.084 1273.82 Q152.084 1265.07 155.14 1260.49 Q158.218 1255.88 164.028 1255.88 Z\" fill=\"#000000\" fill-rule=\"nonzero\" fill-opacity=\"1\" /><path clip-path=\"url(#clip830)\" d=\"M184.19 1285.19 L189.075 1285.19 L189.075 1291.07 L184.19 1291.07 L184.19 1285.19 Z\" fill=\"#000000\" fill-rule=\"nonzero\" fill-opacity=\"1\" /><path clip-path=\"url(#clip830)\" d=\"M200.07 1287.13 L207.709 1287.13 L207.709 1260.77 L199.399 1262.43 L199.399 1258.17 L207.662 1256.51 L212.338 1256.51 L212.338 1287.13 L219.977 1287.13 L219.977 1291.07 L200.07 1291.07 L200.07 1287.13 Z\" fill=\"#000000\" fill-rule=\"nonzero\" fill-opacity=\"1\" /><path clip-path=\"url(#clip830)\" d=\"M239.422 1259.59 Q235.81 1259.59 233.982 1263.15 Q232.176 1266.69 232.176 1273.82 Q232.176 1280.93 233.982 1284.49 Q235.81 1288.03 239.422 1288.03 Q243.056 1288.03 244.861 1284.49 Q246.69 1280.93 246.69 1273.82 Q246.69 1266.69 244.861 1263.15 Q243.056 1259.59 239.422 1259.59 M239.422 1255.88 Q245.232 1255.88 248.287 1260.49 Q251.366 1265.07 251.366 1273.82 Q251.366 1282.55 248.287 1287.16 Q245.232 1291.74 239.422 1291.74 Q233.611 1291.74 230.533 1287.16 Q227.477 1282.55 227.477 1273.82 Q227.477 1265.07 230.533 1260.49 Q233.611 1255.88 239.422 1255.88 Z\" fill=\"#000000\" fill-rule=\"nonzero\" fill-opacity=\"1\" /><path clip-path=\"url(#clip830)\" d=\"M115.256 954.874 L144.931 954.874 L144.931 958.809 L115.256 958.809 L115.256 954.874 Z\" fill=\"#000000\" fill-rule=\"nonzero\" fill-opacity=\"1\" /><path clip-path=\"url(#clip830)\" d=\"M165.024 940.221 Q161.413 940.221 159.584 943.786 Q157.778 947.327 157.778 954.457 Q157.778 961.563 159.584 965.128 Q161.413 968.67 165.024 968.67 Q168.658 968.67 170.464 965.128 Q172.292 961.563 172.292 954.457 Q172.292 947.327 170.464 943.786 Q168.658 940.221 165.024 940.221 M165.024 936.517 Q170.834 936.517 173.889 941.124 Q176.968 945.707 176.968 954.457 Q176.968 963.184 173.889 967.79 Q170.834 972.373 165.024 972.373 Q159.214 972.373 156.135 967.79 Q153.079 963.184 153.079 954.457 Q153.079 945.707 156.135 941.124 Q159.214 936.517 165.024 936.517 Z\" fill=\"#000000\" fill-rule=\"nonzero\" fill-opacity=\"1\" /><path clip-path=\"url(#clip830)\" d=\"M185.186 965.823 L190.07 965.823 L190.07 971.702 L185.186 971.702 L185.186 965.823 Z\" fill=\"#000000\" fill-rule=\"nonzero\" fill-opacity=\"1\" /><path clip-path=\"url(#clip830)\" d=\"M210.255 940.221 Q206.644 940.221 204.815 943.786 Q203.01 947.327 203.01 954.457 Q203.01 961.563 204.815 965.128 Q206.644 968.67 210.255 968.67 Q213.889 968.67 215.695 965.128 Q217.523 961.563 217.523 954.457 Q217.523 947.327 215.695 943.786 Q213.889 940.221 210.255 940.221 M210.255 936.517 Q216.065 936.517 219.121 941.124 Q222.199 945.707 222.199 954.457 Q222.199 963.184 219.121 967.79 Q216.065 972.373 210.255 972.373 Q204.445 972.373 201.366 967.79 Q198.311 963.184 198.311 954.457 Q198.311 945.707 201.366 941.124 Q204.445 936.517 210.255 936.517 Z\" fill=\"#000000\" fill-rule=\"nonzero\" fill-opacity=\"1\" /><path clip-path=\"url(#clip830)\" d=\"M230.463 937.142 L248.82 937.142 L248.82 941.077 L234.746 941.077 L234.746 949.55 Q235.764 949.202 236.783 949.04 Q237.801 948.855 238.82 948.855 Q244.607 948.855 247.986 952.026 Q251.366 955.198 251.366 960.614 Q251.366 966.193 247.894 969.295 Q244.421 972.373 238.102 972.373 Q235.926 972.373 233.658 972.003 Q231.412 971.633 229.005 970.892 L229.005 966.193 Q231.088 967.327 233.31 967.883 Q235.533 968.438 238.009 968.438 Q242.014 968.438 244.352 966.332 Q246.69 964.225 246.69 960.614 Q246.69 957.003 244.352 954.897 Q242.014 952.79 238.009 952.79 Q236.135 952.79 234.26 953.207 Q232.408 953.624 230.463 954.503 L230.463 937.142 Z\" fill=\"#000000\" fill-rule=\"nonzero\" fill-opacity=\"1\" /><path clip-path=\"url(#clip830)\" d=\"M164.028 620.856 Q160.417 620.856 158.589 624.421 Q156.783 627.962 156.783 635.092 Q156.783 642.198 158.589 645.763 Q160.417 649.305 164.028 649.305 Q167.663 649.305 169.468 645.763 Q171.297 642.198 171.297 635.092 Q171.297 627.962 169.468 624.421 Q167.663 620.856 164.028 620.856 M164.028 617.152 Q169.839 617.152 172.894 621.759 Q175.973 626.342 175.973 635.092 Q175.973 643.819 172.894 648.425 Q169.839 653.009 164.028 653.009 Q158.218 653.009 155.14 648.425 Q152.084 643.819 152.084 635.092 Q152.084 626.342 155.14 621.759 Q158.218 617.152 164.028 617.152 Z\" fill=\"#000000\" fill-rule=\"nonzero\" fill-opacity=\"1\" /><path clip-path=\"url(#clip830)\" d=\"M184.19 646.458 L189.075 646.458 L189.075 652.337 L184.19 652.337 L184.19 646.458 Z\" fill=\"#000000\" fill-rule=\"nonzero\" fill-opacity=\"1\" /><path clip-path=\"url(#clip830)\" d=\"M209.26 620.856 Q205.649 620.856 203.82 624.421 Q202.014 627.962 202.014 635.092 Q202.014 642.198 203.82 645.763 Q205.649 649.305 209.26 649.305 Q212.894 649.305 214.699 645.763 Q216.528 642.198 216.528 635.092 Q216.528 627.962 214.699 624.421 Q212.894 620.856 209.26 620.856 M209.26 617.152 Q215.07 617.152 218.125 621.759 Q221.204 626.342 221.204 635.092 Q221.204 643.819 218.125 648.425 Q215.07 653.009 209.26 653.009 Q203.449 653.009 200.371 648.425 Q197.315 643.819 197.315 635.092 Q197.315 626.342 200.371 621.759 Q203.449 617.152 209.26 617.152 Z\" fill=\"#000000\" fill-rule=\"nonzero\" fill-opacity=\"1\" /><path clip-path=\"url(#clip830)\" d=\"M239.422 620.856 Q235.81 620.856 233.982 624.421 Q232.176 627.962 232.176 635.092 Q232.176 642.198 233.982 645.763 Q235.81 649.305 239.422 649.305 Q243.056 649.305 244.861 645.763 Q246.69 642.198 246.69 635.092 Q246.69 627.962 244.861 624.421 Q243.056 620.856 239.422 620.856 M239.422 617.152 Q245.232 617.152 248.287 621.759 Q251.366 626.342 251.366 635.092 Q251.366 643.819 248.287 648.425 Q245.232 653.009 239.422 653.009 Q233.611 653.009 230.533 648.425 Q227.477 643.819 227.477 635.092 Q227.477 626.342 230.533 621.759 Q233.611 617.152 239.422 617.152 Z\" fill=\"#000000\" fill-rule=\"nonzero\" fill-opacity=\"1\" /><path clip-path=\"url(#clip830)\" d=\"M165.024 301.491 Q161.413 301.491 159.584 305.056 Q157.778 308.597 157.778 315.727 Q157.778 322.833 159.584 326.398 Q161.413 329.94 165.024 329.94 Q168.658 329.94 170.464 326.398 Q172.292 322.833 172.292 315.727 Q172.292 308.597 170.464 305.056 Q168.658 301.491 165.024 301.491 M165.024 297.787 Q170.834 297.787 173.889 302.394 Q176.968 306.977 176.968 315.727 Q176.968 324.454 173.889 329.06 Q170.834 333.644 165.024 333.644 Q159.214 333.644 156.135 329.06 Q153.079 324.454 153.079 315.727 Q153.079 306.977 156.135 302.394 Q159.214 297.787 165.024 297.787 Z\" fill=\"#000000\" fill-rule=\"nonzero\" fill-opacity=\"1\" /><path clip-path=\"url(#clip830)\" d=\"M185.186 327.093 L190.07 327.093 L190.07 332.972 L185.186 332.972 L185.186 327.093 Z\" fill=\"#000000\" fill-rule=\"nonzero\" fill-opacity=\"1\" /><path clip-path=\"url(#clip830)\" d=\"M210.255 301.491 Q206.644 301.491 204.815 305.056 Q203.01 308.597 203.01 315.727 Q203.01 322.833 204.815 326.398 Q206.644 329.94 210.255 329.94 Q213.889 329.94 215.695 326.398 Q217.523 322.833 217.523 315.727 Q217.523 308.597 215.695 305.056 Q213.889 301.491 210.255 301.491 M210.255 297.787 Q216.065 297.787 219.121 302.394 Q222.199 306.977 222.199 315.727 Q222.199 324.454 219.121 329.06 Q216.065 333.644 210.255 333.644 Q204.445 333.644 201.366 329.06 Q198.311 324.454 198.311 315.727 Q198.311 306.977 201.366 302.394 Q204.445 297.787 210.255 297.787 Z\" fill=\"#000000\" fill-rule=\"nonzero\" fill-opacity=\"1\" /><path clip-path=\"url(#clip830)\" d=\"M230.463 298.412 L248.82 298.412 L248.82 302.347 L234.746 302.347 L234.746 310.82 Q235.764 310.472 236.783 310.31 Q237.801 310.125 238.82 310.125 Q244.607 310.125 247.986 313.296 Q251.366 316.468 251.366 321.884 Q251.366 327.463 247.894 330.565 Q244.421 333.644 238.102 333.644 Q235.926 333.644 233.658 333.273 Q231.412 332.903 229.005 332.162 L229.005 327.463 Q231.088 328.597 233.31 329.153 Q235.533 329.708 238.009 329.708 Q242.014 329.708 244.352 327.602 Q246.69 325.495 246.69 321.884 Q246.69 318.273 244.352 316.167 Q242.014 314.06 238.009 314.06 Q236.135 314.06 234.26 314.477 Q232.408 314.894 230.463 315.773 L230.463 298.412 Z\" fill=\"#000000\" fill-rule=\"nonzero\" fill-opacity=\"1\" /><path clip-path=\"url(#clip830)\" d=\"M67.3143 733.525 Q73.68 736.008 75.6216 738.363 Q77.5631 740.718 77.5631 744.665 L77.5631 749.344 L72.6615 749.344 L72.6615 745.906 Q72.6615 743.487 71.5157 742.151 Q70.3699 740.814 66.1048 739.191 L63.4312 738.14 L28.3562 752.559 L28.3562 746.352 L56.238 735.212 L28.3562 724.072 L28.3562 717.865 L67.3143 733.525 Z\" fill=\"#000000\" fill-rule=\"nonzero\" fill-opacity=\"1\" /><polyline clip-path=\"url(#clip832)\" style=\"stroke:#009af9; stroke-linecap:round; stroke-linejoin:round; stroke-width:4; stroke-opacity:1; fill:none\" points=\"1835.06,635.057 1835.08,617.496 1835.15,595.471 1835.28,571.777 1835.52,545.526 1835.88,517.897 1836.43,488.906 1837.2,459.111 1838.29,428.714 1839.77,398.037 1841.76,367.283 1844.39,336.626 1847.81,306.279 1852.22,276.444 1857.82,247.379 1864.79,219.507 1873.31,193.297 1883.51,169.179 1895.53,147.489 1909.51,128.511 1925.53,112.579 1943.71,100 1964.13,91.1282 1986.76,86.3843 2011.51,86.1857 2037.95,90.8875 2065.47,100.626 2093.38,115.279 2121.22,134.714 2148.56,158.793 2174.84,187.219 2199.56,219.674 2222.27,255.83 2242.5,295.242 2259.84,337.428 2273.93,381.814 2284.52,428.037 2291.36,475.491 2294.3,523.688 2293.22,572.053 2288.09,620.062 2278.92,667.175 2265.81,712.864 2248.89,756.618 2228.38,797.96 2204.53,836.434 2177.68,871.643 2148.17,903.235 2116.41,930.924 2082.81,954.506 2047.82,973.867 2011.81,988.986 1975.18,999.922 1938.24,1006.81 1901.28,1009.85 1864.54,1009.29 1828.18,1005.4 1792.37,998.497 1757.18,988.9 1722.68,976.936 1688.91,962.932 1655.87,947.208 1623.56,930.067 1591.96,911.802 1561.03,892.679 1530.74,872.947 1501.11,852.866 1472.26,832.75 1444.29,812.884 1416.42,792.876 1389.1,773.212 1362.14,753.866 1335.59,734.998 1309.41,716.656 1283.6,698.925 1258.14,681.843 1233.05,665.47 1208.31,649.831 1183.97,634.974 1160.1,620.952 1136.65,607.739 1113.07,595.043 1089.82,583.117 1066.73,571.89 1043.96,561.432 1021.14,551.583 998.597,542.487 976.178,534.082 953.98,526.405 932.009,519.453 910.364,513.249 889.114,507.794 868.359,503.091 848.146,499.119 828.517,495.851 809.489,493.255 791.097,491.296 773.369,489.936 756.406,489.136 740.637,488.847 723.587,489.046 706.817,489.78 690.448,491.032 674.962,492.728 660.432,494.792 647.207,497.086 634.394,499.705 621.472,502.762 608.699,506.213 595.853,510.14 582.856,514.606 569.387,519.793 556.357,525.391 544.33,531.103 532.918,537.045 522.34,543.041 512.628,548.994 503.599,554.943 494.246,561.56 485.092,568.523 475.907,576.039 466.738,584.122 457.877,592.544 449.485,601.136 441.583,609.84 434.16,618.622 427.235,627.41 420.801,636.155 414.907,644.721 409.677,652.821 404.365,661.589 399.24,670.639 394.238,680.112 389.4,689.971 384.728,700.253 380.259,710.919 376.004,721.98 371.984,733.422 368.217,745.228 364.722,757.364 361.511,769.818 358.596,782.552 355.999,795.455 353.754,808.279 351.758,821.585 350.019,835.439 348.578,849.604 347.435,864.116 346.59,879.041 346.054,894.175 345.82,909.661 345.889,925.469 346.258,941.541 346.921,957.9 347.871,974.479 349.104,991.352 350.606,1008.43 352.365,1025.71 354.376,1043.22 356.609,1060.83 359.071,1078.68 361.719,1096.56 364.552,1114.57 367.532,1132.56 370.649,1150.58 373.863,1168.47 377.149,1186.19 380.482,1203.68 383.84,1220.89 387.195,1237.72 390.523,1254.07 393.806,1269.88 397.038,1285.09 400.209,1299.6 403.336,1313.42 406.432,1326.45 409.537,1338.69 412.683,1349.99 415.926,1360.2 419.326,1369.08 422.993,1376.4 427.05,1381.81 430.163,1384.24 \"/>\n",
       "<path clip-path=\"url(#clip830)\" d=\"M356.212 196.789 L615.182 196.789 L615.182 93.1086 L356.212 93.1086  Z\" fill=\"#ffffff\" fill-rule=\"evenodd\" fill-opacity=\"1\"/>\n",
       "<polyline clip-path=\"url(#clip830)\" style=\"stroke:#000000; stroke-linecap:round; stroke-linejoin:round; stroke-width:4; stroke-opacity:1; fill:none\" points=\"356.212,196.789 615.182,196.789 615.182,93.1086 356.212,93.1086 356.212,196.789 \"/>\n",
       "<polyline clip-path=\"url(#clip830)\" style=\"stroke:#009af9; stroke-linecap:round; stroke-linejoin:round; stroke-width:4; stroke-opacity:1; fill:none\" points=\"379.161,144.949 516.854,144.949 \"/>\n",
       "<path clip-path=\"url(#clip830)\" d=\"M553.645 164.636 Q551.839 169.266 550.126 170.678 Q548.414 172.09 545.543 172.09 L542.14 172.09 L542.14 168.525 L544.64 168.525 Q546.4 168.525 547.372 167.692 Q548.344 166.858 549.525 163.756 L550.289 161.812 L539.802 136.303 L544.316 136.303 L552.418 156.581 L560.52 136.303 L565.034 136.303 L553.645 164.636 Z\" fill=\"#000000\" fill-rule=\"nonzero\" fill-opacity=\"1\" /><path clip-path=\"url(#clip830)\" d=\"M572.325 158.293 L579.964 158.293 L579.964 131.928 L571.654 133.595 L571.654 129.335 L579.918 127.669 L584.594 127.669 L584.594 158.293 L592.233 158.293 L592.233 162.229 L572.325 162.229 L572.325 158.293 Z\" fill=\"#000000\" fill-rule=\"nonzero\" fill-opacity=\"1\" /></svg>\n"
      ]
     },
     "metadata": {},
     "output_type": "display_data"
    }
   ],
   "source": [
    "#this is if we rollout our dynamics with the stable initial condition\n",
    "#almost periodic, can be fixed with a differential corrector\n",
    "#plot(all_state_in[1,:], all_state_in[2,:], all_state_in[3,:], xlabel=\"x\", ylabel=\"y\", zlabel=\"z\")\n",
    "\n",
    "plot(all_state_in[1,:], all_state_in[2,:], xlabel=\"x\", ylabel=\"y\")"
   ]
  },
  {
   "cell_type": "code",
   "execution_count": 41,
   "id": "fdce57ea",
   "metadata": {},
   "outputs": [
    {
     "data": {
      "text/plain": [
       "differential_corrector (generic function with 1 method)"
      ]
     },
     "metadata": {},
     "output_type": "display_data"
    }
   ],
   "source": [
    "#fix with a single shooting differential corrector\n",
    "function differential_corrector(x_0_stm, Tp)\n",
    "    \n",
    "    #this is the final time it converges to\n",
    "    T_f = 0\n",
    "\n",
    "    #Iterate to bring the δx at T/2 to the desired state\n",
    "    max_iters = 1000\n",
    "\n",
    "    #keep z0 fixed and change only x0 and y_dot_0\n",
    "    for i=1:max_iters\n",
    "    #for i=1:100\n",
    "\n",
    "        solution = diff_solve(x_0_stm, Tp)\n",
    "\n",
    "        #this is the state, STM, and time when y crosses the XZ plane \n",
    "        all_state, stm, sol_t = get_state_stm(solution)\n",
    "\n",
    "        #display(stm)\n",
    "\n",
    "        T2_state = all_state[:,end]\n",
    "\n",
    "        #T2_state -> x,y,z, xdot, ydot, zdot\n",
    "        #desired xdot an xzdot\n",
    "        xz_d = [0, 0]\n",
    "\n",
    "        rv = T2_state[1:6]\n",
    "\n",
    "        rv_dot = three_body_prob_dynamics(rv)\n",
    "\n",
    "        #desired state subtracted by state at t/2\n",
    "        δxz = xz_d - [T2_state[4], T2_state[6]]\n",
    "\n",
    "        #subset of the state transition matrix\n",
    "\n",
    "        #all 6 variables \n",
    "        #stm_s = [stm[4,1] stm[4,3] stm[4,5]; stm[6,1] stm[6,3] stm[6,5]]\n",
    "\n",
    "        #to change x and ydot \n",
    "\n",
    "        #keep z0 constant\n",
    "        #stm_s = [stm[4,1] stm[4,5]; stm[6,1] stm[6,5]]\n",
    "        #dy = [rv_dot[4]; rv_dot[6]]*[stm[2,1] stm[2,5]]\n",
    "\n",
    "        #keep x0 constant\n",
    "        stm_s = [stm[4,3, end] stm[4,5,end]; stm[6,3,end] stm[6,5,end]]\n",
    "        dy = [rv_dot[4]; rv_dot[6]]*[stm[2,3,end] stm[2,5,end]]\n",
    "\n",
    "\n",
    "        #keep y0 constant\n",
    "        #stm_s = [stm[4,1] stm[4,3]; stm[6,1] stm[6,3]]\n",
    "        #dy = [rv_dot[4]; rv_dot[6]]*[stm[2,1] stm[2,3]]\n",
    "\n",
    "\n",
    "        delta_x0 = (stm_s - dy/rv_dot[2])\\δxz\n",
    "        \n",
    "        #println(\"THIS IS CONDITION NUMBER\")\n",
    "        #println(cond((stm_s - dy/rv_dot[2])))\n",
    "\n",
    "        #delta_x0 = stm_s\\δxz\n",
    "\n",
    "        #update the initial state\n",
    "\n",
    "        #x_0_stm[1] = x_0_stm[1] + delta_x0[1]\n",
    "        x_0_stm[3] = x_0_stm[3] + delta_x0[1]\n",
    "        x_0_stm[5] = x_0_stm[5] + delta_x0[2]\n",
    "\n",
    "        #x_0_stm[1:6] = x_0_stm[1:6] + delta\n",
    "        #when delta is below a set tolerance we are done\n",
    "\n",
    "        #println(\"residual: \", δxz)\n",
    "        \n",
    "        if norm(δxz) < 1e-10\n",
    "            #this is the total time, but we use it to ensure we have enough time to find where\n",
    "            #y crosses the xz plane\n",
    "            #print(\"this is sol t: \", sol_t)\n",
    "            #updating time\n",
    "                    \n",
    "            T_f = sol_t[end]*2\n",
    "            break\n",
    "        end\n",
    "\n",
    "    end\n",
    "    \n",
    "    corrected_solution = dynamics_integrate(x_0_stm, T_f)\n",
    "\n",
    "    all_state_final, stm_final, sol_t_final = get_state_stm(corrected_solution)\n",
    "    \n",
    "    return all_state_final, stm_final, sol_t_final, corrected_solution\n",
    "    \n",
    "end"
   ]
  },
  {
   "cell_type": "code",
   "execution_count": 42,
   "id": "3e326485",
   "metadata": {},
   "outputs": [
    {
     "data": {
      "text/plain": [
       "([1.1201297302380415 1.1201311081188294 … 1.1201313201956895 1.1201297247305944; 0.0 0.0028013809910646193 … -0.0030131577097136215 6.570385800730957e-9; … ; 0.17677819141944426 0.17666637059384038 … 0.17664883388835512 0.176778202120717; 0.0 -0.0005565101221602515 … 0.0005985582943211904 -9.59632381217647e-10], [1.0 0.0 … 0.0 0.0; 0.0 1.0 … 0.0 0.0; … ; 0.0 0.0 … 1.0 0.0; 0.0 0.0 … 0.0 1.0;;; 1.0016074883709059 7.5804311225973746e-6 … 0.00025136138370891677 4.738211992493981e-7; -2.8757725808721976e-6 0.9993829724405194 … 0.015844299170138736 1.1950669931416683e-9; … ; -0.0005442279146014368 -0.07782864945011787 … 0.9988811443374926 3.013082664426108e-7; 0.01131746896886859 0.00011816242021569976 … 2.195516203519792e-6 0.9992614228077492;;; 1.0080661616809419 8.491747541014842e-5 … 0.00126360659271463 5.3138827001967e-6; -3.228465744021556e-5 0.9969092557866961 … 0.03543423089128573 2.98489886816867e-8; … ; -0.0027263784431498343 -0.17380305899628315 … 0.9944044720641597 3.347428475451547e-6; 0.025313991459029583 0.0005896594104886009 … 2.454251236961199e-5 0.9963013040443188;;; … ;;; 884.5000305780261 -9.858087992741886 … 186.31080005451 4.058866966056275; -1010.2671889874485 12.215524162035406 … -213.17730445121515 -4.627064132707103; … ; -1933.8621582669605 21.804238153798902 … -406.8405488303508 -8.861726072224506; 146.43232248518137 -1.6322729566620862 … 30.86080909653091 1.6358808536445033;;; 969.2470535111854 -10.799623608310783 … 204.1826835065019 4.446820674224266; -1070.6243107975495 12.893661711980956 … -225.8749884379821 -4.903637889419941; … ; -1966.287838432348 22.015294738190555 … -413.6572274566555 -9.009884738297316; 164.31470567871452 -1.8288888378587065 … 34.62678289014896 1.741563826363975;;; 1019.5456807142582 -11.358638380039263 … 214.7896196700077 4.6770868789143245; -1104.2606175352955 13.269547675859702 … -232.9511976521069 -5.0577634641429094; … ; -1978.9061905292626 22.072251714430898 … -416.3096499483892 -9.067464445333348; 174.30304322356616 -1.9383388378781254 … 36.73032147894334 1.7980790894186478], [0.0, 0.015850212348726266, 0.03550054723246425, 0.056791408328013285, 0.08044153014122501, 0.10563329155867632, 0.13239751133834998, 0.16042240039607514, 0.18970074592747735, 0.22010016369487198  …  3.142201619566709, 3.17455421244681, 3.2066471465179096, 3.238579715357042, 3.2710742067954337, 3.3036223924672012, 3.335557765191627, 3.3669911126452474, 3.3979263681880414, 3.414975413662902], ODESolution{Float64, 2, Vector{Vector{Float64}}, Nothing, Nothing, Vector{Float64}, Vector{Vector{Vector{Float64}}}, ODEProblem{Vector{Float64}, Tuple{Float64, Float64}, true, SciMLBase.NullParameters, ODEFunction{true, SciMLBase.AutoSpecialize, FunctionWrappersWrappers.FunctionWrappersWrapper{Tuple{FunctionWrappers.FunctionWrapper{Nothing, Tuple{Vector{Float64}, Vector{Float64}, SciMLBase.NullParameters, Float64}}, FunctionWrappers.FunctionWrapper{Nothing, Tuple{Vector{ForwardDiff.Dual{ForwardDiff.Tag{DiffEqBase.OrdinaryDiffEqTag, Float64}, Float64, 1}}, Vector{ForwardDiff.Dual{ForwardDiff.Tag{DiffEqBase.OrdinaryDiffEqTag, Float64}, Float64, 1}}, SciMLBase.NullParameters, Float64}}, FunctionWrappers.FunctionWrapper{Nothing, Tuple{Vector{ForwardDiff.Dual{ForwardDiff.Tag{DiffEqBase.OrdinaryDiffEqTag, Float64}, Float64, 1}}, Vector{Float64}, SciMLBase.NullParameters, ForwardDiff.Dual{ForwardDiff.Tag{DiffEqBase.OrdinaryDiffEqTag, Float64}, Float64, 1}}}, FunctionWrappers.FunctionWrapper{Nothing, Tuple{Vector{ForwardDiff.Dual{ForwardDiff.Tag{DiffEqBase.OrdinaryDiffEqTag, Float64}, Float64, 1}}, Vector{ForwardDiff.Dual{ForwardDiff.Tag{DiffEqBase.OrdinaryDiffEqTag, Float64}, Float64, 1}}, SciMLBase.NullParameters, ForwardDiff.Dual{ForwardDiff.Tag{DiffEqBase.OrdinaryDiffEqTag, Float64}, Float64, 1}}}}, false}, UniformScaling{Bool}, Nothing, Nothing, Nothing, Nothing, Nothing, Nothing, Nothing, Nothing, Nothing, Nothing, Nothing, typeof(SciMLBase.DEFAULT_OBSERVED), Nothing, Nothing}, Base.Pairs{Symbol, Union{}, Tuple{}, @NamedTuple{}}, SciMLBase.StandardODEProblem}, TsitPap8{typeof(OrdinaryDiffEq.trivial_limiter!), typeof(OrdinaryDiffEq.trivial_limiter!), Static.False}, OrdinaryDiffEq.InterpolationData{ODEFunction{true, SciMLBase.AutoSpecialize, FunctionWrappersWrappers.FunctionWrappersWrapper{Tuple{FunctionWrappers.FunctionWrapper{Nothing, Tuple{Vector{Float64}, Vector{Float64}, SciMLBase.NullParameters, Float64}}, FunctionWrappers.FunctionWrapper{Nothing, Tuple{Vector{ForwardDiff.Dual{ForwardDiff.Tag{DiffEqBase.OrdinaryDiffEqTag, Float64}, Float64, 1}}, Vector{ForwardDiff.Dual{ForwardDiff.Tag{DiffEqBase.OrdinaryDiffEqTag, Float64}, Float64, 1}}, SciMLBase.NullParameters, Float64}}, FunctionWrappers.FunctionWrapper{Nothing, Tuple{Vector{ForwardDiff.Dual{ForwardDiff.Tag{DiffEqBase.OrdinaryDiffEqTag, Float64}, Float64, 1}}, Vector{Float64}, SciMLBase.NullParameters, ForwardDiff.Dual{ForwardDiff.Tag{DiffEqBase.OrdinaryDiffEqTag, Float64}, Float64, 1}}}, FunctionWrappers.FunctionWrapper{Nothing, Tuple{Vector{ForwardDiff.Dual{ForwardDiff.Tag{DiffEqBase.OrdinaryDiffEqTag, Float64}, Float64, 1}}, Vector{ForwardDiff.Dual{ForwardDiff.Tag{DiffEqBase.OrdinaryDiffEqTag, Float64}, Float64, 1}}, SciMLBase.NullParameters, ForwardDiff.Dual{ForwardDiff.Tag{DiffEqBase.OrdinaryDiffEqTag, Float64}, Float64, 1}}}}, false}, UniformScaling{Bool}, Nothing, Nothing, Nothing, Nothing, Nothing, Nothing, Nothing, Nothing, Nothing, Nothing, Nothing, typeof(SciMLBase.DEFAULT_OBSERVED), Nothing, Nothing}, Vector{Vector{Float64}}, Vector{Float64}, Vector{Vector{Vector{Float64}}}, Nothing, OrdinaryDiffEq.TsitPap8Cache{Vector{Float64}, Vector{Float64}, Vector{Float64}, OrdinaryDiffEq.TsitPap8ConstantCache{Float64, Float64}, typeof(OrdinaryDiffEq.trivial_limiter!), typeof(OrdinaryDiffEq.trivial_limiter!), Static.False}, Nothing}, SciMLBase.DEStats, Nothing}([[1.1201297302380415, 0.0, 0.0059396759100811495, 0.0, 0.17677819141944426, 0.0, 1.0, 0.0, 0.0, 0.0  …  0.0, 0.0, 1.0, 0.0, 0.0, 0.0, 0.0, 0.0, 0.0, 1.0], [1.1201311081188294, 0.0028013809910646193, 0.005935264507142006, 0.00017455616725569803, 0.17666637059384038, -0.0005565101221602515, 1.0016074883709059, -2.8757725808721976e-6, 8.970725994005556e-5, 0.20284881230889387  …  8.7035415589261e-9, 0.031733765085780415, 0.9988811443374926, 2.195516203519792e-6, 4.738211992493981e-7, 1.1950669931416683e-9, 0.015846309477256883, 8.965350559332897e-5, 3.013082664426108e-7, 0.9992614228077492], [1.120136752870633, 0.006269089445916738, 0.005917566297468253, 0.0004033956866625112, 0.17621807015928867, -0.001244177190269609, 1.0080661616809419, -3.228465744021556e-5, 0.00044971088525430663, 0.45458008684811113  …  2.1828174423345953e-7, 0.07137436444778235, 0.9944044720641597, 2.454251236961199e-5, 5.3138827001967e-6, 2.98489886816867e-8, 0.03545674102667208, 0.0004483636589028068, 3.347428475451547e-6, 0.9963013040443188], [1.1201482497368538, 0.010012373523176655, 0.005883194169678909, 0.0006837239750918649, 0.17534885119456597, -0.001983328908174745, 1.0206534659750381, -0.0001319641688015208, 0.0011493567249905659, 0.7279771376837207  …  1.4201593458820325e-6, 0.11510045152708358, 0.9857649813762883, 9.948476382288893e-5, 2.1676950326915076e-5, 1.9264456183732498e-7, 0.056612427008811854, 0.0011406030492897914, 1.3405239318253563e-5, 0.9905660313877647], [1.120168682190301, 0.014143487107765808, 0.005826685872935043, 0.0010569419006039816, 0.17392391085365633, -0.0027929991302306154, 1.0414730702801756, -0.0003740786480782194, 0.0023009105489208348, 1.0329146683987855  …  5.654706022698569e-6, 0.1651473849808245, 0.9717157419111536, 0.0002781479251564051, 6.124032038120887e-5, 7.568447063123594e-7, 0.07993457416338887, 0.0022661303161565856, 3.672226222533646e-5, 0.9811759990120431], [1.120201305619508, 0.018500405772935834, 0.005745645959650369, 0.0015519759835388855, 0.17188902266117997, -0.0036373015537745647, 1.071605384741384, -0.0008442000158105598, 0.003955140905561028, 1.3597058839040244  …  1.655501315887144e-5, 0.2207685224006596, 0.9518922687623216, 0.0006153195269783385, 0.00013751424139524514, 2.1726677568886743e-6, 0.10449072315020473, 0.0038536261138396367, 7.881335775107188e-5, 0.9677927677369591], [1.1202513814362558, 0.023065699456366728, 0.0056365756739290805, 0.002215908112404434, 0.16916593025525192, -0.004508215413083913, 1.112673680677284, -0.0016551450246504239, 0.006186362225325472, 1.7097238338580052  …  4.000826959129148e-5, 0.2831057894685562, 0.9257910317243905, 0.001174108881797722, 0.00026772630336859064, 5.109441058359935e-6, 0.13016206356911134, 0.00594202364689316, 0.00014408424351634787, 0.9499325428416124], [1.120325279038277, 0.027759733171757686, 0.005497850945341422, 0.0030903546515456855, 0.16572738134333756, -0.005385528101534348, 1.1657669087954967, -0.002930069388937006, 0.009031520652499686, 2.0799682555440824  …  8.397105712075282e-5, 0.3525482495275138, 0.8934988570249234, 0.0020069988883439365, 0.0004695217039825296, 1.0343398179844742e-5, 0.15647762436676804, 0.008521282393068904, 0.00023236780708056309, 0.9274624469553105], [1.120431771183826, 0.032552031822365525, 0.0053272765791087225, 0.004222982599925816, 0.1615357159956104, -0.006258529857340454, 1.2323837980345167, -0.004819943665718397, 0.012539776771410714, 2.4714709702773097  …  0.0001589057786306946, 0.43013050582941154, 0.8550825219596585, 0.003159997081338094, 0.0007629657942030027, 1.8677710594700375e-5, 0.1832420861685071, 0.011580081262976116, 0.00033832981952616487, 0.9001996910093913], [1.1205812084249924, 0.03738887575274665, 0.005123898029010806, 0.005652575702481179, 0.15658710222818034, -0.007112623944490012, 1.3137645164723082, -0.007490402946746298, 0.016734643304277944, 2.8836351647777763  …  0.00027695847862020814, 0.5164393943148743, 0.8109717401177109, 0.004655773035636499, 0.001167376778680506, 3.066391605553124e-5, 0.210130260597215, 0.01507381820906706, 0.0004488451303316346, 0.8682024845923035]  …  [1.1209572429868664, -0.04538415154065238, 0.004713112869912656, -0.008757629252891901, 0.14673971606585043, 0.008454671333274214, 475.31292413722645, -624.6591337118593, -4.050120820915243, 1189.728875473182  …  -0.8501374848959391, 250.93815009309697, -303.9077304367079, 9.418082758418874, 2.1849750366226024, -2.8597481478001883, -0.35038779801378755, 5.455822336849001, -6.620675320460977, 0.8691505912123656], [1.1207070848125222, -0.040534514943011635, 0.004973840394433381, -0.006756340763672225, 0.15296801324168766, 0.007651702927386564, 516.1296513558328, -672.766314603232, -2.4370085215745303, 1336.4902766392315  …  -0.5097273309796346, 281.89923223376803, -321.81966639663216, 11.673963868656326, 2.3720964805273588, -3.0802688741500974, -0.32062793606374446, 6.125445501818128, -7.010897484833592, 0.971287159619229], [1.1205181458530715, -0.035533778446277045, 0.005205727707621213, -0.005067647634983795, 0.15857199456107793, 0.006788501894484203, 561.5997542718026, -723.1862832811399, -0.47242740649520804, 1500.2673150767616  …  -0.09528955736035716, 316.44346054509487, -339.21221060662697, 14.202088385177131, 2.580448565761901, -3.3113801451935534, -0.2877758901790095, 6.873094230399819, -7.3897070317098805, 1.0766536201720056], [1.1203792518964466, -0.03038949759530947, 0.005407957440159434, -0.0036793410175186285, 0.1635135074710014, 0.005867660833903795, 612.3594516668225, -775.9378851940337, 1.8866828299754288, 1682.1090332992567  …  0.4022423383377211, 354.79183705983, -355.7780961172432, 17.00716355222699, 2.812950804864333, -3.553166194293027, -0.25167465501763037, 7.703653874410099, -7.7504327736071055, 1.18495705746887], [1.1202787675796646, -0.025004111192922864, 0.005582610769867667, -0.002551308034978345, 0.1678250717239033, 0.004872937496359213, 670.2935263014995, -832.1161207207764, 4.746205512324424, 1887.0354401648187  …  1.0051794769755602, 398.0028052953177, -371.4662549469676, 20.150158605739144, 3.0782415161258756, -3.8106440292325936, -0.21134103522927214, 8.640166510875252, -8.091976358028663, 1.2979135821445864], [1.1202105444141477, -0.01948204367623501, 0.005724301658929398, -0.0016810299610623858, 0.17135474957203792, 0.0038258675397070847, 735.3279228596163, -890.6985394858536, 8.117883188687156, 2112.509347199452  …  1.7159800309055628, 445.54140179615837, -385.56645609283004, 23.56940982779324, 3.375990587452972, -4.079126069985841, -0.16723026477050004, 9.671154101960868, -8.39888256706144, 1.4127550285419694], [1.12016760478447, -0.013965367174476166, 0.005829527720457292, -0.001039134915673046, 0.17399546483878472, 0.0027582532952100396, 806.581999608199, -950.1534941213126, 11.957770288227191, 2353.0046912493026  …  2.525371331686007, 496.24309839972307, -397.4253887635949, 27.15442665523046, 3.702181694783654, -4.351592571707956, -0.12030767254999726, 10.771428636852091, -8.65693501688927, 1.5257774990235695], [1.12014276320121, -0.008466207044942164, 0.005899320423897746, -0.0005625176401801763, 0.17575643750226178, 0.0016785379334293242, 884.5000305780261, -1010.2671889874485, 16.282152141783552, 2607.5113942990256  …  3.4367839813219034, 549.8958387938756, -406.8405488303508, 30.86080909653091, 4.058866966056275, -4.627064132707103, -0.07061189031741594, 11.936419017828717, -8.861726072224506, 1.6358808536445033], [1.1201313201956895, -0.0030131577097136215, 0.005934572019823135, -0.00018800829912911642, 0.17664883388835512, 0.0005985582943211904, 969.2470535111854, -1070.6243107975495, 21.087597526226833, 2874.014891091406  …  4.4494953879625445, 606.0759297199583, -413.6572274566555, 34.62678289014896, 4.446820674224266, -4.903637889419941, -0.018361896786194393, 13.156938324571835, -9.009884738297316, 1.741563826363975], [1.1201297247305944, 6.570385800730957e-9, 0.0059396757754395565, -1.633346660459268e-8, 0.176778202120717, -9.59632381217647e-10, 1019.5456807142582, -1104.2606175352955, 23.97407434654173, 3027.1553991731  …  5.057764210309486, 638.3582950245666, -416.3096499483892, 36.73032147894334, 4.6770868789143245, -5.0577634641429094, 0.01181391919386661, 13.85854545753901, -9.067464445333348, 1.7980790894186478]], nothing, nothing, [0.0, 0.015850212348726266, 0.03550054723246425, 0.056791408328013285, 0.08044153014122501, 0.10563329155867632, 0.13239751133834998, 0.16042240039607514, 0.18970074592747735, 0.22010016369487198  …  3.142201619566709, 3.17455421244681, 3.2066471465179096, 3.238579715357042, 3.2710742067954337, 3.3036223924672012, 3.335557765191627, 3.3669911126452474, 3.3979263681880414, 3.414975413662902], [[[1.1201297302380415, 0.0, 0.0059396759100811495, 0.0, 0.17677819141944426, 0.0, 1.0, 0.0, 0.0, 0.0  …  0.0, 0.0, 1.0, 0.0, 0.0, 0.0, 0.0, 0.0, 0.0, 1.0]], [[0.0, 0.17677819141944426, 0.0, 0.010925342764301849, -0.0, -0.035126520726964816, 0.0, 0.0, 0.0, 12.79610905469557  …  0.0, 2.0, 0.0, 0.0, 0.0, 0.0, 1.0, 0.0, 0.0, 0.0], [0.00017455616725569803, 0.17666637059384038, -0.0005565101221602515, 0.011187765894279611, -0.01410450473592521, -0.03507870931608803, 0.20284881230889387, -0.0005442279146014368, 0.01131746896886859, 12.80136233909092  …  2.195516203519792e-6, 2.0063066606102757, -0.14107050620520267, 0.00041519700513639913, 8.965350559332897e-5, 3.013082664426108e-7, 0.9992614228077492, 0.01130391028671395, 5.692254241119492e-5, -0.09315463917297272]], [[0.00017455616725569803, 0.17666637059384038, -0.0005565101221602515, 0.011187765894279611, -0.01410450473592521, -0.03507870931608803, 0.20284881230889387, -0.0005442279146014368, 0.01131746896886859, 12.80136233909092  …  2.195516203519792e-6, 2.0063066606102757, -0.14107050620520267, 0.00041519700513639913, 8.965350559332897e-5, 3.013082664426108e-7, 0.9992614228077492, 0.01130391028671395, 5.692254241119492e-5, -0.09315463917297272], [0.0004033956866625112, 0.17621807015928867, -0.001244177190269609, 0.012235356608820858, -0.031497601452037435, -0.034887467736995366, 0.45458008684811113, -0.0027263784431498343, 0.025313991459029583, 12.822354850424272  …  2.454251236961199e-5, 2.0314500276602323, -0.3140305182958656, 0.002065174635180425, 0.0004483636589028068, 3.347428475451547e-6, 0.9963013040443188, 0.02516258016642018, 0.00028021606175447286, -0.2079268595324386]], [[0.0004033956866625112, 0.17621807015928867, -0.001244177190269609, 0.012235356608820858, -0.031497601452037435, -0.034887467736995366, 0.45458008684811113, -0.0027263784431498343, 0.025313991459029583, 12.822354850424272  …  2.454251236961199e-5, 2.0314500276602323, -0.3140305182958656, 0.002065174635180425, 0.0004483636589028068, 3.347428475451547e-6, 0.9963013040443188, 0.02516258016642018, 0.00028021606175447286, -0.2079268595324386], [0.0006837239750918649, 0.17534885119456597, -0.001983328908174745, 0.014246145930177201, -0.050101006494184426, -0.034518660758105356, 0.7279771376837207, -0.0069591670695971835, 0.04038856105686744, 12.862751160668527  …  9.948476382288893e-5, 2.079565188740114, -0.49644576606744306, 0.005198378779715269, 0.0011406030492897914, 1.3405239318253563e-5, 0.9905660313877647, 0.03977601115231162, 0.0006909924057392648, -0.3304169831639907]], [[0.0006837239750918649, 0.17534885119456597, -0.001983328908174745, 0.014246145930177201, -0.050101006494184426, -0.034518660758105356, 0.7279771376837207, -0.0069591670695971835, 0.04038856105686744, 12.862751160668527  …  9.948476382288893e-5, 2.079565188740114, -0.49644576606744306, 0.005198378779715269, 0.0011406030492897914, 1.3405239318253563e-5, 0.9905660313877647, 0.03977601115231162, 0.0006909924057392648, -0.3304169831639907], [0.0010569419006039816, 0.17392391085365633, -0.0027929991302306154, 0.017484615921015134, -0.07030590544813471, -0.03391972163911915, 1.0329146683987855, -0.013905674436218471, 0.05695696049173114, 12.928129119503076  …  0.0002781479251564051, 2.1566573860008855, -0.6897376674116878, 0.010149446843257172, 0.0022661303161565856, 3.672226222533646e-5, 0.9811759990120431, 0.05524983499188873, 0.0013024096655115426, -0.4629293842375217]], [[0.0010569419006039816, 0.17392391085365633, -0.0027929991302306154, 0.017484615921015134, -0.07030590544813471, -0.03391972163911915, 1.0329146683987855, -0.013905674436218471, 0.05695696049173114, 12.928129119503076  …  0.0002781479251564051, 2.1566573860008855, -0.6897376674116878, 0.010149446843257172, 0.0022661303161565856, 3.672226222533646e-5, 0.9811759990120431, 0.05524983499188873, 0.0013024096655115426, -0.4629293842375217], [0.0015519759835388855, 0.17188902266117997, -0.0036373015537745647, 0.021985887520324432, -0.09110646708658214, -0.03307646786925068, 1.3597058839040244, -0.023850369839357115, 0.07431703716464619, 13.019771944143816  …  0.0006153195269783385, 2.263007219515957, -0.881347207180579, 0.01683084548127466, 0.0038536261138396367, 7.881335775107188e-5, 0.9677927677369591, 0.07055771864540958, 0.002046428814871856, -0.5984985831493818]], [[0.0015519759835388855, 0.17188902266117997, -0.0036373015537745647, 0.021985887520324432, -0.09110646708658214, -0.03307646786925068, 1.3597058839040244, -0.023850369839357115, 0.07431703716464619, 13.019771944143816  …  0.0006153195269783385, 2.263007219515957, -0.881347207180579, 0.01683084548127466, 0.0038536261138396367, 7.881335775107188e-5, 0.9677927677369591, 0.07055771864540958, 0.002046428814871856, -0.5984985831493818], [0.002215908112404434, 0.16916593025525192, -0.004508215413083913, 0.027785591217683148, -0.11219164197331415, -0.03196989427065623, 1.7097238338580052, -0.037226043011957116, 0.09233195096327175, 13.139498719840564  …  0.001174108881797722, 2.398699977283909, -1.0655726317824876, 0.025081950639407543, 0.00594202364689316, 0.00014408424351634787, 0.9499325428416124, 0.08520200419084223, 0.002815665784030346, -0.7346635971975315]], [[0.002215908112404434, 0.16916593025525192, -0.004508215413083913, 0.027785591217683148, -0.11219164197331415, -0.03196989427065623, 1.7097238338580052, -0.037226043011957116, 0.09233195096327175, 13.139498719840564  …  0.001174108881797722, 2.398699977283909, -1.0655726317824876, 0.025081950639407543, 0.00594202364689316, 0.00014408424351634787, 0.9499325428416124, 0.08520200419084223, 0.002815665784030346, -0.7346635971975315], [0.0030903546515456855, 0.16572738134333756, -0.005385528101534348, 0.034749946306998514, -0.13296498563042244, -0.030607640335168978, 2.0799682555440824, -0.054274410010063674, 0.11060142427356942, 13.286460336269986  …  0.0020069988883439365, 2.5597594905246313, -1.234809901840034, 0.03442692366038844, 0.008521282393068904, 0.00023236780708056309, 0.9274624469553105, 0.09850555791920194, 0.003440207949061285, -0.8670763643731846]], [[0.0030903546515456855, 0.16572738134333756, -0.005385528101534348, 0.034749946306998514, -0.13296498563042244, -0.030607640335168978, 2.0799682555440824, -0.054274410010063674, 0.11060142427356942, 13.286460336269986  …  0.0020069988883439365, 2.5597594905246313, -1.234809901840034, 0.03442692366038844, 0.008521282393068904, 0.00023236780708056309, 0.9274624469553105, 0.09850555791920194, 0.003440207949061285, -0.8670763643731846], [0.004222982599925816, 0.1615357159956104, -0.006258529857340454, 0.04271079530560862, -0.1530883137202318, -0.02899860375846103, 2.4714709702773097, -0.07538630279027797, 0.12890131616760148, 13.46021638978984  …  0.003159997081338094, 2.741572895009508, -1.3848649945244125, 0.044296373991492895, 0.011580081262976116, 0.00033832981952616487, 0.9001996910093913, 0.11002930378339396, 0.003720683915960688, -0.993050887203159]], [[0.004222982599925816, 0.1615357159956104, -0.006258529857340454, 0.04271079530560862, -0.1530883137202318, -0.02899860375846103, 2.4714709702773097, -0.07538630279027797, 0.12890131616760148, 13.46021638978984  …  0.003159997081338094, 2.741572895009508, -1.3848649945244125, 0.044296373991492895, 0.011580081262976116, 0.00033832981952616487, 0.9001996910093913, 0.11002930378339396, 0.003720683915960688, -0.993050887203159], [0.005652575702481179, 0.15658710222818034, -0.007112623944490012, 0.05138404173356015, -0.17217218841961618, -0.027169661034646006, 2.8836351647777763, -0.10093061146502029, 0.14689884213427018, 13.659317060107167  …  0.004655773035636499, 2.937319573292431, -1.5126222983815292, 0.05395612642336748, 0.01507381820906706, 0.0004488451303316346, 0.8682024845923035, 0.11938703737159541, 0.0034408926455120996, -1.109602403715285]]  …  [[-0.01107457644712539, 0.13992248208523245, 0.009195151310522473, 0.07518176317047509, 0.21581745009565667, -0.021536635124641174, 1058.8743004521605, -1357.9420372573056, 35.16085677036616, 3747.153773966825  …  7.425305081886738, 790.7775435444878, -552.8606258026299, 56.69211463705596, 4.85907144741324, -6.225070378431712, 0.7704271144919456, 17.08448392634935, -12.050247257364123, 2.9476415837552197], [-0.008757629252891901, 0.14673971606585043, 0.008454671333274214, 0.06641624683594055, 0.20079745279152586, -0.023746842473521004, 1189.728875473182, -1444.2865674890043, 44.62037210770572, 4263.534588847644  …  9.418082758418874, 899.5396355358905, -555.9801246494926, 65.28175891853117, 5.455822336849001, -6.620675320460977, 0.8691505912123656, 19.448079514073125, -12.1141089443012, 3.089645073069325]], [[-0.008757629252891901, 0.14673971606585043, 0.008454671333274214, 0.06641624683594055, 0.20079745279152586, -0.023746842473521004, 1189.728875473182, -1444.2865674890043, 44.62037210770572, 4263.534588847644  …  9.418082758418874, 899.5396355358905, -555.9801246494926, 65.28175891853117, 5.455822336849001, -6.620675320460977, 0.8691505912123656, 19.448079514073125, -12.1141089443012, 3.089645073069325], [-0.006756340763672225, 0.15296801324168766, 0.007651702927386564, 0.05724558891275461, 0.1838797766641695, -0.02587895646317538, 1336.4902766392315, -1529.4807798270233, 55.32972667720228, 4815.355433204571  …  11.673963868656326, 1015.7581008329167, -549.6015985293649, 74.23244018644412, 6.125445501818128, -7.010897484833592, 0.971287159619229, 21.97639275658325, -11.971760089497023, 3.2225863281459954]], [[-0.006756340763672225, 0.15296801324168766, 0.007651702927386564, 0.05724558891275461, 0.1838797766641695, -0.02587895646317538, 1336.4902766392315, -1529.4807798270233, 55.32972667720228, 4815.355433204571  …  11.673963868656326, 1015.7581008329167, -549.6015985293649, 74.23244018644412, 6.125445501818128, -7.010897484833592, 0.971287159619229, 21.97639275658325, -11.971760089497023, 3.2225863281459954], [-0.005067647634983795, 0.15857199456107793, 0.006788501894484203, 0.04799782863978791, 0.16500473880042893, -0.027894228297821455, 1500.2673150767616, -1612.2035061145746, 67.33236705906242, 5395.806390242929  …  14.202088385177131, 1138.0015518679522, -532.3510550550154, 83.33219065021999, 6.873094230399819, -7.3897070317098805, 1.0766536201720056, 24.638511018600088, -11.593265646246675, 3.3409387438857827]], [[-0.005067647634983795, 0.15857199456107793, 0.006788501894484203, 0.04799782863978791, 0.16500473880042893, -0.027894228297821455, 1500.2673150767616, -1612.2035061145746, 67.33236705906242, 5395.806390242929  …  14.202088385177131, 1138.0015518679522, -532.3510550550154, 83.33219065021999, 6.873094230399819, -7.3897070317098805, 1.0766536201720056, 24.638511018600088, -11.593265646246675, 3.3409387438857827], [-0.0036793410175186285, 0.1635135074710014, 0.005867660833903795, 0.03902595045767854, 0.1441512136187144, -0.02975084717093182, 1682.1090332992567, -1690.9939929281609, 80.65065529729566, 5996.116595993442  …  17.00716355222699, 1264.4264720898777, -503.115119681255, 92.31612923836477, 7.703653874410099, -7.7504327736071055, 1.18495705746887, 27.394482797399, -10.954312188698022, 3.438299747585166]], [[-0.0036793410175186285, 0.1635135074710014, 0.005867660833903795, 0.03902595045767854, 0.1441512136187144, -0.02975084717093182, 1682.1090332992567, -1690.9939929281609, 80.65065529729566, 5996.116595993442  …  17.00716355222699, 1264.4264720898777, -503.115119681255, 92.31612923836477, 7.703653874410099, -7.7504327736071055, 1.18495705746887, 27.394482797399, -10.954312188698022, 3.438299747585166], [-0.002551308034978345, 0.1678250717239033, 0.004872937496359213, 0.030548536053320696, 0.12088946453521626, -0.03143407584550483, 1887.0354401648187, -1765.6099395036201, 95.57405459909037, 6617.433346639293  …  20.150158605739144, 1395.2790135854339, -460.2399872526281, 101.02602500556473, 8.640166510875252, -8.091976358028663, 1.2979135821445864, 30.249912849459065, -10.018735879570581, 3.508501746502027]], [[-0.002551308034978345, 0.1678250717239033, 0.004872937496359213, 0.030548536053320696, 0.12088946453521626, -0.03143407584550483, 1887.0354401648187, -1765.6099395036201, 95.57405459909037, 6617.433346639293  …  20.150158605739144, 1395.2790135854339, -460.2399872526281, 101.02602500556473, 8.640166510875252, -8.091976358028663, 1.2979135821445864, 30.249912849459065, -10.018735879570581, 3.508501746502027], [-0.0016810299610623858, 0.17135474957203792, 0.0038258675397070847, 0.02314386503577498, 0.09570661524708965, -0.0328573940605552, 2112.509347199452, -1832.67387889959, 111.80970509273448, 7235.257399448345  …  23.56940982779324, 1525.404973079576, -404.01106263245697, 108.89980226762131, 9.671154101960868, -8.39888256706144, 1.4127550285419694, 33.09251541941791, -8.792637047360122, 3.541240199335656]], [[-0.0016810299610623858, 0.17135474957203792, 0.0038258675397070847, 0.02314386503577498, 0.09570661524708965, -0.0328573940605552, 2112.509347199452, -1832.67387889959, 111.80970509273448, 7235.257399448345  …  23.56940982779324, 1525.404973079576, -404.01106263245697, 108.89980226762131, 9.671154101960868, -8.39888256706144, 1.4127550285419694, 33.09251541941791, -8.792637047360122, 3.541240199335656], [-0.001039134915673046, 0.17399546483878472, 0.0027582532952100396, 0.017323681575910632, 0.06944351191380399, -0.033949629484250315, 2353.0046912493026, -1889.0789230631724, 128.83280558147644, 7821.569548439553  …  27.15442665523046, 1648.9083560083398, -336.8107520909772, 115.37643873627962, 10.771428636852091, -8.65693501688927, 1.5257774990235695, 35.79341249812849, -7.327745846060749, 3.529054089677418]], [[-0.001039134915673046, 0.17399546483878472, 0.0027582532952100396, 0.017323681575910632, 0.06944351191380399, -0.033949629484250315, 2353.0046912493026, -1889.0789230631724, 128.83280558147644, 7821.569548439553  …  27.15442665523046, 1648.9083560083398, -336.8107520909772, 115.37643873627962, 10.771428636852091, -8.65693501688927, 1.5257774990235695, 35.79341249812849, -7.327745846060749, 3.529054089677418], [-0.0005625176401801763, 0.17575643750226178, 0.0016785379334293242, 0.013306589462950935, 0.04244481242805128, -0.03469126987000791, 2607.5113942990256, -1933.8621582669605, 146.43232248518137, 8365.25035599328  …  30.86080909653091, 1763.4515204715826, -260.80814216035105, 120.15460862095938, 11.936419017828717, -8.861726072224506, 1.6358808536445033, 38.301198360969124, -5.671123743317381, 3.467897018979017]], [[-0.0005625176401801763, 0.17575643750226178, 0.0016785379334293242, 0.013306589462950935, 0.04244481242805128, -0.03469126987000791, 2607.5113942990256, -1933.8621582669605, 146.43232248518137, 8365.25035599328  …  30.86080909653091, 1763.4515204715826, -260.80814216035105, 120.15460862095938, 11.936419017828717, -8.861726072224506, 1.6358808536445033, 38.301198360969124, -5.671123743317381, 3.467897018979017], [-0.00018800829912911642, 0.17664883388835512, 0.0005985582943211904, 0.011228857862395025, 0.015169551177783385, -0.03507121365889622, 2874.014891091406, -1966.287838432348, 164.31470567871452, 8856.47258532331  …  34.62678289014896, 1866.9676656377917, -178.98128197642495, 122.98811848361495, 13.156938324571835, -9.009884738297316, 1.741563826363975, 40.570223323569095, -3.8875031547271206, 3.355807058841743]], [[-0.00018800829912911642, 0.17664883388835512, 0.0005985582943211904, 0.011228857862395025, 0.015169551177783385, -0.03507121365889622, 2874.014891091406, -1966.287838432348, 164.31470567871452, 8856.47258532331  …  34.62678289014896, 1866.9676656377917, -178.98128197642495, 122.98811848361495, 13.156938324571835, -9.009884738297316, 1.741563826363975, 40.570223323569095, -3.8875031547271206, 3.355807058841743], [-1.633346660459268e-8, 0.176778202120717, -9.59632381217647e-10, 0.010925293596781738, 3.8085236393059864e-10, -0.035126523868759814, 3027.1553991731, -1978.9061905292626, 174.30304322356616, 9105.529702574879  …  36.73032147894334, 1919.4647914888737, -132.0224206796804, 123.66621314198458, 13.85854545753901, -9.067464445333348, 1.7980790894186478, 41.72202534576934, -2.8638495172286618, 3.2711969384768076]]], ODEProblem{Vector{Float64}, Tuple{Float64, Float64}, true, SciMLBase.NullParameters, ODEFunction{true, SciMLBase.AutoSpecialize, FunctionWrappersWrappers.FunctionWrappersWrapper{Tuple{FunctionWrappers.FunctionWrapper{Nothing, Tuple{Vector{Float64}, Vector{Float64}, SciMLBase.NullParameters, Float64}}, FunctionWrappers.FunctionWrapper{Nothing, Tuple{Vector{ForwardDiff.Dual{ForwardDiff.Tag{DiffEqBase.OrdinaryDiffEqTag, Float64}, Float64, 1}}, Vector{ForwardDiff.Dual{ForwardDiff.Tag{DiffEqBase.OrdinaryDiffEqTag, Float64}, Float64, 1}}, SciMLBase.NullParameters, Float64}}, FunctionWrappers.FunctionWrapper{Nothing, Tuple{Vector{ForwardDiff.Dual{ForwardDiff.Tag{DiffEqBase.OrdinaryDiffEqTag, Float64}, Float64, 1}}, Vector{Float64}, SciMLBase.NullParameters, ForwardDiff.Dual{ForwardDiff.Tag{DiffEqBase.OrdinaryDiffEqTag, Float64}, Float64, 1}}}, FunctionWrappers.FunctionWrapper{Nothing, Tuple{Vector{ForwardDiff.Dual{ForwardDiff.Tag{DiffEqBase.OrdinaryDiffEqTag, Float64}, Float64, 1}}, Vector{ForwardDiff.Dual{ForwardDiff.Tag{DiffEqBase.OrdinaryDiffEqTag, Float64}, Float64, 1}}, SciMLBase.NullParameters, ForwardDiff.Dual{ForwardDiff.Tag{DiffEqBase.OrdinaryDiffEqTag, Float64}, Float64, 1}}}}, false}, UniformScaling{Bool}, Nothing, Nothing, Nothing, Nothing, Nothing, Nothing, Nothing, Nothing, Nothing, Nothing, Nothing, typeof(SciMLBase.DEFAULT_OBSERVED), Nothing, Nothing}, Base.Pairs{Symbol, Union{}, Tuple{}, @NamedTuple{}}, SciMLBase.StandardODEProblem}(ODEFunction{true, SciMLBase.AutoSpecialize, FunctionWrappersWrappers.FunctionWrappersWrapper{Tuple{FunctionWrappers.FunctionWrapper{Nothing, Tuple{Vector{Float64}, Vector{Float64}, SciMLBase.NullParameters, Float64}}, FunctionWrappers.FunctionWrapper{Nothing, Tuple{Vector{ForwardDiff.Dual{ForwardDiff.Tag{DiffEqBase.OrdinaryDiffEqTag, Float64}, Float64, 1}}, Vector{ForwardDiff.Dual{ForwardDiff.Tag{DiffEqBase.OrdinaryDiffEqTag, Float64}, Float64, 1}}, SciMLBase.NullParameters, Float64}}, FunctionWrappers.FunctionWrapper{Nothing, Tuple{Vector{ForwardDiff.Dual{ForwardDiff.Tag{DiffEqBase.OrdinaryDiffEqTag, Float64}, Float64, 1}}, Vector{Float64}, SciMLBase.NullParameters, ForwardDiff.Dual{ForwardDiff.Tag{DiffEqBase.OrdinaryDiffEqTag, Float64}, Float64, 1}}}, FunctionWrappers.FunctionWrapper{Nothing, Tuple{Vector{ForwardDiff.Dual{ForwardDiff.Tag{DiffEqBase.OrdinaryDiffEqTag, Float64}, Float64, 1}}, Vector{ForwardDiff.Dual{ForwardDiff.Tag{DiffEqBase.OrdinaryDiffEqTag, Float64}, Float64, 1}}, SciMLBase.NullParameters, ForwardDiff.Dual{ForwardDiff.Tag{DiffEqBase.OrdinaryDiffEqTag, Float64}, Float64, 1}}}}, false}, UniformScaling{Bool}, Nothing, Nothing, Nothing, Nothing, Nothing, Nothing, Nothing, Nothing, Nothing, Nothing, Nothing, typeof(SciMLBase.DEFAULT_OBSERVED), Nothing, Nothing}(FunctionWrappersWrappers.FunctionWrappersWrapper{Tuple{FunctionWrappers.FunctionWrapper{Nothing, Tuple{Vector{Float64}, Vector{Float64}, SciMLBase.NullParameters, Float64}}, FunctionWrappers.FunctionWrapper{Nothing, Tuple{Vector{ForwardDiff.Dual{ForwardDiff.Tag{DiffEqBase.OrdinaryDiffEqTag, Float64}, Float64, 1}}, Vector{ForwardDiff.Dual{ForwardDiff.Tag{DiffEqBase.OrdinaryDiffEqTag, Float64}, Float64, 1}}, SciMLBase.NullParameters, Float64}}, FunctionWrappers.FunctionWrapper{Nothing, Tuple{Vector{ForwardDiff.Dual{ForwardDiff.Tag{DiffEqBase.OrdinaryDiffEqTag, Float64}, Float64, 1}}, Vector{Float64}, SciMLBase.NullParameters, ForwardDiff.Dual{ForwardDiff.Tag{DiffEqBase.OrdinaryDiffEqTag, Float64}, Float64, 1}}}, FunctionWrappers.FunctionWrapper{Nothing, Tuple{Vector{ForwardDiff.Dual{ForwardDiff.Tag{DiffEqBase.OrdinaryDiffEqTag, Float64}, Float64, 1}}, Vector{ForwardDiff.Dual{ForwardDiff.Tag{DiffEqBase.OrdinaryDiffEqTag, Float64}, Float64, 1}}, SciMLBase.NullParameters, ForwardDiff.Dual{ForwardDiff.Tag{DiffEqBase.OrdinaryDiffEqTag, Float64}, Float64, 1}}}}, false}((FunctionWrappers.FunctionWrapper{Nothing, Tuple{Vector{Float64}, Vector{Float64}, SciMLBase.NullParameters, Float64}}(Ptr{Nothing} @0x000073454ff78620, Ptr{Nothing} @0x0000734453568030, Base.RefValue{SciMLBase.Void{typeof(ST_and_dynamics_DFJL!)}}(SciMLBase.Void{typeof(ST_and_dynamics_DFJL!)}(ST_and_dynamics_DFJL!)), SciMLBase.Void{typeof(ST_and_dynamics_DFJL!)}), FunctionWrappers.FunctionWrapper{Nothing, Tuple{Vector{ForwardDiff.Dual{ForwardDiff.Tag{DiffEqBase.OrdinaryDiffEqTag, Float64}, Float64, 1}}, Vector{ForwardDiff.Dual{ForwardDiff.Tag{DiffEqBase.OrdinaryDiffEqTag, Float64}, Float64, 1}}, SciMLBase.NullParameters, Float64}}(Ptr{Nothing} @0x000073454ff7ba60, Ptr{Nothing} @0x0000734453568038, Base.RefValue{SciMLBase.Void{typeof(ST_and_dynamics_DFJL!)}}(SciMLBase.Void{typeof(ST_and_dynamics_DFJL!)}(ST_and_dynamics_DFJL!)), SciMLBase.Void{typeof(ST_and_dynamics_DFJL!)}), FunctionWrappers.FunctionWrapper{Nothing, Tuple{Vector{ForwardDiff.Dual{ForwardDiff.Tag{DiffEqBase.OrdinaryDiffEqTag, Float64}, Float64, 1}}, Vector{Float64}, SciMLBase.NullParameters, ForwardDiff.Dual{ForwardDiff.Tag{DiffEqBase.OrdinaryDiffEqTag, Float64}, Float64, 1}}}(Ptr{Nothing} @0x000073454ff7c160, Ptr{Nothing} @0x0000734453568048, Base.RefValue{SciMLBase.Void{typeof(ST_and_dynamics_DFJL!)}}(SciMLBase.Void{typeof(ST_and_dynamics_DFJL!)}(ST_and_dynamics_DFJL!)), SciMLBase.Void{typeof(ST_and_dynamics_DFJL!)}), FunctionWrappers.FunctionWrapper{Nothing, Tuple{Vector{ForwardDiff.Dual{ForwardDiff.Tag{DiffEqBase.OrdinaryDiffEqTag, Float64}, Float64, 1}}, Vector{ForwardDiff.Dual{ForwardDiff.Tag{DiffEqBase.OrdinaryDiffEqTag, Float64}, Float64, 1}}, SciMLBase.NullParameters, ForwardDiff.Dual{ForwardDiff.Tag{DiffEqBase.OrdinaryDiffEqTag, Float64}, Float64, 1}}}(Ptr{Nothing} @0x000073454ff7c760, Ptr{Nothing} @0x0000734453568058, Base.RefValue{SciMLBase.Void{typeof(ST_and_dynamics_DFJL!)}}(SciMLBase.Void{typeof(ST_and_dynamics_DFJL!)}(ST_and_dynamics_DFJL!)), SciMLBase.Void{typeof(ST_and_dynamics_DFJL!)}))), UniformScaling{Bool}(true), nothing, nothing, nothing, nothing, nothing, nothing, nothing, nothing, nothing, nothing, nothing, SciMLBase.DEFAULT_OBSERVED, nothing, nothing), [1.1201297302380415, 0.0, 0.0059396759100811495, 0.0, 0.17677819141944426, 0.0, 1.0, 0.0, 0.0, 0.0  …  0.0, 0.0, 1.0, 0.0, 0.0, 0.0, 0.0, 0.0, 0.0, 1.0], (0.0, 3.414975413662902), SciMLBase.NullParameters(), Base.Pairs{Symbol, Union{}, Tuple{}, @NamedTuple{}}(), SciMLBase.StandardODEProblem()), TsitPap8(; stage_limiter! = trivial_limiter!, step_limiter! = trivial_limiter!, thread = static(false),), OrdinaryDiffEq.InterpolationData{ODEFunction{true, SciMLBase.AutoSpecialize, FunctionWrappersWrappers.FunctionWrappersWrapper{Tuple{FunctionWrappers.FunctionWrapper{Nothing, Tuple{Vector{Float64}, Vector{Float64}, SciMLBase.NullParameters, Float64}}, FunctionWrappers.FunctionWrapper{Nothing, Tuple{Vector{ForwardDiff.Dual{ForwardDiff.Tag{DiffEqBase.OrdinaryDiffEqTag, Float64}, Float64, 1}}, Vector{ForwardDiff.Dual{ForwardDiff.Tag{DiffEqBase.OrdinaryDiffEqTag, Float64}, Float64, 1}}, SciMLBase.NullParameters, Float64}}, FunctionWrappers.FunctionWrapper{Nothing, Tuple{Vector{ForwardDiff.Dual{ForwardDiff.Tag{DiffEqBase.OrdinaryDiffEqTag, Float64}, Float64, 1}}, Vector{Float64}, SciMLBase.NullParameters, ForwardDiff.Dual{ForwardDiff.Tag{DiffEqBase.OrdinaryDiffEqTag, Float64}, Float64, 1}}}, FunctionWrappers.FunctionWrapper{Nothing, Tuple{Vector{ForwardDiff.Dual{ForwardDiff.Tag{DiffEqBase.OrdinaryDiffEqTag, Float64}, Float64, 1}}, Vector{ForwardDiff.Dual{ForwardDiff.Tag{DiffEqBase.OrdinaryDiffEqTag, Float64}, Float64, 1}}, SciMLBase.NullParameters, ForwardDiff.Dual{ForwardDiff.Tag{DiffEqBase.OrdinaryDiffEqTag, Float64}, Float64, 1}}}}, false}, UniformScaling{Bool}, Nothing, Nothing, Nothing, Nothing, Nothing, Nothing, Nothing, Nothing, Nothing, Nothing, Nothing, typeof(SciMLBase.DEFAULT_OBSERVED), Nothing, Nothing}, Vector{Vector{Float64}}, Vector{Float64}, Vector{Vector{Vector{Float64}}}, Nothing, OrdinaryDiffEq.TsitPap8Cache{Vector{Float64}, Vector{Float64}, Vector{Float64}, OrdinaryDiffEq.TsitPap8ConstantCache{Float64, Float64}, typeof(OrdinaryDiffEq.trivial_limiter!), typeof(OrdinaryDiffEq.trivial_limiter!), Static.False}, Nothing}(ODEFunction{true, SciMLBase.AutoSpecialize, FunctionWrappersWrappers.FunctionWrappersWrapper{Tuple{FunctionWrappers.FunctionWrapper{Nothing, Tuple{Vector{Float64}, Vector{Float64}, SciMLBase.NullParameters, Float64}}, FunctionWrappers.FunctionWrapper{Nothing, Tuple{Vector{ForwardDiff.Dual{ForwardDiff.Tag{DiffEqBase.OrdinaryDiffEqTag, Float64}, Float64, 1}}, Vector{ForwardDiff.Dual{ForwardDiff.Tag{DiffEqBase.OrdinaryDiffEqTag, Float64}, Float64, 1}}, SciMLBase.NullParameters, Float64}}, FunctionWrappers.FunctionWrapper{Nothing, Tuple{Vector{ForwardDiff.Dual{ForwardDiff.Tag{DiffEqBase.OrdinaryDiffEqTag, Float64}, Float64, 1}}, Vector{Float64}, SciMLBase.NullParameters, ForwardDiff.Dual{ForwardDiff.Tag{DiffEqBase.OrdinaryDiffEqTag, Float64}, Float64, 1}}}, FunctionWrappers.FunctionWrapper{Nothing, Tuple{Vector{ForwardDiff.Dual{ForwardDiff.Tag{DiffEqBase.OrdinaryDiffEqTag, Float64}, Float64, 1}}, Vector{ForwardDiff.Dual{ForwardDiff.Tag{DiffEqBase.OrdinaryDiffEqTag, Float64}, Float64, 1}}, SciMLBase.NullParameters, ForwardDiff.Dual{ForwardDiff.Tag{DiffEqBase.OrdinaryDiffEqTag, Float64}, Float64, 1}}}}, false}, UniformScaling{Bool}, Nothing, Nothing, Nothing, Nothing, Nothing, Nothing, Nothing, Nothing, Nothing, Nothing, Nothing, typeof(SciMLBase.DEFAULT_OBSERVED), Nothing, Nothing}(FunctionWrappersWrappers.FunctionWrappersWrapper{Tuple{FunctionWrappers.FunctionWrapper{Nothing, Tuple{Vector{Float64}, Vector{Float64}, SciMLBase.NullParameters, Float64}}, FunctionWrappers.FunctionWrapper{Nothing, Tuple{Vector{ForwardDiff.Dual{ForwardDiff.Tag{DiffEqBase.OrdinaryDiffEqTag, Float64}, Float64, 1}}, Vector{ForwardDiff.Dual{ForwardDiff.Tag{DiffEqBase.OrdinaryDiffEqTag, Float64}, Float64, 1}}, SciMLBase.NullParameters, Float64}}, FunctionWrappers.FunctionWrapper{Nothing, Tuple{Vector{ForwardDiff.Dual{ForwardDiff.Tag{DiffEqBase.OrdinaryDiffEqTag, Float64}, Float64, 1}}, Vector{Float64}, SciMLBase.NullParameters, ForwardDiff.Dual{ForwardDiff.Tag{DiffEqBase.OrdinaryDiffEqTag, Float64}, Float64, 1}}}, FunctionWrappers.FunctionWrapper{Nothing, Tuple{Vector{ForwardDiff.Dual{ForwardDiff.Tag{DiffEqBase.OrdinaryDiffEqTag, Float64}, Float64, 1}}, Vector{ForwardDiff.Dual{ForwardDiff.Tag{DiffEqBase.OrdinaryDiffEqTag, Float64}, Float64, 1}}, SciMLBase.NullParameters, ForwardDiff.Dual{ForwardDiff.Tag{DiffEqBase.OrdinaryDiffEqTag, Float64}, Float64, 1}}}}, false}((FunctionWrappers.FunctionWrapper{Nothing, Tuple{Vector{Float64}, Vector{Float64}, SciMLBase.NullParameters, Float64}}(Ptr{Nothing} @0x000073454ff78620, Ptr{Nothing} @0x0000734453568030, Base.RefValue{SciMLBase.Void{typeof(ST_and_dynamics_DFJL!)}}(SciMLBase.Void{typeof(ST_and_dynamics_DFJL!)}(ST_and_dynamics_DFJL!)), SciMLBase.Void{typeof(ST_and_dynamics_DFJL!)}), FunctionWrappers.FunctionWrapper{Nothing, Tuple{Vector{ForwardDiff.Dual{ForwardDiff.Tag{DiffEqBase.OrdinaryDiffEqTag, Float64}, Float64, 1}}, Vector{ForwardDiff.Dual{ForwardDiff.Tag{DiffEqBase.OrdinaryDiffEqTag, Float64}, Float64, 1}}, SciMLBase.NullParameters, Float64}}(Ptr{Nothing} @0x000073454ff7ba60, Ptr{Nothing} @0x0000734453568038, Base.RefValue{SciMLBase.Void{typeof(ST_and_dynamics_DFJL!)}}(SciMLBase.Void{typeof(ST_and_dynamics_DFJL!)}(ST_and_dynamics_DFJL!)), SciMLBase.Void{typeof(ST_and_dynamics_DFJL!)}), FunctionWrappers.FunctionWrapper{Nothing, Tuple{Vector{ForwardDiff.Dual{ForwardDiff.Tag{DiffEqBase.OrdinaryDiffEqTag, Float64}, Float64, 1}}, Vector{Float64}, SciMLBase.NullParameters, ForwardDiff.Dual{ForwardDiff.Tag{DiffEqBase.OrdinaryDiffEqTag, Float64}, Float64, 1}}}(Ptr{Nothing} @0x000073454ff7c160, Ptr{Nothing} @0x0000734453568048, Base.RefValue{SciMLBase.Void{typeof(ST_and_dynamics_DFJL!)}}(SciMLBase.Void{typeof(ST_and_dynamics_DFJL!)}(ST_and_dynamics_DFJL!)), SciMLBase.Void{typeof(ST_and_dynamics_DFJL!)}), FunctionWrappers.FunctionWrapper{Nothing, Tuple{Vector{ForwardDiff.Dual{ForwardDiff.Tag{DiffEqBase.OrdinaryDiffEqTag, Float64}, Float64, 1}}, Vector{ForwardDiff.Dual{ForwardDiff.Tag{DiffEqBase.OrdinaryDiffEqTag, Float64}, Float64, 1}}, SciMLBase.NullParameters, ForwardDiff.Dual{ForwardDiff.Tag{DiffEqBase.OrdinaryDiffEqTag, Float64}, Float64, 1}}}(Ptr{Nothing} @0x000073454ff7c760, Ptr{Nothing} @0x0000734453568058, Base.RefValue{SciMLBase.Void{typeof(ST_and_dynamics_DFJL!)}}(SciMLBase.Void{typeof(ST_and_dynamics_DFJL!)}(ST_and_dynamics_DFJL!)), SciMLBase.Void{typeof(ST_and_dynamics_DFJL!)}))), UniformScaling{Bool}(true), nothing, nothing, nothing, nothing, nothing, nothing, nothing, nothing, nothing, nothing, nothing, SciMLBase.DEFAULT_OBSERVED, nothing, nothing), [[1.1201297302380415, 0.0, 0.0059396759100811495, 0.0, 0.17677819141944426, 0.0, 1.0, 0.0, 0.0, 0.0  …  0.0, 0.0, 1.0, 0.0, 0.0, 0.0, 0.0, 0.0, 0.0, 1.0], [1.1201311081188294, 0.0028013809910646193, 0.005935264507142006, 0.00017455616725569803, 0.17666637059384038, -0.0005565101221602515, 1.0016074883709059, -2.8757725808721976e-6, 8.970725994005556e-5, 0.20284881230889387  …  8.7035415589261e-9, 0.031733765085780415, 0.9988811443374926, 2.195516203519792e-6, 4.738211992493981e-7, 1.1950669931416683e-9, 0.015846309477256883, 8.965350559332897e-5, 3.013082664426108e-7, 0.9992614228077492], [1.120136752870633, 0.006269089445916738, 0.005917566297468253, 0.0004033956866625112, 0.17621807015928867, -0.001244177190269609, 1.0080661616809419, -3.228465744021556e-5, 0.00044971088525430663, 0.45458008684811113  …  2.1828174423345953e-7, 0.07137436444778235, 0.9944044720641597, 2.454251236961199e-5, 5.3138827001967e-6, 2.98489886816867e-8, 0.03545674102667208, 0.0004483636589028068, 3.347428475451547e-6, 0.9963013040443188], [1.1201482497368538, 0.010012373523176655, 0.005883194169678909, 0.0006837239750918649, 0.17534885119456597, -0.001983328908174745, 1.0206534659750381, -0.0001319641688015208, 0.0011493567249905659, 0.7279771376837207  …  1.4201593458820325e-6, 0.11510045152708358, 0.9857649813762883, 9.948476382288893e-5, 2.1676950326915076e-5, 1.9264456183732498e-7, 0.056612427008811854, 0.0011406030492897914, 1.3405239318253563e-5, 0.9905660313877647], [1.120168682190301, 0.014143487107765808, 0.005826685872935043, 0.0010569419006039816, 0.17392391085365633, -0.0027929991302306154, 1.0414730702801756, -0.0003740786480782194, 0.0023009105489208348, 1.0329146683987855  …  5.654706022698569e-6, 0.1651473849808245, 0.9717157419111536, 0.0002781479251564051, 6.124032038120887e-5, 7.568447063123594e-7, 0.07993457416338887, 0.0022661303161565856, 3.672226222533646e-5, 0.9811759990120431], [1.120201305619508, 0.018500405772935834, 0.005745645959650369, 0.0015519759835388855, 0.17188902266117997, -0.0036373015537745647, 1.071605384741384, -0.0008442000158105598, 0.003955140905561028, 1.3597058839040244  …  1.655501315887144e-5, 0.2207685224006596, 0.9518922687623216, 0.0006153195269783385, 0.00013751424139524514, 2.1726677568886743e-6, 0.10449072315020473, 0.0038536261138396367, 7.881335775107188e-5, 0.9677927677369591], [1.1202513814362558, 0.023065699456366728, 0.0056365756739290805, 0.002215908112404434, 0.16916593025525192, -0.004508215413083913, 1.112673680677284, -0.0016551450246504239, 0.006186362225325472, 1.7097238338580052  …  4.000826959129148e-5, 0.2831057894685562, 0.9257910317243905, 0.001174108881797722, 0.00026772630336859064, 5.109441058359935e-6, 0.13016206356911134, 0.00594202364689316, 0.00014408424351634787, 0.9499325428416124], [1.120325279038277, 0.027759733171757686, 0.005497850945341422, 0.0030903546515456855, 0.16572738134333756, -0.005385528101534348, 1.1657669087954967, -0.002930069388937006, 0.009031520652499686, 2.0799682555440824  …  8.397105712075282e-5, 0.3525482495275138, 0.8934988570249234, 0.0020069988883439365, 0.0004695217039825296, 1.0343398179844742e-5, 0.15647762436676804, 0.008521282393068904, 0.00023236780708056309, 0.9274624469553105], [1.120431771183826, 0.032552031822365525, 0.0053272765791087225, 0.004222982599925816, 0.1615357159956104, -0.006258529857340454, 1.2323837980345167, -0.004819943665718397, 0.012539776771410714, 2.4714709702773097  …  0.0001589057786306946, 0.43013050582941154, 0.8550825219596585, 0.003159997081338094, 0.0007629657942030027, 1.8677710594700375e-5, 0.1832420861685071, 0.011580081262976116, 0.00033832981952616487, 0.9001996910093913], [1.1205812084249924, 0.03738887575274665, 0.005123898029010806, 0.005652575702481179, 0.15658710222818034, -0.007112623944490012, 1.3137645164723082, -0.007490402946746298, 0.016734643304277944, 2.8836351647777763  …  0.00027695847862020814, 0.5164393943148743, 0.8109717401177109, 0.004655773035636499, 0.001167376778680506, 3.066391605553124e-5, 0.210130260597215, 0.01507381820906706, 0.0004488451303316346, 0.8682024845923035]  …  [1.1209572429868664, -0.04538415154065238, 0.004713112869912656, -0.008757629252891901, 0.14673971606585043, 0.008454671333274214, 475.31292413722645, -624.6591337118593, -4.050120820915243, 1189.728875473182  …  -0.8501374848959391, 250.93815009309697, -303.9077304367079, 9.418082758418874, 2.1849750366226024, -2.8597481478001883, -0.35038779801378755, 5.455822336849001, -6.620675320460977, 0.8691505912123656], [1.1207070848125222, -0.040534514943011635, 0.004973840394433381, -0.006756340763672225, 0.15296801324168766, 0.007651702927386564, 516.1296513558328, -672.766314603232, -2.4370085215745303, 1336.4902766392315  …  -0.5097273309796346, 281.89923223376803, -321.81966639663216, 11.673963868656326, 2.3720964805273588, -3.0802688741500974, -0.32062793606374446, 6.125445501818128, -7.010897484833592, 0.971287159619229], [1.1205181458530715, -0.035533778446277045, 0.005205727707621213, -0.005067647634983795, 0.15857199456107793, 0.006788501894484203, 561.5997542718026, -723.1862832811399, -0.47242740649520804, 1500.2673150767616  …  -0.09528955736035716, 316.44346054509487, -339.21221060662697, 14.202088385177131, 2.580448565761901, -3.3113801451935534, -0.2877758901790095, 6.873094230399819, -7.3897070317098805, 1.0766536201720056], [1.1203792518964466, -0.03038949759530947, 0.005407957440159434, -0.0036793410175186285, 0.1635135074710014, 0.005867660833903795, 612.3594516668225, -775.9378851940337, 1.8866828299754288, 1682.1090332992567  …  0.4022423383377211, 354.79183705983, -355.7780961172432, 17.00716355222699, 2.812950804864333, -3.553166194293027, -0.25167465501763037, 7.703653874410099, -7.7504327736071055, 1.18495705746887], [1.1202787675796646, -0.025004111192922864, 0.005582610769867667, -0.002551308034978345, 0.1678250717239033, 0.004872937496359213, 670.2935263014995, -832.1161207207764, 4.746205512324424, 1887.0354401648187  …  1.0051794769755602, 398.0028052953177, -371.4662549469676, 20.150158605739144, 3.0782415161258756, -3.8106440292325936, -0.21134103522927214, 8.640166510875252, -8.091976358028663, 1.2979135821445864], [1.1202105444141477, -0.01948204367623501, 0.005724301658929398, -0.0016810299610623858, 0.17135474957203792, 0.0038258675397070847, 735.3279228596163, -890.6985394858536, 8.117883188687156, 2112.509347199452  …  1.7159800309055628, 445.54140179615837, -385.56645609283004, 23.56940982779324, 3.375990587452972, -4.079126069985841, -0.16723026477050004, 9.671154101960868, -8.39888256706144, 1.4127550285419694], [1.12016760478447, -0.013965367174476166, 0.005829527720457292, -0.001039134915673046, 0.17399546483878472, 0.0027582532952100396, 806.581999608199, -950.1534941213126, 11.957770288227191, 2353.0046912493026  …  2.525371331686007, 496.24309839972307, -397.4253887635949, 27.15442665523046, 3.702181694783654, -4.351592571707956, -0.12030767254999726, 10.771428636852091, -8.65693501688927, 1.5257774990235695], [1.12014276320121, -0.008466207044942164, 0.005899320423897746, -0.0005625176401801763, 0.17575643750226178, 0.0016785379334293242, 884.5000305780261, -1010.2671889874485, 16.282152141783552, 2607.5113942990256  …  3.4367839813219034, 549.8958387938756, -406.8405488303508, 30.86080909653091, 4.058866966056275, -4.627064132707103, -0.07061189031741594, 11.936419017828717, -8.861726072224506, 1.6358808536445033], [1.1201313201956895, -0.0030131577097136215, 0.005934572019823135, -0.00018800829912911642, 0.17664883388835512, 0.0005985582943211904, 969.2470535111854, -1070.6243107975495, 21.087597526226833, 2874.014891091406  …  4.4494953879625445, 606.0759297199583, -413.6572274566555, 34.62678289014896, 4.446820674224266, -4.903637889419941, -0.018361896786194393, 13.156938324571835, -9.009884738297316, 1.741563826363975], [1.1201297247305944, 6.570385800730957e-9, 0.0059396757754395565, -1.633346660459268e-8, 0.176778202120717, -9.59632381217647e-10, 1019.5456807142582, -1104.2606175352955, 23.97407434654173, 3027.1553991731  …  5.057764210309486, 638.3582950245666, -416.3096499483892, 36.73032147894334, 4.6770868789143245, -5.0577634641429094, 0.01181391919386661, 13.85854545753901, -9.067464445333348, 1.7980790894186478]], [0.0, 0.015850212348726266, 0.03550054723246425, 0.056791408328013285, 0.08044153014122501, 0.10563329155867632, 0.13239751133834998, 0.16042240039607514, 0.18970074592747735, 0.22010016369487198  …  3.142201619566709, 3.17455421244681, 3.2066471465179096, 3.238579715357042, 3.2710742067954337, 3.3036223924672012, 3.335557765191627, 3.3669911126452474, 3.3979263681880414, 3.414975413662902], [[[1.1201297302380415, 0.0, 0.0059396759100811495, 0.0, 0.17677819141944426, 0.0, 1.0, 0.0, 0.0, 0.0  …  0.0, 0.0, 1.0, 0.0, 0.0, 0.0, 0.0, 0.0, 0.0, 1.0]], [[0.0, 0.17677819141944426, 0.0, 0.010925342764301849, -0.0, -0.035126520726964816, 0.0, 0.0, 0.0, 12.79610905469557  …  0.0, 2.0, 0.0, 0.0, 0.0, 0.0, 1.0, 0.0, 0.0, 0.0], [0.00017455616725569803, 0.17666637059384038, -0.0005565101221602515, 0.011187765894279611, -0.01410450473592521, -0.03507870931608803, 0.20284881230889387, -0.0005442279146014368, 0.01131746896886859, 12.80136233909092  …  2.195516203519792e-6, 2.0063066606102757, -0.14107050620520267, 0.00041519700513639913, 8.965350559332897e-5, 3.013082664426108e-7, 0.9992614228077492, 0.01130391028671395, 5.692254241119492e-5, -0.09315463917297272]], [[0.00017455616725569803, 0.17666637059384038, -0.0005565101221602515, 0.011187765894279611, -0.01410450473592521, -0.03507870931608803, 0.20284881230889387, -0.0005442279146014368, 0.01131746896886859, 12.80136233909092  …  2.195516203519792e-6, 2.0063066606102757, -0.14107050620520267, 0.00041519700513639913, 8.965350559332897e-5, 3.013082664426108e-7, 0.9992614228077492, 0.01130391028671395, 5.692254241119492e-5, -0.09315463917297272], [0.0004033956866625112, 0.17621807015928867, -0.001244177190269609, 0.012235356608820858, -0.031497601452037435, -0.034887467736995366, 0.45458008684811113, -0.0027263784431498343, 0.025313991459029583, 12.822354850424272  …  2.454251236961199e-5, 2.0314500276602323, -0.3140305182958656, 0.002065174635180425, 0.0004483636589028068, 3.347428475451547e-6, 0.9963013040443188, 0.02516258016642018, 0.00028021606175447286, -0.2079268595324386]], [[0.0004033956866625112, 0.17621807015928867, -0.001244177190269609, 0.012235356608820858, -0.031497601452037435, -0.034887467736995366, 0.45458008684811113, -0.0027263784431498343, 0.025313991459029583, 12.822354850424272  …  2.454251236961199e-5, 2.0314500276602323, -0.3140305182958656, 0.002065174635180425, 0.0004483636589028068, 3.347428475451547e-6, 0.9963013040443188, 0.02516258016642018, 0.00028021606175447286, -0.2079268595324386], [0.0006837239750918649, 0.17534885119456597, -0.001983328908174745, 0.014246145930177201, -0.050101006494184426, -0.034518660758105356, 0.7279771376837207, -0.0069591670695971835, 0.04038856105686744, 12.862751160668527  …  9.948476382288893e-5, 2.079565188740114, -0.49644576606744306, 0.005198378779715269, 0.0011406030492897914, 1.3405239318253563e-5, 0.9905660313877647, 0.03977601115231162, 0.0006909924057392648, -0.3304169831639907]], [[0.0006837239750918649, 0.17534885119456597, -0.001983328908174745, 0.014246145930177201, -0.050101006494184426, -0.034518660758105356, 0.7279771376837207, -0.0069591670695971835, 0.04038856105686744, 12.862751160668527  …  9.948476382288893e-5, 2.079565188740114, -0.49644576606744306, 0.005198378779715269, 0.0011406030492897914, 1.3405239318253563e-5, 0.9905660313877647, 0.03977601115231162, 0.0006909924057392648, -0.3304169831639907], [0.0010569419006039816, 0.17392391085365633, -0.0027929991302306154, 0.017484615921015134, -0.07030590544813471, -0.03391972163911915, 1.0329146683987855, -0.013905674436218471, 0.05695696049173114, 12.928129119503076  …  0.0002781479251564051, 2.1566573860008855, -0.6897376674116878, 0.010149446843257172, 0.0022661303161565856, 3.672226222533646e-5, 0.9811759990120431, 0.05524983499188873, 0.0013024096655115426, -0.4629293842375217]], [[0.0010569419006039816, 0.17392391085365633, -0.0027929991302306154, 0.017484615921015134, -0.07030590544813471, -0.03391972163911915, 1.0329146683987855, -0.013905674436218471, 0.05695696049173114, 12.928129119503076  …  0.0002781479251564051, 2.1566573860008855, -0.6897376674116878, 0.010149446843257172, 0.0022661303161565856, 3.672226222533646e-5, 0.9811759990120431, 0.05524983499188873, 0.0013024096655115426, -0.4629293842375217], [0.0015519759835388855, 0.17188902266117997, -0.0036373015537745647, 0.021985887520324432, -0.09110646708658214, -0.03307646786925068, 1.3597058839040244, -0.023850369839357115, 0.07431703716464619, 13.019771944143816  …  0.0006153195269783385, 2.263007219515957, -0.881347207180579, 0.01683084548127466, 0.0038536261138396367, 7.881335775107188e-5, 0.9677927677369591, 0.07055771864540958, 0.002046428814871856, -0.5984985831493818]], [[0.0015519759835388855, 0.17188902266117997, -0.0036373015537745647, 0.021985887520324432, -0.09110646708658214, -0.03307646786925068, 1.3597058839040244, -0.023850369839357115, 0.07431703716464619, 13.019771944143816  …  0.0006153195269783385, 2.263007219515957, -0.881347207180579, 0.01683084548127466, 0.0038536261138396367, 7.881335775107188e-5, 0.9677927677369591, 0.07055771864540958, 0.002046428814871856, -0.5984985831493818], [0.002215908112404434, 0.16916593025525192, -0.004508215413083913, 0.027785591217683148, -0.11219164197331415, -0.03196989427065623, 1.7097238338580052, -0.037226043011957116, 0.09233195096327175, 13.139498719840564  …  0.001174108881797722, 2.398699977283909, -1.0655726317824876, 0.025081950639407543, 0.00594202364689316, 0.00014408424351634787, 0.9499325428416124, 0.08520200419084223, 0.002815665784030346, -0.7346635971975315]], [[0.002215908112404434, 0.16916593025525192, -0.004508215413083913, 0.027785591217683148, -0.11219164197331415, -0.03196989427065623, 1.7097238338580052, -0.037226043011957116, 0.09233195096327175, 13.139498719840564  …  0.001174108881797722, 2.398699977283909, -1.0655726317824876, 0.025081950639407543, 0.00594202364689316, 0.00014408424351634787, 0.9499325428416124, 0.08520200419084223, 0.002815665784030346, -0.7346635971975315], [0.0030903546515456855, 0.16572738134333756, -0.005385528101534348, 0.034749946306998514, -0.13296498563042244, -0.030607640335168978, 2.0799682555440824, -0.054274410010063674, 0.11060142427356942, 13.286460336269986  …  0.0020069988883439365, 2.5597594905246313, -1.234809901840034, 0.03442692366038844, 0.008521282393068904, 0.00023236780708056309, 0.9274624469553105, 0.09850555791920194, 0.003440207949061285, -0.8670763643731846]], [[0.0030903546515456855, 0.16572738134333756, -0.005385528101534348, 0.034749946306998514, -0.13296498563042244, -0.030607640335168978, 2.0799682555440824, -0.054274410010063674, 0.11060142427356942, 13.286460336269986  …  0.0020069988883439365, 2.5597594905246313, -1.234809901840034, 0.03442692366038844, 0.008521282393068904, 0.00023236780708056309, 0.9274624469553105, 0.09850555791920194, 0.003440207949061285, -0.8670763643731846], [0.004222982599925816, 0.1615357159956104, -0.006258529857340454, 0.04271079530560862, -0.1530883137202318, -0.02899860375846103, 2.4714709702773097, -0.07538630279027797, 0.12890131616760148, 13.46021638978984  …  0.003159997081338094, 2.741572895009508, -1.3848649945244125, 0.044296373991492895, 0.011580081262976116, 0.00033832981952616487, 0.9001996910093913, 0.11002930378339396, 0.003720683915960688, -0.993050887203159]], [[0.004222982599925816, 0.1615357159956104, -0.006258529857340454, 0.04271079530560862, -0.1530883137202318, -0.02899860375846103, 2.4714709702773097, -0.07538630279027797, 0.12890131616760148, 13.46021638978984  …  0.003159997081338094, 2.741572895009508, -1.3848649945244125, 0.044296373991492895, 0.011580081262976116, 0.00033832981952616487, 0.9001996910093913, 0.11002930378339396, 0.003720683915960688, -0.993050887203159], [0.005652575702481179, 0.15658710222818034, -0.007112623944490012, 0.05138404173356015, -0.17217218841961618, -0.027169661034646006, 2.8836351647777763, -0.10093061146502029, 0.14689884213427018, 13.659317060107167  …  0.004655773035636499, 2.937319573292431, -1.5126222983815292, 0.05395612642336748, 0.01507381820906706, 0.0004488451303316346, 0.8682024845923035, 0.11938703737159541, 0.0034408926455120996, -1.109602403715285]]  …  [[-0.01107457644712539, 0.13992248208523245, 0.009195151310522473, 0.07518176317047509, 0.21581745009565667, -0.021536635124641174, 1058.8743004521605, -1357.9420372573056, 35.16085677036616, 3747.153773966825  …  7.425305081886738, 790.7775435444878, -552.8606258026299, 56.69211463705596, 4.85907144741324, -6.225070378431712, 0.7704271144919456, 17.08448392634935, -12.050247257364123, 2.9476415837552197], [-0.008757629252891901, 0.14673971606585043, 0.008454671333274214, 0.06641624683594055, 0.20079745279152586, -0.023746842473521004, 1189.728875473182, -1444.2865674890043, 44.62037210770572, 4263.534588847644  …  9.418082758418874, 899.5396355358905, -555.9801246494926, 65.28175891853117, 5.455822336849001, -6.620675320460977, 0.8691505912123656, 19.448079514073125, -12.1141089443012, 3.089645073069325]], [[-0.008757629252891901, 0.14673971606585043, 0.008454671333274214, 0.06641624683594055, 0.20079745279152586, -0.023746842473521004, 1189.728875473182, -1444.2865674890043, 44.62037210770572, 4263.534588847644  …  9.418082758418874, 899.5396355358905, -555.9801246494926, 65.28175891853117, 5.455822336849001, -6.620675320460977, 0.8691505912123656, 19.448079514073125, -12.1141089443012, 3.089645073069325], [-0.006756340763672225, 0.15296801324168766, 0.007651702927386564, 0.05724558891275461, 0.1838797766641695, -0.02587895646317538, 1336.4902766392315, -1529.4807798270233, 55.32972667720228, 4815.355433204571  …  11.673963868656326, 1015.7581008329167, -549.6015985293649, 74.23244018644412, 6.125445501818128, -7.010897484833592, 0.971287159619229, 21.97639275658325, -11.971760089497023, 3.2225863281459954]], [[-0.006756340763672225, 0.15296801324168766, 0.007651702927386564, 0.05724558891275461, 0.1838797766641695, -0.02587895646317538, 1336.4902766392315, -1529.4807798270233, 55.32972667720228, 4815.355433204571  …  11.673963868656326, 1015.7581008329167, -549.6015985293649, 74.23244018644412, 6.125445501818128, -7.010897484833592, 0.971287159619229, 21.97639275658325, -11.971760089497023, 3.2225863281459954], [-0.005067647634983795, 0.15857199456107793, 0.006788501894484203, 0.04799782863978791, 0.16500473880042893, -0.027894228297821455, 1500.2673150767616, -1612.2035061145746, 67.33236705906242, 5395.806390242929  …  14.202088385177131, 1138.0015518679522, -532.3510550550154, 83.33219065021999, 6.873094230399819, -7.3897070317098805, 1.0766536201720056, 24.638511018600088, -11.593265646246675, 3.3409387438857827]], [[-0.005067647634983795, 0.15857199456107793, 0.006788501894484203, 0.04799782863978791, 0.16500473880042893, -0.027894228297821455, 1500.2673150767616, -1612.2035061145746, 67.33236705906242, 5395.806390242929  …  14.202088385177131, 1138.0015518679522, -532.3510550550154, 83.33219065021999, 6.873094230399819, -7.3897070317098805, 1.0766536201720056, 24.638511018600088, -11.593265646246675, 3.3409387438857827], [-0.0036793410175186285, 0.1635135074710014, 0.005867660833903795, 0.03902595045767854, 0.1441512136187144, -0.02975084717093182, 1682.1090332992567, -1690.9939929281609, 80.65065529729566, 5996.116595993442  …  17.00716355222699, 1264.4264720898777, -503.115119681255, 92.31612923836477, 7.703653874410099, -7.7504327736071055, 1.18495705746887, 27.394482797399, -10.954312188698022, 3.438299747585166]], [[-0.0036793410175186285, 0.1635135074710014, 0.005867660833903795, 0.03902595045767854, 0.1441512136187144, -0.02975084717093182, 1682.1090332992567, -1690.9939929281609, 80.65065529729566, 5996.116595993442  …  17.00716355222699, 1264.4264720898777, -503.115119681255, 92.31612923836477, 7.703653874410099, -7.7504327736071055, 1.18495705746887, 27.394482797399, -10.954312188698022, 3.438299747585166], [-0.002551308034978345, 0.1678250717239033, 0.004872937496359213, 0.030548536053320696, 0.12088946453521626, -0.03143407584550483, 1887.0354401648187, -1765.6099395036201, 95.57405459909037, 6617.433346639293  …  20.150158605739144, 1395.2790135854339, -460.2399872526281, 101.02602500556473, 8.640166510875252, -8.091976358028663, 1.2979135821445864, 30.249912849459065, -10.018735879570581, 3.508501746502027]], [[-0.002551308034978345, 0.1678250717239033, 0.004872937496359213, 0.030548536053320696, 0.12088946453521626, -0.03143407584550483, 1887.0354401648187, -1765.6099395036201, 95.57405459909037, 6617.433346639293  …  20.150158605739144, 1395.2790135854339, -460.2399872526281, 101.02602500556473, 8.640166510875252, -8.091976358028663, 1.2979135821445864, 30.249912849459065, -10.018735879570581, 3.508501746502027], [-0.0016810299610623858, 0.17135474957203792, 0.0038258675397070847, 0.02314386503577498, 0.09570661524708965, -0.0328573940605552, 2112.509347199452, -1832.67387889959, 111.80970509273448, 7235.257399448345  …  23.56940982779324, 1525.404973079576, -404.01106263245697, 108.89980226762131, 9.671154101960868, -8.39888256706144, 1.4127550285419694, 33.09251541941791, -8.792637047360122, 3.541240199335656]], [[-0.0016810299610623858, 0.17135474957203792, 0.0038258675397070847, 0.02314386503577498, 0.09570661524708965, -0.0328573940605552, 2112.509347199452, -1832.67387889959, 111.80970509273448, 7235.257399448345  …  23.56940982779324, 1525.404973079576, -404.01106263245697, 108.89980226762131, 9.671154101960868, -8.39888256706144, 1.4127550285419694, 33.09251541941791, -8.792637047360122, 3.541240199335656], [-0.001039134915673046, 0.17399546483878472, 0.0027582532952100396, 0.017323681575910632, 0.06944351191380399, -0.033949629484250315, 2353.0046912493026, -1889.0789230631724, 128.83280558147644, 7821.569548439553  …  27.15442665523046, 1648.9083560083398, -336.8107520909772, 115.37643873627962, 10.771428636852091, -8.65693501688927, 1.5257774990235695, 35.79341249812849, -7.327745846060749, 3.529054089677418]], [[-0.001039134915673046, 0.17399546483878472, 0.0027582532952100396, 0.017323681575910632, 0.06944351191380399, -0.033949629484250315, 2353.0046912493026, -1889.0789230631724, 128.83280558147644, 7821.569548439553  …  27.15442665523046, 1648.9083560083398, -336.8107520909772, 115.37643873627962, 10.771428636852091, -8.65693501688927, 1.5257774990235695, 35.79341249812849, -7.327745846060749, 3.529054089677418], [-0.0005625176401801763, 0.17575643750226178, 0.0016785379334293242, 0.013306589462950935, 0.04244481242805128, -0.03469126987000791, 2607.5113942990256, -1933.8621582669605, 146.43232248518137, 8365.25035599328  …  30.86080909653091, 1763.4515204715826, -260.80814216035105, 120.15460862095938, 11.936419017828717, -8.861726072224506, 1.6358808536445033, 38.301198360969124, -5.671123743317381, 3.467897018979017]], [[-0.0005625176401801763, 0.17575643750226178, 0.0016785379334293242, 0.013306589462950935, 0.04244481242805128, -0.03469126987000791, 2607.5113942990256, -1933.8621582669605, 146.43232248518137, 8365.25035599328  …  30.86080909653091, 1763.4515204715826, -260.80814216035105, 120.15460862095938, 11.936419017828717, -8.861726072224506, 1.6358808536445033, 38.301198360969124, -5.671123743317381, 3.467897018979017], [-0.00018800829912911642, 0.17664883388835512, 0.0005985582943211904, 0.011228857862395025, 0.015169551177783385, -0.03507121365889622, 2874.014891091406, -1966.287838432348, 164.31470567871452, 8856.47258532331  …  34.62678289014896, 1866.9676656377917, -178.98128197642495, 122.98811848361495, 13.156938324571835, -9.009884738297316, 1.741563826363975, 40.570223323569095, -3.8875031547271206, 3.355807058841743]], [[-0.00018800829912911642, 0.17664883388835512, 0.0005985582943211904, 0.011228857862395025, 0.015169551177783385, -0.03507121365889622, 2874.014891091406, -1966.287838432348, 164.31470567871452, 8856.47258532331  …  34.62678289014896, 1866.9676656377917, -178.98128197642495, 122.98811848361495, 13.156938324571835, -9.009884738297316, 1.741563826363975, 40.570223323569095, -3.8875031547271206, 3.355807058841743], [-1.633346660459268e-8, 0.176778202120717, -9.59632381217647e-10, 0.010925293596781738, 3.8085236393059864e-10, -0.035126523868759814, 3027.1553991731, -1978.9061905292626, 174.30304322356616, 9105.529702574879  …  36.73032147894334, 1919.4647914888737, -132.0224206796804, 123.66621314198458, 13.85854545753901, -9.067464445333348, 1.7980790894186478, 41.72202534576934, -2.8638495172286618, 3.2711969384768076]]], nothing, true, OrdinaryDiffEq.TsitPap8Cache{Vector{Float64}, Vector{Float64}, Vector{Float64}, OrdinaryDiffEq.TsitPap8ConstantCache{Float64, Float64}, typeof(OrdinaryDiffEq.trivial_limiter!), typeof(OrdinaryDiffEq.trivial_limiter!), Static.False}([1.1201297247305944, 6.570385800730957e-9, 0.0059396757754395565, -1.633346660459268e-8, 0.176778202120717, -9.59632381217647e-10, 1019.5456807142582, -1104.2606175352955, 23.97407434654173, 3027.1553991731  …  5.057764210309486, 638.3582950245666, -416.3096499483892, 36.73032147894334, 4.6770868789143245, -5.0577634641429094, 0.01181391919386661, 13.85854545753901, -9.067464445333348, 1.7980790894186478], [1.1201313201956895, -0.0030131577097136215, 0.005934572019823135, -0.00018800829912911642, 0.17664883388835512, 0.0005985582943211904, 969.2470535111854, -1070.6243107975495, 21.087597526226833, 2874.014891091406  …  4.4494953879625445, 606.0759297199583, -413.6572274566555, 34.62678289014896, 4.446820674224266, -4.903637889419941, -0.018361896786194393, 13.156938324571835, -9.009884738297316, 1.741563826363975], [-0.00018800829912911642, 0.17664883388835512, 0.0005985582943211904, 0.011228857862395025, 0.015169551177783385, -0.03507121365889622, 2874.014891091406, -1966.287838432348, 164.31470567871452, 8856.47258532331  …  34.62678289014896, 1866.9676656377917, -178.98128197642495, 122.98811848361495, 13.156938324571835, -9.009884738297316, 1.741563826363975, 40.570223323569095, -3.8875031547271206, 3.355807058841743], [-0.00017587469508024002, 0.1766652257004028, 0.0005606612770763903, 0.011192614635933629, 0.014209588444742028, -0.03507812185313429, 2883.584958941309, -1967.2078697205243, 164.94575386770714, 8872.655533157593  …  34.75968056778313, 1870.378466039757, -176.03045863124385, 123.05055362625076, 13.200777424862814, -9.014085470428425, 1.745190021887633, 40.645036430842595, -3.823179526492652, 3.35093587605684], [-0.00016838194265094921, 0.1766740534349242, 0.0005370884075085209, 0.011169727208881874, 0.013612556350893637, -0.03508199146385271, 2889.55829199981, -1967.759971982055, 165.33853854158312, 8882.81412756594  …  34.84240046286503, 1872.5195545181969, -174.19898240626776, 123.08776581332802, 13.228141370144234, -9.0166059350073, 1.7474377426331917, 40.69199682725447, -3.7832567688524854, 3.3478633937207336], [-0.00015860808641677765, 0.1766856397968618, 0.0005063469407840919, 0.011142553383775011, 0.012833788236195593, -0.03508694373137422, 2897.347430118938, -1968.4811130159248, 165.85075547728528, 8895.922502811332  …  34.950272620619806, 1875.2823871648761, -171.80347530490985, 123.1350527737805, 13.263823501869439, -9.0198981203327, 1.7503694229786801, 40.75259912566021, -3.73103837460404, 3.343827027814531], [-0.0001144828153015014, 0.17672967102392922, 0.00036667890131336785, 0.011039240794118887, 0.009294822987510882, -0.03510576811214094, 2932.866477896564, -1971.6303335185287, 168.17941353181916, 8954.92520382172  …  35.440685431359945, 1887.7186293213745, -160.88839865554587, 123.32835828333575, 13.426542777151818, -9.034272754341556, 1.7636389325254485, 41.02541235790558, -3.493104508115671, 3.324951886788587], [-9.979158852416563e-5, 0.1767412666836015, 0.0003198972969258291, 0.011012024478132931, 0.008109211481160864, -0.03511072648489098, 2944.811896082292, -1972.6385940695106, 168.95991198267882, 8974.485898889743  …  35.60505782533414, 1891.841640558395, -157.22159423739276, 123.38518412252392, 13.481269166425045, -9.03887407686334, 1.7680650765869157, 41.1158682075199, -3.413172432125233, 3.3184327681718337], [-0.00015837566692929596, 0.17668590732309816, 0.0005056150513167056, 0.011141925941743291, 0.012815246555360562, -0.03508705808120001, 2897.532996268487, -1968.4981592045297, 165.86295177468625, 8896.234045770152  …  34.95284114417847, 1875.3480509279602, -171.7464105670549, 123.13615779559244, 13.264673588422797, -9.01997593809699, 1.7504391719579786, 40.754039475666545, -3.7297944487554346, 3.343730411760581], [1.3053093632691534e-6, 0.1767781955662515, -4.248248210391754e-6, 0.010925308871308992, -0.00010767797549137671, -0.03512652108302752, 3028.2564714415594, -1978.982036061111, 174.37404435244497, 9107.237743770193  …  36.745274372212826, 1919.8248553614244, -131.68654347492497, 123.66867313099156, 13.86359063456168, -9.067810259656216, 1.798474577893209, 41.72992798407422, -2.85652752426493, 3.2705385103372846], [-2.3090095764353876e-5, 0.17677621663080523, 7.41743056437718e-5, 0.010929957199577789, 0.0018804596668401336, -0.03512567455455827, 3007.9590499138076, -1977.550394665283, 173.06328472954556, 9075.565922640337  …  36.46922760797149, 1913.148360119751, -137.88299455553647, 123.61785497911043, 13.770588161395318, -9.061281985165845, 1.791159332235896, 41.58339928455863, -2.9916072303208416, 3.2825633178141618], [-1.6392209732957694e-5, 0.17677720184786586, 5.2647083852374804e-5, 0.010927643093549044, 0.0013347135079572275, -0.03512609599620359, 3013.523762749738, -1977.9499389200387, 173.42304147391246, 9084.288226913151  …  36.54499254659151, 1914.9870242441766, -136.18311897829904, 123.63293962209028, 13.796085276851928, -9.063104060435457, 1.7931700778826871, 41.62375104783268, -2.954550858949606, 3.2792903261623216], [-7.51661584365632e-6, 0.17677799222037485, 2.411477016527732e-5, 0.010925786581968355, 0.0006113731473791255, -0.035126434094362904, 3020.907411555105, -1978.471854203583, 173.89992503745364, 9095.815820771713  …  36.64542450375738, 1917.4170655208222, -133.92883307820398, 123.65161009602966, 13.8299169920788, -9.065484015339917, 1.7958319997965269, 41.677082834797915, -2.9054085097766205, 3.2749198070222945], [-1.61624818797158e-8, 0.1767782021063785, -9.459325199781896e-10, 0.010925293595293262, 4.818862243473176e-11, -0.03512652386816206, 3027.155391290207, -1978.9061887136922, 174.30304265121688, 9105.529700383324  …  36.730321358550476, 1919.4647910259716, -132.02241775750758, 123.66621311504487, 13.858545421489353, -9.067464436899883, 1.7980790865123264, 41.72202533582098, -2.86384945371881, 3.27119693781558], [-1.5758120659273033e-8, 0.17677820207853745, -9.197286579734993e-10, 0.010925293590742458, -8.271084714486315e-10, -0.035126523867825, 3027.155372584093, -1978.9061852771317, 174.3030415147123, 9105.529689454543  …  36.7303211194793, 1919.4647887205758, -132.02240968287583, 123.6662130510984, 13.858545335928163, -9.067464420875542, 1.7980790807669818, 41.72202528569785, -2.863849278162917, 3.271196935404822], [-1.1705845979377103e-17, 3.57148157908877e-19, -4.895940450999678e-19, 3.718059720729612e-18, 3.8489675619061394e-17, -6.287199199372786e-19, 8.299777305768528e-13, 4.712622516518616e-14, 3.8309741252144336e-14, 7.353598872147836e-13  …  8.142814259661528e-15, 1.305047077434754e-13, -6.332146646618245e-13, 5.655199300260174e-15, 3.641233619747626e-15, 1.8022167241322939e-16, 1.9162418623646365e-16, 2.9230501442089544e-15, -1.3683944416446337e-14, 2.645439358033616e-16], [1.1201297247366826, 6.5820403305867645e-9, 0.005939675776019917, -1.5758120659273033e-8, 0.17677820207853745, -9.197286579734993e-10, 1019.5456791139737, -1104.2606172278022, 23.974074206463076, 3027.155372584093  …  5.057764180792575, 638.3582894309485, -416.30964884383445, 36.7303211194793, 4.6770868715147635, -5.057763462719794, 0.011813918717711034, 13.858545335928163, -9.067464420875542, 1.7980790807669818], [-5.521283454411987e-6, 3.560752470330412e-7, -4.867031859763946e-7, 3.7173608260434585e-6, 3.2707672142208004e-5, -6.283438195324121e-7, 0.0008132685741180826, 4.2638111244998945e-5, 0.0015339804278851784, 0.00024284086854181553  …  0.0013441946528396686, 0.0002041182678930613, -0.0015173736450622153, 0.00014988473669423267, 0.0006413912095077835, 2.9750529792058874e-5, 0.00018816904564202805, 0.00019672518770845373, -0.001359224508887078, 9.454483856577672e-5], [-1.633346660459268e-8, 0.176778202120717, -9.59632381217647e-10, 0.010925293596781738, 3.8085236393059864e-10, -0.035126523868759814, 3027.1553991731, -1978.9061905292626, 174.30304322356616, 9105.529702574879  …  36.73032147894334, 1919.4647914888737, -132.0224206796804, 123.66621314198458, 13.85854545753901, -9.067464445333348, 1.7980790894186478, 41.72202534576934, -2.8638495172286618, 3.2711969384768076], OrdinaryDiffEq.TsitPap8ConstantCache{Float64, Float64}(0.06338028169014084, 0.1027879458763643, 0.15418191881454646, 0.3875968992248062, 0.4657534246575342, 0.1554054054054054, 1.0070921985815602, 0.876141078561489, 0.9120879120879121, 0.959731543624161, 0.06338028169014084, 0.019438980427336498, 0.08334896544902781, 0.038545479703636615, 0.11563643911090984, 0.39436557770112496, -1.4818719321673373, 1.4751032536910185, 0.045994489107698204, 0.23235070626395474, 0.18740822928588133, 0.06005228953244051, 0.11220383194636775, -0.03357232951906142, 0.016721613445658576, -1.5733292732086857, -1.3167087730223663, -11.723515296181773, 9.107825028173872, 6.512820512820513, -0.48107625624391254, -6.6506103607463904, -4.530206099782572, 3.894414525020157, 8.634217645525526, 0.009401624788681498, -0.7754121446230569, -7.996604718235832, -6.726558607230182, 5.532184454327406, 10.89757332024991, 0.020091650280045396, -0.039186042680376856, -1.1896363245449992, -7.128368483301214, -9.53722789710108, 7.574470108980868, 11.267486382070919, 0.051009801223058315, 0.08019413469508256, -0.15819617839847347, -0.39200039047127266, 3.916659042493856, -2.8017459289080557, 2.441204566481742, -2.4183655778824718, -0.33943326290032927, 0.19496450383103364, -0.19437176762508154, 0.5930888149805791, -1.4847063081291894, -2.390723588981498, -11.184306772840532, 8.720804667459817, 7.33673830753461, 0.01289874999394761, 0.042583289842657704, -0.05328834487981156, 0.04441161093250152, 0.35395063113733116, 0.2485219684184965, -0.3326913171720666, 1.921248828652836, -2.7317783000882523, 1.4012004409899175, 0.0951361371292365, -7.259091782802626e-5, -0.0010728916072503584, 0.0002666668345794398, 2.091533979096395, 0.3213186752428666, -0.921013671395284, 1.4012004409899175, 0.0951361371292365, -2.9872967453726327), OrdinaryDiffEq.trivial_limiter!, OrdinaryDiffEq.trivial_limiter!, static(false)), nothing, false), true, 0, SciMLBase.DEStats(1095, 0, 0, 0, 0, 0, 0, 0, 0, 0, 78, 0, 0.0), nothing, SciMLBase.ReturnCode.Success))"
      ]
     },
     "metadata": {},
     "output_type": "display_data"
    }
   ],
   "source": [
    "#run the differential corrector to get the corrected solution\n",
    "all_state_final, stm_final, sol_t_final, full_solution = differential_corrector(x_0_stm, T)"
   ]
  },
  {
   "cell_type": "code",
   "execution_count": 43,
   "id": "8b0c5f56",
   "metadata": {},
   "outputs": [],
   "source": [
    "#stm_final"
   ]
  },
  {
   "cell_type": "code",
   "execution_count": 44,
   "id": "dc113f41",
   "metadata": {},
   "outputs": [],
   "source": [
    "#Finding the unstable direction for the unstable manifold to encode as a constraint\n",
    "\n",
    "#monodromy = stm_final[:,:,end]"
   ]
  },
  {
   "cell_type": "code",
   "execution_count": 45,
   "id": "5d8326d6",
   "metadata": {},
   "outputs": [
    {
     "data": {
      "text/plain": [
       "6×79 Matrix{Float64}:\n",
       " 1.12013      1.12013       1.12014      …   1.12013       1.12013\n",
       " 0.0          0.00280138    0.00626909      -0.00301316    6.57039e-9\n",
       " 0.00593968   0.00593526    0.00591757       0.00593457    0.00593968\n",
       " 0.0          0.000174556   0.000403396     -0.000188008  -1.63335e-8\n",
       " 0.176778     0.176666      0.176218         0.176649      0.176778\n",
       " 0.0         -0.00055651   -0.00124418   …   0.000598558  -9.59632e-10"
      ]
     },
     "metadata": {},
     "output_type": "display_data"
    }
   ],
   "source": [
    "all_state_final"
   ]
  },
  {
   "cell_type": "code",
   "execution_count": 46,
   "id": "c8760a9b",
   "metadata": {},
   "outputs": [
    {
     "data": {
      "image/png": "[encoded data removed]",
      "image/svg+xml": [
       "<?xml version=\"1.0\" encoding=\"utf-8\"?>\n",
       "<svg xmlns=\"http://www.w3.org/2000/svg\" xmlns:xlink=\"http://www.w3.org/1999/xlink\" width=\"600\" height=\"400\" viewBox=\"0 0 2400 1600\">\n",
       "<defs>\n",
       "  <clipPath id=\"clip870\">\n",
       "    <rect x=\"0\" y=\"0\" width=\"2400\" height=\"1600\"/>\n",
       "  </clipPath>\n",
       "</defs>\n",
       "<path clip-path=\"url(#clip870)\" d=\"M0 1600 L2400 1600 L2400 0 L0 0  Z\" fill=\"#ffffff\" fill-rule=\"evenodd\" fill-opacity=\"1\"/>\n",
       "<defs>\n",
       "  <clipPath id=\"clip871\">\n",
       "    <rect x=\"480\" y=\"0\" width=\"1681\" height=\"1600\"/>\n",
       "  </clipPath>\n",
       "</defs>\n",
       "<defs>\n",
       "  <clipPath id=\"clip872\">\n",
       "    <rect x=\"284\" y=\"47\" width=\"2069\" height=\"1440\"/>\n",
       "  </clipPath>\n",
       "</defs>\n",
       "<path clip-path=\"url(#clip872)\" d=\"M-53333.6 5451.03 L-53333.6 -2282.95 L-40412.7 -6149.95 L-18033.1 -3917.34 L-18033.1 3816.65 L-30954 7683.65 L-53333.6 5451.03  Z\" fill=\"#ffffff\" fill-rule=\"evenodd\" fill-opacity=\"1\"/>\n",
       "<polyline clip-path=\"url(#clip872)\" style=\"stroke:#000000; stroke-linecap:round; stroke-linejoin:round; stroke-width:2; stroke-opacity:0.1; fill:none\" points=\"769.971,1208.14 1185.43,848.341 1185.43,128.739 \"/>\n",
       "<polyline clip-path=\"url(#clip872)\" style=\"stroke:#000000; stroke-linecap:round; stroke-linejoin:round; stroke-width:2; stroke-opacity:0.1; fill:none\" points=\"881.869,1240.44 1297.33,880.643 1297.33,161.041 \"/>\n",
       "<polyline clip-path=\"url(#clip872)\" style=\"stroke:#000000; stroke-linecap:round; stroke-linejoin:round; stroke-width:2; stroke-opacity:0.1; fill:none\" points=\"993.767,1272.75 1409.23,912.945 1409.23,193.344 \"/>\n",
       "<polyline clip-path=\"url(#clip872)\" style=\"stroke:#000000; stroke-linecap:round; stroke-linejoin:round; stroke-width:2; stroke-opacity:0.1; fill:none\" points=\"1105.67,1305.05 1521.13,945.248 1521.13,225.646 \"/>\n",
       "<polyline clip-path=\"url(#clip872)\" style=\"stroke:#000000; stroke-linecap:round; stroke-linejoin:round; stroke-width:2; stroke-opacity:0.1; fill:none\" points=\"1217.56,1337.35 1633.03,977.55 1633.03,257.948 \"/>\n",
       "<polyline clip-path=\"url(#clip872)\" style=\"stroke:#000000; stroke-linecap:round; stroke-linejoin:round; stroke-width:2; stroke-opacity:0.1; fill:none\" points=\"1329.46,1369.65 1744.92,1009.85 1744.92,290.25 \"/>\n",
       "<polyline clip-path=\"url(#clip872)\" style=\"stroke:#000000; stroke-linecap:round; stroke-linejoin:round; stroke-width:2; stroke-opacity:0.1; fill:none\" points=\"1441.36,1401.96 1856.82,1042.15 1856.82,322.552 \"/>\n",
       "<polyline clip-path=\"url(#clip870)\" style=\"stroke:#000000; stroke-linecap:round; stroke-linejoin:round; stroke-width:4; stroke-opacity:1; fill:none\" points=\"751.057,1202.68 1470.66,1410.41 \"/>\n",
       "<polyline clip-path=\"url(#clip870)\" style=\"stroke:#000000; stroke-linecap:round; stroke-linejoin:round; stroke-width:4; stroke-opacity:1; fill:none\" points=\"769.971,1208.14 774.957,1203.82 \"/>\n",
       "<polyline clip-path=\"url(#clip870)\" style=\"stroke:#000000; stroke-linecap:round; stroke-linejoin:round; stroke-width:4; stroke-opacity:1; fill:none\" points=\"881.869,1240.44 886.855,1236.13 \"/>\n",
       "<polyline clip-path=\"url(#clip870)\" style=\"stroke:#000000; stroke-linecap:round; stroke-linejoin:round; stroke-width:4; stroke-opacity:1; fill:none\" points=\"993.767,1272.75 998.753,1268.43 \"/>\n",
       "<polyline clip-path=\"url(#clip870)\" style=\"stroke:#000000; stroke-linecap:round; stroke-linejoin:round; stroke-width:4; stroke-opacity:1; fill:none\" points=\"1105.67,1305.05 1110.65,1300.73 \"/>\n",
       "<polyline clip-path=\"url(#clip870)\" style=\"stroke:#000000; stroke-linecap:round; stroke-linejoin:round; stroke-width:4; stroke-opacity:1; fill:none\" points=\"1217.56,1337.35 1222.55,1333.03 \"/>\n",
       "<polyline clip-path=\"url(#clip870)\" style=\"stroke:#000000; stroke-linecap:round; stroke-linejoin:round; stroke-width:4; stroke-opacity:1; fill:none\" points=\"1329.46,1369.65 1334.45,1365.34 \"/>\n",
       "<polyline clip-path=\"url(#clip870)\" style=\"stroke:#000000; stroke-linecap:round; stroke-linejoin:round; stroke-width:4; stroke-opacity:1; fill:none\" points=\"1441.36,1401.96 1446.35,1397.64 \"/>\n",
       "<path clip-path=\"url(#clip870)\" d=\"M672.182 1250.14 L679.821 1250.14 L679.821 1223.78 L671.511 1225.45 L671.511 1221.19 L679.775 1219.52 L684.451 1219.52 L684.451 1250.14 L692.089 1250.14 L692.089 1254.08 L672.182 1254.08 L672.182 1250.14 Z\" fill=\"#000000\" fill-rule=\"nonzero\" fill-opacity=\"1\" /><path clip-path=\"url(#clip870)\" d=\"M701.534 1248.2 L706.418 1248.2 L706.418 1254.08 L701.534 1254.08 L701.534 1248.2 Z\" fill=\"#000000\" fill-rule=\"nonzero\" fill-opacity=\"1\" /><path clip-path=\"url(#clip870)\" d=\"M717.413 1250.14 L725.052 1250.14 L725.052 1223.78 L716.742 1225.45 L716.742 1221.19 L725.006 1219.52 L729.682 1219.52 L729.682 1250.14 L737.321 1250.14 L737.321 1254.08 L717.413 1254.08 L717.413 1250.14 Z\" fill=\"#000000\" fill-rule=\"nonzero\" fill-opacity=\"1\" /><path clip-path=\"url(#clip870)\" d=\"M750.793 1250.14 L767.112 1250.14 L767.112 1254.08 L745.168 1254.08 L745.168 1250.14 Q747.83 1247.39 752.413 1242.76 Q757.02 1238.11 758.2 1236.76 Q760.446 1234.24 761.325 1232.51 Q762.228 1230.75 762.228 1229.06 Q762.228 1226.3 760.284 1224.57 Q758.362 1222.83 755.26 1222.83 Q753.061 1222.83 750.608 1223.59 Q748.177 1224.36 745.399 1225.91 L745.399 1221.19 Q748.223 1220.05 750.677 1219.47 Q753.131 1218.89 755.168 1218.89 Q760.538 1218.89 763.733 1221.58 Q766.927 1224.27 766.927 1228.76 Q766.927 1230.89 766.117 1232.81 Q765.33 1234.7 763.223 1237.3 Q762.645 1237.97 759.543 1241.19 Q756.441 1244.38 750.793 1250.14 Z\" fill=\"#000000\" fill-rule=\"nonzero\" fill-opacity=\"1\" /><path clip-path=\"url(#clip870)\" d=\"M783.131 1282.45 L790.77 1282.45 L790.77 1256.08 L782.46 1257.75 L782.46 1253.49 L790.724 1251.82 L795.4 1251.82 L795.4 1282.45 L803.038 1282.45 L803.038 1286.38 L783.131 1286.38 L783.131 1282.45 Z\" fill=\"#000000\" fill-rule=\"nonzero\" fill-opacity=\"1\" /><path clip-path=\"url(#clip870)\" d=\"M812.483 1280.5 L817.367 1280.5 L817.367 1286.38 L812.483 1286.38 L812.483 1280.5 Z\" fill=\"#000000\" fill-rule=\"nonzero\" fill-opacity=\"1\" /><path clip-path=\"url(#clip870)\" d=\"M828.362 1282.45 L836.001 1282.45 L836.001 1256.08 L827.691 1257.75 L827.691 1253.49 L835.955 1251.82 L840.631 1251.82 L840.631 1282.45 L848.27 1282.45 L848.27 1286.38 L828.362 1286.38 L828.362 1282.45 Z\" fill=\"#000000\" fill-rule=\"nonzero\" fill-opacity=\"1\" /><path clip-path=\"url(#clip870)\" d=\"M871.881 1267.75 Q875.237 1268.47 877.112 1270.73 Q879.01 1273 879.01 1276.34 Q879.01 1281.45 875.492 1284.25 Q871.973 1287.05 865.492 1287.05 Q863.316 1287.05 861.001 1286.61 Q858.709 1286.2 856.256 1285.34 L856.256 1280.83 Q858.2 1281.96 860.515 1282.54 Q862.83 1283.12 865.353 1283.12 Q869.751 1283.12 872.043 1281.38 Q874.358 1279.65 874.358 1276.34 Q874.358 1273.28 872.205 1271.57 Q870.075 1269.83 866.256 1269.83 L862.228 1269.83 L862.228 1265.99 L866.441 1265.99 Q869.89 1265.99 871.719 1264.62 Q873.547 1263.23 873.547 1260.64 Q873.547 1257.98 871.649 1256.57 Q869.774 1255.13 866.256 1255.13 Q864.334 1255.13 862.135 1255.55 Q859.936 1255.97 857.297 1256.85 L857.297 1252.68 Q859.959 1251.94 862.274 1251.57 Q864.612 1251.2 866.672 1251.2 Q871.996 1251.2 875.098 1253.63 Q878.2 1256.03 878.2 1260.16 Q878.2 1263.03 876.557 1265.02 Q874.913 1266.98 871.881 1267.75 Z\" fill=\"#000000\" fill-rule=\"nonzero\" fill-opacity=\"1\" /><path clip-path=\"url(#clip870)\" d=\"M893.895 1314.75 L901.534 1314.75 L901.534 1288.38 L893.224 1290.05 L893.224 1285.79 L901.488 1284.12 L906.163 1284.12 L906.163 1314.75 L913.802 1314.75 L913.802 1318.68 L893.895 1318.68 L893.895 1314.75 Z\" fill=\"#000000\" fill-rule=\"nonzero\" fill-opacity=\"1\" /><path clip-path=\"url(#clip870)\" d=\"M923.247 1312.8 L928.131 1312.8 L928.131 1318.68 L923.247 1318.68 L923.247 1312.8 Z\" fill=\"#000000\" fill-rule=\"nonzero\" fill-opacity=\"1\" /><path clip-path=\"url(#clip870)\" d=\"M939.126 1314.75 L946.765 1314.75 L946.765 1288.38 L938.455 1290.05 L938.455 1285.79 L946.719 1284.12 L951.395 1284.12 L951.395 1314.75 L959.034 1314.75 L959.034 1318.68 L939.126 1318.68 L939.126 1314.75 Z\" fill=\"#000000\" fill-rule=\"nonzero\" fill-opacity=\"1\" /><path clip-path=\"url(#clip870)\" d=\"M981.325 1288.2 L969.52 1306.65 L981.325 1306.65 L981.325 1288.2 M980.098 1284.12 L985.978 1284.12 L985.978 1306.65 L990.908 1306.65 L990.908 1310.54 L985.978 1310.54 L985.978 1318.68 L981.325 1318.68 L981.325 1310.54 L965.723 1310.54 L965.723 1306.02 L980.098 1284.12 Z\" fill=\"#000000\" fill-rule=\"nonzero\" fill-opacity=\"1\" /><path clip-path=\"url(#clip870)\" d=\"M1007.27 1347.05 L1014.91 1347.05 L1014.91 1320.69 L1006.6 1322.35 L1006.6 1318.09 L1014.87 1316.43 L1019.54 1316.43 L1019.54 1347.05 L1027.18 1347.05 L1027.18 1350.99 L1007.27 1350.99 L1007.27 1347.05 Z\" fill=\"#000000\" fill-rule=\"nonzero\" fill-opacity=\"1\" /><path clip-path=\"url(#clip870)\" d=\"M1036.63 1345.11 L1041.51 1345.11 L1041.51 1350.99 L1036.63 1350.99 L1036.63 1345.11 Z\" fill=\"#000000\" fill-rule=\"nonzero\" fill-opacity=\"1\" /><path clip-path=\"url(#clip870)\" d=\"M1052.51 1347.05 L1060.14 1347.05 L1060.14 1320.69 L1051.83 1322.35 L1051.83 1318.09 L1060.1 1316.43 L1064.77 1316.43 L1064.77 1347.05 L1072.41 1347.05 L1072.41 1350.99 L1052.51 1350.99 L1052.51 1347.05 Z\" fill=\"#000000\" fill-rule=\"nonzero\" fill-opacity=\"1\" /><path clip-path=\"url(#clip870)\" d=\"M1081.9 1316.43 L1100.26 1316.43 L1100.26 1320.36 L1086.19 1320.36 L1086.19 1328.83 Q1087.2 1328.49 1088.22 1328.32 Q1089.24 1328.14 1090.26 1328.14 Q1096.05 1328.14 1099.43 1331.31 Q1102.81 1334.48 1102.81 1339.9 Q1102.81 1345.48 1099.33 1348.58 Q1095.86 1351.66 1089.54 1351.66 Q1087.37 1351.66 1085.1 1351.29 Q1082.85 1350.92 1080.45 1350.18 L1080.45 1345.48 Q1082.53 1346.61 1084.75 1347.17 Q1086.97 1347.72 1089.45 1347.72 Q1093.45 1347.72 1095.79 1345.62 Q1098.13 1343.51 1098.13 1339.9 Q1098.13 1336.29 1095.79 1334.18 Q1093.45 1332.07 1089.45 1332.07 Q1087.58 1332.07 1085.7 1332.49 Q1083.85 1332.91 1081.9 1333.79 L1081.9 1316.43 Z\" fill=\"#000000\" fill-rule=\"nonzero\" fill-opacity=\"1\" /><path clip-path=\"url(#clip870)\" d=\"M1118.02 1379.35 L1125.65 1379.35 L1125.65 1352.99 L1117.34 1354.65 L1117.34 1350.4 L1125.61 1348.73 L1130.28 1348.73 L1130.28 1379.35 L1137.92 1379.35 L1137.92 1383.29 L1118.02 1383.29 L1118.02 1379.35 Z\" fill=\"#000000\" fill-rule=\"nonzero\" fill-opacity=\"1\" /><path clip-path=\"url(#clip870)\" d=\"M1147.37 1377.41 L1152.25 1377.41 L1152.25 1383.29 L1147.37 1383.29 L1147.37 1377.41 Z\" fill=\"#000000\" fill-rule=\"nonzero\" fill-opacity=\"1\" /><path clip-path=\"url(#clip870)\" d=\"M1163.25 1379.35 L1170.89 1379.35 L1170.89 1352.99 L1162.58 1354.65 L1162.58 1350.4 L1170.84 1348.73 L1175.51 1348.73 L1175.51 1379.35 L1183.15 1379.35 L1183.15 1383.29 L1163.25 1383.29 L1163.25 1379.35 Z\" fill=\"#000000\" fill-rule=\"nonzero\" fill-opacity=\"1\" /><path clip-path=\"url(#clip870)\" d=\"M1203.18 1364.15 Q1200.03 1364.15 1198.18 1366.3 Q1196.35 1368.45 1196.35 1372.2 Q1196.35 1375.93 1198.18 1378.1 Q1200.03 1380.26 1203.18 1380.26 Q1206.32 1380.26 1208.15 1378.1 Q1210.01 1375.93 1210.01 1372.2 Q1210.01 1368.45 1208.15 1366.3 Q1206.32 1364.15 1203.18 1364.15 M1212.46 1349.49 L1212.46 1353.75 Q1210.7 1352.92 1208.89 1352.48 Q1207.11 1352.04 1205.35 1352.04 Q1200.72 1352.04 1198.27 1355.16 Q1195.84 1358.29 1195.49 1364.61 Q1196.86 1362.59 1198.92 1361.53 Q1200.98 1360.44 1203.45 1360.44 Q1208.66 1360.44 1211.67 1363.61 Q1214.7 1366.76 1214.7 1372.2 Q1214.7 1377.52 1211.56 1380.74 Q1208.41 1383.96 1203.18 1383.96 Q1197.18 1383.96 1194.01 1379.38 Q1190.84 1374.77 1190.84 1366.04 Q1190.84 1357.85 1194.73 1352.99 Q1198.62 1348.1 1205.17 1348.1 Q1206.93 1348.1 1208.71 1348.45 Q1210.51 1348.8 1212.46 1349.49 Z\" fill=\"#000000\" fill-rule=\"nonzero\" fill-opacity=\"1\" /><path clip-path=\"url(#clip870)\" d=\"M1230.98 1411.66 L1238.62 1411.66 L1238.62 1385.29 L1230.31 1386.96 L1230.31 1382.7 L1238.57 1381.03 L1243.25 1381.03 L1243.25 1411.66 L1250.89 1411.66 L1250.89 1415.59 L1230.98 1415.59 L1230.98 1411.66 Z\" fill=\"#000000\" fill-rule=\"nonzero\" fill-opacity=\"1\" /><path clip-path=\"url(#clip870)\" d=\"M1260.33 1409.71 L1265.21 1409.71 L1265.21 1415.59 L1260.33 1415.59 L1260.33 1409.71 Z\" fill=\"#000000\" fill-rule=\"nonzero\" fill-opacity=\"1\" /><path clip-path=\"url(#clip870)\" d=\"M1276.21 1411.66 L1283.85 1411.66 L1283.85 1385.29 L1275.54 1386.96 L1275.54 1382.7 L1283.8 1381.03 L1288.48 1381.03 L1288.48 1411.66 L1296.12 1411.66 L1296.12 1415.59 L1276.21 1415.59 L1276.21 1411.66 Z\" fill=\"#000000\" fill-rule=\"nonzero\" fill-opacity=\"1\" /><path clip-path=\"url(#clip870)\" d=\"M1304.38 1381.03 L1326.6 1381.03 L1326.6 1383.02 L1314.06 1415.59 L1309.17 1415.59 L1320.98 1384.97 L1304.38 1384.97 L1304.38 1381.03 Z\" fill=\"#000000\" fill-rule=\"nonzero\" fill-opacity=\"1\" /><path clip-path=\"url(#clip870)\" d=\"M1342.07 1443.96 L1349.7 1443.96 L1349.7 1417.59 L1341.39 1419.26 L1341.39 1415 L1349.66 1413.33 L1354.33 1413.33 L1354.33 1443.96 L1361.97 1443.96 L1361.97 1447.89 L1342.07 1447.89 L1342.07 1443.96 Z\" fill=\"#000000\" fill-rule=\"nonzero\" fill-opacity=\"1\" /><path clip-path=\"url(#clip870)\" d=\"M1371.42 1442.01 L1376.3 1442.01 L1376.3 1447.89 L1371.42 1447.89 L1371.42 1442.01 Z\" fill=\"#000000\" fill-rule=\"nonzero\" fill-opacity=\"1\" /><path clip-path=\"url(#clip870)\" d=\"M1387.3 1443.96 L1394.94 1443.96 L1394.94 1417.59 L1386.63 1419.26 L1386.63 1415 L1394.89 1413.33 L1399.57 1413.33 L1399.57 1443.96 L1407.2 1443.96 L1407.2 1447.89 L1387.3 1447.89 L1387.3 1443.96 Z\" fill=\"#000000\" fill-rule=\"nonzero\" fill-opacity=\"1\" /><path clip-path=\"url(#clip870)\" d=\"M1426.65 1431.48 Q1423.32 1431.48 1421.39 1433.26 Q1419.5 1435.05 1419.5 1438.17 Q1419.5 1441.3 1421.39 1443.08 Q1423.32 1444.86 1426.65 1444.86 Q1429.98 1444.86 1431.9 1443.08 Q1433.82 1441.27 1433.82 1438.17 Q1433.82 1435.05 1431.9 1433.26 Q1430.01 1431.48 1426.65 1431.48 M1421.97 1429.49 Q1418.96 1428.75 1417.27 1426.69 Q1415.61 1424.63 1415.61 1421.67 Q1415.61 1417.52 1418.55 1415.12 Q1421.51 1412.71 1426.65 1412.71 Q1431.81 1412.71 1434.75 1415.12 Q1437.69 1417.52 1437.69 1421.67 Q1437.69 1424.63 1436 1426.69 Q1434.33 1428.75 1431.35 1429.49 Q1434.73 1430.28 1436.6 1432.57 Q1438.5 1434.86 1438.5 1438.17 Q1438.5 1443.19 1435.42 1445.88 Q1432.37 1448.56 1426.65 1448.56 Q1420.93 1448.56 1417.85 1445.88 Q1414.8 1443.19 1414.8 1438.17 Q1414.8 1434.86 1416.7 1432.57 Q1418.59 1430.28 1421.97 1429.49 M1420.26 1422.11 Q1420.26 1424.79 1421.93 1426.3 Q1423.62 1427.8 1426.65 1427.8 Q1429.66 1427.8 1431.35 1426.3 Q1433.06 1424.79 1433.06 1422.11 Q1433.06 1419.42 1431.35 1417.92 Q1429.66 1416.41 1426.65 1416.41 Q1423.62 1416.41 1421.93 1417.92 Q1420.26 1419.42 1420.26 1422.11 Z\" fill=\"#000000\" fill-rule=\"nonzero\" fill-opacity=\"1\" /><polyline clip-path=\"url(#clip872)\" style=\"stroke:#000000; stroke-linecap:round; stroke-linejoin:round; stroke-width:2; stroke-opacity:0.1; fill:none\" points=\"1510.94,1375.53 791.341,1167.79 791.341,448.192 \"/>\n",
       "<polyline clip-path=\"url(#clip872)\" style=\"stroke:#000000; stroke-linecap:round; stroke-linejoin:round; stroke-width:2; stroke-opacity:0.1; fill:none\" points=\"1566.76,1327.19 847.157,1119.46 847.157,399.855 \"/>\n",
       "<polyline clip-path=\"url(#clip872)\" style=\"stroke:#000000; stroke-linecap:round; stroke-linejoin:round; stroke-width:2; stroke-opacity:0.1; fill:none\" points=\"1622.57,1278.85 902.972,1071.12 902.972,351.518 \"/>\n",
       "<polyline clip-path=\"url(#clip872)\" style=\"stroke:#000000; stroke-linecap:round; stroke-linejoin:round; stroke-width:2; stroke-opacity:0.1; fill:none\" points=\"1678.39,1230.51 958.787,1022.78 958.787,303.18 \"/>\n",
       "<polyline clip-path=\"url(#clip872)\" style=\"stroke:#000000; stroke-linecap:round; stroke-linejoin:round; stroke-width:2; stroke-opacity:0.1; fill:none\" points=\"1734.2,1182.18 1014.6,974.445 1014.6,254.843 \"/>\n",
       "<polyline clip-path=\"url(#clip872)\" style=\"stroke:#000000; stroke-linecap:round; stroke-linejoin:round; stroke-width:2; stroke-opacity:0.1; fill:none\" points=\"1790.02,1133.84 1070.42,926.107 1070.42,206.505 \"/>\n",
       "<polyline clip-path=\"url(#clip872)\" style=\"stroke:#000000; stroke-linecap:round; stroke-linejoin:round; stroke-width:2; stroke-opacity:0.1; fill:none\" points=\"1845.83,1085.5 1126.23,877.77 1126.23,158.168 \"/>\n",
       "<polyline clip-path=\"url(#clip870)\" style=\"stroke:#000000; stroke-linecap:round; stroke-linejoin:round; stroke-width:4; stroke-opacity:1; fill:none\" points=\"1470.66,1410.41 1886.12,1050.61 \"/>\n",
       "<polyline clip-path=\"url(#clip870)\" style=\"stroke:#000000; stroke-linecap:round; stroke-linejoin:round; stroke-width:4; stroke-opacity:1; fill:none\" points=\"1510.94,1375.53 1502.31,1373.03 \"/>\n",
       "<polyline clip-path=\"url(#clip870)\" style=\"stroke:#000000; stroke-linecap:round; stroke-linejoin:round; stroke-width:4; stroke-opacity:1; fill:none\" points=\"1566.76,1327.19 1558.12,1324.7 \"/>\n",
       "<polyline clip-path=\"url(#clip870)\" style=\"stroke:#000000; stroke-linecap:round; stroke-linejoin:round; stroke-width:4; stroke-opacity:1; fill:none\" points=\"1622.57,1278.85 1613.94,1276.36 \"/>\n",
       "<polyline clip-path=\"url(#clip870)\" style=\"stroke:#000000; stroke-linecap:round; stroke-linejoin:round; stroke-width:4; stroke-opacity:1; fill:none\" points=\"1678.39,1230.51 1669.75,1228.02 \"/>\n",
       "<polyline clip-path=\"url(#clip870)\" style=\"stroke:#000000; stroke-linecap:round; stroke-linejoin:round; stroke-width:4; stroke-opacity:1; fill:none\" points=\"1734.2,1182.18 1725.57,1179.68 \"/>\n",
       "<polyline clip-path=\"url(#clip870)\" style=\"stroke:#000000; stroke-linecap:round; stroke-linejoin:round; stroke-width:4; stroke-opacity:1; fill:none\" points=\"1790.02,1133.84 1781.38,1131.35 \"/>\n",
       "<polyline clip-path=\"url(#clip870)\" style=\"stroke:#000000; stroke-linecap:round; stroke-linejoin:round; stroke-width:4; stroke-opacity:1; fill:none\" points=\"1845.83,1085.5 1837.2,1083.01 \"/>\n",
       "<path clip-path=\"url(#clip870)\" d=\"M1519.2 1403.57 L1548.88 1403.57 L1548.88 1407.5 L1519.2 1407.5 L1519.2 1403.57 Z\" fill=\"#000000\" fill-rule=\"nonzero\" fill-opacity=\"1\" /><path clip-path=\"url(#clip870)\" d=\"M1568.97 1388.91 Q1565.36 1388.91 1563.53 1392.48 Q1561.72 1396.02 1561.72 1403.15 Q1561.72 1410.26 1563.53 1413.82 Q1565.36 1417.36 1568.97 1417.36 Q1572.6 1417.36 1574.41 1413.82 Q1576.24 1410.26 1576.24 1403.15 Q1576.24 1396.02 1574.41 1392.48 Q1572.6 1388.91 1568.97 1388.91 M1568.97 1385.21 Q1574.78 1385.21 1577.83 1389.82 Q1580.91 1394.4 1580.91 1403.15 Q1580.91 1411.88 1577.83 1416.48 Q1574.78 1421.07 1568.97 1421.07 Q1563.16 1421.07 1560.08 1416.48 Q1557.02 1411.88 1557.02 1403.15 Q1557.02 1394.4 1560.08 1389.82 Q1563.16 1385.21 1568.97 1385.21 Z\" fill=\"#000000\" fill-rule=\"nonzero\" fill-opacity=\"1\" /><path clip-path=\"url(#clip870)\" d=\"M1589.13 1414.52 L1594.02 1414.52 L1594.02 1420.4 L1589.13 1420.4 L1589.13 1414.52 Z\" fill=\"#000000\" fill-rule=\"nonzero\" fill-opacity=\"1\" /><path clip-path=\"url(#clip870)\" d=\"M1614.2 1388.91 Q1610.59 1388.91 1608.76 1392.48 Q1606.95 1396.02 1606.95 1403.15 Q1606.95 1410.26 1608.76 1413.82 Q1610.59 1417.36 1614.2 1417.36 Q1617.83 1417.36 1619.64 1413.82 Q1621.47 1410.26 1621.47 1403.15 Q1621.47 1396.02 1619.64 1392.48 Q1617.83 1388.91 1614.2 1388.91 M1614.2 1385.21 Q1620.01 1385.21 1623.07 1389.82 Q1626.14 1394.4 1626.14 1403.15 Q1626.14 1411.88 1623.07 1416.48 Q1620.01 1421.07 1614.2 1421.07 Q1608.39 1421.07 1605.31 1416.48 Q1602.26 1411.88 1602.26 1403.15 Q1602.26 1394.4 1605.31 1389.82 Q1608.39 1385.21 1614.2 1385.21 Z\" fill=\"#000000\" fill-rule=\"nonzero\" fill-opacity=\"1\" /><path clip-path=\"url(#clip870)\" d=\"M1633.18 1385.84 L1655.4 1385.84 L1655.4 1387.83 L1642.86 1420.4 L1637.97 1420.4 L1649.78 1389.77 L1633.18 1389.77 L1633.18 1385.84 Z\" fill=\"#000000\" fill-rule=\"nonzero\" fill-opacity=\"1\" /><path clip-path=\"url(#clip870)\" d=\"M1664.57 1385.84 L1682.93 1385.84 L1682.93 1389.77 L1668.85 1389.77 L1668.85 1398.24 Q1669.87 1397.9 1670.89 1397.73 Q1671.91 1397.55 1672.93 1397.55 Q1678.71 1397.55 1682.09 1400.72 Q1685.47 1403.89 1685.47 1409.31 Q1685.47 1414.89 1682 1417.99 Q1678.53 1421.07 1672.21 1421.07 Q1670.03 1421.07 1667.76 1420.7 Q1665.52 1420.33 1663.11 1419.59 L1663.11 1414.89 Q1665.2 1416.02 1667.42 1416.58 Q1669.64 1417.13 1672.12 1417.13 Q1676.12 1417.13 1678.46 1415.03 Q1680.8 1412.92 1680.8 1409.31 Q1680.8 1405.7 1678.46 1403.59 Q1676.12 1401.48 1672.12 1401.48 Q1670.24 1401.48 1668.37 1401.9 Q1666.51 1402.32 1664.57 1403.2 L1664.57 1385.84 Z\" fill=\"#000000\" fill-rule=\"nonzero\" fill-opacity=\"1\" /><path clip-path=\"url(#clip870)\" d=\"M1575.02 1355.23 L1604.69 1355.23 L1604.69 1359.17 L1575.02 1359.17 L1575.02 1355.23 Z\" fill=\"#000000\" fill-rule=\"nonzero\" fill-opacity=\"1\" /><path clip-path=\"url(#clip870)\" d=\"M1624.78 1340.58 Q1621.17 1340.58 1619.34 1344.14 Q1617.54 1347.68 1617.54 1354.81 Q1617.54 1361.92 1619.34 1365.48 Q1621.17 1369.03 1624.78 1369.03 Q1628.42 1369.03 1630.22 1365.48 Q1632.05 1361.92 1632.05 1354.81 Q1632.05 1347.68 1630.22 1344.14 Q1628.42 1340.58 1624.78 1340.58 M1624.78 1336.87 Q1630.59 1336.87 1633.65 1341.48 Q1636.73 1346.06 1636.73 1354.81 Q1636.73 1363.54 1633.65 1368.15 Q1630.59 1372.73 1624.78 1372.73 Q1618.97 1372.73 1615.9 1368.15 Q1612.84 1363.54 1612.84 1354.81 Q1612.84 1346.06 1615.9 1341.48 Q1618.97 1336.87 1624.78 1336.87 Z\" fill=\"#000000\" fill-rule=\"nonzero\" fill-opacity=\"1\" /><path clip-path=\"url(#clip870)\" d=\"M1644.95 1366.18 L1649.83 1366.18 L1649.83 1372.06 L1644.95 1372.06 L1644.95 1366.18 Z\" fill=\"#000000\" fill-rule=\"nonzero\" fill-opacity=\"1\" /><path clip-path=\"url(#clip870)\" d=\"M1670.02 1340.58 Q1666.4 1340.58 1664.58 1344.14 Q1662.77 1347.68 1662.77 1354.81 Q1662.77 1361.92 1664.58 1365.48 Q1666.4 1369.03 1670.02 1369.03 Q1673.65 1369.03 1675.46 1365.48 Q1677.28 1361.92 1677.28 1354.81 Q1677.28 1347.68 1675.46 1344.14 Q1673.65 1340.58 1670.02 1340.58 M1670.02 1336.87 Q1675.83 1336.87 1678.88 1341.48 Q1681.96 1346.06 1681.96 1354.81 Q1681.96 1363.54 1678.88 1368.15 Q1675.83 1372.73 1670.02 1372.73 Q1664.21 1372.73 1661.13 1368.15 Q1658.07 1363.54 1658.07 1354.81 Q1658.07 1346.06 1661.13 1341.48 Q1664.21 1336.87 1670.02 1336.87 Z\" fill=\"#000000\" fill-rule=\"nonzero\" fill-opacity=\"1\" /><path clip-path=\"url(#clip870)\" d=\"M1690.22 1337.5 L1708.58 1337.5 L1708.58 1341.43 L1694.51 1341.43 L1694.51 1349.91 Q1695.52 1349.56 1696.54 1349.4 Q1697.56 1349.21 1698.58 1349.21 Q1704.37 1349.21 1707.75 1352.38 Q1711.13 1355.55 1711.13 1360.97 Q1711.13 1366.55 1707.65 1369.65 Q1704.18 1372.73 1697.86 1372.73 Q1695.69 1372.73 1693.42 1372.36 Q1691.17 1371.99 1688.77 1371.25 L1688.77 1366.55 Q1690.85 1367.68 1693.07 1368.24 Q1695.29 1368.8 1697.77 1368.8 Q1701.77 1368.8 1704.11 1366.69 Q1706.45 1364.58 1706.45 1360.97 Q1706.45 1357.36 1704.11 1355.25 Q1701.77 1353.15 1697.77 1353.15 Q1695.89 1353.15 1694.02 1353.56 Q1692.17 1353.98 1690.22 1354.86 L1690.22 1337.5 Z\" fill=\"#000000\" fill-rule=\"nonzero\" fill-opacity=\"1\" /><path clip-path=\"url(#clip870)\" d=\"M1730.34 1340.58 Q1726.73 1340.58 1724.9 1344.14 Q1723.09 1347.68 1723.09 1354.81 Q1723.09 1361.92 1724.9 1365.48 Q1726.73 1369.03 1730.34 1369.03 Q1733.97 1369.03 1735.78 1365.48 Q1737.61 1361.92 1737.61 1354.81 Q1737.61 1347.68 1735.78 1344.14 Q1733.97 1340.58 1730.34 1340.58 M1730.34 1336.87 Q1736.15 1336.87 1739.2 1341.48 Q1742.28 1346.06 1742.28 1354.81 Q1742.28 1363.54 1739.2 1368.15 Q1736.15 1372.73 1730.34 1372.73 Q1724.53 1372.73 1721.45 1368.15 Q1718.39 1363.54 1718.39 1354.81 Q1718.39 1346.06 1721.45 1341.48 Q1724.53 1336.87 1730.34 1336.87 Z\" fill=\"#000000\" fill-rule=\"nonzero\" fill-opacity=\"1\" /><path clip-path=\"url(#clip870)\" d=\"M1630.83 1306.89 L1660.51 1306.89 L1660.51 1310.83 L1630.83 1310.83 L1630.83 1306.89 Z\" fill=\"#000000\" fill-rule=\"nonzero\" fill-opacity=\"1\" /><path clip-path=\"url(#clip870)\" d=\"M1680.6 1292.24 Q1676.99 1292.24 1675.16 1295.8 Q1673.35 1299.35 1673.35 1306.48 Q1673.35 1313.58 1675.16 1317.15 Q1676.99 1320.69 1680.6 1320.69 Q1684.23 1320.69 1686.04 1317.15 Q1687.87 1313.58 1687.87 1306.48 Q1687.87 1299.35 1686.04 1295.8 Q1684.23 1292.24 1680.6 1292.24 M1680.6 1288.54 Q1686.41 1288.54 1689.47 1293.14 Q1692.54 1297.73 1692.54 1306.48 Q1692.54 1315.2 1689.47 1319.81 Q1686.41 1324.39 1680.6 1324.39 Q1674.79 1324.39 1671.71 1319.81 Q1668.66 1315.2 1668.66 1306.48 Q1668.66 1297.73 1671.71 1293.14 Q1674.79 1288.54 1680.6 1288.54 Z\" fill=\"#000000\" fill-rule=\"nonzero\" fill-opacity=\"1\" /><path clip-path=\"url(#clip870)\" d=\"M1700.76 1317.84 L1705.65 1317.84 L1705.65 1323.72 L1700.76 1323.72 L1700.76 1317.84 Z\" fill=\"#000000\" fill-rule=\"nonzero\" fill-opacity=\"1\" /><path clip-path=\"url(#clip870)\" d=\"M1725.83 1292.24 Q1722.22 1292.24 1720.39 1295.8 Q1718.59 1299.35 1718.59 1306.48 Q1718.59 1313.58 1720.39 1317.15 Q1722.22 1320.69 1725.83 1320.69 Q1729.46 1320.69 1731.27 1317.15 Q1733.1 1313.58 1733.1 1306.48 Q1733.1 1299.35 1731.27 1295.8 Q1729.46 1292.24 1725.83 1292.24 M1725.83 1288.54 Q1731.64 1288.54 1734.7 1293.14 Q1737.78 1297.73 1737.78 1306.48 Q1737.78 1315.2 1734.7 1319.81 Q1731.64 1324.39 1725.83 1324.39 Q1720.02 1324.39 1716.94 1319.81 Q1713.89 1315.2 1713.89 1306.48 Q1713.89 1297.73 1716.94 1293.14 Q1720.02 1288.54 1725.83 1288.54 Z\" fill=\"#000000\" fill-rule=\"nonzero\" fill-opacity=\"1\" /><path clip-path=\"url(#clip870)\" d=\"M1750.02 1319.79 L1766.34 1319.79 L1766.34 1323.72 L1744.4 1323.72 L1744.4 1319.79 Q1747.06 1317.03 1751.64 1312.4 Q1756.25 1307.75 1757.43 1306.41 Q1759.67 1303.88 1760.55 1302.15 Q1761.46 1300.39 1761.46 1298.7 Q1761.46 1295.94 1759.51 1294.21 Q1757.59 1292.47 1754.49 1292.47 Q1752.29 1292.47 1749.84 1293.24 Q1747.4 1294 1744.63 1295.55 L1744.63 1290.83 Q1747.45 1289.69 1749.9 1289.12 Q1752.36 1288.54 1754.4 1288.54 Q1759.77 1288.54 1762.96 1291.22 Q1766.15 1293.91 1766.15 1298.4 Q1766.15 1300.53 1765.34 1302.45 Q1764.56 1304.35 1762.45 1306.94 Q1761.87 1307.61 1758.77 1310.83 Q1755.67 1314.02 1750.02 1319.79 Z\" fill=\"#000000\" fill-rule=\"nonzero\" fill-opacity=\"1\" /><path clip-path=\"url(#clip870)\" d=\"M1776.2 1289.16 L1794.56 1289.16 L1794.56 1293.1 L1780.48 1293.1 L1780.48 1301.57 Q1781.5 1301.22 1782.52 1301.06 Q1783.54 1300.87 1784.56 1300.87 Q1790.34 1300.87 1793.72 1304.05 Q1797.1 1307.22 1797.1 1312.63 Q1797.1 1318.21 1793.63 1321.31 Q1790.16 1324.39 1783.84 1324.39 Q1781.66 1324.39 1779.4 1324.02 Q1777.15 1323.65 1774.74 1322.91 L1774.74 1318.21 Q1776.83 1319.35 1779.05 1319.9 Q1781.27 1320.46 1783.75 1320.46 Q1787.75 1320.46 1790.09 1318.35 Q1792.43 1316.24 1792.43 1312.63 Q1792.43 1309.02 1790.09 1306.92 Q1787.75 1304.81 1783.75 1304.81 Q1781.87 1304.81 1780 1305.23 Q1778.15 1305.64 1776.2 1306.52 L1776.2 1289.16 Z\" fill=\"#000000\" fill-rule=\"nonzero\" fill-opacity=\"1\" /><path clip-path=\"url(#clip870)\" d=\"M1698.59 1243.9 Q1694.98 1243.9 1693.15 1247.47 Q1691.35 1251.01 1691.35 1258.14 Q1691.35 1265.25 1693.15 1268.81 Q1694.98 1272.35 1698.59 1272.35 Q1702.23 1272.35 1704.03 1268.81 Q1705.86 1265.25 1705.86 1258.14 Q1705.86 1251.01 1704.03 1247.47 Q1702.23 1243.9 1698.59 1243.9 M1698.59 1240.2 Q1704.4 1240.2 1707.46 1244.81 Q1710.54 1249.39 1710.54 1258.14 Q1710.54 1266.87 1707.46 1271.47 Q1704.4 1276.06 1698.59 1276.06 Q1692.78 1276.06 1689.7 1271.47 Q1686.65 1266.87 1686.65 1258.14 Q1686.65 1249.39 1689.7 1244.81 Q1692.78 1240.2 1698.59 1240.2 Z\" fill=\"#000000\" fill-rule=\"nonzero\" fill-opacity=\"1\" /><path clip-path=\"url(#clip870)\" d=\"M1718.75 1269.5 L1723.64 1269.5 L1723.64 1275.38 L1718.75 1275.38 L1718.75 1269.5 Z\" fill=\"#000000\" fill-rule=\"nonzero\" fill-opacity=\"1\" /><path clip-path=\"url(#clip870)\" d=\"M1743.82 1243.9 Q1740.21 1243.9 1738.38 1247.47 Q1736.58 1251.01 1736.58 1258.14 Q1736.58 1265.25 1738.38 1268.81 Q1740.21 1272.35 1743.82 1272.35 Q1747.46 1272.35 1749.26 1268.81 Q1751.09 1265.25 1751.09 1258.14 Q1751.09 1251.01 1749.26 1247.47 Q1747.46 1243.9 1743.82 1243.9 M1743.82 1240.2 Q1749.63 1240.2 1752.69 1244.81 Q1755.77 1249.39 1755.77 1258.14 Q1755.77 1266.87 1752.69 1271.47 Q1749.63 1276.06 1743.82 1276.06 Q1738.01 1276.06 1734.93 1271.47 Q1731.88 1266.87 1731.88 1258.14 Q1731.88 1249.39 1734.93 1244.81 Q1738.01 1240.2 1743.82 1240.2 Z\" fill=\"#000000\" fill-rule=\"nonzero\" fill-opacity=\"1\" /><path clip-path=\"url(#clip870)\" d=\"M1773.98 1243.9 Q1770.37 1243.9 1768.54 1247.47 Q1766.74 1251.01 1766.74 1258.14 Q1766.74 1265.25 1768.54 1268.81 Q1770.37 1272.35 1773.98 1272.35 Q1777.62 1272.35 1779.42 1268.81 Q1781.25 1265.25 1781.25 1258.14 Q1781.25 1251.01 1779.42 1247.47 Q1777.62 1243.9 1773.98 1243.9 M1773.98 1240.2 Q1779.79 1240.2 1782.85 1244.81 Q1785.93 1249.39 1785.93 1258.14 Q1785.93 1266.87 1782.85 1271.47 Q1779.79 1276.06 1773.98 1276.06 Q1768.17 1276.06 1765.1 1271.47 Q1762.04 1266.87 1762.04 1258.14 Q1762.04 1249.39 1765.1 1244.81 Q1768.17 1240.2 1773.98 1240.2 Z\" fill=\"#000000\" fill-rule=\"nonzero\" fill-opacity=\"1\" /><path clip-path=\"url(#clip870)\" d=\"M1804.15 1243.9 Q1800.53 1243.9 1798.71 1247.47 Q1796.9 1251.01 1796.9 1258.14 Q1796.9 1265.25 1798.71 1268.81 Q1800.53 1272.35 1804.15 1272.35 Q1807.78 1272.35 1809.59 1268.81 Q1811.41 1265.25 1811.41 1258.14 Q1811.41 1251.01 1809.59 1247.47 Q1807.78 1243.9 1804.15 1243.9 M1804.15 1240.2 Q1809.96 1240.2 1813.01 1244.81 Q1816.09 1249.39 1816.09 1258.14 Q1816.09 1266.87 1813.01 1271.47 Q1809.96 1276.06 1804.15 1276.06 Q1798.34 1276.06 1795.26 1271.47 Q1792.2 1266.87 1792.2 1258.14 Q1792.2 1249.39 1795.26 1244.81 Q1798.34 1240.2 1804.15 1240.2 Z\" fill=\"#000000\" fill-rule=\"nonzero\" fill-opacity=\"1\" /><path clip-path=\"url(#clip870)\" d=\"M1754.41 1195.57 Q1750.79 1195.57 1748.97 1199.13 Q1747.16 1202.67 1747.16 1209.8 Q1747.16 1216.91 1748.97 1220.47 Q1750.79 1224.01 1754.41 1224.01 Q1758.04 1224.01 1759.85 1220.47 Q1761.67 1216.91 1761.67 1209.8 Q1761.67 1202.67 1759.85 1199.13 Q1758.04 1195.57 1754.41 1195.57 M1754.41 1191.86 Q1760.22 1191.86 1763.27 1196.47 Q1766.35 1201.05 1766.35 1209.8 Q1766.35 1218.53 1763.27 1223.13 Q1760.22 1227.72 1754.41 1227.72 Q1748.6 1227.72 1745.52 1223.13 Q1742.46 1218.53 1742.46 1209.8 Q1742.46 1201.05 1745.52 1196.47 Q1748.6 1191.86 1754.41 1191.86 Z\" fill=\"#000000\" fill-rule=\"nonzero\" fill-opacity=\"1\" /><path clip-path=\"url(#clip870)\" d=\"M1774.57 1221.17 L1779.45 1221.17 L1779.45 1227.05 L1774.57 1227.05 L1774.57 1221.17 Z\" fill=\"#000000\" fill-rule=\"nonzero\" fill-opacity=\"1\" /><path clip-path=\"url(#clip870)\" d=\"M1799.64 1195.57 Q1796.03 1195.57 1794.2 1199.13 Q1792.39 1202.67 1792.39 1209.8 Q1792.39 1216.91 1794.2 1220.47 Q1796.03 1224.01 1799.64 1224.01 Q1803.27 1224.01 1805.08 1220.47 Q1806.91 1216.91 1806.91 1209.8 Q1806.91 1202.67 1805.08 1199.13 Q1803.27 1195.57 1799.64 1195.57 M1799.64 1191.86 Q1805.45 1191.86 1808.5 1196.47 Q1811.58 1201.05 1811.58 1209.8 Q1811.58 1218.53 1808.5 1223.13 Q1805.45 1227.72 1799.64 1227.72 Q1793.83 1227.72 1790.75 1223.13 Q1787.69 1218.53 1787.69 1209.8 Q1787.69 1201.05 1790.75 1196.47 Q1793.83 1191.86 1799.64 1191.86 Z\" fill=\"#000000\" fill-rule=\"nonzero\" fill-opacity=\"1\" /><path clip-path=\"url(#clip870)\" d=\"M1823.83 1223.11 L1840.15 1223.11 L1840.15 1227.05 L1818.2 1227.05 L1818.2 1223.11 Q1820.86 1220.36 1825.45 1215.73 Q1830.05 1211.07 1831.23 1209.73 Q1833.48 1207.21 1834.36 1205.47 Q1835.26 1203.71 1835.26 1202.02 Q1835.26 1199.27 1833.32 1197.53 Q1831.4 1195.8 1828.29 1195.8 Q1826.1 1195.8 1823.64 1196.56 Q1821.21 1197.32 1818.43 1198.88 L1818.43 1194.15 Q1821.26 1193.02 1823.71 1192.44 Q1826.16 1191.86 1828.2 1191.86 Q1833.57 1191.86 1836.77 1194.55 Q1839.96 1197.23 1839.96 1201.72 Q1839.96 1203.85 1839.15 1205.77 Q1838.36 1207.67 1836.26 1210.26 Q1835.68 1210.94 1832.58 1214.15 Q1829.48 1217.35 1823.83 1223.11 Z\" fill=\"#000000\" fill-rule=\"nonzero\" fill-opacity=\"1\" /><path clip-path=\"url(#clip870)\" d=\"M1850.01 1192.49 L1868.36 1192.49 L1868.36 1196.42 L1854.29 1196.42 L1854.29 1204.89 Q1855.31 1204.55 1856.33 1204.38 Q1857.35 1204.2 1858.36 1204.2 Q1864.15 1204.2 1867.53 1207.37 Q1870.91 1210.54 1870.91 1215.96 Q1870.91 1221.54 1867.44 1224.64 Q1863.97 1227.72 1857.65 1227.72 Q1855.47 1227.72 1853.2 1227.35 Q1850.96 1226.98 1848.55 1226.24 L1848.55 1221.54 Q1850.63 1222.67 1852.85 1223.23 Q1855.08 1223.78 1857.55 1223.78 Q1861.56 1223.78 1863.9 1221.68 Q1866.23 1219.57 1866.23 1215.96 Q1866.23 1212.35 1863.9 1210.24 Q1861.56 1208.13 1857.55 1208.13 Q1855.68 1208.13 1853.8 1208.55 Q1851.95 1208.97 1850.01 1209.85 L1850.01 1192.49 Z\" fill=\"#000000\" fill-rule=\"nonzero\" fill-opacity=\"1\" /><path clip-path=\"url(#clip870)\" d=\"M1810.22 1147.23 Q1806.61 1147.23 1804.78 1150.79 Q1802.98 1154.33 1802.98 1161.46 Q1802.98 1168.57 1804.78 1172.14 Q1806.61 1175.68 1810.22 1175.68 Q1813.86 1175.68 1815.66 1172.14 Q1817.49 1168.57 1817.49 1161.46 Q1817.49 1154.33 1815.66 1150.79 Q1813.86 1147.23 1810.22 1147.23 M1810.22 1143.52 Q1816.03 1143.52 1819.09 1148.13 Q1822.17 1152.71 1822.17 1161.46 Q1822.17 1170.19 1819.09 1174.8 Q1816.03 1179.38 1810.22 1179.38 Q1804.41 1179.38 1801.33 1174.8 Q1798.28 1170.19 1798.28 1161.46 Q1798.28 1152.71 1801.33 1148.13 Q1804.41 1143.52 1810.22 1143.52 Z\" fill=\"#000000\" fill-rule=\"nonzero\" fill-opacity=\"1\" /><path clip-path=\"url(#clip870)\" d=\"M1830.38 1172.83 L1835.27 1172.83 L1835.27 1178.71 L1830.38 1178.71 L1830.38 1172.83 Z\" fill=\"#000000\" fill-rule=\"nonzero\" fill-opacity=\"1\" /><path clip-path=\"url(#clip870)\" d=\"M1855.45 1147.23 Q1851.84 1147.23 1850.01 1150.79 Q1848.21 1154.33 1848.21 1161.46 Q1848.21 1168.57 1850.01 1172.14 Q1851.84 1175.68 1855.45 1175.68 Q1859.09 1175.68 1860.89 1172.14 Q1862.72 1168.57 1862.72 1161.46 Q1862.72 1154.33 1860.89 1150.79 Q1859.09 1147.23 1855.45 1147.23 M1855.45 1143.52 Q1861.26 1143.52 1864.32 1148.13 Q1867.4 1152.71 1867.4 1161.46 Q1867.4 1170.19 1864.32 1174.8 Q1861.26 1179.38 1855.45 1179.38 Q1849.64 1179.38 1846.56 1174.8 Q1843.51 1170.19 1843.51 1161.46 Q1843.51 1152.71 1846.56 1148.13 Q1849.64 1143.52 1855.45 1143.52 Z\" fill=\"#000000\" fill-rule=\"nonzero\" fill-opacity=\"1\" /><path clip-path=\"url(#clip870)\" d=\"M1875.66 1144.15 L1894.02 1144.15 L1894.02 1148.08 L1879.94 1148.08 L1879.94 1156.56 Q1880.96 1156.21 1881.98 1156.05 Q1883 1155.86 1884.02 1155.86 Q1889.8 1155.86 1893.18 1159.03 Q1896.56 1162.2 1896.56 1167.62 Q1896.56 1173.2 1893.09 1176.3 Q1889.62 1179.38 1883.3 1179.38 Q1881.12 1179.38 1878.86 1179.01 Q1876.61 1178.64 1874.2 1177.9 L1874.2 1173.2 Q1876.29 1174.33 1878.51 1174.89 Q1880.73 1175.45 1883.21 1175.45 Q1887.21 1175.45 1889.55 1173.34 Q1891.89 1171.23 1891.89 1167.62 Q1891.89 1164.01 1889.55 1161.9 Q1887.21 1159.8 1883.21 1159.8 Q1881.33 1159.8 1879.46 1160.21 Q1877.61 1160.63 1875.66 1161.51 L1875.66 1144.15 Z\" fill=\"#000000\" fill-rule=\"nonzero\" fill-opacity=\"1\" /><path clip-path=\"url(#clip870)\" d=\"M1915.78 1147.23 Q1912.17 1147.23 1910.34 1150.79 Q1908.53 1154.33 1908.53 1161.46 Q1908.53 1168.57 1910.34 1172.14 Q1912.17 1175.68 1915.78 1175.68 Q1919.41 1175.68 1921.22 1172.14 Q1923.04 1168.57 1923.04 1161.46 Q1923.04 1154.33 1921.22 1150.79 Q1919.41 1147.23 1915.78 1147.23 M1915.78 1143.52 Q1921.59 1143.52 1924.64 1148.13 Q1927.72 1152.71 1927.72 1161.46 Q1927.72 1170.19 1924.64 1174.8 Q1921.59 1179.38 1915.78 1179.38 Q1909.97 1179.38 1906.89 1174.8 Q1903.83 1170.19 1903.83 1161.46 Q1903.83 1152.71 1906.89 1148.13 Q1909.97 1143.52 1915.78 1143.52 Z\" fill=\"#000000\" fill-rule=\"nonzero\" fill-opacity=\"1\" /><path clip-path=\"url(#clip870)\" d=\"M1866.04 1098.89 Q1862.43 1098.89 1860.6 1102.46 Q1858.79 1106 1858.79 1113.13 Q1858.79 1120.23 1860.6 1123.8 Q1862.43 1127.34 1866.04 1127.34 Q1869.67 1127.34 1871.48 1123.8 Q1873.31 1120.23 1873.31 1113.13 Q1873.31 1106 1871.48 1102.46 Q1869.67 1098.89 1866.04 1098.89 M1866.04 1095.19 Q1871.85 1095.19 1874.9 1099.79 Q1877.98 1104.38 1877.98 1113.13 Q1877.98 1121.85 1874.9 1126.46 Q1871.85 1131.04 1866.04 1131.04 Q1860.23 1131.04 1857.15 1126.46 Q1854.09 1121.85 1854.09 1113.13 Q1854.09 1104.38 1857.15 1099.79 Q1860.23 1095.19 1866.04 1095.19 Z\" fill=\"#000000\" fill-rule=\"nonzero\" fill-opacity=\"1\" /><path clip-path=\"url(#clip870)\" d=\"M1886.2 1124.49 L1891.08 1124.49 L1891.08 1130.37 L1886.2 1130.37 L1886.2 1124.49 Z\" fill=\"#000000\" fill-rule=\"nonzero\" fill-opacity=\"1\" /><path clip-path=\"url(#clip870)\" d=\"M1911.27 1098.89 Q1907.66 1098.89 1905.83 1102.46 Q1904.02 1106 1904.02 1113.13 Q1904.02 1120.23 1905.83 1123.8 Q1907.66 1127.34 1911.27 1127.34 Q1914.9 1127.34 1916.71 1123.8 Q1918.54 1120.23 1918.54 1113.13 Q1918.54 1106 1916.71 1102.46 Q1914.9 1098.89 1911.27 1098.89 M1911.27 1095.19 Q1917.08 1095.19 1920.13 1099.79 Q1923.21 1104.38 1923.21 1113.13 Q1923.21 1121.85 1920.13 1126.46 Q1917.08 1131.04 1911.27 1131.04 Q1905.46 1131.04 1902.38 1126.46 Q1899.32 1121.85 1899.32 1113.13 Q1899.32 1104.38 1902.38 1099.79 Q1905.46 1095.19 1911.27 1095.19 Z\" fill=\"#000000\" fill-rule=\"nonzero\" fill-opacity=\"1\" /><path clip-path=\"url(#clip870)\" d=\"M1930.25 1095.81 L1952.47 1095.81 L1952.47 1097.8 L1939.93 1130.37 L1935.04 1130.37 L1946.85 1099.75 L1930.25 1099.75 L1930.25 1095.81 Z\" fill=\"#000000\" fill-rule=\"nonzero\" fill-opacity=\"1\" /><path clip-path=\"url(#clip870)\" d=\"M1961.64 1095.81 L1979.99 1095.81 L1979.99 1099.75 L1965.92 1099.75 L1965.92 1108.22 Q1966.94 1107.87 1967.96 1107.71 Q1968.98 1107.52 1969.99 1107.52 Q1975.78 1107.52 1979.16 1110.7 Q1982.54 1113.87 1982.54 1119.28 Q1982.54 1124.86 1979.07 1127.96 Q1975.6 1131.04 1969.28 1131.04 Q1967.1 1131.04 1964.83 1130.67 Q1962.59 1130.3 1960.18 1129.56 L1960.18 1124.86 Q1962.26 1126 1964.49 1126.55 Q1966.71 1127.11 1969.18 1127.11 Q1973.19 1127.11 1975.53 1125 Q1977.86 1122.89 1977.86 1119.28 Q1977.86 1115.67 1975.53 1113.57 Q1973.19 1111.46 1969.18 1111.46 Q1967.31 1111.46 1965.43 1111.88 Q1963.58 1112.29 1961.64 1113.17 L1961.64 1095.81 Z\" fill=\"#000000\" fill-rule=\"nonzero\" fill-opacity=\"1\" /><polyline clip-path=\"url(#clip872)\" style=\"stroke:#000000; stroke-linecap:round; stroke-linejoin:round; stroke-width:2; stroke-opacity:0.1; fill:none\" points=\"751.057,1148.76 1166.52,788.962 1886.12,996.693 \"/>\n",
       "<polyline clip-path=\"url(#clip872)\" style=\"stroke:#000000; stroke-linecap:round; stroke-linejoin:round; stroke-width:2; stroke-opacity:0.1; fill:none\" points=\"751.057,1028.72 1166.52,668.922 1886.12,876.653 \"/>\n",
       "<polyline clip-path=\"url(#clip872)\" style=\"stroke:#000000; stroke-linecap:round; stroke-linejoin:round; stroke-width:2; stroke-opacity:0.1; fill:none\" points=\"751.057,908.684 1166.52,548.883 1886.12,756.614 \"/>\n",
       "<polyline clip-path=\"url(#clip872)\" style=\"stroke:#000000; stroke-linecap:round; stroke-linejoin:round; stroke-width:2; stroke-opacity:0.1; fill:none\" points=\"751.057,788.644 1166.52,428.843 1886.12,636.574 \"/>\n",
       "<polyline clip-path=\"url(#clip872)\" style=\"stroke:#000000; stroke-linecap:round; stroke-linejoin:round; stroke-width:2; stroke-opacity:0.1; fill:none\" points=\"751.057,668.605 1166.52,308.804 1886.12,516.535 \"/>\n",
       "<polyline clip-path=\"url(#clip872)\" style=\"stroke:#000000; stroke-linecap:round; stroke-linejoin:round; stroke-width:2; stroke-opacity:0.1; fill:none\" points=\"751.057,548.565 1166.52,188.764 1886.12,396.496 \"/>\n",
       "<polyline clip-path=\"url(#clip870)\" style=\"stroke:#000000; stroke-linecap:round; stroke-linejoin:round; stroke-width:4; stroke-opacity:1; fill:none\" points=\"751.057,1202.68 751.057,483.08 \"/>\n",
       "<polyline clip-path=\"url(#clip870)\" style=\"stroke:#000000; stroke-linecap:round; stroke-linejoin:round; stroke-width:4; stroke-opacity:1; fill:none\" points=\"751.057,1148.76 756.042,1144.44 \"/>\n",
       "<polyline clip-path=\"url(#clip870)\" style=\"stroke:#000000; stroke-linecap:round; stroke-linejoin:round; stroke-width:4; stroke-opacity:1; fill:none\" points=\"751.057,1028.72 756.042,1024.41 \"/>\n",
       "<polyline clip-path=\"url(#clip870)\" style=\"stroke:#000000; stroke-linecap:round; stroke-linejoin:round; stroke-width:4; stroke-opacity:1; fill:none\" points=\"751.057,908.684 756.042,904.366 \"/>\n",
       "<polyline clip-path=\"url(#clip870)\" style=\"stroke:#000000; stroke-linecap:round; stroke-linejoin:round; stroke-width:4; stroke-opacity:1; fill:none\" points=\"751.057,788.644 756.042,784.327 \"/>\n",
       "<polyline clip-path=\"url(#clip870)\" style=\"stroke:#000000; stroke-linecap:round; stroke-linejoin:round; stroke-width:4; stroke-opacity:1; fill:none\" points=\"751.057,668.605 756.042,664.287 \"/>\n",
       "<polyline clip-path=\"url(#clip870)\" style=\"stroke:#000000; stroke-linecap:round; stroke-linejoin:round; stroke-width:4; stroke-opacity:1; fill:none\" points=\"751.057,548.565 756.042,544.248 \"/>\n",
       "<path clip-path=\"url(#clip870)\" d=\"M525.823 1149.21 L555.498 1149.21 L555.498 1153.15 L525.823 1153.15 L525.823 1149.21 Z\" fill=\"#000000\" fill-rule=\"nonzero\" fill-opacity=\"1\" /><path clip-path=\"url(#clip870)\" d=\"M575.591 1134.56 Q571.98 1134.56 570.151 1138.13 Q568.345 1141.67 568.345 1148.8 Q568.345 1155.9 570.151 1159.47 Q571.98 1163.01 575.591 1163.01 Q579.225 1163.01 581.031 1159.47 Q582.859 1155.9 582.859 1148.8 Q582.859 1141.67 581.031 1138.13 Q579.225 1134.56 575.591 1134.56 M575.591 1130.86 Q581.401 1130.86 584.456 1135.46 Q587.535 1140.05 587.535 1148.8 Q587.535 1157.52 584.456 1162.13 Q581.401 1166.71 575.591 1166.71 Q569.781 1166.71 566.702 1162.13 Q563.646 1157.52 563.646 1148.8 Q563.646 1140.05 566.702 1135.46 Q569.781 1130.86 575.591 1130.86 Z\" fill=\"#000000\" fill-rule=\"nonzero\" fill-opacity=\"1\" /><path clip-path=\"url(#clip870)\" d=\"M595.753 1160.16 L600.637 1160.16 L600.637 1166.04 L595.753 1166.04 L595.753 1160.16 Z\" fill=\"#000000\" fill-rule=\"nonzero\" fill-opacity=\"1\" /><path clip-path=\"url(#clip870)\" d=\"M620.822 1134.56 Q617.211 1134.56 615.382 1138.13 Q613.577 1141.67 613.577 1148.8 Q613.577 1155.9 615.382 1159.47 Q617.211 1163.01 620.822 1163.01 Q624.456 1163.01 626.262 1159.47 Q628.09 1155.9 628.09 1148.8 Q628.09 1141.67 626.262 1138.13 Q624.456 1134.56 620.822 1134.56 M620.822 1130.86 Q626.632 1130.86 629.688 1135.46 Q632.766 1140.05 632.766 1148.8 Q632.766 1157.52 629.688 1162.13 Q626.632 1166.71 620.822 1166.71 Q615.012 1166.71 611.933 1162.13 Q608.878 1157.52 608.878 1148.8 Q608.878 1140.05 611.933 1135.46 Q615.012 1130.86 620.822 1130.86 Z\" fill=\"#000000\" fill-rule=\"nonzero\" fill-opacity=\"1\" /><path clip-path=\"url(#clip870)\" d=\"M650.984 1134.56 Q647.373 1134.56 645.544 1138.13 Q643.739 1141.67 643.739 1148.8 Q643.739 1155.9 645.544 1159.47 Q647.373 1163.01 650.984 1163.01 Q654.618 1163.01 656.424 1159.47 Q658.252 1155.9 658.252 1148.8 Q658.252 1141.67 656.424 1138.13 Q654.618 1134.56 650.984 1134.56 M650.984 1130.86 Q656.794 1130.86 659.85 1135.46 Q662.928 1140.05 662.928 1148.8 Q662.928 1157.52 659.85 1162.13 Q656.794 1166.71 650.984 1166.71 Q645.174 1166.71 642.095 1162.13 Q639.04 1157.52 639.04 1148.8 Q639.04 1140.05 642.095 1135.46 Q645.174 1130.86 650.984 1130.86 Z\" fill=\"#000000\" fill-rule=\"nonzero\" fill-opacity=\"1\" /><path clip-path=\"url(#clip870)\" d=\"M669.965 1131.48 L692.187 1131.48 L692.187 1133.47 L679.641 1166.04 L674.757 1166.04 L686.562 1135.42 L669.965 1135.42 L669.965 1131.48 Z\" fill=\"#000000\" fill-rule=\"nonzero\" fill-opacity=\"1\" /><path clip-path=\"url(#clip870)\" d=\"M701.354 1131.48 L719.71 1131.48 L719.71 1135.42 L705.636 1135.42 L705.636 1143.89 Q706.655 1143.54 707.673 1143.38 Q708.692 1143.2 709.71 1143.2 Q715.497 1143.2 718.877 1146.37 Q722.257 1149.54 722.257 1154.95 Q722.257 1160.53 718.784 1163.64 Q715.312 1166.71 708.993 1166.71 Q706.817 1166.71 704.548 1166.34 Q702.303 1165.97 699.896 1165.23 L699.896 1160.53 Q701.979 1161.67 704.201 1162.22 Q706.423 1162.78 708.9 1162.78 Q712.905 1162.78 715.243 1160.67 Q717.581 1158.57 717.581 1154.95 Q717.581 1151.34 715.243 1149.24 Q712.905 1147.13 708.9 1147.13 Q707.025 1147.13 705.15 1147.55 Q703.298 1147.96 701.354 1148.84 L701.354 1131.48 Z\" fill=\"#000000\" fill-rule=\"nonzero\" fill-opacity=\"1\" /><path clip-path=\"url(#clip870)\" d=\"M524.827 1029.17 L554.503 1029.17 L554.503 1033.11 L524.827 1033.11 L524.827 1029.17 Z\" fill=\"#000000\" fill-rule=\"nonzero\" fill-opacity=\"1\" /><path clip-path=\"url(#clip870)\" d=\"M574.595 1014.52 Q570.984 1014.52 569.156 1018.09 Q567.35 1021.63 567.35 1028.76 Q567.35 1035.86 569.156 1039.43 Q570.984 1042.97 574.595 1042.97 Q578.23 1042.97 580.035 1039.43 Q581.864 1035.86 581.864 1028.76 Q581.864 1021.63 580.035 1018.09 Q578.23 1014.52 574.595 1014.52 M574.595 1010.82 Q580.406 1010.82 583.461 1015.42 Q586.54 1020.01 586.54 1028.76 Q586.54 1037.48 583.461 1042.09 Q580.406 1046.67 574.595 1046.67 Q568.785 1046.67 565.707 1042.09 Q562.651 1037.48 562.651 1028.76 Q562.651 1020.01 565.707 1015.42 Q568.785 1010.82 574.595 1010.82 Z\" fill=\"#000000\" fill-rule=\"nonzero\" fill-opacity=\"1\" /><path clip-path=\"url(#clip870)\" d=\"M594.757 1040.12 L599.642 1040.12 L599.642 1046 L594.757 1046 L594.757 1040.12 Z\" fill=\"#000000\" fill-rule=\"nonzero\" fill-opacity=\"1\" /><path clip-path=\"url(#clip870)\" d=\"M619.827 1014.52 Q616.216 1014.52 614.387 1018.09 Q612.581 1021.63 612.581 1028.76 Q612.581 1035.86 614.387 1039.43 Q616.216 1042.97 619.827 1042.97 Q623.461 1042.97 625.266 1039.43 Q627.095 1035.86 627.095 1028.76 Q627.095 1021.63 625.266 1018.09 Q623.461 1014.52 619.827 1014.52 M619.827 1010.82 Q625.637 1010.82 628.692 1015.42 Q631.771 1020.01 631.771 1028.76 Q631.771 1037.48 628.692 1042.09 Q625.637 1046.67 619.827 1046.67 Q614.016 1046.67 610.938 1042.09 Q607.882 1037.48 607.882 1028.76 Q607.882 1020.01 610.938 1015.42 Q614.016 1010.82 619.827 1010.82 Z\" fill=\"#000000\" fill-rule=\"nonzero\" fill-opacity=\"1\" /><path clip-path=\"url(#clip870)\" d=\"M649.989 1014.52 Q646.377 1014.52 644.549 1018.09 Q642.743 1021.63 642.743 1028.76 Q642.743 1035.86 644.549 1039.43 Q646.377 1042.97 649.989 1042.97 Q653.623 1042.97 655.428 1039.43 Q657.257 1035.86 657.257 1028.76 Q657.257 1021.63 655.428 1018.09 Q653.623 1014.52 649.989 1014.52 M649.989 1010.82 Q655.799 1010.82 658.854 1015.42 Q661.933 1020.01 661.933 1028.76 Q661.933 1037.48 658.854 1042.09 Q655.799 1046.67 649.989 1046.67 Q644.178 1046.67 641.1 1042.09 Q638.044 1037.48 638.044 1028.76 Q638.044 1020.01 641.1 1015.42 Q644.178 1010.82 649.989 1010.82 Z\" fill=\"#000000\" fill-rule=\"nonzero\" fill-opacity=\"1\" /><path clip-path=\"url(#clip870)\" d=\"M670.197 1011.44 L688.553 1011.44 L688.553 1015.38 L674.479 1015.38 L674.479 1023.85 Q675.498 1023.5 676.516 1023.34 Q677.535 1023.16 678.553 1023.16 Q684.34 1023.16 687.72 1026.33 Q691.099 1029.5 691.099 1034.92 Q691.099 1040.49 687.627 1043.6 Q684.155 1046.67 677.836 1046.67 Q675.66 1046.67 673.391 1046.3 Q671.146 1045.93 668.738 1045.19 L668.738 1040.49 Q670.822 1041.63 673.044 1042.18 Q675.266 1042.74 677.743 1042.74 Q681.748 1042.74 684.086 1040.63 Q686.424 1038.53 686.424 1034.92 Q686.424 1031.3 684.086 1029.2 Q681.748 1027.09 677.743 1027.09 Q675.868 1027.09 673.993 1027.51 Q672.141 1027.92 670.197 1028.8 L670.197 1011.44 Z\" fill=\"#000000\" fill-rule=\"nonzero\" fill-opacity=\"1\" /><path clip-path=\"url(#clip870)\" d=\"M710.312 1014.52 Q706.701 1014.52 704.872 1018.09 Q703.067 1021.63 703.067 1028.76 Q703.067 1035.86 704.872 1039.43 Q706.701 1042.97 710.312 1042.97 Q713.947 1042.97 715.752 1039.43 Q717.581 1035.86 717.581 1028.76 Q717.581 1021.63 715.752 1018.09 Q713.947 1014.52 710.312 1014.52 M710.312 1010.82 Q716.122 1010.82 719.178 1015.42 Q722.257 1020.01 722.257 1028.76 Q722.257 1037.48 719.178 1042.09 Q716.122 1046.67 710.312 1046.67 Q704.502 1046.67 701.423 1042.09 Q698.368 1037.48 698.368 1028.76 Q698.368 1020.01 701.423 1015.42 Q704.502 1010.82 710.312 1010.82 Z\" fill=\"#000000\" fill-rule=\"nonzero\" fill-opacity=\"1\" /><path clip-path=\"url(#clip870)\" d=\"M525.823 909.135 L555.498 909.135 L555.498 913.07 L525.823 913.07 L525.823 909.135 Z\" fill=\"#000000\" fill-rule=\"nonzero\" fill-opacity=\"1\" /><path clip-path=\"url(#clip870)\" d=\"M575.591 894.482 Q571.98 894.482 570.151 898.047 Q568.345 901.589 568.345 908.718 Q568.345 915.825 570.151 919.39 Q571.98 922.931 575.591 922.931 Q579.225 922.931 581.031 919.39 Q582.859 915.825 582.859 908.718 Q582.859 901.589 581.031 898.047 Q579.225 894.482 575.591 894.482 M575.591 890.779 Q581.401 890.779 584.456 895.385 Q587.535 899.968 587.535 908.718 Q587.535 917.445 584.456 922.052 Q581.401 926.635 575.591 926.635 Q569.781 926.635 566.702 922.052 Q563.646 917.445 563.646 908.718 Q563.646 899.968 566.702 895.385 Q569.781 890.779 575.591 890.779 Z\" fill=\"#000000\" fill-rule=\"nonzero\" fill-opacity=\"1\" /><path clip-path=\"url(#clip870)\" d=\"M595.753 920.084 L600.637 920.084 L600.637 925.964 L595.753 925.964 L595.753 920.084 Z\" fill=\"#000000\" fill-rule=\"nonzero\" fill-opacity=\"1\" /><path clip-path=\"url(#clip870)\" d=\"M620.822 894.482 Q617.211 894.482 615.382 898.047 Q613.577 901.589 613.577 908.718 Q613.577 915.825 615.382 919.39 Q617.211 922.931 620.822 922.931 Q624.456 922.931 626.262 919.39 Q628.09 915.825 628.09 908.718 Q628.09 901.589 626.262 898.047 Q624.456 894.482 620.822 894.482 M620.822 890.779 Q626.632 890.779 629.688 895.385 Q632.766 899.968 632.766 908.718 Q632.766 917.445 629.688 922.052 Q626.632 926.635 620.822 926.635 Q615.012 926.635 611.933 922.052 Q608.878 917.445 608.878 908.718 Q608.878 899.968 611.933 895.385 Q615.012 890.779 620.822 890.779 Z\" fill=\"#000000\" fill-rule=\"nonzero\" fill-opacity=\"1\" /><path clip-path=\"url(#clip870)\" d=\"M650.984 894.482 Q647.373 894.482 645.544 898.047 Q643.739 901.589 643.739 908.718 Q643.739 915.825 645.544 919.39 Q647.373 922.931 650.984 922.931 Q654.618 922.931 656.424 919.39 Q658.252 915.825 658.252 908.718 Q658.252 901.589 656.424 898.047 Q654.618 894.482 650.984 894.482 M650.984 890.779 Q656.794 890.779 659.85 895.385 Q662.928 899.968 662.928 908.718 Q662.928 917.445 659.85 922.052 Q656.794 926.635 650.984 926.635 Q645.174 926.635 642.095 922.052 Q639.04 917.445 639.04 908.718 Q639.04 899.968 642.095 895.385 Q645.174 890.779 650.984 890.779 Z\" fill=\"#000000\" fill-rule=\"nonzero\" fill-opacity=\"1\" /><path clip-path=\"url(#clip870)\" d=\"M675.174 922.028 L691.493 922.028 L691.493 925.964 L669.549 925.964 L669.549 922.028 Q672.211 919.274 676.794 914.644 Q681.4 909.991 682.581 908.649 Q684.826 906.126 685.706 904.39 Q686.609 902.63 686.609 900.941 Q686.609 898.186 684.664 896.45 Q682.743 894.714 679.641 894.714 Q677.442 894.714 674.988 895.478 Q672.558 896.242 669.78 897.792 L669.78 893.07 Q672.604 891.936 675.058 891.357 Q677.512 890.779 679.549 890.779 Q684.919 890.779 688.113 893.464 Q691.308 896.149 691.308 900.64 Q691.308 902.769 690.498 904.691 Q689.711 906.589 687.604 909.181 Q687.025 909.853 683.924 913.07 Q680.822 916.265 675.174 922.028 Z\" fill=\"#000000\" fill-rule=\"nonzero\" fill-opacity=\"1\" /><path clip-path=\"url(#clip870)\" d=\"M701.354 891.404 L719.71 891.404 L719.71 895.339 L705.636 895.339 L705.636 903.811 Q706.655 903.464 707.673 903.302 Q708.692 903.117 709.71 903.117 Q715.497 903.117 718.877 906.288 Q722.257 909.459 722.257 914.876 Q722.257 920.454 718.784 923.556 Q715.312 926.635 708.993 926.635 Q706.817 926.635 704.548 926.265 Q702.303 925.894 699.896 925.153 L699.896 920.454 Q701.979 921.589 704.201 922.144 Q706.423 922.7 708.9 922.7 Q712.905 922.7 715.243 920.593 Q717.581 918.487 717.581 914.876 Q717.581 911.265 715.243 909.158 Q712.905 907.052 708.9 907.052 Q707.025 907.052 705.15 907.468 Q703.298 907.885 701.354 908.765 L701.354 891.404 Z\" fill=\"#000000\" fill-rule=\"nonzero\" fill-opacity=\"1\" /><path clip-path=\"url(#clip870)\" d=\"M574.595 774.443 Q570.984 774.443 569.156 778.008 Q567.35 781.549 567.35 788.679 Q567.35 795.785 569.156 799.35 Q570.984 802.892 574.595 802.892 Q578.23 802.892 580.035 799.35 Q581.864 795.785 581.864 788.679 Q581.864 781.549 580.035 778.008 Q578.23 774.443 574.595 774.443 M574.595 770.739 Q580.406 770.739 583.461 775.346 Q586.54 779.929 586.54 788.679 Q586.54 797.406 583.461 802.012 Q580.406 806.595 574.595 806.595 Q568.785 806.595 565.707 802.012 Q562.651 797.406 562.651 788.679 Q562.651 779.929 565.707 775.346 Q568.785 770.739 574.595 770.739 Z\" fill=\"#000000\" fill-rule=\"nonzero\" fill-opacity=\"1\" /><path clip-path=\"url(#clip870)\" d=\"M594.757 800.045 L599.642 800.045 L599.642 805.924 L594.757 805.924 L594.757 800.045 Z\" fill=\"#000000\" fill-rule=\"nonzero\" fill-opacity=\"1\" /><path clip-path=\"url(#clip870)\" d=\"M619.827 774.443 Q616.216 774.443 614.387 778.008 Q612.581 781.549 612.581 788.679 Q612.581 795.785 614.387 799.35 Q616.216 802.892 619.827 802.892 Q623.461 802.892 625.266 799.35 Q627.095 795.785 627.095 788.679 Q627.095 781.549 625.266 778.008 Q623.461 774.443 619.827 774.443 M619.827 770.739 Q625.637 770.739 628.692 775.346 Q631.771 779.929 631.771 788.679 Q631.771 797.406 628.692 802.012 Q625.637 806.595 619.827 806.595 Q614.016 806.595 610.938 802.012 Q607.882 797.406 607.882 788.679 Q607.882 779.929 610.938 775.346 Q614.016 770.739 619.827 770.739 Z\" fill=\"#000000\" fill-rule=\"nonzero\" fill-opacity=\"1\" /><path clip-path=\"url(#clip870)\" d=\"M649.989 774.443 Q646.377 774.443 644.549 778.008 Q642.743 781.549 642.743 788.679 Q642.743 795.785 644.549 799.35 Q646.377 802.892 649.989 802.892 Q653.623 802.892 655.428 799.35 Q657.257 795.785 657.257 788.679 Q657.257 781.549 655.428 778.008 Q653.623 774.443 649.989 774.443 M649.989 770.739 Q655.799 770.739 658.854 775.346 Q661.933 779.929 661.933 788.679 Q661.933 797.406 658.854 802.012 Q655.799 806.595 649.989 806.595 Q644.178 806.595 641.1 802.012 Q638.044 797.406 638.044 788.679 Q638.044 779.929 641.1 775.346 Q644.178 770.739 649.989 770.739 Z\" fill=\"#000000\" fill-rule=\"nonzero\" fill-opacity=\"1\" /><path clip-path=\"url(#clip870)\" d=\"M680.15 774.443 Q676.539 774.443 674.711 778.008 Q672.905 781.549 672.905 788.679 Q672.905 795.785 674.711 799.35 Q676.539 802.892 680.15 802.892 Q683.785 802.892 685.59 799.35 Q687.419 795.785 687.419 788.679 Q687.419 781.549 685.59 778.008 Q683.785 774.443 680.15 774.443 M680.15 770.739 Q685.961 770.739 689.016 775.346 Q692.095 779.929 692.095 788.679 Q692.095 797.406 689.016 802.012 Q685.961 806.595 680.15 806.595 Q674.34 806.595 671.262 802.012 Q668.206 797.406 668.206 788.679 Q668.206 779.929 671.262 775.346 Q674.34 770.739 680.15 770.739 Z\" fill=\"#000000\" fill-rule=\"nonzero\" fill-opacity=\"1\" /><path clip-path=\"url(#clip870)\" d=\"M710.312 774.443 Q706.701 774.443 704.872 778.008 Q703.067 781.549 703.067 788.679 Q703.067 795.785 704.872 799.35 Q706.701 802.892 710.312 802.892 Q713.947 802.892 715.752 799.35 Q717.581 795.785 717.581 788.679 Q717.581 781.549 715.752 778.008 Q713.947 774.443 710.312 774.443 M710.312 770.739 Q716.122 770.739 719.178 775.346 Q722.257 779.929 722.257 788.679 Q722.257 797.406 719.178 802.012 Q716.122 806.595 710.312 806.595 Q704.502 806.595 701.423 802.012 Q698.368 797.406 698.368 788.679 Q698.368 779.929 701.423 775.346 Q704.502 770.739 710.312 770.739 Z\" fill=\"#000000\" fill-rule=\"nonzero\" fill-opacity=\"1\" /><path clip-path=\"url(#clip870)\" d=\"M575.591 654.403 Q571.98 654.403 570.151 657.968 Q568.345 661.51 568.345 668.639 Q568.345 675.746 570.151 679.311 Q571.98 682.852 575.591 682.852 Q579.225 682.852 581.031 679.311 Q582.859 675.746 582.859 668.639 Q582.859 661.51 581.031 657.968 Q579.225 654.403 575.591 654.403 M575.591 650.7 Q581.401 650.7 584.456 655.306 Q587.535 659.889 587.535 668.639 Q587.535 677.366 584.456 681.973 Q581.401 686.556 575.591 686.556 Q569.781 686.556 566.702 681.973 Q563.646 677.366 563.646 668.639 Q563.646 659.889 566.702 655.306 Q569.781 650.7 575.591 650.7 Z\" fill=\"#000000\" fill-rule=\"nonzero\" fill-opacity=\"1\" /><path clip-path=\"url(#clip870)\" d=\"M595.753 680.005 L600.637 680.005 L600.637 685.885 L595.753 685.885 L595.753 680.005 Z\" fill=\"#000000\" fill-rule=\"nonzero\" fill-opacity=\"1\" /><path clip-path=\"url(#clip870)\" d=\"M620.822 654.403 Q617.211 654.403 615.382 657.968 Q613.577 661.51 613.577 668.639 Q613.577 675.746 615.382 679.311 Q617.211 682.852 620.822 682.852 Q624.456 682.852 626.262 679.311 Q628.09 675.746 628.09 668.639 Q628.09 661.51 626.262 657.968 Q624.456 654.403 620.822 654.403 M620.822 650.7 Q626.632 650.7 629.688 655.306 Q632.766 659.889 632.766 668.639 Q632.766 677.366 629.688 681.973 Q626.632 686.556 620.822 686.556 Q615.012 686.556 611.933 681.973 Q608.878 677.366 608.878 668.639 Q608.878 659.889 611.933 655.306 Q615.012 650.7 620.822 650.7 Z\" fill=\"#000000\" fill-rule=\"nonzero\" fill-opacity=\"1\" /><path clip-path=\"url(#clip870)\" d=\"M650.984 654.403 Q647.373 654.403 645.544 657.968 Q643.739 661.51 643.739 668.639 Q643.739 675.746 645.544 679.311 Q647.373 682.852 650.984 682.852 Q654.618 682.852 656.424 679.311 Q658.252 675.746 658.252 668.639 Q658.252 661.51 656.424 657.968 Q654.618 654.403 650.984 654.403 M650.984 650.7 Q656.794 650.7 659.85 655.306 Q662.928 659.889 662.928 668.639 Q662.928 677.366 659.85 681.973 Q656.794 686.556 650.984 686.556 Q645.174 686.556 642.095 681.973 Q639.04 677.366 639.04 668.639 Q639.04 659.889 642.095 655.306 Q645.174 650.7 650.984 650.7 Z\" fill=\"#000000\" fill-rule=\"nonzero\" fill-opacity=\"1\" /><path clip-path=\"url(#clip870)\" d=\"M675.174 681.95 L691.493 681.95 L691.493 685.885 L669.549 685.885 L669.549 681.95 Q672.211 679.195 676.794 674.565 Q681.4 669.913 682.581 668.57 Q684.826 666.047 685.706 664.311 Q686.609 662.552 686.609 660.862 Q686.609 658.107 684.664 656.371 Q682.743 654.635 679.641 654.635 Q677.442 654.635 674.988 655.399 Q672.558 656.163 669.78 657.714 L669.78 652.991 Q672.604 651.857 675.058 651.278 Q677.512 650.7 679.549 650.7 Q684.919 650.7 688.113 653.385 Q691.308 656.07 691.308 660.561 Q691.308 662.69 690.498 664.612 Q689.711 666.51 687.604 669.102 Q687.025 669.774 683.924 672.991 Q680.822 676.186 675.174 681.95 Z\" fill=\"#000000\" fill-rule=\"nonzero\" fill-opacity=\"1\" /><path clip-path=\"url(#clip870)\" d=\"M701.354 651.325 L719.71 651.325 L719.71 655.26 L705.636 655.26 L705.636 663.732 Q706.655 663.385 707.673 663.223 Q708.692 663.038 709.71 663.038 Q715.497 663.038 718.877 666.209 Q722.257 669.38 722.257 674.797 Q722.257 680.376 718.784 683.477 Q715.312 686.556 708.993 686.556 Q706.817 686.556 704.548 686.186 Q702.303 685.815 699.896 685.075 L699.896 680.376 Q701.979 681.51 704.201 682.065 Q706.423 682.621 708.9 682.621 Q712.905 682.621 715.243 680.514 Q717.581 678.408 717.581 674.797 Q717.581 671.186 715.243 669.079 Q712.905 666.973 708.9 666.973 Q707.025 666.973 705.15 667.389 Q703.298 667.806 701.354 668.686 L701.354 651.325 Z\" fill=\"#000000\" fill-rule=\"nonzero\" fill-opacity=\"1\" /><path clip-path=\"url(#clip870)\" d=\"M574.595 534.364 Q570.984 534.364 569.156 537.929 Q567.35 541.47 567.35 548.6 Q567.35 555.706 569.156 559.271 Q570.984 562.813 574.595 562.813 Q578.23 562.813 580.035 559.271 Q581.864 555.706 581.864 548.6 Q581.864 541.47 580.035 537.929 Q578.23 534.364 574.595 534.364 M574.595 530.66 Q580.406 530.66 583.461 535.267 Q586.54 539.85 586.54 548.6 Q586.54 557.327 583.461 561.933 Q580.406 566.517 574.595 566.517 Q568.785 566.517 565.707 561.933 Q562.651 557.327 562.651 548.6 Q562.651 539.85 565.707 535.267 Q568.785 530.66 574.595 530.66 Z\" fill=\"#000000\" fill-rule=\"nonzero\" fill-opacity=\"1\" /><path clip-path=\"url(#clip870)\" d=\"M594.757 559.966 L599.642 559.966 L599.642 565.845 L594.757 565.845 L594.757 559.966 Z\" fill=\"#000000\" fill-rule=\"nonzero\" fill-opacity=\"1\" /><path clip-path=\"url(#clip870)\" d=\"M619.827 534.364 Q616.216 534.364 614.387 537.929 Q612.581 541.47 612.581 548.6 Q612.581 555.706 614.387 559.271 Q616.216 562.813 619.827 562.813 Q623.461 562.813 625.266 559.271 Q627.095 555.706 627.095 548.6 Q627.095 541.47 625.266 537.929 Q623.461 534.364 619.827 534.364 M619.827 530.66 Q625.637 530.66 628.692 535.267 Q631.771 539.85 631.771 548.6 Q631.771 557.327 628.692 561.933 Q625.637 566.517 619.827 566.517 Q614.016 566.517 610.938 561.933 Q607.882 557.327 607.882 548.6 Q607.882 539.85 610.938 535.267 Q614.016 530.66 619.827 530.66 Z\" fill=\"#000000\" fill-rule=\"nonzero\" fill-opacity=\"1\" /><path clip-path=\"url(#clip870)\" d=\"M649.989 534.364 Q646.377 534.364 644.549 537.929 Q642.743 541.47 642.743 548.6 Q642.743 555.706 644.549 559.271 Q646.377 562.813 649.989 562.813 Q653.623 562.813 655.428 559.271 Q657.257 555.706 657.257 548.6 Q657.257 541.47 655.428 537.929 Q653.623 534.364 649.989 534.364 M649.989 530.66 Q655.799 530.66 658.854 535.267 Q661.933 539.85 661.933 548.6 Q661.933 557.327 658.854 561.933 Q655.799 566.517 649.989 566.517 Q644.178 566.517 641.1 561.933 Q638.044 557.327 638.044 548.6 Q638.044 539.85 641.1 535.267 Q644.178 530.66 649.989 530.66 Z\" fill=\"#000000\" fill-rule=\"nonzero\" fill-opacity=\"1\" /><path clip-path=\"url(#clip870)\" d=\"M670.197 531.285 L688.553 531.285 L688.553 535.22 L674.479 535.22 L674.479 543.693 Q675.498 543.345 676.516 543.183 Q677.535 542.998 678.553 542.998 Q684.34 542.998 687.72 546.169 Q691.099 549.341 691.099 554.757 Q691.099 560.336 687.627 563.438 Q684.155 566.517 677.836 566.517 Q675.66 566.517 673.391 566.146 Q671.146 565.776 668.738 565.035 L668.738 560.336 Q670.822 561.47 673.044 562.026 Q675.266 562.581 677.743 562.581 Q681.748 562.581 684.086 560.475 Q686.424 558.368 686.424 554.757 Q686.424 551.146 684.086 549.04 Q681.748 546.933 677.743 546.933 Q675.868 546.933 673.993 547.35 Q672.141 547.767 670.197 548.646 L670.197 531.285 Z\" fill=\"#000000\" fill-rule=\"nonzero\" fill-opacity=\"1\" /><path clip-path=\"url(#clip870)\" d=\"M710.312 534.364 Q706.701 534.364 704.872 537.929 Q703.067 541.47 703.067 548.6 Q703.067 555.706 704.872 559.271 Q706.701 562.813 710.312 562.813 Q713.947 562.813 715.752 559.271 Q717.581 555.706 717.581 548.6 Q717.581 541.47 715.752 537.929 Q713.947 534.364 710.312 534.364 M710.312 530.66 Q716.122 530.66 719.178 535.267 Q722.257 539.85 722.257 548.6 Q722.257 557.327 719.178 561.933 Q716.122 566.517 710.312 566.517 Q704.502 566.517 701.423 561.933 Q698.368 557.327 698.368 548.6 Q698.368 539.85 701.423 535.267 Q704.502 530.66 710.312 530.66 Z\" fill=\"#000000\" fill-rule=\"nonzero\" fill-opacity=\"1\" /><polyline clip-path=\"url(#clip872)\" style=\"stroke:#009af9; stroke-linecap:round; stroke-linejoin:round; stroke-width:4; stroke-opacity:1; fill:none\" points=\"979.153,329.425 985.423,324.225 993.228,318.388 1001.71,312.838 1011.17,307.63 1021.26,303.203 1032.01,299.775 1043.32,297.598 1055.21,296.867 1067.68,297.763 1080.85,300.465 1094.81,305.151 1109.73,312.022 1125.77,321.28 1143.13,333.142 1161.92,347.74 1182.17,365.097 1203.95,385.243 1227.35,408.193 1252.48,433.992 1279.41,462.707 1308.19,494.356 1338.85,529.027 1371.32,566.743 1405.45,607.479 1440.63,650.732 1476.18,695.979 1511.22,742.425 1544.96,789.395 1576.7,836.318 1605.74,882.62 1631.47,927.774 1653.38,971.412 1670.95,1013.04 1683.73,1052.26 1691.32,1088.63 1693.43,1121.76 1689.83,1151.27 1680.41,1176.81 1665.19,1198.06 1644.29,1214.81 1617.97,1226.85 1586.59,1234.07 1550.61,1236.42 1510.57,1233.89 1467.12,1226.57 1420.97,1214.56 1372.92,1198.09 1323.76,1177.4 1274.36,1152.85 1225.54,1124.81 1178.04,1093.7 1132.58,1059.96 1089.72,1024 1049.95,986.247 1013.62,947.045 981.01,906.707 952.313,865.488 927.748,823.755 907.774,782.611 892.543,743.36 881.574,706.447 874.295,672.216 870.1,641.115 868.251,611.033 868.549,582.154 870.78,554.446 874.743,527.955 880.24,502.718 887.088,478.743 895.116,456.039 904.166,434.626 914.097,414.52 924.996,395.397 936.562,377.696 948.398,361.839 960.397,347.775 972.444,335.502 979.153,329.425 \"/>\n",
       "<path clip-path=\"url(#clip870)\" d=\"M2024.55 198.898 L2283.81 198.898 L2283.81 95.2176 L2024.55 95.2176  Z\" fill=\"#ffffff\" fill-rule=\"evenodd\" fill-opacity=\"1\"/>\n",
       "<polyline clip-path=\"url(#clip870)\" style=\"stroke:#000000; stroke-linecap:round; stroke-linejoin:round; stroke-width:4; stroke-opacity:1; fill:none\" points=\"2024.55,198.898 2283.81,198.898 2283.81,95.2176 2024.55,95.2176 2024.55,198.898 \"/>\n",
       "<polyline clip-path=\"url(#clip870)\" style=\"stroke:#009af9; stroke-linecap:round; stroke-linejoin:round; stroke-width:4; stroke-opacity:1; fill:none\" points=\"2047.53,147.058 2185.42,147.058 \"/>\n",
       "<path clip-path=\"url(#clip870)\" d=\"M2222.24 166.745 Q2220.44 171.375 2218.72 172.787 Q2217.01 174.199 2214.14 174.199 L2210.74 174.199 L2210.74 170.634 L2213.24 170.634 Q2215 170.634 2215.97 169.8 Q2216.94 168.967 2218.12 165.865 L2218.89 163.921 L2208.4 138.412 L2212.91 138.412 L2221.02 158.689 L2229.12 138.412 L2233.63 138.412 L2222.24 166.745 Z\" fill=\"#000000\" fill-rule=\"nonzero\" fill-opacity=\"1\" /><path clip-path=\"url(#clip870)\" d=\"M2240.92 160.402 L2248.56 160.402 L2248.56 134.037 L2240.25 135.703 L2240.25 131.444 L2248.52 129.778 L2253.19 129.778 L2253.19 160.402 L2260.83 160.402 L2260.83 164.338 L2240.92 164.338 L2240.92 160.402 Z\" fill=\"#000000\" fill-rule=\"nonzero\" fill-opacity=\"1\" /></svg>\n"
      ],
      "text/html": [
       "<?xml version=\"1.0\" encoding=\"utf-8\"?>\n",
       "<svg xmlns=\"http://www.w3.org/2000/svg\" xmlns:xlink=\"http://www.w3.org/1999/xlink\" width=\"600\" height=\"400\" viewBox=\"0 0 2400 1600\">\n",
       "<defs>\n",
       "  <clipPath id=\"clip920\">\n",
       "    <rect x=\"0\" y=\"0\" width=\"2400\" height=\"1600\"/>\n",
       "  </clipPath>\n",
       "</defs>\n",
       "<path clip-path=\"url(#clip920)\" d=\"M0 1600 L2400 1600 L2400 0 L0 0  Z\" fill=\"#ffffff\" fill-rule=\"evenodd\" fill-opacity=\"1\"/>\n",
       "<defs>\n",
       "  <clipPath id=\"clip921\">\n",
       "    <rect x=\"480\" y=\"0\" width=\"1681\" height=\"1600\"/>\n",
       "  </clipPath>\n",
       "</defs>\n",
       "<defs>\n",
       "  <clipPath id=\"clip922\">\n",
       "    <rect x=\"284\" y=\"47\" width=\"2069\" height=\"1440\"/>\n",
       "  </clipPath>\n",
       "</defs>\n",
       "<path clip-path=\"url(#clip922)\" d=\"M-53333.6 5451.03 L-53333.6 -2282.95 L-40412.7 -6149.95 L-18033.1 -3917.34 L-18033.1 3816.65 L-30954 7683.65 L-53333.6 5451.03  Z\" fill=\"#ffffff\" fill-rule=\"evenodd\" fill-opacity=\"1\"/>\n",
       "<polyline clip-path=\"url(#clip922)\" style=\"stroke:#000000; stroke-linecap:round; stroke-linejoin:round; stroke-width:2; stroke-opacity:0.1; fill:none\" points=\"769.971,1208.14 1185.43,848.341 1185.43,128.739 \"/>\n",
       "<polyline clip-path=\"url(#clip922)\" style=\"stroke:#000000; stroke-linecap:round; stroke-linejoin:round; stroke-width:2; stroke-opacity:0.1; fill:none\" points=\"881.869,1240.44 1297.33,880.643 1297.33,161.041 \"/>\n",
       "<polyline clip-path=\"url(#clip922)\" style=\"stroke:#000000; stroke-linecap:round; stroke-linejoin:round; stroke-width:2; stroke-opacity:0.1; fill:none\" points=\"993.767,1272.75 1409.23,912.945 1409.23,193.344 \"/>\n",
       "<polyline clip-path=\"url(#clip922)\" style=\"stroke:#000000; stroke-linecap:round; stroke-linejoin:round; stroke-width:2; stroke-opacity:0.1; fill:none\" points=\"1105.67,1305.05 1521.13,945.248 1521.13,225.646 \"/>\n",
       "<polyline clip-path=\"url(#clip922)\" style=\"stroke:#000000; stroke-linecap:round; stroke-linejoin:round; stroke-width:2; stroke-opacity:0.1; fill:none\" points=\"1217.56,1337.35 1633.03,977.55 1633.03,257.948 \"/>\n",
       "<polyline clip-path=\"url(#clip922)\" style=\"stroke:#000000; stroke-linecap:round; stroke-linejoin:round; stroke-width:2; stroke-opacity:0.1; fill:none\" points=\"1329.46,1369.65 1744.92,1009.85 1744.92,290.25 \"/>\n",
       "<polyline clip-path=\"url(#clip922)\" style=\"stroke:#000000; stroke-linecap:round; stroke-linejoin:round; stroke-width:2; stroke-opacity:0.1; fill:none\" points=\"1441.36,1401.96 1856.82,1042.15 1856.82,322.552 \"/>\n",
       "<polyline clip-path=\"url(#clip920)\" style=\"stroke:#000000; stroke-linecap:round; stroke-linejoin:round; stroke-width:4; stroke-opacity:1; fill:none\" points=\"751.057,1202.68 1470.66,1410.41 \"/>\n",
       "<polyline clip-path=\"url(#clip920)\" style=\"stroke:#000000; stroke-linecap:round; stroke-linejoin:round; stroke-width:4; stroke-opacity:1; fill:none\" points=\"769.971,1208.14 774.957,1203.82 \"/>\n",
       "<polyline clip-path=\"url(#clip920)\" style=\"stroke:#000000; stroke-linecap:round; stroke-linejoin:round; stroke-width:4; stroke-opacity:1; fill:none\" points=\"881.869,1240.44 886.855,1236.13 \"/>\n",
       "<polyline clip-path=\"url(#clip920)\" style=\"stroke:#000000; stroke-linecap:round; stroke-linejoin:round; stroke-width:4; stroke-opacity:1; fill:none\" points=\"993.767,1272.75 998.753,1268.43 \"/>\n",
       "<polyline clip-path=\"url(#clip920)\" style=\"stroke:#000000; stroke-linecap:round; stroke-linejoin:round; stroke-width:4; stroke-opacity:1; fill:none\" points=\"1105.67,1305.05 1110.65,1300.73 \"/>\n",
       "<polyline clip-path=\"url(#clip920)\" style=\"stroke:#000000; stroke-linecap:round; stroke-linejoin:round; stroke-width:4; stroke-opacity:1; fill:none\" points=\"1217.56,1337.35 1222.55,1333.03 \"/>\n",
       "<polyline clip-path=\"url(#clip920)\" style=\"stroke:#000000; stroke-linecap:round; stroke-linejoin:round; stroke-width:4; stroke-opacity:1; fill:none\" points=\"1329.46,1369.65 1334.45,1365.34 \"/>\n",
       "<polyline clip-path=\"url(#clip920)\" style=\"stroke:#000000; stroke-linecap:round; stroke-linejoin:round; stroke-width:4; stroke-opacity:1; fill:none\" points=\"1441.36,1401.96 1446.35,1397.64 \"/>\n",
       "<path clip-path=\"url(#clip920)\" d=\"M672.182 1250.14 L679.821 1250.14 L679.821 1223.78 L671.511 1225.45 L671.511 1221.19 L679.775 1219.52 L684.451 1219.52 L684.451 1250.14 L692.089 1250.14 L692.089 1254.08 L672.182 1254.08 L672.182 1250.14 Z\" fill=\"#000000\" fill-rule=\"nonzero\" fill-opacity=\"1\" /><path clip-path=\"url(#clip920)\" d=\"M701.534 1248.2 L706.418 1248.2 L706.418 1254.08 L701.534 1254.08 L701.534 1248.2 Z\" fill=\"#000000\" fill-rule=\"nonzero\" fill-opacity=\"1\" /><path clip-path=\"url(#clip920)\" d=\"M717.413 1250.14 L725.052 1250.14 L725.052 1223.78 L716.742 1225.45 L716.742 1221.19 L725.006 1219.52 L729.682 1219.52 L729.682 1250.14 L737.321 1250.14 L737.321 1254.08 L717.413 1254.08 L717.413 1250.14 Z\" fill=\"#000000\" fill-rule=\"nonzero\" fill-opacity=\"1\" /><path clip-path=\"url(#clip920)\" d=\"M750.793 1250.14 L767.112 1250.14 L767.112 1254.08 L745.168 1254.08 L745.168 1250.14 Q747.83 1247.39 752.413 1242.76 Q757.02 1238.11 758.2 1236.76 Q760.446 1234.24 761.325 1232.51 Q762.228 1230.75 762.228 1229.06 Q762.228 1226.3 760.284 1224.57 Q758.362 1222.83 755.26 1222.83 Q753.061 1222.83 750.608 1223.59 Q748.177 1224.36 745.399 1225.91 L745.399 1221.19 Q748.223 1220.05 750.677 1219.47 Q753.131 1218.89 755.168 1218.89 Q760.538 1218.89 763.733 1221.58 Q766.927 1224.27 766.927 1228.76 Q766.927 1230.89 766.117 1232.81 Q765.33 1234.7 763.223 1237.3 Q762.645 1237.97 759.543 1241.19 Q756.441 1244.38 750.793 1250.14 Z\" fill=\"#000000\" fill-rule=\"nonzero\" fill-opacity=\"1\" /><path clip-path=\"url(#clip920)\" d=\"M783.131 1282.45 L790.77 1282.45 L790.77 1256.08 L782.46 1257.75 L782.46 1253.49 L790.724 1251.82 L795.4 1251.82 L795.4 1282.45 L803.038 1282.45 L803.038 1286.38 L783.131 1286.38 L783.131 1282.45 Z\" fill=\"#000000\" fill-rule=\"nonzero\" fill-opacity=\"1\" /><path clip-path=\"url(#clip920)\" d=\"M812.483 1280.5 L817.367 1280.5 L817.367 1286.38 L812.483 1286.38 L812.483 1280.5 Z\" fill=\"#000000\" fill-rule=\"nonzero\" fill-opacity=\"1\" /><path clip-path=\"url(#clip920)\" d=\"M828.362 1282.45 L836.001 1282.45 L836.001 1256.08 L827.691 1257.75 L827.691 1253.49 L835.955 1251.82 L840.631 1251.82 L840.631 1282.45 L848.27 1282.45 L848.27 1286.38 L828.362 1286.38 L828.362 1282.45 Z\" fill=\"#000000\" fill-rule=\"nonzero\" fill-opacity=\"1\" /><path clip-path=\"url(#clip920)\" d=\"M871.881 1267.75 Q875.237 1268.47 877.112 1270.73 Q879.01 1273 879.01 1276.34 Q879.01 1281.45 875.492 1284.25 Q871.973 1287.05 865.492 1287.05 Q863.316 1287.05 861.001 1286.61 Q858.709 1286.2 856.256 1285.34 L856.256 1280.83 Q858.2 1281.96 860.515 1282.54 Q862.83 1283.12 865.353 1283.12 Q869.751 1283.12 872.043 1281.38 Q874.358 1279.65 874.358 1276.34 Q874.358 1273.28 872.205 1271.57 Q870.075 1269.83 866.256 1269.83 L862.228 1269.83 L862.228 1265.99 L866.441 1265.99 Q869.89 1265.99 871.719 1264.62 Q873.547 1263.23 873.547 1260.64 Q873.547 1257.98 871.649 1256.57 Q869.774 1255.13 866.256 1255.13 Q864.334 1255.13 862.135 1255.55 Q859.936 1255.97 857.297 1256.85 L857.297 1252.68 Q859.959 1251.94 862.274 1251.57 Q864.612 1251.2 866.672 1251.2 Q871.996 1251.2 875.098 1253.63 Q878.2 1256.03 878.2 1260.16 Q878.2 1263.03 876.557 1265.02 Q874.913 1266.98 871.881 1267.75 Z\" fill=\"#000000\" fill-rule=\"nonzero\" fill-opacity=\"1\" /><path clip-path=\"url(#clip920)\" d=\"M893.895 1314.75 L901.534 1314.75 L901.534 1288.38 L893.224 1290.05 L893.224 1285.79 L901.488 1284.12 L906.163 1284.12 L906.163 1314.75 L913.802 1314.75 L913.802 1318.68 L893.895 1318.68 L893.895 1314.75 Z\" fill=\"#000000\" fill-rule=\"nonzero\" fill-opacity=\"1\" /><path clip-path=\"url(#clip920)\" d=\"M923.247 1312.8 L928.131 1312.8 L928.131 1318.68 L923.247 1318.68 L923.247 1312.8 Z\" fill=\"#000000\" fill-rule=\"nonzero\" fill-opacity=\"1\" /><path clip-path=\"url(#clip920)\" d=\"M939.126 1314.75 L946.765 1314.75 L946.765 1288.38 L938.455 1290.05 L938.455 1285.79 L946.719 1284.12 L951.395 1284.12 L951.395 1314.75 L959.034 1314.75 L959.034 1318.68 L939.126 1318.68 L939.126 1314.75 Z\" fill=\"#000000\" fill-rule=\"nonzero\" fill-opacity=\"1\" /><path clip-path=\"url(#clip920)\" d=\"M981.325 1288.2 L969.52 1306.65 L981.325 1306.65 L981.325 1288.2 M980.098 1284.12 L985.978 1284.12 L985.978 1306.65 L990.908 1306.65 L990.908 1310.54 L985.978 1310.54 L985.978 1318.68 L981.325 1318.68 L981.325 1310.54 L965.723 1310.54 L965.723 1306.02 L980.098 1284.12 Z\" fill=\"#000000\" fill-rule=\"nonzero\" fill-opacity=\"1\" /><path clip-path=\"url(#clip920)\" d=\"M1007.27 1347.05 L1014.91 1347.05 L1014.91 1320.69 L1006.6 1322.35 L1006.6 1318.09 L1014.87 1316.43 L1019.54 1316.43 L1019.54 1347.05 L1027.18 1347.05 L1027.18 1350.99 L1007.27 1350.99 L1007.27 1347.05 Z\" fill=\"#000000\" fill-rule=\"nonzero\" fill-opacity=\"1\" /><path clip-path=\"url(#clip920)\" d=\"M1036.63 1345.11 L1041.51 1345.11 L1041.51 1350.99 L1036.63 1350.99 L1036.63 1345.11 Z\" fill=\"#000000\" fill-rule=\"nonzero\" fill-opacity=\"1\" /><path clip-path=\"url(#clip920)\" d=\"M1052.51 1347.05 L1060.14 1347.05 L1060.14 1320.69 L1051.83 1322.35 L1051.83 1318.09 L1060.1 1316.43 L1064.77 1316.43 L1064.77 1347.05 L1072.41 1347.05 L1072.41 1350.99 L1052.51 1350.99 L1052.51 1347.05 Z\" fill=\"#000000\" fill-rule=\"nonzero\" fill-opacity=\"1\" /><path clip-path=\"url(#clip920)\" d=\"M1081.9 1316.43 L1100.26 1316.43 L1100.26 1320.36 L1086.19 1320.36 L1086.19 1328.83 Q1087.2 1328.49 1088.22 1328.32 Q1089.24 1328.14 1090.26 1328.14 Q1096.05 1328.14 1099.43 1331.31 Q1102.81 1334.48 1102.81 1339.9 Q1102.81 1345.48 1099.33 1348.58 Q1095.86 1351.66 1089.54 1351.66 Q1087.37 1351.66 1085.1 1351.29 Q1082.85 1350.92 1080.45 1350.18 L1080.45 1345.48 Q1082.53 1346.61 1084.75 1347.17 Q1086.97 1347.72 1089.45 1347.72 Q1093.45 1347.72 1095.79 1345.62 Q1098.13 1343.51 1098.13 1339.9 Q1098.13 1336.29 1095.79 1334.18 Q1093.45 1332.07 1089.45 1332.07 Q1087.58 1332.07 1085.7 1332.49 Q1083.85 1332.91 1081.9 1333.79 L1081.9 1316.43 Z\" fill=\"#000000\" fill-rule=\"nonzero\" fill-opacity=\"1\" /><path clip-path=\"url(#clip920)\" d=\"M1118.02 1379.35 L1125.65 1379.35 L1125.65 1352.99 L1117.34 1354.65 L1117.34 1350.4 L1125.61 1348.73 L1130.28 1348.73 L1130.28 1379.35 L1137.92 1379.35 L1137.92 1383.29 L1118.02 1383.29 L1118.02 1379.35 Z\" fill=\"#000000\" fill-rule=\"nonzero\" fill-opacity=\"1\" /><path clip-path=\"url(#clip920)\" d=\"M1147.37 1377.41 L1152.25 1377.41 L1152.25 1383.29 L1147.37 1383.29 L1147.37 1377.41 Z\" fill=\"#000000\" fill-rule=\"nonzero\" fill-opacity=\"1\" /><path clip-path=\"url(#clip920)\" d=\"M1163.25 1379.35 L1170.89 1379.35 L1170.89 1352.99 L1162.58 1354.65 L1162.58 1350.4 L1170.84 1348.73 L1175.51 1348.73 L1175.51 1379.35 L1183.15 1379.35 L1183.15 1383.29 L1163.25 1383.29 L1163.25 1379.35 Z\" fill=\"#000000\" fill-rule=\"nonzero\" fill-opacity=\"1\" /><path clip-path=\"url(#clip920)\" d=\"M1203.18 1364.15 Q1200.03 1364.15 1198.18 1366.3 Q1196.35 1368.45 1196.35 1372.2 Q1196.35 1375.93 1198.18 1378.1 Q1200.03 1380.26 1203.18 1380.26 Q1206.32 1380.26 1208.15 1378.1 Q1210.01 1375.93 1210.01 1372.2 Q1210.01 1368.45 1208.15 1366.3 Q1206.32 1364.15 1203.18 1364.15 M1212.46 1349.49 L1212.46 1353.75 Q1210.7 1352.92 1208.89 1352.48 Q1207.11 1352.04 1205.35 1352.04 Q1200.72 1352.04 1198.27 1355.16 Q1195.84 1358.29 1195.49 1364.61 Q1196.86 1362.59 1198.92 1361.53 Q1200.98 1360.44 1203.45 1360.44 Q1208.66 1360.44 1211.67 1363.61 Q1214.7 1366.76 1214.7 1372.2 Q1214.7 1377.52 1211.56 1380.74 Q1208.41 1383.96 1203.18 1383.96 Q1197.18 1383.96 1194.01 1379.38 Q1190.84 1374.77 1190.84 1366.04 Q1190.84 1357.85 1194.73 1352.99 Q1198.62 1348.1 1205.17 1348.1 Q1206.93 1348.1 1208.71 1348.45 Q1210.51 1348.8 1212.46 1349.49 Z\" fill=\"#000000\" fill-rule=\"nonzero\" fill-opacity=\"1\" /><path clip-path=\"url(#clip920)\" d=\"M1230.98 1411.66 L1238.62 1411.66 L1238.62 1385.29 L1230.31 1386.96 L1230.31 1382.7 L1238.57 1381.03 L1243.25 1381.03 L1243.25 1411.66 L1250.89 1411.66 L1250.89 1415.59 L1230.98 1415.59 L1230.98 1411.66 Z\" fill=\"#000000\" fill-rule=\"nonzero\" fill-opacity=\"1\" /><path clip-path=\"url(#clip920)\" d=\"M1260.33 1409.71 L1265.21 1409.71 L1265.21 1415.59 L1260.33 1415.59 L1260.33 1409.71 Z\" fill=\"#000000\" fill-rule=\"nonzero\" fill-opacity=\"1\" /><path clip-path=\"url(#clip920)\" d=\"M1276.21 1411.66 L1283.85 1411.66 L1283.85 1385.29 L1275.54 1386.96 L1275.54 1382.7 L1283.8 1381.03 L1288.48 1381.03 L1288.48 1411.66 L1296.12 1411.66 L1296.12 1415.59 L1276.21 1415.59 L1276.21 1411.66 Z\" fill=\"#000000\" fill-rule=\"nonzero\" fill-opacity=\"1\" /><path clip-path=\"url(#clip920)\" d=\"M1304.38 1381.03 L1326.6 1381.03 L1326.6 1383.02 L1314.06 1415.59 L1309.17 1415.59 L1320.98 1384.97 L1304.38 1384.97 L1304.38 1381.03 Z\" fill=\"#000000\" fill-rule=\"nonzero\" fill-opacity=\"1\" /><path clip-path=\"url(#clip920)\" d=\"M1342.07 1443.96 L1349.7 1443.96 L1349.7 1417.59 L1341.39 1419.26 L1341.39 1415 L1349.66 1413.33 L1354.33 1413.33 L1354.33 1443.96 L1361.97 1443.96 L1361.97 1447.89 L1342.07 1447.89 L1342.07 1443.96 Z\" fill=\"#000000\" fill-rule=\"nonzero\" fill-opacity=\"1\" /><path clip-path=\"url(#clip920)\" d=\"M1371.42 1442.01 L1376.3 1442.01 L1376.3 1447.89 L1371.42 1447.89 L1371.42 1442.01 Z\" fill=\"#000000\" fill-rule=\"nonzero\" fill-opacity=\"1\" /><path clip-path=\"url(#clip920)\" d=\"M1387.3 1443.96 L1394.94 1443.96 L1394.94 1417.59 L1386.63 1419.26 L1386.63 1415 L1394.89 1413.33 L1399.57 1413.33 L1399.57 1443.96 L1407.2 1443.96 L1407.2 1447.89 L1387.3 1447.89 L1387.3 1443.96 Z\" fill=\"#000000\" fill-rule=\"nonzero\" fill-opacity=\"1\" /><path clip-path=\"url(#clip920)\" d=\"M1426.65 1431.48 Q1423.32 1431.48 1421.39 1433.26 Q1419.5 1435.05 1419.5 1438.17 Q1419.5 1441.3 1421.39 1443.08 Q1423.32 1444.86 1426.65 1444.86 Q1429.98 1444.86 1431.9 1443.08 Q1433.82 1441.27 1433.82 1438.17 Q1433.82 1435.05 1431.9 1433.26 Q1430.01 1431.48 1426.65 1431.48 M1421.97 1429.49 Q1418.96 1428.75 1417.27 1426.69 Q1415.61 1424.63 1415.61 1421.67 Q1415.61 1417.52 1418.55 1415.12 Q1421.51 1412.71 1426.65 1412.71 Q1431.81 1412.71 1434.75 1415.12 Q1437.69 1417.52 1437.69 1421.67 Q1437.69 1424.63 1436 1426.69 Q1434.33 1428.75 1431.35 1429.49 Q1434.73 1430.28 1436.6 1432.57 Q1438.5 1434.86 1438.5 1438.17 Q1438.5 1443.19 1435.42 1445.88 Q1432.37 1448.56 1426.65 1448.56 Q1420.93 1448.56 1417.85 1445.88 Q1414.8 1443.19 1414.8 1438.17 Q1414.8 1434.86 1416.7 1432.57 Q1418.59 1430.28 1421.97 1429.49 M1420.26 1422.11 Q1420.26 1424.79 1421.93 1426.3 Q1423.62 1427.8 1426.65 1427.8 Q1429.66 1427.8 1431.35 1426.3 Q1433.06 1424.79 1433.06 1422.11 Q1433.06 1419.42 1431.35 1417.92 Q1429.66 1416.41 1426.65 1416.41 Q1423.62 1416.41 1421.93 1417.92 Q1420.26 1419.42 1420.26 1422.11 Z\" fill=\"#000000\" fill-rule=\"nonzero\" fill-opacity=\"1\" /><polyline clip-path=\"url(#clip922)\" style=\"stroke:#000000; stroke-linecap:round; stroke-linejoin:round; stroke-width:2; stroke-opacity:0.1; fill:none\" points=\"1510.94,1375.53 791.341,1167.79 791.341,448.192 \"/>\n",
       "<polyline clip-path=\"url(#clip922)\" style=\"stroke:#000000; stroke-linecap:round; stroke-linejoin:round; stroke-width:2; stroke-opacity:0.1; fill:none\" points=\"1566.76,1327.19 847.157,1119.46 847.157,399.855 \"/>\n",
       "<polyline clip-path=\"url(#clip922)\" style=\"stroke:#000000; stroke-linecap:round; stroke-linejoin:round; stroke-width:2; stroke-opacity:0.1; fill:none\" points=\"1622.57,1278.85 902.972,1071.12 902.972,351.518 \"/>\n",
       "<polyline clip-path=\"url(#clip922)\" style=\"stroke:#000000; stroke-linecap:round; stroke-linejoin:round; stroke-width:2; stroke-opacity:0.1; fill:none\" points=\"1678.39,1230.51 958.787,1022.78 958.787,303.18 \"/>\n",
       "<polyline clip-path=\"url(#clip922)\" style=\"stroke:#000000; stroke-linecap:round; stroke-linejoin:round; stroke-width:2; stroke-opacity:0.1; fill:none\" points=\"1734.2,1182.18 1014.6,974.445 1014.6,254.843 \"/>\n",
       "<polyline clip-path=\"url(#clip922)\" style=\"stroke:#000000; stroke-linecap:round; stroke-linejoin:round; stroke-width:2; stroke-opacity:0.1; fill:none\" points=\"1790.02,1133.84 1070.42,926.107 1070.42,206.505 \"/>\n",
       "<polyline clip-path=\"url(#clip922)\" style=\"stroke:#000000; stroke-linecap:round; stroke-linejoin:round; stroke-width:2; stroke-opacity:0.1; fill:none\" points=\"1845.83,1085.5 1126.23,877.77 1126.23,158.168 \"/>\n",
       "<polyline clip-path=\"url(#clip920)\" style=\"stroke:#000000; stroke-linecap:round; stroke-linejoin:round; stroke-width:4; stroke-opacity:1; fill:none\" points=\"1470.66,1410.41 1886.12,1050.61 \"/>\n",
       "<polyline clip-path=\"url(#clip920)\" style=\"stroke:#000000; stroke-linecap:round; stroke-linejoin:round; stroke-width:4; stroke-opacity:1; fill:none\" points=\"1510.94,1375.53 1502.31,1373.03 \"/>\n",
       "<polyline clip-path=\"url(#clip920)\" style=\"stroke:#000000; stroke-linecap:round; stroke-linejoin:round; stroke-width:4; stroke-opacity:1; fill:none\" points=\"1566.76,1327.19 1558.12,1324.7 \"/>\n",
       "<polyline clip-path=\"url(#clip920)\" style=\"stroke:#000000; stroke-linecap:round; stroke-linejoin:round; stroke-width:4; stroke-opacity:1; fill:none\" points=\"1622.57,1278.85 1613.94,1276.36 \"/>\n",
       "<polyline clip-path=\"url(#clip920)\" style=\"stroke:#000000; stroke-linecap:round; stroke-linejoin:round; stroke-width:4; stroke-opacity:1; fill:none\" points=\"1678.39,1230.51 1669.75,1228.02 \"/>\n",
       "<polyline clip-path=\"url(#clip920)\" style=\"stroke:#000000; stroke-linecap:round; stroke-linejoin:round; stroke-width:4; stroke-opacity:1; fill:none\" points=\"1734.2,1182.18 1725.57,1179.68 \"/>\n",
       "<polyline clip-path=\"url(#clip920)\" style=\"stroke:#000000; stroke-linecap:round; stroke-linejoin:round; stroke-width:4; stroke-opacity:1; fill:none\" points=\"1790.02,1133.84 1781.38,1131.35 \"/>\n",
       "<polyline clip-path=\"url(#clip920)\" style=\"stroke:#000000; stroke-linecap:round; stroke-linejoin:round; stroke-width:4; stroke-opacity:1; fill:none\" points=\"1845.83,1085.5 1837.2,1083.01 \"/>\n",
       "<path clip-path=\"url(#clip920)\" d=\"M1519.2 1403.57 L1548.88 1403.57 L1548.88 1407.5 L1519.2 1407.5 L1519.2 1403.57 Z\" fill=\"#000000\" fill-rule=\"nonzero\" fill-opacity=\"1\" /><path clip-path=\"url(#clip920)\" d=\"M1568.97 1388.91 Q1565.36 1388.91 1563.53 1392.48 Q1561.72 1396.02 1561.72 1403.15 Q1561.72 1410.26 1563.53 1413.82 Q1565.36 1417.36 1568.97 1417.36 Q1572.6 1417.36 1574.41 1413.82 Q1576.24 1410.26 1576.24 1403.15 Q1576.24 1396.02 1574.41 1392.48 Q1572.6 1388.91 1568.97 1388.91 M1568.97 1385.21 Q1574.78 1385.21 1577.83 1389.82 Q1580.91 1394.4 1580.91 1403.15 Q1580.91 1411.88 1577.83 1416.48 Q1574.78 1421.07 1568.97 1421.07 Q1563.16 1421.07 1560.08 1416.48 Q1557.02 1411.88 1557.02 1403.15 Q1557.02 1394.4 1560.08 1389.82 Q1563.16 1385.21 1568.97 1385.21 Z\" fill=\"#000000\" fill-rule=\"nonzero\" fill-opacity=\"1\" /><path clip-path=\"url(#clip920)\" d=\"M1589.13 1414.52 L1594.02 1414.52 L1594.02 1420.4 L1589.13 1420.4 L1589.13 1414.52 Z\" fill=\"#000000\" fill-rule=\"nonzero\" fill-opacity=\"1\" /><path clip-path=\"url(#clip920)\" d=\"M1614.2 1388.91 Q1610.59 1388.91 1608.76 1392.48 Q1606.95 1396.02 1606.95 1403.15 Q1606.95 1410.26 1608.76 1413.82 Q1610.59 1417.36 1614.2 1417.36 Q1617.83 1417.36 1619.64 1413.82 Q1621.47 1410.26 1621.47 1403.15 Q1621.47 1396.02 1619.64 1392.48 Q1617.83 1388.91 1614.2 1388.91 M1614.2 1385.21 Q1620.01 1385.21 1623.07 1389.82 Q1626.14 1394.4 1626.14 1403.15 Q1626.14 1411.88 1623.07 1416.48 Q1620.01 1421.07 1614.2 1421.07 Q1608.39 1421.07 1605.31 1416.48 Q1602.26 1411.88 1602.26 1403.15 Q1602.26 1394.4 1605.31 1389.82 Q1608.39 1385.21 1614.2 1385.21 Z\" fill=\"#000000\" fill-rule=\"nonzero\" fill-opacity=\"1\" /><path clip-path=\"url(#clip920)\" d=\"M1633.18 1385.84 L1655.4 1385.84 L1655.4 1387.83 L1642.86 1420.4 L1637.97 1420.4 L1649.78 1389.77 L1633.18 1389.77 L1633.18 1385.84 Z\" fill=\"#000000\" fill-rule=\"nonzero\" fill-opacity=\"1\" /><path clip-path=\"url(#clip920)\" d=\"M1664.57 1385.84 L1682.93 1385.84 L1682.93 1389.77 L1668.85 1389.77 L1668.85 1398.24 Q1669.87 1397.9 1670.89 1397.73 Q1671.91 1397.55 1672.93 1397.55 Q1678.71 1397.55 1682.09 1400.72 Q1685.47 1403.89 1685.47 1409.31 Q1685.47 1414.89 1682 1417.99 Q1678.53 1421.07 1672.21 1421.07 Q1670.03 1421.07 1667.76 1420.7 Q1665.52 1420.33 1663.11 1419.59 L1663.11 1414.89 Q1665.2 1416.02 1667.42 1416.58 Q1669.64 1417.13 1672.12 1417.13 Q1676.12 1417.13 1678.46 1415.03 Q1680.8 1412.92 1680.8 1409.31 Q1680.8 1405.7 1678.46 1403.59 Q1676.12 1401.48 1672.12 1401.48 Q1670.24 1401.48 1668.37 1401.9 Q1666.51 1402.32 1664.57 1403.2 L1664.57 1385.84 Z\" fill=\"#000000\" fill-rule=\"nonzero\" fill-opacity=\"1\" /><path clip-path=\"url(#clip920)\" d=\"M1575.02 1355.23 L1604.69 1355.23 L1604.69 1359.17 L1575.02 1359.17 L1575.02 1355.23 Z\" fill=\"#000000\" fill-rule=\"nonzero\" fill-opacity=\"1\" /><path clip-path=\"url(#clip920)\" d=\"M1624.78 1340.58 Q1621.17 1340.58 1619.34 1344.14 Q1617.54 1347.68 1617.54 1354.81 Q1617.54 1361.92 1619.34 1365.48 Q1621.17 1369.03 1624.78 1369.03 Q1628.42 1369.03 1630.22 1365.48 Q1632.05 1361.92 1632.05 1354.81 Q1632.05 1347.68 1630.22 1344.14 Q1628.42 1340.58 1624.78 1340.58 M1624.78 1336.87 Q1630.59 1336.87 1633.65 1341.48 Q1636.73 1346.06 1636.73 1354.81 Q1636.73 1363.54 1633.65 1368.15 Q1630.59 1372.73 1624.78 1372.73 Q1618.97 1372.73 1615.9 1368.15 Q1612.84 1363.54 1612.84 1354.81 Q1612.84 1346.06 1615.9 1341.48 Q1618.97 1336.87 1624.78 1336.87 Z\" fill=\"#000000\" fill-rule=\"nonzero\" fill-opacity=\"1\" /><path clip-path=\"url(#clip920)\" d=\"M1644.95 1366.18 L1649.83 1366.18 L1649.83 1372.06 L1644.95 1372.06 L1644.95 1366.18 Z\" fill=\"#000000\" fill-rule=\"nonzero\" fill-opacity=\"1\" /><path clip-path=\"url(#clip920)\" d=\"M1670.02 1340.58 Q1666.4 1340.58 1664.58 1344.14 Q1662.77 1347.68 1662.77 1354.81 Q1662.77 1361.92 1664.58 1365.48 Q1666.4 1369.03 1670.02 1369.03 Q1673.65 1369.03 1675.46 1365.48 Q1677.28 1361.92 1677.28 1354.81 Q1677.28 1347.68 1675.46 1344.14 Q1673.65 1340.58 1670.02 1340.58 M1670.02 1336.87 Q1675.83 1336.87 1678.88 1341.48 Q1681.96 1346.06 1681.96 1354.81 Q1681.96 1363.54 1678.88 1368.15 Q1675.83 1372.73 1670.02 1372.73 Q1664.21 1372.73 1661.13 1368.15 Q1658.07 1363.54 1658.07 1354.81 Q1658.07 1346.06 1661.13 1341.48 Q1664.21 1336.87 1670.02 1336.87 Z\" fill=\"#000000\" fill-rule=\"nonzero\" fill-opacity=\"1\" /><path clip-path=\"url(#clip920)\" d=\"M1690.22 1337.5 L1708.58 1337.5 L1708.58 1341.43 L1694.51 1341.43 L1694.51 1349.91 Q1695.52 1349.56 1696.54 1349.4 Q1697.56 1349.21 1698.58 1349.21 Q1704.37 1349.21 1707.75 1352.38 Q1711.13 1355.55 1711.13 1360.97 Q1711.13 1366.55 1707.65 1369.65 Q1704.18 1372.73 1697.86 1372.73 Q1695.69 1372.73 1693.42 1372.36 Q1691.17 1371.99 1688.77 1371.25 L1688.77 1366.55 Q1690.85 1367.68 1693.07 1368.24 Q1695.29 1368.8 1697.77 1368.8 Q1701.77 1368.8 1704.11 1366.69 Q1706.45 1364.58 1706.45 1360.97 Q1706.45 1357.36 1704.11 1355.25 Q1701.77 1353.15 1697.77 1353.15 Q1695.89 1353.15 1694.02 1353.56 Q1692.17 1353.98 1690.22 1354.86 L1690.22 1337.5 Z\" fill=\"#000000\" fill-rule=\"nonzero\" fill-opacity=\"1\" /><path clip-path=\"url(#clip920)\" d=\"M1730.34 1340.58 Q1726.73 1340.58 1724.9 1344.14 Q1723.09 1347.68 1723.09 1354.81 Q1723.09 1361.92 1724.9 1365.48 Q1726.73 1369.03 1730.34 1369.03 Q1733.97 1369.03 1735.78 1365.48 Q1737.61 1361.92 1737.61 1354.81 Q1737.61 1347.68 1735.78 1344.14 Q1733.97 1340.58 1730.34 1340.58 M1730.34 1336.87 Q1736.15 1336.87 1739.2 1341.48 Q1742.28 1346.06 1742.28 1354.81 Q1742.28 1363.54 1739.2 1368.15 Q1736.15 1372.73 1730.34 1372.73 Q1724.53 1372.73 1721.45 1368.15 Q1718.39 1363.54 1718.39 1354.81 Q1718.39 1346.06 1721.45 1341.48 Q1724.53 1336.87 1730.34 1336.87 Z\" fill=\"#000000\" fill-rule=\"nonzero\" fill-opacity=\"1\" /><path clip-path=\"url(#clip920)\" d=\"M1630.83 1306.89 L1660.51 1306.89 L1660.51 1310.83 L1630.83 1310.83 L1630.83 1306.89 Z\" fill=\"#000000\" fill-rule=\"nonzero\" fill-opacity=\"1\" /><path clip-path=\"url(#clip920)\" d=\"M1680.6 1292.24 Q1676.99 1292.24 1675.16 1295.8 Q1673.35 1299.35 1673.35 1306.48 Q1673.35 1313.58 1675.16 1317.15 Q1676.99 1320.69 1680.6 1320.69 Q1684.23 1320.69 1686.04 1317.15 Q1687.87 1313.58 1687.87 1306.48 Q1687.87 1299.35 1686.04 1295.8 Q1684.23 1292.24 1680.6 1292.24 M1680.6 1288.54 Q1686.41 1288.54 1689.47 1293.14 Q1692.54 1297.73 1692.54 1306.48 Q1692.54 1315.2 1689.47 1319.81 Q1686.41 1324.39 1680.6 1324.39 Q1674.79 1324.39 1671.71 1319.81 Q1668.66 1315.2 1668.66 1306.48 Q1668.66 1297.73 1671.71 1293.14 Q1674.79 1288.54 1680.6 1288.54 Z\" fill=\"#000000\" fill-rule=\"nonzero\" fill-opacity=\"1\" /><path clip-path=\"url(#clip920)\" d=\"M1700.76 1317.84 L1705.65 1317.84 L1705.65 1323.72 L1700.76 1323.72 L1700.76 1317.84 Z\" fill=\"#000000\" fill-rule=\"nonzero\" fill-opacity=\"1\" /><path clip-path=\"url(#clip920)\" d=\"M1725.83 1292.24 Q1722.22 1292.24 1720.39 1295.8 Q1718.59 1299.35 1718.59 1306.48 Q1718.59 1313.58 1720.39 1317.15 Q1722.22 1320.69 1725.83 1320.69 Q1729.46 1320.69 1731.27 1317.15 Q1733.1 1313.58 1733.1 1306.48 Q1733.1 1299.35 1731.27 1295.8 Q1729.46 1292.24 1725.83 1292.24 M1725.83 1288.54 Q1731.64 1288.54 1734.7 1293.14 Q1737.78 1297.73 1737.78 1306.48 Q1737.78 1315.2 1734.7 1319.81 Q1731.64 1324.39 1725.83 1324.39 Q1720.02 1324.39 1716.94 1319.81 Q1713.89 1315.2 1713.89 1306.48 Q1713.89 1297.73 1716.94 1293.14 Q1720.02 1288.54 1725.83 1288.54 Z\" fill=\"#000000\" fill-rule=\"nonzero\" fill-opacity=\"1\" /><path clip-path=\"url(#clip920)\" d=\"M1750.02 1319.79 L1766.34 1319.79 L1766.34 1323.72 L1744.4 1323.72 L1744.4 1319.79 Q1747.06 1317.03 1751.64 1312.4 Q1756.25 1307.75 1757.43 1306.41 Q1759.67 1303.88 1760.55 1302.15 Q1761.46 1300.39 1761.46 1298.7 Q1761.46 1295.94 1759.51 1294.21 Q1757.59 1292.47 1754.49 1292.47 Q1752.29 1292.47 1749.84 1293.24 Q1747.4 1294 1744.63 1295.55 L1744.63 1290.83 Q1747.45 1289.69 1749.9 1289.12 Q1752.36 1288.54 1754.4 1288.54 Q1759.77 1288.54 1762.96 1291.22 Q1766.15 1293.91 1766.15 1298.4 Q1766.15 1300.53 1765.34 1302.45 Q1764.56 1304.35 1762.45 1306.94 Q1761.87 1307.61 1758.77 1310.83 Q1755.67 1314.02 1750.02 1319.79 Z\" fill=\"#000000\" fill-rule=\"nonzero\" fill-opacity=\"1\" /><path clip-path=\"url(#clip920)\" d=\"M1776.2 1289.16 L1794.56 1289.16 L1794.56 1293.1 L1780.48 1293.1 L1780.48 1301.57 Q1781.5 1301.22 1782.52 1301.06 Q1783.54 1300.87 1784.56 1300.87 Q1790.34 1300.87 1793.72 1304.05 Q1797.1 1307.22 1797.1 1312.63 Q1797.1 1318.21 1793.63 1321.31 Q1790.16 1324.39 1783.84 1324.39 Q1781.66 1324.39 1779.4 1324.02 Q1777.15 1323.65 1774.74 1322.91 L1774.74 1318.21 Q1776.83 1319.35 1779.05 1319.9 Q1781.27 1320.46 1783.75 1320.46 Q1787.75 1320.46 1790.09 1318.35 Q1792.43 1316.24 1792.43 1312.63 Q1792.43 1309.02 1790.09 1306.92 Q1787.75 1304.81 1783.75 1304.81 Q1781.87 1304.81 1780 1305.23 Q1778.15 1305.64 1776.2 1306.52 L1776.2 1289.16 Z\" fill=\"#000000\" fill-rule=\"nonzero\" fill-opacity=\"1\" /><path clip-path=\"url(#clip920)\" d=\"M1698.59 1243.9 Q1694.98 1243.9 1693.15 1247.47 Q1691.35 1251.01 1691.35 1258.14 Q1691.35 1265.25 1693.15 1268.81 Q1694.98 1272.35 1698.59 1272.35 Q1702.23 1272.35 1704.03 1268.81 Q1705.86 1265.25 1705.86 1258.14 Q1705.86 1251.01 1704.03 1247.47 Q1702.23 1243.9 1698.59 1243.9 M1698.59 1240.2 Q1704.4 1240.2 1707.46 1244.81 Q1710.54 1249.39 1710.54 1258.14 Q1710.54 1266.87 1707.46 1271.47 Q1704.4 1276.06 1698.59 1276.06 Q1692.78 1276.06 1689.7 1271.47 Q1686.65 1266.87 1686.65 1258.14 Q1686.65 1249.39 1689.7 1244.81 Q1692.78 1240.2 1698.59 1240.2 Z\" fill=\"#000000\" fill-rule=\"nonzero\" fill-opacity=\"1\" /><path clip-path=\"url(#clip920)\" d=\"M1718.75 1269.5 L1723.64 1269.5 L1723.64 1275.38 L1718.75 1275.38 L1718.75 1269.5 Z\" fill=\"#000000\" fill-rule=\"nonzero\" fill-opacity=\"1\" /><path clip-path=\"url(#clip920)\" d=\"M1743.82 1243.9 Q1740.21 1243.9 1738.38 1247.47 Q1736.58 1251.01 1736.58 1258.14 Q1736.58 1265.25 1738.38 1268.81 Q1740.21 1272.35 1743.82 1272.35 Q1747.46 1272.35 1749.26 1268.81 Q1751.09 1265.25 1751.09 1258.14 Q1751.09 1251.01 1749.26 1247.47 Q1747.46 1243.9 1743.82 1243.9 M1743.82 1240.2 Q1749.63 1240.2 1752.69 1244.81 Q1755.77 1249.39 1755.77 1258.14 Q1755.77 1266.87 1752.69 1271.47 Q1749.63 1276.06 1743.82 1276.06 Q1738.01 1276.06 1734.93 1271.47 Q1731.88 1266.87 1731.88 1258.14 Q1731.88 1249.39 1734.93 1244.81 Q1738.01 1240.2 1743.82 1240.2 Z\" fill=\"#000000\" fill-rule=\"nonzero\" fill-opacity=\"1\" /><path clip-path=\"url(#clip920)\" d=\"M1773.98 1243.9 Q1770.37 1243.9 1768.54 1247.47 Q1766.74 1251.01 1766.74 1258.14 Q1766.74 1265.25 1768.54 1268.81 Q1770.37 1272.35 1773.98 1272.35 Q1777.62 1272.35 1779.42 1268.81 Q1781.25 1265.25 1781.25 1258.14 Q1781.25 1251.01 1779.42 1247.47 Q1777.62 1243.9 1773.98 1243.9 M1773.98 1240.2 Q1779.79 1240.2 1782.85 1244.81 Q1785.93 1249.39 1785.93 1258.14 Q1785.93 1266.87 1782.85 1271.47 Q1779.79 1276.06 1773.98 1276.06 Q1768.17 1276.06 1765.1 1271.47 Q1762.04 1266.87 1762.04 1258.14 Q1762.04 1249.39 1765.1 1244.81 Q1768.17 1240.2 1773.98 1240.2 Z\" fill=\"#000000\" fill-rule=\"nonzero\" fill-opacity=\"1\" /><path clip-path=\"url(#clip920)\" d=\"M1804.15 1243.9 Q1800.53 1243.9 1798.71 1247.47 Q1796.9 1251.01 1796.9 1258.14 Q1796.9 1265.25 1798.71 1268.81 Q1800.53 1272.35 1804.15 1272.35 Q1807.78 1272.35 1809.59 1268.81 Q1811.41 1265.25 1811.41 1258.14 Q1811.41 1251.01 1809.59 1247.47 Q1807.78 1243.9 1804.15 1243.9 M1804.15 1240.2 Q1809.96 1240.2 1813.01 1244.81 Q1816.09 1249.39 1816.09 1258.14 Q1816.09 1266.87 1813.01 1271.47 Q1809.96 1276.06 1804.15 1276.06 Q1798.34 1276.06 1795.26 1271.47 Q1792.2 1266.87 1792.2 1258.14 Q1792.2 1249.39 1795.26 1244.81 Q1798.34 1240.2 1804.15 1240.2 Z\" fill=\"#000000\" fill-rule=\"nonzero\" fill-opacity=\"1\" /><path clip-path=\"url(#clip920)\" d=\"M1754.41 1195.57 Q1750.79 1195.57 1748.97 1199.13 Q1747.16 1202.67 1747.16 1209.8 Q1747.16 1216.91 1748.97 1220.47 Q1750.79 1224.01 1754.41 1224.01 Q1758.04 1224.01 1759.85 1220.47 Q1761.67 1216.91 1761.67 1209.8 Q1761.67 1202.67 1759.85 1199.13 Q1758.04 1195.57 1754.41 1195.57 M1754.41 1191.86 Q1760.22 1191.86 1763.27 1196.47 Q1766.35 1201.05 1766.35 1209.8 Q1766.35 1218.53 1763.27 1223.13 Q1760.22 1227.72 1754.41 1227.72 Q1748.6 1227.72 1745.52 1223.13 Q1742.46 1218.53 1742.46 1209.8 Q1742.46 1201.05 1745.52 1196.47 Q1748.6 1191.86 1754.41 1191.86 Z\" fill=\"#000000\" fill-rule=\"nonzero\" fill-opacity=\"1\" /><path clip-path=\"url(#clip920)\" d=\"M1774.57 1221.17 L1779.45 1221.17 L1779.45 1227.05 L1774.57 1227.05 L1774.57 1221.17 Z\" fill=\"#000000\" fill-rule=\"nonzero\" fill-opacity=\"1\" /><path clip-path=\"url(#clip920)\" d=\"M1799.64 1195.57 Q1796.03 1195.57 1794.2 1199.13 Q1792.39 1202.67 1792.39 1209.8 Q1792.39 1216.91 1794.2 1220.47 Q1796.03 1224.01 1799.64 1224.01 Q1803.27 1224.01 1805.08 1220.47 Q1806.91 1216.91 1806.91 1209.8 Q1806.91 1202.67 1805.08 1199.13 Q1803.27 1195.57 1799.64 1195.57 M1799.64 1191.86 Q1805.45 1191.86 1808.5 1196.47 Q1811.58 1201.05 1811.58 1209.8 Q1811.58 1218.53 1808.5 1223.13 Q1805.45 1227.72 1799.64 1227.72 Q1793.83 1227.72 1790.75 1223.13 Q1787.69 1218.53 1787.69 1209.8 Q1787.69 1201.05 1790.75 1196.47 Q1793.83 1191.86 1799.64 1191.86 Z\" fill=\"#000000\" fill-rule=\"nonzero\" fill-opacity=\"1\" /><path clip-path=\"url(#clip920)\" d=\"M1823.83 1223.11 L1840.15 1223.11 L1840.15 1227.05 L1818.2 1227.05 L1818.2 1223.11 Q1820.86 1220.36 1825.45 1215.73 Q1830.05 1211.07 1831.23 1209.73 Q1833.48 1207.21 1834.36 1205.47 Q1835.26 1203.71 1835.26 1202.02 Q1835.26 1199.27 1833.32 1197.53 Q1831.4 1195.8 1828.29 1195.8 Q1826.1 1195.8 1823.64 1196.56 Q1821.21 1197.32 1818.43 1198.88 L1818.43 1194.15 Q1821.26 1193.02 1823.71 1192.44 Q1826.16 1191.86 1828.2 1191.86 Q1833.57 1191.86 1836.77 1194.55 Q1839.96 1197.23 1839.96 1201.72 Q1839.96 1203.85 1839.15 1205.77 Q1838.36 1207.67 1836.26 1210.26 Q1835.68 1210.94 1832.58 1214.15 Q1829.48 1217.35 1823.83 1223.11 Z\" fill=\"#000000\" fill-rule=\"nonzero\" fill-opacity=\"1\" /><path clip-path=\"url(#clip920)\" d=\"M1850.01 1192.49 L1868.36 1192.49 L1868.36 1196.42 L1854.29 1196.42 L1854.29 1204.89 Q1855.31 1204.55 1856.33 1204.38 Q1857.35 1204.2 1858.36 1204.2 Q1864.15 1204.2 1867.53 1207.37 Q1870.91 1210.54 1870.91 1215.96 Q1870.91 1221.54 1867.44 1224.64 Q1863.97 1227.72 1857.65 1227.72 Q1855.47 1227.72 1853.2 1227.35 Q1850.96 1226.98 1848.55 1226.24 L1848.55 1221.54 Q1850.63 1222.67 1852.85 1223.23 Q1855.08 1223.78 1857.55 1223.78 Q1861.56 1223.78 1863.9 1221.68 Q1866.23 1219.57 1866.23 1215.96 Q1866.23 1212.35 1863.9 1210.24 Q1861.56 1208.13 1857.55 1208.13 Q1855.68 1208.13 1853.8 1208.55 Q1851.95 1208.97 1850.01 1209.85 L1850.01 1192.49 Z\" fill=\"#000000\" fill-rule=\"nonzero\" fill-opacity=\"1\" /><path clip-path=\"url(#clip920)\" d=\"M1810.22 1147.23 Q1806.61 1147.23 1804.78 1150.79 Q1802.98 1154.33 1802.98 1161.46 Q1802.98 1168.57 1804.78 1172.14 Q1806.61 1175.68 1810.22 1175.68 Q1813.86 1175.68 1815.66 1172.14 Q1817.49 1168.57 1817.49 1161.46 Q1817.49 1154.33 1815.66 1150.79 Q1813.86 1147.23 1810.22 1147.23 M1810.22 1143.52 Q1816.03 1143.52 1819.09 1148.13 Q1822.17 1152.71 1822.17 1161.46 Q1822.17 1170.19 1819.09 1174.8 Q1816.03 1179.38 1810.22 1179.38 Q1804.41 1179.38 1801.33 1174.8 Q1798.28 1170.19 1798.28 1161.46 Q1798.28 1152.71 1801.33 1148.13 Q1804.41 1143.52 1810.22 1143.52 Z\" fill=\"#000000\" fill-rule=\"nonzero\" fill-opacity=\"1\" /><path clip-path=\"url(#clip920)\" d=\"M1830.38 1172.83 L1835.27 1172.83 L1835.27 1178.71 L1830.38 1178.71 L1830.38 1172.83 Z\" fill=\"#000000\" fill-rule=\"nonzero\" fill-opacity=\"1\" /><path clip-path=\"url(#clip920)\" d=\"M1855.45 1147.23 Q1851.84 1147.23 1850.01 1150.79 Q1848.21 1154.33 1848.21 1161.46 Q1848.21 1168.57 1850.01 1172.14 Q1851.84 1175.68 1855.45 1175.68 Q1859.09 1175.68 1860.89 1172.14 Q1862.72 1168.57 1862.72 1161.46 Q1862.72 1154.33 1860.89 1150.79 Q1859.09 1147.23 1855.45 1147.23 M1855.45 1143.52 Q1861.26 1143.52 1864.32 1148.13 Q1867.4 1152.71 1867.4 1161.46 Q1867.4 1170.19 1864.32 1174.8 Q1861.26 1179.38 1855.45 1179.38 Q1849.64 1179.38 1846.56 1174.8 Q1843.51 1170.19 1843.51 1161.46 Q1843.51 1152.71 1846.56 1148.13 Q1849.64 1143.52 1855.45 1143.52 Z\" fill=\"#000000\" fill-rule=\"nonzero\" fill-opacity=\"1\" /><path clip-path=\"url(#clip920)\" d=\"M1875.66 1144.15 L1894.02 1144.15 L1894.02 1148.08 L1879.94 1148.08 L1879.94 1156.56 Q1880.96 1156.21 1881.98 1156.05 Q1883 1155.86 1884.02 1155.86 Q1889.8 1155.86 1893.18 1159.03 Q1896.56 1162.2 1896.56 1167.62 Q1896.56 1173.2 1893.09 1176.3 Q1889.62 1179.38 1883.3 1179.38 Q1881.12 1179.38 1878.86 1179.01 Q1876.61 1178.64 1874.2 1177.9 L1874.2 1173.2 Q1876.29 1174.33 1878.51 1174.89 Q1880.73 1175.45 1883.21 1175.45 Q1887.21 1175.45 1889.55 1173.34 Q1891.89 1171.23 1891.89 1167.62 Q1891.89 1164.01 1889.55 1161.9 Q1887.21 1159.8 1883.21 1159.8 Q1881.33 1159.8 1879.46 1160.21 Q1877.61 1160.63 1875.66 1161.51 L1875.66 1144.15 Z\" fill=\"#000000\" fill-rule=\"nonzero\" fill-opacity=\"1\" /><path clip-path=\"url(#clip920)\" d=\"M1915.78 1147.23 Q1912.17 1147.23 1910.34 1150.79 Q1908.53 1154.33 1908.53 1161.46 Q1908.53 1168.57 1910.34 1172.14 Q1912.17 1175.68 1915.78 1175.68 Q1919.41 1175.68 1921.22 1172.14 Q1923.04 1168.57 1923.04 1161.46 Q1923.04 1154.33 1921.22 1150.79 Q1919.41 1147.23 1915.78 1147.23 M1915.78 1143.52 Q1921.59 1143.52 1924.64 1148.13 Q1927.72 1152.71 1927.72 1161.46 Q1927.72 1170.19 1924.64 1174.8 Q1921.59 1179.38 1915.78 1179.38 Q1909.97 1179.38 1906.89 1174.8 Q1903.83 1170.19 1903.83 1161.46 Q1903.83 1152.71 1906.89 1148.13 Q1909.97 1143.52 1915.78 1143.52 Z\" fill=\"#000000\" fill-rule=\"nonzero\" fill-opacity=\"1\" /><path clip-path=\"url(#clip920)\" d=\"M1866.04 1098.89 Q1862.43 1098.89 1860.6 1102.46 Q1858.79 1106 1858.79 1113.13 Q1858.79 1120.23 1860.6 1123.8 Q1862.43 1127.34 1866.04 1127.34 Q1869.67 1127.34 1871.48 1123.8 Q1873.31 1120.23 1873.31 1113.13 Q1873.31 1106 1871.48 1102.46 Q1869.67 1098.89 1866.04 1098.89 M1866.04 1095.19 Q1871.85 1095.19 1874.9 1099.79 Q1877.98 1104.38 1877.98 1113.13 Q1877.98 1121.85 1874.9 1126.46 Q1871.85 1131.04 1866.04 1131.04 Q1860.23 1131.04 1857.15 1126.46 Q1854.09 1121.85 1854.09 1113.13 Q1854.09 1104.38 1857.15 1099.79 Q1860.23 1095.19 1866.04 1095.19 Z\" fill=\"#000000\" fill-rule=\"nonzero\" fill-opacity=\"1\" /><path clip-path=\"url(#clip920)\" d=\"M1886.2 1124.49 L1891.08 1124.49 L1891.08 1130.37 L1886.2 1130.37 L1886.2 1124.49 Z\" fill=\"#000000\" fill-rule=\"nonzero\" fill-opacity=\"1\" /><path clip-path=\"url(#clip920)\" d=\"M1911.27 1098.89 Q1907.66 1098.89 1905.83 1102.46 Q1904.02 1106 1904.02 1113.13 Q1904.02 1120.23 1905.83 1123.8 Q1907.66 1127.34 1911.27 1127.34 Q1914.9 1127.34 1916.71 1123.8 Q1918.54 1120.23 1918.54 1113.13 Q1918.54 1106 1916.71 1102.46 Q1914.9 1098.89 1911.27 1098.89 M1911.27 1095.19 Q1917.08 1095.19 1920.13 1099.79 Q1923.21 1104.38 1923.21 1113.13 Q1923.21 1121.85 1920.13 1126.46 Q1917.08 1131.04 1911.27 1131.04 Q1905.46 1131.04 1902.38 1126.46 Q1899.32 1121.85 1899.32 1113.13 Q1899.32 1104.38 1902.38 1099.79 Q1905.46 1095.19 1911.27 1095.19 Z\" fill=\"#000000\" fill-rule=\"nonzero\" fill-opacity=\"1\" /><path clip-path=\"url(#clip920)\" d=\"M1930.25 1095.81 L1952.47 1095.81 L1952.47 1097.8 L1939.93 1130.37 L1935.04 1130.37 L1946.85 1099.75 L1930.25 1099.75 L1930.25 1095.81 Z\" fill=\"#000000\" fill-rule=\"nonzero\" fill-opacity=\"1\" /><path clip-path=\"url(#clip920)\" d=\"M1961.64 1095.81 L1979.99 1095.81 L1979.99 1099.75 L1965.92 1099.75 L1965.92 1108.22 Q1966.94 1107.87 1967.96 1107.71 Q1968.98 1107.52 1969.99 1107.52 Q1975.78 1107.52 1979.16 1110.7 Q1982.54 1113.87 1982.54 1119.28 Q1982.54 1124.86 1979.07 1127.96 Q1975.6 1131.04 1969.28 1131.04 Q1967.1 1131.04 1964.83 1130.67 Q1962.59 1130.3 1960.18 1129.56 L1960.18 1124.86 Q1962.26 1126 1964.49 1126.55 Q1966.71 1127.11 1969.18 1127.11 Q1973.19 1127.11 1975.53 1125 Q1977.86 1122.89 1977.86 1119.28 Q1977.86 1115.67 1975.53 1113.57 Q1973.19 1111.46 1969.18 1111.46 Q1967.31 1111.46 1965.43 1111.88 Q1963.58 1112.29 1961.64 1113.17 L1961.64 1095.81 Z\" fill=\"#000000\" fill-rule=\"nonzero\" fill-opacity=\"1\" /><polyline clip-path=\"url(#clip922)\" style=\"stroke:#000000; stroke-linecap:round; stroke-linejoin:round; stroke-width:2; stroke-opacity:0.1; fill:none\" points=\"751.057,1148.76 1166.52,788.962 1886.12,996.693 \"/>\n",
       "<polyline clip-path=\"url(#clip922)\" style=\"stroke:#000000; stroke-linecap:round; stroke-linejoin:round; stroke-width:2; stroke-opacity:0.1; fill:none\" points=\"751.057,1028.72 1166.52,668.922 1886.12,876.653 \"/>\n",
       "<polyline clip-path=\"url(#clip922)\" style=\"stroke:#000000; stroke-linecap:round; stroke-linejoin:round; stroke-width:2; stroke-opacity:0.1; fill:none\" points=\"751.057,908.684 1166.52,548.883 1886.12,756.614 \"/>\n",
       "<polyline clip-path=\"url(#clip922)\" style=\"stroke:#000000; stroke-linecap:round; stroke-linejoin:round; stroke-width:2; stroke-opacity:0.1; fill:none\" points=\"751.057,788.644 1166.52,428.843 1886.12,636.574 \"/>\n",
       "<polyline clip-path=\"url(#clip922)\" style=\"stroke:#000000; stroke-linecap:round; stroke-linejoin:round; stroke-width:2; stroke-opacity:0.1; fill:none\" points=\"751.057,668.605 1166.52,308.804 1886.12,516.535 \"/>\n",
       "<polyline clip-path=\"url(#clip922)\" style=\"stroke:#000000; stroke-linecap:round; stroke-linejoin:round; stroke-width:2; stroke-opacity:0.1; fill:none\" points=\"751.057,548.565 1166.52,188.764 1886.12,396.496 \"/>\n",
       "<polyline clip-path=\"url(#clip920)\" style=\"stroke:#000000; stroke-linecap:round; stroke-linejoin:round; stroke-width:4; stroke-opacity:1; fill:none\" points=\"751.057,1202.68 751.057,483.08 \"/>\n",
       "<polyline clip-path=\"url(#clip920)\" style=\"stroke:#000000; stroke-linecap:round; stroke-linejoin:round; stroke-width:4; stroke-opacity:1; fill:none\" points=\"751.057,1148.76 756.042,1144.44 \"/>\n",
       "<polyline clip-path=\"url(#clip920)\" style=\"stroke:#000000; stroke-linecap:round; stroke-linejoin:round; stroke-width:4; stroke-opacity:1; fill:none\" points=\"751.057,1028.72 756.042,1024.41 \"/>\n",
       "<polyline clip-path=\"url(#clip920)\" style=\"stroke:#000000; stroke-linecap:round; stroke-linejoin:round; stroke-width:4; stroke-opacity:1; fill:none\" points=\"751.057,908.684 756.042,904.366 \"/>\n",
       "<polyline clip-path=\"url(#clip920)\" style=\"stroke:#000000; stroke-linecap:round; stroke-linejoin:round; stroke-width:4; stroke-opacity:1; fill:none\" points=\"751.057,788.644 756.042,784.327 \"/>\n",
       "<polyline clip-path=\"url(#clip920)\" style=\"stroke:#000000; stroke-linecap:round; stroke-linejoin:round; stroke-width:4; stroke-opacity:1; fill:none\" points=\"751.057,668.605 756.042,664.287 \"/>\n",
       "<polyline clip-path=\"url(#clip920)\" style=\"stroke:#000000; stroke-linecap:round; stroke-linejoin:round; stroke-width:4; stroke-opacity:1; fill:none\" points=\"751.057,548.565 756.042,544.248 \"/>\n",
       "<path clip-path=\"url(#clip920)\" d=\"M525.823 1149.21 L555.498 1149.21 L555.498 1153.15 L525.823 1153.15 L525.823 1149.21 Z\" fill=\"#000000\" fill-rule=\"nonzero\" fill-opacity=\"1\" /><path clip-path=\"url(#clip920)\" d=\"M575.591 1134.56 Q571.98 1134.56 570.151 1138.13 Q568.345 1141.67 568.345 1148.8 Q568.345 1155.9 570.151 1159.47 Q571.98 1163.01 575.591 1163.01 Q579.225 1163.01 581.031 1159.47 Q582.859 1155.9 582.859 1148.8 Q582.859 1141.67 581.031 1138.13 Q579.225 1134.56 575.591 1134.56 M575.591 1130.86 Q581.401 1130.86 584.456 1135.46 Q587.535 1140.05 587.535 1148.8 Q587.535 1157.52 584.456 1162.13 Q581.401 1166.71 575.591 1166.71 Q569.781 1166.71 566.702 1162.13 Q563.646 1157.52 563.646 1148.8 Q563.646 1140.05 566.702 1135.46 Q569.781 1130.86 575.591 1130.86 Z\" fill=\"#000000\" fill-rule=\"nonzero\" fill-opacity=\"1\" /><path clip-path=\"url(#clip920)\" d=\"M595.753 1160.16 L600.637 1160.16 L600.637 1166.04 L595.753 1166.04 L595.753 1160.16 Z\" fill=\"#000000\" fill-rule=\"nonzero\" fill-opacity=\"1\" /><path clip-path=\"url(#clip920)\" d=\"M620.822 1134.56 Q617.211 1134.56 615.382 1138.13 Q613.577 1141.67 613.577 1148.8 Q613.577 1155.9 615.382 1159.47 Q617.211 1163.01 620.822 1163.01 Q624.456 1163.01 626.262 1159.47 Q628.09 1155.9 628.09 1148.8 Q628.09 1141.67 626.262 1138.13 Q624.456 1134.56 620.822 1134.56 M620.822 1130.86 Q626.632 1130.86 629.688 1135.46 Q632.766 1140.05 632.766 1148.8 Q632.766 1157.52 629.688 1162.13 Q626.632 1166.71 620.822 1166.71 Q615.012 1166.71 611.933 1162.13 Q608.878 1157.52 608.878 1148.8 Q608.878 1140.05 611.933 1135.46 Q615.012 1130.86 620.822 1130.86 Z\" fill=\"#000000\" fill-rule=\"nonzero\" fill-opacity=\"1\" /><path clip-path=\"url(#clip920)\" d=\"M650.984 1134.56 Q647.373 1134.56 645.544 1138.13 Q643.739 1141.67 643.739 1148.8 Q643.739 1155.9 645.544 1159.47 Q647.373 1163.01 650.984 1163.01 Q654.618 1163.01 656.424 1159.47 Q658.252 1155.9 658.252 1148.8 Q658.252 1141.67 656.424 1138.13 Q654.618 1134.56 650.984 1134.56 M650.984 1130.86 Q656.794 1130.86 659.85 1135.46 Q662.928 1140.05 662.928 1148.8 Q662.928 1157.52 659.85 1162.13 Q656.794 1166.71 650.984 1166.71 Q645.174 1166.71 642.095 1162.13 Q639.04 1157.52 639.04 1148.8 Q639.04 1140.05 642.095 1135.46 Q645.174 1130.86 650.984 1130.86 Z\" fill=\"#000000\" fill-rule=\"nonzero\" fill-opacity=\"1\" /><path clip-path=\"url(#clip920)\" d=\"M669.965 1131.48 L692.187 1131.48 L692.187 1133.47 L679.641 1166.04 L674.757 1166.04 L686.562 1135.42 L669.965 1135.42 L669.965 1131.48 Z\" fill=\"#000000\" fill-rule=\"nonzero\" fill-opacity=\"1\" /><path clip-path=\"url(#clip920)\" d=\"M701.354 1131.48 L719.71 1131.48 L719.71 1135.42 L705.636 1135.42 L705.636 1143.89 Q706.655 1143.54 707.673 1143.38 Q708.692 1143.2 709.71 1143.2 Q715.497 1143.2 718.877 1146.37 Q722.257 1149.54 722.257 1154.95 Q722.257 1160.53 718.784 1163.64 Q715.312 1166.71 708.993 1166.71 Q706.817 1166.71 704.548 1166.34 Q702.303 1165.97 699.896 1165.23 L699.896 1160.53 Q701.979 1161.67 704.201 1162.22 Q706.423 1162.78 708.9 1162.78 Q712.905 1162.78 715.243 1160.67 Q717.581 1158.57 717.581 1154.95 Q717.581 1151.34 715.243 1149.24 Q712.905 1147.13 708.9 1147.13 Q707.025 1147.13 705.15 1147.55 Q703.298 1147.96 701.354 1148.84 L701.354 1131.48 Z\" fill=\"#000000\" fill-rule=\"nonzero\" fill-opacity=\"1\" /><path clip-path=\"url(#clip920)\" d=\"M524.827 1029.17 L554.503 1029.17 L554.503 1033.11 L524.827 1033.11 L524.827 1029.17 Z\" fill=\"#000000\" fill-rule=\"nonzero\" fill-opacity=\"1\" /><path clip-path=\"url(#clip920)\" d=\"M574.595 1014.52 Q570.984 1014.52 569.156 1018.09 Q567.35 1021.63 567.35 1028.76 Q567.35 1035.86 569.156 1039.43 Q570.984 1042.97 574.595 1042.97 Q578.23 1042.97 580.035 1039.43 Q581.864 1035.86 581.864 1028.76 Q581.864 1021.63 580.035 1018.09 Q578.23 1014.52 574.595 1014.52 M574.595 1010.82 Q580.406 1010.82 583.461 1015.42 Q586.54 1020.01 586.54 1028.76 Q586.54 1037.48 583.461 1042.09 Q580.406 1046.67 574.595 1046.67 Q568.785 1046.67 565.707 1042.09 Q562.651 1037.48 562.651 1028.76 Q562.651 1020.01 565.707 1015.42 Q568.785 1010.82 574.595 1010.82 Z\" fill=\"#000000\" fill-rule=\"nonzero\" fill-opacity=\"1\" /><path clip-path=\"url(#clip920)\" d=\"M594.757 1040.12 L599.642 1040.12 L599.642 1046 L594.757 1046 L594.757 1040.12 Z\" fill=\"#000000\" fill-rule=\"nonzero\" fill-opacity=\"1\" /><path clip-path=\"url(#clip920)\" d=\"M619.827 1014.52 Q616.216 1014.52 614.387 1018.09 Q612.581 1021.63 612.581 1028.76 Q612.581 1035.86 614.387 1039.43 Q616.216 1042.97 619.827 1042.97 Q623.461 1042.97 625.266 1039.43 Q627.095 1035.86 627.095 1028.76 Q627.095 1021.63 625.266 1018.09 Q623.461 1014.52 619.827 1014.52 M619.827 1010.82 Q625.637 1010.82 628.692 1015.42 Q631.771 1020.01 631.771 1028.76 Q631.771 1037.48 628.692 1042.09 Q625.637 1046.67 619.827 1046.67 Q614.016 1046.67 610.938 1042.09 Q607.882 1037.48 607.882 1028.76 Q607.882 1020.01 610.938 1015.42 Q614.016 1010.82 619.827 1010.82 Z\" fill=\"#000000\" fill-rule=\"nonzero\" fill-opacity=\"1\" /><path clip-path=\"url(#clip920)\" d=\"M649.989 1014.52 Q646.377 1014.52 644.549 1018.09 Q642.743 1021.63 642.743 1028.76 Q642.743 1035.86 644.549 1039.43 Q646.377 1042.97 649.989 1042.97 Q653.623 1042.97 655.428 1039.43 Q657.257 1035.86 657.257 1028.76 Q657.257 1021.63 655.428 1018.09 Q653.623 1014.52 649.989 1014.52 M649.989 1010.82 Q655.799 1010.82 658.854 1015.42 Q661.933 1020.01 661.933 1028.76 Q661.933 1037.48 658.854 1042.09 Q655.799 1046.67 649.989 1046.67 Q644.178 1046.67 641.1 1042.09 Q638.044 1037.48 638.044 1028.76 Q638.044 1020.01 641.1 1015.42 Q644.178 1010.82 649.989 1010.82 Z\" fill=\"#000000\" fill-rule=\"nonzero\" fill-opacity=\"1\" /><path clip-path=\"url(#clip920)\" d=\"M670.197 1011.44 L688.553 1011.44 L688.553 1015.38 L674.479 1015.38 L674.479 1023.85 Q675.498 1023.5 676.516 1023.34 Q677.535 1023.16 678.553 1023.16 Q684.34 1023.16 687.72 1026.33 Q691.099 1029.5 691.099 1034.92 Q691.099 1040.49 687.627 1043.6 Q684.155 1046.67 677.836 1046.67 Q675.66 1046.67 673.391 1046.3 Q671.146 1045.93 668.738 1045.19 L668.738 1040.49 Q670.822 1041.63 673.044 1042.18 Q675.266 1042.74 677.743 1042.74 Q681.748 1042.74 684.086 1040.63 Q686.424 1038.53 686.424 1034.92 Q686.424 1031.3 684.086 1029.2 Q681.748 1027.09 677.743 1027.09 Q675.868 1027.09 673.993 1027.51 Q672.141 1027.92 670.197 1028.8 L670.197 1011.44 Z\" fill=\"#000000\" fill-rule=\"nonzero\" fill-opacity=\"1\" /><path clip-path=\"url(#clip920)\" d=\"M710.312 1014.52 Q706.701 1014.52 704.872 1018.09 Q703.067 1021.63 703.067 1028.76 Q703.067 1035.86 704.872 1039.43 Q706.701 1042.97 710.312 1042.97 Q713.947 1042.97 715.752 1039.43 Q717.581 1035.86 717.581 1028.76 Q717.581 1021.63 715.752 1018.09 Q713.947 1014.52 710.312 1014.52 M710.312 1010.82 Q716.122 1010.82 719.178 1015.42 Q722.257 1020.01 722.257 1028.76 Q722.257 1037.48 719.178 1042.09 Q716.122 1046.67 710.312 1046.67 Q704.502 1046.67 701.423 1042.09 Q698.368 1037.48 698.368 1028.76 Q698.368 1020.01 701.423 1015.42 Q704.502 1010.82 710.312 1010.82 Z\" fill=\"#000000\" fill-rule=\"nonzero\" fill-opacity=\"1\" /><path clip-path=\"url(#clip920)\" d=\"M525.823 909.135 L555.498 909.135 L555.498 913.07 L525.823 913.07 L525.823 909.135 Z\" fill=\"#000000\" fill-rule=\"nonzero\" fill-opacity=\"1\" /><path clip-path=\"url(#clip920)\" d=\"M575.591 894.482 Q571.98 894.482 570.151 898.047 Q568.345 901.589 568.345 908.718 Q568.345 915.825 570.151 919.39 Q571.98 922.931 575.591 922.931 Q579.225 922.931 581.031 919.39 Q582.859 915.825 582.859 908.718 Q582.859 901.589 581.031 898.047 Q579.225 894.482 575.591 894.482 M575.591 890.779 Q581.401 890.779 584.456 895.385 Q587.535 899.968 587.535 908.718 Q587.535 917.445 584.456 922.052 Q581.401 926.635 575.591 926.635 Q569.781 926.635 566.702 922.052 Q563.646 917.445 563.646 908.718 Q563.646 899.968 566.702 895.385 Q569.781 890.779 575.591 890.779 Z\" fill=\"#000000\" fill-rule=\"nonzero\" fill-opacity=\"1\" /><path clip-path=\"url(#clip920)\" d=\"M595.753 920.084 L600.637 920.084 L600.637 925.964 L595.753 925.964 L595.753 920.084 Z\" fill=\"#000000\" fill-rule=\"nonzero\" fill-opacity=\"1\" /><path clip-path=\"url(#clip920)\" d=\"M620.822 894.482 Q617.211 894.482 615.382 898.047 Q613.577 901.589 613.577 908.718 Q613.577 915.825 615.382 919.39 Q617.211 922.931 620.822 922.931 Q624.456 922.931 626.262 919.39 Q628.09 915.825 628.09 908.718 Q628.09 901.589 626.262 898.047 Q624.456 894.482 620.822 894.482 M620.822 890.779 Q626.632 890.779 629.688 895.385 Q632.766 899.968 632.766 908.718 Q632.766 917.445 629.688 922.052 Q626.632 926.635 620.822 926.635 Q615.012 926.635 611.933 922.052 Q608.878 917.445 608.878 908.718 Q608.878 899.968 611.933 895.385 Q615.012 890.779 620.822 890.779 Z\" fill=\"#000000\" fill-rule=\"nonzero\" fill-opacity=\"1\" /><path clip-path=\"url(#clip920)\" d=\"M650.984 894.482 Q647.373 894.482 645.544 898.047 Q643.739 901.589 643.739 908.718 Q643.739 915.825 645.544 919.39 Q647.373 922.931 650.984 922.931 Q654.618 922.931 656.424 919.39 Q658.252 915.825 658.252 908.718 Q658.252 901.589 656.424 898.047 Q654.618 894.482 650.984 894.482 M650.984 890.779 Q656.794 890.779 659.85 895.385 Q662.928 899.968 662.928 908.718 Q662.928 917.445 659.85 922.052 Q656.794 926.635 650.984 926.635 Q645.174 926.635 642.095 922.052 Q639.04 917.445 639.04 908.718 Q639.04 899.968 642.095 895.385 Q645.174 890.779 650.984 890.779 Z\" fill=\"#000000\" fill-rule=\"nonzero\" fill-opacity=\"1\" /><path clip-path=\"url(#clip920)\" d=\"M675.174 922.028 L691.493 922.028 L691.493 925.964 L669.549 925.964 L669.549 922.028 Q672.211 919.274 676.794 914.644 Q681.4 909.991 682.581 908.649 Q684.826 906.126 685.706 904.39 Q686.609 902.63 686.609 900.941 Q686.609 898.186 684.664 896.45 Q682.743 894.714 679.641 894.714 Q677.442 894.714 674.988 895.478 Q672.558 896.242 669.78 897.792 L669.78 893.07 Q672.604 891.936 675.058 891.357 Q677.512 890.779 679.549 890.779 Q684.919 890.779 688.113 893.464 Q691.308 896.149 691.308 900.64 Q691.308 902.769 690.498 904.691 Q689.711 906.589 687.604 909.181 Q687.025 909.853 683.924 913.07 Q680.822 916.265 675.174 922.028 Z\" fill=\"#000000\" fill-rule=\"nonzero\" fill-opacity=\"1\" /><path clip-path=\"url(#clip920)\" d=\"M701.354 891.404 L719.71 891.404 L719.71 895.339 L705.636 895.339 L705.636 903.811 Q706.655 903.464 707.673 903.302 Q708.692 903.117 709.71 903.117 Q715.497 903.117 718.877 906.288 Q722.257 909.459 722.257 914.876 Q722.257 920.454 718.784 923.556 Q715.312 926.635 708.993 926.635 Q706.817 926.635 704.548 926.265 Q702.303 925.894 699.896 925.153 L699.896 920.454 Q701.979 921.589 704.201 922.144 Q706.423 922.7 708.9 922.7 Q712.905 922.7 715.243 920.593 Q717.581 918.487 717.581 914.876 Q717.581 911.265 715.243 909.158 Q712.905 907.052 708.9 907.052 Q707.025 907.052 705.15 907.468 Q703.298 907.885 701.354 908.765 L701.354 891.404 Z\" fill=\"#000000\" fill-rule=\"nonzero\" fill-opacity=\"1\" /><path clip-path=\"url(#clip920)\" d=\"M574.595 774.443 Q570.984 774.443 569.156 778.008 Q567.35 781.549 567.35 788.679 Q567.35 795.785 569.156 799.35 Q570.984 802.892 574.595 802.892 Q578.23 802.892 580.035 799.35 Q581.864 795.785 581.864 788.679 Q581.864 781.549 580.035 778.008 Q578.23 774.443 574.595 774.443 M574.595 770.739 Q580.406 770.739 583.461 775.346 Q586.54 779.929 586.54 788.679 Q586.54 797.406 583.461 802.012 Q580.406 806.595 574.595 806.595 Q568.785 806.595 565.707 802.012 Q562.651 797.406 562.651 788.679 Q562.651 779.929 565.707 775.346 Q568.785 770.739 574.595 770.739 Z\" fill=\"#000000\" fill-rule=\"nonzero\" fill-opacity=\"1\" /><path clip-path=\"url(#clip920)\" d=\"M594.757 800.045 L599.642 800.045 L599.642 805.924 L594.757 805.924 L594.757 800.045 Z\" fill=\"#000000\" fill-rule=\"nonzero\" fill-opacity=\"1\" /><path clip-path=\"url(#clip920)\" d=\"M619.827 774.443 Q616.216 774.443 614.387 778.008 Q612.581 781.549 612.581 788.679 Q612.581 795.785 614.387 799.35 Q616.216 802.892 619.827 802.892 Q623.461 802.892 625.266 799.35 Q627.095 795.785 627.095 788.679 Q627.095 781.549 625.266 778.008 Q623.461 774.443 619.827 774.443 M619.827 770.739 Q625.637 770.739 628.692 775.346 Q631.771 779.929 631.771 788.679 Q631.771 797.406 628.692 802.012 Q625.637 806.595 619.827 806.595 Q614.016 806.595 610.938 802.012 Q607.882 797.406 607.882 788.679 Q607.882 779.929 610.938 775.346 Q614.016 770.739 619.827 770.739 Z\" fill=\"#000000\" fill-rule=\"nonzero\" fill-opacity=\"1\" /><path clip-path=\"url(#clip920)\" d=\"M649.989 774.443 Q646.377 774.443 644.549 778.008 Q642.743 781.549 642.743 788.679 Q642.743 795.785 644.549 799.35 Q646.377 802.892 649.989 802.892 Q653.623 802.892 655.428 799.35 Q657.257 795.785 657.257 788.679 Q657.257 781.549 655.428 778.008 Q653.623 774.443 649.989 774.443 M649.989 770.739 Q655.799 770.739 658.854 775.346 Q661.933 779.929 661.933 788.679 Q661.933 797.406 658.854 802.012 Q655.799 806.595 649.989 806.595 Q644.178 806.595 641.1 802.012 Q638.044 797.406 638.044 788.679 Q638.044 779.929 641.1 775.346 Q644.178 770.739 649.989 770.739 Z\" fill=\"#000000\" fill-rule=\"nonzero\" fill-opacity=\"1\" /><path clip-path=\"url(#clip920)\" d=\"M680.15 774.443 Q676.539 774.443 674.711 778.008 Q672.905 781.549 672.905 788.679 Q672.905 795.785 674.711 799.35 Q676.539 802.892 680.15 802.892 Q683.785 802.892 685.59 799.35 Q687.419 795.785 687.419 788.679 Q687.419 781.549 685.59 778.008 Q683.785 774.443 680.15 774.443 M680.15 770.739 Q685.961 770.739 689.016 775.346 Q692.095 779.929 692.095 788.679 Q692.095 797.406 689.016 802.012 Q685.961 806.595 680.15 806.595 Q674.34 806.595 671.262 802.012 Q668.206 797.406 668.206 788.679 Q668.206 779.929 671.262 775.346 Q674.34 770.739 680.15 770.739 Z\" fill=\"#000000\" fill-rule=\"nonzero\" fill-opacity=\"1\" /><path clip-path=\"url(#clip920)\" d=\"M710.312 774.443 Q706.701 774.443 704.872 778.008 Q703.067 781.549 703.067 788.679 Q703.067 795.785 704.872 799.35 Q706.701 802.892 710.312 802.892 Q713.947 802.892 715.752 799.35 Q717.581 795.785 717.581 788.679 Q717.581 781.549 715.752 778.008 Q713.947 774.443 710.312 774.443 M710.312 770.739 Q716.122 770.739 719.178 775.346 Q722.257 779.929 722.257 788.679 Q722.257 797.406 719.178 802.012 Q716.122 806.595 710.312 806.595 Q704.502 806.595 701.423 802.012 Q698.368 797.406 698.368 788.679 Q698.368 779.929 701.423 775.346 Q704.502 770.739 710.312 770.739 Z\" fill=\"#000000\" fill-rule=\"nonzero\" fill-opacity=\"1\" /><path clip-path=\"url(#clip920)\" d=\"M575.591 654.403 Q571.98 654.403 570.151 657.968 Q568.345 661.51 568.345 668.639 Q568.345 675.746 570.151 679.311 Q571.98 682.852 575.591 682.852 Q579.225 682.852 581.031 679.311 Q582.859 675.746 582.859 668.639 Q582.859 661.51 581.031 657.968 Q579.225 654.403 575.591 654.403 M575.591 650.7 Q581.401 650.7 584.456 655.306 Q587.535 659.889 587.535 668.639 Q587.535 677.366 584.456 681.973 Q581.401 686.556 575.591 686.556 Q569.781 686.556 566.702 681.973 Q563.646 677.366 563.646 668.639 Q563.646 659.889 566.702 655.306 Q569.781 650.7 575.591 650.7 Z\" fill=\"#000000\" fill-rule=\"nonzero\" fill-opacity=\"1\" /><path clip-path=\"url(#clip920)\" d=\"M595.753 680.005 L600.637 680.005 L600.637 685.885 L595.753 685.885 L595.753 680.005 Z\" fill=\"#000000\" fill-rule=\"nonzero\" fill-opacity=\"1\" /><path clip-path=\"url(#clip920)\" d=\"M620.822 654.403 Q617.211 654.403 615.382 657.968 Q613.577 661.51 613.577 668.639 Q613.577 675.746 615.382 679.311 Q617.211 682.852 620.822 682.852 Q624.456 682.852 626.262 679.311 Q628.09 675.746 628.09 668.639 Q628.09 661.51 626.262 657.968 Q624.456 654.403 620.822 654.403 M620.822 650.7 Q626.632 650.7 629.688 655.306 Q632.766 659.889 632.766 668.639 Q632.766 677.366 629.688 681.973 Q626.632 686.556 620.822 686.556 Q615.012 686.556 611.933 681.973 Q608.878 677.366 608.878 668.639 Q608.878 659.889 611.933 655.306 Q615.012 650.7 620.822 650.7 Z\" fill=\"#000000\" fill-rule=\"nonzero\" fill-opacity=\"1\" /><path clip-path=\"url(#clip920)\" d=\"M650.984 654.403 Q647.373 654.403 645.544 657.968 Q643.739 661.51 643.739 668.639 Q643.739 675.746 645.544 679.311 Q647.373 682.852 650.984 682.852 Q654.618 682.852 656.424 679.311 Q658.252 675.746 658.252 668.639 Q658.252 661.51 656.424 657.968 Q654.618 654.403 650.984 654.403 M650.984 650.7 Q656.794 650.7 659.85 655.306 Q662.928 659.889 662.928 668.639 Q662.928 677.366 659.85 681.973 Q656.794 686.556 650.984 686.556 Q645.174 686.556 642.095 681.973 Q639.04 677.366 639.04 668.639 Q639.04 659.889 642.095 655.306 Q645.174 650.7 650.984 650.7 Z\" fill=\"#000000\" fill-rule=\"nonzero\" fill-opacity=\"1\" /><path clip-path=\"url(#clip920)\" d=\"M675.174 681.95 L691.493 681.95 L691.493 685.885 L669.549 685.885 L669.549 681.95 Q672.211 679.195 676.794 674.565 Q681.4 669.913 682.581 668.57 Q684.826 666.047 685.706 664.311 Q686.609 662.552 686.609 660.862 Q686.609 658.107 684.664 656.371 Q682.743 654.635 679.641 654.635 Q677.442 654.635 674.988 655.399 Q672.558 656.163 669.78 657.714 L669.78 652.991 Q672.604 651.857 675.058 651.278 Q677.512 650.7 679.549 650.7 Q684.919 650.7 688.113 653.385 Q691.308 656.07 691.308 660.561 Q691.308 662.69 690.498 664.612 Q689.711 666.51 687.604 669.102 Q687.025 669.774 683.924 672.991 Q680.822 676.186 675.174 681.95 Z\" fill=\"#000000\" fill-rule=\"nonzero\" fill-opacity=\"1\" /><path clip-path=\"url(#clip920)\" d=\"M701.354 651.325 L719.71 651.325 L719.71 655.26 L705.636 655.26 L705.636 663.732 Q706.655 663.385 707.673 663.223 Q708.692 663.038 709.71 663.038 Q715.497 663.038 718.877 666.209 Q722.257 669.38 722.257 674.797 Q722.257 680.376 718.784 683.477 Q715.312 686.556 708.993 686.556 Q706.817 686.556 704.548 686.186 Q702.303 685.815 699.896 685.075 L699.896 680.376 Q701.979 681.51 704.201 682.065 Q706.423 682.621 708.9 682.621 Q712.905 682.621 715.243 680.514 Q717.581 678.408 717.581 674.797 Q717.581 671.186 715.243 669.079 Q712.905 666.973 708.9 666.973 Q707.025 666.973 705.15 667.389 Q703.298 667.806 701.354 668.686 L701.354 651.325 Z\" fill=\"#000000\" fill-rule=\"nonzero\" fill-opacity=\"1\" /><path clip-path=\"url(#clip920)\" d=\"M574.595 534.364 Q570.984 534.364 569.156 537.929 Q567.35 541.47 567.35 548.6 Q567.35 555.706 569.156 559.271 Q570.984 562.813 574.595 562.813 Q578.23 562.813 580.035 559.271 Q581.864 555.706 581.864 548.6 Q581.864 541.47 580.035 537.929 Q578.23 534.364 574.595 534.364 M574.595 530.66 Q580.406 530.66 583.461 535.267 Q586.54 539.85 586.54 548.6 Q586.54 557.327 583.461 561.933 Q580.406 566.517 574.595 566.517 Q568.785 566.517 565.707 561.933 Q562.651 557.327 562.651 548.6 Q562.651 539.85 565.707 535.267 Q568.785 530.66 574.595 530.66 Z\" fill=\"#000000\" fill-rule=\"nonzero\" fill-opacity=\"1\" /><path clip-path=\"url(#clip920)\" d=\"M594.757 559.966 L599.642 559.966 L599.642 565.845 L594.757 565.845 L594.757 559.966 Z\" fill=\"#000000\" fill-rule=\"nonzero\" fill-opacity=\"1\" /><path clip-path=\"url(#clip920)\" d=\"M619.827 534.364 Q616.216 534.364 614.387 537.929 Q612.581 541.47 612.581 548.6 Q612.581 555.706 614.387 559.271 Q616.216 562.813 619.827 562.813 Q623.461 562.813 625.266 559.271 Q627.095 555.706 627.095 548.6 Q627.095 541.47 625.266 537.929 Q623.461 534.364 619.827 534.364 M619.827 530.66 Q625.637 530.66 628.692 535.267 Q631.771 539.85 631.771 548.6 Q631.771 557.327 628.692 561.933 Q625.637 566.517 619.827 566.517 Q614.016 566.517 610.938 561.933 Q607.882 557.327 607.882 548.6 Q607.882 539.85 610.938 535.267 Q614.016 530.66 619.827 530.66 Z\" fill=\"#000000\" fill-rule=\"nonzero\" fill-opacity=\"1\" /><path clip-path=\"url(#clip920)\" d=\"M649.989 534.364 Q646.377 534.364 644.549 537.929 Q642.743 541.47 642.743 548.6 Q642.743 555.706 644.549 559.271 Q646.377 562.813 649.989 562.813 Q653.623 562.813 655.428 559.271 Q657.257 555.706 657.257 548.6 Q657.257 541.47 655.428 537.929 Q653.623 534.364 649.989 534.364 M649.989 530.66 Q655.799 530.66 658.854 535.267 Q661.933 539.85 661.933 548.6 Q661.933 557.327 658.854 561.933 Q655.799 566.517 649.989 566.517 Q644.178 566.517 641.1 561.933 Q638.044 557.327 638.044 548.6 Q638.044 539.85 641.1 535.267 Q644.178 530.66 649.989 530.66 Z\" fill=\"#000000\" fill-rule=\"nonzero\" fill-opacity=\"1\" /><path clip-path=\"url(#clip920)\" d=\"M670.197 531.285 L688.553 531.285 L688.553 535.22 L674.479 535.22 L674.479 543.693 Q675.498 543.345 676.516 543.183 Q677.535 542.998 678.553 542.998 Q684.34 542.998 687.72 546.169 Q691.099 549.341 691.099 554.757 Q691.099 560.336 687.627 563.438 Q684.155 566.517 677.836 566.517 Q675.66 566.517 673.391 566.146 Q671.146 565.776 668.738 565.035 L668.738 560.336 Q670.822 561.47 673.044 562.026 Q675.266 562.581 677.743 562.581 Q681.748 562.581 684.086 560.475 Q686.424 558.368 686.424 554.757 Q686.424 551.146 684.086 549.04 Q681.748 546.933 677.743 546.933 Q675.868 546.933 673.993 547.35 Q672.141 547.767 670.197 548.646 L670.197 531.285 Z\" fill=\"#000000\" fill-rule=\"nonzero\" fill-opacity=\"1\" /><path clip-path=\"url(#clip920)\" d=\"M710.312 534.364 Q706.701 534.364 704.872 537.929 Q703.067 541.47 703.067 548.6 Q703.067 555.706 704.872 559.271 Q706.701 562.813 710.312 562.813 Q713.947 562.813 715.752 559.271 Q717.581 555.706 717.581 548.6 Q717.581 541.47 715.752 537.929 Q713.947 534.364 710.312 534.364 M710.312 530.66 Q716.122 530.66 719.178 535.267 Q722.257 539.85 722.257 548.6 Q722.257 557.327 719.178 561.933 Q716.122 566.517 710.312 566.517 Q704.502 566.517 701.423 561.933 Q698.368 557.327 698.368 548.6 Q698.368 539.85 701.423 535.267 Q704.502 530.66 710.312 530.66 Z\" fill=\"#000000\" fill-rule=\"nonzero\" fill-opacity=\"1\" /><polyline clip-path=\"url(#clip922)\" style=\"stroke:#009af9; stroke-linecap:round; stroke-linejoin:round; stroke-width:4; stroke-opacity:1; fill:none\" points=\"979.153,329.425 985.423,324.225 993.228,318.388 1001.71,312.838 1011.17,307.63 1021.26,303.203 1032.01,299.775 1043.32,297.598 1055.21,296.867 1067.68,297.763 1080.85,300.465 1094.81,305.151 1109.73,312.022 1125.77,321.28 1143.13,333.142 1161.92,347.74 1182.17,365.097 1203.95,385.243 1227.35,408.193 1252.48,433.992 1279.41,462.707 1308.19,494.356 1338.85,529.027 1371.32,566.743 1405.45,607.479 1440.63,650.732 1476.18,695.979 1511.22,742.425 1544.96,789.395 1576.7,836.318 1605.74,882.62 1631.47,927.774 1653.38,971.412 1670.95,1013.04 1683.73,1052.26 1691.32,1088.63 1693.43,1121.76 1689.83,1151.27 1680.41,1176.81 1665.19,1198.06 1644.29,1214.81 1617.97,1226.85 1586.59,1234.07 1550.61,1236.42 1510.57,1233.89 1467.12,1226.57 1420.97,1214.56 1372.92,1198.09 1323.76,1177.4 1274.36,1152.85 1225.54,1124.81 1178.04,1093.7 1132.58,1059.96 1089.72,1024 1049.95,986.247 1013.62,947.045 981.01,906.707 952.313,865.488 927.748,823.755 907.774,782.611 892.543,743.36 881.574,706.447 874.295,672.216 870.1,641.115 868.251,611.033 868.549,582.154 870.78,554.446 874.743,527.955 880.24,502.718 887.088,478.743 895.116,456.039 904.166,434.626 914.097,414.52 924.996,395.397 936.562,377.696 948.398,361.839 960.397,347.775 972.444,335.502 979.153,329.425 \"/>\n",
       "<path clip-path=\"url(#clip920)\" d=\"M2024.55 198.898 L2283.81 198.898 L2283.81 95.2176 L2024.55 95.2176  Z\" fill=\"#ffffff\" fill-rule=\"evenodd\" fill-opacity=\"1\"/>\n",
       "<polyline clip-path=\"url(#clip920)\" style=\"stroke:#000000; stroke-linecap:round; stroke-linejoin:round; stroke-width:4; stroke-opacity:1; fill:none\" points=\"2024.55,198.898 2283.81,198.898 2283.81,95.2176 2024.55,95.2176 2024.55,198.898 \"/>\n",
       "<polyline clip-path=\"url(#clip920)\" style=\"stroke:#009af9; stroke-linecap:round; stroke-linejoin:round; stroke-width:4; stroke-opacity:1; fill:none\" points=\"2047.53,147.058 2185.42,147.058 \"/>\n",
       "<path clip-path=\"url(#clip920)\" d=\"M2222.24 166.745 Q2220.44 171.375 2218.72 172.787 Q2217.01 174.199 2214.14 174.199 L2210.74 174.199 L2210.74 170.634 L2213.24 170.634 Q2215 170.634 2215.97 169.8 Q2216.94 168.967 2218.12 165.865 L2218.89 163.921 L2208.4 138.412 L2212.91 138.412 L2221.02 158.689 L2229.12 138.412 L2233.63 138.412 L2222.24 166.745 Z\" fill=\"#000000\" fill-rule=\"nonzero\" fill-opacity=\"1\" /><path clip-path=\"url(#clip920)\" d=\"M2240.92 160.402 L2248.56 160.402 L2248.56 134.037 L2240.25 135.703 L2240.25 131.444 L2248.52 129.778 L2253.19 129.778 L2253.19 160.402 L2260.83 160.402 L2260.83 164.338 L2240.92 164.338 L2240.92 160.402 Z\" fill=\"#000000\" fill-rule=\"nonzero\" fill-opacity=\"1\" /></svg>\n"
      ]
     },
     "metadata": {},
     "output_type": "display_data"
    }
   ],
   "source": [
    "plot(all_state_final[1,:], all_state_final[2,:], all_state_final[3,:])"
   ]
  },
  {
   "cell_type": "code",
   "execution_count": 47,
   "id": "e67e52fa",
   "metadata": {},
   "outputs": [
    {
     "data": {
      "text/plain": [
       "6-element Vector{Float64}:\n",
       " -5.507447164987411e-9\n",
       "  6.570385800730957e-9\n",
       " -1.346415930136846e-10\n",
       " -1.633346660459268e-8\n",
       "  1.0701272729063405e-8\n",
       " -9.59632381217647e-10"
      ]
     },
     "metadata": {},
     "output_type": "display_data"
    }
   ],
   "source": [
    "final_norm = all_state_final[:,end] - all_state_final[:,1]"
   ]
  },
  {
   "cell_type": "code",
   "execution_count": 48,
   "id": "c1d3b43f",
   "metadata": {},
   "outputs": [
    {
     "data": {
      "text/plain": [
       "([1.1201297302380415 1.1201311081188294 … 1.1110655555713855 1.113575563284056; 0.0 0.0028013809910646193 … -0.03133790702360431 -0.03142771820527147; … ; 0.17677819141944426 0.17666637059384038 … -0.005070888875362288 -0.007689189775005213; 0.0 -0.0005565101221602515 … -0.014039639233851898 -0.013993448934656288], [1.0 0.0 … 0.0 0.0; 0.0 1.0 … 0.0 0.0; … ; 0.0 0.0 … 1.0 0.0; 0.0 0.0 … 0.0 1.0;;; 1.0016074883709059 7.5804311225973746e-6 … 0.00025136138370891677 4.738211992493981e-7; -2.8757725808721976e-6 0.9993829724405194 … 0.015844299170138736 1.1950669931416683e-9; … ; -0.0005442279146014368 -0.07782864945011787 … 0.9988811443374926 3.013082664426108e-7; 0.01131746896886859 0.00011816242021569976 … 2.195516203519792e-6 0.9992614228077492;;; 1.0080661616809419 8.491747541014842e-5 … 0.00126360659271463 5.3138827001967e-6; -3.228465744021556e-5 0.9969092557866961 … 0.03543423089128573 2.98489886816867e-8; … ; -0.0027263784431498343 -0.17380305899628315 … 0.9944044720641597 3.347428475451547e-6; 0.025313991459029583 0.0005896594104886009 … 2.454251236961199e-5 0.9963013040443188;;; … ;;; -6.803975958501327e9 7.574912099323072e7 … -1.434813601945089e9 -3.1201115657934044e7; 5.933331046116836e9 -6.605617184085216e7 … 1.2512131351078286e9 2.7208583563244022e7; … ; -7.741940364859498e9 8.61915394817587e7 … -1.6326103157121809e9 -3.5502355975705124e7; -2.125216534045336e8 2.3660179818037334e6 … -4.481628997819078e7 -974563.4842751886;;; -6.437519871190622e9 7.166934079366635e7 … -1.3575358187973077e9 -2.95206513463569e7; 5.79014936268797e9 -6.4462120589483485e7 … 1.2210191679141676e9 2.6551992727440782e7; … ; -8.433842057324725e9 9.389452735610494e7 … -1.7785176448683858e9 -3.867522209154978e7; -1.6281617223692086e8 1.812643529916847e6 … -3.433446274582051e7 -746628.2129546062;;; -6.174475147988367e9 6.87408462462357e7 … -1.302065289634205e9 -2.8314402398567248e7; 5.667795980535496e9 -6.309995220721262e7 … 1.1952174458056154e9 2.5990914609471798e7; … ; -8.947725293205517e9 9.961562383585888e7 … -1.8868846733982904e9 -4.103174574877983e7; -1.224541175883612e8 1.3632900708970847e6 … -2.5822965147811968e7 -561539.2495913561], [0.0, 0.015850212348726266, 0.03550054723246425, 0.056791408328013285, 0.08044153014122501, 0.10563329155867632, 0.13239751133834998, 0.16042240039607514, 0.18970074592747735, 0.22010016369487198  …  11.821342055884227, 11.833078049585978, 11.845664484132678, 11.858951404278088, 11.873065426729644, 11.888039178997335, 11.90390904472535, 11.920645642996819, 11.938339975447827, 11.952413947820157])"
      ]
     },
     "metadata": {},
     "output_type": "display_data"
    }
   ],
   "source": [
    "#Check when the orbit leave\n",
    "periodic_initial_condition = all_state_final[:,1]\n",
    "\n",
    "#Integrate the dynamics with the perturbed initial condtition\n",
    "Φ_0 = vec(Matrix(1.0*I, 6,6))\n",
    "x_0_periodic = [periodic_initial_condition; Φ_0]\n",
    "\n",
    "#integrate for 3.5 revs\n",
    "solution_periodic = dynamics_integrate(x_0_stm, 3.5*sol_t_final[end])\n",
    "\n",
    "all_state_lp, stm_in_lp, sol_t_in_lp = get_state_stm(solution_periodic)"
   ]
  },
  {
   "cell_type": "code",
   "execution_count": 49,
   "id": "ff51f7f0",
   "metadata": {},
   "outputs": [
    {
     "data": {
      "text/plain": [
       "6×412 Matrix{Float64}:\n",
       " 1.12013      1.12013       1.12014      …   1.11107       1.11358\n",
       " 0.0          0.00280138    0.00626909      -0.0313379    -0.0314277\n",
       " 0.00593968   0.00593526    0.00591757      -0.000411915  -0.000609201\n",
       " 0.0          0.000174556   0.000403396      0.181161      0.175591\n",
       " 0.176778     0.176666      0.176218        -0.00507089   -0.00768919\n",
       " 0.0         -0.00055651   -0.00124418   …  -0.0140396    -0.0139934"
      ]
     },
     "metadata": {},
     "output_type": "display_data"
    }
   ],
   "source": [
    "all_state_lp"
   ]
  },
  {
   "cell_type": "code",
   "execution_count": 50,
   "id": "a2e3ba0a",
   "metadata": {},
   "outputs": [
    {
     "data": {
      "image/png": "[encoded data removed]",
      "image/svg+xml": [
       "<?xml version=\"1.0\" encoding=\"utf-8\"?>\n",
       "<svg xmlns=\"http://www.w3.org/2000/svg\" xmlns:xlink=\"http://www.w3.org/1999/xlink\" width=\"600\" height=\"400\" viewBox=\"0 0 2400 1600\">\n",
       "<defs>\n",
       "  <clipPath id=\"clip960\">\n",
       "    <rect x=\"0\" y=\"0\" width=\"2400\" height=\"1600\"/>\n",
       "  </clipPath>\n",
       "</defs>\n",
       "<path clip-path=\"url(#clip960)\" d=\"M0 1600 L2400 1600 L2400 0 L0 0  Z\" fill=\"#ffffff\" fill-rule=\"evenodd\" fill-opacity=\"1\"/>\n",
       "<defs>\n",
       "  <clipPath id=\"clip961\">\n",
       "    <rect x=\"480\" y=\"0\" width=\"1681\" height=\"1600\"/>\n",
       "  </clipPath>\n",
       "</defs>\n",
       "<defs>\n",
       "  <clipPath id=\"clip962\">\n",
       "    <rect x=\"284\" y=\"47\" width=\"2069\" height=\"1440\"/>\n",
       "  </clipPath>\n",
       "</defs>\n",
       "<path clip-path=\"url(#clip962)\" d=\"M-10380.9 5176.19 L-10380.9 -2027.16 L-7487.05 -5628.84 L-2474.76 -3549.41 L-2474.76 3653.94 L-5368.61 7255.61 L-10380.9 5176.19  Z\" fill=\"#ffffff\" fill-rule=\"evenodd\" fill-opacity=\"1\"/>\n",
       "<polyline clip-path=\"url(#clip962)\" style=\"stroke:#000000; stroke-linecap:round; stroke-linejoin:round; stroke-width:2; stroke-opacity:0.1; fill:none\" points=\"796.609,1215.83 1212.07,856.031 1212.07,136.429 \"/>\n",
       "<polyline clip-path=\"url(#clip962)\" style=\"stroke:#000000; stroke-linecap:round; stroke-linejoin:round; stroke-width:2; stroke-opacity:0.1; fill:none\" points=\"921.916,1252 1337.38,892.204 1337.38,172.602 \"/>\n",
       "<polyline clip-path=\"url(#clip962)\" style=\"stroke:#000000; stroke-linecap:round; stroke-linejoin:round; stroke-width:2; stroke-opacity:0.1; fill:none\" points=\"1047.22,1288.18 1462.69,928.377 1462.69,208.775 \"/>\n",
       "<polyline clip-path=\"url(#clip962)\" style=\"stroke:#000000; stroke-linecap:round; stroke-linejoin:round; stroke-width:2; stroke-opacity:0.1; fill:none\" points=\"1172.53,1324.35 1587.99,964.55 1587.99,244.948 \"/>\n",
       "<polyline clip-path=\"url(#clip962)\" style=\"stroke:#000000; stroke-linecap:round; stroke-linejoin:round; stroke-width:2; stroke-opacity:0.1; fill:none\" points=\"1297.84,1360.52 1713.3,1000.72 1713.3,281.121 \"/>\n",
       "<polyline clip-path=\"url(#clip962)\" style=\"stroke:#000000; stroke-linecap:round; stroke-linejoin:round; stroke-width:2; stroke-opacity:0.1; fill:none\" points=\"1423.14,1396.7 1838.61,1036.9 1838.61,317.294 \"/>\n",
       "<polyline clip-path=\"url(#clip960)\" style=\"stroke:#000000; stroke-linecap:round; stroke-linejoin:round; stroke-width:4; stroke-opacity:1; fill:none\" points=\"751.057,1202.68 1470.66,1410.41 \"/>\n",
       "<polyline clip-path=\"url(#clip960)\" style=\"stroke:#000000; stroke-linecap:round; stroke-linejoin:round; stroke-width:4; stroke-opacity:1; fill:none\" points=\"796.609,1215.83 801.594,1211.51 \"/>\n",
       "<polyline clip-path=\"url(#clip960)\" style=\"stroke:#000000; stroke-linecap:round; stroke-linejoin:round; stroke-width:4; stroke-opacity:1; fill:none\" points=\"921.916,1252 926.901,1247.69 \"/>\n",
       "<polyline clip-path=\"url(#clip960)\" style=\"stroke:#000000; stroke-linecap:round; stroke-linejoin:round; stroke-width:4; stroke-opacity:1; fill:none\" points=\"1047.22,1288.18 1052.21,1283.86 \"/>\n",
       "<polyline clip-path=\"url(#clip960)\" style=\"stroke:#000000; stroke-linecap:round; stroke-linejoin:round; stroke-width:4; stroke-opacity:1; fill:none\" points=\"1172.53,1324.35 1177.52,1320.03 \"/>\n",
       "<polyline clip-path=\"url(#clip960)\" style=\"stroke:#000000; stroke-linecap:round; stroke-linejoin:round; stroke-width:4; stroke-opacity:1; fill:none\" points=\"1297.84,1360.52 1302.82,1356.21 \"/>\n",
       "<polyline clip-path=\"url(#clip960)\" style=\"stroke:#000000; stroke-linecap:round; stroke-linejoin:round; stroke-width:4; stroke-opacity:1; fill:none\" points=\"1423.14,1396.7 1428.13,1392.38 \"/>\n",
       "<path clip-path=\"url(#clip960)\" d=\"M699.23 1228.23 Q695.619 1228.23 693.791 1231.8 Q691.985 1235.34 691.985 1242.47 Q691.985 1249.57 693.791 1253.14 Q695.619 1256.68 699.23 1256.68 Q702.865 1256.68 704.67 1253.14 Q706.499 1249.57 706.499 1242.47 Q706.499 1235.34 704.67 1231.8 Q702.865 1228.23 699.23 1228.23 M699.23 1224.53 Q705.04 1224.53 708.096 1229.13 Q711.175 1233.72 711.175 1242.47 Q711.175 1251.19 708.096 1255.8 Q705.04 1260.38 699.23 1260.38 Q693.42 1260.38 690.341 1255.8 Q687.286 1251.19 687.286 1242.47 Q687.286 1233.72 690.341 1229.13 Q693.42 1224.53 699.23 1224.53 Z\" fill=\"#000000\" fill-rule=\"nonzero\" fill-opacity=\"1\" /><path clip-path=\"url(#clip960)\" d=\"M719.392 1253.83 L724.276 1253.83 L724.276 1259.71 L719.392 1259.71 L719.392 1253.83 Z\" fill=\"#000000\" fill-rule=\"nonzero\" fill-opacity=\"1\" /><path clip-path=\"url(#clip960)\" d=\"M734.601 1259 L734.601 1254.74 Q736.36 1255.57 738.165 1256.01 Q739.971 1256.45 741.707 1256.45 Q746.337 1256.45 748.767 1253.35 Q751.221 1250.22 751.568 1243.88 Q750.225 1245.87 748.165 1246.94 Q746.105 1248 743.605 1248 Q738.42 1248 735.388 1244.88 Q732.378 1241.73 732.378 1236.29 Q732.378 1230.96 735.526 1227.75 Q738.675 1224.53 743.906 1224.53 Q749.901 1224.53 753.049 1229.13 Q756.221 1233.72 756.221 1242.47 Q756.221 1250.64 752.332 1255.52 Q748.466 1260.38 741.915 1260.38 Q740.156 1260.38 738.35 1260.04 Q736.545 1259.69 734.601 1259 M743.906 1244.34 Q747.054 1244.34 748.883 1242.19 Q750.735 1240.04 750.735 1236.29 Q750.735 1232.56 748.883 1230.41 Q747.054 1228.23 743.906 1228.23 Q740.758 1228.23 738.906 1230.41 Q737.077 1232.56 737.077 1236.29 Q737.077 1240.04 738.906 1242.19 Q740.758 1244.34 743.906 1244.34 Z\" fill=\"#000000\" fill-rule=\"nonzero\" fill-opacity=\"1\" /><path clip-path=\"url(#clip960)\" d=\"M764.67 1225.15 L783.026 1225.15 L783.026 1229.09 L768.952 1229.09 L768.952 1237.56 Q769.971 1237.21 770.989 1237.05 Q772.008 1236.87 773.026 1236.87 Q778.813 1236.87 782.193 1240.04 Q785.572 1243.21 785.572 1248.63 Q785.572 1254.2 782.1 1257.31 Q778.628 1260.38 772.309 1260.38 Q770.133 1260.38 767.864 1260.01 Q765.619 1259.64 763.211 1258.9 L763.211 1254.2 Q765.295 1255.34 767.517 1255.89 Q769.739 1256.45 772.216 1256.45 Q776.221 1256.45 778.559 1254.34 Q780.897 1252.24 780.897 1248.63 Q780.897 1245.01 778.559 1242.91 Q776.221 1240.8 772.216 1240.8 Q770.341 1240.8 768.466 1241.22 Q766.614 1241.63 764.67 1242.51 L764.67 1225.15 Z\" fill=\"#000000\" fill-rule=\"nonzero\" fill-opacity=\"1\" /><path clip-path=\"url(#clip960)\" d=\"M814.352 1291.95 L821.991 1291.95 L821.991 1265.59 L813.681 1267.25 L813.681 1262.99 L821.945 1261.33 L826.621 1261.33 L826.621 1291.95 L834.26 1291.95 L834.26 1295.89 L814.352 1295.89 L814.352 1291.95 Z\" fill=\"#000000\" fill-rule=\"nonzero\" fill-opacity=\"1\" /><path clip-path=\"url(#clip960)\" d=\"M843.704 1290.01 L848.588 1290.01 L848.588 1295.89 L843.704 1295.89 L843.704 1290.01 Z\" fill=\"#000000\" fill-rule=\"nonzero\" fill-opacity=\"1\" /><path clip-path=\"url(#clip960)\" d=\"M868.773 1264.4 Q865.162 1264.4 863.334 1267.97 Q861.528 1271.51 861.528 1278.64 Q861.528 1285.75 863.334 1289.31 Q865.162 1292.85 868.773 1292.85 Q872.408 1292.85 874.213 1289.31 Q876.042 1285.75 876.042 1278.64 Q876.042 1271.51 874.213 1267.97 Q872.408 1264.4 868.773 1264.4 M868.773 1260.7 Q874.584 1260.7 877.639 1265.31 Q880.718 1269.89 880.718 1278.64 Q880.718 1287.37 877.639 1291.97 Q874.584 1296.56 868.773 1296.56 Q862.963 1296.56 859.885 1291.97 Q856.829 1287.37 856.829 1278.64 Q856.829 1269.89 859.885 1265.31 Q862.963 1260.7 868.773 1260.7 Z\" fill=\"#000000\" fill-rule=\"nonzero\" fill-opacity=\"1\" /><path clip-path=\"url(#clip960)\" d=\"M898.935 1264.4 Q895.324 1264.4 893.495 1267.97 Q891.69 1271.51 891.69 1278.64 Q891.69 1285.75 893.495 1289.31 Q895.324 1292.85 898.935 1292.85 Q902.569 1292.85 904.375 1289.31 Q906.204 1285.75 906.204 1278.64 Q906.204 1271.51 904.375 1267.97 Q902.569 1264.4 898.935 1264.4 M898.935 1260.7 Q904.745 1260.7 907.801 1265.31 Q910.88 1269.89 910.88 1278.64 Q910.88 1287.37 907.801 1291.97 Q904.745 1296.56 898.935 1296.56 Q893.125 1296.56 890.046 1291.97 Q886.991 1287.37 886.991 1278.64 Q886.991 1269.89 890.046 1265.31 Q893.125 1260.7 898.935 1260.7 Z\" fill=\"#000000\" fill-rule=\"nonzero\" fill-opacity=\"1\" /><path clip-path=\"url(#clip960)\" d=\"M940.655 1328.12 L948.294 1328.12 L948.294 1301.76 L939.984 1303.43 L939.984 1299.17 L948.247 1297.5 L952.923 1297.5 L952.923 1328.12 L960.562 1328.12 L960.562 1332.06 L940.655 1332.06 L940.655 1328.12 Z\" fill=\"#000000\" fill-rule=\"nonzero\" fill-opacity=\"1\" /><path clip-path=\"url(#clip960)\" d=\"M970.007 1326.18 L974.891 1326.18 L974.891 1332.06 L970.007 1332.06 L970.007 1326.18 Z\" fill=\"#000000\" fill-rule=\"nonzero\" fill-opacity=\"1\" /><path clip-path=\"url(#clip960)\" d=\"M995.076 1300.58 Q991.465 1300.58 989.636 1304.14 Q987.831 1307.68 987.831 1314.81 Q987.831 1321.92 989.636 1325.49 Q991.465 1329.03 995.076 1329.03 Q998.71 1329.03 1000.52 1325.49 Q1002.34 1321.92 1002.34 1314.81 Q1002.34 1307.68 1000.52 1304.14 Q998.71 1300.58 995.076 1300.58 M995.076 1296.87 Q1000.89 1296.87 1003.94 1301.48 Q1007.02 1306.06 1007.02 1314.81 Q1007.02 1323.54 1003.94 1328.15 Q1000.89 1332.73 995.076 1332.73 Q989.266 1332.73 986.187 1328.15 Q983.132 1323.54 983.132 1314.81 Q983.132 1306.06 986.187 1301.48 Q989.266 1296.87 995.076 1296.87 Z\" fill=\"#000000\" fill-rule=\"nonzero\" fill-opacity=\"1\" /><path clip-path=\"url(#clip960)\" d=\"M1015.28 1297.5 L1033.64 1297.5 L1033.64 1301.43 L1019.57 1301.43 L1019.57 1309.91 Q1020.59 1309.56 1021.6 1309.4 Q1022.62 1309.21 1023.64 1309.21 Q1029.43 1309.21 1032.81 1312.38 Q1036.19 1315.55 1036.19 1320.97 Q1036.19 1326.55 1032.71 1329.65 Q1029.24 1332.73 1022.92 1332.73 Q1020.75 1332.73 1018.48 1332.36 Q1016.23 1331.99 1013.83 1331.25 L1013.83 1326.55 Q1015.91 1327.68 1018.13 1328.24 Q1020.35 1328.8 1022.83 1328.8 Q1026.84 1328.8 1029.17 1326.69 Q1031.51 1324.58 1031.51 1320.97 Q1031.51 1317.36 1029.17 1315.25 Q1026.84 1313.15 1022.83 1313.15 Q1020.96 1313.15 1019.08 1313.56 Q1017.23 1313.98 1015.28 1314.86 L1015.28 1297.5 Z\" fill=\"#000000\" fill-rule=\"nonzero\" fill-opacity=\"1\" /><path clip-path=\"url(#clip960)\" d=\"M1064.97 1364.3 L1072.61 1364.3 L1072.61 1337.93 L1064.3 1339.6 L1064.3 1335.34 L1072.56 1333.67 L1077.24 1333.67 L1077.24 1364.3 L1084.87 1364.3 L1084.87 1368.23 L1064.97 1368.23 L1064.97 1364.3 Z\" fill=\"#000000\" fill-rule=\"nonzero\" fill-opacity=\"1\" /><path clip-path=\"url(#clip960)\" d=\"M1094.32 1362.35 L1099.2 1362.35 L1099.2 1368.23 L1094.32 1368.23 L1094.32 1362.35 Z\" fill=\"#000000\" fill-rule=\"nonzero\" fill-opacity=\"1\" /><path clip-path=\"url(#clip960)\" d=\"M1110.2 1364.3 L1117.84 1364.3 L1117.84 1337.93 L1109.53 1339.6 L1109.53 1335.34 L1117.79 1333.67 L1122.47 1333.67 L1122.47 1364.3 L1130.11 1364.3 L1130.11 1368.23 L1110.2 1368.23 L1110.2 1364.3 Z\" fill=\"#000000\" fill-rule=\"nonzero\" fill-opacity=\"1\" /><path clip-path=\"url(#clip960)\" d=\"M1149.55 1336.75 Q1145.94 1336.75 1144.11 1340.32 Q1142.3 1343.86 1142.3 1350.99 Q1142.3 1358.09 1144.11 1361.66 Q1145.94 1365.2 1149.55 1365.2 Q1153.18 1365.2 1154.99 1361.66 Q1156.82 1358.09 1156.82 1350.99 Q1156.82 1343.86 1154.99 1340.32 Q1153.18 1336.75 1149.55 1336.75 M1149.55 1333.05 Q1155.36 1333.05 1158.42 1337.65 Q1161.49 1342.24 1161.49 1350.99 Q1161.49 1359.71 1158.42 1364.32 Q1155.36 1368.9 1149.55 1368.9 Q1143.74 1368.9 1140.66 1364.32 Q1137.61 1359.71 1137.61 1350.99 Q1137.61 1342.24 1140.66 1337.65 Q1143.74 1333.05 1149.55 1333.05 Z\" fill=\"#000000\" fill-rule=\"nonzero\" fill-opacity=\"1\" /><path clip-path=\"url(#clip960)\" d=\"M1191.27 1400.47 L1198.91 1400.47 L1198.91 1374.1 L1190.6 1375.77 L1190.6 1371.51 L1198.86 1369.85 L1203.54 1369.85 L1203.54 1400.47 L1211.18 1400.47 L1211.18 1404.41 L1191.27 1404.41 L1191.27 1400.47 Z\" fill=\"#000000\" fill-rule=\"nonzero\" fill-opacity=\"1\" /><path clip-path=\"url(#clip960)\" d=\"M1220.62 1398.53 L1225.51 1398.53 L1225.51 1404.41 L1220.62 1404.41 L1220.62 1398.53 Z\" fill=\"#000000\" fill-rule=\"nonzero\" fill-opacity=\"1\" /><path clip-path=\"url(#clip960)\" d=\"M1236.5 1400.47 L1244.14 1400.47 L1244.14 1374.1 L1235.83 1375.77 L1235.83 1371.51 L1244.09 1369.85 L1248.77 1369.85 L1248.77 1400.47 L1256.41 1400.47 L1256.41 1404.41 L1236.5 1404.41 L1236.5 1400.47 Z\" fill=\"#000000\" fill-rule=\"nonzero\" fill-opacity=\"1\" /><path clip-path=\"url(#clip960)\" d=\"M1265.9 1369.85 L1284.25 1369.85 L1284.25 1373.78 L1270.18 1373.78 L1270.18 1382.25 Q1271.2 1381.91 1272.22 1381.74 Q1273.24 1381.56 1274.25 1381.56 Q1280.04 1381.56 1283.42 1384.73 Q1286.8 1387.9 1286.8 1393.32 Q1286.8 1398.9 1283.33 1402 Q1279.86 1405.08 1273.54 1405.08 Q1271.36 1405.08 1269.09 1404.71 Q1266.85 1404.34 1264.44 1403.6 L1264.44 1398.9 Q1266.52 1400.03 1268.75 1400.59 Q1270.97 1401.14 1273.44 1401.14 Q1277.45 1401.14 1279.79 1399.04 Q1282.13 1396.93 1282.13 1393.32 Q1282.13 1389.71 1279.79 1387.6 Q1277.45 1385.49 1273.44 1385.49 Q1271.57 1385.49 1269.69 1385.91 Q1267.84 1386.33 1265.9 1387.21 L1265.9 1369.85 Z\" fill=\"#000000\" fill-rule=\"nonzero\" fill-opacity=\"1\" /><path clip-path=\"url(#clip960)\" d=\"M1315.58 1436.64 L1323.22 1436.64 L1323.22 1410.28 L1314.91 1411.94 L1314.91 1407.69 L1323.17 1406.02 L1327.85 1406.02 L1327.85 1436.64 L1335.49 1436.64 L1335.49 1440.58 L1315.58 1440.58 L1315.58 1436.64 Z\" fill=\"#000000\" fill-rule=\"nonzero\" fill-opacity=\"1\" /><path clip-path=\"url(#clip960)\" d=\"M1344.93 1434.7 L1349.82 1434.7 L1349.82 1440.58 L1344.93 1440.58 L1344.93 1434.7 Z\" fill=\"#000000\" fill-rule=\"nonzero\" fill-opacity=\"1\" /><path clip-path=\"url(#clip960)\" d=\"M1364.03 1436.64 L1380.35 1436.64 L1380.35 1440.58 L1358.4 1440.58 L1358.4 1436.64 Q1361.07 1433.89 1365.65 1429.26 Q1370.26 1424.61 1371.44 1423.26 Q1373.68 1420.74 1374.56 1419 Q1375.47 1417.25 1375.47 1415.56 Q1375.47 1412.8 1373.52 1411.06 Q1371.6 1409.33 1368.5 1409.33 Q1366.3 1409.33 1363.84 1410.09 Q1361.41 1410.86 1358.64 1412.41 L1358.64 1407.69 Q1361.46 1406.55 1363.91 1405.97 Q1366.37 1405.39 1368.4 1405.39 Q1373.78 1405.39 1376.97 1408.08 Q1380.16 1410.76 1380.16 1415.25 Q1380.16 1417.38 1379.35 1419.31 Q1378.57 1421.2 1376.46 1423.8 Q1375.88 1424.47 1372.78 1427.69 Q1369.68 1430.88 1364.03 1436.64 Z\" fill=\"#000000\" fill-rule=\"nonzero\" fill-opacity=\"1\" /><path clip-path=\"url(#clip960)\" d=\"M1400.16 1409.1 Q1396.55 1409.1 1394.72 1412.66 Q1392.92 1416.2 1392.92 1423.33 Q1392.92 1430.44 1394.72 1434 Q1396.55 1437.55 1400.16 1437.55 Q1403.8 1437.55 1405.6 1434 Q1407.43 1430.44 1407.43 1423.33 Q1407.43 1416.2 1405.6 1412.66 Q1403.8 1409.1 1400.16 1409.1 M1400.16 1405.39 Q1405.97 1405.39 1409.03 1410 Q1412.11 1414.58 1412.11 1423.33 Q1412.11 1432.06 1409.03 1436.67 Q1405.97 1441.25 1400.16 1441.25 Q1394.35 1441.25 1391.28 1436.67 Q1388.22 1432.06 1388.22 1423.33 Q1388.22 1414.58 1391.28 1410 Q1394.35 1405.39 1400.16 1405.39 Z\" fill=\"#000000\" fill-rule=\"nonzero\" fill-opacity=\"1\" /><polyline clip-path=\"url(#clip962)\" style=\"stroke:#000000; stroke-linecap:round; stroke-linejoin:round; stroke-width:2; stroke-opacity:0.1; fill:none\" points=\"1560.98,1332.19 841.381,1124.46 841.381,404.857 \"/>\n",
       "<polyline clip-path=\"url(#clip962)\" style=\"stroke:#000000; stroke-linecap:round; stroke-linejoin:round; stroke-width:2; stroke-opacity:0.1; fill:none\" points=\"1664.95,1242.15 945.352,1034.42 945.352,314.815 \"/>\n",
       "<polyline clip-path=\"url(#clip962)\" style=\"stroke:#000000; stroke-linecap:round; stroke-linejoin:round; stroke-width:2; stroke-opacity:0.1; fill:none\" points=\"1768.93,1152.11 1049.32,944.375 1049.32,224.773 \"/>\n",
       "<polyline clip-path=\"url(#clip962)\" style=\"stroke:#000000; stroke-linecap:round; stroke-linejoin:round; stroke-width:2; stroke-opacity:0.1; fill:none\" points=\"1872.9,1062.06 1153.29,854.333 1153.29,134.731 \"/>\n",
       "<polyline clip-path=\"url(#clip960)\" style=\"stroke:#000000; stroke-linecap:round; stroke-linejoin:round; stroke-width:4; stroke-opacity:1; fill:none\" points=\"1470.66,1410.41 1886.12,1050.61 \"/>\n",
       "<polyline clip-path=\"url(#clip960)\" style=\"stroke:#000000; stroke-linecap:round; stroke-linejoin:round; stroke-width:4; stroke-opacity:1; fill:none\" points=\"1560.98,1332.19 1552.35,1329.7 \"/>\n",
       "<polyline clip-path=\"url(#clip960)\" style=\"stroke:#000000; stroke-linecap:round; stroke-linejoin:round; stroke-width:4; stroke-opacity:1; fill:none\" points=\"1664.95,1242.15 1656.32,1239.66 \"/>\n",
       "<polyline clip-path=\"url(#clip960)\" style=\"stroke:#000000; stroke-linecap:round; stroke-linejoin:round; stroke-width:4; stroke-opacity:1; fill:none\" points=\"1768.93,1152.11 1760.29,1149.61 \"/>\n",
       "<polyline clip-path=\"url(#clip960)\" style=\"stroke:#000000; stroke-linecap:round; stroke-linejoin:round; stroke-width:4; stroke-opacity:1; fill:none\" points=\"1872.9,1062.06 1864.26,1059.57 \"/>\n",
       "<path clip-path=\"url(#clip960)\" d=\"M1583.43 1350.68 L1613.11 1350.68 L1613.11 1354.62 L1583.43 1354.62 L1583.43 1350.68 Z\" fill=\"#000000\" fill-rule=\"nonzero\" fill-opacity=\"1\" /><path clip-path=\"url(#clip960)\" d=\"M1633.2 1336.03 Q1629.59 1336.03 1627.76 1339.59 Q1625.96 1343.13 1625.96 1350.26 Q1625.96 1357.37 1627.76 1360.93 Q1629.59 1364.48 1633.2 1364.48 Q1636.84 1364.48 1638.64 1360.93 Q1640.47 1357.37 1640.47 1350.26 Q1640.47 1343.13 1638.64 1339.59 Q1636.84 1336.03 1633.2 1336.03 M1633.2 1332.32 Q1639.01 1332.32 1642.07 1336.93 Q1645.15 1341.51 1645.15 1350.26 Q1645.15 1358.99 1642.07 1363.6 Q1639.01 1368.18 1633.2 1368.18 Q1627.39 1368.18 1624.31 1363.6 Q1621.26 1358.99 1621.26 1350.26 Q1621.26 1341.51 1624.31 1336.93 Q1627.39 1332.32 1633.2 1332.32 Z\" fill=\"#000000\" fill-rule=\"nonzero\" fill-opacity=\"1\" /><path clip-path=\"url(#clip960)\" d=\"M1653.36 1361.63 L1658.25 1361.63 L1658.25 1367.51 L1653.36 1367.51 L1653.36 1361.63 Z\" fill=\"#000000\" fill-rule=\"nonzero\" fill-opacity=\"1\" /><path clip-path=\"url(#clip960)\" d=\"M1678.43 1336.03 Q1674.82 1336.03 1672.99 1339.59 Q1671.19 1343.13 1671.19 1350.26 Q1671.19 1357.37 1672.99 1360.93 Q1674.82 1364.48 1678.43 1364.48 Q1682.07 1364.48 1683.87 1360.93 Q1685.7 1357.37 1685.7 1350.26 Q1685.7 1343.13 1683.87 1339.59 Q1682.07 1336.03 1678.43 1336.03 M1678.43 1332.32 Q1684.24 1332.32 1687.3 1336.93 Q1690.38 1341.51 1690.38 1350.26 Q1690.38 1358.99 1687.3 1363.6 Q1684.24 1368.18 1678.43 1368.18 Q1672.62 1368.18 1669.54 1363.6 Q1666.49 1358.99 1666.49 1350.26 Q1666.49 1341.51 1669.54 1336.93 Q1672.62 1332.32 1678.43 1332.32 Z\" fill=\"#000000\" fill-rule=\"nonzero\" fill-opacity=\"1\" /><path clip-path=\"url(#clip960)\" d=\"M1698.64 1332.95 L1717 1332.95 L1717 1336.88 L1702.92 1336.88 L1702.92 1345.36 Q1703.94 1345.01 1704.96 1344.85 Q1705.98 1344.66 1707 1344.66 Q1712.78 1344.66 1716.16 1347.83 Q1719.54 1351 1719.54 1356.42 Q1719.54 1362 1716.07 1365.1 Q1712.6 1368.18 1706.28 1368.18 Q1704.1 1368.18 1701.84 1367.81 Q1699.59 1367.44 1697.18 1366.7 L1697.18 1362 Q1699.27 1363.13 1701.49 1363.69 Q1703.71 1364.24 1706.19 1364.24 Q1710.19 1364.24 1712.53 1362.14 Q1714.87 1360.03 1714.87 1356.42 Q1714.87 1352.81 1712.53 1350.7 Q1710.19 1348.6 1706.19 1348.6 Q1704.31 1348.6 1702.44 1349.01 Q1700.59 1349.43 1698.64 1350.31 L1698.64 1332.95 Z\" fill=\"#000000\" fill-rule=\"nonzero\" fill-opacity=\"1\" /><path clip-path=\"url(#clip960)\" d=\"M1699.35 1245.99 Q1695.74 1245.99 1693.91 1249.55 Q1692.1 1253.09 1692.1 1260.22 Q1692.1 1267.33 1693.91 1270.89 Q1695.74 1274.43 1699.35 1274.43 Q1702.98 1274.43 1704.79 1270.89 Q1706.62 1267.33 1706.62 1260.22 Q1706.62 1253.09 1704.79 1249.55 Q1702.98 1245.99 1699.35 1245.99 M1699.35 1242.28 Q1705.16 1242.28 1708.22 1246.89 Q1711.29 1251.47 1711.29 1260.22 Q1711.29 1268.95 1708.22 1273.55 Q1705.16 1278.14 1699.35 1278.14 Q1693.54 1278.14 1690.46 1273.55 Q1687.41 1268.95 1687.41 1260.22 Q1687.41 1251.47 1690.46 1246.89 Q1693.54 1242.28 1699.35 1242.28 Z\" fill=\"#000000\" fill-rule=\"nonzero\" fill-opacity=\"1\" /><path clip-path=\"url(#clip960)\" d=\"M1719.51 1271.59 L1724.4 1271.59 L1724.4 1277.47 L1719.51 1277.47 L1719.51 1271.59 Z\" fill=\"#000000\" fill-rule=\"nonzero\" fill-opacity=\"1\" /><path clip-path=\"url(#clip960)\" d=\"M1744.58 1245.99 Q1740.97 1245.99 1739.14 1249.55 Q1737.34 1253.09 1737.34 1260.22 Q1737.34 1267.33 1739.14 1270.89 Q1740.97 1274.43 1744.58 1274.43 Q1748.21 1274.43 1750.02 1270.89 Q1751.85 1267.33 1751.85 1260.22 Q1751.85 1253.09 1750.02 1249.55 Q1748.21 1245.99 1744.58 1245.99 M1744.58 1242.28 Q1750.39 1242.28 1753.45 1246.89 Q1756.53 1251.47 1756.53 1260.22 Q1756.53 1268.95 1753.45 1273.55 Q1750.39 1278.14 1744.58 1278.14 Q1738.77 1278.14 1735.69 1273.55 Q1732.64 1268.95 1732.64 1260.22 Q1732.64 1251.47 1735.69 1246.89 Q1738.77 1242.28 1744.58 1242.28 Z\" fill=\"#000000\" fill-rule=\"nonzero\" fill-opacity=\"1\" /><path clip-path=\"url(#clip960)\" d=\"M1774.74 1245.99 Q1771.13 1245.99 1769.3 1249.55 Q1767.5 1253.09 1767.5 1260.22 Q1767.5 1267.33 1769.3 1270.89 Q1771.13 1274.43 1774.74 1274.43 Q1778.38 1274.43 1780.18 1270.89 Q1782.01 1267.33 1782.01 1260.22 Q1782.01 1253.09 1780.18 1249.55 Q1778.38 1245.99 1774.74 1245.99 M1774.74 1242.28 Q1780.55 1242.28 1783.61 1246.89 Q1786.69 1251.47 1786.69 1260.22 Q1786.69 1268.95 1783.61 1273.55 Q1780.55 1278.14 1774.74 1278.14 Q1768.93 1278.14 1765.85 1273.55 Q1762.8 1268.95 1762.8 1260.22 Q1762.8 1251.47 1765.85 1246.89 Q1768.93 1242.28 1774.74 1242.28 Z\" fill=\"#000000\" fill-rule=\"nonzero\" fill-opacity=\"1\" /><path clip-path=\"url(#clip960)\" d=\"M1803.32 1155.94 Q1799.71 1155.94 1797.88 1159.51 Q1796.08 1163.05 1796.08 1170.18 Q1796.08 1177.29 1797.88 1180.85 Q1799.71 1184.39 1803.32 1184.39 Q1806.96 1184.39 1808.76 1180.85 Q1810.59 1177.29 1810.59 1170.18 Q1810.59 1163.05 1808.76 1159.51 Q1806.96 1155.94 1803.32 1155.94 M1803.32 1152.24 Q1809.13 1152.24 1812.19 1156.85 Q1815.27 1161.43 1815.27 1170.18 Q1815.27 1178.91 1812.19 1183.51 Q1809.13 1188.1 1803.32 1188.1 Q1797.51 1188.1 1794.43 1183.51 Q1791.38 1178.91 1791.38 1170.18 Q1791.38 1161.43 1794.43 1156.85 Q1797.51 1152.24 1803.32 1152.24 Z\" fill=\"#000000\" fill-rule=\"nonzero\" fill-opacity=\"1\" /><path clip-path=\"url(#clip960)\" d=\"M1823.48 1181.55 L1828.37 1181.55 L1828.37 1187.42 L1823.48 1187.42 L1823.48 1181.55 Z\" fill=\"#000000\" fill-rule=\"nonzero\" fill-opacity=\"1\" /><path clip-path=\"url(#clip960)\" d=\"M1848.55 1155.94 Q1844.94 1155.94 1843.11 1159.51 Q1841.31 1163.05 1841.31 1170.18 Q1841.31 1177.29 1843.11 1180.85 Q1844.94 1184.39 1848.55 1184.39 Q1852.19 1184.39 1853.99 1180.85 Q1855.82 1177.29 1855.82 1170.18 Q1855.82 1163.05 1853.99 1159.51 Q1852.19 1155.94 1848.55 1155.94 M1848.55 1152.24 Q1854.36 1152.24 1857.42 1156.85 Q1860.5 1161.43 1860.5 1170.18 Q1860.5 1178.91 1857.42 1183.51 Q1854.36 1188.1 1848.55 1188.1 Q1842.74 1188.1 1839.66 1183.51 Q1836.61 1178.91 1836.61 1170.18 Q1836.61 1161.43 1839.66 1156.85 Q1842.74 1152.24 1848.55 1152.24 Z\" fill=\"#000000\" fill-rule=\"nonzero\" fill-opacity=\"1\" /><path clip-path=\"url(#clip960)\" d=\"M1868.76 1152.86 L1887.12 1152.86 L1887.12 1156.8 L1873.04 1156.8 L1873.04 1165.27 Q1874.06 1164.93 1875.08 1164.76 Q1876.1 1164.58 1877.12 1164.58 Q1882.9 1164.58 1886.28 1167.75 Q1889.66 1170.92 1889.66 1176.34 Q1889.66 1181.92 1886.19 1185.02 Q1882.72 1188.1 1876.4 1188.1 Q1874.22 1188.1 1871.95 1187.73 Q1869.71 1187.36 1867.3 1186.61 L1867.3 1181.92 Q1869.39 1183.05 1871.61 1183.61 Q1873.83 1184.16 1876.31 1184.16 Q1880.31 1184.16 1882.65 1182.05 Q1884.99 1179.95 1884.99 1176.34 Q1884.99 1172.73 1882.65 1170.62 Q1880.31 1168.51 1876.31 1168.51 Q1874.43 1168.51 1872.56 1168.93 Q1870.7 1169.35 1868.76 1170.23 L1868.76 1152.86 Z\" fill=\"#000000\" fill-rule=\"nonzero\" fill-opacity=\"1\" /><path clip-path=\"url(#clip960)\" d=\"M1907.29 1065.9 Q1903.68 1065.9 1901.85 1069.47 Q1900.05 1073.01 1900.05 1080.14 Q1900.05 1087.24 1901.85 1090.81 Q1903.68 1094.35 1907.29 1094.35 Q1910.93 1094.35 1912.73 1090.81 Q1914.56 1087.24 1914.56 1080.14 Q1914.56 1073.01 1912.73 1069.47 Q1910.93 1065.9 1907.29 1065.9 M1907.29 1062.2 Q1913.1 1062.2 1916.16 1066.8 Q1919.24 1071.39 1919.24 1080.14 Q1919.24 1088.86 1916.16 1093.47 Q1913.1 1098.05 1907.29 1098.05 Q1901.48 1098.05 1898.4 1093.47 Q1895.35 1088.86 1895.35 1080.14 Q1895.35 1071.39 1898.4 1066.8 Q1901.48 1062.2 1907.29 1062.2 Z\" fill=\"#000000\" fill-rule=\"nonzero\" fill-opacity=\"1\" /><path clip-path=\"url(#clip960)\" d=\"M1927.45 1091.5 L1932.34 1091.5 L1932.34 1097.38 L1927.45 1097.38 L1927.45 1091.5 Z\" fill=\"#000000\" fill-rule=\"nonzero\" fill-opacity=\"1\" /><path clip-path=\"url(#clip960)\" d=\"M1943.33 1093.45 L1950.97 1093.45 L1950.97 1067.08 L1942.66 1068.75 L1942.66 1064.49 L1950.93 1062.82 L1955.6 1062.82 L1955.6 1093.45 L1963.24 1093.45 L1963.24 1097.38 L1943.33 1097.38 L1943.33 1093.45 Z\" fill=\"#000000\" fill-rule=\"nonzero\" fill-opacity=\"1\" /><path clip-path=\"url(#clip960)\" d=\"M1982.69 1065.9 Q1979.07 1065.9 1977.25 1069.47 Q1975.44 1073.01 1975.44 1080.14 Q1975.44 1087.24 1977.25 1090.81 Q1979.07 1094.35 1982.69 1094.35 Q1986.32 1094.35 1988.13 1090.81 Q1989.95 1087.24 1989.95 1080.14 Q1989.95 1073.01 1988.13 1069.47 Q1986.32 1065.9 1982.69 1065.9 M1982.69 1062.2 Q1988.5 1062.2 1991.55 1066.8 Q1994.63 1071.39 1994.63 1080.14 Q1994.63 1088.86 1991.55 1093.47 Q1988.5 1098.05 1982.69 1098.05 Q1976.88 1098.05 1973.8 1093.47 Q1970.74 1088.86 1970.74 1080.14 Q1970.74 1071.39 1973.8 1066.8 Q1976.88 1062.2 1982.69 1062.2 Z\" fill=\"#000000\" fill-rule=\"nonzero\" fill-opacity=\"1\" /><polyline clip-path=\"url(#clip962)\" style=\"stroke:#000000; stroke-linecap:round; stroke-linejoin:round; stroke-width:2; stroke-opacity:0.1; fill:none\" points=\"751.057,1148.65 1166.52,788.849 1886.12,996.58 \"/>\n",
       "<polyline clip-path=\"url(#clip962)\" style=\"stroke:#000000; stroke-linecap:round; stroke-linejoin:round; stroke-width:2; stroke-opacity:0.1; fill:none\" points=\"751.057,1028.63 1166.52,668.831 1886.12,876.562 \"/>\n",
       "<polyline clip-path=\"url(#clip962)\" style=\"stroke:#000000; stroke-linecap:round; stroke-linejoin:round; stroke-width:2; stroke-opacity:0.1; fill:none\" points=\"751.057,908.613 1166.52,548.812 1886.12,756.543 \"/>\n",
       "<polyline clip-path=\"url(#clip962)\" style=\"stroke:#000000; stroke-linecap:round; stroke-linejoin:round; stroke-width:2; stroke-opacity:0.1; fill:none\" points=\"751.057,788.594 1166.52,428.794 1886.12,636.525 \"/>\n",
       "<polyline clip-path=\"url(#clip962)\" style=\"stroke:#000000; stroke-linecap:round; stroke-linejoin:round; stroke-width:2; stroke-opacity:0.1; fill:none\" points=\"751.057,668.576 1166.52,308.775 1886.12,516.506 \"/>\n",
       "<polyline clip-path=\"url(#clip962)\" style=\"stroke:#000000; stroke-linecap:round; stroke-linejoin:round; stroke-width:2; stroke-opacity:0.1; fill:none\" points=\"751.057,548.557 1166.52,188.756 1886.12,396.488 \"/>\n",
       "<polyline clip-path=\"url(#clip960)\" style=\"stroke:#000000; stroke-linecap:round; stroke-linejoin:round; stroke-width:4; stroke-opacity:1; fill:none\" points=\"751.057,1202.68 751.057,483.08 \"/>\n",
       "<polyline clip-path=\"url(#clip960)\" style=\"stroke:#000000; stroke-linecap:round; stroke-linejoin:round; stroke-width:4; stroke-opacity:1; fill:none\" points=\"751.057,1148.65 756.042,1144.33 \"/>\n",
       "<polyline clip-path=\"url(#clip960)\" style=\"stroke:#000000; stroke-linecap:round; stroke-linejoin:round; stroke-width:4; stroke-opacity:1; fill:none\" points=\"751.057,1028.63 756.042,1024.31 \"/>\n",
       "<polyline clip-path=\"url(#clip960)\" style=\"stroke:#000000; stroke-linecap:round; stroke-linejoin:round; stroke-width:4; stroke-opacity:1; fill:none\" points=\"751.057,908.613 756.042,904.295 \"/>\n",
       "<polyline clip-path=\"url(#clip960)\" style=\"stroke:#000000; stroke-linecap:round; stroke-linejoin:round; stroke-width:4; stroke-opacity:1; fill:none\" points=\"751.057,788.594 756.042,784.277 \"/>\n",
       "<polyline clip-path=\"url(#clip960)\" style=\"stroke:#000000; stroke-linecap:round; stroke-linejoin:round; stroke-width:4; stroke-opacity:1; fill:none\" points=\"751.057,668.576 756.042,664.258 \"/>\n",
       "<polyline clip-path=\"url(#clip960)\" style=\"stroke:#000000; stroke-linecap:round; stroke-linejoin:round; stroke-width:4; stroke-opacity:1; fill:none\" points=\"751.057,548.557 756.042,544.24 \"/>\n",
       "<path clip-path=\"url(#clip960)\" d=\"M525.823 1149.1 L555.498 1149.1 L555.498 1153.04 L525.823 1153.04 L525.823 1149.1 Z\" fill=\"#000000\" fill-rule=\"nonzero\" fill-opacity=\"1\" /><path clip-path=\"url(#clip960)\" d=\"M575.591 1134.45 Q571.98 1134.45 570.151 1138.01 Q568.345 1141.56 568.345 1148.68 Q568.345 1155.79 570.151 1159.36 Q571.98 1162.9 575.591 1162.9 Q579.225 1162.9 581.031 1159.36 Q582.859 1155.79 582.859 1148.68 Q582.859 1141.56 581.031 1138.01 Q579.225 1134.45 575.591 1134.45 M575.591 1130.75 Q581.401 1130.75 584.456 1135.35 Q587.535 1139.93 587.535 1148.68 Q587.535 1157.41 584.456 1162.02 Q581.401 1166.6 575.591 1166.6 Q569.781 1166.6 566.702 1162.02 Q563.646 1157.41 563.646 1148.68 Q563.646 1139.93 566.702 1135.35 Q569.781 1130.75 575.591 1130.75 Z\" fill=\"#000000\" fill-rule=\"nonzero\" fill-opacity=\"1\" /><path clip-path=\"url(#clip960)\" d=\"M595.753 1160.05 L600.637 1160.05 L600.637 1165.93 L595.753 1165.93 L595.753 1160.05 Z\" fill=\"#000000\" fill-rule=\"nonzero\" fill-opacity=\"1\" /><path clip-path=\"url(#clip960)\" d=\"M620.822 1134.45 Q617.211 1134.45 615.382 1138.01 Q613.577 1141.56 613.577 1148.68 Q613.577 1155.79 615.382 1159.36 Q617.211 1162.9 620.822 1162.9 Q624.456 1162.9 626.262 1159.36 Q628.09 1155.79 628.09 1148.68 Q628.09 1141.56 626.262 1138.01 Q624.456 1134.45 620.822 1134.45 M620.822 1130.75 Q626.632 1130.75 629.688 1135.35 Q632.766 1139.93 632.766 1148.68 Q632.766 1157.41 629.688 1162.02 Q626.632 1166.6 620.822 1166.6 Q615.012 1166.6 611.933 1162.02 Q608.878 1157.41 608.878 1148.68 Q608.878 1139.93 611.933 1135.35 Q615.012 1130.75 620.822 1130.75 Z\" fill=\"#000000\" fill-rule=\"nonzero\" fill-opacity=\"1\" /><path clip-path=\"url(#clip960)\" d=\"M650.984 1134.45 Q647.373 1134.45 645.544 1138.01 Q643.739 1141.56 643.739 1148.68 Q643.739 1155.79 645.544 1159.36 Q647.373 1162.9 650.984 1162.9 Q654.618 1162.9 656.424 1159.36 Q658.252 1155.79 658.252 1148.68 Q658.252 1141.56 656.424 1138.01 Q654.618 1134.45 650.984 1134.45 M650.984 1130.75 Q656.794 1130.75 659.85 1135.35 Q662.928 1139.93 662.928 1148.68 Q662.928 1157.41 659.85 1162.02 Q656.794 1166.6 650.984 1166.6 Q645.174 1166.6 642.095 1162.02 Q639.04 1157.41 639.04 1148.68 Q639.04 1139.93 642.095 1135.35 Q645.174 1130.75 650.984 1130.75 Z\" fill=\"#000000\" fill-rule=\"nonzero\" fill-opacity=\"1\" /><path clip-path=\"url(#clip960)\" d=\"M669.965 1131.37 L692.187 1131.37 L692.187 1133.36 L679.641 1165.93 L674.757 1165.93 L686.562 1135.31 L669.965 1135.31 L669.965 1131.37 Z\" fill=\"#000000\" fill-rule=\"nonzero\" fill-opacity=\"1\" /><path clip-path=\"url(#clip960)\" d=\"M701.354 1131.37 L719.71 1131.37 L719.71 1135.31 L705.636 1135.31 L705.636 1143.78 Q706.655 1143.43 707.673 1143.27 Q708.692 1143.08 709.71 1143.08 Q715.497 1143.08 718.877 1146.25 Q722.257 1149.43 722.257 1154.84 Q722.257 1160.42 718.784 1163.52 Q715.312 1166.6 708.993 1166.6 Q706.817 1166.6 704.548 1166.23 Q702.303 1165.86 699.896 1165.12 L699.896 1160.42 Q701.979 1161.56 704.201 1162.11 Q706.423 1162.67 708.9 1162.67 Q712.905 1162.67 715.243 1160.56 Q717.581 1158.45 717.581 1154.84 Q717.581 1151.23 715.243 1149.12 Q712.905 1147.02 708.9 1147.02 Q707.025 1147.02 705.15 1147.43 Q703.298 1147.85 701.354 1148.73 L701.354 1131.37 Z\" fill=\"#000000\" fill-rule=\"nonzero\" fill-opacity=\"1\" /><path clip-path=\"url(#clip960)\" d=\"M524.827 1029.08 L554.503 1029.08 L554.503 1033.02 L524.827 1033.02 L524.827 1029.08 Z\" fill=\"#000000\" fill-rule=\"nonzero\" fill-opacity=\"1\" /><path clip-path=\"url(#clip960)\" d=\"M574.595 1014.43 Q570.984 1014.43 569.156 1017.99 Q567.35 1021.54 567.35 1028.67 Q567.35 1035.77 569.156 1039.34 Q570.984 1042.88 574.595 1042.88 Q578.23 1042.88 580.035 1039.34 Q581.864 1035.77 581.864 1028.67 Q581.864 1021.54 580.035 1017.99 Q578.23 1014.43 574.595 1014.43 M574.595 1010.73 Q580.406 1010.73 583.461 1015.33 Q586.54 1019.92 586.54 1028.67 Q586.54 1037.39 583.461 1042 Q580.406 1046.58 574.595 1046.58 Q568.785 1046.58 565.707 1042 Q562.651 1037.39 562.651 1028.67 Q562.651 1019.92 565.707 1015.33 Q568.785 1010.73 574.595 1010.73 Z\" fill=\"#000000\" fill-rule=\"nonzero\" fill-opacity=\"1\" /><path clip-path=\"url(#clip960)\" d=\"M594.757 1040.03 L599.642 1040.03 L599.642 1045.91 L594.757 1045.91 L594.757 1040.03 Z\" fill=\"#000000\" fill-rule=\"nonzero\" fill-opacity=\"1\" /><path clip-path=\"url(#clip960)\" d=\"M619.827 1014.43 Q616.216 1014.43 614.387 1017.99 Q612.581 1021.54 612.581 1028.67 Q612.581 1035.77 614.387 1039.34 Q616.216 1042.88 619.827 1042.88 Q623.461 1042.88 625.266 1039.34 Q627.095 1035.77 627.095 1028.67 Q627.095 1021.54 625.266 1017.99 Q623.461 1014.43 619.827 1014.43 M619.827 1010.73 Q625.637 1010.73 628.692 1015.33 Q631.771 1019.92 631.771 1028.67 Q631.771 1037.39 628.692 1042 Q625.637 1046.58 619.827 1046.58 Q614.016 1046.58 610.938 1042 Q607.882 1037.39 607.882 1028.67 Q607.882 1019.92 610.938 1015.33 Q614.016 1010.73 619.827 1010.73 Z\" fill=\"#000000\" fill-rule=\"nonzero\" fill-opacity=\"1\" /><path clip-path=\"url(#clip960)\" d=\"M649.989 1014.43 Q646.377 1014.43 644.549 1017.99 Q642.743 1021.54 642.743 1028.67 Q642.743 1035.77 644.549 1039.34 Q646.377 1042.88 649.989 1042.88 Q653.623 1042.88 655.428 1039.34 Q657.257 1035.77 657.257 1028.67 Q657.257 1021.54 655.428 1017.99 Q653.623 1014.43 649.989 1014.43 M649.989 1010.73 Q655.799 1010.73 658.854 1015.33 Q661.933 1019.92 661.933 1028.67 Q661.933 1037.39 658.854 1042 Q655.799 1046.58 649.989 1046.58 Q644.178 1046.58 641.1 1042 Q638.044 1037.39 638.044 1028.67 Q638.044 1019.92 641.1 1015.33 Q644.178 1010.73 649.989 1010.73 Z\" fill=\"#000000\" fill-rule=\"nonzero\" fill-opacity=\"1\" /><path clip-path=\"url(#clip960)\" d=\"M670.197 1011.35 L688.553 1011.35 L688.553 1015.29 L674.479 1015.29 L674.479 1023.76 Q675.498 1023.41 676.516 1023.25 Q677.535 1023.06 678.553 1023.06 Q684.34 1023.06 687.72 1026.24 Q691.099 1029.41 691.099 1034.82 Q691.099 1040.4 687.627 1043.5 Q684.155 1046.58 677.836 1046.58 Q675.66 1046.58 673.391 1046.21 Q671.146 1045.84 668.738 1045.1 L668.738 1040.4 Q670.822 1041.54 673.044 1042.09 Q675.266 1042.65 677.743 1042.65 Q681.748 1042.65 684.086 1040.54 Q686.424 1038.43 686.424 1034.82 Q686.424 1031.21 684.086 1029.11 Q681.748 1027 677.743 1027 Q675.868 1027 673.993 1027.42 Q672.141 1027.83 670.197 1028.71 L670.197 1011.35 Z\" fill=\"#000000\" fill-rule=\"nonzero\" fill-opacity=\"1\" /><path clip-path=\"url(#clip960)\" d=\"M710.312 1014.43 Q706.701 1014.43 704.872 1017.99 Q703.067 1021.54 703.067 1028.67 Q703.067 1035.77 704.872 1039.34 Q706.701 1042.88 710.312 1042.88 Q713.947 1042.88 715.752 1039.34 Q717.581 1035.77 717.581 1028.67 Q717.581 1021.54 715.752 1017.99 Q713.947 1014.43 710.312 1014.43 M710.312 1010.73 Q716.122 1010.73 719.178 1015.33 Q722.257 1019.92 722.257 1028.67 Q722.257 1037.39 719.178 1042 Q716.122 1046.58 710.312 1046.58 Q704.502 1046.58 701.423 1042 Q698.368 1037.39 698.368 1028.67 Q698.368 1019.92 701.423 1015.33 Q704.502 1010.73 710.312 1010.73 Z\" fill=\"#000000\" fill-rule=\"nonzero\" fill-opacity=\"1\" /><path clip-path=\"url(#clip960)\" d=\"M525.823 909.064 L555.498 909.064 L555.498 913 L525.823 913 L525.823 909.064 Z\" fill=\"#000000\" fill-rule=\"nonzero\" fill-opacity=\"1\" /><path clip-path=\"url(#clip960)\" d=\"M575.591 894.412 Q571.98 894.412 570.151 897.976 Q568.345 901.518 568.345 908.648 Q568.345 915.754 570.151 919.319 Q571.98 922.861 575.591 922.861 Q579.225 922.861 581.031 919.319 Q582.859 915.754 582.859 908.648 Q582.859 901.518 581.031 897.976 Q579.225 894.412 575.591 894.412 M575.591 890.708 Q581.401 890.708 584.456 895.314 Q587.535 899.898 587.535 908.648 Q587.535 917.375 584.456 921.981 Q581.401 926.564 575.591 926.564 Q569.781 926.564 566.702 921.981 Q563.646 917.375 563.646 908.648 Q563.646 899.898 566.702 895.314 Q569.781 890.708 575.591 890.708 Z\" fill=\"#000000\" fill-rule=\"nonzero\" fill-opacity=\"1\" /><path clip-path=\"url(#clip960)\" d=\"M595.753 920.013 L600.637 920.013 L600.637 925.893 L595.753 925.893 L595.753 920.013 Z\" fill=\"#000000\" fill-rule=\"nonzero\" fill-opacity=\"1\" /><path clip-path=\"url(#clip960)\" d=\"M620.822 894.412 Q617.211 894.412 615.382 897.976 Q613.577 901.518 613.577 908.648 Q613.577 915.754 615.382 919.319 Q617.211 922.861 620.822 922.861 Q624.456 922.861 626.262 919.319 Q628.09 915.754 628.09 908.648 Q628.09 901.518 626.262 897.976 Q624.456 894.412 620.822 894.412 M620.822 890.708 Q626.632 890.708 629.688 895.314 Q632.766 899.898 632.766 908.648 Q632.766 917.375 629.688 921.981 Q626.632 926.564 620.822 926.564 Q615.012 926.564 611.933 921.981 Q608.878 917.375 608.878 908.648 Q608.878 899.898 611.933 895.314 Q615.012 890.708 620.822 890.708 Z\" fill=\"#000000\" fill-rule=\"nonzero\" fill-opacity=\"1\" /><path clip-path=\"url(#clip960)\" d=\"M650.984 894.412 Q647.373 894.412 645.544 897.976 Q643.739 901.518 643.739 908.648 Q643.739 915.754 645.544 919.319 Q647.373 922.861 650.984 922.861 Q654.618 922.861 656.424 919.319 Q658.252 915.754 658.252 908.648 Q658.252 901.518 656.424 897.976 Q654.618 894.412 650.984 894.412 M650.984 890.708 Q656.794 890.708 659.85 895.314 Q662.928 899.898 662.928 908.648 Q662.928 917.375 659.85 921.981 Q656.794 926.564 650.984 926.564 Q645.174 926.564 642.095 921.981 Q639.04 917.375 639.04 908.648 Q639.04 899.898 642.095 895.314 Q645.174 890.708 650.984 890.708 Z\" fill=\"#000000\" fill-rule=\"nonzero\" fill-opacity=\"1\" /><path clip-path=\"url(#clip960)\" d=\"M675.174 921.958 L691.493 921.958 L691.493 925.893 L669.549 925.893 L669.549 921.958 Q672.211 919.203 676.794 914.574 Q681.4 909.921 682.581 908.578 Q684.826 906.055 685.706 904.319 Q686.609 902.56 686.609 900.87 Q686.609 898.115 684.664 896.379 Q682.743 894.643 679.641 894.643 Q677.442 894.643 674.988 895.407 Q672.558 896.171 669.78 897.722 L669.78 893 Q672.604 891.865 675.058 891.287 Q677.512 890.708 679.549 890.708 Q684.919 890.708 688.113 893.393 Q691.308 896.078 691.308 900.569 Q691.308 902.699 690.498 904.62 Q689.711 906.518 687.604 909.111 Q687.025 909.782 683.924 913 Q680.822 916.194 675.174 921.958 Z\" fill=\"#000000\" fill-rule=\"nonzero\" fill-opacity=\"1\" /><path clip-path=\"url(#clip960)\" d=\"M701.354 891.333 L719.71 891.333 L719.71 895.268 L705.636 895.268 L705.636 903.74 Q706.655 903.393 707.673 903.231 Q708.692 903.046 709.71 903.046 Q715.497 903.046 718.877 906.217 Q722.257 909.388 722.257 914.805 Q722.257 920.384 718.784 923.486 Q715.312 926.564 708.993 926.564 Q706.817 926.564 704.548 926.194 Q702.303 925.824 699.896 925.083 L699.896 920.384 Q701.979 921.518 704.201 922.074 Q706.423 922.629 708.9 922.629 Q712.905 922.629 715.243 920.523 Q717.581 918.416 717.581 914.805 Q717.581 911.194 715.243 909.088 Q712.905 906.981 708.9 906.981 Q707.025 906.981 705.15 907.398 Q703.298 907.814 701.354 908.694 L701.354 891.333 Z\" fill=\"#000000\" fill-rule=\"nonzero\" fill-opacity=\"1\" /><path clip-path=\"url(#clip960)\" d=\"M574.595 774.393 Q570.984 774.393 569.156 777.958 Q567.35 781.5 567.35 788.629 Q567.35 795.736 569.156 799.3 Q570.984 802.842 574.595 802.842 Q578.23 802.842 580.035 799.3 Q581.864 795.736 581.864 788.629 Q581.864 781.5 580.035 777.958 Q578.23 774.393 574.595 774.393 M574.595 770.689 Q580.406 770.689 583.461 775.296 Q586.54 779.879 586.54 788.629 Q586.54 797.356 583.461 801.962 Q580.406 806.546 574.595 806.546 Q568.785 806.546 565.707 801.962 Q562.651 797.356 562.651 788.629 Q562.651 779.879 565.707 775.296 Q568.785 770.689 574.595 770.689 Z\" fill=\"#000000\" fill-rule=\"nonzero\" fill-opacity=\"1\" /><path clip-path=\"url(#clip960)\" d=\"M594.757 799.995 L599.642 799.995 L599.642 805.874 L594.757 805.874 L594.757 799.995 Z\" fill=\"#000000\" fill-rule=\"nonzero\" fill-opacity=\"1\" /><path clip-path=\"url(#clip960)\" d=\"M619.827 774.393 Q616.216 774.393 614.387 777.958 Q612.581 781.5 612.581 788.629 Q612.581 795.736 614.387 799.3 Q616.216 802.842 619.827 802.842 Q623.461 802.842 625.266 799.3 Q627.095 795.736 627.095 788.629 Q627.095 781.5 625.266 777.958 Q623.461 774.393 619.827 774.393 M619.827 770.689 Q625.637 770.689 628.692 775.296 Q631.771 779.879 631.771 788.629 Q631.771 797.356 628.692 801.962 Q625.637 806.546 619.827 806.546 Q614.016 806.546 610.938 801.962 Q607.882 797.356 607.882 788.629 Q607.882 779.879 610.938 775.296 Q614.016 770.689 619.827 770.689 Z\" fill=\"#000000\" fill-rule=\"nonzero\" fill-opacity=\"1\" /><path clip-path=\"url(#clip960)\" d=\"M649.989 774.393 Q646.377 774.393 644.549 777.958 Q642.743 781.5 642.743 788.629 Q642.743 795.736 644.549 799.3 Q646.377 802.842 649.989 802.842 Q653.623 802.842 655.428 799.3 Q657.257 795.736 657.257 788.629 Q657.257 781.5 655.428 777.958 Q653.623 774.393 649.989 774.393 M649.989 770.689 Q655.799 770.689 658.854 775.296 Q661.933 779.879 661.933 788.629 Q661.933 797.356 658.854 801.962 Q655.799 806.546 649.989 806.546 Q644.178 806.546 641.1 801.962 Q638.044 797.356 638.044 788.629 Q638.044 779.879 641.1 775.296 Q644.178 770.689 649.989 770.689 Z\" fill=\"#000000\" fill-rule=\"nonzero\" fill-opacity=\"1\" /><path clip-path=\"url(#clip960)\" d=\"M680.15 774.393 Q676.539 774.393 674.711 777.958 Q672.905 781.5 672.905 788.629 Q672.905 795.736 674.711 799.3 Q676.539 802.842 680.15 802.842 Q683.785 802.842 685.59 799.3 Q687.419 795.736 687.419 788.629 Q687.419 781.5 685.59 777.958 Q683.785 774.393 680.15 774.393 M680.15 770.689 Q685.961 770.689 689.016 775.296 Q692.095 779.879 692.095 788.629 Q692.095 797.356 689.016 801.962 Q685.961 806.546 680.15 806.546 Q674.34 806.546 671.262 801.962 Q668.206 797.356 668.206 788.629 Q668.206 779.879 671.262 775.296 Q674.34 770.689 680.15 770.689 Z\" fill=\"#000000\" fill-rule=\"nonzero\" fill-opacity=\"1\" /><path clip-path=\"url(#clip960)\" d=\"M710.312 774.393 Q706.701 774.393 704.872 777.958 Q703.067 781.5 703.067 788.629 Q703.067 795.736 704.872 799.3 Q706.701 802.842 710.312 802.842 Q713.947 802.842 715.752 799.3 Q717.581 795.736 717.581 788.629 Q717.581 781.5 715.752 777.958 Q713.947 774.393 710.312 774.393 M710.312 770.689 Q716.122 770.689 719.178 775.296 Q722.257 779.879 722.257 788.629 Q722.257 797.356 719.178 801.962 Q716.122 806.546 710.312 806.546 Q704.502 806.546 701.423 801.962 Q698.368 797.356 698.368 788.629 Q698.368 779.879 701.423 775.296 Q704.502 770.689 710.312 770.689 Z\" fill=\"#000000\" fill-rule=\"nonzero\" fill-opacity=\"1\" /><path clip-path=\"url(#clip960)\" d=\"M575.591 654.375 Q571.98 654.375 570.151 657.939 Q568.345 661.481 568.345 668.611 Q568.345 675.717 570.151 679.282 Q571.98 682.824 575.591 682.824 Q579.225 682.824 581.031 679.282 Q582.859 675.717 582.859 668.611 Q582.859 661.481 581.031 657.939 Q579.225 654.375 575.591 654.375 M575.591 650.671 Q581.401 650.671 584.456 655.277 Q587.535 659.861 587.535 668.611 Q587.535 677.337 584.456 681.944 Q581.401 686.527 575.591 686.527 Q569.781 686.527 566.702 681.944 Q563.646 677.337 563.646 668.611 Q563.646 659.861 566.702 655.277 Q569.781 650.671 575.591 650.671 Z\" fill=\"#000000\" fill-rule=\"nonzero\" fill-opacity=\"1\" /><path clip-path=\"url(#clip960)\" d=\"M595.753 679.976 L600.637 679.976 L600.637 685.856 L595.753 685.856 L595.753 679.976 Z\" fill=\"#000000\" fill-rule=\"nonzero\" fill-opacity=\"1\" /><path clip-path=\"url(#clip960)\" d=\"M620.822 654.375 Q617.211 654.375 615.382 657.939 Q613.577 661.481 613.577 668.611 Q613.577 675.717 615.382 679.282 Q617.211 682.824 620.822 682.824 Q624.456 682.824 626.262 679.282 Q628.09 675.717 628.09 668.611 Q628.09 661.481 626.262 657.939 Q624.456 654.375 620.822 654.375 M620.822 650.671 Q626.632 650.671 629.688 655.277 Q632.766 659.861 632.766 668.611 Q632.766 677.337 629.688 681.944 Q626.632 686.527 620.822 686.527 Q615.012 686.527 611.933 681.944 Q608.878 677.337 608.878 668.611 Q608.878 659.861 611.933 655.277 Q615.012 650.671 620.822 650.671 Z\" fill=\"#000000\" fill-rule=\"nonzero\" fill-opacity=\"1\" /><path clip-path=\"url(#clip960)\" d=\"M650.984 654.375 Q647.373 654.375 645.544 657.939 Q643.739 661.481 643.739 668.611 Q643.739 675.717 645.544 679.282 Q647.373 682.824 650.984 682.824 Q654.618 682.824 656.424 679.282 Q658.252 675.717 658.252 668.611 Q658.252 661.481 656.424 657.939 Q654.618 654.375 650.984 654.375 M650.984 650.671 Q656.794 650.671 659.85 655.277 Q662.928 659.861 662.928 668.611 Q662.928 677.337 659.85 681.944 Q656.794 686.527 650.984 686.527 Q645.174 686.527 642.095 681.944 Q639.04 677.337 639.04 668.611 Q639.04 659.861 642.095 655.277 Q645.174 650.671 650.984 650.671 Z\" fill=\"#000000\" fill-rule=\"nonzero\" fill-opacity=\"1\" /><path clip-path=\"url(#clip960)\" d=\"M675.174 681.921 L691.493 681.921 L691.493 685.856 L669.549 685.856 L669.549 681.921 Q672.211 679.166 676.794 674.537 Q681.4 669.884 682.581 668.541 Q684.826 666.018 685.706 664.282 Q686.609 662.523 686.609 660.833 Q686.609 658.078 684.664 656.342 Q682.743 654.606 679.641 654.606 Q677.442 654.606 674.988 655.37 Q672.558 656.134 669.78 657.685 L669.78 652.963 Q672.604 651.828 675.058 651.25 Q677.512 650.671 679.549 650.671 Q684.919 650.671 688.113 653.356 Q691.308 656.041 691.308 660.532 Q691.308 662.662 690.498 664.583 Q689.711 666.481 687.604 669.074 Q687.025 669.745 683.924 672.962 Q680.822 676.157 675.174 681.921 Z\" fill=\"#000000\" fill-rule=\"nonzero\" fill-opacity=\"1\" /><path clip-path=\"url(#clip960)\" d=\"M701.354 651.296 L719.71 651.296 L719.71 655.231 L705.636 655.231 L705.636 663.703 Q706.655 663.356 707.673 663.194 Q708.692 663.009 709.71 663.009 Q715.497 663.009 718.877 666.18 Q722.257 669.351 722.257 674.768 Q722.257 680.347 718.784 683.449 Q715.312 686.527 708.993 686.527 Q706.817 686.527 704.548 686.157 Q702.303 685.786 699.896 685.046 L699.896 680.347 Q701.979 681.481 704.201 682.037 Q706.423 682.592 708.9 682.592 Q712.905 682.592 715.243 680.486 Q717.581 678.379 717.581 674.768 Q717.581 671.157 715.243 669.05 Q712.905 666.944 708.9 666.944 Q707.025 666.944 705.15 667.361 Q703.298 667.777 701.354 668.657 L701.354 651.296 Z\" fill=\"#000000\" fill-rule=\"nonzero\" fill-opacity=\"1\" /><path clip-path=\"url(#clip960)\" d=\"M574.595 534.356 Q570.984 534.356 569.156 537.921 Q567.35 541.463 567.35 548.592 Q567.35 555.699 569.156 559.263 Q570.984 562.805 574.595 562.805 Q578.23 562.805 580.035 559.263 Q581.864 555.699 581.864 548.592 Q581.864 541.463 580.035 537.921 Q578.23 534.356 574.595 534.356 M574.595 530.652 Q580.406 530.652 583.461 535.259 Q586.54 539.842 586.54 548.592 Q586.54 557.319 583.461 561.925 Q580.406 566.509 574.595 566.509 Q568.785 566.509 565.707 561.925 Q562.651 557.319 562.651 548.592 Q562.651 539.842 565.707 535.259 Q568.785 530.652 574.595 530.652 Z\" fill=\"#000000\" fill-rule=\"nonzero\" fill-opacity=\"1\" /><path clip-path=\"url(#clip960)\" d=\"M594.757 559.958 L599.642 559.958 L599.642 565.837 L594.757 565.837 L594.757 559.958 Z\" fill=\"#000000\" fill-rule=\"nonzero\" fill-opacity=\"1\" /><path clip-path=\"url(#clip960)\" d=\"M619.827 534.356 Q616.216 534.356 614.387 537.921 Q612.581 541.463 612.581 548.592 Q612.581 555.699 614.387 559.263 Q616.216 562.805 619.827 562.805 Q623.461 562.805 625.266 559.263 Q627.095 555.699 627.095 548.592 Q627.095 541.463 625.266 537.921 Q623.461 534.356 619.827 534.356 M619.827 530.652 Q625.637 530.652 628.692 535.259 Q631.771 539.842 631.771 548.592 Q631.771 557.319 628.692 561.925 Q625.637 566.509 619.827 566.509 Q614.016 566.509 610.938 561.925 Q607.882 557.319 607.882 548.592 Q607.882 539.842 610.938 535.259 Q614.016 530.652 619.827 530.652 Z\" fill=\"#000000\" fill-rule=\"nonzero\" fill-opacity=\"1\" /><path clip-path=\"url(#clip960)\" d=\"M649.989 534.356 Q646.377 534.356 644.549 537.921 Q642.743 541.463 642.743 548.592 Q642.743 555.699 644.549 559.263 Q646.377 562.805 649.989 562.805 Q653.623 562.805 655.428 559.263 Q657.257 555.699 657.257 548.592 Q657.257 541.463 655.428 537.921 Q653.623 534.356 649.989 534.356 M649.989 530.652 Q655.799 530.652 658.854 535.259 Q661.933 539.842 661.933 548.592 Q661.933 557.319 658.854 561.925 Q655.799 566.509 649.989 566.509 Q644.178 566.509 641.1 561.925 Q638.044 557.319 638.044 548.592 Q638.044 539.842 641.1 535.259 Q644.178 530.652 649.989 530.652 Z\" fill=\"#000000\" fill-rule=\"nonzero\" fill-opacity=\"1\" /><path clip-path=\"url(#clip960)\" d=\"M670.197 531.277 L688.553 531.277 L688.553 535.213 L674.479 535.213 L674.479 543.685 Q675.498 543.338 676.516 543.176 Q677.535 542.99 678.553 542.99 Q684.34 542.99 687.72 546.162 Q691.099 549.333 691.099 554.75 Q691.099 560.328 687.627 563.43 Q684.155 566.509 677.836 566.509 Q675.66 566.509 673.391 566.138 Q671.146 565.768 668.738 565.027 L668.738 560.328 Q670.822 561.462 673.044 562.018 Q675.266 562.574 677.743 562.574 Q681.748 562.574 684.086 560.467 Q686.424 558.361 686.424 554.75 Q686.424 551.138 684.086 549.032 Q681.748 546.925 677.743 546.925 Q675.868 546.925 673.993 547.342 Q672.141 547.759 670.197 548.638 L670.197 531.277 Z\" fill=\"#000000\" fill-rule=\"nonzero\" fill-opacity=\"1\" /><path clip-path=\"url(#clip960)\" d=\"M710.312 534.356 Q706.701 534.356 704.872 537.921 Q703.067 541.463 703.067 548.592 Q703.067 555.699 704.872 559.263 Q706.701 562.805 710.312 562.805 Q713.947 562.805 715.752 559.263 Q717.581 555.699 717.581 548.592 Q717.581 541.463 715.752 537.921 Q713.947 534.356 710.312 534.356 M710.312 530.652 Q716.122 530.652 719.178 535.259 Q722.257 539.842 722.257 548.592 Q722.257 557.319 719.178 561.925 Q716.122 566.509 710.312 566.509 Q704.502 566.509 701.423 561.925 Q698.368 557.319 698.368 548.592 Q698.368 539.842 701.423 535.259 Q704.502 530.652 710.312 530.652 Z\" fill=\"#000000\" fill-rule=\"nonzero\" fill-opacity=\"1\" /><polyline clip-path=\"url(#clip962)\" style=\"stroke:#009af9; stroke-linecap:round; stroke-linejoin:round; stroke-width:4; stroke-opacity:1; fill:none\" points=\"1417.27,471.413 1423.1,466.581 1430.33,461.19 1438.14,456.107 1446.78,451.396 1455.92,447.464 1465.54,444.515 1475.49,442.775 1485.72,442.41 1496.15,443.572 1506.79,446.401 1517.58,451.031 1528.54,457.609 1539.64,466.28 1550.87,477.187 1562.13,490.397 1573.3,505.873 1584.3,523.59 1595.08,543.511 1605.58,565.631 1615.76,589.966 1625.52,616.494 1634.8,645.26 1643.48,676.256 1651.39,709.447 1658.28,744.422 1663.94,780.776 1668.14,817.904 1670.72,855.316 1671.56,892.613 1670.56,929.4 1667.68,965.321 1662.85,1000.14 1656.06,1033.54 1647.3,1065.23 1636.6,1094.93 1624.01,1122.35 1609.62,1147.23 1593.56,1169.28 1575.99,1188.28 1557.1,1204.01 1537.1,1216.29 1516.23,1225 1494.75,1230.03 1472.92,1231.33 1451.03,1228.86 1429.35,1222.66 1408.19,1212.79 1387.82,1199.37 1368.54,1182.59 1350.56,1162.67 1334.11,1139.88 1319.36,1114.49 1306.43,1086.81 1295.41,1057.13 1286.36,1025.7 1279.3,992.767 1274.24,958.532 1271.21,923.297 1270.19,888.016 1271,853.874 1273.34,821.345 1276.9,790.828 1281.31,762.816 1286.69,735.472 1292.92,709 1299.94,683.408 1307.67,658.773 1316.04,635.165 1324.97,612.625 1334.43,591.194 1344.36,570.92 1354.71,551.847 1365.65,533.691 1376.96,516.895 1388.33,501.878 1399.7,488.606 1411.01,477.086 1422.24,467.271 1433.36,459.123 1444.39,452.605 1455.32,447.69 1466.16,444.367 1476.97,442.632 1487.72,442.512 1498.47,444.045 1509.23,447.291 1520.03,452.334 1530.92,459.295 1541.9,468.292 1553,479.511 1564.13,492.995 1575.16,508.704 1585.92,526.42 1596.39,546.12 1606.45,567.583 1616.13,590.916 1625.32,615.896 1633.98,642.554 1642.05,670.833 1649.35,700.34 1655.67,730.284 1660.84,759.638 1664.89,788.04 1668.14,817.863 1670.35,848.021 1671.45,878.64 1671.34,909.28 1669.93,939.78 1667.17,969.817 1663.04,999.031 1657.58,1026.96 1650.95,1053.09 1643.45,1076.79 1634.94,1098.93 1624.99,1120.43 1613.9,1140.41 1601.55,1158.96 1588.05,1175.75 1573.43,1190.67 1557.79,1203.5 1541.21,1214.1 1523.82,1222.29 1505.75,1227.93 1487.17,1230.91 1468.24,1231.12 1449.15,1228.48 1430.12,1222.94 1411.34,1214.51 1393.04,1203.2 1375.43,1189.09 1358.72,1172.29 1343.1,1152.94 1328.72,1131.22 1315.74,1107.33 1304.25,1081.48 1294.36,1053.86 1286.1,1024.68 1279.54,994.091 1274.68,962.25 1271.59,929.444 1270.26,896.577 1270.55,864.698 1272.23,834.252 1275.01,805.633 1278.58,779.294 1282.65,755.471 1287.74,730.691 1293.43,706.995 1299.9,683.553 1306.98,660.861 1314.67,638.826 1322.91,617.604 1331.62,597.332 1340.73,578.089 1350.12,560.055 1359.58,543.503 1370.6,526.104 1381.1,511.205 1391.99,497.409 1402.76,485.317 1413.6,474.668 1424.38,465.567 1435.14,457.958 1445.84,451.852 1456.5,447.242 1467.12,444.141 1477.72,442.564 1488.32,442.549 1498.93,444.149 1509.59,447.432 1520.31,452.499 1531.12,459.457 1542.03,468.437 1553.02,479.568 1564.06,492.948 1574.98,508.486 1585.65,526.022 1596.03,545.503 1606.04,566.776 1615.66,589.864 1624.83,614.691 1633.51,641.248 1641.57,669.33 1648.87,698.653 1655.2,728.405 1660.42,757.71 1664.42,785.306 1667.67,814.304 1669.96,843.717 1671.2,873.723 1671.28,903.796 1670.12,933.852 1667.65,963.531 1663.85,992.511 1658.75,1020.3 1652.48,1046.4 1645.32,1070.23 1637.67,1091.24 1628.3,1112.71 1618,1132.48 1606.35,1151.2 1593.6,1168.27 1579.69,1183.69 1564.74,1197.18 1548.8,1208.58 1532,1217.73 1514.44,1224.46 1496.28,1228.63 1477.69,1230.13 1458.83,1228.87 1439.9,1224.77 1421.12,1217.8 1402.69,1207.97 1384.82,1195.34 1367.73,1179.98 1351.62,1162.02 1336.65,1141.64 1322.97,1119.01 1310.72,1094.34 1299.99,1067.85 1290.84,1039.75 1283.33,1010.24 1277.46,979.491 1273.27,947.678 1270.76,915.14 1269.92,882.721 1270.57,851.379 1272.49,821.557 1275.38,793.696 1278.91,768.394 1283.12,744.081 1288.14,719.744 1293.77,696.223 1300.05,673.166 1306.87,650.877 1314.2,629.363 1321.95,608.761 1330.02,589.206 1338.3,570.863 1346.6,553.974 1354.84,538.524 1364.15,522.529 1373.71,507.597 1383.41,493.89 1393.02,481.726 1402.51,471.043 1411.81,461.891 1420.89,454.233 1429.72,448.056 1438.27,443.33 1446.52,440.024 1454.49,438.106 1462.12,437.554 1469.43,438.338 1476.38,440.427 1483,443.798 1489.24,448.407 1495.08,454.199 1500.5,461.12 1505.46,469.034 1509.97,477.874 1513.88,487.189 1517.33,497.15 1520.58,508.582 1523.48,521.361 1525.87,535.205 1527.75,550.444 1528.95,566.585 1529.41,583.619 1529.04,601.112 1527.82,618.827 1525.74,636.288 1522.87,653.121 1519.46,668.426 1514.93,684.577 1509.59,699.999 1503.27,715.018 1496.17,729.05 1488.46,741.826 1480.52,752.97 1471.33,763.884 1461.63,773.567 1451.12,782.316 1440.08,789.907 1428.46,796.395 1416.44,801.742 1404.19,805.948 1391.34,809.187 1378.38,811.382 1365.18,812.631 1351.93,812.989 1338.65,812.53 1325.43,811.332 1312.31,809.471 1299.35,807.025 1286.6,804.066 1274.09,800.668 1261.87,796.894 1249.95,792.807 1238.36,788.46 1227.11,783.905 1216.22,779.186 1205.69,774.343 1195.53,769.412 1185.75,764.426 1176.37,759.422 1167.42,754.45 1159.2,749.706 1150.69,744.611 1142.64,739.621 1134.76,734.562 1127.2,729.542 1119.89,724.522 1112.85,719.53 1106.07,714.568 1099.58,709.654 1093.39,704.804 1087.51,700.046 1081.96,695.395 1076.74,690.861 1071.84,686.449 1067.24,682.152 1062.93,677.962 1058.87,673.852 1055.03,669.793 1051.42,665.778 1048.27,662.108 1045.55,658.775 1043.24,655.797 1041.16,652.973 1039.35,650.372 1037.53,647.612 1035.89,644.95 1034.31,642.181 1032.81,639.275 1031.56,636.574 1030.51,634.002 1029.66,631.551 1028.98,629.2 1028.48,626.941 1028.14,624.767 1027.97,622.667 1027.97,620.644 1028.13,618.704 1028.46,616.879 1028.93,615.176 1029.54,613.598 1030.28,612.143 1031.11,610.808 1032.04,609.591 1033.02,608.499 1034.02,607.557 1035.18,606.607 1036.43,605.721 1037.83,604.872 1039.37,604.076 1041.04,603.341 1042.86,602.665 1044.83,602.062 1046.97,601.531 1049.27,601.083 1051.73,600.724 1054.35,600.463 1057.13,600.303 1060.07,600.252 1063.18,600.314 1066.43,600.494 1069.85,600.799 1073.42,601.232 1077.15,601.799 1081.03,602.505 1085.08,603.358 1089.27,604.36 1093.63,605.521 1098.12,606.839 1102.75,608.324 1107.58,609.997 1112.52,611.841 1117.63,613.883 1122.9,616.129 1128.29,618.568 1133.87,621.241 1139.58,624.133 1145.42,627.257 1151.43,630.639 1157.54,634.252 1163.74,638.098 1170.09,642.234 1176.46,646.579 1183.05,651.284 1189.62,656.185 1196.33,661.426 1203.06,666.907 1209.91,672.743 1216.61,678.694 1223.52,685.095 1230.35,691.7 1237.28,698.686 1244.28,706.038 1251.49,713.961 1258.76,722.294 1266.19,731.2 1273.71,740.622 1281.44,750.776 1289.25,761.539 1297.17,773.009 1305.18,785.204 1313.25,798.145 1321.32,811.795 1329.39,826.213 1335.5,837.662 \"/>\n",
       "<path clip-path=\"url(#clip960)\" d=\"M353.366 1438.47 L612.63 1438.47 L612.63 1334.79 L353.366 1334.79  Z\" fill=\"#ffffff\" fill-rule=\"evenodd\" fill-opacity=\"1\"/>\n",
       "<polyline clip-path=\"url(#clip960)\" style=\"stroke:#000000; stroke-linecap:round; stroke-linejoin:round; stroke-width:4; stroke-opacity:1; fill:none\" points=\"353.366,1438.47 612.63,1438.47 612.63,1334.79 353.366,1334.79 353.366,1438.47 \"/>\n",
       "<polyline clip-path=\"url(#clip960)\" style=\"stroke:#009af9; stroke-linecap:round; stroke-linejoin:round; stroke-width:4; stroke-opacity:1; fill:none\" points=\"376.348,1386.63 514.237,1386.63 \"/>\n",
       "<path clip-path=\"url(#clip960)\" d=\"M551.061 1406.32 Q549.255 1410.95 547.542 1412.36 Q545.829 1413.78 542.959 1413.78 L539.556 1413.78 L539.556 1410.21 L542.056 1410.21 Q543.815 1410.21 544.787 1409.38 Q545.76 1408.54 546.94 1405.44 L547.704 1403.5 L537.218 1377.99 L541.732 1377.99 L549.834 1398.27 L557.936 1377.99 L562.449 1377.99 L551.061 1406.32 Z\" fill=\"#000000\" fill-rule=\"nonzero\" fill-opacity=\"1\" /><path clip-path=\"url(#clip960)\" d=\"M569.741 1399.98 L577.38 1399.98 L577.38 1373.61 L569.07 1375.28 L569.07 1371.02 L577.334 1369.35 L582.009 1369.35 L582.009 1399.98 L589.648 1399.98 L589.648 1403.91 L569.741 1403.91 L569.741 1399.98 Z\" fill=\"#000000\" fill-rule=\"nonzero\" fill-opacity=\"1\" /></svg>\n"
      ],
      "text/html": [
       "<?xml version=\"1.0\" encoding=\"utf-8\"?>\n",
       "<svg xmlns=\"http://www.w3.org/2000/svg\" xmlns:xlink=\"http://www.w3.org/1999/xlink\" width=\"600\" height=\"400\" viewBox=\"0 0 2400 1600\">\n",
       "<defs>\n",
       "  <clipPath id=\"clip010\">\n",
       "    <rect x=\"0\" y=\"0\" width=\"2400\" height=\"1600\"/>\n",
       "  </clipPath>\n",
       "</defs>\n",
       "<path clip-path=\"url(#clip010)\" d=\"M0 1600 L2400 1600 L2400 0 L0 0  Z\" fill=\"#ffffff\" fill-rule=\"evenodd\" fill-opacity=\"1\"/>\n",
       "<defs>\n",
       "  <clipPath id=\"clip011\">\n",
       "    <rect x=\"480\" y=\"0\" width=\"1681\" height=\"1600\"/>\n",
       "  </clipPath>\n",
       "</defs>\n",
       "<defs>\n",
       "  <clipPath id=\"clip012\">\n",
       "    <rect x=\"284\" y=\"47\" width=\"2069\" height=\"1440\"/>\n",
       "  </clipPath>\n",
       "</defs>\n",
       "<path clip-path=\"url(#clip012)\" d=\"M-10380.9 5176.19 L-10380.9 -2027.16 L-7487.05 -5628.84 L-2474.76 -3549.41 L-2474.76 3653.94 L-5368.61 7255.61 L-10380.9 5176.19  Z\" fill=\"#ffffff\" fill-rule=\"evenodd\" fill-opacity=\"1\"/>\n",
       "<polyline clip-path=\"url(#clip012)\" style=\"stroke:#000000; stroke-linecap:round; stroke-linejoin:round; stroke-width:2; stroke-opacity:0.1; fill:none\" points=\"796.609,1215.83 1212.07,856.031 1212.07,136.429 \"/>\n",
       "<polyline clip-path=\"url(#clip012)\" style=\"stroke:#000000; stroke-linecap:round; stroke-linejoin:round; stroke-width:2; stroke-opacity:0.1; fill:none\" points=\"921.916,1252 1337.38,892.204 1337.38,172.602 \"/>\n",
       "<polyline clip-path=\"url(#clip012)\" style=\"stroke:#000000; stroke-linecap:round; stroke-linejoin:round; stroke-width:2; stroke-opacity:0.1; fill:none\" points=\"1047.22,1288.18 1462.69,928.377 1462.69,208.775 \"/>\n",
       "<polyline clip-path=\"url(#clip012)\" style=\"stroke:#000000; stroke-linecap:round; stroke-linejoin:round; stroke-width:2; stroke-opacity:0.1; fill:none\" points=\"1172.53,1324.35 1587.99,964.55 1587.99,244.948 \"/>\n",
       "<polyline clip-path=\"url(#clip012)\" style=\"stroke:#000000; stroke-linecap:round; stroke-linejoin:round; stroke-width:2; stroke-opacity:0.1; fill:none\" points=\"1297.84,1360.52 1713.3,1000.72 1713.3,281.121 \"/>\n",
       "<polyline clip-path=\"url(#clip012)\" style=\"stroke:#000000; stroke-linecap:round; stroke-linejoin:round; stroke-width:2; stroke-opacity:0.1; fill:none\" points=\"1423.14,1396.7 1838.61,1036.9 1838.61,317.294 \"/>\n",
       "<polyline clip-path=\"url(#clip010)\" style=\"stroke:#000000; stroke-linecap:round; stroke-linejoin:round; stroke-width:4; stroke-opacity:1; fill:none\" points=\"751.057,1202.68 1470.66,1410.41 \"/>\n",
       "<polyline clip-path=\"url(#clip010)\" style=\"stroke:#000000; stroke-linecap:round; stroke-linejoin:round; stroke-width:4; stroke-opacity:1; fill:none\" points=\"796.609,1215.83 801.594,1211.51 \"/>\n",
       "<polyline clip-path=\"url(#clip010)\" style=\"stroke:#000000; stroke-linecap:round; stroke-linejoin:round; stroke-width:4; stroke-opacity:1; fill:none\" points=\"921.916,1252 926.901,1247.69 \"/>\n",
       "<polyline clip-path=\"url(#clip010)\" style=\"stroke:#000000; stroke-linecap:round; stroke-linejoin:round; stroke-width:4; stroke-opacity:1; fill:none\" points=\"1047.22,1288.18 1052.21,1283.86 \"/>\n",
       "<polyline clip-path=\"url(#clip010)\" style=\"stroke:#000000; stroke-linecap:round; stroke-linejoin:round; stroke-width:4; stroke-opacity:1; fill:none\" points=\"1172.53,1324.35 1177.52,1320.03 \"/>\n",
       "<polyline clip-path=\"url(#clip010)\" style=\"stroke:#000000; stroke-linecap:round; stroke-linejoin:round; stroke-width:4; stroke-opacity:1; fill:none\" points=\"1297.84,1360.52 1302.82,1356.21 \"/>\n",
       "<polyline clip-path=\"url(#clip010)\" style=\"stroke:#000000; stroke-linecap:round; stroke-linejoin:round; stroke-width:4; stroke-opacity:1; fill:none\" points=\"1423.14,1396.7 1428.13,1392.38 \"/>\n",
       "<path clip-path=\"url(#clip010)\" d=\"M699.23 1228.23 Q695.619 1228.23 693.791 1231.8 Q691.985 1235.34 691.985 1242.47 Q691.985 1249.57 693.791 1253.14 Q695.619 1256.68 699.23 1256.68 Q702.865 1256.68 704.67 1253.14 Q706.499 1249.57 706.499 1242.47 Q706.499 1235.34 704.67 1231.8 Q702.865 1228.23 699.23 1228.23 M699.23 1224.53 Q705.04 1224.53 708.096 1229.13 Q711.175 1233.72 711.175 1242.47 Q711.175 1251.19 708.096 1255.8 Q705.04 1260.38 699.23 1260.38 Q693.42 1260.38 690.341 1255.8 Q687.286 1251.19 687.286 1242.47 Q687.286 1233.72 690.341 1229.13 Q693.42 1224.53 699.23 1224.53 Z\" fill=\"#000000\" fill-rule=\"nonzero\" fill-opacity=\"1\" /><path clip-path=\"url(#clip010)\" d=\"M719.392 1253.83 L724.276 1253.83 L724.276 1259.71 L719.392 1259.71 L719.392 1253.83 Z\" fill=\"#000000\" fill-rule=\"nonzero\" fill-opacity=\"1\" /><path clip-path=\"url(#clip010)\" d=\"M734.601 1259 L734.601 1254.74 Q736.36 1255.57 738.165 1256.01 Q739.971 1256.45 741.707 1256.45 Q746.337 1256.45 748.767 1253.35 Q751.221 1250.22 751.568 1243.88 Q750.225 1245.87 748.165 1246.94 Q746.105 1248 743.605 1248 Q738.42 1248 735.388 1244.88 Q732.378 1241.73 732.378 1236.29 Q732.378 1230.96 735.526 1227.75 Q738.675 1224.53 743.906 1224.53 Q749.901 1224.53 753.049 1229.13 Q756.221 1233.72 756.221 1242.47 Q756.221 1250.64 752.332 1255.52 Q748.466 1260.38 741.915 1260.38 Q740.156 1260.38 738.35 1260.04 Q736.545 1259.69 734.601 1259 M743.906 1244.34 Q747.054 1244.34 748.883 1242.19 Q750.735 1240.04 750.735 1236.29 Q750.735 1232.56 748.883 1230.41 Q747.054 1228.23 743.906 1228.23 Q740.758 1228.23 738.906 1230.41 Q737.077 1232.56 737.077 1236.29 Q737.077 1240.04 738.906 1242.19 Q740.758 1244.34 743.906 1244.34 Z\" fill=\"#000000\" fill-rule=\"nonzero\" fill-opacity=\"1\" /><path clip-path=\"url(#clip010)\" d=\"M764.67 1225.15 L783.026 1225.15 L783.026 1229.09 L768.952 1229.09 L768.952 1237.56 Q769.971 1237.21 770.989 1237.05 Q772.008 1236.87 773.026 1236.87 Q778.813 1236.87 782.193 1240.04 Q785.572 1243.21 785.572 1248.63 Q785.572 1254.2 782.1 1257.31 Q778.628 1260.38 772.309 1260.38 Q770.133 1260.38 767.864 1260.01 Q765.619 1259.64 763.211 1258.9 L763.211 1254.2 Q765.295 1255.34 767.517 1255.89 Q769.739 1256.45 772.216 1256.45 Q776.221 1256.45 778.559 1254.34 Q780.897 1252.24 780.897 1248.63 Q780.897 1245.01 778.559 1242.91 Q776.221 1240.8 772.216 1240.8 Q770.341 1240.8 768.466 1241.22 Q766.614 1241.63 764.67 1242.51 L764.67 1225.15 Z\" fill=\"#000000\" fill-rule=\"nonzero\" fill-opacity=\"1\" /><path clip-path=\"url(#clip010)\" d=\"M814.352 1291.95 L821.991 1291.95 L821.991 1265.59 L813.681 1267.25 L813.681 1262.99 L821.945 1261.33 L826.621 1261.33 L826.621 1291.95 L834.26 1291.95 L834.26 1295.89 L814.352 1295.89 L814.352 1291.95 Z\" fill=\"#000000\" fill-rule=\"nonzero\" fill-opacity=\"1\" /><path clip-path=\"url(#clip010)\" d=\"M843.704 1290.01 L848.588 1290.01 L848.588 1295.89 L843.704 1295.89 L843.704 1290.01 Z\" fill=\"#000000\" fill-rule=\"nonzero\" fill-opacity=\"1\" /><path clip-path=\"url(#clip010)\" d=\"M868.773 1264.4 Q865.162 1264.4 863.334 1267.97 Q861.528 1271.51 861.528 1278.64 Q861.528 1285.75 863.334 1289.31 Q865.162 1292.85 868.773 1292.85 Q872.408 1292.85 874.213 1289.31 Q876.042 1285.75 876.042 1278.64 Q876.042 1271.51 874.213 1267.97 Q872.408 1264.4 868.773 1264.4 M868.773 1260.7 Q874.584 1260.7 877.639 1265.31 Q880.718 1269.89 880.718 1278.64 Q880.718 1287.37 877.639 1291.97 Q874.584 1296.56 868.773 1296.56 Q862.963 1296.56 859.885 1291.97 Q856.829 1287.37 856.829 1278.64 Q856.829 1269.89 859.885 1265.31 Q862.963 1260.7 868.773 1260.7 Z\" fill=\"#000000\" fill-rule=\"nonzero\" fill-opacity=\"1\" /><path clip-path=\"url(#clip010)\" d=\"M898.935 1264.4 Q895.324 1264.4 893.495 1267.97 Q891.69 1271.51 891.69 1278.64 Q891.69 1285.75 893.495 1289.31 Q895.324 1292.85 898.935 1292.85 Q902.569 1292.85 904.375 1289.31 Q906.204 1285.75 906.204 1278.64 Q906.204 1271.51 904.375 1267.97 Q902.569 1264.4 898.935 1264.4 M898.935 1260.7 Q904.745 1260.7 907.801 1265.31 Q910.88 1269.89 910.88 1278.64 Q910.88 1287.37 907.801 1291.97 Q904.745 1296.56 898.935 1296.56 Q893.125 1296.56 890.046 1291.97 Q886.991 1287.37 886.991 1278.64 Q886.991 1269.89 890.046 1265.31 Q893.125 1260.7 898.935 1260.7 Z\" fill=\"#000000\" fill-rule=\"nonzero\" fill-opacity=\"1\" /><path clip-path=\"url(#clip010)\" d=\"M940.655 1328.12 L948.294 1328.12 L948.294 1301.76 L939.984 1303.43 L939.984 1299.17 L948.247 1297.5 L952.923 1297.5 L952.923 1328.12 L960.562 1328.12 L960.562 1332.06 L940.655 1332.06 L940.655 1328.12 Z\" fill=\"#000000\" fill-rule=\"nonzero\" fill-opacity=\"1\" /><path clip-path=\"url(#clip010)\" d=\"M970.007 1326.18 L974.891 1326.18 L974.891 1332.06 L970.007 1332.06 L970.007 1326.18 Z\" fill=\"#000000\" fill-rule=\"nonzero\" fill-opacity=\"1\" /><path clip-path=\"url(#clip010)\" d=\"M995.076 1300.58 Q991.465 1300.58 989.636 1304.14 Q987.831 1307.68 987.831 1314.81 Q987.831 1321.92 989.636 1325.49 Q991.465 1329.03 995.076 1329.03 Q998.71 1329.03 1000.52 1325.49 Q1002.34 1321.92 1002.34 1314.81 Q1002.34 1307.68 1000.52 1304.14 Q998.71 1300.58 995.076 1300.58 M995.076 1296.87 Q1000.89 1296.87 1003.94 1301.48 Q1007.02 1306.06 1007.02 1314.81 Q1007.02 1323.54 1003.94 1328.15 Q1000.89 1332.73 995.076 1332.73 Q989.266 1332.73 986.187 1328.15 Q983.132 1323.54 983.132 1314.81 Q983.132 1306.06 986.187 1301.48 Q989.266 1296.87 995.076 1296.87 Z\" fill=\"#000000\" fill-rule=\"nonzero\" fill-opacity=\"1\" /><path clip-path=\"url(#clip010)\" d=\"M1015.28 1297.5 L1033.64 1297.5 L1033.64 1301.43 L1019.57 1301.43 L1019.57 1309.91 Q1020.59 1309.56 1021.6 1309.4 Q1022.62 1309.21 1023.64 1309.21 Q1029.43 1309.21 1032.81 1312.38 Q1036.19 1315.55 1036.19 1320.97 Q1036.19 1326.55 1032.71 1329.65 Q1029.24 1332.73 1022.92 1332.73 Q1020.75 1332.73 1018.48 1332.36 Q1016.23 1331.99 1013.83 1331.25 L1013.83 1326.55 Q1015.91 1327.68 1018.13 1328.24 Q1020.35 1328.8 1022.83 1328.8 Q1026.84 1328.8 1029.17 1326.69 Q1031.51 1324.58 1031.51 1320.97 Q1031.51 1317.36 1029.17 1315.25 Q1026.84 1313.15 1022.83 1313.15 Q1020.96 1313.15 1019.08 1313.56 Q1017.23 1313.98 1015.28 1314.86 L1015.28 1297.5 Z\" fill=\"#000000\" fill-rule=\"nonzero\" fill-opacity=\"1\" /><path clip-path=\"url(#clip010)\" d=\"M1064.97 1364.3 L1072.61 1364.3 L1072.61 1337.93 L1064.3 1339.6 L1064.3 1335.34 L1072.56 1333.67 L1077.24 1333.67 L1077.24 1364.3 L1084.87 1364.3 L1084.87 1368.23 L1064.97 1368.23 L1064.97 1364.3 Z\" fill=\"#000000\" fill-rule=\"nonzero\" fill-opacity=\"1\" /><path clip-path=\"url(#clip010)\" d=\"M1094.32 1362.35 L1099.2 1362.35 L1099.2 1368.23 L1094.32 1368.23 L1094.32 1362.35 Z\" fill=\"#000000\" fill-rule=\"nonzero\" fill-opacity=\"1\" /><path clip-path=\"url(#clip010)\" d=\"M1110.2 1364.3 L1117.84 1364.3 L1117.84 1337.93 L1109.53 1339.6 L1109.53 1335.34 L1117.79 1333.67 L1122.47 1333.67 L1122.47 1364.3 L1130.11 1364.3 L1130.11 1368.23 L1110.2 1368.23 L1110.2 1364.3 Z\" fill=\"#000000\" fill-rule=\"nonzero\" fill-opacity=\"1\" /><path clip-path=\"url(#clip010)\" d=\"M1149.55 1336.75 Q1145.94 1336.75 1144.11 1340.32 Q1142.3 1343.86 1142.3 1350.99 Q1142.3 1358.09 1144.11 1361.66 Q1145.94 1365.2 1149.55 1365.2 Q1153.18 1365.2 1154.99 1361.66 Q1156.82 1358.09 1156.82 1350.99 Q1156.82 1343.86 1154.99 1340.32 Q1153.18 1336.75 1149.55 1336.75 M1149.55 1333.05 Q1155.36 1333.05 1158.42 1337.65 Q1161.49 1342.24 1161.49 1350.99 Q1161.49 1359.71 1158.42 1364.32 Q1155.36 1368.9 1149.55 1368.9 Q1143.74 1368.9 1140.66 1364.32 Q1137.61 1359.71 1137.61 1350.99 Q1137.61 1342.24 1140.66 1337.65 Q1143.74 1333.05 1149.55 1333.05 Z\" fill=\"#000000\" fill-rule=\"nonzero\" fill-opacity=\"1\" /><path clip-path=\"url(#clip010)\" d=\"M1191.27 1400.47 L1198.91 1400.47 L1198.91 1374.1 L1190.6 1375.77 L1190.6 1371.51 L1198.86 1369.85 L1203.54 1369.85 L1203.54 1400.47 L1211.18 1400.47 L1211.18 1404.41 L1191.27 1404.41 L1191.27 1400.47 Z\" fill=\"#000000\" fill-rule=\"nonzero\" fill-opacity=\"1\" /><path clip-path=\"url(#clip010)\" d=\"M1220.62 1398.53 L1225.51 1398.53 L1225.51 1404.41 L1220.62 1404.41 L1220.62 1398.53 Z\" fill=\"#000000\" fill-rule=\"nonzero\" fill-opacity=\"1\" /><path clip-path=\"url(#clip010)\" d=\"M1236.5 1400.47 L1244.14 1400.47 L1244.14 1374.1 L1235.83 1375.77 L1235.83 1371.51 L1244.09 1369.85 L1248.77 1369.85 L1248.77 1400.47 L1256.41 1400.47 L1256.41 1404.41 L1236.5 1404.41 L1236.5 1400.47 Z\" fill=\"#000000\" fill-rule=\"nonzero\" fill-opacity=\"1\" /><path clip-path=\"url(#clip010)\" d=\"M1265.9 1369.85 L1284.25 1369.85 L1284.25 1373.78 L1270.18 1373.78 L1270.18 1382.25 Q1271.2 1381.91 1272.22 1381.74 Q1273.24 1381.56 1274.25 1381.56 Q1280.04 1381.56 1283.42 1384.73 Q1286.8 1387.9 1286.8 1393.32 Q1286.8 1398.9 1283.33 1402 Q1279.86 1405.08 1273.54 1405.08 Q1271.36 1405.08 1269.09 1404.71 Q1266.85 1404.34 1264.44 1403.6 L1264.44 1398.9 Q1266.52 1400.03 1268.75 1400.59 Q1270.97 1401.14 1273.44 1401.14 Q1277.45 1401.14 1279.79 1399.04 Q1282.13 1396.93 1282.13 1393.32 Q1282.13 1389.71 1279.79 1387.6 Q1277.45 1385.49 1273.44 1385.49 Q1271.57 1385.49 1269.69 1385.91 Q1267.84 1386.33 1265.9 1387.21 L1265.9 1369.85 Z\" fill=\"#000000\" fill-rule=\"nonzero\" fill-opacity=\"1\" /><path clip-path=\"url(#clip010)\" d=\"M1315.58 1436.64 L1323.22 1436.64 L1323.22 1410.28 L1314.91 1411.94 L1314.91 1407.69 L1323.17 1406.02 L1327.85 1406.02 L1327.85 1436.64 L1335.49 1436.64 L1335.49 1440.58 L1315.58 1440.58 L1315.58 1436.64 Z\" fill=\"#000000\" fill-rule=\"nonzero\" fill-opacity=\"1\" /><path clip-path=\"url(#clip010)\" d=\"M1344.93 1434.7 L1349.82 1434.7 L1349.82 1440.58 L1344.93 1440.58 L1344.93 1434.7 Z\" fill=\"#000000\" fill-rule=\"nonzero\" fill-opacity=\"1\" /><path clip-path=\"url(#clip010)\" d=\"M1364.03 1436.64 L1380.35 1436.64 L1380.35 1440.58 L1358.4 1440.58 L1358.4 1436.64 Q1361.07 1433.89 1365.65 1429.26 Q1370.26 1424.61 1371.44 1423.26 Q1373.68 1420.74 1374.56 1419 Q1375.47 1417.25 1375.47 1415.56 Q1375.47 1412.8 1373.52 1411.06 Q1371.6 1409.33 1368.5 1409.33 Q1366.3 1409.33 1363.84 1410.09 Q1361.41 1410.86 1358.64 1412.41 L1358.64 1407.69 Q1361.46 1406.55 1363.91 1405.97 Q1366.37 1405.39 1368.4 1405.39 Q1373.78 1405.39 1376.97 1408.08 Q1380.16 1410.76 1380.16 1415.25 Q1380.16 1417.38 1379.35 1419.31 Q1378.57 1421.2 1376.46 1423.8 Q1375.88 1424.47 1372.78 1427.69 Q1369.68 1430.88 1364.03 1436.64 Z\" fill=\"#000000\" fill-rule=\"nonzero\" fill-opacity=\"1\" /><path clip-path=\"url(#clip010)\" d=\"M1400.16 1409.1 Q1396.55 1409.1 1394.72 1412.66 Q1392.92 1416.2 1392.92 1423.33 Q1392.92 1430.44 1394.72 1434 Q1396.55 1437.55 1400.16 1437.55 Q1403.8 1437.55 1405.6 1434 Q1407.43 1430.44 1407.43 1423.33 Q1407.43 1416.2 1405.6 1412.66 Q1403.8 1409.1 1400.16 1409.1 M1400.16 1405.39 Q1405.97 1405.39 1409.03 1410 Q1412.11 1414.58 1412.11 1423.33 Q1412.11 1432.06 1409.03 1436.67 Q1405.97 1441.25 1400.16 1441.25 Q1394.35 1441.25 1391.28 1436.67 Q1388.22 1432.06 1388.22 1423.33 Q1388.22 1414.58 1391.28 1410 Q1394.35 1405.39 1400.16 1405.39 Z\" fill=\"#000000\" fill-rule=\"nonzero\" fill-opacity=\"1\" /><polyline clip-path=\"url(#clip012)\" style=\"stroke:#000000; stroke-linecap:round; stroke-linejoin:round; stroke-width:2; stroke-opacity:0.1; fill:none\" points=\"1560.98,1332.19 841.381,1124.46 841.381,404.857 \"/>\n",
       "<polyline clip-path=\"url(#clip012)\" style=\"stroke:#000000; stroke-linecap:round; stroke-linejoin:round; stroke-width:2; stroke-opacity:0.1; fill:none\" points=\"1664.95,1242.15 945.352,1034.42 945.352,314.815 \"/>\n",
       "<polyline clip-path=\"url(#clip012)\" style=\"stroke:#000000; stroke-linecap:round; stroke-linejoin:round; stroke-width:2; stroke-opacity:0.1; fill:none\" points=\"1768.93,1152.11 1049.32,944.375 1049.32,224.773 \"/>\n",
       "<polyline clip-path=\"url(#clip012)\" style=\"stroke:#000000; stroke-linecap:round; stroke-linejoin:round; stroke-width:2; stroke-opacity:0.1; fill:none\" points=\"1872.9,1062.06 1153.29,854.333 1153.29,134.731 \"/>\n",
       "<polyline clip-path=\"url(#clip010)\" style=\"stroke:#000000; stroke-linecap:round; stroke-linejoin:round; stroke-width:4; stroke-opacity:1; fill:none\" points=\"1470.66,1410.41 1886.12,1050.61 \"/>\n",
       "<polyline clip-path=\"url(#clip010)\" style=\"stroke:#000000; stroke-linecap:round; stroke-linejoin:round; stroke-width:4; stroke-opacity:1; fill:none\" points=\"1560.98,1332.19 1552.35,1329.7 \"/>\n",
       "<polyline clip-path=\"url(#clip010)\" style=\"stroke:#000000; stroke-linecap:round; stroke-linejoin:round; stroke-width:4; stroke-opacity:1; fill:none\" points=\"1664.95,1242.15 1656.32,1239.66 \"/>\n",
       "<polyline clip-path=\"url(#clip010)\" style=\"stroke:#000000; stroke-linecap:round; stroke-linejoin:round; stroke-width:4; stroke-opacity:1; fill:none\" points=\"1768.93,1152.11 1760.29,1149.61 \"/>\n",
       "<polyline clip-path=\"url(#clip010)\" style=\"stroke:#000000; stroke-linecap:round; stroke-linejoin:round; stroke-width:4; stroke-opacity:1; fill:none\" points=\"1872.9,1062.06 1864.26,1059.57 \"/>\n",
       "<path clip-path=\"url(#clip010)\" d=\"M1583.43 1350.68 L1613.11 1350.68 L1613.11 1354.62 L1583.43 1354.62 L1583.43 1350.68 Z\" fill=\"#000000\" fill-rule=\"nonzero\" fill-opacity=\"1\" /><path clip-path=\"url(#clip010)\" d=\"M1633.2 1336.03 Q1629.59 1336.03 1627.76 1339.59 Q1625.96 1343.13 1625.96 1350.26 Q1625.96 1357.37 1627.76 1360.93 Q1629.59 1364.48 1633.2 1364.48 Q1636.84 1364.48 1638.64 1360.93 Q1640.47 1357.37 1640.47 1350.26 Q1640.47 1343.13 1638.64 1339.59 Q1636.84 1336.03 1633.2 1336.03 M1633.2 1332.32 Q1639.01 1332.32 1642.07 1336.93 Q1645.15 1341.51 1645.15 1350.26 Q1645.15 1358.99 1642.07 1363.6 Q1639.01 1368.18 1633.2 1368.18 Q1627.39 1368.18 1624.31 1363.6 Q1621.26 1358.99 1621.26 1350.26 Q1621.26 1341.51 1624.31 1336.93 Q1627.39 1332.32 1633.2 1332.32 Z\" fill=\"#000000\" fill-rule=\"nonzero\" fill-opacity=\"1\" /><path clip-path=\"url(#clip010)\" d=\"M1653.36 1361.63 L1658.25 1361.63 L1658.25 1367.51 L1653.36 1367.51 L1653.36 1361.63 Z\" fill=\"#000000\" fill-rule=\"nonzero\" fill-opacity=\"1\" /><path clip-path=\"url(#clip010)\" d=\"M1678.43 1336.03 Q1674.82 1336.03 1672.99 1339.59 Q1671.19 1343.13 1671.19 1350.26 Q1671.19 1357.37 1672.99 1360.93 Q1674.82 1364.48 1678.43 1364.48 Q1682.07 1364.48 1683.87 1360.93 Q1685.7 1357.37 1685.7 1350.26 Q1685.7 1343.13 1683.87 1339.59 Q1682.07 1336.03 1678.43 1336.03 M1678.43 1332.32 Q1684.24 1332.32 1687.3 1336.93 Q1690.38 1341.51 1690.38 1350.26 Q1690.38 1358.99 1687.3 1363.6 Q1684.24 1368.18 1678.43 1368.18 Q1672.62 1368.18 1669.54 1363.6 Q1666.49 1358.99 1666.49 1350.26 Q1666.49 1341.51 1669.54 1336.93 Q1672.62 1332.32 1678.43 1332.32 Z\" fill=\"#000000\" fill-rule=\"nonzero\" fill-opacity=\"1\" /><path clip-path=\"url(#clip010)\" d=\"M1698.64 1332.95 L1717 1332.95 L1717 1336.88 L1702.92 1336.88 L1702.92 1345.36 Q1703.94 1345.01 1704.96 1344.85 Q1705.98 1344.66 1707 1344.66 Q1712.78 1344.66 1716.16 1347.83 Q1719.54 1351 1719.54 1356.42 Q1719.54 1362 1716.07 1365.1 Q1712.6 1368.18 1706.28 1368.18 Q1704.1 1368.18 1701.84 1367.81 Q1699.59 1367.44 1697.18 1366.7 L1697.18 1362 Q1699.27 1363.13 1701.49 1363.69 Q1703.71 1364.24 1706.19 1364.24 Q1710.19 1364.24 1712.53 1362.14 Q1714.87 1360.03 1714.87 1356.42 Q1714.87 1352.81 1712.53 1350.7 Q1710.19 1348.6 1706.19 1348.6 Q1704.31 1348.6 1702.44 1349.01 Q1700.59 1349.43 1698.64 1350.31 L1698.64 1332.95 Z\" fill=\"#000000\" fill-rule=\"nonzero\" fill-opacity=\"1\" /><path clip-path=\"url(#clip010)\" d=\"M1699.35 1245.99 Q1695.74 1245.99 1693.91 1249.55 Q1692.1 1253.09 1692.1 1260.22 Q1692.1 1267.33 1693.91 1270.89 Q1695.74 1274.43 1699.35 1274.43 Q1702.98 1274.43 1704.79 1270.89 Q1706.62 1267.33 1706.62 1260.22 Q1706.62 1253.09 1704.79 1249.55 Q1702.98 1245.99 1699.35 1245.99 M1699.35 1242.28 Q1705.16 1242.28 1708.22 1246.89 Q1711.29 1251.47 1711.29 1260.22 Q1711.29 1268.95 1708.22 1273.55 Q1705.16 1278.14 1699.35 1278.14 Q1693.54 1278.14 1690.46 1273.55 Q1687.41 1268.95 1687.41 1260.22 Q1687.41 1251.47 1690.46 1246.89 Q1693.54 1242.28 1699.35 1242.28 Z\" fill=\"#000000\" fill-rule=\"nonzero\" fill-opacity=\"1\" /><path clip-path=\"url(#clip010)\" d=\"M1719.51 1271.59 L1724.4 1271.59 L1724.4 1277.47 L1719.51 1277.47 L1719.51 1271.59 Z\" fill=\"#000000\" fill-rule=\"nonzero\" fill-opacity=\"1\" /><path clip-path=\"url(#clip010)\" d=\"M1744.58 1245.99 Q1740.97 1245.99 1739.14 1249.55 Q1737.34 1253.09 1737.34 1260.22 Q1737.34 1267.33 1739.14 1270.89 Q1740.97 1274.43 1744.58 1274.43 Q1748.21 1274.43 1750.02 1270.89 Q1751.85 1267.33 1751.85 1260.22 Q1751.85 1253.09 1750.02 1249.55 Q1748.21 1245.99 1744.58 1245.99 M1744.58 1242.28 Q1750.39 1242.28 1753.45 1246.89 Q1756.53 1251.47 1756.53 1260.22 Q1756.53 1268.95 1753.45 1273.55 Q1750.39 1278.14 1744.58 1278.14 Q1738.77 1278.14 1735.69 1273.55 Q1732.64 1268.95 1732.64 1260.22 Q1732.64 1251.47 1735.69 1246.89 Q1738.77 1242.28 1744.58 1242.28 Z\" fill=\"#000000\" fill-rule=\"nonzero\" fill-opacity=\"1\" /><path clip-path=\"url(#clip010)\" d=\"M1774.74 1245.99 Q1771.13 1245.99 1769.3 1249.55 Q1767.5 1253.09 1767.5 1260.22 Q1767.5 1267.33 1769.3 1270.89 Q1771.13 1274.43 1774.74 1274.43 Q1778.38 1274.43 1780.18 1270.89 Q1782.01 1267.33 1782.01 1260.22 Q1782.01 1253.09 1780.18 1249.55 Q1778.38 1245.99 1774.74 1245.99 M1774.74 1242.28 Q1780.55 1242.28 1783.61 1246.89 Q1786.69 1251.47 1786.69 1260.22 Q1786.69 1268.95 1783.61 1273.55 Q1780.55 1278.14 1774.74 1278.14 Q1768.93 1278.14 1765.85 1273.55 Q1762.8 1268.95 1762.8 1260.22 Q1762.8 1251.47 1765.85 1246.89 Q1768.93 1242.28 1774.74 1242.28 Z\" fill=\"#000000\" fill-rule=\"nonzero\" fill-opacity=\"1\" /><path clip-path=\"url(#clip010)\" d=\"M1803.32 1155.94 Q1799.71 1155.94 1797.88 1159.51 Q1796.08 1163.05 1796.08 1170.18 Q1796.08 1177.29 1797.88 1180.85 Q1799.71 1184.39 1803.32 1184.39 Q1806.96 1184.39 1808.76 1180.85 Q1810.59 1177.29 1810.59 1170.18 Q1810.59 1163.05 1808.76 1159.51 Q1806.96 1155.94 1803.32 1155.94 M1803.32 1152.24 Q1809.13 1152.24 1812.19 1156.85 Q1815.27 1161.43 1815.27 1170.18 Q1815.27 1178.91 1812.19 1183.51 Q1809.13 1188.1 1803.32 1188.1 Q1797.51 1188.1 1794.43 1183.51 Q1791.38 1178.91 1791.38 1170.18 Q1791.38 1161.43 1794.43 1156.85 Q1797.51 1152.24 1803.32 1152.24 Z\" fill=\"#000000\" fill-rule=\"nonzero\" fill-opacity=\"1\" /><path clip-path=\"url(#clip010)\" d=\"M1823.48 1181.55 L1828.37 1181.55 L1828.37 1187.42 L1823.48 1187.42 L1823.48 1181.55 Z\" fill=\"#000000\" fill-rule=\"nonzero\" fill-opacity=\"1\" /><path clip-path=\"url(#clip010)\" d=\"M1848.55 1155.94 Q1844.94 1155.94 1843.11 1159.51 Q1841.31 1163.05 1841.31 1170.18 Q1841.31 1177.29 1843.11 1180.85 Q1844.94 1184.39 1848.55 1184.39 Q1852.19 1184.39 1853.99 1180.85 Q1855.82 1177.29 1855.82 1170.18 Q1855.82 1163.05 1853.99 1159.51 Q1852.19 1155.94 1848.55 1155.94 M1848.55 1152.24 Q1854.36 1152.24 1857.42 1156.85 Q1860.5 1161.43 1860.5 1170.18 Q1860.5 1178.91 1857.42 1183.51 Q1854.36 1188.1 1848.55 1188.1 Q1842.74 1188.1 1839.66 1183.51 Q1836.61 1178.91 1836.61 1170.18 Q1836.61 1161.43 1839.66 1156.85 Q1842.74 1152.24 1848.55 1152.24 Z\" fill=\"#000000\" fill-rule=\"nonzero\" fill-opacity=\"1\" /><path clip-path=\"url(#clip010)\" d=\"M1868.76 1152.86 L1887.12 1152.86 L1887.12 1156.8 L1873.04 1156.8 L1873.04 1165.27 Q1874.06 1164.93 1875.08 1164.76 Q1876.1 1164.58 1877.12 1164.58 Q1882.9 1164.58 1886.28 1167.75 Q1889.66 1170.92 1889.66 1176.34 Q1889.66 1181.92 1886.19 1185.02 Q1882.72 1188.1 1876.4 1188.1 Q1874.22 1188.1 1871.95 1187.73 Q1869.71 1187.36 1867.3 1186.61 L1867.3 1181.92 Q1869.39 1183.05 1871.61 1183.61 Q1873.83 1184.16 1876.31 1184.16 Q1880.31 1184.16 1882.65 1182.05 Q1884.99 1179.95 1884.99 1176.34 Q1884.99 1172.73 1882.65 1170.62 Q1880.31 1168.51 1876.31 1168.51 Q1874.43 1168.51 1872.56 1168.93 Q1870.7 1169.35 1868.76 1170.23 L1868.76 1152.86 Z\" fill=\"#000000\" fill-rule=\"nonzero\" fill-opacity=\"1\" /><path clip-path=\"url(#clip010)\" d=\"M1907.29 1065.9 Q1903.68 1065.9 1901.85 1069.47 Q1900.05 1073.01 1900.05 1080.14 Q1900.05 1087.24 1901.85 1090.81 Q1903.68 1094.35 1907.29 1094.35 Q1910.93 1094.35 1912.73 1090.81 Q1914.56 1087.24 1914.56 1080.14 Q1914.56 1073.01 1912.73 1069.47 Q1910.93 1065.9 1907.29 1065.9 M1907.29 1062.2 Q1913.1 1062.2 1916.16 1066.8 Q1919.24 1071.39 1919.24 1080.14 Q1919.24 1088.86 1916.16 1093.47 Q1913.1 1098.05 1907.29 1098.05 Q1901.48 1098.05 1898.4 1093.47 Q1895.35 1088.86 1895.35 1080.14 Q1895.35 1071.39 1898.4 1066.8 Q1901.48 1062.2 1907.29 1062.2 Z\" fill=\"#000000\" fill-rule=\"nonzero\" fill-opacity=\"1\" /><path clip-path=\"url(#clip010)\" d=\"M1927.45 1091.5 L1932.34 1091.5 L1932.34 1097.38 L1927.45 1097.38 L1927.45 1091.5 Z\" fill=\"#000000\" fill-rule=\"nonzero\" fill-opacity=\"1\" /><path clip-path=\"url(#clip010)\" d=\"M1943.33 1093.45 L1950.97 1093.45 L1950.97 1067.08 L1942.66 1068.75 L1942.66 1064.49 L1950.93 1062.82 L1955.6 1062.82 L1955.6 1093.45 L1963.24 1093.45 L1963.24 1097.38 L1943.33 1097.38 L1943.33 1093.45 Z\" fill=\"#000000\" fill-rule=\"nonzero\" fill-opacity=\"1\" /><path clip-path=\"url(#clip010)\" d=\"M1982.69 1065.9 Q1979.07 1065.9 1977.25 1069.47 Q1975.44 1073.01 1975.44 1080.14 Q1975.44 1087.24 1977.25 1090.81 Q1979.07 1094.35 1982.69 1094.35 Q1986.32 1094.35 1988.13 1090.81 Q1989.95 1087.24 1989.95 1080.14 Q1989.95 1073.01 1988.13 1069.47 Q1986.32 1065.9 1982.69 1065.9 M1982.69 1062.2 Q1988.5 1062.2 1991.55 1066.8 Q1994.63 1071.39 1994.63 1080.14 Q1994.63 1088.86 1991.55 1093.47 Q1988.5 1098.05 1982.69 1098.05 Q1976.88 1098.05 1973.8 1093.47 Q1970.74 1088.86 1970.74 1080.14 Q1970.74 1071.39 1973.8 1066.8 Q1976.88 1062.2 1982.69 1062.2 Z\" fill=\"#000000\" fill-rule=\"nonzero\" fill-opacity=\"1\" /><polyline clip-path=\"url(#clip012)\" style=\"stroke:#000000; stroke-linecap:round; stroke-linejoin:round; stroke-width:2; stroke-opacity:0.1; fill:none\" points=\"751.057,1148.65 1166.52,788.849 1886.12,996.58 \"/>\n",
       "<polyline clip-path=\"url(#clip012)\" style=\"stroke:#000000; stroke-linecap:round; stroke-linejoin:round; stroke-width:2; stroke-opacity:0.1; fill:none\" points=\"751.057,1028.63 1166.52,668.831 1886.12,876.562 \"/>\n",
       "<polyline clip-path=\"url(#clip012)\" style=\"stroke:#000000; stroke-linecap:round; stroke-linejoin:round; stroke-width:2; stroke-opacity:0.1; fill:none\" points=\"751.057,908.613 1166.52,548.812 1886.12,756.543 \"/>\n",
       "<polyline clip-path=\"url(#clip012)\" style=\"stroke:#000000; stroke-linecap:round; stroke-linejoin:round; stroke-width:2; stroke-opacity:0.1; fill:none\" points=\"751.057,788.594 1166.52,428.794 1886.12,636.525 \"/>\n",
       "<polyline clip-path=\"url(#clip012)\" style=\"stroke:#000000; stroke-linecap:round; stroke-linejoin:round; stroke-width:2; stroke-opacity:0.1; fill:none\" points=\"751.057,668.576 1166.52,308.775 1886.12,516.506 \"/>\n",
       "<polyline clip-path=\"url(#clip012)\" style=\"stroke:#000000; stroke-linecap:round; stroke-linejoin:round; stroke-width:2; stroke-opacity:0.1; fill:none\" points=\"751.057,548.557 1166.52,188.756 1886.12,396.488 \"/>\n",
       "<polyline clip-path=\"url(#clip010)\" style=\"stroke:#000000; stroke-linecap:round; stroke-linejoin:round; stroke-width:4; stroke-opacity:1; fill:none\" points=\"751.057,1202.68 751.057,483.08 \"/>\n",
       "<polyline clip-path=\"url(#clip010)\" style=\"stroke:#000000; stroke-linecap:round; stroke-linejoin:round; stroke-width:4; stroke-opacity:1; fill:none\" points=\"751.057,1148.65 756.042,1144.33 \"/>\n",
       "<polyline clip-path=\"url(#clip010)\" style=\"stroke:#000000; stroke-linecap:round; stroke-linejoin:round; stroke-width:4; stroke-opacity:1; fill:none\" points=\"751.057,1028.63 756.042,1024.31 \"/>\n",
       "<polyline clip-path=\"url(#clip010)\" style=\"stroke:#000000; stroke-linecap:round; stroke-linejoin:round; stroke-width:4; stroke-opacity:1; fill:none\" points=\"751.057,908.613 756.042,904.295 \"/>\n",
       "<polyline clip-path=\"url(#clip010)\" style=\"stroke:#000000; stroke-linecap:round; stroke-linejoin:round; stroke-width:4; stroke-opacity:1; fill:none\" points=\"751.057,788.594 756.042,784.277 \"/>\n",
       "<polyline clip-path=\"url(#clip010)\" style=\"stroke:#000000; stroke-linecap:round; stroke-linejoin:round; stroke-width:4; stroke-opacity:1; fill:none\" points=\"751.057,668.576 756.042,664.258 \"/>\n",
       "<polyline clip-path=\"url(#clip010)\" style=\"stroke:#000000; stroke-linecap:round; stroke-linejoin:round; stroke-width:4; stroke-opacity:1; fill:none\" points=\"751.057,548.557 756.042,544.24 \"/>\n",
       "<path clip-path=\"url(#clip010)\" d=\"M525.823 1149.1 L555.498 1149.1 L555.498 1153.04 L525.823 1153.04 L525.823 1149.1 Z\" fill=\"#000000\" fill-rule=\"nonzero\" fill-opacity=\"1\" /><path clip-path=\"url(#clip010)\" d=\"M575.591 1134.45 Q571.98 1134.45 570.151 1138.01 Q568.345 1141.56 568.345 1148.68 Q568.345 1155.79 570.151 1159.36 Q571.98 1162.9 575.591 1162.9 Q579.225 1162.9 581.031 1159.36 Q582.859 1155.79 582.859 1148.68 Q582.859 1141.56 581.031 1138.01 Q579.225 1134.45 575.591 1134.45 M575.591 1130.75 Q581.401 1130.75 584.456 1135.35 Q587.535 1139.93 587.535 1148.68 Q587.535 1157.41 584.456 1162.02 Q581.401 1166.6 575.591 1166.6 Q569.781 1166.6 566.702 1162.02 Q563.646 1157.41 563.646 1148.68 Q563.646 1139.93 566.702 1135.35 Q569.781 1130.75 575.591 1130.75 Z\" fill=\"#000000\" fill-rule=\"nonzero\" fill-opacity=\"1\" /><path clip-path=\"url(#clip010)\" d=\"M595.753 1160.05 L600.637 1160.05 L600.637 1165.93 L595.753 1165.93 L595.753 1160.05 Z\" fill=\"#000000\" fill-rule=\"nonzero\" fill-opacity=\"1\" /><path clip-path=\"url(#clip010)\" d=\"M620.822 1134.45 Q617.211 1134.45 615.382 1138.01 Q613.577 1141.56 613.577 1148.68 Q613.577 1155.79 615.382 1159.36 Q617.211 1162.9 620.822 1162.9 Q624.456 1162.9 626.262 1159.36 Q628.09 1155.79 628.09 1148.68 Q628.09 1141.56 626.262 1138.01 Q624.456 1134.45 620.822 1134.45 M620.822 1130.75 Q626.632 1130.75 629.688 1135.35 Q632.766 1139.93 632.766 1148.68 Q632.766 1157.41 629.688 1162.02 Q626.632 1166.6 620.822 1166.6 Q615.012 1166.6 611.933 1162.02 Q608.878 1157.41 608.878 1148.68 Q608.878 1139.93 611.933 1135.35 Q615.012 1130.75 620.822 1130.75 Z\" fill=\"#000000\" fill-rule=\"nonzero\" fill-opacity=\"1\" /><path clip-path=\"url(#clip010)\" d=\"M650.984 1134.45 Q647.373 1134.45 645.544 1138.01 Q643.739 1141.56 643.739 1148.68 Q643.739 1155.79 645.544 1159.36 Q647.373 1162.9 650.984 1162.9 Q654.618 1162.9 656.424 1159.36 Q658.252 1155.79 658.252 1148.68 Q658.252 1141.56 656.424 1138.01 Q654.618 1134.45 650.984 1134.45 M650.984 1130.75 Q656.794 1130.75 659.85 1135.35 Q662.928 1139.93 662.928 1148.68 Q662.928 1157.41 659.85 1162.02 Q656.794 1166.6 650.984 1166.6 Q645.174 1166.6 642.095 1162.02 Q639.04 1157.41 639.04 1148.68 Q639.04 1139.93 642.095 1135.35 Q645.174 1130.75 650.984 1130.75 Z\" fill=\"#000000\" fill-rule=\"nonzero\" fill-opacity=\"1\" /><path clip-path=\"url(#clip010)\" d=\"M669.965 1131.37 L692.187 1131.37 L692.187 1133.36 L679.641 1165.93 L674.757 1165.93 L686.562 1135.31 L669.965 1135.31 L669.965 1131.37 Z\" fill=\"#000000\" fill-rule=\"nonzero\" fill-opacity=\"1\" /><path clip-path=\"url(#clip010)\" d=\"M701.354 1131.37 L719.71 1131.37 L719.71 1135.31 L705.636 1135.31 L705.636 1143.78 Q706.655 1143.43 707.673 1143.27 Q708.692 1143.08 709.71 1143.08 Q715.497 1143.08 718.877 1146.25 Q722.257 1149.43 722.257 1154.84 Q722.257 1160.42 718.784 1163.52 Q715.312 1166.6 708.993 1166.6 Q706.817 1166.6 704.548 1166.23 Q702.303 1165.86 699.896 1165.12 L699.896 1160.42 Q701.979 1161.56 704.201 1162.11 Q706.423 1162.67 708.9 1162.67 Q712.905 1162.67 715.243 1160.56 Q717.581 1158.45 717.581 1154.84 Q717.581 1151.23 715.243 1149.12 Q712.905 1147.02 708.9 1147.02 Q707.025 1147.02 705.15 1147.43 Q703.298 1147.85 701.354 1148.73 L701.354 1131.37 Z\" fill=\"#000000\" fill-rule=\"nonzero\" fill-opacity=\"1\" /><path clip-path=\"url(#clip010)\" d=\"M524.827 1029.08 L554.503 1029.08 L554.503 1033.02 L524.827 1033.02 L524.827 1029.08 Z\" fill=\"#000000\" fill-rule=\"nonzero\" fill-opacity=\"1\" /><path clip-path=\"url(#clip010)\" d=\"M574.595 1014.43 Q570.984 1014.43 569.156 1017.99 Q567.35 1021.54 567.35 1028.67 Q567.35 1035.77 569.156 1039.34 Q570.984 1042.88 574.595 1042.88 Q578.23 1042.88 580.035 1039.34 Q581.864 1035.77 581.864 1028.67 Q581.864 1021.54 580.035 1017.99 Q578.23 1014.43 574.595 1014.43 M574.595 1010.73 Q580.406 1010.73 583.461 1015.33 Q586.54 1019.92 586.54 1028.67 Q586.54 1037.39 583.461 1042 Q580.406 1046.58 574.595 1046.58 Q568.785 1046.58 565.707 1042 Q562.651 1037.39 562.651 1028.67 Q562.651 1019.92 565.707 1015.33 Q568.785 1010.73 574.595 1010.73 Z\" fill=\"#000000\" fill-rule=\"nonzero\" fill-opacity=\"1\" /><path clip-path=\"url(#clip010)\" d=\"M594.757 1040.03 L599.642 1040.03 L599.642 1045.91 L594.757 1045.91 L594.757 1040.03 Z\" fill=\"#000000\" fill-rule=\"nonzero\" fill-opacity=\"1\" /><path clip-path=\"url(#clip010)\" d=\"M619.827 1014.43 Q616.216 1014.43 614.387 1017.99 Q612.581 1021.54 612.581 1028.67 Q612.581 1035.77 614.387 1039.34 Q616.216 1042.88 619.827 1042.88 Q623.461 1042.88 625.266 1039.34 Q627.095 1035.77 627.095 1028.67 Q627.095 1021.54 625.266 1017.99 Q623.461 1014.43 619.827 1014.43 M619.827 1010.73 Q625.637 1010.73 628.692 1015.33 Q631.771 1019.92 631.771 1028.67 Q631.771 1037.39 628.692 1042 Q625.637 1046.58 619.827 1046.58 Q614.016 1046.58 610.938 1042 Q607.882 1037.39 607.882 1028.67 Q607.882 1019.92 610.938 1015.33 Q614.016 1010.73 619.827 1010.73 Z\" fill=\"#000000\" fill-rule=\"nonzero\" fill-opacity=\"1\" /><path clip-path=\"url(#clip010)\" d=\"M649.989 1014.43 Q646.377 1014.43 644.549 1017.99 Q642.743 1021.54 642.743 1028.67 Q642.743 1035.77 644.549 1039.34 Q646.377 1042.88 649.989 1042.88 Q653.623 1042.88 655.428 1039.34 Q657.257 1035.77 657.257 1028.67 Q657.257 1021.54 655.428 1017.99 Q653.623 1014.43 649.989 1014.43 M649.989 1010.73 Q655.799 1010.73 658.854 1015.33 Q661.933 1019.92 661.933 1028.67 Q661.933 1037.39 658.854 1042 Q655.799 1046.58 649.989 1046.58 Q644.178 1046.58 641.1 1042 Q638.044 1037.39 638.044 1028.67 Q638.044 1019.92 641.1 1015.33 Q644.178 1010.73 649.989 1010.73 Z\" fill=\"#000000\" fill-rule=\"nonzero\" fill-opacity=\"1\" /><path clip-path=\"url(#clip010)\" d=\"M670.197 1011.35 L688.553 1011.35 L688.553 1015.29 L674.479 1015.29 L674.479 1023.76 Q675.498 1023.41 676.516 1023.25 Q677.535 1023.06 678.553 1023.06 Q684.34 1023.06 687.72 1026.24 Q691.099 1029.41 691.099 1034.82 Q691.099 1040.4 687.627 1043.5 Q684.155 1046.58 677.836 1046.58 Q675.66 1046.58 673.391 1046.21 Q671.146 1045.84 668.738 1045.1 L668.738 1040.4 Q670.822 1041.54 673.044 1042.09 Q675.266 1042.65 677.743 1042.65 Q681.748 1042.65 684.086 1040.54 Q686.424 1038.43 686.424 1034.82 Q686.424 1031.21 684.086 1029.11 Q681.748 1027 677.743 1027 Q675.868 1027 673.993 1027.42 Q672.141 1027.83 670.197 1028.71 L670.197 1011.35 Z\" fill=\"#000000\" fill-rule=\"nonzero\" fill-opacity=\"1\" /><path clip-path=\"url(#clip010)\" d=\"M710.312 1014.43 Q706.701 1014.43 704.872 1017.99 Q703.067 1021.54 703.067 1028.67 Q703.067 1035.77 704.872 1039.34 Q706.701 1042.88 710.312 1042.88 Q713.947 1042.88 715.752 1039.34 Q717.581 1035.77 717.581 1028.67 Q717.581 1021.54 715.752 1017.99 Q713.947 1014.43 710.312 1014.43 M710.312 1010.73 Q716.122 1010.73 719.178 1015.33 Q722.257 1019.92 722.257 1028.67 Q722.257 1037.39 719.178 1042 Q716.122 1046.58 710.312 1046.58 Q704.502 1046.58 701.423 1042 Q698.368 1037.39 698.368 1028.67 Q698.368 1019.92 701.423 1015.33 Q704.502 1010.73 710.312 1010.73 Z\" fill=\"#000000\" fill-rule=\"nonzero\" fill-opacity=\"1\" /><path clip-path=\"url(#clip010)\" d=\"M525.823 909.064 L555.498 909.064 L555.498 913 L525.823 913 L525.823 909.064 Z\" fill=\"#000000\" fill-rule=\"nonzero\" fill-opacity=\"1\" /><path clip-path=\"url(#clip010)\" d=\"M575.591 894.412 Q571.98 894.412 570.151 897.976 Q568.345 901.518 568.345 908.648 Q568.345 915.754 570.151 919.319 Q571.98 922.861 575.591 922.861 Q579.225 922.861 581.031 919.319 Q582.859 915.754 582.859 908.648 Q582.859 901.518 581.031 897.976 Q579.225 894.412 575.591 894.412 M575.591 890.708 Q581.401 890.708 584.456 895.314 Q587.535 899.898 587.535 908.648 Q587.535 917.375 584.456 921.981 Q581.401 926.564 575.591 926.564 Q569.781 926.564 566.702 921.981 Q563.646 917.375 563.646 908.648 Q563.646 899.898 566.702 895.314 Q569.781 890.708 575.591 890.708 Z\" fill=\"#000000\" fill-rule=\"nonzero\" fill-opacity=\"1\" /><path clip-path=\"url(#clip010)\" d=\"M595.753 920.013 L600.637 920.013 L600.637 925.893 L595.753 925.893 L595.753 920.013 Z\" fill=\"#000000\" fill-rule=\"nonzero\" fill-opacity=\"1\" /><path clip-path=\"url(#clip010)\" d=\"M620.822 894.412 Q617.211 894.412 615.382 897.976 Q613.577 901.518 613.577 908.648 Q613.577 915.754 615.382 919.319 Q617.211 922.861 620.822 922.861 Q624.456 922.861 626.262 919.319 Q628.09 915.754 628.09 908.648 Q628.09 901.518 626.262 897.976 Q624.456 894.412 620.822 894.412 M620.822 890.708 Q626.632 890.708 629.688 895.314 Q632.766 899.898 632.766 908.648 Q632.766 917.375 629.688 921.981 Q626.632 926.564 620.822 926.564 Q615.012 926.564 611.933 921.981 Q608.878 917.375 608.878 908.648 Q608.878 899.898 611.933 895.314 Q615.012 890.708 620.822 890.708 Z\" fill=\"#000000\" fill-rule=\"nonzero\" fill-opacity=\"1\" /><path clip-path=\"url(#clip010)\" d=\"M650.984 894.412 Q647.373 894.412 645.544 897.976 Q643.739 901.518 643.739 908.648 Q643.739 915.754 645.544 919.319 Q647.373 922.861 650.984 922.861 Q654.618 922.861 656.424 919.319 Q658.252 915.754 658.252 908.648 Q658.252 901.518 656.424 897.976 Q654.618 894.412 650.984 894.412 M650.984 890.708 Q656.794 890.708 659.85 895.314 Q662.928 899.898 662.928 908.648 Q662.928 917.375 659.85 921.981 Q656.794 926.564 650.984 926.564 Q645.174 926.564 642.095 921.981 Q639.04 917.375 639.04 908.648 Q639.04 899.898 642.095 895.314 Q645.174 890.708 650.984 890.708 Z\" fill=\"#000000\" fill-rule=\"nonzero\" fill-opacity=\"1\" /><path clip-path=\"url(#clip010)\" d=\"M675.174 921.958 L691.493 921.958 L691.493 925.893 L669.549 925.893 L669.549 921.958 Q672.211 919.203 676.794 914.574 Q681.4 909.921 682.581 908.578 Q684.826 906.055 685.706 904.319 Q686.609 902.56 686.609 900.87 Q686.609 898.115 684.664 896.379 Q682.743 894.643 679.641 894.643 Q677.442 894.643 674.988 895.407 Q672.558 896.171 669.78 897.722 L669.78 893 Q672.604 891.865 675.058 891.287 Q677.512 890.708 679.549 890.708 Q684.919 890.708 688.113 893.393 Q691.308 896.078 691.308 900.569 Q691.308 902.699 690.498 904.62 Q689.711 906.518 687.604 909.111 Q687.025 909.782 683.924 913 Q680.822 916.194 675.174 921.958 Z\" fill=\"#000000\" fill-rule=\"nonzero\" fill-opacity=\"1\" /><path clip-path=\"url(#clip010)\" d=\"M701.354 891.333 L719.71 891.333 L719.71 895.268 L705.636 895.268 L705.636 903.74 Q706.655 903.393 707.673 903.231 Q708.692 903.046 709.71 903.046 Q715.497 903.046 718.877 906.217 Q722.257 909.388 722.257 914.805 Q722.257 920.384 718.784 923.486 Q715.312 926.564 708.993 926.564 Q706.817 926.564 704.548 926.194 Q702.303 925.824 699.896 925.083 L699.896 920.384 Q701.979 921.518 704.201 922.074 Q706.423 922.629 708.9 922.629 Q712.905 922.629 715.243 920.523 Q717.581 918.416 717.581 914.805 Q717.581 911.194 715.243 909.088 Q712.905 906.981 708.9 906.981 Q707.025 906.981 705.15 907.398 Q703.298 907.814 701.354 908.694 L701.354 891.333 Z\" fill=\"#000000\" fill-rule=\"nonzero\" fill-opacity=\"1\" /><path clip-path=\"url(#clip010)\" d=\"M574.595 774.393 Q570.984 774.393 569.156 777.958 Q567.35 781.5 567.35 788.629 Q567.35 795.736 569.156 799.3 Q570.984 802.842 574.595 802.842 Q578.23 802.842 580.035 799.3 Q581.864 795.736 581.864 788.629 Q581.864 781.5 580.035 777.958 Q578.23 774.393 574.595 774.393 M574.595 770.689 Q580.406 770.689 583.461 775.296 Q586.54 779.879 586.54 788.629 Q586.54 797.356 583.461 801.962 Q580.406 806.546 574.595 806.546 Q568.785 806.546 565.707 801.962 Q562.651 797.356 562.651 788.629 Q562.651 779.879 565.707 775.296 Q568.785 770.689 574.595 770.689 Z\" fill=\"#000000\" fill-rule=\"nonzero\" fill-opacity=\"1\" /><path clip-path=\"url(#clip010)\" d=\"M594.757 799.995 L599.642 799.995 L599.642 805.874 L594.757 805.874 L594.757 799.995 Z\" fill=\"#000000\" fill-rule=\"nonzero\" fill-opacity=\"1\" /><path clip-path=\"url(#clip010)\" d=\"M619.827 774.393 Q616.216 774.393 614.387 777.958 Q612.581 781.5 612.581 788.629 Q612.581 795.736 614.387 799.3 Q616.216 802.842 619.827 802.842 Q623.461 802.842 625.266 799.3 Q627.095 795.736 627.095 788.629 Q627.095 781.5 625.266 777.958 Q623.461 774.393 619.827 774.393 M619.827 770.689 Q625.637 770.689 628.692 775.296 Q631.771 779.879 631.771 788.629 Q631.771 797.356 628.692 801.962 Q625.637 806.546 619.827 806.546 Q614.016 806.546 610.938 801.962 Q607.882 797.356 607.882 788.629 Q607.882 779.879 610.938 775.296 Q614.016 770.689 619.827 770.689 Z\" fill=\"#000000\" fill-rule=\"nonzero\" fill-opacity=\"1\" /><path clip-path=\"url(#clip010)\" d=\"M649.989 774.393 Q646.377 774.393 644.549 777.958 Q642.743 781.5 642.743 788.629 Q642.743 795.736 644.549 799.3 Q646.377 802.842 649.989 802.842 Q653.623 802.842 655.428 799.3 Q657.257 795.736 657.257 788.629 Q657.257 781.5 655.428 777.958 Q653.623 774.393 649.989 774.393 M649.989 770.689 Q655.799 770.689 658.854 775.296 Q661.933 779.879 661.933 788.629 Q661.933 797.356 658.854 801.962 Q655.799 806.546 649.989 806.546 Q644.178 806.546 641.1 801.962 Q638.044 797.356 638.044 788.629 Q638.044 779.879 641.1 775.296 Q644.178 770.689 649.989 770.689 Z\" fill=\"#000000\" fill-rule=\"nonzero\" fill-opacity=\"1\" /><path clip-path=\"url(#clip010)\" d=\"M680.15 774.393 Q676.539 774.393 674.711 777.958 Q672.905 781.5 672.905 788.629 Q672.905 795.736 674.711 799.3 Q676.539 802.842 680.15 802.842 Q683.785 802.842 685.59 799.3 Q687.419 795.736 687.419 788.629 Q687.419 781.5 685.59 777.958 Q683.785 774.393 680.15 774.393 M680.15 770.689 Q685.961 770.689 689.016 775.296 Q692.095 779.879 692.095 788.629 Q692.095 797.356 689.016 801.962 Q685.961 806.546 680.15 806.546 Q674.34 806.546 671.262 801.962 Q668.206 797.356 668.206 788.629 Q668.206 779.879 671.262 775.296 Q674.34 770.689 680.15 770.689 Z\" fill=\"#000000\" fill-rule=\"nonzero\" fill-opacity=\"1\" /><path clip-path=\"url(#clip010)\" d=\"M710.312 774.393 Q706.701 774.393 704.872 777.958 Q703.067 781.5 703.067 788.629 Q703.067 795.736 704.872 799.3 Q706.701 802.842 710.312 802.842 Q713.947 802.842 715.752 799.3 Q717.581 795.736 717.581 788.629 Q717.581 781.5 715.752 777.958 Q713.947 774.393 710.312 774.393 M710.312 770.689 Q716.122 770.689 719.178 775.296 Q722.257 779.879 722.257 788.629 Q722.257 797.356 719.178 801.962 Q716.122 806.546 710.312 806.546 Q704.502 806.546 701.423 801.962 Q698.368 797.356 698.368 788.629 Q698.368 779.879 701.423 775.296 Q704.502 770.689 710.312 770.689 Z\" fill=\"#000000\" fill-rule=\"nonzero\" fill-opacity=\"1\" /><path clip-path=\"url(#clip010)\" d=\"M575.591 654.375 Q571.98 654.375 570.151 657.939 Q568.345 661.481 568.345 668.611 Q568.345 675.717 570.151 679.282 Q571.98 682.824 575.591 682.824 Q579.225 682.824 581.031 679.282 Q582.859 675.717 582.859 668.611 Q582.859 661.481 581.031 657.939 Q579.225 654.375 575.591 654.375 M575.591 650.671 Q581.401 650.671 584.456 655.277 Q587.535 659.861 587.535 668.611 Q587.535 677.337 584.456 681.944 Q581.401 686.527 575.591 686.527 Q569.781 686.527 566.702 681.944 Q563.646 677.337 563.646 668.611 Q563.646 659.861 566.702 655.277 Q569.781 650.671 575.591 650.671 Z\" fill=\"#000000\" fill-rule=\"nonzero\" fill-opacity=\"1\" /><path clip-path=\"url(#clip010)\" d=\"M595.753 679.976 L600.637 679.976 L600.637 685.856 L595.753 685.856 L595.753 679.976 Z\" fill=\"#000000\" fill-rule=\"nonzero\" fill-opacity=\"1\" /><path clip-path=\"url(#clip010)\" d=\"M620.822 654.375 Q617.211 654.375 615.382 657.939 Q613.577 661.481 613.577 668.611 Q613.577 675.717 615.382 679.282 Q617.211 682.824 620.822 682.824 Q624.456 682.824 626.262 679.282 Q628.09 675.717 628.09 668.611 Q628.09 661.481 626.262 657.939 Q624.456 654.375 620.822 654.375 M620.822 650.671 Q626.632 650.671 629.688 655.277 Q632.766 659.861 632.766 668.611 Q632.766 677.337 629.688 681.944 Q626.632 686.527 620.822 686.527 Q615.012 686.527 611.933 681.944 Q608.878 677.337 608.878 668.611 Q608.878 659.861 611.933 655.277 Q615.012 650.671 620.822 650.671 Z\" fill=\"#000000\" fill-rule=\"nonzero\" fill-opacity=\"1\" /><path clip-path=\"url(#clip010)\" d=\"M650.984 654.375 Q647.373 654.375 645.544 657.939 Q643.739 661.481 643.739 668.611 Q643.739 675.717 645.544 679.282 Q647.373 682.824 650.984 682.824 Q654.618 682.824 656.424 679.282 Q658.252 675.717 658.252 668.611 Q658.252 661.481 656.424 657.939 Q654.618 654.375 650.984 654.375 M650.984 650.671 Q656.794 650.671 659.85 655.277 Q662.928 659.861 662.928 668.611 Q662.928 677.337 659.85 681.944 Q656.794 686.527 650.984 686.527 Q645.174 686.527 642.095 681.944 Q639.04 677.337 639.04 668.611 Q639.04 659.861 642.095 655.277 Q645.174 650.671 650.984 650.671 Z\" fill=\"#000000\" fill-rule=\"nonzero\" fill-opacity=\"1\" /><path clip-path=\"url(#clip010)\" d=\"M675.174 681.921 L691.493 681.921 L691.493 685.856 L669.549 685.856 L669.549 681.921 Q672.211 679.166 676.794 674.537 Q681.4 669.884 682.581 668.541 Q684.826 666.018 685.706 664.282 Q686.609 662.523 686.609 660.833 Q686.609 658.078 684.664 656.342 Q682.743 654.606 679.641 654.606 Q677.442 654.606 674.988 655.37 Q672.558 656.134 669.78 657.685 L669.78 652.963 Q672.604 651.828 675.058 651.25 Q677.512 650.671 679.549 650.671 Q684.919 650.671 688.113 653.356 Q691.308 656.041 691.308 660.532 Q691.308 662.662 690.498 664.583 Q689.711 666.481 687.604 669.074 Q687.025 669.745 683.924 672.962 Q680.822 676.157 675.174 681.921 Z\" fill=\"#000000\" fill-rule=\"nonzero\" fill-opacity=\"1\" /><path clip-path=\"url(#clip010)\" d=\"M701.354 651.296 L719.71 651.296 L719.71 655.231 L705.636 655.231 L705.636 663.703 Q706.655 663.356 707.673 663.194 Q708.692 663.009 709.71 663.009 Q715.497 663.009 718.877 666.18 Q722.257 669.351 722.257 674.768 Q722.257 680.347 718.784 683.449 Q715.312 686.527 708.993 686.527 Q706.817 686.527 704.548 686.157 Q702.303 685.786 699.896 685.046 L699.896 680.347 Q701.979 681.481 704.201 682.037 Q706.423 682.592 708.9 682.592 Q712.905 682.592 715.243 680.486 Q717.581 678.379 717.581 674.768 Q717.581 671.157 715.243 669.05 Q712.905 666.944 708.9 666.944 Q707.025 666.944 705.15 667.361 Q703.298 667.777 701.354 668.657 L701.354 651.296 Z\" fill=\"#000000\" fill-rule=\"nonzero\" fill-opacity=\"1\" /><path clip-path=\"url(#clip010)\" d=\"M574.595 534.356 Q570.984 534.356 569.156 537.921 Q567.35 541.463 567.35 548.592 Q567.35 555.699 569.156 559.263 Q570.984 562.805 574.595 562.805 Q578.23 562.805 580.035 559.263 Q581.864 555.699 581.864 548.592 Q581.864 541.463 580.035 537.921 Q578.23 534.356 574.595 534.356 M574.595 530.652 Q580.406 530.652 583.461 535.259 Q586.54 539.842 586.54 548.592 Q586.54 557.319 583.461 561.925 Q580.406 566.509 574.595 566.509 Q568.785 566.509 565.707 561.925 Q562.651 557.319 562.651 548.592 Q562.651 539.842 565.707 535.259 Q568.785 530.652 574.595 530.652 Z\" fill=\"#000000\" fill-rule=\"nonzero\" fill-opacity=\"1\" /><path clip-path=\"url(#clip010)\" d=\"M594.757 559.958 L599.642 559.958 L599.642 565.837 L594.757 565.837 L594.757 559.958 Z\" fill=\"#000000\" fill-rule=\"nonzero\" fill-opacity=\"1\" /><path clip-path=\"url(#clip010)\" d=\"M619.827 534.356 Q616.216 534.356 614.387 537.921 Q612.581 541.463 612.581 548.592 Q612.581 555.699 614.387 559.263 Q616.216 562.805 619.827 562.805 Q623.461 562.805 625.266 559.263 Q627.095 555.699 627.095 548.592 Q627.095 541.463 625.266 537.921 Q623.461 534.356 619.827 534.356 M619.827 530.652 Q625.637 530.652 628.692 535.259 Q631.771 539.842 631.771 548.592 Q631.771 557.319 628.692 561.925 Q625.637 566.509 619.827 566.509 Q614.016 566.509 610.938 561.925 Q607.882 557.319 607.882 548.592 Q607.882 539.842 610.938 535.259 Q614.016 530.652 619.827 530.652 Z\" fill=\"#000000\" fill-rule=\"nonzero\" fill-opacity=\"1\" /><path clip-path=\"url(#clip010)\" d=\"M649.989 534.356 Q646.377 534.356 644.549 537.921 Q642.743 541.463 642.743 548.592 Q642.743 555.699 644.549 559.263 Q646.377 562.805 649.989 562.805 Q653.623 562.805 655.428 559.263 Q657.257 555.699 657.257 548.592 Q657.257 541.463 655.428 537.921 Q653.623 534.356 649.989 534.356 M649.989 530.652 Q655.799 530.652 658.854 535.259 Q661.933 539.842 661.933 548.592 Q661.933 557.319 658.854 561.925 Q655.799 566.509 649.989 566.509 Q644.178 566.509 641.1 561.925 Q638.044 557.319 638.044 548.592 Q638.044 539.842 641.1 535.259 Q644.178 530.652 649.989 530.652 Z\" fill=\"#000000\" fill-rule=\"nonzero\" fill-opacity=\"1\" /><path clip-path=\"url(#clip010)\" d=\"M670.197 531.277 L688.553 531.277 L688.553 535.213 L674.479 535.213 L674.479 543.685 Q675.498 543.338 676.516 543.176 Q677.535 542.99 678.553 542.99 Q684.34 542.99 687.72 546.162 Q691.099 549.333 691.099 554.75 Q691.099 560.328 687.627 563.43 Q684.155 566.509 677.836 566.509 Q675.66 566.509 673.391 566.138 Q671.146 565.768 668.738 565.027 L668.738 560.328 Q670.822 561.462 673.044 562.018 Q675.266 562.574 677.743 562.574 Q681.748 562.574 684.086 560.467 Q686.424 558.361 686.424 554.75 Q686.424 551.138 684.086 549.032 Q681.748 546.925 677.743 546.925 Q675.868 546.925 673.993 547.342 Q672.141 547.759 670.197 548.638 L670.197 531.277 Z\" fill=\"#000000\" fill-rule=\"nonzero\" fill-opacity=\"1\" /><path clip-path=\"url(#clip010)\" d=\"M710.312 534.356 Q706.701 534.356 704.872 537.921 Q703.067 541.463 703.067 548.592 Q703.067 555.699 704.872 559.263 Q706.701 562.805 710.312 562.805 Q713.947 562.805 715.752 559.263 Q717.581 555.699 717.581 548.592 Q717.581 541.463 715.752 537.921 Q713.947 534.356 710.312 534.356 M710.312 530.652 Q716.122 530.652 719.178 535.259 Q722.257 539.842 722.257 548.592 Q722.257 557.319 719.178 561.925 Q716.122 566.509 710.312 566.509 Q704.502 566.509 701.423 561.925 Q698.368 557.319 698.368 548.592 Q698.368 539.842 701.423 535.259 Q704.502 530.652 710.312 530.652 Z\" fill=\"#000000\" fill-rule=\"nonzero\" fill-opacity=\"1\" /><polyline clip-path=\"url(#clip012)\" style=\"stroke:#009af9; stroke-linecap:round; stroke-linejoin:round; stroke-width:4; stroke-opacity:1; fill:none\" points=\"1417.27,471.413 1423.1,466.581 1430.33,461.19 1438.14,456.107 1446.78,451.396 1455.92,447.464 1465.54,444.515 1475.49,442.775 1485.72,442.41 1496.15,443.572 1506.79,446.401 1517.58,451.031 1528.54,457.609 1539.64,466.28 1550.87,477.187 1562.13,490.397 1573.3,505.873 1584.3,523.59 1595.08,543.511 1605.58,565.631 1615.76,589.966 1625.52,616.494 1634.8,645.26 1643.48,676.256 1651.39,709.447 1658.28,744.422 1663.94,780.776 1668.14,817.904 1670.72,855.316 1671.56,892.613 1670.56,929.4 1667.68,965.321 1662.85,1000.14 1656.06,1033.54 1647.3,1065.23 1636.6,1094.93 1624.01,1122.35 1609.62,1147.23 1593.56,1169.28 1575.99,1188.28 1557.1,1204.01 1537.1,1216.29 1516.23,1225 1494.75,1230.03 1472.92,1231.33 1451.03,1228.86 1429.35,1222.66 1408.19,1212.79 1387.82,1199.37 1368.54,1182.59 1350.56,1162.67 1334.11,1139.88 1319.36,1114.49 1306.43,1086.81 1295.41,1057.13 1286.36,1025.7 1279.3,992.767 1274.24,958.532 1271.21,923.297 1270.19,888.016 1271,853.874 1273.34,821.345 1276.9,790.828 1281.31,762.816 1286.69,735.472 1292.92,709 1299.94,683.408 1307.67,658.773 1316.04,635.165 1324.97,612.625 1334.43,591.194 1344.36,570.92 1354.71,551.847 1365.65,533.691 1376.96,516.895 1388.33,501.878 1399.7,488.606 1411.01,477.086 1422.24,467.271 1433.36,459.123 1444.39,452.605 1455.32,447.69 1466.16,444.367 1476.97,442.632 1487.72,442.512 1498.47,444.045 1509.23,447.291 1520.03,452.334 1530.92,459.295 1541.9,468.292 1553,479.511 1564.13,492.995 1575.16,508.704 1585.92,526.42 1596.39,546.12 1606.45,567.583 1616.13,590.916 1625.32,615.896 1633.98,642.554 1642.05,670.833 1649.35,700.34 1655.67,730.284 1660.84,759.638 1664.89,788.04 1668.14,817.863 1670.35,848.021 1671.45,878.64 1671.34,909.28 1669.93,939.78 1667.17,969.817 1663.04,999.031 1657.58,1026.96 1650.95,1053.09 1643.45,1076.79 1634.94,1098.93 1624.99,1120.43 1613.9,1140.41 1601.55,1158.96 1588.05,1175.75 1573.43,1190.67 1557.79,1203.5 1541.21,1214.1 1523.82,1222.29 1505.75,1227.93 1487.17,1230.91 1468.24,1231.12 1449.15,1228.48 1430.12,1222.94 1411.34,1214.51 1393.04,1203.2 1375.43,1189.09 1358.72,1172.29 1343.1,1152.94 1328.72,1131.22 1315.74,1107.33 1304.25,1081.48 1294.36,1053.86 1286.1,1024.68 1279.54,994.091 1274.68,962.25 1271.59,929.444 1270.26,896.577 1270.55,864.698 1272.23,834.252 1275.01,805.633 1278.58,779.294 1282.65,755.471 1287.74,730.691 1293.43,706.995 1299.9,683.553 1306.98,660.861 1314.67,638.826 1322.91,617.604 1331.62,597.332 1340.73,578.089 1350.12,560.055 1359.58,543.503 1370.6,526.104 1381.1,511.205 1391.99,497.409 1402.76,485.317 1413.6,474.668 1424.38,465.567 1435.14,457.958 1445.84,451.852 1456.5,447.242 1467.12,444.141 1477.72,442.564 1488.32,442.549 1498.93,444.149 1509.59,447.432 1520.31,452.499 1531.12,459.457 1542.03,468.437 1553.02,479.568 1564.06,492.948 1574.98,508.486 1585.65,526.022 1596.03,545.503 1606.04,566.776 1615.66,589.864 1624.83,614.691 1633.51,641.248 1641.57,669.33 1648.87,698.653 1655.2,728.405 1660.42,757.71 1664.42,785.306 1667.67,814.304 1669.96,843.717 1671.2,873.723 1671.28,903.796 1670.12,933.852 1667.65,963.531 1663.85,992.511 1658.75,1020.3 1652.48,1046.4 1645.32,1070.23 1637.67,1091.24 1628.3,1112.71 1618,1132.48 1606.35,1151.2 1593.6,1168.27 1579.69,1183.69 1564.74,1197.18 1548.8,1208.58 1532,1217.73 1514.44,1224.46 1496.28,1228.63 1477.69,1230.13 1458.83,1228.87 1439.9,1224.77 1421.12,1217.8 1402.69,1207.97 1384.82,1195.34 1367.73,1179.98 1351.62,1162.02 1336.65,1141.64 1322.97,1119.01 1310.72,1094.34 1299.99,1067.85 1290.84,1039.75 1283.33,1010.24 1277.46,979.491 1273.27,947.678 1270.76,915.14 1269.92,882.721 1270.57,851.379 1272.49,821.557 1275.38,793.696 1278.91,768.394 1283.12,744.081 1288.14,719.744 1293.77,696.223 1300.05,673.166 1306.87,650.877 1314.2,629.363 1321.95,608.761 1330.02,589.206 1338.3,570.863 1346.6,553.974 1354.84,538.524 1364.15,522.529 1373.71,507.597 1383.41,493.89 1393.02,481.726 1402.51,471.043 1411.81,461.891 1420.89,454.233 1429.72,448.056 1438.27,443.33 1446.52,440.024 1454.49,438.106 1462.12,437.554 1469.43,438.338 1476.38,440.427 1483,443.798 1489.24,448.407 1495.08,454.199 1500.5,461.12 1505.46,469.034 1509.97,477.874 1513.88,487.189 1517.33,497.15 1520.58,508.582 1523.48,521.361 1525.87,535.205 1527.75,550.444 1528.95,566.585 1529.41,583.619 1529.04,601.112 1527.82,618.827 1525.74,636.288 1522.87,653.121 1519.46,668.426 1514.93,684.577 1509.59,699.999 1503.27,715.018 1496.17,729.05 1488.46,741.826 1480.52,752.97 1471.33,763.884 1461.63,773.567 1451.12,782.316 1440.08,789.907 1428.46,796.395 1416.44,801.742 1404.19,805.948 1391.34,809.187 1378.38,811.382 1365.18,812.631 1351.93,812.989 1338.65,812.53 1325.43,811.332 1312.31,809.471 1299.35,807.025 1286.6,804.066 1274.09,800.668 1261.87,796.894 1249.95,792.807 1238.36,788.46 1227.11,783.905 1216.22,779.186 1205.69,774.343 1195.53,769.412 1185.75,764.426 1176.37,759.422 1167.42,754.45 1159.2,749.706 1150.69,744.611 1142.64,739.621 1134.76,734.562 1127.2,729.542 1119.89,724.522 1112.85,719.53 1106.07,714.568 1099.58,709.654 1093.39,704.804 1087.51,700.046 1081.96,695.395 1076.74,690.861 1071.84,686.449 1067.24,682.152 1062.93,677.962 1058.87,673.852 1055.03,669.793 1051.42,665.778 1048.27,662.108 1045.55,658.775 1043.24,655.797 1041.16,652.973 1039.35,650.372 1037.53,647.612 1035.89,644.95 1034.31,642.181 1032.81,639.275 1031.56,636.574 1030.51,634.002 1029.66,631.551 1028.98,629.2 1028.48,626.941 1028.14,624.767 1027.97,622.667 1027.97,620.644 1028.13,618.704 1028.46,616.879 1028.93,615.176 1029.54,613.598 1030.28,612.143 1031.11,610.808 1032.04,609.591 1033.02,608.499 1034.02,607.557 1035.18,606.607 1036.43,605.721 1037.83,604.872 1039.37,604.076 1041.04,603.341 1042.86,602.665 1044.83,602.062 1046.97,601.531 1049.27,601.083 1051.73,600.724 1054.35,600.463 1057.13,600.303 1060.07,600.252 1063.18,600.314 1066.43,600.494 1069.85,600.799 1073.42,601.232 1077.15,601.799 1081.03,602.505 1085.08,603.358 1089.27,604.36 1093.63,605.521 1098.12,606.839 1102.75,608.324 1107.58,609.997 1112.52,611.841 1117.63,613.883 1122.9,616.129 1128.29,618.568 1133.87,621.241 1139.58,624.133 1145.42,627.257 1151.43,630.639 1157.54,634.252 1163.74,638.098 1170.09,642.234 1176.46,646.579 1183.05,651.284 1189.62,656.185 1196.33,661.426 1203.06,666.907 1209.91,672.743 1216.61,678.694 1223.52,685.095 1230.35,691.7 1237.28,698.686 1244.28,706.038 1251.49,713.961 1258.76,722.294 1266.19,731.2 1273.71,740.622 1281.44,750.776 1289.25,761.539 1297.17,773.009 1305.18,785.204 1313.25,798.145 1321.32,811.795 1329.39,826.213 1335.5,837.662 \"/>\n",
       "<path clip-path=\"url(#clip010)\" d=\"M353.366 1438.47 L612.63 1438.47 L612.63 1334.79 L353.366 1334.79  Z\" fill=\"#ffffff\" fill-rule=\"evenodd\" fill-opacity=\"1\"/>\n",
       "<polyline clip-path=\"url(#clip010)\" style=\"stroke:#000000; stroke-linecap:round; stroke-linejoin:round; stroke-width:4; stroke-opacity:1; fill:none\" points=\"353.366,1438.47 612.63,1438.47 612.63,1334.79 353.366,1334.79 353.366,1438.47 \"/>\n",
       "<polyline clip-path=\"url(#clip010)\" style=\"stroke:#009af9; stroke-linecap:round; stroke-linejoin:round; stroke-width:4; stroke-opacity:1; fill:none\" points=\"376.348,1386.63 514.237,1386.63 \"/>\n",
       "<path clip-path=\"url(#clip010)\" d=\"M551.061 1406.32 Q549.255 1410.95 547.542 1412.36 Q545.829 1413.78 542.959 1413.78 L539.556 1413.78 L539.556 1410.21 L542.056 1410.21 Q543.815 1410.21 544.787 1409.38 Q545.76 1408.54 546.94 1405.44 L547.704 1403.5 L537.218 1377.99 L541.732 1377.99 L549.834 1398.27 L557.936 1377.99 L562.449 1377.99 L551.061 1406.32 Z\" fill=\"#000000\" fill-rule=\"nonzero\" fill-opacity=\"1\" /><path clip-path=\"url(#clip010)\" d=\"M569.741 1399.98 L577.38 1399.98 L577.38 1373.61 L569.07 1375.28 L569.07 1371.02 L577.334 1369.35 L582.009 1369.35 L582.009 1399.98 L589.648 1399.98 L589.648 1403.91 L569.741 1403.91 L569.741 1399.98 Z\" fill=\"#000000\" fill-rule=\"nonzero\" fill-opacity=\"1\" /></svg>\n"
      ]
     },
     "metadata": {},
     "output_type": "display_data"
    }
   ],
   "source": [
    "plot(all_state_lp[1,:], all_state_lp[2,:], all_state_lp[3,:], aspectratio=true)"
   ]
  },
  {
   "cell_type": "code",
   "execution_count": 51,
   "id": "10532f51",
   "metadata": {},
   "outputs": [],
   "source": [
    "#as seen above, after about 3.5 periods it begins to diverge from the periodic orbit \n",
    "#will formulate as a convex optimiztion problem to generate the station keeping \n",
    "#maneuvers"
   ]
  },
  {
   "cell_type": "code",
   "execution_count": 52,
   "id": "2d907b16",
   "metadata": {},
   "outputs": [],
   "source": [
    "#this is the continuous dynamics\n",
    "#AL2 = ForwardDiff.jacobian(x-> three_body_prob_dynamics(x), all_state_final[:,1])"
   ]
  },
  {
   "cell_type": "code",
   "execution_count": 53,
   "id": "86895f82",
   "metadata": {},
   "outputs": [],
   "source": [
    "#this is including the slack variable in the control vector\n",
    "#B = [zeros(3,4); I][1:6, :]"
   ]
  },
  {
   "cell_type": "code",
   "execution_count": 54,
   "id": "9bc3967a",
   "metadata": {},
   "outputs": [
    {
     "data": {
      "text/plain": [
       "3"
      ]
     },
     "metadata": {},
     "output_type": "display_data"
    }
   ],
   "source": [
    "nx = 6 #number of states\n",
    "nu = 3 #number of controls "
   ]
  },
  {
   "cell_type": "code",
   "execution_count": 55,
   "id": "403848ef",
   "metadata": {},
   "outputs": [
    {
     "data": {
      "text/plain": [
       "0.08537438534157255"
      ]
     },
     "metadata": {},
     "output_type": "display_data"
    }
   ],
   "source": [
    "#this is the A tilde to get the discretized dynamics\n",
    "#Ã = [AL2 B; zeros(4,10)]\n",
    "\n",
    "#this is the number of knot points in one horizon\n",
    "N_period = 41  #40 knot points per period per period\n",
    "\n",
    "N_h = 82 #horizon 2 periods\n",
    "\n",
    "#this is the time step. (period T is already scaled). for 1 period\n",
    "# 100 poi\n",
    "Δt = (sol_t_final[end]/(N_period-1))"
   ]
  },
  {
   "cell_type": "code",
   "execution_count": 56,
   "id": "575ccf56",
   "metadata": {},
   "outputs": [],
   "source": [
    "# function get_reference(i,N)\n",
    "    \n",
    "#     reference = zeros(nx, N)\n",
    "\n",
    "#     for k=1:N\n",
    "\n",
    "#         reference[:,k] = full_solution(horizon[i:end]).u[k][1:6]\n",
    "        \n",
    "#     end\n",
    "\n",
    "#     return reference\n",
    "    \n",
    "# end"
   ]
  },
  {
   "cell_type": "code",
   "execution_count": 57,
   "id": "51a98ca1",
   "metadata": {},
   "outputs": [],
   "source": [
    "#Ad = H[1:nx, 1:nx]\n",
    "#Bd = H[1:nx, nx+1:end]"
   ]
  },
  {
   "cell_type": "code",
   "execution_count": 58,
   "id": "22e9c8eb",
   "metadata": {},
   "outputs": [],
   "source": [
    "#umin = 0.5\n",
    "#umax = 1"
   ]
  },
  {
   "cell_type": "code",
   "execution_count": 59,
   "id": "65f74a3c",
   "metadata": {},
   "outputs": [
    {
     "data": {
      "text/plain": [
       "6×3×41 Array{Float64, 3}:\n",
       "[:, :, 1] =\n",
       " 0.0  0.0  0.0\n",
       " 0.0  0.0  0.0\n",
       " 0.0  0.0  0.0\n",
       " 0.0  0.0  0.0\n",
       " 0.0  0.0  0.0\n",
       " 0.0  0.0  0.0\n",
       "\n",
       "[:, :, 2] =\n",
       " 0.0  0.0  0.0\n",
       " 0.0  0.0  0.0\n",
       " 0.0  0.0  0.0\n",
       " 0.0  0.0  0.0\n",
       " 0.0  0.0  0.0\n",
       " 0.0  0.0  0.0\n",
       "\n",
       "[:, :, 3] =\n",
       " 0.0  0.0  0.0\n",
       " 0.0  0.0  0.0\n",
       " 0.0  0.0  0.0\n",
       " 0.0  0.0  0.0\n",
       " 0.0  0.0  0.0\n",
       " 0.0  0.0  0.0\n",
       "\n",
       ";;; … \n",
       "\n",
       "[:, :, 39] =\n",
       " 0.0  0.0  0.0\n",
       " 0.0  0.0  0.0\n",
       " 0.0  0.0  0.0\n",
       " 0.0  0.0  0.0\n",
       " 0.0  0.0  0.0\n",
       " 0.0  0.0  0.0\n",
       "\n",
       "[:, :, 40] =\n",
       " 0.0  0.0  0.0\n",
       " 0.0  0.0  0.0\n",
       " 0.0  0.0  0.0\n",
       " 0.0  0.0  0.0\n",
       " 0.0  0.0  0.0\n",
       " 0.0  0.0  0.0\n",
       "\n",
       "[:, :, 41] =\n",
       " 0.0  0.0  0.0\n",
       " 0.0  0.0  0.0\n",
       " 0.0  0.0  0.0\n",
       " 0.0  0.0  0.0\n",
       " 0.0  0.0  0.0\n",
       " 0.0  0.0  0.0"
      ]
     },
     "metadata": {},
     "output_type": "display_data"
    }
   ],
   "source": [
    "#N (number of knot points) 6x6 discrete dynamics jacobians\n",
    "\n",
    "#this is along 1 period of the reference orbit\n",
    "all_Ad = zeros(6,6,N_period)\n",
    "all_Bd = zeros(6,3,N_period)"
   ]
  },
  {
   "cell_type": "code",
   "execution_count": 60,
   "id": "15f167dd",
   "metadata": {},
   "outputs": [
    {
     "data": {
      "text/plain": [
       "6-element Vector{Float64}:\n",
       " 1.1201297302380415\n",
       " 0.0\n",
       " 0.0059396759100811495\n",
       " 0.0\n",
       " 0.17677819141944426\n",
       " 0.0"
      ]
     },
     "metadata": {},
     "output_type": "display_data"
    }
   ],
   "source": [
    "all_state_final[:,1]"
   ]
  },
  {
   "cell_type": "code",
   "execution_count": 61,
   "id": "72f9efea",
   "metadata": {},
   "outputs": [
    {
     "data": {
      "text/plain": [
       "3.414975413662902"
      ]
     },
     "metadata": {},
     "output_type": "display_data"
    }
   ],
   "source": [
    "T_corrected = sol_t_final[end]"
   ]
  },
  {
   "cell_type": "code",
   "execution_count": 62,
   "id": "e084962b",
   "metadata": {},
   "outputs": [
    {
     "data": {
      "text/plain": [
       "41-element LinRange{Float64, Int64}:\n",
       " 0.0, 0.0853744, 0.170749, 0.256123, …, 3.15885, 3.24423, 3.3296, 3.41498"
      ]
     },
     "metadata": {},
     "output_type": "display_data"
    }
   ],
   "source": [
    "horizon = LinRange(0, T_corrected, N_period)"
   ]
  },
  {
   "cell_type": "code",
   "execution_count": 63,
   "id": "c5353e19",
   "metadata": {},
   "outputs": [
    {
     "data": {
      "text/plain": [
       "6×6×41 Array{Float64, 3}:\n",
       "[:, :, 1] =\n",
       " 0.0  0.0  0.0  0.0  0.0  0.0\n",
       " 0.0  0.0  0.0  0.0  0.0  0.0\n",
       " 0.0  0.0  0.0  0.0  0.0  0.0\n",
       " 0.0  0.0  0.0  0.0  0.0  0.0\n",
       " 0.0  0.0  0.0  0.0  0.0  0.0\n",
       " 0.0  0.0  0.0  0.0  0.0  0.0\n",
       "\n",
       "[:, :, 2] =\n",
       " 0.0  0.0  0.0  0.0  0.0  0.0\n",
       " 0.0  0.0  0.0  0.0  0.0  0.0\n",
       " 0.0  0.0  0.0  0.0  0.0  0.0\n",
       " 0.0  0.0  0.0  0.0  0.0  0.0\n",
       " 0.0  0.0  0.0  0.0  0.0  0.0\n",
       " 0.0  0.0  0.0  0.0  0.0  0.0\n",
       "\n",
       "[:, :, 3] =\n",
       " 0.0  0.0  0.0  0.0  0.0  0.0\n",
       " 0.0  0.0  0.0  0.0  0.0  0.0\n",
       " 0.0  0.0  0.0  0.0  0.0  0.0\n",
       " 0.0  0.0  0.0  0.0  0.0  0.0\n",
       " 0.0  0.0  0.0  0.0  0.0  0.0\n",
       " 0.0  0.0  0.0  0.0  0.0  0.0\n",
       "\n",
       ";;; … \n",
       "\n",
       "[:, :, 39] =\n",
       " 0.0  0.0  0.0  0.0  0.0  0.0\n",
       " 0.0  0.0  0.0  0.0  0.0  0.0\n",
       " 0.0  0.0  0.0  0.0  0.0  0.0\n",
       " 0.0  0.0  0.0  0.0  0.0  0.0\n",
       " 0.0  0.0  0.0  0.0  0.0  0.0\n",
       " 0.0  0.0  0.0  0.0  0.0  0.0\n",
       "\n",
       "[:, :, 40] =\n",
       " 0.0  0.0  0.0  0.0  0.0  0.0\n",
       " 0.0  0.0  0.0  0.0  0.0  0.0\n",
       " 0.0  0.0  0.0  0.0  0.0  0.0\n",
       " 0.0  0.0  0.0  0.0  0.0  0.0\n",
       " 0.0  0.0  0.0  0.0  0.0  0.0\n",
       " 0.0  0.0  0.0  0.0  0.0  0.0\n",
       "\n",
       "[:, :, 41] =\n",
       " 0.0  0.0  0.0  0.0  0.0  0.0\n",
       " 0.0  0.0  0.0  0.0  0.0  0.0\n",
       " 0.0  0.0  0.0  0.0  0.0  0.0\n",
       " 0.0  0.0  0.0  0.0  0.0  0.0\n",
       " 0.0  0.0  0.0  0.0  0.0  0.0\n",
       " 0.0  0.0  0.0  0.0  0.0  0.0"
      ]
     },
     "metadata": {},
     "output_type": "display_data"
    }
   ],
   "source": [
    "#used to save the state transition matrix at each knot point\n",
    "stm_times = zeros((6,6,N_period))"
   ]
  },
  {
   "cell_type": "code",
   "execution_count": 64,
   "id": "264eea0b",
   "metadata": {},
   "outputs": [
    {
     "data": {
      "text/plain": [
       "41-element LinRange{Float64, Int64}:\n",
       " 0.0, 0.0853744, 0.170749, 0.256123, …, 3.15885, 3.24423, 3.3296, 3.41498"
      ]
     },
     "metadata": {},
     "output_type": "display_data"
    }
   ],
   "source": [
    "horizon"
   ]
  },
  {
   "cell_type": "code",
   "execution_count": 65,
   "id": "92d04fe2",
   "metadata": {},
   "outputs": [
    {
     "data": {
      "text/plain": [
       "36-element Vector{Float64}:\n",
       " 1.0\n",
       " 0.0\n",
       " 0.0\n",
       " 0.0\n",
       " 0.0\n",
       " 0.0\n",
       " 0.0\n",
       " 1.0\n",
       " 0.0\n",
       " 0.0\n",
       " ⋮\n",
       " 0.0\n",
       " 1.0\n",
       " 0.0\n",
       " 0.0\n",
       " 0.0\n",
       " 0.0\n",
       " 0.0\n",
       " 0.0\n",
       " 1.0"
      ]
     },
     "metadata": {},
     "output_type": "display_data"
    }
   ],
   "source": [
    "full_solution(horizon).u[1][7:end]"
   ]
  },
  {
   "cell_type": "code",
   "execution_count": 66,
   "id": "5efabc1b",
   "metadata": {},
   "outputs": [],
   "source": [
    "#get the reference trajectory\n",
    "reference_trajectory = zeros(nx, N_period)\n",
    "\n",
    "for k=1:N_period\n",
    "\n",
    "    reference_trajectory[:,k] = full_solution(horizon).u[k][1:6]\n",
    "    \n",
    "    #save the reference state transition matrices at the dedicated timesteps\n",
    "    \n",
    "    stm_times[:,:,k] = reshape(full_solution(horizon).u[k][7:end], (6,6)) \n",
    "        \n",
    "end"
   ]
  },
  {
   "cell_type": "code",
   "execution_count": 67,
   "id": "e95ea608",
   "metadata": {},
   "outputs": [
    {
     "data": {
      "text/plain": [
       "6-element Vector{Float64}:\n",
       "  0.2601199344043385\n",
       " -0.28147013927572373\n",
       "  0.006120783674633997\n",
       "  0.7718088379884933\n",
       " -0.5053799680278542\n",
       "  0.044462590430748905"
      ]
     },
     "metadata": {},
     "output_type": "display_data"
    }
   ],
   "source": [
    "#monodromy is the stm at the end of the periodic orbit\n",
    "monodromy_eigen = eigen(stm_times[:,:,end])\n",
    "\n",
    "stable_dir = real(monodromy_eigen.vectors[:,1])\n",
    "unstable_dir = real(monodromy_eigen.vectors[:,end])\n",
    "#find the eigen values of the monodromy"
   ]
  },
  {
   "cell_type": "code",
   "execution_count": null,
   "id": "7fd8bf3f",
   "metadata": {},
   "outputs": [],
   "source": [
    "#save the unstable directions in a matrix\n",
    "unstable_directions = zeros(6,N_period)"
   ]
  },
  {
   "cell_type": "code",
   "execution_count": null,
   "id": "52f08b0f",
   "metadata": {},
   "outputs": [],
   "source": [
    "#the unstable directions are then the stm at the timestep multiplied by the unstable direction found by the monodromy\n",
    "\n",
    "for k = 1:N_period\n",
    "    \n",
    "    unstable_directions[:,k] = (stm_times[:,:,k]*unstable_dir)/norm(stm_times[:,:,k]*unstable_dir)\n",
    "    \n",
    "end\n",
    "\n"
   ]
  },
  {
   "cell_type": "code",
   "execution_count": null,
   "id": "4a386d97",
   "metadata": {},
   "outputs": [],
   "source": [
    "#unstable directions for the unstable manifolds along the orbit\n",
    "unstable_directions"
   ]
  },
  {
   "cell_type": "code",
   "execution_count": null,
   "id": "1c75d117",
   "metadata": {},
   "outputs": [],
   "source": [
    "[unstable_directions[1:3, 1]; zeros(3)]"
   ]
  },
  {
   "cell_type": "code",
   "execution_count": null,
   "id": "ddccfc3d",
   "metadata": {},
   "outputs": [],
   "source": [
    "#plot the manifolds\n",
    "#+ manifold to the right\n",
    "# - manifold to the left\n",
    "epz = 1e-5\n",
    "#plot(reference_trajectory[1,:], reference_trajectory[2,:], reference_trajectory[3,:], label=\"Reference Orbit\")\n",
    "\n",
    "plot(reference_trajectory[1,:], reference_trajectory[2,:], label=\"Reference Orbit\")\n",
    "\n",
    "\n",
    "for i=1:41\n",
    "\n",
    "    #initial_state = reference_trajectory[:,i] + epz.*unstable_directions[:,i]\n",
    "\n",
    "    initial_state = reference_trajectory[:,i] + epz.*[unstable_directions[1:3,i];zeros(3)]\n",
    "\n",
    "    #initial_state = reference_trajectory[:,i] - epz.*unstable_directions[:,i]\n",
    "\n",
    "    inv_manifold = just_dynamics_integrate(initial_state, 1.5*sol_t_final[end])\n",
    "\n",
    "    all_state_m = get_state(inv_manifold)\n",
    "\n",
    "    #plot!(all_state_m[1,:], all_state_m[2,:], all_state_m[3,:], color=\"red\", legend=false)\n",
    "\n",
    "    plot!(all_state_m[1,:], all_state_m[2,:], color=\"red\", legend=false)\n",
    "\n",
    "end\n",
    "\n",
    "#plot!(reference_trajectory[1,:], reference_trajectory[2,:], reference_trajectory[3,:], label=\"Reference Orbit\", linewidth = 5)\n",
    "\n",
    "plot!(reference_trajectory[1,:], reference_trajectory[2,:], label=\"Reference Orbit\", linewidth = 5)\n"
   ]
  },
  {
   "cell_type": "code",
   "execution_count": null,
   "id": "f22ada70",
   "metadata": {},
   "outputs": [],
   "source": [
    "#two orbits worth of data\n",
    "unstable_constraint = cat(unstable_directions, unstable_directions, dims=2)"
   ]
  },
  {
   "cell_type": "code",
   "execution_count": null,
   "id": "4a3958fe",
   "metadata": {},
   "outputs": [],
   "source": [
    "plot(reference_trajectory[1,:], reference_trajectory[2,:], reference_trajectory[3,:])\n",
    "\n",
    "scatter!([reference_trajectory[1,1]], [reference_trajectory[2,1]], [reference_trajectory[3,1]])\n",
    "scatter!([reference_trajectory[1,21]], [reference_trajectory[2,21]], [reference_trajectory[3,21]])\n",
    "scatter!([reference_trajectory[1,end]], [reference_trajectory[2,end]], [reference_trajectory[3,end]])"
   ]
  },
  {
   "cell_type": "code",
   "execution_count": null,
   "id": "759e19c0",
   "metadata": {},
   "outputs": [],
   "source": [
    "#obtain the reference trajectory at the knot points that we made up\n",
    "\n",
    "#reference_trajectory = get_reference(1,N_period)"
   ]
  },
  {
   "cell_type": "code",
   "execution_count": null,
   "id": "a7dc8037",
   "metadata": {},
   "outputs": [],
   "source": [
    "#goal is to have a look ahead of 2 orbits and apply an MPC controller \n",
    "\n",
    "#3 periods worth of data (just using the same orbit over the 3 periods)\n",
    "#reference_trajectory_all = [reference_trajectory reference_trajectory reference_trajectory]"
   ]
  },
  {
   "cell_type": "code",
   "execution_count": null,
   "id": "bfe2fc8f",
   "metadata": {},
   "outputs": [],
   "source": [
    "for i=1:N_period\n",
    "\n",
    "    #get the discrete dynamics jacobians for the entire reference trajectory along the knot points\n",
    "\n",
    "    Ak = ForwardDiff.jacobian(x-> three_body_prob_dynamics(x), reference_trajectory[:,i])\n",
    "\n",
    "    #this is including the slack variable in the control vector (this is control on accelerations/thrust)\n",
    "    Bk = [zeros(3,3); I]\n",
    "\n",
    "    #this is the A tilde to get the discretized dynamics\n",
    "    Ãk = [Ak Bk; zeros(3,9)]\n",
    "\n",
    "    H = exp(Ãk*Δt)\n",
    "\n",
    "    all_Ad[:,:,i] = H[1:nx, 1:nx]\n",
    "\n",
    "    all_Bd[:,:,i] = H[1:nx, nx+1:end]\n",
    "    \n",
    "    \n",
    "end"
   ]
  },
  {
   "cell_type": "code",
   "execution_count": null,
   "id": "1724c969",
   "metadata": {},
   "outputs": [],
   "source": [
    "all_Bd"
   ]
  },
  {
   "cell_type": "code",
   "execution_count": null,
   "id": "01c39df8",
   "metadata": {},
   "outputs": [],
   "source": [
    "#concatenate jacobians for two periods\n",
    "\n",
    "all_Ad_1 = cat(all_Ad, all_Ad, dims=3)\n",
    "all_Bd_1 = cat(all_Bd, all_Bd, dims=3)"
   ]
  },
  {
   "cell_type": "code",
   "execution_count": null,
   "id": "91c52e3b",
   "metadata": {},
   "outputs": [],
   "source": [
    "N_period"
   ]
  },
  {
   "cell_type": "code",
   "execution_count": null,
   "id": "046cca6e",
   "metadata": {},
   "outputs": [],
   "source": [
    "num_revs = 100"
   ]
  },
  {
   "cell_type": "code",
   "execution_count": null,
   "id": "2dca5836",
   "metadata": {},
   "outputs": [],
   "source": [
    "#1 revolution is 14 days\n",
    "T*time_scale/60/60/24"
   ]
  },
  {
   "cell_type": "code",
   "execution_count": null,
   "id": "c63593a9",
   "metadata": {},
   "outputs": [],
   "source": [
    "#compute backward ricatti recursion\n",
    "\n",
    "#cost to go matrices\n",
    "#P = zeros((6,6,N_period*num_revs)) #size state x state (6x6) \n",
    "#K = zeros((3,6,N_period*num_revs)) #size control x state (3x6)\n",
    "\n",
    "#cost to go matrices for 16 revs\n",
    "P = zeros((6,6,N_period*16)) #size state x state (6x6) \n",
    "K = zeros((3,6,N_period*16)) #size control x state (3x6)\n",
    "\n",
    "\n",
    "#state cost weight matrix\n",
    "Q = 1.0*Matrix(I,6,6).*1e-3\n",
    "\n",
    "#terminal cost weight matrix\n",
    "Qf = 1.0*Matrix(I,6,6).*1e-3\n",
    "\n",
    "#control cost weight matrix\n",
    "R = 1.0*Matrix(I,3,3).*1e3"
   ]
  },
  {
   "cell_type": "code",
   "execution_count": null,
   "id": "fa7bc0a9",
   "metadata": {},
   "outputs": [],
   "source": [
    "P"
   ]
  },
  {
   "cell_type": "code",
   "execution_count": null,
   "id": "61b2c4a4",
   "metadata": {},
   "outputs": [],
   "source": [
    "1:(N_period*num_revs) - 1"
   ]
  },
  {
   "cell_type": "code",
   "execution_count": null,
   "id": "af7ee58c",
   "metadata": {},
   "outputs": [],
   "source": [
    "all_Ad_rev = all_Ad"
   ]
  },
  {
   "cell_type": "code",
   "execution_count": null,
   "id": "d7ed1a2f",
   "metadata": {},
   "outputs": [],
   "source": [
    "all_Ad_4 = cat(all_Ad_1, all_Ad_1, dims=3)\n",
    "all_Bd_4 = cat(all_Bd_1, all_Bd_1, dims=3)\n",
    "\n",
    "all_Ad_8 = cat(all_Ad_4, all_Ad_4, dims=3)\n",
    "all_Bd_8 = cat(all_Bd_4, all_Bd_4, dims=3)\n",
    "\n",
    "all_Ad_16 = cat(all_Ad_8, all_Ad_8, dims=3)\n",
    "all_Bd_16 = cat(all_Bd_8, all_Bd_8, dims=3)"
   ]
  },
  {
   "cell_type": "code",
   "execution_count": null,
   "id": "205d7aa8",
   "metadata": {},
   "outputs": [],
   "source": [
    "for i = 1:num_revs\n",
    "    all_Ad_rev = (all_Ad_rev, all_Ad, dims=3)\n",
    "end"
   ]
  },
  {
   "cell_type": "code",
   "execution_count": null,
   "id": "91fa6df9",
   "metadata": {},
   "outputs": [],
   "source": [
    "# P[:,:,end] = Qf\n",
    "\n",
    "# for k = reverse(1:(N_period*num_revs) - 1)\n",
    "    \n",
    "#     K[:,:,k] = (R + all_Bd_1[:,:,k]'*P[:,:,k+1]*all_Bd_1[:,:,k])\\(all_Bd_1[:,:,k]'*P[:,:,k+1]*all_Ad_1[:,:, k]) # ricatti recursion for both A and B matrices changing\n",
    "#     P[:,:,k] = Q + all_Ad_1[:,:,k]'*P[:,:,k+1]*all_Ad_1[:,:,k] - all_Ad_1[:,:,k]'*P[:,:,k+1]*all_Bd_1[:,:,k]*K[:,:,k]\n",
    " \n",
    "# end "
   ]
  },
  {
   "cell_type": "code",
   "execution_count": null,
   "id": "3d5ffd04",
   "metadata": {},
   "outputs": [],
   "source": [
    "#Ricatti recursion over 2 periods\n",
    "P[:,:,end] = Qf\n",
    "\n",
    "for k = reverse(1:N_period*16-1)\n",
    "    #println(k)    \n",
    "    K[:,:,k] = (R + all_Bd_16[:,:,k]'*P[:,:,k+1]*all_Bd_16[:,:,k])\\(all_Bd_16[:,:,k]'*P[:,:,k+1]*all_Ad_16[:,:, k]) # ricatti recursion for both A and B matrices changing\n",
    "    P[:,:,k] = Q + all_Ad_16[:,:,k]'*P[:,:,k+1]*all_Ad_16[:,:,k] - all_Ad_16[:,:,k]'*P[:,:,k+1]*all_Bd_16[:,:,k]*K[:,:,k]\n",
    "        \n",
    "end"
   ]
  },
  {
   "cell_type": "code",
   "execution_count": null,
   "id": "6c225dc8",
   "metadata": {},
   "outputs": [],
   "source": [
    "P"
   ]
  },
  {
   "cell_type": "code",
   "execution_count": null,
   "id": "c53a2ae6",
   "metadata": {},
   "outputs": [],
   "source": [
    "P[:,:,1]"
   ]
  },
  {
   "cell_type": "code",
   "execution_count": null,
   "id": "29419267",
   "metadata": {},
   "outputs": [],
   "source": [
    "plot(P[1,1,:])\n",
    "#plot(P[2,2,:])\n",
    "#plot(P[3,3,:])\n",
    "#plot(P[4,4,:])\n",
    "#plot(P[5,5,:])\n",
    "#plot(P[6,6,:])"
   ]
  },
  {
   "cell_type": "code",
   "execution_count": null,
   "id": "e1b200de",
   "metadata": {},
   "outputs": [],
   "source": [
    "#cost to go converges and is periodic! will get one orbit of the cost to go to make a constraint\n",
    "V = P[:,:,1:41]"
   ]
  },
  {
   "cell_type": "code",
   "execution_count": null,
   "id": "656d9d0e",
   "metadata": {},
   "outputs": [],
   "source": [
    "#cost to go matrices for 2 orbits worth of data\n",
    "V_2orbits = cat(V, V, dims=3)"
   ]
  },
  {
   "cell_type": "code",
   "execution_count": null,
   "id": "ba415c1a",
   "metadata": {},
   "outputs": [],
   "source": [
    "V_first = V_2orbits[:,:,1]"
   ]
  },
  {
   "cell_type": "code",
   "execution_count": null,
   "id": "fb803b79",
   "metadata": {},
   "outputs": [],
   "source": [
    "V_first'"
   ]
  },
  {
   "cell_type": "code",
   "execution_count": null,
   "id": "b509a96e",
   "metadata": {},
   "outputs": [],
   "source": [
    "difference = V_first - V_first'"
   ]
  },
  {
   "cell_type": "code",
   "execution_count": null,
   "id": "b3f3f6c0",
   "metadata": {},
   "outputs": [],
   "source": [
    "difference2 = V_2orbits[:,:,2] - V_2orbits[:,:,2]'"
   ]
  },
  {
   "cell_type": "code",
   "execution_count": null,
   "id": "cd149f39",
   "metadata": {},
   "outputs": [],
   "source": [
    "symmetric_v1 = (V_first + V_first')/2"
   ]
  },
  {
   "cell_type": "code",
   "execution_count": null,
   "id": "8c47f1c9",
   "metadata": {},
   "outputs": [],
   "source": [
    "#needed for the quadratic constraint\n",
    "invsymmetricv1 = inv(symmetric_v1)"
   ]
  },
  {
   "cell_type": "code",
   "execution_count": null,
   "id": "2af22a79",
   "metadata": {},
   "outputs": [],
   "source": [
    "invsymmetricv1 - invsymmetricv1'"
   ]
  },
  {
   "cell_type": "code",
   "execution_count": null,
   "id": "918fe94d",
   "metadata": {},
   "outputs": [],
   "source": [
    "display(V_first)"
   ]
  },
  {
   "cell_type": "code",
   "execution_count": null,
   "id": "32266da8",
   "metadata": {},
   "outputs": [],
   "source": [
    "#\n",
    "#x_initial_ref'*inv(V_first)*x_initial_ref"
   ]
  },
  {
   "cell_type": "code",
   "execution_count": null,
   "id": "226c7994",
   "metadata": {},
   "outputs": [],
   "source": [
    "#far_deviation = [1, 0, 1, 0, 1, 0]"
   ]
  },
  {
   "cell_type": "code",
   "execution_count": null,
   "id": "010a1802",
   "metadata": {},
   "outputs": [],
   "source": [
    "#cost to go for this far deviation\n",
    "#far_deviation'*inv(V_first)*far_deviation"
   ]
  },
  {
   "cell_type": "code",
   "execution_count": null,
   "id": "967489eb",
   "metadata": {},
   "outputs": [],
   "source": [
    "#get the initial delta x\n",
    "#this is some noise on the reference trajectory\n",
    "\n",
    "#some arbitrary deviation from the reference trajectory\n",
    "#x_initial_ref = [1e-4, 1e-4, 1e-4, 1e-5, 1e-5, 1e-5]\n",
    "\n",
    "#this is working\n",
    "#x_initial_ref = [1e-9, 0, 0, 0, 1e-9, 0]\n",
    "\n",
    "#this is working. Pretty far deviation in x = 385 km, and vy off by ~1e-3 km/s\n",
    "#x_initial_ref = [1e-3, 0, 0, 0, 1e-3, 0]\n",
    "\n",
    "\n",
    "#off by 385 km meters and ~1 mm/s\n",
    "\n",
    "#x_initial_ref = [1e-3, 0, 0, 0, 1e-6, 0]\n",
    "\n",
    "\n",
    "#try a small deviation\n",
    "x_initial_ref = [1e-9, 0, 0, 0, 1e-9, 0]\n",
    "\n",
    "#ensure that the initial deviation is in the unstable manifold direction\n",
    "#x_initial_ref = [1e-9, -1e-9, 1e-9, 1e-9, -1e-9, 1e-9]"
   ]
  },
  {
   "cell_type": "code",
   "execution_count": null,
   "id": "c09312eb",
   "metadata": {},
   "outputs": [],
   "source": [
    "#concatenate unstable directions for 2 orbits\n",
    "\n",
    "unstable_directions_2 = cat(unstable_directions, unstable_directions, dims=2)"
   ]
  },
  {
   "cell_type": "code",
   "execution_count": null,
   "id": "7b27ce1b",
   "metadata": {},
   "outputs": [],
   "source": [
    "unstable_sub = unstable_directions_2[:,1:0]"
   ]
  },
  {
   "cell_type": "code",
   "execution_count": null,
   "id": "1ccebba2",
   "metadata": {},
   "outputs": [],
   "source": [
    "#this is how we will do the indexing for the reference trajectory and everything else\n",
    "unstable_sub = [unstable_directions_2[:,1:end] unstable_directions_2[:,1:0]]"
   ]
  },
  {
   "cell_type": "code",
   "execution_count": null,
   "id": "f1bf4091",
   "metadata": {},
   "outputs": [],
   "source": [
    "V_2orbits"
   ]
  },
  {
   "cell_type": "code",
   "execution_count": null,
   "id": "9f4b6a42",
   "metadata": {},
   "outputs": [],
   "source": [
    "#cost to go level set\n",
    "epsilon = 1e-6\n",
    "\n",
    "umax = 0.025"
   ]
  },
  {
   "cell_type": "code",
   "execution_count": null,
   "id": "ad418474",
   "metadata": {},
   "outputs": [],
   "source": [
    "tube_pose_r = 1e-5\n",
    "tube_vel_r = 1e-5"
   ]
  },
  {
   "cell_type": "code",
   "execution_count": null,
   "id": "ebc38e91",
   "metadata": {},
   "outputs": [],
   "source": [
    "x_initial_ref[:,1]"
   ]
  },
  {
   "cell_type": "code",
   "execution_count": null,
   "id": "68943ae3",
   "metadata": {},
   "outputs": [],
   "source": [
    "c_test= unstable_directions[:,1]/tan(pi/6)\n",
    "\n",
    "manifold_constraint_test = norm(x_initial_ref[:,1]) - c_test'*(x_initial_ref[:,1])"
   ]
  },
  {
   "cell_type": "code",
   "execution_count": null,
   "id": "2d4b0c09",
   "metadata": {},
   "outputs": [],
   "source": [
    "dot(x_initial_ref[:,1], unstable_directions[:,1])"
   ]
  },
  {
   "cell_type": "code",
   "execution_count": null,
   "id": "d0bd438d",
   "metadata": {},
   "outputs": [],
   "source": [
    "dot(reference_trajectory[:,1] + x_initial_ref, unstable_directions[:,1])"
   ]
  },
  {
   "cell_type": "code",
   "execution_count": null,
   "id": "fcf73090",
   "metadata": {},
   "outputs": [],
   "source": [
    "test = (reference_trajectory[:,1] + x_initial_ref)/norm(reference_trajectory[:,1] + x_initial_ref)"
   ]
  },
  {
   "cell_type": "code",
   "execution_count": null,
   "id": "74b94a71",
   "metadata": {},
   "outputs": [],
   "source": [
    "dot(test, unstable_directions[:,1])"
   ]
  },
  {
   "cell_type": "code",
   "execution_count": null,
   "id": "46ba34a7",
   "metadata": {},
   "outputs": [],
   "source": [
    "L"
   ]
  },
  {
   "cell_type": "code",
   "execution_count": null,
   "id": "ebd7cbd8",
   "metadata": {},
   "outputs": [],
   "source": [
    "dot(x_initial_ref, unstable_directions[:,1])"
   ]
  },
  {
   "cell_type": "code",
   "execution_count": null,
   "id": "b6120fd5",
   "metadata": {},
   "outputs": [],
   "source": [
    "#formulate the problem at every solve\n",
    "\n",
    "#BUG: should also be sending in the updated cost to go and unstable directions matrices as you go along the orbit\n",
    "\n",
    "#pass in the initial condition, along with jacobians of the current reference trajectory \n",
    "function update_prob(x_initial_k, all_Ad_k, all_Bd_k, P_k, unstable_directions_k)\n",
    "    \n",
    "    #clear the constraints and decision variables every run\n",
    "    #cons = 0\n",
    "    #U = 0\n",
    "    \n",
    "    X = Variable(nx,N_h)\n",
    "        \n",
    "    U = Variable(nu, N_h-1)\n",
    "    \n",
    "    #initial state constraint\n",
    "    cons = Constraint[X[:,1] == x_initial_k]\n",
    "\n",
    "    #state constraints\n",
    "    #Dynamics constraint (for the entire horizon)\n",
    "    \n",
    "    for k=1:(N_h-1)\n",
    "        #these are the dynamics for delta x\n",
    "        \n",
    "        #all_Ad_k will have the 120 jacobians that are associated to the reference trajectory at the moment. \n",
    "        \n",
    "        push!(cons, X[:,k+1] == all_Ad_k[:,:,k]*X[:,k]+all_Bd_k[:,:,k]*U[:,k])\n",
    "    end\n",
    "    \n",
    "    #already propagating the deltas since we are linearizing the dynamics about the reference trajectories\n",
    "    \n",
    "#     for k=1:(N_h-1)        \n",
    "#         #Box constraints on the deviation from the reference trajectory\n",
    "                \n",
    "#         push!(cons, X[1,k] <= xmax)\n",
    "#         push!(cons, X[1,k] >= -xmax)\n",
    "#         push!(cons, X[2,k] <= ymax)\n",
    "#         push!(cons, X[2,k] >= -ymax)\n",
    "#         push!(cons, X[3,k]<= zmax)\n",
    "#         push!(cons, X[3,k] >= -zmax)\n",
    "         \n",
    "#     end\n",
    "    \n",
    "    \n",
    "    #tube constraint\n",
    "    #for k=2:(N_h-1) #this was there before and works\n",
    "    #THIS WORKS\n",
    "    # for k=2:N_h \n",
    "    #    push!(cons, norm(X[1:3,k],2) <= tube_pose_r)\n",
    "    \n",
    "    #    push!(cons, norm(X[4:6,k],2) <= tube_vel_r)\n",
    "         \n",
    "    # end\n",
    "    \n",
    "    \n",
    "    #cost to go constraint (working)\n",
    "    for k=2:N_h\n",
    "        \n",
    "       costtogo = P_k[:,:,k]\n",
    "        \n",
    "       costtogo_hermitian = (costtogo + costtogo')/2\n",
    "        \n",
    "       #relaxing bc of the manifold constraint\n",
    "       ctg_constraint = quadform(X[:,k], costtogo_hermitian) <= epsilon\n",
    "        \n",
    "       push!(cons, ctg_constraint)\n",
    "                \n",
    "    end\n",
    "    \n",
    "    #manifold constraint (useful)\n",
    "    #the delta x needs to be normalized\n",
    "    #exits to the left with the negative sending\n",
    "    #this is what is used. for some reason it is being infeasbile in problem 2\n",
    "   #for k=1:N_h\n",
    "#     for k=2:N_h \n",
    "        \n",
    "#       #this works the best. investigate why \n",
    "#       #manifold goes to the left.  (w no ctg constraint)\n",
    "#       #manifold_constraint = dot(X[:,k], unstable_directions_k[:,k])\n",
    "        \n",
    "#       #push!(cons, manifold_constraint >= 0.5*norm(X[:,k]))\n",
    "        \n",
    "        \n",
    "#       #testing  (working) \n",
    "#       #goes left with positive unstable direction\n",
    "#       manifold_constraint = dot(X[:,k], 1*unstable_directions_k[:,k])\n",
    "        \n",
    "#       #push!(cons, manifold_constraint >= 0.1*norm(X[:,k]))\n",
    "\n",
    "#       #push!(cons, manifold_constraint >= 0)\n",
    "\n",
    "#       #trying out \n",
    "#       push!(cons, manifold_constraint > 0)\n",
    "\n",
    "                \n",
    "        \n",
    "#    end\n",
    "\n",
    "    # for k = 2:N_h\n",
    "            \n",
    "    #         #manifold goes to the right\n",
    "    #         manifold_constraint = dot(X[:,k], unstable_directions_k[:,k])\n",
    "    \n",
    "    #         push!(cons, 1-manifold_constraint >= 0)\n",
    "    #         push!(cons, 1-manifold_constraint < 1)\n",
    "    \n",
    "    # end\n",
    "\n",
    "   #manifold glideslope constraint for the whole unstable direction\n",
    "\n",
    "#    for k=2:N_h\n",
    "#     for k=1:N_h\n",
    "\n",
    "#         #works with pi/5 too\n",
    "#         c = unstable_directions_k[:,k]/tan(pi/6)\n",
    "\n",
    "#         manifold_constraint = norm(X[:,k]) - c'*(X[:,k])\n",
    "\n",
    "#         push!(cons, manifold_constraint <= 0)\n",
    "\n",
    "#    end\n",
    "\n",
    "#just for position\n",
    "   for k=2:N_h\n",
    "        \n",
    "    #works with pi/5 too\n",
    "    c = unstable_directions_k[:,k]/tan(pi/6)\n",
    "    #c = unstable_directions_k[:,k]/tan((pi/2) - deg2rad(60)\n",
    "\n",
    "    manifold_constraint = norm(X[:,k]) - c'*X[:,k]\n",
    "\n",
    "    push!(cons, manifold_constraint <= 0)\n",
    "\n",
    "end\n",
    "\n",
    "    \n",
    "     \n",
    "    #Controls Constraint\n",
    "    \n",
    "    for k=1:(N_h-1)\n",
    "        \n",
    "      push!(cons, norm(U[1:3, k]) <= umax)\n",
    "\n",
    "    end\n",
    "        \n",
    "    #    push!(cons, U[1:3, k]> umin)\n",
    "        \n",
    "        \n",
    "        #not working\n",
    "        #σ = U[4,k]\n",
    "        \n",
    "        #convexified non convex constraint lower bound\n",
    "        #push!(cons, umin <= σ)\n",
    "        \n",
    "        #convexified non convex constraint upper bound\n",
    "        #push!(cons, σ <= umax)\n",
    "        \n",
    "        #convex upper bound on the thrust norm\n",
    "        #push!(cons, norm(U[1:3,k]) <= σ)\n",
    "        \n",
    "        \n",
    "        #upper bound\n",
    "        #push!(cons, norm(U[1:3,k]) <= min(σ, umax))\n",
    "        \n",
    "        \n",
    "    #end\n",
    "    \n",
    "    #print(\"done\")\n",
    "    \n",
    "    return cons, X, U\n",
    "        \n",
    "end"
   ]
  },
  {
   "cell_type": "code",
   "execution_count": null,
   "id": "b84d5329",
   "metadata": {},
   "outputs": [],
   "source": [
    "x_initial_ref"
   ]
  },
  {
   "cell_type": "code",
   "execution_count": null,
   "id": "59c6b206",
   "metadata": {},
   "outputs": [],
   "source": [
    "unstable_directions[:,1]"
   ]
  },
  {
   "cell_type": "code",
   "execution_count": null,
   "id": "351afc04",
   "metadata": {},
   "outputs": [],
   "source": [
    "#create the optimization problem\n",
    "\n",
    "function solve_opt(cons, X, U, N)\n",
    "    \n",
    "    #these are tuning parameters\n",
    "    \n",
    "    #controls how tight you are tracking the reference \n",
    "    #α = 1e3\n",
    "    \n",
    "    #controls how much control effort you want to use (high value = low control)\n",
    "    #β = 1e6\n",
    "    #β = [1e6, 1e6, 1e15]\n",
    "    #β = [1e3, 1e3, 1e3]\n",
    "    #works with 1\n",
    "    #works good with 1e-4 on just tracking and 0 on controls\n",
    "    #β = 0\n",
    "    #α = 1e-5\n",
    "\n",
    "    #testing\n",
    "    β = 1\n",
    "    α = 1\n",
    "\n",
    "    \n",
    "    #β = 1 #some of the revs are slow to solve and solution may be innacurate\n",
    "    \n",
    "    #the cost function (L1 norm on the cost and the tracking error)\n",
    "    obj = 0\n",
    "    \n",
    "    #for k=1:N\n",
    "    #    obj += α*norm(X[:,k], 1)\n",
    "    #end\n",
    "    \n",
    "    \n",
    "    #for a lyaponov orbit we want to stay in the x y plane, so we penalize z maneuvers heavily while \n",
    "    #allowing for x and y\n",
    "    \n",
    "    for k=1:N-1\n",
    "        \n",
    "       #obj += β[1]*abs(U[1,k])+β[2]*abs(U[2,k]) +β[3]*abs(U[3,k])  \n",
    "        \n",
    "       #obj += β*norm(U[:,k], 1)\n",
    "        \n",
    "        #use L2 norm\n",
    "        \n",
    "        #^2 doesn't work in Convex.jl. have to use quadform \n",
    "        #obj += β*(norm(U[:,k]))^2 + α*(norm(X[:,k]))^2\n",
    "\n",
    "        #obj = (norm(X[:,k]))^2\n",
    "\n",
    "        \n",
    "        #Px = 1.0*Matrix(I,6,6)\n",
    "\n",
    "        #Pu = 1.0*Matrix(I,3,3)  \n",
    "        #this gives the expected behavior with the manifolds but it does not minimize for cost\n",
    "        #obj += quadform(X[:,k], Px; assume_psd=false)\n",
    "\n",
    "        #obj += quadform(U[:,k], Pu; assume_psd=false)\n",
    "        \n",
    "        #this cost function works good, but gives continous thrust \n",
    "        #obj += quadform(U[:,k], Pu; assume_psd=false) + quadform(X[:,k], Px; assume_psd=false)\n",
    "        #obj += β*norm(U[:,k], 1) + α*norm(X[:,k], 1)\n",
    "        obj += norm(U[:,k], 1)\n",
    "        #obj += norm(X[:,k], 2) \n",
    "        \n",
    "    end\n",
    "            \n",
    "    \n",
    "    prob = minimize(obj, cons);\n",
    "    \n",
    "    #this objective function is working\n",
    "    #prob = minimize(norm(X[:,end]), cons);\n",
    "    \n",
    "    #this works too\n",
    "    #prob = minimize(quadform(X[:,end], Q), cons)\n",
    "    \n",
    "    #print(\"mosek solving\")\n",
    "    #solve the problem with Mosek\n",
    "    Convex.solve!(prob, ()-> Mosek.Optimizer(), silent_solver=true);\n",
    "    \n",
    "    #solve the problem with ECOS\n",
    "    #Convex.solve!(prob, ()-> ECOS.Optimizer(), silent_solver=false);\n",
    "    \n",
    "    Xm = X.value;\n",
    "    Um = U.value;\n",
    "\n",
    "    display(prob.status)\n",
    "    \n",
    "    return Xm, Um\n",
    "    \n",
    "end"
   ]
  },
  {
   "cell_type": "code",
   "execution_count": null,
   "id": "54101f71",
   "metadata": {},
   "outputs": [],
   "source": [
    "#Q = Matrix(I,6,6).*[1e7*ones(3); 1e7*ones(3)]\n",
    "\n",
    "#the manifold constraint is the one that is not being satisfied. I think it has to do with numerical conditioning as the values are very small\n"
   ]
  },
  {
   "cell_type": "code",
   "execution_count": null,
   "id": "be13d1dc",
   "metadata": {},
   "outputs": [],
   "source": [
    "x_initial_ref"
   ]
  },
  {
   "cell_type": "code",
   "execution_count": null,
   "id": "8480a35c",
   "metadata": {},
   "outputs": [],
   "source": [
    "reference_trajectory[:,1] - reference_trajectory[:,end]"
   ]
  },
  {
   "cell_type": "code",
   "execution_count": null,
   "id": "952dbf42",
   "metadata": {},
   "outputs": [],
   "source": [
    "plot(reference_trajectory[1,:], reference_trajectory[2,:], reference_trajectory[3,:])\n",
    "\n",
    "scatter!([reference_trajectory[1,1]], [reference_trajectory[2,1]], [reference_trajectory[3,1]])\n",
    "\n",
    "scatter!([reference_trajectory[1,end]], [reference_trajectory[2,end]], [reference_trajectory[3,end]])\n",
    "\n",
    "scatter!([reference_trajectory[1,21]], [reference_trajectory[2,21]], [reference_trajectory[3,21]])\n",
    "\n",
    "\n",
    "#plot(reference_trajectory[1,:], reference_trajectory[2,:], reference_trajectory[3,:])"
   ]
  },
  {
   "cell_type": "code",
   "execution_count": null,
   "id": "3e678736",
   "metadata": {},
   "outputs": [],
   "source": [
    "x_initial_ref"
   ]
  },
  {
   "cell_type": "code",
   "execution_count": null,
   "id": "3f2e1e65",
   "metadata": {},
   "outputs": [],
   "source": [
    "#reference_traj_1 = [reference_trajectory reference_trajectory]"
   ]
  },
  {
   "cell_type": "code",
   "execution_count": null,
   "id": "25437761",
   "metadata": {},
   "outputs": [],
   "source": [
    "#just test to see if it solves\n",
    "\n",
    "all_Ad_1 = cat(all_Ad, all_Ad, dims=3)\n",
    "all_Bd_1 = cat(all_Bd, all_Bd, dims=3)\n",
    "\n",
    "#there was nothing in place for all_Ad_1, maybe a bug? \n",
    "display(\"updating prob\")\n",
    "cons, X, U = update_prob(x_initial_ref, all_Ad_1, all_Bd_1, V_2orbits, unstable_directions_2)\n",
    "display(\"solving\")\n",
    "display(X)\n",
    "Xm, Um = solve_opt(cons, X, U, N_h)"
   ]
  },
  {
   "cell_type": "code",
   "execution_count": null,
   "id": "9be623ad",
   "metadata": {},
   "outputs": [],
   "source": [
    "x_initial_ref"
   ]
  },
  {
   "cell_type": "code",
   "execution_count": null,
   "id": "3cacad20",
   "metadata": {},
   "outputs": [],
   "source": [
    "dot(Xm[:,2], unstable_directions[:,2])"
   ]
  },
  {
   "cell_type": "code",
   "execution_count": null,
   "id": "b4948aa2",
   "metadata": {},
   "outputs": [],
   "source": [
    "x2 = integrate_1dt(reference_trajectory[:,1]+ x_initial_ref, Um[:,1])"
   ]
  },
  {
   "cell_type": "code",
   "execution_count": null,
   "id": "2d686b18",
   "metadata": {},
   "outputs": [],
   "source": [
    "delta_x2 = x2 - reference_trajectory[:,2]"
   ]
  },
  {
   "cell_type": "code",
   "execution_count": null,
   "id": "abd42e0b",
   "metadata": {},
   "outputs": [],
   "source": [
    "Xm[:,2]"
   ]
  },
  {
   "cell_type": "code",
   "execution_count": null,
   "id": "bcd073a5",
   "metadata": {},
   "outputs": [],
   "source": [
    "5.4050261613382056e-11*L*1e3"
   ]
  },
  {
   "cell_type": "code",
   "execution_count": null,
   "id": "cf6f90dc",
   "metadata": {},
   "outputs": [],
   "source": [
    "dot(delta_x2, unstable_directions[:,2])"
   ]
  },
  {
   "cell_type": "code",
   "execution_count": null,
   "id": "23c1e252",
   "metadata": {},
   "outputs": [],
   "source": [
    "#normalized_xm2 = Xm[:,2]/norm(Xm[:,2])\n",
    "#dot(unstable_directions[:,2], normalized_xm2)"
   ]
  },
  {
   "cell_type": "code",
   "execution_count": null,
   "id": "b06844c7",
   "metadata": {},
   "outputs": [],
   "source": []
  },
  {
   "cell_type": "code",
   "execution_count": null,
   "id": "a9d1766e",
   "metadata": {},
   "outputs": [],
   "source": [
    "#check the constraint\n",
    "\n",
    "#this is because the constraint is from 2:Nh\n",
    "constraint_satisfied = zeros(N_h)\n",
    "\n",
    "for i=1:N_h\n",
    "    constraint_satisfied[i] = dot(Xm[1:3,i], unstable_directions_2[1:3,i])\n",
    "end\n",
    "\n",
    "#constraint is not being satisfied... has to do with the cost function. whenever I have a\n",
    "#tracking cost with a weight of 1e-2 and a control cost with scale 1, it doesn't work. However, \n",
    "#when I remove the cost on the controls and make the weight less on the tracking (1e-5) it works (up to the last point)\n",
    "\n",
    "#with just a tracking cost with a weight of 1e-2 it doesn't satisfy the constraint fully"
   ]
  },
  {
   "cell_type": "code",
   "execution_count": null,
   "id": "9c4aff15",
   "metadata": {},
   "outputs": [],
   "source": [
    "constraint_satisfied[1]"
   ]
  },
  {
   "cell_type": "code",
   "execution_count": null,
   "id": "20d6a537",
   "metadata": {},
   "outputs": [],
   "source": [
    "constraint_satisfied[15]"
   ]
  },
  {
   "cell_type": "code",
   "execution_count": null,
   "id": "174c8e7f",
   "metadata": {},
   "outputs": [],
   "source": [
    "Xm[:,18]/norm(Xm[:,18])"
   ]
  },
  {
   "cell_type": "code",
   "execution_count": null,
   "id": "310c5724",
   "metadata": {},
   "outputs": [],
   "source": [
    "unstable_directions[:,18]"
   ]
  },
  {
   "cell_type": "code",
   "execution_count": null,
   "id": "f89ea4a5",
   "metadata": {},
   "outputs": [],
   "source": [
    "constraint_bool = constraint_satisfied .> 0\n",
    "\n",
    "plot(constraint_bool)"
   ]
  },
  {
   "cell_type": "code",
   "execution_count": null,
   "id": "7133c72a",
   "metadata": {},
   "outputs": [],
   "source": [
    "#for one period 40 controls\n",
    "xtraj_test = integrate_oneperiod(Xm[:,1] + reference_trajectory[:,1], Um[:,1:40])"
   ]
  },
  {
   "cell_type": "code",
   "execution_count": null,
   "id": "724783f7",
   "metadata": {},
   "outputs": [],
   "source": [
    "test2 = xtraj_test - reference_trajectory"
   ]
  },
  {
   "cell_type": "code",
   "execution_count": null,
   "id": "89266e20",
   "metadata": {},
   "outputs": [],
   "source": [
    "constraint_satisfied_test2 = zeros(41)\n",
    "\n",
    "for i=1:41\n",
    "    constraint_satisfied_test2[i] = dot(test2[1:3,i], unstable_directions_2[1:3,i])\n",
    "end"
   ]
  },
  {
   "cell_type": "code",
   "execution_count": null,
   "id": "e5795cb8",
   "metadata": {},
   "outputs": [],
   "source": [
    "#plot(constraint_satisfied_test2)"
   ]
  },
  {
   "cell_type": "code",
   "execution_count": null,
   "id": "4b9faea0",
   "metadata": {},
   "outputs": [],
   "source": [
    "Xm[:,41]/norm(Xm[:,41])"
   ]
  },
  {
   "cell_type": "code",
   "execution_count": null,
   "id": "ef3787a1",
   "metadata": {},
   "outputs": [],
   "source": [
    "unstable_directions[:,end]"
   ]
  },
  {
   "cell_type": "code",
   "execution_count": null,
   "id": "20d9a255",
   "metadata": {},
   "outputs": [],
   "source": [
    "dot(Xm[:,41], unstable_directions[:,end])"
   ]
  },
  {
   "cell_type": "code",
   "execution_count": null,
   "id": "805b3a2f",
   "metadata": {},
   "outputs": [],
   "source": [
    "plot(xtraj_test[1,:], xtraj_test[2,:], xtraj_test[3,:])"
   ]
  },
  {
   "cell_type": "code",
   "execution_count": null,
   "id": "ec993051",
   "metadata": {},
   "outputs": [],
   "source": [
    "final = Xm + [reference_trajectory reference_trajectory]"
   ]
  },
  {
   "cell_type": "code",
   "execution_count": null,
   "id": "ba9cb083",
   "metadata": {},
   "outputs": [],
   "source": [
    "#test out the integration function\n",
    "#xtraj_test = integrate_oneperiod(final[:,1], Um[:,1:39])"
   ]
  },
  {
   "cell_type": "code",
   "execution_count": null,
   "id": "03e2162d",
   "metadata": {},
   "outputs": [],
   "source": [
    "#plot(xtraj_test[1,:], xtraj_test[2,:], xtraj_test[3,:])"
   ]
  },
  {
   "cell_type": "code",
   "execution_count": null,
   "id": "fcdd70df",
   "metadata": {},
   "outputs": [],
   "source": [
    "plot(Um[1,:])"
   ]
  },
  {
   "cell_type": "code",
   "execution_count": null,
   "id": "60018ab6",
   "metadata": {},
   "outputs": [],
   "source": [
    "plot(Um[2,:])"
   ]
  },
  {
   "cell_type": "code",
   "execution_count": null,
   "id": "2565f2bb",
   "metadata": {},
   "outputs": [],
   "source": [
    "plot(Um[3,:])"
   ]
  },
  {
   "cell_type": "code",
   "execution_count": null,
   "id": "b13d275f",
   "metadata": {},
   "outputs": [],
   "source": [
    "Xm[:,21]"
   ]
  },
  {
   "cell_type": "code",
   "execution_count": null,
   "id": "96610abb",
   "metadata": {},
   "outputs": [],
   "source": [
    "final"
   ]
  },
  {
   "cell_type": "code",
   "execution_count": null,
   "id": "fff09c50",
   "metadata": {},
   "outputs": [],
   "source": [
    "N_h"
   ]
  },
  {
   "cell_type": "code",
   "execution_count": null,
   "id": "cbdc5506",
   "metadata": {},
   "outputs": [],
   "source": [
    "#check out the 1 period solve\n",
    "\n",
    "#the x trajectory is generated using the linear dynamics\n",
    "plot(final[1,1:41], final[2,1:41], final[3,1:41])\n",
    "#scatter!([final[1,1]], [final[2,1]], [final[3,1]])"
   ]
  },
  {
   "cell_type": "code",
   "execution_count": null,
   "id": "43d19476",
   "metadata": {},
   "outputs": [],
   "source": [
    "1e-5*V"
   ]
  },
  {
   "cell_type": "code",
   "execution_count": null,
   "id": "c852797b",
   "metadata": {},
   "outputs": [],
   "source": [
    "norm(final[:,1] - final[:,40])"
   ]
  },
  {
   "cell_type": "code",
   "execution_count": null,
   "id": "f8bf2cc5",
   "metadata": {},
   "outputs": [],
   "source": [
    "#this initial condition is working\n",
    "#x_initial_ref = [1e-4, 0, 0, 0, 1e-4, 0]\n",
    "\n",
    "#x_initial_ref = [1e-6, 0, 0, 0, 1e-6, 0]\n",
    "\n",
    "\n",
    "#x_initial_ref = [1e-3, 0, 0, 0, 1e-3, 0]"
   ]
  },
  {
   "cell_type": "markdown",
   "id": "261bcc46",
   "metadata": {},
   "source": []
  },
  {
   "cell_type": "code",
   "execution_count": null,
   "id": "e5bdea3a",
   "metadata": {},
   "outputs": [],
   "source": [
    "xposedeviation = x_initial_ref[1] * L*1e3 #in meters\n",
    "\n",
    "vyposedeviation = x_initial_ref[5]*V_*1e3 #in m/s\n",
    "\n",
    "display(xposedeviation)\n",
    "display(vyposedeviation)"
   ]
  },
  {
   "cell_type": "code",
   "execution_count": null,
   "id": "7da47ec8",
   "metadata": {},
   "outputs": [],
   "source": [
    "#this is one set of jacobians. if starting from beginning \n",
    "\n",
    "#all_Ad_1 = cat(all_Ad, all_Ad, dims=3)\n",
    "#all_Bd_1 = cat(all_Bd, all_Bd, dims=3)"
   ]
  },
  {
   "cell_type": "code",
   "execution_count": null,
   "id": "a05433e5",
   "metadata": {},
   "outputs": [],
   "source": [
    "all_Ad[:,:,21:end]"
   ]
  },
  {
   "cell_type": "code",
   "execution_count": null,
   "id": "0749163e",
   "metadata": {},
   "outputs": [],
   "source": [
    "#all_Ad[:,:,41:end]"
   ]
  },
  {
   "cell_type": "code",
   "execution_count": null,
   "id": "c47e7a6f",
   "metadata": {},
   "outputs": [],
   "source": [
    "#Ad_k = cat(all_Ad[:,:,2:end],all_Ad[:,:,1:(2-1)], dims=3)"
   ]
  },
  {
   "cell_type": "code",
   "execution_count": null,
   "id": "bd10b3ba",
   "metadata": {},
   "outputs": [],
   "source": [
    "#another set of jacobians if starting from half\n",
    "\n",
    "# all_Ad_half = cat(all_Ad[:,:,21:end], all_Ad[:,:,1:20], dims=3)\n",
    "# all_Bd_half = cat(all_Bd[:,:,21:end], all_Bd[:,:,1:20], dims=3)\n",
    "\n",
    "# all_Ad_2 = cat(all_Ad_half, all_Ad_half, dims=3)\n",
    "# all_Bd_2 = cat(all_Bd_half, all_Bd_half, dims=3)\n",
    "\n",
    "#All Ad1 is if you start from the beginning (2 orbits worth of jacobians) and all_Ad_2 is if you start from the half (2 orbits worth of jacobians).\n",
    "#need to also have two sets of cost to go and unstable direction matrices that we pass in in the update_prob function "
   ]
  },
  {
   "cell_type": "code",
   "execution_count": null,
   "id": "a2954692",
   "metadata": {},
   "outputs": [],
   "source": [
    "# unstable_directions_half = cat(unstable_directions[:,21:end], unstable_directions[:,1:20], dims=2)\n",
    "# V_half = cat(P[:,:,21:end], P[:,:,1:20], dims=3)\n",
    "\n",
    "# #unstable directions if you start from the beginning\n",
    "# unstable_directions_2_1 = unstable_directions_2\n",
    "# #this is the unstable direction if you start at the half\n",
    "# unstable_directions_2_2 = cat(unstable_directions_half, unstable_directions_half, dims=2)\n",
    "\n",
    "\n",
    "# #cost to go if you start from the beginning\n",
    "# V_2orbits_1 = V_2orbits\n",
    "\n",
    "# #cost to go in you start at the half\n",
    "# V_2orbits_2 = cat(V_half, V_half, dims=3)"
   ]
  },
  {
   "cell_type": "code",
   "execution_count": null,
   "id": "25672ec4",
   "metadata": {},
   "outputs": [],
   "source": [
    "V"
   ]
  },
  {
   "cell_type": "code",
   "execution_count": null,
   "id": "933bf91e",
   "metadata": {},
   "outputs": [],
   "source": [
    "cat(all_Ad[:,:,2:end],all_Ad[:,:,1:(2-1)], dims=3)"
   ]
  },
  {
   "cell_type": "code",
   "execution_count": null,
   "id": "fababd8b",
   "metadata": {},
   "outputs": [],
   "source": [
    "all_Δx = zeros(6, 4100)\n",
    "all_x = zeros(6, 4100)"
   ]
  },
  {
   "cell_type": "code",
   "execution_count": null,
   "id": "3a925b8b",
   "metadata": {},
   "outputs": [],
   "source": [
    "x_initial_ref = [1e-9, 0, 0, 0, 1e-9, 0]"
   ]
  },
  {
   "cell_type": "code",
   "execution_count": null,
   "id": "a253cd41",
   "metadata": {},
   "outputs": [],
   "source": [
    "#pseudo code\n",
    "#TODO: run only one timestep instead of a whole half timestep\n",
    "\n",
    "#number of orbits you want to plan go for\n",
    "orbit_num = 100\n",
    " \n",
    "count = 1\n",
    "\n",
    "all_Δx[:,count] = x_initial_ref\n",
    "all_x[:,count] = x_initial_ref + reference_trajectory[:,1]\n",
    "\n",
    "for i=1:orbit_num\n",
    "\n",
    "    for k=1:40\n",
    "\n",
    "        #get the appropriate jacobians for the reference trajectory\n",
    "\n",
    "        #both are size 41\n",
    "        all_Ad_41 = cat(all_Ad[:,:,k:end],all_Ad[:,:,1:(k-1)], dims=3)\n",
    "        all_Bd_41 = cat(all_Bd[:,:,k:end],all_Bd[:,:,1:(k-1)], dims=3)\n",
    "        unstable_directions_41 = [unstable_directions[:,k:end] unstable_directions[:,1:(k-1)]]\n",
    "        Pk_41 = cat(V[:,:,k:end],V[:,:,1:(k-1)], dims=3)\n",
    "\n",
    "        all_Ad_2horizons = cat(all_Ad_41, all_Ad_41, dims=3)\n",
    "        all_Bd_2horizons = cat(all_Bd_41, all_Bd_41, dims=3)\n",
    "        unstable_directions_2horizons = [unstable_directions_41 unstable_directions_41]\n",
    "        P_2horizons = cat(Pk_41, Pk_41, dims=3)\n",
    "        \n",
    "        cons, X, U = update_prob(x_initial_ref, all_Ad_2horizons, all_Bd_2horizons, P_2horizons, unstable_directions_2horizons)\n",
    "\n",
    "        Xm, Um = solve_opt(cons, X, U, N_h)\n",
    "\n",
    "        #only taking one step forward\n",
    "        optimal_u = Um[:,1]\n",
    "\n",
    "        x_next = integrate_1dt(reference_trajectory[:,k]+x_initial_ref, optimal_u)\n",
    "\n",
    "        count += 1\n",
    "\n",
    "        all_x[:,count] = x_next\n",
    "        all_Δx[:,count] = x_next - reference_trajectory[:,k+1]\n",
    "        x_initial_ref = x_next - reference_trajectory[:,k+1]\n",
    "\n",
    "        println(\"solved\")\n",
    "\n",
    "    end\n",
    "\n",
    "end"
   ]
  },
  {
   "cell_type": "code",
   "execution_count": null,
   "id": "e87f182c",
   "metadata": {},
   "outputs": [],
   "source": [
    "all_x[1:41]"
   ]
  },
  {
   "cell_type": "code",
   "execution_count": null,
   "id": "9d406dc5",
   "metadata": {},
   "outputs": [],
   "source": [
    "#check the constraint\n",
    "constraint_check = zeros(41)\n",
    "for i=1:41\n",
    "    constraint_check[i] = dot(all_Δx[:,i], unstable_directions[:,i])\n",
    "end\n"
   ]
  },
  {
   "cell_type": "code",
   "execution_count": null,
   "id": "d7830670",
   "metadata": {},
   "outputs": [],
   "source": [
    "plot(constraint_check.>=0)"
   ]
  },
  {
   "cell_type": "code",
   "execution_count": null,
   "id": "3408b6bf",
   "metadata": {},
   "outputs": [],
   "source": [
    "all_x[:,401]"
   ]
  },
  {
   "cell_type": "code",
   "execution_count": null,
   "id": "4c9cf7d3",
   "metadata": {},
   "outputs": [],
   "source": [
    "plot(all_x[1,1:4000], all_x[2,1:4000], all_x[3,1:4000])"
   ]
  },
  {
   "cell_type": "code",
   "execution_count": null,
   "id": "ba2f640a",
   "metadata": {},
   "outputs": [],
   "source": [
    "# rev1 = all_optimal_x[:,:,1]\n",
    "# rev2 = all_optimal_x[:,:,2]\n",
    "# rev3 = all_optimal_x[:,:,3]\n",
    "# rev4 = all_optimal_x[:,:,4]\n",
    "# rev5 = all_optimal_x[:,:,5]\n",
    "# rev20 = all_optimal_x[:,:,20]\n",
    "\n",
    "# rev59 = all_optimal_x[:,:,59]\n",
    "# rev60 = all_optimal_x[:,:,60]\n",
    "# #rev25 = all_optimal_x[:,:,25]"
   ]
  },
  {
   "cell_type": "code",
   "execution_count": null,
   "id": "61ab0a5a",
   "metadata": {},
   "outputs": [],
   "source": [
    "# plot(rev1[1,:], rev1[2,:], rev1[3,:], lw=5)\n",
    "# #scatter!([rev1[1,1]],[rev1[2,1]],[rev1[3,1]], lw=5)\n",
    "# plot!(rev2[1,:], rev2[2,:], rev2[3,:], lw=5)\n",
    "# plot(rev3[1,:], rev3[2,:], rev3[3,:], lw=5)\n",
    "# #plot(rev4[1,:], rev4[2,:], rev4[3,:], lw=5)\n",
    "# #plot(rev5[1,:], rev5[2,:], rev5[3,:], lw=5)\n",
    "# #plot!(rev59[1,:], rev59[2,:], rev59[3,:], lw=5)\n",
    "# #plot!(rev60[1,:], rev60[2,:], rev60[3,:], lw=5)\n",
    "\n",
    "# plot!(reference_trajectory[1,:], reference_trajectory[2,:], reference_trajectory[3,:], label=\"reference trajectory\")\n",
    "\n",
    "# #scatter!([reference_trajectory[1,1]], [reference_trajectory[2,1]], [reference_trajectory[3,1]])"
   ]
  },
  {
   "cell_type": "markdown",
   "id": "fa1264f4",
   "metadata": {},
   "source": []
  },
  {
   "cell_type": "code",
   "execution_count": null,
   "id": "5b952687",
   "metadata": {},
   "outputs": [],
   "source": [
    "1e-3*L"
   ]
  },
  {
   "cell_type": "code",
   "execution_count": null,
   "id": "12090570",
   "metadata": {},
   "outputs": [],
   "source": [
    "all_optimal_x_formatted = zeros(6, N_period, orbit_num)\n",
    "all_optimal_Δx_formatted = zeros(6, N_period, orbit_num)"
   ]
  },
  {
   "cell_type": "code",
   "execution_count": null,
   "id": "a733c8cb",
   "metadata": {},
   "outputs": [],
   "source": [
    "#have orbit_num trajectories of N knot points\n",
    "\n",
    "# for i=1:orbit_num\n",
    "    \n",
    "#     all_optimal_x_formatted[:,1:21,i] = all_optimal_x[:,:,(2*i-1)]\n",
    "    \n",
    "#     #2:end is used to not repeat the same element twice\n",
    "#     all_optimal_x_formatted[:,22:end,i] = all_optimal_x[:,2:end,(2*i)]\n",
    "    \n",
    "    \n",
    "#     all_optimal_Δx_formatted[:,1:21,i] = all_optimal_Δx[:,:,(2*i-1)]\n",
    "    \n",
    "#     all_optimal_Δx_formatted[:,22:end,i] = all_optimal_Δx[:,2:end,(2*i)]\n",
    "    \n",
    "# end"
   ]
  },
  {
   "cell_type": "code",
   "execution_count": null,
   "id": "6a3f1aaf",
   "metadata": {},
   "outputs": [],
   "source": [
    "all_optimal_x"
   ]
  },
  {
   "cell_type": "code",
   "execution_count": null,
   "id": "e7fa513f",
   "metadata": {},
   "outputs": [],
   "source": [
    "all_optimal_x_formatted"
   ]
  },
  {
   "cell_type": "code",
   "execution_count": null,
   "id": "39956e00",
   "metadata": {},
   "outputs": [],
   "source": [
    "all_xtraj = reshape(all_optimal_x_formatted, (6, N_period*orbit_num))\n",
    "\n",
    "all_Δxtraj = reshape(all_optimal_Δx_formatted, (6, N_period*orbit_num))\n",
    "#all_xtraj = reshape(all_optimal_x, (6, 210))"
   ]
  },
  {
   "cell_type": "code",
   "execution_count": null,
   "id": "3462e078",
   "metadata": {},
   "outputs": [],
   "source": [
    "plot(all_Δxtraj[1,4000:4100])\n",
    "plot!(all_Δxtraj[2,4000:4100])\n",
    "plot!(all_Δxtraj[3,4000:4100])"
   ]
  },
  {
   "cell_type": "code",
   "execution_count": null,
   "id": "a6f3bef7",
   "metadata": {},
   "outputs": [],
   "source": [
    "constraint_check = zeros(4100)"
   ]
  },
  {
   "cell_type": "code",
   "execution_count": null,
   "id": "1237823c",
   "metadata": {},
   "outputs": [],
   "source": [
    "#check the constraint...\n",
    "for k=1:100\n",
    "    for i=1:41\n",
    "\n",
    "        constraint_check[41*(k-1)+i] = dot(unstable_directions[:,i], all_Δxtraj[:, 41*(k-1)+i]) > 0 \n",
    "\n",
    "    end\n",
    "end"
   ]
  },
  {
   "cell_type": "code",
   "execution_count": null,
   "id": "453ea792",
   "metadata": {},
   "outputs": [],
   "source": [
    "plot(constraint_check[4000:4100])"
   ]
  },
  {
   "cell_type": "code",
   "execution_count": null,
   "id": "f48fe97f",
   "metadata": {},
   "outputs": [],
   "source": [
    "for i=1:100\n",
    "    deltaxsub = all_Δxtraj[41*(i-1)+1:41*i]\n",
    "\n",
    "    for i=1:41\n",
    "        plot(deltaxsub[1,:], deltaxsub[2,:], deltaxsub[3,:], lw=5)\n",
    "    end\n",
    "end"
   ]
  },
  {
   "cell_type": "code",
   "execution_count": null,
   "id": "83c50080",
   "metadata": {},
   "outputs": [],
   "source": [
    "all_optimal_u"
   ]
  },
  {
   "cell_type": "code",
   "execution_count": null,
   "id": "d4f46359",
   "metadata": {},
   "outputs": [],
   "source": [
    "all_utraj = reshape(all_optimal_u, (3, (N_period-1)*orbit_num))"
   ]
  },
  {
   "cell_type": "code",
   "execution_count": null,
   "id": "2baab56e",
   "metadata": {},
   "outputs": [],
   "source": [
    "all_utraj"
   ]
  },
  {
   "cell_type": "code",
   "execution_count": null,
   "id": "c663b1de",
   "metadata": {},
   "outputs": [],
   "source": [
    "plot(all_utraj[1,:])"
   ]
  },
  {
   "cell_type": "code",
   "execution_count": null,
   "id": "a9b7b702",
   "metadata": {},
   "outputs": [],
   "source": [
    "plot(all_utraj[2,:])"
   ]
  },
  {
   "cell_type": "code",
   "execution_count": null,
   "id": "12e45df7",
   "metadata": {},
   "outputs": [],
   "source": [
    "plot(all_utraj[3,:])"
   ]
  },
  {
   "cell_type": "code",
   "execution_count": null,
   "id": "51473d12",
   "metadata": {},
   "outputs": [],
   "source": [
    "#this is for 10 orbits\n",
    "plot(all_utraj[1,1:400])"
   ]
  },
  {
   "cell_type": "code",
   "execution_count": null,
   "id": "74290a7a",
   "metadata": {},
   "outputs": [],
   "source": [
    "plot(all_utraj[2,1:400])"
   ]
  },
  {
   "cell_type": "code",
   "execution_count": null,
   "id": "cf1f6826",
   "metadata": {},
   "outputs": [],
   "source": [
    "plot(all_utraj[3,1:400])"
   ]
  },
  {
   "cell_type": "code",
   "execution_count": null,
   "id": "d5642b91",
   "metadata": {},
   "outputs": [],
   "source": [
    "size(all_utraj)"
   ]
  },
  {
   "cell_type": "code",
   "execution_count": null,
   "id": "cb536439",
   "metadata": {},
   "outputs": [],
   "source": [
    "one_orbit = all_utraj[:,1:40]"
   ]
  },
  {
   "cell_type": "code",
   "execution_count": null,
   "id": "c35bd185",
   "metadata": {},
   "outputs": [],
   "source": [
    "#the beginning thrust is to get it back on track since the initialization is off by 1e-3\n",
    "\n",
    "plot(one_orbit[1,:], label=\"x thrust\", linewidth=4)\n",
    "\n",
    "plot!(one_orbit[2,:], label=\"y thrust\", linewidth=4)\n",
    "\n",
    "plot!(one_orbit[3,:], label=\"z thrust\", linewidth=4)"
   ]
  },
  {
   "cell_type": "code",
   "execution_count": null,
   "id": "7a0e1581",
   "metadata": {},
   "outputs": [],
   "source": [
    "#once we are at the orbit this is what it looks like\n",
    "last_orbit = all_utraj[:,3961:end]"
   ]
  },
  {
   "cell_type": "code",
   "execution_count": null,
   "id": "0c0dc8a2",
   "metadata": {},
   "outputs": [],
   "source": [
    "plot(last_orbit[1,:], label=\"x thrust\", linewidth=4)\n",
    "\n",
    "plot!(last_orbit[2,:], label=\"y thrust\", linewidth=4)\n",
    "\n",
    "plot!(last_orbit[3,:], label=\"z thrust\", linewidth=4)"
   ]
  },
  {
   "cell_type": "code",
   "execution_count": null,
   "id": "1de711d0",
   "metadata": {},
   "outputs": [],
   "source": [
    "all_xtraj"
   ]
  },
  {
   "cell_type": "code",
   "execution_count": null,
   "id": "1db4bc53",
   "metadata": {},
   "outputs": [],
   "source": [
    "#plot the 100 orbits\n",
    "\n",
    "plot(all_xtraj[1,:], all_xtraj[2,:], all_xtraj[3,:], label=\"MPC Trajectory\", title=\"MPC Trajectory\")\n",
    "\n",
    "scatter!([all_xtraj[1,1]], [all_xtraj[2,1]], [all_xtraj[3,1]], label=\"Start\")\n",
    "\n",
    "plot!(reference_trajectory[1,:], reference_trajectory[2,:], reference_trajectory[3,:], label = \"Reference Trajectory\")"
   ]
  },
  {
   "cell_type": "code",
   "execution_count": null,
   "id": "ad8f41a3",
   "metadata": {},
   "outputs": [],
   "source": [
    "iter = 40\n",
    "\n",
    "plot(all_xtraj[1,1:iter], all_xtraj[2,1:iter], all_xtraj[3,1:iter], label=\"MPC Trajectory\", title=\"MPC Trajectory\")\n",
    "scatter!([all_xtraj[1,1]], [all_xtraj[2,1]], [all_xtraj[3,1]], label=\"Start\")\n",
    "scatter!([all_xtraj[1,iter]], [all_xtraj[2,iter]], [all_xtraj[3,iter]], label=\"End\")\n",
    "plot!(reference_trajectory[1,1:iter], reference_trajectory[2,1:iter], reference_trajectory[3,1:iter], label = \"Reference Trajectory\")\n",
    "scatter!([reference_trajectory[1,1]], [reference_trajectory[2,1]], [reference_trajectory[3,1]], label=\"Start\")\n",
    "scatter!([reference_trajectory[1,iter]], [reference_trajectory[2,iter]], [reference_trajectory[3,iter]], label=\"End\")\n"
   ]
  },
  {
   "cell_type": "code",
   "execution_count": null,
   "id": "0b731fc3",
   "metadata": {},
   "outputs": [],
   "source": [
    "#plot the final orbit\n",
    "size(all_xtraj)"
   ]
  },
  {
   "cell_type": "code",
   "execution_count": null,
   "id": "5b600fc2",
   "metadata": {},
   "outputs": [],
   "source": [
    "#i = 50\n",
    "#plot(all_xtraj[1,40*(i-1)+1:40*i], all_xtraj[2,40*(i-1)+1:40*i], all_xtraj[3,40*(i-1)+1:40*i], label=\"MPC Trajectory\", title=\"MPC Trajectory\",lw=3)\n",
    "\n",
    "\n",
    "#plot!(all_xtraj[1,41:80], all_xtraj[2,41:80], all_xtraj[3,41:80], label=\"MPC Trajectory\", title=\"MPC Trajectory\",lw=3)\n",
    "#plot!(all_xtraj[1,81:120], all_xtraj[2,81:120], all_xtraj[3,81:120], label=\"MPC Trajectory\", title=\"MPC Trajectory\",lw=3)\n",
    "\n",
    "\n",
    "\n",
    "#plot!(reference_trajectory[1,:], reference_trajectory[2,:], reference_trajectory[3,:], lw=3)\n",
    "\n",
    "\n",
    "#plot(all_xtraj[1,41:80], all_xtraj[2,41:80], all_xtraj[3,41:80], label=\"MPC Trajectory\", title=\"MPC Trajectory\", lw=3)\n",
    "#plot(all_xtraj[1,81:end], all_xtraj[2,81:end], all_xtraj[3,81:end], label=\"MPC Trajectory\", title=\"MPC Trajectory\", lw=3)\n",
    "\n",
    "#scatter!([all_xtraj[1,1]],[all_xtraj[2,1]], [all_xtraj[3,1]], label=\"1\")\n",
    "\n",
    "#scatter!([all_xtraj[1,40]],[all_xtraj[2,40]], [all_xtraj[3,40]], label=\"40\")\n",
    "\n",
    "#scatter!([all_xtraj[1,41]],[all_xtraj[2,41]], [all_xtraj[3,41]], label=\"41\")\n",
    "\n",
    "#scatter!([all_xtraj[1,81]],[all_xtraj[2,81]], [all_xtraj[3,81]], label=\"80\")"
   ]
  },
  {
   "cell_type": "code",
   "execution_count": null,
   "id": "b9892876",
   "metadata": {},
   "outputs": [],
   "source": [
    "#plot(optimal_u[1,:].*acceleration_scale)"
   ]
  },
  {
   "cell_type": "code",
   "execution_count": null,
   "id": "6bd10ae4",
   "metadata": {},
   "outputs": [],
   "source": [
    "#plot(optimal_u[2,:])"
   ]
  },
  {
   "cell_type": "code",
   "execution_count": null,
   "id": "a7b7fd72",
   "metadata": {},
   "outputs": [],
   "source": [
    "#plot(optimal_u[3,:])"
   ]
  },
  {
   "cell_type": "code",
   "execution_count": null,
   "id": "e3e30995",
   "metadata": {},
   "outputs": [],
   "source": [
    "scaled_control = all_utraj.*acceleration_scale"
   ]
  },
  {
   "cell_type": "code",
   "execution_count": null,
   "id": "389a817c",
   "metadata": {},
   "outputs": [],
   "source": [
    "#integrate over the timestep to get the velocity cost in km/s\n",
    "x_cost = sum(abs.(scaled_control[1,:]))*(Δt*time_scale)\n",
    "y_cost = sum(abs.(scaled_control[2,:]))*(Δt*time_scale)\n",
    "z_cost = sum(abs.(scaled_control[3,:]))*(Δt*time_scale)"
   ]
  },
  {
   "cell_type": "code",
   "execution_count": null,
   "id": "75093af8",
   "metadata": {},
   "outputs": [],
   "source": [
    "#velocity cost in m/s\n",
    "x_cost_ms = x_cost*1e3\n",
    "y_cost_ms = y_cost*1e3\n",
    "z_cost_ms = z_cost*1e3\n",
    "\n",
    "display(x_cost_ms)\n",
    "display(y_cost_ms)\n",
    "display(z_cost_ms)"
   ]
  },
  {
   "cell_type": "code",
   "execution_count": null,
   "id": "d2275f0a",
   "metadata": {},
   "outputs": [],
   "source": [
    "all_cost = x_cost_ms + y_cost_ms + z_cost_ms "
   ]
  },
  {
   "cell_type": "code",
   "execution_count": null,
   "id": "0a66cf62",
   "metadata": {},
   "outputs": [],
   "source": [
    "cost_per_rev = all_cost/orbit_num"
   ]
  },
  {
   "cell_type": "code",
   "execution_count": null,
   "id": "4859d5f7",
   "metadata": {},
   "outputs": [],
   "source": [
    "#Exclude the first 10 timesteps to fix the injection error\n",
    "x_cost_good = sum(abs.(scaled_control[1,42:end]))*(Δt*time_scale) *1e3\n",
    "y_cost_good = sum(abs.(scaled_control[2,42:end]))*(Δt*time_scale) *1e3\n",
    "z_cost_good = sum(abs.(scaled_control[3,42:end]))*(Δt*time_scale) *1e3\n",
    "\n",
    "display(x_cost_good)\n",
    "display(y_cost_good)\n",
    "display(z_cost_good)"
   ]
  },
  {
   "cell_type": "code",
   "execution_count": null,
   "id": "62a94247",
   "metadata": {},
   "outputs": [],
   "source": [
    "#cost for 95 revs\n",
    "all_cost_good = x_cost_good + y_cost_good + z_cost_good"
   ]
  },
  {
   "cell_type": "code",
   "execution_count": null,
   "id": "d2bcaa9f",
   "metadata": {},
   "outputs": [],
   "source": [
    "#final_mpc = reference_trajectory + optimal_x"
   ]
  },
  {
   "cell_type": "code",
   "execution_count": null,
   "id": "620fca1d",
   "metadata": {},
   "outputs": [],
   "source": [
    "#constraint satisfaction \n",
    "all_xtraj[:,21]"
   ]
  },
  {
   "cell_type": "code",
   "execution_count": null,
   "id": "933ec03c",
   "metadata": {},
   "outputs": [],
   "source": [
    "all_xtraj[:,22]"
   ]
  },
  {
   "cell_type": "code",
   "execution_count": null,
   "id": "8b706c13",
   "metadata": {},
   "outputs": [],
   "source": [
    "#plot(final_mpc[1,:], final_mpc[2,:], final_mpc[3,:], label = \"MPC Trajectory\")"
   ]
  },
  {
   "cell_type": "code",
   "execution_count": null,
   "id": "489636e8",
   "metadata": {},
   "outputs": [],
   "source": [
    "#initially\n",
    "#plot(final_mpc[1,:], final_mpc[2,:], final_mpc[3,:], label = \"MPC Trajectory\")\n",
    "#scatter!([final_mpc[1,1]], [final_mpc[2,1]],[final_mpc[3,1]], label= \"Start Point\")\n",
    "\n",
    "#plot!(reference_trajectory[1,:], reference_trajectory[2,:], reference_trajectory[3,:], label=\"Reference Trajectory\")"
   ]
  },
  {
   "cell_type": "code",
   "execution_count": null,
   "id": "dcaf1ee8",
   "metadata": {},
   "outputs": [],
   "source": [
    "#plot(final_mpc[1,:], final_mpc[2,:], final_mpc[3,:], label = \"MPC Trajectory\")\n",
    "#scatter!([final_mpc[1,1]], [final_mpc[2,1]], [final_mpc[3,1]], label= \"Start Point\")\n",
    "#scatter!([final_mpc[1,end]], [final_mpc[2,end]], [final_mpc[3,end]], label= \"End Point\")\n",
    "\n",
    "#plot!(reference_trajectory[1,:], reference_trajectory[2,:], reference_trajectory[3,:], label=\"Reference Trajectory\")"
   ]
  },
  {
   "cell_type": "code",
   "execution_count": null,
   "id": "9f072fee",
   "metadata": {},
   "outputs": [],
   "source": [
    "#diff = final_mpc - reference_trajectory"
   ]
  },
  {
   "cell_type": "code",
   "execution_count": null,
   "id": "6ead3e15",
   "metadata": {},
   "outputs": [],
   "source": [
    "#plot(diff[1,:])\n",
    "#plot!(diff[2,:])\n",
    "#plot!(diff[3,:])"
   ]
  },
  {
   "cell_type": "code",
   "execution_count": null,
   "id": "d21897e7",
   "metadata": {},
   "outputs": [],
   "source": [
    "plot(all_xtraj[1,:], all_xtraj[2,:])"
   ]
  },
  {
   "cell_type": "code",
   "execution_count": null,
   "id": "7dd2c0d3",
   "metadata": {},
   "outputs": [],
   "source": []
  },
  {
   "cell_type": "code",
   "execution_count": null,
   "id": "d6a311a3",
   "metadata": {},
   "outputs": [],
   "source": [
    "all_xtraj[:,end]"
   ]
  },
  {
   "cell_type": "code",
   "execution_count": null,
   "id": "b277b455",
   "metadata": {},
   "outputs": [],
   "source": [
    "all_optimal_x[:,:,end]"
   ]
  },
  {
   "cell_type": "code",
   "execution_count": null,
   "id": "2e69c11f",
   "metadata": {},
   "outputs": [],
   "source": [
    "dot(all_optimal_x[:,end,end], unstable_directions_2[:,21])    "
   ]
  },
  {
   "cell_type": "code",
   "execution_count": null,
   "id": "c3f9195d",
   "metadata": {},
   "outputs": [],
   "source": [
    "end_state = all_xtraj[:,end]\n",
    "\n",
    "end_state_sim = just_dynamics_integrate(end_state, 2.75*sol_t_final[end])\n",
    "\n",
    "\n",
    "end_state_traj = get_state(end_state_sim)"
   ]
  },
  {
   "cell_type": "code",
   "execution_count": null,
   "id": "ce32011d",
   "metadata": {},
   "outputs": [],
   "source": [
    "#testing\n",
    "#end_state_sim = reference_trajectory[:,end]"
   ]
  },
  {
   "cell_type": "code",
   "execution_count": null,
   "id": "ea797244",
   "metadata": {},
   "outputs": [],
   "source": [
    "delta_end = end_state - reference_trajectory[:,end]"
   ]
  },
  {
   "cell_type": "code",
   "execution_count": null,
   "id": "13741fc9",
   "metadata": {},
   "outputs": [],
   "source": [
    "#end_state_test = reference_trajectory[:,end] - delta_end"
   ]
  },
  {
   "cell_type": "code",
   "execution_count": null,
   "id": "520a6d08",
   "metadata": {},
   "outputs": [],
   "source": [
    "#correct_end_state = end_state_test - reference_trajectory[:,end]"
   ]
  },
  {
   "cell_type": "code",
   "execution_count": null,
   "id": "23aee449",
   "metadata": {},
   "outputs": [],
   "source": [
    "#end_state_sim_correct = just_dynamics_integrate(end_state_test, 2.0*sol_t_final[end])\n",
    "\n",
    "\n",
    "#end_state_traj_correct = get_state(end_state_sim_correct)"
   ]
  },
  {
   "cell_type": "code",
   "execution_count": null,
   "id": "63765966",
   "metadata": {},
   "outputs": [],
   "source": [
    "unstable_directions[:,end]\n",
    "\n",
    "\n",
    "#for the negative manifold, the final state is satisfying the constraint and that's why it goes to the \n",
    "#left \n",
    "\n",
    "#however, for the positive manifold, it is satisfying the negative manifold constraint..."
   ]
  },
  {
   "cell_type": "code",
   "execution_count": null,
   "id": "ced1cbb6",
   "metadata": {},
   "outputs": [],
   "source": [
    "dot(delta_end, unstable_directions[:,end])"
   ]
  },
  {
   "cell_type": "code",
   "execution_count": null,
   "id": "0d0379e0",
   "metadata": {},
   "outputs": [],
   "source": [
    "#check this constraint \n",
    "#works with pi/5 too \n",
    "\n",
    "#c_test = unstable_directions[:,end]/tan(pi/6)\n",
    "c_test = unstable_directions[:,end]/tan((pi/2) - deg2rad(60))\n",
    "\n",
    "manifold_constraint_test = norm(delta_end) - c_test'*(delta_end)\n",
    "\n",
    "manifold_constraint_test\n",
    "#push!(cons, manifold_constraint <= 0)"
   ]
  },
  {
   "cell_type": "code",
   "execution_count": null,
   "id": "d54d01c3",
   "metadata": {},
   "outputs": [],
   "source": [
    "#angle away from the unstable manifold\n",
    "dot(unstable_directions[:,end], delta_end)*norm(delta_end)*180/pi"
   ]
  },
  {
   "cell_type": "code",
   "execution_count": null,
   "id": "e00fcb75",
   "metadata": {},
   "outputs": [],
   "source": [
    "#escapes on the right for positive unstable direction!\n",
    "plot(end_state_traj[1,:], end_state_traj[2,:])\n",
    "\n",
    "scatter!([end_state_traj[1,1]], [end_state_traj[2,1]])"
   ]
  },
  {
   "cell_type": "code",
   "execution_count": null,
   "id": "0df573d5",
   "metadata": {},
   "outputs": [],
   "source": [
    "#plot(end_state_traj_correct[1,:], end_state_traj_correct[2,:])\n",
    "\n",
    "#goes to the right when it is in the positive manifold direction. hypothesis is true. however, \n",
    "#the solver is giving solutions that does not satisfy this constraint. need to figure out why..."
   ]
  },
  {
   "cell_type": "code",
   "execution_count": null,
   "id": "1e2215ce",
   "metadata": {},
   "outputs": [],
   "source": [
    "#needs to be a super small perturbation in order to stay stable\n",
    "\n",
    "forward_rollout = zeros(6, N_period)\n",
    "\n",
    "#forward_rollout[:,1] = [1e-3, 0, 0, 0, 1e-6,0]\n",
    "\n",
    "\n",
    "forward_rollout[:,1] = [1e-9, 0, 0, 0, 1e-9, 0]\n",
    "\n",
    "for i=1:N_period-1\n",
    "   \n",
    "    #diverges with no control \n",
    "    #forward_rollout[:,i+1] = all_Ad[:,:,i]*forward_rollout[:,i]\n",
    "    \n",
    "    #with disturbances it just blows up\n",
    "    forward_rollout[:,i+1] = all_Ad[:,:,i]*forward_rollout[:,i] #+ randn(6)*1e-4\n",
    "    \n",
    "end\n",
    "    "
   ]
  },
  {
   "cell_type": "code",
   "execution_count": null,
   "id": "914eceb9",
   "metadata": {},
   "outputs": [],
   "source": [
    "reference_trajectory"
   ]
  },
  {
   "cell_type": "code",
   "execution_count": null,
   "id": "112422af",
   "metadata": {},
   "outputs": [],
   "source": [
    "nocontrol = forward_rollout + reference_trajectory"
   ]
  },
  {
   "cell_type": "code",
   "execution_count": null,
   "id": "0500faf4",
   "metadata": {},
   "outputs": [],
   "source": [
    "plot(nocontrol[1,:], nocontrol[2,:], nocontrol[3,:], lw=3, label=\"No Control\")\n",
    "plot!(reference_trajectory[1,:], reference_trajectory[2,:], reference_trajectory[3,:], lw=3, label=\"Reference Trajectory\")\n",
    "scatter!([nocontrol[1,1]], [nocontrol[2,1]], [nocontrol[3,1]], label=\"No Control Start\")\n",
    "scatter!([nocontrol[1,end]], [nocontrol[2,end]],[nocontrol[3,end]], label=\"No Control End\")"
   ]
  },
  {
   "cell_type": "code",
   "execution_count": null,
   "id": "6ae19c01",
   "metadata": {},
   "outputs": [],
   "source": [
    "# plot(final_mpc[1,:], final_mpc[2,:], final_mpc[3,:], lw=3, label=\"MPC Control\")\n",
    "# plot!(reference_trajectory[1,:], reference_trajectory[2,:], reference_trajectory[3,:], lw=3, label=\"Reference Trajectory\")\n",
    "# scatter!([final_mpc[1,1]], [final_mpc[2,1]], [final_mpc[3,1]], label=\"No Control Start\")\n",
    "# scatter!([final_mpc[1,end]], [final_mpc[2,end]], [final_mpc[3,end]],  label=\"No Control End\", aspectratio = true)"
   ]
  },
  {
   "cell_type": "code",
   "execution_count": null,
   "id": "a5b48b9f",
   "metadata": {},
   "outputs": [],
   "source": [
    "position_tube_norm = zeros(N_period*orbit_num)\n",
    "\n",
    "velocity_tube_norm = zeros(N_period*orbit_num)"
   ]
  },
  {
   "cell_type": "code",
   "execution_count": null,
   "id": "ec723d9f",
   "metadata": {},
   "outputs": [],
   "source": [
    "orbit_num"
   ]
  },
  {
   "cell_type": "code",
   "execution_count": null,
   "id": "296a6efd",
   "metadata": {},
   "outputs": [],
   "source": [
    "svd(V[:,:,1]).S"
   ]
  },
  {
   "cell_type": "code",
   "execution_count": null,
   "id": "63da5d81",
   "metadata": {},
   "outputs": [],
   "source": [
    "for i=1:N_period*orbit_num\n",
    "   \n",
    "    position_tube_norm[i]= norm(all_Δxtraj[1:3,i])\n",
    "    \n",
    "    velocity_tube_norm[i]= norm(all_Δxtraj[4:6,i])\n",
    "    \n",
    "end"
   ]
  },
  {
   "cell_type": "code",
   "execution_count": null,
   "id": "61cdffad",
   "metadata": {},
   "outputs": [],
   "source": [
    "ctg_constraint = zeros(6, N_period)\n",
    "dist_from_center = zeros(6, N_period)"
   ]
  },
  {
   "cell_type": "code",
   "execution_count": null,
   "id": "924be4ab",
   "metadata": {},
   "outputs": [],
   "source": [
    "(ones(6).*0.1)./eigen(V[:,:,1]).values"
   ]
  },
  {
   "cell_type": "code",
   "execution_count": null,
   "id": "ee5ef2a8",
   "metadata": {},
   "outputs": [],
   "source": [
    "test_v = (ones(6).*0.1)./eigen(V[:,:,1]).vectors"
   ]
  },
  {
   "cell_type": "code",
   "execution_count": null,
   "id": "f1d8500e",
   "metadata": {},
   "outputs": [],
   "source": [
    "test_v * [1,1,1,0,0,0]"
   ]
  },
  {
   "cell_type": "code",
   "execution_count": null,
   "id": "55eb8948",
   "metadata": {},
   "outputs": [],
   "source": [
    "V"
   ]
  },
  {
   "cell_type": "code",
   "execution_count": null,
   "id": "ca0bd79a",
   "metadata": {},
   "outputs": [],
   "source": [
    "for i= 1:N_period\n",
    "\n",
    "    e_decomp = eigen(V[:,:,i])\n",
    "\n",
    "    #inverse same as transpose in this case\n",
    "    y = inv(e_decomp.vectors) * all_Δxtraj[:,i]\n",
    "\n",
    "    dist_from_center[:,i] = y\n",
    "\n",
    "    ctg_constraint[:,i] = sqrt.(1e-3 .*ones(6)./e_decomp.values)\n",
    "\n",
    "\n",
    "end\n",
    "\n",
    "    "
   ]
  },
  {
   "cell_type": "code",
   "execution_count": null,
   "id": "d588b767",
   "metadata": {},
   "outputs": [],
   "source": [
    "ctg_constraint\n"
   ]
  },
  {
   "cell_type": "code",
   "execution_count": null,
   "id": "26df816d",
   "metadata": {},
   "outputs": [],
   "source": [
    "dist_from_center"
   ]
  },
  {
   "cell_type": "code",
   "execution_count": null,
   "id": "986d8d1d",
   "metadata": {},
   "outputs": [],
   "source": [
    "all_Δxtraj[:,1]'*V[:,:,1]*all_Δxtraj[:,1]"
   ]
  },
  {
   "cell_type": "code",
   "execution_count": null,
   "id": "1ff37dca",
   "metadata": {},
   "outputs": [],
   "source": [
    "dist_from_center[1,:]*L"
   ]
  },
  {
   "cell_type": "code",
   "execution_count": null,
   "id": "93ff49a0",
   "metadata": {},
   "outputs": [],
   "source": [
    "plot(dist_from_center[1,:], label=\"x\")\n",
    "plot!(ctg_constraint[1,:], label=\"x axis constraint\")"
   ]
  },
  {
   "cell_type": "code",
   "execution_count": null,
   "id": "1a3c55a3",
   "metadata": {},
   "outputs": [],
   "source": [
    "plot(dist_from_center[2,:], label=\"y\")\n",
    "plot!(ctg_constraint[2,:], label=\"y axis constraint\")"
   ]
  },
  {
   "cell_type": "code",
   "execution_count": null,
   "id": "741efc04",
   "metadata": {},
   "outputs": [],
   "source": [
    "plot(dist_from_center[3,:], label=\"z\")\n",
    "plot!(ctg_constraint[3,:], label=\"z axis constraint\")"
   ]
  },
  {
   "cell_type": "code",
   "execution_count": null,
   "id": "fdbabd13",
   "metadata": {},
   "outputs": [],
   "source": [
    "plot(dist_from_center[4,:], label=\"vx\")\n",
    "plot!(ctg_constraint[4,:], label=\"vx axis constraint\")"
   ]
  },
  {
   "cell_type": "code",
   "execution_count": null,
   "id": "a79d7553",
   "metadata": {},
   "outputs": [],
   "source": [
    "plot(dist_from_center[5,:], label=\"vy\")\n",
    "plot!(ctg_constraint[5,:], label=\"vy axis constraint\")"
   ]
  },
  {
   "cell_type": "code",
   "execution_count": null,
   "id": "18295cea",
   "metadata": {},
   "outputs": [],
   "source": [
    "plot(dist_from_center[6,:], label=\"vz\")\n",
    "plot!(ctg_constraint[6,:], label=\"vz axis constraint\")"
   ]
  },
  {
   "cell_type": "code",
   "execution_count": null,
   "id": "f0109359",
   "metadata": {},
   "outputs": [],
   "source": [
    "all_Δxtraj[:,1]"
   ]
  },
  {
   "cell_type": "code",
   "execution_count": null,
   "id": "632bc7be",
   "metadata": {},
   "outputs": [],
   "source": [
    "V[:,:,1]"
   ]
  },
  {
   "cell_type": "code",
   "execution_count": null,
   "id": "1e9d2ca5",
   "metadata": {},
   "outputs": [],
   "source": [
    "#test.vectors*diagm(test.values)*test.vectors'"
   ]
  },
  {
   "cell_type": "code",
   "execution_count": null,
   "id": "3606e83a",
   "metadata": {},
   "outputs": [],
   "source": [
    "#inv(test.vectors)"
   ]
  },
  {
   "cell_type": "code",
   "execution_count": null,
   "id": "e828f47d",
   "metadata": {},
   "outputs": [],
   "source": [
    "#test.vectors'"
   ]
  },
  {
   "cell_type": "code",
   "execution_count": null,
   "id": "26b3d631",
   "metadata": {},
   "outputs": [],
   "source": [
    "# #finding the magnitude of the principle axes of the ellipsoid\n",
    "# magnitude_principle_axes = zeros(6, N_period)\n",
    "\n",
    "\n",
    "# for i=1:N_period\n",
    "    \n",
    "#     magnitude_principle_axes[:,i] = svd(V[:,:,i]).S\n",
    "    \n",
    "    \n",
    "# end"
   ]
  },
  {
   "cell_type": "code",
   "execution_count": null,
   "id": "f10afaeb",
   "metadata": {},
   "outputs": [],
   "source": [
    "# plot(magnitude_principle_axes[1,:])\n",
    "# plot!(magnitude_principle_axes[2,:])\n",
    "# plot!(magnitude_principle_axes[3,:])"
   ]
  },
  {
   "cell_type": "code",
   "execution_count": null,
   "id": "d612f319",
   "metadata": {},
   "outputs": [],
   "source": [
    "# plot(magnitude_principle_axes[4,:])\n",
    "# plot!(magnitude_principle_axes[5,:])\n",
    "# plot!(magnitude_principle_axes[6,:])"
   ]
  },
  {
   "cell_type": "code",
   "execution_count": null,
   "id": "eba1b6ba",
   "metadata": {},
   "outputs": [],
   "source": [
    "plot(all_Δxtraj[1,:])\n",
    "\n",
    "plot!(all_Δxtraj[2,:])\n",
    "\n",
    "plot!(all_Δxtraj[3,:])"
   ]
  },
  {
   "cell_type": "code",
   "execution_count": null,
   "id": "76d8a494",
   "metadata": {},
   "outputs": [],
   "source": [
    "plot(all_Δxtraj[4,:])\n",
    "\n",
    "plot!(all_Δxtraj[5,:])\n",
    "\n",
    "plot!(all_Δxtraj[6,:])"
   ]
  },
  {
   "cell_type": "code",
   "execution_count": null,
   "id": "4f56f3d9",
   "metadata": {},
   "outputs": [],
   "source": []
  },
  {
   "cell_type": "code",
   "execution_count": null,
   "id": "a7ad54c3",
   "metadata": {},
   "outputs": [],
   "source": []
  },
  {
   "cell_type": "code",
   "execution_count": null,
   "id": "e765f8f0",
   "metadata": {},
   "outputs": [],
   "source": []
  },
  {
   "cell_type": "code",
   "execution_count": null,
   "id": "683ade43",
   "metadata": {},
   "outputs": [],
   "source": []
  },
  {
   "cell_type": "code",
   "execution_count": null,
   "id": "3f0105a4",
   "metadata": {},
   "outputs": [],
   "source": []
  }
 ],
 "metadata": {
  "@webio": {
   "lastCommId": null,
   "lastKernelId": null
  },
  "kernelspec": {
   "display_name": "Julia 1.10.0",
   "language": "julia",
   "name": "julia-1.10"
  },
  "language_info": {
   "file_extension": ".jl",
   "mimetype": "application/julia",
   "name": "julia",
   "version": "1.10.0"
  }
 },
 "nbformat": 4,
 "nbformat_minor": 5
}
