{
 "cells": [
  {
   "cell_type": "code",
   "execution_count": null,
   "id": "480fd580",
   "metadata": {},
   "outputs": [],
   "source": [
    "using LinearAlgebra\n",
    "using ForwardDiff\n",
    "using SatelliteDynamics\n",
    "using DifferentialEquations\n",
    "using Plots\n",
    "using ECOS, Convex\n",
    "using Mosek, MosekTools"
   ]
  },
  {
   "cell_type": "code",
   "execution_count": null,
   "id": "ee9be99e",
   "metadata": {},
   "outputs": [],
   "source": [
    "#TODO: The problem is being solved with the linear dynamics and rolled out half an orbit with the nonlinear dynamics. By doing the rollout on the nonlinear dynamics\n",
    "# the dot product constraint is being violated. \n",
    "\n",
    "# Going to try just rolling out one timestep instead of half an orbit and see if it works and all the constraints are satisfied"
   ]
  },
  {
   "cell_type": "code",
   "execution_count": null,
   "id": "e6853703",
   "metadata": {},
   "outputs": [],
   "source": [
    "#from the Lyaponov orbit\n",
    "#x0_lyapunov = [ 1.1556814491008298,\n",
    "# -1.4319993886822296e-21,\n",
    "#  0.0,\n",
    "#  2.2212106056655213e-21,\n",
    "# -8.333136405918907e-6,\n",
    "#  0.0]\n",
    "\n",
    "\n",
    "\n",
    " #lyapunov_period = 3.3732524857835884\n"
   ]
  },
  {
   "cell_type": "code",
   "execution_count": null,
   "id": "a5673ac3",
   "metadata": {},
   "outputs": [],
   "source": [
    "#parameters for Earth Moon System\n",
    "μ = 1.215e-2\n",
    "μ1 = 1-μ\n",
    "μ2 = μ\n",
    "\n",
    "#position of mass 1\n",
    "pose_m1 = [-μ, 0, 0]\n",
    "\n",
    "#position of mass 2\n",
    "pose_m2 = [1-μ, 0, 0]\n",
    "\n",
    "#value obtained from 3BP textbook\n",
    "L = 3.850e5 #in km - distance between centers of m1 and m2\n",
    "V_ = 1.025 #in km/s - orbital velocity of m1\n",
    "T_ = 2.361e6 #in seconds - orbital period of m1 and m2\n",
    "\n",
    "time_scale = T_/(2*pi)\n",
    "\n",
    "#state of the L1 and L2 Lagrange points (computed offline)\n",
    "XL1 = [0.8369180073169304, 0, 0, 0, 0, 0]\n",
    "XL2 = [1.1556799130947355, 0, 0, 0, 0, 0]"
   ]
  },
  {
   "cell_type": "code",
   "execution_count": null,
   "id": "1267d725",
   "metadata": {},
   "outputs": [],
   "source": [
    "#to get into normalized units, divide by this scale. To get normalized units to standard metric units multiply\n",
    "acceleration_scale = L/((time_scale)^2)"
   ]
  },
  {
   "cell_type": "code",
   "execution_count": null,
   "id": "260d67ee",
   "metadata": {},
   "outputs": [],
   "source": [
    "function effective_potential(X)\n",
    "    x = X[1]\n",
    "    y = X[2]\n",
    "    z = X[3]\n",
    "\n",
    "    r1 = sqrt((x+μ2)^2 + y^2 + z^2) \n",
    "    r2 = sqrt((x-μ1)^2 + y^2 + z^2)\n",
    "    #assuming m3 is unit mass\n",
    "   \n",
    "    U = (-μ1/r1)-(μ2/r2)-0.5*(x^2+y^2)\n",
    "   \n",
    "    return U\n",
    "    \n",
    "end"
   ]
  },
  {
   "cell_type": "code",
   "execution_count": null,
   "id": "9d1c30b3",
   "metadata": {},
   "outputs": [],
   "source": [
    "function three_body_prob_dynamics(x)\n",
    "    \n",
    "    q = zeros(eltype(x),3)\n",
    "    v = zeros(eltype(x),3)\n",
    "    q = x[1:3]\n",
    "    v = x[4:6]\n",
    "\n",
    "    ẋ = zeros(eltype(x),6)\n",
    "    U_q = zeros(eltype(x),3)\n",
    "    \n",
    "    U_q = (ForwardDiff.gradient(_x -> effective_potential(_x), q))\n",
    "        \n",
    "    ẋ[1:3] = v\n",
    "    ẋ[4] = 2*v[2] - U_q[1] \n",
    "    ẋ[5] = -2*v[1] - U_q[2]\n",
    "    ẋ[6] = -U_q[3]\n",
    "\n",
    "    return ẋ\n",
    "end"
   ]
  },
  {
   "cell_type": "code",
   "execution_count": null,
   "id": "58029e73",
   "metadata": {},
   "outputs": [],
   "source": [
    "#x[1:6] -> state\n",
    "#x[7:9] -> control inputs\n",
    "\n",
    "function three_body_prob_dynamics_wcontrol(x)\n",
    "    \n",
    "    q = zeros(eltype(x),3)\n",
    "    v = zeros(eltype(x),3)\n",
    "    q = x[1:3]\n",
    "    v = x[4:6]\n",
    "    u = x[7:9]\n",
    "\n",
    "    ẋ = zeros(eltype(x),9)\n",
    "    \n",
    "    U_q = zeros(eltype(x),3)\n",
    "    \n",
    "    U_q = (ForwardDiff.gradient(_x -> effective_potential(_x), q))\n",
    "        \n",
    "    ẋ[1:3] = v\n",
    "    ẋ[4] = 2*v[2] - U_q[1] + u[1] \n",
    "    ẋ[5] = -2*v[1] - U_q[2] + u[2]\n",
    "    ẋ[6] = -U_q[3] + u[3]\n",
    "    \n",
    "    #zero order hold on the controls \n",
    "    ẋ[7:9] = zeros(3)\n",
    "\n",
    "    return ẋ\n",
    "end"
   ]
  },
  {
   "cell_type": "code",
   "execution_count": null,
   "id": "b44e2642",
   "metadata": {},
   "outputs": [],
   "source": [
    "#solve using DifferentialEquations.jl\n",
    "function ST_and_dynamics_DFJL_wcontrol!(du, u, p, t)\n",
    "    \n",
    "    du[1:9] = three_body_prob_dynamics_wcontrol(u[1:9])\n",
    "    \n",
    "end"
   ]
  },
  {
   "cell_type": "code",
   "execution_count": null,
   "id": "cb83d2fa",
   "metadata": {},
   "outputs": [],
   "source": [
    "function dynamics_wcontrol_integrate(x_0,period)\n",
    "    \n",
    "    tspan = (0.0, period)\n",
    "    prob = ODEProblem(ST_and_dynamics_DFJL_wcontrol!, x_0, tspan)\n",
    "    sol = solve(prob, TsitPap8(), abstol=1e-12, reltol=1e-12)\n",
    "    \n",
    "    return sol\n",
    "    \n",
    "end"
   ]
  },
  {
   "cell_type": "code",
   "execution_count": null,
   "id": "9b9e5092",
   "metadata": {},
   "outputs": [],
   "source": [
    "#input is the initial condition\n",
    "#control trajectory u (size N-1)\n",
    "\n",
    "#integrate every half orbit\n",
    "\n",
    "#u is size 20\n",
    "\n",
    "#40 knot points in one rev. each of them are equally spaced apart\n",
    "\n",
    "function integrate_halfperiod(x_0, u)\n",
    "    \n",
    "    #u will be size 20\n",
    "    \n",
    "    #x trajectory not delta x \n",
    "\n",
    "    xtraj = zeros(6, 21)\n",
    "\n",
    "    xtraj[:,1] = x_0\n",
    "\n",
    "    #go through all the controls\n",
    "    for i=1:20\n",
    "        \n",
    "        #integrate the nonlinear dynamics 1 timstep forward\n",
    "        x_0_non = [xtraj[:,i]; u[:,i]]\n",
    "\n",
    "        solution_in = dynamics_wcontrol_integrate(x_0_non, Δt)\n",
    "\n",
    "        #this is the next state\n",
    "        all_state_next = get_state_wcontrol(solution_in)\n",
    "\n",
    "        xtraj[:,i+1] = all_state_next[1:6, end]\n",
    "        \n",
    "    end\n",
    "    \n",
    "    #this is size N. 21. Element 21 is the new 1\n",
    "    return xtraj\n",
    "        \n",
    "end"
   ]
  },
  {
   "cell_type": "code",
   "execution_count": null,
   "id": "3fa812e5",
   "metadata": {},
   "outputs": [],
   "source": [
    "#input is the initial condition\n",
    "#control trajectory u (size N-1)\n",
    "\n",
    "#integrate just one timestep\n",
    "\n",
    "#u is size 1\n",
    "\n",
    "function integrate_1dt(x_0, u)\n",
    "    \n",
    "    #x trajectory not delta x \n",
    "\n",
    "    #integrate the nonlinear dynamics 1 timstep forward\n",
    "    x_0_non = [x_0; u]\n",
    "\n",
    "    solution_in = dynamics_wcontrol_integrate(x_0_non, Δt)\n",
    "\n",
    "    #this is the next state\n",
    "    all_state_next = get_state_wcontrol(solution_in)\n",
    "\n",
    "    xnext = all_state_next[1:6, end]\n",
    "    \n",
    "    return xnext\n",
    "        \n",
    "end"
   ]
  },
  {
   "cell_type": "code",
   "execution_count": null,
   "id": "57310ed5",
   "metadata": {},
   "outputs": [],
   "source": [
    "function integrate_oneperiod(x_0, u)\n",
    "    \n",
    "    #u will be size 40 since we only want to apply the controls for one rev\n",
    "    \n",
    "    #x trajectory not delta x \n",
    "\n",
    "    xtraj = zeros(6, N_period)\n",
    "\n",
    "    xtraj[:,1] = x_0\n",
    "\n",
    "    for i=1:N_period-1\n",
    "        \n",
    "        #integrate the nonlinear dynamics 1 timstep forward\n",
    "        x_0_non = [xtraj[:,i]; u[:,i]]\n",
    "\n",
    "        solution_in = dynamics_wcontrol_integrate(x_0_non, Δt)\n",
    "\n",
    "        #this is the next state\n",
    "        all_state_next = get_state_wcontrol(solution_in)\n",
    "\n",
    "        xtraj[:,i+1] = all_state_next[1:6, end]\n",
    "    end\n",
    "    \n",
    "    #this is size N. 40 for this case\n",
    "    return xtraj\n",
    "        \n",
    "end"
   ]
  },
  {
   "cell_type": "code",
   "execution_count": null,
   "id": "e5aa7eed",
   "metadata": {},
   "outputs": [],
   "source": [
    "#ODE for the state transition matrix \n",
    "\n",
    "function phi_ode(z)\n",
    "    \n",
    "    #state vector\n",
    "    x = z[1:6]\n",
    "    \n",
    "    #state transition matrix\n",
    "    Φ = reshape(z[7:end], (6,6))\n",
    "    \n",
    "    #Find the dynamics jacobian at the state vector\n",
    "    F =  ForwardDiff.jacobian(dx -> three_body_prob_dynamics(dx), x)\n",
    "    \n",
    "    #Differential Equation of State transition Matrix\n",
    "    Φ_dot = F*Φ\n",
    "    \n",
    "    return vec(Φ_dot)\n",
    "    \n",
    "end"
   ]
  },
  {
   "cell_type": "code",
   "execution_count": null,
   "id": "e2de6de1",
   "metadata": {},
   "outputs": [],
   "source": [
    "#3BP dynamics and state transition matrix dynamics in one function \n",
    "function ST_and_dynamics(z)\n",
    "    x = z[1:6]\n",
    "    Φ = z[7:end]\n",
    "    \n",
    "    x_dot = three_body_prob_dynamics(x)\n",
    "    Φ_dot = phi_ode(z)\n",
    "    \n",
    "    z_dot = [x_dot; Φ_dot]\n",
    "    \n",
    "    return z_dot\n",
    "end"
   ]
  },
  {
   "cell_type": "code",
   "execution_count": null,
   "id": "b51295b2",
   "metadata": {},
   "outputs": [],
   "source": [
    "#solve using DifferentialEquations.jl\n",
    "function ST_and_dynamics_DFJL!(du, u, p, t)\n",
    "    \n",
    "    du[1:6] = three_body_prob_dynamics(u[1:6])\n",
    "    du[7:end] = phi_ode(u)\n",
    "    \n",
    "end"
   ]
  },
  {
   "cell_type": "code",
   "execution_count": null,
   "id": "2206cb48",
   "metadata": {},
   "outputs": [],
   "source": [
    "#solve using DifferentialEquations.jl\n",
    "function justdynamics_DFJL!(du, u, p, t)\n",
    "    \n",
    "    du[1:6] = three_body_prob_dynamics(u[1:6])\n",
    "    \n",
    "end"
   ]
  },
  {
   "cell_type": "code",
   "execution_count": null,
   "id": "c3f0d90f",
   "metadata": {},
   "outputs": [],
   "source": [
    "#gets the state and state transition matrix for the entire solution\n",
    "\n",
    "function get_state_stm(solution)\n",
    "    \n",
    "    N = size(solution.u)[1]\n",
    "\n",
    "    all_states = zeros(6, N)\n",
    "\n",
    "    all_stm = zeros(6,6,N)\n",
    "\n",
    "    for i=1:N\n",
    "        all_states[:,i] = solution.u[i][1:6]\n",
    "        all_stm[:,:,i] = reshape(solution.u[i][7:end], (6,6)) \n",
    "    end\n",
    "    \n",
    "    #all states and all stm are functions of t\n",
    "    #solution.t is the time\n",
    "    return all_states, all_stm, solution.t \n",
    "end"
   ]
  },
  {
   "cell_type": "code",
   "execution_count": null,
   "id": "f7c99707",
   "metadata": {},
   "outputs": [],
   "source": [
    "#gets the state and transition matrix for the entire solution\n",
    "\n",
    "function get_state_wcontrol(solution)\n",
    "    \n",
    "    N = size(solution.u)[1]\n",
    "\n",
    "    all_states = zeros(9, N)\n",
    "\n",
    "    for i=1:N\n",
    "        all_states[:,i] = solution.u[i][1:9]\n",
    "    end\n",
    "    \n",
    "    #all states and all stm are functions of t\n",
    "    #solution.t is the time\n",
    "    return all_states\n",
    "end"
   ]
  },
  {
   "cell_type": "code",
   "execution_count": null,
   "id": "eb1bb835",
   "metadata": {},
   "outputs": [],
   "source": [
    "#gets the state and transition matrix for the entire solution\n",
    "\n",
    "function get_state(solution)\n",
    "    \n",
    "    N = size(solution.u)[1]\n",
    "\n",
    "    all_states = zeros(6, N)\n",
    "\n",
    "    for i=1:N\n",
    "        all_states[:,i] = solution.u[i][1:6]\n",
    "    end\n",
    "    \n",
    "    #all states and all stm are functions of t\n",
    "    #solution.t is the time\n",
    "    return all_states\n",
    "end"
   ]
  },
  {
   "cell_type": "code",
   "execution_count": null,
   "id": "d38178c9",
   "metadata": {},
   "outputs": [],
   "source": [
    "\n",
    "#this solved until we cross the xz plane\n",
    "function diff_solve(x_0, period)\n",
    "    \n",
    "    #stop when y=0\n",
    "    condition(u,t,integrator) = u[2]\n",
    "    \n",
    "    affect!(integrator) = terminate!(integrator)\n",
    "    \n",
    "    cb = ContinuousCallback(condition, affect!)\n",
    "    \n",
    "    tspan = (0.0, period)\n",
    "    prob = ODEProblem(ST_and_dynamics_DFJL!, x_0, tspan)\n",
    "    sol = solve(prob, TsitPap8(), abstol = 1e-12, reltol=1e-12, callback=cb)\n",
    "    \n",
    "    return sol\n",
    "    \n",
    "end"
   ]
  },
  {
   "cell_type": "code",
   "execution_count": null,
   "id": "27f72562",
   "metadata": {},
   "outputs": [],
   "source": [
    "#integrate dynamics and state transition matrix\n",
    "function dynamics_integrate(x_0, period)\n",
    "    \n",
    "    tspan = (0.0, period)\n",
    "    prob = ODEProblem(ST_and_dynamics_DFJL!, x_0, tspan)\n",
    "    sol = solve(prob, TsitPap8(), abstol=1e-12, reltol=1e-12)\n",
    "    \n",
    "    return sol\n",
    "    \n",
    "end"
   ]
  },
  {
   "cell_type": "code",
   "execution_count": null,
   "id": "e0b14fc0",
   "metadata": {},
   "outputs": [],
   "source": [
    "#integrate just the dynamics\n",
    "function just_dynamics_integrate(x_0, period)\n",
    "    \n",
    "    tspan = (0.0, period)\n",
    "    prob = ODEProblem(justdynamics_DFJL!, x_0, tspan)\n",
    "    sol = solve(prob, TsitPap8(), abstol=1e-12, reltol=1e-12)\n",
    "    \n",
    "    return sol\n",
    "    \n",
    "end"
   ]
  },
  {
   "cell_type": "code",
   "execution_count": null,
   "id": "9945de49",
   "metadata": {},
   "outputs": [],
   "source": [
    "3.4071472466192527*time_scale"
   ]
  },
  {
   "cell_type": "code",
   "execution_count": null,
   "id": "a658f3fb",
   "metadata": {},
   "outputs": [],
   "source": [
    "using DelimitedFiles\n",
    "#period of the halo orbit. From ThreeBodyProblem.jl\n",
    "T = 3.4071472466192527\n",
    "\n",
    "#read in the initial guess trajectory. Richardson expansion from ThreeBodyProblem.jl\n",
    "richardson  = readdlm(\"richardsonL2.txt\", '\\t', Float64, '\\n')'\n",
    "\n",
    "x0_L2 = richardson[:,1]\n",
    "\n",
    "#for lyaponov\n",
    "#x0_L2 = x0_lyapunov\n",
    "\n",
    "#T = lyapunov_period"
   ]
  },
  {
   "cell_type": "code",
   "execution_count": null,
   "id": "2e9c0384",
   "metadata": {},
   "outputs": [],
   "source": [
    "#linearize the dynamics about the L2 Lagrange Point and go in the planar direction\n",
    "AL2 = ForwardDiff.jacobian(x-> three_body_prob_dynamics(x), XL2)"
   ]
  },
  {
   "cell_type": "code",
   "execution_count": null,
   "id": "6e80f9bc",
   "metadata": {},
   "outputs": [],
   "source": [
    "#nonzero_cmplx_eigen_L2 = cmplx_eigen_L2[cmplx_eigen_L2 .!=0]"
   ]
  },
  {
   "cell_type": "code",
   "execution_count": null,
   "id": "e86fa5a0",
   "metadata": {},
   "outputs": [],
   "source": [
    "#marginally stable directions (periodic motion)\n",
    "#direction2_L2 = A_L2_eigen.vectors[:, 2]\n",
    "#direction3_L2 = A_L2_eigen.vectors[:, 3]\n",
    "#direction4_L2 = A_L2_eigen.vectors[:, 4]\n",
    "#direction5_L2 = A_L2_eigen.vectors[:, 5]"
   ]
  },
  {
   "cell_type": "code",
   "execution_count": null,
   "id": "f5ddcb14",
   "metadata": {},
   "outputs": [],
   "source": [
    "#display(direction2_L2)\n",
    "#display(direction3_L2)\n",
    "#display(direction4_L2)\n",
    "#display(direction5_L2)\n",
    "#directions 2 and 3 correspond to out of plane motion. We will select a perturbation\n",
    "#in plane to get a Lyaponov orbit"
   ]
  },
  {
   "cell_type": "code",
   "execution_count": null,
   "id": "b787093e",
   "metadata": {},
   "outputs": [],
   "source": [
    "#nonzero_cmplx_eigen_L2"
   ]
  },
  {
   "cell_type": "code",
   "execution_count": null,
   "id": "d237ee61",
   "metadata": {},
   "outputs": [],
   "source": [
    "#real(direction2_L2)"
   ]
  },
  {
   "cell_type": "code",
   "execution_count": null,
   "id": "2d9b3398",
   "metadata": {},
   "outputs": [],
   "source": [
    "#real(direction3_L2)"
   ]
  },
  {
   "cell_type": "code",
   "execution_count": null,
   "id": "a2a222eb",
   "metadata": {},
   "outputs": [],
   "source": [
    "#real(direction4_L2)"
   ]
  },
  {
   "cell_type": "code",
   "execution_count": null,
   "id": "77da11e4",
   "metadata": {},
   "outputs": [],
   "source": [
    "#real(direction5_L2)"
   ]
  },
  {
   "cell_type": "code",
   "execution_count": null,
   "id": "cdfd3d6b",
   "metadata": {},
   "outputs": [],
   "source": [
    "#we will perturb the L2 lagrange point by direction 5 (planar stable direction)\n",
    "#approximate the period of Lyaponov orbit with T = |omega|/(2π) where omega = |λ_5|\n",
    "\n",
    "#λ_planar = norm(A_L2_eigen.values[5])\n",
    "#T_planar = 2*pi/λ_planar\n",
    "\n",
    "#set T to whatever direction you use\n",
    "#T = T_planar\n",
    "\n",
    "#weight of the perturbation (1e-3 works)\n",
    "#w2 = 1e-5\n",
    "\n",
    "#this is the perturbation in the planar direction\n",
    "#perturbation_planar_L2 = w2*(real(direction5_L2))\n",
    "\n",
    "#this is a linear combination between both of the directions\n",
    "#x0_L2 = XL2 + perturbation_planar_L2"
   ]
  },
  {
   "cell_type": "code",
   "execution_count": null,
   "id": "bd12982e",
   "metadata": {},
   "outputs": [],
   "source": [
    "#Integrate the dynamics with the initial state of the Richardson expansion as the first state\n",
    "Φ_0 = vec(Matrix(1.0*I, 6,6))\n",
    "x_0_stm = [x0_L2; Φ_0]\n",
    "\n",
    "solution_in = dynamics_integrate(x_0_stm, T)\n",
    "\n",
    "all_state_in, stm_in, sol_t_in = get_state_stm(solution_in)"
   ]
  },
  {
   "cell_type": "code",
   "execution_count": null,
   "id": "01ab67ab",
   "metadata": {},
   "outputs": [],
   "source": [
    "#a = LinRange(1,2,10)"
   ]
  },
  {
   "cell_type": "code",
   "execution_count": null,
   "id": "82c094ef",
   "metadata": {},
   "outputs": [],
   "source": [
    "#solution_in(a).u[2]"
   ]
  },
  {
   "cell_type": "code",
   "execution_count": null,
   "id": "ffc69868",
   "metadata": {},
   "outputs": [],
   "source": [
    "initial_norm = all_state_in[:,end] - all_state_in[:,1]"
   ]
  },
  {
   "cell_type": "code",
   "execution_count": null,
   "id": "592767c6",
   "metadata": {},
   "outputs": [],
   "source": [
    "#this is if we rollout our dynamics with the stable initial condition\n",
    "#almost periodic, can be fixed with a differential corrector\n",
    "#plot(all_state_in[1,:], all_state_in[2,:], all_state_in[3,:], xlabel=\"x\", ylabel=\"y\", zlabel=\"z\")\n",
    "\n",
    "plot(all_state_in[1,:], all_state_in[2,:], xlabel=\"x\", ylabel=\"y\")"
   ]
  },
  {
   "cell_type": "code",
   "execution_count": null,
   "id": "fdce57ea",
   "metadata": {},
   "outputs": [],
   "source": [
    "#fix with a single shooting differential corrector\n",
    "function differential_corrector(x_0_stm, Tp)\n",
    "    \n",
    "    #this is the final time it converges to\n",
    "    T_f = 0\n",
    "\n",
    "    #Iterate to bring the δx at T/2 to the desired state\n",
    "    max_iters = 1000\n",
    "\n",
    "    #keep z0 fixed and change only x0 and y_dot_0\n",
    "    for i=1:max_iters\n",
    "    #for i=1:100\n",
    "\n",
    "        solution = diff_solve(x_0_stm, Tp)\n",
    "\n",
    "        #this is the state, STM, and time when y crosses the XZ plane \n",
    "        all_state, stm, sol_t = get_state_stm(solution)\n",
    "\n",
    "        #display(stm)\n",
    "\n",
    "        T2_state = all_state[:,end]\n",
    "\n",
    "        #T2_state -> x,y,z, xdot, ydot, zdot\n",
    "        #desired xdot an xzdot\n",
    "        xz_d = [0, 0]\n",
    "\n",
    "        rv = T2_state[1:6]\n",
    "\n",
    "        rv_dot = three_body_prob_dynamics(rv)\n",
    "\n",
    "        #desired state subtracted by state at t/2\n",
    "        δxz = xz_d - [T2_state[4], T2_state[6]]\n",
    "\n",
    "        #subset of the state transition matrix\n",
    "\n",
    "        #all 6 variables \n",
    "        #stm_s = [stm[4,1] stm[4,3] stm[4,5]; stm[6,1] stm[6,3] stm[6,5]]\n",
    "\n",
    "        #to change x and ydot \n",
    "\n",
    "        #keep z0 constant\n",
    "        #stm_s = [stm[4,1] stm[4,5]; stm[6,1] stm[6,5]]\n",
    "        #dy = [rv_dot[4]; rv_dot[6]]*[stm[2,1] stm[2,5]]\n",
    "\n",
    "        #keep x0 constant\n",
    "        stm_s = [stm[4,3, end] stm[4,5,end]; stm[6,3,end] stm[6,5,end]]\n",
    "        dy = [rv_dot[4]; rv_dot[6]]*[stm[2,3,end] stm[2,5,end]]\n",
    "\n",
    "\n",
    "        #keep y0 constant\n",
    "        #stm_s = [stm[4,1] stm[4,3]; stm[6,1] stm[6,3]]\n",
    "        #dy = [rv_dot[4]; rv_dot[6]]*[stm[2,1] stm[2,3]]\n",
    "\n",
    "\n",
    "        delta_x0 = (stm_s - dy/rv_dot[2])\\δxz\n",
    "        \n",
    "        #println(\"THIS IS CONDITION NUMBER\")\n",
    "        #println(cond((stm_s - dy/rv_dot[2])))\n",
    "\n",
    "        #delta_x0 = stm_s\\δxz\n",
    "\n",
    "        #update the initial state\n",
    "\n",
    "        #x_0_stm[1] = x_0_stm[1] + delta_x0[1]\n",
    "        x_0_stm[3] = x_0_stm[3] + delta_x0[1]\n",
    "        x_0_stm[5] = x_0_stm[5] + delta_x0[2]\n",
    "\n",
    "        #x_0_stm[1:6] = x_0_stm[1:6] + delta\n",
    "        #when delta is below a set tolerance we are done\n",
    "\n",
    "        #println(\"residual: \", δxz)\n",
    "        \n",
    "        if norm(δxz) < 1e-10\n",
    "            #this is the total time, but we use it to ensure we have enough time to find where\n",
    "            #y crosses the xz plane\n",
    "            #print(\"this is sol t: \", sol_t)\n",
    "            #updating time\n",
    "                    \n",
    "            T_f = sol_t[end]*2\n",
    "            break\n",
    "        end\n",
    "\n",
    "    end\n",
    "    \n",
    "    corrected_solution = dynamics_integrate(x_0_stm, T_f)\n",
    "\n",
    "    all_state_final, stm_final, sol_t_final = get_state_stm(corrected_solution)\n",
    "    \n",
    "    return all_state_final, stm_final, sol_t_final, corrected_solution\n",
    "    \n",
    "end"
   ]
  },
  {
   "cell_type": "code",
   "execution_count": null,
   "id": "3e326485",
   "metadata": {},
   "outputs": [],
   "source": [
    "#run the differential corrector to get the corrected solution\n",
    "all_state_final, stm_final, sol_t_final, full_solution = differential_corrector(x_0_stm, T)"
   ]
  },
  {
   "cell_type": "code",
   "execution_count": null,
   "id": "8b0c5f56",
   "metadata": {},
   "outputs": [],
   "source": [
    "#stm_final"
   ]
  },
  {
   "cell_type": "code",
   "execution_count": null,
   "id": "dc113f41",
   "metadata": {},
   "outputs": [],
   "source": [
    "#Finding the unstable direction for the unstable manifold to encode as a constraint\n",
    "\n",
    "#monodromy = stm_final[:,:,end]"
   ]
  },
  {
   "cell_type": "code",
   "execution_count": null,
   "id": "5d8326d6",
   "metadata": {},
   "outputs": [],
   "source": [
    "all_state_final"
   ]
  },
  {
   "cell_type": "code",
   "execution_count": null,
   "id": "c8760a9b",
   "metadata": {},
   "outputs": [],
   "source": [
    "plot(all_state_final[1,:], all_state_final[2,:], all_state_final[3,:])"
   ]
  },
  {
   "cell_type": "code",
   "execution_count": null,
   "id": "e67e52fa",
   "metadata": {},
   "outputs": [],
   "source": [
    "final_norm = all_state_final[:,end] - all_state_final[:,1]"
   ]
  },
  {
   "cell_type": "code",
   "execution_count": null,
   "id": "c1d3b43f",
   "metadata": {},
   "outputs": [],
   "source": [
    "#Check when the orbit leave\n",
    "periodic_initial_condition = all_state_final[:,1]\n",
    "\n",
    "#Integrate the dynamics with the perturbed initial condtition\n",
    "Φ_0 = vec(Matrix(1.0*I, 6,6))\n",
    "x_0_periodic = [periodic_initial_condition; Φ_0]\n",
    "\n",
    "#integrate for 3.5 revs\n",
    "solution_periodic = dynamics_integrate(x_0_stm, 3.5*sol_t_final[end])\n",
    "\n",
    "all_state_lp, stm_in_lp, sol_t_in_lp = get_state_stm(solution_periodic)"
   ]
  },
  {
   "cell_type": "code",
   "execution_count": null,
   "id": "ff51f7f0",
   "metadata": {},
   "outputs": [],
   "source": [
    "all_state_lp"
   ]
  },
  {
   "cell_type": "code",
   "execution_count": null,
   "id": "a2e3ba0a",
   "metadata": {},
   "outputs": [],
   "source": [
    "plot(all_state_lp[1,:], all_state_lp[2,:], all_state_lp[3,:], aspectratio=true)"
   ]
  },
  {
   "cell_type": "code",
   "execution_count": null,
   "id": "10532f51",
   "metadata": {},
   "outputs": [],
   "source": [
    "#as seen above, after about 3.5 periods it begins to diverge from the periodic orbit \n",
    "#will formulate as a convex optimiztion problem to generate the station keeping \n",
    "#maneuvers"
   ]
  },
  {
   "cell_type": "code",
   "execution_count": null,
   "id": "2d907b16",
   "metadata": {},
   "outputs": [],
   "source": [
    "#this is the continuous dynamics\n",
    "#AL2 = ForwardDiff.jacobian(x-> three_body_prob_dynamics(x), all_state_final[:,1])"
   ]
  },
  {
   "cell_type": "code",
   "execution_count": null,
   "id": "86895f82",
   "metadata": {},
   "outputs": [],
   "source": [
    "#this is including the slack variable in the control vector\n",
    "#B = [zeros(3,4); I][1:6, :]"
   ]
  },
  {
   "cell_type": "code",
   "execution_count": null,
   "id": "9bc3967a",
   "metadata": {},
   "outputs": [],
   "source": [
    "nx = 6 #number of states\n",
    "nu = 3 #number of controls "
   ]
  },
  {
   "cell_type": "code",
   "execution_count": null,
   "id": "403848ef",
   "metadata": {},
   "outputs": [],
   "source": [
    "#this is the A tilde to get the discretized dynamics\n",
    "#Ã = [AL2 B; zeros(4,10)]\n",
    "\n",
    "#this is the number of knot points in one horizon\n",
    "N_period = 41  #40 knot points per period per period\n",
    "\n",
    "N_h = 82 #horizon 2 periods\n",
    "\n",
    "#this is the time step. (period T is already scaled). for 1 period\n",
    "# 100 poi\n",
    "Δt = (sol_t_final[end]/(N_period-1))"
   ]
  },
  {
   "cell_type": "code",
   "execution_count": null,
   "id": "575ccf56",
   "metadata": {},
   "outputs": [],
   "source": [
    "# function get_reference(i,N)\n",
    "    \n",
    "#     reference = zeros(nx, N)\n",
    "\n",
    "#     for k=1:N\n",
    "\n",
    "#         reference[:,k] = full_solution(horizon[i:end]).u[k][1:6]\n",
    "        \n",
    "#     end\n",
    "\n",
    "#     return reference\n",
    "    \n",
    "# end"
   ]
  },
  {
   "cell_type": "code",
   "execution_count": null,
   "id": "51a98ca1",
   "metadata": {},
   "outputs": [],
   "source": [
    "#Ad = H[1:nx, 1:nx]\n",
    "#Bd = H[1:nx, nx+1:end]"
   ]
  },
  {
   "cell_type": "code",
   "execution_count": null,
   "id": "22e9c8eb",
   "metadata": {},
   "outputs": [],
   "source": [
    "#umin = 0.5\n",
    "#umax = 1"
   ]
  },
  {
   "cell_type": "code",
   "execution_count": null,
   "id": "65f74a3c",
   "metadata": {},
   "outputs": [],
   "source": [
    "#N (number of knot points) 6x6 discrete dynamics jacobians\n",
    "\n",
    "#this is along 1 period of the reference orbit\n",
    "all_Ad = zeros(6,6,N_period)\n",
    "all_Bd = zeros(6,3,N_period)"
   ]
  },
  {
   "cell_type": "code",
   "execution_count": null,
   "id": "15f167dd",
   "metadata": {},
   "outputs": [],
   "source": [
    "all_state_final[:,1]"
   ]
  },
  {
   "cell_type": "code",
   "execution_count": null,
   "id": "72f9efea",
   "metadata": {},
   "outputs": [],
   "source": [
    "T_corrected = sol_t_final[end]"
   ]
  },
  {
   "cell_type": "code",
   "execution_count": null,
   "id": "e084962b",
   "metadata": {},
   "outputs": [],
   "source": [
    "horizon = LinRange(0, T_corrected, N_period)"
   ]
  },
  {
   "cell_type": "code",
   "execution_count": null,
   "id": "c5353e19",
   "metadata": {},
   "outputs": [],
   "source": [
    "#used to save the state transition matrix at each knot point\n",
    "stm_times = zeros((6,6,N_period))"
   ]
  },
  {
   "cell_type": "code",
   "execution_count": null,
   "id": "264eea0b",
   "metadata": {},
   "outputs": [],
   "source": [
    "horizon"
   ]
  },
  {
   "cell_type": "code",
   "execution_count": null,
   "id": "92d04fe2",
   "metadata": {},
   "outputs": [],
   "source": [
    "full_solution(horizon).u[1][7:end]"
   ]
  },
  {
   "cell_type": "code",
   "execution_count": null,
   "id": "5efabc1b",
   "metadata": {},
   "outputs": [],
   "source": [
    "#get the reference trajectory\n",
    "reference_trajectory = zeros(nx, N_period)\n",
    "\n",
    "for k=1:N_period\n",
    "\n",
    "    reference_trajectory[:,k] = full_solution(horizon).u[k][1:6]\n",
    "    \n",
    "    #save the reference state transition matrices at the dedicated timesteps\n",
    "    \n",
    "    stm_times[:,:,k] = reshape(full_solution(horizon).u[k][7:end], (6,6)) \n",
    "        \n",
    "end"
   ]
  },
  {
   "cell_type": "code",
   "execution_count": null,
   "id": "e95ea608",
   "metadata": {},
   "outputs": [],
   "source": [
    "#monodromy is the stm at the end of the periodic orbit\n",
    "monodromy_eigen = eigen(stm_times[:,:,end])\n",
    "\n",
    "stable_dir = real(monodromy_eigen.vectors[:,1])\n",
    "unstable_dir = real(monodromy_eigen.vectors[:,end])\n",
    "#find the eigen values of the monodromy"
   ]
  },
  {
   "cell_type": "code",
   "execution_count": null,
   "id": "7fd8bf3f",
   "metadata": {},
   "outputs": [],
   "source": [
    "#save the unstable directions in a matrix\n",
    "unstable_directions = zeros(6,N_period)"
   ]
  },
  {
   "cell_type": "code",
   "execution_count": null,
   "id": "52f08b0f",
   "metadata": {},
   "outputs": [],
   "source": [
    "#the unstable directions are then the stm at the timestep multiplied by the unstable direction found by the monodromy\n",
    "\n",
    "for k = 1:N_period\n",
    "    \n",
    "    unstable_directions[:,k] = (stm_times[:,:,k]*unstable_dir)/norm(stm_times[:,:,k]*unstable_dir)\n",
    "    \n",
    "end\n",
    "\n"
   ]
  },
  {
   "cell_type": "code",
   "execution_count": null,
   "id": "4a386d97",
   "metadata": {},
   "outputs": [],
   "source": [
    "#unstable directions for the unstable manifolds along the orbit\n",
    "unstable_directions"
   ]
  },
  {
   "cell_type": "code",
   "execution_count": null,
   "id": "1c75d117",
   "metadata": {},
   "outputs": [],
   "source": [
    "[unstable_directions[1:3, 1]; zeros(3)]"
   ]
  },
  {
   "cell_type": "code",
   "execution_count": null,
   "id": "ddccfc3d",
   "metadata": {},
   "outputs": [],
   "source": [
    "#plot the manifolds\n",
    "#+ manifold to the right\n",
    "# - manifold to the left\n",
    "epz = 1e-5\n",
    "#plot(reference_trajectory[1,:], reference_trajectory[2,:], reference_trajectory[3,:], label=\"Reference Orbit\")\n",
    "\n",
    "plot(reference_trajectory[1,:], reference_trajectory[2,:], label=\"Reference Orbit\")\n",
    "\n",
    "\n",
    "for i=1:41\n",
    "\n",
    "    #initial_state = reference_trajectory[:,i] + epz.*unstable_directions[:,i]\n",
    "\n",
    "    initial_state = reference_trajectory[:,i] + epz.*[unstable_directions[1:3,i];zeros(3)]\n",
    "\n",
    "    #initial_state = reference_trajectory[:,i] - epz.*unstable_directions[:,i]\n",
    "\n",
    "    inv_manifold = just_dynamics_integrate(initial_state, 1.5*sol_t_final[end])\n",
    "\n",
    "    all_state_m = get_state(inv_manifold)\n",
    "\n",
    "    #plot!(all_state_m[1,:], all_state_m[2,:], all_state_m[3,:], color=\"red\", legend=false)\n",
    "\n",
    "    plot!(all_state_m[1,:], all_state_m[2,:], color=\"red\", legend=false)\n",
    "\n",
    "end\n",
    "\n",
    "#plot!(reference_trajectory[1,:], reference_trajectory[2,:], reference_trajectory[3,:], label=\"Reference Orbit\", linewidth = 5)\n",
    "\n",
    "plot!(reference_trajectory[1,:], reference_trajectory[2,:], label=\"Reference Orbit\", linewidth = 5)\n"
   ]
  },
  {
   "cell_type": "code",
   "execution_count": null,
   "id": "f22ada70",
   "metadata": {},
   "outputs": [],
   "source": [
    "#two orbits worth of data\n",
    "unstable_constraint = cat(unstable_directions, unstable_directions, dims=2)"
   ]
  },
  {
   "cell_type": "code",
   "execution_count": null,
   "id": "4a3958fe",
   "metadata": {},
   "outputs": [],
   "source": [
    "plot(reference_trajectory[1,:], reference_trajectory[2,:], reference_trajectory[3,:])\n",
    "\n",
    "scatter!([reference_trajectory[1,1]], [reference_trajectory[2,1]], [reference_trajectory[3,1]])\n",
    "scatter!([reference_trajectory[1,21]], [reference_trajectory[2,21]], [reference_trajectory[3,21]])\n",
    "scatter!([reference_trajectory[1,end]], [reference_trajectory[2,end]], [reference_trajectory[3,end]])"
   ]
  },
  {
   "cell_type": "code",
   "execution_count": null,
   "id": "759e19c0",
   "metadata": {},
   "outputs": [],
   "source": [
    "#obtain the reference trajectory at the knot points that we made up\n",
    "\n",
    "#reference_trajectory = get_reference(1,N_period)"
   ]
  },
  {
   "cell_type": "code",
   "execution_count": null,
   "id": "a7dc8037",
   "metadata": {},
   "outputs": [],
   "source": [
    "#goal is to have a look ahead of 2 orbits and apply an MPC controller \n",
    "\n",
    "#3 periods worth of data (just using the same orbit over the 3 periods)\n",
    "#reference_trajectory_all = [reference_trajectory reference_trajectory reference_trajectory]"
   ]
  },
  {
   "cell_type": "code",
   "execution_count": null,
   "id": "bfe2fc8f",
   "metadata": {},
   "outputs": [],
   "source": [
    "for i=1:N_period\n",
    "\n",
    "    #get the discrete dynamics jacobians for the entire reference trajectory along the knot points\n",
    "\n",
    "    Ak = ForwardDiff.jacobian(x-> three_body_prob_dynamics(x), reference_trajectory[:,i])\n",
    "\n",
    "    #this is including the slack variable in the control vector (this is control on accelerations/thrust)\n",
    "    Bk = [zeros(3,3); I]\n",
    "\n",
    "    #this is the A tilde to get the discretized dynamics\n",
    "    Ãk = [Ak Bk; zeros(3,9)]\n",
    "\n",
    "    H = exp(Ãk*Δt)\n",
    "\n",
    "    all_Ad[:,:,i] = H[1:nx, 1:nx]\n",
    "\n",
    "    all_Bd[:,:,i] = H[1:nx, nx+1:end]\n",
    "    \n",
    "    \n",
    "end"
   ]
  },
  {
   "cell_type": "code",
   "execution_count": null,
   "id": "1724c969",
   "metadata": {},
   "outputs": [],
   "source": [
    "all_Bd"
   ]
  },
  {
   "cell_type": "code",
   "execution_count": null,
   "id": "01c39df8",
   "metadata": {},
   "outputs": [],
   "source": [
    "#concatenate jacobians for two periods\n",
    "\n",
    "all_Ad_1 = cat(all_Ad, all_Ad, dims=3)\n",
    "all_Bd_1 = cat(all_Bd, all_Bd, dims=3)"
   ]
  },
  {
   "cell_type": "code",
   "execution_count": null,
   "id": "91c52e3b",
   "metadata": {},
   "outputs": [],
   "source": [
    "N_period"
   ]
  },
  {
   "cell_type": "code",
   "execution_count": null,
   "id": "046cca6e",
   "metadata": {},
   "outputs": [],
   "source": [
    "num_revs = 100"
   ]
  },
  {
   "cell_type": "code",
   "execution_count": null,
   "id": "2dca5836",
   "metadata": {},
   "outputs": [],
   "source": [
    "#1 revolution is 14 days\n",
    "T*time_scale/60/60/24"
   ]
  },
  {
   "cell_type": "code",
   "execution_count": null,
   "id": "c63593a9",
   "metadata": {},
   "outputs": [],
   "source": [
    "#compute backward ricatti recursion\n",
    "\n",
    "#cost to go matrices\n",
    "#P = zeros((6,6,N_period*num_revs)) #size state x state (6x6) \n",
    "#K = zeros((3,6,N_period*num_revs)) #size control x state (3x6)\n",
    "\n",
    "#cost to go matrices for 16 revs\n",
    "P = zeros((6,6,N_period*16)) #size state x state (6x6) \n",
    "K = zeros((3,6,N_period*16)) #size control x state (3x6)\n",
    "\n",
    "\n",
    "#state cost weight matrix\n",
    "Q = 1.0*Matrix(I,6,6).*1e-3\n",
    "\n",
    "#terminal cost weight matrix\n",
    "Qf = 1.0*Matrix(I,6,6).*1e-3\n",
    "\n",
    "#control cost weight matrix\n",
    "R = 1.0*Matrix(I,3,3).*1e3"
   ]
  },
  {
   "cell_type": "code",
   "execution_count": null,
   "id": "fa7bc0a9",
   "metadata": {},
   "outputs": [],
   "source": [
    "P"
   ]
  },
  {
   "cell_type": "code",
   "execution_count": null,
   "id": "61b2c4a4",
   "metadata": {},
   "outputs": [],
   "source": [
    "1:(N_period*num_revs) - 1"
   ]
  },
  {
   "cell_type": "code",
   "execution_count": null,
   "id": "af7ee58c",
   "metadata": {},
   "outputs": [],
   "source": [
    "all_Ad_rev = all_Ad"
   ]
  },
  {
   "cell_type": "code",
   "execution_count": null,
   "id": "d7ed1a2f",
   "metadata": {},
   "outputs": [],
   "source": [
    "all_Ad_4 = cat(all_Ad_1, all_Ad_1, dims=3)\n",
    "all_Bd_4 = cat(all_Bd_1, all_Bd_1, dims=3)\n",
    "\n",
    "all_Ad_8 = cat(all_Ad_4, all_Ad_4, dims=3)\n",
    "all_Bd_8 = cat(all_Bd_4, all_Bd_4, dims=3)\n",
    "\n",
    "all_Ad_16 = cat(all_Ad_8, all_Ad_8, dims=3)\n",
    "all_Bd_16 = cat(all_Bd_8, all_Bd_8, dims=3)"
   ]
  },
  {
   "cell_type": "code",
   "execution_count": null,
   "id": "205d7aa8",
   "metadata": {},
   "outputs": [],
   "source": [
    "for i = 1:num_revs\n",
    "    all_Ad_rev = (all_Ad_rev, all_Ad, dims=3)\n",
    "end"
   ]
  },
  {
   "cell_type": "code",
   "execution_count": null,
   "id": "91fa6df9",
   "metadata": {},
   "outputs": [],
   "source": [
    "# P[:,:,end] = Qf\n",
    "\n",
    "# for k = reverse(1:(N_period*num_revs) - 1)\n",
    "    \n",
    "#     K[:,:,k] = (R + all_Bd_1[:,:,k]'*P[:,:,k+1]*all_Bd_1[:,:,k])\\(all_Bd_1[:,:,k]'*P[:,:,k+1]*all_Ad_1[:,:, k]) # ricatti recursion for both A and B matrices changing\n",
    "#     P[:,:,k] = Q + all_Ad_1[:,:,k]'*P[:,:,k+1]*all_Ad_1[:,:,k] - all_Ad_1[:,:,k]'*P[:,:,k+1]*all_Bd_1[:,:,k]*K[:,:,k]\n",
    " \n",
    "# end "
   ]
  },
  {
   "cell_type": "code",
   "execution_count": null,
   "id": "3d5ffd04",
   "metadata": {},
   "outputs": [],
   "source": [
    "#Ricatti recursion over 2 periods\n",
    "P[:,:,end] = Qf\n",
    "\n",
    "for k = reverse(1:N_period*16-1)\n",
    "    #println(k)    \n",
    "    K[:,:,k] = (R + all_Bd_16[:,:,k]'*P[:,:,k+1]*all_Bd_16[:,:,k])\\(all_Bd_16[:,:,k]'*P[:,:,k+1]*all_Ad_16[:,:, k]) # ricatti recursion for both A and B matrices changing\n",
    "    P[:,:,k] = Q + all_Ad_16[:,:,k]'*P[:,:,k+1]*all_Ad_16[:,:,k] - all_Ad_16[:,:,k]'*P[:,:,k+1]*all_Bd_16[:,:,k]*K[:,:,k]\n",
    "        \n",
    "end"
   ]
  },
  {
   "cell_type": "code",
   "execution_count": null,
   "id": "6c225dc8",
   "metadata": {},
   "outputs": [],
   "source": [
    "P"
   ]
  },
  {
   "cell_type": "code",
   "execution_count": null,
   "id": "c53a2ae6",
   "metadata": {},
   "outputs": [],
   "source": [
    "P[:,:,1]"
   ]
  },
  {
   "cell_type": "code",
   "execution_count": null,
   "id": "29419267",
   "metadata": {},
   "outputs": [],
   "source": [
    "plot(P[1,1,:])\n",
    "#plot(P[2,2,:])\n",
    "#plot(P[3,3,:])\n",
    "#plot(P[4,4,:])\n",
    "#plot(P[5,5,:])\n",
    "#plot(P[6,6,:])"
   ]
  },
  {
   "cell_type": "code",
   "execution_count": null,
   "id": "e1b200de",
   "metadata": {},
   "outputs": [],
   "source": [
    "#cost to go converges and is periodic! will get one orbit of the cost to go to make a constraint\n",
    "V = P[:,:,1:41]"
   ]
  },
  {
   "cell_type": "code",
   "execution_count": null,
   "id": "656d9d0e",
   "metadata": {},
   "outputs": [],
   "source": [
    "#cost to go matrices for 2 orbits worth of data\n",
    "V_2orbits = cat(V, V, dims=3)"
   ]
  },
  {
   "cell_type": "code",
   "execution_count": null,
   "id": "ba415c1a",
   "metadata": {},
   "outputs": [],
   "source": [
    "V_first = V_2orbits[:,:,1]"
   ]
  },
  {
   "cell_type": "code",
   "execution_count": null,
   "id": "fb803b79",
   "metadata": {},
   "outputs": [],
   "source": [
    "V_first'"
   ]
  },
  {
   "cell_type": "code",
   "execution_count": null,
   "id": "b509a96e",
   "metadata": {},
   "outputs": [],
   "source": [
    "difference = V_first - V_first'"
   ]
  },
  {
   "cell_type": "code",
   "execution_count": null,
   "id": "b3f3f6c0",
   "metadata": {},
   "outputs": [],
   "source": [
    "difference2 = V_2orbits[:,:,2] - V_2orbits[:,:,2]'"
   ]
  },
  {
   "cell_type": "code",
   "execution_count": null,
   "id": "cd149f39",
   "metadata": {},
   "outputs": [],
   "source": [
    "symmetric_v1 = (V_first + V_first')/2"
   ]
  },
  {
   "cell_type": "code",
   "execution_count": null,
   "id": "8c47f1c9",
   "metadata": {},
   "outputs": [],
   "source": [
    "#needed for the quadratic constraint\n",
    "invsymmetricv1 = inv(symmetric_v1)"
   ]
  },
  {
   "cell_type": "code",
   "execution_count": null,
   "id": "2af22a79",
   "metadata": {},
   "outputs": [],
   "source": [
    "invsymmetricv1 - invsymmetricv1'"
   ]
  },
  {
   "cell_type": "code",
   "execution_count": null,
   "id": "918fe94d",
   "metadata": {},
   "outputs": [],
   "source": [
    "display(V_first)"
   ]
  },
  {
   "cell_type": "code",
   "execution_count": null,
   "id": "32266da8",
   "metadata": {},
   "outputs": [],
   "source": [
    "#\n",
    "#x_initial_ref'*inv(V_first)*x_initial_ref"
   ]
  },
  {
   "cell_type": "code",
   "execution_count": null,
   "id": "226c7994",
   "metadata": {},
   "outputs": [],
   "source": [
    "#far_deviation = [1, 0, 1, 0, 1, 0]"
   ]
  },
  {
   "cell_type": "code",
   "execution_count": null,
   "id": "010a1802",
   "metadata": {},
   "outputs": [],
   "source": [
    "#cost to go for this far deviation\n",
    "#far_deviation'*inv(V_first)*far_deviation"
   ]
  },
  {
   "cell_type": "code",
   "execution_count": null,
   "id": "967489eb",
   "metadata": {},
   "outputs": [],
   "source": [
    "#get the initial delta x\n",
    "#this is some noise on the reference trajectory\n",
    "\n",
    "#some arbitrary deviation from the reference trajectory\n",
    "#x_initial_ref = [1e-4, 1e-4, 1e-4, 1e-5, 1e-5, 1e-5]\n",
    "\n",
    "#this is working\n",
    "#x_initial_ref = [1e-9, 0, 0, 0, 1e-9, 0]\n",
    "\n",
    "#this is working. Pretty far deviation in x = 385 km, and vy off by ~1e-3 km/s\n",
    "#x_initial_ref = [1e-3, 0, 0, 0, 1e-3, 0]\n",
    "\n",
    "\n",
    "#off by 385 km meters and ~1 mm/s\n",
    "\n",
    "#x_initial_ref = [1e-3, 0, 0, 0, 1e-6, 0]\n",
    "\n",
    "\n",
    "#try a small deviation\n",
    "x_initial_ref = [1e-9, 0, 0, 0, 1e-9, 0]\n",
    "\n",
    "#ensure that the initial deviation is in the unstable manifold direction\n",
    "#x_initial_ref = [1e-9, -1e-9, 1e-9, 1e-9, -1e-9, 1e-9]"
   ]
  },
  {
   "cell_type": "code",
   "execution_count": null,
   "id": "c09312eb",
   "metadata": {},
   "outputs": [],
   "source": [
    "#concatenate unstable directions for 2 orbits\n",
    "\n",
    "unstable_directions_2 = cat(unstable_directions, unstable_directions, dims=2)"
   ]
  },
  {
   "cell_type": "code",
   "execution_count": null,
   "id": "7b27ce1b",
   "metadata": {},
   "outputs": [],
   "source": [
    "unstable_sub = unstable_directions_2[:,1:0]"
   ]
  },
  {
   "cell_type": "code",
   "execution_count": null,
   "id": "1ccebba2",
   "metadata": {},
   "outputs": [],
   "source": [
    "#this is how we will do the indexing for the reference trajectory and everything else\n",
    "unstable_sub = [unstable_directions_2[:,1:end] unstable_directions_2[:,1:0]]"
   ]
  },
  {
   "cell_type": "code",
   "execution_count": null,
   "id": "f1bf4091",
   "metadata": {},
   "outputs": [],
   "source": [
    "V_2orbits"
   ]
  },
  {
   "cell_type": "code",
   "execution_count": null,
   "id": "9f4b6a42",
   "metadata": {},
   "outputs": [],
   "source": [
    "#cost to go level set\n",
    "epsilon = 1e-6\n",
    "\n",
    "umax = 0.025"
   ]
  },
  {
   "cell_type": "code",
   "execution_count": null,
   "id": "ad418474",
   "metadata": {},
   "outputs": [],
   "source": [
    "tube_pose_r = 1e-5\n",
    "tube_vel_r = 1e-5"
   ]
  },
  {
   "cell_type": "code",
   "execution_count": null,
   "id": "ebc38e91",
   "metadata": {},
   "outputs": [],
   "source": [
    "x_initial_ref[:,1]"
   ]
  },
  {
   "cell_type": "code",
   "execution_count": null,
   "id": "68943ae3",
   "metadata": {},
   "outputs": [],
   "source": [
    "c_test= unstable_directions[:,1]/tan(pi/6)\n",
    "\n",
    "manifold_constraint_test = norm(x_initial_ref[:,1]) - c_test'*(x_initial_ref[:,1])"
   ]
  },
  {
   "cell_type": "code",
   "execution_count": null,
   "id": "2d4b0c09",
   "metadata": {},
   "outputs": [],
   "source": [
    "dot(x_initial_ref[:,1], unstable_directions[:,1])"
   ]
  },
  {
   "cell_type": "code",
   "execution_count": null,
   "id": "d0bd438d",
   "metadata": {},
   "outputs": [],
   "source": [
    "dot(reference_trajectory[:,1] + x_initial_ref, unstable_directions[:,1])"
   ]
  },
  {
   "cell_type": "code",
   "execution_count": null,
   "id": "fcf73090",
   "metadata": {},
   "outputs": [],
   "source": [
    "test = (reference_trajectory[:,1] + x_initial_ref)/norm(reference_trajectory[:,1] + x_initial_ref)"
   ]
  },
  {
   "cell_type": "code",
   "execution_count": null,
   "id": "74b94a71",
   "metadata": {},
   "outputs": [],
   "source": [
    "dot(test, unstable_directions[:,1])"
   ]
  },
  {
   "cell_type": "code",
   "execution_count": null,
   "id": "46ba34a7",
   "metadata": {},
   "outputs": [],
   "source": [
    "L"
   ]
  },
  {
   "cell_type": "code",
   "execution_count": null,
   "id": "ebd7cbd8",
   "metadata": {},
   "outputs": [],
   "source": [
    "dot(x_initial_ref, unstable_directions[:,1])"
   ]
  },
  {
   "cell_type": "code",
   "execution_count": null,
   "id": "b6120fd5",
   "metadata": {},
   "outputs": [],
   "source": [
    "#formulate the problem at every solve\n",
    "\n",
    "#BUG: should also be sending in the updated cost to go and unstable directions matrices as you go along the orbit\n",
    "\n",
    "#pass in the initial condition, along with jacobians of the current reference trajectory \n",
    "function update_prob(x_initial_k, all_Ad_k, all_Bd_k, P_k, unstable_directions_k)\n",
    "    \n",
    "    #clear the constraints and decision variables every run\n",
    "    #cons = 0\n",
    "    #U = 0\n",
    "    \n",
    "    X = Variable(nx,N_h)\n",
    "        \n",
    "    U = Variable(nu, N_h-1)\n",
    "    \n",
    "    #initial state constraint\n",
    "    cons = Constraint[X[:,1] == x_initial_k]\n",
    "\n",
    "    #state constraints\n",
    "    #Dynamics constraint (for the entire horizon)\n",
    "    \n",
    "    for k=1:(N_h-1)\n",
    "        #these are the dynamics for delta x\n",
    "        \n",
    "        #all_Ad_k will have the 120 jacobians that are associated to the reference trajectory at the moment. \n",
    "        \n",
    "        push!(cons, X[:,k+1] == all_Ad_k[:,:,k]*X[:,k]+all_Bd_k[:,:,k]*U[:,k])\n",
    "    end\n",
    "    \n",
    "    #already propagating the deltas since we are linearizing the dynamics about the reference trajectories\n",
    "    \n",
    "#     for k=1:(N_h-1)        \n",
    "#         #Box constraints on the deviation from the reference trajectory\n",
    "                \n",
    "#         push!(cons, X[1,k] <= xmax)\n",
    "#         push!(cons, X[1,k] >= -xmax)\n",
    "#         push!(cons, X[2,k] <= ymax)\n",
    "#         push!(cons, X[2,k] >= -ymax)\n",
    "#         push!(cons, X[3,k]<= zmax)\n",
    "#         push!(cons, X[3,k] >= -zmax)\n",
    "         \n",
    "#     end\n",
    "    \n",
    "    \n",
    "    #tube constraint\n",
    "    #for k=2:(N_h-1) #this was there before and works\n",
    "    #THIS WORKS\n",
    "    # for k=2:N_h \n",
    "    #    push!(cons, norm(X[1:3,k],2) <= tube_pose_r)\n",
    "    \n",
    "    #    push!(cons, norm(X[4:6,k],2) <= tube_vel_r)\n",
    "         \n",
    "    # end\n",
    "    \n",
    "    \n",
    "    #cost to go constraint (working)\n",
    "    for k=2:N_h\n",
    "        \n",
    "       costtogo = P_k[:,:,k]\n",
    "        \n",
    "       costtogo_hermitian = (costtogo + costtogo')/2\n",
    "        \n",
    "       #relaxing bc of the manifold constraint\n",
    "       ctg_constraint = quadform(X[:,k], costtogo_hermitian) <= epsilon\n",
    "        \n",
    "       push!(cons, ctg_constraint)\n",
    "                \n",
    "    end\n",
    "    \n",
    "    #manifold constraint (useful)\n",
    "    #the delta x needs to be normalized\n",
    "    #exits to the left with the negative sending\n",
    "    #this is what is used. for some reason it is being infeasbile in problem 2\n",
    "   #for k=1:N_h\n",
    "#     for k=2:N_h \n",
    "        \n",
    "#       #this works the best. investigate why \n",
    "#       #manifold goes to the left.  (w no ctg constraint)\n",
    "#       #manifold_constraint = dot(X[:,k], unstable_directions_k[:,k])\n",
    "        \n",
    "#       #push!(cons, manifold_constraint >= 0.5*norm(X[:,k]))\n",
    "        \n",
    "        \n",
    "#       #testing  (working) \n",
    "#       #goes left with positive unstable direction\n",
    "#       manifold_constraint = dot(X[:,k], 1*unstable_directions_k[:,k])\n",
    "        \n",
    "#       #push!(cons, manifold_constraint >= 0.1*norm(X[:,k]))\n",
    "\n",
    "#       #push!(cons, manifold_constraint >= 0)\n",
    "\n",
    "#       #trying out \n",
    "#       push!(cons, manifold_constraint > 0)\n",
    "\n",
    "                \n",
    "        \n",
    "#    end\n",
    "\n",
    "    # for k = 2:N_h\n",
    "            \n",
    "    #         #manifold goes to the right\n",
    "    #         manifold_constraint = dot(X[:,k], unstable_directions_k[:,k])\n",
    "    \n",
    "    #         push!(cons, 1-manifold_constraint >= 0)\n",
    "    #         push!(cons, 1-manifold_constraint < 1)\n",
    "    \n",
    "    # end\n",
    "\n",
    "   #manifold glideslope constraint for the whole unstable direction\n",
    "\n",
    "#    for k=2:N_h\n",
    "#     for k=1:N_h\n",
    "\n",
    "#         #works with pi/5 too\n",
    "#         c = unstable_directions_k[:,k]/tan(pi/6)\n",
    "\n",
    "#         manifold_constraint = norm(X[:,k]) - c'*(X[:,k])\n",
    "\n",
    "#         push!(cons, manifold_constraint <= 0)\n",
    "\n",
    "#    end\n",
    "\n",
    "#just for position\n",
    "   for k=2:N_h\n",
    "        \n",
    "    #works with pi/5 too\n",
    "    c = unstable_directions_k[:,k]/tan(pi/6)\n",
    "    #c = unstable_directions_k[:,k]/tan((pi/2) - deg2rad(60)\n",
    "\n",
    "    manifold_constraint = norm(X[:,k]) - c'*X[:,k]\n",
    "\n",
    "    push!(cons, manifold_constraint <= 0)\n",
    "\n",
    "end\n",
    "\n",
    "    \n",
    "     \n",
    "    #Controls Constraint\n",
    "    \n",
    "    for k=1:(N_h-1)\n",
    "        \n",
    "      push!(cons, norm(U[1:3, k]) <= umax)\n",
    "\n",
    "    end\n",
    "        \n",
    "    #    push!(cons, U[1:3, k]> umin)\n",
    "        \n",
    "        \n",
    "        #not working\n",
    "        #σ = U[4,k]\n",
    "        \n",
    "        #convexified non convex constraint lower bound\n",
    "        #push!(cons, umin <= σ)\n",
    "        \n",
    "        #convexified non convex constraint upper bound\n",
    "        #push!(cons, σ <= umax)\n",
    "        \n",
    "        #convex upper bound on the thrust norm\n",
    "        #push!(cons, norm(U[1:3,k]) <= σ)\n",
    "        \n",
    "        \n",
    "        #upper bound\n",
    "        #push!(cons, norm(U[1:3,k]) <= min(σ, umax))\n",
    "        \n",
    "        \n",
    "    #end\n",
    "    \n",
    "    #print(\"done\")\n",
    "    \n",
    "    return cons, X, U\n",
    "        \n",
    "end"
   ]
  },
  {
   "cell_type": "code",
   "execution_count": null,
   "id": "b84d5329",
   "metadata": {},
   "outputs": [],
   "source": [
    "x_initial_ref"
   ]
  },
  {
   "cell_type": "code",
   "execution_count": null,
   "id": "59c6b206",
   "metadata": {},
   "outputs": [],
   "source": [
    "unstable_directions[:,1]"
   ]
  },
  {
   "cell_type": "code",
   "execution_count": null,
   "id": "351afc04",
   "metadata": {},
   "outputs": [],
   "source": [
    "#create the optimization problem\n",
    "\n",
    "function solve_opt(cons, X, U, N)\n",
    "    \n",
    "    #these are tuning parameters\n",
    "    \n",
    "    #controls how tight you are tracking the reference \n",
    "    #α = 1e3\n",
    "    \n",
    "    #controls how much control effort you want to use (high value = low control)\n",
    "    #β = 1e6\n",
    "    #β = [1e6, 1e6, 1e15]\n",
    "    #β = [1e3, 1e3, 1e3]\n",
    "    #works with 1\n",
    "    #works good with 1e-4 on just tracking and 0 on controls\n",
    "    #β = 0\n",
    "    #α = 1e-5\n",
    "\n",
    "    #testing\n",
    "    β = 1\n",
    "    α = 1\n",
    "\n",
    "    \n",
    "    #β = 1 #some of the revs are slow to solve and solution may be innacurate\n",
    "    \n",
    "    #the cost function (L1 norm on the cost and the tracking error)\n",
    "    obj = 0\n",
    "    \n",
    "    #for k=1:N\n",
    "    #    obj += α*norm(X[:,k], 1)\n",
    "    #end\n",
    "    \n",
    "    \n",
    "    #for a lyaponov orbit we want to stay in the x y plane, so we penalize z maneuvers heavily while \n",
    "    #allowing for x and y\n",
    "    \n",
    "    for k=1:N-1\n",
    "        \n",
    "       #obj += β[1]*abs(U[1,k])+β[2]*abs(U[2,k]) +β[3]*abs(U[3,k])  \n",
    "        \n",
    "       #obj += β*norm(U[:,k], 1)\n",
    "        \n",
    "        #use L2 norm\n",
    "        \n",
    "        #^2 doesn't work in Convex.jl. have to use quadform \n",
    "        #obj += β*(norm(U[:,k]))^2 + α*(norm(X[:,k]))^2\n",
    "\n",
    "        #obj = (norm(X[:,k]))^2\n",
    "\n",
    "        \n",
    "        #Px = 1.0*Matrix(I,6,6)\n",
    "\n",
    "        #Pu = 1.0*Matrix(I,3,3)  \n",
    "        #this gives the expected behavior with the manifolds but it does not minimize for cost\n",
    "        #obj += quadform(X[:,k], Px; assume_psd=false)\n",
    "\n",
    "        #obj += quadform(U[:,k], Pu; assume_psd=false)\n",
    "        \n",
    "        #this cost function works good, but gives continous thrust \n",
    "        #obj += quadform(U[:,k], Pu; assume_psd=false) + quadform(X[:,k], Px; assume_psd=false)\n",
    "        #obj += β*norm(U[:,k], 1) + α*norm(X[:,k], 1)\n",
    "        obj += norm(U[:,k], 1)\n",
    "        #obj += norm(X[:,k], 2) \n",
    "        \n",
    "    end\n",
    "            \n",
    "    \n",
    "    prob = minimize(obj, cons);\n",
    "    \n",
    "    #this objective function is working\n",
    "    #prob = minimize(norm(X[:,end]), cons);\n",
    "    \n",
    "    #this works too\n",
    "    #prob = minimize(quadform(X[:,end], Q), cons)\n",
    "    \n",
    "    #print(\"mosek solving\")\n",
    "    #solve the problem with Mosek\n",
    "    Convex.solve!(prob, ()-> Mosek.Optimizer(), silent_solver=true);\n",
    "    \n",
    "    #solve the problem with ECOS\n",
    "    #Convex.solve!(prob, ()-> ECOS.Optimizer(), silent_solver=false);\n",
    "    \n",
    "    Xm = X.value;\n",
    "    Um = U.value;\n",
    "\n",
    "    display(prob.status)\n",
    "    \n",
    "    return Xm, Um\n",
    "    \n",
    "end"
   ]
  },
  {
   "cell_type": "code",
   "execution_count": null,
   "id": "54101f71",
   "metadata": {},
   "outputs": [],
   "source": [
    "#Q = Matrix(I,6,6).*[1e7*ones(3); 1e7*ones(3)]\n",
    "\n",
    "#the manifold constraint is the one that is not being satisfied. I think it has to do with numerical conditioning as the values are very small\n"
   ]
  },
  {
   "cell_type": "code",
   "execution_count": null,
   "id": "be13d1dc",
   "metadata": {},
   "outputs": [],
   "source": [
    "x_initial_ref"
   ]
  },
  {
   "cell_type": "code",
   "execution_count": null,
   "id": "8480a35c",
   "metadata": {},
   "outputs": [],
   "source": [
    "reference_trajectory[:,1] - reference_trajectory[:,end]"
   ]
  },
  {
   "cell_type": "code",
   "execution_count": null,
   "id": "952dbf42",
   "metadata": {},
   "outputs": [],
   "source": [
    "plot(reference_trajectory[1,:], reference_trajectory[2,:], reference_trajectory[3,:])\n",
    "\n",
    "scatter!([reference_trajectory[1,1]], [reference_trajectory[2,1]], [reference_trajectory[3,1]])\n",
    "\n",
    "scatter!([reference_trajectory[1,end]], [reference_trajectory[2,end]], [reference_trajectory[3,end]])\n",
    "\n",
    "scatter!([reference_trajectory[1,21]], [reference_trajectory[2,21]], [reference_trajectory[3,21]])\n",
    "\n",
    "\n",
    "#plot(reference_trajectory[1,:], reference_trajectory[2,:], reference_trajectory[3,:])"
   ]
  },
  {
   "cell_type": "code",
   "execution_count": null,
   "id": "3e678736",
   "metadata": {},
   "outputs": [],
   "source": [
    "x_initial_ref"
   ]
  },
  {
   "cell_type": "code",
   "execution_count": null,
   "id": "3f2e1e65",
   "metadata": {},
   "outputs": [],
   "source": [
    "#reference_traj_1 = [reference_trajectory reference_trajectory]"
   ]
  },
  {
   "cell_type": "code",
   "execution_count": null,
   "id": "25437761",
   "metadata": {},
   "outputs": [],
   "source": [
    "#just test to see if it solves\n",
    "\n",
    "all_Ad_1 = cat(all_Ad, all_Ad, dims=3)\n",
    "all_Bd_1 = cat(all_Bd, all_Bd, dims=3)\n",
    "\n",
    "#there was nothing in place for all_Ad_1, maybe a bug? \n",
    "display(\"updating prob\")\n",
    "cons, X, U = update_prob(x_initial_ref, all_Ad_1, all_Bd_1, V_2orbits, unstable_directions_2)\n",
    "display(\"solving\")\n",
    "display(X)\n",
    "Xm, Um = solve_opt(cons, X, U, N_h)"
   ]
  },
  {
   "cell_type": "code",
   "execution_count": null,
   "id": "9be623ad",
   "metadata": {},
   "outputs": [],
   "source": [
    "x_initial_ref"
   ]
  },
  {
   "cell_type": "code",
   "execution_count": null,
   "id": "3cacad20",
   "metadata": {},
   "outputs": [],
   "source": [
    "dot(Xm[:,2], unstable_directions[:,2])"
   ]
  },
  {
   "cell_type": "code",
   "execution_count": null,
   "id": "b4948aa2",
   "metadata": {},
   "outputs": [],
   "source": [
    "x2 = integrate_1dt(reference_trajectory[:,1]+ x_initial_ref, Um[:,1])"
   ]
  },
  {
   "cell_type": "code",
   "execution_count": null,
   "id": "2d686b18",
   "metadata": {},
   "outputs": [],
   "source": [
    "delta_x2 = x2 - reference_trajectory[:,2]"
   ]
  },
  {
   "cell_type": "code",
   "execution_count": null,
   "id": "abd42e0b",
   "metadata": {},
   "outputs": [],
   "source": [
    "Xm[:,2]"
   ]
  },
  {
   "cell_type": "code",
   "execution_count": null,
   "id": "bcd073a5",
   "metadata": {},
   "outputs": [],
   "source": [
    "5.4050261613382056e-11*L*1e3"
   ]
  },
  {
   "cell_type": "code",
   "execution_count": null,
   "id": "cf6f90dc",
   "metadata": {},
   "outputs": [],
   "source": [
    "dot(delta_x2, unstable_directions[:,2])"
   ]
  },
  {
   "cell_type": "code",
   "execution_count": null,
   "id": "23c1e252",
   "metadata": {},
   "outputs": [],
   "source": [
    "#normalized_xm2 = Xm[:,2]/norm(Xm[:,2])\n",
    "#dot(unstable_directions[:,2], normalized_xm2)"
   ]
  },
  {
   "cell_type": "code",
   "execution_count": null,
   "id": "b06844c7",
   "metadata": {},
   "outputs": [],
   "source": []
  },
  {
   "cell_type": "code",
   "execution_count": null,
   "id": "a9d1766e",
   "metadata": {},
   "outputs": [],
   "source": [
    "#check the constraint\n",
    "\n",
    "#this is because the constraint is from 2:Nh\n",
    "constraint_satisfied = zeros(N_h)\n",
    "\n",
    "for i=1:N_h\n",
    "    constraint_satisfied[i] = dot(Xm[1:3,i], unstable_directions_2[1:3,i])\n",
    "end\n",
    "\n",
    "#constraint is not being satisfied... has to do with the cost function. whenever I have a\n",
    "#tracking cost with a weight of 1e-2 and a control cost with scale 1, it doesn't work. However, \n",
    "#when I remove the cost on the controls and make the weight less on the tracking (1e-5) it works (up to the last point)\n",
    "\n",
    "#with just a tracking cost with a weight of 1e-2 it doesn't satisfy the constraint fully"
   ]
  },
  {
   "cell_type": "code",
   "execution_count": null,
   "id": "9c4aff15",
   "metadata": {},
   "outputs": [],
   "source": [
    "constraint_satisfied[1]"
   ]
  },
  {
   "cell_type": "code",
   "execution_count": null,
   "id": "20d6a537",
   "metadata": {},
   "outputs": [],
   "source": [
    "constraint_satisfied[15]"
   ]
  },
  {
   "cell_type": "code",
   "execution_count": null,
   "id": "174c8e7f",
   "metadata": {},
   "outputs": [],
   "source": [
    "Xm[:,18]/norm(Xm[:,18])"
   ]
  },
  {
   "cell_type": "code",
   "execution_count": null,
   "id": "310c5724",
   "metadata": {},
   "outputs": [],
   "source": [
    "unstable_directions[:,18]"
   ]
  },
  {
   "cell_type": "code",
   "execution_count": null,
   "id": "f89ea4a5",
   "metadata": {},
   "outputs": [],
   "source": [
    "constraint_bool = constraint_satisfied .> 0\n",
    "\n",
    "plot(constraint_bool)"
   ]
  },
  {
   "cell_type": "code",
   "execution_count": null,
   "id": "7133c72a",
   "metadata": {},
   "outputs": [],
   "source": [
    "#for one period 40 controls\n",
    "xtraj_test = integrate_oneperiod(Xm[:,1] + reference_trajectory[:,1], Um[:,1:40])"
   ]
  },
  {
   "cell_type": "code",
   "execution_count": null,
   "id": "724783f7",
   "metadata": {},
   "outputs": [],
   "source": [
    "test2 = xtraj_test - reference_trajectory"
   ]
  },
  {
   "cell_type": "code",
   "execution_count": null,
   "id": "89266e20",
   "metadata": {},
   "outputs": [],
   "source": [
    "constraint_satisfied_test2 = zeros(41)\n",
    "\n",
    "for i=1:41\n",
    "    constraint_satisfied_test2[i] = dot(test2[1:3,i], unstable_directions_2[1:3,i])\n",
    "end"
   ]
  },
  {
   "cell_type": "code",
   "execution_count": null,
   "id": "e5795cb8",
   "metadata": {},
   "outputs": [],
   "source": [
    "#plot(constraint_satisfied_test2)"
   ]
  },
  {
   "cell_type": "code",
   "execution_count": null,
   "id": "4b9faea0",
   "metadata": {},
   "outputs": [],
   "source": [
    "Xm[:,41]/norm(Xm[:,41])"
   ]
  },
  {
   "cell_type": "code",
   "execution_count": null,
   "id": "ef3787a1",
   "metadata": {},
   "outputs": [],
   "source": [
    "unstable_directions[:,end]"
   ]
  },
  {
   "cell_type": "code",
   "execution_count": null,
   "id": "20d9a255",
   "metadata": {},
   "outputs": [],
   "source": [
    "dot(Xm[:,41], unstable_directions[:,end])"
   ]
  },
  {
   "cell_type": "code",
   "execution_count": null,
   "id": "805b3a2f",
   "metadata": {},
   "outputs": [],
   "source": [
    "plot(xtraj_test[1,:], xtraj_test[2,:], xtraj_test[3,:])"
   ]
  },
  {
   "cell_type": "code",
   "execution_count": null,
   "id": "ec993051",
   "metadata": {},
   "outputs": [],
   "source": [
    "final = Xm + [reference_trajectory reference_trajectory]"
   ]
  },
  {
   "cell_type": "code",
   "execution_count": null,
   "id": "ba9cb083",
   "metadata": {},
   "outputs": [],
   "source": [
    "#test out the integration function\n",
    "#xtraj_test = integrate_oneperiod(final[:,1], Um[:,1:39])"
   ]
  },
  {
   "cell_type": "code",
   "execution_count": null,
   "id": "03e2162d",
   "metadata": {},
   "outputs": [],
   "source": [
    "#plot(xtraj_test[1,:], xtraj_test[2,:], xtraj_test[3,:])"
   ]
  },
  {
   "cell_type": "code",
   "execution_count": null,
   "id": "fcdd70df",
   "metadata": {},
   "outputs": [],
   "source": [
    "plot(Um[1,:])"
   ]
  },
  {
   "cell_type": "code",
   "execution_count": null,
   "id": "60018ab6",
   "metadata": {},
   "outputs": [],
   "source": [
    "plot(Um[2,:])"
   ]
  },
  {
   "cell_type": "code",
   "execution_count": null,
   "id": "2565f2bb",
   "metadata": {},
   "outputs": [],
   "source": [
    "plot(Um[3,:])"
   ]
  },
  {
   "cell_type": "code",
   "execution_count": null,
   "id": "b13d275f",
   "metadata": {},
   "outputs": [],
   "source": [
    "Xm[:,21]"
   ]
  },
  {
   "cell_type": "code",
   "execution_count": null,
   "id": "96610abb",
   "metadata": {},
   "outputs": [],
   "source": [
    "final"
   ]
  },
  {
   "cell_type": "code",
   "execution_count": null,
   "id": "fff09c50",
   "metadata": {},
   "outputs": [],
   "source": [
    "N_h"
   ]
  },
  {
   "cell_type": "code",
   "execution_count": null,
   "id": "cbdc5506",
   "metadata": {},
   "outputs": [],
   "source": [
    "#check out the 1 period solve\n",
    "\n",
    "#the x trajectory is generated using the linear dynamics\n",
    "plot(final[1,1:41], final[2,1:41], final[3,1:41])\n",
    "#scatter!([final[1,1]], [final[2,1]], [final[3,1]])"
   ]
  },
  {
   "cell_type": "code",
   "execution_count": null,
   "id": "43d19476",
   "metadata": {},
   "outputs": [],
   "source": [
    "1e-5*V"
   ]
  },
  {
   "cell_type": "code",
   "execution_count": null,
   "id": "c852797b",
   "metadata": {},
   "outputs": [],
   "source": [
    "norm(final[:,1] - final[:,40])"
   ]
  },
  {
   "cell_type": "code",
   "execution_count": null,
   "id": "f8bf2cc5",
   "metadata": {},
   "outputs": [],
   "source": [
    "#this initial condition is working\n",
    "#x_initial_ref = [1e-4, 0, 0, 0, 1e-4, 0]\n",
    "\n",
    "#x_initial_ref = [1e-6, 0, 0, 0, 1e-6, 0]\n",
    "\n",
    "\n",
    "#x_initial_ref = [1e-3, 0, 0, 0, 1e-3, 0]"
   ]
  },
  {
   "cell_type": "markdown",
   "id": "261bcc46",
   "metadata": {},
   "source": []
  },
  {
   "cell_type": "code",
   "execution_count": null,
   "id": "e5bdea3a",
   "metadata": {},
   "outputs": [],
   "source": [
    "xposedeviation = x_initial_ref[1] * L*1e3 #in meters\n",
    "\n",
    "vyposedeviation = x_initial_ref[5]*V_*1e3 #in m/s\n",
    "\n",
    "display(xposedeviation)\n",
    "display(vyposedeviation)"
   ]
  },
  {
   "cell_type": "code",
   "execution_count": null,
   "id": "7da47ec8",
   "metadata": {},
   "outputs": [],
   "source": [
    "#this is one set of jacobians. if starting from beginning \n",
    "\n",
    "#all_Ad_1 = cat(all_Ad, all_Ad, dims=3)\n",
    "#all_Bd_1 = cat(all_Bd, all_Bd, dims=3)"
   ]
  },
  {
   "cell_type": "code",
   "execution_count": null,
   "id": "a05433e5",
   "metadata": {},
   "outputs": [],
   "source": [
    "all_Ad[:,:,21:end]"
   ]
  },
  {
   "cell_type": "code",
   "execution_count": null,
   "id": "0749163e",
   "metadata": {},
   "outputs": [],
   "source": [
    "#all_Ad[:,:,41:end]"
   ]
  },
  {
   "cell_type": "code",
   "execution_count": null,
   "id": "c47e7a6f",
   "metadata": {},
   "outputs": [],
   "source": [
    "#Ad_k = cat(all_Ad[:,:,2:end],all_Ad[:,:,1:(2-1)], dims=3)"
   ]
  },
  {
   "cell_type": "code",
   "execution_count": null,
   "id": "bd10b3ba",
   "metadata": {},
   "outputs": [],
   "source": [
    "#another set of jacobians if starting from half\n",
    "\n",
    "# all_Ad_half = cat(all_Ad[:,:,21:end], all_Ad[:,:,1:20], dims=3)\n",
    "# all_Bd_half = cat(all_Bd[:,:,21:end], all_Bd[:,:,1:20], dims=3)\n",
    "\n",
    "# all_Ad_2 = cat(all_Ad_half, all_Ad_half, dims=3)\n",
    "# all_Bd_2 = cat(all_Bd_half, all_Bd_half, dims=3)\n",
    "\n",
    "#All Ad1 is if you start from the beginning (2 orbits worth of jacobians) and all_Ad_2 is if you start from the half (2 orbits worth of jacobians).\n",
    "#need to also have two sets of cost to go and unstable direction matrices that we pass in in the update_prob function "
   ]
  },
  {
   "cell_type": "code",
   "execution_count": null,
   "id": "a2954692",
   "metadata": {},
   "outputs": [],
   "source": [
    "# unstable_directions_half = cat(unstable_directions[:,21:end], unstable_directions[:,1:20], dims=2)\n",
    "# V_half = cat(P[:,:,21:end], P[:,:,1:20], dims=3)\n",
    "\n",
    "# #unstable directions if you start from the beginning\n",
    "# unstable_directions_2_1 = unstable_directions_2\n",
    "# #this is the unstable direction if you start at the half\n",
    "# unstable_directions_2_2 = cat(unstable_directions_half, unstable_directions_half, dims=2)\n",
    "\n",
    "\n",
    "# #cost to go if you start from the beginning\n",
    "# V_2orbits_1 = V_2orbits\n",
    "\n",
    "# #cost to go in you start at the half\n",
    "# V_2orbits_2 = cat(V_half, V_half, dims=3)"
   ]
  },
  {
   "cell_type": "code",
   "execution_count": null,
   "id": "25672ec4",
   "metadata": {},
   "outputs": [],
   "source": [
    "V"
   ]
  },
  {
   "cell_type": "code",
   "execution_count": null,
   "id": "933bf91e",
   "metadata": {},
   "outputs": [],
   "source": [
    "cat(all_Ad[:,:,2:end],all_Ad[:,:,1:(2-1)], dims=3)"
   ]
  },
  {
   "cell_type": "code",
   "execution_count": null,
   "id": "fababd8b",
   "metadata": {},
   "outputs": [],
   "source": [
    "all_Δx = zeros(6, 4100)\n",
    "all_x = zeros(6, 4100)"
   ]
  },
  {
   "cell_type": "code",
   "execution_count": null,
   "id": "3a925b8b",
   "metadata": {},
   "outputs": [],
   "source": [
    "x_initial_ref = [1e-9, 0, 0, 0, 1e-9, 0]"
   ]
  },
  {
   "cell_type": "code",
   "execution_count": null,
   "id": "a253cd41",
   "metadata": {},
   "outputs": [],
   "source": [
    "#pseudo code\n",
    "#TODO: run only one timestep instead of a whole half timestep\n",
    "\n",
    "#number of orbits you want to plan go for\n",
    "orbit_num = 100\n",
    " \n",
    "count = 1\n",
    "\n",
    "all_Δx[:,count] = x_initial_ref\n",
    "all_x[:,count] = x_initial_ref + reference_trajectory[:,1]\n",
    "\n",
    "for i=1:orbit_num\n",
    "\n",
    "    for k=1:40\n",
    "\n",
    "        #get the appropriate jacobians for the reference trajectory\n",
    "\n",
    "        #both are size 41\n",
    "        all_Ad_41 = cat(all_Ad[:,:,k:end],all_Ad[:,:,1:(k-1)], dims=3)\n",
    "        all_Bd_41 = cat(all_Bd[:,:,k:end],all_Bd[:,:,1:(k-1)], dims=3)\n",
    "        unstable_directions_41 = [unstable_directions[:,k:end] unstable_directions[:,1:(k-1)]]\n",
    "        Pk_41 = cat(V[:,:,k:end],V[:,:,1:(k-1)], dims=3)\n",
    "\n",
    "        all_Ad_2horizons = cat(all_Ad_41, all_Ad_41, dims=3)\n",
    "        all_Bd_2horizons = cat(all_Bd_41, all_Bd_41, dims=3)\n",
    "        unstable_directions_2horizons = [unstable_directions_41 unstable_directions_41]\n",
    "        P_2horizons = cat(Pk_41, Pk_41, dims=3)\n",
    "        \n",
    "        cons, X, U = update_prob(x_initial_ref, all_Ad_2horizons, all_Bd_2horizons, P_2horizons, unstable_directions_2horizons)\n",
    "\n",
    "        Xm, Um = solve_opt(cons, X, U, N_h)\n",
    "\n",
    "        #only taking one step forward\n",
    "        optimal_u = Um[:,1]\n",
    "\n",
    "        x_next = integrate_1dt(reference_trajectory[:,k]+x_initial_ref, optimal_u)\n",
    "\n",
    "        count += 1\n",
    "\n",
    "        all_x[:,count] = x_next\n",
    "        all_Δx[:,count] = x_next - reference_trajectory[:,k+1]\n",
    "        x_initial_ref = x_next - reference_trajectory[:,k+1]\n",
    "\n",
    "        println(\"solved\")\n",
    "\n",
    "    end\n",
    "\n",
    "end"
   ]
  },
  {
   "cell_type": "code",
   "execution_count": null,
   "id": "e87f182c",
   "metadata": {},
   "outputs": [],
   "source": [
    "all_x[1:41]"
   ]
  },
  {
   "cell_type": "code",
   "execution_count": null,
   "id": "9d406dc5",
   "metadata": {},
   "outputs": [],
   "source": [
    "#check the constraint\n",
    "constraint_check = zeros(41)\n",
    "for i=1:41\n",
    "    constraint_check[i] = dot(all_Δx[:,i], unstable_directions[:,i])\n",
    "end\n"
   ]
  },
  {
   "cell_type": "code",
   "execution_count": null,
   "id": "d7830670",
   "metadata": {},
   "outputs": [],
   "source": [
    "plot(constraint_check.>=0)"
   ]
  },
  {
   "cell_type": "code",
   "execution_count": null,
   "id": "3408b6bf",
   "metadata": {},
   "outputs": [],
   "source": [
    "all_x[:,401]"
   ]
  },
  {
   "cell_type": "code",
   "execution_count": null,
   "id": "4c9cf7d3",
   "metadata": {},
   "outputs": [],
   "source": [
    "plot(all_x[1,1:4000], all_x[2,1:4000], all_x[3,1:4000])"
   ]
  },
  {
   "cell_type": "code",
   "execution_count": null,
   "id": "ba2f640a",
   "metadata": {},
   "outputs": [],
   "source": [
    "# rev1 = all_optimal_x[:,:,1]\n",
    "# rev2 = all_optimal_x[:,:,2]\n",
    "# rev3 = all_optimal_x[:,:,3]\n",
    "# rev4 = all_optimal_x[:,:,4]\n",
    "# rev5 = all_optimal_x[:,:,5]\n",
    "# rev20 = all_optimal_x[:,:,20]\n",
    "\n",
    "# rev59 = all_optimal_x[:,:,59]\n",
    "# rev60 = all_optimal_x[:,:,60]\n",
    "# #rev25 = all_optimal_x[:,:,25]"
   ]
  },
  {
   "cell_type": "code",
   "execution_count": null,
   "id": "61ab0a5a",
   "metadata": {},
   "outputs": [],
   "source": [
    "# plot(rev1[1,:], rev1[2,:], rev1[3,:], lw=5)\n",
    "# #scatter!([rev1[1,1]],[rev1[2,1]],[rev1[3,1]], lw=5)\n",
    "# plot!(rev2[1,:], rev2[2,:], rev2[3,:], lw=5)\n",
    "# plot(rev3[1,:], rev3[2,:], rev3[3,:], lw=5)\n",
    "# #plot(rev4[1,:], rev4[2,:], rev4[3,:], lw=5)\n",
    "# #plot(rev5[1,:], rev5[2,:], rev5[3,:], lw=5)\n",
    "# #plot!(rev59[1,:], rev59[2,:], rev59[3,:], lw=5)\n",
    "# #plot!(rev60[1,:], rev60[2,:], rev60[3,:], lw=5)\n",
    "\n",
    "# plot!(reference_trajectory[1,:], reference_trajectory[2,:], reference_trajectory[3,:], label=\"reference trajectory\")\n",
    "\n",
    "# #scatter!([reference_trajectory[1,1]], [reference_trajectory[2,1]], [reference_trajectory[3,1]])"
   ]
  },
  {
   "cell_type": "markdown",
   "id": "fa1264f4",
   "metadata": {},
   "source": []
  },
  {
   "cell_type": "code",
   "execution_count": null,
   "id": "5b952687",
   "metadata": {},
   "outputs": [],
   "source": [
    "1e-3*L"
   ]
  },
  {
   "cell_type": "code",
   "execution_count": null,
   "id": "12090570",
   "metadata": {},
   "outputs": [],
   "source": [
    "all_optimal_x_formatted = zeros(6, N_period, orbit_num)\n",
    "all_optimal_Δx_formatted = zeros(6, N_period, orbit_num)"
   ]
  },
  {
   "cell_type": "code",
   "execution_count": null,
   "id": "a733c8cb",
   "metadata": {},
   "outputs": [],
   "source": [
    "#have orbit_num trajectories of N knot points\n",
    "\n",
    "# for i=1:orbit_num\n",
    "    \n",
    "#     all_optimal_x_formatted[:,1:21,i] = all_optimal_x[:,:,(2*i-1)]\n",
    "    \n",
    "#     #2:end is used to not repeat the same element twice\n",
    "#     all_optimal_x_formatted[:,22:end,i] = all_optimal_x[:,2:end,(2*i)]\n",
    "    \n",
    "    \n",
    "#     all_optimal_Δx_formatted[:,1:21,i] = all_optimal_Δx[:,:,(2*i-1)]\n",
    "    \n",
    "#     all_optimal_Δx_formatted[:,22:end,i] = all_optimal_Δx[:,2:end,(2*i)]\n",
    "    \n",
    "# end"
   ]
  },
  {
   "cell_type": "code",
   "execution_count": null,
   "id": "6a3f1aaf",
   "metadata": {},
   "outputs": [],
   "source": [
    "all_optimal_x"
   ]
  },
  {
   "cell_type": "code",
   "execution_count": null,
   "id": "e7fa513f",
   "metadata": {},
   "outputs": [],
   "source": [
    "all_optimal_x_formatted"
   ]
  },
  {
   "cell_type": "code",
   "execution_count": null,
   "id": "39956e00",
   "metadata": {},
   "outputs": [],
   "source": [
    "all_xtraj = reshape(all_optimal_x_formatted, (6, N_period*orbit_num))\n",
    "\n",
    "all_Δxtraj = reshape(all_optimal_Δx_formatted, (6, N_period*orbit_num))\n",
    "#all_xtraj = reshape(all_optimal_x, (6, 210))"
   ]
  },
  {
   "cell_type": "code",
   "execution_count": null,
   "id": "3462e078",
   "metadata": {},
   "outputs": [],
   "source": [
    "plot(all_Δxtraj[1,4000:4100])\n",
    "plot!(all_Δxtraj[2,4000:4100])\n",
    "plot!(all_Δxtraj[3,4000:4100])"
   ]
  },
  {
   "cell_type": "code",
   "execution_count": null,
   "id": "a6f3bef7",
   "metadata": {},
   "outputs": [],
   "source": [
    "constraint_check = zeros(4100)"
   ]
  },
  {
   "cell_type": "code",
   "execution_count": null,
   "id": "1237823c",
   "metadata": {},
   "outputs": [],
   "source": [
    "#check the constraint...\n",
    "for k=1:100\n",
    "    for i=1:41\n",
    "\n",
    "        constraint_check[41*(k-1)+i] = dot(unstable_directions[:,i], all_Δxtraj[:, 41*(k-1)+i]) > 0 \n",
    "\n",
    "    end\n",
    "end"
   ]
  },
  {
   "cell_type": "code",
   "execution_count": null,
   "id": "453ea792",
   "metadata": {},
   "outputs": [],
   "source": [
    "plot(constraint_check[4000:4100])"
   ]
  },
  {
   "cell_type": "code",
   "execution_count": null,
   "id": "f48fe97f",
   "metadata": {},
   "outputs": [],
   "source": [
    "for i=1:100\n",
    "    deltaxsub = all_Δxtraj[41*(i-1)+1:41*i]\n",
    "\n",
    "    for i=1:41\n",
    "        plot(deltaxsub[1,:], deltaxsub[2,:], deltaxsub[3,:], lw=5)\n",
    "    end\n",
    "end"
   ]
  },
  {
   "cell_type": "code",
   "execution_count": null,
   "id": "83c50080",
   "metadata": {},
   "outputs": [],
   "source": [
    "all_optimal_u"
   ]
  },
  {
   "cell_type": "code",
   "execution_count": null,
   "id": "d4f46359",
   "metadata": {},
   "outputs": [],
   "source": [
    "all_utraj = reshape(all_optimal_u, (3, (N_period-1)*orbit_num))"
   ]
  },
  {
   "cell_type": "code",
   "execution_count": null,
   "id": "2baab56e",
   "metadata": {},
   "outputs": [],
   "source": [
    "all_utraj"
   ]
  },
  {
   "cell_type": "code",
   "execution_count": null,
   "id": "c663b1de",
   "metadata": {},
   "outputs": [],
   "source": [
    "plot(all_utraj[1,:])"
   ]
  },
  {
   "cell_type": "code",
   "execution_count": null,
   "id": "a9b7b702",
   "metadata": {},
   "outputs": [],
   "source": [
    "plot(all_utraj[2,:])"
   ]
  },
  {
   "cell_type": "code",
   "execution_count": null,
   "id": "12e45df7",
   "metadata": {},
   "outputs": [],
   "source": [
    "plot(all_utraj[3,:])"
   ]
  },
  {
   "cell_type": "code",
   "execution_count": null,
   "id": "51473d12",
   "metadata": {},
   "outputs": [],
   "source": [
    "#this is for 10 orbits\n",
    "plot(all_utraj[1,1:400])"
   ]
  },
  {
   "cell_type": "code",
   "execution_count": null,
   "id": "74290a7a",
   "metadata": {},
   "outputs": [],
   "source": [
    "plot(all_utraj[2,1:400])"
   ]
  },
  {
   "cell_type": "code",
   "execution_count": null,
   "id": "cf1f6826",
   "metadata": {},
   "outputs": [],
   "source": [
    "plot(all_utraj[3,1:400])"
   ]
  },
  {
   "cell_type": "code",
   "execution_count": null,
   "id": "d5642b91",
   "metadata": {},
   "outputs": [],
   "source": [
    "size(all_utraj)"
   ]
  },
  {
   "cell_type": "code",
   "execution_count": null,
   "id": "cb536439",
   "metadata": {},
   "outputs": [],
   "source": [
    "one_orbit = all_utraj[:,1:40]"
   ]
  },
  {
   "cell_type": "code",
   "execution_count": null,
   "id": "c35bd185",
   "metadata": {},
   "outputs": [],
   "source": [
    "#the beginning thrust is to get it back on track since the initialization is off by 1e-3\n",
    "\n",
    "plot(one_orbit[1,:], label=\"x thrust\", linewidth=4)\n",
    "\n",
    "plot!(one_orbit[2,:], label=\"y thrust\", linewidth=4)\n",
    "\n",
    "plot!(one_orbit[3,:], label=\"z thrust\", linewidth=4)"
   ]
  },
  {
   "cell_type": "code",
   "execution_count": null,
   "id": "7a0e1581",
   "metadata": {},
   "outputs": [],
   "source": [
    "#once we are at the orbit this is what it looks like\n",
    "last_orbit = all_utraj[:,3961:end]"
   ]
  },
  {
   "cell_type": "code",
   "execution_count": null,
   "id": "0c0dc8a2",
   "metadata": {},
   "outputs": [],
   "source": [
    "plot(last_orbit[1,:], label=\"x thrust\", linewidth=4)\n",
    "\n",
    "plot!(last_orbit[2,:], label=\"y thrust\", linewidth=4)\n",
    "\n",
    "plot!(last_orbit[3,:], label=\"z thrust\", linewidth=4)"
   ]
  },
  {
   "cell_type": "code",
   "execution_count": null,
   "id": "1de711d0",
   "metadata": {},
   "outputs": [],
   "source": [
    "all_xtraj"
   ]
  },
  {
   "cell_type": "code",
   "execution_count": null,
   "id": "1db4bc53",
   "metadata": {},
   "outputs": [],
   "source": [
    "#plot the 100 orbits\n",
    "\n",
    "plot(all_xtraj[1,:], all_xtraj[2,:], all_xtraj[3,:], label=\"MPC Trajectory\", title=\"MPC Trajectory\")\n",
    "\n",
    "scatter!([all_xtraj[1,1]], [all_xtraj[2,1]], [all_xtraj[3,1]], label=\"Start\")\n",
    "\n",
    "plot!(reference_trajectory[1,:], reference_trajectory[2,:], reference_trajectory[3,:], label = \"Reference Trajectory\")"
   ]
  },
  {
   "cell_type": "code",
   "execution_count": null,
   "id": "ad8f41a3",
   "metadata": {},
   "outputs": [],
   "source": [
    "iter = 40\n",
    "\n",
    "plot(all_xtraj[1,1:iter], all_xtraj[2,1:iter], all_xtraj[3,1:iter], label=\"MPC Trajectory\", title=\"MPC Trajectory\")\n",
    "scatter!([all_xtraj[1,1]], [all_xtraj[2,1]], [all_xtraj[3,1]], label=\"Start\")\n",
    "scatter!([all_xtraj[1,iter]], [all_xtraj[2,iter]], [all_xtraj[3,iter]], label=\"End\")\n",
    "plot!(reference_trajectory[1,1:iter], reference_trajectory[2,1:iter], reference_trajectory[3,1:iter], label = \"Reference Trajectory\")\n",
    "scatter!([reference_trajectory[1,1]], [reference_trajectory[2,1]], [reference_trajectory[3,1]], label=\"Start\")\n",
    "scatter!([reference_trajectory[1,iter]], [reference_trajectory[2,iter]], [reference_trajectory[3,iter]], label=\"End\")\n"
   ]
  },
  {
   "cell_type": "code",
   "execution_count": null,
   "id": "0b731fc3",
   "metadata": {},
   "outputs": [],
   "source": [
    "#plot the final orbit\n",
    "size(all_xtraj)"
   ]
  },
  {
   "cell_type": "code",
   "execution_count": null,
   "id": "5b600fc2",
   "metadata": {},
   "outputs": [],
   "source": [
    "#i = 50\n",
    "#plot(all_xtraj[1,40*(i-1)+1:40*i], all_xtraj[2,40*(i-1)+1:40*i], all_xtraj[3,40*(i-1)+1:40*i], label=\"MPC Trajectory\", title=\"MPC Trajectory\",lw=3)\n",
    "\n",
    "\n",
    "#plot!(all_xtraj[1,41:80], all_xtraj[2,41:80], all_xtraj[3,41:80], label=\"MPC Trajectory\", title=\"MPC Trajectory\",lw=3)\n",
    "#plot!(all_xtraj[1,81:120], all_xtraj[2,81:120], all_xtraj[3,81:120], label=\"MPC Trajectory\", title=\"MPC Trajectory\",lw=3)\n",
    "\n",
    "\n",
    "\n",
    "#plot!(reference_trajectory[1,:], reference_trajectory[2,:], reference_trajectory[3,:], lw=3)\n",
    "\n",
    "\n",
    "#plot(all_xtraj[1,41:80], all_xtraj[2,41:80], all_xtraj[3,41:80], label=\"MPC Trajectory\", title=\"MPC Trajectory\", lw=3)\n",
    "#plot(all_xtraj[1,81:end], all_xtraj[2,81:end], all_xtraj[3,81:end], label=\"MPC Trajectory\", title=\"MPC Trajectory\", lw=3)\n",
    "\n",
    "#scatter!([all_xtraj[1,1]],[all_xtraj[2,1]], [all_xtraj[3,1]], label=\"1\")\n",
    "\n",
    "#scatter!([all_xtraj[1,40]],[all_xtraj[2,40]], [all_xtraj[3,40]], label=\"40\")\n",
    "\n",
    "#scatter!([all_xtraj[1,41]],[all_xtraj[2,41]], [all_xtraj[3,41]], label=\"41\")\n",
    "\n",
    "#scatter!([all_xtraj[1,81]],[all_xtraj[2,81]], [all_xtraj[3,81]], label=\"80\")"
   ]
  },
  {
   "cell_type": "code",
   "execution_count": null,
   "id": "b9892876",
   "metadata": {},
   "outputs": [],
   "source": [
    "#plot(optimal_u[1,:].*acceleration_scale)"
   ]
  },
  {
   "cell_type": "code",
   "execution_count": null,
   "id": "6bd10ae4",
   "metadata": {},
   "outputs": [],
   "source": [
    "#plot(optimal_u[2,:])"
   ]
  },
  {
   "cell_type": "code",
   "execution_count": null,
   "id": "a7b7fd72",
   "metadata": {},
   "outputs": [],
   "source": [
    "#plot(optimal_u[3,:])"
   ]
  },
  {
   "cell_type": "code",
   "execution_count": null,
   "id": "e3e30995",
   "metadata": {},
   "outputs": [],
   "source": [
    "scaled_control = all_utraj.*acceleration_scale"
   ]
  },
  {
   "cell_type": "code",
   "execution_count": null,
   "id": "389a817c",
   "metadata": {},
   "outputs": [],
   "source": [
    "#integrate over the timestep to get the velocity cost in km/s\n",
    "x_cost = sum(abs.(scaled_control[1,:]))*(Δt*time_scale)\n",
    "y_cost = sum(abs.(scaled_control[2,:]))*(Δt*time_scale)\n",
    "z_cost = sum(abs.(scaled_control[3,:]))*(Δt*time_scale)"
   ]
  },
  {
   "cell_type": "code",
   "execution_count": null,
   "id": "75093af8",
   "metadata": {},
   "outputs": [],
   "source": [
    "#velocity cost in m/s\n",
    "x_cost_ms = x_cost*1e3\n",
    "y_cost_ms = y_cost*1e3\n",
    "z_cost_ms = z_cost*1e3\n",
    "\n",
    "display(x_cost_ms)\n",
    "display(y_cost_ms)\n",
    "display(z_cost_ms)"
   ]
  },
  {
   "cell_type": "code",
   "execution_count": null,
   "id": "d2275f0a",
   "metadata": {},
   "outputs": [],
   "source": [
    "all_cost = x_cost_ms + y_cost_ms + z_cost_ms "
   ]
  },
  {
   "cell_type": "code",
   "execution_count": null,
   "id": "0a66cf62",
   "metadata": {},
   "outputs": [],
   "source": [
    "cost_per_rev = all_cost/orbit_num"
   ]
  },
  {
   "cell_type": "code",
   "execution_count": null,
   "id": "4859d5f7",
   "metadata": {},
   "outputs": [],
   "source": [
    "#Exclude the first 10 timesteps to fix the injection error\n",
    "x_cost_good = sum(abs.(scaled_control[1,42:end]))*(Δt*time_scale) *1e3\n",
    "y_cost_good = sum(abs.(scaled_control[2,42:end]))*(Δt*time_scale) *1e3\n",
    "z_cost_good = sum(abs.(scaled_control[3,42:end]))*(Δt*time_scale) *1e3\n",
    "\n",
    "display(x_cost_good)\n",
    "display(y_cost_good)\n",
    "display(z_cost_good)"
   ]
  },
  {
   "cell_type": "code",
   "execution_count": null,
   "id": "62a94247",
   "metadata": {},
   "outputs": [],
   "source": [
    "#cost for 95 revs\n",
    "all_cost_good = x_cost_good + y_cost_good + z_cost_good"
   ]
  },
  {
   "cell_type": "code",
   "execution_count": null,
   "id": "d2bcaa9f",
   "metadata": {},
   "outputs": [],
   "source": [
    "#final_mpc = reference_trajectory + optimal_x"
   ]
  },
  {
   "cell_type": "code",
   "execution_count": null,
   "id": "620fca1d",
   "metadata": {},
   "outputs": [],
   "source": [
    "#constraint satisfaction \n",
    "all_xtraj[:,21]"
   ]
  },
  {
   "cell_type": "code",
   "execution_count": null,
   "id": "933ec03c",
   "metadata": {},
   "outputs": [],
   "source": [
    "all_xtraj[:,22]"
   ]
  },
  {
   "cell_type": "code",
   "execution_count": null,
   "id": "8b706c13",
   "metadata": {},
   "outputs": [],
   "source": [
    "#plot(final_mpc[1,:], final_mpc[2,:], final_mpc[3,:], label = \"MPC Trajectory\")"
   ]
  },
  {
   "cell_type": "code",
   "execution_count": null,
   "id": "489636e8",
   "metadata": {},
   "outputs": [],
   "source": [
    "#initially\n",
    "#plot(final_mpc[1,:], final_mpc[2,:], final_mpc[3,:], label = \"MPC Trajectory\")\n",
    "#scatter!([final_mpc[1,1]], [final_mpc[2,1]],[final_mpc[3,1]], label= \"Start Point\")\n",
    "\n",
    "#plot!(reference_trajectory[1,:], reference_trajectory[2,:], reference_trajectory[3,:], label=\"Reference Trajectory\")"
   ]
  },
  {
   "cell_type": "code",
   "execution_count": null,
   "id": "dcaf1ee8",
   "metadata": {},
   "outputs": [],
   "source": [
    "#plot(final_mpc[1,:], final_mpc[2,:], final_mpc[3,:], label = \"MPC Trajectory\")\n",
    "#scatter!([final_mpc[1,1]], [final_mpc[2,1]], [final_mpc[3,1]], label= \"Start Point\")\n",
    "#scatter!([final_mpc[1,end]], [final_mpc[2,end]], [final_mpc[3,end]], label= \"End Point\")\n",
    "\n",
    "#plot!(reference_trajectory[1,:], reference_trajectory[2,:], reference_trajectory[3,:], label=\"Reference Trajectory\")"
   ]
  },
  {
   "cell_type": "code",
   "execution_count": null,
   "id": "9f072fee",
   "metadata": {},
   "outputs": [],
   "source": [
    "#diff = final_mpc - reference_trajectory"
   ]
  },
  {
   "cell_type": "code",
   "execution_count": null,
   "id": "6ead3e15",
   "metadata": {},
   "outputs": [],
   "source": [
    "#plot(diff[1,:])\n",
    "#plot!(diff[2,:])\n",
    "#plot!(diff[3,:])"
   ]
  },
  {
   "cell_type": "code",
   "execution_count": null,
   "id": "d21897e7",
   "metadata": {},
   "outputs": [],
   "source": [
    "plot(all_xtraj[1,:], all_xtraj[2,:])"
   ]
  },
  {
   "cell_type": "code",
   "execution_count": null,
   "id": "7dd2c0d3",
   "metadata": {},
   "outputs": [],
   "source": []
  },
  {
   "cell_type": "code",
   "execution_count": null,
   "id": "d6a311a3",
   "metadata": {},
   "outputs": [],
   "source": [
    "all_xtraj[:,end]"
   ]
  },
  {
   "cell_type": "code",
   "execution_count": null,
   "id": "b277b455",
   "metadata": {},
   "outputs": [],
   "source": [
    "all_optimal_x[:,:,end]"
   ]
  },
  {
   "cell_type": "code",
   "execution_count": null,
   "id": "2e69c11f",
   "metadata": {},
   "outputs": [],
   "source": [
    "dot(all_optimal_x[:,end,end], unstable_directions_2[:,21])    "
   ]
  },
  {
   "cell_type": "code",
   "execution_count": null,
   "id": "c3f9195d",
   "metadata": {},
   "outputs": [],
   "source": [
    "end_state = all_xtraj[:,end]\n",
    "\n",
    "end_state_sim = just_dynamics_integrate(end_state, 2.75*sol_t_final[end])\n",
    "\n",
    "\n",
    "end_state_traj = get_state(end_state_sim)"
   ]
  },
  {
   "cell_type": "code",
   "execution_count": null,
   "id": "ce32011d",
   "metadata": {},
   "outputs": [],
   "source": [
    "#testing\n",
    "#end_state_sim = reference_trajectory[:,end]"
   ]
  },
  {
   "cell_type": "code",
   "execution_count": null,
   "id": "ea797244",
   "metadata": {},
   "outputs": [],
   "source": [
    "delta_end = end_state - reference_trajectory[:,end]"
   ]
  },
  {
   "cell_type": "code",
   "execution_count": null,
   "id": "13741fc9",
   "metadata": {},
   "outputs": [],
   "source": [
    "#end_state_test = reference_trajectory[:,end] - delta_end"
   ]
  },
  {
   "cell_type": "code",
   "execution_count": null,
   "id": "520a6d08",
   "metadata": {},
   "outputs": [],
   "source": [
    "#correct_end_state = end_state_test - reference_trajectory[:,end]"
   ]
  },
  {
   "cell_type": "code",
   "execution_count": null,
   "id": "23aee449",
   "metadata": {},
   "outputs": [],
   "source": [
    "#end_state_sim_correct = just_dynamics_integrate(end_state_test, 2.0*sol_t_final[end])\n",
    "\n",
    "\n",
    "#end_state_traj_correct = get_state(end_state_sim_correct)"
   ]
  },
  {
   "cell_type": "code",
   "execution_count": null,
   "id": "63765966",
   "metadata": {},
   "outputs": [],
   "source": [
    "unstable_directions[:,end]\n",
    "\n",
    "\n",
    "#for the negative manifold, the final state is satisfying the constraint and that's why it goes to the \n",
    "#left \n",
    "\n",
    "#however, for the positive manifold, it is satisfying the negative manifold constraint..."
   ]
  },
  {
   "cell_type": "code",
   "execution_count": null,
   "id": "ced1cbb6",
   "metadata": {},
   "outputs": [],
   "source": [
    "dot(delta_end, unstable_directions[:,end])"
   ]
  },
  {
   "cell_type": "code",
   "execution_count": null,
   "id": "0d0379e0",
   "metadata": {},
   "outputs": [],
   "source": [
    "#check this constraint \n",
    "#works with pi/5 too \n",
    "\n",
    "#c_test = unstable_directions[:,end]/tan(pi/6)\n",
    "c_test = unstable_directions[:,end]/tan((pi/2) - deg2rad(60))\n",
    "\n",
    "manifold_constraint_test = norm(delta_end) - c_test'*(delta_end)\n",
    "\n",
    "manifold_constraint_test\n",
    "#push!(cons, manifold_constraint <= 0)"
   ]
  },
  {
   "cell_type": "code",
   "execution_count": null,
   "id": "d54d01c3",
   "metadata": {},
   "outputs": [],
   "source": [
    "#angle away from the unstable manifold\n",
    "dot(unstable_directions[:,end], delta_end)*norm(delta_end)*180/pi"
   ]
  },
  {
   "cell_type": "code",
   "execution_count": null,
   "id": "e00fcb75",
   "metadata": {},
   "outputs": [],
   "source": [
    "#escapes on the right for positive unstable direction!\n",
    "plot(end_state_traj[1,:], end_state_traj[2,:])\n",
    "\n",
    "scatter!([end_state_traj[1,1]], [end_state_traj[2,1]])"
   ]
  },
  {
   "cell_type": "code",
   "execution_count": null,
   "id": "0df573d5",
   "metadata": {},
   "outputs": [],
   "source": [
    "#plot(end_state_traj_correct[1,:], end_state_traj_correct[2,:])\n",
    "\n",
    "#goes to the right when it is in the positive manifold direction. hypothesis is true. however, \n",
    "#the solver is giving solutions that does not satisfy this constraint. need to figure out why..."
   ]
  },
  {
   "cell_type": "code",
   "execution_count": null,
   "id": "1e2215ce",
   "metadata": {},
   "outputs": [],
   "source": [
    "#needs to be a super small perturbation in order to stay stable\n",
    "\n",
    "forward_rollout = zeros(6, N_period)\n",
    "\n",
    "#forward_rollout[:,1] = [1e-3, 0, 0, 0, 1e-6,0]\n",
    "\n",
    "\n",
    "forward_rollout[:,1] = [1e-9, 0, 0, 0, 1e-9, 0]\n",
    "\n",
    "for i=1:N_period-1\n",
    "   \n",
    "    #diverges with no control \n",
    "    #forward_rollout[:,i+1] = all_Ad[:,:,i]*forward_rollout[:,i]\n",
    "    \n",
    "    #with disturbances it just blows up\n",
    "    forward_rollout[:,i+1] = all_Ad[:,:,i]*forward_rollout[:,i] #+ randn(6)*1e-4\n",
    "    \n",
    "end\n",
    "    "
   ]
  },
  {
   "cell_type": "code",
   "execution_count": null,
   "id": "914eceb9",
   "metadata": {},
   "outputs": [],
   "source": [
    "reference_trajectory"
   ]
  },
  {
   "cell_type": "code",
   "execution_count": null,
   "id": "112422af",
   "metadata": {},
   "outputs": [],
   "source": [
    "nocontrol = forward_rollout + reference_trajectory"
   ]
  },
  {
   "cell_type": "code",
   "execution_count": null,
   "id": "0500faf4",
   "metadata": {},
   "outputs": [],
   "source": [
    "plot(nocontrol[1,:], nocontrol[2,:], nocontrol[3,:], lw=3, label=\"No Control\")\n",
    "plot!(reference_trajectory[1,:], reference_trajectory[2,:], reference_trajectory[3,:], lw=3, label=\"Reference Trajectory\")\n",
    "scatter!([nocontrol[1,1]], [nocontrol[2,1]], [nocontrol[3,1]], label=\"No Control Start\")\n",
    "scatter!([nocontrol[1,end]], [nocontrol[2,end]],[nocontrol[3,end]], label=\"No Control End\")"
   ]
  },
  {
   "cell_type": "code",
   "execution_count": null,
   "id": "6ae19c01",
   "metadata": {},
   "outputs": [],
   "source": [
    "# plot(final_mpc[1,:], final_mpc[2,:], final_mpc[3,:], lw=3, label=\"MPC Control\")\n",
    "# plot!(reference_trajectory[1,:], reference_trajectory[2,:], reference_trajectory[3,:], lw=3, label=\"Reference Trajectory\")\n",
    "# scatter!([final_mpc[1,1]], [final_mpc[2,1]], [final_mpc[3,1]], label=\"No Control Start\")\n",
    "# scatter!([final_mpc[1,end]], [final_mpc[2,end]], [final_mpc[3,end]],  label=\"No Control End\", aspectratio = true)"
   ]
  },
  {
   "cell_type": "code",
   "execution_count": null,
   "id": "a5b48b9f",
   "metadata": {},
   "outputs": [],
   "source": [
    "position_tube_norm = zeros(N_period*orbit_num)\n",
    "\n",
    "velocity_tube_norm = zeros(N_period*orbit_num)"
   ]
  },
  {
   "cell_type": "code",
   "execution_count": null,
   "id": "ec723d9f",
   "metadata": {},
   "outputs": [],
   "source": [
    "orbit_num"
   ]
  },
  {
   "cell_type": "code",
   "execution_count": null,
   "id": "296a6efd",
   "metadata": {},
   "outputs": [],
   "source": [
    "svd(V[:,:,1]).S"
   ]
  },
  {
   "cell_type": "code",
   "execution_count": null,
   "id": "63da5d81",
   "metadata": {},
   "outputs": [],
   "source": [
    "for i=1:N_period*orbit_num\n",
    "   \n",
    "    position_tube_norm[i]= norm(all_Δxtraj[1:3,i])\n",
    "    \n",
    "    velocity_tube_norm[i]= norm(all_Δxtraj[4:6,i])\n",
    "    \n",
    "end"
   ]
  },
  {
   "cell_type": "code",
   "execution_count": null,
   "id": "61cdffad",
   "metadata": {},
   "outputs": [],
   "source": [
    "ctg_constraint = zeros(6, N_period)\n",
    "dist_from_center = zeros(6, N_period)"
   ]
  },
  {
   "cell_type": "code",
   "execution_count": null,
   "id": "924be4ab",
   "metadata": {},
   "outputs": [],
   "source": [
    "(ones(6).*0.1)./eigen(V[:,:,1]).values"
   ]
  },
  {
   "cell_type": "code",
   "execution_count": null,
   "id": "ee5ef2a8",
   "metadata": {},
   "outputs": [],
   "source": [
    "test_v = (ones(6).*0.1)./eigen(V[:,:,1]).vectors"
   ]
  },
  {
   "cell_type": "code",
   "execution_count": null,
   "id": "f1d8500e",
   "metadata": {},
   "outputs": [],
   "source": [
    "test_v * [1,1,1,0,0,0]"
   ]
  },
  {
   "cell_type": "code",
   "execution_count": null,
   "id": "55eb8948",
   "metadata": {},
   "outputs": [],
   "source": [
    "V"
   ]
  },
  {
   "cell_type": "code",
   "execution_count": null,
   "id": "ca0bd79a",
   "metadata": {},
   "outputs": [],
   "source": [
    "for i= 1:N_period\n",
    "\n",
    "    e_decomp = eigen(V[:,:,i])\n",
    "\n",
    "    #inverse same as transpose in this case\n",
    "    y = inv(e_decomp.vectors) * all_Δxtraj[:,i]\n",
    "\n",
    "    dist_from_center[:,i] = y\n",
    "\n",
    "    ctg_constraint[:,i] = sqrt.(1e-3 .*ones(6)./e_decomp.values)\n",
    "\n",
    "\n",
    "end\n",
    "\n",
    "    "
   ]
  },
  {
   "cell_type": "code",
   "execution_count": null,
   "id": "d588b767",
   "metadata": {},
   "outputs": [],
   "source": [
    "ctg_constraint\n"
   ]
  },
  {
   "cell_type": "code",
   "execution_count": null,
   "id": "26df816d",
   "metadata": {},
   "outputs": [],
   "source": [
    "dist_from_center"
   ]
  },
  {
   "cell_type": "code",
   "execution_count": null,
   "id": "986d8d1d",
   "metadata": {},
   "outputs": [],
   "source": [
    "all_Δxtraj[:,1]'*V[:,:,1]*all_Δxtraj[:,1]"
   ]
  },
  {
   "cell_type": "code",
   "execution_count": null,
   "id": "1ff37dca",
   "metadata": {},
   "outputs": [],
   "source": [
    "dist_from_center[1,:]*L"
   ]
  },
  {
   "cell_type": "code",
   "execution_count": null,
   "id": "93ff49a0",
   "metadata": {},
   "outputs": [],
   "source": [
    "plot(dist_from_center[1,:], label=\"x\")\n",
    "plot!(ctg_constraint[1,:], label=\"x axis constraint\")"
   ]
  },
  {
   "cell_type": "code",
   "execution_count": null,
   "id": "1a3c55a3",
   "metadata": {},
   "outputs": [],
   "source": [
    "plot(dist_from_center[2,:], label=\"y\")\n",
    "plot!(ctg_constraint[2,:], label=\"y axis constraint\")"
   ]
  },
  {
   "cell_type": "code",
   "execution_count": null,
   "id": "741efc04",
   "metadata": {},
   "outputs": [],
   "source": [
    "plot(dist_from_center[3,:], label=\"z\")\n",
    "plot!(ctg_constraint[3,:], label=\"z axis constraint\")"
   ]
  },
  {
   "cell_type": "code",
   "execution_count": null,
   "id": "fdbabd13",
   "metadata": {},
   "outputs": [],
   "source": [
    "plot(dist_from_center[4,:], label=\"vx\")\n",
    "plot!(ctg_constraint[4,:], label=\"vx axis constraint\")"
   ]
  },
  {
   "cell_type": "code",
   "execution_count": null,
   "id": "a79d7553",
   "metadata": {},
   "outputs": [],
   "source": [
    "plot(dist_from_center[5,:], label=\"vy\")\n",
    "plot!(ctg_constraint[5,:], label=\"vy axis constraint\")"
   ]
  },
  {
   "cell_type": "code",
   "execution_count": null,
   "id": "18295cea",
   "metadata": {},
   "outputs": [],
   "source": [
    "plot(dist_from_center[6,:], label=\"vz\")\n",
    "plot!(ctg_constraint[6,:], label=\"vz axis constraint\")"
   ]
  },
  {
   "cell_type": "code",
   "execution_count": null,
   "id": "f0109359",
   "metadata": {},
   "outputs": [],
   "source": [
    "all_Δxtraj[:,1]"
   ]
  },
  {
   "cell_type": "code",
   "execution_count": null,
   "id": "632bc7be",
   "metadata": {},
   "outputs": [],
   "source": [
    "V[:,:,1]"
   ]
  },
  {
   "cell_type": "code",
   "execution_count": null,
   "id": "1e9d2ca5",
   "metadata": {},
   "outputs": [],
   "source": [
    "#test.vectors*diagm(test.values)*test.vectors'"
   ]
  },
  {
   "cell_type": "code",
   "execution_count": null,
   "id": "3606e83a",
   "metadata": {},
   "outputs": [],
   "source": [
    "#inv(test.vectors)"
   ]
  },
  {
   "cell_type": "code",
   "execution_count": null,
   "id": "e828f47d",
   "metadata": {},
   "outputs": [],
   "source": [
    "#test.vectors'"
   ]
  },
  {
   "cell_type": "code",
   "execution_count": null,
   "id": "26b3d631",
   "metadata": {},
   "outputs": [],
   "source": [
    "# #finding the magnitude of the principle axes of the ellipsoid\n",
    "# magnitude_principle_axes = zeros(6, N_period)\n",
    "\n",
    "\n",
    "# for i=1:N_period\n",
    "    \n",
    "#     magnitude_principle_axes[:,i] = svd(V[:,:,i]).S\n",
    "    \n",
    "    \n",
    "# end"
   ]
  },
  {
   "cell_type": "code",
   "execution_count": null,
   "id": "f10afaeb",
   "metadata": {},
   "outputs": [],
   "source": [
    "# plot(magnitude_principle_axes[1,:])\n",
    "# plot!(magnitude_principle_axes[2,:])\n",
    "# plot!(magnitude_principle_axes[3,:])"
   ]
  },
  {
   "cell_type": "code",
   "execution_count": null,
   "id": "d612f319",
   "metadata": {},
   "outputs": [],
   "source": [
    "# plot(magnitude_principle_axes[4,:])\n",
    "# plot!(magnitude_principle_axes[5,:])\n",
    "# plot!(magnitude_principle_axes[6,:])"
   ]
  },
  {
   "cell_type": "code",
   "execution_count": null,
   "id": "eba1b6ba",
   "metadata": {},
   "outputs": [],
   "source": [
    "plot(all_Δxtraj[1,:])\n",
    "\n",
    "plot!(all_Δxtraj[2,:])\n",
    "\n",
    "plot!(all_Δxtraj[3,:])"
   ]
  },
  {
   "cell_type": "code",
   "execution_count": null,
   "id": "76d8a494",
   "metadata": {},
   "outputs": [],
   "source": [
    "plot(all_Δxtraj[4,:])\n",
    "\n",
    "plot!(all_Δxtraj[5,:])\n",
    "\n",
    "plot!(all_Δxtraj[6,:])"
   ]
  },
  {
   "cell_type": "code",
   "execution_count": null,
   "id": "4f56f3d9",
   "metadata": {},
   "outputs": [],
   "source": []
  },
  {
   "cell_type": "code",
   "execution_count": null,
   "id": "a7ad54c3",
   "metadata": {},
   "outputs": [],
   "source": []
  },
  {
   "cell_type": "code",
   "execution_count": null,
   "id": "e765f8f0",
   "metadata": {},
   "outputs": [],
   "source": []
  },
  {
   "cell_type": "code",
   "execution_count": null,
   "id": "683ade43",
   "metadata": {},
   "outputs": [],
   "source": []
  },
  {
   "cell_type": "code",
   "execution_count": null,
   "id": "3f0105a4",
   "metadata": {},
   "outputs": [],
   "source": []
  }
 ],
 "metadata": {
  "@webio": {
   "lastCommId": null,
   "lastKernelId": null
  },
  "kernelspec": {
   "display_name": "Julia 1.10.0",
   "language": "julia",
   "name": "julia-1.10"
  },
  "language_info": {
   "file_extension": ".jl",
   "mimetype": "application/julia",
   "name": "julia",
   "version": "1.10.0"
  }
 },
 "nbformat": 4,
 "nbformat_minor": 5
}
